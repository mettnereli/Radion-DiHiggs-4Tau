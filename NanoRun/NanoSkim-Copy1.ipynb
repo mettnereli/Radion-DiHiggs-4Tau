{
 "cells": [
  {
   "cell_type": "code",
   "execution_count": 1,
   "id": "f6950093-4daf-4614-a8c0-bef24b0b110a",
   "metadata": {},
   "outputs": [],
   "source": [
    "import sys\n",
    "import os\n",
    "from pathlib import Path\n",
    "import math\n",
    "import awkward as ak\n",
    "import numpy as np\n",
    "import uproot\n",
    "import boost_histogram as bh\n",
    "import hist\n",
    "from hist import Hist, intervals, axis\n",
    "import matplotlib.pyplot as plt\n",
    "from matplotlib import cycler\n",
    "import mplhep as hep\n",
    "from coffea import nanoevents, lookup_tools\n",
    "import coffea.processor as processor\n",
    "from coffea.nanoevents import NanoEventsFactory, NanoAODSchema, BaseSchema\n",
    "from coffea.nanoevents.methods import vector, candidate, nanoaod\n",
    "from coffea.nanoevents.methods.vector import PtEtaPhiELorentzVector\n",
    "from coffea.lookup_tools import extractor, evaluator\n",
    "from coffea.analysis_tools import PackedSelection\n",
    "import dask\n",
    "from dask import delayed\n",
    "from dask.distributed import Client\n",
    "from dask_jobqueue import HTCondorCluster\n"
   ]
  },
  {
   "cell_type": "code",
   "execution_count": 2,
   "id": "68592275-d1e3-4764-a24f-c02c3349d152",
   "metadata": {},
   "outputs": [],
   "source": [
    "MAX_WORKERS = 40\n",
    "CHUNKSIZE = 20_000\n",
    "MAX_CHUNKS = None"
   ]
  },
  {
   "cell_type": "code",
   "execution_count": 3,
   "id": "d3ba0e9f-ee77-4b44-bf96-e38de1412ec8",
   "metadata": {},
   "outputs": [],
   "source": [
    "@delayed(pure=True)\n",
    "def get_tree(url):    \n",
    "    return uproot.open(url)[\"Events\"]"
   ]
  },
  {
   "cell_type": "code",
   "execution_count": 4,
   "id": "eaec14d0-02f1-4320-8868-ab2c95407518",
   "metadata": {
    "scrolled": true
   },
   "outputs": [
    {
     "data": {
      "text/plain": [
       "array([Delayed('get_tree-06e55f2d7e1415ab82d5f3147117c344'),\n",
       "       Delayed('get_tree-2cd70fc345008314b60dc5cf836124c7'),\n",
       "       Delayed('get_tree-2547e5ca6420f9af750da5194c654aa1'),\n",
       "       Delayed('get_tree-558f8443f61aaaa54ae2de9c00c55ee4'),\n",
       "       Delayed('get_tree-434196afba906140963f11f96ea7558b'),\n",
       "       Delayed('get_tree-b6d38073802da88922888a70f93cfb54'),\n",
       "       Delayed('get_tree-bc44f581d095980d99b10ab8cab666ce'),\n",
       "       Delayed('get_tree-b0db098aa37d23b970356d295eacd8f9'),\n",
       "       Delayed('get_tree-b3146c1ea314c70c321dd9e5c031a67e'),\n",
       "       Delayed('get_tree-9208a7c04d6e1bcb9c7043f5f1dbdf3b'),\n",
       "       Delayed('get_tree-00dfaf0f87ec13df79a5ea10a76bbd76'),\n",
       "       Delayed('get_tree-90bb75bc945e41cfd9364de998ed24a1'),\n",
       "       Delayed('get_tree-3c12b4a1aed7ec64658ae7a4a962e869'),\n",
       "       Delayed('get_tree-11d82d4b1bc86677257f2d27f73e8725'),\n",
       "       Delayed('get_tree-d2fd496ed380307c7f2929343d6427b8'),\n",
       "       Delayed('get_tree-eca157fbe2b0062579b0e10cded82842'),\n",
       "       Delayed('get_tree-b661bad8699e9c4d075abe30905c1aee'),\n",
       "       Delayed('get_tree-d06efe48d299631500c4a8d76aea1402'),\n",
       "       Delayed('get_tree-a33046c26eb8905d2e9d1fa759846648'),\n",
       "       Delayed('get_tree-a33046c26eb8905d2e9d1fa759846648'),\n",
       "       Delayed('get_tree-a33046c26eb8905d2e9d1fa759846648'),\n",
       "       Delayed('get_tree-a33046c26eb8905d2e9d1fa759846648'),\n",
       "       Delayed('get_tree-a33046c26eb8905d2e9d1fa759846648'),\n",
       "       Delayed('get_tree-a33046c26eb8905d2e9d1fa759846648'),\n",
       "       Delayed('get_tree-a33046c26eb8905d2e9d1fa759846648'),\n",
       "       Delayed('get_tree-a33046c26eb8905d2e9d1fa759846648'),\n",
       "       Delayed('get_tree-a33046c26eb8905d2e9d1fa759846648'),\n",
       "       Delayed('get_tree-1ccd9bd7272b78937efa3e328385038c'),\n",
       "       Delayed('get_tree-1ccd9bd7272b78937efa3e328385038c'),\n",
       "       Delayed('get_tree-1ccd9bd7272b78937efa3e328385038c'),\n",
       "       Delayed('get_tree-1ccd9bd7272b78937efa3e328385038c'),\n",
       "       Delayed('get_tree-1ccd9bd7272b78937efa3e328385038c'),\n",
       "       Delayed('get_tree-1ccd9bd7272b78937efa3e328385038c'),\n",
       "       Delayed('get_tree-1ccd9bd7272b78937efa3e328385038c'),\n",
       "       Delayed('get_tree-1ccd9bd7272b78937efa3e328385038c'),\n",
       "       Delayed('get_tree-1ccd9bd7272b78937efa3e328385038c'),\n",
       "       Delayed('get_tree-b11ad71eb9d139d8e959576b932261c5'),\n",
       "       Delayed('get_tree-906503b92c3ca861456fbfbd965e91e9'),\n",
       "       Delayed('get_tree-d84c72bdc269a434f7d0449352976ebc'),\n",
       "       Delayed('get_tree-c4798baca8e38bb75547940c427c63bb')], dtype=object)"
      ]
     },
     "execution_count": 4,
     "metadata": {},
     "output_type": "execute_result"
    }
   ],
   "source": [
    "redirector = \"root://cmsxrootd.fnal.gov//store/user/gparida/HHbbtt/Full_Production_CMSSW_13_0_13_Nov24_23\"\n",
    "#redirector17D = \"/hdfs/store/user/cgalloni/HHbbtt/Full_Production_CMSSW_13_0_13_Nov24_23\"\n",
    "\n",
    "mt_fileset = {\n",
    "    \"DYJets\": [\n",
    "        redirector+f\"/2018/MC/DYJetsToLL_M-50_HT-200to400_TuneCP5_PSweights_13TeV-madgraphMLM-pythia8/DYJetsToLL_M-50_HT-200to400_TuneCP5_PSweights_13TeV-madgraphMLM-pythia8/231225_151806/0000/NANO_NANO_{i}.root\"\n",
    "        for i in range(1,10)\n",
    "    ],\n",
    "    \"WJets\": [\n",
    "        redirector+f\"/2018/MC/WJetsToLNu_HT-200To400_TuneCP5_13TeV-madgraphMLM-pythia8/WJetsToLNu_HT-200To400_TuneCP5_13TeV-madgraphMLM-pythia8/231225_151948/0000/NANO_NANO_{i}.root\"\n",
    "        for i in range(1,10)\n",
    "    ],\n",
    "    \"TT\": [\n",
    "        redirector+f\"/2018/MC/TTToSemiLeptonic_TuneCP5_13TeV-powheg-pythia8/TTToSemiLeptonic_TuneCP5_13TeV-powheg-pythia8/240203_190026/0000/NANO_NANO_1.root\"#{i}.root\"\n",
    "        for i in range(1,10) #leptonic\n",
    "    ],  \n",
    "    \"VV\": [\n",
    "        redirector+f\"/2018/MC/WZTo1L1Nu2Q_4f_TuneCP5_13TeV-amcatnloFXFX-pythia8/WZTo1L1Nu2Q_4f_TuneCP5_13TeV-amcatnloFXFX-pythia8/231225_152904/0000/NANO_NANO_1.root\"#{i}.root\"\n",
    "        for i in range(1,10)\n",
    "    ],\n",
    "    \"Data\": [\n",
    "        redirector+f\"/2018/MC/RadionTohhTohtatahbb_narrow_M-2000_TuneCP5_13TeV-madgraph-pythia8/RadionTohhTohtatahbb_narrow_M-2000_TuneCP5_13TeV-madgraph-pythia8/231225_152455/0000/NANO_NANO_{i}.root\"\n",
    "        for i in range(1,5) #fix get real data\n",
    "    ]\n",
    "}\n",
    "inputs = []\n",
    "for label in mt_fileset:\n",
    "    input = [get_tree(url) for url in mt_fileset[label]]\n",
    "    inputs = np.append(inputs, input)\n",
    "inputs"
   ]
  },
  {
   "cell_type": "code",
   "execution_count": 5,
   "id": "2af29a58-ebde-4aff-8af1-a9c8cccb4318",
   "metadata": {},
   "outputs": [],
   "source": [
    "def bit_mask(bit):\n",
    "      mask = 0\n",
    "      mask += (1 << bit)\n",
    "      return mask"
   ]
  },
  {
   "cell_type": "code",
   "execution_count": 6,
   "id": "9c4fbda3-78f9-4c6c-95df-511bf25a931d",
   "metadata": {},
   "outputs": [],
   "source": [
    "def weightCalc(name):\n",
    "      WScaleFactor = 1.21\n",
    "      TT_FulLep_BR= 0.1061\n",
    "      TT_SemiLep_BR= 0.4392\n",
    "      TT_Had_BR= 0.4544\n",
    "\n",
    "      if \"Radion\" in name: return 1\n",
    "      elif \"DYJets\" in name:\n",
    "         if \"50To100\" in name: return 387.130778\n",
    "         elif \"100To250\" in name: return 89.395097\n",
    "         elif \"250To400\" in name: return 3.435181\n",
    "         elif \"400To650\" in name: return 0.464024\n",
    "         elif \"650ToInf\" in name: return 0.043602\n",
    "         elif \"100to200\" in name: return 160.7\n",
    "         elif \"200to400\" in name: return 48.63\n",
    "         elif \"400to600\" in name: return 6.993\n",
    "         elif \"600to800\" in name: return 1.761\n",
    "         elif \"800to1200\" in name: return .8021\n",
    "         elif \"1200to2500\" in name: return .1937\n",
    "         elif \"2500toInf\" in name: return .003514\n",
    "      elif \"WJets\" in name:\n",
    "         if \"100To200\" in name: return 1256\n",
    "         elif \"70To100\" in name: return 1264\n",
    "         elif \"200To400\" in name: return 335.5\n",
    "         elif \"400To600\" in name: return 45.25\n",
    "         elif \"600To800\" in name: return 91.16\n",
    "         elif \"800To1200\" in name: return 4.933\n",
    "         elif \"1200To2500\" in name: return 1.16\n",
    "         elif \"2500ToInf\" in name: return 0.008001 \n",
    "      elif \"QCD\" in name:\n",
    "         if \"300to500\" in name: return 347700\n",
    "         elif \"500to700\" in name: return 32100\n",
    "         elif \"700to1000\" in name: return 6831\n",
    "         elif \"1000to1500\" in name: return 1207\n",
    "         elif \"1500to2000\" in name: return 119.9\n",
    "         elif \"2000toInf\" in name: return 25.24\n",
    "      elif \"ggH125\" in name: return 48.30 * 0.0621\n",
    "      elif \"ggZHLL125\" in name: return 0.1223 * 0.062 * 3 * 0.033658\n",
    "      elif \"ggZHNuNu125\" in name: return 0.1223 * 0.062 * 0.2000\n",
    "      elif \"ggZHQQ125\" in name: return 0.1223 * 0.062 * 0.6991\n",
    "      elif \"JJH0\" in name:\n",
    "         if \"OneJet\" in name: return 0.1383997884\n",
    "         elif \"TwoJet\" in name: return 0.2270577971\n",
    "         elif \"ZeroJet\" in name: return 0.3989964912\n",
    "      elif \"qqH125\" in name: return 3.770 * 0.0621\n",
    "      elif \"Tbar-tchan\" in name: return  26.23\n",
    "      elif \"Tbar-tW\" in name: return 35.6\n",
    "      elif \"toptopH125\" in name: return 0.5033 * 0.062\n",
    "      elif \"T-tchan.root\" in name: return 44.07\n",
    "      elif \"T-tW\" in name: return 35.6\n",
    "      elif \"TTT\" in name:\n",
    "         if \"2L2Nu\" in name: return 87.31\n",
    "         if \"Hadronic\" in name: return 378.93\n",
    "         if \"SemiLeptonic\" in name: return 364.35\n",
    "      elif \"VV2l2nu\" in name: return 11.95\n",
    "      elif \"WMinus\" in name: return 0.5272 * 0.0621\n",
    "      elif \"WPlus\" in name: return 0.8331 * 0.0621\n",
    "      elif \"WZ\" in name:\n",
    "         if \"1L1Nu\" in name: return 10.71\n",
    "         elif \"1L3Nu\" in name: return 3.05\n",
    "         elif \"2Q2L\" in name: return 6.419\n",
    "      elif \"WWTo1L1Nu\" in name: return 49.997\n",
    "      elif \"ZH125\" in name: return 0.7544 * 0.0621\n",
    "      elif \"ZZTo2Q2L\" in name: return 3.22\n",
    "      elif \"ZZTo4L\" in name: return 1.325\n",
    "      elif \"ZZTo2Nu2Q\" in name: return 4.04\n",
    "      elif \"RadionTohhTohtatahbb_narrow_M\" in name:\n",
    "         if \"1000\" in name: return\n",
    "         elif \"1000\" in name: return 1\n",
    "         elif \"1200\" in name: return 1\n",
    "         elif \"1400\" in name: return 1\n",
    "         elif \"1600\" in name: return 1\n",
    "         elif \"1800\" in name: return 1\n",
    "         elif \"2000\" in name: return 1\n",
    "         elif \"2500\" in name: return 1\n",
    "         elif \"3000\" in name: return 1\n",
    "         elif \"3500\" in name: return 1\n",
    "         elif \"4000\" in name: return 1\n",
    "         elif \"4500\" in name: return 1\n",
    "      elif \"ST_t-channel\" in name:\n",
    "         if \"4f_leptonDecays\" in name: return 3.549\n",
    "         elif \"antitop_4f_InclusiveDecays\" in name: return 69.09\n",
    "         elif \"top_4f_InclusiveDecays\" in name: return 115.3\n",
    "         elif \"antitop_5f_inclusiveDecays\" in name: return 34.97\n",
    "         elif \"top_5f_inclusiveDecays\" in name: return 34.91\n",
    "      else: print(\"Something's Wrong!\")\n",
    "      return 1.01"
   ]
  },
  {
   "cell_type": "code",
   "execution_count": 7,
   "id": "d1205773-0d11-4e04-af94-ab602365a781",
   "metadata": {},
   "outputs": [
    {
     "name": "stderr",
     "output_type": "stream",
     "text": [
      "/tmp/ipykernel_2824159/1460999151.py:7: RuntimeWarning: divide by zero encountered in divide\n",
      "  PUWeight = np.divide(HistoPUData, HistoPUMC)\n"
     ]
    }
   ],
   "source": [
    "   with uproot.open(\"pu_distributions_mc_2018.root\") as f1:\n",
    "      with uproot.open(\"pu_distributions_data_2018.root\") as f2:\n",
    "         mc = f1[\"pileup\"].values()\n",
    "         data = f2[\"pileup\"].values()\n",
    "         HistoPUMC = np.divide(mc, ak.sum(mc))\n",
    "         HistoPUData = np.divide(data, ak.sum(data))\n",
    "         PUWeight = np.divide(HistoPUData, HistoPUMC)"
   ]
  },
  {
   "cell_type": "code",
   "execution_count": 81,
   "id": "d72baf7a-ec04-450e-a07e-b5fbd55702ec",
   "metadata": {},
   "outputs": [],
   "source": [
    "class MyProcessor(processor.ProcessorABC):\n",
    "    def __init__(self):\n",
    "        ak.behavior.update(nanoaod.behavior)\n",
    "        self._accumulator = {}\n",
    "    \n",
    "    @property\n",
    "    def accumulator(self):\n",
    "        return self._accumulator\n",
    "\n",
    "    def process(self,events):\n",
    "        dataset = events.metadata[\"dataset\"]\n",
    "\n",
    "        selection = PackedSelection()\n",
    "        \n",
    "        name = str(events.metadata[\"filename\"])\n",
    "        XSection = weightCalc(name)\n",
    "\n",
    "        electron = events.Electron\n",
    "        ele_cut = (electron.pt >= 15) & (np.abs(electron.eta) <= 2.5)\n",
    "        lowMVAele = electron[(np.abs(electron.eta) <= 0.8) & (electron.mvaIso_WPL) & ele_cut] # (electron.mvaFall17V2Iso > -0.83)\n",
    "        midMVAele = electron[(np.abs(electron.eta) > 0.8) & (np.abs(electron.eta) <= 1.5) & (electron.mvaIso_WPL) & ele_cut] #electron.mvaFall17V2Iso > -0.77\n",
    "        highMVAele = electron[(np.abs(electron.eta) >= 1.5) & (electron.mvaIso_WPL) & ele_cut] # (electron.mvaFall17V2Iso > -0.69)\n",
    "\n",
    "        #selection.add(\"ExtraEleVeto\", ((ak.num(lowMVAele) == 0) & (ak.num(midMVAele) == 0) & (ak.num(highMVAele) == 0)))\n",
    "        events = events[((ak.num(lowMVAele) == 0) & (ak.num(midMVAele) == 0) & (ak.num(highMVAele) == 0))]\n",
    "       \n",
    "        #Extra muon veto\n",
    "        muon = events.Muon\n",
    "        muon = muon[ak.num(muon) > 1]\n",
    "        badMuon = muon[(np.abs(muon.pfRelIso04_all) > 0.3) & (muon[:,1].pt > 10) & (muon.tightId)] #tightId instead of bitwise thing\n",
    "\n",
    "        #selection.add(\"ExtraMuVeto\", ((ak.num(muon) > 0) & (ak.num(badMuon) == 0)))\n",
    "        events = events[((ak.num(muon) > 0) & (ak.num(badMuon) == 0))]\n",
    "\n",
    "        \n",
    "        #BJets\n",
    "        jets = events.Jet\n",
    "        events[\"goodJets\"]= jets[(jets.jetId > 0.5) & (jets.pt > 30) & (np.abs(jets.eta) < 3.0)]\n",
    "        events[\"HT\"] = ak.sum(events.goodJets.pt, axis=-1)\n",
    "\n",
    "        #BJet Veto \n",
    "        #!!!!!!!!!!!!!!!!!!!!!!!!!!!!!!!!!!!!!!!!! change btagdeepflavb for each year https://btv-wiki.docs.cern.ch/ScaleFactors/UL2018/\n",
    "        events[\"bJets\"] = events.Jet[(jets.btagDeepFlavB > .7100) & (jets.jetId > .5) & (jets.pt > 30) & (np.abs(jets.eta) < 2.4)]\n",
    "\n",
    "        selection.add(\"BJetVeto\", (ak.num(jets) > 0) & (events.HT > 200) & (ak.num(events.bJets) == 0))\n",
    "        print((ak.num(jets) > 0) & (events.HT > 200) & (ak.num(events.bJets) == 0))\n",
    "        selection.add(\"MuTau\", (ak.num(events.Muon) > 0) & (ak.num(events.boostedTau) > 0))\n",
    "\n",
    "\n",
    "        \n",
    "\n",
    "        selection.add(\"HLT27\", (events.HLT.Mu27)) #& (events.Muon.pt >= 27) & (events.Muon.pt < 52) & (events.Muon.pfRelIso04_all <= .3) & (events.MET.pt < 2.3))\n",
    "        selection.add(\"HLT50\", (events.HLT.Mu50)) #& (events.Muon.pt >= 52))\n",
    "        print(events.HLT.Mu50)\n",
    "        #dr = events['boostedTau'].delta_r(events.Muon)\n",
    "\n",
    "        events[\"pairs\"] = ak.cartesian({'tau': events.boostedTau, 'muon': events.Muon}, nested=False)\n",
    "\n",
    "        pairSelection = PackedSelection()\n",
    "        \n",
    "        #ID Cut\n",
    "       # events[\"MuID\"] = (events.Muon.tightId) # & (np.abs(pairsC['muon'].dxy) < 0.045)\n",
    "        \n",
    "        mu_mask = ((events.pairs.muon.eta < 2.4) & (np.abs(events.pairs.muon.dz) < 0.2) & events.pairs.muon.tightId)\n",
    "        tau_mask = ((events.pairs.tau.pt > 30)\n",
    "              & (np.absolute(events.pairs.tau.eta) < 2.3)\n",
    "              & (events.pairs.tau.idAntiMu > 0)\n",
    "              & (events.pairs.tau.idDecayModeOldDMs))\n",
    "             # & (dr > .1) \n",
    "             # & (dr < .8))\n",
    "        print(mu_mask)\n",
    "        pairSelection.add(\"GoodMu\", mu_mask)\n",
    "        pairSelection.add(\"GoodTau\", tau_mask)\n",
    "\n",
    "\n",
    "        events[\"tmass\"] = np.sqrt(np.square(events.pairs.muon.pt + events.MET.pt) - np.square(events.pairs.muon.px + events.MET.pt * np.cos(events.MET.phi)) - np.square(events.pairs.muon.py + events.MET.pt * np.sin(events.MET.phi)))\n",
    "        pairSelection.add(\"tmass_cut\", events.tmass < 80)\n",
    "        \n",
    "        events[\"OS\"] = events.pairs.muon.charge + events.pairs.tau.charge == 0\n",
    "        pairsSelection.add(\"OS\", events[\"OS\"])\n",
    "            \n",
    "\n",
    "        \n",
    "        regions = {\n",
    "        \"HLT50\": {\"ExtraEleVeto\": True, \"ExtraMuVeto\": True, \"BJetVeto\": True, \"MuTau\": True, \"HLT27\": False, \"HLT50\": True, \"GoodMu\": True, \"GoodTau\": True, \"tmass_cut\": True, \"OS\": True},\n",
    "        \"HLT27\": {\"ExtraEleVeto\": True, \"ExtraMuVeto\": True, \"BJetVeto\": True, \"MuTau\": True, \"HLT27\": True, \"HLT50\": False, \"GoodMu\": True, \"GoodTau\": True, \"tmass_cut\": True, \"OS\": True},\n",
    "        }\n",
    "\n",
    "        pairRegions = {\n",
    "        \"OS\": {\"GoodMu\": True, \"GoodTau\": True, \"tmass_cut\": True, \"OS\": True},\n",
    "        \"SS\": {\"GoodMu\": True, \"GoodTau\": True, \"tmass_cut\": True, \"OS\": False},\n",
    "        }\n",
    "\n",
    "\n",
    "        masshist = (\n",
    "        Hist.new\n",
    "        .StrCat(sign_regions.keys(), name=\"Sign/Trigger Region\")\n",
    "        #.StrCat([\"nominal\"] + list(weights.variations), name=\"systematic\")\n",
    "        .Reg(30, 0, 150, flow=False, name=\"mass\", label=dataset)\n",
    "        .Weight()\n",
    "        )\n",
    "\n",
    "            \n",
    "        output = {}\n",
    "        output[dataset] =  {\n",
    "            \"Test\": processor.value_accumulator(int),\n",
    "            \"mass\": masshist,\n",
    "            \"EventCount\": processor.value_accumulator(int),\n",
    "            }\n",
    "        eventCount = len(events)\n",
    "        \n",
    "\n",
    "        for region, cuts in regions.items():\n",
    "            goodevent = selection.require(**cuts)\n",
    "            gEvents = events[goodevent]\n",
    "            \n",
    "            MetVec =  ak.zip(\n",
    "                {\n",
    "                 \"pt\": gEvents.MET.pt,\n",
    "                 \"eta\": 0,\n",
    "                 \"phi\": gEvents.MET.phi,\n",
    "                 \"mass\": 0,\n",
    "                 },\n",
    "                with_name=\"PtEtaPhiMLorentzVector\",\n",
    "                behavior=vector.behavior,\n",
    "            ) \n",
    "            Zmt_pt = pairs.tau.pt + pairs.muon.pt\n",
    "            Higgs_pt = Zmt_pt + MetVec.pt\n",
    "            \n",
    "            gEvents = gEvents[Zmt_pt > 200 & Higgs_pt > 250]\n",
    "\n",
    "            Zmt = gEvents.pairs.tau.mass + gEvents.pairs.muon.mass\n",
    "            Z_mass = ak.flatten(Zmt, axis=1)\n",
    "                                \n",
    "            \n",
    "            \n",
    "        output[dataset][\"EventCount\"] += eventCount\n",
    "        output[dataset][\"mass\"].fill(mass=Z_mass)#, weight=mass_w)\n",
    "        output[dataset][\"Test\"] += 1\n",
    "       \n",
    "        return output\n",
    "        \n",
    "    def postprocess(self, accumulator):\n",
    "        return accumulator\n"
   ]
  },
  {
   "cell_type": "code",
   "execution_count": 9,
   "id": "23a61205-5d58-4080-b0ad-cf255508fab4",
   "metadata": {},
   "outputs": [],
   "source": [
    "os.environ[\"CONDOR_CONFIG\"] = \"/etc/condor/condor_config\"\n",
    "\n",
    "try:\n",
    "    _x509_localpath = (\n",
    "        [\n",
    "            line\n",
    "            for line in os.popen(\"voms-proxy-info\").read().split(\"\\n\")\n",
    "            if line.startswith(\"path\")\n",
    "        ][0]\n",
    "        .split(\":\")[-1]\n",
    "        .strip()\n",
    "    )\n",
    "except Exception as err:\n",
    "    raise RuntimeError(\n",
    "        \"x509 proxy could not be parsed, try creating it with 'voms-proxy-init'\"\n",
    "    ) from err\n",
    "_x509_path = f'/scratch/{os.environ[\"USER\"]}/{_x509_localpath.split(\"/\")[-1]}'\n",
    "os.system(f\"cp {_x509_localpath} {_x509_path}\")\n",
    "_x509_path = os.path.basename(_x509_localpath)"
   ]
  },
  {
   "cell_type": "code",
   "execution_count": 10,
   "id": "cb2a482c-81c9-45d4-b288-71c1166d2a3d",
   "metadata": {},
   "outputs": [
    {
     "name": "stdout",
     "output_type": "stream",
     "text": [
      "Transferring contents of /afs/hep.wisc.edu/user/emettner/rootProjects/Radion-DiHiggs-4Tau/NanoRun to workers\n",
      "Condor logs, output files, error files in /scratch/emettner\n",
      "Executor created\n"
     ]
    },
    {
     "data": {
      "text/html": [
       "<div>\n",
       "    <div style=\"width: 24px; height: 24px; background-color: #e1e1e1; border: 3px solid #9D9D9D; border-radius: 5px; position: absolute;\"> </div>\n",
       "    <div style=\"margin-left: 48px;\">\n",
       "        <h3 style=\"margin-bottom: 0px;\">Client</h3>\n",
       "        <p style=\"color: #9D9D9D; margin-bottom: 0px;\">Client-d80ad694-32a6-11ef-8fb2-3cecefda85c8</p>\n",
       "        <table style=\"width: 100%; text-align: left;\">\n",
       "\n",
       "        <tr>\n",
       "        \n",
       "            <td style=\"text-align: left;\"><strong>Connection method:</strong> Cluster object</td>\n",
       "            <td style=\"text-align: left;\"><strong>Cluster type:</strong> dask_jobqueue.HTCondorCluster</td>\n",
       "        \n",
       "        </tr>\n",
       "\n",
       "        \n",
       "            <tr>\n",
       "                <td style=\"text-align: left;\">\n",
       "                    <strong>Dashboard: </strong> <a href=\"proxy/8787/status\" target=\"_blank\">proxy/8787/status</a>\n",
       "                </td>\n",
       "                <td style=\"text-align: left;\"></td>\n",
       "            </tr>\n",
       "        \n",
       "\n",
       "        </table>\n",
       "\n",
       "        \n",
       "            <button style=\"margin-bottom: 12px;\" data-commandlinker-command=\"dask:populate-and-launch-layout\" data-commandlinker-args='{\"url\": \"proxy/8787/status\" }'>\n",
       "                Launch dashboard in JupyterLab\n",
       "            </button>\n",
       "        \n",
       "\n",
       "        \n",
       "            <details>\n",
       "            <summary style=\"margin-bottom: 20px;\"><h3 style=\"display: inline;\">Cluster Info</h3></summary>\n",
       "            <div class=\"jp-RenderedHTMLCommon jp-RenderedHTML jp-mod-trusted jp-OutputArea-output\">\n",
       "    <div style=\"width: 24px; height: 24px; background-color: #e1e1e1; border: 3px solid #9D9D9D; border-radius: 5px; position: absolute;\">\n",
       "    </div>\n",
       "    <div style=\"margin-left: 48px;\">\n",
       "        <h3 style=\"margin-bottom: 0px; margin-top: 0px;\">HTCondorCluster</h3>\n",
       "        <p style=\"color: #9D9D9D; margin-bottom: 0px;\">4b8a2f8e</p>\n",
       "        <table style=\"width: 100%; text-align: left;\">\n",
       "            <tr>\n",
       "                <td style=\"text-align: left;\">\n",
       "                    <strong>Dashboard:</strong> <a href=\"proxy/8787/status\" target=\"_blank\">proxy/8787/status</a>\n",
       "                </td>\n",
       "                <td style=\"text-align: left;\">\n",
       "                    <strong>Workers:</strong> 0\n",
       "                </td>\n",
       "            </tr>\n",
       "            <tr>\n",
       "                <td style=\"text-align: left;\">\n",
       "                    <strong>Total threads:</strong> 0\n",
       "                </td>\n",
       "                <td style=\"text-align: left;\">\n",
       "                    <strong>Total memory:</strong> 0 B\n",
       "                </td>\n",
       "            </tr>\n",
       "            \n",
       "        </table>\n",
       "\n",
       "        <details>\n",
       "            <summary style=\"margin-bottom: 20px;\">\n",
       "                <h3 style=\"display: inline;\">Scheduler Info</h3>\n",
       "            </summary>\n",
       "\n",
       "            <div style=\"\">\n",
       "    <div>\n",
       "        <div style=\"width: 24px; height: 24px; background-color: #FFF7E5; border: 3px solid #FF6132; border-radius: 5px; position: absolute;\"> </div>\n",
       "        <div style=\"margin-left: 48px;\">\n",
       "            <h3 style=\"margin-bottom: 0px;\">Scheduler</h3>\n",
       "            <p style=\"color: #9D9D9D; margin-bottom: 0px;\">Scheduler-2da1ec5b-585c-4893-982f-ed51f073e14b</p>\n",
       "            <table style=\"width: 100%; text-align: left;\">\n",
       "                <tr>\n",
       "                    <td style=\"text-align: left;\">\n",
       "                        <strong>Comm:</strong> tcp://144.92.181.248:21159\n",
       "                    </td>\n",
       "                    <td style=\"text-align: left;\">\n",
       "                        <strong>Workers:</strong> 0\n",
       "                    </td>\n",
       "                </tr>\n",
       "                <tr>\n",
       "                    <td style=\"text-align: left;\">\n",
       "                        <strong>Dashboard:</strong> <a href=\"proxy/8787/status\" target=\"_blank\">proxy/8787/status</a>\n",
       "                    </td>\n",
       "                    <td style=\"text-align: left;\">\n",
       "                        <strong>Total threads:</strong> 0\n",
       "                    </td>\n",
       "                </tr>\n",
       "                <tr>\n",
       "                    <td style=\"text-align: left;\">\n",
       "                        <strong>Started:</strong> Just now\n",
       "                    </td>\n",
       "                    <td style=\"text-align: left;\">\n",
       "                        <strong>Total memory:</strong> 0 B\n",
       "                    </td>\n",
       "                </tr>\n",
       "            </table>\n",
       "        </div>\n",
       "    </div>\n",
       "\n",
       "    <details style=\"margin-left: 48px;\">\n",
       "        <summary style=\"margin-bottom: 20px;\">\n",
       "            <h3 style=\"display: inline;\">Workers</h3>\n",
       "        </summary>\n",
       "\n",
       "        \n",
       "\n",
       "    </details>\n",
       "</div>\n",
       "\n",
       "        </details>\n",
       "    </div>\n",
       "</div>\n",
       "            </details>\n",
       "        \n",
       "\n",
       "    </div>\n",
       "</div>"
      ],
      "text/plain": [
       "<Client: 'tcp://144.92.181.248:21159' processes=0 threads=0, memory=0 B>"
      ]
     },
     "execution_count": 10,
     "metadata": {},
     "output_type": "execute_result"
    }
   ],
   "source": [
    "PWD = os.getcwd()\n",
    "print(f'Transferring contents of {PWD} to workers')\n",
    "INITIAL_DIR = f'/scratch/{os.environ[\"USER\"]}'\n",
    "cluster = HTCondorCluster(\n",
    "    cores=4,\n",
    "    memory=\"4 GB\",\n",
    "    disk=\"8 GB\",\n",
    "    death_timeout = '120',\n",
    "    job_extra_directives={\n",
    "        \"+JobFlavour\": '\"tomorrow\"',\n",
    "        \"log\": \"dask_job_output.$(PROCESS).$(CLUSTER).log\",\n",
    "        \"output\": \"dask_job_output.$(PROCESS).$(CLUSTER).out\",\n",
    "        \"error\": \"dask_job_output.$(PROCESS).$(CLUSTER).err\",\n",
    "        \"should_transfer_files\": \"yes\",\n",
    "        \"when_to_transfer_output\": \"ON_EXIT_OR_EVICT\",\n",
    "        \"+SingularityImage\": '\"/cvmfs/unpacked.cern.ch/registry.hub.docker.com/coffeateam/coffea-dask:0.7.22-py3.10-g7cbcc\"',\n",
    "        \"Requirements\": \"HasSingularityJobStart\",\n",
    "        \"InitialDir\": INITIAL_DIR,\n",
    "        \"transfer_input_files\": f'{_x509_path}'\n",
    "        #\"use_x509userproxy\": \"true\",\n",
    "    },\n",
    "    job_script_prologue=[\n",
    "        \"export XRD_RUNFORKHANDLER=1\",\n",
    "        f\"export X509_USER_PROXY={_x509_path}\",\n",
    "    ]\n",
    ")\n",
    "print('Condor logs, output files, error files in {}'.format(INITIAL_DIR))\n",
    "cluster.adapt(minimum=10, maximum=MAX_WORKERS)\n",
    "client = Client(cluster)\n",
    "dask_executor = processor.DaskExecutor(client=client, status=True)\n",
    "print(\"Executor created\")\n",
    "\n",
    "client"
   ]
  },
  {
   "cell_type": "code",
   "execution_count": 31,
   "id": "22aa22fe-382f-4ca9-8e4b-fb66b1c7a22e",
   "metadata": {},
   "outputs": [
    {
     "name": "stdout",
     "output_type": "stream",
     "text": [
      "Creating runner\n",
      "Using chunksize: 20000 and maxchunks None\n"
     ]
    },
    {
     "ename": "NameError",
     "evalue": "name 'dask_executor' is not defined",
     "output_type": "error",
     "traceback": [
      "\u001b[0;31m---------------------------------------------------------------------------\u001b[0m",
      "\u001b[0;31mNameError\u001b[0m                                 Traceback (most recent call last)",
      "Cell \u001b[0;32mIn[31], line 4\u001b[0m\n\u001b[1;32m      1\u001b[0m \u001b[38;5;28mprint\u001b[39m(\u001b[38;5;124m\"\u001b[39m\u001b[38;5;124mCreating runner\u001b[39m\u001b[38;5;124m\"\u001b[39m)\n\u001b[1;32m      2\u001b[0m \u001b[38;5;28mprint\u001b[39m(\u001b[38;5;124m\"\u001b[39m\u001b[38;5;124mUsing chunksize: \u001b[39m\u001b[38;5;132;01m{}\u001b[39;00m\u001b[38;5;124m and maxchunks \u001b[39m\u001b[38;5;132;01m{}\u001b[39;00m\u001b[38;5;124m\"\u001b[39m\u001b[38;5;241m.\u001b[39mformat(CHUNKSIZE,MAX_CHUNKS))\n\u001b[1;32m      3\u001b[0m runner \u001b[38;5;241m=\u001b[39m processor\u001b[38;5;241m.\u001b[39mRunner(\n\u001b[0;32m----> 4\u001b[0m     executor\u001b[38;5;241m=\u001b[39m\u001b[43mdask_executor\u001b[49m,\n\u001b[1;32m      5\u001b[0m     schema\u001b[38;5;241m=\u001b[39mNanoAODSchema,\n\u001b[1;32m      6\u001b[0m     chunksize\u001b[38;5;241m=\u001b[39mCHUNKSIZE,\n\u001b[1;32m      7\u001b[0m     maxchunks\u001b[38;5;241m=\u001b[39mMAX_CHUNKS,\n\u001b[1;32m      8\u001b[0m     skipbadfiles\u001b[38;5;241m=\u001b[39m\u001b[38;5;28;01mTrue\u001b[39;00m,\n\u001b[1;32m      9\u001b[0m     xrootdtimeout\u001b[38;5;241m=\u001b[39m\u001b[38;5;241m300\u001b[39m,\n\u001b[1;32m     10\u001b[0m )\n",
      "\u001b[0;31mNameError\u001b[0m: name 'dask_executor' is not defined"
     ]
    }
   ],
   "source": [
    "print(\"Creating runner\")\n",
    "print(\"Using chunksize: {} and maxchunks {}\".format(CHUNKSIZE,MAX_CHUNKS))\n",
    "runner = processor.Runner(\n",
    "    executor=dask_executor,\n",
    "    schema=NanoAODSchema,\n",
    "    chunksize=CHUNKSIZE,\n",
    "    maxchunks=MAX_CHUNKS,\n",
    "    skipbadfiles=True,\n",
    "    xrootdtimeout=300,\n",
    ")"
   ]
  },
  {
   "cell_type": "code",
   "execution_count": 32,
   "id": "df46c027-5c59-4ac6-ac2c-dfa31bc3304f",
   "metadata": {},
   "outputs": [
    {
     "name": "stdout",
     "output_type": "stream",
     "text": [
      "Calling runner\n"
     ]
    },
    {
     "ename": "NameError",
     "evalue": "name 'runner' is not defined",
     "output_type": "error",
     "traceback": [
      "\u001b[0;31m---------------------------------------------------------------------------\u001b[0m",
      "\u001b[0;31mNameError\u001b[0m                                 Traceback (most recent call last)",
      "Cell \u001b[0;32mIn[32], line 2\u001b[0m\n\u001b[1;32m      1\u001b[0m \u001b[38;5;28mprint\u001b[39m(\u001b[38;5;124m\"\u001b[39m\u001b[38;5;124mCalling runner\u001b[39m\u001b[38;5;124m\"\u001b[39m)\n\u001b[0;32m----> 2\u001b[0m mt_results_dask \u001b[38;5;241m=\u001b[39m \u001b[43mrunner\u001b[49m(\n\u001b[1;32m      3\u001b[0m     mt_fileset,\n\u001b[1;32m      4\u001b[0m     treename\u001b[38;5;241m=\u001b[39m\u001b[38;5;124m\"\u001b[39m\u001b[38;5;124mEvents\u001b[39m\u001b[38;5;124m\"\u001b[39m,\n\u001b[1;32m      5\u001b[0m     processor_instance\u001b[38;5;241m=\u001b[39mMyProcessor(),\n\u001b[1;32m      6\u001b[0m )\n",
      "\u001b[0;31mNameError\u001b[0m: name 'runner' is not defined"
     ]
    }
   ],
   "source": [
    "print(\"Calling runner\")\n",
    "mt_results_dask = runner(\n",
    "    mt_fileset,\n",
    "    treename=\"Events\",\n",
    "    processor_instance=MyProcessor(),\n",
    ")"
   ]
  },
  {
   "cell_type": "code",
   "execution_count": 103,
   "id": "31878dc3-4f2f-4ba5-9f07-56fc28fc0a61",
   "metadata": {},
   "outputs": [],
   "source": [
    "client.shutdown()"
   ]
  },
  {
   "cell_type": "code",
   "execution_count": 15,
   "id": "38a2d4fd",
   "metadata": {},
   "outputs": [
    {
     "ename": "SyntaxError",
     "evalue": "incomplete input (1824644622.py, line 5)",
     "output_type": "error",
     "traceback": [
      "\u001b[0;36m  Cell \u001b[0;32mIn[15], line 5\u001b[0;36m\u001b[0m\n\u001b[0;31m    #print(results[\"mass\"])\u001b[0m\n\u001b[0m                           ^\u001b[0m\n\u001b[0;31mSyntaxError\u001b[0m\u001b[0;31m:\u001b[0m incomplete input\n"
     ]
    }
   ],
   "source": [
    "for dset,results, in mt_results_dask.items():\n",
    "    #print(f\"Dataset: {dset}\")\n",
    "    #print(f\"Test: {results['Test'].value}\")\n",
    "    #print(f\"Event: {results['EventCount'].value}\")\n",
    "    #print(results[\"mass\"])"
   ]
  },
  {
   "cell_type": "code",
   "execution_count": 16,
   "id": "26c097e7-d75f-4444-866b-6a06e1429b7c",
   "metadata": {},
   "outputs": [
    {
     "data": {
      "text/plain": [
       "[StairsArtists(stairs=<matplotlib.patches.StepPatch object at 0x7fb35b162380>, errorbar=None, legend_artist=None)]"
      ]
     },
     "execution_count": 16,
     "metadata": {},
     "output_type": "execute_result"
    },
    {
     "data": {
      "image/png": "[encoded data removed]",
      "text/plain": [
       "<Figure size 640x480 with 1 Axes>"
      ]
     },
     "metadata": {},
     "output_type": "display_data"
    }
   ],
   "source": [
    "mt_results_dask[\"DYJets\"][\"mass\"].plot()"
   ]
  },
  {
   "cell_type": "code",
   "execution_count": 82,
   "id": "b4751697-63b8-481c-95c2-a2d55f20cb4e",
   "metadata": {},
   "outputs": [
    {
     "name": "stdout",
     "output_type": "stream",
     "text": [
      "Creating runner\n",
      "Using chunksize: 20000 and maxchunks None\n"
     ]
    }
   ],
   "source": [
    "local_executor = processor.IterativeExecutor(status=True)\n",
    "\n",
    "#Create the runner\n",
    "print(\"Creating runner\")\n",
    "print(\"Using chunksize: {} and maxchunks {}\".format(CHUNKSIZE,MAX_CHUNKS))\n",
    "runner = processor.Runner(\n",
    "    executor=local_executor,\n",
    "    schema=NanoAODSchema,\n",
    "    chunksize=CHUNKSIZE,\n",
    "    maxchunks=MAX_CHUNKS,\n",
    "    skipbadfiles=True,\n",
    "    xrootdtimeout=120,\n",
    ")"
   ]
  },
  {
   "cell_type": "code",
   "execution_count": 83,
   "id": "d5f58d5b-797e-4a86-ae06-fbe6ffecd328",
   "metadata": {},
   "outputs": [
    {
     "data": {
      "application/vnd.jupyter.widget-view+json": {
       "model_id": "842e8e8b559e49328a5d74c4514fbaf3",
       "version_major": 2,
       "version_minor": 0
      },
      "text/plain": [
       "Output()"
      ]
     },
     "metadata": {},
     "output_type": "display_data"
    },
    {
     "name": "stdout",
     "output_type": "stream",
     "text": [
      "Calling runner\n"
     ]
    },
    {
     "data": {
      "text/html": [
       "<pre style=\"white-space:pre;overflow-x:auto;line-height:normal;font-family:Menlo,'DejaVu Sans Mono',consolas,'Courier New',monospace\">[False, False, True, False, False, False, ... True, True, False, True, False, False]\n",
       "</pre>\n"
      ],
      "text/plain": [
       "[False, False, True, False, False, False, ... True, True, False, True, False, False]\n"
      ]
     },
     "metadata": {},
     "output_type": "display_data"
    },
    {
     "data": {
      "text/html": [
       "<pre style=\"white-space:pre;overflow-x:auto;line-height:normal;font-family:Menlo,'DejaVu Sans Mono',consolas,'Courier New',monospace\">[True, False, False, False, False, False, ... True, True, True, False, False, False]\n",
       "</pre>\n"
      ],
      "text/plain": [
       "[True, False, False, False, False, False, ... True, True, True, False, False, False]\n"
      ]
     },
     "metadata": {},
     "output_type": "display_data"
    },
    {
     "data": {
      "text/html": [
       "<pre style=\"white-space:pre;overflow-x:auto;line-height:normal;font-family:Menlo,'DejaVu Sans Mono',consolas,'Courier New',monospace\">[[False, True, False, False, False, False, ... [False, False, False, False]]\n",
       "</pre>\n"
      ],
      "text/plain": [
       "[[False, True, False, False, False, False, ... [False, False, False, False]]\n"
      ]
     },
     "metadata": {},
     "output_type": "display_data"
    },
    {
     "data": {
      "text/html": [
       "<pre style=\"white-space:pre;overflow-x:auto;line-height:normal;font-family:Menlo,'DejaVu Sans Mono',consolas,'Courier New',monospace\"></pre>\n"
      ],
      "text/plain": []
     },
     "metadata": {},
     "output_type": "display_data"
    },
    {
     "data": {
      "text/html": [
       "<pre style=\"white-space:pre;overflow-x:auto;line-height:normal;font-family:Menlo,'DejaVu Sans Mono',consolas,'Courier New',monospace\">\n",
       "</pre>\n"
      ],
      "text/plain": [
       "\n"
      ]
     },
     "metadata": {},
     "output_type": "display_data"
    },
    {
     "ename": "Exception",
     "evalue": "Failed processing file: WorkItem(dataset='Data', filename='root://cmsxrootd.fnal.gov//store/user/gparida/HHbbtt/Full_Production_CMSSW_13_0_13_Nov24_23/2018/MC/RadionTohhTohtatahbb_narrow_M-2000_TuneCP5_13TeV-madgraph-pythia8/RadionTohhTohtatahbb_narrow_M-2000_TuneCP5_13TeV-madgraph-pythia8/231225_152455/0000/NANO_NANO_4.root', treename='Events', entrystart=0, entrystop=1000, fileuuid=b')\\x08j\\x0e\\xa3\\xd6\\x11\\xee\\xa4&\"\\xbf\\xe1\\x83\\xbe\\xef', usermeta={})",
     "output_type": "error",
     "traceback": [
      "\u001b[0;31m---------------------------------------------------------------------------\u001b[0m",
      "\u001b[0;31mValueError\u001b[0m                                Traceback (most recent call last)",
      "File \u001b[0;32m/opt/conda/lib/python3.10/site-packages/coffea/processor/executor.py:1654\u001b[0m, in \u001b[0;36mRunner._work_function\u001b[0;34m(format, xrootdtimeout, mmap, schema, cache_function, use_dataframes, savemetrics, item, processor_instance)\u001b[0m\n\u001b[1;32m   1653\u001b[0m \u001b[38;5;28;01mtry\u001b[39;00m:\n\u001b[0;32m-> 1654\u001b[0m     out \u001b[38;5;241m=\u001b[39m \u001b[43mprocessor_instance\u001b[49m\u001b[38;5;241;43m.\u001b[39;49m\u001b[43mprocess\u001b[49m\u001b[43m(\u001b[49m\u001b[43mevents\u001b[49m\u001b[43m)\u001b[49m\n\u001b[1;32m   1655\u001b[0m \u001b[38;5;28;01mexcept\u001b[39;00m \u001b[38;5;167;01mException\u001b[39;00m \u001b[38;5;28;01mas\u001b[39;00m e:\n",
      "Cell \u001b[0;32mIn[81], line 72\u001b[0m, in \u001b[0;36mMyProcessor.process\u001b[0;34m(self, events)\u001b[0m\n\u001b[1;32m     71\u001b[0m \u001b[38;5;28mprint\u001b[39m(mu_mask)\n\u001b[0;32m---> 72\u001b[0m \u001b[43mpairSelection\u001b[49m\u001b[38;5;241;43m.\u001b[39;49m\u001b[43madd\u001b[49m\u001b[43m(\u001b[49m\u001b[38;5;124;43m\"\u001b[39;49m\u001b[38;5;124;43mGoodMu\u001b[39;49m\u001b[38;5;124;43m\"\u001b[39;49m\u001b[43m,\u001b[49m\u001b[43m \u001b[49m\u001b[43mmu_mask\u001b[49m\u001b[43m)\u001b[49m\n\u001b[1;32m     73\u001b[0m pairSelection\u001b[38;5;241m.\u001b[39madd(\u001b[38;5;124m\"\u001b[39m\u001b[38;5;124mGoodTau\u001b[39m\u001b[38;5;124m\"\u001b[39m, tau_mask)\n",
      "File \u001b[0;32m/opt/conda/lib/python3.10/site-packages/coffea/analysis_tools.py:335\u001b[0m, in \u001b[0;36mPackedSelection.add\u001b[0;34m(self, name, selection, fill_value)\u001b[0m\n\u001b[1;32m    321\u001b[0m \u001b[38;5;250m\u001b[39m\u001b[38;5;124;03m\"\"\"Add a new boolean array\u001b[39;00m\n\u001b[1;32m    322\u001b[0m \n\u001b[1;32m    323\u001b[0m \u001b[38;5;124;03mParameters\u001b[39;00m\n\u001b[0;32m   (...)\u001b[0m\n\u001b[1;32m    333\u001b[0m \u001b[38;5;124;03m        All masked entries will be filled as specified (default: ``False``)\u001b[39;00m\n\u001b[1;32m    334\u001b[0m \u001b[38;5;124;03m\"\"\"\u001b[39;00m\n\u001b[0;32m--> 335\u001b[0m selection \u001b[38;5;241m=\u001b[39m \u001b[43mcoffea\u001b[49m\u001b[38;5;241;43m.\u001b[39;49m\u001b[43mutil\u001b[49m\u001b[38;5;241;43m.\u001b[39;49m\u001b[43m_ensure_flat\u001b[49m\u001b[43m(\u001b[49m\u001b[43mselection\u001b[49m\u001b[43m,\u001b[49m\u001b[43m \u001b[49m\u001b[43mallow_missing\u001b[49m\u001b[38;5;241;43m=\u001b[39;49m\u001b[38;5;28;43;01mTrue\u001b[39;49;00m\u001b[43m)\u001b[49m\n\u001b[1;32m    336\u001b[0m \u001b[38;5;28;01mif\u001b[39;00m \u001b[38;5;28misinstance\u001b[39m(selection, numpy\u001b[38;5;241m.\u001b[39mma\u001b[38;5;241m.\u001b[39mMaskedArray):\n",
      "File \u001b[0;32m/opt/conda/lib/python3.10/site-packages/coffea/util.py:81\u001b[0m, in \u001b[0;36m_ensure_flat\u001b[0;34m(array, allow_missing)\u001b[0m\n\u001b[1;32m     80\u001b[0m \u001b[38;5;28;01mif\u001b[39;00m allow_missing \u001b[38;5;129;01mand\u001b[39;00m \u001b[38;5;129;01mnot\u001b[39;00m (isprimitive \u001b[38;5;129;01mor\u001b[39;00m isoptionprimitive):\n\u001b[0;32m---> 81\u001b[0m     \u001b[38;5;28;01mraise\u001b[39;00m \u001b[38;5;167;01mValueError\u001b[39;00m(\n\u001b[1;32m     82\u001b[0m         \u001b[38;5;124m\"\u001b[39m\u001b[38;5;124mExpected an array of type N * primitive or N * ?primitive, received: \u001b[39m\u001b[38;5;132;01m%r\u001b[39;00m\u001b[38;5;124m\"\u001b[39m\n\u001b[1;32m     83\u001b[0m         \u001b[38;5;241m%\u001b[39m aktype\n\u001b[1;32m     84\u001b[0m     )\n\u001b[1;32m     85\u001b[0m \u001b[38;5;28;01mif\u001b[39;00m \u001b[38;5;129;01mnot\u001b[39;00m (allow_missing \u001b[38;5;129;01mor\u001b[39;00m isprimitive):\n",
      "\u001b[0;31mValueError\u001b[0m: Expected an array of type N * primitive or N * ?primitive, received: 153 * var * bool",
      "\nThe above exception was the direct cause of the following exception:\n",
      "\u001b[0;31mException\u001b[0m                                 Traceback (most recent call last)",
      "Cell \u001b[0;32mIn[83], line 2\u001b[0m\n\u001b[1;32m      1\u001b[0m \u001b[38;5;28mprint\u001b[39m(\u001b[38;5;124m\"\u001b[39m\u001b[38;5;124mCalling runner\u001b[39m\u001b[38;5;124m\"\u001b[39m)\n\u001b[0;32m----> 2\u001b[0m mt_results_local \u001b[38;5;241m=\u001b[39m \u001b[43mrunner\u001b[49m\u001b[43m(\u001b[49m\n\u001b[1;32m      3\u001b[0m \u001b[43m    \u001b[49m\u001b[43mmt_fileset\u001b[49m\u001b[43m,\u001b[49m\n\u001b[1;32m      4\u001b[0m \u001b[43m    \u001b[49m\u001b[43mtreename\u001b[49m\u001b[38;5;241;43m=\u001b[39;49m\u001b[38;5;124;43m\"\u001b[39;49m\u001b[38;5;124;43mEvents\u001b[39;49m\u001b[38;5;124;43m\"\u001b[39;49m\u001b[43m,\u001b[49m\n\u001b[1;32m      5\u001b[0m \u001b[43m    \u001b[49m\u001b[43mprocessor_instance\u001b[49m\u001b[38;5;241;43m=\u001b[39;49m\u001b[43mMyProcessor\u001b[49m\u001b[43m(\u001b[49m\u001b[43m)\u001b[49m\u001b[43m,\u001b[49m\n\u001b[1;32m      6\u001b[0m \u001b[43m)\u001b[49m\n",
      "File \u001b[0;32m/opt/conda/lib/python3.10/site-packages/coffea/processor/executor.py:1700\u001b[0m, in \u001b[0;36mRunner.__call__\u001b[0;34m(self, fileset, treename, processor_instance)\u001b[0m\n\u001b[1;32m   1679\u001b[0m \u001b[38;5;28;01mdef\u001b[39;00m \u001b[38;5;21m__call__\u001b[39m(\n\u001b[1;32m   1680\u001b[0m     \u001b[38;5;28mself\u001b[39m,\n\u001b[1;32m   1681\u001b[0m     fileset: Dict,\n\u001b[1;32m   1682\u001b[0m     treename: \u001b[38;5;28mstr\u001b[39m,\n\u001b[1;32m   1683\u001b[0m     processor_instance: ProcessorABC,\n\u001b[1;32m   1684\u001b[0m ) \u001b[38;5;241m-\u001b[39m\u001b[38;5;241m>\u001b[39m Accumulatable:\n\u001b[1;32m   1685\u001b[0m \u001b[38;5;250m    \u001b[39m\u001b[38;5;124;03m\"\"\"Run the processor_instance on a given fileset\u001b[39;00m\n\u001b[1;32m   1686\u001b[0m \n\u001b[1;32m   1687\u001b[0m \u001b[38;5;124;03m    Parameters\u001b[39;00m\n\u001b[0;32m   (...)\u001b[0m\n\u001b[1;32m   1697\u001b[0m \u001b[38;5;124;03m            An instance of a class deriving from ProcessorABC\u001b[39;00m\n\u001b[1;32m   1698\u001b[0m \u001b[38;5;124;03m    \"\"\"\u001b[39;00m\n\u001b[0;32m-> 1700\u001b[0m     wrapped_out \u001b[38;5;241m=\u001b[39m \u001b[38;5;28;43mself\u001b[39;49m\u001b[38;5;241;43m.\u001b[39;49m\u001b[43mrun\u001b[49m\u001b[43m(\u001b[49m\u001b[43mfileset\u001b[49m\u001b[43m,\u001b[49m\u001b[43m \u001b[49m\u001b[43mprocessor_instance\u001b[49m\u001b[43m,\u001b[49m\u001b[43m \u001b[49m\u001b[43mtreename\u001b[49m\u001b[43m)\u001b[49m\n\u001b[1;32m   1701\u001b[0m     \u001b[38;5;28;01mif\u001b[39;00m \u001b[38;5;28mself\u001b[39m\u001b[38;5;241m.\u001b[39muse_dataframes:\n\u001b[1;32m   1702\u001b[0m         \u001b[38;5;28;01mreturn\u001b[39;00m wrapped_out  \u001b[38;5;66;03m# not wrapped anymore\u001b[39;00m\n",
      "File \u001b[0;32m/opt/conda/lib/python3.10/site-packages/coffea/processor/executor.py:1848\u001b[0m, in \u001b[0;36mRunner.run\u001b[0;34m(self, fileset, processor_instance, treename)\u001b[0m\n\u001b[1;32m   1843\u001b[0m closure \u001b[38;5;241m=\u001b[39m partial(\n\u001b[1;32m   1844\u001b[0m     \u001b[38;5;28mself\u001b[39m\u001b[38;5;241m.\u001b[39mautomatic_retries, \u001b[38;5;28mself\u001b[39m\u001b[38;5;241m.\u001b[39mretries, \u001b[38;5;28mself\u001b[39m\u001b[38;5;241m.\u001b[39mskipbadfiles, closure\n\u001b[1;32m   1845\u001b[0m )\n\u001b[1;32m   1847\u001b[0m executor \u001b[38;5;241m=\u001b[39m \u001b[38;5;28mself\u001b[39m\u001b[38;5;241m.\u001b[39mexecutor\u001b[38;5;241m.\u001b[39mcopy(\u001b[38;5;241m*\u001b[39m\u001b[38;5;241m*\u001b[39mexe_args)\n\u001b[0;32m-> 1848\u001b[0m wrapped_out, e \u001b[38;5;241m=\u001b[39m \u001b[43mexecutor\u001b[49m\u001b[43m(\u001b[49m\u001b[43mchunks\u001b[49m\u001b[43m,\u001b[49m\u001b[43m \u001b[49m\u001b[43mclosure\u001b[49m\u001b[43m,\u001b[49m\u001b[43m \u001b[49m\u001b[38;5;28;43;01mNone\u001b[39;49;00m\u001b[43m)\u001b[49m\n\u001b[1;32m   1849\u001b[0m \u001b[38;5;28;01mif\u001b[39;00m wrapped_out \u001b[38;5;129;01mis\u001b[39;00m \u001b[38;5;28;01mNone\u001b[39;00m:\n\u001b[1;32m   1850\u001b[0m     \u001b[38;5;28;01mraise\u001b[39;00m \u001b[38;5;167;01mValueError\u001b[39;00m(\n\u001b[1;32m   1851\u001b[0m         \u001b[38;5;124m\"\u001b[39m\u001b[38;5;124mNo chunks returned results, verify ``processor`` instance structure.\u001b[39m\u001b[38;5;130;01m\\n\u001b[39;00m\u001b[38;5;130;01m\\\u001b[39;00m\n\u001b[1;32m   1852\u001b[0m \u001b[38;5;124m        if you used skipbadfiles=True, it is possible all your files are bad.\u001b[39m\u001b[38;5;124m\"\u001b[39m\n\u001b[1;32m   1853\u001b[0m     )\n",
      "File \u001b[0;32m/opt/conda/lib/python3.10/site-packages/coffea/processor/executor.py:672\u001b[0m, in \u001b[0;36mIterativeExecutor.__call__\u001b[0;34m(self, items, function, accumulator)\u001b[0m\n\u001b[1;32m    667\u001b[0m \u001b[38;5;28;01mwith\u001b[39;00m rich_bar() \u001b[38;5;28;01mas\u001b[39;00m progress:\n\u001b[1;32m    668\u001b[0m     p_id \u001b[38;5;241m=\u001b[39m progress\u001b[38;5;241m.\u001b[39madd_task(\n\u001b[1;32m    669\u001b[0m         \u001b[38;5;28mself\u001b[39m\u001b[38;5;241m.\u001b[39mdesc, total\u001b[38;5;241m=\u001b[39m\u001b[38;5;28mlen\u001b[39m(items), unit\u001b[38;5;241m=\u001b[39m\u001b[38;5;28mself\u001b[39m\u001b[38;5;241m.\u001b[39munit, disable\u001b[38;5;241m=\u001b[39m\u001b[38;5;129;01mnot\u001b[39;00m \u001b[38;5;28mself\u001b[39m\u001b[38;5;241m.\u001b[39mstatus\n\u001b[1;32m    670\u001b[0m     )\n\u001b[1;32m    671\u001b[0m     \u001b[38;5;28;01mreturn\u001b[39;00m (\n\u001b[0;32m--> 672\u001b[0m         \u001b[43maccumulate\u001b[49m\u001b[43m(\u001b[49m\n\u001b[1;32m    673\u001b[0m \u001b[43m            \u001b[49m\u001b[43mprogress\u001b[49m\u001b[38;5;241;43m.\u001b[39;49m\u001b[43mtrack\u001b[49m\u001b[43m(\u001b[49m\n\u001b[1;32m    674\u001b[0m \u001b[43m                \u001b[49m\u001b[38;5;28;43mmap\u001b[39;49m\u001b[43m(\u001b[49m\u001b[43mfunction\u001b[49m\u001b[43m,\u001b[49m\u001b[43m \u001b[49m\u001b[43m(\u001b[49m\u001b[43mc\u001b[49m\u001b[43m \u001b[49m\u001b[38;5;28;43;01mfor\u001b[39;49;00m\u001b[43m \u001b[49m\u001b[43mc\u001b[49m\u001b[43m \u001b[49m\u001b[38;5;129;43;01min\u001b[39;49;00m\u001b[43m \u001b[49m\u001b[43mitems\u001b[49m\u001b[43m)\u001b[49m\u001b[43m)\u001b[49m\u001b[43m,\u001b[49m\n\u001b[1;32m    675\u001b[0m \u001b[43m                \u001b[49m\u001b[43mtotal\u001b[49m\u001b[38;5;241;43m=\u001b[39;49m\u001b[38;5;28;43mlen\u001b[39;49m\u001b[43m(\u001b[49m\u001b[43mitems\u001b[49m\u001b[43m)\u001b[49m\u001b[43m,\u001b[49m\n\u001b[1;32m    676\u001b[0m \u001b[43m                \u001b[49m\u001b[43mtask_id\u001b[49m\u001b[38;5;241;43m=\u001b[39;49m\u001b[43mp_id\u001b[49m\u001b[43m,\u001b[49m\n\u001b[1;32m    677\u001b[0m \u001b[43m            \u001b[49m\u001b[43m)\u001b[49m\u001b[43m,\u001b[49m\n\u001b[1;32m    678\u001b[0m \u001b[43m            \u001b[49m\u001b[43maccumulator\u001b[49m\u001b[43m,\u001b[49m\n\u001b[1;32m    679\u001b[0m \u001b[43m        \u001b[49m\u001b[43m)\u001b[49m,\n\u001b[1;32m    680\u001b[0m         \u001b[38;5;241m0\u001b[39m,\n\u001b[1;32m    681\u001b[0m     )\n",
      "File \u001b[0;32m/opt/conda/lib/python3.10/site-packages/coffea/processor/accumulator.py:95\u001b[0m, in \u001b[0;36maccumulate\u001b[0;34m(items, accum)\u001b[0m\n\u001b[1;32m     93\u001b[0m \u001b[38;5;28;01mtry\u001b[39;00m:\n\u001b[1;32m     94\u001b[0m     \u001b[38;5;28;01mif\u001b[39;00m accum \u001b[38;5;129;01mis\u001b[39;00m \u001b[38;5;28;01mNone\u001b[39;00m:\n\u001b[0;32m---> 95\u001b[0m         accum \u001b[38;5;241m=\u001b[39m \u001b[38;5;28;43mnext\u001b[39;49m\u001b[43m(\u001b[49m\u001b[43mgen\u001b[49m\u001b[43m)\u001b[49m\n\u001b[1;32m     96\u001b[0m         \u001b[38;5;66;03m# we want to produce a new object so that the input is not mutated\u001b[39;00m\n\u001b[1;32m     97\u001b[0m         accum \u001b[38;5;241m=\u001b[39m add(accum, \u001b[38;5;28mnext\u001b[39m(gen))\n",
      "File \u001b[0;32m/opt/conda/lib/python3.10/site-packages/coffea/processor/accumulator.py:92\u001b[0m, in \u001b[0;36m<genexpr>\u001b[0;34m(.0)\u001b[0m\n\u001b[1;32m     89\u001b[0m \u001b[38;5;28;01mdef\u001b[39;00m \u001b[38;5;21maccumulate\u001b[39m(\n\u001b[1;32m     90\u001b[0m     items: Iterable[Optional[Accumulatable]], accum: Optional[Accumulatable] \u001b[38;5;241m=\u001b[39m \u001b[38;5;28;01mNone\u001b[39;00m\n\u001b[1;32m     91\u001b[0m ) \u001b[38;5;241m-\u001b[39m\u001b[38;5;241m>\u001b[39m Optional[Accumulatable]:\n\u001b[0;32m---> 92\u001b[0m     gen \u001b[38;5;241m=\u001b[39m (x \u001b[38;5;28;01mfor\u001b[39;00m x \u001b[38;5;129;01min\u001b[39;00m items \u001b[38;5;28;01mif\u001b[39;00m x \u001b[38;5;129;01mis\u001b[39;00m \u001b[38;5;129;01mnot\u001b[39;00m \u001b[38;5;28;01mNone\u001b[39;00m)\n\u001b[1;32m     93\u001b[0m     \u001b[38;5;28;01mtry\u001b[39;00m:\n\u001b[1;32m     94\u001b[0m         \u001b[38;5;28;01mif\u001b[39;00m accum \u001b[38;5;129;01mis\u001b[39;00m \u001b[38;5;28;01mNone\u001b[39;00m:\n",
      "File \u001b[0;32m/opt/conda/lib/python3.10/site-packages/rich/progress.py:1215\u001b[0m, in \u001b[0;36mProgress.track\u001b[0;34m(self, sequence, total, task_id, description, update_period)\u001b[0m\n\u001b[1;32m   1213\u001b[0m advance \u001b[38;5;241m=\u001b[39m \u001b[38;5;28mself\u001b[39m\u001b[38;5;241m.\u001b[39madvance\n\u001b[1;32m   1214\u001b[0m refresh \u001b[38;5;241m=\u001b[39m \u001b[38;5;28mself\u001b[39m\u001b[38;5;241m.\u001b[39mrefresh\n\u001b[0;32m-> 1215\u001b[0m \u001b[38;5;28;01mfor\u001b[39;00m value \u001b[38;5;129;01min\u001b[39;00m sequence:\n\u001b[1;32m   1216\u001b[0m     \u001b[38;5;28;01myield\u001b[39;00m value\n\u001b[1;32m   1217\u001b[0m     advance(task_id, \u001b[38;5;241m1\u001b[39m)\n",
      "File \u001b[0;32m/opt/conda/lib/python3.10/site-packages/coffea/processor/executor.py:1367\u001b[0m, in \u001b[0;36mRunner.automatic_retries\u001b[0;34m(retries, skipbadfiles, func, *args, **kwargs)\u001b[0m\n\u001b[1;32m   1361\u001b[0m         \u001b[38;5;28;01mbreak\u001b[39;00m\n\u001b[1;32m   1362\u001b[0m     \u001b[38;5;28;01mif\u001b[39;00m (\n\u001b[1;32m   1363\u001b[0m         \u001b[38;5;129;01mnot\u001b[39;00m skipbadfiles\n\u001b[1;32m   1364\u001b[0m         \u001b[38;5;129;01mor\u001b[39;00m \u001b[38;5;28many\u001b[39m(\u001b[38;5;124m\"\u001b[39m\u001b[38;5;124mAuth failed\u001b[39m\u001b[38;5;124m\"\u001b[39m \u001b[38;5;129;01min\u001b[39;00m \u001b[38;5;28mstr\u001b[39m(c) \u001b[38;5;28;01mfor\u001b[39;00m c \u001b[38;5;129;01min\u001b[39;00m chain)\n\u001b[1;32m   1365\u001b[0m         \u001b[38;5;129;01mor\u001b[39;00m retries \u001b[38;5;241m==\u001b[39m retry_count\n\u001b[1;32m   1366\u001b[0m     ):\n\u001b[0;32m-> 1367\u001b[0m         \u001b[38;5;28;01mraise\u001b[39;00m e\n\u001b[1;32m   1368\u001b[0m     warnings\u001b[38;5;241m.\u001b[39mwarn(\u001b[38;5;124m\"\u001b[39m\u001b[38;5;124mAttempt \u001b[39m\u001b[38;5;132;01m%d\u001b[39;00m\u001b[38;5;124m of \u001b[39m\u001b[38;5;132;01m%d\u001b[39;00m\u001b[38;5;124m.\u001b[39m\u001b[38;5;124m\"\u001b[39m \u001b[38;5;241m%\u001b[39m (retry_count \u001b[38;5;241m+\u001b[39m \u001b[38;5;241m1\u001b[39m, retries \u001b[38;5;241m+\u001b[39m \u001b[38;5;241m1\u001b[39m))\n\u001b[1;32m   1369\u001b[0m retry_count \u001b[38;5;241m+\u001b[39m\u001b[38;5;241m=\u001b[39m \u001b[38;5;241m1\u001b[39m\n",
      "File \u001b[0;32m/opt/conda/lib/python3.10/site-packages/coffea/processor/executor.py:1336\u001b[0m, in \u001b[0;36mRunner.automatic_retries\u001b[0;34m(retries, skipbadfiles, func, *args, **kwargs)\u001b[0m\n\u001b[1;32m   1334\u001b[0m \u001b[38;5;28;01mwhile\u001b[39;00m retry_count \u001b[38;5;241m<\u001b[39m\u001b[38;5;241m=\u001b[39m retries:\n\u001b[1;32m   1335\u001b[0m     \u001b[38;5;28;01mtry\u001b[39;00m:\n\u001b[0;32m-> 1336\u001b[0m         \u001b[38;5;28;01mreturn\u001b[39;00m \u001b[43mfunc\u001b[49m\u001b[43m(\u001b[49m\u001b[38;5;241;43m*\u001b[39;49m\u001b[43margs\u001b[49m\u001b[43m,\u001b[49m\u001b[43m \u001b[49m\u001b[38;5;241;43m*\u001b[39;49m\u001b[38;5;241;43m*\u001b[39;49m\u001b[43mkwargs\u001b[49m\u001b[43m)\u001b[49m\n\u001b[1;32m   1337\u001b[0m     \u001b[38;5;66;03m# catch xrootd errors and optionally skip\u001b[39;00m\n\u001b[1;32m   1338\u001b[0m     \u001b[38;5;66;03m# or retry to read the file\u001b[39;00m\n\u001b[1;32m   1339\u001b[0m     \u001b[38;5;28;01mexcept\u001b[39;00m \u001b[38;5;167;01mException\u001b[39;00m \u001b[38;5;28;01mas\u001b[39;00m e:\n",
      "File \u001b[0;32m/opt/conda/lib/python3.10/site-packages/coffea/processor/executor.py:1656\u001b[0m, in \u001b[0;36mRunner._work_function\u001b[0;34m(format, xrootdtimeout, mmap, schema, cache_function, use_dataframes, savemetrics, item, processor_instance)\u001b[0m\n\u001b[1;32m   1654\u001b[0m     out \u001b[38;5;241m=\u001b[39m processor_instance\u001b[38;5;241m.\u001b[39mprocess(events)\n\u001b[1;32m   1655\u001b[0m \u001b[38;5;28;01mexcept\u001b[39;00m \u001b[38;5;167;01mException\u001b[39;00m \u001b[38;5;28;01mas\u001b[39;00m e:\n\u001b[0;32m-> 1656\u001b[0m     \u001b[38;5;28;01mraise\u001b[39;00m \u001b[38;5;167;01mException\u001b[39;00m(\u001b[38;5;124mf\u001b[39m\u001b[38;5;124m\"\u001b[39m\u001b[38;5;124mFailed processing file: \u001b[39m\u001b[38;5;132;01m{\u001b[39;00mitem\u001b[38;5;132;01m!r}\u001b[39;00m\u001b[38;5;124m\"\u001b[39m) \u001b[38;5;28;01mfrom\u001b[39;00m \u001b[38;5;21;01me\u001b[39;00m\n\u001b[1;32m   1657\u001b[0m \u001b[38;5;28;01mif\u001b[39;00m out \u001b[38;5;129;01mis\u001b[39;00m \u001b[38;5;28;01mNone\u001b[39;00m:\n\u001b[1;32m   1658\u001b[0m     \u001b[38;5;28;01mraise\u001b[39;00m \u001b[38;5;167;01mValueError\u001b[39;00m(\n\u001b[1;32m   1659\u001b[0m         \u001b[38;5;124m\"\u001b[39m\u001b[38;5;124mOutput of process() should not be None. Make sure your processor\u001b[39m\u001b[38;5;124m'\u001b[39m\u001b[38;5;124ms process() function returns an accumulator.\u001b[39m\u001b[38;5;124m\"\u001b[39m\n\u001b[1;32m   1660\u001b[0m     )\n",
      "\u001b[0;31mException\u001b[0m: Failed processing file: WorkItem(dataset='Data', filename='root://cmsxrootd.fnal.gov//store/user/gparida/HHbbtt/Full_Production_CMSSW_13_0_13_Nov24_23/2018/MC/RadionTohhTohtatahbb_narrow_M-2000_TuneCP5_13TeV-madgraph-pythia8/RadionTohhTohtatahbb_narrow_M-2000_TuneCP5_13TeV-madgraph-pythia8/231225_152455/0000/NANO_NANO_4.root', treename='Events', entrystart=0, entrystop=1000, fileuuid=b')\\x08j\\x0e\\xa3\\xd6\\x11\\xee\\xa4&\"\\xbf\\xe1\\x83\\xbe\\xef', usermeta={})"
     ]
    }
   ],
   "source": [
    "print(\"Calling runner\")\n",
    "mt_results_local = runner(\n",
    "    mt_fileset,\n",
    "    treename=\"Events\",\n",
    "    processor_instance=MyProcessor(),\n",
    ")"
   ]
  },
  {
   "cell_type": "code",
   "execution_count": null,
   "id": "719584d2-f5fc-46ed-a0e9-36d41af16627",
   "metadata": {},
   "outputs": [],
   "source": [
    "for dset,results in mt_results_local.items():\n",
    "    print(f\"Dataset: {dset}\")\n",
    "    #print(f\"Event count: {results['EventCount'].value}\")\n",
    "\n",
    "print(mt_results_local.items())\n"
   ]
  },
  {
   "cell_type": "code",
   "execution_count": 14,
   "id": "37e8b6f8-ab99-4374-aa6e-ae1bbb566089",
   "metadata": {},
   "outputs": [
    {
     "data": {
      "image/png": "[encoded data removed]",
      "text/plain": [
       "<Figure size 640x480 with 1 Axes>"
      ]
     },
     "metadata": {},
     "output_type": "display_data"
    }
   ],
   "source": [
    "mt_results_local[\"Data\"][\"mass\"].plot()\n",
    "mt_results_local[\"DYJets\"][\"mass\"].plot()\n",
    "mt_results_local[\"WJets\"][\"mass\"].plot()\n",
    "mt_results_local[\"TT\"][\"mass\"].plot()\n",
    "mt_results_local[\"VV\"][\"mass\"].plot()\n",
    "\n",
    "Data_h, Data_bins = mt_results_local[\"Data\"][\"mass\"].to_numpy()"
   ]
  },
  {
   "cell_type": "code",
   "execution_count": 22,
   "id": "4d3e8246-450f-415b-aa7e-52436a6da5e0",
   "metadata": {},
   "outputs": [],
   "source": [
    "d = {}\n",
    "bins = np.linspace(0,150,30)\n",
    "\n",
    "QCDScaleFactor = 1.6996559936491136\n",
    "\n",
    "d[\"Data_h\"], d[\"Data_bins\"] = mt_results_local[\"Data\"][\"mass\"].to_numpy()\n",
    "d[\"Data_SS_h\"], d[\"Data_SS_bins\"] = mt_results_local[\"Data\"][\"ss_mass\"].to_numpy()\n",
    "labels1 = [\"DYJets\", \"WJets\", \"TT\", \"VV\"]\n",
    "for i in labels1:\n",
    "    d[i + \"_h\"], d[i + \"_bins\"] =  mt_results_local[i][\"mass\"].to_numpy()\n",
    "    d[i + \"_SS_h\"], d[i + \"_SS_bins\"] =  mt_results_local[i][\"ss_mass\"].to_numpy()\n",
    "\n",
    "d[\"QCD_h\"] = np.subtract(np.subtract(np.subtract(d[\"Data_SS_h\"], d[\"DYJets_SS_h\"], dtype=object, out=None), d[\"WJets_SS_h\"], dtype=object, out=None), d[\"TT_SS_h\"], dtype=object, out=None)\n",
    "for i in range(d[\"QCD_h\"].size):\n",
    "    if d[\"QCD_h\"][i] < 0.0:\n",
    "        d[\"QCD_h\"][i] = 0.0\n",
    "    d[\"QCD_w\"] = np.full(shape=d[\"QCD_h\"].shape, fill_value=QCDScaleFactor, dtype=np.double)\n",
    "    d[\"QCD_hist\"] = (d[\"QCD_h\"], d[\"Data_SS_bins\"])\n"
   ]
  },
  {
   "cell_type": "code",
   "execution_count": 23,
   "id": "20eb60c2-3930-4e25-a3f8-6f29b8e4cff7",
   "metadata": {},
   "outputs": [],
   "source": [
    "outFile = uproot.recreate(\"boostedHTT_mt_2018_local.input.root\")\n",
    "outFile[\"DYJets_met_1_13TeV/data_obs\"] = mt_results_local[\"Data\"][\"mass\"].to_numpy()\n",
    "outFile[\"DYJets_met_1_13TeV/QCD\"] = d[\"QCD_hist\"]\n",
    "outFile[\"DYJets_met_1_13TeV/WJets\"] = mt_results_local[\"WJets\"][\"mass\"].to_numpy()\n",
    "outFile[\"DYJets_met_1_13TeV/DYJets125\"] = mt_results_local[\"DYJets\"][\"mass\"].to_numpy()\n",
    "outFile[\"DYJets_met_1_13TeV/TT\"] = mt_results_local[\"TT\"][\"mass\"].to_numpy()\n",
    "outFile[\"DYJets_met_1_13TeV/VV\"] = mt_results_local[\"VV\"][\"mass\"].to_numpy()\n",
    "outFile.close()"
   ]
  },
  {
   "cell_type": "code",
   "execution_count": null,
   "id": "006c2f26",
   "metadata": {},
   "outputs": [],
   "source": [
    "outFile = uproot.recreate(\"boostedHTT_mt_2018.input.root\")\n",
    "\n",
    "\n"
   ]
  }
 ],
 "metadata": {
  "kernelspec": {
   "display_name": "Python 3 (ipykernel)",
   "language": "python",
   "name": "python3"
  },
  "language_info": {
   "codemirror_mode": {
    "name": "ipython",
    "version": 3
   },
   "file_extension": ".py",
   "mimetype": "text/x-python",
   "name": "python",
   "nbconvert_exporter": "python",
   "pygments_lexer": "ipython3",
   "version": "3.10.8"
  }
 },
 "nbformat": 4,
 "nbformat_minor": 5
}
