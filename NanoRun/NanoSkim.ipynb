{
 "cells": [
  {
   "cell_type": "code",
   "execution_count": 1,
   "id": "f6950093-4daf-4614-a8c0-bef24b0b110a",
   "metadata": {},
   "outputs": [],
   "source": [
    "import sys\n",
    "import os\n",
    "from pathlib import Path\n",
    "import math\n",
    "import json\n",
    "import awkward as ak\n",
    "import numpy as np\n",
    "import uproot\n",
    "import boost_histogram as bh\n",
    "import hist\n",
    "from hist import Hist, intervals, axis\n",
    "import matplotlib.pyplot as plt\n",
    "from matplotlib import cycler\n",
    "import mplhep as hep\n",
    "from coffea import nanoevents, lookup_tools, util\n",
    "import coffea.processor as processor\n",
    "from coffea.nanoevents import NanoEventsFactory, NanoAODSchema, BaseSchema\n",
    "from coffea.nanoevents.methods import vector, candidate, nanoaod\n",
    "from coffea.nanoevents.methods.vector import PtEtaPhiELorentzVector\n",
    "from coffea.lookup_tools import extractor, evaluator\n",
    "from coffea.analysis_tools import PackedSelection, Weights\n",
    "import dask\n",
    "import correctionlib\n",
    "from dask import delayed\n",
    "from dask.distributed import Client\n",
    "from dask_jobqueue import HTCondorCluster\n"
   ]
  },
  {
   "cell_type": "code",
   "execution_count": 2,
   "id": "68592275-d1e3-4764-a24f-c02c3349d152",
   "metadata": {},
   "outputs": [],
   "source": [
    "MAX_WORKERS = 250\n",
    "CHUNKSIZE = 50_000\n",
    "MAX_CHUNKS = None"
   ]
  },
  {
   "cell_type": "code",
   "execution_count": 3,
   "id": "d3ba0e9f-ee77-4b44-bf96-e38de1412ec8",
   "metadata": {},
   "outputs": [],
   "source": [
    "@delayed(pure=True)\n",
    "def get_tree(url):    \n",
    "    return uproot.open(url)[\"Events\"]"
   ]
  },
  {
   "cell_type": "code",
   "execution_count": 4,
   "id": "eaec14d0-02f1-4320-8868-ab2c95407518",
   "metadata": {
    "scrolled": true
   },
   "outputs": [
    {
     "data": {
      "text/plain": [
       "array([Delayed('get_tree-52f1628646a51866a86e37824ee85bd2'),\n",
       "       Delayed('get_tree-eadf70a058e5bffbab5200926c14468d'),\n",
       "       Delayed('get_tree-d887548e6236f14f1a29bb209ee9e32f'), ...,\n",
       "       Delayed('get_tree-aa3220463eafc1c379b70ec081bb69e4'),\n",
       "       Delayed('get_tree-1665ca780341a6cce1554f9ce9554aea'),\n",
       "       Delayed('get_tree-8ee6898c383ba7642dc0fcc2b9498c38')], dtype=object)"
      ]
     },
     "execution_count": 4,
     "metadata": {},
     "output_type": "execute_result"
    }
   ],
   "source": [
    "redirector = \"root://cmsxrootd.hep.wisc.edu//store/user/gparida/HHbbtt/Full_Production_CMSSW_13_0_13_Nov24_23\"\n",
    "redirector2 = \"root://cmsxrootd.hep.wisc.edu//store/user/cgalloni/HHbbtt/Full_Production_CMSSW_13_0_13_Nov24_23\"\n",
    "#redirector17D = \"/hdfs/store/user/cgalloni/HHbbtt/Full_Production_CMSSW_13_0_13_Nov24_23\"\n",
    "\n",
    "DYJetsArr = np.concatenate((\n",
    "    [redirector+f\"/2018/MC/DYJetsToLL_LHEFilterPtZ-0To50_MatchEWPDG20_TuneCP5_13TeV-amcatnloFXFX-pythia8/DYJetsToLL_LHEFilterPtZ-0To50_MatchEWPDG20_TuneCP5_13TeV-amcatnloFXFX-pythia8/240704_133625/0000/NANO_NANO_{i}.root\" for i in range( 1 , 1000 )],\n",
    "    [redirector+f\"/2018/MC/DYJetsToLL_LHEFilterPtZ-0To50_MatchEWPDG20_TuneCP5_13TeV-amcatnloFXFX-pythia8/DYJetsToLL_LHEFilterPtZ-0To50_MatchEWPDG20_TuneCP5_13TeV-amcatnloFXFX-pythia8/240704_133625/0001/NANO_NANO_{i}.root\" for i in range( 1000 , 2000 )],\n",
    "    [redirector+f\"/2018/MC/DYJetsToLL_LHEFilterPtZ-0To50_MatchEWPDG20_TuneCP5_13TeV-amcatnloFXFX-pythia8/DYJetsToLL_LHEFilterPtZ-0To50_MatchEWPDG20_TuneCP5_13TeV-amcatnloFXFX-pythia8/240704_133625/0002/NANO_NANO_{i}.root\" for i in range( 2000 , 2060 )],\n",
    "    [redirector+f\"/2018/MC/DYJetsToLL_LHEFilterPtZ-100To250_MatchEWPDG20_TuneCP5_13TeV-amcatnloFXFX-pythia8/DYJetsToLL_LHEFilterPtZ-100To250_MatchEWPDG20_TuneCP5_13TeV-amcatnloFXFX-pythia8/240704_133649/0000/NANO_NANO_{i}.root\" for i in range( 1 , 1000 )],\n",
    "    [redirector+f\"/2018/MC/DYJetsToLL_LHEFilterPtZ-100To250_MatchEWPDG20_TuneCP5_13TeV-amcatnloFXFX-pythia8/DYJetsToLL_LHEFilterPtZ-100To250_MatchEWPDG20_TuneCP5_13TeV-amcatnloFXFX-pythia8/240704_133649/0001/NANO_NANO_{i}.root\" for i in range( 1000 , 1004 )],\n",
    "    [redirector+f\"/2018/MC/DYJetsToLL_LHEFilterPtZ-250To400_MatchEWPDG20_TuneCP5_13TeV-amcatnloFXFX-pythia8/DYJetsToLL_LHEFilterPtZ-250To400_MatchEWPDG20_TuneCP5_13TeV-amcatnloFXFX-pythia8/240704_133710/0000/NANO_NANO_{i}.root\" for i in range( 1 , 400 )],\n",
    "    [redirector+f\"/2018/MC/DYJetsToLL_LHEFilterPtZ-400To650_MatchEWPDG20_TuneCP5_13TeV-amcatnloFXFX-pythia8/DYJetsToLL_LHEFilterPtZ-400To650_MatchEWPDG20_TuneCP5_13TeV-amcatnloFXFX-pythia8/240704_133735/0000/NANO_NANO_{i}.root\" for i in range( 1 , 80 )],\n",
    "    [redirector+f\"/2018/MC/DYJetsToLL_LHEFilterPtZ-50To100_MatchEWPDG20_TuneCP5_13TeV-amcatnloFXFX-pythia8/DYJetsToLL_LHEFilterPtZ-50To100_MatchEWPDG20_TuneCP5_13TeV-amcatnloFXFX-pythia8/240704_133755/0000/NANO_NANO_{i}.root\" for i in range( 1 , 1000 )],\n",
    "    [redirector+f\"/2018/MC/DYJetsToLL_LHEFilterPtZ-50To100_MatchEWPDG20_TuneCP5_13TeV-amcatnloFXFX-pythia8/DYJetsToLL_LHEFilterPtZ-50To100_MatchEWPDG20_TuneCP5_13TeV-amcatnloFXFX-pythia8/240704_133755/0001/NANO_NANO_{i}.root\" for i in range( 1000 , 1376 )],\n",
    "    [redirector+f\"/2018/MC/DYJetsToLL_LHEFilterPtZ-650ToInf_MatchEWPDG20_TuneCP5_13TeV-amcatnloFXFX-pythia8/DYJetsToLL_LHEFilterPtZ-650ToInf_MatchEWPDG20_TuneCP5_13TeV-amcatnloFXFX-pythia8/240704_133818/0000/NANO_NANO_{i}.root\" for i in range( 1 , 107 )]\n",
    "))\n",
    "WJetsArr = np.concatenate((\n",
    "    [redirector+f\"/2018/MC/WJetsToLNu_HT-100To200_TuneCP5_13TeV-madgraphMLM-pythia8/WJetsToLNu_HT-100To200_TuneCP5_13TeV-madgraphMLM-pythia8/231225_152652/0000/NANO_NANO_{i}.root\" for i in range( 1 , 1000 )],\n",
    "    [redirector+f\"/2018/MC/WJetsToLNu_HT-100To200_TuneCP5_13TeV-madgraphMLM-pythia8/WJetsToLNu_HT-100To200_TuneCP5_13TeV-madgraphMLM-pythia8/231225_152652/0001/NANO_NANO_{i}.root\" for i in range( 1000 , 1116 )],\n",
    "    [redirector+f\"/2018/MC/WJetsToLNu_HT-1200To2500_TuneCP5_13TeV-madgraphMLM-pythia8/WJetsToLNu_HT-1200To2500_TuneCP5_13TeV-madgraphMLM-pythia8/231225_152707/0000/NANO_NANO_{i}.root\" for i in range( 1 , 149 )],\n",
    "    [redirector+f\"/2018/MC/WJetsToLNu_HT-1200To2500_TuneCP5_13TeV-madgraphMLM-pythia8/WJetsToLNu_HT-1200To2500_TuneCP5_13TeV-madgraphMLM-pythia8_ext1-v2_otherPart/231225_153158/0000/NANO_NANO_{i}.root\" for i in range( 1 , 153 )],\n",
    "    [redirector+f\"/2018/MC/WJetsToLNu_HT-200To400_TuneCP5_13TeV-madgraphMLM-pythia8/WJetsToLNu_HT-200To400_TuneCP5_13TeV-madgraphMLM-pythia8/231225_151948/0000/NANO_NANO_{i}.root\" for i in range( 1 , 1000 )],\n",
    "    [redirector+f\"/2018/MC/WJetsToLNu_HT-200To400_TuneCP5_13TeV-madgraphMLM-pythia8/WJetsToLNu_HT-200To400_TuneCP5_13TeV-madgraphMLM-pythia8/231225_151948/0001/NANO_NANO_{i}.root\" for i in range( 1000 , 1253 )],\n",
    "    [redirector+f\"/2018/MC/WJetsToLNu_HT-2500ToInf_TuneCP5_13TeV-madgraphMLM-pythia8/WJetsToLNu_HT-2500ToInf_TuneCP5_13TeV-madgraphMLM-pythia8/231225_152721/0000/NANO_NANO_{i}.root\" for i in range( 1 , 95 )],\n",
    "    [redirector+f\"/2018/MC/WJetsToLNu_HT-2500ToInf_TuneCP5_13TeV-madgraphMLM-pythia8/WJetsToLNu_HT-2500ToInf_TuneCP5_13TeV-madgraphMLM-pythia8_ext1-v2_otherPart/231225_153212/0000/NANO_NANO_{i}.root\" for i in range( 1 , 354 )],\n",
    "    [redirector+f\"/2018/MC/WJetsToLNu_HT-400To600_TuneCP5_13TeV-madgraphMLM-pythia8/WJetsToLNu_HT-400To600_TuneCP5_13TeV-madgraphMLM-pythia8/231225_152003/0000/NANO_NANO_{i}.root\" for i in range( 1 , 187 )],\n",
    "    [redirector+f\"/2018/MC/WJetsToLNu_HT-400To600_TuneCP5_13TeV-madgraphMLM-pythia8/WJetsToLNu_HT-400To600_TuneCP5_13TeV-madgraphMLM-pythia8_ext1-v2_otherPart/231225_153115/0000/NANO_NANO_{i}.root\" for i in range( 1 , 54 )],\n",
    "    [redirector+f\"/2018/MC/WJetsToLNu_HT-600To800_TuneCP5_13TeV-madgraphMLM-pythia8/WJetsToLNu_HT-600To800_TuneCP5_13TeV-madgraphMLM-pythia8/231225_152017/0000/NANO_NANO_{i}.root\" for i in range( 1 , 177 )],\n",
    "    [redirector+f\"/2018/MC/WJetsToLNu_HT-600To800_TuneCP5_13TeV-madgraphMLM-pythia8/WJetsToLNu_HT-600To800_TuneCP5_13TeV-madgraphMLM-pythia8_ext1-v2_otherPart/231225_153129/0000/NANO_NANO_{i}.root\" for i in range( 1 , 128 )],\n",
    "    [redirector+f\"/2018/MC/WJetsToLNu_HT-70To100_TuneCP5_13TeV-madgraphMLM-pythia8/WJetsToLNu_HT-70To100_TuneCP5_13TeV-madgraphMLM-pythia8/231225_151934/0000/NANO_NANO_{i}.root\" for i in range( 1 , 1000 )],\n",
    "    [redirector+f\"/2018/MC/WJetsToLNu_HT-70To100_TuneCP5_13TeV-madgraphMLM-pythia8/WJetsToLNu_HT-70To100_TuneCP5_13TeV-madgraphMLM-pythia8/231225_151934/0001/NANO_NANO_{i}.root\" for i in range( 1000 , 1418 )],\n",
    "    [redirector+f\"/2018/MC/WJetsToLNu_HT-800To1200_TuneCP5_13TeV-madgraphMLM-pythia8/WJetsToLNu_HT-800To1200_TuneCP5_13TeV-madgraphMLM-pythia8/231225_152032/0000/NANO_NANO_{i}.root\" for i in range( 1 , 161 )],\n",
    "    [redirector+f\"/2018/MC/WJetsToLNu_HT-800To1200_TuneCP5_13TeV-madgraphMLM-pythia8/WJetsToLNu_HT-800To1200_TuneCP5_13TeV-madgraphMLM-pythia8_ext1-v2_otherPart/231225_153143/0000/NANO_NANO_{i}.root\" for i in range( 1 , 120 )]\n",
    "))\n",
    "\n",
    "TTArr = np.concatenate((\n",
    "    [redirector+f\"/2018/MC/TTTo2L2Nu_TuneCP5_13TeV-powheg-pythia8/TTTo2L2Nu_TuneCP5_13TeV-powheg-pythia8/231225_152259/0000/NANO_NANO_{i}.root\" for i in range( 1 , 1000 )],\n",
    "    [redirector+f\"/2018/MC/TTTo2L2Nu_TuneCP5_13TeV-powheg-pythia8/TTTo2L2Nu_TuneCP5_13TeV-powheg-pythia8/231225_152259/0001/NANO_NANO_{i}.root\" for i in range( 1000 , 2000 )],\n",
    "    [redirector+f\"/2018/MC/TTTo2L2Nu_TuneCP5_13TeV-powheg-pythia8/TTTo2L2Nu_TuneCP5_13TeV-powheg-pythia8/231225_152259/0002/NANO_NANO_{i}.root\" for i in range( 2000 , 3000 )],\n",
    "    [redirector+f\"/2018/MC/TTTo2L2Nu_TuneCP5_13TeV-powheg-pythia8/TTTo2L2Nu_TuneCP5_13TeV-powheg-pythia8/231225_152259/0003/NANO_NANO_{i}.root\" for i in range( 3000 , 3070 )],\n",
    "    [redirector+f\"/2018/MC/TTToHadronic_TuneCP5_13TeV-powheg-pythia8/TTToHadronic_TuneCP5_13TeV-powheg-pythia8/231225_152244/0000/NANO_NANO_{i}.root\" for i in range( 1 , 1000 )],\n",
    "    [redirector+f\"/2018/MC/TTToHadronic_TuneCP5_13TeV-powheg-pythia8/TTToHadronic_TuneCP5_13TeV-powheg-pythia8/231225_152244/0001/NANO_NANO_{i}.root\" for i in range( 1000 , 2000 )],\n",
    "    [redirector+f\"/2018/MC/TTToHadronic_TuneCP5_13TeV-powheg-pythia8/TTToHadronic_TuneCP5_13TeV-powheg-pythia8/231225_152244/0002/NANO_NANO_{i}.root\" for i in range( 2000 , 3000 )],\n",
    "    [redirector+f\"/2018/MC/TTToHadronic_TuneCP5_13TeV-powheg-pythia8/TTToHadronic_TuneCP5_13TeV-powheg-pythia8/231225_152244/0003/NANO_NANO_{i}.root\" for i in range( 3000 , 4000 )],\n",
    "    [redirector+f\"/2018/MC/TTToHadronic_TuneCP5_13TeV-powheg-pythia8/TTToHadronic_TuneCP5_13TeV-powheg-pythia8/231225_152244/0004/NANO_NANO_{i}.root\" for i in range( 4000 , 5000 )],\n",
    "    [redirector+f\"/2018/MC/TTToHadronic_TuneCP5_13TeV-powheg-pythia8/TTToHadronic_TuneCP5_13TeV-powheg-pythia8/231225_152244/0005/NANO_NANO_{i}.root\" for i in range( 5000 , 6000 )],\n",
    "    [redirector+f\"/2018/MC/TTToHadronic_TuneCP5_13TeV-powheg-pythia8/TTToHadronic_TuneCP5_13TeV-powheg-pythia8/231225_152244/0006/NANO_NANO_{i}.root\" for i in range( 6000 , 7000 )],\n",
    "    [redirector+f\"/2018/MC/TTToHadronic_TuneCP5_13TeV-powheg-pythia8/TTToHadronic_TuneCP5_13TeV-powheg-pythia8/231225_152244/0007/NANO_NANO_{i}.root\" for i in range( 7000 , 7196 )],\n",
    "    [redirector+f\"/2018/MC/TTToSemiLeptonic_TuneCP5_13TeV-powheg-pythia8/TTToSemiLeptonic_TuneCP5_13TeV-powheg-pythia8/240203_190026/0000/NANO_NANO_{i}.root\" for i in range( 1 , 1000 )],\n",
    "    [redirector+f\"/2018/MC/TTToSemiLeptonic_TuneCP5_13TeV-powheg-pythia8/TTToSemiLeptonic_TuneCP5_13TeV-powheg-pythia8/240203_190026/0001/NANO_NANO_{i}.root\" for i in range( 1000 , 2000 )],\n",
    "    [redirector+f\"/2018/MC/TTToSemiLeptonic_TuneCP5_13TeV-powheg-pythia8/TTToSemiLeptonic_TuneCP5_13TeV-powheg-pythia8/240203_190026/0002/NANO_NANO_{i}.root\" for i in range( 2000 , 3000 )],\n",
    "    [redirector+f\"/2018/MC/TTToSemiLeptonic_TuneCP5_13TeV-powheg-pythia8/TTToSemiLeptonic_TuneCP5_13TeV-powheg-pythia8/240203_190026/0003/NANO_NANO_{i}.root\" for i in range( 3000 , 4000 )],\n",
    "    [redirector+f\"/2018/MC/TTToSemiLeptonic_TuneCP5_13TeV-powheg-pythia8/TTToSemiLeptonic_TuneCP5_13TeV-powheg-pythia8/240203_190026/0004/NANO_NANO_{i}.root\" for i in range( 4000 , 5000 )],\n",
    "    [redirector+f\"/2018/MC/TTToSemiLeptonic_TuneCP5_13TeV-powheg-pythia8/TTToSemiLeptonic_TuneCP5_13TeV-powheg-pythia8/240203_190026/0005/NANO_NANO_{i}.root\" for i in range( 5000 , 5010 )]\n",
    "))\n",
    "\n",
    "VV_arr = np.concatenate((\n",
    "    [redirector+f\"/2018/MC/ST_s-channel_4f_leptonDecays_TuneCP5_13TeV-amcatnlo-pythia8/ST_s-channel_4f_leptonDecays_TuneCP5_13TeV-amcatnlo-pythia8/231225_152313/0000/NANO_NANO_{i}.root\" for i in range( 1 , 428 )],\n",
    "    [redirector+f\"/2018/MC/ST_t-channel_antitop_4f_InclusiveDecays_TuneCP5_13TeV-powheg-madspin-pythia8/ST_t-channel_antitop_4f_InclusiveDecays_TuneCP5_13TeV-powheg-madspin-pythia8/231225_152328/0000/NANO_NANO_{i}.root\" for i in range( 1 , 1000 )],\n",
    "    [redirector+f\"/2018/MC/ST_t-channel_antitop_4f_InclusiveDecays_TuneCP5_13TeV-powheg-madspin-pythia8/ST_t-channel_antitop_4f_InclusiveDecays_TuneCP5_13TeV-powheg-madspin-pythia8/231225_152328/0001/NANO_NANO_{i}.root\" for i in range( 1000 , 1915 )],\n",
    "    [redirector+f\"/2018/MC/ST_t-channel_top_4f_InclusiveDecays_TuneCP5_13TeV-powheg-madspin-pythia8/ST_t-channel_top_4f_InclusiveDecays_TuneCP5_13TeV-powheg-madspin-pythia8/231225_152342/0000/NANO_NANO_{i}.root\" for i in range( 1 , 1000 )],\n",
    "    [redirector+f\"/2018/MC/ST_t-channel_top_4f_InclusiveDecays_TuneCP5_13TeV-powheg-madspin-pythia8/ST_t-channel_top_4f_InclusiveDecays_TuneCP5_13TeV-powheg-madspin-pythia8/231225_152342/0001/NANO_NANO_{i}.root\" for i in range( 1000 , 2000 )],\n",
    "    [redirector+f\"/2018/MC/ST_t-channel_top_4f_InclusiveDecays_TuneCP5_13TeV-powheg-madspin-pythia8/ST_t-channel_top_4f_InclusiveDecays_TuneCP5_13TeV-powheg-madspin-pythia8/231225_152342/0002/NANO_NANO_{i}.root\" for i in range( 2000 , 3000 )],\n",
    "    [redirector+f\"/2018/MC/ST_t-channel_top_4f_InclusiveDecays_TuneCP5_13TeV-powheg-madspin-pythia8/ST_t-channel_top_4f_InclusiveDecays_TuneCP5_13TeV-powheg-madspin-pythia8/231225_152342/0003/NANO_NANO_{i}.root\" for i in range( 3000 , 3658 )],\n",
    "    [redirector+f\"/2018/MC/ST_tW_antitop_5f_inclusiveDecays_TuneCP5_13TeV-powheg-pythia8/ST_tW_antitop_5f_inclusiveDecays_TuneCP5_13TeV-powheg-pythia8/231225_152806/0000/NANO_NANO_{i}.root\" for i in range( 1 , 141 )],\n",
    "    [redirector+f\"/2018/MC/ST_tW_top_5f_inclusiveDecays_TuneCP5_13TeV-powheg-pythia8/ST_tW_top_5f_inclusiveDecays_TuneCP5_13TeV-powheg-pythia8/231225_152821/0000/NANO_NANO_{i}.root\" for i in range( 1 , 166 )],\n",
    "    [redirector+f\"/2018/MC/WWTo1L1Nu2Q_4f_TuneCP5_13TeV-amcatnloFXFX-pythia8/WWTo1L1Nu2Q_4f_TuneCP5_13TeV-amcatnloFXFX-pythia8/231225_152850/0000/NANO_NANO_{i}.root\" for i in range( 1 , 741 )],\n",
    "    [redirector+f\"/2018/MC/WZTo1L1Nu2Q_4f_TuneCP5_13TeV-amcatnloFXFX-pythia8/WZTo1L1Nu2Q_4f_TuneCP5_13TeV-amcatnloFXFX-pythia8/231225_152904/0000/NANO_NANO_{i}.root\" for i in range( 1 , 142 )],\n",
    "    [redirector+f\"/2018/MC/WZTo1L3Nu_4f_TuneCP5_13TeV-amcatnloFXFX-pythia8/WZTo1L3Nu_4f_TuneCP5_13TeV-amcatnloFXFX-pythia8/231225_153046/0000/NANO_NANO_{i}.root\" for i in range( 1 , 68 )],\n",
    "    [redirector+f\"/2018/MC/WZTo2Q2L_mllmin4p0_TuneCP5_13TeV-amcatnloFXFX-pythia8/WZTo2Q2L_mllmin4p0_TuneCP5_13TeV-amcatnloFXFX-pythia8/231225_152919/0000/NANO_NANO_{i}.root\" for i in range( 1 , 514 )],\n",
    "    [redirector+f\"/2018/MC/ZZTo2Nu2Q_5f_TuneCP5_13TeV-amcatnloFXFX-pythia8/ZZTo2Nu2Q_5f_TuneCP5_13TeV-amcatnloFXFX-pythia8/231225_153100/0000/NANO_NANO_{i}.root\" for i in range( 1 , 49 )],\n",
    "    [redirector+f\"/2018/MC/ZZTo2Nu2Q_5f_TuneCP5_13TeV-amcatnloFXFX-pythia8/ZZTo2Nu2Q_5f_TuneCP5_13TeV-amcatnloFXFX-pythia8/231225_153100/0000/NANO_NANO_{i}.root\" for i in range( 50 , 121 )],\n",
    "    [redirector+f\"/2018/MC/ZZTo2Q2L_mllmin4p0_TuneCP5_13TeV-amcatnloFXFX-pythia8/ZZTo2Q2L_mllmin4p0_TuneCP5_13TeV-amcatnloFXFX-pythia8/231225_152934/0000/NANO_NANO_{i}.root\" for i in range( 1 , 598 )],\n",
    "    [redirector+f\"/2018/MC/ZZTo4L_TuneCP5_13TeV_powheg_pythia8/ZZTo4L_TuneCP5_13TeV_powheg_pythia8/231225_152835/0000/NANO_NANO_{i}.root\" for i in range( 1 , 1000 )],\n",
    "    [redirector+f\"/2018/MC/ZZTo4L_TuneCP5_13TeV_powheg_pythia8/ZZTo4L_TuneCP5_13TeV_powheg_pythia8/231225_152835/0001/NANO_NANO_{i}.root\" for i in range( 1000 , 1318 )]\n",
    "))\n",
    "\n",
    "Data_arr = np.concatenate((\n",
    "    [redirector2+f\"/2018/Data/SingleMu/SingleMuon/Run2018A-UL2018_MiniAODv2_GT36-v2/231222_133142/0000/NANO_NANO_{i}.root\" for i in range( 1 , 1000 )],\n",
    "    [redirector2+f\"/2018/Data/SingleMu/SingleMuon/Run2018A-UL2018_MiniAODv2_GT36-v2/231222_133142/0001/NANO_NANO_{i}.root\" for i in range( 1000 , 2000 )],\n",
    "    [redirector2+f\"/2018/Data/SingleMu/SingleMuon/Run2018A-UL2018_MiniAODv2_GT36-v2/231222_133142/0002/NANO_NANO_{i}.root\" for i in range( 2000 , 2963 )],\n",
    "    [redirector2+f\"/2018/Data/SingleMu/SingleMuon/Run2018B-UL2018_MiniAODv2_GT36-v2/231222_133202/0000/NANO_NANO_{i}.root\" for i in range( 1 , 1000 )],\n",
    "    [redirector2+f\"/2018/Data/SingleMu/SingleMuon/Run2018B-UL2018_MiniAODv2_GT36-v2/231222_133202/0001/NANO_NANO_{i}.root\" for i in range( 1000 , 1370 )],\n",
    "    [redirector2+f\"/2018/Data/SingleMu/SingleMuon/Run2018C-UL2018_MiniAODv2_GT36-v3/231222_133222/0000/NANO_NANO_{i}.root\" for i in range( 1 , 1000 )],\n",
    "    [redirector2+f\"/2018/Data/SingleMu/SingleMuon/Run2018C-UL2018_MiniAODv2_GT36-v3/231222_133222/0001/NANO_NANO_{i}.root\" for i in range( 1000 , 1297 )],\n",
    "    [redirector2+f\"/2018/Data/SingleMu/SingleMuon/Run2018D-UL2018_MiniAODv2_GT36-v2/231222_133242/0000/NANO_NANO_{i}.root\" for i in range( 1 , 1000 )],\n",
    "    [redirector2+f\"/2018/Data/SingleMu/SingleMuon/Run2018D-UL2018_MiniAODv2_GT36-v2/231222_133242/0001/NANO_NANO_{i}.root\" for i in range( 1000 , 2000 )],\n",
    "    [redirector2+f\"/2018/Data/SingleMu/SingleMuon/Run2018D-UL2018_MiniAODv2_GT36-v2/231222_133242/0002/NANO_NANO_{i}.root\" for i in range( 2000 , 3000 )],\n",
    "    [redirector2+f\"/2018/Data/SingleMu/SingleMuon/Run2018D-UL2018_MiniAODv2_GT36-v2/231222_133242/0003/NANO_NANO_{i}.root\" for i in range( 3000 , 4000 )],\n",
    "    [redirector2+f\"/2018/Data/SingleMu/SingleMuon/Run2018D-UL2018_MiniAODv2_GT36-v2/231222_133242/0004/NANO_NANO_{i}.root\" for i in range( 4000 , 5000 )],\n",
    "    [redirector2+f\"/2018/Data/SingleMu/SingleMuon/Run2018D-UL2018_MiniAODv2_GT36-v2/231222_133242/0005/NANO_NANO_{i}.root\" for i in range( 5000 , 5591 )],\n",
    "))\n",
    "dy_fileset = {\n",
    "    \"DYJets\": DYJetsArr.tolist(),\n",
    "}\n",
    "wjets_fileset = {\n",
    "    \"WJets\": WJetsArr.tolist(),\n",
    "}\n",
    "TT_fileset = {\n",
    "    \"TT\": TTArr.tolist(),\n",
    "}\n",
    "VV_fileset = {\n",
    "    \"VV\": VV_arr.tolist(),\n",
    "}\n",
    "Data_fileset = {\n",
    "    \"Data\": Data_arr.tolist(),\n",
    "}\n",
    "mt_fileset = {\n",
    "    \"DYJets\": \n",
    "        DYJetsArr.tolist(),\n",
    "    \"WJets\":\n",
    "        WJetsArr.tolist(),\n",
    "    \"TT\":\n",
    "        TTArr.tolist(),\n",
    "    \"VV\":\n",
    "        VV_arr.tolist(),\n",
    "    \"Data\": \n",
    "        Data_arr.tolist(),\n",
    "}\n",
    "\n",
    "inputs = []\n",
    "for label in mt_fileset:\n",
    "    input = [get_tree(url) for url in mt_fileset[label]]\n",
    "    inputs = np.append(inputs, input)\n",
    "inputs\n",
    "\n",
    "\n",
    "\n",
    "#(redirector+f\" /2018/MC/GluGluToBulkGravitonToHHTo2B2Tau_M-1250_TuneCP5_PSWeights_narrow_13TeV-madgraph-pythia8/GluGluToBulkGravitonToHHTo2B2Tau_M-1250_TuneCP5_PSWeights_narrow_13TeV-madgraph-pythia8/240505_231000/0000 /NANO_NANO_{i}.root\" for i in range( 1 , 3 )),\n",
    "#(redirector+f\" /2018/MC/GluGluToBulkGravitonToHHTo2B2Tau_M-1500_TuneCP5_PSWeights_narrow_13TeV-madgraph-pythia8/GluGluToBulkGravitonToHHTo2B2Tau_M-1500_TuneCP5_PSWeights_narrow_13TeV-madgraph-pythia8/240505_231017/0000 /NANO_NANO_{i}.root\" for i in range( 1 , 4 )),\n",
    "#(redirector+f\" /2018/MC/GluGluToBulkGravitonToHHTo2B2Tau_M-1750_TuneCP5_PSWeights_narrow_13TeV-madgraph-pythia8/GluGluToBulkGravitonToHHTo2B2Tau_M-1750_TuneCP5_PSWeights_narrow_13TeV-madgraph-pythia8/240505_231033/0000 /NANO_NANO_{i}.root\" for i in range( 1 , 5 )),\n",
    "#(redirector+f\" /2018/MC/GluGluToBulkGravitonToHHTo2B2Tau_M-2000_TuneCP5_PSWeights_narrow_13TeV-madgraph-pythia8/GluGluToBulkGravitonToHHTo2B2Tau_M-2000_TuneCP5_PSWeights_narrow_13TeV-madgraph-pythia8/240505_231052/0000 /NANO_NANO_{i}.root\" for i in range( 1 , 5 )),\n",
    "#(redirector+f\" /2018/MC/GluGluToBulkGravitonToHHTo2B2Tau_M-2500_TuneCP5_PSWeights_narrow_13TeV-madgraph-pythia8/GluGluToBulkGravitonToHHTo2B2Tau_M-2500_TuneCP5_PSWeights_narrow_13TeV-madgraph-pythia8/240505_231108/0000 /NANO_NANO_{i}.root\" for i in range( 1 , 4 )),\n",
    "#(redirector+f\" /2018/MC/GluGluToBulkGravitonToHHTo2B2Tau_M-3000_TuneCP5_PSWeights_narrow_13TeV-madgraph-pythia8/GluGluToBulkGravitonToHHTo2B2Tau_M-3000_TuneCP5_PSWeights_narrow_13TeV-madgraph-pythia8/240505_231124/0000 /NANO_NANO_{i}.root\" for i in range( 1 , 7 )),\n",
    "#[redirector+f\"/2018/MC/RadionTohhTohtatahbb_narrow_M-1000_TuneCP5_13TeV-madgraph-pythia8/RadionTohhTohtatahbb_narrow_M-1000_TuneCP5_13TeV-madgraph-pythia8/231225_152357/0000/NANO_NANO_{i}.root\" for i in range( 1 , 4 )],\n",
    "#    [redirector+f\"/2018/MC/RadionTohhTohtatahbb_narrow_M-1200_TuneCP5_13TeV-madgraph-pythia8/RadionTohhTohtatahbb_narrow_M-1200_TuneCP5_13TeV-madgraph-pythia8/231225_152411/0000/NANO_NANO_{i}.root\" for i in range( 1 , 4 )],\n",
    "#    [redirector+f\"/2018/MC/RadionTohhTohtatahbb_narrow_M-1400_TuneCP5_13TeV-madgraph-pythia8/RadionTohhTohtatahbb_narrow_M-1400_TuneCP5_13TeV-madgraph-pythia8/231225_152425/0000/NANO_NANO_{i}.root\" for i in range( 1 , 4 )],\n",
    "#    [redirector+f\"/2018/MC/RadionTohhTohtatahbb_narrow_M-1600_TuneCP5_13TeV-madgraph-pythia8/RadionTohhTohtatahbb_narrow_M-1600_TuneCP5_13TeV-madgraph-pythia8/231225_152948/0000/NANO_NANO_{i}.root\" for i in range( 1 , 8 )],\n",
    "#   [redirector+f\"/2018/MC/RadionTohhTohtatahbb_narrow_M-1800_TuneCP5_13TeV-madgraph-pythia8/RadionTohhTohtatahbb_narrow_M-1800_TuneCP5_13TeV-madgraph-pythia8/231225_152440/0000/NANO_NANO_{i}.root\" for i in range( 1 , 4 )],\n",
    "#  [redirector+f\"/2018/MC/RadionTohhTohtatahbb_narrow_M-2000_TuneCP5_13TeV-madgraph-pythia8/RadionTohhTohtatahbb_narrow_M-2000_TuneCP5_13TeV-madgraph-pythia8/231225_152455/0000/NANO_NANO_{i}.root\" for i in range( 1 , 5 )],\n",
    "#  [redirector+f\"/2018/MC/RadionTohhTohtatahbb_narrow_M-2500_TuneCP5_13TeV-madgraph-pythia8/RadionTohhTohtatahbb_narrow_M-2500_TuneCP5_13TeV-madgraph-pythia8/231225_153003/0000/NANO_NANO_{i}.root\" for i in range( 1 , 11 )],\n",
    "#  [redirector+f\"/2018/MC/RadionTohhTohtatahbb_narrow_M-3000_TuneCP5_13TeV-madgraph-pythia8/RadionTohhTohtatahbb_narrow_M-3000_TuneCP5_13TeV-madgraph-pythia8/231225_152509/0000/NANO_NANO_{i}.root\" for i in range( 1 , 4 )],\n",
    "#  [redirector+f\"/2018/MC/RadionTohhTohtatahbb_narrow_M-3500_TuneCP5_13TeV-madgraph-pythia8/RadionTohhTohtatahbb_narrow_M-3500_TuneCP5_13TeV-madgraph-pythia8/231225_152523/0000/NANO_NANO_{i}.root\" for i in range( 1 , 4 )],\n",
    "#  [redirector+f\"/2018/MC/RadionTohhTohtatahbb_narrow_M-4000_TuneCP5_13TeV-madgraph-pythia8/RadionTohhTohtatahbb_narrow_M-4000_TuneCP5_13TeV-madgraph-pythia8/231225_152538/0000/NANO_NANO_{i}.root\" for i in range( 1 , 4 )],\n",
    "#  [redirector+f\"/2018/MC/RadionTohhTohtatahbb_narrow_M-4500_TuneCP5_13TeV-madgraph-pythia8/RadionTohhTohtatahbb_narrow_M-4500_TuneCP5_13TeV-madgraph-pythia8/231225_152552/0000/NANO_NANO_{i}.root\" for i in range( 1 , 5 )]\n",
    "        "
   ]
  },
  {
   "cell_type": "code",
   "execution_count": 5,
   "id": "f58fbeab-a8bc-46b4-9606-de9ac7b09ecf",
   "metadata": {},
   "outputs": [
    {
     "name": "stderr",
     "output_type": "stream",
     "text": [
      "/opt/conda/lib/python3.10/site-packages/coffea/util.py:154: FutureWarning: In coffea version <unknown>, this will be an error.\n",
      "(Set coffea.deprecations_as_errors = True to get a stack trace now.)\n",
      "RuntimeError: The support for TGraph-types will be removed in a future coffea release. In case you need support for TGraph-type, please submit an issue to `https://github.com/CoffeaTeam/coffea/issues`.\n",
      "  warnings.warn(message, FutureWarning)\n"
     ]
    }
   ],
   "source": [
    "ext = extractor()\n",
    "ext.add_weight_sets([\"IDCorr NUM_LooseID_DEN_genTracks_pt_abseta ./RunBCDEF_SF_ID.root\", \"Trg50Corr Mu50_OR_TkMu50_PtEtaBins/pt_abseta_ratio ./Trigger_EfficienciesAndSF_RunBtoF.root\", \"Trg27Corr IsoMu24_OR_IsoTkMu24_PtEtaBins/pt_abseta_ratio ./Trigger_EfficienciesAndSF_RunBtoF.root\", \"IsoCorr NUM_LooseRelIso_DEN_LooseID_pt_abseta ./RunBCDEF_SF_ISO.root\", \"pTCorr Ratio2D ./zmm_2d_2018.root\"])\n",
    "ext.finalize()\n",
    "evaluator = ext.make_evaluator()"
   ]
  },
  {
   "cell_type": "code",
   "execution_count": 6,
   "id": "d1205773-0d11-4e04-af94-ab602365a781",
   "metadata": {},
   "outputs": [],
   "source": [
    "evaluator_pu = correctionlib.CorrectionSet.from_file(\"./puWeights.json\")"
   ]
  },
  {
   "cell_type": "code",
   "execution_count": 7,
   "id": "2af29a58-ebde-4aff-8af1-a9c8cccb4318",
   "metadata": {},
   "outputs": [],
   "source": [
    "def bit_mask(bit):\n",
    "      mask = 0\n",
    "      mask += (1 << bit)\n",
    "      return mask"
   ]
  },
  {
   "cell_type": "code",
   "execution_count": 8,
   "id": "9c4fbda3-78f9-4c6c-95df-511bf25a931d",
   "metadata": {},
   "outputs": [],
   "source": [
    "def weightCalc(name):\n",
    "      WScaleFactor = 1.21\n",
    "      TT_FulLep_BR= 0.1061\n",
    "      TT_SemiLep_BR= 0.4392\n",
    "      TT_Had_BR= 0.4544\n",
    "\n",
    "      if \"Radion\" in name: return 1\n",
    "      elif \"DYJets\" in name:\n",
    "         if \"50To100\" in name: return 397.4\n",
    "         elif \"100To250\" in name: return 97.2\n",
    "         elif \"0To50\" in name: return 1485\n",
    "         elif \"250To400\" in name: return 3.701\n",
    "         elif \"400To650\" in name: return 0.5086\n",
    "         elif \"650ToInf\" in name: return 0.04728\n",
    "         elif \"100to200\" in name: return 160.7\n",
    "         elif \"200to400\" in name: return 48.63\n",
    "         elif \"400to600\" in name: return 6.993\n",
    "         elif \"600to800\" in name: return 1.761\n",
    "         elif \"800to1200\" in name: return .8021\n",
    "         elif \"1200to2500\" in name: return .1937\n",
    "         elif \"2500toInf\" in name: return .003514\n",
    "      elif \"WJets\" in name:\n",
    "         if \"100To200\" in name: return 1256\n",
    "         elif \"70To100\" in name: return 1264\n",
    "         elif \"200To400\" in name: return 335.5\n",
    "         elif \"400To600\" in name: return 45.25\n",
    "         elif \"600To800\" in name: return 91.16\n",
    "         elif \"800To1200\" in name: return 4.933\n",
    "         elif \"1200To2500\" in name: return 1.16\n",
    "         elif \"2500ToInf\" in name: return 0.008001 \n",
    "      elif \"QCD\" in name:\n",
    "         if \"300to500\" in name: return 347700\n",
    "         elif \"500to700\" in name: return 32100\n",
    "         elif \"700to1000\" in name: return 6831\n",
    "         elif \"1000to1500\" in name: return 1207\n",
    "         elif \"1500to2000\" in name: return 119.9\n",
    "         elif \"2000toInf\" in name: return 25.24\n",
    "      elif \"ggH125\" in name: return 48.30 * 0.0621\n",
    "      elif \"ggZHLL125\" in name: return 0.1223 * 0.062 * 3 * 0.033658\n",
    "      elif \"ggZHNuNu125\" in name: return 0.1223 * 0.062 * 0.2000\n",
    "      elif \"ggZHQQ125\" in name: return 0.1223 * 0.062 * 0.6991\n",
    "      elif \"JJH0\" in name:\n",
    "         if \"OneJet\" in name: return 0.1383997884\n",
    "         elif \"TwoJet\" in name: return 0.2270577971\n",
    "         elif \"ZeroJet\" in name: return 0.3989964912\n",
    "      elif \"qqH125\" in name: return 3.770 * 0.0621\n",
    "      elif \"Tbar-tchan\" in name: return  26.23\n",
    "      elif \"Tbar-tW\" in name: return 35.6\n",
    "      elif \"toptopH125\" in name: return 0.5033 * 0.062\n",
    "      elif \"T-tchan.root\" in name: return 44.07\n",
    "      elif \"T-tW\" in name: return 35.6\n",
    "      elif \"TTT\" in name:\n",
    "         if \"2L2Nu\" in name: return 87.31\n",
    "         if \"Hadronic\" in name: return 378.93\n",
    "         if \"SemiLeptonic\" in name: return 364.35\n",
    "      elif \"VV2l2nu\" in name: return 11.95\n",
    "      elif \"WMinus\" in name: return 0.5272 * 0.0621\n",
    "      elif \"WPlus\" in name: return 0.8331 * 0.0621\n",
    "      elif \"WZ\" in name:\n",
    "         if \"1L1Nu\" in name: return 10.71\n",
    "         elif \"1L3Nu\" in name: return 3.05\n",
    "         elif \"2Q2L\" in name: return 6.419\n",
    "      elif \"WWTo1L1Nu\" in name: return 49.997\n",
    "      elif \"ZH125\" in name: return 0.7544 * 0.0621\n",
    "      elif \"ZZTo2Q2L\" in name: return 3.22\n",
    "      elif \"ZZTo4L\" in name: return 1.325\n",
    "      elif \"ZZTo2Nu2Q\" in name: return 4.04\n",
    "      elif \"RadionTohhTohtatahbb_narrow_M\" in name:\n",
    "         if \"1000\" in name: return\n",
    "         elif \"1000\" in name: return 1\n",
    "         elif \"1200\" in name: return 1\n",
    "         elif \"1400\" in name: return 1\n",
    "         elif \"1600\" in name: return 1\n",
    "         elif \"1800\" in name: return 1\n",
    "         elif \"2000\" in name: return 1\n",
    "         elif \"2500\" in name: return 1\n",
    "         elif \"3000\" in name: return 1\n",
    "         elif \"3500\" in name: return 1\n",
    "         elif \"4000\" in name: return 1\n",
    "         elif \"4500\" in name: return 1\n",
    "      elif \"ST_t-channel\" in name:\n",
    "         if \"4f_leptonDecays\" in name: return 3.549\n",
    "         elif \"antitop_4f_InclusiveDecays\" in name: return 69.09\n",
    "         elif \"top_4f_InclusiveDecays\" in name: return 115.3\n",
    "         elif \"antitop_5f_inclusiveDecays\" in name: return 34.97\n",
    "         elif \"top_5f_inclusiveDecays\" in name: return 34.91\n",
    "      else: print(\"Something's Wrong!\")\n",
    "      return 1.0"
   ]
  },
  {
   "cell_type": "code",
   "execution_count": 9,
   "id": "d72baf7a-ec04-450e-a07e-b5fbd55702ec",
   "metadata": {},
   "outputs": [],
   "source": [
    "class MyProcessor(processor.ProcessorABC):\n",
    "    def __init__(self):\n",
    "        ak.behavior.update(nanoaod.behavior)\n",
    "        self._accumulator = {}\n",
    "    \n",
    "    @property\n",
    "    def accumulator(self):\n",
    "        return self._accumulator\n",
    "\n",
    "    def process(self,events):\n",
    "        dataset = events.metadata[\"dataset\"]\n",
    "\n",
    "        ax = hist.axis.Regular(30, 0, 150, flow=False, name=\"mass\", label=dataset)\n",
    "        \n",
    "        output = {}\n",
    "        eventCount = len(events)\n",
    "    \n",
    "        output[dataset] =  {\n",
    "            \"mass\": Hist(ax, storage=hist.storage.Weight()),\n",
    "            \"ss_mass\": Hist(ax, storage=hist.storage.Weight()),\n",
    "        }      \n",
    "        \n",
    "        \n",
    "        name = str(events.metadata[\"filename\"])\n",
    "        XSection = weightCalc(name)\n",
    "\n",
    "        electron = events.Electron\n",
    "        ele_cut = (electron.pt >= 15) & (np.abs(electron.eta) <= 2.5)\n",
    "        lowMVAele = electron[(np.abs(electron.eta) <= 0.8) & (electron.mvaIso_WPL) & ele_cut] # (electron.mvaFall17V2Iso > -0.83)\n",
    "        midMVAele = electron[(np.abs(electron.eta) > 0.8) & (np.abs(electron.eta) <= 1.5) & (electron.mvaIso_WPL) & ele_cut] #electron.mvaFall17V2Iso > -0.77\n",
    "        highMVAele = electron[(np.abs(electron.eta) >= 1.5) & (electron.mvaIso_WPL) & ele_cut] # (electron.mvaFall17V2Iso > -0.69)\n",
    "        if not ak.any((ak.num(lowMVAele) == 0) & (ak.num(midMVAele) == 0) & (ak.num(highMVAele) == 0)): return output\n",
    "        events = events[(ak.num(lowMVAele) == 0) & (ak.num(midMVAele) == 0) & (ak.num(highMVAele) == 0)]\n",
    "\n",
    "        #Extra muon veto\n",
    "        muon = events.Muon\n",
    "        muon = muon[ak.num(muon) > 1]\n",
    "        badMuon = muon[(np.abs(muon.pfRelIso04_all) > 0.3) & (muon[:,1].pt > 10) & (muon.tightId)] #tightId instead of bitwise thing\n",
    "        if not ak.any((ak.num(muon) > 0) & (ak.num(badMuon) == 0)): return output\n",
    "        events = events[(ak.num(muon) > 0) & (ak.num(badMuon) == 0)]\n",
    "\n",
    "        #BJets\n",
    "        jets = events.Jet\n",
    "        goodJets= jets[(jets.jetId > 0.5) & (jets.pt > 30) & (np.abs(jets.eta) < 3.0)]\n",
    "        HT = ak.sum(goodJets.pt, axis=-1)\n",
    "\n",
    "        #BJet Veto \n",
    "        #!!!!!!!!!!!!!!!!!!!!!!!!!!!!!!!!!!!!!!!!! change btagdeepflavb for each year https://btv-wiki.docs.cern.ch/ScaleFactors/UL2018/\n",
    "        bJets = jets[(jets.btagDeepFlavB > .7100) & (jets.jetId > .5) & (jets.pt > 30) & (np.abs(jets.eta) < 2.4)]\n",
    "        if not ak.any((ak.num(jets) > 0) & (HT > 200) & (ak.num(bJets) == 0)): return output\n",
    "        events = events[(ak.num(jets) > 0) & (HT > 200) & (ak.num(bJets) == 0)]\n",
    "        if not ak.any(events) or len(events) == 0:\n",
    "            vismass = []\n",
    "            ss_vismass = []\n",
    "            output[dataset][\"mass\"].fill(mass=vismass)\n",
    "            output[dataset][\"ss_mass\"].fill(mass=ss_vismass)\n",
    "        if not ak.all((ak.num(events.Muon) > 0) & (ak.num(events.boostedTau) > 0), axis = -1):\n",
    "            vismass = []\n",
    "            ss_vismass = []\n",
    "            output[dataset][\"mass\"].fill(mass=vismass)\n",
    "            output[dataset][\"ss_mass\"].fill(mass=ss_vismass)\n",
    "            return output\n",
    "        mtEvents = events[ak.all((ak.num(events.Muon) > 0) & (ak.num(events.boostedTau) > 0), axis = -1)]\n",
    "        muonC = mtEvents.Muon\n",
    "        tauC = mtEvents.boostedTau\n",
    "        metC = mtEvents.MET\n",
    "        HLT = mtEvents.HLT\n",
    "        \n",
    "        muon = ak.zip( \n",
    "    \t{\n",
    "\t\t\"pt\": muonC.pt,\n",
    "        \"eta\": muonC.eta,\n",
    "\t\t\"phi\": muonC.phi,\n",
    "\t\t\"mass\": muonC.mass,\n",
    "\t\t},\n",
    "    \twith_name=\"PtEtaPhiMLorentzVector\",\n",
    "        behavior=vector.behavior,\n",
    "    \t)\n",
    "        \n",
    "        tau = ak.zip( \n",
    "\t\t{\n",
    "\t\t\"pt\": tauC.pt,\n",
    "        \"eta\": tauC.eta,\n",
    "        \"phi\": tauC.phi,\n",
    "\t\t\"mass\": tauC.mass,\n",
    "\t\t},\n",
    "    \twith_name=\"PtEtaPhiMLorentzVector\",\n",
    "    \tbehavior=vector.behavior,\n",
    "    \t)\n",
    "\n",
    "        #Split into pairs\n",
    "        pairs = ak.cartesian({'tau': tau, 'muon': muon}, nested=False)\n",
    "        pairsC = ak.cartesian({'tau': tauC, 'muon': muonC}, nested=False)\n",
    "        metPairs = ak.cartesian({'met': metC, 'muon': pairsC['muon']}, nested=False)\n",
    "        PUPairs = ak.cartesian({'PU': np.rint(events.Pileup.nTrueInt), 'muon': pairsC['muon']}, nested=False)\n",
    "\n",
    "        #Delta r cut\n",
    "        dr = pairs['tau'].delta_r(pairs['muon'])\n",
    "        #ID Cut\n",
    "        MuID = (pairsC['muon'].tightId) & (np.abs(pairsC['muon'].dz) < 0.2)  # & (np.abs(pairsC['muon'].dxy) < 0.045)\n",
    "        #Apply everything at once\n",
    "\n",
    "        muTau_mask27 = ((np.abs(pairs['muon'].eta) < 2.4)\n",
    "              & (MuID)\n",
    "              & (pairs['muon'].pt >= 27)\n",
    "              & (pairs['muon'].pt < 52)\n",
    "              & (pairsC['muon'].pfRelIso04_all <= .3)\n",
    "              & (metPairs['met'].pt > 30)\n",
    "              & (pairs['tau'].pt > 30)\n",
    "              & (HLT.Mu27)\n",
    "              & (np.absolute(pairs['tau'].eta) < 2.3)\n",
    "              & (pairsC['tau'].idAntiMu > 0)\n",
    "              & (pairsC['tau'].idDecayModeOldDMs)\n",
    "              & (dr > .1) \n",
    "              & (dr < .8))\n",
    "        muTau_mask50 = ((np.abs(pairs['muon'].eta) < 2.4)\n",
    "              & (MuID)\n",
    "              & (pairs['muon'].pt >= 52)\n",
    "              & (HLT.Mu50)\n",
    "              & (pairs['tau'].pt > 30)\n",
    "              & (np.absolute(pairs['tau'].eta) < 2.3)\n",
    "              & (pairsC['tau'].idAntiMu > 0)\n",
    "              & (pairsC['tau'].idDecayModeOldDMs)\n",
    "              & (dr > .1) \n",
    "              & (dr < .8))\n",
    "        \n",
    "         #If everything cut return 0 (to avoid pointer errors)\n",
    "        if not ak.any(muTau_mask27) and not ak.any(muTau_mask50):\n",
    "            vismass = []\n",
    "            ss_vismass = []\n",
    "            output[dataset][\"mass\"].fill(mass=vismass)\n",
    "            output[dataset][\"ss_mass\"].fill(mass=ss_vismass)\n",
    "            return output\n",
    "        \n",
    "        pairs = pairs[(muTau_mask27) | (muTau_mask50)]\n",
    "        pairsC = pairsC[(muTau_mask27) | (muTau_mask50)]\n",
    "        metPairs = metPairs[(muTau_mask27) | (muTau_mask50)]\n",
    "        PUPairs = PUPairs[(muTau_mask27) | (muTau_mask50)]\n",
    "\n",
    "        #Separate based on charge\n",
    "        pairs = pairs[pairsC['tau'].charge + pairsC['muon'].charge == 0]\n",
    "        #SS_pairs = pairs[pairsC['tau'].charge + pairsC['muon'].charge != 0]\n",
    "        pairsC = pairsC[pairsC['tau'].charge + pairsC['muon'].charge == 0]\n",
    "        #SS_pairsC = pairsC[pairsC['tau'].charge + pairsC['muon'].charge != 0]\n",
    "\n",
    "  \n",
    "        \n",
    "        #Separate based on trigger again\n",
    "        pairs_50 = pairs[pairs['muon'].pt >= 52]\n",
    "        pairs_27 = pairs[pairs['muon'].pt < 52]\n",
    "        #SS_50 = SS_pairs[SS_pairs['muon'].pt >= 52]\n",
    "        #SS_27 = SS_pairs[SS_pairs['muon'].pt < 52]\n",
    "\n",
    "        \n",
    "        pairs_50C = pairsC[pairs['muon'].pt >= 52]\n",
    "        pairs_27C = pairsC[pairs['muon'].pt < 52]\n",
    "        #SS_50C = SS_pairsC[SS_pairs['muon'].pt >= 52]\n",
    "        #SS_27C = SS_pairsC[SS_pairs['muon'].pt < 52]\n",
    "        \n",
    "        #If everything cut return 0 (to avoid pointer errors)\n",
    "        if ak.sum(pairs['muon'].mass) == 0:\n",
    "            return output\n",
    "                               \n",
    "        \n",
    "        #met50 = metPairs[(pairsC['tau'].charge + pairsC['muon'].charge == 0)]\n",
    "        met50 = metPairs[(pairs['muon'].pt >= 52)]\n",
    "        \n",
    "        #OSmet27 = metPairs[(pairsC['tau'].charge + pairsC['muon'].charge == 0)]\n",
    "        met27 = metPairs[(pairs['muon'].pt < 52)]\n",
    "        #SSmet50 = metPairs[(pairsC['tau'].charge + pairsC['muon'].charge != 0)]\n",
    "        #SSmet50 = SSmet50[(SS_pairs['muon'].pt >= 52)]\n",
    "        #SSmet27 = metPairs[(pairsC['tau'].charge + pairsC['muon'].charge != 0)]\n",
    "        #SSmet27 = SSmet27[(SS_pairs['muon'].pt < 52)]\n",
    "\n",
    "        #OSPU50 = PUPairs[(pairsC['tau'].charge + pairsC['muon'].charge == 0)]\n",
    "        PU50 = PUPairs[(pairs['muon'].pt >= 52)]\n",
    "        #OSPU27 = PUPairs[(pairsC['tau'].charge + pairsC['muon'].charge == 0)]\n",
    "        PU27 = PUPairs[(pairs['muon'].pt < 52)]\n",
    "        #SSPU50 = PUPairs[(pairsC['tau'].charge + pairsC['muon'].charge != 0)]\n",
    "        #SSPU50 = SSPU50[(SS_pairs['muon'].pt >= 52)]\n",
    "        #SSPU27 = PUPairs[(pairsC['tau'].charge + pairsC['muon'].charge != 0)]\n",
    "        #SSPU27 = SSPU27[(SS_pairs['muon'].pt < 52)]\n",
    "\n",
    "        #TMass Cut\n",
    "        tmass50 = np.sqrt(np.square(pairs_50['muon'].pt + met50['met'].pt) - np.square(pairs_50['muon'].px + met50['met'].pt * np.cos(met50['met'].phi)) - np.square(pairs_50['muon'].py + met50['met'].pt * np.sin(met50['met'].phi)))\n",
    "        tmass27 = np.sqrt(np.square(pairs_27['muon'].pt + met27['met'].pt) - np.square(pairs_27['muon'].px + met27['met'].pt * np.cos(met27['met'].phi)) - np.square(pairs_27['muon'].py + met27['met'].pt * np.sin(met27['met'].phi)))\n",
    "\n",
    "        if not ak.any(tmass50 < 80) and not ak.any(tmass27 < 80): return output\n",
    "            \n",
    "        pairs_50 = pairs_50[tmass50 < 80]\n",
    "        pairs_27 = pairs_27[tmass27 < 80]\n",
    "        pairs_50C = pairs_50C[tmass50 < 80]\n",
    "        pairs_27C = pairs_27C[tmass27 < 80]\n",
    "\n",
    "        met50 = met50[tmass50 < 80]\n",
    "        met27 = met27[tmass27 < 80]\n",
    "        PU50 = PU50[tmass50 < 80]\n",
    "        PU27 = PU27[tmass27 < 80]\n",
    "\n",
    "        OSmet50 = met50[(pairs_50C['tau'].charge + pairs_50C['muon'].charge == 0)]\n",
    "        OSmet27 = met27[(pairs_27C['tau'].charge + pairs_27C['muon'].charge == 0)]\n",
    "        SSmet50 = met50[(pairs_50C['tau'].charge + pairs_50C['muon'].charge != 0)]\n",
    "        SSmet27 = met27[(pairs_27C['tau'].charge + pairs_27C['muon'].charge != 0)]\n",
    "\n",
    "        OSPU50 = PU50[(pairs_50C['tau'].charge + pairs_50C['muon'].charge == 0)]\n",
    "        OSPU27 = PU27[(pairs_27C['tau'].charge + pairs_27C['muon'].charge == 0)]\n",
    "        SSPU50 = PU50[(pairs_50C['tau'].charge + pairs_50C['muon'].charge != 0)]\n",
    "        SSPU27 = PU27[(pairs_27C['tau'].charge + pairs_27C['muon'].charge != 0)]\n",
    "        #tmass50_SS = np.sqrt(np.square(SS_50['muon'].pt + SSmet50['met'].pt) - np.square(SS_50['muon'].px + SSmet50['met'].pt * np.cos(SSmet50['met'].phi)) - np.square(SS_50['muon'].py + SSmet50['met'].pt * np.sin(SSmet50['met'].phi)))\n",
    "        #tmass27_SS = np.sqrt(np.square(SS_27['muon'].pt + SSmet27['met'].pt) - np.square(SS_27['muon'].px + SSmet27['met'].pt * np.cos(SSmet27['met'].phi)) - np.square(SS_27['muon'].py + SSmet27['met'].pt * np.sin(SSmet27['met'].phi)))\n",
    "\n",
    "        \n",
    "        #SS_50 = SS_50[tmass50_SS < 80]\n",
    "        #SS_27 = SS_27[tmass27_SS < 80]\n",
    "        #SS_50C = SS_50C[tmass50_SS < 80]\n",
    "        #SS_27C = SS_27C[tmass27_SS < 80]\n",
    "\n",
    "        #SSmet50 = SSmet50[tmass50_SS < 80]\n",
    "        #SSmet27 = SSmet27[tmass27_SS < 80]\n",
    "        #SSPU50 = SSPU50[tmass50_SS < 80]\n",
    "        #SSPU27 = SSPU27[tmass27_SS < 80]\n",
    "        \n",
    "        #MET Vector\n",
    "        MetVec27 =  ak.zip(\n",
    "        {\n",
    "        \"pt\": met27['met'].pt,\n",
    "        \"eta\": 0,\n",
    "        \"phi\": met27['met'].phi,\n",
    "        \"mass\": 0,\n",
    "        },\n",
    "        with_name=\"PtEtaPhiMLorentzVector\",\n",
    "        behavior=vector.behavior,\n",
    "        ) \n",
    "        MetVec50 =  ak.zip(\n",
    "        {\n",
    "         \"pt\": met50['met'].pt,\n",
    "         \"eta\": 0,\n",
    "         \"phi\": met50['met'].phi,\n",
    "         \"mass\": 0,\n",
    "         },\n",
    "        with_name=\"PtEtaPhiMLorentzVector\",\n",
    "        behavior=vector.behavior,\n",
    "        ) \n",
    "        MetVec27_OS =  ak.zip(\n",
    "        {\n",
    "        \"pt\": OSmet27['met'].pt,\n",
    "        \"eta\": 0,\n",
    "        \"phi\": OSmet27['met'].phi,\n",
    "        \"mass\": 0,\n",
    "        },\n",
    "        with_name=\"PtEtaPhiMLorentzVector\",\n",
    "        behavior=vector.behavior,\n",
    "        ) \n",
    "        MetVec50_OS =  ak.zip(\n",
    "        {\n",
    "         \"pt\": OSmet50['met'].pt,\n",
    "         \"eta\": 0,\n",
    "         \"phi\": OSmet50['met'].phi,\n",
    "         \"mass\": 0,\n",
    "         },\n",
    "        with_name=\"PtEtaPhiMLorentzVector\",\n",
    "        behavior=vector.behavior,\n",
    "        )  \n",
    "        \n",
    "        MetVec27_SS =  ak.zip(\n",
    "        {\n",
    "         \"pt\": SSmet27['met'].pt,\n",
    "         \"eta\": 0,\n",
    "         \"phi\": SSmet27['met'].phi,\n",
    "         \"mass\": 0,\n",
    "         },\n",
    "        with_name=\"PtEtaPhiMLorentzVector\",\n",
    "        behavior=vector.behavior,\n",
    "        )  \n",
    "        MetVec50_SS =  ak.zip(\n",
    "        {\n",
    "         \"pt\": SSmet50['met'].pt,\n",
    "         \"eta\": 0,\n",
    "         \"phi\": SSmet50['met'].phi,\n",
    "         \"mass\": 0,\n",
    "         },\n",
    "        with_name=\"PtEtaPhiMLorentzVector\",\n",
    "        behavior=vector.behavior,\n",
    "        ) \n",
    "        \n",
    "        \n",
    "        #Make Z Vector\n",
    "        ZVec27 = pairs_27['tau'].add(pairs_27['muon'])\n",
    "        ZVec50 = pairs_50['tau'].add(pairs_50['muon'])\n",
    "        if ak.sum(ZVec27.mass) == 0 and ak.sum(ZVec50.mass) == 0:\n",
    "            vismass = []\n",
    "            ss_vismass = []\n",
    "            output[dataset][\"mass\"].fill(mass=vismass)\n",
    "            output[dataset][\"ss_mass\"].fill(mass=ss_vismass)\n",
    "            return output \n",
    "        \n",
    "        #Make Higgs Vector\n",
    "        Higgs50 = ZVec50.add(MetVec50)\n",
    "        Higgs27 = ZVec27.add(MetVec27)  \n",
    "\n",
    "        #Final ZVec Cuts\n",
    "        ZVec50 = ZVec50[(ZVec50.pt > 200) & (Higgs50.pt > 250)]\n",
    "        ZVec27 = ZVec27[(ZVec27.pt > 200) & (Higgs27.pt > 250)]\n",
    "        if ak.sum(ZVec27.mass) == 0 and ak.sum(ZVec50.mass) == 0:\n",
    "            return output \n",
    "            \n",
    "\n",
    "        \n",
    "        \n",
    "        if ak.sum(ZVec27.mass) == 0 and ak.sum(ZVec50.mass) == 0: return output\n",
    "        elif ak.sum(ZVec50.mass) == 0:\n",
    "            OSpairs_27 = pairs_27[(pairs_27C['muon'].charge + pairs_27C['tau'].charge == 0)]\n",
    "            OSpairs_27C = pairs_27C[pairs_27C['muon'].charge + pairs_27C['tau'].charge == 0]\n",
    "            \n",
    "            SSpairs_27 = pairs_27[pairs_27C['muon'].charge + pairs_27C['tau'].charge != 0]\n",
    "            SSpairs_27C = pairs_27C[pairs_27C['muon'].charge + pairs_27C['tau'].charge != 0]\n",
    "            \n",
    "            ZVec27_OS = OSpairs_27['tau'].add(OSpairs_27['muon'])\n",
    "            ZVec27_SS = SSpairs_27['tau'].add(SSpairs_27['muon'])\n",
    "\n",
    "            Higgs27_OS = ZVec27_OS.add(MetVec27_OS) \n",
    "            Higgs27_SS = ZVec27_SS.add(MetVec27_SS)\n",
    "\n",
    "            ZVec27_OS = ZVec27_OS[(ZVec27_OS.pt > 200) & (Higgs27_OS.pt > 250)]\n",
    "            ZVec27_SS = ZVec27_SS[(ZVec27_SS.pt > 200) & (Higgs27_SS.pt > 250)]\n",
    "\n",
    "            if not ak.any(ZVec27_SS.mass):\n",
    "                vismass = ak.flatten(ZVec27_OS.mass, axis=-1)\n",
    "                ss_vismass = []\n",
    "            else:\n",
    "                vismass = (ak.flatten(ZVec27_OS.mass, axis=-1))\n",
    "                ss_vismass = (ak.flatten(ZVec27_SS.mass, axis=-1))\n",
    "\n",
    "            shape = np.shape(vismass)\n",
    "            SS_shape = np.shape(ss_vismass)\n",
    "            \n",
    "            if XSection != 1:\n",
    "                #Luminosity (2018)\n",
    "                luminosity = 59830.\n",
    "                lumiWeight = (XSection * luminosity) / eventCount\n",
    "    \n",
    "                \n",
    "                #Shortcut names to make things easier\n",
    "                ZVec27pt = ak.flatten(ZVec27_OS.pt, axis=-1)\n",
    "                ZVec27eta = ak.flatten(ZVec27_OS.eta, axis=-1)\n",
    "                ZVec27_SSpt = ak.flatten(ZVec27_SS.pt, axis=-1)\n",
    "                ZVec27_SSeta = ak.flatten(ZVec27_SS.eta, axis=-1)\n",
    "                \n",
    "                Mu27IsoCorr = evaluator[\"IsoCorr\"](ZVec27pt, ZVec27eta)   #Iso\n",
    "                Mu27TrgCorr = evaluator[\"Trg27Corr\"](ZVec27pt, ZVec27eta) #Trigger\n",
    "                Mu27IDCorr = evaluator[\"IDCorr\"](ZVec27pt, ZVec27eta) #ID\n",
    "\n",
    "                puTrue27 = np.array(ak.flatten(OSPU27['PU'][ZVec27.pt > 200], axis=-1), dtype=np.int8) #Pileup\n",
    "                puWeight = evaluator_pu[\"Collisions18_UltraLegacy_goldenJSON\"].evaluate(puTrue27, 'nominal')\n",
    "\n",
    "                Mu27IsoCorr_SS = evaluator[\"IsoCorr\"](ZVec27_SSpt, ZVec27_SSeta)   \n",
    "                Mu27TrgCorr_SS = evaluator[\"Trg27Corr\"](ZVec27_SSpt, ZVec27_SSeta)   \n",
    "                Mu27IDCorr_SS = evaluator[\"IDCorr\"](ZVec27_SSpt, ZVec27_SSeta)  \n",
    "               \n",
    "                puTrue27_SS = np.array(ak.flatten(SSPU27['PU'][ZVec27_SS.pt > 200], axis=-1), dtype=np.int8)\n",
    "                puWeight_SS = evaluator_pu[\"Collisions18_UltraLegacy_goldenJSON\"].evaluate(puTrue27_SS, 'nominal')\n",
    "\n",
    "                if not ak.any(SS_shape):\n",
    "                    weights_OS = Weights(len(shape))\n",
    "                    weights_OS.add(\"MuIsoCorr\", Mu27IsoCorr)\n",
    "                    weights_OS.add(\"MuIDCorr\", Mu27IDCorr)\n",
    "                    weights_OS.add(\"MuTrgCorr\", Mu27TrgCorr)\n",
    "                    weights_OS.add(\"PUCorrection\", puWeight)\n",
    "                    if (\"DYJets\" in name): \n",
    "                        #Zpt correction\n",
    "                        pTCorrection27 = evaluator[\"pTCorr\"](ak.flatten(ZVec27.mass, axis=-1), ZVec27pt)\n",
    "                        weights_OS.add(\"pTCorrection\", pTCorrection27)\n",
    "                    mass_w = np.full(shape=shape, fill_value=lumiWeight, dtype=np.double)\n",
    "                    weights_OS.add(\"lumiWeight\", mass_w)\n",
    "                    output[dataset][\"mass\"].fill(mass=vismass, weight=weights_OS.weight())\n",
    "                    output[dataset][\"ss_mass\"].fill(mass=ss_vismass)\n",
    "                    return output\n",
    "\n",
    "                if not ak.any(shape):\n",
    "                    weights_SS = Weights(len(SS_shape))\n",
    "                    weights_SS.add(\"MuIsoCorr\", Mu27IsoCorr_SS)\n",
    "                    weights_SS.add(\"MuIDCorr\", Mu27IDCorr_SS)\n",
    "                    weights_SS.add(\"MuTrgCorr\", Mu27TrgCorr_SS)\n",
    "                    weights_SS.add(\"PUCorrection\", puWeight_SS) \n",
    "                    SS_mass_w = np.full(shape=SS_shape, fill_value=lumiWeight, dtype=np.double) \n",
    "                    weights_SS.add(\"lumiWeight\", SS_mass_w)\n",
    "                    output[dataset][\"mass\"].fill(mass=vismass)\n",
    "                    output[dataset][\"ss_mass\"].fill(mass=ss_vismass, weight=weights_SS.weight())\n",
    "                    return output\n",
    "\n",
    "                weights_OS = Weights(len(shape))\n",
    "                weights_SS = Weights(len(SS_shape))\n",
    "                \n",
    "                weights_OS.add(\"MuIsoCorr\", Mu27IsoCorr)\n",
    "                weights_OS.add(\"MuIDCorr\", Mu27IDCorr)\n",
    "                weights_OS.add(\"MuTrgCorr\", Mu27TrgCorr)\n",
    "                weights_OS.add(\"PUCorrection\", puWeight)\n",
    "                \n",
    "                weights_SS.add(\"MuIsoCorr\", Mu27IsoCorr_SS)\n",
    "                weights_SS.add(\"MuIDCorr\", Mu27IDCorr_SS)\n",
    "                weights_SS.add(\"MuTrgCorr\", Mu27TrgCorr_SS)\n",
    "                weights_SS.add(\"PUCorrection\", puWeight_SS)\n",
    "                \n",
    "                #OS\n",
    "                if (\"DYJets\" in name): \n",
    "                    pTCorrection27 = evaluator[\"pTCorr\"](ak.flatten(ZVec27.mass, axis=-1), ZVec27pt)\n",
    "                    weights_OS.add(\"pTCorrection\", pTCorrection27)\n",
    "                    \n",
    "                #Get shape\n",
    "                mass_w = np.full(shape=shape, fill_value=lumiWeight, dtype=np.double)\n",
    "                weights_OS.add(\"lumiWeight\", mass_w)\n",
    "    \n",
    "                SS_mass_w = np.full(shape=SS_shape, fill_value=lumiWeight, dtype=np.double) \n",
    "                weights_SS.add(\"lumiWeight\", SS_mass_w)\n",
    "    \n",
    "                output[dataset][\"mass\"].fill(mass=vismass, weight=weights_OS.weight())\n",
    "                output[dataset][\"ss_mass\"].fill(mass=ss_vismass, weight=weights_SS.weight())\n",
    "                \n",
    "        elif ak.sum(ZVec27.mass) == 0: \n",
    "            OSpairs_50 = pairs_50[(pairs_50C['muon'].charge + pairs_50C['tau'].charge == 0)]\n",
    "            OSpairs_50C = pairs_50C[pairs_50C['muon'].charge + pairs_50C['tau'].charge == 0]\n",
    "            \n",
    "            SSpairs_50 = pairs_50[pairs_50C['muon'].charge + pairs_50C['tau'].charge != 0]\n",
    "            SSpairs_50C = pairs_50C[pairs_50C['muon'].charge + pairs_50C['tau'].charge != 0]\n",
    "            \n",
    "            ZVec50_OS = OSpairs_50['tau'].add(OSpairs_50['muon'])\n",
    "            ZVec50_SS = SSpairs_50['tau'].add(SSpairs_50['muon'])\n",
    "\n",
    "            Higgs50_OS = ZVec50_OS.add(MetVec50_OS) \n",
    "            Higgs50_SS = ZVec50_SS.add(MetVec50_SS)\n",
    "\n",
    "            ZVec50_OS = ZVec50_OS[(ZVec50_OS.pt > 200) & (Higgs50_OS.pt > 250)]\n",
    "            ZVec50_SS = ZVec50_SS[(ZVec50_SS.pt > 200) & (Higgs50_SS.pt > 250)]\n",
    "\n",
    "            if not ak.any(ZVec50_SS.mass):\n",
    "                vismass = (ak.flatten(ZVec50_OS.mass, axis=-1))\n",
    "                ss_vismass = []\n",
    "            else:\n",
    "                vismass = (ak.flatten(ZVec50_OS.mass, axis=-1))\n",
    "                ss_vismass = (ak.flatten(ZVec50_SS.mass, axis=-1))\n",
    "\n",
    "            shape = np.shape(vismass)\n",
    "            SS_shape = np.shape(ss_vismass)\n",
    "            \n",
    "            if XSection != 1:\n",
    "                #Luminosity (2018)\n",
    "                luminosity = 59830.\n",
    "                lumiWeight = (XSection * luminosity) / eventCount\n",
    "    \n",
    "                \n",
    "                #Shortcut names to make things easier\n",
    "                ZVec50pt = ak.flatten(ZVec50_OS.pt, axis=-1)\n",
    "                ZVec50eta = ak.flatten(ZVec50_OS.eta, axis=-1)\n",
    "                ZVec50_SSpt = ak.flatten(ZVec50_SS.pt, axis=-1)\n",
    "                ZVec50_SSeta = ak.flatten(ZVec50_SS.eta, axis=-1)\n",
    "                \n",
    "                Mu50IsoCorr = evaluator[\"IsoCorr\"](ZVec50pt, ZVec50eta)   #Iso\n",
    "                Mu50TrgCorr = evaluator[\"Trg50Corr\"](ZVec50pt, ZVec50eta) #Trigger\n",
    "                Mu50IDCorr = evaluator[\"IDCorr\"](ZVec50pt, ZVec50eta) #ID\n",
    "\n",
    "                puTrue50 = np.array(ak.flatten(OSPU50['PU'][ZVec50.pt > 200], axis=-1), dtype=np.int8) #Pileup\n",
    "                puWeight = evaluator_pu[\"Collisions18_UltraLegacy_goldenJSON\"].evaluate(puTrue50, 'nominal')\n",
    "\n",
    "                Mu50IsoCorr_SS = evaluator[\"IsoCorr\"](ZVec50_SSpt, ZVec50_SSeta)   \n",
    "                Mu50TrgCorr_SS = evaluator[\"Trg50Corr\"](ZVec50_SSpt, ZVec50_SSeta)   \n",
    "                Mu50IDCorr_SS = evaluator[\"IDCorr\"](ZVec50_SSpt, ZVec50_SSeta)  \n",
    "               \n",
    "                puTrue50_SS = np.array(ak.flatten(SSPU50['PU'][ZVec50_SS.pt > 200], axis=-1), dtype=np.int8)\n",
    "                puWeight_SS = evaluator_pu[\"Collisions18_UltraLegacy_goldenJSON\"].evaluate(puTrue50_SS, 'nominal')\n",
    "\n",
    "                if not ak.any(SS_shape):\n",
    "                    weights_OS = Weights(len(shape))\n",
    "                    weights_OS.add(\"MuIsoCorr\", Mu50IsoCorr)\n",
    "                    weights_OS.add(\"MuIDCorr\", Mu50IDCorr)\n",
    "                    weights_OS.add(\"MuTrgCorr\", Mu50TrgCorr)\n",
    "                    weights_OS.add(\"PUCorrection\", puWeight)\n",
    "                    if (\"DYJets\" in name): \n",
    "                        #Zpt correction\n",
    "                        pTCorrection50 = evaluator[\"pTCorr\"](ak.flatten(ZVec50.mass, axis=-1), ZVec50pt)\n",
    "                        weights_OS.add(\"pTCorrection\", pTCorrection50)\n",
    "                    mass_w = np.full(shape=shape, fill_value=lumiWeight, dtype=np.double)\n",
    "                    weights_OS.add(\"lumiWeight\", mass_w)\n",
    "                    output[dataset][\"mass\"].fill(mass=vismass, weight=weights_OS.weight())\n",
    "                    output[dataset][\"ss_mass\"].fill(mass=ss_vismass)\n",
    "                    return output\n",
    "\n",
    "                if not ak.any(shape):\n",
    "                    weights_SS = Weights(len(SS_shape))\n",
    "                    weights_SS.add(\"MuIsoCorr\", Mu50IsoCorr_SS)\n",
    "                    weights_SS.add(\"MuIDCorr\", Mu50IDCorr_SS)\n",
    "                    weights_SS.add(\"MuTrgCorr\", Mu50TrgCorr_SS)\n",
    "                    weights_SS.add(\"PUCorrection\", puWeight_SS) \n",
    "                    SS_mass_w = np.full(shape=SS_shape, fill_value=lumiWeight, dtype=np.double) \n",
    "                    weights_SS.add(\"lumiWeight\", SS_mass_w)\n",
    "                    output[dataset][\"mass\"].fill(mass=vismass)\n",
    "                    output[dataset][\"ss_mass\"].fill(mass=ss_vismass, weight=weights_SS.weight())\n",
    "                    return output\n",
    "                \n",
    "                weights_OS = Weights(len(shape))\n",
    "                weights_SS = Weights(len(SS_shape))\n",
    "                \n",
    "                weights_OS.add(\"MuIsoCorr\", Mu50IsoCorr)\n",
    "                weights_OS.add(\"MuIDCorr\", Mu50IDCorr)\n",
    "                weights_OS.add(\"MuTrgCorr\", Mu50TrgCorr)\n",
    "                weights_OS.add(\"PUCorrection\", puWeight)\n",
    "                \n",
    "                weights_SS.add(\"MuIsoCorr\", Mu50IsoCorr_SS)\n",
    "                weights_SS.add(\"MuIDCorr\", Mu50IDCorr_SS)\n",
    "                weights_SS.add(\"MuTrgCorr\", Mu50TrgCorr_SS)\n",
    "                weights_SS.add(\"PUCorrection\", puWeight_SS)\n",
    "                \n",
    "                #OS\n",
    "                if (\"DYJets\" in name): \n",
    "                    pTCorrection50 = evaluator[\"pTCorr\"](ak.flatten(ZVec50.mass, axis=-1), ZVec50pt)\n",
    "                    weights_OS.add(\"pTCorrection\", pTCorrection50)\n",
    "                    \n",
    "                #Get shape\n",
    "                mass_w = np.full(shape=shape, fill_value=lumiWeight, dtype=np.double)\n",
    "                weights_OS.add(\"lumiWeight\", mass_w)\n",
    "    \n",
    "                SS_mass_w = np.full(shape=SS_shape, fill_value=lumiWeight, dtype=np.double) \n",
    "                weights_SS.add(\"lumiWeight\", SS_mass_w)\n",
    "    \n",
    "                output[dataset][\"mass\"].fill(mass=vismass, weight=weights_OS.weight())\n",
    "                output[dataset][\"ss_mass\"].fill(mass=ss_vismass, weight=weights_SS.weight())\n",
    "                \n",
    "        else:\n",
    "            OSpairs_50 = pairs_50[(pairs_50C['muon'].charge + pairs_50C['tau'].charge == 0)]\n",
    "            OSpairs_27 = pairs_27[pairs_27C['muon'].charge + pairs_27C['tau'].charge == 0]\n",
    "            OSpairs_50C = pairs_50C[pairs_50C['muon'].charge + pairs_50C['tau'].charge == 0]\n",
    "            OSpairs_27C = pairs_27C[pairs_27C['muon'].charge + pairs_27C['tau'].charge == 0]\n",
    "            \n",
    "            SSpairs_50 = pairs_50[pairs_50C['muon'].charge + pairs_50C['tau'].charge != 0]\n",
    "            SSpairs_27 = pairs_27[pairs_27C['muon'].charge + pairs_27C['tau'].charge != 0]\n",
    "            SSpairs_50C = pairs_50C[pairs_50C['muon'].charge + pairs_50C['tau'].charge != 0]\n",
    "            SSpairs_27C = pairs_27C[pairs_27C['muon'].charge + pairs_27C['tau'].charge != 0]\n",
    "\n",
    "            #Sign Splitting\n",
    "            ZVec50_OS = OSpairs_50['tau'].add(OSpairs_50['muon'])\n",
    "            ZVec27_OS = OSpairs_27['tau'].add(OSpairs_27['muon'])\n",
    "            ZVec50_SS = SSpairs_50['tau'].add(SSpairs_50['muon'])\n",
    "            ZVec27_SS = SSpairs_27['tau'].add(SSpairs_27['muon'])\n",
    "\n",
    "            Higgs50_OS = ZVec50_OS.add(MetVec50_OS)\n",
    "            Higgs27_OS = ZVec27_OS.add(MetVec27_OS) \n",
    "            Higgs50_SS = ZVec50_SS.add(MetVec50_SS)\n",
    "            Higgs27_SS = ZVec27_SS.add(MetVec27_SS) \n",
    "\n",
    "            ZVec50_OS = ZVec50_OS[(ZVec50_OS.pt > 200) & (Higgs50_OS.pt > 250)]\n",
    "            ZVec27_OS = ZVec27_OS[(ZVec27_OS.pt > 200) & (Higgs27_OS.pt > 250)]\n",
    "            ZVec50_SS = ZVec50_SS[(ZVec50_SS.pt > 200) & (Higgs50_SS.pt > 250)]\n",
    "            ZVec27_SS = ZVec27_SS[(ZVec27_SS.pt > 200) & (Higgs27_SS.pt > 250)]           \n",
    "\n",
    "            if not ak.any(ZVec50_SS.mass) and not ak.any(ZVec27_SS.mass):\n",
    "                vismass = np.append(ak.flatten(ZVec27_OS.mass, axis=-1), ak.flatten(ZVec50_OS.mass, axis=-1))\n",
    "                ss_vismass = []\n",
    "            elif not any(ZVec50_SS.mass):\n",
    "                vismass = np.append(ak.flatten(ZVec27_OS.mass, axis=-1), ak.flatten(ZVec50_OS.mass, axis=-1))\n",
    "                ss_vismass = ak.flatten(ZVec27_SS.mass, axis=-1)\n",
    "            elif not any(ZVec27_SS.mass):\n",
    "                vismass = np.append(ak.flatten(ZVec27_OS.mass, axis=-1), ak.flatten(ZVec50_OS.mass, axis=-1))\n",
    "                ss_vismass = ak.flatten(ZVec50_SS.mass, axis=-1)\n",
    "            else:\n",
    "                vismass = np.append(ak.flatten(ZVec27_OS.mass, axis=-1), ak.flatten(ZVec50_OS.mass, axis=-1))\n",
    "                ss_vismass = np.append(ak.flatten(ZVec27_SS.mass, axis=-1), ak.flatten(ZVec50_SS.mass, axis=-1))\n",
    "            shape = np.shape(vismass)\n",
    "            SS_shape = np.shape(ss_vismass)\n",
    "            \n",
    "            if XSection != 1:\n",
    "                #Luminosity (2018)\n",
    "                luminosity = 59830.\n",
    "                lumiWeight = (XSection * luminosity) / eventCount\n",
    "    \n",
    "                \n",
    "                #Shortcut names to make things easier\n",
    "                ZVec50pt = ak.flatten(ZVec50_OS.pt, axis=-1)\n",
    "                ZVec50eta = ak.flatten(ZVec50_OS.eta, axis=-1)\n",
    "                ZVec50_SSpt = ak.flatten(ZVec50_SS.pt, axis=-1)\n",
    "                ZVec50_SSeta = ak.flatten(ZVec50_SS.eta, axis=-1)\n",
    "                ZVec27pt = ak.flatten(ZVec27_OS.pt, axis=-1)\n",
    "                ZVec27eta = ak.flatten(ZVec27_OS.eta, axis=-1)\n",
    "                ZVec27_SSpt = ak.flatten(ZVec27_SS.pt, axis=-1)\n",
    "                ZVec27_SSeta = ak.flatten(ZVec27_SS.eta, axis=-1)\n",
    "\n",
    "                Mu50IsoCorr = evaluator[\"IsoCorr\"](ZVec50pt, ZVec50eta)   #Iso\n",
    "                Mu50TrgCorr = evaluator[\"Trg50Corr\"](ZVec50pt, ZVec50eta) #Trigger\n",
    "                Mu50IDCorr = evaluator[\"IDCorr\"](ZVec50pt, ZVec50eta) #ID\n",
    "                Mu27IsoCorr = evaluator[\"IsoCorr\"](ZVec27pt, ZVec27eta) \n",
    "                Mu27TrgCorr = evaluator[\"Trg27Corr\"](ZVec27pt, ZVec27eta) \n",
    "                Mu27IDCorr = evaluator[\"IDCorr\"](ZVec27pt, ZVec27eta) \n",
    "                \n",
    "                puTrue50 = np.array(ak.flatten(OSPU50['PU'][ZVec50.pt > 200], axis=-1), dtype=np.int8) #Pileup\n",
    "                puTrue27 = np.array(ak.flatten(OSPU27['PU'][ZVec27.pt > 200], axis=-1), dtype=np.int8)\n",
    "                puWeight = evaluator_pu[\"Collisions18_UltraLegacy_goldenJSON\"].evaluate(np.append(puTrue27, puTrue50), 'nominal')\n",
    "\n",
    "                Mu50IsoCorr_SS = evaluator[\"IsoCorr\"](ZVec50_SSpt, ZVec50_SSeta)   \n",
    "                Mu50TrgCorr_SS = evaluator[\"Trg50Corr\"](ZVec50_SSpt, ZVec50_SSeta)   \n",
    "                Mu50IDCorr_SS = evaluator[\"IDCorr\"](ZVec50_SSpt, ZVec50_SSeta)  \n",
    "                Mu27IsoCorr_SS = evaluator[\"IsoCorr\"](ZVec27_SSpt, ZVec27_SSeta) \n",
    "                Mu27TrgCorr_SS = evaluator[\"Trg27Corr\"](ZVec27_SSpt, ZVec27_SSeta)  \n",
    "                Mu27IDCorr_SS = evaluator[\"IDCorr\"](ZVec27_SSpt, ZVec27_SSeta) \n",
    "    \n",
    "                puTrue50_SS = np.array(ak.flatten(SSPU50['PU'][ZVec50_SS.pt > 200], axis=-1), dtype=np.int8)\n",
    "                puTrue27_SS = np.array(ak.flatten(SSPU27['PU'][ZVec27_SS.pt > 200], axis=-1), dtype=np.int8)\n",
    "                puWeight_SS = evaluator_pu[\"Collisions18_UltraLegacy_goldenJSON\"].evaluate(np.append(puTrue27_SS, puTrue50_SS), 'nominal')\n",
    "\n",
    "                if not ak.any(SS_shape):\n",
    "                    weights_OS = Weights(len(shape))\n",
    "                    weights_OS.add(\"MuIsoCorr\", np.append(Mu27IsoCorr, Mu50IsoCorr))\n",
    "                    weights_OS.add(\"MuIDCorr\", np.append(Mu27IDCorr, Mu50IDCorr))\n",
    "                    weights_OS.add(\"MuTrgCorr\", np.append(Mu27TrgCorr, Mu50TrgCorr))\n",
    "                    weights_OS.add(\"PUCorrection\", puWeight)\n",
    "                    if (\"DYJets\" in name): \n",
    "                        #Zpt correction\n",
    "                        pTCorrection27 = evaluator[\"pTCorr\"](ak.flatten(ZVec27.mass, axis=-1), ZVec27pt)\n",
    "                        pTCorrection50 = evaluator[\"pTCorr\"](ak.flatten(ZVec50.mass, axis=-1), ZVec50pt)\n",
    "                        weights_OS.add(\"pTCorrection\", np.append(pTCorrection27, pTCorrection50))\n",
    "                    mass_w = np.full(shape=shape, fill_value=lumiWeight, dtype=np.double)\n",
    "                    weights_OS.add(\"lumiWeight\", mass_w)\n",
    "                    output[dataset][\"mass\"].fill(mass=vismass, weight=weights_OS.weight())\n",
    "                    output[dataset][\"ss_mass\"].fill(mass=ss_vismass)\n",
    "                    return output\n",
    "\n",
    "                if not any(shape):\n",
    "                    weights_SS = Weights(len(SS_shape))\n",
    "                    weights_SS.add(\"MuIsoCorr\", np.append(Mu27IsoCorr_SS, Mu50IsoCorr_SS))\n",
    "                    weights_SS.add(\"MuIDCorr\", np.append(Mu27IDCorr_SS, Mu50IDCorr_SS))\n",
    "                    weights_SS.add(\"MuTrgCorr\", np.append(Mu27TrgCorr_SS, Mu50TrgCorr_SS))\n",
    "                    weights_SS.add(\"PUCorrection\", puWeight_SS) \n",
    "                    SS_mass_w = np.full(shape=SS_shape, fill_value=lumiWeight, dtype=np.double) \n",
    "                    weights_SS.add(\"lumiWeight\", SS_mass_w)\n",
    "                    output[dataset][\"mass\"].fill(mass=vismass)\n",
    "                    output[dataset][\"ss_mass\"].fill(mass=ss_vismass, weight=weights_SS.weight())\n",
    "                    return output\n",
    "                \n",
    "                weights_OS = Weights(len(shape))\n",
    "                weights_SS = Weights(len(SS_shape))\n",
    "                \n",
    "                weights_OS.add(\"MuIsoCorr\", np.append(Mu27IsoCorr, Mu50IsoCorr))\n",
    "                weights_OS.add(\"MuIDCorr\", np.append(Mu27IDCorr, Mu50IDCorr))\n",
    "                weights_OS.add(\"MuTrgCorr\", np.append(Mu27TrgCorr, Mu50TrgCorr))\n",
    "                weights_OS.add(\"PUCorrection\", puWeight)\n",
    "                \n",
    "                weights_SS.add(\"MuIsoCorr\", np.append(Mu27IsoCorr_SS, Mu50IsoCorr_SS))\n",
    "                weights_SS.add(\"MuIDCorr\", np.append(Mu27IDCorr_SS, Mu50IDCorr_SS))\n",
    "                weights_SS.add(\"MuTrgCorr\", np.append(Mu27TrgCorr_SS, Mu50TrgCorr_SS))\n",
    "                weights_SS.add(\"PUCorrection\", puWeight_SS)\n",
    "                \n",
    "                #OS\n",
    "                if (\"DYJets\" in name): \n",
    "                    #Zpt correction\n",
    "                    pTCorrection27 = evaluator[\"pTCorr\"](ak.flatten(ZVec27.mass, axis=-1), ZVec27pt)\n",
    "                    pTCorrection50 = evaluator[\"pTCorr\"](ak.flatten(ZVec50.mass, axis=-1), ZVec50pt)\n",
    "    \n",
    "                    weights_OS.add(\"pTCorrection\", np.append(pTCorrection27, pTCorrection50))\n",
    "                #Get shape\n",
    "                mass_w = np.full(shape=shape, fill_value=lumiWeight, dtype=np.double)\n",
    "                weights_OS.add(\"lumiWeight\", mass_w)\n",
    "    \n",
    "                SS_mass_w = np.full(shape=SS_shape, fill_value=lumiWeight, dtype=np.double) \n",
    "                weights_SS.add(\"lumiWeight\", SS_mass_w)\n",
    "    \n",
    "                output[dataset][\"mass\"].fill(mass=vismass, weight=weights_OS.weight())\n",
    "                output[dataset][\"ss_mass\"].fill(mass=ss_vismass, weight=weights_SS.weight())\n",
    "                return output \n",
    "            else:\n",
    "                mass_w = np.full(shape=shape, fill_value=1.0, dtype=np.double)\n",
    "                SS_mass_w = np.full(shape=SS_shape, fill_value=1.0, dtype=np.double)\n",
    "                output[dataset][\"mass\"].fill(mass=vismass, weight=mass_w)\n",
    "                output[dataset][\"ss_mass\"].fill(mass=ss_vismass, weight=SS_mass_w)\n",
    "        return output\n",
    "        '''\n",
    "        shape = np.shape(vismass)\n",
    "        SS_shape = np.shape(ss_vismass)\n",
    "\n",
    "        \n",
    "        if XSection != 1:\n",
    "            #Luminosity (2018)\n",
    "            luminosity = 59830.\n",
    "            lumiWeight = (XSection * luminosity) / eventCount\n",
    "\n",
    "            \n",
    "            #Shortcut names to make things easier\n",
    "            ZVec50pt = ak.flatten(ZVec50_OS.pt, axis=-1)\n",
    "            ZVec50eta = ak.flatten(ZVec50_OS.eta, axis=-1)\n",
    "            ZVec50_SSpt = ak.flatten(ZVec50_SS.pt, axis=-1)\n",
    "            ZVec50_SSeta = ak.flatten(ZVec50_SS.eta, axis=-1)\n",
    "            ZVec27pt = ak.flatten(ZVec27_OS.pt, axis=-1)\n",
    "            ZVec27eta = ak.flatten(ZVec27_OS.eta, axis=-1)\n",
    "            ZVec27_SSpt = ak.flatten(ZVec27_SS.pt, axis=-1)\n",
    "            ZVec27_SSeta = ak.flatten(ZVec27_SS.eta, axis=-1)\n",
    "\n",
    "            \n",
    "            #OS\n",
    "            Mu50IsoCorr = evaluator[\"IsoCorr\"](ZVec50pt, ZVec50eta)   #Iso\n",
    "            Mu50TrgCorr = evaluator[\"Trg50Corr\"](ZVec50pt, ZVec50eta) #Trigger\n",
    "            Mu50IDCorr = evaluator[\"IDCorr\"](ZVec50pt, ZVec50eta) #ID\n",
    "            Mu27IsoCorr = evaluator[\"IsoCorr\"](ZVec27pt, ZVec27eta) \n",
    "            Mu27TrgCorr = evaluator[\"Trg27Corr\"](ZVec27pt, ZVec27eta) \n",
    "            Mu27IDCorr = evaluator[\"IDCorr\"](ZVec27pt, ZVec27eta) \n",
    "            \n",
    "            puTrue50 = np.array(ak.flatten(PU50['PU'][ZVec50.pt > 200], axis=-1), dtype=np.int8) #Pileup\n",
    "            puTrue27 = np.array(ak.flatten(PU27['PU'][ZVec27.pt > 200], axis=-1), dtype=np.int8)\n",
    "            puWeight = evaluator_pu[\"Collisions18_UltraLegacy_goldenJSON\"].evaluate(np.append(puTrue27, puTrue50), 'nominal')\n",
    "\n",
    "\n",
    "            #SS\n",
    "            Mu50IsoCorr_SS = evaluator[\"IsoCorr\"](ZVec50_SSpt, ZVec50_SSeta)   \n",
    "            Mu50TrgCorr_SS = evaluator[\"Trg50Corr\"](ZVec50_SSpt, ZVec50_SSeta)   \n",
    "            Mu50IDCorr_SS = evaluator[\"IDCorr\"](ZVec50_SSpt, ZVec50_SSeta)  \n",
    "            Mu27IsoCorr_SS = evaluator[\"IsoCorr\"](ZVec27_SSpt, ZVec27_SSeta) \n",
    "            Mu27TrgCorr_SS = evaluator[\"Trg27Corr\"](ZVec27_SSpt, ZVec27_SSeta)  \n",
    "            Mu27IDCorr_SS = evaluator[\"IDCorr\"](ZVec27_SSpt, ZVec27_SSeta) \n",
    "\n",
    "            puTrue50_SS = np.array(ak.flatten(SSPU50['PU'][ZVec50_SS.pt > 200], axis=-1), dtype=np.int8)\n",
    "            puTrue27_SS = np.array(ak.flatten(SSPU27['PU'][ZVec27_SS.pt > 200], axis=-1), dtype=np.int8)\n",
    "            puWeight_SS = evaluator_pu[\"Collisions18_UltraLegacy_goldenJSON\"].evaluate(np.append(puTrue27_SS, puTrue50_SS), 'nominal')\n",
    "            \n",
    "            if not ak.any(SS_shape):\n",
    "                weights_OS = Weights(len(shape))\n",
    "                weights_OS.add(\"MuIsoCorr\", np.append(Mu27IsoCorr, Mu50IsoCorr))\n",
    "                weights_OS.add(\"MuIDCorr\", np.append(Mu27IDCorr, Mu50IDCorr))\n",
    "                weights_OS.add(\"MuTrgCorr\", np.append(Mu27TrgCorr, Mu50TrgCorr))\n",
    "                weights_OS.add(\"PUCorrection\", puWeight)\n",
    "                if (\"DYJets\" in name): \n",
    "                    #Zpt correction\n",
    "                    pTCorrection27 = evaluator[\"pTCorr\"](ak.flatten(ZVec27.mass, axis=-1), ZVec27pt)\n",
    "                    pTCorrection50 = evaluator[\"pTCorr\"](ak.flatten(ZVec50.mass, axis=-1), ZVec50pt)\n",
    "                    weights_OS.add(\"pTCorrection\", np.append(pTCorrection27, pTCorrection50))\n",
    "                mass_w = np.full(shape=shape, fill_value=lumiWeight, dtype=np.double)\n",
    "                weights_OS.add(\"lumiWeight\", mass_w)\n",
    "                output[dataset][\"mass\"].fill(mass=vismass, weight=weights_OS.weight())\n",
    "                output[dataset][\"ss_mass\"].fill(mass=ss_vismass)\n",
    "                return output\n",
    "\n",
    "            if not ak.any(shape):\n",
    "                weights_SS = Weights(len(SS_shape))\n",
    "                weights_SS.add(\"MuIsoCorr\", np.append(Mu27IsoCorr_SS, Mu50IsoCorr_SS))\n",
    "                weights_SS.add(\"MuIDCorr\", np.append(Mu27IDCorr_SS, Mu50IDCorr_SS))\n",
    "                weights_SS.add(\"MuTrgCorr\", np.append(Mu27TrgCorr_SS, Mu50TrgCorr_SS))\n",
    "                weights_SS.add(\"PUCorrection\", puWeight_SS) \n",
    "                SS_mass_w = np.full(shape=SS_shape, fill_value=lumiWeight, dtype=np.double) \n",
    "                weights_SS.add(\"lumiWeight\", SS_mass_w)\n",
    "                output[dataset][\"mass\"].fill(mass=vismass)\n",
    "                output[dataset][\"ss_mass\"].fill(mass=ss_vismass, weight=weights_SS.weight())\n",
    "                return output\n",
    "            \n",
    "            weights_OS = Weights(len(shape))\n",
    "            weights_SS = Weights(len(SS_shape))\n",
    "            \n",
    "            weights_OS.add(\"MuIsoCorr\", np.append(Mu27IsoCorr, Mu50IsoCorr))\n",
    "            weights_OS.add(\"MuIDCorr\", np.append(Mu27IDCorr, Mu50IDCorr))\n",
    "            weights_OS.add(\"MuTrgCorr\", np.append(Mu27TrgCorr, Mu50TrgCorr))\n",
    "            weights_OS.add(\"PUCorrection\", puWeight)\n",
    "            \n",
    "            weights_SS.add(\"MuIsoCorr\", np.append(Mu27IsoCorr_SS, Mu50IsoCorr_SS))\n",
    "            weights_SS.add(\"MuIDCorr\", np.append(Mu27IDCorr_SS, Mu50IDCorr_SS))\n",
    "            weights_SS.add(\"MuTrgCorr\", np.append(Mu27TrgCorr_SS, Mu50TrgCorr_SS))\n",
    "            weights_SS.add(\"PUCorrection\", puWeight_SS)\n",
    "            \n",
    "            #OS\n",
    "            if (\"DYJets\" in name): \n",
    "                #Zpt correction\n",
    "                pTCorrection27 = evaluator[\"pTCorr\"](ak.flatten(ZVec27.mass, axis=-1), ZVec27pt)\n",
    "                pTCorrection50 = evaluator[\"pTCorr\"](ak.flatten(ZVec50.mass, axis=-1), ZVec50pt)\n",
    "\n",
    "                weights_OS.add(\"pTCorrection\", np.append(pTCorrection27, pTCorrection50))\n",
    "\n",
    "\n",
    "            #Get shape\n",
    "            mass_w = np.full(shape=shape, fill_value=lumiWeight, dtype=np.double)\n",
    "            weights_OS.add(\"lumiWeight\", mass_w)\n",
    "\n",
    "            SS_mass_w = np.full(shape=SS_shape, fill_value=lumiWeight, dtype=np.double) \n",
    "            weights_SS.add(\"lumiWeight\", SS_mass_w)\n",
    "\n",
    "            output[dataset][\"mass\"].fill(mass=vismass, weight=weights_OS.weight())\n",
    "            output[dataset][\"ss_mass\"].fill(mass=ss_vismass, weight=weights_SS.weight())\n",
    "            return output \n",
    "        else:\n",
    "            output[dataset][\"mass\"].fill(mass=vismass)\n",
    "            output[dataset][\"ss_mass\"].fill(mass=ss_vismass)\n",
    "        return output \n",
    "        '''\n",
    "    def postprocess(self, accumulator):\n",
    "        return accumulator\n"
   ]
  },
  {
   "cell_type": "code",
   "execution_count": 10,
   "id": "23a61205-5d58-4080-b0ad-cf255508fab4",
   "metadata": {},
   "outputs": [],
   "source": [
    "os.environ[\"CONDOR_CONFIG\"] = \"/etc/condor/condor_config\"\n",
    "\n",
    "try:\n",
    "    _x509_localpath = (\n",
    "        [\n",
    "            line\n",
    "            for line in os.popen(\"voms-proxy-info\").read().split(\"\\n\")\n",
    "            if line.startswith(\"path\")\n",
    "        ][0]\n",
    "        .split(\":\")[-1]\n",
    "        .strip()\n",
    "    )\n",
    "except Exception as err:\n",
    "    raise RuntimeError(\n",
    "        \"x509 proxy could not be parsed, try creating it with 'voms-proxy-init'\"\n",
    "    ) from err\n",
    "_x509_path = f'/scratch/{os.environ[\"USER\"]}/{_x509_localpath.split(\"/\")[-1]}'\n",
    "os.system(f\"cp {_x509_localpath} {_x509_path}\")\n",
    "_x509_path = os.path.basename(_x509_localpath)"
   ]
  },
  {
   "cell_type": "code",
   "execution_count": 11,
   "id": "cb2a482c-81c9-45d4-b288-71c1166d2a3d",
   "metadata": {},
   "outputs": [
    {
     "name": "stdout",
     "output_type": "stream",
     "text": [
      "Transferring contents of /afs/hep.wisc.edu/user/emettner/rootProjects/Radion-DiHiggs-4Tau/NanoRun to workers\n",
      "Condor logs, output files, error files in /scratch/emettner\n",
      "Executor created\n"
     ]
    },
    {
     "data": {
      "text/html": [
       "<div>\n",
       "    <div style=\"width: 24px; height: 24px; background-color: #e1e1e1; border: 3px solid #9D9D9D; border-radius: 5px; position: absolute;\"> </div>\n",
       "    <div style=\"margin-left: 48px;\">\n",
       "        <h3 style=\"margin-bottom: 0px;\">Client</h3>\n",
       "        <p style=\"color: #9D9D9D; margin-bottom: 0px;\">Client-b5ef1848-3d55-11ef-879d-3cecefda85c8</p>\n",
       "        <table style=\"width: 100%; text-align: left;\">\n",
       "\n",
       "        <tr>\n",
       "        \n",
       "            <td style=\"text-align: left;\"><strong>Connection method:</strong> Cluster object</td>\n",
       "            <td style=\"text-align: left;\"><strong>Cluster type:</strong> dask_jobqueue.HTCondorCluster</td>\n",
       "        \n",
       "        </tr>\n",
       "\n",
       "        \n",
       "            <tr>\n",
       "                <td style=\"text-align: left;\">\n",
       "                    <strong>Dashboard: </strong> <a href=\"proxy/8787/status\" target=\"_blank\">proxy/8787/status</a>\n",
       "                </td>\n",
       "                <td style=\"text-align: left;\"></td>\n",
       "            </tr>\n",
       "        \n",
       "\n",
       "        </table>\n",
       "\n",
       "        \n",
       "            <button style=\"margin-bottom: 12px;\" data-commandlinker-command=\"dask:populate-and-launch-layout\" data-commandlinker-args='{\"url\": \"proxy/8787/status\" }'>\n",
       "                Launch dashboard in JupyterLab\n",
       "            </button>\n",
       "        \n",
       "\n",
       "        \n",
       "            <details>\n",
       "            <summary style=\"margin-bottom: 20px;\"><h3 style=\"display: inline;\">Cluster Info</h3></summary>\n",
       "            <div class=\"jp-RenderedHTMLCommon jp-RenderedHTML jp-mod-trusted jp-OutputArea-output\">\n",
       "    <div style=\"width: 24px; height: 24px; background-color: #e1e1e1; border: 3px solid #9D9D9D; border-radius: 5px; position: absolute;\">\n",
       "    </div>\n",
       "    <div style=\"margin-left: 48px;\">\n",
       "        <h3 style=\"margin-bottom: 0px; margin-top: 0px;\">HTCondorCluster</h3>\n",
       "        <p style=\"color: #9D9D9D; margin-bottom: 0px;\">562f2eec</p>\n",
       "        <table style=\"width: 100%; text-align: left;\">\n",
       "            <tr>\n",
       "                <td style=\"text-align: left;\">\n",
       "                    <strong>Dashboard:</strong> <a href=\"proxy/8787/status\" target=\"_blank\">proxy/8787/status</a>\n",
       "                </td>\n",
       "                <td style=\"text-align: left;\">\n",
       "                    <strong>Workers:</strong> 0\n",
       "                </td>\n",
       "            </tr>\n",
       "            <tr>\n",
       "                <td style=\"text-align: left;\">\n",
       "                    <strong>Total threads:</strong> 0\n",
       "                </td>\n",
       "                <td style=\"text-align: left;\">\n",
       "                    <strong>Total memory:</strong> 0 B\n",
       "                </td>\n",
       "            </tr>\n",
       "            \n",
       "        </table>\n",
       "\n",
       "        <details>\n",
       "            <summary style=\"margin-bottom: 20px;\">\n",
       "                <h3 style=\"display: inline;\">Scheduler Info</h3>\n",
       "            </summary>\n",
       "\n",
       "            <div style=\"\">\n",
       "    <div>\n",
       "        <div style=\"width: 24px; height: 24px; background-color: #FFF7E5; border: 3px solid #FF6132; border-radius: 5px; position: absolute;\"> </div>\n",
       "        <div style=\"margin-left: 48px;\">\n",
       "            <h3 style=\"margin-bottom: 0px;\">Scheduler</h3>\n",
       "            <p style=\"color: #9D9D9D; margin-bottom: 0px;\">Scheduler-261d12e5-666e-4736-b1da-37f8c51c24dd</p>\n",
       "            <table style=\"width: 100%; text-align: left;\">\n",
       "                <tr>\n",
       "                    <td style=\"text-align: left;\">\n",
       "                        <strong>Comm:</strong> tcp://144.92.181.248:25153\n",
       "                    </td>\n",
       "                    <td style=\"text-align: left;\">\n",
       "                        <strong>Workers:</strong> 0\n",
       "                    </td>\n",
       "                </tr>\n",
       "                <tr>\n",
       "                    <td style=\"text-align: left;\">\n",
       "                        <strong>Dashboard:</strong> <a href=\"proxy/8787/status\" target=\"_blank\">proxy/8787/status</a>\n",
       "                    </td>\n",
       "                    <td style=\"text-align: left;\">\n",
       "                        <strong>Total threads:</strong> 0\n",
       "                    </td>\n",
       "                </tr>\n",
       "                <tr>\n",
       "                    <td style=\"text-align: left;\">\n",
       "                        <strong>Started:</strong> Just now\n",
       "                    </td>\n",
       "                    <td style=\"text-align: left;\">\n",
       "                        <strong>Total memory:</strong> 0 B\n",
       "                    </td>\n",
       "                </tr>\n",
       "            </table>\n",
       "        </div>\n",
       "    </div>\n",
       "\n",
       "    <details style=\"margin-left: 48px;\">\n",
       "        <summary style=\"margin-bottom: 20px;\">\n",
       "            <h3 style=\"display: inline;\">Workers</h3>\n",
       "        </summary>\n",
       "\n",
       "        \n",
       "\n",
       "    </details>\n",
       "</div>\n",
       "\n",
       "        </details>\n",
       "    </div>\n",
       "</div>\n",
       "            </details>\n",
       "        \n",
       "\n",
       "    </div>\n",
       "</div>"
      ],
      "text/plain": [
       "<Client: 'tcp://144.92.181.248:25153' processes=0 threads=0, memory=0 B>"
      ]
     },
     "execution_count": 11,
     "metadata": {},
     "output_type": "execute_result"
    }
   ],
   "source": [
    "PWD = os.getcwd()\n",
    "print(f'Transferring contents of {PWD} to workers')\n",
    "INITIAL_DIR = f'/scratch/{os.environ[\"USER\"]}'\n",
    "cluster = HTCondorCluster(\n",
    "    cores=1,\n",
    "    memory=\"2 GB\",\n",
    "    disk=\"4 GB\",\n",
    "    death_timeout = '120',\n",
    "    job_extra_directives={\n",
    "        \"+JobFlavour\": '\"tomorrow\"',\n",
    "        \"log\": \"dask_job_output.$(PROCESS).$(CLUSTER).log\",\n",
    "        \"output\": \"dask_job_output.$(PROCESS).$(CLUSTER).out\",\n",
    "        \"error\": \"dask_job_output.$(PROCESS).$(CLUSTER).err\",\n",
    "        \"should_transfer_files\": \"yes\",\n",
    "        \"when_to_transfer_output\": \"ON_EXIT_OR_EVICT\",\n",
    "        \"+SingularityImage\": '\"/cvmfs/unpacked.cern.ch/registry.hub.docker.com/coffeateam/coffea-dask:0.7.22-py3.10-g7cbcc\"',\n",
    "        \"Requirements\": \"HasSingularityJobStart\",\n",
    "        \"InitialDir\": INITIAL_DIR,\n",
    "        \"transfer_input_files\": f'{_x509_path}'\n",
    "        #\"use_x509userproxy\": \"true\",\n",
    "    },\n",
    "    job_script_prologue=[\n",
    "        \"export XRD_RUNFORKHANDLER=1\",\n",
    "        f\"export X509_USER_PROXY={_x509_path}\",\n",
    "    ]\n",
    ")\n",
    "print('Condor logs, output files, error files in {}'.format(INITIAL_DIR))\n",
    "cluster.adapt(minimum=10, maximum=MAX_WORKERS)\n",
    "client = Client(cluster)\n",
    "dask_executor = processor.DaskExecutor(client=client, status=True)\n",
    "print(\"Executor created\")\n",
    "\n",
    "client"
   ]
  },
  {
   "cell_type": "code",
   "execution_count": 12,
   "id": "22aa22fe-382f-4ca9-8e4b-fb66b1c7a22e",
   "metadata": {},
   "outputs": [
    {
     "name": "stdout",
     "output_type": "stream",
     "text": [
      "Creating runner\n",
      "Using chunksize: 50000 and maxchunks None\n"
     ]
    }
   ],
   "source": [
    "#DRELL-YAN\n",
    "print(\"Creating runner\")\n",
    "print(\"Using chunksize: {} and maxchunks {}\".format(CHUNKSIZE,MAX_CHUNKS))\n",
    "runner = processor.Runner(\n",
    "    executor=dask_executor,\n",
    "    schema=NanoAODSchema,\n",
    "    chunksize=CHUNKSIZE,\n",
    "    maxchunks=MAX_CHUNKS,\n",
    "    skipbadfiles=True,\n",
    "    xrootdtimeout=120,\n",
    ")"
   ]
  },
  {
   "cell_type": "code",
   "execution_count": 13,
   "id": "df46c027-5c59-4ac6-ac2c-dfa31bc3304f",
   "metadata": {},
   "outputs": [
    {
     "name": "stdout",
     "output_type": "stream",
     "text": [
      "Calling runner\n",
      "[###########                             ] | 29% Completed |  2hr  5min  1.2s\u001b[2K\r"
     ]
    },
    {
     "ename": "RuntimeError",
     "evalue": "Work item WorkItem(dataset='VV', filename='root://cmsxrootd.hep.wisc.edu//store/user/gparida/HHbbtt/Full_Production_CMSSW_13_0_13_Nov24_23/2018/MC/ZZTo4L_TuneCP5_13TeV_powheg_pythia8/ZZTo4L_TuneCP5_13TeV_powheg_pythia8/231225_152835/0000/NANO_NANO_877.root', treename='Events', entrystart=0, entrystop=74000, fileuuid=b'\\x80\\xd3\\xcdx\\xa3\\xea\\x11\\xee\\xa9\\xe2\\x91\\xbc\\xe1\\x83\\xbe\\xef', usermeta={}) caused a KilledWorker exception (likely a segfault or out-of-memory issue)",
     "output_type": "error",
     "traceback": [
      "\u001b[0;31m---------------------------------------------------------------------------\u001b[0m",
      "\u001b[0;31mKilledWorker\u001b[0m                              Traceback (most recent call last)",
      "File \u001b[0;32m/opt/conda/lib/python3.10/site-packages/coffea/processor/executor.py:974\u001b[0m, in \u001b[0;36mDaskExecutor.__call__\u001b[0;34m(self, items, function, accumulator)\u001b[0m\n\u001b[1;32m    968\u001b[0m         progress(work, multi\u001b[38;5;241m=\u001b[39m\u001b[38;5;28;01mTrue\u001b[39;00m, notebook\u001b[38;5;241m=\u001b[39m\u001b[38;5;28;01mFalse\u001b[39;00m)\n\u001b[1;32m    969\u001b[0m     \u001b[38;5;28;01mreturn\u001b[39;00m (\n\u001b[1;32m    970\u001b[0m         accumulate(\n\u001b[1;32m    971\u001b[0m             [\n\u001b[1;32m    972\u001b[0m                 work\u001b[38;5;241m.\u001b[39mresult()\n\u001b[1;32m    973\u001b[0m                 \u001b[38;5;28;01mif\u001b[39;00m \u001b[38;5;28mself\u001b[39m\u001b[38;5;241m.\u001b[39mcompression \u001b[38;5;129;01mis\u001b[39;00m \u001b[38;5;28;01mNone\u001b[39;00m\n\u001b[0;32m--> 974\u001b[0m                 \u001b[38;5;28;01melse\u001b[39;00m _decompress(\u001b[43mwork\u001b[49m\u001b[38;5;241;43m.\u001b[39;49m\u001b[43mresult\u001b[49m\u001b[43m(\u001b[49m\u001b[43m)\u001b[49m)\n\u001b[1;32m    975\u001b[0m             ],\n\u001b[1;32m    976\u001b[0m             accumulator,\n\u001b[1;32m    977\u001b[0m         ),\n\u001b[1;32m    978\u001b[0m         \u001b[38;5;241m0\u001b[39m,\n\u001b[1;32m    979\u001b[0m     )\n\u001b[1;32m    980\u001b[0m \u001b[38;5;28;01mexcept\u001b[39;00m KilledWorker \u001b[38;5;28;01mas\u001b[39;00m ex:\n",
      "File \u001b[0;32m/opt/conda/lib/python3.10/site-packages/distributed/client.py:287\u001b[0m, in \u001b[0;36mFuture.result\u001b[0;34m(self, timeout)\u001b[0m\n\u001b[1;32m    286\u001b[0m     typ, exc, tb \u001b[38;5;241m=\u001b[39m result\n\u001b[0;32m--> 287\u001b[0m     \u001b[38;5;28;01mraise\u001b[39;00m exc\u001b[38;5;241m.\u001b[39mwith_traceback(tb)\n\u001b[1;32m    288\u001b[0m \u001b[38;5;28;01melif\u001b[39;00m \u001b[38;5;28mself\u001b[39m\u001b[38;5;241m.\u001b[39mstatus \u001b[38;5;241m==\u001b[39m \u001b[38;5;124m\"\u001b[39m\u001b[38;5;124mcancelled\u001b[39m\u001b[38;5;124m\"\u001b[39m:\n",
      "\u001b[0;31mKilledWorker\u001b[0m: Attempted to run task MyProcessor-aebf872ebe11457828bffd6404376e82 on 3 different workers, but all those workers died while running it. The last worker that attempt to run the task was tcp://144.92.181.15:10069. Inspecting worker logs is often a good next step to diagnose what went wrong. For more information see https://distributed.dask.org/en/stable/killed.html.",
      "\nDuring handling of the above exception, another exception occurred:\n",
      "\u001b[0;31mRuntimeError\u001b[0m                              Traceback (most recent call last)",
      "Cell \u001b[0;32mIn[13], line 3\u001b[0m\n\u001b[1;32m      1\u001b[0m \u001b[38;5;66;03m#DRELL-YAN\u001b[39;00m\n\u001b[1;32m      2\u001b[0m \u001b[38;5;28mprint\u001b[39m(\u001b[38;5;124m\"\u001b[39m\u001b[38;5;124mCalling runner\u001b[39m\u001b[38;5;124m\"\u001b[39m)\n\u001b[0;32m----> 3\u001b[0m mt_results_dask \u001b[38;5;241m=\u001b[39m \u001b[43mrunner\u001b[49m\u001b[43m(\u001b[49m\n\u001b[1;32m      4\u001b[0m \u001b[43m    \u001b[49m\u001b[43mmt_fileset\u001b[49m\u001b[43m,\u001b[49m\n\u001b[1;32m      5\u001b[0m \u001b[43m    \u001b[49m\u001b[43mtreename\u001b[49m\u001b[38;5;241;43m=\u001b[39;49m\u001b[38;5;124;43m\"\u001b[39;49m\u001b[38;5;124;43mEvents\u001b[39;49m\u001b[38;5;124;43m\"\u001b[39;49m\u001b[43m,\u001b[49m\n\u001b[1;32m      6\u001b[0m \u001b[43m    \u001b[49m\u001b[43mprocessor_instance\u001b[49m\u001b[38;5;241;43m=\u001b[39;49m\u001b[43mMyProcessor\u001b[49m\u001b[43m(\u001b[49m\u001b[43m)\u001b[49m\u001b[43m,\u001b[49m\n\u001b[1;32m      7\u001b[0m \u001b[43m)\u001b[49m\n",
      "File \u001b[0;32m/opt/conda/lib/python3.10/site-packages/coffea/processor/executor.py:1700\u001b[0m, in \u001b[0;36mRunner.__call__\u001b[0;34m(self, fileset, treename, processor_instance)\u001b[0m\n\u001b[1;32m   1679\u001b[0m \u001b[38;5;28;01mdef\u001b[39;00m \u001b[38;5;21m__call__\u001b[39m(\n\u001b[1;32m   1680\u001b[0m     \u001b[38;5;28mself\u001b[39m,\n\u001b[1;32m   1681\u001b[0m     fileset: Dict,\n\u001b[1;32m   1682\u001b[0m     treename: \u001b[38;5;28mstr\u001b[39m,\n\u001b[1;32m   1683\u001b[0m     processor_instance: ProcessorABC,\n\u001b[1;32m   1684\u001b[0m ) \u001b[38;5;241m-\u001b[39m\u001b[38;5;241m>\u001b[39m Accumulatable:\n\u001b[1;32m   1685\u001b[0m \u001b[38;5;250m    \u001b[39m\u001b[38;5;124;03m\"\"\"Run the processor_instance on a given fileset\u001b[39;00m\n\u001b[1;32m   1686\u001b[0m \n\u001b[1;32m   1687\u001b[0m \u001b[38;5;124;03m    Parameters\u001b[39;00m\n\u001b[0;32m   (...)\u001b[0m\n\u001b[1;32m   1697\u001b[0m \u001b[38;5;124;03m            An instance of a class deriving from ProcessorABC\u001b[39;00m\n\u001b[1;32m   1698\u001b[0m \u001b[38;5;124;03m    \"\"\"\u001b[39;00m\n\u001b[0;32m-> 1700\u001b[0m     wrapped_out \u001b[38;5;241m=\u001b[39m \u001b[38;5;28;43mself\u001b[39;49m\u001b[38;5;241;43m.\u001b[39;49m\u001b[43mrun\u001b[49m\u001b[43m(\u001b[49m\u001b[43mfileset\u001b[49m\u001b[43m,\u001b[49m\u001b[43m \u001b[49m\u001b[43mprocessor_instance\u001b[49m\u001b[43m,\u001b[49m\u001b[43m \u001b[49m\u001b[43mtreename\u001b[49m\u001b[43m)\u001b[49m\n\u001b[1;32m   1701\u001b[0m     \u001b[38;5;28;01mif\u001b[39;00m \u001b[38;5;28mself\u001b[39m\u001b[38;5;241m.\u001b[39muse_dataframes:\n\u001b[1;32m   1702\u001b[0m         \u001b[38;5;28;01mreturn\u001b[39;00m wrapped_out  \u001b[38;5;66;03m# not wrapped anymore\u001b[39;00m\n",
      "File \u001b[0;32m/opt/conda/lib/python3.10/site-packages/coffea/processor/executor.py:1848\u001b[0m, in \u001b[0;36mRunner.run\u001b[0;34m(self, fileset, processor_instance, treename)\u001b[0m\n\u001b[1;32m   1843\u001b[0m closure \u001b[38;5;241m=\u001b[39m partial(\n\u001b[1;32m   1844\u001b[0m     \u001b[38;5;28mself\u001b[39m\u001b[38;5;241m.\u001b[39mautomatic_retries, \u001b[38;5;28mself\u001b[39m\u001b[38;5;241m.\u001b[39mretries, \u001b[38;5;28mself\u001b[39m\u001b[38;5;241m.\u001b[39mskipbadfiles, closure\n\u001b[1;32m   1845\u001b[0m )\n\u001b[1;32m   1847\u001b[0m executor \u001b[38;5;241m=\u001b[39m \u001b[38;5;28mself\u001b[39m\u001b[38;5;241m.\u001b[39mexecutor\u001b[38;5;241m.\u001b[39mcopy(\u001b[38;5;241m*\u001b[39m\u001b[38;5;241m*\u001b[39mexe_args)\n\u001b[0;32m-> 1848\u001b[0m wrapped_out, e \u001b[38;5;241m=\u001b[39m \u001b[43mexecutor\u001b[49m\u001b[43m(\u001b[49m\u001b[43mchunks\u001b[49m\u001b[43m,\u001b[49m\u001b[43m \u001b[49m\u001b[43mclosure\u001b[49m\u001b[43m,\u001b[49m\u001b[43m \u001b[49m\u001b[38;5;28;43;01mNone\u001b[39;49;00m\u001b[43m)\u001b[49m\n\u001b[1;32m   1849\u001b[0m \u001b[38;5;28;01mif\u001b[39;00m wrapped_out \u001b[38;5;129;01mis\u001b[39;00m \u001b[38;5;28;01mNone\u001b[39;00m:\n\u001b[1;32m   1850\u001b[0m     \u001b[38;5;28;01mraise\u001b[39;00m \u001b[38;5;167;01mValueError\u001b[39;00m(\n\u001b[1;32m   1851\u001b[0m         \u001b[38;5;124m\"\u001b[39m\u001b[38;5;124mNo chunks returned results, verify ``processor`` instance structure.\u001b[39m\u001b[38;5;130;01m\\n\u001b[39;00m\u001b[38;5;130;01m\\\u001b[39;00m\n\u001b[1;32m   1852\u001b[0m \u001b[38;5;124m        if you used skipbadfiles=True, it is possible all your files are bad.\u001b[39m\u001b[38;5;124m\"\u001b[39m\n\u001b[1;32m   1853\u001b[0m     )\n",
      "File \u001b[0;32m/opt/conda/lib/python3.10/site-packages/coffea/processor/executor.py:984\u001b[0m, in \u001b[0;36mDaskExecutor.__call__\u001b[0;34m(self, items, function, accumulator)\u001b[0m\n\u001b[1;32m    982\u001b[0m         \u001b[38;5;28;01mif\u001b[39;00m \u001b[38;5;28mself\u001b[39m\u001b[38;5;241m.\u001b[39mheavy_input \u001b[38;5;129;01mis\u001b[39;00m \u001b[38;5;129;01mnot\u001b[39;00m \u001b[38;5;28;01mNone\u001b[39;00m \u001b[38;5;129;01mand\u001b[39;00m \u001b[38;5;28misinstance\u001b[39m(baditem, \u001b[38;5;28mtuple\u001b[39m):\n\u001b[1;32m    983\u001b[0m             baditem \u001b[38;5;241m=\u001b[39m baditem[\u001b[38;5;241m0\u001b[39m]\n\u001b[0;32m--> 984\u001b[0m         \u001b[38;5;28;01mraise\u001b[39;00m \u001b[38;5;167;01mRuntimeError\u001b[39;00m(\n\u001b[1;32m    985\u001b[0m             \u001b[38;5;124mf\u001b[39m\u001b[38;5;124m\"\u001b[39m\u001b[38;5;124mWork item \u001b[39m\u001b[38;5;132;01m{\u001b[39;00mbaditem\u001b[38;5;132;01m}\u001b[39;00m\u001b[38;5;124m caused a KilledWorker exception (likely a segfault or out-of-memory issue)\u001b[39m\u001b[38;5;124m\"\u001b[39m\n\u001b[1;32m    986\u001b[0m         )\n\u001b[1;32m    987\u001b[0m \u001b[38;5;28;01melse\u001b[39;00m:\n\u001b[1;32m    988\u001b[0m     \u001b[38;5;28;01mif\u001b[39;00m \u001b[38;5;28mself\u001b[39m\u001b[38;5;241m.\u001b[39mstatus:\n",
      "\u001b[0;31mRuntimeError\u001b[0m: Work item WorkItem(dataset='VV', filename='root://cmsxrootd.hep.wisc.edu//store/user/gparida/HHbbtt/Full_Production_CMSSW_13_0_13_Nov24_23/2018/MC/ZZTo4L_TuneCP5_13TeV_powheg_pythia8/ZZTo4L_TuneCP5_13TeV_powheg_pythia8/231225_152835/0000/NANO_NANO_877.root', treename='Events', entrystart=0, entrystop=74000, fileuuid=b'\\x80\\xd3\\xcdx\\xa3\\xea\\x11\\xee\\xa9\\xe2\\x91\\xbc\\xe1\\x83\\xbe\\xef', usermeta={}) caused a KilledWorker exception (likely a segfault or out-of-memory issue)"
     ]
    }
   ],
   "source": [
    "#DRELL-YAN\n",
    "print(\"Calling runner\")\n",
    "mt_results_dask = runner(\n",
    "    mt_fileset,\n",
    "    treename=\"Events\",\n",
    "    processor_instance=MyProcessor(),\n",
    ")"
   ]
  },
  {
   "cell_type": "code",
   "execution_count": null,
   "id": "31878dc3-4f2f-4ba5-9f07-56fc28fc0a61",
   "metadata": {},
   "outputs": [
    {
     "name": "stderr",
     "output_type": "stream",
     "text": [
      "2024-07-08 17:47:56,059 - distributed.core - ERROR - \n",
      "Traceback (most recent call last):\n",
      "  File \"/opt/conda/lib/python3.10/site-packages/distributed/utils.py\", line 748, in wrapper\n",
      "    return await func(*args, **kwargs)\n",
      "  File \"/opt/conda/lib/python3.10/site-packages/distributed/scheduler.py\", line 6943, in feed\n",
      "    await asyncio.sleep(interval)\n",
      "  File \"/opt/conda/lib/python3.10/asyncio/tasks.py\", line 605, in sleep\n",
      "    return await future\n",
      "asyncio.exceptions.CancelledError\n"
     ]
    }
   ],
   "source": [
    "client.shutdown()"
   ]
  },
  {
   "cell_type": "code",
   "execution_count": 18,
   "id": "14607fdd-c61d-47e5-8255-d165d9a5ae9f",
   "metadata": {},
   "outputs": [
    {
     "ename": "NameError",
     "evalue": "name 'mt_results_dask' is not defined",
     "output_type": "error",
     "traceback": [
      "\u001b[0;31m---------------------------------------------------------------------------\u001b[0m",
      "\u001b[0;31mNameError\u001b[0m                                 Traceback (most recent call last)",
      "Cell \u001b[0;32mIn[18], line 1\u001b[0m\n\u001b[0;32m----> 1\u001b[0m \u001b[38;5;28mprint\u001b[39m(\u001b[43mmt_results_dask\u001b[49m)\n",
      "\u001b[0;31mNameError\u001b[0m: name 'mt_results_dask' is not defined"
     ]
    }
   ],
   "source": [
    "print(mt_results_dask)"
   ]
  },
  {
   "cell_type": "code",
   "execution_count": 20,
   "id": "38a2d4fd",
   "metadata": {},
   "outputs": [
    {
     "name": "stdout",
     "output_type": "stream",
     "text": [
      "Dataset: DYJets\n",
      "Result {'mass': Hist(Regular(30, 0, 150, underflow=False, overflow=False, name='mass', label='DYJets'), storage=Weight()) # Sum: WeightedSum(value=6358.44, variance=775343), 'ss_mass': Hist(Regular(30, 0, 150, underflow=False, overflow=False, name='mass', label='DYJets'), storage=Weight()) # Sum: WeightedSum(value=0, variance=0)}\n",
      "Dataset: TT\n",
      "Result {'mass': Hist(Regular(30, 0, 150, underflow=False, overflow=False, name='mass', label='TT'), storage=Weight()) # Sum: WeightedSum(value=3364.96, variance=2.31512e+06), 'ss_mass': Hist(Regular(30, 0, 150, underflow=False, overflow=False, name='mass', label='TT'), storage=Weight()) # Sum: WeightedSum(value=0, variance=0)}\n",
      "Dataset: VV\n",
      "Result {'mass': Hist(Regular(30, 0, 150, underflow=False, overflow=False, name='mass', label='VV'), storage=Weight()) # Sum: WeightedSum(value=89.0107, variance=1988.56), 'ss_mass': Hist(Regular(30, 0, 150, underflow=False, overflow=False, name='mass', label='VV'), storage=Weight()) # Sum: WeightedSum(value=0, variance=0)}\n",
      "Dataset: Data\n",
      "Result {'mass': Hist(Regular(30, 0, 150, underflow=False, overflow=False, name='mass', label='Data'), storage=Weight()) # Sum: WeightedSum(value=117, variance=117), 'ss_mass': Hist(Regular(30, 0, 150, underflow=False, overflow=False, name='mass', label='Data'), storage=Weight()) # Sum: WeightedSum(value=0, variance=0)}\n",
      "Dataset: WJets\n",
      "Result {'mass': Hist(Regular(30, 0, 150, underflow=False, overflow=False, name='mass', label='WJets'), storage=Weight()) # Sum: WeightedSum(value=0, variance=0), 'ss_mass': Hist(Regular(30, 0, 150, underflow=False, overflow=False, name='mass', label='WJets'), storage=Weight()) # Sum: WeightedSum(value=0, variance=0)}\n"
     ]
    }
   ],
   "source": [
    "for dset,results, in mt_results_dask.items():\n",
    "    print(f\"Dataset: {dset}\")\n",
    "    print(f\"Result {results}\")\n",
    "    #print(f\"Test: {results['Test'].value}\")\n",
    "    #print(f\"Test 2: {results['Test2'].value}\")\n",
    "   # print(f\"Event: {results['EventCount'].value}\")\n"
   ]
  },
  {
   "cell_type": "code",
   "execution_count": 21,
   "id": "26c097e7-d75f-4444-866b-6a06e1429b7c",
   "metadata": {},
   "outputs": [
    {
     "name": "stderr",
     "output_type": "stream",
     "text": [
      "/opt/conda/lib/python3.10/site-packages/mplhep/utils.py:197: RuntimeWarning: All sumw are zero!  Cannot compute meaningful error bars\n",
      "  return np.abs(method_fcn(self.values, variances) - self.values)\n"
     ]
    },
    {
     "data": {
      "text/plain": [
       "[StairsArtists(stairs=<matplotlib.patches.StepPatch object at 0x7f199fd0a1d0>, errorbar=<ErrorbarContainer object of 3 artists>, legend_artist=<ErrorbarContainer object of 3 artists>)]"
      ]
     },
     "execution_count": 21,
     "metadata": {},
     "output_type": "execute_result"
    },
    {
     "data": {
      "image/png": "[encoded data removed]",
      "text/plain": [
       "<Figure size 640x480 with 1 Axes>"
      ]
     },
     "metadata": {},
     "output_type": "display_data"
    }
   ],
   "source": [
    "mt_results_dask[\"DYJets\"][\"mass\"].plot()\n",
    "mt_results_dask[\"WJets\"][\"mass\"].plot()\n",
    "mt_results_dask[\"Data\"][\"mass\"].plot()\n",
    "mt_results_dask[\"VV\"][\"mass\"].plot()\n",
    "mt_results_dask[\"TT\"][\"mass\"].plot()"
   ]
  },
  {
   "cell_type": "code",
   "execution_count": 89,
   "id": "b4751697-63b8-481c-95c2-a2d55f20cb4e",
   "metadata": {},
   "outputs": [
    {
     "name": "stdout",
     "output_type": "stream",
     "text": [
      "Creating runner\n",
      "Using chunksize: 100000 and maxchunks None\n"
     ]
    }
   ],
   "source": [
    "local_executor = processor.IterativeExecutor(status=True)\n",
    "\n",
    "#Create the runner\n",
    "print(\"Creating runner\")\n",
    "print(\"Using chunksize: {} and maxchunks {}\".format(CHUNKSIZE,MAX_CHUNKS))\n",
    "runner = processor.Runner(\n",
    "    executor=local_executor,\n",
    "    schema=NanoAODSchema,\n",
    "    chunksize=CHUNKSIZE,\n",
    "    maxchunks=MAX_CHUNKS,\n",
    "    skipbadfiles=True,\n",
    "    xrootdtimeout=300,\n",
    ")"
   ]
  },
  {
   "cell_type": "code",
   "execution_count": 90,
   "id": "d5f58d5b-797e-4a86-ae06-fbe6ffecd328",
   "metadata": {},
   "outputs": [
    {
     "data": {
      "application/vnd.jupyter.widget-view+json": {
       "model_id": "8d7ce52074dc43dc8fb1d82820cc6e0b",
       "version_major": 2,
       "version_minor": 0
      },
      "text/plain": [
       "Output()"
      ]
     },
     "metadata": {},
     "output_type": "display_data"
    },
    {
     "name": "stdout",
     "output_type": "stream",
     "text": [
      "Calling runner\n"
     ]
    },
    {
     "data": {
      "text/html": [
       "<pre style=\"white-space:pre;overflow-x:auto;line-height:normal;font-family:Menlo,'DejaVu Sans Mono',consolas,'Courier New',monospace\">Start:  1548   Data\n",
       "</pre>\n"
      ],
      "text/plain": [
       "Start:  1548   Data\n"
      ]
     },
     "metadata": {},
     "output_type": "display_data"
    },
    {
     "data": {
      "text/html": [
       "<pre style=\"white-space:pre;overflow-x:auto;line-height:normal;font-family:Menlo,'DejaVu Sans Mono',consolas,'Courier New',monospace\">Extra Ele Veto:  1109\n",
       "</pre>\n"
      ],
      "text/plain": [
       "Extra Ele Veto:  1109\n"
      ]
     },
     "metadata": {},
     "output_type": "display_data"
    },
    {
     "data": {
      "text/html": [
       "<pre style=\"white-space:pre;overflow-x:auto;line-height:normal;font-family:Menlo,'DejaVu Sans Mono',consolas,'Courier New',monospace\">Extra Mu Veto:  266\n",
       "</pre>\n"
      ],
      "text/plain": [
       "Extra Mu Veto:  266\n"
      ]
     },
     "metadata": {},
     "output_type": "display_data"
    },
    {
     "data": {
      "text/html": [
       "<pre style=\"white-space:pre;overflow-x:auto;line-height:normal;font-family:Menlo,'DejaVu Sans Mono',consolas,'Courier New',monospace\">BJet Veto:  38\n",
       "</pre>\n"
      ],
      "text/plain": [
       "BJet Veto:  38\n"
      ]
     },
     "metadata": {},
     "output_type": "display_data"
    },
    {
     "data": {
      "text/html": [
       "<pre style=\"white-space:pre;overflow-x:auto;line-height:normal;font-family:Menlo,'DejaVu Sans Mono',consolas,'Courier New',monospace\">Pairs:  163  Vector:  163\n",
       "</pre>\n"
      ],
      "text/plain": [
       "Pairs:  163  Vector:  163\n"
      ]
     },
     "metadata": {},
     "output_type": "display_data"
    },
    {
     "data": {
      "text/html": [
       "<pre style=\"white-space:pre;overflow-x:auto;line-height:normal;font-family:Menlo,'DejaVu Sans Mono',consolas,'Courier New',monospace\">[0.106, 0.106, 0.106, 0.106, 0.106, 0.106, ... 0.106, 0.106, 0.106, 0.106, 0.106]\n",
       "</pre>\n"
      ],
      "text/plain": [
       "[0.106, 0.106, 0.106, 0.106, 0.106, 0.106, ... 0.106, 0.106, 0.106, 0.106, 0.106]\n"
      ]
     },
     "metadata": {},
     "output_type": "display_data"
    },
    {
     "data": {
      "text/html": [
       "<pre style=\"white-space:pre;overflow-x:auto;line-height:normal;font-family:Menlo,'DejaVu Sans Mono',consolas,'Courier New',monospace\">[1.49, 1.4, 1.03, 1.43, 0.14, 0.763, 0.763, ... 0.14, 0.14, 1.21, 1.21, 1.44, 1.44]\n",
       "</pre>\n"
      ],
      "text/plain": [
       "[1.49, 1.4, 1.03, 1.43, 0.14, 0.763, 0.763, ... 0.14, 0.14, 1.21, 1.21, 1.44, 1.44]\n"
      ]
     },
     "metadata": {},
     "output_type": "display_data"
    },
    {
     "data": {
      "text/html": [
       "<pre style=\"white-space:pre;overflow-x:auto;line-height:normal;font-family:Menlo,'DejaVu Sans Mono',consolas,'Courier New',monospace\">Start:  4445   Data\n",
       "</pre>\n"
      ],
      "text/plain": [
       "Start:  4445   Data\n"
      ]
     },
     "metadata": {},
     "output_type": "display_data"
    },
    {
     "data": {
      "text/html": [
       "<pre style=\"white-space:pre;overflow-x:auto;line-height:normal;font-family:Menlo,'DejaVu Sans Mono',consolas,'Courier New',monospace\">Extra Ele Veto:  3145\n",
       "</pre>\n"
      ],
      "text/plain": [
       "Extra Ele Veto:  3145\n"
      ]
     },
     "metadata": {},
     "output_type": "display_data"
    },
    {
     "data": {
      "text/html": [
       "<pre style=\"white-space:pre;overflow-x:auto;line-height:normal;font-family:Menlo,'DejaVu Sans Mono',consolas,'Courier New',monospace\">Extra Mu Veto:  616\n",
       "</pre>\n"
      ],
      "text/plain": [
       "Extra Mu Veto:  616\n"
      ]
     },
     "metadata": {},
     "output_type": "display_data"
    },
    {
     "data": {
      "text/html": [
       "<pre style=\"white-space:pre;overflow-x:auto;line-height:normal;font-family:Menlo,'DejaVu Sans Mono',consolas,'Courier New',monospace\">BJet Veto:  149\n",
       "</pre>\n"
      ],
      "text/plain": [
       "BJet Veto:  149\n"
      ]
     },
     "metadata": {},
     "output_type": "display_data"
    },
    {
     "data": {
      "text/html": [
       "<pre style=\"white-space:pre;overflow-x:auto;line-height:normal;font-family:Menlo,'DejaVu Sans Mono',consolas,'Courier New',monospace\">Pairs:  623  Vector:  623\n",
       "</pre>\n"
      ],
      "text/plain": [
       "Pairs:  623  Vector:  623\n"
      ]
     },
     "metadata": {},
     "output_type": "display_data"
    },
    {
     "data": {
      "text/html": [
       "<pre style=\"white-space:pre;overflow-x:auto;line-height:normal;font-family:Menlo,'DejaVu Sans Mono',consolas,'Courier New',monospace\">[0.106, 0.106, 0.106, 0.106, 0.106, 0.106, ... 0.106, 0.106, 0.106, 0.106, 0.106]\n",
       "</pre>\n"
      ],
      "text/plain": [
       "[0.106, 0.106, 0.106, 0.106, 0.106, 0.106, ... 0.106, 0.106, 0.106, 0.106, 0.106]\n"
      ]
     },
     "metadata": {},
     "output_type": "display_data"
    },
    {
     "data": {
      "text/html": [
       "<pre style=\"white-space:pre;overflow-x:auto;line-height:normal;font-family:Menlo,'DejaVu Sans Mono',consolas,'Courier New',monospace\">[1.13, 0.14, 0.907, 0.14, 1.13, 1.26, ... 0.935, 0.935, 0.935, 0.935, 0.935, 0.935]\n",
       "</pre>\n"
      ],
      "text/plain": [
       "[1.13, 0.14, 0.907, 0.14, 1.13, 1.26, ... 0.935, 0.935, 0.935, 0.935, 0.935, 0.935]\n"
      ]
     },
     "metadata": {},
     "output_type": "display_data"
    },
    {
     "data": {
      "text/html": [
       "<pre style=\"white-space:pre;overflow-x:auto;line-height:normal;font-family:Menlo,'DejaVu Sans Mono',consolas,'Courier New',monospace\">Start:  72238   Data\n",
       "</pre>\n"
      ],
      "text/plain": [
       "Start:  72238   Data\n"
      ]
     },
     "metadata": {},
     "output_type": "display_data"
    },
    {
     "data": {
      "text/html": [
       "<pre style=\"white-space:pre;overflow-x:auto;line-height:normal;font-family:Menlo,'DejaVu Sans Mono',consolas,'Courier New',monospace\">Extra Ele Veto:  50009\n",
       "</pre>\n"
      ],
      "text/plain": [
       "Extra Ele Veto:  50009\n"
      ]
     },
     "metadata": {},
     "output_type": "display_data"
    },
    {
     "data": {
      "text/html": [
       "<pre style=\"white-space:pre;overflow-x:auto;line-height:normal;font-family:Menlo,'DejaVu Sans Mono',consolas,'Courier New',monospace\">Extra Mu Veto:  9888\n",
       "</pre>\n"
      ],
      "text/plain": [
       "Extra Mu Veto:  9888\n"
      ]
     },
     "metadata": {},
     "output_type": "display_data"
    },
    {
     "data": {
      "text/html": [
       "<pre style=\"white-space:pre;overflow-x:auto;line-height:normal;font-family:Menlo,'DejaVu Sans Mono',consolas,'Courier New',monospace\">BJet Veto:  1932\n",
       "</pre>\n"
      ],
      "text/plain": [
       "BJet Veto:  1932\n"
      ]
     },
     "metadata": {},
     "output_type": "display_data"
    },
    {
     "data": {
      "text/html": [
       "<pre style=\"white-space:pre;overflow-x:auto;line-height:normal;font-family:Menlo,'DejaVu Sans Mono',consolas,'Courier New',monospace\">Pairs:  7713  Vector:  7713\n",
       "</pre>\n"
      ],
      "text/plain": [
       "Pairs:  7713  Vector:  7713\n"
      ]
     },
     "metadata": {},
     "output_type": "display_data"
    },
    {
     "data": {
      "text/html": [
       "<pre style=\"white-space:pre;overflow-x:auto;line-height:normal;font-family:Menlo,'DejaVu Sans Mono',consolas,'Courier New',monospace\">[0.106, 0.106, 0.106, 0.106, 0.106, 0.106, ... 0.106, 0.106, 0.106, 0.106, 0.106]\n",
       "</pre>\n"
      ],
      "text/plain": [
       "[0.106, 0.106, 0.106, 0.106, 0.106, 0.106, ... 0.106, 0.106, 0.106, 0.106, 0.106]\n"
      ]
     },
     "metadata": {},
     "output_type": "display_data"
    },
    {
     "data": {
      "text/html": [
       "<pre style=\"white-space:pre;overflow-x:auto;line-height:normal;font-family:Menlo,'DejaVu Sans Mono',consolas,'Courier New',monospace\">[1.5, 0.942, 1.58, 0.14, 0.861, 1.45, 1.22, ... 1.32, 1.48, 0.14, 0.14, 1.28, 1.28]\n",
       "</pre>\n"
      ],
      "text/plain": [
       "[1.5, 0.942, 1.58, 0.14, 0.861, 1.45, 1.22, ... 1.32, 1.48, 0.14, 0.14, 1.28, 1.28]\n"
      ]
     },
     "metadata": {},
     "output_type": "display_data"
    },
    {
     "data": {
      "text/html": [
       "<pre style=\"white-space:pre;overflow-x:auto;line-height:normal;font-family:Menlo,'DejaVu Sans Mono',consolas,'Courier New',monospace\">Start:  71977   Data\n",
       "</pre>\n"
      ],
      "text/plain": [
       "Start:  71977   Data\n"
      ]
     },
     "metadata": {},
     "output_type": "display_data"
    },
    {
     "data": {
      "text/html": [
       "<pre style=\"white-space:pre;overflow-x:auto;line-height:normal;font-family:Menlo,'DejaVu Sans Mono',consolas,'Courier New',monospace\">Extra Ele Veto:  49834\n",
       "</pre>\n"
      ],
      "text/plain": [
       "Extra Ele Veto:  49834\n"
      ]
     },
     "metadata": {},
     "output_type": "display_data"
    },
    {
     "data": {
      "text/html": [
       "<pre style=\"white-space:pre;overflow-x:auto;line-height:normal;font-family:Menlo,'DejaVu Sans Mono',consolas,'Courier New',monospace\">Extra Mu Veto:  9512\n",
       "</pre>\n"
      ],
      "text/plain": [
       "Extra Mu Veto:  9512\n"
      ]
     },
     "metadata": {},
     "output_type": "display_data"
    },
    {
     "data": {
      "text/html": [
       "<pre style=\"white-space:pre;overflow-x:auto;line-height:normal;font-family:Menlo,'DejaVu Sans Mono',consolas,'Courier New',monospace\">BJet Veto:  1984\n",
       "</pre>\n"
      ],
      "text/plain": [
       "BJet Veto:  1984\n"
      ]
     },
     "metadata": {},
     "output_type": "display_data"
    },
    {
     "data": {
      "text/html": [
       "<pre style=\"white-space:pre;overflow-x:auto;line-height:normal;font-family:Menlo,'DejaVu Sans Mono',consolas,'Courier New',monospace\">Pairs:  7934  Vector:  7934\n",
       "</pre>\n"
      ],
      "text/plain": [
       "Pairs:  7934  Vector:  7934\n"
      ]
     },
     "metadata": {},
     "output_type": "display_data"
    },
    {
     "data": {
      "text/html": [
       "<pre style=\"white-space:pre;overflow-x:auto;line-height:normal;font-family:Menlo,'DejaVu Sans Mono',consolas,'Courier New',monospace\">[0.106, 0.106, 0.106, 0.106, 0.106, 0.106, ... 0.106, 0.106, 0.106, 0.106, 0.106]\n",
       "</pre>\n"
      ],
      "text/plain": [
       "[0.106, 0.106, 0.106, 0.106, 0.106, 0.106, ... 0.106, 0.106, 0.106, 0.106, 0.106]\n"
      ]
     },
     "metadata": {},
     "output_type": "display_data"
    },
    {
     "data": {
      "text/html": [
       "<pre style=\"white-space:pre;overflow-x:auto;line-height:normal;font-family:Menlo,'DejaVu Sans Mono',consolas,'Courier New',monospace\">[0.6, 0.6, 0.6, 1.38, 1.38, 1.38, 1.18, ... 0.975, 0.975, 0.975, 0.889, 0.889, 0.889]\n",
       "</pre>\n"
      ],
      "text/plain": [
       "[0.6, 0.6, 0.6, 1.38, 1.38, 1.38, 1.18, ... 0.975, 0.975, 0.975, 0.889, 0.889, 0.889]\n"
      ]
     },
     "metadata": {},
     "output_type": "display_data"
    },
    {
     "data": {
      "text/html": [
       "<pre style=\"white-space:pre;overflow-x:auto;line-height:normal;font-family:Menlo,'DejaVu Sans Mono',consolas,'Courier New',monospace\">Start:  964   VV\n",
       "</pre>\n"
      ],
      "text/plain": [
       "Start:  964   VV\n"
      ]
     },
     "metadata": {},
     "output_type": "display_data"
    },
    {
     "data": {
      "text/html": [
       "<pre style=\"white-space:pre;overflow-x:auto;line-height:normal;font-family:Menlo,'DejaVu Sans Mono',consolas,'Courier New',monospace\">Extra Ele Veto:  909\n",
       "</pre>\n"
      ],
      "text/plain": [
       "Extra Ele Veto:  909\n"
      ]
     },
     "metadata": {},
     "output_type": "display_data"
    },
    {
     "data": {
      "text/html": [
       "<pre style=\"white-space:pre;overflow-x:auto;line-height:normal;font-family:Menlo,'DejaVu Sans Mono',consolas,'Courier New',monospace\">Extra Mu Veto:  28\n",
       "</pre>\n"
      ],
      "text/plain": [
       "Extra Mu Veto:  28\n"
      ]
     },
     "metadata": {},
     "output_type": "display_data"
    },
    {
     "data": {
      "text/html": [
       "<pre style=\"white-space:pre;overflow-x:auto;line-height:normal;font-family:Menlo,'DejaVu Sans Mono',consolas,'Courier New',monospace\">BJet Veto:  13\n",
       "</pre>\n"
      ],
      "text/plain": [
       "BJet Veto:  13\n"
      ]
     },
     "metadata": {},
     "output_type": "display_data"
    },
    {
     "data": {
      "text/html": [
       "<pre style=\"white-space:pre;overflow-x:auto;line-height:normal;font-family:Menlo,'DejaVu Sans Mono',consolas,'Courier New',monospace\">Pairs:  23  Vector:  23\n",
       "</pre>\n"
      ],
      "text/plain": [
       "Pairs:  23  Vector:  23\n"
      ]
     },
     "metadata": {},
     "output_type": "display_data"
    },
    {
     "data": {
      "text/html": [
       "<pre style=\"white-space:pre;overflow-x:auto;line-height:normal;font-family:Menlo,'DejaVu Sans Mono',consolas,'Courier New',monospace\">[0.106, 0.106, 0.106, 0.106, 0.106, 0.106, ... 0.106, 0.106, 0.106, 0.106, 0.106]\n",
       "</pre>\n"
      ],
      "text/plain": [
       "[0.106, 0.106, 0.106, 0.106, 0.106, 0.106, ... 0.106, 0.106, 0.106, 0.106, 0.106]\n"
      ]
     },
     "metadata": {},
     "output_type": "display_data"
    },
    {
     "data": {
      "text/html": [
       "<pre style=\"white-space:pre;overflow-x:auto;line-height:normal;font-family:Menlo,'DejaVu Sans Mono',consolas,'Courier New',monospace\">[1.13, 0.14, 0.725, 1.46, 0.638, 1.15, 1.29, ... 1.21, 1.38, 1.38, 1.55, 1.55, 0.14]\n",
       "</pre>\n"
      ],
      "text/plain": [
       "[1.13, 0.14, 0.725, 1.46, 0.638, 1.15, 1.29, ... 1.21, 1.38, 1.38, 1.55, 1.55, 0.14]\n"
      ]
     },
     "metadata": {},
     "output_type": "display_data"
    },
    {
     "data": {
      "text/html": [
       "<pre style=\"white-space:pre;overflow-x:auto;line-height:normal;font-family:Menlo,'DejaVu Sans Mono',consolas,'Courier New',monospace\">Start:  964   VV\n",
       "</pre>\n"
      ],
      "text/plain": [
       "Start:  964   VV\n"
      ]
     },
     "metadata": {},
     "output_type": "display_data"
    },
    {
     "data": {
      "text/html": [
       "<pre style=\"white-space:pre;overflow-x:auto;line-height:normal;font-family:Menlo,'DejaVu Sans Mono',consolas,'Courier New',monospace\">Extra Ele Veto:  909\n",
       "</pre>\n"
      ],
      "text/plain": [
       "Extra Ele Veto:  909\n"
      ]
     },
     "metadata": {},
     "output_type": "display_data"
    },
    {
     "data": {
      "text/html": [
       "<pre style=\"white-space:pre;overflow-x:auto;line-height:normal;font-family:Menlo,'DejaVu Sans Mono',consolas,'Courier New',monospace\">Extra Mu Veto:  28\n",
       "</pre>\n"
      ],
      "text/plain": [
       "Extra Mu Veto:  28\n"
      ]
     },
     "metadata": {},
     "output_type": "display_data"
    },
    {
     "data": {
      "text/html": [
       "<pre style=\"white-space:pre;overflow-x:auto;line-height:normal;font-family:Menlo,'DejaVu Sans Mono',consolas,'Courier New',monospace\">BJet Veto:  13\n",
       "</pre>\n"
      ],
      "text/plain": [
       "BJet Veto:  13\n"
      ]
     },
     "metadata": {},
     "output_type": "display_data"
    },
    {
     "data": {
      "text/html": [
       "<pre style=\"white-space:pre;overflow-x:auto;line-height:normal;font-family:Menlo,'DejaVu Sans Mono',consolas,'Courier New',monospace\">Pairs:  23  Vector:  23\n",
       "</pre>\n"
      ],
      "text/plain": [
       "Pairs:  23  Vector:  23\n"
      ]
     },
     "metadata": {},
     "output_type": "display_data"
    },
    {
     "data": {
      "text/html": [
       "<pre style=\"white-space:pre;overflow-x:auto;line-height:normal;font-family:Menlo,'DejaVu Sans Mono',consolas,'Courier New',monospace\">[0.106, 0.106, 0.106, 0.106, 0.106, 0.106, ... 0.106, 0.106, 0.106, 0.106, 0.106]\n",
       "</pre>\n"
      ],
      "text/plain": [
       "[0.106, 0.106, 0.106, 0.106, 0.106, 0.106, ... 0.106, 0.106, 0.106, 0.106, 0.106]\n"
      ]
     },
     "metadata": {},
     "output_type": "display_data"
    },
    {
     "data": {
      "text/html": [
       "<pre style=\"white-space:pre;overflow-x:auto;line-height:normal;font-family:Menlo,'DejaVu Sans Mono',consolas,'Courier New',monospace\">[1.13, 0.14, 0.725, 1.46, 0.638, 1.15, 1.29, ... 1.21, 1.38, 1.38, 1.55, 1.55, 0.14]\n",
       "</pre>\n"
      ],
      "text/plain": [
       "[1.13, 0.14, 0.725, 1.46, 0.638, 1.15, 1.29, ... 1.21, 1.38, 1.38, 1.55, 1.55, 0.14]\n"
      ]
     },
     "metadata": {},
     "output_type": "display_data"
    },
    {
     "data": {
      "text/html": [
       "<pre style=\"white-space:pre;overflow-x:auto;line-height:normal;font-family:Menlo,'DejaVu Sans Mono',consolas,'Courier New',monospace\">Start:  964   VV\n",
       "</pre>\n"
      ],
      "text/plain": [
       "Start:  964   VV\n"
      ]
     },
     "metadata": {},
     "output_type": "display_data"
    },
    {
     "data": {
      "text/html": [
       "<pre style=\"white-space:pre;overflow-x:auto;line-height:normal;font-family:Menlo,'DejaVu Sans Mono',consolas,'Courier New',monospace\">Extra Ele Veto:  909\n",
       "</pre>\n"
      ],
      "text/plain": [
       "Extra Ele Veto:  909\n"
      ]
     },
     "metadata": {},
     "output_type": "display_data"
    },
    {
     "data": {
      "text/html": [
       "<pre style=\"white-space:pre;overflow-x:auto;line-height:normal;font-family:Menlo,'DejaVu Sans Mono',consolas,'Courier New',monospace\">Extra Mu Veto:  28\n",
       "</pre>\n"
      ],
      "text/plain": [
       "Extra Mu Veto:  28\n"
      ]
     },
     "metadata": {},
     "output_type": "display_data"
    },
    {
     "data": {
      "text/html": [
       "<pre style=\"white-space:pre;overflow-x:auto;line-height:normal;font-family:Menlo,'DejaVu Sans Mono',consolas,'Courier New',monospace\">BJet Veto:  13\n",
       "</pre>\n"
      ],
      "text/plain": [
       "BJet Veto:  13\n"
      ]
     },
     "metadata": {},
     "output_type": "display_data"
    },
    {
     "data": {
      "text/html": [
       "<pre style=\"white-space:pre;overflow-x:auto;line-height:normal;font-family:Menlo,'DejaVu Sans Mono',consolas,'Courier New',monospace\">Pairs:  23  Vector:  23\n",
       "</pre>\n"
      ],
      "text/plain": [
       "Pairs:  23  Vector:  23\n"
      ]
     },
     "metadata": {},
     "output_type": "display_data"
    },
    {
     "data": {
      "text/html": [
       "<pre style=\"white-space:pre;overflow-x:auto;line-height:normal;font-family:Menlo,'DejaVu Sans Mono',consolas,'Courier New',monospace\">[0.106, 0.106, 0.106, 0.106, 0.106, 0.106, ... 0.106, 0.106, 0.106, 0.106, 0.106]\n",
       "</pre>\n"
      ],
      "text/plain": [
       "[0.106, 0.106, 0.106, 0.106, 0.106, 0.106, ... 0.106, 0.106, 0.106, 0.106, 0.106]\n"
      ]
     },
     "metadata": {},
     "output_type": "display_data"
    },
    {
     "data": {
      "text/html": [
       "<pre style=\"white-space:pre;overflow-x:auto;line-height:normal;font-family:Menlo,'DejaVu Sans Mono',consolas,'Courier New',monospace\">[1.13, 0.14, 0.725, 1.46, 0.638, 1.15, 1.29, ... 1.21, 1.38, 1.38, 1.55, 1.55, 0.14]\n",
       "</pre>\n"
      ],
      "text/plain": [
       "[1.13, 0.14, 0.725, 1.46, 0.638, 1.15, 1.29, ... 1.21, 1.38, 1.38, 1.55, 1.55, 0.14]\n"
      ]
     },
     "metadata": {},
     "output_type": "display_data"
    },
    {
     "data": {
      "text/html": [
       "<pre style=\"white-space:pre;overflow-x:auto;line-height:normal;font-family:Menlo,'DejaVu Sans Mono',consolas,'Courier New',monospace\">Start:  964   VV\n",
       "</pre>\n"
      ],
      "text/plain": [
       "Start:  964   VV\n"
      ]
     },
     "metadata": {},
     "output_type": "display_data"
    },
    {
     "data": {
      "text/html": [
       "<pre style=\"white-space:pre;overflow-x:auto;line-height:normal;font-family:Menlo,'DejaVu Sans Mono',consolas,'Courier New',monospace\">Extra Ele Veto:  909\n",
       "</pre>\n"
      ],
      "text/plain": [
       "Extra Ele Veto:  909\n"
      ]
     },
     "metadata": {},
     "output_type": "display_data"
    },
    {
     "data": {
      "text/html": [
       "<pre style=\"white-space:pre;overflow-x:auto;line-height:normal;font-family:Menlo,'DejaVu Sans Mono',consolas,'Courier New',monospace\">Extra Mu Veto:  28\n",
       "</pre>\n"
      ],
      "text/plain": [
       "Extra Mu Veto:  28\n"
      ]
     },
     "metadata": {},
     "output_type": "display_data"
    },
    {
     "data": {
      "text/html": [
       "<pre style=\"white-space:pre;overflow-x:auto;line-height:normal;font-family:Menlo,'DejaVu Sans Mono',consolas,'Courier New',monospace\">BJet Veto:  13\n",
       "</pre>\n"
      ],
      "text/plain": [
       "BJet Veto:  13\n"
      ]
     },
     "metadata": {},
     "output_type": "display_data"
    },
    {
     "data": {
      "text/html": [
       "<pre style=\"white-space:pre;overflow-x:auto;line-height:normal;font-family:Menlo,'DejaVu Sans Mono',consolas,'Courier New',monospace\">Pairs:  23  Vector:  23\n",
       "</pre>\n"
      ],
      "text/plain": [
       "Pairs:  23  Vector:  23\n"
      ]
     },
     "metadata": {},
     "output_type": "display_data"
    },
    {
     "data": {
      "text/html": [
       "<pre style=\"white-space:pre;overflow-x:auto;line-height:normal;font-family:Menlo,'DejaVu Sans Mono',consolas,'Courier New',monospace\">[0.106, 0.106, 0.106, 0.106, 0.106, 0.106, ... 0.106, 0.106, 0.106, 0.106, 0.106]\n",
       "</pre>\n"
      ],
      "text/plain": [
       "[0.106, 0.106, 0.106, 0.106, 0.106, 0.106, ... 0.106, 0.106, 0.106, 0.106, 0.106]\n"
      ]
     },
     "metadata": {},
     "output_type": "display_data"
    },
    {
     "data": {
      "text/html": [
       "<pre style=\"white-space:pre;overflow-x:auto;line-height:normal;font-family:Menlo,'DejaVu Sans Mono',consolas,'Courier New',monospace\">[1.13, 0.14, 0.725, 1.46, 0.638, 1.15, 1.29, ... 1.21, 1.38, 1.38, 1.55, 1.55, 0.14]\n",
       "</pre>\n"
      ],
      "text/plain": [
       "[1.13, 0.14, 0.725, 1.46, 0.638, 1.15, 1.29, ... 1.21, 1.38, 1.38, 1.55, 1.55, 0.14]\n"
      ]
     },
     "metadata": {},
     "output_type": "display_data"
    },
    {
     "data": {
      "text/html": [
       "<pre style=\"white-space:pre;overflow-x:auto;line-height:normal;font-family:Menlo,'DejaVu Sans Mono',consolas,'Courier New',monospace\">Start:  964   VV\n",
       "</pre>\n"
      ],
      "text/plain": [
       "Start:  964   VV\n"
      ]
     },
     "metadata": {},
     "output_type": "display_data"
    },
    {
     "data": {
      "text/html": [
       "<pre style=\"white-space:pre;overflow-x:auto;line-height:normal;font-family:Menlo,'DejaVu Sans Mono',consolas,'Courier New',monospace\">Extra Ele Veto:  909\n",
       "</pre>\n"
      ],
      "text/plain": [
       "Extra Ele Veto:  909\n"
      ]
     },
     "metadata": {},
     "output_type": "display_data"
    },
    {
     "data": {
      "text/html": [
       "<pre style=\"white-space:pre;overflow-x:auto;line-height:normal;font-family:Menlo,'DejaVu Sans Mono',consolas,'Courier New',monospace\">Extra Mu Veto:  28\n",
       "</pre>\n"
      ],
      "text/plain": [
       "Extra Mu Veto:  28\n"
      ]
     },
     "metadata": {},
     "output_type": "display_data"
    },
    {
     "data": {
      "text/html": [
       "<pre style=\"white-space:pre;overflow-x:auto;line-height:normal;font-family:Menlo,'DejaVu Sans Mono',consolas,'Courier New',monospace\">BJet Veto:  13\n",
       "</pre>\n"
      ],
      "text/plain": [
       "BJet Veto:  13\n"
      ]
     },
     "metadata": {},
     "output_type": "display_data"
    },
    {
     "data": {
      "text/html": [
       "<pre style=\"white-space:pre;overflow-x:auto;line-height:normal;font-family:Menlo,'DejaVu Sans Mono',consolas,'Courier New',monospace\">Pairs:  23  Vector:  23\n",
       "</pre>\n"
      ],
      "text/plain": [
       "Pairs:  23  Vector:  23\n"
      ]
     },
     "metadata": {},
     "output_type": "display_data"
    },
    {
     "data": {
      "text/html": [
       "<pre style=\"white-space:pre;overflow-x:auto;line-height:normal;font-family:Menlo,'DejaVu Sans Mono',consolas,'Courier New',monospace\">[0.106, 0.106, 0.106, 0.106, 0.106, 0.106, ... 0.106, 0.106, 0.106, 0.106, 0.106]\n",
       "</pre>\n"
      ],
      "text/plain": [
       "[0.106, 0.106, 0.106, 0.106, 0.106, 0.106, ... 0.106, 0.106, 0.106, 0.106, 0.106]\n"
      ]
     },
     "metadata": {},
     "output_type": "display_data"
    },
    {
     "data": {
      "text/html": [
       "<pre style=\"white-space:pre;overflow-x:auto;line-height:normal;font-family:Menlo,'DejaVu Sans Mono',consolas,'Courier New',monospace\">[1.13, 0.14, 0.725, 1.46, 0.638, 1.15, 1.29, ... 1.21, 1.38, 1.38, 1.55, 1.55, 0.14]\n",
       "</pre>\n"
      ],
      "text/plain": [
       "[1.13, 0.14, 0.725, 1.46, 0.638, 1.15, 1.29, ... 1.21, 1.38, 1.38, 1.55, 1.55, 0.14]\n"
      ]
     },
     "metadata": {},
     "output_type": "display_data"
    },
    {
     "data": {
      "text/html": [
       "<pre style=\"white-space:pre;overflow-x:auto;line-height:normal;font-family:Menlo,'DejaVu Sans Mono',consolas,'Courier New',monospace\">Start:  964   VV\n",
       "</pre>\n"
      ],
      "text/plain": [
       "Start:  964   VV\n"
      ]
     },
     "metadata": {},
     "output_type": "display_data"
    },
    {
     "data": {
      "text/html": [
       "<pre style=\"white-space:pre;overflow-x:auto;line-height:normal;font-family:Menlo,'DejaVu Sans Mono',consolas,'Courier New',monospace\">Extra Ele Veto:  909\n",
       "</pre>\n"
      ],
      "text/plain": [
       "Extra Ele Veto:  909\n"
      ]
     },
     "metadata": {},
     "output_type": "display_data"
    },
    {
     "data": {
      "text/html": [
       "<pre style=\"white-space:pre;overflow-x:auto;line-height:normal;font-family:Menlo,'DejaVu Sans Mono',consolas,'Courier New',monospace\">Extra Mu Veto:  28\n",
       "</pre>\n"
      ],
      "text/plain": [
       "Extra Mu Veto:  28\n"
      ]
     },
     "metadata": {},
     "output_type": "display_data"
    },
    {
     "data": {
      "text/html": [
       "<pre style=\"white-space:pre;overflow-x:auto;line-height:normal;font-family:Menlo,'DejaVu Sans Mono',consolas,'Courier New',monospace\">BJet Veto:  13\n",
       "</pre>\n"
      ],
      "text/plain": [
       "BJet Veto:  13\n"
      ]
     },
     "metadata": {},
     "output_type": "display_data"
    },
    {
     "data": {
      "text/html": [
       "<pre style=\"white-space:pre;overflow-x:auto;line-height:normal;font-family:Menlo,'DejaVu Sans Mono',consolas,'Courier New',monospace\">Pairs:  23  Vector:  23\n",
       "</pre>\n"
      ],
      "text/plain": [
       "Pairs:  23  Vector:  23\n"
      ]
     },
     "metadata": {},
     "output_type": "display_data"
    },
    {
     "data": {
      "text/html": [
       "<pre style=\"white-space:pre;overflow-x:auto;line-height:normal;font-family:Menlo,'DejaVu Sans Mono',consolas,'Courier New',monospace\">[0.106, 0.106, 0.106, 0.106, 0.106, 0.106, ... 0.106, 0.106, 0.106, 0.106, 0.106]\n",
       "</pre>\n"
      ],
      "text/plain": [
       "[0.106, 0.106, 0.106, 0.106, 0.106, 0.106, ... 0.106, 0.106, 0.106, 0.106, 0.106]\n"
      ]
     },
     "metadata": {},
     "output_type": "display_data"
    },
    {
     "data": {
      "text/html": [
       "<pre style=\"white-space:pre;overflow-x:auto;line-height:normal;font-family:Menlo,'DejaVu Sans Mono',consolas,'Courier New',monospace\">[1.13, 0.14, 0.725, 1.46, 0.638, 1.15, 1.29, ... 1.21, 1.38, 1.38, 1.55, 1.55, 0.14]\n",
       "</pre>\n"
      ],
      "text/plain": [
       "[1.13, 0.14, 0.725, 1.46, 0.638, 1.15, 1.29, ... 1.21, 1.38, 1.38, 1.55, 1.55, 0.14]\n"
      ]
     },
     "metadata": {},
     "output_type": "display_data"
    },
    {
     "data": {
      "text/html": [
       "<pre style=\"white-space:pre;overflow-x:auto;line-height:normal;font-family:Menlo,'DejaVu Sans Mono',consolas,'Courier New',monospace\">Start:  964   VV\n",
       "</pre>\n"
      ],
      "text/plain": [
       "Start:  964   VV\n"
      ]
     },
     "metadata": {},
     "output_type": "display_data"
    },
    {
     "data": {
      "text/html": [
       "<pre style=\"white-space:pre;overflow-x:auto;line-height:normal;font-family:Menlo,'DejaVu Sans Mono',consolas,'Courier New',monospace\">Extra Ele Veto:  909\n",
       "</pre>\n"
      ],
      "text/plain": [
       "Extra Ele Veto:  909\n"
      ]
     },
     "metadata": {},
     "output_type": "display_data"
    },
    {
     "data": {
      "text/html": [
       "<pre style=\"white-space:pre;overflow-x:auto;line-height:normal;font-family:Menlo,'DejaVu Sans Mono',consolas,'Courier New',monospace\">Extra Mu Veto:  28\n",
       "</pre>\n"
      ],
      "text/plain": [
       "Extra Mu Veto:  28\n"
      ]
     },
     "metadata": {},
     "output_type": "display_data"
    },
    {
     "data": {
      "text/html": [
       "<pre style=\"white-space:pre;overflow-x:auto;line-height:normal;font-family:Menlo,'DejaVu Sans Mono',consolas,'Courier New',monospace\">BJet Veto:  13\n",
       "</pre>\n"
      ],
      "text/plain": [
       "BJet Veto:  13\n"
      ]
     },
     "metadata": {},
     "output_type": "display_data"
    },
    {
     "data": {
      "text/html": [
       "<pre style=\"white-space:pre;overflow-x:auto;line-height:normal;font-family:Menlo,'DejaVu Sans Mono',consolas,'Courier New',monospace\">Pairs:  23  Vector:  23\n",
       "</pre>\n"
      ],
      "text/plain": [
       "Pairs:  23  Vector:  23\n"
      ]
     },
     "metadata": {},
     "output_type": "display_data"
    },
    {
     "data": {
      "text/html": [
       "<pre style=\"white-space:pre;overflow-x:auto;line-height:normal;font-family:Menlo,'DejaVu Sans Mono',consolas,'Courier New',monospace\">[0.106, 0.106, 0.106, 0.106, 0.106, 0.106, ... 0.106, 0.106, 0.106, 0.106, 0.106]\n",
       "</pre>\n"
      ],
      "text/plain": [
       "[0.106, 0.106, 0.106, 0.106, 0.106, 0.106, ... 0.106, 0.106, 0.106, 0.106, 0.106]\n"
      ]
     },
     "metadata": {},
     "output_type": "display_data"
    },
    {
     "data": {
      "text/html": [
       "<pre style=\"white-space:pre;overflow-x:auto;line-height:normal;font-family:Menlo,'DejaVu Sans Mono',consolas,'Courier New',monospace\">[1.13, 0.14, 0.725, 1.46, 0.638, 1.15, 1.29, ... 1.21, 1.38, 1.38, 1.55, 1.55, 0.14]\n",
       "</pre>\n"
      ],
      "text/plain": [
       "[1.13, 0.14, 0.725, 1.46, 0.638, 1.15, 1.29, ... 1.21, 1.38, 1.38, 1.55, 1.55, 0.14]\n"
      ]
     },
     "metadata": {},
     "output_type": "display_data"
    },
    {
     "data": {
      "text/html": [
       "<pre style=\"white-space:pre;overflow-x:auto;line-height:normal;font-family:Menlo,'DejaVu Sans Mono',consolas,'Courier New',monospace\">Start:  964   VV\n",
       "</pre>\n"
      ],
      "text/plain": [
       "Start:  964   VV\n"
      ]
     },
     "metadata": {},
     "output_type": "display_data"
    },
    {
     "data": {
      "text/html": [
       "<pre style=\"white-space:pre;overflow-x:auto;line-height:normal;font-family:Menlo,'DejaVu Sans Mono',consolas,'Courier New',monospace\">Extra Ele Veto:  909\n",
       "</pre>\n"
      ],
      "text/plain": [
       "Extra Ele Veto:  909\n"
      ]
     },
     "metadata": {},
     "output_type": "display_data"
    },
    {
     "data": {
      "text/html": [
       "<pre style=\"white-space:pre;overflow-x:auto;line-height:normal;font-family:Menlo,'DejaVu Sans Mono',consolas,'Courier New',monospace\">Extra Mu Veto:  28\n",
       "</pre>\n"
      ],
      "text/plain": [
       "Extra Mu Veto:  28\n"
      ]
     },
     "metadata": {},
     "output_type": "display_data"
    },
    {
     "data": {
      "text/html": [
       "<pre style=\"white-space:pre;overflow-x:auto;line-height:normal;font-family:Menlo,'DejaVu Sans Mono',consolas,'Courier New',monospace\">BJet Veto:  13\n",
       "</pre>\n"
      ],
      "text/plain": [
       "BJet Veto:  13\n"
      ]
     },
     "metadata": {},
     "output_type": "display_data"
    },
    {
     "data": {
      "text/html": [
       "<pre style=\"white-space:pre;overflow-x:auto;line-height:normal;font-family:Menlo,'DejaVu Sans Mono',consolas,'Courier New',monospace\">Pairs:  23  Vector:  23\n",
       "</pre>\n"
      ],
      "text/plain": [
       "Pairs:  23  Vector:  23\n"
      ]
     },
     "metadata": {},
     "output_type": "display_data"
    },
    {
     "data": {
      "text/html": [
       "<pre style=\"white-space:pre;overflow-x:auto;line-height:normal;font-family:Menlo,'DejaVu Sans Mono',consolas,'Courier New',monospace\">[0.106, 0.106, 0.106, 0.106, 0.106, 0.106, ... 0.106, 0.106, 0.106, 0.106, 0.106]\n",
       "</pre>\n"
      ],
      "text/plain": [
       "[0.106, 0.106, 0.106, 0.106, 0.106, 0.106, ... 0.106, 0.106, 0.106, 0.106, 0.106]\n"
      ]
     },
     "metadata": {},
     "output_type": "display_data"
    },
    {
     "data": {
      "text/html": [
       "<pre style=\"white-space:pre;overflow-x:auto;line-height:normal;font-family:Menlo,'DejaVu Sans Mono',consolas,'Courier New',monospace\">[1.13, 0.14, 0.725, 1.46, 0.638, 1.15, 1.29, ... 1.21, 1.38, 1.38, 1.55, 1.55, 0.14]\n",
       "</pre>\n"
      ],
      "text/plain": [
       "[1.13, 0.14, 0.725, 1.46, 0.638, 1.15, 1.29, ... 1.21, 1.38, 1.38, 1.55, 1.55, 0.14]\n"
      ]
     },
     "metadata": {},
     "output_type": "display_data"
    },
    {
     "data": {
      "text/html": [
       "<pre style=\"white-space:pre;overflow-x:auto;line-height:normal;font-family:Menlo,'DejaVu Sans Mono',consolas,'Courier New',monospace\">Start:  964   VV\n",
       "</pre>\n"
      ],
      "text/plain": [
       "Start:  964   VV\n"
      ]
     },
     "metadata": {},
     "output_type": "display_data"
    },
    {
     "data": {
      "text/html": [
       "<pre style=\"white-space:pre;overflow-x:auto;line-height:normal;font-family:Menlo,'DejaVu Sans Mono',consolas,'Courier New',monospace\">Extra Ele Veto:  909\n",
       "</pre>\n"
      ],
      "text/plain": [
       "Extra Ele Veto:  909\n"
      ]
     },
     "metadata": {},
     "output_type": "display_data"
    },
    {
     "data": {
      "text/html": [
       "<pre style=\"white-space:pre;overflow-x:auto;line-height:normal;font-family:Menlo,'DejaVu Sans Mono',consolas,'Courier New',monospace\">Extra Mu Veto:  28\n",
       "</pre>\n"
      ],
      "text/plain": [
       "Extra Mu Veto:  28\n"
      ]
     },
     "metadata": {},
     "output_type": "display_data"
    },
    {
     "data": {
      "text/html": [
       "<pre style=\"white-space:pre;overflow-x:auto;line-height:normal;font-family:Menlo,'DejaVu Sans Mono',consolas,'Courier New',monospace\">BJet Veto:  13\n",
       "</pre>\n"
      ],
      "text/plain": [
       "BJet Veto:  13\n"
      ]
     },
     "metadata": {},
     "output_type": "display_data"
    },
    {
     "data": {
      "text/html": [
       "<pre style=\"white-space:pre;overflow-x:auto;line-height:normal;font-family:Menlo,'DejaVu Sans Mono',consolas,'Courier New',monospace\">Pairs:  23  Vector:  23\n",
       "</pre>\n"
      ],
      "text/plain": [
       "Pairs:  23  Vector:  23\n"
      ]
     },
     "metadata": {},
     "output_type": "display_data"
    },
    {
     "data": {
      "text/html": [
       "<pre style=\"white-space:pre;overflow-x:auto;line-height:normal;font-family:Menlo,'DejaVu Sans Mono',consolas,'Courier New',monospace\">[0.106, 0.106, 0.106, 0.106, 0.106, 0.106, ... 0.106, 0.106, 0.106, 0.106, 0.106]\n",
       "</pre>\n"
      ],
      "text/plain": [
       "[0.106, 0.106, 0.106, 0.106, 0.106, 0.106, ... 0.106, 0.106, 0.106, 0.106, 0.106]\n"
      ]
     },
     "metadata": {},
     "output_type": "display_data"
    },
    {
     "data": {
      "text/html": [
       "<pre style=\"white-space:pre;overflow-x:auto;line-height:normal;font-family:Menlo,'DejaVu Sans Mono',consolas,'Courier New',monospace\">[1.13, 0.14, 0.725, 1.46, 0.638, 1.15, 1.29, ... 1.21, 1.38, 1.38, 1.55, 1.55, 0.14]\n",
       "</pre>\n"
      ],
      "text/plain": [
       "[1.13, 0.14, 0.725, 1.46, 0.638, 1.15, 1.29, ... 1.21, 1.38, 1.38, 1.55, 1.55, 0.14]\n"
      ]
     },
     "metadata": {},
     "output_type": "display_data"
    },
    {
     "data": {
      "text/html": [
       "<pre style=\"white-space:pre;overflow-x:auto;line-height:normal;font-family:Menlo,'DejaVu Sans Mono',consolas,'Courier New',monospace\">Start:  47911   TT\n",
       "</pre>\n"
      ],
      "text/plain": [
       "Start:  47911   TT\n"
      ]
     },
     "metadata": {},
     "output_type": "display_data"
    },
    {
     "data": {
      "text/html": [
       "<pre style=\"white-space:pre;overflow-x:auto;line-height:normal;font-family:Menlo,'DejaVu Sans Mono',consolas,'Courier New',monospace\">Extra Ele Veto:  40934\n",
       "</pre>\n"
      ],
      "text/plain": [
       "Extra Ele Veto:  40934\n"
      ]
     },
     "metadata": {},
     "output_type": "display_data"
    },
    {
     "data": {
      "text/html": [
       "<pre style=\"white-space:pre;overflow-x:auto;line-height:normal;font-family:Menlo,'DejaVu Sans Mono',consolas,'Courier New',monospace\">Extra Mu Veto:  1684\n",
       "</pre>\n"
      ],
      "text/plain": [
       "Extra Mu Veto:  1684\n"
      ]
     },
     "metadata": {},
     "output_type": "display_data"
    },
    {
     "data": {
      "text/html": [
       "<pre style=\"white-space:pre;overflow-x:auto;line-height:normal;font-family:Menlo,'DejaVu Sans Mono',consolas,'Courier New',monospace\">BJet Veto:  308\n",
       "</pre>\n"
      ],
      "text/plain": [
       "BJet Veto:  308\n"
      ]
     },
     "metadata": {},
     "output_type": "display_data"
    },
    {
     "data": {
      "text/html": [
       "<pre style=\"white-space:pre;overflow-x:auto;line-height:normal;font-family:Menlo,'DejaVu Sans Mono',consolas,'Courier New',monospace\">Pairs:  610  Vector:  610\n",
       "</pre>\n"
      ],
      "text/plain": [
       "Pairs:  610  Vector:  610\n"
      ]
     },
     "metadata": {},
     "output_type": "display_data"
    },
    {
     "data": {
      "text/html": [
       "<pre style=\"white-space:pre;overflow-x:auto;line-height:normal;font-family:Menlo,'DejaVu Sans Mono',consolas,'Courier New',monospace\">[0.106, 0.106, 0.106, 0.106, 0.106, 0.106, ... 0.106, 0.106, 0.106, 0.106, 0.106]\n",
       "</pre>\n"
      ],
      "text/plain": [
       "[0.106, 0.106, 0.106, 0.106, 0.106, 0.106, ... 0.106, 0.106, 0.106, 0.106, 0.106]\n"
      ]
     },
     "metadata": {},
     "output_type": "display_data"
    },
    {
     "data": {
      "text/html": [
       "<pre style=\"white-space:pre;overflow-x:auto;line-height:normal;font-family:Menlo,'DejaVu Sans Mono',consolas,'Courier New',monospace\">[0.14, 0.14, 0.996, 0.996, 0.635, 0.635, ... 1.33, 0.986, 1.07, 1.25, 0.955, 1.21]\n",
       "</pre>\n"
      ],
      "text/plain": [
       "[0.14, 0.14, 0.996, 0.996, 0.635, 0.635, ... 1.33, 0.986, 1.07, 1.25, 0.955, 1.21]\n"
      ]
     },
     "metadata": {},
     "output_type": "display_data"
    },
    {
     "data": {
      "text/html": [
       "<pre style=\"white-space:pre;overflow-x:auto;line-height:normal;font-family:Menlo,'DejaVu Sans Mono',consolas,'Courier New',monospace\">Start:  47911   TT\n",
       "</pre>\n"
      ],
      "text/plain": [
       "Start:  47911   TT\n"
      ]
     },
     "metadata": {},
     "output_type": "display_data"
    },
    {
     "data": {
      "text/html": [
       "<pre style=\"white-space:pre;overflow-x:auto;line-height:normal;font-family:Menlo,'DejaVu Sans Mono',consolas,'Courier New',monospace\">Extra Ele Veto:  40934\n",
       "</pre>\n"
      ],
      "text/plain": [
       "Extra Ele Veto:  40934\n"
      ]
     },
     "metadata": {},
     "output_type": "display_data"
    },
    {
     "data": {
      "text/html": [
       "<pre style=\"white-space:pre;overflow-x:auto;line-height:normal;font-family:Menlo,'DejaVu Sans Mono',consolas,'Courier New',monospace\">Extra Mu Veto:  1684\n",
       "</pre>\n"
      ],
      "text/plain": [
       "Extra Mu Veto:  1684\n"
      ]
     },
     "metadata": {},
     "output_type": "display_data"
    },
    {
     "data": {
      "text/html": [
       "<pre style=\"white-space:pre;overflow-x:auto;line-height:normal;font-family:Menlo,'DejaVu Sans Mono',consolas,'Courier New',monospace\">BJet Veto:  308\n",
       "</pre>\n"
      ],
      "text/plain": [
       "BJet Veto:  308\n"
      ]
     },
     "metadata": {},
     "output_type": "display_data"
    },
    {
     "data": {
      "text/html": [
       "<pre style=\"white-space:pre;overflow-x:auto;line-height:normal;font-family:Menlo,'DejaVu Sans Mono',consolas,'Courier New',monospace\">Pairs:  610  Vector:  610\n",
       "</pre>\n"
      ],
      "text/plain": [
       "Pairs:  610  Vector:  610\n"
      ]
     },
     "metadata": {},
     "output_type": "display_data"
    },
    {
     "data": {
      "text/html": [
       "<pre style=\"white-space:pre;overflow-x:auto;line-height:normal;font-family:Menlo,'DejaVu Sans Mono',consolas,'Courier New',monospace\">[0.106, 0.106, 0.106, 0.106, 0.106, 0.106, ... 0.106, 0.106, 0.106, 0.106, 0.106]\n",
       "</pre>\n"
      ],
      "text/plain": [
       "[0.106, 0.106, 0.106, 0.106, 0.106, 0.106, ... 0.106, 0.106, 0.106, 0.106, 0.106]\n"
      ]
     },
     "metadata": {},
     "output_type": "display_data"
    },
    {
     "data": {
      "text/html": [
       "<pre style=\"white-space:pre;overflow-x:auto;line-height:normal;font-family:Menlo,'DejaVu Sans Mono',consolas,'Courier New',monospace\">[0.14, 0.14, 0.996, 0.996, 0.635, 0.635, ... 1.33, 0.986, 1.07, 1.25, 0.955, 1.21]\n",
       "</pre>\n"
      ],
      "text/plain": [
       "[0.14, 0.14, 0.996, 0.996, 0.635, 0.635, ... 1.33, 0.986, 1.07, 1.25, 0.955, 1.21]\n"
      ]
     },
     "metadata": {},
     "output_type": "display_data"
    },
    {
     "data": {
      "text/html": [
       "<pre style=\"white-space:pre;overflow-x:auto;line-height:normal;font-family:Menlo,'DejaVu Sans Mono',consolas,'Courier New',monospace\">Start:  47911   TT\n",
       "</pre>\n"
      ],
      "text/plain": [
       "Start:  47911   TT\n"
      ]
     },
     "metadata": {},
     "output_type": "display_data"
    },
    {
     "data": {
      "text/html": [
       "<pre style=\"white-space:pre;overflow-x:auto;line-height:normal;font-family:Menlo,'DejaVu Sans Mono',consolas,'Courier New',monospace\">Extra Ele Veto:  40934\n",
       "</pre>\n"
      ],
      "text/plain": [
       "Extra Ele Veto:  40934\n"
      ]
     },
     "metadata": {},
     "output_type": "display_data"
    },
    {
     "data": {
      "text/html": [
       "<pre style=\"white-space:pre;overflow-x:auto;line-height:normal;font-family:Menlo,'DejaVu Sans Mono',consolas,'Courier New',monospace\">Extra Mu Veto:  1684\n",
       "</pre>\n"
      ],
      "text/plain": [
       "Extra Mu Veto:  1684\n"
      ]
     },
     "metadata": {},
     "output_type": "display_data"
    },
    {
     "data": {
      "text/html": [
       "<pre style=\"white-space:pre;overflow-x:auto;line-height:normal;font-family:Menlo,'DejaVu Sans Mono',consolas,'Courier New',monospace\">BJet Veto:  308\n",
       "</pre>\n"
      ],
      "text/plain": [
       "BJet Veto:  308\n"
      ]
     },
     "metadata": {},
     "output_type": "display_data"
    },
    {
     "data": {
      "text/html": [
       "<pre style=\"white-space:pre;overflow-x:auto;line-height:normal;font-family:Menlo,'DejaVu Sans Mono',consolas,'Courier New',monospace\">Pairs:  610  Vector:  610\n",
       "</pre>\n"
      ],
      "text/plain": [
       "Pairs:  610  Vector:  610\n"
      ]
     },
     "metadata": {},
     "output_type": "display_data"
    },
    {
     "data": {
      "text/html": [
       "<pre style=\"white-space:pre;overflow-x:auto;line-height:normal;font-family:Menlo,'DejaVu Sans Mono',consolas,'Courier New',monospace\">[0.106, 0.106, 0.106, 0.106, 0.106, 0.106, ... 0.106, 0.106, 0.106, 0.106, 0.106]\n",
       "</pre>\n"
      ],
      "text/plain": [
       "[0.106, 0.106, 0.106, 0.106, 0.106, 0.106, ... 0.106, 0.106, 0.106, 0.106, 0.106]\n"
      ]
     },
     "metadata": {},
     "output_type": "display_data"
    },
    {
     "data": {
      "text/html": [
       "<pre style=\"white-space:pre;overflow-x:auto;line-height:normal;font-family:Menlo,'DejaVu Sans Mono',consolas,'Courier New',monospace\">[0.14, 0.14, 0.996, 0.996, 0.635, 0.635, ... 1.33, 0.986, 1.07, 1.25, 0.955, 1.21]\n",
       "</pre>\n"
      ],
      "text/plain": [
       "[0.14, 0.14, 0.996, 0.996, 0.635, 0.635, ... 1.33, 0.986, 1.07, 1.25, 0.955, 1.21]\n"
      ]
     },
     "metadata": {},
     "output_type": "display_data"
    },
    {
     "data": {
      "text/html": [
       "<pre style=\"white-space:pre;overflow-x:auto;line-height:normal;font-family:Menlo,'DejaVu Sans Mono',consolas,'Courier New',monospace\">Start:  47911   TT\n",
       "</pre>\n"
      ],
      "text/plain": [
       "Start:  47911   TT\n"
      ]
     },
     "metadata": {},
     "output_type": "display_data"
    },
    {
     "data": {
      "text/html": [
       "<pre style=\"white-space:pre;overflow-x:auto;line-height:normal;font-family:Menlo,'DejaVu Sans Mono',consolas,'Courier New',monospace\">Extra Ele Veto:  40934\n",
       "</pre>\n"
      ],
      "text/plain": [
       "Extra Ele Veto:  40934\n"
      ]
     },
     "metadata": {},
     "output_type": "display_data"
    },
    {
     "data": {
      "text/html": [
       "<pre style=\"white-space:pre;overflow-x:auto;line-height:normal;font-family:Menlo,'DejaVu Sans Mono',consolas,'Courier New',monospace\">Extra Mu Veto:  1684\n",
       "</pre>\n"
      ],
      "text/plain": [
       "Extra Mu Veto:  1684\n"
      ]
     },
     "metadata": {},
     "output_type": "display_data"
    },
    {
     "data": {
      "text/html": [
       "<pre style=\"white-space:pre;overflow-x:auto;line-height:normal;font-family:Menlo,'DejaVu Sans Mono',consolas,'Courier New',monospace\">BJet Veto:  308\n",
       "</pre>\n"
      ],
      "text/plain": [
       "BJet Veto:  308\n"
      ]
     },
     "metadata": {},
     "output_type": "display_data"
    },
    {
     "data": {
      "text/html": [
       "<pre style=\"white-space:pre;overflow-x:auto;line-height:normal;font-family:Menlo,'DejaVu Sans Mono',consolas,'Courier New',monospace\">Pairs:  610  Vector:  610\n",
       "</pre>\n"
      ],
      "text/plain": [
       "Pairs:  610  Vector:  610\n"
      ]
     },
     "metadata": {},
     "output_type": "display_data"
    },
    {
     "data": {
      "text/html": [
       "<pre style=\"white-space:pre;overflow-x:auto;line-height:normal;font-family:Menlo,'DejaVu Sans Mono',consolas,'Courier New',monospace\">[0.106, 0.106, 0.106, 0.106, 0.106, 0.106, ... 0.106, 0.106, 0.106, 0.106, 0.106]\n",
       "</pre>\n"
      ],
      "text/plain": [
       "[0.106, 0.106, 0.106, 0.106, 0.106, 0.106, ... 0.106, 0.106, 0.106, 0.106, 0.106]\n"
      ]
     },
     "metadata": {},
     "output_type": "display_data"
    },
    {
     "data": {
      "text/html": [
       "<pre style=\"white-space:pre;overflow-x:auto;line-height:normal;font-family:Menlo,'DejaVu Sans Mono',consolas,'Courier New',monospace\">[0.14, 0.14, 0.996, 0.996, 0.635, 0.635, ... 1.33, 0.986, 1.07, 1.25, 0.955, 1.21]\n",
       "</pre>\n"
      ],
      "text/plain": [
       "[0.14, 0.14, 0.996, 0.996, 0.635, 0.635, ... 1.33, 0.986, 1.07, 1.25, 0.955, 1.21]\n"
      ]
     },
     "metadata": {},
     "output_type": "display_data"
    },
    {
     "data": {
      "text/html": [
       "<pre style=\"white-space:pre;overflow-x:auto;line-height:normal;font-family:Menlo,'DejaVu Sans Mono',consolas,'Courier New',monospace\">Start:  47911   TT\n",
       "</pre>\n"
      ],
      "text/plain": [
       "Start:  47911   TT\n"
      ]
     },
     "metadata": {},
     "output_type": "display_data"
    },
    {
     "data": {
      "text/html": [
       "<pre style=\"white-space:pre;overflow-x:auto;line-height:normal;font-family:Menlo,'DejaVu Sans Mono',consolas,'Courier New',monospace\">Extra Ele Veto:  40934\n",
       "</pre>\n"
      ],
      "text/plain": [
       "Extra Ele Veto:  40934\n"
      ]
     },
     "metadata": {},
     "output_type": "display_data"
    },
    {
     "data": {
      "text/html": [
       "<pre style=\"white-space:pre;overflow-x:auto;line-height:normal;font-family:Menlo,'DejaVu Sans Mono',consolas,'Courier New',monospace\">Extra Mu Veto:  1684\n",
       "</pre>\n"
      ],
      "text/plain": [
       "Extra Mu Veto:  1684\n"
      ]
     },
     "metadata": {},
     "output_type": "display_data"
    },
    {
     "data": {
      "text/html": [
       "<pre style=\"white-space:pre;overflow-x:auto;line-height:normal;font-family:Menlo,'DejaVu Sans Mono',consolas,'Courier New',monospace\">BJet Veto:  308\n",
       "</pre>\n"
      ],
      "text/plain": [
       "BJet Veto:  308\n"
      ]
     },
     "metadata": {},
     "output_type": "display_data"
    },
    {
     "data": {
      "text/html": [
       "<pre style=\"white-space:pre;overflow-x:auto;line-height:normal;font-family:Menlo,'DejaVu Sans Mono',consolas,'Courier New',monospace\">Pairs:  610  Vector:  610\n",
       "</pre>\n"
      ],
      "text/plain": [
       "Pairs:  610  Vector:  610\n"
      ]
     },
     "metadata": {},
     "output_type": "display_data"
    },
    {
     "data": {
      "text/html": [
       "<pre style=\"white-space:pre;overflow-x:auto;line-height:normal;font-family:Menlo,'DejaVu Sans Mono',consolas,'Courier New',monospace\">[0.106, 0.106, 0.106, 0.106, 0.106, 0.106, ... 0.106, 0.106, 0.106, 0.106, 0.106]\n",
       "</pre>\n"
      ],
      "text/plain": [
       "[0.106, 0.106, 0.106, 0.106, 0.106, 0.106, ... 0.106, 0.106, 0.106, 0.106, 0.106]\n"
      ]
     },
     "metadata": {},
     "output_type": "display_data"
    },
    {
     "data": {
      "text/html": [
       "<pre style=\"white-space:pre;overflow-x:auto;line-height:normal;font-family:Menlo,'DejaVu Sans Mono',consolas,'Courier New',monospace\">[0.14, 0.14, 0.996, 0.996, 0.635, 0.635, ... 1.33, 0.986, 1.07, 1.25, 0.955, 1.21]\n",
       "</pre>\n"
      ],
      "text/plain": [
       "[0.14, 0.14, 0.996, 0.996, 0.635, 0.635, ... 1.33, 0.986, 1.07, 1.25, 0.955, 1.21]\n"
      ]
     },
     "metadata": {},
     "output_type": "display_data"
    },
    {
     "data": {
      "text/html": [
       "<pre style=\"white-space:pre;overflow-x:auto;line-height:normal;font-family:Menlo,'DejaVu Sans Mono',consolas,'Courier New',monospace\">Start:  47911   TT\n",
       "</pre>\n"
      ],
      "text/plain": [
       "Start:  47911   TT\n"
      ]
     },
     "metadata": {},
     "output_type": "display_data"
    },
    {
     "data": {
      "text/html": [
       "<pre style=\"white-space:pre;overflow-x:auto;line-height:normal;font-family:Menlo,'DejaVu Sans Mono',consolas,'Courier New',monospace\">Extra Ele Veto:  40934\n",
       "</pre>\n"
      ],
      "text/plain": [
       "Extra Ele Veto:  40934\n"
      ]
     },
     "metadata": {},
     "output_type": "display_data"
    },
    {
     "data": {
      "text/html": [
       "<pre style=\"white-space:pre;overflow-x:auto;line-height:normal;font-family:Menlo,'DejaVu Sans Mono',consolas,'Courier New',monospace\">Extra Mu Veto:  1684\n",
       "</pre>\n"
      ],
      "text/plain": [
       "Extra Mu Veto:  1684\n"
      ]
     },
     "metadata": {},
     "output_type": "display_data"
    },
    {
     "data": {
      "text/html": [
       "<pre style=\"white-space:pre;overflow-x:auto;line-height:normal;font-family:Menlo,'DejaVu Sans Mono',consolas,'Courier New',monospace\">BJet Veto:  308\n",
       "</pre>\n"
      ],
      "text/plain": [
       "BJet Veto:  308\n"
      ]
     },
     "metadata": {},
     "output_type": "display_data"
    },
    {
     "data": {
      "text/html": [
       "<pre style=\"white-space:pre;overflow-x:auto;line-height:normal;font-family:Menlo,'DejaVu Sans Mono',consolas,'Courier New',monospace\">Pairs:  610  Vector:  610\n",
       "</pre>\n"
      ],
      "text/plain": [
       "Pairs:  610  Vector:  610\n"
      ]
     },
     "metadata": {},
     "output_type": "display_data"
    },
    {
     "data": {
      "text/html": [
       "<pre style=\"white-space:pre;overflow-x:auto;line-height:normal;font-family:Menlo,'DejaVu Sans Mono',consolas,'Courier New',monospace\">[0.106, 0.106, 0.106, 0.106, 0.106, 0.106, ... 0.106, 0.106, 0.106, 0.106, 0.106]\n",
       "</pre>\n"
      ],
      "text/plain": [
       "[0.106, 0.106, 0.106, 0.106, 0.106, 0.106, ... 0.106, 0.106, 0.106, 0.106, 0.106]\n"
      ]
     },
     "metadata": {},
     "output_type": "display_data"
    },
    {
     "data": {
      "text/html": [
       "<pre style=\"white-space:pre;overflow-x:auto;line-height:normal;font-family:Menlo,'DejaVu Sans Mono',consolas,'Courier New',monospace\">[0.14, 0.14, 0.996, 0.996, 0.635, 0.635, ... 1.33, 0.986, 1.07, 1.25, 0.955, 1.21]\n",
       "</pre>\n"
      ],
      "text/plain": [
       "[0.14, 0.14, 0.996, 0.996, 0.635, 0.635, ... 1.33, 0.986, 1.07, 1.25, 0.955, 1.21]\n"
      ]
     },
     "metadata": {},
     "output_type": "display_data"
    },
    {
     "data": {
      "text/html": [
       "<pre style=\"white-space:pre;overflow-x:auto;line-height:normal;font-family:Menlo,'DejaVu Sans Mono',consolas,'Courier New',monospace\">Start:  47911   TT\n",
       "</pre>\n"
      ],
      "text/plain": [
       "Start:  47911   TT\n"
      ]
     },
     "metadata": {},
     "output_type": "display_data"
    },
    {
     "data": {
      "text/html": [
       "<pre style=\"white-space:pre;overflow-x:auto;line-height:normal;font-family:Menlo,'DejaVu Sans Mono',consolas,'Courier New',monospace\">Extra Ele Veto:  40934\n",
       "</pre>\n"
      ],
      "text/plain": [
       "Extra Ele Veto:  40934\n"
      ]
     },
     "metadata": {},
     "output_type": "display_data"
    },
    {
     "data": {
      "text/html": [
       "<pre style=\"white-space:pre;overflow-x:auto;line-height:normal;font-family:Menlo,'DejaVu Sans Mono',consolas,'Courier New',monospace\">Extra Mu Veto:  1684\n",
       "</pre>\n"
      ],
      "text/plain": [
       "Extra Mu Veto:  1684\n"
      ]
     },
     "metadata": {},
     "output_type": "display_data"
    },
    {
     "data": {
      "text/html": [
       "<pre style=\"white-space:pre;overflow-x:auto;line-height:normal;font-family:Menlo,'DejaVu Sans Mono',consolas,'Courier New',monospace\">BJet Veto:  308\n",
       "</pre>\n"
      ],
      "text/plain": [
       "BJet Veto:  308\n"
      ]
     },
     "metadata": {},
     "output_type": "display_data"
    },
    {
     "data": {
      "text/html": [
       "<pre style=\"white-space:pre;overflow-x:auto;line-height:normal;font-family:Menlo,'DejaVu Sans Mono',consolas,'Courier New',monospace\">Pairs:  610  Vector:  610\n",
       "</pre>\n"
      ],
      "text/plain": [
       "Pairs:  610  Vector:  610\n"
      ]
     },
     "metadata": {},
     "output_type": "display_data"
    },
    {
     "data": {
      "text/html": [
       "<pre style=\"white-space:pre;overflow-x:auto;line-height:normal;font-family:Menlo,'DejaVu Sans Mono',consolas,'Courier New',monospace\">[0.106, 0.106, 0.106, 0.106, 0.106, 0.106, ... 0.106, 0.106, 0.106, 0.106, 0.106]\n",
       "</pre>\n"
      ],
      "text/plain": [
       "[0.106, 0.106, 0.106, 0.106, 0.106, 0.106, ... 0.106, 0.106, 0.106, 0.106, 0.106]\n"
      ]
     },
     "metadata": {},
     "output_type": "display_data"
    },
    {
     "data": {
      "text/html": [
       "<pre style=\"white-space:pre;overflow-x:auto;line-height:normal;font-family:Menlo,'DejaVu Sans Mono',consolas,'Courier New',monospace\">[0.14, 0.14, 0.996, 0.996, 0.635, 0.635, ... 1.33, 0.986, 1.07, 1.25, 0.955, 1.21]\n",
       "</pre>\n"
      ],
      "text/plain": [
       "[0.14, 0.14, 0.996, 0.996, 0.635, 0.635, ... 1.33, 0.986, 1.07, 1.25, 0.955, 1.21]\n"
      ]
     },
     "metadata": {},
     "output_type": "display_data"
    },
    {
     "data": {
      "text/html": [
       "<pre style=\"white-space:pre;overflow-x:auto;line-height:normal;font-family:Menlo,'DejaVu Sans Mono',consolas,'Courier New',monospace\">Start:  47911   TT\n",
       "</pre>\n"
      ],
      "text/plain": [
       "Start:  47911   TT\n"
      ]
     },
     "metadata": {},
     "output_type": "display_data"
    },
    {
     "data": {
      "text/html": [
       "<pre style=\"white-space:pre;overflow-x:auto;line-height:normal;font-family:Menlo,'DejaVu Sans Mono',consolas,'Courier New',monospace\">Extra Ele Veto:  40934\n",
       "</pre>\n"
      ],
      "text/plain": [
       "Extra Ele Veto:  40934\n"
      ]
     },
     "metadata": {},
     "output_type": "display_data"
    },
    {
     "data": {
      "text/html": [
       "<pre style=\"white-space:pre;overflow-x:auto;line-height:normal;font-family:Menlo,'DejaVu Sans Mono',consolas,'Courier New',monospace\">Extra Mu Veto:  1684\n",
       "</pre>\n"
      ],
      "text/plain": [
       "Extra Mu Veto:  1684\n"
      ]
     },
     "metadata": {},
     "output_type": "display_data"
    },
    {
     "data": {
      "text/html": [
       "<pre style=\"white-space:pre;overflow-x:auto;line-height:normal;font-family:Menlo,'DejaVu Sans Mono',consolas,'Courier New',monospace\">BJet Veto:  308\n",
       "</pre>\n"
      ],
      "text/plain": [
       "BJet Veto:  308\n"
      ]
     },
     "metadata": {},
     "output_type": "display_data"
    },
    {
     "data": {
      "text/html": [
       "<pre style=\"white-space:pre;overflow-x:auto;line-height:normal;font-family:Menlo,'DejaVu Sans Mono',consolas,'Courier New',monospace\">Pairs:  610  Vector:  610\n",
       "</pre>\n"
      ],
      "text/plain": [
       "Pairs:  610  Vector:  610\n"
      ]
     },
     "metadata": {},
     "output_type": "display_data"
    },
    {
     "data": {
      "text/html": [
       "<pre style=\"white-space:pre;overflow-x:auto;line-height:normal;font-family:Menlo,'DejaVu Sans Mono',consolas,'Courier New',monospace\">[0.106, 0.106, 0.106, 0.106, 0.106, 0.106, ... 0.106, 0.106, 0.106, 0.106, 0.106]\n",
       "</pre>\n"
      ],
      "text/plain": [
       "[0.106, 0.106, 0.106, 0.106, 0.106, 0.106, ... 0.106, 0.106, 0.106, 0.106, 0.106]\n"
      ]
     },
     "metadata": {},
     "output_type": "display_data"
    },
    {
     "data": {
      "text/html": [
       "<pre style=\"white-space:pre;overflow-x:auto;line-height:normal;font-family:Menlo,'DejaVu Sans Mono',consolas,'Courier New',monospace\">[0.14, 0.14, 0.996, 0.996, 0.635, 0.635, ... 1.33, 0.986, 1.07, 1.25, 0.955, 1.21]\n",
       "</pre>\n"
      ],
      "text/plain": [
       "[0.14, 0.14, 0.996, 0.996, 0.635, 0.635, ... 1.33, 0.986, 1.07, 1.25, 0.955, 1.21]\n"
      ]
     },
     "metadata": {},
     "output_type": "display_data"
    },
    {
     "data": {
      "text/html": [
       "<pre style=\"white-space:pre;overflow-x:auto;line-height:normal;font-family:Menlo,'DejaVu Sans Mono',consolas,'Courier New',monospace\">Start:  47911   TT\n",
       "</pre>\n"
      ],
      "text/plain": [
       "Start:  47911   TT\n"
      ]
     },
     "metadata": {},
     "output_type": "display_data"
    },
    {
     "data": {
      "text/html": [
       "<pre style=\"white-space:pre;overflow-x:auto;line-height:normal;font-family:Menlo,'DejaVu Sans Mono',consolas,'Courier New',monospace\">Extra Ele Veto:  40934\n",
       "</pre>\n"
      ],
      "text/plain": [
       "Extra Ele Veto:  40934\n"
      ]
     },
     "metadata": {},
     "output_type": "display_data"
    },
    {
     "data": {
      "text/html": [
       "<pre style=\"white-space:pre;overflow-x:auto;line-height:normal;font-family:Menlo,'DejaVu Sans Mono',consolas,'Courier New',monospace\">Extra Mu Veto:  1684\n",
       "</pre>\n"
      ],
      "text/plain": [
       "Extra Mu Veto:  1684\n"
      ]
     },
     "metadata": {},
     "output_type": "display_data"
    },
    {
     "data": {
      "text/html": [
       "<pre style=\"white-space:pre;overflow-x:auto;line-height:normal;font-family:Menlo,'DejaVu Sans Mono',consolas,'Courier New',monospace\">BJet Veto:  308\n",
       "</pre>\n"
      ],
      "text/plain": [
       "BJet Veto:  308\n"
      ]
     },
     "metadata": {},
     "output_type": "display_data"
    },
    {
     "data": {
      "text/html": [
       "<pre style=\"white-space:pre;overflow-x:auto;line-height:normal;font-family:Menlo,'DejaVu Sans Mono',consolas,'Courier New',monospace\">Pairs:  610  Vector:  610\n",
       "</pre>\n"
      ],
      "text/plain": [
       "Pairs:  610  Vector:  610\n"
      ]
     },
     "metadata": {},
     "output_type": "display_data"
    },
    {
     "data": {
      "text/html": [
       "<pre style=\"white-space:pre;overflow-x:auto;line-height:normal;font-family:Menlo,'DejaVu Sans Mono',consolas,'Courier New',monospace\">[0.106, 0.106, 0.106, 0.106, 0.106, 0.106, ... 0.106, 0.106, 0.106, 0.106, 0.106]\n",
       "</pre>\n"
      ],
      "text/plain": [
       "[0.106, 0.106, 0.106, 0.106, 0.106, 0.106, ... 0.106, 0.106, 0.106, 0.106, 0.106]\n"
      ]
     },
     "metadata": {},
     "output_type": "display_data"
    },
    {
     "data": {
      "text/html": [
       "<pre style=\"white-space:pre;overflow-x:auto;line-height:normal;font-family:Menlo,'DejaVu Sans Mono',consolas,'Courier New',monospace\">[0.14, 0.14, 0.996, 0.996, 0.635, 0.635, ... 1.33, 0.986, 1.07, 1.25, 0.955, 1.21]\n",
       "</pre>\n"
      ],
      "text/plain": [
       "[0.14, 0.14, 0.996, 0.996, 0.635, 0.635, ... 1.33, 0.986, 1.07, 1.25, 0.955, 1.21]\n"
      ]
     },
     "metadata": {},
     "output_type": "display_data"
    },
    {
     "data": {
      "text/html": [
       "<pre style=\"white-space:pre;overflow-x:auto;line-height:normal;font-family:Menlo,'DejaVu Sans Mono',consolas,'Courier New',monospace\">Start:  16485   WJets\n",
       "</pre>\n"
      ],
      "text/plain": [
       "Start:  16485   WJets\n"
      ]
     },
     "metadata": {},
     "output_type": "display_data"
    },
    {
     "data": {
      "text/html": [
       "<pre style=\"white-space:pre;overflow-x:auto;line-height:normal;font-family:Menlo,'DejaVu Sans Mono',consolas,'Courier New',monospace\">Extra Ele Veto:  15345\n",
       "</pre>\n"
      ],
      "text/plain": [
       "Extra Ele Veto:  15345\n"
      ]
     },
     "metadata": {},
     "output_type": "display_data"
    },
    {
     "data": {
      "text/html": [
       "<pre style=\"white-space:pre;overflow-x:auto;line-height:normal;font-family:Menlo,'DejaVu Sans Mono',consolas,'Courier New',monospace\">Extra Mu Veto:  472\n",
       "</pre>\n"
      ],
      "text/plain": [
       "Extra Mu Veto:  472\n"
      ]
     },
     "metadata": {},
     "output_type": "display_data"
    },
    {
     "data": {
      "text/html": [
       "<pre style=\"white-space:pre;overflow-x:auto;line-height:normal;font-family:Menlo,'DejaVu Sans Mono',consolas,'Courier New',monospace\">BJet Veto:  393\n",
       "</pre>\n"
      ],
      "text/plain": [
       "BJet Veto:  393\n"
      ]
     },
     "metadata": {},
     "output_type": "display_data"
    },
    {
     "data": {
      "text/html": [
       "<pre style=\"white-space:pre;overflow-x:auto;line-height:normal;font-family:Menlo,'DejaVu Sans Mono',consolas,'Courier New',monospace\">Pairs:  704  Vector:  704\n",
       "</pre>\n"
      ],
      "text/plain": [
       "Pairs:  704  Vector:  704\n"
      ]
     },
     "metadata": {},
     "output_type": "display_data"
    },
    {
     "data": {
      "text/html": [
       "<pre style=\"white-space:pre;overflow-x:auto;line-height:normal;font-family:Menlo,'DejaVu Sans Mono',consolas,'Courier New',monospace\">[0.106, 0.106, 0.106, 0.106, 0.106, 0.106, ... 0.106, 0.106, 0.106, 0.106, 0.106]\n",
       "</pre>\n"
      ],
      "text/plain": [
       "[0.106, 0.106, 0.106, 0.106, 0.106, 0.106, ... 0.106, 0.106, 0.106, 0.106, 0.106]\n"
      ]
     },
     "metadata": {},
     "output_type": "display_data"
    },
    {
     "data": {
      "text/html": [
       "<pre style=\"white-space:pre;overflow-x:auto;line-height:normal;font-family:Menlo,'DejaVu Sans Mono',consolas,'Courier New',monospace\">[0.14, 1.21, 1.42, 0.956, 0.831, 1.3, 0.949, ... 1.58, 1.59, 1.23, 1.22, 1.36, 0.14]\n",
       "</pre>\n"
      ],
      "text/plain": [
       "[0.14, 1.21, 1.42, 0.956, 0.831, 1.3, 0.949, ... 1.58, 1.59, 1.23, 1.22, 1.36, 0.14]\n"
      ]
     },
     "metadata": {},
     "output_type": "display_data"
    },
    {
     "data": {
      "text/html": [
       "<pre style=\"white-space:pre;overflow-x:auto;line-height:normal;font-family:Menlo,'DejaVu Sans Mono',consolas,'Courier New',monospace\">Start:  16577   WJets\n",
       "</pre>\n"
      ],
      "text/plain": [
       "Start:  16577   WJets\n"
      ]
     },
     "metadata": {},
     "output_type": "display_data"
    },
    {
     "data": {
      "text/html": [
       "<pre style=\"white-space:pre;overflow-x:auto;line-height:normal;font-family:Menlo,'DejaVu Sans Mono',consolas,'Courier New',monospace\">Extra Ele Veto:  15442\n",
       "</pre>\n"
      ],
      "text/plain": [
       "Extra Ele Veto:  15442\n"
      ]
     },
     "metadata": {},
     "output_type": "display_data"
    },
    {
     "data": {
      "text/html": [
       "<pre style=\"white-space:pre;overflow-x:auto;line-height:normal;font-family:Menlo,'DejaVu Sans Mono',consolas,'Courier New',monospace\">Extra Mu Veto:  450\n",
       "</pre>\n"
      ],
      "text/plain": [
       "Extra Mu Veto:  450\n"
      ]
     },
     "metadata": {},
     "output_type": "display_data"
    },
    {
     "data": {
      "text/html": [
       "<pre style=\"white-space:pre;overflow-x:auto;line-height:normal;font-family:Menlo,'DejaVu Sans Mono',consolas,'Courier New',monospace\">BJet Veto:  372\n",
       "</pre>\n"
      ],
      "text/plain": [
       "BJet Veto:  372\n"
      ]
     },
     "metadata": {},
     "output_type": "display_data"
    },
    {
     "data": {
      "text/html": [
       "<pre style=\"white-space:pre;overflow-x:auto;line-height:normal;font-family:Menlo,'DejaVu Sans Mono',consolas,'Courier New',monospace\">Pairs:  676  Vector:  676\n",
       "</pre>\n"
      ],
      "text/plain": [
       "Pairs:  676  Vector:  676\n"
      ]
     },
     "metadata": {},
     "output_type": "display_data"
    },
    {
     "data": {
      "text/html": [
       "<pre style=\"white-space:pre;overflow-x:auto;line-height:normal;font-family:Menlo,'DejaVu Sans Mono',consolas,'Courier New',monospace\">[0.106, 0.106, 0.106, 0.106, 0.106, 0.106, ... 0.106, 0.106, 0.106, 0.106, 0.106]\n",
       "</pre>\n"
      ],
      "text/plain": [
       "[0.106, 0.106, 0.106, 0.106, 0.106, 0.106, ... 0.106, 0.106, 0.106, 0.106, 0.106]\n"
      ]
     },
     "metadata": {},
     "output_type": "display_data"
    },
    {
     "data": {
      "text/html": [
       "<pre style=\"white-space:pre;overflow-x:auto;line-height:normal;font-family:Menlo,'DejaVu Sans Mono',consolas,'Courier New',monospace\">[1.59, 1.03, 0.884, 1.22, 1.22, 1.15, 1.15, ... 1.35, 1.22, 0.14, 1.11, 1.41, 0.14]\n",
       "</pre>\n"
      ],
      "text/plain": [
       "[1.59, 1.03, 0.884, 1.22, 1.22, 1.15, 1.15, ... 1.35, 1.22, 0.14, 1.11, 1.41, 0.14]\n"
      ]
     },
     "metadata": {},
     "output_type": "display_data"
    },
    {
     "data": {
      "text/html": [
       "<pre style=\"white-space:pre;overflow-x:auto;line-height:normal;font-family:Menlo,'DejaVu Sans Mono',consolas,'Courier New',monospace\">Start:  10282   WJets\n",
       "</pre>\n"
      ],
      "text/plain": [
       "Start:  10282   WJets\n"
      ]
     },
     "metadata": {},
     "output_type": "display_data"
    },
    {
     "data": {
      "text/html": [
       "<pre style=\"white-space:pre;overflow-x:auto;line-height:normal;font-family:Menlo,'DejaVu Sans Mono',consolas,'Courier New',monospace\">Extra Ele Veto:  9570\n",
       "</pre>\n"
      ],
      "text/plain": [
       "Extra Ele Veto:  9570\n"
      ]
     },
     "metadata": {},
     "output_type": "display_data"
    },
    {
     "data": {
      "text/html": [
       "<pre style=\"white-space:pre;overflow-x:auto;line-height:normal;font-family:Menlo,'DejaVu Sans Mono',consolas,'Courier New',monospace\">Extra Mu Veto:  297\n",
       "</pre>\n"
      ],
      "text/plain": [
       "Extra Mu Veto:  297\n"
      ]
     },
     "metadata": {},
     "output_type": "display_data"
    },
    {
     "data": {
      "text/html": [
       "<pre style=\"white-space:pre;overflow-x:auto;line-height:normal;font-family:Menlo,'DejaVu Sans Mono',consolas,'Courier New',monospace\">BJet Veto:  254\n",
       "</pre>\n"
      ],
      "text/plain": [
       "BJet Veto:  254\n"
      ]
     },
     "metadata": {},
     "output_type": "display_data"
    },
    {
     "data": {
      "text/html": [
       "<pre style=\"white-space:pre;overflow-x:auto;line-height:normal;font-family:Menlo,'DejaVu Sans Mono',consolas,'Courier New',monospace\">Pairs:  466  Vector:  466\n",
       "</pre>\n"
      ],
      "text/plain": [
       "Pairs:  466  Vector:  466\n"
      ]
     },
     "metadata": {},
     "output_type": "display_data"
    },
    {
     "data": {
      "text/html": [
       "<pre style=\"white-space:pre;overflow-x:auto;line-height:normal;font-family:Menlo,'DejaVu Sans Mono',consolas,'Courier New',monospace\">[0.106, 0.106, 0.106, 0.106, 0.106, 0.106, ... 0.106, 0.106, 0.106, 0.106, 0.106]\n",
       "</pre>\n"
      ],
      "text/plain": [
       "[0.106, 0.106, 0.106, 0.106, 0.106, 0.106, ... 0.106, 0.106, 0.106, 0.106, 0.106]\n"
      ]
     },
     "metadata": {},
     "output_type": "display_data"
    },
    {
     "data": {
      "text/html": [
       "<pre style=\"white-space:pre;overflow-x:auto;line-height:normal;font-family:Menlo,'DejaVu Sans Mono',consolas,'Courier New',monospace\">[1.28, 1.28, 0.979, 0.979, 0.979, 0.979, ... 1.07, 1.07, 0.504, 0.504, 0.14, 1.29]\n",
       "</pre>\n"
      ],
      "text/plain": [
       "[1.28, 1.28, 0.979, 0.979, 0.979, 0.979, ... 1.07, 1.07, 0.504, 0.504, 0.14, 1.29]\n"
      ]
     },
     "metadata": {},
     "output_type": "display_data"
    },
    {
     "data": {
      "text/html": [
       "<pre style=\"white-space:pre;overflow-x:auto;line-height:normal;font-family:Menlo,'DejaVu Sans Mono',consolas,'Courier New',monospace\">Start:  16625   WJets\n",
       "</pre>\n"
      ],
      "text/plain": [
       "Start:  16625   WJets\n"
      ]
     },
     "metadata": {},
     "output_type": "display_data"
    },
    {
     "data": {
      "text/html": [
       "<pre style=\"white-space:pre;overflow-x:auto;line-height:normal;font-family:Menlo,'DejaVu Sans Mono',consolas,'Courier New',monospace\">Extra Ele Veto:  15486\n",
       "</pre>\n"
      ],
      "text/plain": [
       "Extra Ele Veto:  15486\n"
      ]
     },
     "metadata": {},
     "output_type": "display_data"
    },
    {
     "data": {
      "text/html": [
       "<pre style=\"white-space:pre;overflow-x:auto;line-height:normal;font-family:Menlo,'DejaVu Sans Mono',consolas,'Courier New',monospace\">Extra Mu Veto:  461\n",
       "</pre>\n"
      ],
      "text/plain": [
       "Extra Mu Veto:  461\n"
      ]
     },
     "metadata": {},
     "output_type": "display_data"
    },
    {
     "data": {
      "text/html": [
       "<pre style=\"white-space:pre;overflow-x:auto;line-height:normal;font-family:Menlo,'DejaVu Sans Mono',consolas,'Courier New',monospace\">BJet Veto:  385\n",
       "</pre>\n"
      ],
      "text/plain": [
       "BJet Veto:  385\n"
      ]
     },
     "metadata": {},
     "output_type": "display_data"
    },
    {
     "data": {
      "text/html": [
       "<pre style=\"white-space:pre;overflow-x:auto;line-height:normal;font-family:Menlo,'DejaVu Sans Mono',consolas,'Courier New',monospace\">Pairs:  692  Vector:  692\n",
       "</pre>\n"
      ],
      "text/plain": [
       "Pairs:  692  Vector:  692\n"
      ]
     },
     "metadata": {},
     "output_type": "display_data"
    },
    {
     "data": {
      "text/html": [
       "<pre style=\"white-space:pre;overflow-x:auto;line-height:normal;font-family:Menlo,'DejaVu Sans Mono',consolas,'Courier New',monospace\">[0.106, 0.106, 0.106, 0.106, 0.106, 0.106, ... 0.106, 0.106, 0.106, 0.106, 0.106]\n",
       "</pre>\n"
      ],
      "text/plain": [
       "[0.106, 0.106, 0.106, 0.106, 0.106, 0.106, ... 0.106, 0.106, 0.106, 0.106, 0.106]\n"
      ]
     },
     "metadata": {},
     "output_type": "display_data"
    },
    {
     "data": {
      "text/html": [
       "<pre style=\"white-space:pre;overflow-x:auto;line-height:normal;font-family:Menlo,'DejaVu Sans Mono',consolas,'Courier New',monospace\">[1.31, 1.31, 0.865, 0.865, 1.16, 1.16, 0.14, ... 1.13, 1.32, 1.28, 0.901, 1.4, 1.49]\n",
       "</pre>\n"
      ],
      "text/plain": [
       "[1.31, 1.31, 0.865, 0.865, 1.16, 1.16, 0.14, ... 1.13, 1.32, 1.28, 0.901, 1.4, 1.49]\n"
      ]
     },
     "metadata": {},
     "output_type": "display_data"
    },
    {
     "data": {
      "text/html": [
       "<pre style=\"white-space:pre;overflow-x:auto;line-height:normal;font-family:Menlo,'DejaVu Sans Mono',consolas,'Courier New',monospace\">Start:  16771   WJets\n",
       "</pre>\n"
      ],
      "text/plain": [
       "Start:  16771   WJets\n"
      ]
     },
     "metadata": {},
     "output_type": "display_data"
    },
    {
     "data": {
      "text/html": [
       "<pre style=\"white-space:pre;overflow-x:auto;line-height:normal;font-family:Menlo,'DejaVu Sans Mono',consolas,'Courier New',monospace\">Extra Ele Veto:  15685\n",
       "</pre>\n"
      ],
      "text/plain": [
       "Extra Ele Veto:  15685\n"
      ]
     },
     "metadata": {},
     "output_type": "display_data"
    },
    {
     "data": {
      "text/html": [
       "<pre style=\"white-space:pre;overflow-x:auto;line-height:normal;font-family:Menlo,'DejaVu Sans Mono',consolas,'Courier New',monospace\">Extra Mu Veto:  475\n",
       "</pre>\n"
      ],
      "text/plain": [
       "Extra Mu Veto:  475\n"
      ]
     },
     "metadata": {},
     "output_type": "display_data"
    },
    {
     "data": {
      "text/html": [
       "<pre style=\"white-space:pre;overflow-x:auto;line-height:normal;font-family:Menlo,'DejaVu Sans Mono',consolas,'Courier New',monospace\">BJet Veto:  396\n",
       "</pre>\n"
      ],
      "text/plain": [
       "BJet Veto:  396\n"
      ]
     },
     "metadata": {},
     "output_type": "display_data"
    },
    {
     "data": {
      "text/html": [
       "<pre style=\"white-space:pre;overflow-x:auto;line-height:normal;font-family:Menlo,'DejaVu Sans Mono',consolas,'Courier New',monospace\">Pairs:  761  Vector:  761\n",
       "</pre>\n"
      ],
      "text/plain": [
       "Pairs:  761  Vector:  761\n"
      ]
     },
     "metadata": {},
     "output_type": "display_data"
    },
    {
     "data": {
      "text/html": [
       "<pre style=\"white-space:pre;overflow-x:auto;line-height:normal;font-family:Menlo,'DejaVu Sans Mono',consolas,'Courier New',monospace\">[0.106, 0.106, 0.106, 0.106, 0.106, 0.106, ... 0.106, 0.106, 0.106, 0.106, 0.106]\n",
       "</pre>\n"
      ],
      "text/plain": [
       "[0.106, 0.106, 0.106, 0.106, 0.106, 0.106, ... 0.106, 0.106, 0.106, 0.106, 0.106]\n"
      ]
     },
     "metadata": {},
     "output_type": "display_data"
    },
    {
     "data": {
      "text/html": [
       "<pre style=\"white-space:pre;overflow-x:auto;line-height:normal;font-family:Menlo,'DejaVu Sans Mono',consolas,'Courier New',monospace\">[1.35, 0.68, 1.54, 1.21, 1.2, 1.13, 0.833, ... 1.27, 0.14, 1.3, 0.525, 1.17, 0.607]\n",
       "</pre>\n"
      ],
      "text/plain": [
       "[1.35, 0.68, 1.54, 1.21, 1.2, 1.13, 0.833, ... 1.27, 0.14, 1.3, 0.525, 1.17, 0.607]\n"
      ]
     },
     "metadata": {},
     "output_type": "display_data"
    },
    {
     "data": {
      "text/html": [
       "<pre style=\"white-space:pre;overflow-x:auto;line-height:normal;font-family:Menlo,'DejaVu Sans Mono',consolas,'Courier New',monospace\">Start:  16916   WJets\n",
       "</pre>\n"
      ],
      "text/plain": [
       "Start:  16916   WJets\n"
      ]
     },
     "metadata": {},
     "output_type": "display_data"
    },
    {
     "data": {
      "text/html": [
       "<pre style=\"white-space:pre;overflow-x:auto;line-height:normal;font-family:Menlo,'DejaVu Sans Mono',consolas,'Courier New',monospace\">Extra Ele Veto:  15730\n",
       "</pre>\n"
      ],
      "text/plain": [
       "Extra Ele Veto:  15730\n"
      ]
     },
     "metadata": {},
     "output_type": "display_data"
    },
    {
     "data": {
      "text/html": [
       "<pre style=\"white-space:pre;overflow-x:auto;line-height:normal;font-family:Menlo,'DejaVu Sans Mono',consolas,'Courier New',monospace\">Extra Mu Veto:  498\n",
       "</pre>\n"
      ],
      "text/plain": [
       "Extra Mu Veto:  498\n"
      ]
     },
     "metadata": {},
     "output_type": "display_data"
    },
    {
     "data": {
      "text/html": [
       "<pre style=\"white-space:pre;overflow-x:auto;line-height:normal;font-family:Menlo,'DejaVu Sans Mono',consolas,'Courier New',monospace\">BJet Veto:  416\n",
       "</pre>\n"
      ],
      "text/plain": [
       "BJet Veto:  416\n"
      ]
     },
     "metadata": {},
     "output_type": "display_data"
    },
    {
     "data": {
      "text/html": [
       "<pre style=\"white-space:pre;overflow-x:auto;line-height:normal;font-family:Menlo,'DejaVu Sans Mono',consolas,'Courier New',monospace\">Pairs:  745  Vector:  745\n",
       "</pre>\n"
      ],
      "text/plain": [
       "Pairs:  745  Vector:  745\n"
      ]
     },
     "metadata": {},
     "output_type": "display_data"
    },
    {
     "data": {
      "text/html": [
       "<pre style=\"white-space:pre;overflow-x:auto;line-height:normal;font-family:Menlo,'DejaVu Sans Mono',consolas,'Courier New',monospace\">[0.106, 0.106, 0.106, 0.106, 0.106, 0.106, ... 0.106, 0.106, 0.106, 0.106, 0.106]\n",
       "</pre>\n"
      ],
      "text/plain": [
       "[0.106, 0.106, 0.106, 0.106, 0.106, 0.106, ... 0.106, 0.106, 0.106, 0.106, 0.106]\n"
      ]
     },
     "metadata": {},
     "output_type": "display_data"
    },
    {
     "data": {
      "text/html": [
       "<pre style=\"white-space:pre;overflow-x:auto;line-height:normal;font-family:Menlo,'DejaVu Sans Mono',consolas,'Courier New',monospace\">[0.14, 1.44, 1.28, 1.22, 1.43, 1.31, 0.969, ... 1.36, 1.11, 0.14, 1.44, 1.55, 1.4]\n",
       "</pre>\n"
      ],
      "text/plain": [
       "[0.14, 1.44, 1.28, 1.22, 1.43, 1.31, 0.969, ... 1.36, 1.11, 0.14, 1.44, 1.55, 1.4]\n"
      ]
     },
     "metadata": {},
     "output_type": "display_data"
    },
    {
     "data": {
      "text/html": [
       "<pre style=\"white-space:pre;overflow-x:auto;line-height:normal;font-family:Menlo,'DejaVu Sans Mono',consolas,'Courier New',monospace\">Start:  16504   WJets\n",
       "</pre>\n"
      ],
      "text/plain": [
       "Start:  16504   WJets\n"
      ]
     },
     "metadata": {},
     "output_type": "display_data"
    },
    {
     "data": {
      "text/html": [
       "<pre style=\"white-space:pre;overflow-x:auto;line-height:normal;font-family:Menlo,'DejaVu Sans Mono',consolas,'Courier New',monospace\">Extra Ele Veto:  15478\n",
       "</pre>\n"
      ],
      "text/plain": [
       "Extra Ele Veto:  15478\n"
      ]
     },
     "metadata": {},
     "output_type": "display_data"
    },
    {
     "data": {
      "text/html": [
       "<pre style=\"white-space:pre;overflow-x:auto;line-height:normal;font-family:Menlo,'DejaVu Sans Mono',consolas,'Courier New',monospace\">Extra Mu Veto:  439\n",
       "</pre>\n"
      ],
      "text/plain": [
       "Extra Mu Veto:  439\n"
      ]
     },
     "metadata": {},
     "output_type": "display_data"
    },
    {
     "data": {
      "text/html": [
       "<pre style=\"white-space:pre;overflow-x:auto;line-height:normal;font-family:Menlo,'DejaVu Sans Mono',consolas,'Courier New',monospace\">BJet Veto:  381\n",
       "</pre>\n"
      ],
      "text/plain": [
       "BJet Veto:  381\n"
      ]
     },
     "metadata": {},
     "output_type": "display_data"
    },
    {
     "data": {
      "text/html": [
       "<pre style=\"white-space:pre;overflow-x:auto;line-height:normal;font-family:Menlo,'DejaVu Sans Mono',consolas,'Courier New',monospace\">Pairs:  692  Vector:  692\n",
       "</pre>\n"
      ],
      "text/plain": [
       "Pairs:  692  Vector:  692\n"
      ]
     },
     "metadata": {},
     "output_type": "display_data"
    },
    {
     "data": {
      "text/html": [
       "<pre style=\"white-space:pre;overflow-x:auto;line-height:normal;font-family:Menlo,'DejaVu Sans Mono',consolas,'Courier New',monospace\">[0.106, 0.106, 0.106, 0.106, 0.106, 0.106, ... 0.106, 0.106, 0.106, 0.106, 0.106]\n",
       "</pre>\n"
      ],
      "text/plain": [
       "[0.106, 0.106, 0.106, 0.106, 0.106, 0.106, ... 0.106, 0.106, 0.106, 0.106, 0.106]\n"
      ]
     },
     "metadata": {},
     "output_type": "display_data"
    },
    {
     "data": {
      "text/html": [
       "<pre style=\"white-space:pre;overflow-x:auto;line-height:normal;font-family:Menlo,'DejaVu Sans Mono',consolas,'Courier New',monospace\">[1.49, 1.12, 1.43, 0.14, 1.3, 1.33, 1.44, ... 1.23, 0.14, 1.59, 1.59, 0.14, 0.14]\n",
       "</pre>\n"
      ],
      "text/plain": [
       "[1.49, 1.12, 1.43, 0.14, 1.3, 1.33, 1.44, ... 1.23, 0.14, 1.59, 1.59, 0.14, 0.14]\n"
      ]
     },
     "metadata": {},
     "output_type": "display_data"
    },
    {
     "data": {
      "text/html": [
       "<pre style=\"white-space:pre;overflow-x:auto;line-height:normal;font-family:Menlo,'DejaVu Sans Mono',consolas,'Courier New',monospace\">Start:  16430   WJets\n",
       "</pre>\n"
      ],
      "text/plain": [
       "Start:  16430   WJets\n"
      ]
     },
     "metadata": {},
     "output_type": "display_data"
    },
    {
     "data": {
      "text/html": [
       "<pre style=\"white-space:pre;overflow-x:auto;line-height:normal;font-family:Menlo,'DejaVu Sans Mono',consolas,'Courier New',monospace\">Extra Ele Veto:  15298\n",
       "</pre>\n"
      ],
      "text/plain": [
       "Extra Ele Veto:  15298\n"
      ]
     },
     "metadata": {},
     "output_type": "display_data"
    },
    {
     "data": {
      "text/html": [
       "<pre style=\"white-space:pre;overflow-x:auto;line-height:normal;font-family:Menlo,'DejaVu Sans Mono',consolas,'Courier New',monospace\">Extra Mu Veto:  427\n",
       "</pre>\n"
      ],
      "text/plain": [
       "Extra Mu Veto:  427\n"
      ]
     },
     "metadata": {},
     "output_type": "display_data"
    },
    {
     "data": {
      "text/html": [
       "<pre style=\"white-space:pre;overflow-x:auto;line-height:normal;font-family:Menlo,'DejaVu Sans Mono',consolas,'Courier New',monospace\">BJet Veto:  365\n",
       "</pre>\n"
      ],
      "text/plain": [
       "BJet Veto:  365\n"
      ]
     },
     "metadata": {},
     "output_type": "display_data"
    },
    {
     "data": {
      "text/html": [
       "<pre style=\"white-space:pre;overflow-x:auto;line-height:normal;font-family:Menlo,'DejaVu Sans Mono',consolas,'Courier New',monospace\">Pairs:  624  Vector:  624\n",
       "</pre>\n"
      ],
      "text/plain": [
       "Pairs:  624  Vector:  624\n"
      ]
     },
     "metadata": {},
     "output_type": "display_data"
    },
    {
     "data": {
      "text/html": [
       "<pre style=\"white-space:pre;overflow-x:auto;line-height:normal;font-family:Menlo,'DejaVu Sans Mono',consolas,'Courier New',monospace\">[0.106, 0.106, 0.106, 0.106, 0.106, 0.106, ... 0.106, 0.106, 0.106, 0.106, 0.106]\n",
       "</pre>\n"
      ],
      "text/plain": [
       "[0.106, 0.106, 0.106, 0.106, 0.106, 0.106, ... 0.106, 0.106, 0.106, 0.106, 0.106]\n"
      ]
     },
     "metadata": {},
     "output_type": "display_data"
    },
    {
     "data": {
      "text/html": [
       "<pre style=\"white-space:pre;overflow-x:auto;line-height:normal;font-family:Menlo,'DejaVu Sans Mono',consolas,'Courier New',monospace\">[1.23, 1.41, 0.926, 0.14, 1.53, 1.04, 0.14, ... 1.54, 1.14, 0.935, 0.14, 1.08, 1.48]\n",
       "</pre>\n"
      ],
      "text/plain": [
       "[1.23, 1.41, 0.926, 0.14, 1.53, 1.04, 0.14, ... 1.54, 1.14, 0.935, 0.14, 1.08, 1.48]\n"
      ]
     },
     "metadata": {},
     "output_type": "display_data"
    },
    {
     "data": {
      "text/html": [
       "<pre style=\"white-space:pre;overflow-x:auto;line-height:normal;font-family:Menlo,'DejaVu Sans Mono',consolas,'Courier New',monospace\">Start:  8742   WJets\n",
       "</pre>\n"
      ],
      "text/plain": [
       "Start:  8742   WJets\n"
      ]
     },
     "metadata": {},
     "output_type": "display_data"
    },
    {
     "data": {
      "text/html": [
       "<pre style=\"white-space:pre;overflow-x:auto;line-height:normal;font-family:Menlo,'DejaVu Sans Mono',consolas,'Courier New',monospace\">Extra Ele Veto:  8162\n",
       "</pre>\n"
      ],
      "text/plain": [
       "Extra Ele Veto:  8162\n"
      ]
     },
     "metadata": {},
     "output_type": "display_data"
    },
    {
     "data": {
      "text/html": [
       "<pre style=\"white-space:pre;overflow-x:auto;line-height:normal;font-family:Menlo,'DejaVu Sans Mono',consolas,'Courier New',monospace\">Extra Mu Veto:  252\n",
       "</pre>\n"
      ],
      "text/plain": [
       "Extra Mu Veto:  252\n"
      ]
     },
     "metadata": {},
     "output_type": "display_data"
    },
    {
     "data": {
      "text/html": [
       "<pre style=\"white-space:pre;overflow-x:auto;line-height:normal;font-family:Menlo,'DejaVu Sans Mono',consolas,'Courier New',monospace\">BJet Veto:  218\n",
       "</pre>\n"
      ],
      "text/plain": [
       "BJet Veto:  218\n"
      ]
     },
     "metadata": {},
     "output_type": "display_data"
    },
    {
     "data": {
      "text/html": [
       "<pre style=\"white-space:pre;overflow-x:auto;line-height:normal;font-family:Menlo,'DejaVu Sans Mono',consolas,'Courier New',monospace\">Pairs:  373  Vector:  373\n",
       "</pre>\n"
      ],
      "text/plain": [
       "Pairs:  373  Vector:  373\n"
      ]
     },
     "metadata": {},
     "output_type": "display_data"
    },
    {
     "data": {
      "text/html": [
       "<pre style=\"white-space:pre;overflow-x:auto;line-height:normal;font-family:Menlo,'DejaVu Sans Mono',consolas,'Courier New',monospace\">[0.106, 0.106, 0.106, 0.106, 0.106, 0.106, ... 0.106, 0.106, 0.106, 0.106, 0.106]\n",
       "</pre>\n"
      ],
      "text/plain": [
       "[0.106, 0.106, 0.106, 0.106, 0.106, 0.106, ... 0.106, 0.106, 0.106, 0.106, 0.106]\n"
      ]
     },
     "metadata": {},
     "output_type": "display_data"
    },
    {
     "data": {
      "text/html": [
       "<pre style=\"white-space:pre;overflow-x:auto;line-height:normal;font-family:Menlo,'DejaVu Sans Mono',consolas,'Courier New',monospace\">[0.14, 1.23, 0.14, 0.917, 1.38, 1.5, 0.14, ... 1.37, 0.14, 1.06, 0.53, 0.14, 0.935]\n",
       "</pre>\n"
      ],
      "text/plain": [
       "[0.14, 1.23, 0.14, 0.917, 1.38, 1.5, 0.14, ... 1.37, 0.14, 1.06, 0.53, 0.14, 0.935]\n"
      ]
     },
     "metadata": {},
     "output_type": "display_data"
    },
    {
     "data": {
      "text/html": [
       "<pre style=\"white-space:pre;overflow-x:auto;line-height:normal;font-family:Menlo,'DejaVu Sans Mono',consolas,'Courier New',monospace\">Start:  24984   DYJets\n",
       "</pre>\n"
      ],
      "text/plain": [
       "Start:  24984   DYJets\n"
      ]
     },
     "metadata": {},
     "output_type": "display_data"
    },
    {
     "data": {
      "text/html": [
       "<pre style=\"white-space:pre;overflow-x:auto;line-height:normal;font-family:Menlo,'DejaVu Sans Mono',consolas,'Courier New',monospace\">Extra Ele Veto:  23327\n",
       "</pre>\n"
      ],
      "text/plain": [
       "Extra Ele Veto:  23327\n"
      ]
     },
     "metadata": {},
     "output_type": "display_data"
    },
    {
     "data": {
      "text/html": [
       "<pre style=\"white-space:pre;overflow-x:auto;line-height:normal;font-family:Menlo,'DejaVu Sans Mono',consolas,'Courier New',monospace\">Extra Mu Veto:  6700\n",
       "</pre>\n"
      ],
      "text/plain": [
       "Extra Mu Veto:  6700\n"
      ]
     },
     "metadata": {},
     "output_type": "display_data"
    },
    {
     "data": {
      "text/html": [
       "<pre style=\"white-space:pre;overflow-x:auto;line-height:normal;font-family:Menlo,'DejaVu Sans Mono',consolas,'Courier New',monospace\">BJet Veto:  5920\n",
       "</pre>\n"
      ],
      "text/plain": [
       "BJet Veto:  5920\n"
      ]
     },
     "metadata": {},
     "output_type": "display_data"
    },
    {
     "data": {
      "text/html": [
       "<pre style=\"white-space:pre;overflow-x:auto;line-height:normal;font-family:Menlo,'DejaVu Sans Mono',consolas,'Courier New',monospace\">Pairs:  12435  Vector:  12435\n",
       "</pre>\n"
      ],
      "text/plain": [
       "Pairs:  12435  Vector:  12435\n"
      ]
     },
     "metadata": {},
     "output_type": "display_data"
    },
    {
     "data": {
      "text/html": [
       "<pre style=\"white-space:pre;overflow-x:auto;line-height:normal;font-family:Menlo,'DejaVu Sans Mono',consolas,'Courier New',monospace\">[0.106, 0.106, 0.106, 0.106, 0.106, 0.106, ... 0.106, 0.106, 0.106, 0.106, 0.106]\n",
       "</pre>\n"
      ],
      "text/plain": [
       "[0.106, 0.106, 0.106, 0.106, 0.106, 0.106, ... 0.106, 0.106, 0.106, 0.106, 0.106]\n"
      ]
     },
     "metadata": {},
     "output_type": "display_data"
    },
    {
     "data": {
      "text/html": [
       "<pre style=\"white-space:pre;overflow-x:auto;line-height:normal;font-family:Menlo,'DejaVu Sans Mono',consolas,'Courier New',monospace\">[0.14, 0.14, 1.1, 1.1, 0.629, 0.629, 0.895, ... 1.22, 1.22, 1.4, 1.4, 1.51, 1.51]\n",
       "</pre>\n"
      ],
      "text/plain": [
       "[0.14, 0.14, 1.1, 1.1, 0.629, 0.629, 0.895, ... 1.22, 1.22, 1.4, 1.4, 1.51, 1.51]\n"
      ]
     },
     "metadata": {},
     "output_type": "display_data"
    },
    {
     "data": {
      "text/html": [
       "<pre style=\"white-space:pre;overflow-x:auto;line-height:normal;font-family:Menlo,'DejaVu Sans Mono',consolas,'Courier New',monospace\">Start:  36710   DYJets\n",
       "</pre>\n"
      ],
      "text/plain": [
       "Start:  36710   DYJets\n"
      ]
     },
     "metadata": {},
     "output_type": "display_data"
    },
    {
     "data": {
      "text/html": [
       "<pre style=\"white-space:pre;overflow-x:auto;line-height:normal;font-family:Menlo,'DejaVu Sans Mono',consolas,'Courier New',monospace\">Extra Ele Veto:  34326\n",
       "</pre>\n"
      ],
      "text/plain": [
       "Extra Ele Veto:  34326\n"
      ]
     },
     "metadata": {},
     "output_type": "display_data"
    },
    {
     "data": {
      "text/html": [
       "<pre style=\"white-space:pre;overflow-x:auto;line-height:normal;font-family:Menlo,'DejaVu Sans Mono',consolas,'Courier New',monospace\">Extra Mu Veto:  9895\n",
       "</pre>\n"
      ],
      "text/plain": [
       "Extra Mu Veto:  9895\n"
      ]
     },
     "metadata": {},
     "output_type": "display_data"
    },
    {
     "data": {
      "text/html": [
       "<pre style=\"white-space:pre;overflow-x:auto;line-height:normal;font-family:Menlo,'DejaVu Sans Mono',consolas,'Courier New',monospace\">BJet Veto:  8809\n",
       "</pre>\n"
      ],
      "text/plain": [
       "BJet Veto:  8809\n"
      ]
     },
     "metadata": {},
     "output_type": "display_data"
    },
    {
     "data": {
      "text/html": [
       "<pre style=\"white-space:pre;overflow-x:auto;line-height:normal;font-family:Menlo,'DejaVu Sans Mono',consolas,'Courier New',monospace\">Pairs:  18311  Vector:  18311\n",
       "</pre>\n"
      ],
      "text/plain": [
       "Pairs:  18311  Vector:  18311\n"
      ]
     },
     "metadata": {},
     "output_type": "display_data"
    },
    {
     "data": {
      "text/html": [
       "<pre style=\"white-space:pre;overflow-x:auto;line-height:normal;font-family:Menlo,'DejaVu Sans Mono',consolas,'Courier New',monospace\">[0.106, 0.106, 0.106, 0.106, 0.106, 0.106, ... 0.106, 0.106, 0.106, 0.106, 0.106]\n",
       "</pre>\n"
      ],
      "text/plain": [
       "[0.106, 0.106, 0.106, 0.106, 0.106, 0.106, ... 0.106, 0.106, 0.106, 0.106, 0.106]\n"
      ]
     },
     "metadata": {},
     "output_type": "display_data"
    },
    {
     "data": {
      "text/html": [
       "<pre style=\"white-space:pre;overflow-x:auto;line-height:normal;font-family:Menlo,'DejaVu Sans Mono',consolas,'Courier New',monospace\">[1.3, 1.2, 1.17, 0.14, 0.14, 1.01, 1.01, ... 0.14, 0.14, 0.14, 0.14, 0.895, 0.895]\n",
       "</pre>\n"
      ],
      "text/plain": [
       "[1.3, 1.2, 1.17, 0.14, 0.14, 1.01, 1.01, ... 0.14, 0.14, 0.14, 0.14, 0.895, 0.895]\n"
      ]
     },
     "metadata": {},
     "output_type": "display_data"
    },
    {
     "data": {
      "text/html": [
       "<pre style=\"white-space:pre;overflow-x:auto;line-height:normal;font-family:Menlo,'DejaVu Sans Mono',consolas,'Courier New',monospace\">Start:  30542   DYJets\n",
       "</pre>\n"
      ],
      "text/plain": [
       "Start:  30542   DYJets\n"
      ]
     },
     "metadata": {},
     "output_type": "display_data"
    },
    {
     "data": {
      "text/html": [
       "<pre style=\"white-space:pre;overflow-x:auto;line-height:normal;font-family:Menlo,'DejaVu Sans Mono',consolas,'Courier New',monospace\">Extra Ele Veto:  28578\n",
       "</pre>\n"
      ],
      "text/plain": [
       "Extra Ele Veto:  28578\n"
      ]
     },
     "metadata": {},
     "output_type": "display_data"
    },
    {
     "data": {
      "text/html": [
       "<pre style=\"white-space:pre;overflow-x:auto;line-height:normal;font-family:Menlo,'DejaVu Sans Mono',consolas,'Courier New',monospace\">Extra Mu Veto:  8132\n",
       "</pre>\n"
      ],
      "text/plain": [
       "Extra Mu Veto:  8132\n"
      ]
     },
     "metadata": {},
     "output_type": "display_data"
    },
    {
     "data": {
      "text/html": [
       "<pre style=\"white-space:pre;overflow-x:auto;line-height:normal;font-family:Menlo,'DejaVu Sans Mono',consolas,'Courier New',monospace\">BJet Veto:  7076\n",
       "</pre>\n"
      ],
      "text/plain": [
       "BJet Veto:  7076\n"
      ]
     },
     "metadata": {},
     "output_type": "display_data"
    },
    {
     "data": {
      "text/html": [
       "<pre style=\"white-space:pre;overflow-x:auto;line-height:normal;font-family:Menlo,'DejaVu Sans Mono',consolas,'Courier New',monospace\">Pairs:  14849  Vector:  14849\n",
       "</pre>\n"
      ],
      "text/plain": [
       "Pairs:  14849  Vector:  14849\n"
      ]
     },
     "metadata": {},
     "output_type": "display_data"
    },
    {
     "data": {
      "text/html": [
       "<pre style=\"white-space:pre;overflow-x:auto;line-height:normal;font-family:Menlo,'DejaVu Sans Mono',consolas,'Courier New',monospace\">[0.106, 0.106, 0.106, 0.106, 0.106, 0.106, ... 0.106, 0.106, 0.106, 0.106, 0.106]\n",
       "</pre>\n"
      ],
      "text/plain": [
       "[0.106, 0.106, 0.106, 0.106, 0.106, 0.106, ... 0.106, 0.106, 0.106, 0.106, 0.106]\n"
      ]
     },
     "metadata": {},
     "output_type": "display_data"
    },
    {
     "data": {
      "text/html": [
       "<pre style=\"white-space:pre;overflow-x:auto;line-height:normal;font-family:Menlo,'DejaVu Sans Mono',consolas,'Courier New',monospace\">[0.661, 0.661, 0.31, 0.31, 0.14, 0.14, 0.14, ... 1.3, 1.3, 1.12, 1.12, 1.25, 1.25]\n",
       "</pre>\n"
      ],
      "text/plain": [
       "[0.661, 0.661, 0.31, 0.31, 0.14, 0.14, 0.14, ... 1.3, 1.3, 1.12, 1.12, 1.25, 1.25]\n"
      ]
     },
     "metadata": {},
     "output_type": "display_data"
    },
    {
     "data": {
      "text/html": [
       "<pre style=\"white-space:pre;overflow-x:auto;line-height:normal;font-family:Menlo,'DejaVu Sans Mono',consolas,'Courier New',monospace\">Start:  30471   DYJets\n",
       "</pre>\n"
      ],
      "text/plain": [
       "Start:  30471   DYJets\n"
      ]
     },
     "metadata": {},
     "output_type": "display_data"
    },
    {
     "data": {
      "text/html": [
       "<pre style=\"white-space:pre;overflow-x:auto;line-height:normal;font-family:Menlo,'DejaVu Sans Mono',consolas,'Courier New',monospace\">Extra Ele Veto:  28584\n",
       "</pre>\n"
      ],
      "text/plain": [
       "Extra Ele Veto:  28584\n"
      ]
     },
     "metadata": {},
     "output_type": "display_data"
    },
    {
     "data": {
      "text/html": [
       "<pre style=\"white-space:pre;overflow-x:auto;line-height:normal;font-family:Menlo,'DejaVu Sans Mono',consolas,'Courier New',monospace\">Extra Mu Veto:  8268\n",
       "</pre>\n"
      ],
      "text/plain": [
       "Extra Mu Veto:  8268\n"
      ]
     },
     "metadata": {},
     "output_type": "display_data"
    },
    {
     "data": {
      "text/html": [
       "<pre style=\"white-space:pre;overflow-x:auto;line-height:normal;font-family:Menlo,'DejaVu Sans Mono',consolas,'Courier New',monospace\">BJet Veto:  7249\n",
       "</pre>\n"
      ],
      "text/plain": [
       "BJet Veto:  7249\n"
      ]
     },
     "metadata": {},
     "output_type": "display_data"
    },
    {
     "data": {
      "text/html": [
       "<pre style=\"white-space:pre;overflow-x:auto;line-height:normal;font-family:Menlo,'DejaVu Sans Mono',consolas,'Courier New',monospace\">Pairs:  15332  Vector:  15332\n",
       "</pre>\n"
      ],
      "text/plain": [
       "Pairs:  15332  Vector:  15332\n"
      ]
     },
     "metadata": {},
     "output_type": "display_data"
    },
    {
     "data": {
      "text/html": [
       "<pre style=\"white-space:pre;overflow-x:auto;line-height:normal;font-family:Menlo,'DejaVu Sans Mono',consolas,'Courier New',monospace\">[0.106, 0.106, 0.106, 0.106, 0.106, 0.106, ... 0.106, 0.106, 0.106, 0.106, 0.106]\n",
       "</pre>\n"
      ],
      "text/plain": [
       "[0.106, 0.106, 0.106, 0.106, 0.106, 0.106, ... 0.106, 0.106, 0.106, 0.106, 0.106]\n"
      ]
     },
     "metadata": {},
     "output_type": "display_data"
    },
    {
     "data": {
      "text/html": [
       "<pre style=\"white-space:pre;overflow-x:auto;line-height:normal;font-family:Menlo,'DejaVu Sans Mono',consolas,'Courier New',monospace\">[0.828, 0.828, 0.936, 0.936, 0.14, 0.14, ... 1.12, 1.12, 0.14, 0.14, 1.35, 1.35]\n",
       "</pre>\n"
      ],
      "text/plain": [
       "[0.828, 0.828, 0.936, 0.936, 0.14, 0.14, ... 1.12, 1.12, 0.14, 0.14, 1.35, 1.35]\n"
      ]
     },
     "metadata": {},
     "output_type": "display_data"
    },
    {
     "data": {
      "text/html": [
       "<pre style=\"white-space:pre;overflow-x:auto;line-height:normal;font-family:Menlo,'DejaVu Sans Mono',consolas,'Courier New',monospace\">Start:  30714   DYJets\n",
       "</pre>\n"
      ],
      "text/plain": [
       "Start:  30714   DYJets\n"
      ]
     },
     "metadata": {},
     "output_type": "display_data"
    },
    {
     "data": {
      "text/html": [
       "<pre style=\"white-space:pre;overflow-x:auto;line-height:normal;font-family:Menlo,'DejaVu Sans Mono',consolas,'Courier New',monospace\">Extra Ele Veto:  28724\n",
       "</pre>\n"
      ],
      "text/plain": [
       "Extra Ele Veto:  28724\n"
      ]
     },
     "metadata": {},
     "output_type": "display_data"
    },
    {
     "data": {
      "text/html": [
       "<pre style=\"white-space:pre;overflow-x:auto;line-height:normal;font-family:Menlo,'DejaVu Sans Mono',consolas,'Courier New',monospace\">Extra Mu Veto:  8446\n",
       "</pre>\n"
      ],
      "text/plain": [
       "Extra Mu Veto:  8446\n"
      ]
     },
     "metadata": {},
     "output_type": "display_data"
    },
    {
     "data": {
      "text/html": [
       "<pre style=\"white-space:pre;overflow-x:auto;line-height:normal;font-family:Menlo,'DejaVu Sans Mono',consolas,'Courier New',monospace\">BJet Veto:  7481\n",
       "</pre>\n"
      ],
      "text/plain": [
       "BJet Veto:  7481\n"
      ]
     },
     "metadata": {},
     "output_type": "display_data"
    },
    {
     "data": {
      "text/html": [
       "<pre style=\"white-space:pre;overflow-x:auto;line-height:normal;font-family:Menlo,'DejaVu Sans Mono',consolas,'Courier New',monospace\">Pairs:  15821  Vector:  15821\n",
       "</pre>\n"
      ],
      "text/plain": [
       "Pairs:  15821  Vector:  15821\n"
      ]
     },
     "metadata": {},
     "output_type": "display_data"
    },
    {
     "data": {
      "text/html": [
       "<pre style=\"white-space:pre;overflow-x:auto;line-height:normal;font-family:Menlo,'DejaVu Sans Mono',consolas,'Courier New',monospace\">[0.106, 0.106, 0.106, 0.106, 0.106, 0.106, ... 0.106, 0.106, 0.106, 0.106, 0.106]\n",
       "</pre>\n"
      ],
      "text/plain": [
       "[0.106, 0.106, 0.106, 0.106, 0.106, 0.106, ... 0.106, 0.106, 0.106, 0.106, 0.106]\n"
      ]
     },
     "metadata": {},
     "output_type": "display_data"
    },
    {
     "data": {
      "text/html": [
       "<pre style=\"white-space:pre;overflow-x:auto;line-height:normal;font-family:Menlo,'DejaVu Sans Mono',consolas,'Courier New',monospace\">[0.955, 0.955, 1.6, 1.6, 1.15, 1.48, 1.51, ... 0.14, 0.14, 1.14, 1.14, 1.09, 1.09]\n",
       "</pre>\n"
      ],
      "text/plain": [
       "[0.955, 0.955, 1.6, 1.6, 1.15, 1.48, 1.51, ... 0.14, 0.14, 1.14, 1.14, 1.09, 1.09]\n"
      ]
     },
     "metadata": {},
     "output_type": "display_data"
    },
    {
     "data": {
      "text/html": [
       "<pre style=\"white-space:pre;overflow-x:auto;line-height:normal;font-family:Menlo,'DejaVu Sans Mono',consolas,'Courier New',monospace\">Start:  23206   DYJets\n",
       "</pre>\n"
      ],
      "text/plain": [
       "Start:  23206   DYJets\n"
      ]
     },
     "metadata": {},
     "output_type": "display_data"
    },
    {
     "data": {
      "text/html": [
       "<pre style=\"white-space:pre;overflow-x:auto;line-height:normal;font-family:Menlo,'DejaVu Sans Mono',consolas,'Courier New',monospace\">Extra Ele Veto:  21775\n",
       "</pre>\n"
      ],
      "text/plain": [
       "Extra Ele Veto:  21775\n"
      ]
     },
     "metadata": {},
     "output_type": "display_data"
    },
    {
     "data": {
      "text/html": [
       "<pre style=\"white-space:pre;overflow-x:auto;line-height:normal;font-family:Menlo,'DejaVu Sans Mono',consolas,'Courier New',monospace\">Extra Mu Veto:  6227\n",
       "</pre>\n"
      ],
      "text/plain": [
       "Extra Mu Veto:  6227\n"
      ]
     },
     "metadata": {},
     "output_type": "display_data"
    },
    {
     "data": {
      "text/html": [
       "<pre style=\"white-space:pre;overflow-x:auto;line-height:normal;font-family:Menlo,'DejaVu Sans Mono',consolas,'Courier New',monospace\">BJet Veto:  5476\n",
       "</pre>\n"
      ],
      "text/plain": [
       "BJet Veto:  5476\n"
      ]
     },
     "metadata": {},
     "output_type": "display_data"
    },
    {
     "data": {
      "text/html": [
       "<pre style=\"white-space:pre;overflow-x:auto;line-height:normal;font-family:Menlo,'DejaVu Sans Mono',consolas,'Courier New',monospace\">Pairs:  11477  Vector:  11477\n",
       "</pre>\n"
      ],
      "text/plain": [
       "Pairs:  11477  Vector:  11477\n"
      ]
     },
     "metadata": {},
     "output_type": "display_data"
    },
    {
     "data": {
      "text/html": [
       "<pre style=\"white-space:pre;overflow-x:auto;line-height:normal;font-family:Menlo,'DejaVu Sans Mono',consolas,'Courier New',monospace\">[0.106, 0.106, 0.106, 0.106, 0.106, 0.106, ... 0.106, 0.106, 0.106, 0.106, 0.106]\n",
       "</pre>\n"
      ],
      "text/plain": [
       "[0.106, 0.106, 0.106, 0.106, 0.106, 0.106, ... 0.106, 0.106, 0.106, 0.106, 0.106]\n"
      ]
     },
     "metadata": {},
     "output_type": "display_data"
    },
    {
     "data": {
      "text/html": [
       "<pre style=\"white-space:pre;overflow-x:auto;line-height:normal;font-family:Menlo,'DejaVu Sans Mono',consolas,'Courier New',monospace\">[1.24, 0.448, 1.08, 0.14, 1.36, 0.14, 0.14, ... 1.47, 1.47, 1.3, 1.3, 1.13, 1.13]\n",
       "</pre>\n"
      ],
      "text/plain": [
       "[1.24, 0.448, 1.08, 0.14, 1.36, 0.14, 0.14, ... 1.47, 1.47, 1.3, 1.3, 1.13, 1.13]\n"
      ]
     },
     "metadata": {},
     "output_type": "display_data"
    },
    {
     "data": {
      "text/html": [
       "<pre style=\"white-space:pre;overflow-x:auto;line-height:normal;font-family:Menlo,'DejaVu Sans Mono',consolas,'Courier New',monospace\">Start:  25873   DYJets\n",
       "</pre>\n"
      ],
      "text/plain": [
       "Start:  25873   DYJets\n"
      ]
     },
     "metadata": {},
     "output_type": "display_data"
    },
    {
     "data": {
      "text/html": [
       "<pre style=\"white-space:pre;overflow-x:auto;line-height:normal;font-family:Menlo,'DejaVu Sans Mono',consolas,'Courier New',monospace\">Extra Ele Veto:  24213\n",
       "</pre>\n"
      ],
      "text/plain": [
       "Extra Ele Veto:  24213\n"
      ]
     },
     "metadata": {},
     "output_type": "display_data"
    },
    {
     "data": {
      "text/html": [
       "<pre style=\"white-space:pre;overflow-x:auto;line-height:normal;font-family:Menlo,'DejaVu Sans Mono',consolas,'Courier New',monospace\">Extra Mu Veto:  6903\n",
       "</pre>\n"
      ],
      "text/plain": [
       "Extra Mu Veto:  6903\n"
      ]
     },
     "metadata": {},
     "output_type": "display_data"
    },
    {
     "data": {
      "text/html": [
       "<pre style=\"white-space:pre;overflow-x:auto;line-height:normal;font-family:Menlo,'DejaVu Sans Mono',consolas,'Courier New',monospace\">BJet Veto:  6138\n",
       "</pre>\n"
      ],
      "text/plain": [
       "BJet Veto:  6138\n"
      ]
     },
     "metadata": {},
     "output_type": "display_data"
    },
    {
     "data": {
      "text/html": [
       "<pre style=\"white-space:pre;overflow-x:auto;line-height:normal;font-family:Menlo,'DejaVu Sans Mono',consolas,'Courier New',monospace\">Pairs:  12925  Vector:  12925\n",
       "</pre>\n"
      ],
      "text/plain": [
       "Pairs:  12925  Vector:  12925\n"
      ]
     },
     "metadata": {},
     "output_type": "display_data"
    },
    {
     "data": {
      "text/html": [
       "<pre style=\"white-space:pre;overflow-x:auto;line-height:normal;font-family:Menlo,'DejaVu Sans Mono',consolas,'Courier New',monospace\">[0.106, 0.106, 0.106, 0.106, 0.106, 0.106, ... 0.106, 0.106, 0.106, 0.106, 0.106]\n",
       "</pre>\n"
      ],
      "text/plain": [
       "[0.106, 0.106, 0.106, 0.106, 0.106, 0.106, ... 0.106, 0.106, 0.106, 0.106, 0.106]\n"
      ]
     },
     "metadata": {},
     "output_type": "display_data"
    },
    {
     "data": {
      "text/html": [
       "<pre style=\"white-space:pre;overflow-x:auto;line-height:normal;font-family:Menlo,'DejaVu Sans Mono',consolas,'Courier New',monospace\">[1.45, 0.422, 0.14, 0.14, 1.48, 1.48, 0.14, ... 0.14, 1.18, 1.18, 1.42, 1.42, 1.22]\n",
       "</pre>\n"
      ],
      "text/plain": [
       "[1.45, 0.422, 0.14, 0.14, 1.48, 1.48, 0.14, ... 0.14, 1.18, 1.18, 1.42, 1.42, 1.22]\n"
      ]
     },
     "metadata": {},
     "output_type": "display_data"
    },
    {
     "data": {
      "text/html": [
       "<pre style=\"white-space:pre;overflow-x:auto;line-height:normal;font-family:Menlo,'DejaVu Sans Mono',consolas,'Courier New',monospace\">Start:  31084   DYJets\n",
       "</pre>\n"
      ],
      "text/plain": [
       "Start:  31084   DYJets\n"
      ]
     },
     "metadata": {},
     "output_type": "display_data"
    },
    {
     "data": {
      "text/html": [
       "<pre style=\"white-space:pre;overflow-x:auto;line-height:normal;font-family:Menlo,'DejaVu Sans Mono',consolas,'Courier New',monospace\">Extra Ele Veto:  29112\n",
       "</pre>\n"
      ],
      "text/plain": [
       "Extra Ele Veto:  29112\n"
      ]
     },
     "metadata": {},
     "output_type": "display_data"
    },
    {
     "data": {
      "text/html": [
       "<pre style=\"white-space:pre;overflow-x:auto;line-height:normal;font-family:Menlo,'DejaVu Sans Mono',consolas,'Courier New',monospace\">Extra Mu Veto:  8558\n",
       "</pre>\n"
      ],
      "text/plain": [
       "Extra Mu Veto:  8558\n"
      ]
     },
     "metadata": {},
     "output_type": "display_data"
    },
    {
     "data": {
      "text/html": [
       "<pre style=\"white-space:pre;overflow-x:auto;line-height:normal;font-family:Menlo,'DejaVu Sans Mono',consolas,'Courier New',monospace\">BJet Veto:  7539\n",
       "</pre>\n"
      ],
      "text/plain": [
       "BJet Veto:  7539\n"
      ]
     },
     "metadata": {},
     "output_type": "display_data"
    },
    {
     "data": {
      "text/html": [
       "<pre style=\"white-space:pre;overflow-x:auto;line-height:normal;font-family:Menlo,'DejaVu Sans Mono',consolas,'Courier New',monospace\">Pairs:  16005  Vector:  16005\n",
       "</pre>\n"
      ],
      "text/plain": [
       "Pairs:  16005  Vector:  16005\n"
      ]
     },
     "metadata": {},
     "output_type": "display_data"
    },
    {
     "data": {
      "text/html": [
       "<pre style=\"white-space:pre;overflow-x:auto;line-height:normal;font-family:Menlo,'DejaVu Sans Mono',consolas,'Courier New',monospace\">[0.106, 0.106, 0.106, 0.106, 0.106, 0.106, ... 0.106, 0.106, 0.106, 0.106, 0.106]\n",
       "</pre>\n"
      ],
      "text/plain": [
       "[0.106, 0.106, 0.106, 0.106, 0.106, 0.106, ... 0.106, 0.106, 0.106, 0.106, 0.106]\n"
      ]
     },
     "metadata": {},
     "output_type": "display_data"
    },
    {
     "data": {
      "text/html": [
       "<pre style=\"white-space:pre;overflow-x:auto;line-height:normal;font-family:Menlo,'DejaVu Sans Mono',consolas,'Courier New',monospace\">[0.565, 0.565, 1.28, 1.28, 0.885, 1.38, 1.13, ... 1.25, 1.25, 0.14, 0.14, 1.36, 1.36]\n",
       "</pre>\n"
      ],
      "text/plain": [
       "[0.565, 0.565, 1.28, 1.28, 0.885, 1.38, 1.13, ... 1.25, 1.25, 0.14, 0.14, 1.36, 1.36]\n"
      ]
     },
     "metadata": {},
     "output_type": "display_data"
    },
    {
     "data": {
      "text/html": [
       "<pre style=\"white-space:pre;overflow-x:auto;line-height:normal;font-family:Menlo,'DejaVu Sans Mono',consolas,'Courier New',monospace\">Start:  4755   DYJets\n",
       "</pre>\n"
      ],
      "text/plain": [
       "Start:  4755   DYJets\n"
      ]
     },
     "metadata": {},
     "output_type": "display_data"
    },
    {
     "data": {
      "text/html": [
       "<pre style=\"white-space:pre;overflow-x:auto;line-height:normal;font-family:Menlo,'DejaVu Sans Mono',consolas,'Courier New',monospace\">Extra Ele Veto:  4468\n",
       "</pre>\n"
      ],
      "text/plain": [
       "Extra Ele Veto:  4468\n"
      ]
     },
     "metadata": {},
     "output_type": "display_data"
    },
    {
     "data": {
      "text/html": [
       "<pre style=\"white-space:pre;overflow-x:auto;line-height:normal;font-family:Menlo,'DejaVu Sans Mono',consolas,'Courier New',monospace\">Extra Mu Veto:  1263\n",
       "</pre>\n"
      ],
      "text/plain": [
       "Extra Mu Veto:  1263\n"
      ]
     },
     "metadata": {},
     "output_type": "display_data"
    },
    {
     "data": {
      "text/html": [
       "<pre style=\"white-space:pre;overflow-x:auto;line-height:normal;font-family:Menlo,'DejaVu Sans Mono',consolas,'Courier New',monospace\">BJet Veto:  1116\n",
       "</pre>\n"
      ],
      "text/plain": [
       "BJet Veto:  1116\n"
      ]
     },
     "metadata": {},
     "output_type": "display_data"
    },
    {
     "data": {
      "text/html": [
       "<pre style=\"white-space:pre;overflow-x:auto;line-height:normal;font-family:Menlo,'DejaVu Sans Mono',consolas,'Courier New',monospace\">Pairs:  2311  Vector:  2311\n",
       "</pre>\n"
      ],
      "text/plain": [
       "Pairs:  2311  Vector:  2311\n"
      ]
     },
     "metadata": {},
     "output_type": "display_data"
    },
    {
     "data": {
      "text/html": [
       "<pre style=\"white-space:pre;overflow-x:auto;line-height:normal;font-family:Menlo,'DejaVu Sans Mono',consolas,'Courier New',monospace\">[0.106, 0.106, 0.106, 0.106, 0.106, 0.106, ... 0.106, 0.106, 0.106, 0.106, 0.106]\n",
       "</pre>\n"
      ],
      "text/plain": [
       "[0.106, 0.106, 0.106, 0.106, 0.106, 0.106, ... 0.106, 0.106, 0.106, 0.106, 0.106]\n"
      ]
     },
     "metadata": {},
     "output_type": "display_data"
    },
    {
     "data": {
      "text/html": [
       "<pre style=\"white-space:pre;overflow-x:auto;line-height:normal;font-family:Menlo,'DejaVu Sans Mono',consolas,'Courier New',monospace\">[0.14, 0.887, 1.3, 1.3, 1.05, 1.05, 0.14, ... 0.814, 0.14, 0.525, 0.14, 1.22, 1.38]\n",
       "</pre>\n"
      ],
      "text/plain": [
       "[0.14, 0.887, 1.3, 1.3, 1.05, 1.05, 0.14, ... 0.814, 0.14, 0.525, 0.14, 1.22, 1.38]\n"
      ]
     },
     "metadata": {},
     "output_type": "display_data"
    },
    {
     "data": {
      "text/html": [
       "<pre style=\"white-space:pre;overflow-x:auto;line-height:normal;font-family:Menlo,'DejaVu Sans Mono',consolas,'Courier New',monospace\"></pre>\n"
      ],
      "text/plain": []
     },
     "metadata": {},
     "output_type": "display_data"
    },
    {
     "data": {
      "text/html": [
       "<pre style=\"white-space:pre;overflow-x:auto;line-height:normal;font-family:Menlo,'DejaVu Sans Mono',consolas,'Courier New',monospace\">\n",
       "</pre>\n"
      ],
      "text/plain": [
       "\n"
      ]
     },
     "metadata": {},
     "output_type": "display_data"
    }
   ],
   "source": [
    "print(\"Calling runner\")\n",
    "mt_results_local = runner(\n",
    "    mt_fileset,\n",
    "    treename=\"Events\",\n",
    "    processor_instance=MyProcessor(),\n",
    ")"
   ]
  },
  {
   "cell_type": "code",
   "execution_count": 21,
   "id": "719584d2-f5fc-46ed-a0e9-36d41af16627",
   "metadata": {},
   "outputs": [
    {
     "name": "stdout",
     "output_type": "stream",
     "text": [
      "Dataset: Data\n",
      "Dataset: VV\n",
      "Dataset: TT\n",
      "Dataset: WJets\n",
      "Dataset: DYJets\n",
      "dict_items([('Data', {'Test': value_accumulator(int, 4), 'Test2': value_accumulator(int, 8), 'mass': Hist(Regular(30, 0, 150, underflow=False, overflow=False, name='mass', label='Data'), storage=Weight()) # Sum: WeightedSum(value=952, variance=952), 'ss_mass': Hist(Regular(30, 0, 150, underflow=False, overflow=False, name='mass', label='Data'), storage=Weight()) # Sum: WeightedSum(value=0, variance=0), 'EventCount': value_accumulator(int, 100000)}), ('VV', {'Test': value_accumulator(int, 9), 'Test2': value_accumulator(int, 18), 'mass': Hist(Regular(30, 0, 150, underflow=False, overflow=False, name='mass', label='VV'), storage=Weight()) # Sum: WeightedSum(value=0, variance=0), 'ss_mass': Hist(Regular(30, 0, 150, underflow=False, overflow=False, name='mass', label='VV'), storage=Weight()) # Sum: WeightedSum(value=0, variance=0), 'EventCount': value_accumulator(int, 26676)}), ('TT', {'Test': value_accumulator(int, 9), 'Test2': value_accumulator(int, 18), 'mass': Hist(Regular(30, 0, 150, underflow=False, overflow=False, name='mass', label='TT'), storage=Weight()) # Sum: WeightedSum(value=4261.96, variance=1.00913e+06), 'ss_mass': Hist(Regular(30, 0, 150, underflow=False, overflow=False, name='mass', label='TT'), storage=Weight()) # Sum: WeightedSum(value=0, variance=0), 'EventCount': value_accumulator(int, 864000)}), ('WJets', {'Test': value_accumulator(int, 9), 'Test2': value_accumulator(int, 18), 'mass': Hist(Regular(30, 0, 150, underflow=False, overflow=False, name='mass', label='WJets'), storage=Weight()) # Sum: WeightedSum(value=1360.14, variance=620964), 'ss_mass': Hist(Regular(30, 0, 150, underflow=False, overflow=False, name='mass', label='WJets'), storage=Weight()) # Sum: WeightedSum(value=0, variance=0), 'EventCount': value_accumulator(int, 388069)}), ('DYJets', {'Test': value_accumulator(int, 9), 'Test2': value_accumulator(int, 18), 'mass': Hist(Regular(30, 0, 150, underflow=False, overflow=False, name='mass', label='DYJets'), storage=Weight()) # Sum: WeightedSum(value=99632.5, variance=1.11527e+07), 'ss_mass': Hist(Regular(30, 0, 150, underflow=False, overflow=False, name='mass', label='DYJets'), storage=Weight()) # Sum: WeightedSum(value=0, variance=0), 'EventCount': value_accumulator(int, 368914)})])\n"
     ]
    }
   ],
   "source": [
    "for dset,results in mt_results_local.items():\n",
    "    print(f\"Dataset: {dset}\")\n",
    "    #print(f\"Event count: {results['EventCount'].value}\")\n",
    "\n",
    "print(mt_results_local.items())\n"
   ]
  },
  {
   "cell_type": "code",
   "execution_count": 25,
   "id": "37e8b6f8-ab99-4374-aa6e-ae1bbb566089",
   "metadata": {},
   "outputs": [
    {
     "name": "stderr",
     "output_type": "stream",
     "text": [
      "/opt/conda/lib/python3.10/site-packages/mplhep/utils.py:197: RuntimeWarning: All sumw are zero!  Cannot compute meaningful error bars\n",
      "  return np.abs(method_fcn(self.values, variances) - self.values)\n"
     ]
    },
    {
     "data": {
      "image/png": "[encoded data removed]",
      "text/plain": [
       "<Figure size 640x480 with 1 Axes>"
      ]
     },
     "metadata": {},
     "output_type": "display_data"
    }
   ],
   "source": [
    "#mt_results_local[\"Data\"][\"mass\"].plot()\n",
    "#mt_results_local[\"DYJets\"][\"mass\"].plot()\n",
    "#mt_results_local[\"WJets\"][\"mass\"].plot()\n",
    "#mt_results_local[\"TT\"][\"mass\"].plot()\n",
    "mt_results_local[\"VV\"][\"mass\"].plot()\n",
    "\n",
    "Data_h, Data_bins = mt_results_local[\"Data\"][\"mass\"].to_numpy()"
   ]
  },
  {
   "cell_type": "code",
   "execution_count": 22,
   "id": "4d3e8246-450f-415b-aa7e-52436a6da5e0",
   "metadata": {},
   "outputs": [],
   "source": [
    "d = {}\n",
    "bins = np.linspace(0,150,30)\n",
    "\n",
    "QCDScaleFactor = 1.6996559936491136\n",
    "\n",
    "d[\"Data_h\"], d[\"Data_bins\"] = mt_results_dask[\"Data\"][\"mass\"].to_numpy()\n",
    "d[\"Data_SS_h\"], d[\"Data_SS_bins\"] = mt_results_dask[\"Data\"][\"ss_mass\"].to_numpy()\n",
    "labels1 = [\"DYJets\", \"WJets\", \"TT\", \"VV\"]\n",
    "for i in labels1:\n",
    "    d[i + \"_h\"], d[i + \"_bins\"] =  mt_results_dask[i][\"mass\"].to_numpy()\n",
    "    d[i + \"_SS_h\"], d[i + \"_SS_bins\"] =  mt_results_dask[i][\"ss_mass\"].to_numpy()\n",
    "\n",
    "d[\"QCD_h\"] = np.subtract(np.subtract(np.subtract(d[\"Data_SS_h\"], d[\"DYJets_SS_h\"], dtype=object, out=None), d[\"WJets_SS_h\"], dtype=object, out=None), d[\"TT_SS_h\"], dtype=object, out=None)\n",
    "for i in range(d[\"QCD_h\"].size):\n",
    "    if d[\"QCD_h\"][i] < 0.0:\n",
    "        d[\"QCD_h\"][i] = 0.0\n",
    "    d[\"QCD_w\"] = np.full(shape=d[\"QCD_h\"].shape, fill_value=QCDScaleFactor, dtype=np.double)\n",
    "    d[\"QCD_hist\"] = (d[\"QCD_h\"], d[\"Data_SS_bins\"])\n"
   ]
  },
  {
   "cell_type": "code",
   "execution_count": 23,
   "id": "20eb60c2-3930-4e25-a3f8-6f29b8e4cff7",
   "metadata": {},
   "outputs": [],
   "source": [
    "outFile = uproot.recreate(\"boostedHTT_mt_2018_dask.input.root\")\n",
    "outFile[\"DYJets_met_1_13TeV/data_obs\"] = mt_results_dask[\"Data\"][\"mass\"].to_numpy()\n",
    "outFile[\"DYJets_met_1_13TeV/QCD\"] = d[\"QCD_hist\"]\n",
    "outFile[\"DYJets_met_1_13TeV/WJets\"] = mt_results_dask[\"WJets\"][\"mass\"].to_numpy()\n",
    "outFile[\"DYJets_met_1_13TeV/DYJets125\"] = mt_results_dask[\"DYJets\"][\"mass\"].to_numpy()\n",
    "outFile[\"DYJets_met_1_13TeV/TT\"] = mt_results_dask[\"TT\"][\"mass\"].to_numpy()\n",
    "outFile[\"DYJets_met_1_13TeV/VV\"] = mt_results_dask[\"VV\"][\"mass\"].to_numpy()\n",
    "outFile.close()"
   ]
  },
  {
   "cell_type": "code",
   "execution_count": null,
   "id": "006c2f26",
   "metadata": {},
   "outputs": [],
   "source": [
    "outFile = uproot.recreate(\"boostedHTT_mt_2018.input.root\")\n",
    "\n",
    "\n"
   ]
  }
 ],
 "metadata": {
  "kernelspec": {
   "display_name": "Python 3 (ipykernel)",
   "language": "python",
   "name": "python3"
  },
  "language_info": {
   "codemirror_mode": {
    "name": "ipython",
    "version": 3
   },
   "file_extension": ".py",
   "mimetype": "text/x-python",
   "name": "python",
   "nbconvert_exporter": "python",
   "pygments_lexer": "ipython3",
   "version": "3.10.8"
  }
 },
 "nbformat": 4,
 "nbformat_minor": 5
}
