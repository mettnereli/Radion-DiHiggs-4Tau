{
 "cells": [
  {
   "cell_type": "code",
   "execution_count": 1,
   "id": "f6950093-4daf-4614-a8c0-bef24b0b110a",
   "metadata": {},
   "outputs": [],
   "source": [
    "import sys\n",
    "import os\n",
    "from pathlib import Path\n",
    "import math\n",
    "import awkward as ak\n",
    "import numpy as np\n",
    "import uproot\n",
    "import boost_histogram as bh\n",
    "import hist\n",
    "from hist import Hist, intervals, axis\n",
    "import matplotlib.pyplot as plt\n",
    "from matplotlib import cycler\n",
    "import mplhep as hep\n",
    "from coffea import nanoevents, lookup_tools\n",
    "import coffea.processor as processor\n",
    "from coffea.nanoevents import NanoEventsFactory, NanoAODSchema, BaseSchema\n",
    "from coffea.nanoevents.methods import vector, candidate, nanoaod\n",
    "from coffea.nanoevents.methods.vector import PtEtaPhiELorentzVector\n",
    "from coffea.lookup_tools import extractor, evaluator\n",
    "from coffea.analysis_tools import PackedSelection\n",
    "import dask\n",
    "from dask import delayed\n",
    "from dask.distributed import Client\n",
    "from dask_jobqueue import HTCondorCluster\n"
   ]
  },
  {
   "cell_type": "code",
   "execution_count": 2,
   "id": "68592275-d1e3-4764-a24f-c02c3349d152",
   "metadata": {},
   "outputs": [],
   "source": [
    "MAX_WORKERS = 40\n",
    "CHUNKSIZE = 20000\n",
    "MAX_CHUNKS = None"
   ]
  },
  {
   "cell_type": "code",
   "execution_count": 3,
   "id": "d3ba0e9f-ee77-4b44-bf96-e38de1412ec8",
   "metadata": {},
   "outputs": [],
   "source": [
    "@delayed(pure=True)\n",
    "def get_tree(url):    \n",
    "    return uproot.open(url)[\"Events\"]"
   ]
  },
  {
   "cell_type": "code",
   "execution_count": 6,
   "id": "eaec14d0-02f1-4320-8868-ab2c95407518",
   "metadata": {
    "scrolled": true
   },
   "outputs": [
    {
     "data": {
      "text/plain": [
       "array([Delayed('get_tree-e8e570f42ba63ec32a2c67979ab17201'),\n",
       "       Delayed('get_tree-306008126623b23c5c75c4d4185f2bc7'),\n",
       "       Delayed('get_tree-4a4b28cf9f93ea38a3f07bb588630f02'),\n",
       "       Delayed('get_tree-99a1178553deed29573f72bf8332f54d'),\n",
       "       Delayed('get_tree-6a38956c1dbe10f4c9734ecfb9d5e2c6'),\n",
       "       Delayed('get_tree-7ea3ef45b21144be63a9bcca1d2cd39e'),\n",
       "       Delayed('get_tree-8061badd5e9a6891194145af74983f30'),\n",
       "       Delayed('get_tree-88c7196ac2dff02b861971f44afd6cb9'),\n",
       "       Delayed('get_tree-2f162da9f11e456ed72d13e9aa98bc8c'),\n",
       "       Delayed('get_tree-8ac02d7f48389f33e0e73b9debf23de9'),\n",
       "       Delayed('get_tree-bebbc4735d364ff93b792d55b2a545d0'),\n",
       "       Delayed('get_tree-61287320d86ff332ee3415dc99cc63e5'),\n",
       "       Delayed('get_tree-550678933763b64c9039d0b7aa011735'),\n",
       "       Delayed('get_tree-0e3d42b7c20c632afd3098e762b42df9'),\n",
       "       Delayed('get_tree-e071eda66cf812a86e38496dc5083431'),\n",
       "       Delayed('get_tree-c948bbe7a6fdee117346c9700426f0ae'),\n",
       "       Delayed('get_tree-2efe59fa3a5792395dc31506659a6add'),\n",
       "       Delayed('get_tree-182c6de552ec340601e4587cfd0f3d35'),\n",
       "       Delayed('get_tree-9ea15eb2c5f8d30ed832da5d54bd861c'),\n",
       "       Delayed('get_tree-16d2fa63e99028337b5a07c21c69ec34'),\n",
       "       Delayed('get_tree-97bd54f25791e82839570848d1d893ba'),\n",
       "       Delayed('get_tree-b1d19e03f8273ef0f269011fa42eadff'),\n",
       "       Delayed('get_tree-0d8662a7cbc0a8f0b2ad939d096f6155'),\n",
       "       Delayed('get_tree-e70ef9576a26fa96071a90762f9721c0'),\n",
       "       Delayed('get_tree-9967665d6db4b159155e7e8b2b83ce7d'),\n",
       "       Delayed('get_tree-4fcf307468a311873ee948e99fea1a02'),\n",
       "       Delayed('get_tree-4c14c4fe9aa39be2e4a9a8cabb73f51c'),\n",
       "       Delayed('get_tree-b64fa12f5b34bc167f1fcb9260249e8e'),\n",
       "       Delayed('get_tree-08d8f493ea7df14a68092dd51d4cd4fa'),\n",
       "       Delayed('get_tree-2184124eacc9e160dc301fbfcff00881'),\n",
       "       Delayed('get_tree-fb89e07fcef5d7dee4842f8bc2760b4e'),\n",
       "       Delayed('get_tree-515f8e33b0dad5c8dc9b0d61fdf068af'),\n",
       "       Delayed('get_tree-135c1d298c2450a75256d2bd71f4485a'),\n",
       "       Delayed('get_tree-d7d364c6b1fc453e34aebec20fbede0a'),\n",
       "       Delayed('get_tree-455600d23bc1d16fcb94797f65fc4c01'),\n",
       "       Delayed('get_tree-629d73571137e89cc33cd12d07edf743'),\n",
       "       Delayed('get_tree-fb153b2ee74ced849f7d47de3350acfa'),\n",
       "       Delayed('get_tree-7ccf49d336658caad1372025362863ce'),\n",
       "       Delayed('get_tree-5d5b74659f37d651b246cd0b4e2883d2'),\n",
       "       Delayed('get_tree-bdf1e1961505fd90b545bdfcf4213df8')], dtype=object)"
      ]
     },
     "execution_count": 6,
     "metadata": {},
     "output_type": "execute_result"
    }
   ],
   "source": [
    "redirector = \"root://cmsxrootd.fnal.gov//store/user/gparida/HHbbtt/Full_Production_CMSSW_13_0_13_Nov24_23\"\n",
    "redirector17D = \"/hdfs/store/user/cgalloni/HHbbtt/Full_Production_CMSSW_13_0_13_Nov24_23\"\n",
    "\n",
    "mt_fileset = {\n",
    "    \"DYJets\": [\n",
    "        redirector+f\"/2018/MC/DYJetsToLL_M-50_HT-200to400_TuneCP5_PSweights_13TeV-madgraphMLM-pythia8/DYJetsToLL_M-50_HT-200to400_TuneCP5_PSweights_13TeV-madgraphMLM-pythia8/231225_151806/0000/NANO_NANO_{i}.root\"\n",
    "        for i in range(1,10)\n",
    "    ],\n",
    "    \"WJets\": [\n",
    "        redirector+f\"/2018/MC/WJetsToLNu_HT-200To400_TuneCP5_13TeV-madgraphMLM-pythia8/WJetsToLNu_HT-200To400_TuneCP5_13TeV-madgraphMLM-pythia8/231225_151948/0000/NANO_NANO_{i}.root\"\n",
    "        for i in range(1,10)\n",
    "    ],\n",
    "    \"TT\": [\n",
    "        redirector+f\"/2018/MC/TTToSemiLeptonic_TuneCP5_13TeV-powheg-pythia8/TTToSemiLeptonic_TuneCP5_13TeV-powheg-pythia8/240203_190026/0000/NANO_NANO_{i}.root\"\n",
    "        for i in range(1,10) #leptonic\n",
    "    ],  \n",
    "    \"VV\": [\n",
    "        redirector+f\"/2018/MC/WZTo1L1Nu2Q_4f_TuneCP5_13TeV-amcatnloFXFX-pythia8/WZTo1L1Nu2Q_4f_TuneCP5_13TeV-amcatnloFXFX-pythia8/231225_152904/0000/NANO_NANO_{i}.root\"\n",
    "        for i in range(1,10)\n",
    "    ],\n",
    "    \"Data\": [\n",
    "        redirector+f\"/2018/MC/RadionTohhTohtatahbb_narrow_M-2000_TuneCP5_13TeV-madgraph-pythia8/RadionTohhTohtatahbb_narrow_M-2000_TuneCP5_13TeV-madgraph-pythia8/231225_152455/0000/NANO_NANO_{i}.root\"\n",
    "        for i in range(1,5) #fix get real data\n",
    "    ]\n",
    "}\n",
    "inputs = []\n",
    "for label in mt_fileset:\n",
    "    input = [get_tree(url) for url in mt_fileset[label]]\n",
    "    inputs = np.append(inputs, input)\n",
    "inputs"
   ]
  },
  {
   "cell_type": "code",
   "execution_count": 7,
   "id": "18f9b53a-cdb4-4037-a120-c01647dfa7e3",
   "metadata": {},
   "outputs": [
    {
     "data": {
      "text/plain": [
       "[7437,\n",
       " 47677,\n",
       " 40243,\n",
       " 36018,\n",
       " 47083,\n",
       " 47206,\n",
       " 47650,\n",
       " 56861,\n",
       " 38739,\n",
       " 24857,\n",
       " 47257,\n",
       " 47914,\n",
       " 47892,\n",
       " 47795,\n",
       " 47689,\n",
       " 29490,\n",
       " 47633,\n",
       " 47542,\n",
       " 96000,\n",
       " 92000,\n",
       " 96000,\n",
       " 96000,\n",
       " 96000,\n",
       " 96000,\n",
       " 96000,\n",
       " 96000,\n",
       " 96000,\n",
       " 2964,\n",
       " 79845,\n",
       " 80050,\n",
       " 79861,\n",
       " 79711,\n",
       " 80058,\n",
       " 79773,\n",
       " 6005,\n",
       " 79870,\n",
       " 48000,\n",
       " 48000,\n",
       " 3000,\n",
       " 1000]"
      ]
     },
     "execution_count": 7,
     "metadata": {},
     "output_type": "execute_result"
    }
   ],
   "source": [
    "nevents, = dask.compute([t.num_entries for t in inputs])\n",
    "nevents"
   ]
  },
  {
   "cell_type": "code",
   "execution_count": 4,
   "id": "2af29a58-ebde-4aff-8af1-a9c8cccb4318",
   "metadata": {},
   "outputs": [],
   "source": [
    "def bit_mask(bit):\n",
    "      mask = 0\n",
    "      mask += (1 << bit)\n",
    "      return mask"
   ]
  },
  {
   "cell_type": "code",
   "execution_count": 5,
   "id": "9c4fbda3-78f9-4c6c-95df-511bf25a931d",
   "metadata": {},
   "outputs": [],
   "source": [
    "def weightCalc(name):\n",
    "      WScaleFactor = 1.21\n",
    "      TT_FulLep_BR= 0.1061\n",
    "      TT_SemiLep_BR= 0.4392\n",
    "      TT_Had_BR= 0.4544\n",
    "\n",
    "      if \"Radion\" in name: return 1\n",
    "      elif \"DYJets\" in name:\n",
    "         if \"50To100\" in name: return 387.130778\n",
    "         elif \"100To250\" in name: return 89.395097\n",
    "         elif \"250To400\" in name: return 3.435181\n",
    "         elif \"400To650\" in name: return 0.464024\n",
    "         elif \"650ToInf\" in name: return 0.043602\n",
    "         elif \"100to200\" in name: return 160.7\n",
    "         elif \"200to400\" in name: return 48.63\n",
    "         elif \"400to600\" in name: return 6.993\n",
    "         elif \"600to800\" in name: return 1.761\n",
    "         elif \"800to1200\" in name: return .8021\n",
    "         elif \"1200to2500\" in name: return .1937\n",
    "         elif \"2500toInf\" in name: return .003514\n",
    "      elif \"WJets\" in name:\n",
    "         if \"100To200\" in name: return 1345* WScaleFactor\n",
    "         elif \"200To400\" in name: return 359.7* WScaleFactor\n",
    "         elif \"400To600\" in name: return 48.91* WScaleFactor\n",
    "         elif \"600To800\" in name: return 12.05* WScaleFactor\n",
    "         elif \"800To1200\" in name: return 5.501* WScaleFactor\n",
    "         elif \"1200To2500\" in name: return 1.329* WScaleFactor\n",
    "         elif \"2500ToInf\" in name: return 0.03216* WScaleFactor \n",
    "      elif \"QCD\" in name:\n",
    "         if \"300to500\" in name: return 347700\n",
    "         elif \"500to700\" in name: return 32100\n",
    "         elif \"700to1000\" in name: return 6831\n",
    "         elif \"1000to1500\" in name: return 1207\n",
    "         elif \"1500to2000\" in name: return 119.9\n",
    "         elif \"2000toInf\" in name: return 25.24\n",
    "      elif \"ggH125\" in name: return 48.30 * 0.0621\n",
    "      elif \"ggZHLL125\" in name: return 0.1223 * 0.062 * 3 * 0.033658\n",
    "      elif \"ggZHNuNu125\" in name: return 0.1223 * 0.062 * 0.2000\n",
    "      elif \"ggZHQQ125\" in name: return 0.1223 * 0.062 * 0.6991\n",
    "      elif \"JJH0\" in name:\n",
    "         if \"OneJet\" in name: return 0.1383997884\n",
    "         elif \"TwoJet\" in name: return 0.2270577971\n",
    "         elif \"ZeroJet\" in name: return 0.3989964912\n",
    "      elif \"qqH125\" in name: return 3.770 * 0.0621\n",
    "      elif \"Tbar-tchan\" in name: return  26.23\n",
    "      elif \"Tbar-tW\" in name: return 35.6\n",
    "      elif \"toptopH125\" in name: return 0.5033 * 0.062\n",
    "      elif \"T-tchan.root\" in name: return 44.07\n",
    "      elif \"T-tW\" in name: return 35.6\n",
    "      elif \"TTT\" in name:\n",
    "         if \"2L2Nu\" in name: return 831.76 * TT_FulLep_BR\n",
    "         if \"Hadronic\" in name: return 831.76 * TT_Had_BR\n",
    "         if \"SemiLeptonic\" in name: return 831.76 * TT_SemiLep_BR\n",
    "      elif \"VV2l2nu\" in name: return 11.95\n",
    "      elif \"WMinus\" in name: return 0.5272 * 0.0621\n",
    "      elif \"WPlus\" in name: return 0.8331 * 0.0621\n",
    "      elif \"WZ\" in name:\n",
    "         if \"nu2q\" in name: return 10.71\n",
    "         elif \"1l3nu\" in name: return 3.05\n",
    "         elif \"2l2q\" in name: return 5.595\n",
    "         elif \"3l1nu\" in name: return 4.708\n",
    "      elif \"ZH125\" in name: return 0.7544 * 0.0621\n",
    "      elif \"ZZ2l2q\" in name: return 3.22\n",
    "      elif \"ZZ4l\" in name: return 1.212\n",
    "      else: print(\"Something's Wrong!\")\n",
    "      return 1.01"
   ]
  },
  {
   "cell_type": "code",
   "execution_count": 6,
   "id": "d1205773-0d11-4e04-af94-ab602365a781",
   "metadata": {},
   "outputs": [
    {
     "name": "stderr",
     "output_type": "stream",
     "text": [
      "/tmp/ipykernel_372994/1460999151.py:7: RuntimeWarning: divide by zero encountered in divide\n",
      "  PUWeight = np.divide(HistoPUData, HistoPUMC)\n"
     ]
    }
   ],
   "source": [
    "   with uproot.open(\"pu_distributions_mc_2018.root\") as f1:\n",
    "      with uproot.open(\"pu_distributions_data_2018.root\") as f2:\n",
    "         mc = f1[\"pileup\"].values()\n",
    "         data = f2[\"pileup\"].values()\n",
    "         HistoPUMC = np.divide(mc, ak.sum(mc))\n",
    "         HistoPUData = np.divide(data, ak.sum(data))\n",
    "         PUWeight = np.divide(HistoPUData, HistoPUMC)"
   ]
  },
  {
   "cell_type": "code",
   "execution_count": 7,
   "id": "d72baf7a-ec04-450e-a07e-b5fbd55702ec",
   "metadata": {},
   "outputs": [],
   "source": [
    "class MyProcessor(processor.ProcessorABC):\n",
    "    def __init__(self):\n",
    "        ak.behavior.update(nanoaod.behavior)\n",
    "        self._accumulator = {}\n",
    "    \n",
    "    @property\n",
    "    def accumulator(self):\n",
    "        return self._accumulator\n",
    "\n",
    "    def process(self,events):\n",
    "        dataset = events.metadata[\"dataset\"]\n",
    "\n",
    "        ax = hist.axis.Regular(30, 0, 150, flow=False, name=\"mass\", label=dataset)\n",
    "        \n",
    "        output = {}\n",
    "        output[dataset] =  {\n",
    "            \"Test\": processor.value_accumulator(int),\n",
    "            \"mass\": Hist(ax),\n",
    "            \"ss_mass\": Hist(ax)\n",
    "            #\"EventCount\": processor.value_accumulator(int)\n",
    "            }\n",
    "\n",
    "\n",
    "        \n",
    "        eventCount = len(events)\n",
    "        name = str(events.metadata[\"filename\"])\n",
    "        XSection = weightCalc(name)\n",
    "        print(\"Start: \", ak.count(events.Muon.pt), \" \", str(dataset))\n",
    "        electron = events.Electron\n",
    "        ele_cut = (electron.pt >= 15) & (np.abs(electron.eta) <= 2.5)\n",
    "        lowMVAele = electron[(np.abs(electron.eta) <= 0.8) & (electron.mvaIso_WPL) & ele_cut] # (electron.mvaFall17V2Iso > -0.83)\n",
    "        midMVAele = electron[(np.abs(electron.eta) > 0.8) & (np.abs(electron.eta) <= 1.5) & (electron.mvaIso_WPL) & ele_cut] #electron.mvaFall17V2Iso > -0.77\n",
    "        highMVAele = electron[(np.abs(electron.eta) >= 1.5) & (electron.mvaIso_WPL) & ele_cut] # (electron.mvaFall17V2Iso > -0.69)\n",
    "        events = events[(ak.num(lowMVAele) == 0) & (ak.num(midMVAele) == 0) & (ak.num(highMVAele) == 0)]\n",
    "        print(\"Extra Ele Veto: \", ak.count(events.Muon.pt))\n",
    "        #Extra muon veto\n",
    "        muon = events.Muon\n",
    "        muon = muon[ak.num(muon) > 1]\n",
    "        badMuon = muon[(np.abs(muon.pfRelIso04_all) > 0.3) & (muon[:,1].pt > 10) & (muon.tightId)] #tightId instead of bitwise thing\n",
    "        events = events[(ak.num(muon) > 0) & (ak.num(badMuon) == 0)]\n",
    "        print(\"Extra Mu Veto: \", ak.count(events.Muon.pt))\n",
    "\n",
    "        #BJets\n",
    "        jets = events.Jet\n",
    "        goodJets= jets[(jets.jetId > 0.5) & (jets.pt > 30) & (np.abs(jets.eta) < 3.0)]\n",
    "        HT = ak.sum(goodJets.pt, axis=-1)\n",
    "\n",
    "        #BJet Veto \n",
    "        #!!!!!!!!!!!!!!!!!!!!!!!!!!!!!!!!!!!!!!!!! change btagdeepflavb for each year https://btv-wiki.docs.cern.ch/ScaleFactors/UL2018/\n",
    "        bJets = jets[(jets.btagDeepFlavB > .7100) & (jets.jetId > .5) & (jets.pt > 30) & (np.abs(jets.eta) < 2.4)]\n",
    "        events = events[(ak.num(jets) > 0) & (HT > 200) & (ak.num(bJets) == 0)]\n",
    "        print(\"BJet Veto: \", ak.count(events.Muon.pt))\n",
    "        mtEvents = events[ak.all((ak.num(events.Muon) > 0) & (ak.num(events.boostedTau) > 0), axis = -1)]\n",
    "        muonC = events.Muon\n",
    "        tauC = events.boostedTau\n",
    "        metC = events.MET\n",
    "        HLT = mtEvents.HLT\n",
    "        \n",
    "        muon = ak.zip( \n",
    "    \t{\n",
    "\t\t\"pt\": muonC.pt,\n",
    "        \"eta\": muonC.eta,\n",
    "\t\t\"phi\": muonC.phi,\n",
    "\t\t\"mass\": muonC.mass,\n",
    "\t\t},\n",
    "    \twith_name=\"PtEtaPhiMLorentzVector\",\n",
    "        behavior=vector.behavior,\n",
    "    \t)\n",
    "        \n",
    "        tau = ak.zip( \n",
    "\t\t{\n",
    "\t\t\"pt\": tauC.pt,\n",
    "        \"eta\": tauC.eta,\n",
    "        \"phi\": tauC.phi,\n",
    "\t\t\"mass\": tauC.mass,\n",
    "\t\t},\n",
    "    \twith_name=\"PtEtaPhiMLorentzVector\",\n",
    "    \tbehavior=vector.behavior,\n",
    "    \t)\n",
    "\n",
    "        #Split into pairs\n",
    "        pairs = ak.cartesian({'tau': tau, 'muon': muon}, nested=False)\n",
    "        pairsC = ak.cartesian({'tau': tauC, 'muon': muonC}, nested=False)\n",
    "        metPairs = ak.cartesian({'met': metC, 'muon': pairsC['muon']}, nested=False)\n",
    "        PUPairs = ak.cartesian({'PU': np.rint(events.Pileup.nTrueInt), 'muon': pairsC['muon']}, nested=False)\n",
    "        print(\"Pairs: \", ak.count(pairsC['muon'].pt), \" Vector: \", ak.count(pairs['muon'].pt))\n",
    "        #Delta r cut\n",
    "        dr = pairs['tau'].delta_r(pairs['muon'])\n",
    "        #ID Cut\n",
    "        MuID = (pairsC['muon'].tightId) & (np.abs(pairsC['muon'].dz) < 0.2)  # & (np.abs(pairsC['muon'].dxy) < 0.045)\n",
    "        #Apply everything at once\n",
    "        print(pairsC['tau'].idDecayModeOldDMs)\n",
    "        muTau_mask27 = ((np.abs(pairs['muon'].eta) < 2.4)\n",
    "                 # & (MuID)\n",
    "                  & (pairs['muon'].pt >= 27)\n",
    "                  & (pairs['muon'].pt < 52)\n",
    "                #  & (pairsC['muon'].pfRelIso04_all <= .3)\n",
    "                  & (metPairs['met'].pt > 30)\n",
    "                  & (pairs['tau'].pt > 30)\n",
    "                 # & (HLT.Mu27)\n",
    "                  & (np.absolute(pairs['tau'].eta) < 2.3)\n",
    "               #   & (pairsC['tau'].idAntiMu > 0)\n",
    "                  & (pairsC['tau'].idDecayModeOldDMs)\n",
    "                  & (dr > .1) \n",
    "                  & (dr < .8))\n",
    "        muTau_mask50 = ((np.abs(pairs['muon'].eta) < 2.4)\n",
    "                 # & (MuID)\n",
    "                  & (pairs['muon'].pt >= 52)\n",
    "                 # & (HLT.Mu50)\n",
    "                  & (pairs['tau'].pt > 30)\n",
    "                  & (np.absolute(pairs['tau'].eta) < 2.3)\n",
    "                #  & (pairsC['tau'].idAntiMu > 0)\n",
    "                  & (pairsC['tau'].idDecayModeOldDMs)\n",
    "                  & (dr > .1) \n",
    "                  & (dr < .8))\n",
    "         #If everything cut return 0 (to avoid pointer errors)\n",
    "        if not ak.any(muTau_mask27) and not ak.any(muTau_mask50):\n",
    "            print(\"0\")\n",
    "            output[dataset][\"Test\"] += 1\n",
    "            return output\n",
    "            \n",
    "        pairs = pairs[(muTau_mask27) | (muTau_mask50)]\n",
    "        pairsC = pairsC[(muTau_mask27) | (muTau_mask50)]\n",
    "        metPairs = metPairs[(muTau_mask27) | (muTau_mask50)]\n",
    "        PUPairs = PUPairs[(muTau_mask27) | (muTau_mask50)]\n",
    "        print(\"Postcut: Pairs: \", ak.count(pairsC['muon'].pt), \" Vector: \", ak.count(pairs['muon'].pt))\n",
    "        \n",
    "        #Separate based on charge\n",
    "        OS_pairs = pairs[pairsC['tau'].charge + pairsC['muon'].charge == 0]\n",
    "        SS_pairs = pairs[pairsC['tau'].charge + pairsC['muon'].charge != 0]\n",
    "        OS_pairsC = pairsC[pairsC['tau'].charge + pairsC['muon'].charge == 0]\n",
    "        SS_pairsC = pairsC[pairsC['tau'].charge + pairsC['muon'].charge != 0]\n",
    "        #Separate based on trigger again\n",
    "        OS_50 = OS_pairs[OS_pairs['muon'].pt >= 52]\n",
    "        OS_27 = OS_pairs[OS_pairs['muon'].pt < 52]\n",
    "        SS_50 = SS_pairs[SS_pairs['muon'].pt >= 52]\n",
    "        SS_27 = SS_pairs[SS_pairs['muon'].pt < 52]\n",
    "\n",
    "        OS_50C = OS_pairsC[OS_pairs['muon'].pt >= 52]\n",
    "        OS_27C = OS_pairsC[OS_pairs['muon'].pt < 52]\n",
    "        SS_50C = SS_pairsC[SS_pairs['muon'].pt >= 52]\n",
    "        SS_27C = SS_pairsC[SS_pairs['muon'].pt < 52]\n",
    "\n",
    "\n",
    "        #If everything cut return 0 (to avoid pointer errors)\n",
    "        if ak.sum(OS_pairs['tau'].pt) == 0 and ak.sum(SS_pairs['tau'].pt) == 0:\n",
    "            output[dataset][\"Test\"] += 1\n",
    "            return output\n",
    "        \n",
    "        #Create vectors\n",
    "        #OS\n",
    "        muVec50 = OS_50['muon']\n",
    "        tauVec50 = OS_50['tau']\n",
    "        muVec27 = OS_27['muon']\n",
    "        tauVec27 = OS_27['tau']\n",
    "        \n",
    "        OSmet50 = metPairs[(pairsC['tau'].charge + pairsC['muon'].charge == 0)]\n",
    "        OSmet50 = OSmet50[(OS_pairs['muon'].pt >= 52)]\n",
    "        OSmet27 = metPairs[(pairsC['tau'].charge + pairsC['muon'].charge == 0)]\n",
    "        OSmet27 = OSmet27[(OS_pairs['muon'].pt < 52)]\n",
    "        SSmet50 = metPairs[(pairsC['tau'].charge + pairsC['muon'].charge != 0)]\n",
    "        SSmet50 = SSmet50[(SS_pairs['muon'].pt >= 52)]\n",
    "        SSmet27 = metPairs[(pairsC['tau'].charge + pairsC['muon'].charge != 0)]\n",
    "        SSmet27 = SSmet27[(SS_pairs['muon'].pt < 52)]\n",
    "\n",
    "        OSPU50 = PUPairs[(pairsC['tau'].charge + pairsC['muon'].charge == 0)]\n",
    "        OSPU50 = OSPU50[(OS_pairs['muon'].pt >= 52)]\n",
    "        OSPU27 = PUPairs[(pairsC['tau'].charge + pairsC['muon'].charge == 0)]\n",
    "        OSPU27 = PUPairs[(OS_pairs['muon'].pt < 52)]\n",
    "        SSPU50 = PUPairs[(pairsC['tau'].charge + pairsC['muon'].charge != 0)]\n",
    "        SSPU50 = SSPU50[(SS_pairs['muon'].pt >= 52)]\n",
    "        SSPU27 = PUPairs[(pairsC['tau'].charge + pairsC['muon'].charge != 0)]\n",
    "        SSPU27 = SSPU27[(SS_pairs['muon'].pt < 52)]\n",
    "\n",
    "        #TMass Cut\n",
    "        tmass50 = np.sqrt(np.square(OS_50['muon'].pt + OSmet50['met'].pt) - np.square(OS_50['muon'].px + OSmet50['met'].pt * np.cos(OSmet50['met'].phi)) - np.square(OS_50['muon'].py + OSmet50['met'].pt * np.sin(OSmet50['met'].phi)))\n",
    "        tmass27 = np.sqrt(np.square(OS_27['muon'].pt + OSmet27['met'].pt) - np.square(OS_27['muon'].px + OSmet27['met'].pt * np.cos(OSmet27['met'].phi)) - np.square(OS_27['muon'].py + OSmet27['met'].pt * np.sin(OSmet27['met'].phi)))\n",
    "        print(tmass27 < 80)\n",
    "        print(OS_27)\n",
    "        \n",
    "        OS_50 = OS_50[tmass50 < 80]\n",
    "        OS_27 = OS_27[tmass27 < 80]\n",
    "        OS_50C = OS_50C[tmass50 < 80]\n",
    "        OS_27C = OS_27C[tmass27 < 80]\n",
    "\n",
    "        OSmet50 = OSmet50[tmass50 < 80]\n",
    "        OSmet27 = OSmet27[tmass27 < 80]\n",
    "        OSPU50 = OSPU50[tmass50 < 80]\n",
    "        OSPU27 = OSPU27[tmass27 < 80]\n",
    "\n",
    "        \n",
    "        tmass50_SS = np.sqrt(np.square(SS_50['muon'].pt + SSmet50['met'].pt) - np.square(SS_50['muon'].px + SSmet50['met'].pt * np.cos(SSmet50['met'].phi)) - np.square(SS_50['muon'].py + SSmet50['met'].pt * np.sin(SSmet50['met'].phi)))\n",
    "        tmass27_SS = np.sqrt(np.square(SS_27['muon'].pt + SSmet27['met'].pt) - np.square(SS_27['muon'].px + SSmet27['met'].pt * np.cos(SSmet27['met'].phi)) - np.square(SS_27['muon'].py + SSmet27['met'].pt * np.sin(SSmet27['met'].phi)))\n",
    "\n",
    "        SS_50 = SS_50[tmass50_SS < 80]\n",
    "        SS_27 = SS_27[tmass27_SS < 80]\n",
    "        SS_50C = SS_50C[tmass50_SS < 80]\n",
    "        SS_27C = SS_27C[tmass27_SS < 80]\n",
    "\n",
    "        SSmet50 = SSmet50[tmass50_SS < 80]\n",
    "        SSmet27 = SSmet27[tmass27_SS < 80]\n",
    "        SSPU50 = SSPU50[tmass50_SS < 80]\n",
    "        SSPU27 = SSPU27[tmass27_SS < 80]\n",
    "\n",
    "        \n",
    "        #MET Vector\n",
    "        MetVec27 =  ak.zip(\n",
    "        {\n",
    "        \"pt\": OSmet27['met'].pt,\n",
    "        \"eta\": 0,\n",
    "        \"phi\": OSmet27['met'].phi,\n",
    "        \"mass\": 0,\n",
    "        },\n",
    "        with_name=\"PtEtaPhiMLorentzVector\",\n",
    "        behavior=vector.behavior,\n",
    "        ) \n",
    "        MetVec50 =  ak.zip(\n",
    "        {\n",
    "         \"pt\": OSmet50['met'].pt,\n",
    "         \"eta\": 0,\n",
    "         \"phi\": OSmet50['met'].phi,\n",
    "         \"mass\": 0,\n",
    "         },\n",
    "        with_name=\"PtEtaPhiMLorentzVector\",\n",
    "        behavior=vector.behavior,\n",
    "        )   \n",
    "        MetVec27_SS =  ak.zip(\n",
    "        {\n",
    "         \"pt\": SSmet27['met'].pt,\n",
    "         \"eta\": 0,\n",
    "         \"phi\": SSmet27['met'].phi,\n",
    "         \"mass\": 0,\n",
    "         },\n",
    "        with_name=\"PtEtaPhiMLorentzVector\",\n",
    "        behavior=vector.behavior,\n",
    "        )  \n",
    "        MetVec50_SS =  ak.zip(\n",
    "        {\n",
    "         \"pt\": SSmet50['met'].pt,\n",
    "         \"eta\": 0,\n",
    "         \"phi\": SSmet50['met'].phi,\n",
    "         \"mass\": 0,\n",
    "         },\n",
    "        with_name=\"PtEtaPhiMLorentzVector\",\n",
    "        behavior=vector.behavior,\n",
    "        ) \n",
    "\n",
    "        #Make Z Vector\n",
    "         #OS\n",
    "        ZVec50 = OS_50['tau'].add(OS_50['muon'])\n",
    "        ZVec27 = OS_27['tau'].add(OS_27['muon'])\n",
    "        #Make Higgs Vector\n",
    "        Higgs50 = ZVec50.add(MetVec50)\n",
    "        Higgs27 = ZVec27.add(MetVec27)\n",
    "\n",
    "\n",
    "        #SS\n",
    "        ZVec50_SS = SS_50['tau'].add(SS_50['muon'])\n",
    "        ZVec27_SS = SS_27['tau'].add(SS_27['muon'])\n",
    "        #Make Higgs Vector\n",
    "        Higgs50_SS = ZVec50_SS.add(MetVec50_SS)\n",
    "        Higgs27_SS = ZVec27_SS.add(MetVec27_SS)\n",
    "\n",
    "\n",
    "        #Final ZVec Cuts\n",
    "        ZVec50 = ZVec50[(ZVec50.pt > 200) & (Higgs50.pt > 250)]\n",
    "        ZVec27 = ZVec27[(ZVec27.pt > 200) & (Higgs27.pt > 250)]\n",
    "        ZVec50_SS = ZVec50_SS[(ZVec50_SS.pt > 200) & (Higgs50_SS.pt > 250)]\n",
    "        ZVec27_SS = ZVec27_SS[(ZVec27_SS.pt > 200) & (Higgs27_SS.pt > 250)]\n",
    "\n",
    "\n",
    "        #Add weight sets\n",
    "        ext = extractor()\n",
    "        ext.add_weight_sets([\"IDCorr NUM_LooseID_DEN_genTracks_pt_abseta ./RunBCDEF_SF_ID.root\", \"Trg50Corr Mu50_OR_TkMu50_PtEtaBins/pt_abseta_ratio ./Trigger_EfficienciesAndSF_RunBtoF.root\", \"Trg27Corr IsoMu24_OR_IsoTkMu24_PtEtaBins/pt_abseta_ratio ./Trigger_EfficienciesAndSF_RunBtoF.root\", \"IsoCorr NUM_LooseRelIso_DEN_LooseID_pt_abseta ./RunBCDEF_SF_ISO.root\", \"pTCorr Ratio2D ./zmm_2d_2018.root\"])\n",
    "        ext.finalize()\n",
    "        evaluator = ext.make_evaluator()\n",
    "\n",
    "\n",
    "        #Get Shape\n",
    "        shape = np.shape(np.append(ak.flatten(ZVec27.mass, axis=1), ak.flatten(ZVec50.mass, axis=1)))\n",
    "        SS_shape = np.shape(np.append(ak.flatten(ZVec27_SS.mass, axis=1), ak.flatten(ZVec50_SS.mass, axis=1)))\n",
    "\n",
    "        Mu50IsoCorr, Mu50IDCorr, Mu50TrgCorr, PUCorrection50, pTCorrection50 = [], [], [], [], []\n",
    "        Mu27IsoCorr, Mu27IDCorr, Mu27TrgCorr, PUCorrection27, pTCorrection27 = [], [], [], [], []\n",
    "\n",
    "\n",
    "        if XSection != 1:\n",
    "            #Shortcut names to make things easier\n",
    "            ZVec50pt = ak.flatten(ZVec50.pt, axis=-1)\n",
    "            ZVec50eta = ak.flatten(ZVec50.eta, axis=-1)\n",
    "            ZVec50_SSpt = ak.flatten(ZVec50_SS.pt, axis=-1)\n",
    "            ZVec50_SSeta = ak.flatten(ZVec50_SS.eta, axis=-1)\n",
    "            ZVec27pt = ak.flatten(ZVec27.pt, axis=-1)\n",
    "            ZVec27eta = ak.flatten(ZVec27.eta, axis=-1)\n",
    "            ZVec27_SSpt = ak.flatten(ZVec27_SS.pt, axis=-1)\n",
    "            ZVec27_SSeta = ak.flatten(ZVec27_SS.eta, axis=-1)\n",
    "\n",
    "            #OS\n",
    "            Mu50IsoCorr = evaluator[\"IsoCorr\"](ZVec50pt, ZVec50eta)   #Iso\n",
    "            Mu50TrgCorr = evaluator[\"Trg50Corr\"](ZVec50pt, ZVec50eta) #Trigger\n",
    "            Mu50IDCorr = evaluator[\"IDCorr\"](ZVec50pt, ZVec50eta) #ID\n",
    "            Mu27IsoCorr = evaluator[\"IsoCorr\"](ZVec27pt, ZVec27eta) \n",
    "            Mu27TrgCorr = evaluator[\"Trg27Corr\"](ZVec27pt, ZVec27eta) \n",
    "            Mu27IDCorr = evaluator[\"IDCorr\"](ZVec27pt, ZVec27eta) \n",
    "\n",
    "            \n",
    "            \n",
    "            puTrue50 = np.array(ak.flatten(OSPU50['PU'][ZVec50.pt > 200], axis=-1), dtype=np.int8) #Pileup\n",
    "            puTrue27 = np.array(ak.flatten(OSPU27['PU'][ZVec27.pt > 200], axis=-1), dtype=np.int8)\n",
    "            PUCorrection50 = PUWeight[puTrue50]\n",
    "            PUCorrection27 = PUWeight[puTrue27]\n",
    "            \n",
    "\n",
    "            Lep50Corr = Mu50IsoCorr * Mu50TrgCorr * Mu50IDCorr  * PUCorrection50 #Combine\n",
    "            Lep27Corr = Mu27IsoCorr * Mu27TrgCorr * Mu27IDCorr  * PUCorrection27\n",
    "\n",
    "            #SS\n",
    "            Mu50IsoCorr_SS = evaluator[\"IsoCorr\"](ZVec50_SSpt, ZVec50_SSeta)   \n",
    "            Mu50TrgCorr_SS = evaluator[\"Trg50Corr\"](ZVec50_SSpt, ZVec50_SSeta)   \n",
    "            Mu50IDCorr_SS = evaluator[\"IDCorr\"](ZVec50_SSpt, ZVec50_SSeta)  \n",
    "            Mu27IsoCorr_SS = evaluator[\"IsoCorr\"](ZVec27_SSpt, ZVec27_SSeta) \n",
    "            Mu27TrgCorr_SS = evaluator[\"Trg27Corr\"](ZVec27_SSpt, ZVec27_SSeta)  \n",
    "            Mu27IDCorr_SS = evaluator[\"IDCorr\"](ZVec27_SSpt, ZVec27_SSeta) \n",
    "\n",
    "            puTrue50_SS = np.array(ak.flatten(SSPU50['PU'][ZVec50_SS.pt > 200], axis=-1), dtype=np.int8)\n",
    "            puTrue27_SS = np.array(ak.flatten(SSPU27['PU'][ZVec27_SS.pt > 200], axis=-1), dtype=np.int8)\n",
    "            PUCorrection50_SS = PUWeight[puTrue50_SS]\n",
    "            PUCorrection27_SS = PUWeight[puTrue27_SS]\n",
    "\n",
    "            Lep50Corr_SS = Mu50IsoCorr_SS * Mu50TrgCorr_SS * Mu50IDCorr_SS * PUCorrection50_SS\n",
    "            Lep27Corr_SS = Mu27IsoCorr_SS * Mu27TrgCorr_SS * Mu27IDCorr_SS * PUCorrection27_SS\n",
    "\n",
    "            #Luminosity (2018)\n",
    "            luminosity = 59830.\n",
    "            lumiWeight = (XSection * luminosity) / eventCount\n",
    "            \n",
    "            LepCorrection = np.append(ak.flatten(Lep27Corr, axis=-1), ak.flatten(Lep50Corr, axis=-1), axis=-1) \n",
    "            #OS\n",
    "            if (\"DYJets\" in name): \n",
    "                #Zpt correction\n",
    "                pTCorrection27 = evaluator[\"pTCorr\"](ak.flatten(ZVec27.mass, axis=-1), ZVec27pt)\n",
    "                pTCorrection50 = evaluator[\"pTCorr\"](ak.flatten(ZVec50.mass, axis=-1), ZVec50pt)\n",
    "                Lep27Corr = Lep27Corr * pTCorrection27\n",
    "                Lep50Corr = Lep50Corr * pTCorrection50\n",
    "                LepCorrection = np.append(ak.flatten(Lep27Corr, axis=-1), ak.flatten(Lep50Corr, axis=-1), axis=-1)\n",
    "            \n",
    "            #SS\n",
    "            SS_LepCorrection = np.append(ak.flatten(Lep27Corr_SS, axis=-1), ak.flatten(Lep50Corr_SS, axis=-1), axis=-1) \n",
    "\n",
    "            #Get shape\n",
    "            mass_w = np.full(shape=shape, fill_value=lumiWeight, dtype=np.double)\n",
    "            mass_w = np.multiply(mass_w, ak.flatten(LepCorrection, axis=-1))\n",
    "            SS_mass_w = np.full(shape=SS_shape, fill_value=lumiWeight, dtype=np.double) \n",
    "            SS_mass_w = np.multiply(SS_mass_w, ak.flatten(SS_LepCorrection, axis=-1))\n",
    "        else:\n",
    "            mass_w = np.full(shape=shape, fill_value=1, dtype=np.double)\n",
    "            SS_mass_w = np.full(shape=SS_shape, fill_value=1, dtype=np.double) \n",
    "\n",
    "        vismass = np.append(ak.flatten(ZVec27.mass, axis=-1), ak.flatten(ZVec50.mass, axis=-1), axis=-1)\n",
    "        ss_vismass = np.append(ak.flatten(ZVec27_SS.mass, axis=-1), ak.flatten(ZVec50_SS.mass, axis=-1), axis=-1)\n",
    "\n",
    "\n",
    "\n",
    "        output[dataset][\"Test\"] += 1\n",
    "        output[dataset][\"mass\"].fill(mass=vismass, weight=mass_w)\n",
    "        output[dataset][\"ss_mass\"].fill(mass=ss_vismass, weight=SS_mass_w)\n",
    "        #output[dataset][\"EventCount\"] += eventCount\n",
    "\n",
    "        return output\n",
    "\n",
    "    def postprocess(self, accumulator):\n",
    "        return accumulator\n",
    "    "
   ]
  },
  {
   "cell_type": "code",
   "execution_count": 12,
   "id": "b4751697-63b8-481c-95c2-a2d55f20cb4e",
   "metadata": {},
   "outputs": [
    {
     "name": "stdout",
     "output_type": "stream",
     "text": [
      "Creating runner\n",
      "Using chunksize: 20000 and maxchunks None\n"
     ]
    }
   ],
   "source": [
    "local_executor = processor.IterativeExecutor(status=True)\n",
    "\n",
    "#Create the runner\n",
    "print(\"Creating runner\")\n",
    "print(\"Using chunksize: {} and maxchunks {}\".format(CHUNKSIZE,MAX_CHUNKS))\n",
    "runner = processor.Runner(\n",
    "    executor=local_executor,\n",
    "    schema=NanoAODSchema,\n",
    "    chunksize=CHUNKSIZE,\n",
    "    maxchunks=MAX_CHUNKS,\n",
    "    skipbadfiles=True,\n",
    "    xrootdtimeout=300,\n",
    ")"
   ]
  },
  {
   "cell_type": "code",
   "execution_count": 13,
   "id": "d5f58d5b-797e-4a86-ae06-fbe6ffecd328",
   "metadata": {},
   "outputs": [
    {
     "data": {
      "application/vnd.jupyter.widget-view+json": {
       "model_id": "ff17eea87b9647528e765c1e15fe58a2",
       "version_major": 2,
       "version_minor": 0
      },
      "text/plain": [
       "Output()"
      ]
     },
     "metadata": {},
     "output_type": "display_data"
    },
    {
     "name": "stdout",
     "output_type": "stream",
     "text": [
      "Calling runner\n"
     ]
    },
    {
     "data": {
      "text/html": [
       "<pre style=\"white-space:pre;overflow-x:auto;line-height:normal;font-family:Menlo,'DejaVu Sans Mono',consolas,'Courier New',monospace\"></pre>\n"
      ],
      "text/plain": []
     },
     "metadata": {},
     "output_type": "display_data"
    },
    {
     "data": {
      "text/html": [
       "<pre style=\"white-space:pre;overflow-x:auto;line-height:normal;font-family:Menlo,'DejaVu Sans Mono',consolas,'Courier New',monospace\">\n",
       "</pre>\n"
      ],
      "text/plain": [
       "\n"
      ]
     },
     "metadata": {},
     "output_type": "display_data"
    },
    {
     "data": {
      "application/vnd.jupyter.widget-view+json": {
       "model_id": "138e182012124befbc49ae565935b248",
       "version_major": 2,
       "version_minor": 0
      },
      "text/plain": [
       "Output()"
      ]
     },
     "metadata": {},
     "output_type": "display_data"
    },
    {
     "data": {
      "text/html": [
       "<pre style=\"white-space:pre;overflow-x:auto;line-height:normal;font-family:Menlo,'DejaVu Sans Mono',consolas,'Courier New',monospace\">Start:  1548   Data\n",
       "</pre>\n"
      ],
      "text/plain": [
       "Start:  1548   Data\n"
      ]
     },
     "metadata": {},
     "output_type": "display_data"
    },
    {
     "data": {
      "text/html": [
       "<pre style=\"white-space:pre;overflow-x:auto;line-height:normal;font-family:Menlo,'DejaVu Sans Mono',consolas,'Courier New',monospace\">Extra Ele Veto:  1109\n",
       "</pre>\n"
      ],
      "text/plain": [
       "Extra Ele Veto:  1109\n"
      ]
     },
     "metadata": {},
     "output_type": "display_data"
    },
    {
     "data": {
      "text/html": [
       "<pre style=\"white-space:pre;overflow-x:auto;line-height:normal;font-family:Menlo,'DejaVu Sans Mono',consolas,'Courier New',monospace\">Extra Mu Veto:  266\n",
       "</pre>\n"
      ],
      "text/plain": [
       "Extra Mu Veto:  266\n"
      ]
     },
     "metadata": {},
     "output_type": "display_data"
    },
    {
     "data": {
      "text/html": [
       "<pre style=\"white-space:pre;overflow-x:auto;line-height:normal;font-family:Menlo,'DejaVu Sans Mono',consolas,'Courier New',monospace\">BJet Veto:  38\n",
       "</pre>\n"
      ],
      "text/plain": [
       "BJet Veto:  38\n"
      ]
     },
     "metadata": {},
     "output_type": "display_data"
    },
    {
     "data": {
      "text/html": [
       "<pre style=\"white-space:pre;overflow-x:auto;line-height:normal;font-family:Menlo,'DejaVu Sans Mono',consolas,'Courier New',monospace\">Pairs:  163  Vector:  163\n",
       "</pre>\n"
      ],
      "text/plain": [
       "Pairs:  163  Vector:  163\n"
      ]
     },
     "metadata": {},
     "output_type": "display_data"
    },
    {
     "data": {
      "text/html": [
       "<pre style=\"white-space:pre;overflow-x:auto;line-height:normal;font-family:Menlo,'DejaVu Sans Mono',consolas,'Courier New',monospace\">[[False, True], [False, False, True], ... True, True, True, True, False, False], []]\n",
       "</pre>\n"
      ],
      "text/plain": [
       "[[False, True], [False, False, True], ... True, True, True, True, False, False], []]\n"
      ]
     },
     "metadata": {},
     "output_type": "display_data"
    },
    {
     "data": {
      "text/html": [
       "<pre style=\"white-space:pre;overflow-x:auto;line-height:normal;font-family:Menlo,'DejaVu Sans Mono',consolas,'Courier New',monospace\">Postcut: Pairs:  10  Vector:  10\n",
       "</pre>\n"
      ],
      "text/plain": [
       "Postcut: Pairs:  10  Vector:  10\n"
      ]
     },
     "metadata": {},
     "output_type": "display_data"
    },
    {
     "data": {
      "text/html": [
       "<pre style=\"white-space:pre;overflow-x:auto;line-height:normal;font-family:Menlo,'DejaVu Sans Mono',consolas,'Courier New',monospace\">[[], [], [False], [], [], [], [False], [], ... [], [], [], [], [True], [], [], []]\n",
       "</pre>\n"
      ],
      "text/plain": [
       "[[], [], [False], [], [], [], [False], [], ... [], [], [], [], [True], [], [], []]\n"
      ]
     },
     "metadata": {},
     "output_type": "display_data"
    },
    {
     "data": {
      "text/html": [
       "<pre style=\"white-space:pre;overflow-x:auto;line-height:normal;font-family:Menlo,'DejaVu Sans Mono',consolas,'Courier New',monospace\">[[], [], [{tau: {pt: 118, eta: 0.887, phi: 0.434, ... mass: 0.106}}], [], [], []]\n",
       "</pre>\n"
      ],
      "text/plain": [
       "[[], [], [{tau: {pt: 118, eta: 0.887, phi: 0.434, ... mass: 0.106}}], [], [], []]\n"
      ]
     },
     "metadata": {},
     "output_type": "display_data"
    },
    {
     "data": {
      "text/html": [
       "<pre style=\"white-space:pre;overflow-x:auto;line-height:normal;font-family:Menlo,'DejaVu Sans Mono',consolas,'Courier New',monospace\">/opt/conda/lib/python3.10/site-packages/coffea/util.py:154: FutureWarning: In coffea version &lt;unknown&gt;, this will \n",
       "be an error.\n",
       "(Set coffea.deprecations_as_errors = True to get a stack trace now.)\n",
       "RuntimeError: The support for TGraph-types will be removed in a future coffea release. In case you need support for\n",
       "TGraph-type, please submit an issue to `https://github.com/CoffeaTeam/coffea/issues`.\n",
       "  warnings.warn(message, FutureWarning)\n",
       "</pre>\n"
      ],
      "text/plain": [
       "/opt/conda/lib/python3.10/site-packages/coffea/util.py:154: FutureWarning: In coffea version <unknown>, this will \n",
       "be an error.\n",
       "(Set coffea.deprecations_as_errors = True to get a stack trace now.)\n",
       "RuntimeError: The support for TGraph-types will be removed in a future coffea release. In case you need support for\n",
       "TGraph-type, please submit an issue to `https://github.com/CoffeaTeam/coffea/issues`.\n",
       "  warnings.warn(message, FutureWarning)\n"
      ]
     },
     "metadata": {},
     "output_type": "display_data"
    },
    {
     "data": {
      "text/html": [
       "<pre style=\"white-space:pre;overflow-x:auto;line-height:normal;font-family:Menlo,'DejaVu Sans Mono',consolas,'Courier New',monospace\">Start:  4445   Data\n",
       "</pre>\n"
      ],
      "text/plain": [
       "Start:  4445   Data\n"
      ]
     },
     "metadata": {},
     "output_type": "display_data"
    },
    {
     "data": {
      "text/html": [
       "<pre style=\"white-space:pre;overflow-x:auto;line-height:normal;font-family:Menlo,'DejaVu Sans Mono',consolas,'Courier New',monospace\">Extra Ele Veto:  3145\n",
       "</pre>\n"
      ],
      "text/plain": [
       "Extra Ele Veto:  3145\n"
      ]
     },
     "metadata": {},
     "output_type": "display_data"
    },
    {
     "data": {
      "text/html": [
       "<pre style=\"white-space:pre;overflow-x:auto;line-height:normal;font-family:Menlo,'DejaVu Sans Mono',consolas,'Courier New',monospace\">Extra Mu Veto:  616\n",
       "</pre>\n"
      ],
      "text/plain": [
       "Extra Mu Veto:  616\n"
      ]
     },
     "metadata": {},
     "output_type": "display_data"
    },
    {
     "data": {
      "text/html": [
       "<pre style=\"white-space:pre;overflow-x:auto;line-height:normal;font-family:Menlo,'DejaVu Sans Mono',consolas,'Courier New',monospace\">BJet Veto:  149\n",
       "</pre>\n"
      ],
      "text/plain": [
       "BJet Veto:  149\n"
      ]
     },
     "metadata": {},
     "output_type": "display_data"
    },
    {
     "data": {
      "text/html": [
       "<pre style=\"white-space:pre;overflow-x:auto;line-height:normal;font-family:Menlo,'DejaVu Sans Mono',consolas,'Courier New',monospace\">Pairs:  623  Vector:  623\n",
       "</pre>\n"
      ],
      "text/plain": [
       "Pairs:  623  Vector:  623\n"
      ]
     },
     "metadata": {},
     "output_type": "display_data"
    },
    {
     "data": {
      "text/html": [
       "<pre style=\"white-space:pre;overflow-x:auto;line-height:normal;font-family:Menlo,'DejaVu Sans Mono',consolas,'Courier New',monospace\">[[], [True, True], [], [True, ... True, True, True, True, True, True, True, True]]\n",
       "</pre>\n"
      ],
      "text/plain": [
       "[[], [True, True], [], [True, ... True, True, True, True, True, True, True, True]]\n"
      ]
     },
     "metadata": {},
     "output_type": "display_data"
    },
    {
     "data": {
      "text/html": [
       "<pre style=\"white-space:pre;overflow-x:auto;line-height:normal;font-family:Menlo,'DejaVu Sans Mono',consolas,'Courier New',monospace\">Postcut: Pairs:  66  Vector:  66\n",
       "</pre>\n"
      ],
      "text/plain": [
       "Postcut: Pairs:  66  Vector:  66\n"
      ]
     },
     "metadata": {},
     "output_type": "display_data"
    },
    {
     "data": {
      "text/html": [
       "<pre style=\"white-space:pre;overflow-x:auto;line-height:normal;font-family:Menlo,'DejaVu Sans Mono',consolas,'Courier New',monospace\">[[], [], [], [], [], [], [], [], [], [], ... [], [], [], [], [], [], [], [], [False]]\n",
       "</pre>\n"
      ],
      "text/plain": [
       "[[], [], [], [], [], [], [], [], [], [], ... [], [], [], [], [], [], [], [], [False]]\n"
      ]
     },
     "metadata": {},
     "output_type": "display_data"
    },
    {
     "data": {
      "text/html": [
       "<pre style=\"white-space:pre;overflow-x:auto;line-height:normal;font-family:Menlo,'DejaVu Sans Mono',consolas,'Courier New',monospace\">[[], [], [], [], [], [], ... muon: {pt: 47.1, eta: 0.489, phi: 1.09, mass: 0.106}}]]\n",
       "</pre>\n"
      ],
      "text/plain": [
       "[[], [], [], [], [], [], ... muon: {pt: 47.1, eta: 0.489, phi: 1.09, mass: 0.106}}]]\n"
      ]
     },
     "metadata": {},
     "output_type": "display_data"
    },
    {
     "data": {
      "text/html": [
       "<pre style=\"white-space:pre;overflow-x:auto;line-height:normal;font-family:Menlo,'DejaVu Sans Mono',consolas,'Courier New',monospace\">Start:  35909   Data\n",
       "</pre>\n"
      ],
      "text/plain": [
       "Start:  35909   Data\n"
      ]
     },
     "metadata": {},
     "output_type": "display_data"
    },
    {
     "data": {
      "text/html": [
       "<pre style=\"white-space:pre;overflow-x:auto;line-height:normal;font-family:Menlo,'DejaVu Sans Mono',consolas,'Courier New',monospace\">Extra Ele Veto:  24809\n",
       "</pre>\n"
      ],
      "text/plain": [
       "Extra Ele Veto:  24809\n"
      ]
     },
     "metadata": {},
     "output_type": "display_data"
    },
    {
     "data": {
      "text/html": [
       "<pre style=\"white-space:pre;overflow-x:auto;line-height:normal;font-family:Menlo,'DejaVu Sans Mono',consolas,'Courier New',monospace\">Extra Mu Veto:  4839\n",
       "</pre>\n"
      ],
      "text/plain": [
       "Extra Mu Veto:  4839\n"
      ]
     },
     "metadata": {},
     "output_type": "display_data"
    },
    {
     "data": {
      "text/html": [
       "<pre style=\"white-space:pre;overflow-x:auto;line-height:normal;font-family:Menlo,'DejaVu Sans Mono',consolas,'Courier New',monospace\">BJet Veto:  895\n",
       "</pre>\n"
      ],
      "text/plain": [
       "BJet Veto:  895\n"
      ]
     },
     "metadata": {},
     "output_type": "display_data"
    },
    {
     "data": {
      "text/html": [
       "<pre style=\"white-space:pre;overflow-x:auto;line-height:normal;font-family:Menlo,'DejaVu Sans Mono',consolas,'Courier New',monospace\">Pairs:  3626  Vector:  3626\n",
       "</pre>\n"
      ],
      "text/plain": [
       "Pairs:  3626  Vector:  3626\n"
      ]
     },
     "metadata": {},
     "output_type": "display_data"
    },
    {
     "data": {
      "text/html": [
       "<pre style=\"white-space:pre;overflow-x:auto;line-height:normal;font-family:Menlo,'DejaVu Sans Mono',consolas,'Courier New',monospace\">[[], [True, True, False, True], [True, True, ... True, True, True, True], [], [], []]\n",
       "</pre>\n"
      ],
      "text/plain": [
       "[[], [True, True, False, True], [True, True, ... True, True, True, True], [], [], []]\n"
      ]
     },
     "metadata": {},
     "output_type": "display_data"
    },
    {
     "data": {
      "text/html": [
       "<pre style=\"white-space:pre;overflow-x:auto;line-height:normal;font-family:Menlo,'DejaVu Sans Mono',consolas,'Courier New',monospace\">Postcut: Pairs:  330  Vector:  330\n",
       "</pre>\n"
      ],
      "text/plain": [
       "Postcut: Pairs:  330  Vector:  330\n"
      ]
     },
     "metadata": {},
     "output_type": "display_data"
    },
    {
     "data": {
      "text/html": [
       "<pre style=\"white-space:pre;overflow-x:auto;line-height:normal;font-family:Menlo,'DejaVu Sans Mono',consolas,'Courier New',monospace\">/opt/conda/lib/python3.10/site-packages/awkward/_connect/_numpy.py:195: RuntimeWarning: invalid value encountered \n",
       "in sqrt\n",
       "  result = getattr(ufunc, method)(\n",
       "</pre>\n"
      ],
      "text/plain": [
       "/opt/conda/lib/python3.10/site-packages/awkward/_connect/_numpy.py:195: RuntimeWarning: invalid value encountered \n",
       "in sqrt\n",
       "  result = getattr(ufunc, method)(\n"
      ]
     },
     "metadata": {},
     "output_type": "display_data"
    },
    {
     "data": {
      "text/html": [
       "<pre style=\"white-space:pre;overflow-x:auto;line-height:normal;font-family:Menlo,'DejaVu Sans Mono',consolas,'Courier New',monospace\">[[], [True], [], [], [], [], [], [], [], ... [], [], [], [], [], [], [], [], []]\n",
       "</pre>\n"
      ],
      "text/plain": [
       "[[], [True], [], [], [], [], [], [], [], ... [], [], [], [], [], [], [], [], []]\n"
      ]
     },
     "metadata": {},
     "output_type": "display_data"
    },
    {
     "data": {
      "text/html": [
       "<pre style=\"white-space:pre;overflow-x:auto;line-height:normal;font-family:Menlo,'DejaVu Sans Mono',consolas,'Courier New',monospace\">[[], [{tau: {pt: 514, eta: 0.791, phi: -1.74, mass: 1.5}, ... [], [], [], [], []]\n",
       "</pre>\n"
      ],
      "text/plain": [
       "[[], [{tau: {pt: 514, eta: 0.791, phi: -1.74, mass: 1.5}, ... [], [], [], [], []]\n"
      ]
     },
     "metadata": {},
     "output_type": "display_data"
    },
    {
     "data": {
      "text/html": [
       "<pre style=\"white-space:pre;overflow-x:auto;line-height:normal;font-family:Menlo,'DejaVu Sans Mono',consolas,'Courier New',monospace\">Start:  36329   Data\n",
       "</pre>\n"
      ],
      "text/plain": [
       "Start:  36329   Data\n"
      ]
     },
     "metadata": {},
     "output_type": "display_data"
    },
    {
     "data": {
      "text/html": [
       "<pre style=\"white-space:pre;overflow-x:auto;line-height:normal;font-family:Menlo,'DejaVu Sans Mono',consolas,'Courier New',monospace\">Extra Ele Veto:  25200\n",
       "</pre>\n"
      ],
      "text/plain": [
       "Extra Ele Veto:  25200\n"
      ]
     },
     "metadata": {},
     "output_type": "display_data"
    },
    {
     "data": {
      "text/html": [
       "<pre style=\"white-space:pre;overflow-x:auto;line-height:normal;font-family:Menlo,'DejaVu Sans Mono',consolas,'Courier New',monospace\">Extra Mu Veto:  5023\n",
       "</pre>\n"
      ],
      "text/plain": [
       "Extra Mu Veto:  5023\n"
      ]
     },
     "metadata": {},
     "output_type": "display_data"
    },
    {
     "data": {
      "text/html": [
       "<pre style=\"white-space:pre;overflow-x:auto;line-height:normal;font-family:Menlo,'DejaVu Sans Mono',consolas,'Courier New',monospace\">BJet Veto:  993\n",
       "</pre>\n"
      ],
      "text/plain": [
       "BJet Veto:  993\n"
      ]
     },
     "metadata": {},
     "output_type": "display_data"
    },
    {
     "data": {
      "text/html": [
       "<pre style=\"white-space:pre;overflow-x:auto;line-height:normal;font-family:Menlo,'DejaVu Sans Mono',consolas,'Courier New',monospace\">Pairs:  3826  Vector:  3826\n",
       "</pre>\n"
      ],
      "text/plain": [
       "Pairs:  3826  Vector:  3826\n"
      ]
     },
     "metadata": {},
     "output_type": "display_data"
    },
    {
     "data": {
      "text/html": [
       "<pre style=\"white-space:pre;overflow-x:auto;line-height:normal;font-family:Menlo,'DejaVu Sans Mono',consolas,'Courier New',monospace\">[[True, True, True, True, True, True, ... True, True, False, False, False, False]]\n",
       "</pre>\n"
      ],
      "text/plain": [
       "[[True, True, True, True, True, True, ... True, True, False, False, False, False]]\n"
      ]
     },
     "metadata": {},
     "output_type": "display_data"
    },
    {
     "data": {
      "text/html": [
       "<pre style=\"white-space:pre;overflow-x:auto;line-height:normal;font-family:Menlo,'DejaVu Sans Mono',consolas,'Courier New',monospace\">Postcut: Pairs:  332  Vector:  332\n",
       "</pre>\n"
      ],
      "text/plain": [
       "Postcut: Pairs:  332  Vector:  332\n"
      ]
     },
     "metadata": {},
     "output_type": "display_data"
    },
    {
     "data": {
      "text/html": [
       "<pre style=\"white-space:pre;overflow-x:auto;line-height:normal;font-family:Menlo,'DejaVu Sans Mono',consolas,'Courier New',monospace\">[[], [], [], [], [], [], [], [], [], [], ... [], [], [], [], [], [], [], [], [], []]\n",
       "</pre>\n"
      ],
      "text/plain": [
       "[[], [], [], [], [], [], [], [], [], [], ... [], [], [], [], [], [], [], [], [], []]\n"
      ]
     },
     "metadata": {},
     "output_type": "display_data"
    },
    {
     "data": {
      "text/html": [
       "<pre style=\"white-space:pre;overflow-x:auto;line-height:normal;font-family:Menlo,'DejaVu Sans Mono',consolas,'Courier New',monospace\">[[], [], [], [], [], [], [], [], [], [], ... [], [], [], [], [], [], [], [], [], []]\n",
       "</pre>\n"
      ],
      "text/plain": [
       "[[], [], [], [], [], [], [], [], [], [], ... [], [], [], [], [], [], [], [], [], []]\n"
      ]
     },
     "metadata": {},
     "output_type": "display_data"
    },
    {
     "data": {
      "text/html": [
       "<pre style=\"white-space:pre;overflow-x:auto;line-height:normal;font-family:Menlo,'DejaVu Sans Mono',consolas,'Courier New',monospace\">Start:  36478   Data\n",
       "</pre>\n"
      ],
      "text/plain": [
       "Start:  36478   Data\n"
      ]
     },
     "metadata": {},
     "output_type": "display_data"
    },
    {
     "data": {
      "text/html": [
       "<pre style=\"white-space:pre;overflow-x:auto;line-height:normal;font-family:Menlo,'DejaVu Sans Mono',consolas,'Courier New',monospace\">Extra Ele Veto:  25285\n",
       "</pre>\n"
      ],
      "text/plain": [
       "Extra Ele Veto:  25285\n"
      ]
     },
     "metadata": {},
     "output_type": "display_data"
    },
    {
     "data": {
      "text/html": [
       "<pre style=\"white-space:pre;overflow-x:auto;line-height:normal;font-family:Menlo,'DejaVu Sans Mono',consolas,'Courier New',monospace\">Extra Mu Veto:  4838\n",
       "</pre>\n"
      ],
      "text/plain": [
       "Extra Mu Veto:  4838\n"
      ]
     },
     "metadata": {},
     "output_type": "display_data"
    },
    {
     "data": {
      "text/html": [
       "<pre style=\"white-space:pre;overflow-x:auto;line-height:normal;font-family:Menlo,'DejaVu Sans Mono',consolas,'Courier New',monospace\">BJet Veto:  1003\n",
       "</pre>\n"
      ],
      "text/plain": [
       "BJet Veto:  1003\n"
      ]
     },
     "metadata": {},
     "output_type": "display_data"
    },
    {
     "data": {
      "text/html": [
       "<pre style=\"white-space:pre;overflow-x:auto;line-height:normal;font-family:Menlo,'DejaVu Sans Mono',consolas,'Courier New',monospace\">Pairs:  4039  Vector:  4039\n",
       "</pre>\n"
      ],
      "text/plain": [
       "Pairs:  4039  Vector:  4039\n"
      ]
     },
     "metadata": {},
     "output_type": "display_data"
    },
    {
     "data": {
      "text/html": [
       "<pre style=\"white-space:pre;overflow-x:auto;line-height:normal;font-family:Menlo,'DejaVu Sans Mono',consolas,'Courier New',monospace\">[[], [], [True, True, True, True, ... True, True, True, True, True, True, True]]\n",
       "</pre>\n"
      ],
      "text/plain": [
       "[[], [], [True, True, True, True, ... True, True, True, True, True, True, True]]\n"
      ]
     },
     "metadata": {},
     "output_type": "display_data"
    },
    {
     "data": {
      "text/html": [
       "<pre style=\"white-space:pre;overflow-x:auto;line-height:normal;font-family:Menlo,'DejaVu Sans Mono',consolas,'Courier New',monospace\">Postcut: Pairs:  364  Vector:  364\n",
       "</pre>\n"
      ],
      "text/plain": [
       "Postcut: Pairs:  364  Vector:  364\n"
      ]
     },
     "metadata": {},
     "output_type": "display_data"
    },
    {
     "data": {
      "text/html": [
       "<pre style=\"white-space:pre;overflow-x:auto;line-height:normal;font-family:Menlo,'DejaVu Sans Mono',consolas,'Courier New',monospace\">[[], [], [], [True], [True], [], [True], ... [], [], [True], [], [], [], [], []]\n",
       "</pre>\n"
      ],
      "text/plain": [
       "[[], [], [], [True], [True], [], [True], ... [], [], [True], [], [], [], [], []]\n"
      ]
     },
     "metadata": {},
     "output_type": "display_data"
    },
    {
     "data": {
      "text/html": [
       "<pre style=\"white-space:pre;overflow-x:auto;line-height:normal;font-family:Menlo,'DejaVu Sans Mono',consolas,'Courier New',monospace\">[[], [], [], [{tau: {pt: 397, eta: 0.962, phi: -3.05, ... [], [], [], [], []]\n",
       "</pre>\n"
      ],
      "text/plain": [
       "[[], [], [], [{tau: {pt: 397, eta: 0.962, phi: -3.05, ... [], [], [], [], []]\n"
      ]
     },
     "metadata": {},
     "output_type": "display_data"
    },
    {
     "data": {
      "text/html": [
       "<pre style=\"white-space:pre;overflow-x:auto;line-height:normal;font-family:Menlo,'DejaVu Sans Mono',consolas,'Courier New',monospace\">Start:  35499   Data\n",
       "</pre>\n"
      ],
      "text/plain": [
       "Start:  35499   Data\n"
      ]
     },
     "metadata": {},
     "output_type": "display_data"
    },
    {
     "data": {
      "text/html": [
       "<pre style=\"white-space:pre;overflow-x:auto;line-height:normal;font-family:Menlo,'DejaVu Sans Mono',consolas,'Courier New',monospace\">Extra Ele Veto:  24549\n",
       "</pre>\n"
      ],
      "text/plain": [
       "Extra Ele Veto:  24549\n"
      ]
     },
     "metadata": {},
     "output_type": "display_data"
    },
    {
     "data": {
      "text/html": [
       "<pre style=\"white-space:pre;overflow-x:auto;line-height:normal;font-family:Menlo,'DejaVu Sans Mono',consolas,'Courier New',monospace\">Extra Mu Veto:  4586\n",
       "</pre>\n"
      ],
      "text/plain": [
       "Extra Mu Veto:  4586\n"
      ]
     },
     "metadata": {},
     "output_type": "display_data"
    },
    {
     "data": {
      "text/html": [
       "<pre style=\"white-space:pre;overflow-x:auto;line-height:normal;font-family:Menlo,'DejaVu Sans Mono',consolas,'Courier New',monospace\">BJet Veto:  892\n",
       "</pre>\n"
      ],
      "text/plain": [
       "BJet Veto:  892\n"
      ]
     },
     "metadata": {},
     "output_type": "display_data"
    },
    {
     "data": {
      "text/html": [
       "<pre style=\"white-space:pre;overflow-x:auto;line-height:normal;font-family:Menlo,'DejaVu Sans Mono',consolas,'Courier New',monospace\">Pairs:  3534  Vector:  3534\n",
       "</pre>\n"
      ],
      "text/plain": [
       "Pairs:  3534  Vector:  3534\n"
      ]
     },
     "metadata": {},
     "output_type": "display_data"
    },
    {
     "data": {
      "text/html": [
       "<pre style=\"white-space:pre;overflow-x:auto;line-height:normal;font-family:Menlo,'DejaVu Sans Mono',consolas,'Courier New',monospace\">[[False, True, True, True], [], [True, True, True, ... [], [], [], [], [True, True]]\n",
       "</pre>\n"
      ],
      "text/plain": [
       "[[False, True, True, True], [], [True, True, True, ... [], [], [], [], [True, True]]\n"
      ]
     },
     "metadata": {},
     "output_type": "display_data"
    },
    {
     "data": {
      "text/html": [
       "<pre style=\"white-space:pre;overflow-x:auto;line-height:normal;font-family:Menlo,'DejaVu Sans Mono',consolas,'Courier New',monospace\">Postcut: Pairs:  316  Vector:  316\n",
       "</pre>\n"
      ],
      "text/plain": [
       "Postcut: Pairs:  316  Vector:  316\n"
      ]
     },
     "metadata": {},
     "output_type": "display_data"
    },
    {
     "data": {
      "text/html": [
       "<pre style=\"white-space:pre;overflow-x:auto;line-height:normal;font-family:Menlo,'DejaVu Sans Mono',consolas,'Courier New',monospace\">[[], [], [], [], [], [], [], [], [], [], ... [True], [], [], [], [], [], [], [], []]\n",
       "</pre>\n"
      ],
      "text/plain": [
       "[[], [], [], [], [], [], [], [], [], [], ... [True], [], [], [], [], [], [], [], []]\n"
      ]
     },
     "metadata": {},
     "output_type": "display_data"
    },
    {
     "data": {
      "text/html": [
       "<pre style=\"white-space:pre;overflow-x:auto;line-height:normal;font-family:Menlo,'DejaVu Sans Mono',consolas,'Courier New',monospace\">[[], [], [], [], [], [], [], [], [], [], ... [], [], [], [], [], [], [], []]\n",
       "</pre>\n"
      ],
      "text/plain": [
       "[[], [], [], [], [], [], [], [], [], [], ... [], [], [], [], [], [], [], []]\n"
      ]
     },
     "metadata": {},
     "output_type": "display_data"
    },
    {
     "data": {
      "text/html": [
       "<pre style=\"white-space:pre;overflow-x:auto;line-height:normal;font-family:Menlo,'DejaVu Sans Mono',consolas,'Courier New',monospace\">Start:  6653   VV\n",
       "</pre>\n"
      ],
      "text/plain": [
       "Start:  6653   VV\n"
      ]
     },
     "metadata": {},
     "output_type": "display_data"
    },
    {
     "data": {
      "text/html": [
       "<pre style=\"white-space:pre;overflow-x:auto;line-height:normal;font-family:Menlo,'DejaVu Sans Mono',consolas,'Courier New',monospace\">Extra Ele Veto:  6288\n",
       "</pre>\n"
      ],
      "text/plain": [
       "Extra Ele Veto:  6288\n"
      ]
     },
     "metadata": {},
     "output_type": "display_data"
    },
    {
     "data": {
      "text/html": [
       "<pre style=\"white-space:pre;overflow-x:auto;line-height:normal;font-family:Menlo,'DejaVu Sans Mono',consolas,'Courier New',monospace\">Extra Mu Veto:  172\n",
       "</pre>\n"
      ],
      "text/plain": [
       "Extra Mu Veto:  172\n"
      ]
     },
     "metadata": {},
     "output_type": "display_data"
    },
    {
     "data": {
      "text/html": [
       "<pre style=\"white-space:pre;overflow-x:auto;line-height:normal;font-family:Menlo,'DejaVu Sans Mono',consolas,'Courier New',monospace\">BJet Veto:  68\n",
       "</pre>\n"
      ],
      "text/plain": [
       "BJet Veto:  68\n"
      ]
     },
     "metadata": {},
     "output_type": "display_data"
    },
    {
     "data": {
      "text/html": [
       "<pre style=\"white-space:pre;overflow-x:auto;line-height:normal;font-family:Menlo,'DejaVu Sans Mono',consolas,'Courier New',monospace\">Pairs:  154  Vector:  154\n",
       "</pre>\n"
      ],
      "text/plain": [
       "Pairs:  154  Vector:  154\n"
      ]
     },
     "metadata": {},
     "output_type": "display_data"
    },
    {
     "data": {
      "text/html": [
       "<pre style=\"white-space:pre;overflow-x:auto;line-height:normal;font-family:Menlo,'DejaVu Sans Mono',consolas,'Courier New',monospace\">[[True, False, False, False], [False, False, False, ... [True, False], [True], []]\n",
       "</pre>\n"
      ],
      "text/plain": [
       "[[True, False, False, False], [False, False, False, ... [True, False], [True], []]\n"
      ]
     },
     "metadata": {},
     "output_type": "display_data"
    },
    {
     "data": {
      "text/html": [
       "<pre style=\"white-space:pre;overflow-x:auto;line-height:normal;font-family:Menlo,'DejaVu Sans Mono',consolas,'Courier New',monospace\">0\n",
       "</pre>\n"
      ],
      "text/plain": [
       "0\n"
      ]
     },
     "metadata": {},
     "output_type": "display_data"
    },
    {
     "data": {
      "text/html": [
       "<pre style=\"white-space:pre;overflow-x:auto;line-height:normal;font-family:Menlo,'DejaVu Sans Mono',consolas,'Courier New',monospace\">Start:  6538   VV\n",
       "</pre>\n"
      ],
      "text/plain": [
       "Start:  6538   VV\n"
      ]
     },
     "metadata": {},
     "output_type": "display_data"
    },
    {
     "data": {
      "text/html": [
       "<pre style=\"white-space:pre;overflow-x:auto;line-height:normal;font-family:Menlo,'DejaVu Sans Mono',consolas,'Courier New',monospace\">Extra Ele Veto:  6175\n",
       "</pre>\n"
      ],
      "text/plain": [
       "Extra Ele Veto:  6175\n"
      ]
     },
     "metadata": {},
     "output_type": "display_data"
    },
    {
     "data": {
      "text/html": [
       "<pre style=\"white-space:pre;overflow-x:auto;line-height:normal;font-family:Menlo,'DejaVu Sans Mono',consolas,'Courier New',monospace\">Extra Mu Veto:  154\n",
       "</pre>\n"
      ],
      "text/plain": [
       "Extra Mu Veto:  154\n"
      ]
     },
     "metadata": {},
     "output_type": "display_data"
    },
    {
     "data": {
      "text/html": [
       "<pre style=\"white-space:pre;overflow-x:auto;line-height:normal;font-family:Menlo,'DejaVu Sans Mono',consolas,'Courier New',monospace\">BJet Veto:  66\n",
       "</pre>\n"
      ],
      "text/plain": [
       "BJet Veto:  66\n"
      ]
     },
     "metadata": {},
     "output_type": "display_data"
    },
    {
     "data": {
      "text/html": [
       "<pre style=\"white-space:pre;overflow-x:auto;line-height:normal;font-family:Menlo,'DejaVu Sans Mono',consolas,'Courier New',monospace\">Pairs:  116  Vector:  116\n",
       "</pre>\n"
      ],
      "text/plain": [
       "Pairs:  116  Vector:  116\n"
      ]
     },
     "metadata": {},
     "output_type": "display_data"
    },
    {
     "data": {
      "text/html": [
       "<pre style=\"white-space:pre;overflow-x:auto;line-height:normal;font-family:Menlo,'DejaVu Sans Mono',consolas,'Courier New',monospace\">[[], [], [False], [], [], [], ... True], [True, True], [True, True, True], [True]]\n",
       "</pre>\n"
      ],
      "text/plain": [
       "[[], [], [False], [], [], [], ... True], [True, True], [True, True, True], [True]]\n"
      ]
     },
     "metadata": {},
     "output_type": "display_data"
    },
    {
     "data": {
      "text/html": [
       "<pre style=\"white-space:pre;overflow-x:auto;line-height:normal;font-family:Menlo,'DejaVu Sans Mono',consolas,'Courier New',monospace\">0\n",
       "</pre>\n"
      ],
      "text/plain": [
       "0\n"
      ]
     },
     "metadata": {},
     "output_type": "display_data"
    },
    {
     "data": {
      "text/html": [
       "<pre style=\"white-space:pre;overflow-x:auto;line-height:normal;font-family:Menlo,'DejaVu Sans Mono',consolas,'Courier New',monospace\">Start:  6583   VV\n",
       "</pre>\n"
      ],
      "text/plain": [
       "Start:  6583   VV\n"
      ]
     },
     "metadata": {},
     "output_type": "display_data"
    },
    {
     "data": {
      "text/html": [
       "<pre style=\"white-space:pre;overflow-x:auto;line-height:normal;font-family:Menlo,'DejaVu Sans Mono',consolas,'Courier New',monospace\">Extra Ele Veto:  6263\n",
       "</pre>\n"
      ],
      "text/plain": [
       "Extra Ele Veto:  6263\n"
      ]
     },
     "metadata": {},
     "output_type": "display_data"
    },
    {
     "data": {
      "text/html": [
       "<pre style=\"white-space:pre;overflow-x:auto;line-height:normal;font-family:Menlo,'DejaVu Sans Mono',consolas,'Courier New',monospace\">Extra Mu Veto:  175\n",
       "</pre>\n"
      ],
      "text/plain": [
       "Extra Mu Veto:  175\n"
      ]
     },
     "metadata": {},
     "output_type": "display_data"
    },
    {
     "data": {
      "text/html": [
       "<pre style=\"white-space:pre;overflow-x:auto;line-height:normal;font-family:Menlo,'DejaVu Sans Mono',consolas,'Courier New',monospace\">BJet Veto:  66\n",
       "</pre>\n"
      ],
      "text/plain": [
       "BJet Veto:  66\n"
      ]
     },
     "metadata": {},
     "output_type": "display_data"
    },
    {
     "data": {
      "text/html": [
       "<pre style=\"white-space:pre;overflow-x:auto;line-height:normal;font-family:Menlo,'DejaVu Sans Mono',consolas,'Courier New',monospace\">Pairs:  139  Vector:  139\n",
       "</pre>\n"
      ],
      "text/plain": [
       "Pairs:  139  Vector:  139\n"
      ]
     },
     "metadata": {},
     "output_type": "display_data"
    },
    {
     "data": {
      "text/html": [
       "<pre style=\"white-space:pre;overflow-x:auto;line-height:normal;font-family:Menlo,'DejaVu Sans Mono',consolas,'Courier New',monospace\">[[], [], [True, True], [], [], [], [], ... True, True], [], [], [], [True], [], []]\n",
       "</pre>\n"
      ],
      "text/plain": [
       "[[], [], [True, True], [], [], [], [], ... True, True], [], [], [], [True], [], []]\n"
      ]
     },
     "metadata": {},
     "output_type": "display_data"
    },
    {
     "data": {
      "text/html": [
       "<pre style=\"white-space:pre;overflow-x:auto;line-height:normal;font-family:Menlo,'DejaVu Sans Mono',consolas,'Courier New',monospace\">Postcut: Pairs:  2  Vector:  2\n",
       "</pre>\n"
      ],
      "text/plain": [
       "Postcut: Pairs:  2  Vector:  2\n"
      ]
     },
     "metadata": {},
     "output_type": "display_data"
    },
    {
     "data": {
      "text/html": [
       "<pre style=\"white-space:pre;overflow-x:auto;line-height:normal;font-family:Menlo,'DejaVu Sans Mono',consolas,'Courier New',monospace\">[[], [], [], [], [], [], [], [], [], [], ... [], [], [], [], [], [], [], [], [], []]\n",
       "</pre>\n"
      ],
      "text/plain": [
       "[[], [], [], [], [], [], [], [], [], [], ... [], [], [], [], [], [], [], [], [], []]\n"
      ]
     },
     "metadata": {},
     "output_type": "display_data"
    },
    {
     "data": {
      "text/html": [
       "<pre style=\"white-space:pre;overflow-x:auto;line-height:normal;font-family:Menlo,'DejaVu Sans Mono',consolas,'Courier New',monospace\">[[], [], [], [], [], [], [], [], [], [], ... [], [], [], [], [], [], [], [], [], []]\n",
       "</pre>\n"
      ],
      "text/plain": [
       "[[], [], [], [], [], [], [], [], [], [], ... [], [], [], [], [], [], [], [], [], []]\n"
      ]
     },
     "metadata": {},
     "output_type": "display_data"
    },
    {
     "data": {
      "text/html": [
       "<pre style=\"white-space:pre;overflow-x:auto;line-height:normal;font-family:Menlo,'DejaVu Sans Mono',consolas,'Courier New',monospace\">Start:  6641   VV\n",
       "</pre>\n"
      ],
      "text/plain": [
       "Start:  6641   VV\n"
      ]
     },
     "metadata": {},
     "output_type": "display_data"
    },
    {
     "data": {
      "text/html": [
       "<pre style=\"white-space:pre;overflow-x:auto;line-height:normal;font-family:Menlo,'DejaVu Sans Mono',consolas,'Courier New',monospace\">Extra Ele Veto:  6256\n",
       "</pre>\n"
      ],
      "text/plain": [
       "Extra Ele Veto:  6256\n"
      ]
     },
     "metadata": {},
     "output_type": "display_data"
    },
    {
     "data": {
      "text/html": [
       "<pre style=\"white-space:pre;overflow-x:auto;line-height:normal;font-family:Menlo,'DejaVu Sans Mono',consolas,'Courier New',monospace\">Extra Mu Veto:  174\n",
       "</pre>\n"
      ],
      "text/plain": [
       "Extra Mu Veto:  174\n"
      ]
     },
     "metadata": {},
     "output_type": "display_data"
    },
    {
     "data": {
      "text/html": [
       "<pre style=\"white-space:pre;overflow-x:auto;line-height:normal;font-family:Menlo,'DejaVu Sans Mono',consolas,'Courier New',monospace\">BJet Veto:  58\n",
       "</pre>\n"
      ],
      "text/plain": [
       "BJet Veto:  58\n"
      ]
     },
     "metadata": {},
     "output_type": "display_data"
    },
    {
     "data": {
      "text/html": [
       "<pre style=\"white-space:pre;overflow-x:auto;line-height:normal;font-family:Menlo,'DejaVu Sans Mono',consolas,'Courier New',monospace\">Pairs:  131  Vector:  131\n",
       "</pre>\n"
      ],
      "text/plain": [
       "Pairs:  131  Vector:  131\n"
      ]
     },
     "metadata": {},
     "output_type": "display_data"
    },
    {
     "data": {
      "text/html": [
       "<pre style=\"white-space:pre;overflow-x:auto;line-height:normal;font-family:Menlo,'DejaVu Sans Mono',consolas,'Courier New',monospace\">[[False, True, True, False, True, True], [], ... True], [], [], [True, True]]\n",
       "</pre>\n"
      ],
      "text/plain": [
       "[[False, True, True, False, True, True], [], ... True], [], [], [True, True]]\n"
      ]
     },
     "metadata": {},
     "output_type": "display_data"
    },
    {
     "data": {
      "text/html": [
       "<pre style=\"white-space:pre;overflow-x:auto;line-height:normal;font-family:Menlo,'DejaVu Sans Mono',consolas,'Courier New',monospace\">0\n",
       "</pre>\n"
      ],
      "text/plain": [
       "0\n"
      ]
     },
     "metadata": {},
     "output_type": "display_data"
    },
    {
     "data": {
      "text/html": [
       "<pre style=\"white-space:pre;overflow-x:auto;line-height:normal;font-family:Menlo,'DejaVu Sans Mono',consolas,'Courier New',monospace\">Start:  1978   VV\n",
       "</pre>\n"
      ],
      "text/plain": [
       "Start:  1978   VV\n"
      ]
     },
     "metadata": {},
     "output_type": "display_data"
    },
    {
     "data": {
      "text/html": [
       "<pre style=\"white-space:pre;overflow-x:auto;line-height:normal;font-family:Menlo,'DejaVu Sans Mono',consolas,'Courier New',monospace\">Extra Ele Veto:  1884\n",
       "</pre>\n"
      ],
      "text/plain": [
       "Extra Ele Veto:  1884\n"
      ]
     },
     "metadata": {},
     "output_type": "display_data"
    },
    {
     "data": {
      "text/html": [
       "<pre style=\"white-space:pre;overflow-x:auto;line-height:normal;font-family:Menlo,'DejaVu Sans Mono',consolas,'Courier New',monospace\">Extra Mu Veto:  38\n",
       "</pre>\n"
      ],
      "text/plain": [
       "Extra Mu Veto:  38\n"
      ]
     },
     "metadata": {},
     "output_type": "display_data"
    },
    {
     "data": {
      "text/html": [
       "<pre style=\"white-space:pre;overflow-x:auto;line-height:normal;font-family:Menlo,'DejaVu Sans Mono',consolas,'Courier New',monospace\">BJet Veto:  14\n",
       "</pre>\n"
      ],
      "text/plain": [
       "BJet Veto:  14\n"
      ]
     },
     "metadata": {},
     "output_type": "display_data"
    },
    {
     "data": {
      "text/html": [
       "<pre style=\"white-space:pre;overflow-x:auto;line-height:normal;font-family:Menlo,'DejaVu Sans Mono',consolas,'Courier New',monospace\">Pairs:  20  Vector:  20\n",
       "</pre>\n"
      ],
      "text/plain": [
       "Pairs:  20  Vector:  20\n"
      ]
     },
     "metadata": {},
     "output_type": "display_data"
    },
    {
     "data": {
      "text/html": [
       "<pre style=\"white-space:pre;overflow-x:auto;line-height:normal;font-family:Menlo,'DejaVu Sans Mono',consolas,'Courier New',monospace\">[[], [False, True, True], [], [], [True, ... True, False], [], [False, True], [], []]\n",
       "</pre>\n"
      ],
      "text/plain": [
       "[[], [False, True, True], [], [], [True, ... True, False], [], [False, True], [], []]\n"
      ]
     },
     "metadata": {},
     "output_type": "display_data"
    },
    {
     "data": {
      "text/html": [
       "<pre style=\"white-space:pre;overflow-x:auto;line-height:normal;font-family:Menlo,'DejaVu Sans Mono',consolas,'Courier New',monospace\">0\n",
       "</pre>\n"
      ],
      "text/plain": [
       "0\n"
      ]
     },
     "metadata": {},
     "output_type": "display_data"
    },
    {
     "data": {
      "text/html": [
       "<pre style=\"white-space:pre;overflow-x:auto;line-height:normal;font-family:Menlo,'DejaVu Sans Mono',consolas,'Courier New',monospace\">Start:  6612   VV\n",
       "</pre>\n"
      ],
      "text/plain": [
       "Start:  6612   VV\n"
      ]
     },
     "metadata": {},
     "output_type": "display_data"
    },
    {
     "data": {
      "text/html": [
       "<pre style=\"white-space:pre;overflow-x:auto;line-height:normal;font-family:Menlo,'DejaVu Sans Mono',consolas,'Courier New',monospace\">Extra Ele Veto:  6266\n",
       "</pre>\n"
      ],
      "text/plain": [
       "Extra Ele Veto:  6266\n"
      ]
     },
     "metadata": {},
     "output_type": "display_data"
    },
    {
     "data": {
      "text/html": [
       "<pre style=\"white-space:pre;overflow-x:auto;line-height:normal;font-family:Menlo,'DejaVu Sans Mono',consolas,'Courier New',monospace\">Extra Mu Veto:  157\n",
       "</pre>\n"
      ],
      "text/plain": [
       "Extra Mu Veto:  157\n"
      ]
     },
     "metadata": {},
     "output_type": "display_data"
    },
    {
     "data": {
      "text/html": [
       "<pre style=\"white-space:pre;overflow-x:auto;line-height:normal;font-family:Menlo,'DejaVu Sans Mono',consolas,'Courier New',monospace\">BJet Veto:  59\n",
       "</pre>\n"
      ],
      "text/plain": [
       "BJet Veto:  59\n"
      ]
     },
     "metadata": {},
     "output_type": "display_data"
    },
    {
     "data": {
      "text/html": [
       "<pre style=\"white-space:pre;overflow-x:auto;line-height:normal;font-family:Menlo,'DejaVu Sans Mono',consolas,'Courier New',monospace\">Pairs:  101  Vector:  101\n",
       "</pre>\n"
      ],
      "text/plain": [
       "Pairs:  101  Vector:  101\n"
      ]
     },
     "metadata": {},
     "output_type": "display_data"
    },
    {
     "data": {
      "text/html": [
       "<pre style=\"white-space:pre;overflow-x:auto;line-height:normal;font-family:Menlo,'DejaVu Sans Mono',consolas,'Courier New',monospace\">[[], [], [], [], [], [True, False, True], ... [], [True], [True, True], [], [], []]\n",
       "</pre>\n"
      ],
      "text/plain": [
       "[[], [], [], [], [], [True, False, True], ... [], [True], [True, True], [], [], []]\n"
      ]
     },
     "metadata": {},
     "output_type": "display_data"
    },
    {
     "data": {
      "text/html": [
       "<pre style=\"white-space:pre;overflow-x:auto;line-height:normal;font-family:Menlo,'DejaVu Sans Mono',consolas,'Courier New',monospace\">Postcut: Pairs:  1  Vector:  1\n",
       "</pre>\n"
      ],
      "text/plain": [
       "Postcut: Pairs:  1  Vector:  1\n"
      ]
     },
     "metadata": {},
     "output_type": "display_data"
    },
    {
     "data": {
      "text/html": [
       "<pre style=\"white-space:pre;overflow-x:auto;line-height:normal;font-family:Menlo,'DejaVu Sans Mono',consolas,'Courier New',monospace\">[[], [], [], [], [], [], [], [], [], [], ... [], [], [], [], [], [], [], [], [], []]\n",
       "</pre>\n"
      ],
      "text/plain": [
       "[[], [], [], [], [], [], [], [], [], [], ... [], [], [], [], [], [], [], [], [], []]\n"
      ]
     },
     "metadata": {},
     "output_type": "display_data"
    },
    {
     "data": {
      "text/html": [
       "<pre style=\"white-space:pre;overflow-x:auto;line-height:normal;font-family:Menlo,'DejaVu Sans Mono',consolas,'Courier New',monospace\">[[], [], [], [], [], [], [], [], [], [], ... [], [], [], [], [], [], [], [], [], []]\n",
       "</pre>\n"
      ],
      "text/plain": [
       "[[], [], [], [], [], [], [], [], [], [], ... [], [], [], [], [], [], [], [], [], []]\n"
      ]
     },
     "metadata": {},
     "output_type": "display_data"
    },
    {
     "data": {
      "text/html": [
       "<pre style=\"white-space:pre;overflow-x:auto;line-height:normal;font-family:Menlo,'DejaVu Sans Mono',consolas,'Courier New',monospace\">Start:  6558   VV\n",
       "</pre>\n"
      ],
      "text/plain": [
       "Start:  6558   VV\n"
      ]
     },
     "metadata": {},
     "output_type": "display_data"
    },
    {
     "data": {
      "text/html": [
       "<pre style=\"white-space:pre;overflow-x:auto;line-height:normal;font-family:Menlo,'DejaVu Sans Mono',consolas,'Courier New',monospace\">Extra Ele Veto:  6218\n",
       "</pre>\n"
      ],
      "text/plain": [
       "Extra Ele Veto:  6218\n"
      ]
     },
     "metadata": {},
     "output_type": "display_data"
    },
    {
     "data": {
      "text/html": [
       "<pre style=\"white-space:pre;overflow-x:auto;line-height:normal;font-family:Menlo,'DejaVu Sans Mono',consolas,'Courier New',monospace\">Extra Mu Veto:  153\n",
       "</pre>\n"
      ],
      "text/plain": [
       "Extra Mu Veto:  153\n"
      ]
     },
     "metadata": {},
     "output_type": "display_data"
    },
    {
     "data": {
      "text/html": [
       "<pre style=\"white-space:pre;overflow-x:auto;line-height:normal;font-family:Menlo,'DejaVu Sans Mono',consolas,'Courier New',monospace\">BJet Veto:  55\n",
       "</pre>\n"
      ],
      "text/plain": [
       "BJet Veto:  55\n"
      ]
     },
     "metadata": {},
     "output_type": "display_data"
    },
    {
     "data": {
      "text/html": [
       "<pre style=\"white-space:pre;overflow-x:auto;line-height:normal;font-family:Menlo,'DejaVu Sans Mono',consolas,'Courier New',monospace\">Pairs:  108  Vector:  108\n",
       "</pre>\n"
      ],
      "text/plain": [
       "Pairs:  108  Vector:  108\n"
      ]
     },
     "metadata": {},
     "output_type": "display_data"
    },
    {
     "data": {
      "text/html": [
       "<pre style=\"white-space:pre;overflow-x:auto;line-height:normal;font-family:Menlo,'DejaVu Sans Mono',consolas,'Courier New',monospace\">[[True, True, True, False, True], [False, True], ... [False, True], [True], []]\n",
       "</pre>\n"
      ],
      "text/plain": [
       "[[True, True, True, False, True], [False, True], ... [False, True], [True], []]\n"
      ]
     },
     "metadata": {},
     "output_type": "display_data"
    },
    {
     "data": {
      "text/html": [
       "<pre style=\"white-space:pre;overflow-x:auto;line-height:normal;font-family:Menlo,'DejaVu Sans Mono',consolas,'Courier New',monospace\">Postcut: Pairs:  2  Vector:  2\n",
       "</pre>\n"
      ],
      "text/plain": [
       "Postcut: Pairs:  2  Vector:  2\n"
      ]
     },
     "metadata": {},
     "output_type": "display_data"
    },
    {
     "data": {
      "text/html": [
       "<pre style=\"white-space:pre;overflow-x:auto;line-height:normal;font-family:Menlo,'DejaVu Sans Mono',consolas,'Courier New',monospace\">[[], [], [], [], [], [], [], [], [], [], ... [], [], [], [], [], [], [], [], [], []]\n",
       "</pre>\n"
      ],
      "text/plain": [
       "[[], [], [], [], [], [], [], [], [], [], ... [], [], [], [], [], [], [], [], [], []]\n"
      ]
     },
     "metadata": {},
     "output_type": "display_data"
    },
    {
     "data": {
      "text/html": [
       "<pre style=\"white-space:pre;overflow-x:auto;line-height:normal;font-family:Menlo,'DejaVu Sans Mono',consolas,'Courier New',monospace\">[[], [], [], [], [], [], [], [], [], [], ... [], [], [], [], [], [], [], [], [], []]\n",
       "</pre>\n"
      ],
      "text/plain": [
       "[[], [], [], [], [], [], [], [], [], [], ... [], [], [], [], [], [], [], [], [], []]\n"
      ]
     },
     "metadata": {},
     "output_type": "display_data"
    },
    {
     "data": {
      "text/html": [
       "<pre style=\"white-space:pre;overflow-x:auto;line-height:normal;font-family:Menlo,'DejaVu Sans Mono',consolas,'Courier New',monospace\">Start:  6565   VV\n",
       "</pre>\n"
      ],
      "text/plain": [
       "Start:  6565   VV\n"
      ]
     },
     "metadata": {},
     "output_type": "display_data"
    },
    {
     "data": {
      "text/html": [
       "<pre style=\"white-space:pre;overflow-x:auto;line-height:normal;font-family:Menlo,'DejaVu Sans Mono',consolas,'Courier New',monospace\">Extra Ele Veto:  6174\n",
       "</pre>\n"
      ],
      "text/plain": [
       "Extra Ele Veto:  6174\n"
      ]
     },
     "metadata": {},
     "output_type": "display_data"
    },
    {
     "data": {
      "text/html": [
       "<pre style=\"white-space:pre;overflow-x:auto;line-height:normal;font-family:Menlo,'DejaVu Sans Mono',consolas,'Courier New',monospace\">Extra Mu Veto:  169\n",
       "</pre>\n"
      ],
      "text/plain": [
       "Extra Mu Veto:  169\n"
      ]
     },
     "metadata": {},
     "output_type": "display_data"
    },
    {
     "data": {
      "text/html": [
       "<pre style=\"white-space:pre;overflow-x:auto;line-height:normal;font-family:Menlo,'DejaVu Sans Mono',consolas,'Courier New',monospace\">BJet Veto:  55\n",
       "</pre>\n"
      ],
      "text/plain": [
       "BJet Veto:  55\n"
      ]
     },
     "metadata": {},
     "output_type": "display_data"
    },
    {
     "data": {
      "text/html": [
       "<pre style=\"white-space:pre;overflow-x:auto;line-height:normal;font-family:Menlo,'DejaVu Sans Mono',consolas,'Courier New',monospace\">Pairs:  104  Vector:  104\n",
       "</pre>\n"
      ],
      "text/plain": [
       "Pairs:  104  Vector:  104\n"
      ]
     },
     "metadata": {},
     "output_type": "display_data"
    },
    {
     "data": {
      "text/html": [
       "<pre style=\"white-space:pre;overflow-x:auto;line-height:normal;font-family:Menlo,'DejaVu Sans Mono',consolas,'Courier New',monospace\">[[True, False], [], [], [True, True, True, ... False], [], [], [False, False], []]\n",
       "</pre>\n"
      ],
      "text/plain": [
       "[[True, False], [], [], [True, True, True, ... False], [], [], [False, False], []]\n"
      ]
     },
     "metadata": {},
     "output_type": "display_data"
    },
    {
     "data": {
      "text/html": [
       "<pre style=\"white-space:pre;overflow-x:auto;line-height:normal;font-family:Menlo,'DejaVu Sans Mono',consolas,'Courier New',monospace\">Postcut: Pairs:  3  Vector:  3\n",
       "</pre>\n"
      ],
      "text/plain": [
       "Postcut: Pairs:  3  Vector:  3\n"
      ]
     },
     "metadata": {},
     "output_type": "display_data"
    },
    {
     "data": {
      "text/html": [
       "<pre style=\"white-space:pre;overflow-x:auto;line-height:normal;font-family:Menlo,'DejaVu Sans Mono',consolas,'Courier New',monospace\">[[], [], [], [], [], [], [], [], [], [], ... [], [], [], [], [], [], [], [], [], []]\n",
       "</pre>\n"
      ],
      "text/plain": [
       "[[], [], [], [], [], [], [], [], [], [], ... [], [], [], [], [], [], [], [], [], []]\n"
      ]
     },
     "metadata": {},
     "output_type": "display_data"
    },
    {
     "data": {
      "text/html": [
       "<pre style=\"white-space:pre;overflow-x:auto;line-height:normal;font-family:Menlo,'DejaVu Sans Mono',consolas,'Courier New',monospace\">[[], [], [], [], [], [], [], [], [], [], ... [], [], [], [], [], [], [], [], [], []]\n",
       "</pre>\n"
      ],
      "text/plain": [
       "[[], [], [], [], [], [], [], [], [], [], ... [], [], [], [], [], [], [], [], [], []]\n"
      ]
     },
     "metadata": {},
     "output_type": "display_data"
    },
    {
     "data": {
      "text/html": [
       "<pre style=\"white-space:pre;overflow-x:auto;line-height:normal;font-family:Menlo,'DejaVu Sans Mono',consolas,'Courier New',monospace\">Start:  6509   VV\n",
       "</pre>\n"
      ],
      "text/plain": [
       "Start:  6509   VV\n"
      ]
     },
     "metadata": {},
     "output_type": "display_data"
    },
    {
     "data": {
      "text/html": [
       "<pre style=\"white-space:pre;overflow-x:auto;line-height:normal;font-family:Menlo,'DejaVu Sans Mono',consolas,'Courier New',monospace\">Extra Ele Veto:  6122\n",
       "</pre>\n"
      ],
      "text/plain": [
       "Extra Ele Veto:  6122\n"
      ]
     },
     "metadata": {},
     "output_type": "display_data"
    },
    {
     "data": {
      "text/html": [
       "<pre style=\"white-space:pre;overflow-x:auto;line-height:normal;font-family:Menlo,'DejaVu Sans Mono',consolas,'Courier New',monospace\">Extra Mu Veto:  147\n",
       "</pre>\n"
      ],
      "text/plain": [
       "Extra Mu Veto:  147\n"
      ]
     },
     "metadata": {},
     "output_type": "display_data"
    },
    {
     "data": {
      "text/html": [
       "<pre style=\"white-space:pre;overflow-x:auto;line-height:normal;font-family:Menlo,'DejaVu Sans Mono',consolas,'Courier New',monospace\">BJet Veto:  53\n",
       "</pre>\n"
      ],
      "text/plain": [
       "BJet Veto:  53\n"
      ]
     },
     "metadata": {},
     "output_type": "display_data"
    },
    {
     "data": {
      "text/html": [
       "<pre style=\"white-space:pre;overflow-x:auto;line-height:normal;font-family:Menlo,'DejaVu Sans Mono',consolas,'Courier New',monospace\">Pairs:  102  Vector:  102\n",
       "</pre>\n"
      ],
      "text/plain": [
       "Pairs:  102  Vector:  102\n"
      ]
     },
     "metadata": {},
     "output_type": "display_data"
    },
    {
     "data": {
      "text/html": [
       "<pre style=\"white-space:pre;overflow-x:auto;line-height:normal;font-family:Menlo,'DejaVu Sans Mono',consolas,'Courier New',monospace\">[[False], [], [], [True, False, True], ... False], [], [], [False, True, True]]\n",
       "</pre>\n"
      ],
      "text/plain": [
       "[[False], [], [], [True, False, True], ... False], [], [], [False, True, True]]\n"
      ]
     },
     "metadata": {},
     "output_type": "display_data"
    },
    {
     "data": {
      "text/html": [
       "<pre style=\"white-space:pre;overflow-x:auto;line-height:normal;font-family:Menlo,'DejaVu Sans Mono',consolas,'Courier New',monospace\">Postcut: Pairs:  1  Vector:  1\n",
       "</pre>\n"
      ],
      "text/plain": [
       "Postcut: Pairs:  1  Vector:  1\n"
      ]
     },
     "metadata": {},
     "output_type": "display_data"
    },
    {
     "data": {
      "text/html": [
       "<pre style=\"white-space:pre;overflow-x:auto;line-height:normal;font-family:Menlo,'DejaVu Sans Mono',consolas,'Courier New',monospace\">[[], [], [], [], [], [], [], [], [], [], ... [], [], [], [], [], [], [], [], [], []]\n",
       "</pre>\n"
      ],
      "text/plain": [
       "[[], [], [], [], [], [], [], [], [], [], ... [], [], [], [], [], [], [], [], [], []]\n"
      ]
     },
     "metadata": {},
     "output_type": "display_data"
    },
    {
     "data": {
      "text/html": [
       "<pre style=\"white-space:pre;overflow-x:auto;line-height:normal;font-family:Menlo,'DejaVu Sans Mono',consolas,'Courier New',monospace\">[[], [], [], [], [], [], [], [], [], [], ... [], [], [], [], [], [], [], [], [], []]\n",
       "</pre>\n"
      ],
      "text/plain": [
       "[[], [], [], [], [], [], [], [], [], [], ... [], [], [], [], [], [], [], [], [], []]\n"
      ]
     },
     "metadata": {},
     "output_type": "display_data"
    },
    {
     "data": {
      "text/html": [
       "<pre style=\"white-space:pre;overflow-x:auto;line-height:normal;font-family:Menlo,'DejaVu Sans Mono',consolas,'Courier New',monospace\">Start:  6562   VV\n",
       "</pre>\n"
      ],
      "text/plain": [
       "Start:  6562   VV\n"
      ]
     },
     "metadata": {},
     "output_type": "display_data"
    },
    {
     "data": {
      "text/html": [
       "<pre style=\"white-space:pre;overflow-x:auto;line-height:normal;font-family:Menlo,'DejaVu Sans Mono',consolas,'Courier New',monospace\">Extra Ele Veto:  6207\n",
       "</pre>\n"
      ],
      "text/plain": [
       "Extra Ele Veto:  6207\n"
      ]
     },
     "metadata": {},
     "output_type": "display_data"
    },
    {
     "data": {
      "text/html": [
       "<pre style=\"white-space:pre;overflow-x:auto;line-height:normal;font-family:Menlo,'DejaVu Sans Mono',consolas,'Courier New',monospace\">Extra Mu Veto:  149\n",
       "</pre>\n"
      ],
      "text/plain": [
       "Extra Mu Veto:  149\n"
      ]
     },
     "metadata": {},
     "output_type": "display_data"
    },
    {
     "data": {
      "text/html": [
       "<pre style=\"white-space:pre;overflow-x:auto;line-height:normal;font-family:Menlo,'DejaVu Sans Mono',consolas,'Courier New',monospace\">BJet Veto:  62\n",
       "</pre>\n"
      ],
      "text/plain": [
       "BJet Veto:  62\n"
      ]
     },
     "metadata": {},
     "output_type": "display_data"
    },
    {
     "data": {
      "text/html": [
       "<pre style=\"white-space:pre;overflow-x:auto;line-height:normal;font-family:Menlo,'DejaVu Sans Mono',consolas,'Courier New',monospace\">Pairs:  103  Vector:  103\n",
       "</pre>\n"
      ],
      "text/plain": [
       "Pairs:  103  Vector:  103\n"
      ]
     },
     "metadata": {},
     "output_type": "display_data"
    },
    {
     "data": {
      "text/html": [
       "<pre style=\"white-space:pre;overflow-x:auto;line-height:normal;font-family:Menlo,'DejaVu Sans Mono',consolas,'Courier New',monospace\">[[False], [], [], [True, True], [False, ... False], [False], [False], [True, False]]\n",
       "</pre>\n"
      ],
      "text/plain": [
       "[[False], [], [], [True, True], [False, ... False], [False], [False], [True, False]]\n"
      ]
     },
     "metadata": {},
     "output_type": "display_data"
    },
    {
     "data": {
      "text/html": [
       "<pre style=\"white-space:pre;overflow-x:auto;line-height:normal;font-family:Menlo,'DejaVu Sans Mono',consolas,'Courier New',monospace\">Postcut: Pairs:  1  Vector:  1\n",
       "</pre>\n"
      ],
      "text/plain": [
       "Postcut: Pairs:  1  Vector:  1\n"
      ]
     },
     "metadata": {},
     "output_type": "display_data"
    },
    {
     "data": {
      "text/html": [
       "<pre style=\"white-space:pre;overflow-x:auto;line-height:normal;font-family:Menlo,'DejaVu Sans Mono',consolas,'Courier New',monospace\">[[], [], [], [], [], [], [], [], [], [], ... [], [], [], [], [], [], [], [], [], []]\n",
       "</pre>\n"
      ],
      "text/plain": [
       "[[], [], [], [], [], [], [], [], [], [], ... [], [], [], [], [], [], [], [], [], []]\n"
      ]
     },
     "metadata": {},
     "output_type": "display_data"
    },
    {
     "data": {
      "text/html": [
       "<pre style=\"white-space:pre;overflow-x:auto;line-height:normal;font-family:Menlo,'DejaVu Sans Mono',consolas,'Courier New',monospace\">[[], [], [], [], [], [], [], [], [], [], ... [], [], [], [], [], [], [], [], [], []]\n",
       "</pre>\n"
      ],
      "text/plain": [
       "[[], [], [], [], [], [], [], [], [], [], ... [], [], [], [], [], [], [], [], [], []]\n"
      ]
     },
     "metadata": {},
     "output_type": "display_data"
    },
    {
     "data": {
      "text/html": [
       "<pre style=\"white-space:pre;overflow-x:auto;line-height:normal;font-family:Menlo,'DejaVu Sans Mono',consolas,'Courier New',monospace\">Start:  6643   VV\n",
       "</pre>\n"
      ],
      "text/plain": [
       "Start:  6643   VV\n"
      ]
     },
     "metadata": {},
     "output_type": "display_data"
    },
    {
     "data": {
      "text/html": [
       "<pre style=\"white-space:pre;overflow-x:auto;line-height:normal;font-family:Menlo,'DejaVu Sans Mono',consolas,'Courier New',monospace\">Extra Ele Veto:  6244\n",
       "</pre>\n"
      ],
      "text/plain": [
       "Extra Ele Veto:  6244\n"
      ]
     },
     "metadata": {},
     "output_type": "display_data"
    },
    {
     "data": {
      "text/html": [
       "<pre style=\"white-space:pre;overflow-x:auto;line-height:normal;font-family:Menlo,'DejaVu Sans Mono',consolas,'Courier New',monospace\">Extra Mu Veto:  145\n",
       "</pre>\n"
      ],
      "text/plain": [
       "Extra Mu Veto:  145\n"
      ]
     },
     "metadata": {},
     "output_type": "display_data"
    },
    {
     "data": {
      "text/html": [
       "<pre style=\"white-space:pre;overflow-x:auto;line-height:normal;font-family:Menlo,'DejaVu Sans Mono',consolas,'Courier New',monospace\">BJet Veto:  55\n",
       "</pre>\n"
      ],
      "text/plain": [
       "BJet Veto:  55\n"
      ]
     },
     "metadata": {},
     "output_type": "display_data"
    },
    {
     "data": {
      "text/html": [
       "<pre style=\"white-space:pre;overflow-x:auto;line-height:normal;font-family:Menlo,'DejaVu Sans Mono',consolas,'Courier New',monospace\">Pairs:  110  Vector:  110\n",
       "</pre>\n"
      ],
      "text/plain": [
       "Pairs:  110  Vector:  110\n"
      ]
     },
     "metadata": {},
     "output_type": "display_data"
    },
    {
     "data": {
      "text/html": [
       "<pre style=\"white-space:pre;overflow-x:auto;line-height:normal;font-family:Menlo,'DejaVu Sans Mono',consolas,'Courier New',monospace\">[[], [], [], [], [False, True], ... [True, False, False, True], [True, True, False]]\n",
       "</pre>\n"
      ],
      "text/plain": [
       "[[], [], [], [], [False, True], ... [True, False, False, True], [True, True, False]]\n"
      ]
     },
     "metadata": {},
     "output_type": "display_data"
    },
    {
     "data": {
      "text/html": [
       "<pre style=\"white-space:pre;overflow-x:auto;line-height:normal;font-family:Menlo,'DejaVu Sans Mono',consolas,'Courier New',monospace\">0\n",
       "</pre>\n"
      ],
      "text/plain": [
       "0\n"
      ]
     },
     "metadata": {},
     "output_type": "display_data"
    },
    {
     "data": {
      "text/html": [
       "<pre style=\"white-space:pre;overflow-x:auto;line-height:normal;font-family:Menlo,'DejaVu Sans Mono',consolas,'Courier New',monospace\">Start:  6589   VV\n",
       "</pre>\n"
      ],
      "text/plain": [
       "Start:  6589   VV\n"
      ]
     },
     "metadata": {},
     "output_type": "display_data"
    },
    {
     "data": {
      "text/html": [
       "<pre style=\"white-space:pre;overflow-x:auto;line-height:normal;font-family:Menlo,'DejaVu Sans Mono',consolas,'Courier New',monospace\">Extra Ele Veto:  6212\n",
       "</pre>\n"
      ],
      "text/plain": [
       "Extra Ele Veto:  6212\n"
      ]
     },
     "metadata": {},
     "output_type": "display_data"
    },
    {
     "data": {
      "text/html": [
       "<pre style=\"white-space:pre;overflow-x:auto;line-height:normal;font-family:Menlo,'DejaVu Sans Mono',consolas,'Courier New',monospace\">Extra Mu Veto:  164\n",
       "</pre>\n"
      ],
      "text/plain": [
       "Extra Mu Veto:  164\n"
      ]
     },
     "metadata": {},
     "output_type": "display_data"
    },
    {
     "data": {
      "text/html": [
       "<pre style=\"white-space:pre;overflow-x:auto;line-height:normal;font-family:Menlo,'DejaVu Sans Mono',consolas,'Courier New',monospace\">BJet Veto:  71\n",
       "</pre>\n"
      ],
      "text/plain": [
       "BJet Veto:  71\n"
      ]
     },
     "metadata": {},
     "output_type": "display_data"
    },
    {
     "data": {
      "text/html": [
       "<pre style=\"white-space:pre;overflow-x:auto;line-height:normal;font-family:Menlo,'DejaVu Sans Mono',consolas,'Courier New',monospace\">Pairs:  140  Vector:  140\n",
       "</pre>\n"
      ],
      "text/plain": [
       "Pairs:  140  Vector:  140\n"
      ]
     },
     "metadata": {},
     "output_type": "display_data"
    },
    {
     "data": {
      "text/html": [
       "<pre style=\"white-space:pre;overflow-x:auto;line-height:normal;font-family:Menlo,'DejaVu Sans Mono',consolas,'Courier New',monospace\">[[True, True, True, True, False, False, True, True], [], ... [], [], [], [], []]\n",
       "</pre>\n"
      ],
      "text/plain": [
       "[[True, True, True, True, False, False, True, True], [], ... [], [], [], [], []]\n"
      ]
     },
     "metadata": {},
     "output_type": "display_data"
    },
    {
     "data": {
      "text/html": [
       "<pre style=\"white-space:pre;overflow-x:auto;line-height:normal;font-family:Menlo,'DejaVu Sans Mono',consolas,'Courier New',monospace\">0\n",
       "</pre>\n"
      ],
      "text/plain": [
       "0\n"
      ]
     },
     "metadata": {},
     "output_type": "display_data"
    },
    {
     "data": {
      "text/html": [
       "<pre style=\"white-space:pre;overflow-x:auto;line-height:normal;font-family:Menlo,'DejaVu Sans Mono',consolas,'Courier New',monospace\">Start:  6555   VV\n",
       "</pre>\n"
      ],
      "text/plain": [
       "Start:  6555   VV\n"
      ]
     },
     "metadata": {},
     "output_type": "display_data"
    },
    {
     "data": {
      "text/html": [
       "<pre style=\"white-space:pre;overflow-x:auto;line-height:normal;font-family:Menlo,'DejaVu Sans Mono',consolas,'Courier New',monospace\">Extra Ele Veto:  6163\n",
       "</pre>\n"
      ],
      "text/plain": [
       "Extra Ele Veto:  6163\n"
      ]
     },
     "metadata": {},
     "output_type": "display_data"
    },
    {
     "data": {
      "text/html": [
       "<pre style=\"white-space:pre;overflow-x:auto;line-height:normal;font-family:Menlo,'DejaVu Sans Mono',consolas,'Courier New',monospace\">Extra Mu Veto:  164\n",
       "</pre>\n"
      ],
      "text/plain": [
       "Extra Mu Veto:  164\n"
      ]
     },
     "metadata": {},
     "output_type": "display_data"
    },
    {
     "data": {
      "text/html": [
       "<pre style=\"white-space:pre;overflow-x:auto;line-height:normal;font-family:Menlo,'DejaVu Sans Mono',consolas,'Courier New',monospace\">BJet Veto:  48\n",
       "</pre>\n"
      ],
      "text/plain": [
       "BJet Veto:  48\n"
      ]
     },
     "metadata": {},
     "output_type": "display_data"
    },
    {
     "data": {
      "text/html": [
       "<pre style=\"white-space:pre;overflow-x:auto;line-height:normal;font-family:Menlo,'DejaVu Sans Mono',consolas,'Courier New',monospace\">Pairs:  79  Vector:  79\n",
       "</pre>\n"
      ],
      "text/plain": [
       "Pairs:  79  Vector:  79\n"
      ]
     },
     "metadata": {},
     "output_type": "display_data"
    },
    {
     "data": {
      "text/html": [
       "<pre style=\"white-space:pre;overflow-x:auto;line-height:normal;font-family:Menlo,'DejaVu Sans Mono',consolas,'Courier New',monospace\">[[], [], [], [True, False, False, True], ... [], [], [False], [False, True, True]]\n",
       "</pre>\n"
      ],
      "text/plain": [
       "[[], [], [], [True, False, False, True], ... [], [], [False], [False, True, True]]\n"
      ]
     },
     "metadata": {},
     "output_type": "display_data"
    },
    {
     "data": {
      "text/html": [
       "<pre style=\"white-space:pre;overflow-x:auto;line-height:normal;font-family:Menlo,'DejaVu Sans Mono',consolas,'Courier New',monospace\">0\n",
       "</pre>\n"
      ],
      "text/plain": [
       "0\n"
      ]
     },
     "metadata": {},
     "output_type": "display_data"
    },
    {
     "data": {
      "text/html": [
       "<pre style=\"white-space:pre;overflow-x:auto;line-height:normal;font-family:Menlo,'DejaVu Sans Mono',consolas,'Courier New',monospace\">Start:  6562   VV\n",
       "</pre>\n"
      ],
      "text/plain": [
       "Start:  6562   VV\n"
      ]
     },
     "metadata": {},
     "output_type": "display_data"
    },
    {
     "data": {
      "text/html": [
       "<pre style=\"white-space:pre;overflow-x:auto;line-height:normal;font-family:Menlo,'DejaVu Sans Mono',consolas,'Courier New',monospace\">Extra Ele Veto:  6203\n",
       "</pre>\n"
      ],
      "text/plain": [
       "Extra Ele Veto:  6203\n"
      ]
     },
     "metadata": {},
     "output_type": "display_data"
    },
    {
     "data": {
      "text/html": [
       "<pre style=\"white-space:pre;overflow-x:auto;line-height:normal;font-family:Menlo,'DejaVu Sans Mono',consolas,'Courier New',monospace\">Extra Mu Veto:  161\n",
       "</pre>\n"
      ],
      "text/plain": [
       "Extra Mu Veto:  161\n"
      ]
     },
     "metadata": {},
     "output_type": "display_data"
    },
    {
     "data": {
      "text/html": [
       "<pre style=\"white-space:pre;overflow-x:auto;line-height:normal;font-family:Menlo,'DejaVu Sans Mono',consolas,'Courier New',monospace\">BJet Veto:  65\n",
       "</pre>\n"
      ],
      "text/plain": [
       "BJet Veto:  65\n"
      ]
     },
     "metadata": {},
     "output_type": "display_data"
    },
    {
     "data": {
      "text/html": [
       "<pre style=\"white-space:pre;overflow-x:auto;line-height:normal;font-family:Menlo,'DejaVu Sans Mono',consolas,'Courier New',monospace\">Pairs:  129  Vector:  129\n",
       "</pre>\n"
      ],
      "text/plain": [
       "Pairs:  129  Vector:  129\n"
      ]
     },
     "metadata": {},
     "output_type": "display_data"
    },
    {
     "data": {
      "text/html": [
       "<pre style=\"white-space:pre;overflow-x:auto;line-height:normal;font-family:Menlo,'DejaVu Sans Mono',consolas,'Courier New',monospace\">[[], [], [], [False], [], [True], ... [True], [False, False], [], [True, True]]\n",
       "</pre>\n"
      ],
      "text/plain": [
       "[[], [], [], [False], [], [True], ... [True], [False, False], [], [True, True]]\n"
      ]
     },
     "metadata": {},
     "output_type": "display_data"
    },
    {
     "data": {
      "text/html": [
       "<pre style=\"white-space:pre;overflow-x:auto;line-height:normal;font-family:Menlo,'DejaVu Sans Mono',consolas,'Courier New',monospace\">Postcut: Pairs:  1  Vector:  1\n",
       "</pre>\n"
      ],
      "text/plain": [
       "Postcut: Pairs:  1  Vector:  1\n"
      ]
     },
     "metadata": {},
     "output_type": "display_data"
    },
    {
     "data": {
      "text/html": [
       "<pre style=\"white-space:pre;overflow-x:auto;line-height:normal;font-family:Menlo,'DejaVu Sans Mono',consolas,'Courier New',monospace\">[[], [], [], [], [], [], [], [], [], [], ... [], [], [], [], [], [], [], [], [], []]\n",
       "</pre>\n"
      ],
      "text/plain": [
       "[[], [], [], [], [], [], [], [], [], [], ... [], [], [], [], [], [], [], [], [], []]\n"
      ]
     },
     "metadata": {},
     "output_type": "display_data"
    },
    {
     "data": {
      "text/html": [
       "<pre style=\"white-space:pre;overflow-x:auto;line-height:normal;font-family:Menlo,'DejaVu Sans Mono',consolas,'Courier New',monospace\">[[], [], [], [], [], [], [], [], [], [], ... [], [], [], [], [], [], [], [], [], []]\n",
       "</pre>\n"
      ],
      "text/plain": [
       "[[], [], [], [], [], [], [], [], [], [], ... [], [], [], [], [], [], [], [], [], []]\n"
      ]
     },
     "metadata": {},
     "output_type": "display_data"
    },
    {
     "data": {
      "text/html": [
       "<pre style=\"white-space:pre;overflow-x:auto;line-height:normal;font-family:Menlo,'DejaVu Sans Mono',consolas,'Courier New',monospace\">Start:  6563   VV\n",
       "</pre>\n"
      ],
      "text/plain": [
       "Start:  6563   VV\n"
      ]
     },
     "metadata": {},
     "output_type": "display_data"
    },
    {
     "data": {
      "text/html": [
       "<pre style=\"white-space:pre;overflow-x:auto;line-height:normal;font-family:Menlo,'DejaVu Sans Mono',consolas,'Courier New',monospace\">Extra Ele Veto:  6193\n",
       "</pre>\n"
      ],
      "text/plain": [
       "Extra Ele Veto:  6193\n"
      ]
     },
     "metadata": {},
     "output_type": "display_data"
    },
    {
     "data": {
      "text/html": [
       "<pre style=\"white-space:pre;overflow-x:auto;line-height:normal;font-family:Menlo,'DejaVu Sans Mono',consolas,'Courier New',monospace\">Extra Mu Veto:  155\n",
       "</pre>\n"
      ],
      "text/plain": [
       "Extra Mu Veto:  155\n"
      ]
     },
     "metadata": {},
     "output_type": "display_data"
    },
    {
     "data": {
      "text/html": [
       "<pre style=\"white-space:pre;overflow-x:auto;line-height:normal;font-family:Menlo,'DejaVu Sans Mono',consolas,'Courier New',monospace\">BJet Veto:  59\n",
       "</pre>\n"
      ],
      "text/plain": [
       "BJet Veto:  59\n"
      ]
     },
     "metadata": {},
     "output_type": "display_data"
    },
    {
     "data": {
      "text/html": [
       "<pre style=\"white-space:pre;overflow-x:auto;line-height:normal;font-family:Menlo,'DejaVu Sans Mono',consolas,'Courier New',monospace\">Pairs:  103  Vector:  103\n",
       "</pre>\n"
      ],
      "text/plain": [
       "Pairs:  103  Vector:  103\n"
      ]
     },
     "metadata": {},
     "output_type": "display_data"
    },
    {
     "data": {
      "text/html": [
       "<pre style=\"white-space:pre;overflow-x:auto;line-height:normal;font-family:Menlo,'DejaVu Sans Mono',consolas,'Courier New',monospace\">[[], [], [], [], [], [False], ... False, True], [], [], [True, False, False], []]\n",
       "</pre>\n"
      ],
      "text/plain": [
       "[[], [], [], [], [], [False], ... False, True], [], [], [True, False, False], []]\n"
      ]
     },
     "metadata": {},
     "output_type": "display_data"
    },
    {
     "data": {
      "text/html": [
       "<pre style=\"white-space:pre;overflow-x:auto;line-height:normal;font-family:Menlo,'DejaVu Sans Mono',consolas,'Courier New',monospace\">0\n",
       "</pre>\n"
      ],
      "text/plain": [
       "0\n"
      ]
     },
     "metadata": {},
     "output_type": "display_data"
    },
    {
     "data": {
      "text/html": [
       "<pre style=\"white-space:pre;overflow-x:auto;line-height:normal;font-family:Menlo,'DejaVu Sans Mono',consolas,'Courier New',monospace\">Start:  6508   VV\n",
       "</pre>\n"
      ],
      "text/plain": [
       "Start:  6508   VV\n"
      ]
     },
     "metadata": {},
     "output_type": "display_data"
    },
    {
     "data": {
      "text/html": [
       "<pre style=\"white-space:pre;overflow-x:auto;line-height:normal;font-family:Menlo,'DejaVu Sans Mono',consolas,'Courier New',monospace\">Extra Ele Veto:  6145\n",
       "</pre>\n"
      ],
      "text/plain": [
       "Extra Ele Veto:  6145\n"
      ]
     },
     "metadata": {},
     "output_type": "display_data"
    },
    {
     "data": {
      "text/html": [
       "<pre style=\"white-space:pre;overflow-x:auto;line-height:normal;font-family:Menlo,'DejaVu Sans Mono',consolas,'Courier New',monospace\">Extra Mu Veto:  171\n",
       "</pre>\n"
      ],
      "text/plain": [
       "Extra Mu Veto:  171\n"
      ]
     },
     "metadata": {},
     "output_type": "display_data"
    },
    {
     "data": {
      "text/html": [
       "<pre style=\"white-space:pre;overflow-x:auto;line-height:normal;font-family:Menlo,'DejaVu Sans Mono',consolas,'Courier New',monospace\">BJet Veto:  66\n",
       "</pre>\n"
      ],
      "text/plain": [
       "BJet Veto:  66\n"
      ]
     },
     "metadata": {},
     "output_type": "display_data"
    },
    {
     "data": {
      "text/html": [
       "<pre style=\"white-space:pre;overflow-x:auto;line-height:normal;font-family:Menlo,'DejaVu Sans Mono',consolas,'Courier New',monospace\">Pairs:  148  Vector:  148\n",
       "</pre>\n"
      ],
      "text/plain": [
       "Pairs:  148  Vector:  148\n"
      ]
     },
     "metadata": {},
     "output_type": "display_data"
    },
    {
     "data": {
      "text/html": [
       "<pre style=\"white-space:pre;overflow-x:auto;line-height:normal;font-family:Menlo,'DejaVu Sans Mono',consolas,'Courier New',monospace\">[[False, True], [], [False, False], ... False, False, True], [], [True, False]]\n",
       "</pre>\n"
      ],
      "text/plain": [
       "[[False, True], [], [False, False], ... False, False, True], [], [True, False]]\n"
      ]
     },
     "metadata": {},
     "output_type": "display_data"
    },
    {
     "data": {
      "text/html": [
       "<pre style=\"white-space:pre;overflow-x:auto;line-height:normal;font-family:Menlo,'DejaVu Sans Mono',consolas,'Courier New',monospace\">Postcut: Pairs:  1  Vector:  1\n",
       "</pre>\n"
      ],
      "text/plain": [
       "Postcut: Pairs:  1  Vector:  1\n"
      ]
     },
     "metadata": {},
     "output_type": "display_data"
    },
    {
     "data": {
      "text/html": [
       "<pre style=\"white-space:pre;overflow-x:auto;line-height:normal;font-family:Menlo,'DejaVu Sans Mono',consolas,'Courier New',monospace\">[[], [], [], [], [], [], [], [], [], [], ... [], [], [], [], [], [], [], [], [], []]\n",
       "</pre>\n"
      ],
      "text/plain": [
       "[[], [], [], [], [], [], [], [], [], [], ... [], [], [], [], [], [], [], [], [], []]\n"
      ]
     },
     "metadata": {},
     "output_type": "display_data"
    },
    {
     "data": {
      "text/html": [
       "<pre style=\"white-space:pre;overflow-x:auto;line-height:normal;font-family:Menlo,'DejaVu Sans Mono',consolas,'Courier New',monospace\">[[], [], [], [], [], [], [], [], [], [], ... [], [], [], [], [], [], [], [], [], []]\n",
       "</pre>\n"
      ],
      "text/plain": [
       "[[], [], [], [], [], [], [], [], [], [], ... [], [], [], [], [], [], [], [], [], []]\n"
      ]
     },
     "metadata": {},
     "output_type": "display_data"
    },
    {
     "data": {
      "text/html": [
       "<pre style=\"white-space:pre;overflow-x:auto;line-height:normal;font-family:Menlo,'DejaVu Sans Mono',consolas,'Courier New',monospace\">Start:  6564   VV\n",
       "</pre>\n"
      ],
      "text/plain": [
       "Start:  6564   VV\n"
      ]
     },
     "metadata": {},
     "output_type": "display_data"
    },
    {
     "data": {
      "text/html": [
       "<pre style=\"white-space:pre;overflow-x:auto;line-height:normal;font-family:Menlo,'DejaVu Sans Mono',consolas,'Courier New',monospace\">Extra Ele Veto:  6182\n",
       "</pre>\n"
      ],
      "text/plain": [
       "Extra Ele Veto:  6182\n"
      ]
     },
     "metadata": {},
     "output_type": "display_data"
    },
    {
     "data": {
      "text/html": [
       "<pre style=\"white-space:pre;overflow-x:auto;line-height:normal;font-family:Menlo,'DejaVu Sans Mono',consolas,'Courier New',monospace\">Extra Mu Veto:  165\n",
       "</pre>\n"
      ],
      "text/plain": [
       "Extra Mu Veto:  165\n"
      ]
     },
     "metadata": {},
     "output_type": "display_data"
    },
    {
     "data": {
      "text/html": [
       "<pre style=\"white-space:pre;overflow-x:auto;line-height:normal;font-family:Menlo,'DejaVu Sans Mono',consolas,'Courier New',monospace\">BJet Veto:  65\n",
       "</pre>\n"
      ],
      "text/plain": [
       "BJet Veto:  65\n"
      ]
     },
     "metadata": {},
     "output_type": "display_data"
    },
    {
     "data": {
      "text/html": [
       "<pre style=\"white-space:pre;overflow-x:auto;line-height:normal;font-family:Menlo,'DejaVu Sans Mono',consolas,'Courier New',monospace\">Pairs:  127  Vector:  127\n",
       "</pre>\n"
      ],
      "text/plain": [
       "Pairs:  127  Vector:  127\n"
      ]
     },
     "metadata": {},
     "output_type": "display_data"
    },
    {
     "data": {
      "text/html": [
       "<pre style=\"white-space:pre;overflow-x:auto;line-height:normal;font-family:Menlo,'DejaVu Sans Mono',consolas,'Courier New',monospace\">[[], [True], [], [], [False, False, True, ... [True, False], [], [], [False, True]]\n",
       "</pre>\n"
      ],
      "text/plain": [
       "[[], [True], [], [], [False, False, True, ... [True, False], [], [], [False, True]]\n"
      ]
     },
     "metadata": {},
     "output_type": "display_data"
    },
    {
     "data": {
      "text/html": [
       "<pre style=\"white-space:pre;overflow-x:auto;line-height:normal;font-family:Menlo,'DejaVu Sans Mono',consolas,'Courier New',monospace\">Postcut: Pairs:  3  Vector:  3\n",
       "</pre>\n"
      ],
      "text/plain": [
       "Postcut: Pairs:  3  Vector:  3\n"
      ]
     },
     "metadata": {},
     "output_type": "display_data"
    },
    {
     "data": {
      "text/html": [
       "<pre style=\"white-space:pre;overflow-x:auto;line-height:normal;font-family:Menlo,'DejaVu Sans Mono',consolas,'Courier New',monospace\">[[], [], [], [], [], [], [], [], [], [], ... [], [], [], [], [], [], [], [], [], []]\n",
       "</pre>\n"
      ],
      "text/plain": [
       "[[], [], [], [], [], [], [], [], [], [], ... [], [], [], [], [], [], [], [], [], []]\n"
      ]
     },
     "metadata": {},
     "output_type": "display_data"
    },
    {
     "data": {
      "text/html": [
       "<pre style=\"white-space:pre;overflow-x:auto;line-height:normal;font-family:Menlo,'DejaVu Sans Mono',consolas,'Courier New',monospace\">[[], [], [], [], [], [], [], [], [], [], ... [], [], [], [], [], [], [], [], [], []]\n",
       "</pre>\n"
      ],
      "text/plain": [
       "[[], [], [], [], [], [], [], [], [], [], ... [], [], [], [], [], [], [], [], [], []]\n"
      ]
     },
     "metadata": {},
     "output_type": "display_data"
    },
    {
     "data": {
      "text/html": [
       "<pre style=\"white-space:pre;overflow-x:auto;line-height:normal;font-family:Menlo,'DejaVu Sans Mono',consolas,'Courier New',monospace\">Start:  6664   VV\n",
       "</pre>\n"
      ],
      "text/plain": [
       "Start:  6664   VV\n"
      ]
     },
     "metadata": {},
     "output_type": "display_data"
    },
    {
     "data": {
      "text/html": [
       "<pre style=\"white-space:pre;overflow-x:auto;line-height:normal;font-family:Menlo,'DejaVu Sans Mono',consolas,'Courier New',monospace\">Extra Ele Veto:  6311\n",
       "</pre>\n"
      ],
      "text/plain": [
       "Extra Ele Veto:  6311\n"
      ]
     },
     "metadata": {},
     "output_type": "display_data"
    },
    {
     "data": {
      "text/html": [
       "<pre style=\"white-space:pre;overflow-x:auto;line-height:normal;font-family:Menlo,'DejaVu Sans Mono',consolas,'Courier New',monospace\">Extra Mu Veto:  145\n",
       "</pre>\n"
      ],
      "text/plain": [
       "Extra Mu Veto:  145\n"
      ]
     },
     "metadata": {},
     "output_type": "display_data"
    },
    {
     "data": {
      "text/html": [
       "<pre style=\"white-space:pre;overflow-x:auto;line-height:normal;font-family:Menlo,'DejaVu Sans Mono',consolas,'Courier New',monospace\">BJet Veto:  66\n",
       "</pre>\n"
      ],
      "text/plain": [
       "BJet Veto:  66\n"
      ]
     },
     "metadata": {},
     "output_type": "display_data"
    },
    {
     "data": {
      "text/html": [
       "<pre style=\"white-space:pre;overflow-x:auto;line-height:normal;font-family:Menlo,'DejaVu Sans Mono',consolas,'Courier New',monospace\">Pairs:  124  Vector:  124\n",
       "</pre>\n"
      ],
      "text/plain": [
       "Pairs:  124  Vector:  124\n"
      ]
     },
     "metadata": {},
     "output_type": "display_data"
    },
    {
     "data": {
      "text/html": [
       "<pre style=\"white-space:pre;overflow-x:auto;line-height:normal;font-family:Menlo,'DejaVu Sans Mono',consolas,'Courier New',monospace\">[[True], [True, True, True, True, True, True, ... [], [], [True, True, True]]\n",
       "</pre>\n"
      ],
      "text/plain": [
       "[[True], [True, True, True, True, True, True, ... [], [], [True, True, True]]\n"
      ]
     },
     "metadata": {},
     "output_type": "display_data"
    },
    {
     "data": {
      "text/html": [
       "<pre style=\"white-space:pre;overflow-x:auto;line-height:normal;font-family:Menlo,'DejaVu Sans Mono',consolas,'Courier New',monospace\">Postcut: Pairs:  3  Vector:  3\n",
       "</pre>\n"
      ],
      "text/plain": [
       "Postcut: Pairs:  3  Vector:  3\n"
      ]
     },
     "metadata": {},
     "output_type": "display_data"
    },
    {
     "data": {
      "text/html": [
       "<pre style=\"white-space:pre;overflow-x:auto;line-height:normal;font-family:Menlo,'DejaVu Sans Mono',consolas,'Courier New',monospace\">[[], [], [], [], [], [], [], [], [], [], ... [], [], [], [], [], [], [], [], [], []]\n",
       "</pre>\n"
      ],
      "text/plain": [
       "[[], [], [], [], [], [], [], [], [], [], ... [], [], [], [], [], [], [], [], [], []]\n"
      ]
     },
     "metadata": {},
     "output_type": "display_data"
    },
    {
     "data": {
      "text/html": [
       "<pre style=\"white-space:pre;overflow-x:auto;line-height:normal;font-family:Menlo,'DejaVu Sans Mono',consolas,'Courier New',monospace\">[[], [], [], [], [], [], [], [], [], [], ... [], [], [], [], [], [], [], [], [], []]\n",
       "</pre>\n"
      ],
      "text/plain": [
       "[[], [], [], [], [], [], [], [], [], [], ... [], [], [], [], [], [], [], [], [], []]\n"
      ]
     },
     "metadata": {},
     "output_type": "display_data"
    },
    {
     "data": {
      "text/html": [
       "<pre style=\"white-space:pre;overflow-x:auto;line-height:normal;font-family:Menlo,'DejaVu Sans Mono',consolas,'Courier New',monospace\">Start:  6598   VV\n",
       "</pre>\n"
      ],
      "text/plain": [
       "Start:  6598   VV\n"
      ]
     },
     "metadata": {},
     "output_type": "display_data"
    },
    {
     "data": {
      "text/html": [
       "<pre style=\"white-space:pre;overflow-x:auto;line-height:normal;font-family:Menlo,'DejaVu Sans Mono',consolas,'Courier New',monospace\">Extra Ele Veto:  6247\n",
       "</pre>\n"
      ],
      "text/plain": [
       "Extra Ele Veto:  6247\n"
      ]
     },
     "metadata": {},
     "output_type": "display_data"
    },
    {
     "data": {
      "text/html": [
       "<pre style=\"white-space:pre;overflow-x:auto;line-height:normal;font-family:Menlo,'DejaVu Sans Mono',consolas,'Courier New',monospace\">Extra Mu Veto:  179\n",
       "</pre>\n"
      ],
      "text/plain": [
       "Extra Mu Veto:  179\n"
      ]
     },
     "metadata": {},
     "output_type": "display_data"
    },
    {
     "data": {
      "text/html": [
       "<pre style=\"white-space:pre;overflow-x:auto;line-height:normal;font-family:Menlo,'DejaVu Sans Mono',consolas,'Courier New',monospace\">BJet Veto:  67\n",
       "</pre>\n"
      ],
      "text/plain": [
       "BJet Veto:  67\n"
      ]
     },
     "metadata": {},
     "output_type": "display_data"
    },
    {
     "data": {
      "text/html": [
       "<pre style=\"white-space:pre;overflow-x:auto;line-height:normal;font-family:Menlo,'DejaVu Sans Mono',consolas,'Courier New',monospace\">Pairs:  142  Vector:  142\n",
       "</pre>\n"
      ],
      "text/plain": [
       "Pairs:  142  Vector:  142\n"
      ]
     },
     "metadata": {},
     "output_type": "display_data"
    },
    {
     "data": {
      "text/html": [
       "<pre style=\"white-space:pre;overflow-x:auto;line-height:normal;font-family:Menlo,'DejaVu Sans Mono',consolas,'Courier New',monospace\">[[], [], [True, True], [], [], [], [], ... [False], [], [], [False, True], [], []]\n",
       "</pre>\n"
      ],
      "text/plain": [
       "[[], [], [True, True], [], [], [], [], ... [False], [], [], [False, True], [], []]\n"
      ]
     },
     "metadata": {},
     "output_type": "display_data"
    },
    {
     "data": {
      "text/html": [
       "<pre style=\"white-space:pre;overflow-x:auto;line-height:normal;font-family:Menlo,'DejaVu Sans Mono',consolas,'Courier New',monospace\">Postcut: Pairs:  3  Vector:  3\n",
       "</pre>\n"
      ],
      "text/plain": [
       "Postcut: Pairs:  3  Vector:  3\n"
      ]
     },
     "metadata": {},
     "output_type": "display_data"
    },
    {
     "data": {
      "text/html": [
       "<pre style=\"white-space:pre;overflow-x:auto;line-height:normal;font-family:Menlo,'DejaVu Sans Mono',consolas,'Courier New',monospace\">[[], [], [], [], [], [], [], [], [], [], ... [], [], [], [], [], [], [], [], [], []]\n",
       "</pre>\n"
      ],
      "text/plain": [
       "[[], [], [], [], [], [], [], [], [], [], ... [], [], [], [], [], [], [], [], [], []]\n"
      ]
     },
     "metadata": {},
     "output_type": "display_data"
    },
    {
     "data": {
      "text/html": [
       "<pre style=\"white-space:pre;overflow-x:auto;line-height:normal;font-family:Menlo,'DejaVu Sans Mono',consolas,'Courier New',monospace\">[[], [], [], [], [], [], [], [], [], [], ... [], [], [], [], [], [], [], [], [], []]\n",
       "</pre>\n"
      ],
      "text/plain": [
       "[[], [], [], [], [], [], [], [], [], [], ... [], [], [], [], [], [], [], [], [], []]\n"
      ]
     },
     "metadata": {},
     "output_type": "display_data"
    },
    {
     "data": {
      "text/html": [
       "<pre style=\"white-space:pre;overflow-x:auto;line-height:normal;font-family:Menlo,'DejaVu Sans Mono',consolas,'Courier New',monospace\">Start:  6548   VV\n",
       "</pre>\n"
      ],
      "text/plain": [
       "Start:  6548   VV\n"
      ]
     },
     "metadata": {},
     "output_type": "display_data"
    },
    {
     "data": {
      "text/html": [
       "<pre style=\"white-space:pre;overflow-x:auto;line-height:normal;font-family:Menlo,'DejaVu Sans Mono',consolas,'Courier New',monospace\">Extra Ele Veto:  6195\n",
       "</pre>\n"
      ],
      "text/plain": [
       "Extra Ele Veto:  6195\n"
      ]
     },
     "metadata": {},
     "output_type": "display_data"
    },
    {
     "data": {
      "text/html": [
       "<pre style=\"white-space:pre;overflow-x:auto;line-height:normal;font-family:Menlo,'DejaVu Sans Mono',consolas,'Courier New',monospace\">Extra Mu Veto:  165\n",
       "</pre>\n"
      ],
      "text/plain": [
       "Extra Mu Veto:  165\n"
      ]
     },
     "metadata": {},
     "output_type": "display_data"
    },
    {
     "data": {
      "text/html": [
       "<pre style=\"white-space:pre;overflow-x:auto;line-height:normal;font-family:Menlo,'DejaVu Sans Mono',consolas,'Courier New',monospace\">BJet Veto:  69\n",
       "</pre>\n"
      ],
      "text/plain": [
       "BJet Veto:  69\n"
      ]
     },
     "metadata": {},
     "output_type": "display_data"
    },
    {
     "data": {
      "text/html": [
       "<pre style=\"white-space:pre;overflow-x:auto;line-height:normal;font-family:Menlo,'DejaVu Sans Mono',consolas,'Courier New',monospace\">Pairs:  142  Vector:  142\n",
       "</pre>\n"
      ],
      "text/plain": [
       "Pairs:  142  Vector:  142\n"
      ]
     },
     "metadata": {},
     "output_type": "display_data"
    },
    {
     "data": {
      "text/html": [
       "<pre style=\"white-space:pre;overflow-x:auto;line-height:normal;font-family:Menlo,'DejaVu Sans Mono',consolas,'Courier New',monospace\">[[True, True, True], [], [], ... False, False, False, False, False], [True]]\n",
       "</pre>\n"
      ],
      "text/plain": [
       "[[True, True, True], [], [], ... False, False, False, False, False], [True]]\n"
      ]
     },
     "metadata": {},
     "output_type": "display_data"
    },
    {
     "data": {
      "text/html": [
       "<pre style=\"white-space:pre;overflow-x:auto;line-height:normal;font-family:Menlo,'DejaVu Sans Mono',consolas,'Courier New',monospace\">Postcut: Pairs:  2  Vector:  2\n",
       "</pre>\n"
      ],
      "text/plain": [
       "Postcut: Pairs:  2  Vector:  2\n"
      ]
     },
     "metadata": {},
     "output_type": "display_data"
    },
    {
     "data": {
      "text/html": [
       "<pre style=\"white-space:pre;overflow-x:auto;line-height:normal;font-family:Menlo,'DejaVu Sans Mono',consolas,'Courier New',monospace\">[[], [], [], [], [], [], [], [], [], [], ... [], [], [], [], [], [], [], [], [], []]\n",
       "</pre>\n"
      ],
      "text/plain": [
       "[[], [], [], [], [], [], [], [], [], [], ... [], [], [], [], [], [], [], [], [], []]\n"
      ]
     },
     "metadata": {},
     "output_type": "display_data"
    },
    {
     "data": {
      "text/html": [
       "<pre style=\"white-space:pre;overflow-x:auto;line-height:normal;font-family:Menlo,'DejaVu Sans Mono',consolas,'Courier New',monospace\">[[], [], [], [], [], [], [], [], [], [], ... [], [], [], [], [], [], [], [], [], []]\n",
       "</pre>\n"
      ],
      "text/plain": [
       "[[], [], [], [], [], [], [], [], [], [], ... [], [], [], [], [], [], [], [], [], []]\n"
      ]
     },
     "metadata": {},
     "output_type": "display_data"
    },
    {
     "data": {
      "text/html": [
       "<pre style=\"white-space:pre;overflow-x:auto;line-height:normal;font-family:Menlo,'DejaVu Sans Mono',consolas,'Courier New',monospace\">Start:  6550   VV\n",
       "</pre>\n"
      ],
      "text/plain": [
       "Start:  6550   VV\n"
      ]
     },
     "metadata": {},
     "output_type": "display_data"
    },
    {
     "data": {
      "text/html": [
       "<pre style=\"white-space:pre;overflow-x:auto;line-height:normal;font-family:Menlo,'DejaVu Sans Mono',consolas,'Courier New',monospace\">Extra Ele Veto:  6194\n",
       "</pre>\n"
      ],
      "text/plain": [
       "Extra Ele Veto:  6194\n"
      ]
     },
     "metadata": {},
     "output_type": "display_data"
    },
    {
     "data": {
      "text/html": [
       "<pre style=\"white-space:pre;overflow-x:auto;line-height:normal;font-family:Menlo,'DejaVu Sans Mono',consolas,'Courier New',monospace\">Extra Mu Veto:  151\n",
       "</pre>\n"
      ],
      "text/plain": [
       "Extra Mu Veto:  151\n"
      ]
     },
     "metadata": {},
     "output_type": "display_data"
    },
    {
     "data": {
      "text/html": [
       "<pre style=\"white-space:pre;overflow-x:auto;line-height:normal;font-family:Menlo,'DejaVu Sans Mono',consolas,'Courier New',monospace\">BJet Veto:  50\n",
       "</pre>\n"
      ],
      "text/plain": [
       "BJet Veto:  50\n"
      ]
     },
     "metadata": {},
     "output_type": "display_data"
    },
    {
     "data": {
      "text/html": [
       "<pre style=\"white-space:pre;overflow-x:auto;line-height:normal;font-family:Menlo,'DejaVu Sans Mono',consolas,'Courier New',monospace\">Pairs:  88  Vector:  88\n",
       "</pre>\n"
      ],
      "text/plain": [
       "Pairs:  88  Vector:  88\n"
      ]
     },
     "metadata": {},
     "output_type": "display_data"
    },
    {
     "data": {
      "text/html": [
       "<pre style=\"white-space:pre;overflow-x:auto;line-height:normal;font-family:Menlo,'DejaVu Sans Mono',consolas,'Courier New',monospace\">[[True, True, True, True, True, True], [], ... False, True], [], [True, True], []]\n",
       "</pre>\n"
      ],
      "text/plain": [
       "[[True, True, True, True, True, True], [], ... False, True], [], [True, True], []]\n"
      ]
     },
     "metadata": {},
     "output_type": "display_data"
    },
    {
     "data": {
      "text/html": [
       "<pre style=\"white-space:pre;overflow-x:auto;line-height:normal;font-family:Menlo,'DejaVu Sans Mono',consolas,'Courier New',monospace\">Postcut: Pairs:  2  Vector:  2\n",
       "</pre>\n"
      ],
      "text/plain": [
       "Postcut: Pairs:  2  Vector:  2\n"
      ]
     },
     "metadata": {},
     "output_type": "display_data"
    },
    {
     "data": {
      "text/html": [
       "<pre style=\"white-space:pre;overflow-x:auto;line-height:normal;font-family:Menlo,'DejaVu Sans Mono',consolas,'Courier New',monospace\">[[], [], [], [], [], [], [], [], [], [], ... [], [], [], [], [], [], [], [], [], []]\n",
       "</pre>\n"
      ],
      "text/plain": [
       "[[], [], [], [], [], [], [], [], [], [], ... [], [], [], [], [], [], [], [], [], []]\n"
      ]
     },
     "metadata": {},
     "output_type": "display_data"
    },
    {
     "data": {
      "text/html": [
       "<pre style=\"white-space:pre;overflow-x:auto;line-height:normal;font-family:Menlo,'DejaVu Sans Mono',consolas,'Courier New',monospace\">[[], [], [], [], [], [], [], [], [], [], ... [], [], [], [], [], [], [], [], [], []]\n",
       "</pre>\n"
      ],
      "text/plain": [
       "[[], [], [], [], [], [], [], [], [], [], ... [], [], [], [], [], [], [], [], [], []]\n"
      ]
     },
     "metadata": {},
     "output_type": "display_data"
    },
    {
     "data": {
      "text/html": [
       "<pre style=\"white-space:pre;overflow-x:auto;line-height:normal;font-family:Menlo,'DejaVu Sans Mono',consolas,'Courier New',monospace\">Start:  6479   VV\n",
       "</pre>\n"
      ],
      "text/plain": [
       "Start:  6479   VV\n"
      ]
     },
     "metadata": {},
     "output_type": "display_data"
    },
    {
     "data": {
      "text/html": [
       "<pre style=\"white-space:pre;overflow-x:auto;line-height:normal;font-family:Menlo,'DejaVu Sans Mono',consolas,'Courier New',monospace\">Extra Ele Veto:  6088\n",
       "</pre>\n"
      ],
      "text/plain": [
       "Extra Ele Veto:  6088\n"
      ]
     },
     "metadata": {},
     "output_type": "display_data"
    },
    {
     "data": {
      "text/html": [
       "<pre style=\"white-space:pre;overflow-x:auto;line-height:normal;font-family:Menlo,'DejaVu Sans Mono',consolas,'Courier New',monospace\">Extra Mu Veto:  148\n",
       "</pre>\n"
      ],
      "text/plain": [
       "Extra Mu Veto:  148\n"
      ]
     },
     "metadata": {},
     "output_type": "display_data"
    },
    {
     "data": {
      "text/html": [
       "<pre style=\"white-space:pre;overflow-x:auto;line-height:normal;font-family:Menlo,'DejaVu Sans Mono',consolas,'Courier New',monospace\">BJet Veto:  67\n",
       "</pre>\n"
      ],
      "text/plain": [
       "BJet Veto:  67\n"
      ]
     },
     "metadata": {},
     "output_type": "display_data"
    },
    {
     "data": {
      "text/html": [
       "<pre style=\"white-space:pre;overflow-x:auto;line-height:normal;font-family:Menlo,'DejaVu Sans Mono',consolas,'Courier New',monospace\">Pairs:  128  Vector:  128\n",
       "</pre>\n"
      ],
      "text/plain": [
       "Pairs:  128  Vector:  128\n"
      ]
     },
     "metadata": {},
     "output_type": "display_data"
    },
    {
     "data": {
      "text/html": [
       "<pre style=\"white-space:pre;overflow-x:auto;line-height:normal;font-family:Menlo,'DejaVu Sans Mono',consolas,'Courier New',monospace\">[[True, True], [], [], [True, True], ... [True, True, True, True], [True, True]]\n",
       "</pre>\n"
      ],
      "text/plain": [
       "[[True, True], [], [], [True, True], ... [True, True, True, True], [True, True]]\n"
      ]
     },
     "metadata": {},
     "output_type": "display_data"
    },
    {
     "data": {
      "text/html": [
       "<pre style=\"white-space:pre;overflow-x:auto;line-height:normal;font-family:Menlo,'DejaVu Sans Mono',consolas,'Courier New',monospace\">Postcut: Pairs:  3  Vector:  3\n",
       "</pre>\n"
      ],
      "text/plain": [
       "Postcut: Pairs:  3  Vector:  3\n"
      ]
     },
     "metadata": {},
     "output_type": "display_data"
    },
    {
     "data": {
      "text/html": [
       "<pre style=\"white-space:pre;overflow-x:auto;line-height:normal;font-family:Menlo,'DejaVu Sans Mono',consolas,'Courier New',monospace\">[[], [], [], [], [], [], [], [], [], [], ... [], [], [], [], [], [], [], [], [], []]\n",
       "</pre>\n"
      ],
      "text/plain": [
       "[[], [], [], [], [], [], [], [], [], [], ... [], [], [], [], [], [], [], [], [], []]\n"
      ]
     },
     "metadata": {},
     "output_type": "display_data"
    },
    {
     "data": {
      "text/html": [
       "<pre style=\"white-space:pre;overflow-x:auto;line-height:normal;font-family:Menlo,'DejaVu Sans Mono',consolas,'Courier New',monospace\">[[], [], [], [], [], [], [], [], [], [], ... [], [], [], [], [], [], [], [], [], []]\n",
       "</pre>\n"
      ],
      "text/plain": [
       "[[], [], [], [], [], [], [], [], [], [], ... [], [], [], [], [], [], [], [], [], []]\n"
      ]
     },
     "metadata": {},
     "output_type": "display_data"
    },
    {
     "data": {
      "text/html": [
       "<pre style=\"white-space:pre;overflow-x:auto;line-height:normal;font-family:Menlo,'DejaVu Sans Mono',consolas,'Courier New',monospace\">Start:  6678   VV\n",
       "</pre>\n"
      ],
      "text/plain": [
       "Start:  6678   VV\n"
      ]
     },
     "metadata": {},
     "output_type": "display_data"
    },
    {
     "data": {
      "text/html": [
       "<pre style=\"white-space:pre;overflow-x:auto;line-height:normal;font-family:Menlo,'DejaVu Sans Mono',consolas,'Courier New',monospace\">Extra Ele Veto:  6272\n",
       "</pre>\n"
      ],
      "text/plain": [
       "Extra Ele Veto:  6272\n"
      ]
     },
     "metadata": {},
     "output_type": "display_data"
    },
    {
     "data": {
      "text/html": [
       "<pre style=\"white-space:pre;overflow-x:auto;line-height:normal;font-family:Menlo,'DejaVu Sans Mono',consolas,'Courier New',monospace\">Extra Mu Veto:  151\n",
       "</pre>\n"
      ],
      "text/plain": [
       "Extra Mu Veto:  151\n"
      ]
     },
     "metadata": {},
     "output_type": "display_data"
    },
    {
     "data": {
      "text/html": [
       "<pre style=\"white-space:pre;overflow-x:auto;line-height:normal;font-family:Menlo,'DejaVu Sans Mono',consolas,'Courier New',monospace\">BJet Veto:  47\n",
       "</pre>\n"
      ],
      "text/plain": [
       "BJet Veto:  47\n"
      ]
     },
     "metadata": {},
     "output_type": "display_data"
    },
    {
     "data": {
      "text/html": [
       "<pre style=\"white-space:pre;overflow-x:auto;line-height:normal;font-family:Menlo,'DejaVu Sans Mono',consolas,'Courier New',monospace\">Pairs:  95  Vector:  95\n",
       "</pre>\n"
      ],
      "text/plain": [
       "Pairs:  95  Vector:  95\n"
      ]
     },
     "metadata": {},
     "output_type": "display_data"
    },
    {
     "data": {
      "text/html": [
       "<pre style=\"white-space:pre;overflow-x:auto;line-height:normal;font-family:Menlo,'DejaVu Sans Mono',consolas,'Courier New',monospace\">[[], [True], [True, False], [], ... [], [False, False, True, True, True, True]]\n",
       "</pre>\n"
      ],
      "text/plain": [
       "[[], [True], [True, False], [], ... [], [False, False, True, True, True, True]]\n"
      ]
     },
     "metadata": {},
     "output_type": "display_data"
    },
    {
     "data": {
      "text/html": [
       "<pre style=\"white-space:pre;overflow-x:auto;line-height:normal;font-family:Menlo,'DejaVu Sans Mono',consolas,'Courier New',monospace\">0\n",
       "</pre>\n"
      ],
      "text/plain": [
       "0\n"
      ]
     },
     "metadata": {},
     "output_type": "display_data"
    },
    {
     "data": {
      "text/html": [
       "<pre style=\"white-space:pre;overflow-x:auto;line-height:normal;font-family:Menlo,'DejaVu Sans Mono',consolas,'Courier New',monospace\">Start:  6597   VV\n",
       "</pre>\n"
      ],
      "text/plain": [
       "Start:  6597   VV\n"
      ]
     },
     "metadata": {},
     "output_type": "display_data"
    },
    {
     "data": {
      "text/html": [
       "<pre style=\"white-space:pre;overflow-x:auto;line-height:normal;font-family:Menlo,'DejaVu Sans Mono',consolas,'Courier New',monospace\">Extra Ele Veto:  6255\n",
       "</pre>\n"
      ],
      "text/plain": [
       "Extra Ele Veto:  6255\n"
      ]
     },
     "metadata": {},
     "output_type": "display_data"
    },
    {
     "data": {
      "text/html": [
       "<pre style=\"white-space:pre;overflow-x:auto;line-height:normal;font-family:Menlo,'DejaVu Sans Mono',consolas,'Courier New',monospace\">Extra Mu Veto:  155\n",
       "</pre>\n"
      ],
      "text/plain": [
       "Extra Mu Veto:  155\n"
      ]
     },
     "metadata": {},
     "output_type": "display_data"
    },
    {
     "data": {
      "text/html": [
       "<pre style=\"white-space:pre;overflow-x:auto;line-height:normal;font-family:Menlo,'DejaVu Sans Mono',consolas,'Courier New',monospace\">BJet Veto:  58\n",
       "</pre>\n"
      ],
      "text/plain": [
       "BJet Veto:  58\n"
      ]
     },
     "metadata": {},
     "output_type": "display_data"
    },
    {
     "data": {
      "text/html": [
       "<pre style=\"white-space:pre;overflow-x:auto;line-height:normal;font-family:Menlo,'DejaVu Sans Mono',consolas,'Courier New',monospace\">Pairs:  108  Vector:  108\n",
       "</pre>\n"
      ],
      "text/plain": [
       "Pairs:  108  Vector:  108\n"
      ]
     },
     "metadata": {},
     "output_type": "display_data"
    },
    {
     "data": {
      "text/html": [
       "<pre style=\"white-space:pre;overflow-x:auto;line-height:normal;font-family:Menlo,'DejaVu Sans Mono',consolas,'Courier New',monospace\">[[], [False, True], [True], [], [], [], ... True, True], [], [], [], [True], []]\n",
       "</pre>\n"
      ],
      "text/plain": [
       "[[], [False, True], [True], [], [], [], ... True, True], [], [], [], [True], []]\n"
      ]
     },
     "metadata": {},
     "output_type": "display_data"
    },
    {
     "data": {
      "text/html": [
       "<pre style=\"white-space:pre;overflow-x:auto;line-height:normal;font-family:Menlo,'DejaVu Sans Mono',consolas,'Courier New',monospace\">0\n",
       "</pre>\n"
      ],
      "text/plain": [
       "0\n"
      ]
     },
     "metadata": {},
     "output_type": "display_data"
    },
    {
     "data": {
      "text/html": [
       "<pre style=\"white-space:pre;overflow-x:auto;line-height:normal;font-family:Menlo,'DejaVu Sans Mono',consolas,'Courier New',monospace\">Start:  6579   VV\n",
       "</pre>\n"
      ],
      "text/plain": [
       "Start:  6579   VV\n"
      ]
     },
     "metadata": {},
     "output_type": "display_data"
    },
    {
     "data": {
      "text/html": [
       "<pre style=\"white-space:pre;overflow-x:auto;line-height:normal;font-family:Menlo,'DejaVu Sans Mono',consolas,'Courier New',monospace\">Extra Ele Veto:  6229\n",
       "</pre>\n"
      ],
      "text/plain": [
       "Extra Ele Veto:  6229\n"
      ]
     },
     "metadata": {},
     "output_type": "display_data"
    },
    {
     "data": {
      "text/html": [
       "<pre style=\"white-space:pre;overflow-x:auto;line-height:normal;font-family:Menlo,'DejaVu Sans Mono',consolas,'Courier New',monospace\">Extra Mu Veto:  180\n",
       "</pre>\n"
      ],
      "text/plain": [
       "Extra Mu Veto:  180\n"
      ]
     },
     "metadata": {},
     "output_type": "display_data"
    },
    {
     "data": {
      "text/html": [
       "<pre style=\"white-space:pre;overflow-x:auto;line-height:normal;font-family:Menlo,'DejaVu Sans Mono',consolas,'Courier New',monospace\">BJet Veto:  68\n",
       "</pre>\n"
      ],
      "text/plain": [
       "BJet Veto:  68\n"
      ]
     },
     "metadata": {},
     "output_type": "display_data"
    },
    {
     "data": {
      "text/html": [
       "<pre style=\"white-space:pre;overflow-x:auto;line-height:normal;font-family:Menlo,'DejaVu Sans Mono',consolas,'Courier New',monospace\">Pairs:  133  Vector:  133\n",
       "</pre>\n"
      ],
      "text/plain": [
       "Pairs:  133  Vector:  133\n"
      ]
     },
     "metadata": {},
     "output_type": "display_data"
    },
    {
     "data": {
      "text/html": [
       "<pre style=\"white-space:pre;overflow-x:auto;line-height:normal;font-family:Menlo,'DejaVu Sans Mono',consolas,'Courier New',monospace\">[[], [True, True, False, False], [], [False, ... False, False, True], [], [True], []]\n",
       "</pre>\n"
      ],
      "text/plain": [
       "[[], [True, True, False, False], [], [False, ... False, False, True], [], [True], []]\n"
      ]
     },
     "metadata": {},
     "output_type": "display_data"
    },
    {
     "data": {
      "text/html": [
       "<pre style=\"white-space:pre;overflow-x:auto;line-height:normal;font-family:Menlo,'DejaVu Sans Mono',consolas,'Courier New',monospace\">Postcut: Pairs:  2  Vector:  2\n",
       "</pre>\n"
      ],
      "text/plain": [
       "Postcut: Pairs:  2  Vector:  2\n"
      ]
     },
     "metadata": {},
     "output_type": "display_data"
    },
    {
     "data": {
      "text/html": [
       "<pre style=\"white-space:pre;overflow-x:auto;line-height:normal;font-family:Menlo,'DejaVu Sans Mono',consolas,'Courier New',monospace\">[[], [], [], [], [], [], [], [], [], [], ... [], [], [], [], [], [], [], [], [], []]\n",
       "</pre>\n"
      ],
      "text/plain": [
       "[[], [], [], [], [], [], [], [], [], [], ... [], [], [], [], [], [], [], [], [], []]\n"
      ]
     },
     "metadata": {},
     "output_type": "display_data"
    },
    {
     "data": {
      "text/html": [
       "<pre style=\"white-space:pre;overflow-x:auto;line-height:normal;font-family:Menlo,'DejaVu Sans Mono',consolas,'Courier New',monospace\">[[], [], [], [], [], [], [], [], [], [], ... [], [], [], [], [], [], [], [], [], []]\n",
       "</pre>\n"
      ],
      "text/plain": [
       "[[], [], [], [], [], [], [], [], [], [], ... [], [], [], [], [], [], [], [], [], []]\n"
      ]
     },
     "metadata": {},
     "output_type": "display_data"
    },
    {
     "data": {
      "text/html": [
       "<pre style=\"white-space:pre;overflow-x:auto;line-height:normal;font-family:Menlo,'DejaVu Sans Mono',consolas,'Courier New',monospace\">Start:  6546   VV\n",
       "</pre>\n"
      ],
      "text/plain": [
       "Start:  6546   VV\n"
      ]
     },
     "metadata": {},
     "output_type": "display_data"
    },
    {
     "data": {
      "text/html": [
       "<pre style=\"white-space:pre;overflow-x:auto;line-height:normal;font-family:Menlo,'DejaVu Sans Mono',consolas,'Courier New',monospace\">Extra Ele Veto:  6179\n",
       "</pre>\n"
      ],
      "text/plain": [
       "Extra Ele Veto:  6179\n"
      ]
     },
     "metadata": {},
     "output_type": "display_data"
    },
    {
     "data": {
      "text/html": [
       "<pre style=\"white-space:pre;overflow-x:auto;line-height:normal;font-family:Menlo,'DejaVu Sans Mono',consolas,'Courier New',monospace\">Extra Mu Veto:  163\n",
       "</pre>\n"
      ],
      "text/plain": [
       "Extra Mu Veto:  163\n"
      ]
     },
     "metadata": {},
     "output_type": "display_data"
    },
    {
     "data": {
      "text/html": [
       "<pre style=\"white-space:pre;overflow-x:auto;line-height:normal;font-family:Menlo,'DejaVu Sans Mono',consolas,'Courier New',monospace\">BJet Veto:  62\n",
       "</pre>\n"
      ],
      "text/plain": [
       "BJet Veto:  62\n"
      ]
     },
     "metadata": {},
     "output_type": "display_data"
    },
    {
     "data": {
      "text/html": [
       "<pre style=\"white-space:pre;overflow-x:auto;line-height:normal;font-family:Menlo,'DejaVu Sans Mono',consolas,'Courier New',monospace\">Pairs:  121  Vector:  121\n",
       "</pre>\n"
      ],
      "text/plain": [
       "Pairs:  121  Vector:  121\n"
      ]
     },
     "metadata": {},
     "output_type": "display_data"
    },
    {
     "data": {
      "text/html": [
       "<pre style=\"white-space:pre;overflow-x:auto;line-height:normal;font-family:Menlo,'DejaVu Sans Mono',consolas,'Courier New',monospace\">[[], [], [], [True, False, True, True, ... True], [True, False], [True, False, True]]\n",
       "</pre>\n"
      ],
      "text/plain": [
       "[[], [], [], [True, False, True, True, ... True], [True, False], [True, False, True]]\n"
      ]
     },
     "metadata": {},
     "output_type": "display_data"
    },
    {
     "data": {
      "text/html": [
       "<pre style=\"white-space:pre;overflow-x:auto;line-height:normal;font-family:Menlo,'DejaVu Sans Mono',consolas,'Courier New',monospace\">Postcut: Pairs:  4  Vector:  4\n",
       "</pre>\n"
      ],
      "text/plain": [
       "Postcut: Pairs:  4  Vector:  4\n"
      ]
     },
     "metadata": {},
     "output_type": "display_data"
    },
    {
     "data": {
      "text/html": [
       "<pre style=\"white-space:pre;overflow-x:auto;line-height:normal;font-family:Menlo,'DejaVu Sans Mono',consolas,'Courier New',monospace\">[[], [], [], [], [], [], [], [], [], [], ... [], [], [], [], [], [], [], [], [], []]\n",
       "</pre>\n"
      ],
      "text/plain": [
       "[[], [], [], [], [], [], [], [], [], [], ... [], [], [], [], [], [], [], [], [], []]\n"
      ]
     },
     "metadata": {},
     "output_type": "display_data"
    },
    {
     "data": {
      "text/html": [
       "<pre style=\"white-space:pre;overflow-x:auto;line-height:normal;font-family:Menlo,'DejaVu Sans Mono',consolas,'Courier New',monospace\">[[], [], [], [], [], [], [], [], [], [], ... [], [], [], [], [], [], [], [], [], []]\n",
       "</pre>\n"
      ],
      "text/plain": [
       "[[], [], [], [], [], [], [], [], [], [], ... [], [], [], [], [], [], [], [], [], []]\n"
      ]
     },
     "metadata": {},
     "output_type": "display_data"
    },
    {
     "data": {
      "text/html": [
       "<pre style=\"white-space:pre;overflow-x:auto;line-height:normal;font-family:Menlo,'DejaVu Sans Mono',consolas,'Courier New',monospace\">Start:  6734   VV\n",
       "</pre>\n"
      ],
      "text/plain": [
       "Start:  6734   VV\n"
      ]
     },
     "metadata": {},
     "output_type": "display_data"
    },
    {
     "data": {
      "text/html": [
       "<pre style=\"white-space:pre;overflow-x:auto;line-height:normal;font-family:Menlo,'DejaVu Sans Mono',consolas,'Courier New',monospace\">Extra Ele Veto:  6329\n",
       "</pre>\n"
      ],
      "text/plain": [
       "Extra Ele Veto:  6329\n"
      ]
     },
     "metadata": {},
     "output_type": "display_data"
    },
    {
     "data": {
      "text/html": [
       "<pre style=\"white-space:pre;overflow-x:auto;line-height:normal;font-family:Menlo,'DejaVu Sans Mono',consolas,'Courier New',monospace\">Extra Mu Veto:  156\n",
       "</pre>\n"
      ],
      "text/plain": [
       "Extra Mu Veto:  156\n"
      ]
     },
     "metadata": {},
     "output_type": "display_data"
    },
    {
     "data": {
      "text/html": [
       "<pre style=\"white-space:pre;overflow-x:auto;line-height:normal;font-family:Menlo,'DejaVu Sans Mono',consolas,'Courier New',monospace\">BJet Veto:  68\n",
       "</pre>\n"
      ],
      "text/plain": [
       "BJet Veto:  68\n"
      ]
     },
     "metadata": {},
     "output_type": "display_data"
    },
    {
     "data": {
      "text/html": [
       "<pre style=\"white-space:pre;overflow-x:auto;line-height:normal;font-family:Menlo,'DejaVu Sans Mono',consolas,'Courier New',monospace\">Pairs:  116  Vector:  116\n",
       "</pre>\n"
      ],
      "text/plain": [
       "Pairs:  116  Vector:  116\n"
      ]
     },
     "metadata": {},
     "output_type": "display_data"
    },
    {
     "data": {
      "text/html": [
       "<pre style=\"white-space:pre;overflow-x:auto;line-height:normal;font-family:Menlo,'DejaVu Sans Mono',consolas,'Courier New',monospace\">[[True, True, False], [], [], [], ... True, True, True, True], [], [False, True]]\n",
       "</pre>\n"
      ],
      "text/plain": [
       "[[True, True, False], [], [], [], ... True, True, True, True], [], [False, True]]\n"
      ]
     },
     "metadata": {},
     "output_type": "display_data"
    },
    {
     "data": {
      "text/html": [
       "<pre style=\"white-space:pre;overflow-x:auto;line-height:normal;font-family:Menlo,'DejaVu Sans Mono',consolas,'Courier New',monospace\">Postcut: Pairs:  2  Vector:  2\n",
       "</pre>\n"
      ],
      "text/plain": [
       "Postcut: Pairs:  2  Vector:  2\n"
      ]
     },
     "metadata": {},
     "output_type": "display_data"
    },
    {
     "data": {
      "text/html": [
       "<pre style=\"white-space:pre;overflow-x:auto;line-height:normal;font-family:Menlo,'DejaVu Sans Mono',consolas,'Courier New',monospace\">[[], [], [], [], [], [], [], [], [], [], ... [], [], [], [], [], [], [], [], [], []]\n",
       "</pre>\n"
      ],
      "text/plain": [
       "[[], [], [], [], [], [], [], [], [], [], ... [], [], [], [], [], [], [], [], [], []]\n"
      ]
     },
     "metadata": {},
     "output_type": "display_data"
    },
    {
     "data": {
      "text/html": [
       "<pre style=\"white-space:pre;overflow-x:auto;line-height:normal;font-family:Menlo,'DejaVu Sans Mono',consolas,'Courier New',monospace\">[[], [], [], [], [], [], [], [], [], [], ... [], [], [], [], [], [], [], [], [], []]\n",
       "</pre>\n"
      ],
      "text/plain": [
       "[[], [], [], [], [], [], [], [], [], [], ... [], [], [], [], [], [], [], [], [], []]\n"
      ]
     },
     "metadata": {},
     "output_type": "display_data"
    },
    {
     "data": {
      "text/html": [
       "<pre style=\"white-space:pre;overflow-x:auto;line-height:normal;font-family:Menlo,'DejaVu Sans Mono',consolas,'Courier New',monospace\">Start:  6732   VV\n",
       "</pre>\n"
      ],
      "text/plain": [
       "Start:  6732   VV\n"
      ]
     },
     "metadata": {},
     "output_type": "display_data"
    },
    {
     "data": {
      "text/html": [
       "<pre style=\"white-space:pre;overflow-x:auto;line-height:normal;font-family:Menlo,'DejaVu Sans Mono',consolas,'Courier New',monospace\">Extra Ele Veto:  6310\n",
       "</pre>\n"
      ],
      "text/plain": [
       "Extra Ele Veto:  6310\n"
      ]
     },
     "metadata": {},
     "output_type": "display_data"
    },
    {
     "data": {
      "text/html": [
       "<pre style=\"white-space:pre;overflow-x:auto;line-height:normal;font-family:Menlo,'DejaVu Sans Mono',consolas,'Courier New',monospace\">Extra Mu Veto:  184\n",
       "</pre>\n"
      ],
      "text/plain": [
       "Extra Mu Veto:  184\n"
      ]
     },
     "metadata": {},
     "output_type": "display_data"
    },
    {
     "data": {
      "text/html": [
       "<pre style=\"white-space:pre;overflow-x:auto;line-height:normal;font-family:Menlo,'DejaVu Sans Mono',consolas,'Courier New',monospace\">BJet Veto:  65\n",
       "</pre>\n"
      ],
      "text/plain": [
       "BJet Veto:  65\n"
      ]
     },
     "metadata": {},
     "output_type": "display_data"
    },
    {
     "data": {
      "text/html": [
       "<pre style=\"white-space:pre;overflow-x:auto;line-height:normal;font-family:Menlo,'DejaVu Sans Mono',consolas,'Courier New',monospace\">Pairs:  103  Vector:  103\n",
       "</pre>\n"
      ],
      "text/plain": [
       "Pairs:  103  Vector:  103\n"
      ]
     },
     "metadata": {},
     "output_type": "display_data"
    },
    {
     "data": {
      "text/html": [
       "<pre style=\"white-space:pre;overflow-x:auto;line-height:normal;font-family:Menlo,'DejaVu Sans Mono',consolas,'Courier New',monospace\">[[True, True, True, True], [], [], [False, ... [], [], [], [True, False, False]]\n",
       "</pre>\n"
      ],
      "text/plain": [
       "[[True, True, True, True], [], [], [False, ... [], [], [], [True, False, False]]\n"
      ]
     },
     "metadata": {},
     "output_type": "display_data"
    },
    {
     "data": {
      "text/html": [
       "<pre style=\"white-space:pre;overflow-x:auto;line-height:normal;font-family:Menlo,'DejaVu Sans Mono',consolas,'Courier New',monospace\">Postcut: Pairs:  3  Vector:  3\n",
       "</pre>\n"
      ],
      "text/plain": [
       "Postcut: Pairs:  3  Vector:  3\n"
      ]
     },
     "metadata": {},
     "output_type": "display_data"
    },
    {
     "data": {
      "text/html": [
       "<pre style=\"white-space:pre;overflow-x:auto;line-height:normal;font-family:Menlo,'DejaVu Sans Mono',consolas,'Courier New',monospace\">[[], [], [], [], [], [], [], [], [], [], ... [], [], [True], [], [], [], [], [], []]\n",
       "</pre>\n"
      ],
      "text/plain": [
       "[[], [], [], [], [], [], [], [], [], [], ... [], [], [True], [], [], [], [], [], []]\n"
      ]
     },
     "metadata": {},
     "output_type": "display_data"
    },
    {
     "data": {
      "text/html": [
       "<pre style=\"white-space:pre;overflow-x:auto;line-height:normal;font-family:Menlo,'DejaVu Sans Mono',consolas,'Courier New',monospace\">[[], [], [], [], [], [], [], [], [], ... mass: 0.106}}], [], [], [], [], [], []]\n",
       "</pre>\n"
      ],
      "text/plain": [
       "[[], [], [], [], [], [], [], [], [], ... mass: 0.106}}], [], [], [], [], [], []]\n"
      ]
     },
     "metadata": {},
     "output_type": "display_data"
    },
    {
     "data": {
      "text/html": [
       "<pre style=\"white-space:pre;overflow-x:auto;line-height:normal;font-family:Menlo,'DejaVu Sans Mono',consolas,'Courier New',monospace\">Start:  6547   VV\n",
       "</pre>\n"
      ],
      "text/plain": [
       "Start:  6547   VV\n"
      ]
     },
     "metadata": {},
     "output_type": "display_data"
    },
    {
     "data": {
      "text/html": [
       "<pre style=\"white-space:pre;overflow-x:auto;line-height:normal;font-family:Menlo,'DejaVu Sans Mono',consolas,'Courier New',monospace\">Extra Ele Veto:  6197\n",
       "</pre>\n"
      ],
      "text/plain": [
       "Extra Ele Veto:  6197\n"
      ]
     },
     "metadata": {},
     "output_type": "display_data"
    },
    {
     "data": {
      "text/html": [
       "<pre style=\"white-space:pre;overflow-x:auto;line-height:normal;font-family:Menlo,'DejaVu Sans Mono',consolas,'Courier New',monospace\">Extra Mu Veto:  164\n",
       "</pre>\n"
      ],
      "text/plain": [
       "Extra Mu Veto:  164\n"
      ]
     },
     "metadata": {},
     "output_type": "display_data"
    },
    {
     "data": {
      "text/html": [
       "<pre style=\"white-space:pre;overflow-x:auto;line-height:normal;font-family:Menlo,'DejaVu Sans Mono',consolas,'Courier New',monospace\">BJet Veto:  63\n",
       "</pre>\n"
      ],
      "text/plain": [
       "BJet Veto:  63\n"
      ]
     },
     "metadata": {},
     "output_type": "display_data"
    },
    {
     "data": {
      "text/html": [
       "<pre style=\"white-space:pre;overflow-x:auto;line-height:normal;font-family:Menlo,'DejaVu Sans Mono',consolas,'Courier New',monospace\">Pairs:  114  Vector:  114\n",
       "</pre>\n"
      ],
      "text/plain": [
       "Pairs:  114  Vector:  114\n"
      ]
     },
     "metadata": {},
     "output_type": "display_data"
    },
    {
     "data": {
      "text/html": [
       "<pre style=\"white-space:pre;overflow-x:auto;line-height:normal;font-family:Menlo,'DejaVu Sans Mono',consolas,'Courier New',monospace\">[[], [True], [False, True, True, ... False, False, False, False, False, False], []]\n",
       "</pre>\n"
      ],
      "text/plain": [
       "[[], [True], [False, True, True, ... False, False, False, False, False, False], []]\n"
      ]
     },
     "metadata": {},
     "output_type": "display_data"
    },
    {
     "data": {
      "text/html": [
       "<pre style=\"white-space:pre;overflow-x:auto;line-height:normal;font-family:Menlo,'DejaVu Sans Mono',consolas,'Courier New',monospace\">Postcut: Pairs:  3  Vector:  3\n",
       "</pre>\n"
      ],
      "text/plain": [
       "Postcut: Pairs:  3  Vector:  3\n"
      ]
     },
     "metadata": {},
     "output_type": "display_data"
    },
    {
     "data": {
      "text/html": [
       "<pre style=\"white-space:pre;overflow-x:auto;line-height:normal;font-family:Menlo,'DejaVu Sans Mono',consolas,'Courier New',monospace\">[[], [], [], [], [], [], [], [], [], [], ... [], [], [], [], [], [], [], [], [], []]\n",
       "</pre>\n"
      ],
      "text/plain": [
       "[[], [], [], [], [], [], [], [], [], [], ... [], [], [], [], [], [], [], [], [], []]\n"
      ]
     },
     "metadata": {},
     "output_type": "display_data"
    },
    {
     "data": {
      "text/html": [
       "<pre style=\"white-space:pre;overflow-x:auto;line-height:normal;font-family:Menlo,'DejaVu Sans Mono',consolas,'Courier New',monospace\">[[], [], [], [], [], [], [], [], [], [], ... [], [], [], [], [], [], [], [], [], []]\n",
       "</pre>\n"
      ],
      "text/plain": [
       "[[], [], [], [], [], [], [], [], [], [], ... [], [], [], [], [], [], [], [], [], []]\n"
      ]
     },
     "metadata": {},
     "output_type": "display_data"
    },
    {
     "data": {
      "text/html": [
       "<pre style=\"white-space:pre;overflow-x:auto;line-height:normal;font-family:Menlo,'DejaVu Sans Mono',consolas,'Courier New',monospace\">Start:  964   VV\n",
       "</pre>\n"
      ],
      "text/plain": [
       "Start:  964   VV\n"
      ]
     },
     "metadata": {},
     "output_type": "display_data"
    },
    {
     "data": {
      "text/html": [
       "<pre style=\"white-space:pre;overflow-x:auto;line-height:normal;font-family:Menlo,'DejaVu Sans Mono',consolas,'Courier New',monospace\">Extra Ele Veto:  909\n",
       "</pre>\n"
      ],
      "text/plain": [
       "Extra Ele Veto:  909\n"
      ]
     },
     "metadata": {},
     "output_type": "display_data"
    },
    {
     "data": {
      "text/html": [
       "<pre style=\"white-space:pre;overflow-x:auto;line-height:normal;font-family:Menlo,'DejaVu Sans Mono',consolas,'Courier New',monospace\">Extra Mu Veto:  28\n",
       "</pre>\n"
      ],
      "text/plain": [
       "Extra Mu Veto:  28\n"
      ]
     },
     "metadata": {},
     "output_type": "display_data"
    },
    {
     "data": {
      "text/html": [
       "<pre style=\"white-space:pre;overflow-x:auto;line-height:normal;font-family:Menlo,'DejaVu Sans Mono',consolas,'Courier New',monospace\">BJet Veto:  13\n",
       "</pre>\n"
      ],
      "text/plain": [
       "BJet Veto:  13\n"
      ]
     },
     "metadata": {},
     "output_type": "display_data"
    },
    {
     "data": {
      "text/html": [
       "<pre style=\"white-space:pre;overflow-x:auto;line-height:normal;font-family:Menlo,'DejaVu Sans Mono',consolas,'Courier New',monospace\">Pairs:  23  Vector:  23\n",
       "</pre>\n"
      ],
      "text/plain": [
       "Pairs:  23  Vector:  23\n"
      ]
     },
     "metadata": {},
     "output_type": "display_data"
    },
    {
     "data": {
      "text/html": [
       "<pre style=\"white-space:pre;overflow-x:auto;line-height:normal;font-family:Menlo,'DejaVu Sans Mono',consolas,'Courier New',monospace\">[[], [], [], [], [True], [True, ... [False, False, False, False], [], [True], []]\n",
       "</pre>\n"
      ],
      "text/plain": [
       "[[], [], [], [], [True], [True, ... [False, False, False, False], [], [True], []]\n"
      ]
     },
     "metadata": {},
     "output_type": "display_data"
    },
    {
     "data": {
      "text/html": [
       "<pre style=\"white-space:pre;overflow-x:auto;line-height:normal;font-family:Menlo,'DejaVu Sans Mono',consolas,'Courier New',monospace\">0\n",
       "</pre>\n"
      ],
      "text/plain": [
       "0\n"
      ]
     },
     "metadata": {},
     "output_type": "display_data"
    },
    {
     "data": {
      "text/html": [
       "<pre style=\"white-space:pre;overflow-x:auto;line-height:normal;font-family:Menlo,'DejaVu Sans Mono',consolas,'Courier New',monospace\">Start:  9517   TT\n",
       "</pre>\n"
      ],
      "text/plain": [
       "Start:  9517   TT\n"
      ]
     },
     "metadata": {},
     "output_type": "display_data"
    },
    {
     "data": {
      "text/html": [
       "<pre style=\"white-space:pre;overflow-x:auto;line-height:normal;font-family:Menlo,'DejaVu Sans Mono',consolas,'Courier New',monospace\">Extra Ele Veto:  8176\n",
       "</pre>\n"
      ],
      "text/plain": [
       "Extra Ele Veto:  8176\n"
      ]
     },
     "metadata": {},
     "output_type": "display_data"
    },
    {
     "data": {
      "text/html": [
       "<pre style=\"white-space:pre;overflow-x:auto;line-height:normal;font-family:Menlo,'DejaVu Sans Mono',consolas,'Courier New',monospace\">Extra Mu Veto:  350\n",
       "</pre>\n"
      ],
      "text/plain": [
       "Extra Mu Veto:  350\n"
      ]
     },
     "metadata": {},
     "output_type": "display_data"
    },
    {
     "data": {
      "text/html": [
       "<pre style=\"white-space:pre;overflow-x:auto;line-height:normal;font-family:Menlo,'DejaVu Sans Mono',consolas,'Courier New',monospace\">BJet Veto:  68\n",
       "</pre>\n"
      ],
      "text/plain": [
       "BJet Veto:  68\n"
      ]
     },
     "metadata": {},
     "output_type": "display_data"
    },
    {
     "data": {
      "text/html": [
       "<pre style=\"white-space:pre;overflow-x:auto;line-height:normal;font-family:Menlo,'DejaVu Sans Mono',consolas,'Courier New',monospace\">Pairs:  101  Vector:  101\n",
       "</pre>\n"
      ],
      "text/plain": [
       "Pairs:  101  Vector:  101\n"
      ]
     },
     "metadata": {},
     "output_type": "display_data"
    },
    {
     "data": {
      "text/html": [
       "<pre style=\"white-space:pre;overflow-x:auto;line-height:normal;font-family:Menlo,'DejaVu Sans Mono',consolas,'Courier New',monospace\">[[False], [False], [False, True, True], [True, ... True, True, True], [], [], [], []]\n",
       "</pre>\n"
      ],
      "text/plain": [
       "[[False], [False], [False, True, True], [True, ... True, True, True], [], [], [], []]\n"
      ]
     },
     "metadata": {},
     "output_type": "display_data"
    },
    {
     "data": {
      "text/html": [
       "<pre style=\"white-space:pre;overflow-x:auto;line-height:normal;font-family:Menlo,'DejaVu Sans Mono',consolas,'Courier New',monospace\">Postcut: Pairs:  3  Vector:  3\n",
       "</pre>\n"
      ],
      "text/plain": [
       "Postcut: Pairs:  3  Vector:  3\n"
      ]
     },
     "metadata": {},
     "output_type": "display_data"
    },
    {
     "data": {
      "text/html": [
       "<pre style=\"white-space:pre;overflow-x:auto;line-height:normal;font-family:Menlo,'DejaVu Sans Mono',consolas,'Courier New',monospace\">[[], [], [], [], [], [], [], [], [], [], ... [], [], [], [], [], [], [], [], [], []]\n",
       "</pre>\n"
      ],
      "text/plain": [
       "[[], [], [], [], [], [], [], [], [], [], ... [], [], [], [], [], [], [], [], [], []]\n"
      ]
     },
     "metadata": {},
     "output_type": "display_data"
    },
    {
     "data": {
      "text/html": [
       "<pre style=\"white-space:pre;overflow-x:auto;line-height:normal;font-family:Menlo,'DejaVu Sans Mono',consolas,'Courier New',monospace\">[[], [], [], [], [], [], [], [], [], [], ... [], [], [], [], [], [], [], [], [], []]\n",
       "</pre>\n"
      ],
      "text/plain": [
       "[[], [], [], [], [], [], [], [], [], [], ... [], [], [], [], [], [], [], [], [], []]\n"
      ]
     },
     "metadata": {},
     "output_type": "display_data"
    },
    {
     "data": {
      "text/html": [
       "<pre style=\"white-space:pre;overflow-x:auto;line-height:normal;font-family:Menlo,'DejaVu Sans Mono',consolas,'Courier New',monospace\">Start:  9575   TT\n",
       "</pre>\n"
      ],
      "text/plain": [
       "Start:  9575   TT\n"
      ]
     },
     "metadata": {},
     "output_type": "display_data"
    },
    {
     "data": {
      "text/html": [
       "<pre style=\"white-space:pre;overflow-x:auto;line-height:normal;font-family:Menlo,'DejaVu Sans Mono',consolas,'Courier New',monospace\">Extra Ele Veto:  8236\n",
       "</pre>\n"
      ],
      "text/plain": [
       "Extra Ele Veto:  8236\n"
      ]
     },
     "metadata": {},
     "output_type": "display_data"
    },
    {
     "data": {
      "text/html": [
       "<pre style=\"white-space:pre;overflow-x:auto;line-height:normal;font-family:Menlo,'DejaVu Sans Mono',consolas,'Courier New',monospace\">Extra Mu Veto:  316\n",
       "</pre>\n"
      ],
      "text/plain": [
       "Extra Mu Veto:  316\n"
      ]
     },
     "metadata": {},
     "output_type": "display_data"
    },
    {
     "data": {
      "text/html": [
       "<pre style=\"white-space:pre;overflow-x:auto;line-height:normal;font-family:Menlo,'DejaVu Sans Mono',consolas,'Courier New',monospace\">BJet Veto:  64\n",
       "</pre>\n"
      ],
      "text/plain": [
       "BJet Veto:  64\n"
      ]
     },
     "metadata": {},
     "output_type": "display_data"
    },
    {
     "data": {
      "text/html": [
       "<pre style=\"white-space:pre;overflow-x:auto;line-height:normal;font-family:Menlo,'DejaVu Sans Mono',consolas,'Courier New',monospace\">Pairs:  96  Vector:  96\n",
       "</pre>\n"
      ],
      "text/plain": [
       "Pairs:  96  Vector:  96\n"
      ]
     },
     "metadata": {},
     "output_type": "display_data"
    },
    {
     "data": {
      "text/html": [
       "<pre style=\"white-space:pre;overflow-x:auto;line-height:normal;font-family:Menlo,'DejaVu Sans Mono',consolas,'Courier New',monospace\">[[], [True, True, True, False], [], [], ... [], [], [True, True, False, True]]\n",
       "</pre>\n"
      ],
      "text/plain": [
       "[[], [True, True, True, False], [], [], ... [], [], [True, True, False, True]]\n"
      ]
     },
     "metadata": {},
     "output_type": "display_data"
    },
    {
     "data": {
      "text/html": [
       "<pre style=\"white-space:pre;overflow-x:auto;line-height:normal;font-family:Menlo,'DejaVu Sans Mono',consolas,'Courier New',monospace\">Postcut: Pairs:  2  Vector:  2\n",
       "</pre>\n"
      ],
      "text/plain": [
       "Postcut: Pairs:  2  Vector:  2\n"
      ]
     },
     "metadata": {},
     "output_type": "display_data"
    },
    {
     "data": {
      "text/html": [
       "<pre style=\"white-space:pre;overflow-x:auto;line-height:normal;font-family:Menlo,'DejaVu Sans Mono',consolas,'Courier New',monospace\">[[], [False], [], [], [], [], [], [], [], ... [], [], [], [], [], [], [], [], []]\n",
       "</pre>\n"
      ],
      "text/plain": [
       "[[], [False], [], [], [], [], [], [], [], ... [], [], [], [], [], [], [], [], []]\n"
      ]
     },
     "metadata": {},
     "output_type": "display_data"
    },
    {
     "data": {
      "text/html": [
       "<pre style=\"white-space:pre;overflow-x:auto;line-height:normal;font-family:Menlo,'DejaVu Sans Mono',consolas,'Courier New',monospace\">[[], [{tau: {pt: 40, eta: 0.183, phi: -2.42, mass: 1.44}, ... [], [], [], [], []]\n",
       "</pre>\n"
      ],
      "text/plain": [
       "[[], [{tau: {pt: 40, eta: 0.183, phi: -2.42, mass: 1.44}, ... [], [], [], [], []]\n"
      ]
     },
     "metadata": {},
     "output_type": "display_data"
    },
    {
     "data": {
      "text/html": [
       "<pre style=\"white-space:pre;overflow-x:auto;line-height:normal;font-family:Menlo,'DejaVu Sans Mono',consolas,'Courier New',monospace\">Start:  9641   TT\n",
       "</pre>\n"
      ],
      "text/plain": [
       "Start:  9641   TT\n"
      ]
     },
     "metadata": {},
     "output_type": "display_data"
    },
    {
     "data": {
      "text/html": [
       "<pre style=\"white-space:pre;overflow-x:auto;line-height:normal;font-family:Menlo,'DejaVu Sans Mono',consolas,'Courier New',monospace\">Extra Ele Veto:  8275\n",
       "</pre>\n"
      ],
      "text/plain": [
       "Extra Ele Veto:  8275\n"
      ]
     },
     "metadata": {},
     "output_type": "display_data"
    },
    {
     "data": {
      "text/html": [
       "<pre style=\"white-space:pre;overflow-x:auto;line-height:normal;font-family:Menlo,'DejaVu Sans Mono',consolas,'Courier New',monospace\">Extra Mu Veto:  300\n",
       "</pre>\n"
      ],
      "text/plain": [
       "Extra Mu Veto:  300\n"
      ]
     },
     "metadata": {},
     "output_type": "display_data"
    },
    {
     "data": {
      "text/html": [
       "<pre style=\"white-space:pre;overflow-x:auto;line-height:normal;font-family:Menlo,'DejaVu Sans Mono',consolas,'Courier New',monospace\">BJet Veto:  69\n",
       "</pre>\n"
      ],
      "text/plain": [
       "BJet Veto:  69\n"
      ]
     },
     "metadata": {},
     "output_type": "display_data"
    },
    {
     "data": {
      "text/html": [
       "<pre style=\"white-space:pre;overflow-x:auto;line-height:normal;font-family:Menlo,'DejaVu Sans Mono',consolas,'Courier New',monospace\">Pairs:  142  Vector:  142\n",
       "</pre>\n"
      ],
      "text/plain": [
       "Pairs:  142  Vector:  142\n"
      ]
     },
     "metadata": {},
     "output_type": "display_data"
    },
    {
     "data": {
      "text/html": [
       "<pre style=\"white-space:pre;overflow-x:auto;line-height:normal;font-family:Menlo,'DejaVu Sans Mono',consolas,'Courier New',monospace\">[[True], [True, True, True, True], ... [False, False, False], [True, False]]\n",
       "</pre>\n"
      ],
      "text/plain": [
       "[[True], [True, True, True, True], ... [False, False, False], [True, False]]\n"
      ]
     },
     "metadata": {},
     "output_type": "display_data"
    },
    {
     "data": {
      "text/html": [
       "<pre style=\"white-space:pre;overflow-x:auto;line-height:normal;font-family:Menlo,'DejaVu Sans Mono',consolas,'Courier New',monospace\">Postcut: Pairs:  1  Vector:  1\n",
       "</pre>\n"
      ],
      "text/plain": [
       "Postcut: Pairs:  1  Vector:  1\n"
      ]
     },
     "metadata": {},
     "output_type": "display_data"
    },
    {
     "data": {
      "text/html": [
       "<pre style=\"white-space:pre;overflow-x:auto;line-height:normal;font-family:Menlo,'DejaVu Sans Mono',consolas,'Courier New',monospace\">[[], [], [], [], [], [], [], [], [], [], ... [], [], [], [], [], [], [], [], [], []]\n",
       "</pre>\n"
      ],
      "text/plain": [
       "[[], [], [], [], [], [], [], [], [], [], ... [], [], [], [], [], [], [], [], [], []]\n"
      ]
     },
     "metadata": {},
     "output_type": "display_data"
    },
    {
     "data": {
      "text/html": [
       "<pre style=\"white-space:pre;overflow-x:auto;line-height:normal;font-family:Menlo,'DejaVu Sans Mono',consolas,'Courier New',monospace\">[[], [], [], [], [], [], [], [], [], [], ... [], [], [], [], [], [], [], [], [], []]\n",
       "</pre>\n"
      ],
      "text/plain": [
       "[[], [], [], [], [], [], [], [], [], [], ... [], [], [], [], [], [], [], [], [], []]\n"
      ]
     },
     "metadata": {},
     "output_type": "display_data"
    },
    {
     "data": {
      "text/html": [
       "<pre style=\"white-space:pre;overflow-x:auto;line-height:normal;font-family:Menlo,'DejaVu Sans Mono',consolas,'Courier New',monospace\">Start:  9474   TT\n",
       "</pre>\n"
      ],
      "text/plain": [
       "Start:  9474   TT\n"
      ]
     },
     "metadata": {},
     "output_type": "display_data"
    },
    {
     "data": {
      "text/html": [
       "<pre style=\"white-space:pre;overflow-x:auto;line-height:normal;font-family:Menlo,'DejaVu Sans Mono',consolas,'Courier New',monospace\">Extra Ele Veto:  8081\n",
       "</pre>\n"
      ],
      "text/plain": [
       "Extra Ele Veto:  8081\n"
      ]
     },
     "metadata": {},
     "output_type": "display_data"
    },
    {
     "data": {
      "text/html": [
       "<pre style=\"white-space:pre;overflow-x:auto;line-height:normal;font-family:Menlo,'DejaVu Sans Mono',consolas,'Courier New',monospace\">Extra Mu Veto:  282\n",
       "</pre>\n"
      ],
      "text/plain": [
       "Extra Mu Veto:  282\n"
      ]
     },
     "metadata": {},
     "output_type": "display_data"
    },
    {
     "data": {
      "text/html": [
       "<pre style=\"white-space:pre;overflow-x:auto;line-height:normal;font-family:Menlo,'DejaVu Sans Mono',consolas,'Courier New',monospace\">BJet Veto:  36\n",
       "</pre>\n"
      ],
      "text/plain": [
       "BJet Veto:  36\n"
      ]
     },
     "metadata": {},
     "output_type": "display_data"
    },
    {
     "data": {
      "text/html": [
       "<pre style=\"white-space:pre;overflow-x:auto;line-height:normal;font-family:Menlo,'DejaVu Sans Mono',consolas,'Courier New',monospace\">Pairs:  89  Vector:  89\n",
       "</pre>\n"
      ],
      "text/plain": [
       "Pairs:  89  Vector:  89\n"
      ]
     },
     "metadata": {},
     "output_type": "display_data"
    },
    {
     "data": {
      "text/html": [
       "<pre style=\"white-space:pre;overflow-x:auto;line-height:normal;font-family:Menlo,'DejaVu Sans Mono',consolas,'Courier New',monospace\">[[], [True, True, False], [True, True], ... [], [], [True, False, True, True], []]\n",
       "</pre>\n"
      ],
      "text/plain": [
       "[[], [True, True, False], [True, True], ... [], [], [True, False, True, True], []]\n"
      ]
     },
     "metadata": {},
     "output_type": "display_data"
    },
    {
     "data": {
      "text/html": [
       "<pre style=\"white-space:pre;overflow-x:auto;line-height:normal;font-family:Menlo,'DejaVu Sans Mono',consolas,'Courier New',monospace\">Postcut: Pairs:  2  Vector:  2\n",
       "</pre>\n"
      ],
      "text/plain": [
       "Postcut: Pairs:  2  Vector:  2\n"
      ]
     },
     "metadata": {},
     "output_type": "display_data"
    },
    {
     "data": {
      "text/html": [
       "<pre style=\"white-space:pre;overflow-x:auto;line-height:normal;font-family:Menlo,'DejaVu Sans Mono',consolas,'Courier New',monospace\">[[], [], [], [], [], [], [], [], [], [], ... [], [], [], [], [], [], [], [], [], []]\n",
       "</pre>\n"
      ],
      "text/plain": [
       "[[], [], [], [], [], [], [], [], [], [], ... [], [], [], [], [], [], [], [], [], []]\n"
      ]
     },
     "metadata": {},
     "output_type": "display_data"
    },
    {
     "data": {
      "text/html": [
       "<pre style=\"white-space:pre;overflow-x:auto;line-height:normal;font-family:Menlo,'DejaVu Sans Mono',consolas,'Courier New',monospace\">[[], [], [], [], [], [], [], [], [], [], ... [], [], [], [], [], [], [], [], [], []]\n",
       "</pre>\n"
      ],
      "text/plain": [
       "[[], [], [], [], [], [], [], [], [], [], ... [], [], [], [], [], [], [], [], [], []]\n"
      ]
     },
     "metadata": {},
     "output_type": "display_data"
    },
    {
     "data": {
      "text/html": [
       "<pre style=\"white-space:pre;overflow-x:auto;line-height:normal;font-family:Menlo,'DejaVu Sans Mono',consolas,'Courier New',monospace\">Start:  9626   TT\n",
       "</pre>\n"
      ],
      "text/plain": [
       "Start:  9626   TT\n"
      ]
     },
     "metadata": {},
     "output_type": "display_data"
    },
    {
     "data": {
      "text/html": [
       "<pre style=\"white-space:pre;overflow-x:auto;line-height:normal;font-family:Menlo,'DejaVu Sans Mono',consolas,'Courier New',monospace\">Extra Ele Veto:  8185\n",
       "</pre>\n"
      ],
      "text/plain": [
       "Extra Ele Veto:  8185\n"
      ]
     },
     "metadata": {},
     "output_type": "display_data"
    },
    {
     "data": {
      "text/html": [
       "<pre style=\"white-space:pre;overflow-x:auto;line-height:normal;font-family:Menlo,'DejaVu Sans Mono',consolas,'Courier New',monospace\">Extra Mu Veto:  313\n",
       "</pre>\n"
      ],
      "text/plain": [
       "Extra Mu Veto:  313\n"
      ]
     },
     "metadata": {},
     "output_type": "display_data"
    },
    {
     "data": {
      "text/html": [
       "<pre style=\"white-space:pre;overflow-x:auto;line-height:normal;font-family:Menlo,'DejaVu Sans Mono',consolas,'Courier New',monospace\">BJet Veto:  65\n",
       "</pre>\n"
      ],
      "text/plain": [
       "BJet Veto:  65\n"
      ]
     },
     "metadata": {},
     "output_type": "display_data"
    },
    {
     "data": {
      "text/html": [
       "<pre style=\"white-space:pre;overflow-x:auto;line-height:normal;font-family:Menlo,'DejaVu Sans Mono',consolas,'Courier New',monospace\">Pairs:  133  Vector:  133\n",
       "</pre>\n"
      ],
      "text/plain": [
       "Pairs:  133  Vector:  133\n"
      ]
     },
     "metadata": {},
     "output_type": "display_data"
    },
    {
     "data": {
      "text/html": [
       "<pre style=\"white-space:pre;overflow-x:auto;line-height:normal;font-family:Menlo,'DejaVu Sans Mono',consolas,'Courier New',monospace\">[[], [True, True], [True, True], ... [True, True], [True, True, False, False]]\n",
       "</pre>\n"
      ],
      "text/plain": [
       "[[], [True, True], [True, True], ... [True, True], [True, True, False, False]]\n"
      ]
     },
     "metadata": {},
     "output_type": "display_data"
    },
    {
     "data": {
      "text/html": [
       "<pre style=\"white-space:pre;overflow-x:auto;line-height:normal;font-family:Menlo,'DejaVu Sans Mono',consolas,'Courier New',monospace\">0\n",
       "</pre>\n"
      ],
      "text/plain": [
       "0\n"
      ]
     },
     "metadata": {},
     "output_type": "display_data"
    },
    {
     "data": {
      "text/html": [
       "<pre style=\"white-space:pre;overflow-x:auto;line-height:normal;font-family:Menlo,'DejaVu Sans Mono',consolas,'Courier New',monospace\">Start:  9663   TT\n",
       "</pre>\n"
      ],
      "text/plain": [
       "Start:  9663   TT\n"
      ]
     },
     "metadata": {},
     "output_type": "display_data"
    },
    {
     "data": {
      "text/html": [
       "<pre style=\"white-space:pre;overflow-x:auto;line-height:normal;font-family:Menlo,'DejaVu Sans Mono',consolas,'Courier New',monospace\">Extra Ele Veto:  8337\n",
       "</pre>\n"
      ],
      "text/plain": [
       "Extra Ele Veto:  8337\n"
      ]
     },
     "metadata": {},
     "output_type": "display_data"
    },
    {
     "data": {
      "text/html": [
       "<pre style=\"white-space:pre;overflow-x:auto;line-height:normal;font-family:Menlo,'DejaVu Sans Mono',consolas,'Courier New',monospace\">Extra Mu Veto:  299\n",
       "</pre>\n"
      ],
      "text/plain": [
       "Extra Mu Veto:  299\n"
      ]
     },
     "metadata": {},
     "output_type": "display_data"
    },
    {
     "data": {
      "text/html": [
       "<pre style=\"white-space:pre;overflow-x:auto;line-height:normal;font-family:Menlo,'DejaVu Sans Mono',consolas,'Courier New',monospace\">BJet Veto:  45\n",
       "</pre>\n"
      ],
      "text/plain": [
       "BJet Veto:  45\n"
      ]
     },
     "metadata": {},
     "output_type": "display_data"
    },
    {
     "data": {
      "text/html": [
       "<pre style=\"white-space:pre;overflow-x:auto;line-height:normal;font-family:Menlo,'DejaVu Sans Mono',consolas,'Courier New',monospace\">Pairs:  91  Vector:  91\n",
       "</pre>\n"
      ],
      "text/plain": [
       "Pairs:  91  Vector:  91\n"
      ]
     },
     "metadata": {},
     "output_type": "display_data"
    },
    {
     "data": {
      "text/html": [
       "<pre style=\"white-space:pre;overflow-x:auto;line-height:normal;font-family:Menlo,'DejaVu Sans Mono',consolas,'Courier New',monospace\">[[False], [], [], [], [False, False, True], ... [True, True], [], [], [], [], []]\n",
       "</pre>\n"
      ],
      "text/plain": [
       "[[False], [], [], [], [False, False, True], ... [True, True], [], [], [], [], []]\n"
      ]
     },
     "metadata": {},
     "output_type": "display_data"
    },
    {
     "data": {
      "text/html": [
       "<pre style=\"white-space:pre;overflow-x:auto;line-height:normal;font-family:Menlo,'DejaVu Sans Mono',consolas,'Courier New',monospace\">Postcut: Pairs:  1  Vector:  1\n",
       "</pre>\n"
      ],
      "text/plain": [
       "Postcut: Pairs:  1  Vector:  1\n"
      ]
     },
     "metadata": {},
     "output_type": "display_data"
    },
    {
     "data": {
      "text/html": [
       "<pre style=\"white-space:pre;overflow-x:auto;line-height:normal;font-family:Menlo,'DejaVu Sans Mono',consolas,'Courier New',monospace\">[[], [], [], [], [], [], [], [], [], [], ... [], [], [], [], [], [], [], [], [], []]\n",
       "</pre>\n"
      ],
      "text/plain": [
       "[[], [], [], [], [], [], [], [], [], [], ... [], [], [], [], [], [], [], [], [], []]\n"
      ]
     },
     "metadata": {},
     "output_type": "display_data"
    },
    {
     "data": {
      "text/html": [
       "<pre style=\"white-space:pre;overflow-x:auto;line-height:normal;font-family:Menlo,'DejaVu Sans Mono',consolas,'Courier New',monospace\">[[], [], [], [], [], [], [], [], [], [], ... [], [], [], [], [], [], [], [], [], []]\n",
       "</pre>\n"
      ],
      "text/plain": [
       "[[], [], [], [], [], [], [], [], [], [], ... [], [], [], [], [], [], [], [], [], []]\n"
      ]
     },
     "metadata": {},
     "output_type": "display_data"
    },
    {
     "data": {
      "text/html": [
       "<pre style=\"white-space:pre;overflow-x:auto;line-height:normal;font-family:Menlo,'DejaVu Sans Mono',consolas,'Courier New',monospace\">Start:  9603   TT\n",
       "</pre>\n"
      ],
      "text/plain": [
       "Start:  9603   TT\n"
      ]
     },
     "metadata": {},
     "output_type": "display_data"
    },
    {
     "data": {
      "text/html": [
       "<pre style=\"white-space:pre;overflow-x:auto;line-height:normal;font-family:Menlo,'DejaVu Sans Mono',consolas,'Courier New',monospace\">Extra Ele Veto:  8275\n",
       "</pre>\n"
      ],
      "text/plain": [
       "Extra Ele Veto:  8275\n"
      ]
     },
     "metadata": {},
     "output_type": "display_data"
    },
    {
     "data": {
      "text/html": [
       "<pre style=\"white-space:pre;overflow-x:auto;line-height:normal;font-family:Menlo,'DejaVu Sans Mono',consolas,'Courier New',monospace\">Extra Mu Veto:  325\n",
       "</pre>\n"
      ],
      "text/plain": [
       "Extra Mu Veto:  325\n"
      ]
     },
     "metadata": {},
     "output_type": "display_data"
    },
    {
     "data": {
      "text/html": [
       "<pre style=\"white-space:pre;overflow-x:auto;line-height:normal;font-family:Menlo,'DejaVu Sans Mono',consolas,'Courier New',monospace\">BJet Veto:  70\n",
       "</pre>\n"
      ],
      "text/plain": [
       "BJet Veto:  70\n"
      ]
     },
     "metadata": {},
     "output_type": "display_data"
    },
    {
     "data": {
      "text/html": [
       "<pre style=\"white-space:pre;overflow-x:auto;line-height:normal;font-family:Menlo,'DejaVu Sans Mono',consolas,'Courier New',monospace\">Pairs:  118  Vector:  118\n",
       "</pre>\n"
      ],
      "text/plain": [
       "Pairs:  118  Vector:  118\n"
      ]
     },
     "metadata": {},
     "output_type": "display_data"
    },
    {
     "data": {
      "text/html": [
       "<pre style=\"white-space:pre;overflow-x:auto;line-height:normal;font-family:Menlo,'DejaVu Sans Mono',consolas,'Courier New',monospace\">[[True, False, False], [True], [], [], [], ... [], [], [], [], [], [], [True]]\n",
       "</pre>\n"
      ],
      "text/plain": [
       "[[True, False, False], [True], [], [], [], ... [], [], [], [], [], [], [True]]\n"
      ]
     },
     "metadata": {},
     "output_type": "display_data"
    },
    {
     "data": {
      "text/html": [
       "<pre style=\"white-space:pre;overflow-x:auto;line-height:normal;font-family:Menlo,'DejaVu Sans Mono',consolas,'Courier New',monospace\">Postcut: Pairs:  2  Vector:  2\n",
       "</pre>\n"
      ],
      "text/plain": [
       "Postcut: Pairs:  2  Vector:  2\n"
      ]
     },
     "metadata": {},
     "output_type": "display_data"
    },
    {
     "data": {
      "text/html": [
       "<pre style=\"white-space:pre;overflow-x:auto;line-height:normal;font-family:Menlo,'DejaVu Sans Mono',consolas,'Courier New',monospace\">[[], [], [], [], [], [], [], [], [], [], ... [False], [], [], [], [], [], [], [], []]\n",
       "</pre>\n"
      ],
      "text/plain": [
       "[[], [], [], [], [], [], [], [], [], [], ... [False], [], [], [], [], [], [], [], []]\n"
      ]
     },
     "metadata": {},
     "output_type": "display_data"
    },
    {
     "data": {
      "text/html": [
       "<pre style=\"white-space:pre;overflow-x:auto;line-height:normal;font-family:Menlo,'DejaVu Sans Mono',consolas,'Courier New',monospace\">[[], [], [], [], [], [], [], [], [], [], ... [], [], [], [], [], [], [], []]\n",
       "</pre>\n"
      ],
      "text/plain": [
       "[[], [], [], [], [], [], [], [], [], [], ... [], [], [], [], [], [], [], []]\n"
      ]
     },
     "metadata": {},
     "output_type": "display_data"
    },
    {
     "data": {
      "text/html": [
       "<pre style=\"white-space:pre;overflow-x:auto;line-height:normal;font-family:Menlo,'DejaVu Sans Mono',consolas,'Courier New',monospace\">Start:  9595   TT\n",
       "</pre>\n"
      ],
      "text/plain": [
       "Start:  9595   TT\n"
      ]
     },
     "metadata": {},
     "output_type": "display_data"
    },
    {
     "data": {
      "text/html": [
       "<pre style=\"white-space:pre;overflow-x:auto;line-height:normal;font-family:Menlo,'DejaVu Sans Mono',consolas,'Courier New',monospace\">Extra Ele Veto:  8186\n",
       "</pre>\n"
      ],
      "text/plain": [
       "Extra Ele Veto:  8186\n"
      ]
     },
     "metadata": {},
     "output_type": "display_data"
    },
    {
     "data": {
      "text/html": [
       "<pre style=\"white-space:pre;overflow-x:auto;line-height:normal;font-family:Menlo,'DejaVu Sans Mono',consolas,'Courier New',monospace\">Extra Mu Veto:  293\n",
       "</pre>\n"
      ],
      "text/plain": [
       "Extra Mu Veto:  293\n"
      ]
     },
     "metadata": {},
     "output_type": "display_data"
    },
    {
     "data": {
      "text/html": [
       "<pre style=\"white-space:pre;overflow-x:auto;line-height:normal;font-family:Menlo,'DejaVu Sans Mono',consolas,'Courier New',monospace\">BJet Veto:  55\n",
       "</pre>\n"
      ],
      "text/plain": [
       "BJet Veto:  55\n"
      ]
     },
     "metadata": {},
     "output_type": "display_data"
    },
    {
     "data": {
      "text/html": [
       "<pre style=\"white-space:pre;overflow-x:auto;line-height:normal;font-family:Menlo,'DejaVu Sans Mono',consolas,'Courier New',monospace\">Pairs:  109  Vector:  109\n",
       "</pre>\n"
      ],
      "text/plain": [
       "Pairs:  109  Vector:  109\n"
      ]
     },
     "metadata": {},
     "output_type": "display_data"
    },
    {
     "data": {
      "text/html": [
       "<pre style=\"white-space:pre;overflow-x:auto;line-height:normal;font-family:Menlo,'DejaVu Sans Mono',consolas,'Courier New',monospace\">[[False], [], [], [], [], ... False, True, False, False, False, True], [True, True]]\n",
       "</pre>\n"
      ],
      "text/plain": [
       "[[False], [], [], [], [], ... False, True, False, False, False, True], [True, True]]\n"
      ]
     },
     "metadata": {},
     "output_type": "display_data"
    },
    {
     "data": {
      "text/html": [
       "<pre style=\"white-space:pre;overflow-x:auto;line-height:normal;font-family:Menlo,'DejaVu Sans Mono',consolas,'Courier New',monospace\">Postcut: Pairs:  1  Vector:  1\n",
       "</pre>\n"
      ],
      "text/plain": [
       "Postcut: Pairs:  1  Vector:  1\n"
      ]
     },
     "metadata": {},
     "output_type": "display_data"
    },
    {
     "data": {
      "text/html": [
       "<pre style=\"white-space:pre;overflow-x:auto;line-height:normal;font-family:Menlo,'DejaVu Sans Mono',consolas,'Courier New',monospace\">[[], [], [], [], [], [], [], [], [], [], ... [], [], [], [], [], [], [], [], [], []]\n",
       "</pre>\n"
      ],
      "text/plain": [
       "[[], [], [], [], [], [], [], [], [], [], ... [], [], [], [], [], [], [], [], [], []]\n"
      ]
     },
     "metadata": {},
     "output_type": "display_data"
    },
    {
     "data": {
      "text/html": [
       "<pre style=\"white-space:pre;overflow-x:auto;line-height:normal;font-family:Menlo,'DejaVu Sans Mono',consolas,'Courier New',monospace\">[[], [], [], [], [], [], [], [], [], [], ... [], [], [], [], [], [], [], [], [], []]\n",
       "</pre>\n"
      ],
      "text/plain": [
       "[[], [], [], [], [], [], [], [], [], [], ... [], [], [], [], [], [], [], [], [], []]\n"
      ]
     },
     "metadata": {},
     "output_type": "display_data"
    },
    {
     "data": {
      "text/html": [
       "<pre style=\"white-space:pre;overflow-x:auto;line-height:normal;font-family:Menlo,'DejaVu Sans Mono',consolas,'Courier New',monospace\">Start:  9500   TT\n",
       "</pre>\n"
      ],
      "text/plain": [
       "Start:  9500   TT\n"
      ]
     },
     "metadata": {},
     "output_type": "display_data"
    },
    {
     "data": {
      "text/html": [
       "<pre style=\"white-space:pre;overflow-x:auto;line-height:normal;font-family:Menlo,'DejaVu Sans Mono',consolas,'Courier New',monospace\">Extra Ele Veto:  8121\n",
       "</pre>\n"
      ],
      "text/plain": [
       "Extra Ele Veto:  8121\n"
      ]
     },
     "metadata": {},
     "output_type": "display_data"
    },
    {
     "data": {
      "text/html": [
       "<pre style=\"white-space:pre;overflow-x:auto;line-height:normal;font-family:Menlo,'DejaVu Sans Mono',consolas,'Courier New',monospace\">Extra Mu Veto:  324\n",
       "</pre>\n"
      ],
      "text/plain": [
       "Extra Mu Veto:  324\n"
      ]
     },
     "metadata": {},
     "output_type": "display_data"
    },
    {
     "data": {
      "text/html": [
       "<pre style=\"white-space:pre;overflow-x:auto;line-height:normal;font-family:Menlo,'DejaVu Sans Mono',consolas,'Courier New',monospace\">BJet Veto:  54\n",
       "</pre>\n"
      ],
      "text/plain": [
       "BJet Veto:  54\n"
      ]
     },
     "metadata": {},
     "output_type": "display_data"
    },
    {
     "data": {
      "text/html": [
       "<pre style=\"white-space:pre;overflow-x:auto;line-height:normal;font-family:Menlo,'DejaVu Sans Mono',consolas,'Courier New',monospace\">Pairs:  101  Vector:  101\n",
       "</pre>\n"
      ],
      "text/plain": [
       "Pairs:  101  Vector:  101\n"
      ]
     },
     "metadata": {},
     "output_type": "display_data"
    },
    {
     "data": {
      "text/html": [
       "<pre style=\"white-space:pre;overflow-x:auto;line-height:normal;font-family:Menlo,'DejaVu Sans Mono',consolas,'Courier New',monospace\">[[], [True, True, True, True, True, True, ... [True, False], [True, False, True]]\n",
       "</pre>\n"
      ],
      "text/plain": [
       "[[], [True, True, True, True, True, True, ... [True, False], [True, False, True]]\n"
      ]
     },
     "metadata": {},
     "output_type": "display_data"
    },
    {
     "data": {
      "text/html": [
       "<pre style=\"white-space:pre;overflow-x:auto;line-height:normal;font-family:Menlo,'DejaVu Sans Mono',consolas,'Courier New',monospace\">Postcut: Pairs:  1  Vector:  1\n",
       "</pre>\n"
      ],
      "text/plain": [
       "Postcut: Pairs:  1  Vector:  1\n"
      ]
     },
     "metadata": {},
     "output_type": "display_data"
    },
    {
     "data": {
      "text/html": [
       "<pre style=\"white-space:pre;overflow-x:auto;line-height:normal;font-family:Menlo,'DejaVu Sans Mono',consolas,'Courier New',monospace\">[[], [], [], [], [], [], [], [], [], [], ... [], [], [], [], [], [], [], [], [], []]\n",
       "</pre>\n"
      ],
      "text/plain": [
       "[[], [], [], [], [], [], [], [], [], [], ... [], [], [], [], [], [], [], [], [], []]\n"
      ]
     },
     "metadata": {},
     "output_type": "display_data"
    },
    {
     "data": {
      "text/html": [
       "<pre style=\"white-space:pre;overflow-x:auto;line-height:normal;font-family:Menlo,'DejaVu Sans Mono',consolas,'Courier New',monospace\">[[], [], [], [], [], [], [], [], [], [], ... [], [], [], [], [], [], [], [], [], []]\n",
       "</pre>\n"
      ],
      "text/plain": [
       "[[], [], [], [], [], [], [], [], [], [], ... [], [], [], [], [], [], [], [], [], []]\n"
      ]
     },
     "metadata": {},
     "output_type": "display_data"
    },
    {
     "data": {
      "text/html": [
       "<pre style=\"white-space:pre;overflow-x:auto;line-height:normal;font-family:Menlo,'DejaVu Sans Mono',consolas,'Courier New',monospace\">Start:  9622   TT\n",
       "</pre>\n"
      ],
      "text/plain": [
       "Start:  9622   TT\n"
      ]
     },
     "metadata": {},
     "output_type": "display_data"
    },
    {
     "data": {
      "text/html": [
       "<pre style=\"white-space:pre;overflow-x:auto;line-height:normal;font-family:Menlo,'DejaVu Sans Mono',consolas,'Courier New',monospace\">Extra Ele Veto:  8157\n",
       "</pre>\n"
      ],
      "text/plain": [
       "Extra Ele Veto:  8157\n"
      ]
     },
     "metadata": {},
     "output_type": "display_data"
    },
    {
     "data": {
      "text/html": [
       "<pre style=\"white-space:pre;overflow-x:auto;line-height:normal;font-family:Menlo,'DejaVu Sans Mono',consolas,'Courier New',monospace\">Extra Mu Veto:  323\n",
       "</pre>\n"
      ],
      "text/plain": [
       "Extra Mu Veto:  323\n"
      ]
     },
     "metadata": {},
     "output_type": "display_data"
    },
    {
     "data": {
      "text/html": [
       "<pre style=\"white-space:pre;overflow-x:auto;line-height:normal;font-family:Menlo,'DejaVu Sans Mono',consolas,'Courier New',monospace\">BJet Veto:  50\n",
       "</pre>\n"
      ],
      "text/plain": [
       "BJet Veto:  50\n"
      ]
     },
     "metadata": {},
     "output_type": "display_data"
    },
    {
     "data": {
      "text/html": [
       "<pre style=\"white-space:pre;overflow-x:auto;line-height:normal;font-family:Menlo,'DejaVu Sans Mono',consolas,'Courier New',monospace\">Pairs:  95  Vector:  95\n",
       "</pre>\n"
      ],
      "text/plain": [
       "Pairs:  95  Vector:  95\n"
      ]
     },
     "metadata": {},
     "output_type": "display_data"
    },
    {
     "data": {
      "text/html": [
       "<pre style=\"white-space:pre;overflow-x:auto;line-height:normal;font-family:Menlo,'DejaVu Sans Mono',consolas,'Courier New',monospace\">[[], [True, True, False, True], [], [], ... [True, False, True], [], [], []]\n",
       "</pre>\n"
      ],
      "text/plain": [
       "[[], [True, True, False, True], [], [], ... [True, False, True], [], [], []]\n"
      ]
     },
     "metadata": {},
     "output_type": "display_data"
    },
    {
     "data": {
      "text/html": [
       "<pre style=\"white-space:pre;overflow-x:auto;line-height:normal;font-family:Menlo,'DejaVu Sans Mono',consolas,'Courier New',monospace\">0\n",
       "</pre>\n"
      ],
      "text/plain": [
       "0\n"
      ]
     },
     "metadata": {},
     "output_type": "display_data"
    },
    {
     "data": {
      "text/html": [
       "<pre style=\"white-space:pre;overflow-x:auto;line-height:normal;font-family:Menlo,'DejaVu Sans Mono',consolas,'Courier New',monospace\">Start:  9644   TT\n",
       "</pre>\n"
      ],
      "text/plain": [
       "Start:  9644   TT\n"
      ]
     },
     "metadata": {},
     "output_type": "display_data"
    },
    {
     "data": {
      "text/html": [
       "<pre style=\"white-space:pre;overflow-x:auto;line-height:normal;font-family:Menlo,'DejaVu Sans Mono',consolas,'Courier New',monospace\">Extra Ele Veto:  8208\n",
       "</pre>\n"
      ],
      "text/plain": [
       "Extra Ele Veto:  8208\n"
      ]
     },
     "metadata": {},
     "output_type": "display_data"
    },
    {
     "data": {
      "text/html": [
       "<pre style=\"white-space:pre;overflow-x:auto;line-height:normal;font-family:Menlo,'DejaVu Sans Mono',consolas,'Courier New',monospace\">Extra Mu Veto:  307\n",
       "</pre>\n"
      ],
      "text/plain": [
       "Extra Mu Veto:  307\n"
      ]
     },
     "metadata": {},
     "output_type": "display_data"
    },
    {
     "data": {
      "text/html": [
       "<pre style=\"white-space:pre;overflow-x:auto;line-height:normal;font-family:Menlo,'DejaVu Sans Mono',consolas,'Courier New',monospace\">BJet Veto:  69\n",
       "</pre>\n"
      ],
      "text/plain": [
       "BJet Veto:  69\n"
      ]
     },
     "metadata": {},
     "output_type": "display_data"
    },
    {
     "data": {
      "text/html": [
       "<pre style=\"white-space:pre;overflow-x:auto;line-height:normal;font-family:Menlo,'DejaVu Sans Mono',consolas,'Courier New',monospace\">Pairs:  121  Vector:  121\n",
       "</pre>\n"
      ],
      "text/plain": [
       "Pairs:  121  Vector:  121\n"
      ]
     },
     "metadata": {},
     "output_type": "display_data"
    },
    {
     "data": {
      "text/html": [
       "<pre style=\"white-space:pre;overflow-x:auto;line-height:normal;font-family:Menlo,'DejaVu Sans Mono',consolas,'Courier New',monospace\">[[False, False], [False, True, True], [True, ... [True], [True, True], [False]]\n",
       "</pre>\n"
      ],
      "text/plain": [
       "[[False, False], [False, True, True], [True, ... [True], [True, True], [False]]\n"
      ]
     },
     "metadata": {},
     "output_type": "display_data"
    },
    {
     "data": {
      "text/html": [
       "<pre style=\"white-space:pre;overflow-x:auto;line-height:normal;font-family:Menlo,'DejaVu Sans Mono',consolas,'Courier New',monospace\">Postcut: Pairs:  1  Vector:  1\n",
       "</pre>\n"
      ],
      "text/plain": [
       "Postcut: Pairs:  1  Vector:  1\n"
      ]
     },
     "metadata": {},
     "output_type": "display_data"
    },
    {
     "data": {
      "text/html": [
       "<pre style=\"white-space:pre;overflow-x:auto;line-height:normal;font-family:Menlo,'DejaVu Sans Mono',consolas,'Courier New',monospace\">[[], [], [], [], [], [], [], [], [], [], ... [], [], [], [], [], [], [], [], [], []]\n",
       "</pre>\n"
      ],
      "text/plain": [
       "[[], [], [], [], [], [], [], [], [], [], ... [], [], [], [], [], [], [], [], [], []]\n"
      ]
     },
     "metadata": {},
     "output_type": "display_data"
    },
    {
     "data": {
      "text/html": [
       "<pre style=\"white-space:pre;overflow-x:auto;line-height:normal;font-family:Menlo,'DejaVu Sans Mono',consolas,'Courier New',monospace\">[[], [], [], [], [], [], [], [], [], [], ... [], [], [], [], [], [], [], [], [], []]\n",
       "</pre>\n"
      ],
      "text/plain": [
       "[[], [], [], [], [], [], [], [], [], [], ... [], [], [], [], [], [], [], [], [], []]\n"
      ]
     },
     "metadata": {},
     "output_type": "display_data"
    },
    {
     "data": {
      "text/html": [
       "<pre style=\"white-space:pre;overflow-x:auto;line-height:normal;font-family:Menlo,'DejaVu Sans Mono',consolas,'Courier New',monospace\">Start:  9579   TT\n",
       "</pre>\n"
      ],
      "text/plain": [
       "Start:  9579   TT\n"
      ]
     },
     "metadata": {},
     "output_type": "display_data"
    },
    {
     "data": {
      "text/html": [
       "<pre style=\"white-space:pre;overflow-x:auto;line-height:normal;font-family:Menlo,'DejaVu Sans Mono',consolas,'Courier New',monospace\">Extra Ele Veto:  8242\n",
       "</pre>\n"
      ],
      "text/plain": [
       "Extra Ele Veto:  8242\n"
      ]
     },
     "metadata": {},
     "output_type": "display_data"
    },
    {
     "data": {
      "text/html": [
       "<pre style=\"white-space:pre;overflow-x:auto;line-height:normal;font-family:Menlo,'DejaVu Sans Mono',consolas,'Courier New',monospace\">Extra Mu Veto:  340\n",
       "</pre>\n"
      ],
      "text/plain": [
       "Extra Mu Veto:  340\n"
      ]
     },
     "metadata": {},
     "output_type": "display_data"
    },
    {
     "data": {
      "text/html": [
       "<pre style=\"white-space:pre;overflow-x:auto;line-height:normal;font-family:Menlo,'DejaVu Sans Mono',consolas,'Courier New',monospace\">BJet Veto:  64\n",
       "</pre>\n"
      ],
      "text/plain": [
       "BJet Veto:  64\n"
      ]
     },
     "metadata": {},
     "output_type": "display_data"
    },
    {
     "data": {
      "text/html": [
       "<pre style=\"white-space:pre;overflow-x:auto;line-height:normal;font-family:Menlo,'DejaVu Sans Mono',consolas,'Courier New',monospace\">Pairs:  144  Vector:  144\n",
       "</pre>\n"
      ],
      "text/plain": [
       "Pairs:  144  Vector:  144\n"
      ]
     },
     "metadata": {},
     "output_type": "display_data"
    },
    {
     "data": {
      "text/html": [
       "<pre style=\"white-space:pre;overflow-x:auto;line-height:normal;font-family:Menlo,'DejaVu Sans Mono',consolas,'Courier New',monospace\">[[], [True, True, True], [], [], [], ... [False, True, True], [True, True], [], []]\n",
       "</pre>\n"
      ],
      "text/plain": [
       "[[], [True, True, True], [], [], [], ... [False, True, True], [True, True], [], []]\n"
      ]
     },
     "metadata": {},
     "output_type": "display_data"
    },
    {
     "data": {
      "text/html": [
       "<pre style=\"white-space:pre;overflow-x:auto;line-height:normal;font-family:Menlo,'DejaVu Sans Mono',consolas,'Courier New',monospace\">Postcut: Pairs:  4  Vector:  4\n",
       "</pre>\n"
      ],
      "text/plain": [
       "Postcut: Pairs:  4  Vector:  4\n"
      ]
     },
     "metadata": {},
     "output_type": "display_data"
    },
    {
     "data": {
      "text/html": [
       "<pre style=\"white-space:pre;overflow-x:auto;line-height:normal;font-family:Menlo,'DejaVu Sans Mono',consolas,'Courier New',monospace\">[[], [], [], [], [], [], [], [], [], [], ... [True], [], [], [], [], [], [], [], []]\n",
       "</pre>\n"
      ],
      "text/plain": [
       "[[], [], [], [], [], [], [], [], [], [], ... [True], [], [], [], [], [], [], [], []]\n"
      ]
     },
     "metadata": {},
     "output_type": "display_data"
    },
    {
     "data": {
      "text/html": [
       "<pre style=\"white-space:pre;overflow-x:auto;line-height:normal;font-family:Menlo,'DejaVu Sans Mono',consolas,'Courier New',monospace\">[[], [], [], [], [], [], [], [], [], [], ... [], [], [], [], [], [], [], []]\n",
       "</pre>\n"
      ],
      "text/plain": [
       "[[], [], [], [], [], [], [], [], [], [], ... [], [], [], [], [], [], [], []]\n"
      ]
     },
     "metadata": {},
     "output_type": "display_data"
    },
    {
     "data": {
      "text/html": [
       "<pre style=\"white-space:pre;overflow-x:auto;line-height:normal;font-family:Menlo,'DejaVu Sans Mono',consolas,'Courier New',monospace\">Start:  9480   TT\n",
       "</pre>\n"
      ],
      "text/plain": [
       "Start:  9480   TT\n"
      ]
     },
     "metadata": {},
     "output_type": "display_data"
    },
    {
     "data": {
      "text/html": [
       "<pre style=\"white-space:pre;overflow-x:auto;line-height:normal;font-family:Menlo,'DejaVu Sans Mono',consolas,'Courier New',monospace\">Extra Ele Veto:  8103\n",
       "</pre>\n"
      ],
      "text/plain": [
       "Extra Ele Veto:  8103\n"
      ]
     },
     "metadata": {},
     "output_type": "display_data"
    },
    {
     "data": {
      "text/html": [
       "<pre style=\"white-space:pre;overflow-x:auto;line-height:normal;font-family:Menlo,'DejaVu Sans Mono',consolas,'Courier New',monospace\">Extra Mu Veto:  297\n",
       "</pre>\n"
      ],
      "text/plain": [
       "Extra Mu Veto:  297\n"
      ]
     },
     "metadata": {},
     "output_type": "display_data"
    },
    {
     "data": {
      "text/html": [
       "<pre style=\"white-space:pre;overflow-x:auto;line-height:normal;font-family:Menlo,'DejaVu Sans Mono',consolas,'Courier New',monospace\">BJet Veto:  53\n",
       "</pre>\n"
      ],
      "text/plain": [
       "BJet Veto:  53\n"
      ]
     },
     "metadata": {},
     "output_type": "display_data"
    },
    {
     "data": {
      "text/html": [
       "<pre style=\"white-space:pre;overflow-x:auto;line-height:normal;font-family:Menlo,'DejaVu Sans Mono',consolas,'Courier New',monospace\">Pairs:  120  Vector:  120\n",
       "</pre>\n"
      ],
      "text/plain": [
       "Pairs:  120  Vector:  120\n"
      ]
     },
     "metadata": {},
     "output_type": "display_data"
    },
    {
     "data": {
      "text/html": [
       "<pre style=\"white-space:pre;overflow-x:auto;line-height:normal;font-family:Menlo,'DejaVu Sans Mono',consolas,'Courier New',monospace\">[[False, False], [], [], [], [True], ... False, True], [False, True], [True], []]\n",
       "</pre>\n"
      ],
      "text/plain": [
       "[[False, False], [], [], [], [True], ... False, True], [False, True], [True], []]\n"
      ]
     },
     "metadata": {},
     "output_type": "display_data"
    },
    {
     "data": {
      "text/html": [
       "<pre style=\"white-space:pre;overflow-x:auto;line-height:normal;font-family:Menlo,'DejaVu Sans Mono',consolas,'Courier New',monospace\">Postcut: Pairs:  3  Vector:  3\n",
       "</pre>\n"
      ],
      "text/plain": [
       "Postcut: Pairs:  3  Vector:  3\n"
      ]
     },
     "metadata": {},
     "output_type": "display_data"
    },
    {
     "data": {
      "text/html": [
       "<pre style=\"white-space:pre;overflow-x:auto;line-height:normal;font-family:Menlo,'DejaVu Sans Mono',consolas,'Courier New',monospace\">[[], [], [], [], [], [], [], [], [], [], ... [], [], [], [], [], [], [], [], [], []]\n",
       "</pre>\n"
      ],
      "text/plain": [
       "[[], [], [], [], [], [], [], [], [], [], ... [], [], [], [], [], [], [], [], [], []]\n"
      ]
     },
     "metadata": {},
     "output_type": "display_data"
    },
    {
     "data": {
      "text/html": [
       "<pre style=\"white-space:pre;overflow-x:auto;line-height:normal;font-family:Menlo,'DejaVu Sans Mono',consolas,'Courier New',monospace\">[[], [], [], [], [], [], [], [], [], [], ... [], [], [], [], [], [], [], [], [], []]\n",
       "</pre>\n"
      ],
      "text/plain": [
       "[[], [], [], [], [], [], [], [], [], [], ... [], [], [], [], [], [], [], [], [], []]\n"
      ]
     },
     "metadata": {},
     "output_type": "display_data"
    },
    {
     "data": {
      "text/html": [
       "<pre style=\"white-space:pre;overflow-x:auto;line-height:normal;font-family:Menlo,'DejaVu Sans Mono',consolas,'Courier New',monospace\">Start:  9404   TT\n",
       "</pre>\n"
      ],
      "text/plain": [
       "Start:  9404   TT\n"
      ]
     },
     "metadata": {},
     "output_type": "display_data"
    },
    {
     "data": {
      "text/html": [
       "<pre style=\"white-space:pre;overflow-x:auto;line-height:normal;font-family:Menlo,'DejaVu Sans Mono',consolas,'Courier New',monospace\">Extra Ele Veto:  7996\n",
       "</pre>\n"
      ],
      "text/plain": [
       "Extra Ele Veto:  7996\n"
      ]
     },
     "metadata": {},
     "output_type": "display_data"
    },
    {
     "data": {
      "text/html": [
       "<pre style=\"white-space:pre;overflow-x:auto;line-height:normal;font-family:Menlo,'DejaVu Sans Mono',consolas,'Courier New',monospace\">Extra Mu Veto:  293\n",
       "</pre>\n"
      ],
      "text/plain": [
       "Extra Mu Veto:  293\n"
      ]
     },
     "metadata": {},
     "output_type": "display_data"
    },
    {
     "data": {
      "text/html": [
       "<pre style=\"white-space:pre;overflow-x:auto;line-height:normal;font-family:Menlo,'DejaVu Sans Mono',consolas,'Courier New',monospace\">BJet Veto:  57\n",
       "</pre>\n"
      ],
      "text/plain": [
       "BJet Veto:  57\n"
      ]
     },
     "metadata": {},
     "output_type": "display_data"
    },
    {
     "data": {
      "text/html": [
       "<pre style=\"white-space:pre;overflow-x:auto;line-height:normal;font-family:Menlo,'DejaVu Sans Mono',consolas,'Courier New',monospace\">Pairs:  103  Vector:  103\n",
       "</pre>\n"
      ],
      "text/plain": [
       "Pairs:  103  Vector:  103\n"
      ]
     },
     "metadata": {},
     "output_type": "display_data"
    },
    {
     "data": {
      "text/html": [
       "<pre style=\"white-space:pre;overflow-x:auto;line-height:normal;font-family:Menlo,'DejaVu Sans Mono',consolas,'Courier New',monospace\">[[], [], [True, True, True, True], [], [], ... [], [True, False], [], [True], [True]]\n",
       "</pre>\n"
      ],
      "text/plain": [
       "[[], [], [True, True, True, True], [], [], ... [], [True, False], [], [True], [True]]\n"
      ]
     },
     "metadata": {},
     "output_type": "display_data"
    },
    {
     "data": {
      "text/html": [
       "<pre style=\"white-space:pre;overflow-x:auto;line-height:normal;font-family:Menlo,'DejaVu Sans Mono',consolas,'Courier New',monospace\">Postcut: Pairs:  1  Vector:  1\n",
       "</pre>\n"
      ],
      "text/plain": [
       "Postcut: Pairs:  1  Vector:  1\n"
      ]
     },
     "metadata": {},
     "output_type": "display_data"
    },
    {
     "data": {
      "text/html": [
       "<pre style=\"white-space:pre;overflow-x:auto;line-height:normal;font-family:Menlo,'DejaVu Sans Mono',consolas,'Courier New',monospace\">[[], [], [], [], [], [], [], [], [], [], ... [], [], [], [], [], [], [], [], [], []]\n",
       "</pre>\n"
      ],
      "text/plain": [
       "[[], [], [], [], [], [], [], [], [], [], ... [], [], [], [], [], [], [], [], [], []]\n"
      ]
     },
     "metadata": {},
     "output_type": "display_data"
    },
    {
     "data": {
      "text/html": [
       "<pre style=\"white-space:pre;overflow-x:auto;line-height:normal;font-family:Menlo,'DejaVu Sans Mono',consolas,'Courier New',monospace\">[[], [], [], [], [], [], [], [], [], [], ... [], [], [], [], [], [], [], [], [], []]\n",
       "</pre>\n"
      ],
      "text/plain": [
       "[[], [], [], [], [], [], [], [], [], [], ... [], [], [], [], [], [], [], [], [], []]\n"
      ]
     },
     "metadata": {},
     "output_type": "display_data"
    },
    {
     "data": {
      "text/html": [
       "<pre style=\"white-space:pre;overflow-x:auto;line-height:normal;font-family:Menlo,'DejaVu Sans Mono',consolas,'Courier New',monospace\">Start:  9527   TT\n",
       "</pre>\n"
      ],
      "text/plain": [
       "Start:  9527   TT\n"
      ]
     },
     "metadata": {},
     "output_type": "display_data"
    },
    {
     "data": {
      "text/html": [
       "<pre style=\"white-space:pre;overflow-x:auto;line-height:normal;font-family:Menlo,'DejaVu Sans Mono',consolas,'Courier New',monospace\">Extra Ele Veto:  8151\n",
       "</pre>\n"
      ],
      "text/plain": [
       "Extra Ele Veto:  8151\n"
      ]
     },
     "metadata": {},
     "output_type": "display_data"
    },
    {
     "data": {
      "text/html": [
       "<pre style=\"white-space:pre;overflow-x:auto;line-height:normal;font-family:Menlo,'DejaVu Sans Mono',consolas,'Courier New',monospace\">Extra Mu Veto:  300\n",
       "</pre>\n"
      ],
      "text/plain": [
       "Extra Mu Veto:  300\n"
      ]
     },
     "metadata": {},
     "output_type": "display_data"
    },
    {
     "data": {
      "text/html": [
       "<pre style=\"white-space:pre;overflow-x:auto;line-height:normal;font-family:Menlo,'DejaVu Sans Mono',consolas,'Courier New',monospace\">BJet Veto:  59\n",
       "</pre>\n"
      ],
      "text/plain": [
       "BJet Veto:  59\n"
      ]
     },
     "metadata": {},
     "output_type": "display_data"
    },
    {
     "data": {
      "text/html": [
       "<pre style=\"white-space:pre;overflow-x:auto;line-height:normal;font-family:Menlo,'DejaVu Sans Mono',consolas,'Courier New',monospace\">Pairs:  98  Vector:  98\n",
       "</pre>\n"
      ],
      "text/plain": [
       "Pairs:  98  Vector:  98\n"
      ]
     },
     "metadata": {},
     "output_type": "display_data"
    },
    {
     "data": {
      "text/html": [
       "<pre style=\"white-space:pre;overflow-x:auto;line-height:normal;font-family:Menlo,'DejaVu Sans Mono',consolas,'Courier New',monospace\">[[], [], [True, True, False], [], [], ... True], [False, True, True], [True], []]\n",
       "</pre>\n"
      ],
      "text/plain": [
       "[[], [], [True, True, False], [], [], ... True], [False, True, True], [True], []]\n"
      ]
     },
     "metadata": {},
     "output_type": "display_data"
    },
    {
     "data": {
      "text/html": [
       "<pre style=\"white-space:pre;overflow-x:auto;line-height:normal;font-family:Menlo,'DejaVu Sans Mono',consolas,'Courier New',monospace\">Postcut: Pairs:  3  Vector:  3\n",
       "</pre>\n"
      ],
      "text/plain": [
       "Postcut: Pairs:  3  Vector:  3\n"
      ]
     },
     "metadata": {},
     "output_type": "display_data"
    },
    {
     "data": {
      "text/html": [
       "<pre style=\"white-space:pre;overflow-x:auto;line-height:normal;font-family:Menlo,'DejaVu Sans Mono',consolas,'Courier New',monospace\">[[], [], [], [], [], [], [], [], [], [], ... [True], [], [], [], [], [], [], [], []]\n",
       "</pre>\n"
      ],
      "text/plain": [
       "[[], [], [], [], [], [], [], [], [], [], ... [True], [], [], [], [], [], [], [], []]\n"
      ]
     },
     "metadata": {},
     "output_type": "display_data"
    },
    {
     "data": {
      "text/html": [
       "<pre style=\"white-space:pre;overflow-x:auto;line-height:normal;font-family:Menlo,'DejaVu Sans Mono',consolas,'Courier New',monospace\">[[], [], [], [], [], [], [], [], [], [], ... [], [], [], [], [], [], [], []]\n",
       "</pre>\n"
      ],
      "text/plain": [
       "[[], [], [], [], [], [], [], [], [], [], ... [], [], [], [], [], [], [], []]\n"
      ]
     },
     "metadata": {},
     "output_type": "display_data"
    },
    {
     "data": {
      "text/html": [
       "<pre style=\"white-space:pre;overflow-x:auto;line-height:normal;font-family:Menlo,'DejaVu Sans Mono',consolas,'Courier New',monospace\">Start:  9581   TT\n",
       "</pre>\n"
      ],
      "text/plain": [
       "Start:  9581   TT\n"
      ]
     },
     "metadata": {},
     "output_type": "display_data"
    },
    {
     "data": {
      "text/html": [
       "<pre style=\"white-space:pre;overflow-x:auto;line-height:normal;font-family:Menlo,'DejaVu Sans Mono',consolas,'Courier New',monospace\">Extra Ele Veto:  8145\n",
       "</pre>\n"
      ],
      "text/plain": [
       "Extra Ele Veto:  8145\n"
      ]
     },
     "metadata": {},
     "output_type": "display_data"
    },
    {
     "data": {
      "text/html": [
       "<pre style=\"white-space:pre;overflow-x:auto;line-height:normal;font-family:Menlo,'DejaVu Sans Mono',consolas,'Courier New',monospace\">Extra Mu Veto:  360\n",
       "</pre>\n"
      ],
      "text/plain": [
       "Extra Mu Veto:  360\n"
      ]
     },
     "metadata": {},
     "output_type": "display_data"
    },
    {
     "data": {
      "text/html": [
       "<pre style=\"white-space:pre;overflow-x:auto;line-height:normal;font-family:Menlo,'DejaVu Sans Mono',consolas,'Courier New',monospace\">BJet Veto:  76\n",
       "</pre>\n"
      ],
      "text/plain": [
       "BJet Veto:  76\n"
      ]
     },
     "metadata": {},
     "output_type": "display_data"
    },
    {
     "data": {
      "text/html": [
       "<pre style=\"white-space:pre;overflow-x:auto;line-height:normal;font-family:Menlo,'DejaVu Sans Mono',consolas,'Courier New',monospace\">Pairs:  161  Vector:  161\n",
       "</pre>\n"
      ],
      "text/plain": [
       "Pairs:  161  Vector:  161\n"
      ]
     },
     "metadata": {},
     "output_type": "display_data"
    },
    {
     "data": {
      "text/html": [
       "<pre style=\"white-space:pre;overflow-x:auto;line-height:normal;font-family:Menlo,'DejaVu Sans Mono',consolas,'Courier New',monospace\">[[False], [], [], [True, False, False], ... [], [False, False, True, True], []]\n",
       "</pre>\n"
      ],
      "text/plain": [
       "[[False], [], [], [True, False, False], ... [], [False, False, True, True], []]\n"
      ]
     },
     "metadata": {},
     "output_type": "display_data"
    },
    {
     "data": {
      "text/html": [
       "<pre style=\"white-space:pre;overflow-x:auto;line-height:normal;font-family:Menlo,'DejaVu Sans Mono',consolas,'Courier New',monospace\">Postcut: Pairs:  5  Vector:  5\n",
       "</pre>\n"
      ],
      "text/plain": [
       "Postcut: Pairs:  5  Vector:  5\n"
      ]
     },
     "metadata": {},
     "output_type": "display_data"
    },
    {
     "data": {
      "text/html": [
       "<pre style=\"white-space:pre;overflow-x:auto;line-height:normal;font-family:Menlo,'DejaVu Sans Mono',consolas,'Courier New',monospace\">[[], [], [], [], [], [], [], [], [], [], ... [], [], [], [], [], [], [], [], [], []]\n",
       "</pre>\n"
      ],
      "text/plain": [
       "[[], [], [], [], [], [], [], [], [], [], ... [], [], [], [], [], [], [], [], [], []]\n"
      ]
     },
     "metadata": {},
     "output_type": "display_data"
    },
    {
     "data": {
      "text/html": [
       "<pre style=\"white-space:pre;overflow-x:auto;line-height:normal;font-family:Menlo,'DejaVu Sans Mono',consolas,'Courier New',monospace\">[[], [], [], [], [], [], [], [], [], [], ... [], [], [], [], [], [], [], [], [], []]\n",
       "</pre>\n"
      ],
      "text/plain": [
       "[[], [], [], [], [], [], [], [], [], [], ... [], [], [], [], [], [], [], [], [], []]\n"
      ]
     },
     "metadata": {},
     "output_type": "display_data"
    },
    {
     "data": {
      "text/html": [
       "<pre style=\"white-space:pre;overflow-x:auto;line-height:normal;font-family:Menlo,'DejaVu Sans Mono',consolas,'Courier New',monospace\">Start:  9531   TT\n",
       "</pre>\n"
      ],
      "text/plain": [
       "Start:  9531   TT\n"
      ]
     },
     "metadata": {},
     "output_type": "display_data"
    },
    {
     "data": {
      "text/html": [
       "<pre style=\"white-space:pre;overflow-x:auto;line-height:normal;font-family:Menlo,'DejaVu Sans Mono',consolas,'Courier New',monospace\">Extra Ele Veto:  8170\n",
       "</pre>\n"
      ],
      "text/plain": [
       "Extra Ele Veto:  8170\n"
      ]
     },
     "metadata": {},
     "output_type": "display_data"
    },
    {
     "data": {
      "text/html": [
       "<pre style=\"white-space:pre;overflow-x:auto;line-height:normal;font-family:Menlo,'DejaVu Sans Mono',consolas,'Courier New',monospace\">Extra Mu Veto:  309\n",
       "</pre>\n"
      ],
      "text/plain": [
       "Extra Mu Veto:  309\n"
      ]
     },
     "metadata": {},
     "output_type": "display_data"
    },
    {
     "data": {
      "text/html": [
       "<pre style=\"white-space:pre;overflow-x:auto;line-height:normal;font-family:Menlo,'DejaVu Sans Mono',consolas,'Courier New',monospace\">BJet Veto:  71\n",
       "</pre>\n"
      ],
      "text/plain": [
       "BJet Veto:  71\n"
      ]
     },
     "metadata": {},
     "output_type": "display_data"
    },
    {
     "data": {
      "text/html": [
       "<pre style=\"white-space:pre;overflow-x:auto;line-height:normal;font-family:Menlo,'DejaVu Sans Mono',consolas,'Courier New',monospace\">Pairs:  140  Vector:  140\n",
       "</pre>\n"
      ],
      "text/plain": [
       "Pairs:  140  Vector:  140\n"
      ]
     },
     "metadata": {},
     "output_type": "display_data"
    },
    {
     "data": {
      "text/html": [
       "<pre style=\"white-space:pre;overflow-x:auto;line-height:normal;font-family:Menlo,'DejaVu Sans Mono',consolas,'Courier New',monospace\">[[True, False, False, False], [], [True, ... True, True, False, True], [False], []]\n",
       "</pre>\n"
      ],
      "text/plain": [
       "[[True, False, False, False], [], [True, ... True, True, False, True], [False], []]\n"
      ]
     },
     "metadata": {},
     "output_type": "display_data"
    },
    {
     "data": {
      "text/html": [
       "<pre style=\"white-space:pre;overflow-x:auto;line-height:normal;font-family:Menlo,'DejaVu Sans Mono',consolas,'Courier New',monospace\">Postcut: Pairs:  1  Vector:  1\n",
       "</pre>\n"
      ],
      "text/plain": [
       "Postcut: Pairs:  1  Vector:  1\n"
      ]
     },
     "metadata": {},
     "output_type": "display_data"
    },
    {
     "data": {
      "text/html": [
       "<pre style=\"white-space:pre;overflow-x:auto;line-height:normal;font-family:Menlo,'DejaVu Sans Mono',consolas,'Courier New',monospace\">[[], [], [], [], [], [], [], [], [], [], ... [], [], [], [], [], [], [], [], [], []]\n",
       "</pre>\n"
      ],
      "text/plain": [
       "[[], [], [], [], [], [], [], [], [], [], ... [], [], [], [], [], [], [], [], [], []]\n"
      ]
     },
     "metadata": {},
     "output_type": "display_data"
    },
    {
     "data": {
      "text/html": [
       "<pre style=\"white-space:pre;overflow-x:auto;line-height:normal;font-family:Menlo,'DejaVu Sans Mono',consolas,'Courier New',monospace\">[[], [], [], [], [], [], [], [], [], [], ... [], [], [], [], [], [], [], [], [], []]\n",
       "</pre>\n"
      ],
      "text/plain": [
       "[[], [], [], [], [], [], [], [], [], [], ... [], [], [], [], [], [], [], [], [], []]\n"
      ]
     },
     "metadata": {},
     "output_type": "display_data"
    },
    {
     "data": {
      "text/html": [
       "<pre style=\"white-space:pre;overflow-x:auto;line-height:normal;font-family:Menlo,'DejaVu Sans Mono',consolas,'Courier New',monospace\">Start:  9574   TT\n",
       "</pre>\n"
      ],
      "text/plain": [
       "Start:  9574   TT\n"
      ]
     },
     "metadata": {},
     "output_type": "display_data"
    },
    {
     "data": {
      "text/html": [
       "<pre style=\"white-space:pre;overflow-x:auto;line-height:normal;font-family:Menlo,'DejaVu Sans Mono',consolas,'Courier New',monospace\">Extra Ele Veto:  8205\n",
       "</pre>\n"
      ],
      "text/plain": [
       "Extra Ele Veto:  8205\n"
      ]
     },
     "metadata": {},
     "output_type": "display_data"
    },
    {
     "data": {
      "text/html": [
       "<pre style=\"white-space:pre;overflow-x:auto;line-height:normal;font-family:Menlo,'DejaVu Sans Mono',consolas,'Courier New',monospace\">Extra Mu Veto:  362\n",
       "</pre>\n"
      ],
      "text/plain": [
       "Extra Mu Veto:  362\n"
      ]
     },
     "metadata": {},
     "output_type": "display_data"
    },
    {
     "data": {
      "text/html": [
       "<pre style=\"white-space:pre;overflow-x:auto;line-height:normal;font-family:Menlo,'DejaVu Sans Mono',consolas,'Courier New',monospace\">BJet Veto:  54\n",
       "</pre>\n"
      ],
      "text/plain": [
       "BJet Veto:  54\n"
      ]
     },
     "metadata": {},
     "output_type": "display_data"
    },
    {
     "data": {
      "text/html": [
       "<pre style=\"white-space:pre;overflow-x:auto;line-height:normal;font-family:Menlo,'DejaVu Sans Mono',consolas,'Courier New',monospace\">Pairs:  101  Vector:  101\n",
       "</pre>\n"
      ],
      "text/plain": [
       "Pairs:  101  Vector:  101\n"
      ]
     },
     "metadata": {},
     "output_type": "display_data"
    },
    {
     "data": {
      "text/html": [
       "<pre style=\"white-space:pre;overflow-x:auto;line-height:normal;font-family:Menlo,'DejaVu Sans Mono',consolas,'Courier New',monospace\">[[True, True, False], [False, True], [], [], ... [], [True, False], [], [], []]\n",
       "</pre>\n"
      ],
      "text/plain": [
       "[[True, True, False], [False, True], [], [], ... [], [True, False], [], [], []]\n"
      ]
     },
     "metadata": {},
     "output_type": "display_data"
    },
    {
     "data": {
      "text/html": [
       "<pre style=\"white-space:pre;overflow-x:auto;line-height:normal;font-family:Menlo,'DejaVu Sans Mono',consolas,'Courier New',monospace\">Postcut: Pairs:  2  Vector:  2\n",
       "</pre>\n"
      ],
      "text/plain": [
       "Postcut: Pairs:  2  Vector:  2\n"
      ]
     },
     "metadata": {},
     "output_type": "display_data"
    },
    {
     "data": {
      "text/html": [
       "<pre style=\"white-space:pre;overflow-x:auto;line-height:normal;font-family:Menlo,'DejaVu Sans Mono',consolas,'Courier New',monospace\">[[], [], [], [], [], [], [], [], [], [], ... [], [], [], [], [], [], [], [], [], []]\n",
       "</pre>\n"
      ],
      "text/plain": [
       "[[], [], [], [], [], [], [], [], [], [], ... [], [], [], [], [], [], [], [], [], []]\n"
      ]
     },
     "metadata": {},
     "output_type": "display_data"
    },
    {
     "data": {
      "text/html": [
       "<pre style=\"white-space:pre;overflow-x:auto;line-height:normal;font-family:Menlo,'DejaVu Sans Mono',consolas,'Courier New',monospace\">[[], [], [], [], [], [], [], [], [], [], ... [], [], [], [], [], [], [], [], [], []]\n",
       "</pre>\n"
      ],
      "text/plain": [
       "[[], [], [], [], [], [], [], [], [], [], ... [], [], [], [], [], [], [], [], [], []]\n"
      ]
     },
     "metadata": {},
     "output_type": "display_data"
    },
    {
     "data": {
      "text/html": [
       "<pre style=\"white-space:pre;overflow-x:auto;line-height:normal;font-family:Menlo,'DejaVu Sans Mono',consolas,'Courier New',monospace\">Start:  9499   TT\n",
       "</pre>\n"
      ],
      "text/plain": [
       "Start:  9499   TT\n"
      ]
     },
     "metadata": {},
     "output_type": "display_data"
    },
    {
     "data": {
      "text/html": [
       "<pre style=\"white-space:pre;overflow-x:auto;line-height:normal;font-family:Menlo,'DejaVu Sans Mono',consolas,'Courier New',monospace\">Extra Ele Veto:  8141\n",
       "</pre>\n"
      ],
      "text/plain": [
       "Extra Ele Veto:  8141\n"
      ]
     },
     "metadata": {},
     "output_type": "display_data"
    },
    {
     "data": {
      "text/html": [
       "<pre style=\"white-space:pre;overflow-x:auto;line-height:normal;font-family:Menlo,'DejaVu Sans Mono',consolas,'Courier New',monospace\">Extra Mu Veto:  309\n",
       "</pre>\n"
      ],
      "text/plain": [
       "Extra Mu Veto:  309\n"
      ]
     },
     "metadata": {},
     "output_type": "display_data"
    },
    {
     "data": {
      "text/html": [
       "<pre style=\"white-space:pre;overflow-x:auto;line-height:normal;font-family:Menlo,'DejaVu Sans Mono',consolas,'Courier New',monospace\">BJet Veto:  69\n",
       "</pre>\n"
      ],
      "text/plain": [
       "BJet Veto:  69\n"
      ]
     },
     "metadata": {},
     "output_type": "display_data"
    },
    {
     "data": {
      "text/html": [
       "<pre style=\"white-space:pre;overflow-x:auto;line-height:normal;font-family:Menlo,'DejaVu Sans Mono',consolas,'Courier New',monospace\">Pairs:  119  Vector:  119\n",
       "</pre>\n"
      ],
      "text/plain": [
       "Pairs:  119  Vector:  119\n"
      ]
     },
     "metadata": {},
     "output_type": "display_data"
    },
    {
     "data": {
      "text/html": [
       "<pre style=\"white-space:pre;overflow-x:auto;line-height:normal;font-family:Menlo,'DejaVu Sans Mono',consolas,'Courier New',monospace\">[[True], [], [], [True, True, False, True, ... True, True], [], [True, True], []]\n",
       "</pre>\n"
      ],
      "text/plain": [
       "[[True], [], [], [True, True, False, True, ... True, True], [], [True, True], []]\n"
      ]
     },
     "metadata": {},
     "output_type": "display_data"
    },
    {
     "data": {
      "text/html": [
       "<pre style=\"white-space:pre;overflow-x:auto;line-height:normal;font-family:Menlo,'DejaVu Sans Mono',consolas,'Courier New',monospace\">Postcut: Pairs:  4  Vector:  4\n",
       "</pre>\n"
      ],
      "text/plain": [
       "Postcut: Pairs:  4  Vector:  4\n"
      ]
     },
     "metadata": {},
     "output_type": "display_data"
    },
    {
     "data": {
      "text/html": [
       "<pre style=\"white-space:pre;overflow-x:auto;line-height:normal;font-family:Menlo,'DejaVu Sans Mono',consolas,'Courier New',monospace\">[[], [], [], [], [], [], [], [False], [], ... [], [], [], [], [], [], [], [], []]\n",
       "</pre>\n"
      ],
      "text/plain": [
       "[[], [], [], [], [], [], [], [False], [], ... [], [], [], [], [], [], [], [], []]\n"
      ]
     },
     "metadata": {},
     "output_type": "display_data"
    },
    {
     "data": {
      "text/html": [
       "<pre style=\"white-space:pre;overflow-x:auto;line-height:normal;font-family:Menlo,'DejaVu Sans Mono',consolas,'Courier New',monospace\">[[], [], [], [], [], [], [], [{tau: {pt: 122, ... [], [], [], [], [], [], [], [], []]\n",
       "</pre>\n"
      ],
      "text/plain": [
       "[[], [], [], [], [], [], [], [{tau: {pt: 122, ... [], [], [], [], [], [], [], [], []]\n"
      ]
     },
     "metadata": {},
     "output_type": "display_data"
    },
    {
     "data": {
      "text/html": [
       "<pre style=\"white-space:pre;overflow-x:auto;line-height:normal;font-family:Menlo,'DejaVu Sans Mono',consolas,'Courier New',monospace\">Start:  9557   TT\n",
       "</pre>\n"
      ],
      "text/plain": [
       "Start:  9557   TT\n"
      ]
     },
     "metadata": {},
     "output_type": "display_data"
    },
    {
     "data": {
      "text/html": [
       "<pre style=\"white-space:pre;overflow-x:auto;line-height:normal;font-family:Menlo,'DejaVu Sans Mono',consolas,'Courier New',monospace\">Extra Ele Veto:  8168\n",
       "</pre>\n"
      ],
      "text/plain": [
       "Extra Ele Veto:  8168\n"
      ]
     },
     "metadata": {},
     "output_type": "display_data"
    },
    {
     "data": {
      "text/html": [
       "<pre style=\"white-space:pre;overflow-x:auto;line-height:normal;font-family:Menlo,'DejaVu Sans Mono',consolas,'Courier New',monospace\">Extra Mu Veto:  286\n",
       "</pre>\n"
      ],
      "text/plain": [
       "Extra Mu Veto:  286\n"
      ]
     },
     "metadata": {},
     "output_type": "display_data"
    },
    {
     "data": {
      "text/html": [
       "<pre style=\"white-space:pre;overflow-x:auto;line-height:normal;font-family:Menlo,'DejaVu Sans Mono',consolas,'Courier New',monospace\">BJet Veto:  50\n",
       "</pre>\n"
      ],
      "text/plain": [
       "BJet Veto:  50\n"
      ]
     },
     "metadata": {},
     "output_type": "display_data"
    },
    {
     "data": {
      "text/html": [
       "<pre style=\"white-space:pre;overflow-x:auto;line-height:normal;font-family:Menlo,'DejaVu Sans Mono',consolas,'Courier New',monospace\">Pairs:  100  Vector:  100\n",
       "</pre>\n"
      ],
      "text/plain": [
       "Pairs:  100  Vector:  100\n"
      ]
     },
     "metadata": {},
     "output_type": "display_data"
    },
    {
     "data": {
      "text/html": [
       "<pre style=\"white-space:pre;overflow-x:auto;line-height:normal;font-family:Menlo,'DejaVu Sans Mono',consolas,'Courier New',monospace\">[[True, True], [False], [True], [], [True, True, ... [], [], [], [], [], [True]]\n",
       "</pre>\n"
      ],
      "text/plain": [
       "[[True, True], [False], [True], [], [True, True, ... [], [], [], [], [], [True]]\n"
      ]
     },
     "metadata": {},
     "output_type": "display_data"
    },
    {
     "data": {
      "text/html": [
       "<pre style=\"white-space:pre;overflow-x:auto;line-height:normal;font-family:Menlo,'DejaVu Sans Mono',consolas,'Courier New',monospace\">0\n",
       "</pre>\n"
      ],
      "text/plain": [
       "0\n"
      ]
     },
     "metadata": {},
     "output_type": "display_data"
    },
    {
     "data": {
      "text/html": [
       "<pre style=\"white-space:pre;overflow-x:auto;line-height:normal;font-family:Menlo,'DejaVu Sans Mono',consolas,'Courier New',monospace\">Start:  9497   TT\n",
       "</pre>\n"
      ],
      "text/plain": [
       "Start:  9497   TT\n"
      ]
     },
     "metadata": {},
     "output_type": "display_data"
    },
    {
     "data": {
      "text/html": [
       "<pre style=\"white-space:pre;overflow-x:auto;line-height:normal;font-family:Menlo,'DejaVu Sans Mono',consolas,'Courier New',monospace\">Extra Ele Veto:  8156\n",
       "</pre>\n"
      ],
      "text/plain": [
       "Extra Ele Veto:  8156\n"
      ]
     },
     "metadata": {},
     "output_type": "display_data"
    },
    {
     "data": {
      "text/html": [
       "<pre style=\"white-space:pre;overflow-x:auto;line-height:normal;font-family:Menlo,'DejaVu Sans Mono',consolas,'Courier New',monospace\">Extra Mu Veto:  314\n",
       "</pre>\n"
      ],
      "text/plain": [
       "Extra Mu Veto:  314\n"
      ]
     },
     "metadata": {},
     "output_type": "display_data"
    },
    {
     "data": {
      "text/html": [
       "<pre style=\"white-space:pre;overflow-x:auto;line-height:normal;font-family:Menlo,'DejaVu Sans Mono',consolas,'Courier New',monospace\">BJet Veto:  69\n",
       "</pre>\n"
      ],
      "text/plain": [
       "BJet Veto:  69\n"
      ]
     },
     "metadata": {},
     "output_type": "display_data"
    },
    {
     "data": {
      "text/html": [
       "<pre style=\"white-space:pre;overflow-x:auto;line-height:normal;font-family:Menlo,'DejaVu Sans Mono',consolas,'Courier New',monospace\">Pairs:  142  Vector:  142\n",
       "</pre>\n"
      ],
      "text/plain": [
       "Pairs:  142  Vector:  142\n"
      ]
     },
     "metadata": {},
     "output_type": "display_data"
    },
    {
     "data": {
      "text/html": [
       "<pre style=\"white-space:pre;overflow-x:auto;line-height:normal;font-family:Menlo,'DejaVu Sans Mono',consolas,'Courier New',monospace\">[[True, True, True], [], [True, True, False], ... [], [True], [], [False], []]\n",
       "</pre>\n"
      ],
      "text/plain": [
       "[[True, True, True], [], [True, True, False], ... [], [True], [], [False], []]\n"
      ]
     },
     "metadata": {},
     "output_type": "display_data"
    },
    {
     "data": {
      "text/html": [
       "<pre style=\"white-space:pre;overflow-x:auto;line-height:normal;font-family:Menlo,'DejaVu Sans Mono',consolas,'Courier New',monospace\">Postcut: Pairs:  1  Vector:  1\n",
       "</pre>\n"
      ],
      "text/plain": [
       "Postcut: Pairs:  1  Vector:  1\n"
      ]
     },
     "metadata": {},
     "output_type": "display_data"
    },
    {
     "data": {
      "text/html": [
       "<pre style=\"white-space:pre;overflow-x:auto;line-height:normal;font-family:Menlo,'DejaVu Sans Mono',consolas,'Courier New',monospace\">[[], [], [], [], [], [], [], [], [], [], ... [], [], [], [], [], [], [], [], [], []]\n",
       "</pre>\n"
      ],
      "text/plain": [
       "[[], [], [], [], [], [], [], [], [], [], ... [], [], [], [], [], [], [], [], [], []]\n"
      ]
     },
     "metadata": {},
     "output_type": "display_data"
    },
    {
     "data": {
      "text/html": [
       "<pre style=\"white-space:pre;overflow-x:auto;line-height:normal;font-family:Menlo,'DejaVu Sans Mono',consolas,'Courier New',monospace\">[[], [], [], [], [], [], [], [], [], [], ... [], [], [], [], [], [], [], [], [], []]\n",
       "</pre>\n"
      ],
      "text/plain": [
       "[[], [], [], [], [], [], [], [], [], [], ... [], [], [], [], [], [], [], [], [], []]\n"
      ]
     },
     "metadata": {},
     "output_type": "display_data"
    },
    {
     "data": {
      "text/html": [
       "<pre style=\"white-space:pre;overflow-x:auto;line-height:normal;font-family:Menlo,'DejaVu Sans Mono',consolas,'Courier New',monospace\">Start:  9506   TT\n",
       "</pre>\n"
      ],
      "text/plain": [
       "Start:  9506   TT\n"
      ]
     },
     "metadata": {},
     "output_type": "display_data"
    },
    {
     "data": {
      "text/html": [
       "<pre style=\"white-space:pre;overflow-x:auto;line-height:normal;font-family:Menlo,'DejaVu Sans Mono',consolas,'Courier New',monospace\">Extra Ele Veto:  8110\n",
       "</pre>\n"
      ],
      "text/plain": [
       "Extra Ele Veto:  8110\n"
      ]
     },
     "metadata": {},
     "output_type": "display_data"
    },
    {
     "data": {
      "text/html": [
       "<pre style=\"white-space:pre;overflow-x:auto;line-height:normal;font-family:Menlo,'DejaVu Sans Mono',consolas,'Courier New',monospace\">Extra Mu Veto:  304\n",
       "</pre>\n"
      ],
      "text/plain": [
       "Extra Mu Veto:  304\n"
      ]
     },
     "metadata": {},
     "output_type": "display_data"
    },
    {
     "data": {
      "text/html": [
       "<pre style=\"white-space:pre;overflow-x:auto;line-height:normal;font-family:Menlo,'DejaVu Sans Mono',consolas,'Courier New',monospace\">BJet Veto:  54\n",
       "</pre>\n"
      ],
      "text/plain": [
       "BJet Veto:  54\n"
      ]
     },
     "metadata": {},
     "output_type": "display_data"
    },
    {
     "data": {
      "text/html": [
       "<pre style=\"white-space:pre;overflow-x:auto;line-height:normal;font-family:Menlo,'DejaVu Sans Mono',consolas,'Courier New',monospace\">Pairs:  89  Vector:  89\n",
       "</pre>\n"
      ],
      "text/plain": [
       "Pairs:  89  Vector:  89\n"
      ]
     },
     "metadata": {},
     "output_type": "display_data"
    },
    {
     "data": {
      "text/html": [
       "<pre style=\"white-space:pre;overflow-x:auto;line-height:normal;font-family:Menlo,'DejaVu Sans Mono',consolas,'Courier New',monospace\">[[], [], [], [], [True], [False], ... False], [], [True, True, False], [True, True]]\n",
       "</pre>\n"
      ],
      "text/plain": [
       "[[], [], [], [], [True], [False], ... False], [], [True, True, False], [True, True]]\n"
      ]
     },
     "metadata": {},
     "output_type": "display_data"
    },
    {
     "data": {
      "text/html": [
       "<pre style=\"white-space:pre;overflow-x:auto;line-height:normal;font-family:Menlo,'DejaVu Sans Mono',consolas,'Courier New',monospace\">Postcut: Pairs:  1  Vector:  1\n",
       "</pre>\n"
      ],
      "text/plain": [
       "Postcut: Pairs:  1  Vector:  1\n"
      ]
     },
     "metadata": {},
     "output_type": "display_data"
    },
    {
     "data": {
      "text/html": [
       "<pre style=\"white-space:pre;overflow-x:auto;line-height:normal;font-family:Menlo,'DejaVu Sans Mono',consolas,'Courier New',monospace\">[[], [], [], [], [], [], [], [], [], [], ... [], [], [], [], [], [], [], [], [], []]\n",
       "</pre>\n"
      ],
      "text/plain": [
       "[[], [], [], [], [], [], [], [], [], [], ... [], [], [], [], [], [], [], [], [], []]\n"
      ]
     },
     "metadata": {},
     "output_type": "display_data"
    },
    {
     "data": {
      "text/html": [
       "<pre style=\"white-space:pre;overflow-x:auto;line-height:normal;font-family:Menlo,'DejaVu Sans Mono',consolas,'Courier New',monospace\">[[], [], [], [], [], [], [], [], [], [], ... [], [], [], [], [], [], [], [], [], []]\n",
       "</pre>\n"
      ],
      "text/plain": [
       "[[], [], [], [], [], [], [], [], [], [], ... [], [], [], [], [], [], [], [], [], []]\n"
      ]
     },
     "metadata": {},
     "output_type": "display_data"
    },
    {
     "data": {
      "text/html": [
       "<pre style=\"white-space:pre;overflow-x:auto;line-height:normal;font-family:Menlo,'DejaVu Sans Mono',consolas,'Courier New',monospace\">Start:  9775   TT\n",
       "</pre>\n"
      ],
      "text/plain": [
       "Start:  9775   TT\n"
      ]
     },
     "metadata": {},
     "output_type": "display_data"
    },
    {
     "data": {
      "text/html": [
       "<pre style=\"white-space:pre;overflow-x:auto;line-height:normal;font-family:Menlo,'DejaVu Sans Mono',consolas,'Courier New',monospace\">Extra Ele Veto:  8374\n",
       "</pre>\n"
      ],
      "text/plain": [
       "Extra Ele Veto:  8374\n"
      ]
     },
     "metadata": {},
     "output_type": "display_data"
    },
    {
     "data": {
      "text/html": [
       "<pre style=\"white-space:pre;overflow-x:auto;line-height:normal;font-family:Menlo,'DejaVu Sans Mono',consolas,'Courier New',monospace\">Extra Mu Veto:  297\n",
       "</pre>\n"
      ],
      "text/plain": [
       "Extra Mu Veto:  297\n"
      ]
     },
     "metadata": {},
     "output_type": "display_data"
    },
    {
     "data": {
      "text/html": [
       "<pre style=\"white-space:pre;overflow-x:auto;line-height:normal;font-family:Menlo,'DejaVu Sans Mono',consolas,'Courier New',monospace\">BJet Veto:  47\n",
       "</pre>\n"
      ],
      "text/plain": [
       "BJet Veto:  47\n"
      ]
     },
     "metadata": {},
     "output_type": "display_data"
    },
    {
     "data": {
      "text/html": [
       "<pre style=\"white-space:pre;overflow-x:auto;line-height:normal;font-family:Menlo,'DejaVu Sans Mono',consolas,'Courier New',monospace\">Pairs:  106  Vector:  106\n",
       "</pre>\n"
      ],
      "text/plain": [
       "Pairs:  106  Vector:  106\n"
      ]
     },
     "metadata": {},
     "output_type": "display_data"
    },
    {
     "data": {
      "text/html": [
       "<pre style=\"white-space:pre;overflow-x:auto;line-height:normal;font-family:Menlo,'DejaVu Sans Mono',consolas,'Courier New',monospace\">[[False, True], [False, False], [], [], [True, ... [], [], [False], [True], []]\n",
       "</pre>\n"
      ],
      "text/plain": [
       "[[False, True], [False, False], [], [], [True, ... [], [], [False], [True], []]\n"
      ]
     },
     "metadata": {},
     "output_type": "display_data"
    },
    {
     "data": {
      "text/html": [
       "<pre style=\"white-space:pre;overflow-x:auto;line-height:normal;font-family:Menlo,'DejaVu Sans Mono',consolas,'Courier New',monospace\">Postcut: Pairs:  2  Vector:  2\n",
       "</pre>\n"
      ],
      "text/plain": [
       "Postcut: Pairs:  2  Vector:  2\n"
      ]
     },
     "metadata": {},
     "output_type": "display_data"
    },
    {
     "data": {
      "text/html": [
       "<pre style=\"white-space:pre;overflow-x:auto;line-height:normal;font-family:Menlo,'DejaVu Sans Mono',consolas,'Courier New',monospace\">[[], [], [], [], [], [], [], [], [], [], ... [], [], [], [], [], [], [], [], [], []]\n",
       "</pre>\n"
      ],
      "text/plain": [
       "[[], [], [], [], [], [], [], [], [], [], ... [], [], [], [], [], [], [], [], [], []]\n"
      ]
     },
     "metadata": {},
     "output_type": "display_data"
    },
    {
     "data": {
      "text/html": [
       "<pre style=\"white-space:pre;overflow-x:auto;line-height:normal;font-family:Menlo,'DejaVu Sans Mono',consolas,'Courier New',monospace\">[[], [], [], [], [], [], [], [], [], [], ... [], [], [], [], [], [], [], [], [], []]\n",
       "</pre>\n"
      ],
      "text/plain": [
       "[[], [], [], [], [], [], [], [], [], [], ... [], [], [], [], [], [], [], [], [], []]\n"
      ]
     },
     "metadata": {},
     "output_type": "display_data"
    },
    {
     "data": {
      "text/html": [
       "<pre style=\"white-space:pre;overflow-x:auto;line-height:normal;font-family:Menlo,'DejaVu Sans Mono',consolas,'Courier New',monospace\">Start:  9535   TT\n",
       "</pre>\n"
      ],
      "text/plain": [
       "Start:  9535   TT\n"
      ]
     },
     "metadata": {},
     "output_type": "display_data"
    },
    {
     "data": {
      "text/html": [
       "<pre style=\"white-space:pre;overflow-x:auto;line-height:normal;font-family:Menlo,'DejaVu Sans Mono',consolas,'Courier New',monospace\">Extra Ele Veto:  8180\n",
       "</pre>\n"
      ],
      "text/plain": [
       "Extra Ele Veto:  8180\n"
      ]
     },
     "metadata": {},
     "output_type": "display_data"
    },
    {
     "data": {
      "text/html": [
       "<pre style=\"white-space:pre;overflow-x:auto;line-height:normal;font-family:Menlo,'DejaVu Sans Mono',consolas,'Courier New',monospace\">Extra Mu Veto:  324\n",
       "</pre>\n"
      ],
      "text/plain": [
       "Extra Mu Veto:  324\n"
      ]
     },
     "metadata": {},
     "output_type": "display_data"
    },
    {
     "data": {
      "text/html": [
       "<pre style=\"white-space:pre;overflow-x:auto;line-height:normal;font-family:Menlo,'DejaVu Sans Mono',consolas,'Courier New',monospace\">BJet Veto:  56\n",
       "</pre>\n"
      ],
      "text/plain": [
       "BJet Veto:  56\n"
      ]
     },
     "metadata": {},
     "output_type": "display_data"
    },
    {
     "data": {
      "text/html": [
       "<pre style=\"white-space:pre;overflow-x:auto;line-height:normal;font-family:Menlo,'DejaVu Sans Mono',consolas,'Courier New',monospace\">Pairs:  95  Vector:  95\n",
       "</pre>\n"
      ],
      "text/plain": [
       "Pairs:  95  Vector:  95\n"
      ]
     },
     "metadata": {},
     "output_type": "display_data"
    },
    {
     "data": {
      "text/html": [
       "<pre style=\"white-space:pre;overflow-x:auto;line-height:normal;font-family:Menlo,'DejaVu Sans Mono',consolas,'Courier New',monospace\">[[False], [False, True, False, True], [True, ... [True, True, True], [], [], []]\n",
       "</pre>\n"
      ],
      "text/plain": [
       "[[False], [False, True, False, True], [True, ... [True, True, True], [], [], []]\n"
      ]
     },
     "metadata": {},
     "output_type": "display_data"
    },
    {
     "data": {
      "text/html": [
       "<pre style=\"white-space:pre;overflow-x:auto;line-height:normal;font-family:Menlo,'DejaVu Sans Mono',consolas,'Courier New',monospace\">Postcut: Pairs:  2  Vector:  2\n",
       "</pre>\n"
      ],
      "text/plain": [
       "Postcut: Pairs:  2  Vector:  2\n"
      ]
     },
     "metadata": {},
     "output_type": "display_data"
    },
    {
     "data": {
      "text/html": [
       "<pre style=\"white-space:pre;overflow-x:auto;line-height:normal;font-family:Menlo,'DejaVu Sans Mono',consolas,'Courier New',monospace\">[[], [], [], [], [], [], [], [], [], [], ... [], [], [], [], [], [], [], [], [], []]\n",
       "</pre>\n"
      ],
      "text/plain": [
       "[[], [], [], [], [], [], [], [], [], [], ... [], [], [], [], [], [], [], [], [], []]\n"
      ]
     },
     "metadata": {},
     "output_type": "display_data"
    },
    {
     "data": {
      "text/html": [
       "<pre style=\"white-space:pre;overflow-x:auto;line-height:normal;font-family:Menlo,'DejaVu Sans Mono',consolas,'Courier New',monospace\">[[], [], [], [], [], [], [], [], [], [], ... [], [], [], [], [], [], [], [], [], []]\n",
       "</pre>\n"
      ],
      "text/plain": [
       "[[], [], [], [], [], [], [], [], [], [], ... [], [], [], [], [], [], [], [], [], []]\n"
      ]
     },
     "metadata": {},
     "output_type": "display_data"
    },
    {
     "data": {
      "text/html": [
       "<pre style=\"white-space:pre;overflow-x:auto;line-height:normal;font-family:Menlo,'DejaVu Sans Mono',consolas,'Courier New',monospace\">Start:  9632   TT\n",
       "</pre>\n"
      ],
      "text/plain": [
       "Start:  9632   TT\n"
      ]
     },
     "metadata": {},
     "output_type": "display_data"
    },
    {
     "data": {
      "text/html": [
       "<pre style=\"white-space:pre;overflow-x:auto;line-height:normal;font-family:Menlo,'DejaVu Sans Mono',consolas,'Courier New',monospace\">Extra Ele Veto:  8221\n",
       "</pre>\n"
      ],
      "text/plain": [
       "Extra Ele Veto:  8221\n"
      ]
     },
     "metadata": {},
     "output_type": "display_data"
    },
    {
     "data": {
      "text/html": [
       "<pre style=\"white-space:pre;overflow-x:auto;line-height:normal;font-family:Menlo,'DejaVu Sans Mono',consolas,'Courier New',monospace\">Extra Mu Veto:  330\n",
       "</pre>\n"
      ],
      "text/plain": [
       "Extra Mu Veto:  330\n"
      ]
     },
     "metadata": {},
     "output_type": "display_data"
    },
    {
     "data": {
      "text/html": [
       "<pre style=\"white-space:pre;overflow-x:auto;line-height:normal;font-family:Menlo,'DejaVu Sans Mono',consolas,'Courier New',monospace\">BJet Veto:  63\n",
       "</pre>\n"
      ],
      "text/plain": [
       "BJet Veto:  63\n"
      ]
     },
     "metadata": {},
     "output_type": "display_data"
    },
    {
     "data": {
      "text/html": [
       "<pre style=\"white-space:pre;overflow-x:auto;line-height:normal;font-family:Menlo,'DejaVu Sans Mono',consolas,'Courier New',monospace\">Pairs:  102  Vector:  102\n",
       "</pre>\n"
      ],
      "text/plain": [
       "Pairs:  102  Vector:  102\n"
      ]
     },
     "metadata": {},
     "output_type": "display_data"
    },
    {
     "data": {
      "text/html": [
       "<pre style=\"white-space:pre;overflow-x:auto;line-height:normal;font-family:Menlo,'DejaVu Sans Mono',consolas,'Courier New',monospace\">[[True, False], [True, True], [], [False], ... True], [True, True], [True, True], []]\n",
       "</pre>\n"
      ],
      "text/plain": [
       "[[True, False], [True, True], [], [False], ... True], [True, True], [True, True], []]\n"
      ]
     },
     "metadata": {},
     "output_type": "display_data"
    },
    {
     "data": {
      "text/html": [
       "<pre style=\"white-space:pre;overflow-x:auto;line-height:normal;font-family:Menlo,'DejaVu Sans Mono',consolas,'Courier New',monospace\">0\n",
       "</pre>\n"
      ],
      "text/plain": [
       "0\n"
      ]
     },
     "metadata": {},
     "output_type": "display_data"
    },
    {
     "data": {
      "text/html": [
       "<pre style=\"white-space:pre;overflow-x:auto;line-height:normal;font-family:Menlo,'DejaVu Sans Mono',consolas,'Courier New',monospace\">Start:  9570   TT\n",
       "</pre>\n"
      ],
      "text/plain": [
       "Start:  9570   TT\n"
      ]
     },
     "metadata": {},
     "output_type": "display_data"
    },
    {
     "data": {
      "text/html": [
       "<pre style=\"white-space:pre;overflow-x:auto;line-height:normal;font-family:Menlo,'DejaVu Sans Mono',consolas,'Courier New',monospace\">Extra Ele Veto:  8160\n",
       "</pre>\n"
      ],
      "text/plain": [
       "Extra Ele Veto:  8160\n"
      ]
     },
     "metadata": {},
     "output_type": "display_data"
    },
    {
     "data": {
      "text/html": [
       "<pre style=\"white-space:pre;overflow-x:auto;line-height:normal;font-family:Menlo,'DejaVu Sans Mono',consolas,'Courier New',monospace\">Extra Mu Veto:  295\n",
       "</pre>\n"
      ],
      "text/plain": [
       "Extra Mu Veto:  295\n"
      ]
     },
     "metadata": {},
     "output_type": "display_data"
    },
    {
     "data": {
      "text/html": [
       "<pre style=\"white-space:pre;overflow-x:auto;line-height:normal;font-family:Menlo,'DejaVu Sans Mono',consolas,'Courier New',monospace\">BJet Veto:  44\n",
       "</pre>\n"
      ],
      "text/plain": [
       "BJet Veto:  44\n"
      ]
     },
     "metadata": {},
     "output_type": "display_data"
    },
    {
     "data": {
      "text/html": [
       "<pre style=\"white-space:pre;overflow-x:auto;line-height:normal;font-family:Menlo,'DejaVu Sans Mono',consolas,'Courier New',monospace\">Pairs:  77  Vector:  77\n",
       "</pre>\n"
      ],
      "text/plain": [
       "Pairs:  77  Vector:  77\n"
      ]
     },
     "metadata": {},
     "output_type": "display_data"
    },
    {
     "data": {
      "text/html": [
       "<pre style=\"white-space:pre;overflow-x:auto;line-height:normal;font-family:Menlo,'DejaVu Sans Mono',consolas,'Courier New',monospace\">[[False], [], [False, True], [], [], ... [], [True, True], [], [False, False, True]]\n",
       "</pre>\n"
      ],
      "text/plain": [
       "[[False], [], [False, True], [], [], ... [], [True, True], [], [False, False, True]]\n"
      ]
     },
     "metadata": {},
     "output_type": "display_data"
    },
    {
     "data": {
      "text/html": [
       "<pre style=\"white-space:pre;overflow-x:auto;line-height:normal;font-family:Menlo,'DejaVu Sans Mono',consolas,'Courier New',monospace\">Postcut: Pairs:  1  Vector:  1\n",
       "</pre>\n"
      ],
      "text/plain": [
       "Postcut: Pairs:  1  Vector:  1\n"
      ]
     },
     "metadata": {},
     "output_type": "display_data"
    },
    {
     "data": {
      "text/html": [
       "<pre style=\"white-space:pre;overflow-x:auto;line-height:normal;font-family:Menlo,'DejaVu Sans Mono',consolas,'Courier New',monospace\">[[], [], [], [], [], [], [], [], [], [], ... [], [], [], [], [], [], [], [], [], []]\n",
       "</pre>\n"
      ],
      "text/plain": [
       "[[], [], [], [], [], [], [], [], [], [], ... [], [], [], [], [], [], [], [], [], []]\n"
      ]
     },
     "metadata": {},
     "output_type": "display_data"
    },
    {
     "data": {
      "text/html": [
       "<pre style=\"white-space:pre;overflow-x:auto;line-height:normal;font-family:Menlo,'DejaVu Sans Mono',consolas,'Courier New',monospace\">[[], [], [], [], [], [], [], [], [], [], ... [], [], [], [], [], [], [], [], [], []]\n",
       "</pre>\n"
      ],
      "text/plain": [
       "[[], [], [], [], [], [], [], [], [], [], ... [], [], [], [], [], [], [], [], [], []]\n"
      ]
     },
     "metadata": {},
     "output_type": "display_data"
    },
    {
     "data": {
      "text/html": [
       "<pre style=\"white-space:pre;overflow-x:auto;line-height:normal;font-family:Menlo,'DejaVu Sans Mono',consolas,'Courier New',monospace\">Start:  9648   TT\n",
       "</pre>\n"
      ],
      "text/plain": [
       "Start:  9648   TT\n"
      ]
     },
     "metadata": {},
     "output_type": "display_data"
    },
    {
     "data": {
      "text/html": [
       "<pre style=\"white-space:pre;overflow-x:auto;line-height:normal;font-family:Menlo,'DejaVu Sans Mono',consolas,'Courier New',monospace\">Extra Ele Veto:  8220\n",
       "</pre>\n"
      ],
      "text/plain": [
       "Extra Ele Veto:  8220\n"
      ]
     },
     "metadata": {},
     "output_type": "display_data"
    },
    {
     "data": {
      "text/html": [
       "<pre style=\"white-space:pre;overflow-x:auto;line-height:normal;font-family:Menlo,'DejaVu Sans Mono',consolas,'Courier New',monospace\">Extra Mu Veto:  303\n",
       "</pre>\n"
      ],
      "text/plain": [
       "Extra Mu Veto:  303\n"
      ]
     },
     "metadata": {},
     "output_type": "display_data"
    },
    {
     "data": {
      "text/html": [
       "<pre style=\"white-space:pre;overflow-x:auto;line-height:normal;font-family:Menlo,'DejaVu Sans Mono',consolas,'Courier New',monospace\">BJet Veto:  53\n",
       "</pre>\n"
      ],
      "text/plain": [
       "BJet Veto:  53\n"
      ]
     },
     "metadata": {},
     "output_type": "display_data"
    },
    {
     "data": {
      "text/html": [
       "<pre style=\"white-space:pre;overflow-x:auto;line-height:normal;font-family:Menlo,'DejaVu Sans Mono',consolas,'Courier New',monospace\">Pairs:  103  Vector:  103\n",
       "</pre>\n"
      ],
      "text/plain": [
       "Pairs:  103  Vector:  103\n"
      ]
     },
     "metadata": {},
     "output_type": "display_data"
    },
    {
     "data": {
      "text/html": [
       "<pre style=\"white-space:pre;overflow-x:auto;line-height:normal;font-family:Menlo,'DejaVu Sans Mono',consolas,'Courier New',monospace\">[[False, True], [], [True, False, True, True, ... [True], [], [], [True, False]]\n",
       "</pre>\n"
      ],
      "text/plain": [
       "[[False, True], [], [True, False, True, True, ... [True], [], [], [True, False]]\n"
      ]
     },
     "metadata": {},
     "output_type": "display_data"
    },
    {
     "data": {
      "text/html": [
       "<pre style=\"white-space:pre;overflow-x:auto;line-height:normal;font-family:Menlo,'DejaVu Sans Mono',consolas,'Courier New',monospace\">Postcut: Pairs:  2  Vector:  2\n",
       "</pre>\n"
      ],
      "text/plain": [
       "Postcut: Pairs:  2  Vector:  2\n"
      ]
     },
     "metadata": {},
     "output_type": "display_data"
    },
    {
     "data": {
      "text/html": [
       "<pre style=\"white-space:pre;overflow-x:auto;line-height:normal;font-family:Menlo,'DejaVu Sans Mono',consolas,'Courier New',monospace\">[[], [], [], [], [], [], [], [], [], [], ... [], [], [], [], [], [], [], [], [], []]\n",
       "</pre>\n"
      ],
      "text/plain": [
       "[[], [], [], [], [], [], [], [], [], [], ... [], [], [], [], [], [], [], [], [], []]\n"
      ]
     },
     "metadata": {},
     "output_type": "display_data"
    },
    {
     "data": {
      "text/html": [
       "<pre style=\"white-space:pre;overflow-x:auto;line-height:normal;font-family:Menlo,'DejaVu Sans Mono',consolas,'Courier New',monospace\">[[], [], [], [], [], [], [], [], [], [], ... [], [], [], [], [], [], [], [], [], []]\n",
       "</pre>\n"
      ],
      "text/plain": [
       "[[], [], [], [], [], [], [], [], [], [], ... [], [], [], [], [], [], [], [], [], []]\n"
      ]
     },
     "metadata": {},
     "output_type": "display_data"
    },
    {
     "data": {
      "text/html": [
       "<pre style=\"white-space:pre;overflow-x:auto;line-height:normal;font-family:Menlo,'DejaVu Sans Mono',consolas,'Courier New',monospace\">Start:  9529   TT\n",
       "</pre>\n"
      ],
      "text/plain": [
       "Start:  9529   TT\n"
      ]
     },
     "metadata": {},
     "output_type": "display_data"
    },
    {
     "data": {
      "text/html": [
       "<pre style=\"white-space:pre;overflow-x:auto;line-height:normal;font-family:Menlo,'DejaVu Sans Mono',consolas,'Courier New',monospace\">Extra Ele Veto:  8131\n",
       "</pre>\n"
      ],
      "text/plain": [
       "Extra Ele Veto:  8131\n"
      ]
     },
     "metadata": {},
     "output_type": "display_data"
    },
    {
     "data": {
      "text/html": [
       "<pre style=\"white-space:pre;overflow-x:auto;line-height:normal;font-family:Menlo,'DejaVu Sans Mono',consolas,'Courier New',monospace\">Extra Mu Veto:  321\n",
       "</pre>\n"
      ],
      "text/plain": [
       "Extra Mu Veto:  321\n"
      ]
     },
     "metadata": {},
     "output_type": "display_data"
    },
    {
     "data": {
      "text/html": [
       "<pre style=\"white-space:pre;overflow-x:auto;line-height:normal;font-family:Menlo,'DejaVu Sans Mono',consolas,'Courier New',monospace\">BJet Veto:  66\n",
       "</pre>\n"
      ],
      "text/plain": [
       "BJet Veto:  66\n"
      ]
     },
     "metadata": {},
     "output_type": "display_data"
    },
    {
     "data": {
      "text/html": [
       "<pre style=\"white-space:pre;overflow-x:auto;line-height:normal;font-family:Menlo,'DejaVu Sans Mono',consolas,'Courier New',monospace\">Pairs:  124  Vector:  124\n",
       "</pre>\n"
      ],
      "text/plain": [
       "Pairs:  124  Vector:  124\n"
      ]
     },
     "metadata": {},
     "output_type": "display_data"
    },
    {
     "data": {
      "text/html": [
       "<pre style=\"white-space:pre;overflow-x:auto;line-height:normal;font-family:Menlo,'DejaVu Sans Mono',consolas,'Courier New',monospace\">[[False, True, False, False], [True, True], ... [True, True], [], [True, True]]\n",
       "</pre>\n"
      ],
      "text/plain": [
       "[[False, True, False, False], [True, True], ... [True, True], [], [True, True]]\n"
      ]
     },
     "metadata": {},
     "output_type": "display_data"
    },
    {
     "data": {
      "text/html": [
       "<pre style=\"white-space:pre;overflow-x:auto;line-height:normal;font-family:Menlo,'DejaVu Sans Mono',consolas,'Courier New',monospace\">Postcut: Pairs:  2  Vector:  2\n",
       "</pre>\n"
      ],
      "text/plain": [
       "Postcut: Pairs:  2  Vector:  2\n"
      ]
     },
     "metadata": {},
     "output_type": "display_data"
    },
    {
     "data": {
      "text/html": [
       "<pre style=\"white-space:pre;overflow-x:auto;line-height:normal;font-family:Menlo,'DejaVu Sans Mono',consolas,'Courier New',monospace\">[[], [], [], [], [], [], [], [], [], [], ... [], [], [], [], [], [], [], [], [], []]\n",
       "</pre>\n"
      ],
      "text/plain": [
       "[[], [], [], [], [], [], [], [], [], [], ... [], [], [], [], [], [], [], [], [], []]\n"
      ]
     },
     "metadata": {},
     "output_type": "display_data"
    },
    {
     "data": {
      "text/html": [
       "<pre style=\"white-space:pre;overflow-x:auto;line-height:normal;font-family:Menlo,'DejaVu Sans Mono',consolas,'Courier New',monospace\">[[], [], [], [], [], [], [], [], [], [], ... [], [], [], [], [], [], [], [], [], []]\n",
       "</pre>\n"
      ],
      "text/plain": [
       "[[], [], [], [], [], [], [], [], [], [], ... [], [], [], [], [], [], [], [], [], []]\n"
      ]
     },
     "metadata": {},
     "output_type": "display_data"
    },
    {
     "data": {
      "text/html": [
       "<pre style=\"white-space:pre;overflow-x:auto;line-height:normal;font-family:Menlo,'DejaVu Sans Mono',consolas,'Courier New',monospace\">Start:  9742   TT\n",
       "</pre>\n"
      ],
      "text/plain": [
       "Start:  9742   TT\n"
      ]
     },
     "metadata": {},
     "output_type": "display_data"
    },
    {
     "data": {
      "text/html": [
       "<pre style=\"white-space:pre;overflow-x:auto;line-height:normal;font-family:Menlo,'DejaVu Sans Mono',consolas,'Courier New',monospace\">Extra Ele Veto:  8321\n",
       "</pre>\n"
      ],
      "text/plain": [
       "Extra Ele Veto:  8321\n"
      ]
     },
     "metadata": {},
     "output_type": "display_data"
    },
    {
     "data": {
      "text/html": [
       "<pre style=\"white-space:pre;overflow-x:auto;line-height:normal;font-family:Menlo,'DejaVu Sans Mono',consolas,'Courier New',monospace\">Extra Mu Veto:  327\n",
       "</pre>\n"
      ],
      "text/plain": [
       "Extra Mu Veto:  327\n"
      ]
     },
     "metadata": {},
     "output_type": "display_data"
    },
    {
     "data": {
      "text/html": [
       "<pre style=\"white-space:pre;overflow-x:auto;line-height:normal;font-family:Menlo,'DejaVu Sans Mono',consolas,'Courier New',monospace\">BJet Veto:  59\n",
       "</pre>\n"
      ],
      "text/plain": [
       "BJet Veto:  59\n"
      ]
     },
     "metadata": {},
     "output_type": "display_data"
    },
    {
     "data": {
      "text/html": [
       "<pre style=\"white-space:pre;overflow-x:auto;line-height:normal;font-family:Menlo,'DejaVu Sans Mono',consolas,'Courier New',monospace\">Pairs:  108  Vector:  108\n",
       "</pre>\n"
      ],
      "text/plain": [
       "Pairs:  108  Vector:  108\n"
      ]
     },
     "metadata": {},
     "output_type": "display_data"
    },
    {
     "data": {
      "text/html": [
       "<pre style=\"white-space:pre;overflow-x:auto;line-height:normal;font-family:Menlo,'DejaVu Sans Mono',consolas,'Courier New',monospace\">[[False], [], [], [True], [], ... False, False, True, True], [False, True], [False]]\n",
       "</pre>\n"
      ],
      "text/plain": [
       "[[False], [], [], [True], [], ... False, False, True, True], [False, True], [False]]\n"
      ]
     },
     "metadata": {},
     "output_type": "display_data"
    },
    {
     "data": {
      "text/html": [
       "<pre style=\"white-space:pre;overflow-x:auto;line-height:normal;font-family:Menlo,'DejaVu Sans Mono',consolas,'Courier New',monospace\">Postcut: Pairs:  2  Vector:  2\n",
       "</pre>\n"
      ],
      "text/plain": [
       "Postcut: Pairs:  2  Vector:  2\n"
      ]
     },
     "metadata": {},
     "output_type": "display_data"
    },
    {
     "data": {
      "text/html": [
       "<pre style=\"white-space:pre;overflow-x:auto;line-height:normal;font-family:Menlo,'DejaVu Sans Mono',consolas,'Courier New',monospace\">[[], [], [], [], [], [], [], [], [], [], ... [], [], [], [], [], [], [], [], [], []]\n",
       "</pre>\n"
      ],
      "text/plain": [
       "[[], [], [], [], [], [], [], [], [], [], ... [], [], [], [], [], [], [], [], [], []]\n"
      ]
     },
     "metadata": {},
     "output_type": "display_data"
    },
    {
     "data": {
      "text/html": [
       "<pre style=\"white-space:pre;overflow-x:auto;line-height:normal;font-family:Menlo,'DejaVu Sans Mono',consolas,'Courier New',monospace\">[[], [], [], [], [], [], [], [], [], [], ... [], [], [], [], [], [], [], [], [], []]\n",
       "</pre>\n"
      ],
      "text/plain": [
       "[[], [], [], [], [], [], [], [], [], [], ... [], [], [], [], [], [], [], [], [], []]\n"
      ]
     },
     "metadata": {},
     "output_type": "display_data"
    },
    {
     "data": {
      "text/html": [
       "<pre style=\"white-space:pre;overflow-x:auto;line-height:normal;font-family:Menlo,'DejaVu Sans Mono',consolas,'Courier New',monospace\">Start:  9452   TT\n",
       "</pre>\n"
      ],
      "text/plain": [
       "Start:  9452   TT\n"
      ]
     },
     "metadata": {},
     "output_type": "display_data"
    },
    {
     "data": {
      "text/html": [
       "<pre style=\"white-space:pre;overflow-x:auto;line-height:normal;font-family:Menlo,'DejaVu Sans Mono',consolas,'Courier New',monospace\">Extra Ele Veto:  8042\n",
       "</pre>\n"
      ],
      "text/plain": [
       "Extra Ele Veto:  8042\n"
      ]
     },
     "metadata": {},
     "output_type": "display_data"
    },
    {
     "data": {
      "text/html": [
       "<pre style=\"white-space:pre;overflow-x:auto;line-height:normal;font-family:Menlo,'DejaVu Sans Mono',consolas,'Courier New',monospace\">Extra Mu Veto:  311\n",
       "</pre>\n"
      ],
      "text/plain": [
       "Extra Mu Veto:  311\n"
      ]
     },
     "metadata": {},
     "output_type": "display_data"
    },
    {
     "data": {
      "text/html": [
       "<pre style=\"white-space:pre;overflow-x:auto;line-height:normal;font-family:Menlo,'DejaVu Sans Mono',consolas,'Courier New',monospace\">BJet Veto:  59\n",
       "</pre>\n"
      ],
      "text/plain": [
       "BJet Veto:  59\n"
      ]
     },
     "metadata": {},
     "output_type": "display_data"
    },
    {
     "data": {
      "text/html": [
       "<pre style=\"white-space:pre;overflow-x:auto;line-height:normal;font-family:Menlo,'DejaVu Sans Mono',consolas,'Courier New',monospace\">Pairs:  124  Vector:  124\n",
       "</pre>\n"
      ],
      "text/plain": [
       "Pairs:  124  Vector:  124\n"
      ]
     },
     "metadata": {},
     "output_type": "display_data"
    },
    {
     "data": {
      "text/html": [
       "<pre style=\"white-space:pre;overflow-x:auto;line-height:normal;font-family:Menlo,'DejaVu Sans Mono',consolas,'Courier New',monospace\">[[False], [False, True, False], [], [], ... [], [], [False, False, False], [], []]\n",
       "</pre>\n"
      ],
      "text/plain": [
       "[[False], [False, True, False], [], [], ... [], [], [False, False, False], [], []]\n"
      ]
     },
     "metadata": {},
     "output_type": "display_data"
    },
    {
     "data": {
      "text/html": [
       "<pre style=\"white-space:pre;overflow-x:auto;line-height:normal;font-family:Menlo,'DejaVu Sans Mono',consolas,'Courier New',monospace\">Postcut: Pairs:  2  Vector:  2\n",
       "</pre>\n"
      ],
      "text/plain": [
       "Postcut: Pairs:  2  Vector:  2\n"
      ]
     },
     "metadata": {},
     "output_type": "display_data"
    },
    {
     "data": {
      "text/html": [
       "<pre style=\"white-space:pre;overflow-x:auto;line-height:normal;font-family:Menlo,'DejaVu Sans Mono',consolas,'Courier New',monospace\">[[], [], [], [], [], [], [], [], [], [], ... [], [], [], [], [], [], [], [], [], []]\n",
       "</pre>\n"
      ],
      "text/plain": [
       "[[], [], [], [], [], [], [], [], [], [], ... [], [], [], [], [], [], [], [], [], []]\n"
      ]
     },
     "metadata": {},
     "output_type": "display_data"
    },
    {
     "data": {
      "text/html": [
       "<pre style=\"white-space:pre;overflow-x:auto;line-height:normal;font-family:Menlo,'DejaVu Sans Mono',consolas,'Courier New',monospace\">[[], [], [], [], [], [], [], [], [], [], ... [], [], [], [], [], [], [], [], [], []]\n",
       "</pre>\n"
      ],
      "text/plain": [
       "[[], [], [], [], [], [], [], [], [], [], ... [], [], [], [], [], [], [], [], [], []]\n"
      ]
     },
     "metadata": {},
     "output_type": "display_data"
    },
    {
     "data": {
      "text/html": [
       "<pre style=\"white-space:pre;overflow-x:auto;line-height:normal;font-family:Menlo,'DejaVu Sans Mono',consolas,'Courier New',monospace\">Start:  9505   TT\n",
       "</pre>\n"
      ],
      "text/plain": [
       "Start:  9505   TT\n"
      ]
     },
     "metadata": {},
     "output_type": "display_data"
    },
    {
     "data": {
      "text/html": [
       "<pre style=\"white-space:pre;overflow-x:auto;line-height:normal;font-family:Menlo,'DejaVu Sans Mono',consolas,'Courier New',monospace\">Extra Ele Veto:  8181\n",
       "</pre>\n"
      ],
      "text/plain": [
       "Extra Ele Veto:  8181\n"
      ]
     },
     "metadata": {},
     "output_type": "display_data"
    },
    {
     "data": {
      "text/html": [
       "<pre style=\"white-space:pre;overflow-x:auto;line-height:normal;font-family:Menlo,'DejaVu Sans Mono',consolas,'Courier New',monospace\">Extra Mu Veto:  334\n",
       "</pre>\n"
      ],
      "text/plain": [
       "Extra Mu Veto:  334\n"
      ]
     },
     "metadata": {},
     "output_type": "display_data"
    },
    {
     "data": {
      "text/html": [
       "<pre style=\"white-space:pre;overflow-x:auto;line-height:normal;font-family:Menlo,'DejaVu Sans Mono',consolas,'Courier New',monospace\">BJet Veto:  63\n",
       "</pre>\n"
      ],
      "text/plain": [
       "BJet Veto:  63\n"
      ]
     },
     "metadata": {},
     "output_type": "display_data"
    },
    {
     "data": {
      "text/html": [
       "<pre style=\"white-space:pre;overflow-x:auto;line-height:normal;font-family:Menlo,'DejaVu Sans Mono',consolas,'Courier New',monospace\">Pairs:  116  Vector:  116\n",
       "</pre>\n"
      ],
      "text/plain": [
       "Pairs:  116  Vector:  116\n"
      ]
     },
     "metadata": {},
     "output_type": "display_data"
    },
    {
     "data": {
      "text/html": [
       "<pre style=\"white-space:pre;overflow-x:auto;line-height:normal;font-family:Menlo,'DejaVu Sans Mono',consolas,'Courier New',monospace\">[[], [], [True, True, True, True, True, ... True, True], [True, False, True], []]\n",
       "</pre>\n"
      ],
      "text/plain": [
       "[[], [], [True, True, True, True, True, ... True, True], [True, False, True], []]\n"
      ]
     },
     "metadata": {},
     "output_type": "display_data"
    },
    {
     "data": {
      "text/html": [
       "<pre style=\"white-space:pre;overflow-x:auto;line-height:normal;font-family:Menlo,'DejaVu Sans Mono',consolas,'Courier New',monospace\">Postcut: Pairs:  2  Vector:  2\n",
       "</pre>\n"
      ],
      "text/plain": [
       "Postcut: Pairs:  2  Vector:  2\n"
      ]
     },
     "metadata": {},
     "output_type": "display_data"
    },
    {
     "data": {
      "text/html": [
       "<pre style=\"white-space:pre;overflow-x:auto;line-height:normal;font-family:Menlo,'DejaVu Sans Mono',consolas,'Courier New',monospace\">[[], [], [], [], [], [], [False], [], [], ... [], [], [], [], [], [], [], [], []]\n",
       "</pre>\n"
      ],
      "text/plain": [
       "[[], [], [], [], [], [], [False], [], [], ... [], [], [], [], [], [], [], [], []]\n"
      ]
     },
     "metadata": {},
     "output_type": "display_data"
    },
    {
     "data": {
      "text/html": [
       "<pre style=\"white-space:pre;overflow-x:auto;line-height:normal;font-family:Menlo,'DejaVu Sans Mono',consolas,'Courier New',monospace\">[[], [], [], [], [], [], [{tau: {pt: 30.2, ... [], [], [], [], [], [], [], []]\n",
       "</pre>\n"
      ],
      "text/plain": [
       "[[], [], [], [], [], [], [{tau: {pt: 30.2, ... [], [], [], [], [], [], [], []]\n"
      ]
     },
     "metadata": {},
     "output_type": "display_data"
    },
    {
     "data": {
      "text/html": [
       "<pre style=\"white-space:pre;overflow-x:auto;line-height:normal;font-family:Menlo,'DejaVu Sans Mono',consolas,'Courier New',monospace\">Start:  9718   TT\n",
       "</pre>\n"
      ],
      "text/plain": [
       "Start:  9718   TT\n"
      ]
     },
     "metadata": {},
     "output_type": "display_data"
    },
    {
     "data": {
      "text/html": [
       "<pre style=\"white-space:pre;overflow-x:auto;line-height:normal;font-family:Menlo,'DejaVu Sans Mono',consolas,'Courier New',monospace\">Extra Ele Veto:  8340\n",
       "</pre>\n"
      ],
      "text/plain": [
       "Extra Ele Veto:  8340\n"
      ]
     },
     "metadata": {},
     "output_type": "display_data"
    },
    {
     "data": {
      "text/html": [
       "<pre style=\"white-space:pre;overflow-x:auto;line-height:normal;font-family:Menlo,'DejaVu Sans Mono',consolas,'Courier New',monospace\">Extra Mu Veto:  371\n",
       "</pre>\n"
      ],
      "text/plain": [
       "Extra Mu Veto:  371\n"
      ]
     },
     "metadata": {},
     "output_type": "display_data"
    },
    {
     "data": {
      "text/html": [
       "<pre style=\"white-space:pre;overflow-x:auto;line-height:normal;font-family:Menlo,'DejaVu Sans Mono',consolas,'Courier New',monospace\">BJet Veto:  70\n",
       "</pre>\n"
      ],
      "text/plain": [
       "BJet Veto:  70\n"
      ]
     },
     "metadata": {},
     "output_type": "display_data"
    },
    {
     "data": {
      "text/html": [
       "<pre style=\"white-space:pre;overflow-x:auto;line-height:normal;font-family:Menlo,'DejaVu Sans Mono',consolas,'Courier New',monospace\">Pairs:  158  Vector:  158\n",
       "</pre>\n"
      ],
      "text/plain": [
       "Pairs:  158  Vector:  158\n"
      ]
     },
     "metadata": {},
     "output_type": "display_data"
    },
    {
     "data": {
      "text/html": [
       "<pre style=\"white-space:pre;overflow-x:auto;line-height:normal;font-family:Menlo,'DejaVu Sans Mono',consolas,'Courier New',monospace\">[[], [True, False, True, True], [], ... True], [], [False, True, True, True]]\n",
       "</pre>\n"
      ],
      "text/plain": [
       "[[], [True, False, True, True], [], ... True], [], [False, True, True, True]]\n"
      ]
     },
     "metadata": {},
     "output_type": "display_data"
    },
    {
     "data": {
      "text/html": [
       "<pre style=\"white-space:pre;overflow-x:auto;line-height:normal;font-family:Menlo,'DejaVu Sans Mono',consolas,'Courier New',monospace\">Postcut: Pairs:  5  Vector:  5\n",
       "</pre>\n"
      ],
      "text/plain": [
       "Postcut: Pairs:  5  Vector:  5\n"
      ]
     },
     "metadata": {},
     "output_type": "display_data"
    },
    {
     "data": {
      "text/html": [
       "<pre style=\"white-space:pre;overflow-x:auto;line-height:normal;font-family:Menlo,'DejaVu Sans Mono',consolas,'Courier New',monospace\">[[], [], [], [], [], [], [], [], [], [], ... [], [], [], [], [], [], [], [], [], []]\n",
       "</pre>\n"
      ],
      "text/plain": [
       "[[], [], [], [], [], [], [], [], [], [], ... [], [], [], [], [], [], [], [], [], []]\n"
      ]
     },
     "metadata": {},
     "output_type": "display_data"
    },
    {
     "data": {
      "text/html": [
       "<pre style=\"white-space:pre;overflow-x:auto;line-height:normal;font-family:Menlo,'DejaVu Sans Mono',consolas,'Courier New',monospace\">[[], [], [], [], [], [], [], [], [], [], ... [], [], [], [], [], [], [], [], [], []]\n",
       "</pre>\n"
      ],
      "text/plain": [
       "[[], [], [], [], [], [], [], [], [], [], ... [], [], [], [], [], [], [], [], [], []]\n"
      ]
     },
     "metadata": {},
     "output_type": "display_data"
    },
    {
     "data": {
      "text/html": [
       "<pre style=\"white-space:pre;overflow-x:auto;line-height:normal;font-family:Menlo,'DejaVu Sans Mono',consolas,'Courier New',monospace\">Start:  9599   TT\n",
       "</pre>\n"
      ],
      "text/plain": [
       "Start:  9599   TT\n"
      ]
     },
     "metadata": {},
     "output_type": "display_data"
    },
    {
     "data": {
      "text/html": [
       "<pre style=\"white-space:pre;overflow-x:auto;line-height:normal;font-family:Menlo,'DejaVu Sans Mono',consolas,'Courier New',monospace\">Extra Ele Veto:  8216\n",
       "</pre>\n"
      ],
      "text/plain": [
       "Extra Ele Veto:  8216\n"
      ]
     },
     "metadata": {},
     "output_type": "display_data"
    },
    {
     "data": {
      "text/html": [
       "<pre style=\"white-space:pre;overflow-x:auto;line-height:normal;font-family:Menlo,'DejaVu Sans Mono',consolas,'Courier New',monospace\">Extra Mu Veto:  289\n",
       "</pre>\n"
      ],
      "text/plain": [
       "Extra Mu Veto:  289\n"
      ]
     },
     "metadata": {},
     "output_type": "display_data"
    },
    {
     "data": {
      "text/html": [
       "<pre style=\"white-space:pre;overflow-x:auto;line-height:normal;font-family:Menlo,'DejaVu Sans Mono',consolas,'Courier New',monospace\">BJet Veto:  55\n",
       "</pre>\n"
      ],
      "text/plain": [
       "BJet Veto:  55\n"
      ]
     },
     "metadata": {},
     "output_type": "display_data"
    },
    {
     "data": {
      "text/html": [
       "<pre style=\"white-space:pre;overflow-x:auto;line-height:normal;font-family:Menlo,'DejaVu Sans Mono',consolas,'Courier New',monospace\">Pairs:  118  Vector:  118\n",
       "</pre>\n"
      ],
      "text/plain": [
       "Pairs:  118  Vector:  118\n"
      ]
     },
     "metadata": {},
     "output_type": "display_data"
    },
    {
     "data": {
      "text/html": [
       "<pre style=\"white-space:pre;overflow-x:auto;line-height:normal;font-family:Menlo,'DejaVu Sans Mono',consolas,'Courier New',monospace\">[[], [False, True], [], [True, True, ... True, True], [True, True], [False, True]]\n",
       "</pre>\n"
      ],
      "text/plain": [
       "[[], [False, True], [], [True, True, ... True, True], [True, True], [False, True]]\n"
      ]
     },
     "metadata": {},
     "output_type": "display_data"
    },
    {
     "data": {
      "text/html": [
       "<pre style=\"white-space:pre;overflow-x:auto;line-height:normal;font-family:Menlo,'DejaVu Sans Mono',consolas,'Courier New',monospace\">Postcut: Pairs:  2  Vector:  2\n",
       "</pre>\n"
      ],
      "text/plain": [
       "Postcut: Pairs:  2  Vector:  2\n"
      ]
     },
     "metadata": {},
     "output_type": "display_data"
    },
    {
     "data": {
      "text/html": [
       "<pre style=\"white-space:pre;overflow-x:auto;line-height:normal;font-family:Menlo,'DejaVu Sans Mono',consolas,'Courier New',monospace\">[[], [], [], [], [], [], [], [], [], [], ... [], [], [], [], [], [], [], [], [], []]\n",
       "</pre>\n"
      ],
      "text/plain": [
       "[[], [], [], [], [], [], [], [], [], [], ... [], [], [], [], [], [], [], [], [], []]\n"
      ]
     },
     "metadata": {},
     "output_type": "display_data"
    },
    {
     "data": {
      "text/html": [
       "<pre style=\"white-space:pre;overflow-x:auto;line-height:normal;font-family:Menlo,'DejaVu Sans Mono',consolas,'Courier New',monospace\">[[], [], [], [], [], [], [], [], [], [], ... [], [], [], [], [], [], [], [], [], []]\n",
       "</pre>\n"
      ],
      "text/plain": [
       "[[], [], [], [], [], [], [], [], [], [], ... [], [], [], [], [], [], [], [], [], []]\n"
      ]
     },
     "metadata": {},
     "output_type": "display_data"
    },
    {
     "data": {
      "text/html": [
       "<pre style=\"white-space:pre;overflow-x:auto;line-height:normal;font-family:Menlo,'DejaVu Sans Mono',consolas,'Courier New',monospace\">Start:  9597   TT\n",
       "</pre>\n"
      ],
      "text/plain": [
       "Start:  9597   TT\n"
      ]
     },
     "metadata": {},
     "output_type": "display_data"
    },
    {
     "data": {
      "text/html": [
       "<pre style=\"white-space:pre;overflow-x:auto;line-height:normal;font-family:Menlo,'DejaVu Sans Mono',consolas,'Courier New',monospace\">Extra Ele Veto:  8215\n",
       "</pre>\n"
      ],
      "text/plain": [
       "Extra Ele Veto:  8215\n"
      ]
     },
     "metadata": {},
     "output_type": "display_data"
    },
    {
     "data": {
      "text/html": [
       "<pre style=\"white-space:pre;overflow-x:auto;line-height:normal;font-family:Menlo,'DejaVu Sans Mono',consolas,'Courier New',monospace\">Extra Mu Veto:  367\n",
       "</pre>\n"
      ],
      "text/plain": [
       "Extra Mu Veto:  367\n"
      ]
     },
     "metadata": {},
     "output_type": "display_data"
    },
    {
     "data": {
      "text/html": [
       "<pre style=\"white-space:pre;overflow-x:auto;line-height:normal;font-family:Menlo,'DejaVu Sans Mono',consolas,'Courier New',monospace\">BJet Veto:  62\n",
       "</pre>\n"
      ],
      "text/plain": [
       "BJet Veto:  62\n"
      ]
     },
     "metadata": {},
     "output_type": "display_data"
    },
    {
     "data": {
      "text/html": [
       "<pre style=\"white-space:pre;overflow-x:auto;line-height:normal;font-family:Menlo,'DejaVu Sans Mono',consolas,'Courier New',monospace\">Pairs:  133  Vector:  133\n",
       "</pre>\n"
      ],
      "text/plain": [
       "Pairs:  133  Vector:  133\n"
      ]
     },
     "metadata": {},
     "output_type": "display_data"
    },
    {
     "data": {
      "text/html": [
       "<pre style=\"white-space:pre;overflow-x:auto;line-height:normal;font-family:Menlo,'DejaVu Sans Mono',consolas,'Courier New',monospace\">[[], [False, False, True], [False], ... [True, True], [True, True, True, True]]\n",
       "</pre>\n"
      ],
      "text/plain": [
       "[[], [False, False, True], [False], ... [True, True], [True, True, True, True]]\n"
      ]
     },
     "metadata": {},
     "output_type": "display_data"
    },
    {
     "data": {
      "text/html": [
       "<pre style=\"white-space:pre;overflow-x:auto;line-height:normal;font-family:Menlo,'DejaVu Sans Mono',consolas,'Courier New',monospace\">Postcut: Pairs:  4  Vector:  4\n",
       "</pre>\n"
      ],
      "text/plain": [
       "Postcut: Pairs:  4  Vector:  4\n"
      ]
     },
     "metadata": {},
     "output_type": "display_data"
    },
    {
     "data": {
      "text/html": [
       "<pre style=\"white-space:pre;overflow-x:auto;line-height:normal;font-family:Menlo,'DejaVu Sans Mono',consolas,'Courier New',monospace\">[[], [], [], [], [], [], [], [], [], [], ... [], [], [], [], [], [], [], [], [], []]\n",
       "</pre>\n"
      ],
      "text/plain": [
       "[[], [], [], [], [], [], [], [], [], [], ... [], [], [], [], [], [], [], [], [], []]\n"
      ]
     },
     "metadata": {},
     "output_type": "display_data"
    },
    {
     "data": {
      "text/html": [
       "<pre style=\"white-space:pre;overflow-x:auto;line-height:normal;font-family:Menlo,'DejaVu Sans Mono',consolas,'Courier New',monospace\">[[], [], [], [], [], [], [], [], [], [], ... [], [], [], [], [], [], [], [], [], []]\n",
       "</pre>\n"
      ],
      "text/plain": [
       "[[], [], [], [], [], [], [], [], [], [], ... [], [], [], [], [], [], [], [], [], []]\n"
      ]
     },
     "metadata": {},
     "output_type": "display_data"
    },
    {
     "data": {
      "text/html": [
       "<pre style=\"white-space:pre;overflow-x:auto;line-height:normal;font-family:Menlo,'DejaVu Sans Mono',consolas,'Courier New',monospace\">Start:  9412   TT\n",
       "</pre>\n"
      ],
      "text/plain": [
       "Start:  9412   TT\n"
      ]
     },
     "metadata": {},
     "output_type": "display_data"
    },
    {
     "data": {
      "text/html": [
       "<pre style=\"white-space:pre;overflow-x:auto;line-height:normal;font-family:Menlo,'DejaVu Sans Mono',consolas,'Courier New',monospace\">Extra Ele Veto:  7985\n",
       "</pre>\n"
      ],
      "text/plain": [
       "Extra Ele Veto:  7985\n"
      ]
     },
     "metadata": {},
     "output_type": "display_data"
    },
    {
     "data": {
      "text/html": [
       "<pre style=\"white-space:pre;overflow-x:auto;line-height:normal;font-family:Menlo,'DejaVu Sans Mono',consolas,'Courier New',monospace\">Extra Mu Veto:  319\n",
       "</pre>\n"
      ],
      "text/plain": [
       "Extra Mu Veto:  319\n"
      ]
     },
     "metadata": {},
     "output_type": "display_data"
    },
    {
     "data": {
      "text/html": [
       "<pre style=\"white-space:pre;overflow-x:auto;line-height:normal;font-family:Menlo,'DejaVu Sans Mono',consolas,'Courier New',monospace\">BJet Veto:  54\n",
       "</pre>\n"
      ],
      "text/plain": [
       "BJet Veto:  54\n"
      ]
     },
     "metadata": {},
     "output_type": "display_data"
    },
    {
     "data": {
      "text/html": [
       "<pre style=\"white-space:pre;overflow-x:auto;line-height:normal;font-family:Menlo,'DejaVu Sans Mono',consolas,'Courier New',monospace\">Pairs:  107  Vector:  107\n",
       "</pre>\n"
      ],
      "text/plain": [
       "Pairs:  107  Vector:  107\n"
      ]
     },
     "metadata": {},
     "output_type": "display_data"
    },
    {
     "data": {
      "text/html": [
       "<pre style=\"white-space:pre;overflow-x:auto;line-height:normal;font-family:Menlo,'DejaVu Sans Mono',consolas,'Courier New',monospace\">[[], [], [], [], [True], [True], ... [], [True, True], [], [], [False, False]]\n",
       "</pre>\n"
      ],
      "text/plain": [
       "[[], [], [], [], [True], [True], ... [], [True, True], [], [], [False, False]]\n"
      ]
     },
     "metadata": {},
     "output_type": "display_data"
    },
    {
     "data": {
      "text/html": [
       "<pre style=\"white-space:pre;overflow-x:auto;line-height:normal;font-family:Menlo,'DejaVu Sans Mono',consolas,'Courier New',monospace\">Postcut: Pairs:  1  Vector:  1\n",
       "</pre>\n"
      ],
      "text/plain": [
       "Postcut: Pairs:  1  Vector:  1\n"
      ]
     },
     "metadata": {},
     "output_type": "display_data"
    },
    {
     "data": {
      "text/html": [
       "<pre style=\"white-space:pre;overflow-x:auto;line-height:normal;font-family:Menlo,'DejaVu Sans Mono',consolas,'Courier New',monospace\">[[], [], [], [], [], [], [], [], [], [], ... [], [], [], [], [], [], [], [], [], []]\n",
       "</pre>\n"
      ],
      "text/plain": [
       "[[], [], [], [], [], [], [], [], [], [], ... [], [], [], [], [], [], [], [], [], []]\n"
      ]
     },
     "metadata": {},
     "output_type": "display_data"
    },
    {
     "data": {
      "text/html": [
       "<pre style=\"white-space:pre;overflow-x:auto;line-height:normal;font-family:Menlo,'DejaVu Sans Mono',consolas,'Courier New',monospace\">[[], [], [], [], [], [], [], [], [], [], ... [], [], [], [], [], [], [], [], [], []]\n",
       "</pre>\n"
      ],
      "text/plain": [
       "[[], [], [], [], [], [], [], [], [], [], ... [], [], [], [], [], [], [], [], [], []]\n"
      ]
     },
     "metadata": {},
     "output_type": "display_data"
    },
    {
     "data": {
      "text/html": [
       "<pre style=\"white-space:pre;overflow-x:auto;line-height:normal;font-family:Menlo,'DejaVu Sans Mono',consolas,'Courier New',monospace\">Start:  9223   TT\n",
       "</pre>\n"
      ],
      "text/plain": [
       "Start:  9223   TT\n"
      ]
     },
     "metadata": {},
     "output_type": "display_data"
    },
    {
     "data": {
      "text/html": [
       "<pre style=\"white-space:pre;overflow-x:auto;line-height:normal;font-family:Menlo,'DejaVu Sans Mono',consolas,'Courier New',monospace\">Extra Ele Veto:  7925\n",
       "</pre>\n"
      ],
      "text/plain": [
       "Extra Ele Veto:  7925\n"
      ]
     },
     "metadata": {},
     "output_type": "display_data"
    },
    {
     "data": {
      "text/html": [
       "<pre style=\"white-space:pre;overflow-x:auto;line-height:normal;font-family:Menlo,'DejaVu Sans Mono',consolas,'Courier New',monospace\">Extra Mu Veto:  310\n",
       "</pre>\n"
      ],
      "text/plain": [
       "Extra Mu Veto:  310\n"
      ]
     },
     "metadata": {},
     "output_type": "display_data"
    },
    {
     "data": {
      "text/html": [
       "<pre style=\"white-space:pre;overflow-x:auto;line-height:normal;font-family:Menlo,'DejaVu Sans Mono',consolas,'Courier New',monospace\">BJet Veto:  84\n",
       "</pre>\n"
      ],
      "text/plain": [
       "BJet Veto:  84\n"
      ]
     },
     "metadata": {},
     "output_type": "display_data"
    },
    {
     "data": {
      "text/html": [
       "<pre style=\"white-space:pre;overflow-x:auto;line-height:normal;font-family:Menlo,'DejaVu Sans Mono',consolas,'Courier New',monospace\">Pairs:  171  Vector:  171\n",
       "</pre>\n"
      ],
      "text/plain": [
       "Pairs:  171  Vector:  171\n"
      ]
     },
     "metadata": {},
     "output_type": "display_data"
    },
    {
     "data": {
      "text/html": [
       "<pre style=\"white-space:pre;overflow-x:auto;line-height:normal;font-family:Menlo,'DejaVu Sans Mono',consolas,'Courier New',monospace\">[[], [], [], [False, True], [], [], ... False, False, False], [], [False], [], []]\n",
       "</pre>\n"
      ],
      "text/plain": [
       "[[], [], [], [False, True], [], [], ... False, False, False], [], [False], [], []]\n"
      ]
     },
     "metadata": {},
     "output_type": "display_data"
    },
    {
     "data": {
      "text/html": [
       "<pre style=\"white-space:pre;overflow-x:auto;line-height:normal;font-family:Menlo,'DejaVu Sans Mono',consolas,'Courier New',monospace\">Postcut: Pairs:  2  Vector:  2\n",
       "</pre>\n"
      ],
      "text/plain": [
       "Postcut: Pairs:  2  Vector:  2\n"
      ]
     },
     "metadata": {},
     "output_type": "display_data"
    },
    {
     "data": {
      "text/html": [
       "<pre style=\"white-space:pre;overflow-x:auto;line-height:normal;font-family:Menlo,'DejaVu Sans Mono',consolas,'Courier New',monospace\">[[], [], [], [], [], [], [], [], [], [], ... [], [], [], [], [], [], [], [], [], []]\n",
       "</pre>\n"
      ],
      "text/plain": [
       "[[], [], [], [], [], [], [], [], [], [], ... [], [], [], [], [], [], [], [], [], []]\n"
      ]
     },
     "metadata": {},
     "output_type": "display_data"
    },
    {
     "data": {
      "text/html": [
       "<pre style=\"white-space:pre;overflow-x:auto;line-height:normal;font-family:Menlo,'DejaVu Sans Mono',consolas,'Courier New',monospace\">[[], [], [], [], [], [], [], [], [], [], ... [], [], [], [], [], [], [], [], [], []]\n",
       "</pre>\n"
      ],
      "text/plain": [
       "[[], [], [], [], [], [], [], [], [], [], ... [], [], [], [], [], [], [], [], [], []]\n"
      ]
     },
     "metadata": {},
     "output_type": "display_data"
    },
    {
     "data": {
      "text/html": [
       "<pre style=\"white-space:pre;overflow-x:auto;line-height:normal;font-family:Menlo,'DejaVu Sans Mono',consolas,'Courier New',monospace\">Start:  9358   TT\n",
       "</pre>\n"
      ],
      "text/plain": [
       "Start:  9358   TT\n"
      ]
     },
     "metadata": {},
     "output_type": "display_data"
    },
    {
     "data": {
      "text/html": [
       "<pre style=\"white-space:pre;overflow-x:auto;line-height:normal;font-family:Menlo,'DejaVu Sans Mono',consolas,'Courier New',monospace\">Extra Ele Veto:  8088\n",
       "</pre>\n"
      ],
      "text/plain": [
       "Extra Ele Veto:  8088\n"
      ]
     },
     "metadata": {},
     "output_type": "display_data"
    },
    {
     "data": {
      "text/html": [
       "<pre style=\"white-space:pre;overflow-x:auto;line-height:normal;font-family:Menlo,'DejaVu Sans Mono',consolas,'Courier New',monospace\">Extra Mu Veto:  290\n",
       "</pre>\n"
      ],
      "text/plain": [
       "Extra Mu Veto:  290\n"
      ]
     },
     "metadata": {},
     "output_type": "display_data"
    },
    {
     "data": {
      "text/html": [
       "<pre style=\"white-space:pre;overflow-x:auto;line-height:normal;font-family:Menlo,'DejaVu Sans Mono',consolas,'Courier New',monospace\">BJet Veto:  51\n",
       "</pre>\n"
      ],
      "text/plain": [
       "BJet Veto:  51\n"
      ]
     },
     "metadata": {},
     "output_type": "display_data"
    },
    {
     "data": {
      "text/html": [
       "<pre style=\"white-space:pre;overflow-x:auto;line-height:normal;font-family:Menlo,'DejaVu Sans Mono',consolas,'Courier New',monospace\">Pairs:  98  Vector:  98\n",
       "</pre>\n"
      ],
      "text/plain": [
       "Pairs:  98  Vector:  98\n"
      ]
     },
     "metadata": {},
     "output_type": "display_data"
    },
    {
     "data": {
      "text/html": [
       "<pre style=\"white-space:pre;overflow-x:auto;line-height:normal;font-family:Menlo,'DejaVu Sans Mono',consolas,'Courier New',monospace\">[[True, True], [], [True], [True, True, True, ... [], [True, False], [], [], []]\n",
       "</pre>\n"
      ],
      "text/plain": [
       "[[True, True], [], [True], [True, True, True, ... [], [True, False], [], [], []]\n"
      ]
     },
     "metadata": {},
     "output_type": "display_data"
    },
    {
     "data": {
      "text/html": [
       "<pre style=\"white-space:pre;overflow-x:auto;line-height:normal;font-family:Menlo,'DejaVu Sans Mono',consolas,'Courier New',monospace\">0\n",
       "</pre>\n"
      ],
      "text/plain": [
       "0\n"
      ]
     },
     "metadata": {},
     "output_type": "display_data"
    },
    {
     "data": {
      "text/html": [
       "<pre style=\"white-space:pre;overflow-x:auto;line-height:normal;font-family:Menlo,'DejaVu Sans Mono',consolas,'Courier New',monospace\">Start:  9187   TT\n",
       "</pre>\n"
      ],
      "text/plain": [
       "Start:  9187   TT\n"
      ]
     },
     "metadata": {},
     "output_type": "display_data"
    },
    {
     "data": {
      "text/html": [
       "<pre style=\"white-space:pre;overflow-x:auto;line-height:normal;font-family:Menlo,'DejaVu Sans Mono',consolas,'Courier New',monospace\">Extra Ele Veto:  7806\n",
       "</pre>\n"
      ],
      "text/plain": [
       "Extra Ele Veto:  7806\n"
      ]
     },
     "metadata": {},
     "output_type": "display_data"
    },
    {
     "data": {
      "text/html": [
       "<pre style=\"white-space:pre;overflow-x:auto;line-height:normal;font-family:Menlo,'DejaVu Sans Mono',consolas,'Courier New',monospace\">Extra Mu Veto:  304\n",
       "</pre>\n"
      ],
      "text/plain": [
       "Extra Mu Veto:  304\n"
      ]
     },
     "metadata": {},
     "output_type": "display_data"
    },
    {
     "data": {
      "text/html": [
       "<pre style=\"white-space:pre;overflow-x:auto;line-height:normal;font-family:Menlo,'DejaVu Sans Mono',consolas,'Courier New',monospace\">BJet Veto:  64\n",
       "</pre>\n"
      ],
      "text/plain": [
       "BJet Veto:  64\n"
      ]
     },
     "metadata": {},
     "output_type": "display_data"
    },
    {
     "data": {
      "text/html": [
       "<pre style=\"white-space:pre;overflow-x:auto;line-height:normal;font-family:Menlo,'DejaVu Sans Mono',consolas,'Courier New',monospace\">Pairs:  127  Vector:  127\n",
       "</pre>\n"
      ],
      "text/plain": [
       "Pairs:  127  Vector:  127\n"
      ]
     },
     "metadata": {},
     "output_type": "display_data"
    },
    {
     "data": {
      "text/html": [
       "<pre style=\"white-space:pre;overflow-x:auto;line-height:normal;font-family:Menlo,'DejaVu Sans Mono',consolas,'Courier New',monospace\">[[], [True, True, False, True], [], [True], ... True], [], [True, True], [], [False]]\n",
       "</pre>\n"
      ],
      "text/plain": [
       "[[], [True, True, False, True], [], [True], ... True], [], [True, True], [], [False]]\n"
      ]
     },
     "metadata": {},
     "output_type": "display_data"
    },
    {
     "data": {
      "text/html": [
       "<pre style=\"white-space:pre;overflow-x:auto;line-height:normal;font-family:Menlo,'DejaVu Sans Mono',consolas,'Courier New',monospace\">0\n",
       "</pre>\n"
      ],
      "text/plain": [
       "0\n"
      ]
     },
     "metadata": {},
     "output_type": "display_data"
    },
    {
     "data": {
      "text/html": [
       "<pre style=\"white-space:pre;overflow-x:auto;line-height:normal;font-family:Menlo,'DejaVu Sans Mono',consolas,'Courier New',monospace\">Start:  9077   TT\n",
       "</pre>\n"
      ],
      "text/plain": [
       "Start:  9077   TT\n"
      ]
     },
     "metadata": {},
     "output_type": "display_data"
    },
    {
     "data": {
      "text/html": [
       "<pre style=\"white-space:pre;overflow-x:auto;line-height:normal;font-family:Menlo,'DejaVu Sans Mono',consolas,'Courier New',monospace\">Extra Ele Veto:  7764\n",
       "</pre>\n"
      ],
      "text/plain": [
       "Extra Ele Veto:  7764\n"
      ]
     },
     "metadata": {},
     "output_type": "display_data"
    },
    {
     "data": {
      "text/html": [
       "<pre style=\"white-space:pre;overflow-x:auto;line-height:normal;font-family:Menlo,'DejaVu Sans Mono',consolas,'Courier New',monospace\">Extra Mu Veto:  272\n",
       "</pre>\n"
      ],
      "text/plain": [
       "Extra Mu Veto:  272\n"
      ]
     },
     "metadata": {},
     "output_type": "display_data"
    },
    {
     "data": {
      "text/html": [
       "<pre style=\"white-space:pre;overflow-x:auto;line-height:normal;font-family:Menlo,'DejaVu Sans Mono',consolas,'Courier New',monospace\">BJet Veto:  57\n",
       "</pre>\n"
      ],
      "text/plain": [
       "BJet Veto:  57\n"
      ]
     },
     "metadata": {},
     "output_type": "display_data"
    },
    {
     "data": {
      "text/html": [
       "<pre style=\"white-space:pre;overflow-x:auto;line-height:normal;font-family:Menlo,'DejaVu Sans Mono',consolas,'Courier New',monospace\">Pairs:  122  Vector:  122\n",
       "</pre>\n"
      ],
      "text/plain": [
       "Pairs:  122  Vector:  122\n"
      ]
     },
     "metadata": {},
     "output_type": "display_data"
    },
    {
     "data": {
      "text/html": [
       "<pre style=\"white-space:pre;overflow-x:auto;line-height:normal;font-family:Menlo,'DejaVu Sans Mono',consolas,'Courier New',monospace\">[[True], [False, True], [False], [True, False, ... [], [], [True], [True, True], []]\n",
       "</pre>\n"
      ],
      "text/plain": [
       "[[True], [False, True], [False], [True, False, ... [], [], [True], [True, True], []]\n"
      ]
     },
     "metadata": {},
     "output_type": "display_data"
    },
    {
     "data": {
      "text/html": [
       "<pre style=\"white-space:pre;overflow-x:auto;line-height:normal;font-family:Menlo,'DejaVu Sans Mono',consolas,'Courier New',monospace\">Postcut: Pairs:  2  Vector:  2\n",
       "</pre>\n"
      ],
      "text/plain": [
       "Postcut: Pairs:  2  Vector:  2\n"
      ]
     },
     "metadata": {},
     "output_type": "display_data"
    },
    {
     "data": {
      "text/html": [
       "<pre style=\"white-space:pre;overflow-x:auto;line-height:normal;font-family:Menlo,'DejaVu Sans Mono',consolas,'Courier New',monospace\">[[], [], [], [], [], [], [], [], [], [], ... [], [], [], [], [], [], [], [], [], []]\n",
       "</pre>\n"
      ],
      "text/plain": [
       "[[], [], [], [], [], [], [], [], [], [], ... [], [], [], [], [], [], [], [], [], []]\n"
      ]
     },
     "metadata": {},
     "output_type": "display_data"
    },
    {
     "data": {
      "text/html": [
       "<pre style=\"white-space:pre;overflow-x:auto;line-height:normal;font-family:Menlo,'DejaVu Sans Mono',consolas,'Courier New',monospace\">[[], [], [], [], [], [], [], [], [], [], ... [], [], [], [], [], [], [], [], [], []]\n",
       "</pre>\n"
      ],
      "text/plain": [
       "[[], [], [], [], [], [], [], [], [], [], ... [], [], [], [], [], [], [], [], [], []]\n"
      ]
     },
     "metadata": {},
     "output_type": "display_data"
    },
    {
     "data": {
      "text/html": [
       "<pre style=\"white-space:pre;overflow-x:auto;line-height:normal;font-family:Menlo,'DejaVu Sans Mono',consolas,'Courier New',monospace\">Start:  9110   TT\n",
       "</pre>\n"
      ],
      "text/plain": [
       "Start:  9110   TT\n"
      ]
     },
     "metadata": {},
     "output_type": "display_data"
    },
    {
     "data": {
      "text/html": [
       "<pre style=\"white-space:pre;overflow-x:auto;line-height:normal;font-family:Menlo,'DejaVu Sans Mono',consolas,'Courier New',monospace\">Extra Ele Veto:  7840\n",
       "</pre>\n"
      ],
      "text/plain": [
       "Extra Ele Veto:  7840\n"
      ]
     },
     "metadata": {},
     "output_type": "display_data"
    },
    {
     "data": {
      "text/html": [
       "<pre style=\"white-space:pre;overflow-x:auto;line-height:normal;font-family:Menlo,'DejaVu Sans Mono',consolas,'Courier New',monospace\">Extra Mu Veto:  314\n",
       "</pre>\n"
      ],
      "text/plain": [
       "Extra Mu Veto:  314\n"
      ]
     },
     "metadata": {},
     "output_type": "display_data"
    },
    {
     "data": {
      "text/html": [
       "<pre style=\"white-space:pre;overflow-x:auto;line-height:normal;font-family:Menlo,'DejaVu Sans Mono',consolas,'Courier New',monospace\">BJet Veto:  62\n",
       "</pre>\n"
      ],
      "text/plain": [
       "BJet Veto:  62\n"
      ]
     },
     "metadata": {},
     "output_type": "display_data"
    },
    {
     "data": {
      "text/html": [
       "<pre style=\"white-space:pre;overflow-x:auto;line-height:normal;font-family:Menlo,'DejaVu Sans Mono',consolas,'Courier New',monospace\">Pairs:  140  Vector:  140\n",
       "</pre>\n"
      ],
      "text/plain": [
       "Pairs:  140  Vector:  140\n"
      ]
     },
     "metadata": {},
     "output_type": "display_data"
    },
    {
     "data": {
      "text/html": [
       "<pre style=\"white-space:pre;overflow-x:auto;line-height:normal;font-family:Menlo,'DejaVu Sans Mono',consolas,'Courier New',monospace\">[[True, True], [False, False, False, False], ... [True, False, True], [], []]\n",
       "</pre>\n"
      ],
      "text/plain": [
       "[[True, True], [False, False, False, False], ... [True, False, True], [], []]\n"
      ]
     },
     "metadata": {},
     "output_type": "display_data"
    },
    {
     "data": {
      "text/html": [
       "<pre style=\"white-space:pre;overflow-x:auto;line-height:normal;font-family:Menlo,'DejaVu Sans Mono',consolas,'Courier New',monospace\">Postcut: Pairs:  1  Vector:  1\n",
       "</pre>\n"
      ],
      "text/plain": [
       "Postcut: Pairs:  1  Vector:  1\n"
      ]
     },
     "metadata": {},
     "output_type": "display_data"
    },
    {
     "data": {
      "text/html": [
       "<pre style=\"white-space:pre;overflow-x:auto;line-height:normal;font-family:Menlo,'DejaVu Sans Mono',consolas,'Courier New',monospace\">[[], [], [], [], [], [], [], [], [], [], ... [], [], [], [], [], [], [], [], [], []]\n",
       "</pre>\n"
      ],
      "text/plain": [
       "[[], [], [], [], [], [], [], [], [], [], ... [], [], [], [], [], [], [], [], [], []]\n"
      ]
     },
     "metadata": {},
     "output_type": "display_data"
    },
    {
     "data": {
      "text/html": [
       "<pre style=\"white-space:pre;overflow-x:auto;line-height:normal;font-family:Menlo,'DejaVu Sans Mono',consolas,'Courier New',monospace\">[[], [], [], [], [], [], [], [], [], [], ... [], [], [], [], [], [], [], [], [], []]\n",
       "</pre>\n"
      ],
      "text/plain": [
       "[[], [], [], [], [], [], [], [], [], [], ... [], [], [], [], [], [], [], [], [], []]\n"
      ]
     },
     "metadata": {},
     "output_type": "display_data"
    },
    {
     "data": {
      "text/html": [
       "<pre style=\"white-space:pre;overflow-x:auto;line-height:normal;font-family:Menlo,'DejaVu Sans Mono',consolas,'Courier New',monospace\">Start:  9748   TT\n",
       "</pre>\n"
      ],
      "text/plain": [
       "Start:  9748   TT\n"
      ]
     },
     "metadata": {},
     "output_type": "display_data"
    },
    {
     "data": {
      "text/html": [
       "<pre style=\"white-space:pre;overflow-x:auto;line-height:normal;font-family:Menlo,'DejaVu Sans Mono',consolas,'Courier New',monospace\">Extra Ele Veto:  8304\n",
       "</pre>\n"
      ],
      "text/plain": [
       "Extra Ele Veto:  8304\n"
      ]
     },
     "metadata": {},
     "output_type": "display_data"
    },
    {
     "data": {
      "text/html": [
       "<pre style=\"white-space:pre;overflow-x:auto;line-height:normal;font-family:Menlo,'DejaVu Sans Mono',consolas,'Courier New',monospace\">Extra Mu Veto:  369\n",
       "</pre>\n"
      ],
      "text/plain": [
       "Extra Mu Veto:  369\n"
      ]
     },
     "metadata": {},
     "output_type": "display_data"
    },
    {
     "data": {
      "text/html": [
       "<pre style=\"white-space:pre;overflow-x:auto;line-height:normal;font-family:Menlo,'DejaVu Sans Mono',consolas,'Courier New',monospace\">BJet Veto:  55\n",
       "</pre>\n"
      ],
      "text/plain": [
       "BJet Veto:  55\n"
      ]
     },
     "metadata": {},
     "output_type": "display_data"
    },
    {
     "data": {
      "text/html": [
       "<pre style=\"white-space:pre;overflow-x:auto;line-height:normal;font-family:Menlo,'DejaVu Sans Mono',consolas,'Courier New',monospace\">Pairs:  104  Vector:  104\n",
       "</pre>\n"
      ],
      "text/plain": [
       "Pairs:  104  Vector:  104\n"
      ]
     },
     "metadata": {},
     "output_type": "display_data"
    },
    {
     "data": {
      "text/html": [
       "<pre style=\"white-space:pre;overflow-x:auto;line-height:normal;font-family:Menlo,'DejaVu Sans Mono',consolas,'Courier New',monospace\">[[], [True, True, False, False, False, False, False, False, ... [], [], [], [], []]\n",
       "</pre>\n"
      ],
      "text/plain": [
       "[[], [True, True, False, False, False, False, False, False, ... [], [], [], [], []]\n"
      ]
     },
     "metadata": {},
     "output_type": "display_data"
    },
    {
     "data": {
      "text/html": [
       "<pre style=\"white-space:pre;overflow-x:auto;line-height:normal;font-family:Menlo,'DejaVu Sans Mono',consolas,'Courier New',monospace\">Postcut: Pairs:  2  Vector:  2\n",
       "</pre>\n"
      ],
      "text/plain": [
       "Postcut: Pairs:  2  Vector:  2\n"
      ]
     },
     "metadata": {},
     "output_type": "display_data"
    },
    {
     "data": {
      "text/html": [
       "<pre style=\"white-space:pre;overflow-x:auto;line-height:normal;font-family:Menlo,'DejaVu Sans Mono',consolas,'Courier New',monospace\">[[], [], [], [], [], [], [], [], [], [], ... [], [], [], [], [], [], [], [], [], []]\n",
       "</pre>\n"
      ],
      "text/plain": [
       "[[], [], [], [], [], [], [], [], [], [], ... [], [], [], [], [], [], [], [], [], []]\n"
      ]
     },
     "metadata": {},
     "output_type": "display_data"
    },
    {
     "data": {
      "text/html": [
       "<pre style=\"white-space:pre;overflow-x:auto;line-height:normal;font-family:Menlo,'DejaVu Sans Mono',consolas,'Courier New',monospace\">[[], [], [], [], [], [], [], [], [], [], ... [], [], [], [], [], [], [], [], [], []]\n",
       "</pre>\n"
      ],
      "text/plain": [
       "[[], [], [], [], [], [], [], [], [], [], ... [], [], [], [], [], [], [], [], [], []]\n"
      ]
     },
     "metadata": {},
     "output_type": "display_data"
    },
    {
     "data": {
      "text/html": [
       "<pre style=\"white-space:pre;overflow-x:auto;line-height:normal;font-family:Menlo,'DejaVu Sans Mono',consolas,'Courier New',monospace\">Start:  9591   TT\n",
       "</pre>\n"
      ],
      "text/plain": [
       "Start:  9591   TT\n"
      ]
     },
     "metadata": {},
     "output_type": "display_data"
    },
    {
     "data": {
      "text/html": [
       "<pre style=\"white-space:pre;overflow-x:auto;line-height:normal;font-family:Menlo,'DejaVu Sans Mono',consolas,'Courier New',monospace\">Extra Ele Veto:  8195\n",
       "</pre>\n"
      ],
      "text/plain": [
       "Extra Ele Veto:  8195\n"
      ]
     },
     "metadata": {},
     "output_type": "display_data"
    },
    {
     "data": {
      "text/html": [
       "<pre style=\"white-space:pre;overflow-x:auto;line-height:normal;font-family:Menlo,'DejaVu Sans Mono',consolas,'Courier New',monospace\">Extra Mu Veto:  330\n",
       "</pre>\n"
      ],
      "text/plain": [
       "Extra Mu Veto:  330\n"
      ]
     },
     "metadata": {},
     "output_type": "display_data"
    },
    {
     "data": {
      "text/html": [
       "<pre style=\"white-space:pre;overflow-x:auto;line-height:normal;font-family:Menlo,'DejaVu Sans Mono',consolas,'Courier New',monospace\">BJet Veto:  68\n",
       "</pre>\n"
      ],
      "text/plain": [
       "BJet Veto:  68\n"
      ]
     },
     "metadata": {},
     "output_type": "display_data"
    },
    {
     "data": {
      "text/html": [
       "<pre style=\"white-space:pre;overflow-x:auto;line-height:normal;font-family:Menlo,'DejaVu Sans Mono',consolas,'Courier New',monospace\">Pairs:  152  Vector:  152\n",
       "</pre>\n"
      ],
      "text/plain": [
       "Pairs:  152  Vector:  152\n"
      ]
     },
     "metadata": {},
     "output_type": "display_data"
    },
    {
     "data": {
      "text/html": [
       "<pre style=\"white-space:pre;overflow-x:auto;line-height:normal;font-family:Menlo,'DejaVu Sans Mono',consolas,'Courier New',monospace\">[[True], [True], [], [False, False], ... [True, True, True], [], [True, True, True]]\n",
       "</pre>\n"
      ],
      "text/plain": [
       "[[True], [True], [], [False, False], ... [True, True, True], [], [True, True, True]]\n"
      ]
     },
     "metadata": {},
     "output_type": "display_data"
    },
    {
     "data": {
      "text/html": [
       "<pre style=\"white-space:pre;overflow-x:auto;line-height:normal;font-family:Menlo,'DejaVu Sans Mono',consolas,'Courier New',monospace\">Postcut: Pairs:  4  Vector:  4\n",
       "</pre>\n"
      ],
      "text/plain": [
       "Postcut: Pairs:  4  Vector:  4\n"
      ]
     },
     "metadata": {},
     "output_type": "display_data"
    },
    {
     "data": {
      "text/html": [
       "<pre style=\"white-space:pre;overflow-x:auto;line-height:normal;font-family:Menlo,'DejaVu Sans Mono',consolas,'Courier New',monospace\">[[], [], [], [], [], [], [], [], [], [], ... [], [], [], [], [], [], [], [], [], []]\n",
       "</pre>\n"
      ],
      "text/plain": [
       "[[], [], [], [], [], [], [], [], [], [], ... [], [], [], [], [], [], [], [], [], []]\n"
      ]
     },
     "metadata": {},
     "output_type": "display_data"
    },
    {
     "data": {
      "text/html": [
       "<pre style=\"white-space:pre;overflow-x:auto;line-height:normal;font-family:Menlo,'DejaVu Sans Mono',consolas,'Courier New',monospace\">[[], [], [], [], [], [], [], [], [], [], ... [], [], [], [], [], [], [], [], [], []]\n",
       "</pre>\n"
      ],
      "text/plain": [
       "[[], [], [], [], [], [], [], [], [], [], ... [], [], [], [], [], [], [], [], [], []]\n"
      ]
     },
     "metadata": {},
     "output_type": "display_data"
    },
    {
     "data": {
      "text/html": [
       "<pre style=\"white-space:pre;overflow-x:auto;line-height:normal;font-family:Menlo,'DejaVu Sans Mono',consolas,'Courier New',monospace\">Start:  9514   TT\n",
       "</pre>\n"
      ],
      "text/plain": [
       "Start:  9514   TT\n"
      ]
     },
     "metadata": {},
     "output_type": "display_data"
    },
    {
     "data": {
      "text/html": [
       "<pre style=\"white-space:pre;overflow-x:auto;line-height:normal;font-family:Menlo,'DejaVu Sans Mono',consolas,'Courier New',monospace\">Extra Ele Veto:  8193\n",
       "</pre>\n"
      ],
      "text/plain": [
       "Extra Ele Veto:  8193\n"
      ]
     },
     "metadata": {},
     "output_type": "display_data"
    },
    {
     "data": {
      "text/html": [
       "<pre style=\"white-space:pre;overflow-x:auto;line-height:normal;font-family:Menlo,'DejaVu Sans Mono',consolas,'Courier New',monospace\">Extra Mu Veto:  295\n",
       "</pre>\n"
      ],
      "text/plain": [
       "Extra Mu Veto:  295\n"
      ]
     },
     "metadata": {},
     "output_type": "display_data"
    },
    {
     "data": {
      "text/html": [
       "<pre style=\"white-space:pre;overflow-x:auto;line-height:normal;font-family:Menlo,'DejaVu Sans Mono',consolas,'Courier New',monospace\">BJet Veto:  43\n",
       "</pre>\n"
      ],
      "text/plain": [
       "BJet Veto:  43\n"
      ]
     },
     "metadata": {},
     "output_type": "display_data"
    },
    {
     "data": {
      "text/html": [
       "<pre style=\"white-space:pre;overflow-x:auto;line-height:normal;font-family:Menlo,'DejaVu Sans Mono',consolas,'Courier New',monospace\">Pairs:  86  Vector:  86\n",
       "</pre>\n"
      ],
      "text/plain": [
       "Pairs:  86  Vector:  86\n"
      ]
     },
     "metadata": {},
     "output_type": "display_data"
    },
    {
     "data": {
      "text/html": [
       "<pre style=\"white-space:pre;overflow-x:auto;line-height:normal;font-family:Menlo,'DejaVu Sans Mono',consolas,'Courier New',monospace\">[[False], [False, True], [], [True, True, False, ... [], [], [], [False], [], []]\n",
       "</pre>\n"
      ],
      "text/plain": [
       "[[False], [False, True], [], [True, True, False, ... [], [], [], [False], [], []]\n"
      ]
     },
     "metadata": {},
     "output_type": "display_data"
    },
    {
     "data": {
      "text/html": [
       "<pre style=\"white-space:pre;overflow-x:auto;line-height:normal;font-family:Menlo,'DejaVu Sans Mono',consolas,'Courier New',monospace\">Postcut: Pairs:  1  Vector:  1\n",
       "</pre>\n"
      ],
      "text/plain": [
       "Postcut: Pairs:  1  Vector:  1\n"
      ]
     },
     "metadata": {},
     "output_type": "display_data"
    },
    {
     "data": {
      "text/html": [
       "<pre style=\"white-space:pre;overflow-x:auto;line-height:normal;font-family:Menlo,'DejaVu Sans Mono',consolas,'Courier New',monospace\">[[], [], [], [False], [], [], [], [], [], ... [], [], [], [], [], [], [], [], []]\n",
       "</pre>\n"
      ],
      "text/plain": [
       "[[], [], [], [False], [], [], [], [], [], ... [], [], [], [], [], [], [], [], []]\n"
      ]
     },
     "metadata": {},
     "output_type": "display_data"
    },
    {
     "data": {
      "text/html": [
       "<pre style=\"white-space:pre;overflow-x:auto;line-height:normal;font-family:Menlo,'DejaVu Sans Mono',consolas,'Courier New',monospace\">[[], [], [], [{tau: {pt: 66.5, eta: -1.62, phi: 0.64, ... [], [], [], [], [], []]\n",
       "</pre>\n"
      ],
      "text/plain": [
       "[[], [], [], [{tau: {pt: 66.5, eta: -1.62, phi: 0.64, ... [], [], [], [], [], []]\n"
      ]
     },
     "metadata": {},
     "output_type": "display_data"
    },
    {
     "data": {
      "text/html": [
       "<pre style=\"white-space:pre;overflow-x:auto;line-height:normal;font-family:Menlo,'DejaVu Sans Mono',consolas,'Courier New',monospace\">Start:  9655   TT\n",
       "</pre>\n"
      ],
      "text/plain": [
       "Start:  9655   TT\n"
      ]
     },
     "metadata": {},
     "output_type": "display_data"
    },
    {
     "data": {
      "text/html": [
       "<pre style=\"white-space:pre;overflow-x:auto;line-height:normal;font-family:Menlo,'DejaVu Sans Mono',consolas,'Courier New',monospace\">Extra Ele Veto:  8190\n",
       "</pre>\n"
      ],
      "text/plain": [
       "Extra Ele Veto:  8190\n"
      ]
     },
     "metadata": {},
     "output_type": "display_data"
    },
    {
     "data": {
      "text/html": [
       "<pre style=\"white-space:pre;overflow-x:auto;line-height:normal;font-family:Menlo,'DejaVu Sans Mono',consolas,'Courier New',monospace\">Extra Mu Veto:  304\n",
       "</pre>\n"
      ],
      "text/plain": [
       "Extra Mu Veto:  304\n"
      ]
     },
     "metadata": {},
     "output_type": "display_data"
    },
    {
     "data": {
      "text/html": [
       "<pre style=\"white-space:pre;overflow-x:auto;line-height:normal;font-family:Menlo,'DejaVu Sans Mono',consolas,'Courier New',monospace\">BJet Veto:  70\n",
       "</pre>\n"
      ],
      "text/plain": [
       "BJet Veto:  70\n"
      ]
     },
     "metadata": {},
     "output_type": "display_data"
    },
    {
     "data": {
      "text/html": [
       "<pre style=\"white-space:pre;overflow-x:auto;line-height:normal;font-family:Menlo,'DejaVu Sans Mono',consolas,'Courier New',monospace\">Pairs:  155  Vector:  155\n",
       "</pre>\n"
      ],
      "text/plain": [
       "Pairs:  155  Vector:  155\n"
      ]
     },
     "metadata": {},
     "output_type": "display_data"
    },
    {
     "data": {
      "text/html": [
       "<pre style=\"white-space:pre;overflow-x:auto;line-height:normal;font-family:Menlo,'DejaVu Sans Mono',consolas,'Courier New',monospace\">[[False, False, False, False, False, False, True, True, ... True], [], [True, False]]\n",
       "</pre>\n"
      ],
      "text/plain": [
       "[[False, False, False, False, False, False, True, True, ... True], [], [True, False]]\n"
      ]
     },
     "metadata": {},
     "output_type": "display_data"
    },
    {
     "data": {
      "text/html": [
       "<pre style=\"white-space:pre;overflow-x:auto;line-height:normal;font-family:Menlo,'DejaVu Sans Mono',consolas,'Courier New',monospace\">Postcut: Pairs:  5  Vector:  5\n",
       "</pre>\n"
      ],
      "text/plain": [
       "Postcut: Pairs:  5  Vector:  5\n"
      ]
     },
     "metadata": {},
     "output_type": "display_data"
    },
    {
     "data": {
      "text/html": [
       "<pre style=\"white-space:pre;overflow-x:auto;line-height:normal;font-family:Menlo,'DejaVu Sans Mono',consolas,'Courier New',monospace\">[[], [], [], [], [], [], [], [], [], [], ... [], [], [], [], [], [], [], [], [], []]\n",
       "</pre>\n"
      ],
      "text/plain": [
       "[[], [], [], [], [], [], [], [], [], [], ... [], [], [], [], [], [], [], [], [], []]\n"
      ]
     },
     "metadata": {},
     "output_type": "display_data"
    },
    {
     "data": {
      "text/html": [
       "<pre style=\"white-space:pre;overflow-x:auto;line-height:normal;font-family:Menlo,'DejaVu Sans Mono',consolas,'Courier New',monospace\">[[], [], [], [], [], [], [], [], [], [], ... [], [], [], [], [], [], [], [], [], []]\n",
       "</pre>\n"
      ],
      "text/plain": [
       "[[], [], [], [], [], [], [], [], [], [], ... [], [], [], [], [], [], [], [], [], []]\n"
      ]
     },
     "metadata": {},
     "output_type": "display_data"
    },
    {
     "data": {
      "text/html": [
       "<pre style=\"white-space:pre;overflow-x:auto;line-height:normal;font-family:Menlo,'DejaVu Sans Mono',consolas,'Courier New',monospace\">Start:  9403   TT\n",
       "</pre>\n"
      ],
      "text/plain": [
       "Start:  9403   TT\n"
      ]
     },
     "metadata": {},
     "output_type": "display_data"
    },
    {
     "data": {
      "text/html": [
       "<pre style=\"white-space:pre;overflow-x:auto;line-height:normal;font-family:Menlo,'DejaVu Sans Mono',consolas,'Courier New',monospace\">Extra Ele Veto:  8052\n",
       "</pre>\n"
      ],
      "text/plain": [
       "Extra Ele Veto:  8052\n"
      ]
     },
     "metadata": {},
     "output_type": "display_data"
    },
    {
     "data": {
      "text/html": [
       "<pre style=\"white-space:pre;overflow-x:auto;line-height:normal;font-family:Menlo,'DejaVu Sans Mono',consolas,'Courier New',monospace\">Extra Mu Veto:  322\n",
       "</pre>\n"
      ],
      "text/plain": [
       "Extra Mu Veto:  322\n"
      ]
     },
     "metadata": {},
     "output_type": "display_data"
    },
    {
     "data": {
      "text/html": [
       "<pre style=\"white-space:pre;overflow-x:auto;line-height:normal;font-family:Menlo,'DejaVu Sans Mono',consolas,'Courier New',monospace\">BJet Veto:  63\n",
       "</pre>\n"
      ],
      "text/plain": [
       "BJet Veto:  63\n"
      ]
     },
     "metadata": {},
     "output_type": "display_data"
    },
    {
     "data": {
      "text/html": [
       "<pre style=\"white-space:pre;overflow-x:auto;line-height:normal;font-family:Menlo,'DejaVu Sans Mono',consolas,'Courier New',monospace\">Pairs:  134  Vector:  134\n",
       "</pre>\n"
      ],
      "text/plain": [
       "Pairs:  134  Vector:  134\n"
      ]
     },
     "metadata": {},
     "output_type": "display_data"
    },
    {
     "data": {
      "text/html": [
       "<pre style=\"white-space:pre;overflow-x:auto;line-height:normal;font-family:Menlo,'DejaVu Sans Mono',consolas,'Courier New',monospace\">[[], [], [], [], [True, True, False, ... True], [False, False, True], [True, True]]\n",
       "</pre>\n"
      ],
      "text/plain": [
       "[[], [], [], [], [True, True, False, ... True], [False, False, True], [True, True]]\n"
      ]
     },
     "metadata": {},
     "output_type": "display_data"
    },
    {
     "data": {
      "text/html": [
       "<pre style=\"white-space:pre;overflow-x:auto;line-height:normal;font-family:Menlo,'DejaVu Sans Mono',consolas,'Courier New',monospace\">Postcut: Pairs:  1  Vector:  1\n",
       "</pre>\n"
      ],
      "text/plain": [
       "Postcut: Pairs:  1  Vector:  1\n"
      ]
     },
     "metadata": {},
     "output_type": "display_data"
    },
    {
     "data": {
      "text/html": [
       "<pre style=\"white-space:pre;overflow-x:auto;line-height:normal;font-family:Menlo,'DejaVu Sans Mono',consolas,'Courier New',monospace\">[[], [], [], [], [], [], [], [], [], [], ... [], [], [], [], [], [], [], [], [], []]\n",
       "</pre>\n"
      ],
      "text/plain": [
       "[[], [], [], [], [], [], [], [], [], [], ... [], [], [], [], [], [], [], [], [], []]\n"
      ]
     },
     "metadata": {},
     "output_type": "display_data"
    },
    {
     "data": {
      "text/html": [
       "<pre style=\"white-space:pre;overflow-x:auto;line-height:normal;font-family:Menlo,'DejaVu Sans Mono',consolas,'Courier New',monospace\">[[], [], [], [], [], [], [], [], [], [], ... [], [], [], [], [], [], [], [], [], []]\n",
       "</pre>\n"
      ],
      "text/plain": [
       "[[], [], [], [], [], [], [], [], [], [], ... [], [], [], [], [], [], [], [], [], []]\n"
      ]
     },
     "metadata": {},
     "output_type": "display_data"
    },
    {
     "data": {
      "text/html": [
       "<pre style=\"white-space:pre;overflow-x:auto;line-height:normal;font-family:Menlo,'DejaVu Sans Mono',consolas,'Courier New',monospace\">Start:  8202   WJets\n",
       "</pre>\n"
      ],
      "text/plain": [
       "Start:  8202   WJets\n"
      ]
     },
     "metadata": {},
     "output_type": "display_data"
    },
    {
     "data": {
      "text/html": [
       "<pre style=\"white-space:pre;overflow-x:auto;line-height:normal;font-family:Menlo,'DejaVu Sans Mono',consolas,'Courier New',monospace\">Extra Ele Veto:  7632\n",
       "</pre>\n"
      ],
      "text/plain": [
       "Extra Ele Veto:  7632\n"
      ]
     },
     "metadata": {},
     "output_type": "display_data"
    },
    {
     "data": {
      "text/html": [
       "<pre style=\"white-space:pre;overflow-x:auto;line-height:normal;font-family:Menlo,'DejaVu Sans Mono',consolas,'Courier New',monospace\">Extra Mu Veto:  217\n",
       "</pre>\n"
      ],
      "text/plain": [
       "Extra Mu Veto:  217\n"
      ]
     },
     "metadata": {},
     "output_type": "display_data"
    },
    {
     "data": {
      "text/html": [
       "<pre style=\"white-space:pre;overflow-x:auto;line-height:normal;font-family:Menlo,'DejaVu Sans Mono',consolas,'Courier New',monospace\">BJet Veto:  174\n",
       "</pre>\n"
      ],
      "text/plain": [
       "BJet Veto:  174\n"
      ]
     },
     "metadata": {},
     "output_type": "display_data"
    },
    {
     "data": {
      "text/html": [
       "<pre style=\"white-space:pre;overflow-x:auto;line-height:normal;font-family:Menlo,'DejaVu Sans Mono',consolas,'Courier New',monospace\">Pairs:  314  Vector:  314\n",
       "</pre>\n"
      ],
      "text/plain": [
       "Pairs:  314  Vector:  314\n"
      ]
     },
     "metadata": {},
     "output_type": "display_data"
    },
    {
     "data": {
      "text/html": [
       "<pre style=\"white-space:pre;overflow-x:auto;line-height:normal;font-family:Menlo,'DejaVu Sans Mono',consolas,'Courier New',monospace\">[[], [True, True, False, False], [], [], [], ... [True], [], [], [False], [], []]\n",
       "</pre>\n"
      ],
      "text/plain": [
       "[[], [True, True, False, False], [], [], [], ... [True], [], [], [False], [], []]\n"
      ]
     },
     "metadata": {},
     "output_type": "display_data"
    },
    {
     "data": {
      "text/html": [
       "<pre style=\"white-space:pre;overflow-x:auto;line-height:normal;font-family:Menlo,'DejaVu Sans Mono',consolas,'Courier New',monospace\">Postcut: Pairs:  2  Vector:  2\n",
       "</pre>\n"
      ],
      "text/plain": [
       "Postcut: Pairs:  2  Vector:  2\n"
      ]
     },
     "metadata": {},
     "output_type": "display_data"
    },
    {
     "data": {
      "text/html": [
       "<pre style=\"white-space:pre;overflow-x:auto;line-height:normal;font-family:Menlo,'DejaVu Sans Mono',consolas,'Courier New',monospace\">[[], [], [], [], [], [], [], [], [], [], ... [], [], [], [], [], [], [], [], [], []]\n",
       "</pre>\n"
      ],
      "text/plain": [
       "[[], [], [], [], [], [], [], [], [], [], ... [], [], [], [], [], [], [], [], [], []]\n"
      ]
     },
     "metadata": {},
     "output_type": "display_data"
    },
    {
     "data": {
      "text/html": [
       "<pre style=\"white-space:pre;overflow-x:auto;line-height:normal;font-family:Menlo,'DejaVu Sans Mono',consolas,'Courier New',monospace\">[[], [], [], [], [], [], [], [], [], [], ... [], [], [], [], [], [], [], [], [], []]\n",
       "</pre>\n"
      ],
      "text/plain": [
       "[[], [], [], [], [], [], [], [], [], [], ... [], [], [], [], [], [], [], [], [], []]\n"
      ]
     },
     "metadata": {},
     "output_type": "display_data"
    },
    {
     "data": {
      "text/html": [
       "<pre style=\"white-space:pre;overflow-x:auto;line-height:normal;font-family:Menlo,'DejaVu Sans Mono',consolas,'Courier New',monospace\">Start:  8283   WJets\n",
       "</pre>\n"
      ],
      "text/plain": [
       "Start:  8283   WJets\n"
      ]
     },
     "metadata": {},
     "output_type": "display_data"
    },
    {
     "data": {
      "text/html": [
       "<pre style=\"white-space:pre;overflow-x:auto;line-height:normal;font-family:Menlo,'DejaVu Sans Mono',consolas,'Courier New',monospace\">Extra Ele Veto:  7713\n",
       "</pre>\n"
      ],
      "text/plain": [
       "Extra Ele Veto:  7713\n"
      ]
     },
     "metadata": {},
     "output_type": "display_data"
    },
    {
     "data": {
      "text/html": [
       "<pre style=\"white-space:pre;overflow-x:auto;line-height:normal;font-family:Menlo,'DejaVu Sans Mono',consolas,'Courier New',monospace\">Extra Mu Veto:  239\n",
       "</pre>\n"
      ],
      "text/plain": [
       "Extra Mu Veto:  239\n"
      ]
     },
     "metadata": {},
     "output_type": "display_data"
    },
    {
     "data": {
      "text/html": [
       "<pre style=\"white-space:pre;overflow-x:auto;line-height:normal;font-family:Menlo,'DejaVu Sans Mono',consolas,'Courier New',monospace\">BJet Veto:  211\n",
       "</pre>\n"
      ],
      "text/plain": [
       "BJet Veto:  211\n"
      ]
     },
     "metadata": {},
     "output_type": "display_data"
    },
    {
     "data": {
      "text/html": [
       "<pre style=\"white-space:pre;overflow-x:auto;line-height:normal;font-family:Menlo,'DejaVu Sans Mono',consolas,'Courier New',monospace\">Pairs:  376  Vector:  376\n",
       "</pre>\n"
      ],
      "text/plain": [
       "Pairs:  376  Vector:  376\n"
      ]
     },
     "metadata": {},
     "output_type": "display_data"
    },
    {
     "data": {
      "text/html": [
       "<pre style=\"white-space:pre;overflow-x:auto;line-height:normal;font-family:Menlo,'DejaVu Sans Mono',consolas,'Courier New',monospace\">[[True, False], [], [], [], [True], [], ... [], [True], [True, False], [], []]\n",
       "</pre>\n"
      ],
      "text/plain": [
       "[[True, False], [], [], [], [True], [], ... [], [True], [True, False], [], []]\n"
      ]
     },
     "metadata": {},
     "output_type": "display_data"
    },
    {
     "data": {
      "text/html": [
       "<pre style=\"white-space:pre;overflow-x:auto;line-height:normal;font-family:Menlo,'DejaVu Sans Mono',consolas,'Courier New',monospace\">Postcut: Pairs:  6  Vector:  6\n",
       "</pre>\n"
      ],
      "text/plain": [
       "Postcut: Pairs:  6  Vector:  6\n"
      ]
     },
     "metadata": {},
     "output_type": "display_data"
    },
    {
     "data": {
      "text/html": [
       "<pre style=\"white-space:pre;overflow-x:auto;line-height:normal;font-family:Menlo,'DejaVu Sans Mono',consolas,'Courier New',monospace\">[[], [], [], [], [], [], [], [], [], [], ... [], [], [], [], [], [], [], [], [], []]\n",
       "</pre>\n"
      ],
      "text/plain": [
       "[[], [], [], [], [], [], [], [], [], [], ... [], [], [], [], [], [], [], [], [], []]\n"
      ]
     },
     "metadata": {},
     "output_type": "display_data"
    },
    {
     "data": {
      "text/html": [
       "<pre style=\"white-space:pre;overflow-x:auto;line-height:normal;font-family:Menlo,'DejaVu Sans Mono',consolas,'Courier New',monospace\">[[], [], [], [], [], [], [], [], [], [], ... [], [], [], [], [], [], [], [], [], []]\n",
       "</pre>\n"
      ],
      "text/plain": [
       "[[], [], [], [], [], [], [], [], [], [], ... [], [], [], [], [], [], [], [], [], []]\n"
      ]
     },
     "metadata": {},
     "output_type": "display_data"
    },
    {
     "data": {
      "text/html": [
       "<pre style=\"white-space:pre;overflow-x:auto;line-height:normal;font-family:Menlo,'DejaVu Sans Mono',consolas,'Courier New',monospace\">Start:  8242   WJets\n",
       "</pre>\n"
      ],
      "text/plain": [
       "Start:  8242   WJets\n"
      ]
     },
     "metadata": {},
     "output_type": "display_data"
    },
    {
     "data": {
      "text/html": [
       "<pre style=\"white-space:pre;overflow-x:auto;line-height:normal;font-family:Menlo,'DejaVu Sans Mono',consolas,'Courier New',monospace\">Extra Ele Veto:  7711\n",
       "</pre>\n"
      ],
      "text/plain": [
       "Extra Ele Veto:  7711\n"
      ]
     },
     "metadata": {},
     "output_type": "display_data"
    },
    {
     "data": {
      "text/html": [
       "<pre style=\"white-space:pre;overflow-x:auto;line-height:normal;font-family:Menlo,'DejaVu Sans Mono',consolas,'Courier New',monospace\">Extra Mu Veto:  224\n",
       "</pre>\n"
      ],
      "text/plain": [
       "Extra Mu Veto:  224\n"
      ]
     },
     "metadata": {},
     "output_type": "display_data"
    },
    {
     "data": {
      "text/html": [
       "<pre style=\"white-space:pre;overflow-x:auto;line-height:normal;font-family:Menlo,'DejaVu Sans Mono',consolas,'Courier New',monospace\">BJet Veto:  190\n",
       "</pre>\n"
      ],
      "text/plain": [
       "BJet Veto:  190\n"
      ]
     },
     "metadata": {},
     "output_type": "display_data"
    },
    {
     "data": {
      "text/html": [
       "<pre style=\"white-space:pre;overflow-x:auto;line-height:normal;font-family:Menlo,'DejaVu Sans Mono',consolas,'Courier New',monospace\">Pairs:  350  Vector:  350\n",
       "</pre>\n"
      ],
      "text/plain": [
       "Pairs:  350  Vector:  350\n"
      ]
     },
     "metadata": {},
     "output_type": "display_data"
    },
    {
     "data": {
      "text/html": [
       "<pre style=\"white-space:pre;overflow-x:auto;line-height:normal;font-family:Menlo,'DejaVu Sans Mono',consolas,'Courier New',monospace\">[[], [], [], [], [], [], [], ... True, True, True], [], [True, True], [False], []]\n",
       "</pre>\n"
      ],
      "text/plain": [
       "[[], [], [], [], [], [], [], ... True, True, True], [], [True, True], [False], []]\n"
      ]
     },
     "metadata": {},
     "output_type": "display_data"
    },
    {
     "data": {
      "text/html": [
       "<pre style=\"white-space:pre;overflow-x:auto;line-height:normal;font-family:Menlo,'DejaVu Sans Mono',consolas,'Courier New',monospace\">Postcut: Pairs:  3  Vector:  3\n",
       "</pre>\n"
      ],
      "text/plain": [
       "Postcut: Pairs:  3  Vector:  3\n"
      ]
     },
     "metadata": {},
     "output_type": "display_data"
    },
    {
     "data": {
      "text/html": [
       "<pre style=\"white-space:pre;overflow-x:auto;line-height:normal;font-family:Menlo,'DejaVu Sans Mono',consolas,'Courier New',monospace\">[[], [], [], [], [], [], [], [], [], [], ... [], [], [], [], [], [], [], [], [], []]\n",
       "</pre>\n"
      ],
      "text/plain": [
       "[[], [], [], [], [], [], [], [], [], [], ... [], [], [], [], [], [], [], [], [], []]\n"
      ]
     },
     "metadata": {},
     "output_type": "display_data"
    },
    {
     "data": {
      "text/html": [
       "<pre style=\"white-space:pre;overflow-x:auto;line-height:normal;font-family:Menlo,'DejaVu Sans Mono',consolas,'Courier New',monospace\">[[], [], [], [], [], [], [], [], [], [], ... [], [], [], [], [], [], [], [], [], []]\n",
       "</pre>\n"
      ],
      "text/plain": [
       "[[], [], [], [], [], [], [], [], [], [], ... [], [], [], [], [], [], [], [], [], []]\n"
      ]
     },
     "metadata": {},
     "output_type": "display_data"
    },
    {
     "data": {
      "text/html": [
       "<pre style=\"white-space:pre;overflow-x:auto;line-height:normal;font-family:Menlo,'DejaVu Sans Mono',consolas,'Courier New',monospace\">Start:  8335   WJets\n",
       "</pre>\n"
      ],
      "text/plain": [
       "Start:  8335   WJets\n"
      ]
     },
     "metadata": {},
     "output_type": "display_data"
    },
    {
     "data": {
      "text/html": [
       "<pre style=\"white-space:pre;overflow-x:auto;line-height:normal;font-family:Menlo,'DejaVu Sans Mono',consolas,'Courier New',monospace\">Extra Ele Veto:  7731\n",
       "</pre>\n"
      ],
      "text/plain": [
       "Extra Ele Veto:  7731\n"
      ]
     },
     "metadata": {},
     "output_type": "display_data"
    },
    {
     "data": {
      "text/html": [
       "<pre style=\"white-space:pre;overflow-x:auto;line-height:normal;font-family:Menlo,'DejaVu Sans Mono',consolas,'Courier New',monospace\">Extra Mu Veto:  237\n",
       "</pre>\n"
      ],
      "text/plain": [
       "Extra Mu Veto:  237\n"
      ]
     },
     "metadata": {},
     "output_type": "display_data"
    },
    {
     "data": {
      "text/html": [
       "<pre style=\"white-space:pre;overflow-x:auto;line-height:normal;font-family:Menlo,'DejaVu Sans Mono',consolas,'Courier New',monospace\">BJet Veto:  186\n",
       "</pre>\n"
      ],
      "text/plain": [
       "BJet Veto:  186\n"
      ]
     },
     "metadata": {},
     "output_type": "display_data"
    },
    {
     "data": {
      "text/html": [
       "<pre style=\"white-space:pre;overflow-x:auto;line-height:normal;font-family:Menlo,'DejaVu Sans Mono',consolas,'Courier New',monospace\">Pairs:  321  Vector:  321\n",
       "</pre>\n"
      ],
      "text/plain": [
       "Pairs:  321  Vector:  321\n"
      ]
     },
     "metadata": {},
     "output_type": "display_data"
    },
    {
     "data": {
      "text/html": [
       "<pre style=\"white-space:pre;overflow-x:auto;line-height:normal;font-family:Menlo,'DejaVu Sans Mono',consolas,'Courier New',monospace\">[[True, True, True], [], [], [], [], [], ... [True], [], [], [True], [], []]\n",
       "</pre>\n"
      ],
      "text/plain": [
       "[[True, True, True], [], [], [], [], [], ... [True], [], [], [True], [], []]\n"
      ]
     },
     "metadata": {},
     "output_type": "display_data"
    },
    {
     "data": {
      "text/html": [
       "<pre style=\"white-space:pre;overflow-x:auto;line-height:normal;font-family:Menlo,'DejaVu Sans Mono',consolas,'Courier New',monospace\">Postcut: Pairs:  2  Vector:  2\n",
       "</pre>\n"
      ],
      "text/plain": [
       "Postcut: Pairs:  2  Vector:  2\n"
      ]
     },
     "metadata": {},
     "output_type": "display_data"
    },
    {
     "data": {
      "text/html": [
       "<pre style=\"white-space:pre;overflow-x:auto;line-height:normal;font-family:Menlo,'DejaVu Sans Mono',consolas,'Courier New',monospace\">[[], [], [], [], [], [], [], [], [], [], ... [], [], [], [], [], [], [], [], [], []]\n",
       "</pre>\n"
      ],
      "text/plain": [
       "[[], [], [], [], [], [], [], [], [], [], ... [], [], [], [], [], [], [], [], [], []]\n"
      ]
     },
     "metadata": {},
     "output_type": "display_data"
    },
    {
     "data": {
      "text/html": [
       "<pre style=\"white-space:pre;overflow-x:auto;line-height:normal;font-family:Menlo,'DejaVu Sans Mono',consolas,'Courier New',monospace\">[[], [], [], [], [], [], [], [], [], [], ... [], [], [], [], [], [], [], [], [], []]\n",
       "</pre>\n"
      ],
      "text/plain": [
       "[[], [], [], [], [], [], [], [], [], [], ... [], [], [], [], [], [], [], [], [], []]\n"
      ]
     },
     "metadata": {},
     "output_type": "display_data"
    },
    {
     "data": {
      "text/html": [
       "<pre style=\"white-space:pre;overflow-x:auto;line-height:normal;font-family:Menlo,'DejaVu Sans Mono',consolas,'Courier New',monospace\">Start:  10282   WJets\n",
       "</pre>\n"
      ],
      "text/plain": [
       "Start:  10282   WJets\n"
      ]
     },
     "metadata": {},
     "output_type": "display_data"
    },
    {
     "data": {
      "text/html": [
       "<pre style=\"white-space:pre;overflow-x:auto;line-height:normal;font-family:Menlo,'DejaVu Sans Mono',consolas,'Courier New',monospace\">Extra Ele Veto:  9570\n",
       "</pre>\n"
      ],
      "text/plain": [
       "Extra Ele Veto:  9570\n"
      ]
     },
     "metadata": {},
     "output_type": "display_data"
    },
    {
     "data": {
      "text/html": [
       "<pre style=\"white-space:pre;overflow-x:auto;line-height:normal;font-family:Menlo,'DejaVu Sans Mono',consolas,'Courier New',monospace\">Extra Mu Veto:  297\n",
       "</pre>\n"
      ],
      "text/plain": [
       "Extra Mu Veto:  297\n"
      ]
     },
     "metadata": {},
     "output_type": "display_data"
    },
    {
     "data": {
      "text/html": [
       "<pre style=\"white-space:pre;overflow-x:auto;line-height:normal;font-family:Menlo,'DejaVu Sans Mono',consolas,'Courier New',monospace\">BJet Veto:  254\n",
       "</pre>\n"
      ],
      "text/plain": [
       "BJet Veto:  254\n"
      ]
     },
     "metadata": {},
     "output_type": "display_data"
    },
    {
     "data": {
      "text/html": [
       "<pre style=\"white-space:pre;overflow-x:auto;line-height:normal;font-family:Menlo,'DejaVu Sans Mono',consolas,'Courier New',monospace\">Pairs:  466  Vector:  466\n",
       "</pre>\n"
      ],
      "text/plain": [
       "Pairs:  466  Vector:  466\n"
      ]
     },
     "metadata": {},
     "output_type": "display_data"
    },
    {
     "data": {
      "text/html": [
       "<pre style=\"white-space:pre;overflow-x:auto;line-height:normal;font-family:Menlo,'DejaVu Sans Mono',consolas,'Courier New',monospace\">[[], [False, False, False, False, False, False], ... True, True], [], [True, False]]\n",
       "</pre>\n"
      ],
      "text/plain": [
       "[[], [False, False, False, False, False, False], ... True, True], [], [True, False]]\n"
      ]
     },
     "metadata": {},
     "output_type": "display_data"
    },
    {
     "data": {
      "text/html": [
       "<pre style=\"white-space:pre;overflow-x:auto;line-height:normal;font-family:Menlo,'DejaVu Sans Mono',consolas,'Courier New',monospace\">Postcut: Pairs:  5  Vector:  5\n",
       "</pre>\n"
      ],
      "text/plain": [
       "Postcut: Pairs:  5  Vector:  5\n"
      ]
     },
     "metadata": {},
     "output_type": "display_data"
    },
    {
     "data": {
      "text/html": [
       "<pre style=\"white-space:pre;overflow-x:auto;line-height:normal;font-family:Menlo,'DejaVu Sans Mono',consolas,'Courier New',monospace\">[[], [], [], [], [], [], [], [], [], [], ... [], [], [], [], [], [], [], [], [], []]\n",
       "</pre>\n"
      ],
      "text/plain": [
       "[[], [], [], [], [], [], [], [], [], [], ... [], [], [], [], [], [], [], [], [], []]\n"
      ]
     },
     "metadata": {},
     "output_type": "display_data"
    },
    {
     "data": {
      "text/html": [
       "<pre style=\"white-space:pre;overflow-x:auto;line-height:normal;font-family:Menlo,'DejaVu Sans Mono',consolas,'Courier New',monospace\">[[], [], [], [], [], [], [], [], [], [], ... [], [], [], [], [], [], [], [], [], []]\n",
       "</pre>\n"
      ],
      "text/plain": [
       "[[], [], [], [], [], [], [], [], [], [], ... [], [], [], [], [], [], [], [], [], []]\n"
      ]
     },
     "metadata": {},
     "output_type": "display_data"
    },
    {
     "data": {
      "text/html": [
       "<pre style=\"white-space:pre;overflow-x:auto;line-height:normal;font-family:Menlo,'DejaVu Sans Mono',consolas,'Courier New',monospace\">Start:  8230   WJets\n",
       "</pre>\n"
      ],
      "text/plain": [
       "Start:  8230   WJets\n"
      ]
     },
     "metadata": {},
     "output_type": "display_data"
    },
    {
     "data": {
      "text/html": [
       "<pre style=\"white-space:pre;overflow-x:auto;line-height:normal;font-family:Menlo,'DejaVu Sans Mono',consolas,'Courier New',monospace\">Extra Ele Veto:  7664\n",
       "</pre>\n"
      ],
      "text/plain": [
       "Extra Ele Veto:  7664\n"
      ]
     },
     "metadata": {},
     "output_type": "display_data"
    },
    {
     "data": {
      "text/html": [
       "<pre style=\"white-space:pre;overflow-x:auto;line-height:normal;font-family:Menlo,'DejaVu Sans Mono',consolas,'Courier New',monospace\">Extra Mu Veto:  208\n",
       "</pre>\n"
      ],
      "text/plain": [
       "Extra Mu Veto:  208\n"
      ]
     },
     "metadata": {},
     "output_type": "display_data"
    },
    {
     "data": {
      "text/html": [
       "<pre style=\"white-space:pre;overflow-x:auto;line-height:normal;font-family:Menlo,'DejaVu Sans Mono',consolas,'Courier New',monospace\">BJet Veto:  168\n",
       "</pre>\n"
      ],
      "text/plain": [
       "BJet Veto:  168\n"
      ]
     },
     "metadata": {},
     "output_type": "display_data"
    },
    {
     "data": {
      "text/html": [
       "<pre style=\"white-space:pre;overflow-x:auto;line-height:normal;font-family:Menlo,'DejaVu Sans Mono',consolas,'Courier New',monospace\">Pairs:  303  Vector:  303\n",
       "</pre>\n"
      ],
      "text/plain": [
       "Pairs:  303  Vector:  303\n"
      ]
     },
     "metadata": {},
     "output_type": "display_data"
    },
    {
     "data": {
      "text/html": [
       "<pre style=\"white-space:pre;overflow-x:auto;line-height:normal;font-family:Menlo,'DejaVu Sans Mono',consolas,'Courier New',monospace\">[[False, False, True, True, False, False], [True, ... [], [False, True, True], []]\n",
       "</pre>\n"
      ],
      "text/plain": [
       "[[False, False, True, True, False, False], [True, ... [], [False, True, True], []]\n"
      ]
     },
     "metadata": {},
     "output_type": "display_data"
    },
    {
     "data": {
      "text/html": [
       "<pre style=\"white-space:pre;overflow-x:auto;line-height:normal;font-family:Menlo,'DejaVu Sans Mono',consolas,'Courier New',monospace\">Postcut: Pairs:  7  Vector:  7\n",
       "</pre>\n"
      ],
      "text/plain": [
       "Postcut: Pairs:  7  Vector:  7\n"
      ]
     },
     "metadata": {},
     "output_type": "display_data"
    },
    {
     "data": {
      "text/html": [
       "<pre style=\"white-space:pre;overflow-x:auto;line-height:normal;font-family:Menlo,'DejaVu Sans Mono',consolas,'Courier New',monospace\">[[], [], [], [], [], [], [], [], [], [], ... [], [], [], [], [], [], [], [], [], []]\n",
       "</pre>\n"
      ],
      "text/plain": [
       "[[], [], [], [], [], [], [], [], [], [], ... [], [], [], [], [], [], [], [], [], []]\n"
      ]
     },
     "metadata": {},
     "output_type": "display_data"
    },
    {
     "data": {
      "text/html": [
       "<pre style=\"white-space:pre;overflow-x:auto;line-height:normal;font-family:Menlo,'DejaVu Sans Mono',consolas,'Courier New',monospace\">[[], [], [], [], [], [], [], [], [], [], ... [], [], [], [], [], [], [], [], [], []]\n",
       "</pre>\n"
      ],
      "text/plain": [
       "[[], [], [], [], [], [], [], [], [], [], ... [], [], [], [], [], [], [], [], [], []]\n"
      ]
     },
     "metadata": {},
     "output_type": "display_data"
    },
    {
     "data": {
      "text/html": [
       "<pre style=\"white-space:pre;overflow-x:auto;line-height:normal;font-family:Menlo,'DejaVu Sans Mono',consolas,'Courier New',monospace\">Start:  8395   WJets\n",
       "</pre>\n"
      ],
      "text/plain": [
       "Start:  8395   WJets\n"
      ]
     },
     "metadata": {},
     "output_type": "display_data"
    },
    {
     "data": {
      "text/html": [
       "<pre style=\"white-space:pre;overflow-x:auto;line-height:normal;font-family:Menlo,'DejaVu Sans Mono',consolas,'Courier New',monospace\">Extra Ele Veto:  7822\n",
       "</pre>\n"
      ],
      "text/plain": [
       "Extra Ele Veto:  7822\n"
      ]
     },
     "metadata": {},
     "output_type": "display_data"
    },
    {
     "data": {
      "text/html": [
       "<pre style=\"white-space:pre;overflow-x:auto;line-height:normal;font-family:Menlo,'DejaVu Sans Mono',consolas,'Courier New',monospace\">Extra Mu Veto:  230\n",
       "</pre>\n"
      ],
      "text/plain": [
       "Extra Mu Veto:  230\n"
      ]
     },
     "metadata": {},
     "output_type": "display_data"
    },
    {
     "data": {
      "text/html": [
       "<pre style=\"white-space:pre;overflow-x:auto;line-height:normal;font-family:Menlo,'DejaVu Sans Mono',consolas,'Courier New',monospace\">BJet Veto:  195\n",
       "</pre>\n"
      ],
      "text/plain": [
       "BJet Veto:  195\n"
      ]
     },
     "metadata": {},
     "output_type": "display_data"
    },
    {
     "data": {
      "text/html": [
       "<pre style=\"white-space:pre;overflow-x:auto;line-height:normal;font-family:Menlo,'DejaVu Sans Mono',consolas,'Courier New',monospace\">Pairs:  334  Vector:  334\n",
       "</pre>\n"
      ],
      "text/plain": [
       "Pairs:  334  Vector:  334\n"
      ]
     },
     "metadata": {},
     "output_type": "display_data"
    },
    {
     "data": {
      "text/html": [
       "<pre style=\"white-space:pre;overflow-x:auto;line-height:normal;font-family:Menlo,'DejaVu Sans Mono',consolas,'Courier New',monospace\">[[], [], [False, True], [], [], [], ... [True, True], [], [], [False, True, True]]\n",
       "</pre>\n"
      ],
      "text/plain": [
       "[[], [], [False, True], [], [], [], ... [True, True], [], [], [False, True, True]]\n"
      ]
     },
     "metadata": {},
     "output_type": "display_data"
    },
    {
     "data": {
      "text/html": [
       "<pre style=\"white-space:pre;overflow-x:auto;line-height:normal;font-family:Menlo,'DejaVu Sans Mono',consolas,'Courier New',monospace\">Postcut: Pairs:  7  Vector:  7\n",
       "</pre>\n"
      ],
      "text/plain": [
       "Postcut: Pairs:  7  Vector:  7\n"
      ]
     },
     "metadata": {},
     "output_type": "display_data"
    },
    {
     "data": {
      "text/html": [
       "<pre style=\"white-space:pre;overflow-x:auto;line-height:normal;font-family:Menlo,'DejaVu Sans Mono',consolas,'Courier New',monospace\">[[], [], [], [], [], [], [], [], [], [], ... [], [], [], [], [], [], [], [], [], []]\n",
       "</pre>\n"
      ],
      "text/plain": [
       "[[], [], [], [], [], [], [], [], [], [], ... [], [], [], [], [], [], [], [], [], []]\n"
      ]
     },
     "metadata": {},
     "output_type": "display_data"
    },
    {
     "data": {
      "text/html": [
       "<pre style=\"white-space:pre;overflow-x:auto;line-height:normal;font-family:Menlo,'DejaVu Sans Mono',consolas,'Courier New',monospace\">[[], [], [], [], [], [], [], [], [], [], ... [], [], [], [], [], [], [], [], [], []]\n",
       "</pre>\n"
      ],
      "text/plain": [
       "[[], [], [], [], [], [], [], [], [], [], ... [], [], [], [], [], [], [], [], [], []]\n"
      ]
     },
     "metadata": {},
     "output_type": "display_data"
    },
    {
     "data": {
      "text/html": [
       "<pre style=\"white-space:pre;overflow-x:auto;line-height:normal;font-family:Menlo,'DejaVu Sans Mono',consolas,'Courier New',monospace\">Start:  8366   WJets\n",
       "</pre>\n"
      ],
      "text/plain": [
       "Start:  8366   WJets\n"
      ]
     },
     "metadata": {},
     "output_type": "display_data"
    },
    {
     "data": {
      "text/html": [
       "<pre style=\"white-space:pre;overflow-x:auto;line-height:normal;font-family:Menlo,'DejaVu Sans Mono',consolas,'Courier New',monospace\">Extra Ele Veto:  7816\n",
       "</pre>\n"
      ],
      "text/plain": [
       "Extra Ele Veto:  7816\n"
      ]
     },
     "metadata": {},
     "output_type": "display_data"
    },
    {
     "data": {
      "text/html": [
       "<pre style=\"white-space:pre;overflow-x:auto;line-height:normal;font-family:Menlo,'DejaVu Sans Mono',consolas,'Courier New',monospace\">Extra Mu Veto:  245\n",
       "</pre>\n"
      ],
      "text/plain": [
       "Extra Mu Veto:  245\n"
      ]
     },
     "metadata": {},
     "output_type": "display_data"
    },
    {
     "data": {
      "text/html": [
       "<pre style=\"white-space:pre;overflow-x:auto;line-height:normal;font-family:Menlo,'DejaVu Sans Mono',consolas,'Courier New',monospace\">BJet Veto:  204\n",
       "</pre>\n"
      ],
      "text/plain": [
       "BJet Veto:  204\n"
      ]
     },
     "metadata": {},
     "output_type": "display_data"
    },
    {
     "data": {
      "text/html": [
       "<pre style=\"white-space:pre;overflow-x:auto;line-height:normal;font-family:Menlo,'DejaVu Sans Mono',consolas,'Courier New',monospace\">Pairs:  393  Vector:  393\n",
       "</pre>\n"
      ],
      "text/plain": [
       "Pairs:  393  Vector:  393\n"
      ]
     },
     "metadata": {},
     "output_type": "display_data"
    },
    {
     "data": {
      "text/html": [
       "<pre style=\"white-space:pre;overflow-x:auto;line-height:normal;font-family:Menlo,'DejaVu Sans Mono',consolas,'Courier New',monospace\">[[], [False, True], [], [], [], [False, False, ... [], [], [], [], [True, True], []]\n",
       "</pre>\n"
      ],
      "text/plain": [
       "[[], [False, True], [], [], [], [False, False, ... [], [], [], [], [True, True], []]\n"
      ]
     },
     "metadata": {},
     "output_type": "display_data"
    },
    {
     "data": {
      "text/html": [
       "<pre style=\"white-space:pre;overflow-x:auto;line-height:normal;font-family:Menlo,'DejaVu Sans Mono',consolas,'Courier New',monospace\">Postcut: Pairs:  5  Vector:  5\n",
       "</pre>\n"
      ],
      "text/plain": [
       "Postcut: Pairs:  5  Vector:  5\n"
      ]
     },
     "metadata": {},
     "output_type": "display_data"
    },
    {
     "data": {
      "text/html": [
       "<pre style=\"white-space:pre;overflow-x:auto;line-height:normal;font-family:Menlo,'DejaVu Sans Mono',consolas,'Courier New',monospace\">[[], [], [], [], [], [], [], [], [], ... [], [], [], [], [], [], [], [], []]\n",
       "</pre>\n"
      ],
      "text/plain": [
       "[[], [], [], [], [], [], [], [], [], ... [], [], [], [], [], [], [], [], []]\n"
      ]
     },
     "metadata": {},
     "output_type": "display_data"
    },
    {
     "data": {
      "text/html": [
       "<pre style=\"white-space:pre;overflow-x:auto;line-height:normal;font-family:Menlo,'DejaVu Sans Mono',consolas,'Courier New',monospace\">[[], [], [], [], [], [], [], [], [], ... [], [], [], [], [], [], [], [], [], []]\n",
       "</pre>\n"
      ],
      "text/plain": [
       "[[], [], [], [], [], [], [], [], [], ... [], [], [], [], [], [], [], [], [], []]\n"
      ]
     },
     "metadata": {},
     "output_type": "display_data"
    },
    {
     "data": {
      "text/html": [
       "<pre style=\"white-space:pre;overflow-x:auto;line-height:normal;font-family:Menlo,'DejaVu Sans Mono',consolas,'Courier New',monospace\">Start:  8405   WJets\n",
       "</pre>\n"
      ],
      "text/plain": [
       "Start:  8405   WJets\n"
      ]
     },
     "metadata": {},
     "output_type": "display_data"
    },
    {
     "data": {
      "text/html": [
       "<pre style=\"white-space:pre;overflow-x:auto;line-height:normal;font-family:Menlo,'DejaVu Sans Mono',consolas,'Courier New',monospace\">Extra Ele Veto:  7869\n",
       "</pre>\n"
      ],
      "text/plain": [
       "Extra Ele Veto:  7869\n"
      ]
     },
     "metadata": {},
     "output_type": "display_data"
    },
    {
     "data": {
      "text/html": [
       "<pre style=\"white-space:pre;overflow-x:auto;line-height:normal;font-family:Menlo,'DejaVu Sans Mono',consolas,'Courier New',monospace\">Extra Mu Veto:  235\n",
       "</pre>\n"
      ],
      "text/plain": [
       "Extra Mu Veto:  235\n"
      ]
     },
     "metadata": {},
     "output_type": "display_data"
    },
    {
     "data": {
      "text/html": [
       "<pre style=\"white-space:pre;overflow-x:auto;line-height:normal;font-family:Menlo,'DejaVu Sans Mono',consolas,'Courier New',monospace\">BJet Veto:  196\n",
       "</pre>\n"
      ],
      "text/plain": [
       "BJet Veto:  196\n"
      ]
     },
     "metadata": {},
     "output_type": "display_data"
    },
    {
     "data": {
      "text/html": [
       "<pre style=\"white-space:pre;overflow-x:auto;line-height:normal;font-family:Menlo,'DejaVu Sans Mono',consolas,'Courier New',monospace\">Pairs:  370  Vector:  370\n",
       "</pre>\n"
      ],
      "text/plain": [
       "Pairs:  370  Vector:  370\n"
      ]
     },
     "metadata": {},
     "output_type": "display_data"
    },
    {
     "data": {
      "text/html": [
       "<pre style=\"white-space:pre;overflow-x:auto;line-height:normal;font-family:Menlo,'DejaVu Sans Mono',consolas,'Courier New',monospace\">[[True, True], [True], [False, True], [], ... [False, True, True], [], [True], []]\n",
       "</pre>\n"
      ],
      "text/plain": [
       "[[True, True], [True], [False, True], [], ... [False, True, True], [], [True], []]\n"
      ]
     },
     "metadata": {},
     "output_type": "display_data"
    },
    {
     "data": {
      "text/html": [
       "<pre style=\"white-space:pre;overflow-x:auto;line-height:normal;font-family:Menlo,'DejaVu Sans Mono',consolas,'Courier New',monospace\">0\n",
       "</pre>\n"
      ],
      "text/plain": [
       "0\n"
      ]
     },
     "metadata": {},
     "output_type": "display_data"
    },
    {
     "data": {
      "text/html": [
       "<pre style=\"white-space:pre;overflow-x:auto;line-height:normal;font-family:Menlo,'DejaVu Sans Mono',consolas,'Courier New',monospace\">Start:  8471   WJets\n",
       "</pre>\n"
      ],
      "text/plain": [
       "Start:  8471   WJets\n"
      ]
     },
     "metadata": {},
     "output_type": "display_data"
    },
    {
     "data": {
      "text/html": [
       "<pre style=\"white-space:pre;overflow-x:auto;line-height:normal;font-family:Menlo,'DejaVu Sans Mono',consolas,'Courier New',monospace\">Extra Ele Veto:  7847\n",
       "</pre>\n"
      ],
      "text/plain": [
       "Extra Ele Veto:  7847\n"
      ]
     },
     "metadata": {},
     "output_type": "display_data"
    },
    {
     "data": {
      "text/html": [
       "<pre style=\"white-space:pre;overflow-x:auto;line-height:normal;font-family:Menlo,'DejaVu Sans Mono',consolas,'Courier New',monospace\">Extra Mu Veto:  235\n",
       "</pre>\n"
      ],
      "text/plain": [
       "Extra Mu Veto:  235\n"
      ]
     },
     "metadata": {},
     "output_type": "display_data"
    },
    {
     "data": {
      "text/html": [
       "<pre style=\"white-space:pre;overflow-x:auto;line-height:normal;font-family:Menlo,'DejaVu Sans Mono',consolas,'Courier New',monospace\">BJet Veto:  195\n",
       "</pre>\n"
      ],
      "text/plain": [
       "BJet Veto:  195\n"
      ]
     },
     "metadata": {},
     "output_type": "display_data"
    },
    {
     "data": {
      "text/html": [
       "<pre style=\"white-space:pre;overflow-x:auto;line-height:normal;font-family:Menlo,'DejaVu Sans Mono',consolas,'Courier New',monospace\">Pairs:  358  Vector:  358\n",
       "</pre>\n"
      ],
      "text/plain": [
       "Pairs:  358  Vector:  358\n"
      ]
     },
     "metadata": {},
     "output_type": "display_data"
    },
    {
     "data": {
      "text/html": [
       "<pre style=\"white-space:pre;overflow-x:auto;line-height:normal;font-family:Menlo,'DejaVu Sans Mono',consolas,'Courier New',monospace\">[[], [], [True, False], [False], ... False], [True], [False, False, False], []]\n",
       "</pre>\n"
      ],
      "text/plain": [
       "[[], [], [True, False], [False], ... False], [True], [False, False, False], []]\n"
      ]
     },
     "metadata": {},
     "output_type": "display_data"
    },
    {
     "data": {
      "text/html": [
       "<pre style=\"white-space:pre;overflow-x:auto;line-height:normal;font-family:Menlo,'DejaVu Sans Mono',consolas,'Courier New',monospace\">Postcut: Pairs:  5  Vector:  5\n",
       "</pre>\n"
      ],
      "text/plain": [
       "Postcut: Pairs:  5  Vector:  5\n"
      ]
     },
     "metadata": {},
     "output_type": "display_data"
    },
    {
     "data": {
      "text/html": [
       "<pre style=\"white-space:pre;overflow-x:auto;line-height:normal;font-family:Menlo,'DejaVu Sans Mono',consolas,'Courier New',monospace\">[[], [], [], [], [], [], [], [], [], [], ... [], [], [], [], [], [], [], [], [], []]\n",
       "</pre>\n"
      ],
      "text/plain": [
       "[[], [], [], [], [], [], [], [], [], [], ... [], [], [], [], [], [], [], [], [], []]\n"
      ]
     },
     "metadata": {},
     "output_type": "display_data"
    },
    {
     "data": {
      "text/html": [
       "<pre style=\"white-space:pre;overflow-x:auto;line-height:normal;font-family:Menlo,'DejaVu Sans Mono',consolas,'Courier New',monospace\">[[], [], [], [], [], [], [], [], [], [], ... [], [], [], [], [], [], [], [], [], []]\n",
       "</pre>\n"
      ],
      "text/plain": [
       "[[], [], [], [], [], [], [], [], [], [], ... [], [], [], [], [], [], [], [], [], []]\n"
      ]
     },
     "metadata": {},
     "output_type": "display_data"
    },
    {
     "data": {
      "text/html": [
       "<pre style=\"white-space:pre;overflow-x:auto;line-height:normal;font-family:Menlo,'DejaVu Sans Mono',consolas,'Courier New',monospace\">Start:  8445   WJets\n",
       "</pre>\n"
      ],
      "text/plain": [
       "Start:  8445   WJets\n"
      ]
     },
     "metadata": {},
     "output_type": "display_data"
    },
    {
     "data": {
      "text/html": [
       "<pre style=\"white-space:pre;overflow-x:auto;line-height:normal;font-family:Menlo,'DejaVu Sans Mono',consolas,'Courier New',monospace\">Extra Ele Veto:  7883\n",
       "</pre>\n"
      ],
      "text/plain": [
       "Extra Ele Veto:  7883\n"
      ]
     },
     "metadata": {},
     "output_type": "display_data"
    },
    {
     "data": {
      "text/html": [
       "<pre style=\"white-space:pre;overflow-x:auto;line-height:normal;font-family:Menlo,'DejaVu Sans Mono',consolas,'Courier New',monospace\">Extra Mu Veto:  239\n",
       "</pre>\n"
      ],
      "text/plain": [
       "Extra Mu Veto:  239\n"
      ]
     },
     "metadata": {},
     "output_type": "display_data"
    },
    {
     "data": {
      "text/html": [
       "<pre style=\"white-space:pre;overflow-x:auto;line-height:normal;font-family:Menlo,'DejaVu Sans Mono',consolas,'Courier New',monospace\">BJet Veto:  198\n",
       "</pre>\n"
      ],
      "text/plain": [
       "BJet Veto:  198\n"
      ]
     },
     "metadata": {},
     "output_type": "display_data"
    },
    {
     "data": {
      "text/html": [
       "<pre style=\"white-space:pre;overflow-x:auto;line-height:normal;font-family:Menlo,'DejaVu Sans Mono',consolas,'Courier New',monospace\">Pairs:  354  Vector:  354\n",
       "</pre>\n"
      ],
      "text/plain": [
       "Pairs:  354  Vector:  354\n"
      ]
     },
     "metadata": {},
     "output_type": "display_data"
    },
    {
     "data": {
      "text/html": [
       "<pre style=\"white-space:pre;overflow-x:auto;line-height:normal;font-family:Menlo,'DejaVu Sans Mono',consolas,'Courier New',monospace\">[[], [], [], [], [False, False, False, False], ... True], [], [], [], [], [True]]\n",
       "</pre>\n"
      ],
      "text/plain": [
       "[[], [], [], [], [False, False, False, False], ... True], [], [], [], [], [True]]\n"
      ]
     },
     "metadata": {},
     "output_type": "display_data"
    },
    {
     "data": {
      "text/html": [
       "<pre style=\"white-space:pre;overflow-x:auto;line-height:normal;font-family:Menlo,'DejaVu Sans Mono',consolas,'Courier New',monospace\">Postcut: Pairs:  2  Vector:  2\n",
       "</pre>\n"
      ],
      "text/plain": [
       "Postcut: Pairs:  2  Vector:  2\n"
      ]
     },
     "metadata": {},
     "output_type": "display_data"
    },
    {
     "data": {
      "text/html": [
       "<pre style=\"white-space:pre;overflow-x:auto;line-height:normal;font-family:Menlo,'DejaVu Sans Mono',consolas,'Courier New',monospace\">[[], [], [], [], [], [], [], [], [], [], ... [], [], [], [], [], [], [], [], [], []]\n",
       "</pre>\n"
      ],
      "text/plain": [
       "[[], [], [], [], [], [], [], [], [], [], ... [], [], [], [], [], [], [], [], [], []]\n"
      ]
     },
     "metadata": {},
     "output_type": "display_data"
    },
    {
     "data": {
      "text/html": [
       "<pre style=\"white-space:pre;overflow-x:auto;line-height:normal;font-family:Menlo,'DejaVu Sans Mono',consolas,'Courier New',monospace\">[[], [], [], [], [], [], [], [], [], [], ... [], [], [], [], [], [], [], [], [], []]\n",
       "</pre>\n"
      ],
      "text/plain": [
       "[[], [], [], [], [], [], [], [], [], [], ... [], [], [], [], [], [], [], [], [], []]\n"
      ]
     },
     "metadata": {},
     "output_type": "display_data"
    },
    {
     "data": {
      "text/html": [
       "<pre style=\"white-space:pre;overflow-x:auto;line-height:normal;font-family:Menlo,'DejaVu Sans Mono',consolas,'Courier New',monospace\">Start:  8182   WJets\n",
       "</pre>\n"
      ],
      "text/plain": [
       "Start:  8182   WJets\n"
      ]
     },
     "metadata": {},
     "output_type": "display_data"
    },
    {
     "data": {
      "text/html": [
       "<pre style=\"white-space:pre;overflow-x:auto;line-height:normal;font-family:Menlo,'DejaVu Sans Mono',consolas,'Courier New',monospace\">Extra Ele Veto:  7691\n",
       "</pre>\n"
      ],
      "text/plain": [
       "Extra Ele Veto:  7691\n"
      ]
     },
     "metadata": {},
     "output_type": "display_data"
    },
    {
     "data": {
      "text/html": [
       "<pre style=\"white-space:pre;overflow-x:auto;line-height:normal;font-family:Menlo,'DejaVu Sans Mono',consolas,'Courier New',monospace\">Extra Mu Veto:  210\n",
       "</pre>\n"
      ],
      "text/plain": [
       "Extra Mu Veto:  210\n"
      ]
     },
     "metadata": {},
     "output_type": "display_data"
    },
    {
     "data": {
      "text/html": [
       "<pre style=\"white-space:pre;overflow-x:auto;line-height:normal;font-family:Menlo,'DejaVu Sans Mono',consolas,'Courier New',monospace\">BJet Veto:  180\n",
       "</pre>\n"
      ],
      "text/plain": [
       "BJet Veto:  180\n"
      ]
     },
     "metadata": {},
     "output_type": "display_data"
    },
    {
     "data": {
      "text/html": [
       "<pre style=\"white-space:pre;overflow-x:auto;line-height:normal;font-family:Menlo,'DejaVu Sans Mono',consolas,'Courier New',monospace\">Pairs:  336  Vector:  336\n",
       "</pre>\n"
      ],
      "text/plain": [
       "Pairs:  336  Vector:  336\n"
      ]
     },
     "metadata": {},
     "output_type": "display_data"
    },
    {
     "data": {
      "text/html": [
       "<pre style=\"white-space:pre;overflow-x:auto;line-height:normal;font-family:Menlo,'DejaVu Sans Mono',consolas,'Courier New',monospace\">[[], [], [], [True], [], [], [True], ... [], [], [True], [False, False], [], [True]]\n",
       "</pre>\n"
      ],
      "text/plain": [
       "[[], [], [], [True], [], [], [True], ... [], [], [True], [False, False], [], [True]]\n"
      ]
     },
     "metadata": {},
     "output_type": "display_data"
    },
    {
     "data": {
      "text/html": [
       "<pre style=\"white-space:pre;overflow-x:auto;line-height:normal;font-family:Menlo,'DejaVu Sans Mono',consolas,'Courier New',monospace\">Postcut: Pairs:  6  Vector:  6\n",
       "</pre>\n"
      ],
      "text/plain": [
       "Postcut: Pairs:  6  Vector:  6\n"
      ]
     },
     "metadata": {},
     "output_type": "display_data"
    },
    {
     "data": {
      "text/html": [
       "<pre style=\"white-space:pre;overflow-x:auto;line-height:normal;font-family:Menlo,'DejaVu Sans Mono',consolas,'Courier New',monospace\">[[], [], [], [], [], [], [], [], [], [], ... [], [], [], [], [], [], [], [], [], []]\n",
       "</pre>\n"
      ],
      "text/plain": [
       "[[], [], [], [], [], [], [], [], [], [], ... [], [], [], [], [], [], [], [], [], []]\n"
      ]
     },
     "metadata": {},
     "output_type": "display_data"
    },
    {
     "data": {
      "text/html": [
       "<pre style=\"white-space:pre;overflow-x:auto;line-height:normal;font-family:Menlo,'DejaVu Sans Mono',consolas,'Courier New',monospace\">[[], [], [], [], [], [], [], [], [], [], ... [], [], [], [], [], [], [], [], [], []]\n",
       "</pre>\n"
      ],
      "text/plain": [
       "[[], [], [], [], [], [], [], [], [], [], ... [], [], [], [], [], [], [], [], [], []]\n"
      ]
     },
     "metadata": {},
     "output_type": "display_data"
    },
    {
     "data": {
      "text/html": [
       "<pre style=\"white-space:pre;overflow-x:auto;line-height:normal;font-family:Menlo,'DejaVu Sans Mono',consolas,'Courier New',monospace\">Start:  8322   WJets\n",
       "</pre>\n"
      ],
      "text/plain": [
       "Start:  8322   WJets\n"
      ]
     },
     "metadata": {},
     "output_type": "display_data"
    },
    {
     "data": {
      "text/html": [
       "<pre style=\"white-space:pre;overflow-x:auto;line-height:normal;font-family:Menlo,'DejaVu Sans Mono',consolas,'Courier New',monospace\">Extra Ele Veto:  7787\n",
       "</pre>\n"
      ],
      "text/plain": [
       "Extra Ele Veto:  7787\n"
      ]
     },
     "metadata": {},
     "output_type": "display_data"
    },
    {
     "data": {
      "text/html": [
       "<pre style=\"white-space:pre;overflow-x:auto;line-height:normal;font-family:Menlo,'DejaVu Sans Mono',consolas,'Courier New',monospace\">Extra Mu Veto:  246\n",
       "</pre>\n"
      ],
      "text/plain": [
       "Extra Mu Veto:  246\n"
      ]
     },
     "metadata": {},
     "output_type": "display_data"
    },
    {
     "data": {
      "text/html": [
       "<pre style=\"white-space:pre;overflow-x:auto;line-height:normal;font-family:Menlo,'DejaVu Sans Mono',consolas,'Courier New',monospace\">BJet Veto:  206\n",
       "</pre>\n"
      ],
      "text/plain": [
       "BJet Veto:  206\n"
      ]
     },
     "metadata": {},
     "output_type": "display_data"
    },
    {
     "data": {
      "text/html": [
       "<pre style=\"white-space:pre;overflow-x:auto;line-height:normal;font-family:Menlo,'DejaVu Sans Mono',consolas,'Courier New',monospace\">Pairs:  371  Vector:  371\n",
       "</pre>\n"
      ],
      "text/plain": [
       "Pairs:  371  Vector:  371\n"
      ]
     },
     "metadata": {},
     "output_type": "display_data"
    },
    {
     "data": {
      "text/html": [
       "<pre style=\"white-space:pre;overflow-x:auto;line-height:normal;font-family:Menlo,'DejaVu Sans Mono',consolas,'Courier New',monospace\">[[True, True], [], [], [False, True], ... [True, True], [True, True, False], []]\n",
       "</pre>\n"
      ],
      "text/plain": [
       "[[True, True], [], [], [False, True], ... [True, True], [True, True, False], []]\n"
      ]
     },
     "metadata": {},
     "output_type": "display_data"
    },
    {
     "data": {
      "text/html": [
       "<pre style=\"white-space:pre;overflow-x:auto;line-height:normal;font-family:Menlo,'DejaVu Sans Mono',consolas,'Courier New',monospace\">Postcut: Pairs:  5  Vector:  5\n",
       "</pre>\n"
      ],
      "text/plain": [
       "Postcut: Pairs:  5  Vector:  5\n"
      ]
     },
     "metadata": {},
     "output_type": "display_data"
    },
    {
     "data": {
      "text/html": [
       "<pre style=\"white-space:pre;overflow-x:auto;line-height:normal;font-family:Menlo,'DejaVu Sans Mono',consolas,'Courier New',monospace\">[[], [], [], [], [], [], [], [], [], [], ... [], [], [], [], [], [], [], [], [], []]\n",
       "</pre>\n"
      ],
      "text/plain": [
       "[[], [], [], [], [], [], [], [], [], [], ... [], [], [], [], [], [], [], [], [], []]\n"
      ]
     },
     "metadata": {},
     "output_type": "display_data"
    },
    {
     "data": {
      "text/html": [
       "<pre style=\"white-space:pre;overflow-x:auto;line-height:normal;font-family:Menlo,'DejaVu Sans Mono',consolas,'Courier New',monospace\">[[], [], [], [], [], [], [], [], [], [], ... [], [], [], [], [], [], [], [], [], []]\n",
       "</pre>\n"
      ],
      "text/plain": [
       "[[], [], [], [], [], [], [], [], [], [], ... [], [], [], [], [], [], [], [], [], []]\n"
      ]
     },
     "metadata": {},
     "output_type": "display_data"
    },
    {
     "data": {
      "text/html": [
       "<pre style=\"white-space:pre;overflow-x:auto;line-height:normal;font-family:Menlo,'DejaVu Sans Mono',consolas,'Courier New',monospace\">Start:  8200   WJets\n",
       "</pre>\n"
      ],
      "text/plain": [
       "Start:  8200   WJets\n"
      ]
     },
     "metadata": {},
     "output_type": "display_data"
    },
    {
     "data": {
      "text/html": [
       "<pre style=\"white-space:pre;overflow-x:auto;line-height:normal;font-family:Menlo,'DejaVu Sans Mono',consolas,'Courier New',monospace\">Extra Ele Veto:  7649\n",
       "</pre>\n"
      ],
      "text/plain": [
       "Extra Ele Veto:  7649\n"
      ]
     },
     "metadata": {},
     "output_type": "display_data"
    },
    {
     "data": {
      "text/html": [
       "<pre style=\"white-space:pre;overflow-x:auto;line-height:normal;font-family:Menlo,'DejaVu Sans Mono',consolas,'Courier New',monospace\">Extra Mu Veto:  223\n",
       "</pre>\n"
      ],
      "text/plain": [
       "Extra Mu Veto:  223\n"
      ]
     },
     "metadata": {},
     "output_type": "display_data"
    },
    {
     "data": {
      "text/html": [
       "<pre style=\"white-space:pre;overflow-x:auto;line-height:normal;font-family:Menlo,'DejaVu Sans Mono',consolas,'Courier New',monospace\">BJet Veto:  190\n",
       "</pre>\n"
      ],
      "text/plain": [
       "BJet Veto:  190\n"
      ]
     },
     "metadata": {},
     "output_type": "display_data"
    },
    {
     "data": {
      "text/html": [
       "<pre style=\"white-space:pre;overflow-x:auto;line-height:normal;font-family:Menlo,'DejaVu Sans Mono',consolas,'Courier New',monospace\">Pairs:  317  Vector:  317\n",
       "</pre>\n"
      ],
      "text/plain": [
       "Pairs:  317  Vector:  317\n"
      ]
     },
     "metadata": {},
     "output_type": "display_data"
    },
    {
     "data": {
      "text/html": [
       "<pre style=\"white-space:pre;overflow-x:auto;line-height:normal;font-family:Menlo,'DejaVu Sans Mono',consolas,'Courier New',monospace\">[[False], [], [], [], [], [False], [True, ... [], [], [True], [], [], [], []]\n",
       "</pre>\n"
      ],
      "text/plain": [
       "[[False], [], [], [], [], [False], [True, ... [], [], [True], [], [], [], []]\n"
      ]
     },
     "metadata": {},
     "output_type": "display_data"
    },
    {
     "data": {
      "text/html": [
       "<pre style=\"white-space:pre;overflow-x:auto;line-height:normal;font-family:Menlo,'DejaVu Sans Mono',consolas,'Courier New',monospace\">Postcut: Pairs:  1  Vector:  1\n",
       "</pre>\n"
      ],
      "text/plain": [
       "Postcut: Pairs:  1  Vector:  1\n"
      ]
     },
     "metadata": {},
     "output_type": "display_data"
    },
    {
     "data": {
      "text/html": [
       "<pre style=\"white-space:pre;overflow-x:auto;line-height:normal;font-family:Menlo,'DejaVu Sans Mono',consolas,'Courier New',monospace\">[[], [], [], [], [], [], [], [], [], [], ... [], [], [], [], [], [], [], [], [], []]\n",
       "</pre>\n"
      ],
      "text/plain": [
       "[[], [], [], [], [], [], [], [], [], [], ... [], [], [], [], [], [], [], [], [], []]\n"
      ]
     },
     "metadata": {},
     "output_type": "display_data"
    },
    {
     "data": {
      "text/html": [
       "<pre style=\"white-space:pre;overflow-x:auto;line-height:normal;font-family:Menlo,'DejaVu Sans Mono',consolas,'Courier New',monospace\">[[], [], [], [], [], [], [], [], [], [], ... [], [], [], [], [], [], [], [], [], []]\n",
       "</pre>\n"
      ],
      "text/plain": [
       "[[], [], [], [], [], [], [], [], [], [], ... [], [], [], [], [], [], [], [], [], []]\n"
      ]
     },
     "metadata": {},
     "output_type": "display_data"
    },
    {
     "data": {
      "text/html": [
       "<pre style=\"white-space:pre;overflow-x:auto;line-height:normal;font-family:Menlo,'DejaVu Sans Mono',consolas,'Courier New',monospace\">Start:  8230   WJets\n",
       "</pre>\n"
      ],
      "text/plain": [
       "Start:  8230   WJets\n"
      ]
     },
     "metadata": {},
     "output_type": "display_data"
    },
    {
     "data": {
      "text/html": [
       "<pre style=\"white-space:pre;overflow-x:auto;line-height:normal;font-family:Menlo,'DejaVu Sans Mono',consolas,'Courier New',monospace\">Extra Ele Veto:  7649\n",
       "</pre>\n"
      ],
      "text/plain": [
       "Extra Ele Veto:  7649\n"
      ]
     },
     "metadata": {},
     "output_type": "display_data"
    },
    {
     "data": {
      "text/html": [
       "<pre style=\"white-space:pre;overflow-x:auto;line-height:normal;font-family:Menlo,'DejaVu Sans Mono',consolas,'Courier New',monospace\">Extra Mu Veto:  219\n",
       "</pre>\n"
      ],
      "text/plain": [
       "Extra Mu Veto:  219\n"
      ]
     },
     "metadata": {},
     "output_type": "display_data"
    },
    {
     "data": {
      "text/html": [
       "<pre style=\"white-space:pre;overflow-x:auto;line-height:normal;font-family:Menlo,'DejaVu Sans Mono',consolas,'Courier New',monospace\">BJet Veto:  182\n",
       "</pre>\n"
      ],
      "text/plain": [
       "BJet Veto:  182\n"
      ]
     },
     "metadata": {},
     "output_type": "display_data"
    },
    {
     "data": {
      "text/html": [
       "<pre style=\"white-space:pre;overflow-x:auto;line-height:normal;font-family:Menlo,'DejaVu Sans Mono',consolas,'Courier New',monospace\">Pairs:  333  Vector:  333\n",
       "</pre>\n"
      ],
      "text/plain": [
       "Pairs:  333  Vector:  333\n"
      ]
     },
     "metadata": {},
     "output_type": "display_data"
    },
    {
     "data": {
      "text/html": [
       "<pre style=\"white-space:pre;overflow-x:auto;line-height:normal;font-family:Menlo,'DejaVu Sans Mono',consolas,'Courier New',monospace\">[[], [True], [True, True], [True, True, ... [], [False], [False, False, True, True]]\n",
       "</pre>\n"
      ],
      "text/plain": [
       "[[], [True], [True, True], [True, True, ... [], [False], [False, False, True, True]]\n"
      ]
     },
     "metadata": {},
     "output_type": "display_data"
    },
    {
     "data": {
      "text/html": [
       "<pre style=\"white-space:pre;overflow-x:auto;line-height:normal;font-family:Menlo,'DejaVu Sans Mono',consolas,'Courier New',monospace\">Postcut: Pairs:  5  Vector:  5\n",
       "</pre>\n"
      ],
      "text/plain": [
       "Postcut: Pairs:  5  Vector:  5\n"
      ]
     },
     "metadata": {},
     "output_type": "display_data"
    },
    {
     "data": {
      "text/html": [
       "<pre style=\"white-space:pre;overflow-x:auto;line-height:normal;font-family:Menlo,'DejaVu Sans Mono',consolas,'Courier New',monospace\">[[], [], [], [], [], [], [], [], [], [], ... [], [], [], [], [], [], [], [], [], []]\n",
       "</pre>\n"
      ],
      "text/plain": [
       "[[], [], [], [], [], [], [], [], [], [], ... [], [], [], [], [], [], [], [], [], []]\n"
      ]
     },
     "metadata": {},
     "output_type": "display_data"
    },
    {
     "data": {
      "text/html": [
       "<pre style=\"white-space:pre;overflow-x:auto;line-height:normal;font-family:Menlo,'DejaVu Sans Mono',consolas,'Courier New',monospace\">[[], [], [], [], [], [], [], [], [], [], ... [], [], [], [], [], [], [], [], [], []]\n",
       "</pre>\n"
      ],
      "text/plain": [
       "[[], [], [], [], [], [], [], [], [], [], ... [], [], [], [], [], [], [], [], [], []]\n"
      ]
     },
     "metadata": {},
     "output_type": "display_data"
    },
    {
     "data": {
      "text/html": [
       "<pre style=\"white-space:pre;overflow-x:auto;line-height:normal;font-family:Menlo,'DejaVu Sans Mono',consolas,'Courier New',monospace\">Start:  8742   WJets\n",
       "</pre>\n"
      ],
      "text/plain": [
       "Start:  8742   WJets\n"
      ]
     },
     "metadata": {},
     "output_type": "display_data"
    },
    {
     "data": {
      "text/html": [
       "<pre style=\"white-space:pre;overflow-x:auto;line-height:normal;font-family:Menlo,'DejaVu Sans Mono',consolas,'Courier New',monospace\">Extra Ele Veto:  8162\n",
       "</pre>\n"
      ],
      "text/plain": [
       "Extra Ele Veto:  8162\n"
      ]
     },
     "metadata": {},
     "output_type": "display_data"
    },
    {
     "data": {
      "text/html": [
       "<pre style=\"white-space:pre;overflow-x:auto;line-height:normal;font-family:Menlo,'DejaVu Sans Mono',consolas,'Courier New',monospace\">Extra Mu Veto:  252\n",
       "</pre>\n"
      ],
      "text/plain": [
       "Extra Mu Veto:  252\n"
      ]
     },
     "metadata": {},
     "output_type": "display_data"
    },
    {
     "data": {
      "text/html": [
       "<pre style=\"white-space:pre;overflow-x:auto;line-height:normal;font-family:Menlo,'DejaVu Sans Mono',consolas,'Courier New',monospace\">BJet Veto:  218\n",
       "</pre>\n"
      ],
      "text/plain": [
       "BJet Veto:  218\n"
      ]
     },
     "metadata": {},
     "output_type": "display_data"
    },
    {
     "data": {
      "text/html": [
       "<pre style=\"white-space:pre;overflow-x:auto;line-height:normal;font-family:Menlo,'DejaVu Sans Mono',consolas,'Courier New',monospace\">Pairs:  373  Vector:  373\n",
       "</pre>\n"
      ],
      "text/plain": [
       "Pairs:  373  Vector:  373\n"
      ]
     },
     "metadata": {},
     "output_type": "display_data"
    },
    {
     "data": {
      "text/html": [
       "<pre style=\"white-space:pre;overflow-x:auto;line-height:normal;font-family:Menlo,'DejaVu Sans Mono',consolas,'Courier New',monospace\">[[], [], [], [], [True, False], [True, True], ... [], [], [True], [False], [], []]\n",
       "</pre>\n"
      ],
      "text/plain": [
       "[[], [], [], [], [True, False], [True, True], ... [], [], [True], [False], [], []]\n"
      ]
     },
     "metadata": {},
     "output_type": "display_data"
    },
    {
     "data": {
      "text/html": [
       "<pre style=\"white-space:pre;overflow-x:auto;line-height:normal;font-family:Menlo,'DejaVu Sans Mono',consolas,'Courier New',monospace\">Postcut: Pairs:  3  Vector:  3\n",
       "</pre>\n"
      ],
      "text/plain": [
       "Postcut: Pairs:  3  Vector:  3\n"
      ]
     },
     "metadata": {},
     "output_type": "display_data"
    },
    {
     "data": {
      "text/html": [
       "<pre style=\"white-space:pre;overflow-x:auto;line-height:normal;font-family:Menlo,'DejaVu Sans Mono',consolas,'Courier New',monospace\">[[], [], [], [], [], [], [], [], [], [], ... [], [], [], [], [], [], [], [], [], []]\n",
       "</pre>\n"
      ],
      "text/plain": [
       "[[], [], [], [], [], [], [], [], [], [], ... [], [], [], [], [], [], [], [], [], []]\n"
      ]
     },
     "metadata": {},
     "output_type": "display_data"
    },
    {
     "data": {
      "text/html": [
       "<pre style=\"white-space:pre;overflow-x:auto;line-height:normal;font-family:Menlo,'DejaVu Sans Mono',consolas,'Courier New',monospace\">[[], [], [], [], [], [], [], [], [], [], ... [], [], [], [], [], [], [], [], [], []]\n",
       "</pre>\n"
      ],
      "text/plain": [
       "[[], [], [], [], [], [], [], [], [], [], ... [], [], [], [], [], [], [], [], [], []]\n"
      ]
     },
     "metadata": {},
     "output_type": "display_data"
    },
    {
     "data": {
      "text/html": [
       "<pre style=\"white-space:pre;overflow-x:auto;line-height:normal;font-family:Menlo,'DejaVu Sans Mono',consolas,'Courier New',monospace\">Start:  12458   DYJets\n",
       "</pre>\n"
      ],
      "text/plain": [
       "Start:  12458   DYJets\n"
      ]
     },
     "metadata": {},
     "output_type": "display_data"
    },
    {
     "data": {
      "text/html": [
       "<pre style=\"white-space:pre;overflow-x:auto;line-height:normal;font-family:Menlo,'DejaVu Sans Mono',consolas,'Courier New',monospace\">Extra Ele Veto:  11603\n",
       "</pre>\n"
      ],
      "text/plain": [
       "Extra Ele Veto:  11603\n"
      ]
     },
     "metadata": {},
     "output_type": "display_data"
    },
    {
     "data": {
      "text/html": [
       "<pre style=\"white-space:pre;overflow-x:auto;line-height:normal;font-family:Menlo,'DejaVu Sans Mono',consolas,'Courier New',monospace\">Extra Mu Veto:  3329\n",
       "</pre>\n"
      ],
      "text/plain": [
       "Extra Mu Veto:  3329\n"
      ]
     },
     "metadata": {},
     "output_type": "display_data"
    },
    {
     "data": {
      "text/html": [
       "<pre style=\"white-space:pre;overflow-x:auto;line-height:normal;font-family:Menlo,'DejaVu Sans Mono',consolas,'Courier New',monospace\">BJet Veto:  2925\n",
       "</pre>\n"
      ],
      "text/plain": [
       "BJet Veto:  2925\n"
      ]
     },
     "metadata": {},
     "output_type": "display_data"
    },
    {
     "data": {
      "text/html": [
       "<pre style=\"white-space:pre;overflow-x:auto;line-height:normal;font-family:Menlo,'DejaVu Sans Mono',consolas,'Courier New',monospace\">Pairs:  6120  Vector:  6120\n",
       "</pre>\n"
      ],
      "text/plain": [
       "Pairs:  6120  Vector:  6120\n"
      ]
     },
     "metadata": {},
     "output_type": "display_data"
    },
    {
     "data": {
      "text/html": [
       "<pre style=\"white-space:pre;overflow-x:auto;line-height:normal;font-family:Menlo,'DejaVu Sans Mono',consolas,'Courier New',monospace\">[[], [True, True, True, True, True, True, ... True, True, True, True, True], []]\n",
       "</pre>\n"
      ],
      "text/plain": [
       "[[], [True, True, True, True, True, True, ... True, True, True, True, True], []]\n"
      ]
     },
     "metadata": {},
     "output_type": "display_data"
    },
    {
     "data": {
      "text/html": [
       "<pre style=\"white-space:pre;overflow-x:auto;line-height:normal;font-family:Menlo,'DejaVu Sans Mono',consolas,'Courier New',monospace\">Postcut: Pairs:  167  Vector:  167\n",
       "</pre>\n"
      ],
      "text/plain": [
       "Postcut: Pairs:  167  Vector:  167\n"
      ]
     },
     "metadata": {},
     "output_type": "display_data"
    },
    {
     "data": {
      "text/html": [
       "<pre style=\"white-space:pre;overflow-x:auto;line-height:normal;font-family:Menlo,'DejaVu Sans Mono',consolas,'Courier New',monospace\">[[], [], [], [], [], [], [], [], [], [], ... [], [], [], [], [], [], [], [], [], []]\n",
       "</pre>\n"
      ],
      "text/plain": [
       "[[], [], [], [], [], [], [], [], [], [], ... [], [], [], [], [], [], [], [], [], []]\n"
      ]
     },
     "metadata": {},
     "output_type": "display_data"
    },
    {
     "data": {
      "text/html": [
       "<pre style=\"white-space:pre;overflow-x:auto;line-height:normal;font-family:Menlo,'DejaVu Sans Mono',consolas,'Courier New',monospace\">[[], [], [], [], [], [], [], [], [], [], ... [], [], [], [], [], [], [], [], [], []]\n",
       "</pre>\n"
      ],
      "text/plain": [
       "[[], [], [], [], [], [], [], [], [], [], ... [], [], [], [], [], [], [], [], [], []]\n"
      ]
     },
     "metadata": {},
     "output_type": "display_data"
    },
    {
     "data": {
      "text/html": [
       "<pre style=\"white-space:pre;overflow-x:auto;line-height:normal;font-family:Menlo,'DejaVu Sans Mono',consolas,'Courier New',monospace\">Start:  12526   DYJets\n",
       "</pre>\n"
      ],
      "text/plain": [
       "Start:  12526   DYJets\n"
      ]
     },
     "metadata": {},
     "output_type": "display_data"
    },
    {
     "data": {
      "text/html": [
       "<pre style=\"white-space:pre;overflow-x:auto;line-height:normal;font-family:Menlo,'DejaVu Sans Mono',consolas,'Courier New',monospace\">Extra Ele Veto:  11724\n",
       "</pre>\n"
      ],
      "text/plain": [
       "Extra Ele Veto:  11724\n"
      ]
     },
     "metadata": {},
     "output_type": "display_data"
    },
    {
     "data": {
      "text/html": [
       "<pre style=\"white-space:pre;overflow-x:auto;line-height:normal;font-family:Menlo,'DejaVu Sans Mono',consolas,'Courier New',monospace\">Extra Mu Veto:  3381\n",
       "</pre>\n"
      ],
      "text/plain": [
       "Extra Mu Veto:  3381\n"
      ]
     },
     "metadata": {},
     "output_type": "display_data"
    },
    {
     "data": {
      "text/html": [
       "<pre style=\"white-space:pre;overflow-x:auto;line-height:normal;font-family:Menlo,'DejaVu Sans Mono',consolas,'Courier New',monospace\">BJet Veto:  2970\n",
       "</pre>\n"
      ],
      "text/plain": [
       "BJet Veto:  2970\n"
      ]
     },
     "metadata": {},
     "output_type": "display_data"
    },
    {
     "data": {
      "text/html": [
       "<pre style=\"white-space:pre;overflow-x:auto;line-height:normal;font-family:Menlo,'DejaVu Sans Mono',consolas,'Courier New',monospace\">Pairs:  6310  Vector:  6310\n",
       "</pre>\n"
      ],
      "text/plain": [
       "Pairs:  6310  Vector:  6310\n"
      ]
     },
     "metadata": {},
     "output_type": "display_data"
    },
    {
     "data": {
      "text/html": [
       "<pre style=\"white-space:pre;overflow-x:auto;line-height:normal;font-family:Menlo,'DejaVu Sans Mono',consolas,'Courier New',monospace\">[[True, True, True, True], [False, False, False], ... [], [], [True, True, True]]\n",
       "</pre>\n"
      ],
      "text/plain": [
       "[[True, True, True, True], [False, False, False], ... [], [], [True, True, True]]\n"
      ]
     },
     "metadata": {},
     "output_type": "display_data"
    },
    {
     "data": {
      "text/html": [
       "<pre style=\"white-space:pre;overflow-x:auto;line-height:normal;font-family:Menlo,'DejaVu Sans Mono',consolas,'Courier New',monospace\">Postcut: Pairs:  170  Vector:  170\n",
       "</pre>\n"
      ],
      "text/plain": [
       "Postcut: Pairs:  170  Vector:  170\n"
      ]
     },
     "metadata": {},
     "output_type": "display_data"
    },
    {
     "data": {
      "text/html": [
       "<pre style=\"white-space:pre;overflow-x:auto;line-height:normal;font-family:Menlo,'DejaVu Sans Mono',consolas,'Courier New',monospace\">[[], [], [], [], [], [], [], [], [], [], ... [], [], [], [], [], [], [], [], [], []]\n",
       "</pre>\n"
      ],
      "text/plain": [
       "[[], [], [], [], [], [], [], [], [], [], ... [], [], [], [], [], [], [], [], [], []]\n"
      ]
     },
     "metadata": {},
     "output_type": "display_data"
    },
    {
     "data": {
      "text/html": [
       "<pre style=\"white-space:pre;overflow-x:auto;line-height:normal;font-family:Menlo,'DejaVu Sans Mono',consolas,'Courier New',monospace\">[[], [], [], [], [], [], [], [], [], [], ... [], [], [], [], [], [], [], [], [], []]\n",
       "</pre>\n"
      ],
      "text/plain": [
       "[[], [], [], [], [], [], [], [], [], [], ... [], [], [], [], [], [], [], [], [], []]\n"
      ]
     },
     "metadata": {},
     "output_type": "display_data"
    },
    {
     "data": {
      "text/html": [
       "<pre style=\"white-space:pre;overflow-x:auto;line-height:normal;font-family:Menlo,'DejaVu Sans Mono',consolas,'Courier New',monospace\">Start:  12136   DYJets\n",
       "</pre>\n"
      ],
      "text/plain": [
       "Start:  12136   DYJets\n"
      ]
     },
     "metadata": {},
     "output_type": "display_data"
    },
    {
     "data": {
      "text/html": [
       "<pre style=\"white-space:pre;overflow-x:auto;line-height:normal;font-family:Menlo,'DejaVu Sans Mono',consolas,'Courier New',monospace\">Extra Ele Veto:  11369\n",
       "</pre>\n"
      ],
      "text/plain": [
       "Extra Ele Veto:  11369\n"
      ]
     },
     "metadata": {},
     "output_type": "display_data"
    },
    {
     "data": {
      "text/html": [
       "<pre style=\"white-space:pre;overflow-x:auto;line-height:normal;font-family:Menlo,'DejaVu Sans Mono',consolas,'Courier New',monospace\">Extra Mu Veto:  3274\n",
       "</pre>\n"
      ],
      "text/plain": [
       "Extra Mu Veto:  3274\n"
      ]
     },
     "metadata": {},
     "output_type": "display_data"
    },
    {
     "data": {
      "text/html": [
       "<pre style=\"white-space:pre;overflow-x:auto;line-height:normal;font-family:Menlo,'DejaVu Sans Mono',consolas,'Courier New',monospace\">BJet Veto:  2916\n",
       "</pre>\n"
      ],
      "text/plain": [
       "BJet Veto:  2916\n"
      ]
     },
     "metadata": {},
     "output_type": "display_data"
    },
    {
     "data": {
      "text/html": [
       "<pre style=\"white-space:pre;overflow-x:auto;line-height:normal;font-family:Menlo,'DejaVu Sans Mono',consolas,'Courier New',monospace\">Pairs:  6182  Vector:  6182\n",
       "</pre>\n"
      ],
      "text/plain": [
       "Pairs:  6182  Vector:  6182\n"
      ]
     },
     "metadata": {},
     "output_type": "display_data"
    },
    {
     "data": {
      "text/html": [
       "<pre style=\"white-space:pre;overflow-x:auto;line-height:normal;font-family:Menlo,'DejaVu Sans Mono',consolas,'Courier New',monospace\">[[False], [], [False, False], [], [True, ... False, True, True], [], [], [], []]\n",
       "</pre>\n"
      ],
      "text/plain": [
       "[[False], [], [False, False], [], [True, ... False, True, True], [], [], [], []]\n"
      ]
     },
     "metadata": {},
     "output_type": "display_data"
    },
    {
     "data": {
      "text/html": [
       "<pre style=\"white-space:pre;overflow-x:auto;line-height:normal;font-family:Menlo,'DejaVu Sans Mono',consolas,'Courier New',monospace\">Postcut: Pairs:  146  Vector:  146\n",
       "</pre>\n"
      ],
      "text/plain": [
       "Postcut: Pairs:  146  Vector:  146\n"
      ]
     },
     "metadata": {},
     "output_type": "display_data"
    },
    {
     "data": {
      "text/html": [
       "<pre style=\"white-space:pre;overflow-x:auto;line-height:normal;font-family:Menlo,'DejaVu Sans Mono',consolas,'Courier New',monospace\">[[], [], [], [], [], [], [], [], [], [], ... [], [], [], [], [], [], [], [], [], []]\n",
       "</pre>\n"
      ],
      "text/plain": [
       "[[], [], [], [], [], [], [], [], [], [], ... [], [], [], [], [], [], [], [], [], []]\n"
      ]
     },
     "metadata": {},
     "output_type": "display_data"
    },
    {
     "data": {
      "text/html": [
       "<pre style=\"white-space:pre;overflow-x:auto;line-height:normal;font-family:Menlo,'DejaVu Sans Mono',consolas,'Courier New',monospace\">[[], [], [], [], [], [], [], [], [], [], ... [], [], [], [], [], [], [], [], [], []]\n",
       "</pre>\n"
      ],
      "text/plain": [
       "[[], [], [], [], [], [], [], [], [], [], ... [], [], [], [], [], [], [], [], [], []]\n"
      ]
     },
     "metadata": {},
     "output_type": "display_data"
    },
    {
     "data": {
      "text/html": [
       "<pre style=\"white-space:pre;overflow-x:auto;line-height:normal;font-family:Menlo,'DejaVu Sans Mono',consolas,'Courier New',monospace\">Start:  12433   DYJets\n",
       "</pre>\n"
      ],
      "text/plain": [
       "Start:  12433   DYJets\n"
      ]
     },
     "metadata": {},
     "output_type": "display_data"
    },
    {
     "data": {
      "text/html": [
       "<pre style=\"white-space:pre;overflow-x:auto;line-height:normal;font-family:Menlo,'DejaVu Sans Mono',consolas,'Courier New',monospace\">Extra Ele Veto:  11627\n",
       "</pre>\n"
      ],
      "text/plain": [
       "Extra Ele Veto:  11627\n"
      ]
     },
     "metadata": {},
     "output_type": "display_data"
    },
    {
     "data": {
      "text/html": [
       "<pre style=\"white-space:pre;overflow-x:auto;line-height:normal;font-family:Menlo,'DejaVu Sans Mono',consolas,'Courier New',monospace\">Extra Mu Veto:  3395\n",
       "</pre>\n"
      ],
      "text/plain": [
       "Extra Mu Veto:  3395\n"
      ]
     },
     "metadata": {},
     "output_type": "display_data"
    },
    {
     "data": {
      "text/html": [
       "<pre style=\"white-space:pre;overflow-x:auto;line-height:normal;font-family:Menlo,'DejaVu Sans Mono',consolas,'Courier New',monospace\">BJet Veto:  2983\n",
       "</pre>\n"
      ],
      "text/plain": [
       "BJet Veto:  2983\n"
      ]
     },
     "metadata": {},
     "output_type": "display_data"
    },
    {
     "data": {
      "text/html": [
       "<pre style=\"white-space:pre;overflow-x:auto;line-height:normal;font-family:Menlo,'DejaVu Sans Mono',consolas,'Courier New',monospace\">Pairs:  6292  Vector:  6292\n",
       "</pre>\n"
      ],
      "text/plain": [
       "Pairs:  6292  Vector:  6292\n"
      ]
     },
     "metadata": {},
     "output_type": "display_data"
    },
    {
     "data": {
      "text/html": [
       "<pre style=\"white-space:pre;overflow-x:auto;line-height:normal;font-family:Menlo,'DejaVu Sans Mono',consolas,'Courier New',monospace\">[[False], [], [], [True, True, True, True, ... [False, True], [True, True, True], []]\n",
       "</pre>\n"
      ],
      "text/plain": [
       "[[False], [], [], [True, True, True, True, ... [False, True], [True, True, True], []]\n"
      ]
     },
     "metadata": {},
     "output_type": "display_data"
    },
    {
     "data": {
      "text/html": [
       "<pre style=\"white-space:pre;overflow-x:auto;line-height:normal;font-family:Menlo,'DejaVu Sans Mono',consolas,'Courier New',monospace\">Postcut: Pairs:  158  Vector:  158\n",
       "</pre>\n"
      ],
      "text/plain": [
       "Postcut: Pairs:  158  Vector:  158\n"
      ]
     },
     "metadata": {},
     "output_type": "display_data"
    },
    {
     "data": {
      "text/html": [
       "<pre style=\"white-space:pre;overflow-x:auto;line-height:normal;font-family:Menlo,'DejaVu Sans Mono',consolas,'Courier New',monospace\">[[], [], [], [], [], [], [], [], [], [], ... [], [], [], [], [], [], [], [], [], []]\n",
       "</pre>\n"
      ],
      "text/plain": [
       "[[], [], [], [], [], [], [], [], [], [], ... [], [], [], [], [], [], [], [], [], []]\n"
      ]
     },
     "metadata": {},
     "output_type": "display_data"
    },
    {
     "data": {
      "text/html": [
       "<pre style=\"white-space:pre;overflow-x:auto;line-height:normal;font-family:Menlo,'DejaVu Sans Mono',consolas,'Courier New',monospace\">[[], [], [], [], [], [], [], [], [], [], ... [], [], [], [], [], [], [], [], [], []]\n",
       "</pre>\n"
      ],
      "text/plain": [
       "[[], [], [], [], [], [], [], [], [], [], ... [], [], [], [], [], [], [], [], [], []]\n"
      ]
     },
     "metadata": {},
     "output_type": "display_data"
    },
    {
     "data": {
      "text/html": [
       "<pre style=\"white-space:pre;overflow-x:auto;line-height:normal;font-family:Menlo,'DejaVu Sans Mono',consolas,'Courier New',monospace\">Start:  12141   DYJets\n",
       "</pre>\n"
      ],
      "text/plain": [
       "Start:  12141   DYJets\n"
      ]
     },
     "metadata": {},
     "output_type": "display_data"
    },
    {
     "data": {
      "text/html": [
       "<pre style=\"white-space:pre;overflow-x:auto;line-height:normal;font-family:Menlo,'DejaVu Sans Mono',consolas,'Courier New',monospace\">Extra Ele Veto:  11330\n",
       "</pre>\n"
      ],
      "text/plain": [
       "Extra Ele Veto:  11330\n"
      ]
     },
     "metadata": {},
     "output_type": "display_data"
    },
    {
     "data": {
      "text/html": [
       "<pre style=\"white-space:pre;overflow-x:auto;line-height:normal;font-family:Menlo,'DejaVu Sans Mono',consolas,'Courier New',monospace\">Extra Mu Veto:  3270\n",
       "</pre>\n"
      ],
      "text/plain": [
       "Extra Mu Veto:  3270\n"
      ]
     },
     "metadata": {},
     "output_type": "display_data"
    },
    {
     "data": {
      "text/html": [
       "<pre style=\"white-space:pre;overflow-x:auto;line-height:normal;font-family:Menlo,'DejaVu Sans Mono',consolas,'Courier New',monospace\">BJet Veto:  2904\n",
       "</pre>\n"
      ],
      "text/plain": [
       "BJet Veto:  2904\n"
      ]
     },
     "metadata": {},
     "output_type": "display_data"
    },
    {
     "data": {
      "text/html": [
       "<pre style=\"white-space:pre;overflow-x:auto;line-height:normal;font-family:Menlo,'DejaVu Sans Mono',consolas,'Courier New',monospace\">Pairs:  6086  Vector:  6086\n",
       "</pre>\n"
      ],
      "text/plain": [
       "Pairs:  6086  Vector:  6086\n"
      ]
     },
     "metadata": {},
     "output_type": "display_data"
    },
    {
     "data": {
      "text/html": [
       "<pre style=\"white-space:pre;overflow-x:auto;line-height:normal;font-family:Menlo,'DejaVu Sans Mono',consolas,'Courier New',monospace\">[[True, True, True, True, False, False], [], ... [], [False, False, True], [False]]\n",
       "</pre>\n"
      ],
      "text/plain": [
       "[[True, True, True, True, False, False], [], ... [], [False, False, True], [False]]\n"
      ]
     },
     "metadata": {},
     "output_type": "display_data"
    },
    {
     "data": {
      "text/html": [
       "<pre style=\"white-space:pre;overflow-x:auto;line-height:normal;font-family:Menlo,'DejaVu Sans Mono',consolas,'Courier New',monospace\">Postcut: Pairs:  147  Vector:  147\n",
       "</pre>\n"
      ],
      "text/plain": [
       "Postcut: Pairs:  147  Vector:  147\n"
      ]
     },
     "metadata": {},
     "output_type": "display_data"
    },
    {
     "data": {
      "text/html": [
       "<pre style=\"white-space:pre;overflow-x:auto;line-height:normal;font-family:Menlo,'DejaVu Sans Mono',consolas,'Courier New',monospace\">[[], [], [], [], [], [], [], [], [], [], ... [], [], [], [], [], [], [], [], [], []]\n",
       "</pre>\n"
      ],
      "text/plain": [
       "[[], [], [], [], [], [], [], [], [], [], ... [], [], [], [], [], [], [], [], [], []]\n"
      ]
     },
     "metadata": {},
     "output_type": "display_data"
    },
    {
     "data": {
      "text/html": [
       "<pre style=\"white-space:pre;overflow-x:auto;line-height:normal;font-family:Menlo,'DejaVu Sans Mono',consolas,'Courier New',monospace\">[[], [], [], [], [], [], [], [], [], [], ... [], [], [], [], [], [], [], [], [], []]\n",
       "</pre>\n"
      ],
      "text/plain": [
       "[[], [], [], [], [], [], [], [], [], [], ... [], [], [], [], [], [], [], [], [], []]\n"
      ]
     },
     "metadata": {},
     "output_type": "display_data"
    },
    {
     "data": {
      "text/html": [
       "<pre style=\"white-space:pre;overflow-x:auto;line-height:normal;font-family:Menlo,'DejaVu Sans Mono',consolas,'Courier New',monospace\">Start:  15011   DYJets\n",
       "</pre>\n"
      ],
      "text/plain": [
       "Start:  15011   DYJets\n"
      ]
     },
     "metadata": {},
     "output_type": "display_data"
    },
    {
     "data": {
      "text/html": [
       "<pre style=\"white-space:pre;overflow-x:auto;line-height:normal;font-family:Menlo,'DejaVu Sans Mono',consolas,'Courier New',monospace\">Extra Ele Veto:  14084\n",
       "</pre>\n"
      ],
      "text/plain": [
       "Extra Ele Veto:  14084\n"
      ]
     },
     "metadata": {},
     "output_type": "display_data"
    },
    {
     "data": {
      "text/html": [
       "<pre style=\"white-space:pre;overflow-x:auto;line-height:normal;font-family:Menlo,'DejaVu Sans Mono',consolas,'Courier New',monospace\">Extra Mu Veto:  3857\n",
       "</pre>\n"
      ],
      "text/plain": [
       "Extra Mu Veto:  3857\n"
      ]
     },
     "metadata": {},
     "output_type": "display_data"
    },
    {
     "data": {
      "text/html": [
       "<pre style=\"white-space:pre;overflow-x:auto;line-height:normal;font-family:Menlo,'DejaVu Sans Mono',consolas,'Courier New',monospace\">BJet Veto:  3334\n",
       "</pre>\n"
      ],
      "text/plain": [
       "BJet Veto:  3334\n"
      ]
     },
     "metadata": {},
     "output_type": "display_data"
    },
    {
     "data": {
      "text/html": [
       "<pre style=\"white-space:pre;overflow-x:auto;line-height:normal;font-family:Menlo,'DejaVu Sans Mono',consolas,'Courier New',monospace\">Pairs:  6917  Vector:  6917\n",
       "</pre>\n"
      ],
      "text/plain": [
       "Pairs:  6917  Vector:  6917\n"
      ]
     },
     "metadata": {},
     "output_type": "display_data"
    },
    {
     "data": {
      "text/html": [
       "<pre style=\"white-space:pre;overflow-x:auto;line-height:normal;font-family:Menlo,'DejaVu Sans Mono',consolas,'Courier New',monospace\">[[], [], [], [], [True, True, ... [False, False], [False, False, False, False]]\n",
       "</pre>\n"
      ],
      "text/plain": [
       "[[], [], [], [], [True, True, ... [False, False], [False, False, False, False]]\n"
      ]
     },
     "metadata": {},
     "output_type": "display_data"
    },
    {
     "data": {
      "text/html": [
       "<pre style=\"white-space:pre;overflow-x:auto;line-height:normal;font-family:Menlo,'DejaVu Sans Mono',consolas,'Courier New',monospace\">Postcut: Pairs:  154  Vector:  154\n",
       "</pre>\n"
      ],
      "text/plain": [
       "Postcut: Pairs:  154  Vector:  154\n"
      ]
     },
     "metadata": {},
     "output_type": "display_data"
    },
    {
     "data": {
      "text/html": [
       "<pre style=\"white-space:pre;overflow-x:auto;line-height:normal;font-family:Menlo,'DejaVu Sans Mono',consolas,'Courier New',monospace\">[[], [], [], [], [], [], [], [], [], [], ... [], [], [], [], [], [], [], [], [], []]\n",
       "</pre>\n"
      ],
      "text/plain": [
       "[[], [], [], [], [], [], [], [], [], [], ... [], [], [], [], [], [], [], [], [], []]\n"
      ]
     },
     "metadata": {},
     "output_type": "display_data"
    },
    {
     "data": {
      "text/html": [
       "<pre style=\"white-space:pre;overflow-x:auto;line-height:normal;font-family:Menlo,'DejaVu Sans Mono',consolas,'Courier New',monospace\">[[], [], [], [], [], [], [], [], [], [], ... [], [], [], [], [], [], [], [], [], []]\n",
       "</pre>\n"
      ],
      "text/plain": [
       "[[], [], [], [], [], [], [], [], [], [], ... [], [], [], [], [], [], [], [], [], []]\n"
      ]
     },
     "metadata": {},
     "output_type": "display_data"
    },
    {
     "data": {
      "text/html": [
       "<pre style=\"white-space:pre;overflow-x:auto;line-height:normal;font-family:Menlo,'DejaVu Sans Mono',consolas,'Courier New',monospace\">Start:  15531   DYJets\n",
       "</pre>\n"
      ],
      "text/plain": [
       "Start:  15531   DYJets\n"
      ]
     },
     "metadata": {},
     "output_type": "display_data"
    },
    {
     "data": {
      "text/html": [
       "<pre style=\"white-space:pre;overflow-x:auto;line-height:normal;font-family:Menlo,'DejaVu Sans Mono',consolas,'Courier New',monospace\">Extra Ele Veto:  14494\n",
       "</pre>\n"
      ],
      "text/plain": [
       "Extra Ele Veto:  14494\n"
      ]
     },
     "metadata": {},
     "output_type": "display_data"
    },
    {
     "data": {
      "text/html": [
       "<pre style=\"white-space:pre;overflow-x:auto;line-height:normal;font-family:Menlo,'DejaVu Sans Mono',consolas,'Courier New',monospace\">Extra Mu Veto:  4222\n",
       "</pre>\n"
      ],
      "text/plain": [
       "Extra Mu Veto:  4222\n"
      ]
     },
     "metadata": {},
     "output_type": "display_data"
    },
    {
     "data": {
      "text/html": [
       "<pre style=\"white-space:pre;overflow-x:auto;line-height:normal;font-family:Menlo,'DejaVu Sans Mono',consolas,'Courier New',monospace\">BJet Veto:  3743\n",
       "</pre>\n"
      ],
      "text/plain": [
       "BJet Veto:  3743\n"
      ]
     },
     "metadata": {},
     "output_type": "display_data"
    },
    {
     "data": {
      "text/html": [
       "<pre style=\"white-space:pre;overflow-x:auto;line-height:normal;font-family:Menlo,'DejaVu Sans Mono',consolas,'Courier New',monospace\">Pairs:  7844  Vector:  7844\n",
       "</pre>\n"
      ],
      "text/plain": [
       "Pairs:  7844  Vector:  7844\n"
      ]
     },
     "metadata": {},
     "output_type": "display_data"
    },
    {
     "data": {
      "text/html": [
       "<pre style=\"white-space:pre;overflow-x:auto;line-height:normal;font-family:Menlo,'DejaVu Sans Mono',consolas,'Courier New',monospace\">[[], [True, True, True, True, True, True, False, ... True, True, False], [], [], []]\n",
       "</pre>\n"
      ],
      "text/plain": [
       "[[], [True, True, True, True, True, True, False, ... True, True, False], [], [], []]\n"
      ]
     },
     "metadata": {},
     "output_type": "display_data"
    },
    {
     "data": {
      "text/html": [
       "<pre style=\"white-space:pre;overflow-x:auto;line-height:normal;font-family:Menlo,'DejaVu Sans Mono',consolas,'Courier New',monospace\">Postcut: Pairs:  166  Vector:  166\n",
       "</pre>\n"
      ],
      "text/plain": [
       "Postcut: Pairs:  166  Vector:  166\n"
      ]
     },
     "metadata": {},
     "output_type": "display_data"
    },
    {
     "data": {
      "text/html": [
       "<pre style=\"white-space:pre;overflow-x:auto;line-height:normal;font-family:Menlo,'DejaVu Sans Mono',consolas,'Courier New',monospace\">[[], [], [], [], [], [], [], [], [], [], ... [], [], [], [], [], [], [], [], [], []]\n",
       "</pre>\n"
      ],
      "text/plain": [
       "[[], [], [], [], [], [], [], [], [], [], ... [], [], [], [], [], [], [], [], [], []]\n"
      ]
     },
     "metadata": {},
     "output_type": "display_data"
    },
    {
     "data": {
      "text/html": [
       "<pre style=\"white-space:pre;overflow-x:auto;line-height:normal;font-family:Menlo,'DejaVu Sans Mono',consolas,'Courier New',monospace\">[[], [], [], [], [], [], [], [], [], [], ... [], [], [], [], [], [], [], [], [], []]\n",
       "</pre>\n"
      ],
      "text/plain": [
       "[[], [], [], [], [], [], [], [], [], [], ... [], [], [], [], [], [], [], [], [], []]\n"
      ]
     },
     "metadata": {},
     "output_type": "display_data"
    },
    {
     "data": {
      "text/html": [
       "<pre style=\"white-space:pre;overflow-x:auto;line-height:normal;font-family:Menlo,'DejaVu Sans Mono',consolas,'Courier New',monospace\">Start:  15371   DYJets\n",
       "</pre>\n"
      ],
      "text/plain": [
       "Start:  15371   DYJets\n"
      ]
     },
     "metadata": {},
     "output_type": "display_data"
    },
    {
     "data": {
      "text/html": [
       "<pre style=\"white-space:pre;overflow-x:auto;line-height:normal;font-family:Menlo,'DejaVu Sans Mono',consolas,'Courier New',monospace\">Extra Ele Veto:  14397\n",
       "</pre>\n"
      ],
      "text/plain": [
       "Extra Ele Veto:  14397\n"
      ]
     },
     "metadata": {},
     "output_type": "display_data"
    },
    {
     "data": {
      "text/html": [
       "<pre style=\"white-space:pre;overflow-x:auto;line-height:normal;font-family:Menlo,'DejaVu Sans Mono',consolas,'Courier New',monospace\">Extra Mu Veto:  4084\n",
       "</pre>\n"
      ],
      "text/plain": [
       "Extra Mu Veto:  4084\n"
      ]
     },
     "metadata": {},
     "output_type": "display_data"
    },
    {
     "data": {
      "text/html": [
       "<pre style=\"white-space:pre;overflow-x:auto;line-height:normal;font-family:Menlo,'DejaVu Sans Mono',consolas,'Courier New',monospace\">BJet Veto:  3574\n",
       "</pre>\n"
      ],
      "text/plain": [
       "BJet Veto:  3574\n"
      ]
     },
     "metadata": {},
     "output_type": "display_data"
    },
    {
     "data": {
      "text/html": [
       "<pre style=\"white-space:pre;overflow-x:auto;line-height:normal;font-family:Menlo,'DejaVu Sans Mono',consolas,'Courier New',monospace\">Pairs:  7324  Vector:  7324\n",
       "</pre>\n"
      ],
      "text/plain": [
       "Pairs:  7324  Vector:  7324\n"
      ]
     },
     "metadata": {},
     "output_type": "display_data"
    },
    {
     "data": {
      "text/html": [
       "<pre style=\"white-space:pre;overflow-x:auto;line-height:normal;font-family:Menlo,'DejaVu Sans Mono',consolas,'Courier New',monospace\">[[False, False, False, False], [True, True, True, ... [], [True], [True, True]]\n",
       "</pre>\n"
      ],
      "text/plain": [
       "[[False, False, False, False], [True, True, True, ... [], [True], [True, True]]\n"
      ]
     },
     "metadata": {},
     "output_type": "display_data"
    },
    {
     "data": {
      "text/html": [
       "<pre style=\"white-space:pre;overflow-x:auto;line-height:normal;font-family:Menlo,'DejaVu Sans Mono',consolas,'Courier New',monospace\">Postcut: Pairs:  185  Vector:  185\n",
       "</pre>\n"
      ],
      "text/plain": [
       "Postcut: Pairs:  185  Vector:  185\n"
      ]
     },
     "metadata": {},
     "output_type": "display_data"
    },
    {
     "data": {
      "text/html": [
       "<pre style=\"white-space:pre;overflow-x:auto;line-height:normal;font-family:Menlo,'DejaVu Sans Mono',consolas,'Courier New',monospace\">[[], [], [], [], [], [], [], [], [], [], ... [], [], [], [], [], [], [], [], [], []]\n",
       "</pre>\n"
      ],
      "text/plain": [
       "[[], [], [], [], [], [], [], [], [], [], ... [], [], [], [], [], [], [], [], [], []]\n"
      ]
     },
     "metadata": {},
     "output_type": "display_data"
    },
    {
     "data": {
      "text/html": [
       "<pre style=\"white-space:pre;overflow-x:auto;line-height:normal;font-family:Menlo,'DejaVu Sans Mono',consolas,'Courier New',monospace\">[[], [], [], [], [], [], [], [], [], [], ... [], [], [], [], [], [], [], [], [], []]\n",
       "</pre>\n"
      ],
      "text/plain": [
       "[[], [], [], [], [], [], [], [], [], [], ... [], [], [], [], [], [], [], [], [], []]\n"
      ]
     },
     "metadata": {},
     "output_type": "display_data"
    },
    {
     "data": {
      "text/html": [
       "<pre style=\"white-space:pre;overflow-x:auto;line-height:normal;font-family:Menlo,'DejaVu Sans Mono',consolas,'Courier New',monospace\">Start:  15100   DYJets\n",
       "</pre>\n"
      ],
      "text/plain": [
       "Start:  15100   DYJets\n"
      ]
     },
     "metadata": {},
     "output_type": "display_data"
    },
    {
     "data": {
      "text/html": [
       "<pre style=\"white-space:pre;overflow-x:auto;line-height:normal;font-family:Menlo,'DejaVu Sans Mono',consolas,'Courier New',monospace\">Extra Ele Veto:  14187\n",
       "</pre>\n"
      ],
      "text/plain": [
       "Extra Ele Veto:  14187\n"
      ]
     },
     "metadata": {},
     "output_type": "display_data"
    },
    {
     "data": {
      "text/html": [
       "<pre style=\"white-space:pre;overflow-x:auto;line-height:normal;font-family:Menlo,'DejaVu Sans Mono',consolas,'Courier New',monospace\">Extra Mu Veto:  4133\n",
       "</pre>\n"
      ],
      "text/plain": [
       "Extra Mu Veto:  4133\n"
      ]
     },
     "metadata": {},
     "output_type": "display_data"
    },
    {
     "data": {
      "text/html": [
       "<pre style=\"white-space:pre;overflow-x:auto;line-height:normal;font-family:Menlo,'DejaVu Sans Mono',consolas,'Courier New',monospace\">BJet Veto:  3683\n",
       "</pre>\n"
      ],
      "text/plain": [
       "BJet Veto:  3683\n"
      ]
     },
     "metadata": {},
     "output_type": "display_data"
    },
    {
     "data": {
      "text/html": [
       "<pre style=\"white-space:pre;overflow-x:auto;line-height:normal;font-family:Menlo,'DejaVu Sans Mono',consolas,'Courier New',monospace\">Pairs:  7713  Vector:  7713\n",
       "</pre>\n"
      ],
      "text/plain": [
       "Pairs:  7713  Vector:  7713\n"
      ]
     },
     "metadata": {},
     "output_type": "display_data"
    },
    {
     "data": {
      "text/html": [
       "<pre style=\"white-space:pre;overflow-x:auto;line-height:normal;font-family:Menlo,'DejaVu Sans Mono',consolas,'Courier New',monospace\">[[], [True, True], [True, True], [], ... [True, True, False, False], [True, True]]\n",
       "</pre>\n"
      ],
      "text/plain": [
       "[[], [True, True], [True, True], [], ... [True, True, False, False], [True, True]]\n"
      ]
     },
     "metadata": {},
     "output_type": "display_data"
    },
    {
     "data": {
      "text/html": [
       "<pre style=\"white-space:pre;overflow-x:auto;line-height:normal;font-family:Menlo,'DejaVu Sans Mono',consolas,'Courier New',monospace\">Postcut: Pairs:  183  Vector:  183\n",
       "</pre>\n"
      ],
      "text/plain": [
       "Postcut: Pairs:  183  Vector:  183\n"
      ]
     },
     "metadata": {},
     "output_type": "display_data"
    },
    {
     "data": {
      "text/html": [
       "<pre style=\"white-space:pre;overflow-x:auto;line-height:normal;font-family:Menlo,'DejaVu Sans Mono',consolas,'Courier New',monospace\">[[], [], [], [], [], [], [], [], [], [], ... [], [], [], [], [], [], [], [], [], []]\n",
       "</pre>\n"
      ],
      "text/plain": [
       "[[], [], [], [], [], [], [], [], [], [], ... [], [], [], [], [], [], [], [], [], []]\n"
      ]
     },
     "metadata": {},
     "output_type": "display_data"
    },
    {
     "data": {
      "text/html": [
       "<pre style=\"white-space:pre;overflow-x:auto;line-height:normal;font-family:Menlo,'DejaVu Sans Mono',consolas,'Courier New',monospace\">[[], [], [], [], [], [], [], [], [], [], ... [], [], [], [], [], [], [], [], [], []]\n",
       "</pre>\n"
      ],
      "text/plain": [
       "[[], [], [], [], [], [], [], [], [], [], ... [], [], [], [], [], [], [], [], [], []]\n"
      ]
     },
     "metadata": {},
     "output_type": "display_data"
    },
    {
     "data": {
      "text/html": [
       "<pre style=\"white-space:pre;overflow-x:auto;line-height:normal;font-family:Menlo,'DejaVu Sans Mono',consolas,'Courier New',monospace\">Start:  15310   DYJets\n",
       "</pre>\n"
      ],
      "text/plain": [
       "Start:  15310   DYJets\n"
      ]
     },
     "metadata": {},
     "output_type": "display_data"
    },
    {
     "data": {
      "text/html": [
       "<pre style=\"white-space:pre;overflow-x:auto;line-height:normal;font-family:Menlo,'DejaVu Sans Mono',consolas,'Courier New',monospace\">Extra Ele Veto:  14300\n",
       "</pre>\n"
      ],
      "text/plain": [
       "Extra Ele Veto:  14300\n"
      ]
     },
     "metadata": {},
     "output_type": "display_data"
    },
    {
     "data": {
      "text/html": [
       "<pre style=\"white-space:pre;overflow-x:auto;line-height:normal;font-family:Menlo,'DejaVu Sans Mono',consolas,'Courier New',monospace\">Extra Mu Veto:  4230\n",
       "</pre>\n"
      ],
      "text/plain": [
       "Extra Mu Veto:  4230\n"
      ]
     },
     "metadata": {},
     "output_type": "display_data"
    },
    {
     "data": {
      "text/html": [
       "<pre style=\"white-space:pre;overflow-x:auto;line-height:normal;font-family:Menlo,'DejaVu Sans Mono',consolas,'Courier New',monospace\">BJet Veto:  3741\n",
       "</pre>\n"
      ],
      "text/plain": [
       "BJet Veto:  3741\n"
      ]
     },
     "metadata": {},
     "output_type": "display_data"
    },
    {
     "data": {
      "text/html": [
       "<pre style=\"white-space:pre;overflow-x:auto;line-height:normal;font-family:Menlo,'DejaVu Sans Mono',consolas,'Courier New',monospace\">Pairs:  8017  Vector:  8017\n",
       "</pre>\n"
      ],
      "text/plain": [
       "Pairs:  8017  Vector:  8017\n"
      ]
     },
     "metadata": {},
     "output_type": "display_data"
    },
    {
     "data": {
      "text/html": [
       "<pre style=\"white-space:pre;overflow-x:auto;line-height:normal;font-family:Menlo,'DejaVu Sans Mono',consolas,'Courier New',monospace\">[[True, True, False, False], [True, True], ... True, True, True, True, True], [], []]\n",
       "</pre>\n"
      ],
      "text/plain": [
       "[[True, True, False, False], [True, True], ... True, True, True, True, True], [], []]\n"
      ]
     },
     "metadata": {},
     "output_type": "display_data"
    },
    {
     "data": {
      "text/html": [
       "<pre style=\"white-space:pre;overflow-x:auto;line-height:normal;font-family:Menlo,'DejaVu Sans Mono',consolas,'Courier New',monospace\">Postcut: Pairs:  207  Vector:  207\n",
       "</pre>\n"
      ],
      "text/plain": [
       "Postcut: Pairs:  207  Vector:  207\n"
      ]
     },
     "metadata": {},
     "output_type": "display_data"
    },
    {
     "data": {
      "text/html": [
       "<pre style=\"white-space:pre;overflow-x:auto;line-height:normal;font-family:Menlo,'DejaVu Sans Mono',consolas,'Courier New',monospace\">[[], [], [], [], [], [], [], [], [], [], ... [], [], [], [], [], [], [], [], [], []]\n",
       "</pre>\n"
      ],
      "text/plain": [
       "[[], [], [], [], [], [], [], [], [], [], ... [], [], [], [], [], [], [], [], [], []]\n"
      ]
     },
     "metadata": {},
     "output_type": "display_data"
    },
    {
     "data": {
      "text/html": [
       "<pre style=\"white-space:pre;overflow-x:auto;line-height:normal;font-family:Menlo,'DejaVu Sans Mono',consolas,'Courier New',monospace\">[[], [], [], [], [], [], [], [], [], [], ... [], [], [], [], [], [], [], [], [], []]\n",
       "</pre>\n"
      ],
      "text/plain": [
       "[[], [], [], [], [], [], [], [], [], [], ... [], [], [], [], [], [], [], [], [], []]\n"
      ]
     },
     "metadata": {},
     "output_type": "display_data"
    },
    {
     "data": {
      "text/html": [
       "<pre style=\"white-space:pre;overflow-x:auto;line-height:normal;font-family:Menlo,'DejaVu Sans Mono',consolas,'Courier New',monospace\">Start:  15404   DYJets\n",
       "</pre>\n"
      ],
      "text/plain": [
       "Start:  15404   DYJets\n"
      ]
     },
     "metadata": {},
     "output_type": "display_data"
    },
    {
     "data": {
      "text/html": [
       "<pre style=\"white-space:pre;overflow-x:auto;line-height:normal;font-family:Menlo,'DejaVu Sans Mono',consolas,'Courier New',monospace\">Extra Ele Veto:  14424\n",
       "</pre>\n"
      ],
      "text/plain": [
       "Extra Ele Veto:  14424\n"
      ]
     },
     "metadata": {},
     "output_type": "display_data"
    },
    {
     "data": {
      "text/html": [
       "<pre style=\"white-space:pre;overflow-x:auto;line-height:normal;font-family:Menlo,'DejaVu Sans Mono',consolas,'Courier New',monospace\">Extra Mu Veto:  4218\n",
       "</pre>\n"
      ],
      "text/plain": [
       "Extra Mu Veto:  4218\n"
      ]
     },
     "metadata": {},
     "output_type": "display_data"
    },
    {
     "data": {
      "text/html": [
       "<pre style=\"white-space:pre;overflow-x:auto;line-height:normal;font-family:Menlo,'DejaVu Sans Mono',consolas,'Courier New',monospace\">BJet Veto:  3716\n",
       "</pre>\n"
      ],
      "text/plain": [
       "BJet Veto:  3716\n"
      ]
     },
     "metadata": {},
     "output_type": "display_data"
    },
    {
     "data": {
      "text/html": [
       "<pre style=\"white-space:pre;overflow-x:auto;line-height:normal;font-family:Menlo,'DejaVu Sans Mono',consolas,'Courier New',monospace\">Pairs:  7805  Vector:  7805\n",
       "</pre>\n"
      ],
      "text/plain": [
       "Pairs:  7805  Vector:  7805\n"
      ]
     },
     "metadata": {},
     "output_type": "display_data"
    },
    {
     "data": {
      "text/html": [
       "<pre style=\"white-space:pre;overflow-x:auto;line-height:normal;font-family:Menlo,'DejaVu Sans Mono',consolas,'Courier New',monospace\">[[True, True, True, True, True, True, False, False], ... [], [], [False, False]]\n",
       "</pre>\n"
      ],
      "text/plain": [
       "[[True, True, True, True, True, True, False, False], ... [], [], [False, False]]\n"
      ]
     },
     "metadata": {},
     "output_type": "display_data"
    },
    {
     "data": {
      "text/html": [
       "<pre style=\"white-space:pre;overflow-x:auto;line-height:normal;font-family:Menlo,'DejaVu Sans Mono',consolas,'Courier New',monospace\">Postcut: Pairs:  172  Vector:  172\n",
       "</pre>\n"
      ],
      "text/plain": [
       "Postcut: Pairs:  172  Vector:  172\n"
      ]
     },
     "metadata": {},
     "output_type": "display_data"
    },
    {
     "data": {
      "text/html": [
       "<pre style=\"white-space:pre;overflow-x:auto;line-height:normal;font-family:Menlo,'DejaVu Sans Mono',consolas,'Courier New',monospace\">[[], [], [], [], [], [], [], [], [], [], ... [], [], [], [], [], [], [], [], [], []]\n",
       "</pre>\n"
      ],
      "text/plain": [
       "[[], [], [], [], [], [], [], [], [], [], ... [], [], [], [], [], [], [], [], [], []]\n"
      ]
     },
     "metadata": {},
     "output_type": "display_data"
    },
    {
     "data": {
      "text/html": [
       "<pre style=\"white-space:pre;overflow-x:auto;line-height:normal;font-family:Menlo,'DejaVu Sans Mono',consolas,'Courier New',monospace\">[[], [], [], [], [], [], [], [], [], [], ... [], [], [], [], [], [], [], [], [], []]\n",
       "</pre>\n"
      ],
      "text/plain": [
       "[[], [], [], [], [], [], [], [], [], [], ... [], [], [], [], [], [], [], [], [], []]\n"
      ]
     },
     "metadata": {},
     "output_type": "display_data"
    },
    {
     "data": {
      "text/html": [
       "<pre style=\"white-space:pre;overflow-x:auto;line-height:normal;font-family:Menlo,'DejaVu Sans Mono',consolas,'Courier New',monospace\">Start:  11526   DYJets\n",
       "</pre>\n"
      ],
      "text/plain": [
       "Start:  11526   DYJets\n"
      ]
     },
     "metadata": {},
     "output_type": "display_data"
    },
    {
     "data": {
      "text/html": [
       "<pre style=\"white-space:pre;overflow-x:auto;line-height:normal;font-family:Menlo,'DejaVu Sans Mono',consolas,'Courier New',monospace\">Extra Ele Veto:  10780\n",
       "</pre>\n"
      ],
      "text/plain": [
       "Extra Ele Veto:  10780\n"
      ]
     },
     "metadata": {},
     "output_type": "display_data"
    },
    {
     "data": {
      "text/html": [
       "<pre style=\"white-space:pre;overflow-x:auto;line-height:normal;font-family:Menlo,'DejaVu Sans Mono',consolas,'Courier New',monospace\">Extra Mu Veto:  3102\n",
       "</pre>\n"
      ],
      "text/plain": [
       "Extra Mu Veto:  3102\n"
      ]
     },
     "metadata": {},
     "output_type": "display_data"
    },
    {
     "data": {
      "text/html": [
       "<pre style=\"white-space:pre;overflow-x:auto;line-height:normal;font-family:Menlo,'DejaVu Sans Mono',consolas,'Courier New',monospace\">BJet Veto:  2713\n",
       "</pre>\n"
      ],
      "text/plain": [
       "BJet Veto:  2713\n"
      ]
     },
     "metadata": {},
     "output_type": "display_data"
    },
    {
     "data": {
      "text/html": [
       "<pre style=\"white-space:pre;overflow-x:auto;line-height:normal;font-family:Menlo,'DejaVu Sans Mono',consolas,'Courier New',monospace\">Pairs:  5753  Vector:  5753\n",
       "</pre>\n"
      ],
      "text/plain": [
       "Pairs:  5753  Vector:  5753\n"
      ]
     },
     "metadata": {},
     "output_type": "display_data"
    },
    {
     "data": {
      "text/html": [
       "<pre style=\"white-space:pre;overflow-x:auto;line-height:normal;font-family:Menlo,'DejaVu Sans Mono',consolas,'Courier New',monospace\">[[], [False, True], [True], [True, True], ... True], [], [True], [], [True, True]]\n",
       "</pre>\n"
      ],
      "text/plain": [
       "[[], [False, True], [True], [True, True], ... True], [], [True], [], [True, True]]\n"
      ]
     },
     "metadata": {},
     "output_type": "display_data"
    },
    {
     "data": {
      "text/html": [
       "<pre style=\"white-space:pre;overflow-x:auto;line-height:normal;font-family:Menlo,'DejaVu Sans Mono',consolas,'Courier New',monospace\">Postcut: Pairs:  130  Vector:  130\n",
       "</pre>\n"
      ],
      "text/plain": [
       "Postcut: Pairs:  130  Vector:  130\n"
      ]
     },
     "metadata": {},
     "output_type": "display_data"
    },
    {
     "data": {
      "text/html": [
       "<pre style=\"white-space:pre;overflow-x:auto;line-height:normal;font-family:Menlo,'DejaVu Sans Mono',consolas,'Courier New',monospace\">[[], [True], [], [], [], [], [], [], [], ... [], [], [], [], [], [], [], [], []]\n",
       "</pre>\n"
      ],
      "text/plain": [
       "[[], [True], [], [], [], [], [], [], [], ... [], [], [], [], [], [], [], [], []]\n"
      ]
     },
     "metadata": {},
     "output_type": "display_data"
    },
    {
     "data": {
      "text/html": [
       "<pre style=\"white-space:pre;overflow-x:auto;line-height:normal;font-family:Menlo,'DejaVu Sans Mono',consolas,'Courier New',monospace\">[[], [{tau: {pt: 97.9, eta: -0.0421, phi: 0.552, mass: 0.448}, ... [], [], [], []]\n",
       "</pre>\n"
      ],
      "text/plain": [
       "[[], [{tau: {pt: 97.9, eta: -0.0421, phi: 0.552, mass: 0.448}, ... [], [], [], []]\n"
      ]
     },
     "metadata": {},
     "output_type": "display_data"
    },
    {
     "data": {
      "text/html": [
       "<pre style=\"white-space:pre;overflow-x:auto;line-height:normal;font-family:Menlo,'DejaVu Sans Mono',consolas,'Courier New',monospace\">Start:  11680   DYJets\n",
       "</pre>\n"
      ],
      "text/plain": [
       "Start:  11680   DYJets\n"
      ]
     },
     "metadata": {},
     "output_type": "display_data"
    },
    {
     "data": {
      "text/html": [
       "<pre style=\"white-space:pre;overflow-x:auto;line-height:normal;font-family:Menlo,'DejaVu Sans Mono',consolas,'Courier New',monospace\">Extra Ele Veto:  10995\n",
       "</pre>\n"
      ],
      "text/plain": [
       "Extra Ele Veto:  10995\n"
      ]
     },
     "metadata": {},
     "output_type": "display_data"
    },
    {
     "data": {
      "text/html": [
       "<pre style=\"white-space:pre;overflow-x:auto;line-height:normal;font-family:Menlo,'DejaVu Sans Mono',consolas,'Courier New',monospace\">Extra Mu Veto:  3295\n",
       "</pre>\n"
      ],
      "text/plain": [
       "Extra Mu Veto:  3295\n"
      ]
     },
     "metadata": {},
     "output_type": "display_data"
    },
    {
     "data": {
      "text/html": [
       "<pre style=\"white-space:pre;overflow-x:auto;line-height:normal;font-family:Menlo,'DejaVu Sans Mono',consolas,'Courier New',monospace\">BJet Veto:  2928\n",
       "</pre>\n"
      ],
      "text/plain": [
       "BJet Veto:  2928\n"
      ]
     },
     "metadata": {},
     "output_type": "display_data"
    },
    {
     "data": {
      "text/html": [
       "<pre style=\"white-space:pre;overflow-x:auto;line-height:normal;font-family:Menlo,'DejaVu Sans Mono',consolas,'Courier New',monospace\">Pairs:  6078  Vector:  6078\n",
       "</pre>\n"
      ],
      "text/plain": [
       "Pairs:  6078  Vector:  6078\n"
      ]
     },
     "metadata": {},
     "output_type": "display_data"
    },
    {
     "data": {
      "text/html": [
       "<pre style=\"white-space:pre;overflow-x:auto;line-height:normal;font-family:Menlo,'DejaVu Sans Mono',consolas,'Courier New',monospace\">[[True, True, True, True, True, True], ... True, True, True, True, True], []]\n",
       "</pre>\n"
      ],
      "text/plain": [
       "[[True, True, True, True, True, True], ... True, True, True, True, True], []]\n"
      ]
     },
     "metadata": {},
     "output_type": "display_data"
    },
    {
     "data": {
      "text/html": [
       "<pre style=\"white-space:pre;overflow-x:auto;line-height:normal;font-family:Menlo,'DejaVu Sans Mono',consolas,'Courier New',monospace\">Postcut: Pairs:  141  Vector:  141\n",
       "</pre>\n"
      ],
      "text/plain": [
       "Postcut: Pairs:  141  Vector:  141\n"
      ]
     },
     "metadata": {},
     "output_type": "display_data"
    },
    {
     "data": {
      "text/html": [
       "<pre style=\"white-space:pre;overflow-x:auto;line-height:normal;font-family:Menlo,'DejaVu Sans Mono',consolas,'Courier New',monospace\">[[], [], [], [], [], [], [], [], [], [], ... [], [], [], [False], [], [], [], [], []]\n",
       "</pre>\n"
      ],
      "text/plain": [
       "[[], [], [], [], [], [], [], [], [], [], ... [], [], [], [False], [], [], [], [], []]\n"
      ]
     },
     "metadata": {},
     "output_type": "display_data"
    },
    {
     "data": {
      "text/html": [
       "<pre style=\"white-space:pre;overflow-x:auto;line-height:normal;font-family:Menlo,'DejaVu Sans Mono',consolas,'Courier New',monospace\">[[], [], [], [], [], [], [], [], ... phi: -3.06, mass: 0.106}}], [], [], [], [], []]\n",
       "</pre>\n"
      ],
      "text/plain": [
       "[[], [], [], [], [], [], [], [], ... phi: -3.06, mass: 0.106}}], [], [], [], [], []]\n"
      ]
     },
     "metadata": {},
     "output_type": "display_data"
    },
    {
     "data": {
      "text/html": [
       "<pre style=\"white-space:pre;overflow-x:auto;line-height:normal;font-family:Menlo,'DejaVu Sans Mono',consolas,'Courier New',monospace\">Start:  12774   DYJets\n",
       "</pre>\n"
      ],
      "text/plain": [
       "Start:  12774   DYJets\n"
      ]
     },
     "metadata": {},
     "output_type": "display_data"
    },
    {
     "data": {
      "text/html": [
       "<pre style=\"white-space:pre;overflow-x:auto;line-height:normal;font-family:Menlo,'DejaVu Sans Mono',consolas,'Courier New',monospace\">Extra Ele Veto:  11957\n",
       "</pre>\n"
      ],
      "text/plain": [
       "Extra Ele Veto:  11957\n"
      ]
     },
     "metadata": {},
     "output_type": "display_data"
    },
    {
     "data": {
      "text/html": [
       "<pre style=\"white-space:pre;overflow-x:auto;line-height:normal;font-family:Menlo,'DejaVu Sans Mono',consolas,'Courier New',monospace\">Extra Mu Veto:  3391\n",
       "</pre>\n"
      ],
      "text/plain": [
       "Extra Mu Veto:  3391\n"
      ]
     },
     "metadata": {},
     "output_type": "display_data"
    },
    {
     "data": {
      "text/html": [
       "<pre style=\"white-space:pre;overflow-x:auto;line-height:normal;font-family:Menlo,'DejaVu Sans Mono',consolas,'Courier New',monospace\">BJet Veto:  3027\n",
       "</pre>\n"
      ],
      "text/plain": [
       "BJet Veto:  3027\n"
      ]
     },
     "metadata": {},
     "output_type": "display_data"
    },
    {
     "data": {
      "text/html": [
       "<pre style=\"white-space:pre;overflow-x:auto;line-height:normal;font-family:Menlo,'DejaVu Sans Mono',consolas,'Courier New',monospace\">Pairs:  6428  Vector:  6428\n",
       "</pre>\n"
      ],
      "text/plain": [
       "Pairs:  6428  Vector:  6428\n"
      ]
     },
     "metadata": {},
     "output_type": "display_data"
    },
    {
     "data": {
      "text/html": [
       "<pre style=\"white-space:pre;overflow-x:auto;line-height:normal;font-family:Menlo,'DejaVu Sans Mono',consolas,'Courier New',monospace\">[[], [False, False], [True, True, False, False], ... [], [False, False], [], []]\n",
       "</pre>\n"
      ],
      "text/plain": [
       "[[], [False, False], [True, True, False, False], ... [], [False, False], [], []]\n"
      ]
     },
     "metadata": {},
     "output_type": "display_data"
    },
    {
     "data": {
      "text/html": [
       "<pre style=\"white-space:pre;overflow-x:auto;line-height:normal;font-family:Menlo,'DejaVu Sans Mono',consolas,'Courier New',monospace\">Postcut: Pairs:  174  Vector:  174\n",
       "</pre>\n"
      ],
      "text/plain": [
       "Postcut: Pairs:  174  Vector:  174\n"
      ]
     },
     "metadata": {},
     "output_type": "display_data"
    },
    {
     "data": {
      "text/html": [
       "<pre style=\"white-space:pre;overflow-x:auto;line-height:normal;font-family:Menlo,'DejaVu Sans Mono',consolas,'Courier New',monospace\">[[], [], [], [], [], [], [], [], [], [], ... [], [], [], [], [], [], [], [], [], []]\n",
       "</pre>\n"
      ],
      "text/plain": [
       "[[], [], [], [], [], [], [], [], [], [], ... [], [], [], [], [], [], [], [], [], []]\n"
      ]
     },
     "metadata": {},
     "output_type": "display_data"
    },
    {
     "data": {
      "text/html": [
       "<pre style=\"white-space:pre;overflow-x:auto;line-height:normal;font-family:Menlo,'DejaVu Sans Mono',consolas,'Courier New',monospace\">[[], [], [], [], [], [], [], [], [], [], ... [], [], [], [], [], [], [], [], [], []]\n",
       "</pre>\n"
      ],
      "text/plain": [
       "[[], [], [], [], [], [], [], [], [], [], ... [], [], [], [], [], [], [], [], [], []]\n"
      ]
     },
     "metadata": {},
     "output_type": "display_data"
    },
    {
     "data": {
      "text/html": [
       "<pre style=\"white-space:pre;overflow-x:auto;line-height:normal;font-family:Menlo,'DejaVu Sans Mono',consolas,'Courier New',monospace\">Start:  13099   DYJets\n",
       "</pre>\n"
      ],
      "text/plain": [
       "Start:  13099   DYJets\n"
      ]
     },
     "metadata": {},
     "output_type": "display_data"
    },
    {
     "data": {
      "text/html": [
       "<pre style=\"white-space:pre;overflow-x:auto;line-height:normal;font-family:Menlo,'DejaVu Sans Mono',consolas,'Courier New',monospace\">Extra Ele Veto:  12256\n",
       "</pre>\n"
      ],
      "text/plain": [
       "Extra Ele Veto:  12256\n"
      ]
     },
     "metadata": {},
     "output_type": "display_data"
    },
    {
     "data": {
      "text/html": [
       "<pre style=\"white-space:pre;overflow-x:auto;line-height:normal;font-family:Menlo,'DejaVu Sans Mono',consolas,'Courier New',monospace\">Extra Mu Veto:  3602\n",
       "</pre>\n"
      ],
      "text/plain": [
       "Extra Mu Veto:  3602\n"
      ]
     },
     "metadata": {},
     "output_type": "display_data"
    },
    {
     "data": {
      "text/html": [
       "<pre style=\"white-space:pre;overflow-x:auto;line-height:normal;font-family:Menlo,'DejaVu Sans Mono',consolas,'Courier New',monospace\">BJet Veto:  3138\n",
       "</pre>\n"
      ],
      "text/plain": [
       "BJet Veto:  3138\n"
      ]
     },
     "metadata": {},
     "output_type": "display_data"
    },
    {
     "data": {
      "text/html": [
       "<pre style=\"white-space:pre;overflow-x:auto;line-height:normal;font-family:Menlo,'DejaVu Sans Mono',consolas,'Courier New',monospace\">Pairs:  6568  Vector:  6568\n",
       "</pre>\n"
      ],
      "text/plain": [
       "Pairs:  6568  Vector:  6568\n"
      ]
     },
     "metadata": {},
     "output_type": "display_data"
    },
    {
     "data": {
      "text/html": [
       "<pre style=\"white-space:pre;overflow-x:auto;line-height:normal;font-family:Menlo,'DejaVu Sans Mono',consolas,'Courier New',monospace\">[[True, True], [True, True, True], [True, ... [], [True], [True, True, True]]\n",
       "</pre>\n"
      ],
      "text/plain": [
       "[[True, True], [True, True, True], [True, ... [], [True], [True, True, True]]\n"
      ]
     },
     "metadata": {},
     "output_type": "display_data"
    },
    {
     "data": {
      "text/html": [
       "<pre style=\"white-space:pre;overflow-x:auto;line-height:normal;font-family:Menlo,'DejaVu Sans Mono',consolas,'Courier New',monospace\">Postcut: Pairs:  158  Vector:  158\n",
       "</pre>\n"
      ],
      "text/plain": [
       "Postcut: Pairs:  158  Vector:  158\n"
      ]
     },
     "metadata": {},
     "output_type": "display_data"
    },
    {
     "data": {
      "text/html": [
       "<pre style=\"white-space:pre;overflow-x:auto;line-height:normal;font-family:Menlo,'DejaVu Sans Mono',consolas,'Courier New',monospace\">[[], [], [], [], [], [], [], [], [], [], ... [], [], [], [], [], [], [], [], [], []]\n",
       "</pre>\n"
      ],
      "text/plain": [
       "[[], [], [], [], [], [], [], [], [], [], ... [], [], [], [], [], [], [], [], [], []]\n"
      ]
     },
     "metadata": {},
     "output_type": "display_data"
    },
    {
     "data": {
      "text/html": [
       "<pre style=\"white-space:pre;overflow-x:auto;line-height:normal;font-family:Menlo,'DejaVu Sans Mono',consolas,'Courier New',monospace\">[[], [], [], [], [], [], [], [], [], [], ... [], [], [], [], [], [], [], [], [], []]\n",
       "</pre>\n"
      ],
      "text/plain": [
       "[[], [], [], [], [], [], [], [], [], [], ... [], [], [], [], [], [], [], [], [], []]\n"
      ]
     },
     "metadata": {},
     "output_type": "display_data"
    },
    {
     "data": {
      "text/html": [
       "<pre style=\"white-space:pre;overflow-x:auto;line-height:normal;font-family:Menlo,'DejaVu Sans Mono',consolas,'Courier New',monospace\">Start:  15578   DYJets\n",
       "</pre>\n"
      ],
      "text/plain": [
       "Start:  15578   DYJets\n"
      ]
     },
     "metadata": {},
     "output_type": "display_data"
    },
    {
     "data": {
      "text/html": [
       "<pre style=\"white-space:pre;overflow-x:auto;line-height:normal;font-family:Menlo,'DejaVu Sans Mono',consolas,'Courier New',monospace\">Extra Ele Veto:  14582\n",
       "</pre>\n"
      ],
      "text/plain": [
       "Extra Ele Veto:  14582\n"
      ]
     },
     "metadata": {},
     "output_type": "display_data"
    },
    {
     "data": {
      "text/html": [
       "<pre style=\"white-space:pre;overflow-x:auto;line-height:normal;font-family:Menlo,'DejaVu Sans Mono',consolas,'Courier New',monospace\">Extra Mu Veto:  4266\n",
       "</pre>\n"
      ],
      "text/plain": [
       "Extra Mu Veto:  4266\n"
      ]
     },
     "metadata": {},
     "output_type": "display_data"
    },
    {
     "data": {
      "text/html": [
       "<pre style=\"white-space:pre;overflow-x:auto;line-height:normal;font-family:Menlo,'DejaVu Sans Mono',consolas,'Courier New',monospace\">BJet Veto:  3756\n",
       "</pre>\n"
      ],
      "text/plain": [
       "BJet Veto:  3756\n"
      ]
     },
     "metadata": {},
     "output_type": "display_data"
    },
    {
     "data": {
      "text/html": [
       "<pre style=\"white-space:pre;overflow-x:auto;line-height:normal;font-family:Menlo,'DejaVu Sans Mono',consolas,'Courier New',monospace\">Pairs:  8021  Vector:  8021\n",
       "</pre>\n"
      ],
      "text/plain": [
       "Pairs:  8021  Vector:  8021\n"
      ]
     },
     "metadata": {},
     "output_type": "display_data"
    },
    {
     "data": {
      "text/html": [
       "<pre style=\"white-space:pre;overflow-x:auto;line-height:normal;font-family:Menlo,'DejaVu Sans Mono',consolas,'Courier New',monospace\">[[], [], [], [False, False, True, True, ... True, True, True, True, True], [], []]\n",
       "</pre>\n"
      ],
      "text/plain": [
       "[[], [], [], [False, False, True, True, ... True, True, True, True, True], [], []]\n"
      ]
     },
     "metadata": {},
     "output_type": "display_data"
    },
    {
     "data": {
      "text/html": [
       "<pre style=\"white-space:pre;overflow-x:auto;line-height:normal;font-family:Menlo,'DejaVu Sans Mono',consolas,'Courier New',monospace\">Postcut: Pairs:  190  Vector:  190\n",
       "</pre>\n"
      ],
      "text/plain": [
       "Postcut: Pairs:  190  Vector:  190\n"
      ]
     },
     "metadata": {},
     "output_type": "display_data"
    },
    {
     "data": {
      "text/html": [
       "<pre style=\"white-space:pre;overflow-x:auto;line-height:normal;font-family:Menlo,'DejaVu Sans Mono',consolas,'Courier New',monospace\">[[], [], [], [], [], [], [], [], [], [], ... [], [], [], [], [], [], [], [], [], []]\n",
       "</pre>\n"
      ],
      "text/plain": [
       "[[], [], [], [], [], [], [], [], [], [], ... [], [], [], [], [], [], [], [], [], []]\n"
      ]
     },
     "metadata": {},
     "output_type": "display_data"
    },
    {
     "data": {
      "text/html": [
       "<pre style=\"white-space:pre;overflow-x:auto;line-height:normal;font-family:Menlo,'DejaVu Sans Mono',consolas,'Courier New',monospace\">[[], [], [], [], [], [], [], [], [], [], ... [], [], [], [], [], [], [], [], [], []]\n",
       "</pre>\n"
      ],
      "text/plain": [
       "[[], [], [], [], [], [], [], [], [], [], ... [], [], [], [], [], [], [], [], [], []]\n"
      ]
     },
     "metadata": {},
     "output_type": "display_data"
    },
    {
     "data": {
      "text/html": [
       "<pre style=\"white-space:pre;overflow-x:auto;line-height:normal;font-family:Menlo,'DejaVu Sans Mono',consolas,'Courier New',monospace\">Start:  15506   DYJets\n",
       "</pre>\n"
      ],
      "text/plain": [
       "Start:  15506   DYJets\n"
      ]
     },
     "metadata": {},
     "output_type": "display_data"
    },
    {
     "data": {
      "text/html": [
       "<pre style=\"white-space:pre;overflow-x:auto;line-height:normal;font-family:Menlo,'DejaVu Sans Mono',consolas,'Courier New',monospace\">Extra Ele Veto:  14530\n",
       "</pre>\n"
      ],
      "text/plain": [
       "Extra Ele Veto:  14530\n"
      ]
     },
     "metadata": {},
     "output_type": "display_data"
    },
    {
     "data": {
      "text/html": [
       "<pre style=\"white-space:pre;overflow-x:auto;line-height:normal;font-family:Menlo,'DejaVu Sans Mono',consolas,'Courier New',monospace\">Extra Mu Veto:  4250\n",
       "</pre>\n"
      ],
      "text/plain": [
       "Extra Mu Veto:  4250\n"
      ]
     },
     "metadata": {},
     "output_type": "display_data"
    },
    {
     "data": {
      "text/html": [
       "<pre style=\"white-space:pre;overflow-x:auto;line-height:normal;font-family:Menlo,'DejaVu Sans Mono',consolas,'Courier New',monospace\">BJet Veto:  3756\n",
       "</pre>\n"
      ],
      "text/plain": [
       "BJet Veto:  3756\n"
      ]
     },
     "metadata": {},
     "output_type": "display_data"
    },
    {
     "data": {
      "text/html": [
       "<pre style=\"white-space:pre;overflow-x:auto;line-height:normal;font-family:Menlo,'DejaVu Sans Mono',consolas,'Courier New',monospace\">Pairs:  7942  Vector:  7942\n",
       "</pre>\n"
      ],
      "text/plain": [
       "Pairs:  7942  Vector:  7942\n"
      ]
     },
     "metadata": {},
     "output_type": "display_data"
    },
    {
     "data": {
      "text/html": [
       "<pre style=\"white-space:pre;overflow-x:auto;line-height:normal;font-family:Menlo,'DejaVu Sans Mono',consolas,'Courier New',monospace\">[[], [], [], [True], [], ... False, False, False, False], [True, True, False], []]\n",
       "</pre>\n"
      ],
      "text/plain": [
       "[[], [], [], [True], [], ... False, False, False, False], [True, True, False], []]\n"
      ]
     },
     "metadata": {},
     "output_type": "display_data"
    },
    {
     "data": {
      "text/html": [
       "<pre style=\"white-space:pre;overflow-x:auto;line-height:normal;font-family:Menlo,'DejaVu Sans Mono',consolas,'Courier New',monospace\">Postcut: Pairs:  208  Vector:  208\n",
       "</pre>\n"
      ],
      "text/plain": [
       "Postcut: Pairs:  208  Vector:  208\n"
      ]
     },
     "metadata": {},
     "output_type": "display_data"
    },
    {
     "data": {
      "text/html": [
       "<pre style=\"white-space:pre;overflow-x:auto;line-height:normal;font-family:Menlo,'DejaVu Sans Mono',consolas,'Courier New',monospace\">[[], [], [], [], [], [], [], [], [], [], ... [], [], [], [], [], [], [], [], [], []]\n",
       "</pre>\n"
      ],
      "text/plain": [
       "[[], [], [], [], [], [], [], [], [], [], ... [], [], [], [], [], [], [], [], [], []]\n"
      ]
     },
     "metadata": {},
     "output_type": "display_data"
    },
    {
     "data": {
      "text/html": [
       "<pre style=\"white-space:pre;overflow-x:auto;line-height:normal;font-family:Menlo,'DejaVu Sans Mono',consolas,'Courier New',monospace\">[[], [], [], [], [], [], [], [], [], [], ... [], [], [], [], [], [], [], [], [], []]\n",
       "</pre>\n"
      ],
      "text/plain": [
       "[[], [], [], [], [], [], [], [], [], [], ... [], [], [], [], [], [], [], [], [], []]\n"
      ]
     },
     "metadata": {},
     "output_type": "display_data"
    },
    {
     "data": {
      "text/html": [
       "<pre style=\"white-space:pre;overflow-x:auto;line-height:normal;font-family:Menlo,'DejaVu Sans Mono',consolas,'Courier New',monospace\">Start:  4755   DYJets\n",
       "</pre>\n"
      ],
      "text/plain": [
       "Start:  4755   DYJets\n"
      ]
     },
     "metadata": {},
     "output_type": "display_data"
    },
    {
     "data": {
      "text/html": [
       "<pre style=\"white-space:pre;overflow-x:auto;line-height:normal;font-family:Menlo,'DejaVu Sans Mono',consolas,'Courier New',monospace\">Extra Ele Veto:  4468\n",
       "</pre>\n"
      ],
      "text/plain": [
       "Extra Ele Veto:  4468\n"
      ]
     },
     "metadata": {},
     "output_type": "display_data"
    },
    {
     "data": {
      "text/html": [
       "<pre style=\"white-space:pre;overflow-x:auto;line-height:normal;font-family:Menlo,'DejaVu Sans Mono',consolas,'Courier New',monospace\">Extra Mu Veto:  1263\n",
       "</pre>\n"
      ],
      "text/plain": [
       "Extra Mu Veto:  1263\n"
      ]
     },
     "metadata": {},
     "output_type": "display_data"
    },
    {
     "data": {
      "text/html": [
       "<pre style=\"white-space:pre;overflow-x:auto;line-height:normal;font-family:Menlo,'DejaVu Sans Mono',consolas,'Courier New',monospace\">BJet Veto:  1116\n",
       "</pre>\n"
      ],
      "text/plain": [
       "BJet Veto:  1116\n"
      ]
     },
     "metadata": {},
     "output_type": "display_data"
    },
    {
     "data": {
      "text/html": [
       "<pre style=\"white-space:pre;overflow-x:auto;line-height:normal;font-family:Menlo,'DejaVu Sans Mono',consolas,'Courier New',monospace\">Pairs:  2311  Vector:  2311\n",
       "</pre>\n"
      ],
      "text/plain": [
       "Pairs:  2311  Vector:  2311\n"
      ]
     },
     "metadata": {},
     "output_type": "display_data"
    },
    {
     "data": {
      "text/html": [
       "<pre style=\"white-space:pre;overflow-x:auto;line-height:normal;font-family:Menlo,'DejaVu Sans Mono',consolas,'Courier New',monospace\">[[True, True], [False, False, True, True], [], ... [], [], [], [], [True, True]]\n",
       "</pre>\n"
      ],
      "text/plain": [
       "[[True, True], [False, False, True, True], [], ... [], [], [], [], [True, True]]\n"
      ]
     },
     "metadata": {},
     "output_type": "display_data"
    },
    {
     "data": {
      "text/html": [
       "<pre style=\"white-space:pre;overflow-x:auto;line-height:normal;font-family:Menlo,'DejaVu Sans Mono',consolas,'Courier New',monospace\">Postcut: Pairs:  51  Vector:  51\n",
       "</pre>\n"
      ],
      "text/plain": [
       "Postcut: Pairs:  51  Vector:  51\n"
      ]
     },
     "metadata": {},
     "output_type": "display_data"
    },
    {
     "data": {
      "text/html": [
       "<pre style=\"white-space:pre;overflow-x:auto;line-height:normal;font-family:Menlo,'DejaVu Sans Mono',consolas,'Courier New',monospace\">[[], [], [], [], [], [], [], [], [], [], ... [], [], [], [], [], [], [], [], [], []]\n",
       "</pre>\n"
      ],
      "text/plain": [
       "[[], [], [], [], [], [], [], [], [], [], ... [], [], [], [], [], [], [], [], [], []]\n"
      ]
     },
     "metadata": {},
     "output_type": "display_data"
    },
    {
     "data": {
      "text/html": [
       "<pre style=\"white-space:pre;overflow-x:auto;line-height:normal;font-family:Menlo,'DejaVu Sans Mono',consolas,'Courier New',monospace\">[[], [], [], [], [], [], [], [], [], [], ... [], [], [], [], [], [], [], [], [], []]\n",
       "</pre>\n"
      ],
      "text/plain": [
       "[[], [], [], [], [], [], [], [], [], [], ... [], [], [], [], [], [], [], [], [], []]\n"
      ]
     },
     "metadata": {},
     "output_type": "display_data"
    },
    {
     "data": {
      "text/html": [
       "<pre style=\"white-space:pre;overflow-x:auto;line-height:normal;font-family:Menlo,'DejaVu Sans Mono',consolas,'Courier New',monospace\"></pre>\n"
      ],
      "text/plain": []
     },
     "metadata": {},
     "output_type": "display_data"
    },
    {
     "data": {
      "text/html": [
       "<pre style=\"white-space:pre;overflow-x:auto;line-height:normal;font-family:Menlo,'DejaVu Sans Mono',consolas,'Courier New',monospace\">\n",
       "</pre>\n"
      ],
      "text/plain": [
       "\n"
      ]
     },
     "metadata": {},
     "output_type": "display_data"
    }
   ],
   "source": [
    "print(\"Calling runner\")\n",
    "mt_results_local = runner(\n",
    "    mt_fileset,\n",
    "    treename=\"Events\",\n",
    "    processor_instance=MyProcessor(),\n",
    ")"
   ]
  },
  {
   "cell_type": "code",
   "execution_count": 14,
   "id": "719584d2-f5fc-46ed-a0e9-36d41af16627",
   "metadata": {},
   "outputs": [
    {
     "name": "stdout",
     "output_type": "stream",
     "text": [
      "Dataset: Data\n",
      "Dataset: VV\n",
      "Dataset: TT\n",
      "Dataset: WJets\n",
      "Dataset: DYJets\n",
      "dict_items([('Data', {'Test': value_accumulator(int, 6), 'mass': Hist(Regular(30, 0, 150, underflow=False, overflow=False, name='mass', label='Data'), storage=Double()) # Sum: 515.0, 'ss_mass': Hist(Regular(30, 0, 150, underflow=False, overflow=False, name='mass', label='Data'), storage=Double()) # Sum: 61.0}), ('VV', {'Test': value_accumulator(int, 30), 'mass': Hist(Regular(30, 0, 150, underflow=False, overflow=False, name='mass', label='VV'), storage=Double()) # Sum: 4.111465732684135, 'ss_mass': Hist(Regular(30, 0, 150, underflow=False, overflow=False, name='mass', label='VV'), storage=Double())}), ('TT', {'Test': value_accumulator(int, 45), 'mass': Hist(Regular(30, 0, 150, underflow=False, overflow=False, name='mass', label='TT'), storage=Double()) # Sum: 3066.4843710243417, 'ss_mass': Hist(Regular(30, 0, 150, underflow=False, overflow=False, name='mass', label='TT'), storage=Double())}), ('WJets', {'Test': value_accumulator(int, 16), 'mass': Hist(Regular(30, 0, 150, underflow=False, overflow=False, name='mass', label='WJets'), storage=Double()), 'ss_mass': Hist(Regular(30, 0, 150, underflow=False, overflow=False, name='mass', label='WJets'), storage=Double()) # Sum: 540.2478324780612}), ('DYJets', {'Test': value_accumulator(int, 18), 'mass': Hist(Regular(30, 0, 150, underflow=False, overflow=False, name='mass', label='DYJets'), storage=Double()) # Sum: 132559.09097646113, 'ss_mass': Hist(Regular(30, 0, 150, underflow=False, overflow=False, name='mass', label='DYJets'), storage=Double()) # Sum: 1219.961741999433})])\n"
     ]
    }
   ],
   "source": [
    "for dset,results in mt_results_local.items():\n",
    "    print(f\"Dataset: {dset}\")\n",
    "    #print(f\"Event count: {results['EventCount'].value}\")\n",
    "\n",
    "print(mt_results_local.items())\n"
   ]
  },
  {
   "cell_type": "code",
   "execution_count": 21,
   "id": "37e8b6f8-ab99-4374-aa6e-ae1bbb566089",
   "metadata": {},
   "outputs": [
    {
     "data": {
      "image/png": "[encoded data removed]",
      "text/plain": [
       "<Figure size 640x480 with 1 Axes>"
      ]
     },
     "metadata": {},
     "output_type": "display_data"
    }
   ],
   "source": [
    "mt_results_local[\"Data\"][\"mass\"].plot()\n",
    "#mt_results_local[\"DYJets\"][\"mass\"].plot()\n",
    "mt_results_local[\"WJets\"][\"mass\"].plot()\n",
    "#mt_results_local[\"TT\"][\"mass\"].plot()\n",
    "mt_results_local[\"VV\"][\"mass\"].plot()\n",
    "\n",
    "Data_h, Data_bins = mt_results_local[\"Data\"][\"mass\"].to_numpy()"
   ]
  },
  {
   "cell_type": "code",
   "execution_count": 22,
   "id": "4d3e8246-450f-415b-aa7e-52436a6da5e0",
   "metadata": {},
   "outputs": [],
   "source": [
    "d = {}\n",
    "bins = np.linspace(0,150,30)\n",
    "\n",
    "QCDScaleFactor = 1.6996559936491136\n",
    "\n",
    "d[\"Data_h\"], d[\"Data_bins\"] = mt_results_local[\"Data\"][\"mass\"].to_numpy()\n",
    "d[\"Data_SS_h\"], d[\"Data_SS_bins\"] = mt_results_local[\"Data\"][\"ss_mass\"].to_numpy()\n",
    "labels1 = [\"DYJets\", \"WJets\", \"TT\", \"VV\"]\n",
    "for i in labels1:\n",
    "    d[i + \"_h\"], d[i + \"_bins\"] =  mt_results_local[i][\"mass\"].to_numpy()\n",
    "    d[i + \"_SS_h\"], d[i + \"_SS_bins\"] =  mt_results_local[i][\"ss_mass\"].to_numpy()\n",
    "\n",
    "d[\"QCD_h\"] = np.subtract(np.subtract(np.subtract(d[\"Data_SS_h\"], d[\"DYJets_SS_h\"], dtype=object, out=None), d[\"WJets_SS_h\"], dtype=object, out=None), d[\"TT_SS_h\"], dtype=object, out=None)\n",
    "for i in range(d[\"QCD_h\"].size):\n",
    "    if d[\"QCD_h\"][i] < 0.0:\n",
    "        d[\"QCD_h\"][i] = 0.0\n",
    "    d[\"QCD_w\"] = np.full(shape=d[\"QCD_h\"].shape, fill_value=QCDScaleFactor, dtype=np.double)\n",
    "    d[\"QCD_hist\"] = (d[\"QCD_h\"], d[\"Data_SS_bins\"])\n"
   ]
  },
  {
   "cell_type": "code",
   "execution_count": 23,
   "id": "20eb60c2-3930-4e25-a3f8-6f29b8e4cff7",
   "metadata": {},
   "outputs": [],
   "source": [
    "outFile = uproot.recreate(\"boostedHTT_mt_2018_local.input.root\")\n",
    "outFile[\"DYJets_met_1_13TeV/data_obs\"] = mt_results_local[\"Data\"][\"mass\"].to_numpy()\n",
    "outFile[\"DYJets_met_1_13TeV/QCD\"] = d[\"QCD_hist\"]\n",
    "outFile[\"DYJets_met_1_13TeV/WJets\"] = mt_results_local[\"WJets\"][\"mass\"].to_numpy()\n",
    "outFile[\"DYJets_met_1_13TeV/DYJets125\"] = mt_results_local[\"DYJets\"][\"mass\"].to_numpy()\n",
    "outFile[\"DYJets_met_1_13TeV/TT\"] = mt_results_local[\"TT\"][\"mass\"].to_numpy()\n",
    "outFile[\"DYJets_met_1_13TeV/VV\"] = mt_results_local[\"VV\"][\"mass\"].to_numpy()\n",
    "outFile.close()"
   ]
  },
  {
   "cell_type": "markdown",
   "id": "67615d3e-8226-408d-a460-28c175ff8e23",
   "metadata": {},
   "source": [
    "Now let's do it through condor:\n",
    "\n",
    "\n",
    "\n",
    "\n",
    "\n"
   ]
  },
  {
   "cell_type": "code",
   "execution_count": 8,
   "id": "622f47a7-a05c-4c5b-9238-bcf87837b9ec",
   "metadata": {},
   "outputs": [
    {
     "data": {
      "text/plain": [
       "array([Delayed('get_tree-cd65faf2e8a4f306cff8f3d0c33b4235'),\n",
       "       Delayed('get_tree-badd31b75c5421715cd6c164589714b0'),\n",
       "       Delayed('get_tree-bbfb2355d036062f78ff113476e79bae'),\n",
       "       Delayed('get_tree-4b8e2e2faf6ce783710067d0a3b214f0'),\n",
       "       Delayed('get_tree-006b5696b04cf1f507f52f04de5e0f13'),\n",
       "       Delayed('get_tree-8a9a5a584224a2266098ae6d1063d5d0'),\n",
       "       Delayed('get_tree-5a17e4bffc33f31e86ba45abce3dab42'),\n",
       "       Delayed('get_tree-300ba6c88650ab7042a0b422aef36e8a'),\n",
       "       Delayed('get_tree-5819f49b6c4d22cb2b1238ce54bda71b'),\n",
       "       Delayed('get_tree-eacc5e43b0967bb331e1766379df98bc'),\n",
       "       Delayed('get_tree-e18dcb03ee35a803dc52e48835b6cb42'),\n",
       "       Delayed('get_tree-612d72bd133169e9bcb0a3cd127c4e0d'),\n",
       "       Delayed('get_tree-db00bbf1cc786ac2428b70bc99ba3c01'),\n",
       "       Delayed('get_tree-d4abd4608671d4ac29224a8d327f4c7a'),\n",
       "       Delayed('get_tree-dff01d916a205b036722791721d81d77'),\n",
       "       Delayed('get_tree-fe0ac8fc5d78dc8a6bae0b65df32233b'),\n",
       "       Delayed('get_tree-6999fa2769a20c6fb6cfc11e4249e210'),\n",
       "       Delayed('get_tree-5555bbfaa3ceecf62efc16c7b7e7d42f'),\n",
       "       Delayed('get_tree-0cf425c1ae76d8dfb352d2b3a5514397'),\n",
       "       Delayed('get_tree-7d5134ab5de663c87e44b7174c544332'),\n",
       "       Delayed('get_tree-13ca860c2e8d8466dd2859ca87ff5df8'),\n",
       "       Delayed('get_tree-f6e28cfba92b7e37f7a8f394e83c676e'),\n",
       "       Delayed('get_tree-5f221d69cfc25183788f7bcec3e52dca'),\n",
       "       Delayed('get_tree-507db6dd473d3a06f8407c10b2e79cb4'),\n",
       "       Delayed('get_tree-dce546868640fff5976ed92f9528298c'),\n",
       "       Delayed('get_tree-dd0c45b67235d4f1e441922a6df8ee9d'),\n",
       "       Delayed('get_tree-7c1b19e38d0ad901dcf2689229e4ed44'),\n",
       "       Delayed('get_tree-6937fadbddf7d2d110fc77682d4cde57'),\n",
       "       Delayed('get_tree-21597ac82355dbe4c51e97670b04664f'),\n",
       "       Delayed('get_tree-1879aed7af11f38b5a3dc850fa5aa894'),\n",
       "       Delayed('get_tree-61983d3c6224db24afee6423c4e4bdcc'),\n",
       "       Delayed('get_tree-cc11a870a3620439265fce80958209eb'),\n",
       "       Delayed('get_tree-d1e4553dbd35dc12ff7a2bca81fdfad8'),\n",
       "       Delayed('get_tree-64377e25f12dc78b51f42974a091b93f'),\n",
       "       Delayed('get_tree-66b7ca84c39619fe10553a41f1974c25'),\n",
       "       Delayed('get_tree-9f1d5dbc2f946748ad8f0e2fdc6c3106'),\n",
       "       Delayed('get_tree-d98d7e464c00f355e0ee04dac2c5ce82'),\n",
       "       Delayed('get_tree-c74d15436c391b2b78e6308bfa3ac1c4'),\n",
       "       Delayed('get_tree-553656340d77894a1a88c8cb47bf982e'),\n",
       "       Delayed('get_tree-3a206684fb9fef71e94a80e547ca11fb'),\n",
       "       Delayed('get_tree-64f132d65dc32dc9d67ddfb0a6d1e23c'),\n",
       "       Delayed('get_tree-48071814384515b1ae38ab69ce4b7fcf'),\n",
       "       Delayed('get_tree-44b0f46d0954b65f5e773bef40b04824'),\n",
       "       Delayed('get_tree-b9931a74c2e2691a819d6d000166889c'),\n",
       "       Delayed('get_tree-b4c93b0247e9e85302dfc6d6d6edbc8a'),\n",
       "       Delayed('get_tree-8dd561d9ff0a1187ced1c1f8aca2acdf'),\n",
       "       Delayed('get_tree-379dbf7900699dc7866bcfbf818eedff'),\n",
       "       Delayed('get_tree-1888b5938970bb96381ce950813f1773'),\n",
       "       Delayed('get_tree-081be46776ba5185520cd25f405b43f0'),\n",
       "       Delayed('get_tree-2be0ca5d826e97391b0e49bb87d73ca5'),\n",
       "       Delayed('get_tree-0098e20e62684a00c459a86bbb700b9c'),\n",
       "       Delayed('get_tree-b0b47823aaecec390e784b34efb17b12'),\n",
       "       Delayed('get_tree-af9807ddfbe611a2c70bda2251c45662'),\n",
       "       Delayed('get_tree-99ec333bcc0b5aee6bbe9a9550c3ee72'),\n",
       "       Delayed('get_tree-74dc2cede95c0a051bc750adde101135'),\n",
       "       Delayed('get_tree-5c2289014c09a53d66e1779b47bfbc70'),\n",
       "       Delayed('get_tree-73c93910cf4274b26ea3070ab2e18891'),\n",
       "       Delayed('get_tree-d831dfc4568b753bf9c424d7797a2ba7'),\n",
       "       Delayed('get_tree-f811cd055bf3f782d599a926257fe222'),\n",
       "       Delayed('get_tree-f1993867c92f99acb8c575f0fc14b971')], dtype=object)"
      ]
     },
     "execution_count": 8,
     "metadata": {},
     "output_type": "execute_result"
    }
   ],
   "source": [
    "redirector = \"root://cmsxrootd.fnal.gov//store/user/gparida/HHbbtt/Full_Production_CMSSW_13_0_13_Nov24_23\"\n",
    "redirector17D = \"root://cmsxrootd.fnal.gov//store/user/cgalloni/HHbbtt/Full_Production_CMSSW_13_0_13_Nov24_23\"\n",
    "\n",
    "mt_fileset = {\n",
    "    \"DYJets\": [\n",
    "        redirector+f\"/2018/MC/DYJetsToLL_M-50_HT-200to400_TuneCP5_PSweights_13TeV-madgraphMLM-pythia8/DYJetsToLL_M-50_HT-200to400_TuneCP5_PSweights_13TeV-madgraphMLM-pythia8/231225_151806/0000/NANO_NANO_{i}.root\"\n",
    "        for i in range(1,15)\n",
    "    ],\n",
    "    \"WJets\": [\n",
    "        redirector+f\"/2018/MC/WJetsToLNu_HT-200To400_TuneCP5_13TeV-madgraphMLM-pythia8/WJetsToLNu_HT-200To400_TuneCP5_13TeV-madgraphMLM-pythia8/231225_151948/0000/NANO_NANO_{i}.root\"\n",
    "        for i in range(1,15)\n",
    "    ],\n",
    "    \"TT\": [\n",
    "        redirector+f\"/2018/MC/TTToSemiLeptonic_TuneCP5_13TeV-powheg-pythia8/TTToSemiLeptonic_TuneCP5_13TeV-powheg-pythia8/240203_190026/0000/NANO_NANO_{i}.root\"\n",
    "        for i in range(1,15) \n",
    "    ],  \n",
    "    \"VV\": [\n",
    "        redirector+f\"/2018/MC/WZTo1L1Nu2Q_4f_TuneCP5_13TeV-amcatnloFXFX-pythia8/WZTo1L1Nu2Q_4f_TuneCP5_13TeV-amcatnloFXFX-pythia8/231225_152904/0000/NANO_NANO_{i}.root\"\n",
    "        for i in range(1,15)\n",
    "    ],\n",
    "    \"Data\": [\n",
    "        redirector+f\"/2018/MC/RadionTohhTohtatahbb_narrow_M-2000_TuneCP5_13TeV-madgraph-pythia8/RadionTohhTohtatahbb_narrow_M-2000_TuneCP5_13TeV-madgraph-pythia8/231225_152455/0000/NANO_NANO_{i}.root\"\n",
    "        for i in range(1,5) #fix get real data\n",
    "    ]\n",
    "}\n",
    "inputs = []\n",
    "for label in mt_fileset:\n",
    "    input = [get_tree(url) for url in mt_fileset[label]]\n",
    "    inputs = np.append(inputs, input)\n",
    "inputs"
   ]
  },
  {
   "cell_type": "code",
   "execution_count": 9,
   "id": "23a61205-5d58-4080-b0ad-cf255508fab4",
   "metadata": {},
   "outputs": [],
   "source": [
    "os.environ[\"CONDOR_CONFIG\"] = \"/etc/condor/condor_config\"\n",
    "\n",
    "try:\n",
    "    _x509_localpath = (\n",
    "        [\n",
    "            line\n",
    "            for line in os.popen(\"voms-proxy-info\").read().split(\"\\n\")\n",
    "            if line.startswith(\"path\")\n",
    "        ][0]\n",
    "        .split(\":\")[-1]\n",
    "        .strip()\n",
    "    )\n",
    "except Exception as err:\n",
    "    raise RuntimeError(\n",
    "        \"x509 proxy could not be parsed, try creating it with 'voms-proxy-init'\"\n",
    "    ) from err\n",
    "_x509_path = f'/scratch/{os.environ[\"USER\"]}/{_x509_localpath.split(\"/\")[-1]}'\n",
    "os.system(f\"cp {_x509_localpath} {_x509_path}\")\n",
    "_x509_path = os.path.basename(_x509_localpath)"
   ]
  },
  {
   "cell_type": "code",
   "execution_count": 10,
   "id": "cb2a482c-81c9-45d4-b288-71c1166d2a3d",
   "metadata": {},
   "outputs": [
    {
     "name": "stdout",
     "output_type": "stream",
     "text": [
      "Transferring contents of /afs/hep.wisc.edu/user/emettner/rootProjects/Radion-DiHiggs-4Tau/NanoRun to workers\n",
      "Condor logs, output files, error files in /scratch/emettner\n",
      "Executor created\n"
     ]
    },
    {
     "data": {
      "text/html": [
       "<div>\n",
       "    <div style=\"width: 24px; height: 24px; background-color: #e1e1e1; border: 3px solid #9D9D9D; border-radius: 5px; position: absolute;\"> </div>\n",
       "    <div style=\"margin-left: 48px;\">\n",
       "        <h3 style=\"margin-bottom: 0px;\">Client</h3>\n",
       "        <p style=\"color: #9D9D9D; margin-bottom: 0px;\">Client-7f3592f3-2997-11ef-b102-3cecefda85c8</p>\n",
       "        <table style=\"width: 100%; text-align: left;\">\n",
       "\n",
       "        <tr>\n",
       "        \n",
       "            <td style=\"text-align: left;\"><strong>Connection method:</strong> Cluster object</td>\n",
       "            <td style=\"text-align: left;\"><strong>Cluster type:</strong> dask_jobqueue.HTCondorCluster</td>\n",
       "        \n",
       "        </tr>\n",
       "\n",
       "        \n",
       "            <tr>\n",
       "                <td style=\"text-align: left;\">\n",
       "                    <strong>Dashboard: </strong> <a href=\"proxy/8787/status\" target=\"_blank\">proxy/8787/status</a>\n",
       "                </td>\n",
       "                <td style=\"text-align: left;\"></td>\n",
       "            </tr>\n",
       "        \n",
       "\n",
       "        </table>\n",
       "\n",
       "        \n",
       "            <button style=\"margin-bottom: 12px;\" data-commandlinker-command=\"dask:populate-and-launch-layout\" data-commandlinker-args='{\"url\": \"proxy/8787/status\" }'>\n",
       "                Launch dashboard in JupyterLab\n",
       "            </button>\n",
       "        \n",
       "\n",
       "        \n",
       "            <details>\n",
       "            <summary style=\"margin-bottom: 20px;\"><h3 style=\"display: inline;\">Cluster Info</h3></summary>\n",
       "            <div class=\"jp-RenderedHTMLCommon jp-RenderedHTML jp-mod-trusted jp-OutputArea-output\">\n",
       "    <div style=\"width: 24px; height: 24px; background-color: #e1e1e1; border: 3px solid #9D9D9D; border-radius: 5px; position: absolute;\">\n",
       "    </div>\n",
       "    <div style=\"margin-left: 48px;\">\n",
       "        <h3 style=\"margin-bottom: 0px; margin-top: 0px;\">HTCondorCluster</h3>\n",
       "        <p style=\"color: #9D9D9D; margin-bottom: 0px;\">c5b5e583</p>\n",
       "        <table style=\"width: 100%; text-align: left;\">\n",
       "            <tr>\n",
       "                <td style=\"text-align: left;\">\n",
       "                    <strong>Dashboard:</strong> <a href=\"proxy/8787/status\" target=\"_blank\">proxy/8787/status</a>\n",
       "                </td>\n",
       "                <td style=\"text-align: left;\">\n",
       "                    <strong>Workers:</strong> 0\n",
       "                </td>\n",
       "            </tr>\n",
       "            <tr>\n",
       "                <td style=\"text-align: left;\">\n",
       "                    <strong>Total threads:</strong> 0\n",
       "                </td>\n",
       "                <td style=\"text-align: left;\">\n",
       "                    <strong>Total memory:</strong> 0 B\n",
       "                </td>\n",
       "            </tr>\n",
       "            \n",
       "        </table>\n",
       "\n",
       "        <details>\n",
       "            <summary style=\"margin-bottom: 20px;\">\n",
       "                <h3 style=\"display: inline;\">Scheduler Info</h3>\n",
       "            </summary>\n",
       "\n",
       "            <div style=\"\">\n",
       "    <div>\n",
       "        <div style=\"width: 24px; height: 24px; background-color: #FFF7E5; border: 3px solid #FF6132; border-radius: 5px; position: absolute;\"> </div>\n",
       "        <div style=\"margin-left: 48px;\">\n",
       "            <h3 style=\"margin-bottom: 0px;\">Scheduler</h3>\n",
       "            <p style=\"color: #9D9D9D; margin-bottom: 0px;\">Scheduler-96171194-94b7-475a-8d07-f0b6ef438e0a</p>\n",
       "            <table style=\"width: 100%; text-align: left;\">\n",
       "                <tr>\n",
       "                    <td style=\"text-align: left;\">\n",
       "                        <strong>Comm:</strong> tcp://144.92.181.248:3775\n",
       "                    </td>\n",
       "                    <td style=\"text-align: left;\">\n",
       "                        <strong>Workers:</strong> 0\n",
       "                    </td>\n",
       "                </tr>\n",
       "                <tr>\n",
       "                    <td style=\"text-align: left;\">\n",
       "                        <strong>Dashboard:</strong> <a href=\"proxy/8787/status\" target=\"_blank\">proxy/8787/status</a>\n",
       "                    </td>\n",
       "                    <td style=\"text-align: left;\">\n",
       "                        <strong>Total threads:</strong> 0\n",
       "                    </td>\n",
       "                </tr>\n",
       "                <tr>\n",
       "                    <td style=\"text-align: left;\">\n",
       "                        <strong>Started:</strong> Just now\n",
       "                    </td>\n",
       "                    <td style=\"text-align: left;\">\n",
       "                        <strong>Total memory:</strong> 0 B\n",
       "                    </td>\n",
       "                </tr>\n",
       "            </table>\n",
       "        </div>\n",
       "    </div>\n",
       "\n",
       "    <details style=\"margin-left: 48px;\">\n",
       "        <summary style=\"margin-bottom: 20px;\">\n",
       "            <h3 style=\"display: inline;\">Workers</h3>\n",
       "        </summary>\n",
       "\n",
       "        \n",
       "\n",
       "    </details>\n",
       "</div>\n",
       "\n",
       "        </details>\n",
       "    </div>\n",
       "</div>\n",
       "            </details>\n",
       "        \n",
       "\n",
       "    </div>\n",
       "</div>"
      ],
      "text/plain": [
       "<Client: 'tcp://144.92.181.248:3775' processes=0 threads=0, memory=0 B>"
      ]
     },
     "execution_count": 10,
     "metadata": {},
     "output_type": "execute_result"
    }
   ],
   "source": [
    "PWD = os.getcwd()\n",
    "print(f'Transferring contents of {PWD} to workers')\n",
    "INITIAL_DIR = f'/scratch/{os.environ[\"USER\"]}'\n",
    "cluster = HTCondorCluster(\n",
    "    cores=8,\n",
    "    memory=\"10 GB\",\n",
    "    disk=\"8 GB\",\n",
    "    death_timeout = '120',\n",
    "    job_extra_directives={\n",
    "        \"+JobFlavour\": '\"tomorrow\"',\n",
    "        \"log\": \"dask_job_output.$(PROCESS).$(CLUSTER).log\",\n",
    "        \"output\": \"dask_job_output.$(PROCESS).$(CLUSTER).out\",\n",
    "        \"error\": \"dask_job_output.$(PROCESS).$(CLUSTER).err\",\n",
    "        \"should_transfer_files\": \"yes\",\n",
    "        \"when_to_transfer_output\": \"ON_EXIT_OR_EVICT\",\n",
    "        \"+SingularityImage\": '\"/cvmfs/unpacked.cern.ch/registry.hub.docker.com/coffeateam/coffea-dask:0.7.22-py3.10-g7cbcc\"',\n",
    "        \"Requirements\": \"HasSingularityJobStart\",\n",
    "        \"InitialDir\": INITIAL_DIR,\n",
    "        \"transfer_input_files\": f'{_x509_path}'\n",
    "    },\n",
    "    job_script_prologue=[\n",
    "        \"export XRD_RUNFORKHANDLER=1\",\n",
    "        f\"export X509_USER_PROXY={_x509_path}\",\n",
    "    ]\n",
    ")\n",
    "print('Condor logs, output files, error files in {}'.format(INITIAL_DIR))\n",
    "cluster.adapt(minimum=1, maximum=MAX_WORKERS)\n",
    "client = Client(cluster)\n",
    "dask_executor = processor.DaskExecutor(client=client, status=True)\n",
    "print(\"Executor created\")\n",
    "\n",
    "client"
   ]
  },
  {
   "cell_type": "code",
   "execution_count": 11,
   "id": "22aa22fe-382f-4ca9-8e4b-fb66b1c7a22e",
   "metadata": {},
   "outputs": [
    {
     "name": "stdout",
     "output_type": "stream",
     "text": [
      "Creating runner\n",
      "Using chunksize: 20000 and maxchunks None\n"
     ]
    }
   ],
   "source": [
    "print(\"Creating runner\")\n",
    "print(\"Using chunksize: {} and maxchunks {}\".format(CHUNKSIZE,MAX_CHUNKS))\n",
    "runner = processor.Runner(\n",
    "    executor=dask_executor,\n",
    "    schema=NanoAODSchema,\n",
    "    chunksize=CHUNKSIZE,\n",
    "    maxchunks=MAX_CHUNKS,\n",
    "    skipbadfiles=True,\n",
    "    xrootdtimeout=300,\n",
    ")"
   ]
  },
  {
   "cell_type": "code",
   "execution_count": 12,
   "id": "df46c027-5c59-4ac6-ac2c-dfa31bc3304f",
   "metadata": {},
   "outputs": [
    {
     "name": "stdout",
     "output_type": "stream",
     "text": [
      "Calling runner\n",
      "[#########################               ] | 62% Completed | 10min  8.1s\u001b[2K\r"
     ]
    },
    {
     "ename": "RuntimeError",
     "evalue": "Work item FileMeta(root://cmsxrootd.fnal.gov//store/user/gparida/HHbbtt/Full_Production_CMSSW_13_0_13_Nov24_23/2018/MC/WZTo1L1Nu2Q_4f_TuneCP5_13TeV-amcatnloFXFX-pythia8/WZTo1L1Nu2Q_4f_TuneCP5_13TeV-amcatnloFXFX-pythia8/231225_152904/0000/NANO_NANO_5.root:Events) caused a KilledWorker exception (likely a segfault or out-of-memory issue)",
     "output_type": "error",
     "traceback": [
      "\u001b[0;31m---------------------------------------------------------------------------\u001b[0m",
      "\u001b[0;31mKilledWorker\u001b[0m                              Traceback (most recent call last)",
      "File \u001b[0;32m/opt/conda/lib/python3.10/site-packages/coffea/processor/executor.py:972\u001b[0m, in \u001b[0;36mDaskExecutor.__call__\u001b[0;34m(self, items, function, accumulator)\u001b[0m\n\u001b[1;32m    968\u001b[0m         progress(work, multi\u001b[38;5;241m=\u001b[39m\u001b[38;5;28;01mTrue\u001b[39;00m, notebook\u001b[38;5;241m=\u001b[39m\u001b[38;5;28;01mFalse\u001b[39;00m)\n\u001b[1;32m    969\u001b[0m     \u001b[38;5;28;01mreturn\u001b[39;00m (\n\u001b[1;32m    970\u001b[0m         accumulate(\n\u001b[1;32m    971\u001b[0m             [\n\u001b[0;32m--> 972\u001b[0m                 \u001b[43mwork\u001b[49m\u001b[38;5;241;43m.\u001b[39;49m\u001b[43mresult\u001b[49m\u001b[43m(\u001b[49m\u001b[43m)\u001b[49m\n\u001b[1;32m    973\u001b[0m                 \u001b[38;5;28;01mif\u001b[39;00m \u001b[38;5;28mself\u001b[39m\u001b[38;5;241m.\u001b[39mcompression \u001b[38;5;129;01mis\u001b[39;00m \u001b[38;5;28;01mNone\u001b[39;00m\n\u001b[1;32m    974\u001b[0m                 \u001b[38;5;28;01melse\u001b[39;00m _decompress(work\u001b[38;5;241m.\u001b[39mresult())\n\u001b[1;32m    975\u001b[0m             ],\n\u001b[1;32m    976\u001b[0m             accumulator,\n\u001b[1;32m    977\u001b[0m         ),\n\u001b[1;32m    978\u001b[0m         \u001b[38;5;241m0\u001b[39m,\n\u001b[1;32m    979\u001b[0m     )\n\u001b[1;32m    980\u001b[0m \u001b[38;5;28;01mexcept\u001b[39;00m KilledWorker \u001b[38;5;28;01mas\u001b[39;00m ex:\n",
      "File \u001b[0;32m/opt/conda/lib/python3.10/site-packages/distributed/client.py:287\u001b[0m, in \u001b[0;36mFuture.result\u001b[0;34m(self, timeout)\u001b[0m\n\u001b[1;32m    286\u001b[0m     typ, exc, tb \u001b[38;5;241m=\u001b[39m result\n\u001b[0;32m--> 287\u001b[0m     \u001b[38;5;28;01mraise\u001b[39;00m exc\u001b[38;5;241m.\u001b[39mwith_traceback(tb)\n\u001b[1;32m    288\u001b[0m \u001b[38;5;28;01melif\u001b[39;00m \u001b[38;5;28mself\u001b[39m\u001b[38;5;241m.\u001b[39mstatus \u001b[38;5;241m==\u001b[39m \u001b[38;5;124m\"\u001b[39m\u001b[38;5;124mcancelled\u001b[39m\u001b[38;5;124m\"\u001b[39m:\n",
      "\u001b[0;31mKilledWorker\u001b[0m: Attempted to run task automatic_retries-b3f3adf1-ec38-4cb5-ab44-2504d4f9a4b9-12 on 3 different workers, but all those workers died while running it. The last worker that attempt to run the task was tcp://144.92.181.248:31865. Inspecting worker logs is often a good next step to diagnose what went wrong. For more information see https://distributed.dask.org/en/stable/killed.html.",
      "\nDuring handling of the above exception, another exception occurred:\n",
      "\u001b[0;31mRuntimeError\u001b[0m                              Traceback (most recent call last)",
      "Cell \u001b[0;32mIn[12], line 2\u001b[0m\n\u001b[1;32m      1\u001b[0m \u001b[38;5;28mprint\u001b[39m(\u001b[38;5;124m\"\u001b[39m\u001b[38;5;124mCalling runner\u001b[39m\u001b[38;5;124m\"\u001b[39m)\n\u001b[0;32m----> 2\u001b[0m mt_results_dask \u001b[38;5;241m=\u001b[39m \u001b[43mrunner\u001b[49m\u001b[43m(\u001b[49m\n\u001b[1;32m      3\u001b[0m \u001b[43m    \u001b[49m\u001b[43mmt_fileset\u001b[49m\u001b[43m,\u001b[49m\n\u001b[1;32m      4\u001b[0m \u001b[43m    \u001b[49m\u001b[43mtreename\u001b[49m\u001b[38;5;241;43m=\u001b[39;49m\u001b[38;5;124;43m\"\u001b[39;49m\u001b[38;5;124;43mEvents\u001b[39;49m\u001b[38;5;124;43m\"\u001b[39;49m\u001b[43m,\u001b[49m\n\u001b[1;32m      5\u001b[0m \u001b[43m    \u001b[49m\u001b[43mprocessor_instance\u001b[49m\u001b[38;5;241;43m=\u001b[39;49m\u001b[43mMyProcessor\u001b[49m\u001b[43m(\u001b[49m\u001b[43m)\u001b[49m\u001b[43m,\u001b[49m\n\u001b[1;32m      6\u001b[0m \u001b[43m)\u001b[49m\n",
      "File \u001b[0;32m/opt/conda/lib/python3.10/site-packages/coffea/processor/executor.py:1700\u001b[0m, in \u001b[0;36mRunner.__call__\u001b[0;34m(self, fileset, treename, processor_instance)\u001b[0m\n\u001b[1;32m   1679\u001b[0m \u001b[38;5;28;01mdef\u001b[39;00m \u001b[38;5;21m__call__\u001b[39m(\n\u001b[1;32m   1680\u001b[0m     \u001b[38;5;28mself\u001b[39m,\n\u001b[1;32m   1681\u001b[0m     fileset: Dict,\n\u001b[1;32m   1682\u001b[0m     treename: \u001b[38;5;28mstr\u001b[39m,\n\u001b[1;32m   1683\u001b[0m     processor_instance: ProcessorABC,\n\u001b[1;32m   1684\u001b[0m ) \u001b[38;5;241m-\u001b[39m\u001b[38;5;241m>\u001b[39m Accumulatable:\n\u001b[1;32m   1685\u001b[0m \u001b[38;5;250m    \u001b[39m\u001b[38;5;124;03m\"\"\"Run the processor_instance on a given fileset\u001b[39;00m\n\u001b[1;32m   1686\u001b[0m \n\u001b[1;32m   1687\u001b[0m \u001b[38;5;124;03m    Parameters\u001b[39;00m\n\u001b[0;32m   (...)\u001b[0m\n\u001b[1;32m   1697\u001b[0m \u001b[38;5;124;03m            An instance of a class deriving from ProcessorABC\u001b[39;00m\n\u001b[1;32m   1698\u001b[0m \u001b[38;5;124;03m    \"\"\"\u001b[39;00m\n\u001b[0;32m-> 1700\u001b[0m     wrapped_out \u001b[38;5;241m=\u001b[39m \u001b[38;5;28;43mself\u001b[39;49m\u001b[38;5;241;43m.\u001b[39;49m\u001b[43mrun\u001b[49m\u001b[43m(\u001b[49m\u001b[43mfileset\u001b[49m\u001b[43m,\u001b[49m\u001b[43m \u001b[49m\u001b[43mprocessor_instance\u001b[49m\u001b[43m,\u001b[49m\u001b[43m \u001b[49m\u001b[43mtreename\u001b[49m\u001b[43m)\u001b[49m\n\u001b[1;32m   1701\u001b[0m     \u001b[38;5;28;01mif\u001b[39;00m \u001b[38;5;28mself\u001b[39m\u001b[38;5;241m.\u001b[39muse_dataframes:\n\u001b[1;32m   1702\u001b[0m         \u001b[38;5;28;01mreturn\u001b[39;00m wrapped_out  \u001b[38;5;66;03m# not wrapped anymore\u001b[39;00m\n",
      "File \u001b[0;32m/opt/conda/lib/python3.10/site-packages/coffea/processor/executor.py:1782\u001b[0m, in \u001b[0;36mRunner.run\u001b[0;34m(self, fileset, processor_instance, treename)\u001b[0m\n\u001b[1;32m   1780\u001b[0m     chunks \u001b[38;5;241m=\u001b[39m fileset\n\u001b[1;32m   1781\u001b[0m \u001b[38;5;28;01melse\u001b[39;00m:\n\u001b[0;32m-> 1782\u001b[0m     chunks \u001b[38;5;241m=\u001b[39m \u001b[38;5;28;43mself\u001b[39;49m\u001b[38;5;241;43m.\u001b[39;49m\u001b[43mpreprocess\u001b[49m\u001b[43m(\u001b[49m\u001b[43mfileset\u001b[49m\u001b[43m,\u001b[49m\u001b[43m \u001b[49m\u001b[43mtreename\u001b[49m\u001b[43m)\u001b[49m\n\u001b[1;32m   1784\u001b[0m \u001b[38;5;28;01mif\u001b[39;00m \u001b[38;5;28mself\u001b[39m\u001b[38;5;241m.\u001b[39mprocessor_compression \u001b[38;5;129;01mis\u001b[39;00m \u001b[38;5;28;01mNone\u001b[39;00m:\n\u001b[1;32m   1785\u001b[0m     pi_to_send \u001b[38;5;241m=\u001b[39m processor_instance\n",
      "File \u001b[0;32m/opt/conda/lib/python3.10/site-packages/coffea/processor/executor.py:1734\u001b[0m, in \u001b[0;36mRunner.preprocess\u001b[0;34m(self, fileset, treename)\u001b[0m\n\u001b[1;32m   1731\u001b[0m \u001b[38;5;28;01mfor\u001b[39;00m filemeta \u001b[38;5;129;01min\u001b[39;00m fileset:\n\u001b[1;32m   1732\u001b[0m     filemeta\u001b[38;5;241m.\u001b[39mmaybe_populate(\u001b[38;5;28mself\u001b[39m\u001b[38;5;241m.\u001b[39mmetadata_cache)\n\u001b[0;32m-> 1734\u001b[0m \u001b[38;5;28;43mself\u001b[39;49m\u001b[38;5;241;43m.\u001b[39;49m\u001b[43m_preprocess_fileset\u001b[49m\u001b[43m(\u001b[49m\u001b[43mfileset\u001b[49m\u001b[43m)\u001b[49m\n\u001b[1;32m   1735\u001b[0m fileset \u001b[38;5;241m=\u001b[39m \u001b[38;5;28mself\u001b[39m\u001b[38;5;241m.\u001b[39m_filter_badfiles(fileset)\n\u001b[1;32m   1737\u001b[0m \u001b[38;5;66;03m# reverse fileset list to match the order of files as presented in version\u001b[39;00m\n\u001b[1;32m   1738\u001b[0m \u001b[38;5;66;03m# v0.7.4. This fixes tests using maxchunks.\u001b[39;00m\n",
      "File \u001b[0;32m/opt/conda/lib/python3.10/site-packages/coffea/processor/executor.py:1461\u001b[0m, in \u001b[0;36mRunner._preprocess_fileset\u001b[0;34m(self, fileset)\u001b[0m\n\u001b[1;32m   1454\u001b[0m pre_executor \u001b[38;5;241m=\u001b[39m \u001b[38;5;28mself\u001b[39m\u001b[38;5;241m.\u001b[39mpre_executor\u001b[38;5;241m.\u001b[39mcopy(\u001b[38;5;241m*\u001b[39m\u001b[38;5;241m*\u001b[39mpre_arg_override)\n\u001b[1;32m   1455\u001b[0m closure \u001b[38;5;241m=\u001b[39m partial(\n\u001b[1;32m   1456\u001b[0m     \u001b[38;5;28mself\u001b[39m\u001b[38;5;241m.\u001b[39mautomatic_retries,\n\u001b[1;32m   1457\u001b[0m     \u001b[38;5;28mself\u001b[39m\u001b[38;5;241m.\u001b[39mretries,\n\u001b[1;32m   1458\u001b[0m     \u001b[38;5;28mself\u001b[39m\u001b[38;5;241m.\u001b[39mskipbadfiles,\n\u001b[1;32m   1459\u001b[0m     partial(\u001b[38;5;28mself\u001b[39m\u001b[38;5;241m.\u001b[39mmetadata_fetcher, \u001b[38;5;28mself\u001b[39m\u001b[38;5;241m.\u001b[39mxrootdtimeout, \u001b[38;5;28mself\u001b[39m\u001b[38;5;241m.\u001b[39malign_clusters),\n\u001b[1;32m   1460\u001b[0m )\n\u001b[0;32m-> 1461\u001b[0m out, _ \u001b[38;5;241m=\u001b[39m \u001b[43mpre_executor\u001b[49m\u001b[43m(\u001b[49m\u001b[43mto_get\u001b[49m\u001b[43m,\u001b[49m\u001b[43m \u001b[49m\u001b[43mclosure\u001b[49m\u001b[43m,\u001b[49m\u001b[43m \u001b[49m\u001b[43mout\u001b[49m\u001b[43m)\u001b[49m\n\u001b[1;32m   1462\u001b[0m \u001b[38;5;28;01mwhile\u001b[39;00m out:\n\u001b[1;32m   1463\u001b[0m     item \u001b[38;5;241m=\u001b[39m out\u001b[38;5;241m.\u001b[39mpop()\n",
      "File \u001b[0;32m/opt/conda/lib/python3.10/site-packages/coffea/processor/executor.py:984\u001b[0m, in \u001b[0;36mDaskExecutor.__call__\u001b[0;34m(self, items, function, accumulator)\u001b[0m\n\u001b[1;32m    982\u001b[0m         \u001b[38;5;28;01mif\u001b[39;00m \u001b[38;5;28mself\u001b[39m\u001b[38;5;241m.\u001b[39mheavy_input \u001b[38;5;129;01mis\u001b[39;00m \u001b[38;5;129;01mnot\u001b[39;00m \u001b[38;5;28;01mNone\u001b[39;00m \u001b[38;5;129;01mand\u001b[39;00m \u001b[38;5;28misinstance\u001b[39m(baditem, \u001b[38;5;28mtuple\u001b[39m):\n\u001b[1;32m    983\u001b[0m             baditem \u001b[38;5;241m=\u001b[39m baditem[\u001b[38;5;241m0\u001b[39m]\n\u001b[0;32m--> 984\u001b[0m         \u001b[38;5;28;01mraise\u001b[39;00m \u001b[38;5;167;01mRuntimeError\u001b[39;00m(\n\u001b[1;32m    985\u001b[0m             \u001b[38;5;124mf\u001b[39m\u001b[38;5;124m\"\u001b[39m\u001b[38;5;124mWork item \u001b[39m\u001b[38;5;132;01m{\u001b[39;00mbaditem\u001b[38;5;132;01m}\u001b[39;00m\u001b[38;5;124m caused a KilledWorker exception (likely a segfault or out-of-memory issue)\u001b[39m\u001b[38;5;124m\"\u001b[39m\n\u001b[1;32m    986\u001b[0m         )\n\u001b[1;32m    987\u001b[0m \u001b[38;5;28;01melse\u001b[39;00m:\n\u001b[1;32m    988\u001b[0m     \u001b[38;5;28;01mif\u001b[39;00m \u001b[38;5;28mself\u001b[39m\u001b[38;5;241m.\u001b[39mstatus:\n",
      "\u001b[0;31mRuntimeError\u001b[0m: Work item FileMeta(root://cmsxrootd.fnal.gov//store/user/gparida/HHbbtt/Full_Production_CMSSW_13_0_13_Nov24_23/2018/MC/WZTo1L1Nu2Q_4f_TuneCP5_13TeV-amcatnloFXFX-pythia8/WZTo1L1Nu2Q_4f_TuneCP5_13TeV-amcatnloFXFX-pythia8/231225_152904/0000/NANO_NANO_5.root:Events) caused a KilledWorker exception (likely a segfault or out-of-memory issue)"
     ]
    }
   ],
   "source": [
    "print(\"Calling runner\")\n",
    "mt_results_dask = runner(\n",
    "    mt_fileset,\n",
    "    treename=\"Events\",\n",
    "    processor_instance=MyProcessor(),\n",
    ")"
   ]
  },
  {
   "cell_type": "code",
   "execution_count": 29,
   "id": "31878dc3-4f2f-4ba5-9f07-56fc28fc0a61",
   "metadata": {},
   "outputs": [],
   "source": [
    "client.shutdown()"
   ]
  },
  {
   "cell_type": "code",
   "execution_count": 20,
   "id": "38a2d4fd",
   "metadata": {},
   "outputs": [
    {
     "ename": "NameError",
     "evalue": "name 'mt_results_dask' is not defined",
     "output_type": "error",
     "traceback": [
      "\u001b[0;31m---------------------------------------------------------------------------\u001b[0m",
      "\u001b[0;31mNameError\u001b[0m                                 Traceback (most recent call last)",
      "Cell \u001b[0;32mIn[20], line 1\u001b[0m\n\u001b[0;32m----> 1\u001b[0m \u001b[38;5;28;01mfor\u001b[39;00m dset,results, \u001b[38;5;129;01min\u001b[39;00m \u001b[43mmt_results_dask\u001b[49m\u001b[38;5;241m.\u001b[39mitems():\n\u001b[1;32m      2\u001b[0m     \u001b[38;5;28mprint\u001b[39m(\u001b[38;5;124mf\u001b[39m\u001b[38;5;124m\"\u001b[39m\u001b[38;5;124mDataset: \u001b[39m\u001b[38;5;132;01m{\u001b[39;00mdset\u001b[38;5;132;01m}\u001b[39;00m\u001b[38;5;124m\"\u001b[39m)\n\u001b[1;32m      3\u001b[0m     \u001b[38;5;28mprint\u001b[39m(\u001b[38;5;124mf\u001b[39m\u001b[38;5;124m\"\u001b[39m\u001b[38;5;124mEvent count: \u001b[39m\u001b[38;5;132;01m{\u001b[39;00mresults[\u001b[38;5;124m'\u001b[39m\u001b[38;5;124mEventCount\u001b[39m\u001b[38;5;124m'\u001b[39m]\u001b[38;5;241m.\u001b[39mvalue\u001b[38;5;132;01m}\u001b[39;00m\u001b[38;5;124m\"\u001b[39m)\n",
      "\u001b[0;31mNameError\u001b[0m: name 'mt_results_dask' is not defined"
     ]
    }
   ],
   "source": [
    "for dset,results, in mt_results_dask.items():\n",
    "    print(f\"Dataset: {dset}\")\n",
    "    print(f\"Event count: {results['EventCount'].value}\")"
   ]
  },
  {
   "cell_type": "code",
   "execution_count": null,
   "id": "26c097e7-d75f-4444-866b-6a06e1429b7c",
   "metadata": {},
   "outputs": [],
   "source": []
  },
  {
   "cell_type": "code",
   "execution_count": null,
   "id": "006c2f26",
   "metadata": {},
   "outputs": [],
   "source": [
    "outFile = uproot.recreate(\"boostedHTT_mt_2018.input.root\")\n",
    "\n",
    "\n"
   ]
  }
 ],
 "metadata": {
  "kernelspec": {
   "display_name": "Python 3 (ipykernel)",
   "language": "python",
   "name": "python3"
  },
  "language_info": {
   "codemirror_mode": {
    "name": "ipython",
    "version": 3
   },
   "file_extension": ".py",
   "mimetype": "text/x-python",
   "name": "python",
   "nbconvert_exporter": "python",
   "pygments_lexer": "ipython3",
   "version": "3.10.8"
  }
 },
 "nbformat": 4,
 "nbformat_minor": 5
}
