{
 "cells": [
  {
   "cell_type": "code",
   "execution_count": 3,
   "id": "f6950093-4daf-4614-a8c0-bef24b0b110a",
   "metadata": {},
   "outputs": [],
   "source": [
    "import sys\n",
    "import os\n",
    "from pathlib import Path\n",
    "import math\n",
    "import awkward as ak\n",
    "import numpy as np\n",
    "import uproot\n",
    "import boost_histogram as bh\n",
    "import hist\n",
    "from hist import Hist, intervals\n",
    "import matplotlib.pyplot as plt\n",
    "from matplotlib import cycler\n",
    "import mplhep as hep\n",
    "from coffea import nanoevents, lookup_tools\n",
    "import coffea.processor as processor\n",
    "from coffea.nanoevents import NanoEventsFactory, NanoAODSchema, BaseSchema\n",
    "from coffea.nanoevents.methods import vector, candidate, nanoaod\n",
    "from coffea.nanoevents.methods.vector import PtEtaPhiELorentzVector\n",
    "from coffea.lookup_tools import extractor, evaluator\n",
    "from coffea.analysis_tools import PackedSelection\n",
    "import dask\n",
    "from dask import delayed\n",
    "from dask.distributed import Client\n",
    "from dask_jobqueue import HTCondorCluster\n"
   ]
  },
  {
   "cell_type": "code",
   "execution_count": 4,
   "id": "68592275-d1e3-4764-a24f-c02c3349d152",
   "metadata": {},
   "outputs": [],
   "source": [
    "MAX_WORKERS = 10\n",
    "CHUNKSIZE = 5000\n",
    "MAX_CHUNKS = None"
   ]
  },
  {
   "cell_type": "code",
   "execution_count": 5,
   "id": "d3ba0e9f-ee77-4b44-bf96-e38de1412ec8",
   "metadata": {},
   "outputs": [],
   "source": [
    "@delayed(pure=True)\n",
    "def get_tree(url):    \n",
    "    return uproot.open(url)[\"Events\"]"
   ]
  },
  {
   "cell_type": "code",
   "execution_count": 6,
   "id": "eaec14d0-02f1-4320-8868-ab2c95407518",
   "metadata": {
    "scrolled": true
   },
   "outputs": [
    {
     "data": {
      "text/plain": [
       "array([Delayed('get_tree-64c20bf13a4fff2a71b6b17f1db490bb'),\n",
       "       Delayed('get_tree-4baea82ccce92e5ad1707867d1f269c7'),\n",
       "       Delayed('get_tree-cb4bcfda1112f6a5ead79b51b8779e0e'),\n",
       "       Delayed('get_tree-a63be1fb5d4204c66e981c8203d25652'),\n",
       "       Delayed('get_tree-899da4bc61fb656c636a2b992e6f983c'),\n",
       "       Delayed('get_tree-0e191df798c6f2171088f389634ff7c7'),\n",
       "       Delayed('get_tree-779cf405ba69f78536024985b9f30693'),\n",
       "       Delayed('get_tree-ce406c5d4d489ef3cb17d18da4461340'),\n",
       "       Delayed('get_tree-e3e179ea516a48c57644e683d78f6f2d'),\n",
       "       Delayed('get_tree-aebc8b304f244f1571b6db6756970330'),\n",
       "       Delayed('get_tree-26711c26121cfbd3d22eb0ffb5924d15'),\n",
       "       Delayed('get_tree-64f5bb08fd37b5c847d0f1d4df2c09c0'),\n",
       "       Delayed('get_tree-7914fdb3db66993ff08eccc29a67d43f'),\n",
       "       Delayed('get_tree-6088fc0d165818d5c5573836802a00b0'),\n",
       "       Delayed('get_tree-eb14750a4834ae7029bf65e423f0188f'),\n",
       "       Delayed('get_tree-0c82cf6eb9ab54142fa00e2ae263d694'),\n",
       "       Delayed('get_tree-43c2a8f46b81b3cfcdcb04477e07a428'),\n",
       "       Delayed('get_tree-a8dccc0c8755a0632d770b515a30b624'),\n",
       "       Delayed('get_tree-fa0ac719f3ccdff6d0d4772e79612510'),\n",
       "       Delayed('get_tree-8afe23ae8bfb608005b0672a68d63195')], dtype=object)"
      ]
     },
     "execution_count": 6,
     "metadata": {},
     "output_type": "execute_result"
    }
   ],
   "source": [
    "redirector = \"/hdfs/store/user/gparida/HHbbtt/Full_Production_CMSSW_13_0_13_Nov24_23\"\n",
    "redirector17D = \"/hdfs/store/user/cgalloni/HHbbtt/Full_Production_CMSSW_13_0_13_Nov24_23\"\n",
    "\n",
    "mt_fileset = {\n",
    "    \"DYJets\": [\n",
    "        redirector+f\"/2018/MC/DYJetsToLL_M-50_HT-200to400_TuneCP5_PSweights_13TeV-madgraphMLM-pythia8/DYJetsToLL_M-50_HT-200to400_TuneCP5_PSweights_13TeV-madgraphMLM-pythia8/231225_151806/0000/NANO_NANO_{i}.root\"\n",
    "        for i in range(1,5)\n",
    "    ],\n",
    "    \"WJets\": [\n",
    "        redirector+f\"/2018/MC/WJetsToLNu_HT-200To400_TuneCP5_13TeV-madgraphMLM-pythia8/WJetsToLNu_HT-200To400_TuneCP5_13TeV-madgraphMLM-pythia8/231225_151948/0000/NANO_NANO_{i}.root\"\n",
    "        for i in range(1,5)\n",
    "    ],\n",
    "    \"TT\": [\n",
    "        redirector+f\"/2018/MC/TTToSemiLeptonic_TuneCP5_13TeV-powheg-pythia8/TTToSemiLeptonic_TuneCP5_13TeV-powheg-pythia8/240203_190026/0000/NANO_NANO_{i}.root\"\n",
    "        for i in range(1,5) #leptonic\n",
    "    ],  \n",
    "    \"VV\": [\n",
    "        redirector+f\"/2018/MC/WZTo1L1Nu2Q_4f_TuneCP5_13TeV-amcatnloFXFX-pythia8/WZTo1L1Nu2Q_4f_TuneCP5_13TeV-amcatnloFXFX-pythia8/231225_152904/0000/NANO_NANO_{i}.root\"\n",
    "        for i in range(1,5)\n",
    "    ],\n",
    "    \"Data\": [\n",
    "        redirector+f\"/2018/MC/RadionTohhTohtatahbb_narrow_M-2000_TuneCP5_13TeV-madgraph-pythia8/RadionTohhTohtatahbb_narrow_M-2000_TuneCP5_13TeV-madgraph-pythia8/231225_152455/0000/NANO_NANO_{i}.root\"\n",
    "        for i in range(1,5) #fix get real data\n",
    "    ]\n",
    "}\n",
    "inputs = []\n",
    "for label in mt_fileset:\n",
    "    input = [get_tree(url) for url in mt_fileset[label]]\n",
    "    inputs = np.append(inputs, input)\n",
    "inputs"
   ]
  },
  {
   "cell_type": "code",
   "execution_count": 7,
   "id": "18f9b53a-cdb4-4037-a120-c01647dfa7e3",
   "metadata": {},
   "outputs": [
    {
     "data": {
      "text/plain": [
       "[7437,\n",
       " 47677,\n",
       " 40243,\n",
       " 36018,\n",
       " 24857,\n",
       " 47257,\n",
       " 47914,\n",
       " 47892,\n",
       " 96000,\n",
       " 92000,\n",
       " 96000,\n",
       " 96000,\n",
       " 2964,\n",
       " 79845,\n",
       " 80050,\n",
       " 79861,\n",
       " 48000,\n",
       " 48000,\n",
       " 3000,\n",
       " 1000]"
      ]
     },
     "execution_count": 7,
     "metadata": {},
     "output_type": "execute_result"
    }
   ],
   "source": [
    "nevents, = dask.compute([t.num_entries for t in inputs])\n",
    "nevents"
   ]
  },
  {
   "cell_type": "code",
   "execution_count": 8,
   "id": "2af29a58-ebde-4aff-8af1-a9c8cccb4318",
   "metadata": {},
   "outputs": [],
   "source": [
    "def bit_mask(bit):\n",
    "      mask = 0\n",
    "      mask += (1 << bit)\n",
    "      return mask"
   ]
  },
  {
   "cell_type": "code",
   "execution_count": 9,
   "id": "9c4fbda3-78f9-4c6c-95df-511bf25a931d",
   "metadata": {},
   "outputs": [],
   "source": [
    "def weightCalc(name):\n",
    "      WScaleFactor = 1.21\n",
    "      TT_FulLep_BR= 0.1061\n",
    "      TT_SemiLep_BR= 0.4392\n",
    "      TT_Had_BR= 0.4544\n",
    "\n",
    "      if \"Radion\" in name: return 1\n",
    "      elif \"DYJets\" in name:\n",
    "         if \"50To100\" in name: return 387.130778\n",
    "         elif \"100To250\" in name: return 89.395097\n",
    "         elif \"250To400\" in name: return 3.435181\n",
    "         elif \"400To650\" in name: return 0.464024\n",
    "         elif \"650ToInf\" in name: return 0.043602\n",
    "         elif \"100to200\" in name: return 160.7\n",
    "         elif \"200to400\" in name: return 48.63\n",
    "         elif \"400to600\" in name: return 6.993\n",
    "         elif \"600to800\" in name: return 1.761\n",
    "         elif \"800to1200\" in name: return .8021\n",
    "         elif \"1200to2500\" in name: return .1937\n",
    "         elif \"2500toInf\" in name: return .003514\n",
    "      elif \"WJets\" in name:\n",
    "         if \"100To200\" in name: return 1345* WScaleFactor\n",
    "         elif \"200To400\" in name: return 359.7* WScaleFactor\n",
    "         elif \"400To600\" in name: return 48.91* WScaleFactor\n",
    "         elif \"600To800\" in name: return 12.05* WScaleFactor\n",
    "         elif \"800To1200\" in name: return 5.501* WScaleFactor\n",
    "         elif \"1200To2500\" in name: return 1.329* WScaleFactor\n",
    "         elif \"2500ToInf\" in name: return 0.03216* WScaleFactor \n",
    "      elif \"QCD\" in name:\n",
    "         if \"300to500\" in name: return 347700\n",
    "         elif \"500to700\" in name: return 32100\n",
    "         elif \"700to1000\" in name: return 6831\n",
    "         elif \"1000to1500\" in name: return 1207\n",
    "         elif \"1500to2000\" in name: return 119.9\n",
    "         elif \"2000toInf\" in name: return 25.24\n",
    "      elif \"ggH125\" in name: return 48.30 * 0.0621\n",
    "      elif \"ggZHLL125\" in name: return 0.1223 * 0.062 * 3 * 0.033658\n",
    "      elif \"ggZHNuNu125\" in name: return 0.1223 * 0.062 * 0.2000\n",
    "      elif \"ggZHQQ125\" in name: return 0.1223 * 0.062 * 0.6991\n",
    "      elif \"JJH0\" in name:\n",
    "         if \"OneJet\" in name: return 0.1383997884\n",
    "         elif \"TwoJet\" in name: return 0.2270577971\n",
    "         elif \"ZeroJet\" in name: return 0.3989964912\n",
    "      elif \"qqH125\" in name: return 3.770 * 0.0621\n",
    "      elif \"Tbar-tchan\" in name: return  26.23\n",
    "      elif \"Tbar-tW\" in name: return 35.6\n",
    "      elif \"toptopH125\" in name: return 0.5033 * 0.062\n",
    "      elif \"T-tchan.root\" in name: return 44.07\n",
    "      elif \"T-tW\" in name: return 35.6\n",
    "      elif \"TTT\" in name:\n",
    "         if \"2L2Nu\" in name: return 831.76 * TT_FulLep_BR\n",
    "         if \"Hadronic\" in name: return 831.76 * TT_Had_BR\n",
    "         if \"SemiLeptonic\" in name: return 831.76 * TT_SemiLep_BR\n",
    "      elif \"VV2l2nu\" in name: return 11.95\n",
    "      elif \"WMinus\" in name: return 0.5272 * 0.0621\n",
    "      elif \"WPlus\" in name: return 0.8331 * 0.0621\n",
    "      elif \"WZ\" in name:\n",
    "         if \"nu2q\" in name: return 10.71\n",
    "         elif \"1l3nu\" in name: return 3.05\n",
    "         elif \"2l2q\" in name: return 5.595\n",
    "         elif \"3l1nu\" in name: return 4.708\n",
    "      elif \"ZH125\" in name: return 0.7544 * 0.0621\n",
    "      elif \"ZZ2l2q\" in name: return 3.22\n",
    "      elif \"ZZ4l\" in name: return 1.212\n",
    "      else: print(\"Something's Wrong!\")\n",
    "      return 1.01"
   ]
  },
  {
   "cell_type": "code",
   "execution_count": 10,
   "id": "d1205773-0d11-4e04-af94-ab602365a781",
   "metadata": {},
   "outputs": [
    {
     "name": "stderr",
     "output_type": "stream",
     "text": [
      "/tmp/ipykernel_1060304/1460999151.py:7: RuntimeWarning: divide by zero encountered in divide\n",
      "  PUWeight = np.divide(HistoPUData, HistoPUMC)\n"
     ]
    }
   ],
   "source": [
    "   with uproot.open(\"pu_distributions_mc_2018.root\") as f1:\n",
    "      with uproot.open(\"pu_distributions_data_2018.root\") as f2:\n",
    "         mc = f1[\"pileup\"].values()\n",
    "         data = f2[\"pileup\"].values()\n",
    "         HistoPUMC = np.divide(mc, ak.sum(mc))\n",
    "         HistoPUData = np.divide(data, ak.sum(data))\n",
    "         PUWeight = np.divide(HistoPUData, HistoPUMC)"
   ]
  },
  {
   "cell_type": "code",
   "execution_count": 22,
   "id": "d72baf7a-ec04-450e-a07e-b5fbd55702ec",
   "metadata": {},
   "outputs": [],
   "source": [
    "class MyProcessor(processor.ProcessorABC):\n",
    "    def __init__(self):\n",
    "        ak.behavior.update(nanoaod.behavior)\n",
    "        self._accumulator = {}\n",
    "    \n",
    "    @property\n",
    "    def accumulator(self,events):\n",
    "        return self._accumulator\n",
    "\n",
    "    def process(self, events):\n",
    "        dataset = events.metadata[\"dataset\"]\n",
    "\n",
    "        ax = hist.axis.Regular(30, 0, 150, flow=False, name=\"mass\", label=dataset)\n",
    "        \n",
    "        \n",
    "        output = {}\n",
    "        output[dataset] =  {\n",
    "            \"mass\": Hist(ax),\n",
    "            \"mass_w\": Hist(ax),\n",
    "            \"ss_mass\": Hist(ax),\n",
    "            \"ss_mass_w\": Hist(ax),\n",
    "            \"EventCount\": processor.value_accumulator(int)\n",
    "            }\n",
    "        \n",
    "        eventCount = len(events)\n",
    "        name = str(events.metadata[\"filename\"])\n",
    "        XSection = weightCalc(name)\n",
    "        print(\"Start: \", ak.count(events.Muon.pt), \" \", str(dataset))\n",
    "        electron = events.Electron\n",
    "        ele_cut = (electron.pt >= 15) & (np.abs(electron.eta) <= 2.5)\n",
    "        lowMVAele = electron[(np.abs(electron.eta) <= 0.8) & (electron.mvaIso_WPL) & ele_cut] # (electron.mvaFall17V2Iso > -0.83)\n",
    "        midMVAele = electron[(np.abs(electron.eta) > 0.8) & (np.abs(electron.eta) <= 1.5) & (electron.mvaIso_WPL) & ele_cut] #electron.mvaFall17V2Iso > -0.77\n",
    "        highMVAele = electron[(np.abs(electron.eta) >= 1.5) & (electron.mvaIso_WPL) & ele_cut] # (electron.mvaFall17V2Iso > -0.69)\n",
    "        events = events[(ak.num(lowMVAele) == 0) & (ak.num(midMVAele) == 0) & (ak.num(highMVAele) == 0)]\n",
    "        print(\"Extra Ele Veto: \", ak.count(events.Muon.pt))\n",
    "        #Extra muon veto\n",
    "        muon = events.Muon\n",
    "        muon = muon[ak.num(muon) > 1]\n",
    "        badMuon = muon[(np.abs(muon.pfRelIso04_all) > 0.3) & (muon[:,1].pt > 10) & (muon.tightId)] #tightId instead of bitwise thing\n",
    "        events = events[(ak.num(muon) > 0) & (ak.num(badMuon) == 0)]\n",
    "        print(\"Extra Mu Veto: \", ak.count(events.Muon.pt))\n",
    "\n",
    "        #BJets\n",
    "        jets = events.Jet\n",
    "        goodJets= jets[(jets.jetId > 0.5) & (jets.pt > 30) & (np.abs(jets.eta) < 3.0)]\n",
    "        HT = ak.sum(goodJets.pt, axis=-1)\n",
    "\n",
    "        #BJet Veto \n",
    "        #!!!!!!!!!!!!!!!!!!!!!!!!!!!!!!!!!!!!!!!!! change btagdeepflavb for each year https://btv-wiki.docs.cern.ch/ScaleFactors/UL2018/\n",
    "        bJets = jets[(jets.btagDeepFlavB > .7100) & (jets.jetId > .5) & (jets.pt > 30) & (np.abs(jets.eta) < 2.4)]\n",
    "        events = events[(ak.num(jets) > 0) & (HT > 200) & (ak.num(bJets) == 0)]\n",
    "        print(\"BJet Veto: \", ak.count(events.Muon.pt))\n",
    "        mtEvents = events[ak.all((ak.num(events.Muon) > 0) & (ak.num(events.boostedTau) > 0), axis = -1)]\n",
    "        muonC = events.Muon\n",
    "        tauC = events.boostedTau\n",
    "        metC = events.MET\n",
    "        HLT = mtEvents.HLT\n",
    "        \n",
    "        muon = ak.zip( \n",
    "    \t{\n",
    "\t\t\"pt\": muonC.pt,\n",
    "        \"eta\": muonC.eta,\n",
    "\t\t\"phi\": muonC.phi,\n",
    "\t\t\"mass\": muonC.mass,\n",
    "\t\t},\n",
    "    \twith_name=\"PtEtaPhiMLorentzVector\",\n",
    "        behavior=vector.behavior,\n",
    "    \t)\n",
    "        \n",
    "        tau = ak.zip( \n",
    "\t\t{\n",
    "\t\t\"pt\": tauC.pt,\n",
    "        \"eta\": tauC.eta,\n",
    "        \"phi\": tauC.phi,\n",
    "\t\t\"mass\": tauC.mass,\n",
    "\t\t},\n",
    "    \twith_name=\"PtEtaPhiMLorentzVector\",\n",
    "    \tbehavior=vector.behavior,\n",
    "    \t)\n",
    "\n",
    "        #Split into pairs\n",
    "        pairs = ak.cartesian({'tau': tau, 'muon': muon}, nested=False)\n",
    "        pairsC = ak.cartesian({'tau': tauC, 'muon': muonC}, nested=False)\n",
    "        metPairs = ak.cartesian({'met': metC, 'muon': pairsC['muon']}, nested=False)\n",
    "        PUPairs = ak.cartesian({'PU': np.rint(events.Pileup.nTrueInt), 'muon': pairsC['muon']}, nested=False)\n",
    "        print(\"Pairs: \", ak.count(pairsC['muon'].pt), \" Vector: \", ak.count(pairs['muon'].pt))\n",
    "        #Delta r cut\n",
    "        dr = pairs['tau'].delta_r(pairs['muon'])\n",
    "        #ID Cut\n",
    "        MuID = (pairsC['muon'].tightId) & (np.abs(pairsC['muon'].dz) < 0.2)  # & (np.abs(pairsC['muon'].dxy) < 0.045)\n",
    "        #Apply everything at once\n",
    "        print(pairsC['tau'].idDecayModeOldDMs)\n",
    "        muTau_mask27 = ((np.abs(pairs['muon'].eta) < 2.4)\n",
    "                  & (MuID)\n",
    "                  & (pairs['muon'].pt >= 27)\n",
    "                  & (pairs['muon'].pt < 52)\n",
    "                  & (pairsC['muon'].pfRelIso04_all <= .3)\n",
    "                  & (metPairs['met'].pt > 30)\n",
    "                  & (pairs['tau'].pt > 30)\n",
    "                  & (HLT.Mu27)\n",
    "                  & (np.absolute(pairs['tau'].eta) < 2.3)\n",
    "                  & (pairsC['tau'].idAntiMu > 0)\n",
    "                  & (pairsC['tau'].idDecayModeOldDMs)\n",
    "                  & (dr > .1) \n",
    "                  & (dr < .8))\n",
    "        muTau_mask50 = ((np.abs(pairs['muon'].eta) < 2.4)\n",
    "                  & (MuID)\n",
    "                  & (pairs['muon'].pt >= 52)\n",
    "                  & (HLT.Mu50)\n",
    "                  & (pairs['tau'].pt > 30)\n",
    "                  & (np.absolute(pairs['tau'].eta) < 2.3)\n",
    "                  & (pairsC['tau'].idAntiMu > 0)\n",
    "                  & (pairsC['tau'].idDecayModeOldDMs)\n",
    "                  & (dr > .1) \n",
    "                  & (dr < .8))\n",
    "         #If everything cut return 0 (to avoid pointer errors)\n",
    "        if not ak.any(muTau_mask27) and not ak.any(muTau_mask50):\n",
    "            print(\"0\")\n",
    "            output[dataset][\"EventCount\"] += eventCount\n",
    "            return output\n",
    "            \n",
    "        pairs = pairs[(muTau_mask27) | (muTau_mask50)]\n",
    "        pairsC = pairsC[(muTau_mask27) | (muTau_mask50)]\n",
    "        metPairs = metPairs[(muTau_mask27) | (muTau_mask50)]\n",
    "        PUPairs = PUPairs[(muTau_mask27) | (muTau_mask50)]\n",
    "        print(\"Postcut: Pairs: \", ak.count(pairsC['muon'].pt), \" Vector: \", ak.count(pairs['muon'].pt))\n",
    "        \n",
    "        #Separate based on charge\n",
    "        OS_pairs = pairs[pairsC['tau'].charge + pairsC['muon'].charge == 0]\n",
    "        SS_pairs = pairs[pairsC['tau'].charge + pairsC['muon'].charge != 0]\n",
    "        OS_pairsC = pairsC[pairsC['tau'].charge + pairsC['muon'].charge == 0]\n",
    "        SS_pairsC = pairsC[pairsC['tau'].charge + pairsC['muon'].charge != 0]\n",
    "        #Separate based on trigger again\n",
    "        OS_50 = OS_pairs[OS_pairs['muon'].pt >= 52]\n",
    "        OS_27 = OS_pairs[OS_pairs['muon'].pt < 52]\n",
    "        SS_50 = SS_pairs[SS_pairs['muon'].pt >= 52]\n",
    "        SS_27 = SS_pairs[SS_pairs['muon'].pt < 52]\n",
    "\n",
    "        OS_50C = OS_pairsC[OS_pairs['muon'].pt >= 52]\n",
    "        OS_27C = OS_pairsC[OS_pairs['muon'].pt < 52]\n",
    "        SS_50C = SS_pairsC[SS_pairs['muon'].pt >= 52]\n",
    "        SS_27C = SS_pairsC[SS_pairs['muon'].pt < 52]\n",
    "\n",
    "\n",
    "        #If everything cut return 0 (to avoid pointer errors)\n",
    "        if ak.sum(OS_pairs['tau'].pt) == 0 and ak.sum(SS_pairs['tau'].pt) == 0:\n",
    "\n",
    "            output[dataset][\"EventCount\"] += eventCount\n",
    "            return output\n",
    "            \n",
    "            #return {\n",
    "            #    output[dataset]: {\n",
    "            #    \"mass\": np.zeros(0),\n",
    "            #    \"mass_w\": np.zeros(0),\n",
    "            #    \"ss_mass\": np.zeros(0),\n",
    "            #    \"ss_mass_w\": np.zeros(0),\n",
    "            #    \"Mu50IsoCorr\": np.zeros(0),\n",
    "            #    \"Mu50IDCorr\": np.zeros(0),\n",
    "            #    \"Mu50TrgCorr\": np.zeros(0),\n",
    "            #    \"PUCorrection50\": np.zeros(0),\n",
    "            #    \"Mu27IsoCorr\": np.zeros(0),\n",
    "            #    \"Mu27IDCorr\": np.zeros(0),\n",
    "            #    \"Mu27TrgCorr\": np.zeros(0),\n",
    "            #    \"PUCorrection27\": np.zeros(0),\n",
    "            #    \"pTCorrection50\": np.zeros(0),\n",
    "            #    \"pTCorrection27\": np.zeros(0),\n",
    "               # }\n",
    "           # }\n",
    "        \n",
    "        #Create vectors\n",
    "        #OS\n",
    "        muVec50 = OS_50['muon']\n",
    "        tauVec50 = OS_50['tau']\n",
    "        muVec27 = OS_27['muon']\n",
    "        tauVec27 = OS_27['tau']\n",
    "        \n",
    "        OSmet50 = metPairs[(pairsC['tau'].charge + pairsC['muon'].charge == 0)]\n",
    "        OSmet50 = OSmet50[(OS_pairs['muon'].pt >= 52)]\n",
    "        OSmet27 = metPairs[(pairsC['tau'].charge + pairsC['muon'].charge == 0)]\n",
    "        OSmet27 = OSmet27[(OS_pairs['muon'].pt < 52)]\n",
    "        SSmet50 = metPairs[(pairsC['tau'].charge + pairsC['muon'].charge != 0)]\n",
    "        SSmet50 = SSmet50[(SS_pairs['muon'].pt >= 52)]\n",
    "        SSmet27 = metPairs[(pairsC['tau'].charge + pairsC['muon'].charge != 0)]\n",
    "        SSmet27 = SSmet27[(SS_pairs['muon'].pt < 52)]\n",
    "\n",
    "        OSPU50 = PUPairs[(pairsC['tau'].charge + pairsC['muon'].charge == 0)]\n",
    "        OSPU50 = OSPU50[(OS_pairs['muon'].pt >= 52)]\n",
    "        OSPU27 = PUPairs[(pairsC['tau'].charge + pairsC['muon'].charge == 0)]\n",
    "        OSPU27 = PUPairs[(OS_pairs['muon'].pt < 52)]\n",
    "        SSPU50 = PUPairs[(pairsC['tau'].charge + pairsC['muon'].charge != 0)]\n",
    "        SSPU50 = SSPU50[(SS_pairs['muon'].pt >= 52)]\n",
    "        SSPU27 = PUPairs[(pairsC['tau'].charge + pairsC['muon'].charge != 0)]\n",
    "        SSPU27 = SSPU27[(SS_pairs['muon'].pt < 52)]\n",
    "\n",
    "        #TMass Cut\n",
    "        tmass50 = np.sqrt(np.square(OS_50['muon'].pt + OSmet50['met'].pt) - np.square(OS_50['muon'].px + OSmet50['met'].pt * np.cos(OSmet50['met'].phi)) - np.square(OS_50['muon'].py + OSmet50['met'].pt * np.sin(OSmet50['met'].phi)))\n",
    "        tmass27 = np.sqrt(np.square(OS_27['muon'].pt + OSmet27['met'].pt) - np.square(OS_27['muon'].px + OSmet27['met'].pt * np.cos(OSmet27['met'].phi)) - np.square(OS_27['muon'].py + OSmet27['met'].pt * np.sin(OSmet27['met'].phi)))\n",
    "        print(tmass27 < 80)\n",
    "        print(OS_27)\n",
    "        \n",
    "        OS_50 = OS_50[tmass50 < 80]\n",
    "        OS_27 = OS_27[tmass27 < 80]\n",
    "        OS_50C = OS_50C[tmass50 < 80]\n",
    "        OS_27C = OS_27C[tmass27 < 80]\n",
    "\n",
    "        OSmet50 = OSmet50[tmass50 < 80]\n",
    "        OSmet27 = OSmet27[tmass27 < 80]\n",
    "        OSPU50 = OSPU50[tmass50 < 80]\n",
    "        OSPU27 = OSPU27[tmass27 < 80]\n",
    "\n",
    "        \n",
    "        tmass50_SS = np.sqrt(np.square(SS_50['muon'].pt + SSmet50['met'].pt) - np.square(SS_50['muon'].px + SSmet50['met'].pt * np.cos(SSmet50['met'].phi)) - np.square(SS_50['muon'].py + SSmet50['met'].pt * np.sin(SSmet50['met'].phi)))\n",
    "        tmass27_SS = np.sqrt(np.square(SS_27['muon'].pt + SSmet27['met'].pt) - np.square(SS_27['muon'].px + SSmet27['met'].pt * np.cos(SSmet27['met'].phi)) - np.square(SS_27['muon'].py + SSmet27['met'].pt * np.sin(SSmet27['met'].phi)))\n",
    "\n",
    "        SS_50 = SS_50[tmass50_SS < 80]\n",
    "        SS_27 = SS_27[tmass27_SS < 80]\n",
    "        SS_50C = SS_50C[tmass50_SS < 80]\n",
    "        SS_27C = SS_27C[tmass27_SS < 80]\n",
    "\n",
    "        SSmet50 = SSmet50[tmass50_SS < 80]\n",
    "        SSmet27 = SSmet27[tmass27_SS < 80]\n",
    "        SSPU50 = SSPU50[tmass50_SS < 80]\n",
    "        SSPU27 = SSPU27[tmass27_SS < 80]\n",
    "\n",
    "        \n",
    "        #MET Vector\n",
    "        MetVec27 =  ak.zip(\n",
    "        {\n",
    "        \"pt\": OSmet27['met'].pt,\n",
    "        \"eta\": 0,\n",
    "        \"phi\": OSmet27['met'].phi,\n",
    "        \"mass\": 0,\n",
    "        },\n",
    "        with_name=\"PtEtaPhiMLorentzVector\",\n",
    "        behavior=vector.behavior,\n",
    "        ) \n",
    "        MetVec50 =  ak.zip(\n",
    "        {\n",
    "         \"pt\": OSmet50['met'].pt,\n",
    "         \"eta\": 0,\n",
    "         \"phi\": OSmet50['met'].phi,\n",
    "         \"mass\": 0,\n",
    "         },\n",
    "        with_name=\"PtEtaPhiMLorentzVector\",\n",
    "        behavior=vector.behavior,\n",
    "        )   \n",
    "        MetVec27_SS =  ak.zip(\n",
    "        {\n",
    "         \"pt\": SSmet27['met'].pt,\n",
    "         \"eta\": 0,\n",
    "         \"phi\": SSmet27['met'].phi,\n",
    "         \"mass\": 0,\n",
    "         },\n",
    "        with_name=\"PtEtaPhiMLorentzVector\",\n",
    "        behavior=vector.behavior,\n",
    "        )  \n",
    "        MetVec50_SS =  ak.zip(\n",
    "        {\n",
    "         \"pt\": SSmet50['met'].pt,\n",
    "         \"eta\": 0,\n",
    "         \"phi\": SSmet50['met'].phi,\n",
    "         \"mass\": 0,\n",
    "         },\n",
    "        with_name=\"PtEtaPhiMLorentzVector\",\n",
    "        behavior=vector.behavior,\n",
    "        ) \n",
    "\n",
    "        #Make Z Vector\n",
    "         #OS\n",
    "        ZVec50 = OS_50['tau'].add(OS_50['muon'])\n",
    "        ZVec27 = OS_27['tau'].add(OS_27['muon'])\n",
    "        #Make Higgs Vector\n",
    "        Higgs50 = ZVec50.add(MetVec50)\n",
    "        Higgs27 = ZVec27.add(MetVec27)\n",
    "\n",
    "\n",
    "        #SS\n",
    "        ZVec50_SS = SS_50['tau'].add(SS_50['muon'])\n",
    "        ZVec27_SS = SS_27['tau'].add(SS_27['muon'])\n",
    "        #Make Higgs Vector\n",
    "        Higgs50_SS = ZVec50_SS.add(MetVec50_SS)\n",
    "        Higgs27_SS = ZVec27_SS.add(MetVec27_SS)\n",
    "\n",
    "\n",
    "        #Final ZVec Cuts\n",
    "        ZVec50 = ZVec50[(ZVec50.pt > 200) & (Higgs50.pt > 250)]\n",
    "        ZVec27 = ZVec27[(ZVec27.pt > 200) & (Higgs27.pt > 250)]\n",
    "        ZVec50_SS = ZVec50_SS[(ZVec50_SS.pt > 200) & (Higgs50_SS.pt > 250)]\n",
    "        ZVec27_SS = ZVec27_SS[(ZVec27_SS.pt > 200) & (Higgs27_SS.pt > 250)]\n",
    "\n",
    "\n",
    "        #Add weight sets\n",
    "        ext = extractor()\n",
    "        ext.add_weight_sets([\"IDCorr NUM_LooseID_DEN_genTracks_pt_abseta ./RunBCDEF_SF_ID.root\", \"Trg50Corr Mu50_OR_TkMu50_PtEtaBins/pt_abseta_ratio ./Trigger_EfficienciesAndSF_RunBtoF.root\", \"Trg27Corr IsoMu24_OR_IsoTkMu24_PtEtaBins/pt_abseta_ratio ./Trigger_EfficienciesAndSF_RunBtoF.root\", \"IsoCorr NUM_LooseRelIso_DEN_LooseID_pt_abseta ./RunBCDEF_SF_ISO.root\", \"pTCorr Ratio2D ./zmm_2d_2018.root\"])\n",
    "        ext.finalize()\n",
    "        evaluator = ext.make_evaluator()\n",
    "\n",
    "\n",
    "        #Get Shape\n",
    "        shape = np.shape(np.append(ak.flatten(ZVec27.mass, axis=1), ak.flatten(ZVec50.mass, axis=1)))\n",
    "        SS_shape = np.shape(np.append(ak.flatten(ZVec27_SS.mass, axis=1), ak.flatten(ZVec50_SS.mass, axis=1)))\n",
    "\n",
    "        Mu50IsoCorr, Mu50IDCorr, Mu50TrgCorr, PUCorrection50, pTCorrection50 = [], [], [], [], []\n",
    "        Mu27IsoCorr, Mu27IDCorr, Mu27TrgCorr, PUCorrection27, pTCorrection27 = [], [], [], [], []\n",
    "\n",
    "\n",
    "        if XSection != 1:\n",
    "            #Shortcut names to make things easier\n",
    "            ZVec50pt = ak.flatten(ZVec50.pt, axis=-1)\n",
    "            ZVec50eta = ak.flatten(ZVec50.eta, axis=-1)\n",
    "            ZVec50_SSpt = ak.flatten(ZVec50_SS.pt, axis=-1)\n",
    "            ZVec50_SSeta = ak.flatten(ZVec50_SS.eta, axis=-1)\n",
    "            ZVec27pt = ak.flatten(ZVec27.pt, axis=-1)\n",
    "            ZVec27eta = ak.flatten(ZVec27.eta, axis=-1)\n",
    "            ZVec27_SSpt = ak.flatten(ZVec27_SS.pt, axis=-1)\n",
    "            ZVec27_SSeta = ak.flatten(ZVec27_SS.eta, axis=-1)\n",
    "\n",
    "            #OS\n",
    "            Mu50IsoCorr = evaluator[\"IsoCorr\"](ZVec50pt, ZVec50eta)   #Iso\n",
    "            Mu50TrgCorr = evaluator[\"Trg50Corr\"](ZVec50pt, ZVec50eta) #Trigger\n",
    "            Mu50IDCorr = evaluator[\"IDCorr\"](ZVec50pt, ZVec50eta) #ID\n",
    "            #Mu27IsoCorr = evaluator[\"IsoCorr\"](ZVec27pt, ZVec27eta) \n",
    "            Mu27TrgCorr = evaluator[\"Trg27Corr\"](ZVec27pt, ZVec27eta) \n",
    "            Mu27IDCorr = evaluator[\"IDCorr\"](ZVec27pt, ZVec27eta) \n",
    "\n",
    "            \n",
    "            \n",
    "            puTrue50 = np.array(ak.flatten(OSPU50['PU'][ZVec50.pt > 200], axis=-1), dtype=np.int8) #Pileup\n",
    "            puTrue27 = np.array(ak.flatten(OSPU27['PU'][ZVec27.pt > 200], axis=-1), dtype=np.int8)\n",
    "            PUCorrection50 = PUWeight[puTrue50]\n",
    "            PUCorrection27 = PUWeight[puTrue27]\n",
    "            \n",
    "\n",
    "            Lep50Corr = Mu50IsoCorr * Mu50TrgCorr * Mu50IDCorr  * PUCorrection50 #Combine\n",
    "            Lep27Corr = Mu27IsoCorr * Mu27TrgCorr * Mu27IDCorr  * PUCorrection27\n",
    "\n",
    "            #SS\n",
    "            Mu50IsoCorr_SS = evaluator[\"IsoCorr\"](ZVec50_SSpt, ZVec50_SSeta)   \n",
    "            Mu50TrgCorr_SS = evaluator[\"Trg50Corr\"](ZVec50_SSpt, ZVec50_SSeta)   \n",
    "            Mu50IDCorr_SS = evaluator[\"IDCorr\"](ZVec50_SSpt, ZVec50_SSeta)  \n",
    "            Mu27IsoCorr_SS = evaluator[\"IsoCorr\"](ZVec27_SSpt, ZVec27_SSeta) \n",
    "            Mu27TrgCorr_SS = evaluator[\"Trg27Corr\"](ZVec27_SSpt, ZVec27_SSeta)  \n",
    "            Mu27IDCorr_SS = evaluator[\"IDCorr\"](ZVec27_SSpt, ZVec27_SSeta) \n",
    "\n",
    "            puTrue50_SS = np.array(ak.flatten(SSPU50['PU'][ZVec50_SS.pt > 200], axis=-1), dtype=np.int8)\n",
    "            puTrue27_SS = np.array(ak.flatten(SSPU27['PU'][ZVec27_SS.pt > 200], axis=-1), dtype=np.int8)\n",
    "            PUCorrection50_SS = PUWeight[puTrue50_SS]\n",
    "            PUCorrection27_SS = PUWeight[puTrue27_SS]\n",
    "\n",
    "            Lep50Corr_SS = Mu50IsoCorr_SS * Mu50TrgCorr_SS * Mu50IDCorr_SS * PUCorrection50_SS\n",
    "            Lep27Corr_SS = Mu27IsoCorr_SS * Mu27TrgCorr_SS * Mu27IDCorr_SS * PUCorrection27_SS\n",
    "\n",
    "            #Luminosity (2018)\n",
    "            luminosity = 59830.\n",
    "            lumiWeight = (XSection * luminosity) / eventCount\n",
    "            \n",
    "            LepCorrection = np.append(ak.flatten(Lep27Corr, axis=-1), ak.flatten(Lep50Corr, axis=-1), axis=-1) \n",
    "            #OS\n",
    "            if (\"DYJets\" in name): \n",
    "                #Zpt correction\n",
    "                pTCorrection27 = evaluator[\"pTCorr\"](ak.flatten(ZVec27.mass, axis=-1), ZVec27pt)\n",
    "                pTCorrection50 = evaluator[\"pTCorr\"](ak.flatten(ZVec50.mass, axis=-1), ZVec50pt)\n",
    "                Lep27Corr = Lep27Corr * pTCorrection27\n",
    "                Lep50Corr = Lep50Corr * pTCorrection50\n",
    "                LepCorrection = np.append(ak.flatten(Lep27Corr, axis=-1), ak.flatten(Lep50Corr, axis=-1), axis=-1)\n",
    "            \n",
    "            #SS\n",
    "            SS_LepCorrection = np.append(ak.flatten(Lep27Corr_SS, axis=-1), ak.flatten(Lep50Corr_SS, axis=-1), axis=-1) \n",
    "\n",
    "            #Get shape\n",
    "            mass_w = np.full(shape=shape, fill_value=lumiWeight, dtype=np.double)\n",
    "            mass_w = np.multiply(mass_w, ak.flatten(LepCorrection, axis=-1))\n",
    "            SS_mass_w = np.full(shape=SS_shape, fill_value=lumiWeight, dtype=np.double) \n",
    "            SS_mass_w = np.multiply(SS_mass_w, ak.flatten(SS_LepCorrection, axis=-1))\n",
    "        else:\n",
    "            mass_w = np.full(shape=shape, fill_value=1, dtype=np.double)\n",
    "            SS_mass_w = np.full(shape=SS_shape, fill_value=1, dtype=np.double) \n",
    "\n",
    "        vismass = np.append(ak.flatten(ZVec27.mass, axis=-1), ak.flatten(ZVec50.mass, axis=-1), axis=-1)\n",
    "        ss_vismass = np.append(ak.flatten(ZVec27_SS.mass, axis=-1), ak.flatten(ZVec50_SS.mass, axis=-1), axis=-1)\n",
    "        \n",
    "        output[dataset][\"mass\"].fill(mass=vismass, weight=mass_w)\n",
    "        #output[dataset][\"mass_w\"].fill(mass=mass_w)\n",
    "        output[dataset][\"ss_mass\"].fill(mass=ss_vismass, weight=SS_mass_w)\n",
    "        #output[dataset][\"ss_mass_w\"].fill(mass=SS_mass_w)\n",
    "        output[dataset][\"EventCount\"] += eventCount\n",
    "\n",
    "        return output\n",
    "\n",
    "    def postprocess(self, accumulator):\n",
    "        return accumulator\n",
    "    "
   ]
  },
  {
   "cell_type": "code",
   "execution_count": 23,
   "id": "b4751697-63b8-481c-95c2-a2d55f20cb4e",
   "metadata": {},
   "outputs": [
    {
     "name": "stdout",
     "output_type": "stream",
     "text": [
      "Creating runner\n",
      "Using chunksize: 5000 and maxchunks None\n"
     ]
    }
   ],
   "source": [
    "local_executor = processor.IterativeExecutor(status=True)\n",
    "\n",
    "#Create the runner\n",
    "print(\"Creating runner\")\n",
    "print(\"Using chunksize: {} and maxchunks {}\".format(CHUNKSIZE,MAX_CHUNKS))\n",
    "runner = processor.Runner(\n",
    "    executor=local_executor,\n",
    "    schema=NanoAODSchema,\n",
    "    chunksize=CHUNKSIZE,\n",
    "    maxchunks=MAX_CHUNKS,\n",
    "    skipbadfiles=True,\n",
    "    xrootdtimeout=300,\n",
    ")"
   ]
  },
  {
   "cell_type": "code",
   "execution_count": 24,
   "id": "d5f58d5b-797e-4a86-ae06-fbe6ffecd328",
   "metadata": {},
   "outputs": [
    {
     "data": {
      "application/vnd.jupyter.widget-view+json": {
       "model_id": "563e33bf28e74872a9598982d13fbe63",
       "version_major": 2,
       "version_minor": 0
      },
      "text/plain": [
       "Output()"
      ]
     },
     "metadata": {},
     "output_type": "display_data"
    },
    {
     "name": "stdout",
     "output_type": "stream",
     "text": [
      "Calling runner\n"
     ]
    },
    {
     "data": {
      "text/html": [
       "<pre style=\"white-space:pre;overflow-x:auto;line-height:normal;font-family:Menlo,'DejaVu Sans Mono',consolas,'Courier New',monospace\">Start:  1548   Data\n",
       "</pre>\n"
      ],
      "text/plain": [
       "Start:  1548   Data\n"
      ]
     },
     "metadata": {},
     "output_type": "display_data"
    },
    {
     "data": {
      "text/html": [
       "<pre style=\"white-space:pre;overflow-x:auto;line-height:normal;font-family:Menlo,'DejaVu Sans Mono',consolas,'Courier New',monospace\">Extra Ele Veto:  1109\n",
       "</pre>\n"
      ],
      "text/plain": [
       "Extra Ele Veto:  1109\n"
      ]
     },
     "metadata": {},
     "output_type": "display_data"
    },
    {
     "data": {
      "text/html": [
       "<pre style=\"white-space:pre;overflow-x:auto;line-height:normal;font-family:Menlo,'DejaVu Sans Mono',consolas,'Courier New',monospace\">Extra Mu Veto:  266\n",
       "</pre>\n"
      ],
      "text/plain": [
       "Extra Mu Veto:  266\n"
      ]
     },
     "metadata": {},
     "output_type": "display_data"
    },
    {
     "data": {
      "text/html": [
       "<pre style=\"white-space:pre;overflow-x:auto;line-height:normal;font-family:Menlo,'DejaVu Sans Mono',consolas,'Courier New',monospace\">BJet Veto:  38\n",
       "</pre>\n"
      ],
      "text/plain": [
       "BJet Veto:  38\n"
      ]
     },
     "metadata": {},
     "output_type": "display_data"
    },
    {
     "data": {
      "text/html": [
       "<pre style=\"white-space:pre;overflow-x:auto;line-height:normal;font-family:Menlo,'DejaVu Sans Mono',consolas,'Courier New',monospace\">Pairs:  163  Vector:  163\n",
       "</pre>\n"
      ],
      "text/plain": [
       "Pairs:  163  Vector:  163\n"
      ]
     },
     "metadata": {},
     "output_type": "display_data"
    },
    {
     "data": {
      "text/html": [
       "<pre style=\"white-space:pre;overflow-x:auto;line-height:normal;font-family:Menlo,'DejaVu Sans Mono',consolas,'Courier New',monospace\">[[False, True], [False, False, True], ... True, True, True, True, False, False], []]\n",
       "</pre>\n"
      ],
      "text/plain": [
       "[[False, True], [False, False, True], ... True, True, True, True, False, False], []]\n"
      ]
     },
     "metadata": {},
     "output_type": "display_data"
    },
    {
     "data": {
      "text/html": [
       "<pre style=\"white-space:pre;overflow-x:auto;line-height:normal;font-family:Menlo,'DejaVu Sans Mono',consolas,'Courier New',monospace\">0\n",
       "</pre>\n"
      ],
      "text/plain": [
       "0\n"
      ]
     },
     "metadata": {},
     "output_type": "display_data"
    },
    {
     "data": {
      "text/html": [
       "<pre style=\"white-space:pre;overflow-x:auto;line-height:normal;font-family:Menlo,'DejaVu Sans Mono',consolas,'Courier New',monospace\">Start:  4445   Data\n",
       "</pre>\n"
      ],
      "text/plain": [
       "Start:  4445   Data\n"
      ]
     },
     "metadata": {},
     "output_type": "display_data"
    },
    {
     "data": {
      "text/html": [
       "<pre style=\"white-space:pre;overflow-x:auto;line-height:normal;font-family:Menlo,'DejaVu Sans Mono',consolas,'Courier New',monospace\">Extra Ele Veto:  3145\n",
       "</pre>\n"
      ],
      "text/plain": [
       "Extra Ele Veto:  3145\n"
      ]
     },
     "metadata": {},
     "output_type": "display_data"
    },
    {
     "data": {
      "text/html": [
       "<pre style=\"white-space:pre;overflow-x:auto;line-height:normal;font-family:Menlo,'DejaVu Sans Mono',consolas,'Courier New',monospace\">Extra Mu Veto:  616\n",
       "</pre>\n"
      ],
      "text/plain": [
       "Extra Mu Veto:  616\n"
      ]
     },
     "metadata": {},
     "output_type": "display_data"
    },
    {
     "data": {
      "text/html": [
       "<pre style=\"white-space:pre;overflow-x:auto;line-height:normal;font-family:Menlo,'DejaVu Sans Mono',consolas,'Courier New',monospace\">BJet Veto:  149\n",
       "</pre>\n"
      ],
      "text/plain": [
       "BJet Veto:  149\n"
      ]
     },
     "metadata": {},
     "output_type": "display_data"
    },
    {
     "data": {
      "text/html": [
       "<pre style=\"white-space:pre;overflow-x:auto;line-height:normal;font-family:Menlo,'DejaVu Sans Mono',consolas,'Courier New',monospace\">Pairs:  623  Vector:  623\n",
       "</pre>\n"
      ],
      "text/plain": [
       "Pairs:  623  Vector:  623\n"
      ]
     },
     "metadata": {},
     "output_type": "display_data"
    },
    {
     "data": {
      "text/html": [
       "<pre style=\"white-space:pre;overflow-x:auto;line-height:normal;font-family:Menlo,'DejaVu Sans Mono',consolas,'Courier New',monospace\">[[], [True, True], [], [True, ... True, True, True, True, True, True, True, True]]\n",
       "</pre>\n"
      ],
      "text/plain": [
       "[[], [True, True], [], [True, ... True, True, True, True, True, True, True, True]]\n"
      ]
     },
     "metadata": {},
     "output_type": "display_data"
    },
    {
     "data": {
      "text/html": [
       "<pre style=\"white-space:pre;overflow-x:auto;line-height:normal;font-family:Menlo,'DejaVu Sans Mono',consolas,'Courier New',monospace\">0\n",
       "</pre>\n"
      ],
      "text/plain": [
       "0\n"
      ]
     },
     "metadata": {},
     "output_type": "display_data"
    },
    {
     "data": {
      "text/html": [
       "<pre style=\"white-space:pre;overflow-x:auto;line-height:normal;font-family:Menlo,'DejaVu Sans Mono',consolas,'Courier New',monospace\">Start:  7103   Data\n",
       "</pre>\n"
      ],
      "text/plain": [
       "Start:  7103   Data\n"
      ]
     },
     "metadata": {},
     "output_type": "display_data"
    },
    {
     "data": {
      "text/html": [
       "<pre style=\"white-space:pre;overflow-x:auto;line-height:normal;font-family:Menlo,'DejaVu Sans Mono',consolas,'Courier New',monospace\">Extra Ele Veto:  4964\n",
       "</pre>\n"
      ],
      "text/plain": [
       "Extra Ele Veto:  4964\n"
      ]
     },
     "metadata": {},
     "output_type": "display_data"
    },
    {
     "data": {
      "text/html": [
       "<pre style=\"white-space:pre;overflow-x:auto;line-height:normal;font-family:Menlo,'DejaVu Sans Mono',consolas,'Courier New',monospace\">Extra Mu Veto:  966\n",
       "</pre>\n"
      ],
      "text/plain": [
       "Extra Mu Veto:  966\n"
      ]
     },
     "metadata": {},
     "output_type": "display_data"
    },
    {
     "data": {
      "text/html": [
       "<pre style=\"white-space:pre;overflow-x:auto;line-height:normal;font-family:Menlo,'DejaVu Sans Mono',consolas,'Courier New',monospace\">BJet Veto:  187\n",
       "</pre>\n"
      ],
      "text/plain": [
       "BJet Veto:  187\n"
      ]
     },
     "metadata": {},
     "output_type": "display_data"
    },
    {
     "data": {
      "text/html": [
       "<pre style=\"white-space:pre;overflow-x:auto;line-height:normal;font-family:Menlo,'DejaVu Sans Mono',consolas,'Courier New',monospace\">Pairs:  722  Vector:  722\n",
       "</pre>\n"
      ],
      "text/plain": [
       "Pairs:  722  Vector:  722\n"
      ]
     },
     "metadata": {},
     "output_type": "display_data"
    },
    {
     "data": {
      "text/html": [
       "<pre style=\"white-space:pre;overflow-x:auto;line-height:normal;font-family:Menlo,'DejaVu Sans Mono',consolas,'Courier New',monospace\">[[], [True, True, False, True], [True, ... False, True, True, True, False], [], []]\n",
       "</pre>\n"
      ],
      "text/plain": [
       "[[], [True, True, False, True], [True, ... False, True, True, True, False], [], []]\n"
      ]
     },
     "metadata": {},
     "output_type": "display_data"
    },
    {
     "data": {
      "text/html": [
       "<pre style=\"white-space:pre;overflow-x:auto;line-height:normal;font-family:Menlo,'DejaVu Sans Mono',consolas,'Courier New',monospace\">0\n",
       "</pre>\n"
      ],
      "text/plain": [
       "0\n"
      ]
     },
     "metadata": {},
     "output_type": "display_data"
    },
    {
     "data": {
      "text/html": [
       "<pre style=\"white-space:pre;overflow-x:auto;line-height:normal;font-family:Menlo,'DejaVu Sans Mono',consolas,'Courier New',monospace\">Start:  7044   Data\n",
       "</pre>\n"
      ],
      "text/plain": [
       "Start:  7044   Data\n"
      ]
     },
     "metadata": {},
     "output_type": "display_data"
    },
    {
     "data": {
      "text/html": [
       "<pre style=\"white-space:pre;overflow-x:auto;line-height:normal;font-family:Menlo,'DejaVu Sans Mono',consolas,'Courier New',monospace\">Extra Ele Veto:  4857\n",
       "</pre>\n"
      ],
      "text/plain": [
       "Extra Ele Veto:  4857\n"
      ]
     },
     "metadata": {},
     "output_type": "display_data"
    },
    {
     "data": {
      "text/html": [
       "<pre style=\"white-space:pre;overflow-x:auto;line-height:normal;font-family:Menlo,'DejaVu Sans Mono',consolas,'Courier New',monospace\">Extra Mu Veto:  916\n",
       "</pre>\n"
      ],
      "text/plain": [
       "Extra Mu Veto:  916\n"
      ]
     },
     "metadata": {},
     "output_type": "display_data"
    },
    {
     "data": {
      "text/html": [
       "<pre style=\"white-space:pre;overflow-x:auto;line-height:normal;font-family:Menlo,'DejaVu Sans Mono',consolas,'Courier New',monospace\">BJet Veto:  168\n",
       "</pre>\n"
      ],
      "text/plain": [
       "BJet Veto:  168\n"
      ]
     },
     "metadata": {},
     "output_type": "display_data"
    },
    {
     "data": {
      "text/html": [
       "<pre style=\"white-space:pre;overflow-x:auto;line-height:normal;font-family:Menlo,'DejaVu Sans Mono',consolas,'Courier New',monospace\">Pairs:  711  Vector:  711\n",
       "</pre>\n"
      ],
      "text/plain": [
       "Pairs:  711  Vector:  711\n"
      ]
     },
     "metadata": {},
     "output_type": "display_data"
    },
    {
     "data": {
      "text/html": [
       "<pre style=\"white-space:pre;overflow-x:auto;line-height:normal;font-family:Menlo,'DejaVu Sans Mono',consolas,'Courier New',monospace\">[[True, True, True, True, False, False], ... False, True, True, True, True, True]]\n",
       "</pre>\n"
      ],
      "text/plain": [
       "[[True, True, True, True, False, False], ... False, True, True, True, True, True]]\n"
      ]
     },
     "metadata": {},
     "output_type": "display_data"
    },
    {
     "data": {
      "text/html": [
       "<pre style=\"white-space:pre;overflow-x:auto;line-height:normal;font-family:Menlo,'DejaVu Sans Mono',consolas,'Courier New',monospace\">Postcut: Pairs:  15  Vector:  15\n",
       "</pre>\n"
      ],
      "text/plain": [
       "Postcut: Pairs:  15  Vector:  15\n"
      ]
     },
     "metadata": {},
     "output_type": "display_data"
    },
    {
     "data": {
      "text/html": [
       "<pre style=\"white-space:pre;overflow-x:auto;line-height:normal;font-family:Menlo,'DejaVu Sans Mono',consolas,'Courier New',monospace\">[[], [], [], [], [], [], [], [], [], [], ... [], [], [], [], [], [], [], [], [], []]\n",
       "</pre>\n"
      ],
      "text/plain": [
       "[[], [], [], [], [], [], [], [], [], [], ... [], [], [], [], [], [], [], [], [], []]\n"
      ]
     },
     "metadata": {},
     "output_type": "display_data"
    },
    {
     "data": {
      "text/html": [
       "<pre style=\"white-space:pre;overflow-x:auto;line-height:normal;font-family:Menlo,'DejaVu Sans Mono',consolas,'Courier New',monospace\">[[], [], [], [], [], [], [], [], [], [], ... [], [], [], [], [], [], [], [], [], []]\n",
       "</pre>\n"
      ],
      "text/plain": [
       "[[], [], [], [], [], [], [], [], [], [], ... [], [], [], [], [], [], [], [], [], []]\n"
      ]
     },
     "metadata": {},
     "output_type": "display_data"
    },
    {
     "data": {
      "text/html": [
       "<pre style=\"white-space:pre;overflow-x:auto;line-height:normal;font-family:Menlo,'DejaVu Sans Mono',consolas,'Courier New',monospace\">Start:  7428   Data\n",
       "</pre>\n"
      ],
      "text/plain": [
       "Start:  7428   Data\n"
      ]
     },
     "metadata": {},
     "output_type": "display_data"
    },
    {
     "data": {
      "text/html": [
       "<pre style=\"white-space:pre;overflow-x:auto;line-height:normal;font-family:Menlo,'DejaVu Sans Mono',consolas,'Courier New',monospace\">Extra Ele Veto:  5109\n",
       "</pre>\n"
      ],
      "text/plain": [
       "Extra Ele Veto:  5109\n"
      ]
     },
     "metadata": {},
     "output_type": "display_data"
    },
    {
     "data": {
      "text/html": [
       "<pre style=\"white-space:pre;overflow-x:auto;line-height:normal;font-family:Menlo,'DejaVu Sans Mono',consolas,'Courier New',monospace\">Extra Mu Veto:  1031\n",
       "</pre>\n"
      ],
      "text/plain": [
       "Extra Mu Veto:  1031\n"
      ]
     },
     "metadata": {},
     "output_type": "display_data"
    },
    {
     "data": {
      "text/html": [
       "<pre style=\"white-space:pre;overflow-x:auto;line-height:normal;font-family:Menlo,'DejaVu Sans Mono',consolas,'Courier New',monospace\">BJet Veto:  222\n",
       "</pre>\n"
      ],
      "text/plain": [
       "BJet Veto:  222\n"
      ]
     },
     "metadata": {},
     "output_type": "display_data"
    },
    {
     "data": {
      "text/html": [
       "<pre style=\"white-space:pre;overflow-x:auto;line-height:normal;font-family:Menlo,'DejaVu Sans Mono',consolas,'Courier New',monospace\">Pairs:  895  Vector:  895\n",
       "</pre>\n"
      ],
      "text/plain": [
       "Pairs:  895  Vector:  895\n"
      ]
     },
     "metadata": {},
     "output_type": "display_data"
    },
    {
     "data": {
      "text/html": [
       "<pre style=\"white-space:pre;overflow-x:auto;line-height:normal;font-family:Menlo,'DejaVu Sans Mono',consolas,'Courier New',monospace\">[[True, False, True], [], [True, False, ... True, True, True, True, True, True], []]\n",
       "</pre>\n"
      ],
      "text/plain": [
       "[[True, False, True], [], [True, False, ... True, True, True, True, True, True], []]\n"
      ]
     },
     "metadata": {},
     "output_type": "display_data"
    },
    {
     "data": {
      "text/html": [
       "<pre style=\"white-space:pre;overflow-x:auto;line-height:normal;font-family:Menlo,'DejaVu Sans Mono',consolas,'Courier New',monospace\">0\n",
       "</pre>\n"
      ],
      "text/plain": [
       "0\n"
      ]
     },
     "metadata": {},
     "output_type": "display_data"
    },
    {
     "data": {
      "text/html": [
       "<pre style=\"white-space:pre;overflow-x:auto;line-height:normal;font-family:Menlo,'DejaVu Sans Mono',consolas,'Courier New',monospace\">Start:  7249   Data\n",
       "</pre>\n"
      ],
      "text/plain": [
       "Start:  7249   Data\n"
      ]
     },
     "metadata": {},
     "output_type": "display_data"
    },
    {
     "data": {
      "text/html": [
       "<pre style=\"white-space:pre;overflow-x:auto;line-height:normal;font-family:Menlo,'DejaVu Sans Mono',consolas,'Courier New',monospace\">Extra Ele Veto:  5126\n",
       "</pre>\n"
      ],
      "text/plain": [
       "Extra Ele Veto:  5126\n"
      ]
     },
     "metadata": {},
     "output_type": "display_data"
    },
    {
     "data": {
      "text/html": [
       "<pre style=\"white-space:pre;overflow-x:auto;line-height:normal;font-family:Menlo,'DejaVu Sans Mono',consolas,'Courier New',monospace\">Extra Mu Veto:  1038\n",
       "</pre>\n"
      ],
      "text/plain": [
       "Extra Mu Veto:  1038\n"
      ]
     },
     "metadata": {},
     "output_type": "display_data"
    },
    {
     "data": {
      "text/html": [
       "<pre style=\"white-space:pre;overflow-x:auto;line-height:normal;font-family:Menlo,'DejaVu Sans Mono',consolas,'Courier New',monospace\">BJet Veto:  185\n",
       "</pre>\n"
      ],
      "text/plain": [
       "BJet Veto:  185\n"
      ]
     },
     "metadata": {},
     "output_type": "display_data"
    },
    {
     "data": {
      "text/html": [
       "<pre style=\"white-space:pre;overflow-x:auto;line-height:normal;font-family:Menlo,'DejaVu Sans Mono',consolas,'Courier New',monospace\">Pairs:  758  Vector:  758\n",
       "</pre>\n"
      ],
      "text/plain": [
       "Pairs:  758  Vector:  758\n"
      ]
     },
     "metadata": {},
     "output_type": "display_data"
    },
    {
     "data": {
      "text/html": [
       "<pre style=\"white-space:pre;overflow-x:auto;line-height:normal;font-family:Menlo,'DejaVu Sans Mono',consolas,'Courier New',monospace\">[[], [], [True, True, True], ... True, True, True, True, False, False, False], []]\n",
       "</pre>\n"
      ],
      "text/plain": [
       "[[], [], [True, True, True], ... True, True, True, True, False, False, False], []]\n"
      ]
     },
     "metadata": {},
     "output_type": "display_data"
    },
    {
     "data": {
      "text/html": [
       "<pre style=\"white-space:pre;overflow-x:auto;line-height:normal;font-family:Menlo,'DejaVu Sans Mono',consolas,'Courier New',monospace\">0\n",
       "</pre>\n"
      ],
      "text/plain": [
       "0\n"
      ]
     },
     "metadata": {},
     "output_type": "display_data"
    },
    {
     "data": {
      "text/html": [
       "<pre style=\"white-space:pre;overflow-x:auto;line-height:normal;font-family:Menlo,'DejaVu Sans Mono',consolas,'Courier New',monospace\">Start:  7085   Data\n",
       "</pre>\n"
      ],
      "text/plain": [
       "Start:  7085   Data\n"
      ]
     },
     "metadata": {},
     "output_type": "display_data"
    },
    {
     "data": {
      "text/html": [
       "<pre style=\"white-space:pre;overflow-x:auto;line-height:normal;font-family:Menlo,'DejaVu Sans Mono',consolas,'Courier New',monospace\">Extra Ele Veto:  4753\n",
       "</pre>\n"
      ],
      "text/plain": [
       "Extra Ele Veto:  4753\n"
      ]
     },
     "metadata": {},
     "output_type": "display_data"
    },
    {
     "data": {
      "text/html": [
       "<pre style=\"white-space:pre;overflow-x:auto;line-height:normal;font-family:Menlo,'DejaVu Sans Mono',consolas,'Courier New',monospace\">Extra Mu Veto:  893\n",
       "</pre>\n"
      ],
      "text/plain": [
       "Extra Mu Veto:  893\n"
      ]
     },
     "metadata": {},
     "output_type": "display_data"
    },
    {
     "data": {
      "text/html": [
       "<pre style=\"white-space:pre;overflow-x:auto;line-height:normal;font-family:Menlo,'DejaVu Sans Mono',consolas,'Courier New',monospace\">BJet Veto:  176\n",
       "</pre>\n"
      ],
      "text/plain": [
       "BJet Veto:  176\n"
      ]
     },
     "metadata": {},
     "output_type": "display_data"
    },
    {
     "data": {
      "text/html": [
       "<pre style=\"white-space:pre;overflow-x:auto;line-height:normal;font-family:Menlo,'DejaVu Sans Mono',consolas,'Courier New',monospace\">Pairs:  751  Vector:  751\n",
       "</pre>\n"
      ],
      "text/plain": [
       "Pairs:  751  Vector:  751\n"
      ]
     },
     "metadata": {},
     "output_type": "display_data"
    },
    {
     "data": {
      "text/html": [
       "<pre style=\"white-space:pre;overflow-x:auto;line-height:normal;font-family:Menlo,'DejaVu Sans Mono',consolas,'Courier New',monospace\">[[False, False, False, False, True, True, ... True, True, True, True, True, True]]\n",
       "</pre>\n"
      ],
      "text/plain": [
       "[[False, False, False, False, True, True, ... True, True, True, True, True, True]]\n"
      ]
     },
     "metadata": {},
     "output_type": "display_data"
    },
    {
     "data": {
      "text/html": [
       "<pre style=\"white-space:pre;overflow-x:auto;line-height:normal;font-family:Menlo,'DejaVu Sans Mono',consolas,'Courier New',monospace\">Postcut: Pairs:  12  Vector:  12\n",
       "</pre>\n"
      ],
      "text/plain": [
       "Postcut: Pairs:  12  Vector:  12\n"
      ]
     },
     "metadata": {},
     "output_type": "display_data"
    },
    {
     "data": {
      "text/html": [
       "<pre style=\"white-space:pre;overflow-x:auto;line-height:normal;font-family:Menlo,'DejaVu Sans Mono',consolas,'Courier New',monospace\">[[], [], [], [], [], [], [], [], [], [], ... [], [], [], [], [], [], [], [], [], []]\n",
       "</pre>\n"
      ],
      "text/plain": [
       "[[], [], [], [], [], [], [], [], [], [], ... [], [], [], [], [], [], [], [], [], []]\n"
      ]
     },
     "metadata": {},
     "output_type": "display_data"
    },
    {
     "data": {
      "text/html": [
       "<pre style=\"white-space:pre;overflow-x:auto;line-height:normal;font-family:Menlo,'DejaVu Sans Mono',consolas,'Courier New',monospace\">[[], [], [], [], [], [], [], [], [], [], ... [], [], [], [], [], [], [], [], [], []]\n",
       "</pre>\n"
      ],
      "text/plain": [
       "[[], [], [], [], [], [], [], [], [], [], ... [], [], [], [], [], [], [], [], [], []]\n"
      ]
     },
     "metadata": {},
     "output_type": "display_data"
    },
    {
     "data": {
      "text/html": [
       "<pre style=\"white-space:pre;overflow-x:auto;line-height:normal;font-family:Menlo,'DejaVu Sans Mono',consolas,'Courier New',monospace\">Start:  7276   Data\n",
       "</pre>\n"
      ],
      "text/plain": [
       "Start:  7276   Data\n"
      ]
     },
     "metadata": {},
     "output_type": "display_data"
    },
    {
     "data": {
      "text/html": [
       "<pre style=\"white-space:pre;overflow-x:auto;line-height:normal;font-family:Menlo,'DejaVu Sans Mono',consolas,'Courier New',monospace\">Extra Ele Veto:  4988\n",
       "</pre>\n"
      ],
      "text/plain": [
       "Extra Ele Veto:  4988\n"
      ]
     },
     "metadata": {},
     "output_type": "display_data"
    },
    {
     "data": {
      "text/html": [
       "<pre style=\"white-space:pre;overflow-x:auto;line-height:normal;font-family:Menlo,'DejaVu Sans Mono',consolas,'Courier New',monospace\">Extra Mu Veto:  950\n",
       "</pre>\n"
      ],
      "text/plain": [
       "Extra Mu Veto:  950\n"
      ]
     },
     "metadata": {},
     "output_type": "display_data"
    },
    {
     "data": {
      "text/html": [
       "<pre style=\"white-space:pre;overflow-x:auto;line-height:normal;font-family:Menlo,'DejaVu Sans Mono',consolas,'Courier New',monospace\">BJet Veto:  196\n",
       "</pre>\n"
      ],
      "text/plain": [
       "BJet Veto:  196\n"
      ]
     },
     "metadata": {},
     "output_type": "display_data"
    },
    {
     "data": {
      "text/html": [
       "<pre style=\"white-space:pre;overflow-x:auto;line-height:normal;font-family:Menlo,'DejaVu Sans Mono',consolas,'Courier New',monospace\">Pairs:  728  Vector:  728\n",
       "</pre>\n"
      ],
      "text/plain": [
       "Pairs:  728  Vector:  728\n"
      ]
     },
     "metadata": {},
     "output_type": "display_data"
    },
    {
     "data": {
      "text/html": [
       "<pre style=\"white-space:pre;overflow-x:auto;line-height:normal;font-family:Menlo,'DejaVu Sans Mono',consolas,'Courier New',monospace\">[[True, True, True, True, True, True, True, ... True], [True, True, True, True]]\n",
       "</pre>\n"
      ],
      "text/plain": [
       "[[True, True, True, True, True, True, True, ... True], [True, True, True, True]]\n"
      ]
     },
     "metadata": {},
     "output_type": "display_data"
    },
    {
     "data": {
      "text/html": [
       "<pre style=\"white-space:pre;overflow-x:auto;line-height:normal;font-family:Menlo,'DejaVu Sans Mono',consolas,'Courier New',monospace\">Postcut: Pairs:  15  Vector:  15\n",
       "</pre>\n"
      ],
      "text/plain": [
       "Postcut: Pairs:  15  Vector:  15\n"
      ]
     },
     "metadata": {},
     "output_type": "display_data"
    },
    {
     "data": {
      "text/html": [
       "<pre style=\"white-space:pre;overflow-x:auto;line-height:normal;font-family:Menlo,'DejaVu Sans Mono',consolas,'Courier New',monospace\">[[], [], [], [], [], [], [], [], [], [], ... [], [], [], [], [], [], [], [], [], []]\n",
       "</pre>\n"
      ],
      "text/plain": [
       "[[], [], [], [], [], [], [], [], [], [], ... [], [], [], [], [], [], [], [], [], []]\n"
      ]
     },
     "metadata": {},
     "output_type": "display_data"
    },
    {
     "data": {
      "text/html": [
       "<pre style=\"white-space:pre;overflow-x:auto;line-height:normal;font-family:Menlo,'DejaVu Sans Mono',consolas,'Courier New',monospace\">[[], [], [], [], [], [], [], [], [], [], ... [], [], [], [], [], [], [], [], [], []]\n",
       "</pre>\n"
      ],
      "text/plain": [
       "[[], [], [], [], [], [], [], [], [], [], ... [], [], [], [], [], [], [], [], [], []]\n"
      ]
     },
     "metadata": {},
     "output_type": "display_data"
    },
    {
     "data": {
      "text/html": [
       "<pre style=\"white-space:pre;overflow-x:auto;line-height:normal;font-family:Menlo,'DejaVu Sans Mono',consolas,'Courier New',monospace\">Start:  7457   Data\n",
       "</pre>\n"
      ],
      "text/plain": [
       "Start:  7457   Data\n"
      ]
     },
     "metadata": {},
     "output_type": "display_data"
    },
    {
     "data": {
      "text/html": [
       "<pre style=\"white-space:pre;overflow-x:auto;line-height:normal;font-family:Menlo,'DejaVu Sans Mono',consolas,'Courier New',monospace\">Extra Ele Veto:  5279\n",
       "</pre>\n"
      ],
      "text/plain": [
       "Extra Ele Veto:  5279\n"
      ]
     },
     "metadata": {},
     "output_type": "display_data"
    },
    {
     "data": {
      "text/html": [
       "<pre style=\"white-space:pre;overflow-x:auto;line-height:normal;font-family:Menlo,'DejaVu Sans Mono',consolas,'Courier New',monospace\">Extra Mu Veto:  1045\n",
       "</pre>\n"
      ],
      "text/plain": [
       "Extra Mu Veto:  1045\n"
      ]
     },
     "metadata": {},
     "output_type": "display_data"
    },
    {
     "data": {
      "text/html": [
       "<pre style=\"white-space:pre;overflow-x:auto;line-height:normal;font-family:Menlo,'DejaVu Sans Mono',consolas,'Courier New',monospace\">BJet Veto:  203\n",
       "</pre>\n"
      ],
      "text/plain": [
       "BJet Veto:  203\n"
      ]
     },
     "metadata": {},
     "output_type": "display_data"
    },
    {
     "data": {
      "text/html": [
       "<pre style=\"white-space:pre;overflow-x:auto;line-height:normal;font-family:Menlo,'DejaVu Sans Mono',consolas,'Courier New',monospace\">Pairs:  784  Vector:  784\n",
       "</pre>\n"
      ],
      "text/plain": [
       "Pairs:  784  Vector:  784\n"
      ]
     },
     "metadata": {},
     "output_type": "display_data"
    },
    {
     "data": {
      "text/html": [
       "<pre style=\"white-space:pre;overflow-x:auto;line-height:normal;font-family:Menlo,'DejaVu Sans Mono',consolas,'Courier New',monospace\">[[], [], [], [True, True, True, ... True, True, True, True, True], [True, True]]\n",
       "</pre>\n"
      ],
      "text/plain": [
       "[[], [], [], [True, True, True, ... True, True, True, True, True], [True, True]]\n"
      ]
     },
     "metadata": {},
     "output_type": "display_data"
    },
    {
     "data": {
      "text/html": [
       "<pre style=\"white-space:pre;overflow-x:auto;line-height:normal;font-family:Menlo,'DejaVu Sans Mono',consolas,'Courier New',monospace\">0\n",
       "</pre>\n"
      ],
      "text/plain": [
       "0\n"
      ]
     },
     "metadata": {},
     "output_type": "display_data"
    },
    {
     "data": {
      "text/html": [
       "<pre style=\"white-space:pre;overflow-x:auto;line-height:normal;font-family:Menlo,'DejaVu Sans Mono',consolas,'Courier New',monospace\">Start:  7263   Data\n",
       "</pre>\n"
      ],
      "text/plain": [
       "Start:  7263   Data\n"
      ]
     },
     "metadata": {},
     "output_type": "display_data"
    },
    {
     "data": {
      "text/html": [
       "<pre style=\"white-space:pre;overflow-x:auto;line-height:normal;font-family:Menlo,'DejaVu Sans Mono',consolas,'Courier New',monospace\">Extra Ele Veto:  5092\n",
       "</pre>\n"
      ],
      "text/plain": [
       "Extra Ele Veto:  5092\n"
      ]
     },
     "metadata": {},
     "output_type": "display_data"
    },
    {
     "data": {
      "text/html": [
       "<pre style=\"white-space:pre;overflow-x:auto;line-height:normal;font-family:Menlo,'DejaVu Sans Mono',consolas,'Courier New',monospace\">Extra Mu Veto:  1023\n",
       "</pre>\n"
      ],
      "text/plain": [
       "Extra Mu Veto:  1023\n"
      ]
     },
     "metadata": {},
     "output_type": "display_data"
    },
    {
     "data": {
      "text/html": [
       "<pre style=\"white-space:pre;overflow-x:auto;line-height:normal;font-family:Menlo,'DejaVu Sans Mono',consolas,'Courier New',monospace\">BJet Veto:  183\n",
       "</pre>\n"
      ],
      "text/plain": [
       "BJet Veto:  183\n"
      ]
     },
     "metadata": {},
     "output_type": "display_data"
    },
    {
     "data": {
      "text/html": [
       "<pre style=\"white-space:pre;overflow-x:auto;line-height:normal;font-family:Menlo,'DejaVu Sans Mono',consolas,'Courier New',monospace\">Pairs:  746  Vector:  746\n",
       "</pre>\n"
      ],
      "text/plain": [
       "Pairs:  746  Vector:  746\n"
      ]
     },
     "metadata": {},
     "output_type": "display_data"
    },
    {
     "data": {
      "text/html": [
       "<pre style=\"white-space:pre;overflow-x:auto;line-height:normal;font-family:Menlo,'DejaVu Sans Mono',consolas,'Courier New',monospace\">[[False, False, False, False, False, True, ... False, False, True, True, True, True]]\n",
       "</pre>\n"
      ],
      "text/plain": [
       "[[False, False, False, False, False, True, ... False, False, True, True, True, True]]\n"
      ]
     },
     "metadata": {},
     "output_type": "display_data"
    },
    {
     "data": {
      "text/html": [
       "<pre style=\"white-space:pre;overflow-x:auto;line-height:normal;font-family:Menlo,'DejaVu Sans Mono',consolas,'Courier New',monospace\">Postcut: Pairs:  22  Vector:  22\n",
       "</pre>\n"
      ],
      "text/plain": [
       "Postcut: Pairs:  22  Vector:  22\n"
      ]
     },
     "metadata": {},
     "output_type": "display_data"
    },
    {
     "data": {
      "text/html": [
       "<pre style=\"white-space:pre;overflow-x:auto;line-height:normal;font-family:Menlo,'DejaVu Sans Mono',consolas,'Courier New',monospace\">[[], [], [], [], [], [], [], [], [], [], ... [], [], [], [], [], [], [], [], [], []]\n",
       "</pre>\n"
      ],
      "text/plain": [
       "[[], [], [], [], [], [], [], [], [], [], ... [], [], [], [], [], [], [], [], [], []]\n"
      ]
     },
     "metadata": {},
     "output_type": "display_data"
    },
    {
     "data": {
      "text/html": [
       "<pre style=\"white-space:pre;overflow-x:auto;line-height:normal;font-family:Menlo,'DejaVu Sans Mono',consolas,'Courier New',monospace\">[[], [], [], [], [], [], [], [], [], [], ... [], [], [], [], [], [], [], [], [], []]\n",
       "</pre>\n"
      ],
      "text/plain": [
       "[[], [], [], [], [], [], [], [], [], [], ... [], [], [], [], [], [], [], [], [], []]\n"
      ]
     },
     "metadata": {},
     "output_type": "display_data"
    },
    {
     "data": {
      "text/html": [
       "<pre style=\"white-space:pre;overflow-x:auto;line-height:normal;font-family:Menlo,'DejaVu Sans Mono',consolas,'Courier New',monospace\">Start:  7104   Data\n",
       "</pre>\n"
      ],
      "text/plain": [
       "Start:  7104   Data\n"
      ]
     },
     "metadata": {},
     "output_type": "display_data"
    },
    {
     "data": {
      "text/html": [
       "<pre style=\"white-space:pre;overflow-x:auto;line-height:normal;font-family:Menlo,'DejaVu Sans Mono',consolas,'Courier New',monospace\">Extra Ele Veto:  4924\n",
       "</pre>\n"
      ],
      "text/plain": [
       "Extra Ele Veto:  4924\n"
      ]
     },
     "metadata": {},
     "output_type": "display_data"
    },
    {
     "data": {
      "text/html": [
       "<pre style=\"white-space:pre;overflow-x:auto;line-height:normal;font-family:Menlo,'DejaVu Sans Mono',consolas,'Courier New',monospace\">Extra Mu Veto:  978\n",
       "</pre>\n"
      ],
      "text/plain": [
       "Extra Mu Veto:  978\n"
      ]
     },
     "metadata": {},
     "output_type": "display_data"
    },
    {
     "data": {
      "text/html": [
       "<pre style=\"white-space:pre;overflow-x:auto;line-height:normal;font-family:Menlo,'DejaVu Sans Mono',consolas,'Courier New',monospace\">BJet Veto:  164\n",
       "</pre>\n"
      ],
      "text/plain": [
       "BJet Veto:  164\n"
      ]
     },
     "metadata": {},
     "output_type": "display_data"
    },
    {
     "data": {
      "text/html": [
       "<pre style=\"white-space:pre;overflow-x:auto;line-height:normal;font-family:Menlo,'DejaVu Sans Mono',consolas,'Courier New',monospace\">Pairs:  651  Vector:  651\n",
       "</pre>\n"
      ],
      "text/plain": [
       "Pairs:  651  Vector:  651\n"
      ]
     },
     "metadata": {},
     "output_type": "display_data"
    },
    {
     "data": {
      "text/html": [
       "<pre style=\"white-space:pre;overflow-x:auto;line-height:normal;font-family:Menlo,'DejaVu Sans Mono',consolas,'Courier New',monospace\">[[], [True, True, True, True], [True, ... True, True, True], [True, False, False]]\n",
       "</pre>\n"
      ],
      "text/plain": [
       "[[], [True, True, True, True], [True, ... True, True, True], [True, False, False]]\n"
      ]
     },
     "metadata": {},
     "output_type": "display_data"
    },
    {
     "data": {
      "text/html": [
       "<pre style=\"white-space:pre;overflow-x:auto;line-height:normal;font-family:Menlo,'DejaVu Sans Mono',consolas,'Courier New',monospace\">0\n",
       "</pre>\n"
      ],
      "text/plain": [
       "0\n"
      ]
     },
     "metadata": {},
     "output_type": "display_data"
    },
    {
     "data": {
      "text/html": [
       "<pre style=\"white-space:pre;overflow-x:auto;line-height:normal;font-family:Menlo,'DejaVu Sans Mono',consolas,'Courier New',monospace\">Start:  7229   Data\n",
       "</pre>\n"
      ],
      "text/plain": [
       "Start:  7229   Data\n"
      ]
     },
     "metadata": {},
     "output_type": "display_data"
    },
    {
     "data": {
      "text/html": [
       "<pre style=\"white-space:pre;overflow-x:auto;line-height:normal;font-family:Menlo,'DejaVu Sans Mono',consolas,'Courier New',monospace\">Extra Ele Veto:  4917\n",
       "</pre>\n"
      ],
      "text/plain": [
       "Extra Ele Veto:  4917\n"
      ]
     },
     "metadata": {},
     "output_type": "display_data"
    },
    {
     "data": {
      "text/html": [
       "<pre style=\"white-space:pre;overflow-x:auto;line-height:normal;font-family:Menlo,'DejaVu Sans Mono',consolas,'Courier New',monospace\">Extra Mu Veto:  964\n",
       "</pre>\n"
      ],
      "text/plain": [
       "Extra Mu Veto:  964\n"
      ]
     },
     "metadata": {},
     "output_type": "display_data"
    },
    {
     "data": {
      "text/html": [
       "<pre style=\"white-space:pre;overflow-x:auto;line-height:normal;font-family:Menlo,'DejaVu Sans Mono',consolas,'Courier New',monospace\">BJet Veto:  195\n",
       "</pre>\n"
      ],
      "text/plain": [
       "BJet Veto:  195\n"
      ]
     },
     "metadata": {},
     "output_type": "display_data"
    },
    {
     "data": {
      "text/html": [
       "<pre style=\"white-space:pre;overflow-x:auto;line-height:normal;font-family:Menlo,'DejaVu Sans Mono',consolas,'Courier New',monospace\">Pairs:  743  Vector:  743\n",
       "</pre>\n"
      ],
      "text/plain": [
       "Pairs:  743  Vector:  743\n"
      ]
     },
     "metadata": {},
     "output_type": "display_data"
    },
    {
     "data": {
      "text/html": [
       "<pre style=\"white-space:pre;overflow-x:auto;line-height:normal;font-family:Menlo,'DejaVu Sans Mono',consolas,'Courier New',monospace\">[[False, True, True], [True, True, ... False, True, True, True, True, True, True]]\n",
       "</pre>\n"
      ],
      "text/plain": [
       "[[False, True, True], [True, True, ... False, True, True, True, True, True, True]]\n"
      ]
     },
     "metadata": {},
     "output_type": "display_data"
    },
    {
     "data": {
      "text/html": [
       "<pre style=\"white-space:pre;overflow-x:auto;line-height:normal;font-family:Menlo,'DejaVu Sans Mono',consolas,'Courier New',monospace\">0\n",
       "</pre>\n"
      ],
      "text/plain": [
       "0\n"
      ]
     },
     "metadata": {},
     "output_type": "display_data"
    },
    {
     "data": {
      "text/html": [
       "<pre style=\"white-space:pre;overflow-x:auto;line-height:normal;font-family:Menlo,'DejaVu Sans Mono',consolas,'Courier New',monospace\">Start:  7213   Data\n",
       "</pre>\n"
      ],
      "text/plain": [
       "Start:  7213   Data\n"
      ]
     },
     "metadata": {},
     "output_type": "display_data"
    },
    {
     "data": {
      "text/html": [
       "<pre style=\"white-space:pre;overflow-x:auto;line-height:normal;font-family:Menlo,'DejaVu Sans Mono',consolas,'Courier New',monospace\">Extra Ele Veto:  5067\n",
       "</pre>\n"
      ],
      "text/plain": [
       "Extra Ele Veto:  5067\n"
      ]
     },
     "metadata": {},
     "output_type": "display_data"
    },
    {
     "data": {
      "text/html": [
       "<pre style=\"white-space:pre;overflow-x:auto;line-height:normal;font-family:Menlo,'DejaVu Sans Mono',consolas,'Courier New',monospace\">Extra Mu Veto:  972\n",
       "</pre>\n"
      ],
      "text/plain": [
       "Extra Mu Veto:  972\n"
      ]
     },
     "metadata": {},
     "output_type": "display_data"
    },
    {
     "data": {
      "text/html": [
       "<pre style=\"white-space:pre;overflow-x:auto;line-height:normal;font-family:Menlo,'DejaVu Sans Mono',consolas,'Courier New',monospace\">BJet Veto:  188\n",
       "</pre>\n"
      ],
      "text/plain": [
       "BJet Veto:  188\n"
      ]
     },
     "metadata": {},
     "output_type": "display_data"
    },
    {
     "data": {
      "text/html": [
       "<pre style=\"white-space:pre;overflow-x:auto;line-height:normal;font-family:Menlo,'DejaVu Sans Mono',consolas,'Courier New',monospace\">Pairs:  767  Vector:  767\n",
       "</pre>\n"
      ],
      "text/plain": [
       "Pairs:  767  Vector:  767\n"
      ]
     },
     "metadata": {},
     "output_type": "display_data"
    },
    {
     "data": {
      "text/html": [
       "<pre style=\"white-space:pre;overflow-x:auto;line-height:normal;font-family:Menlo,'DejaVu Sans Mono',consolas,'Courier New',monospace\">[[], [], [True, True, True, True, ... True, True, True, False, False, False, False]]\n",
       "</pre>\n"
      ],
      "text/plain": [
       "[[], [], [True, True, True, True, ... True, True, True, False, False, False, False]]\n"
      ]
     },
     "metadata": {},
     "output_type": "display_data"
    },
    {
     "data": {
      "text/html": [
       "<pre style=\"white-space:pre;overflow-x:auto;line-height:normal;font-family:Menlo,'DejaVu Sans Mono',consolas,'Courier New',monospace\">0\n",
       "</pre>\n"
      ],
      "text/plain": [
       "0\n"
      ]
     },
     "metadata": {},
     "output_type": "display_data"
    },
    {
     "data": {
      "text/html": [
       "<pre style=\"white-space:pre;overflow-x:auto;line-height:normal;font-family:Menlo,'DejaVu Sans Mono',consolas,'Courier New',monospace\">Start:  7381   Data\n",
       "</pre>\n"
      ],
      "text/plain": [
       "Start:  7381   Data\n"
      ]
     },
     "metadata": {},
     "output_type": "display_data"
    },
    {
     "data": {
      "text/html": [
       "<pre style=\"white-space:pre;overflow-x:auto;line-height:normal;font-family:Menlo,'DejaVu Sans Mono',consolas,'Courier New',monospace\">Extra Ele Veto:  5054\n",
       "</pre>\n"
      ],
      "text/plain": [
       "Extra Ele Veto:  5054\n"
      ]
     },
     "metadata": {},
     "output_type": "display_data"
    },
    {
     "data": {
      "text/html": [
       "<pre style=\"white-space:pre;overflow-x:auto;line-height:normal;font-family:Menlo,'DejaVu Sans Mono',consolas,'Courier New',monospace\">Extra Mu Veto:  966\n",
       "</pre>\n"
      ],
      "text/plain": [
       "Extra Mu Veto:  966\n"
      ]
     },
     "metadata": {},
     "output_type": "display_data"
    },
    {
     "data": {
      "text/html": [
       "<pre style=\"white-space:pre;overflow-x:auto;line-height:normal;font-family:Menlo,'DejaVu Sans Mono',consolas,'Courier New',monospace\">BJet Veto:  191\n",
       "</pre>\n"
      ],
      "text/plain": [
       "BJet Veto:  191\n"
      ]
     },
     "metadata": {},
     "output_type": "display_data"
    },
    {
     "data": {
      "text/html": [
       "<pre style=\"white-space:pre;overflow-x:auto;line-height:normal;font-family:Menlo,'DejaVu Sans Mono',consolas,'Courier New',monospace\">Pairs:  802  Vector:  802\n",
       "</pre>\n"
      ],
      "text/plain": [
       "Pairs:  802  Vector:  802\n"
      ]
     },
     "metadata": {},
     "output_type": "display_data"
    },
    {
     "data": {
      "text/html": [
       "<pre style=\"white-space:pre;overflow-x:auto;line-height:normal;font-family:Menlo,'DejaVu Sans Mono',consolas,'Courier New',monospace\">[[True, True, True, True, True, True, True, ... False, True, True, True], [True]]\n",
       "</pre>\n"
      ],
      "text/plain": [
       "[[True, True, True, True, True, True, True, ... False, True, True, True], [True]]\n"
      ]
     },
     "metadata": {},
     "output_type": "display_data"
    },
    {
     "data": {
      "text/html": [
       "<pre style=\"white-space:pre;overflow-x:auto;line-height:normal;font-family:Menlo,'DejaVu Sans Mono',consolas,'Courier New',monospace\">Postcut: Pairs:  20  Vector:  20\n",
       "</pre>\n"
      ],
      "text/plain": [
       "Postcut: Pairs:  20  Vector:  20\n"
      ]
     },
     "metadata": {},
     "output_type": "display_data"
    },
    {
     "data": {
      "text/html": [
       "<pre style=\"white-space:pre;overflow-x:auto;line-height:normal;font-family:Menlo,'DejaVu Sans Mono',consolas,'Courier New',monospace\">[[], [], [], [], [], [], [], [], [], [], ... [], [], [], [], [], [], [], [], [], []]\n",
       "</pre>\n"
      ],
      "text/plain": [
       "[[], [], [], [], [], [], [], [], [], [], ... [], [], [], [], [], [], [], [], [], []]\n"
      ]
     },
     "metadata": {},
     "output_type": "display_data"
    },
    {
     "data": {
      "text/html": [
       "<pre style=\"white-space:pre;overflow-x:auto;line-height:normal;font-family:Menlo,'DejaVu Sans Mono',consolas,'Courier New',monospace\">[[], [], [], [], [], [], [], [], [], [], ... [], [], [], [], [], [], [], [], [], []]\n",
       "</pre>\n"
      ],
      "text/plain": [
       "[[], [], [], [], [], [], [], [], [], [], ... [], [], [], [], [], [], [], [], [], []]\n"
      ]
     },
     "metadata": {},
     "output_type": "display_data"
    },
    {
     "data": {
      "text/html": [
       "<pre style=\"white-space:pre;overflow-x:auto;line-height:normal;font-family:Menlo,'DejaVu Sans Mono',consolas,'Courier New',monospace\">Start:  7298   Data\n",
       "</pre>\n"
      ],
      "text/plain": [
       "Start:  7298   Data\n"
      ]
     },
     "metadata": {},
     "output_type": "display_data"
    },
    {
     "data": {
      "text/html": [
       "<pre style=\"white-space:pre;overflow-x:auto;line-height:normal;font-family:Menlo,'DejaVu Sans Mono',consolas,'Courier New',monospace\">Extra Ele Veto:  4975\n",
       "</pre>\n"
      ],
      "text/plain": [
       "Extra Ele Veto:  4975\n"
      ]
     },
     "metadata": {},
     "output_type": "display_data"
    },
    {
     "data": {
      "text/html": [
       "<pre style=\"white-space:pre;overflow-x:auto;line-height:normal;font-family:Menlo,'DejaVu Sans Mono',consolas,'Courier New',monospace\">Extra Mu Veto:  985\n",
       "</pre>\n"
      ],
      "text/plain": [
       "Extra Mu Veto:  985\n"
      ]
     },
     "metadata": {},
     "output_type": "display_data"
    },
    {
     "data": {
      "text/html": [
       "<pre style=\"white-space:pre;overflow-x:auto;line-height:normal;font-family:Menlo,'DejaVu Sans Mono',consolas,'Courier New',monospace\">BJet Veto:  213\n",
       "</pre>\n"
      ],
      "text/plain": [
       "BJet Veto:  213\n"
      ]
     },
     "metadata": {},
     "output_type": "display_data"
    },
    {
     "data": {
      "text/html": [
       "<pre style=\"white-space:pre;overflow-x:auto;line-height:normal;font-family:Menlo,'DejaVu Sans Mono',consolas,'Courier New',monospace\">Pairs:  884  Vector:  884\n",
       "</pre>\n"
      ],
      "text/plain": [
       "Pairs:  884  Vector:  884\n"
      ]
     },
     "metadata": {},
     "output_type": "display_data"
    },
    {
     "data": {
      "text/html": [
       "<pre style=\"white-space:pre;overflow-x:auto;line-height:normal;font-family:Menlo,'DejaVu Sans Mono',consolas,'Courier New',monospace\">[[True, True, True, True, True, True, True, True, ... [], [True, True, False, True]]\n",
       "</pre>\n"
      ],
      "text/plain": [
       "[[True, True, True, True, True, True, True, True, ... [], [True, True, False, True]]\n"
      ]
     },
     "metadata": {},
     "output_type": "display_data"
    },
    {
     "data": {
      "text/html": [
       "<pre style=\"white-space:pre;overflow-x:auto;line-height:normal;font-family:Menlo,'DejaVu Sans Mono',consolas,'Courier New',monospace\">Postcut: Pairs:  17  Vector:  17\n",
       "</pre>\n"
      ],
      "text/plain": [
       "Postcut: Pairs:  17  Vector:  17\n"
      ]
     },
     "metadata": {},
     "output_type": "display_data"
    },
    {
     "data": {
      "text/html": [
       "<pre style=\"white-space:pre;overflow-x:auto;line-height:normal;font-family:Menlo,'DejaVu Sans Mono',consolas,'Courier New',monospace\">[[], [], [], [], [], [], [], [], [], [], ... [], [], [], [], [], [], [], [], [], []]\n",
       "</pre>\n"
      ],
      "text/plain": [
       "[[], [], [], [], [], [], [], [], [], [], ... [], [], [], [], [], [], [], [], [], []]\n"
      ]
     },
     "metadata": {},
     "output_type": "display_data"
    },
    {
     "data": {
      "text/html": [
       "<pre style=\"white-space:pre;overflow-x:auto;line-height:normal;font-family:Menlo,'DejaVu Sans Mono',consolas,'Courier New',monospace\">[[], [], [], [], [], [], [], [], [], [], ... [], [], [], [], [], [], [], [], [], []]\n",
       "</pre>\n"
      ],
      "text/plain": [
       "[[], [], [], [], [], [], [], [], [], [], ... [], [], [], [], [], [], [], [], [], []]\n"
      ]
     },
     "metadata": {},
     "output_type": "display_data"
    },
    {
     "data": {
      "text/html": [
       "<pre style=\"white-space:pre;overflow-x:auto;line-height:normal;font-family:Menlo,'DejaVu Sans Mono',consolas,'Courier New',monospace\">Start:  7353   Data\n",
       "</pre>\n"
      ],
      "text/plain": [
       "Start:  7353   Data\n"
      ]
     },
     "metadata": {},
     "output_type": "display_data"
    },
    {
     "data": {
      "text/html": [
       "<pre style=\"white-space:pre;overflow-x:auto;line-height:normal;font-family:Menlo,'DejaVu Sans Mono',consolas,'Courier New',monospace\">Extra Ele Veto:  5137\n",
       "</pre>\n"
      ],
      "text/plain": [
       "Extra Ele Veto:  5137\n"
      ]
     },
     "metadata": {},
     "output_type": "display_data"
    },
    {
     "data": {
      "text/html": [
       "<pre style=\"white-space:pre;overflow-x:auto;line-height:normal;font-family:Menlo,'DejaVu Sans Mono',consolas,'Courier New',monospace\">Extra Mu Veto:  1087\n",
       "</pre>\n"
      ],
      "text/plain": [
       "Extra Mu Veto:  1087\n"
      ]
     },
     "metadata": {},
     "output_type": "display_data"
    },
    {
     "data": {
      "text/html": [
       "<pre style=\"white-space:pre;overflow-x:auto;line-height:normal;font-family:Menlo,'DejaVu Sans Mono',consolas,'Courier New',monospace\">BJet Veto:  204\n",
       "</pre>\n"
      ],
      "text/plain": [
       "BJet Veto:  204\n"
      ]
     },
     "metadata": {},
     "output_type": "display_data"
    },
    {
     "data": {
      "text/html": [
       "<pre style=\"white-space:pre;overflow-x:auto;line-height:normal;font-family:Menlo,'DejaVu Sans Mono',consolas,'Courier New',monospace\">Pairs:  717  Vector:  717\n",
       "</pre>\n"
      ],
      "text/plain": [
       "Pairs:  717  Vector:  717\n"
      ]
     },
     "metadata": {},
     "output_type": "display_data"
    },
    {
     "data": {
      "text/html": [
       "<pre style=\"white-space:pre;overflow-x:auto;line-height:normal;font-family:Menlo,'DejaVu Sans Mono',consolas,'Courier New',monospace\">[[False, True, True], [True, True, False, ... False, False], [True, False, True]]\n",
       "</pre>\n"
      ],
      "text/plain": [
       "[[False, True, True], [True, True, False, ... False, False], [True, False, True]]\n"
      ]
     },
     "metadata": {},
     "output_type": "display_data"
    },
    {
     "data": {
      "text/html": [
       "<pre style=\"white-space:pre;overflow-x:auto;line-height:normal;font-family:Menlo,'DejaVu Sans Mono',consolas,'Courier New',monospace\">Postcut: Pairs:  13  Vector:  13\n",
       "</pre>\n"
      ],
      "text/plain": [
       "Postcut: Pairs:  13  Vector:  13\n"
      ]
     },
     "metadata": {},
     "output_type": "display_data"
    },
    {
     "data": {
      "text/html": [
       "<pre style=\"white-space:pre;overflow-x:auto;line-height:normal;font-family:Menlo,'DejaVu Sans Mono',consolas,'Courier New',monospace\">[[], [], [], [], [], [], [], [], [], [], ... [], [], [], [], [], [], [], [], [], []]\n",
       "</pre>\n"
      ],
      "text/plain": [
       "[[], [], [], [], [], [], [], [], [], [], ... [], [], [], [], [], [], [], [], [], []]\n"
      ]
     },
     "metadata": {},
     "output_type": "display_data"
    },
    {
     "data": {
      "text/html": [
       "<pre style=\"white-space:pre;overflow-x:auto;line-height:normal;font-family:Menlo,'DejaVu Sans Mono',consolas,'Courier New',monospace\">[[], [], [], [], [], [], [], [], [], [], ... [], [], [], [], [], [], [], [], [], []]\n",
       "</pre>\n"
      ],
      "text/plain": [
       "[[], [], [], [], [], [], [], [], [], [], ... [], [], [], [], [], [], [], [], [], []]\n"
      ]
     },
     "metadata": {},
     "output_type": "display_data"
    },
    {
     "data": {
      "text/html": [
       "<pre style=\"white-space:pre;overflow-x:auto;line-height:normal;font-family:Menlo,'DejaVu Sans Mono',consolas,'Courier New',monospace\">Start:  7233   Data\n",
       "</pre>\n"
      ],
      "text/plain": [
       "Start:  7233   Data\n"
      ]
     },
     "metadata": {},
     "output_type": "display_data"
    },
    {
     "data": {
      "text/html": [
       "<pre style=\"white-space:pre;overflow-x:auto;line-height:normal;font-family:Menlo,'DejaVu Sans Mono',consolas,'Courier New',monospace\">Extra Ele Veto:  5052\n",
       "</pre>\n"
      ],
      "text/plain": [
       "Extra Ele Veto:  5052\n"
      ]
     },
     "metadata": {},
     "output_type": "display_data"
    },
    {
     "data": {
      "text/html": [
       "<pre style=\"white-space:pre;overflow-x:auto;line-height:normal;font-family:Menlo,'DejaVu Sans Mono',consolas,'Courier New',monospace\">Extra Mu Veto:  975\n",
       "</pre>\n"
      ],
      "text/plain": [
       "Extra Mu Veto:  975\n"
      ]
     },
     "metadata": {},
     "output_type": "display_data"
    },
    {
     "data": {
      "text/html": [
       "<pre style=\"white-space:pre;overflow-x:auto;line-height:normal;font-family:Menlo,'DejaVu Sans Mono',consolas,'Courier New',monospace\">BJet Veto:  199\n",
       "</pre>\n"
      ],
      "text/plain": [
       "BJet Veto:  199\n"
      ]
     },
     "metadata": {},
     "output_type": "display_data"
    },
    {
     "data": {
      "text/html": [
       "<pre style=\"white-space:pre;overflow-x:auto;line-height:normal;font-family:Menlo,'DejaVu Sans Mono',consolas,'Courier New',monospace\">Pairs:  777  Vector:  777\n",
       "</pre>\n"
      ],
      "text/plain": [
       "Pairs:  777  Vector:  777\n"
      ]
     },
     "metadata": {},
     "output_type": "display_data"
    },
    {
     "data": {
      "text/html": [
       "<pre style=\"white-space:pre;overflow-x:auto;line-height:normal;font-family:Menlo,'DejaVu Sans Mono',consolas,'Courier New',monospace\">[[], [True, False], [False, False, False, ... True, True, True, True, True], [], []]\n",
       "</pre>\n"
      ],
      "text/plain": [
       "[[], [True, False], [False, False, False, ... True, True, True, True, True], [], []]\n"
      ]
     },
     "metadata": {},
     "output_type": "display_data"
    },
    {
     "data": {
      "text/html": [
       "<pre style=\"white-space:pre;overflow-x:auto;line-height:normal;font-family:Menlo,'DejaVu Sans Mono',consolas,'Courier New',monospace\">0\n",
       "</pre>\n"
      ],
      "text/plain": [
       "0\n"
      ]
     },
     "metadata": {},
     "output_type": "display_data"
    },
    {
     "data": {
      "text/html": [
       "<pre style=\"white-space:pre;overflow-x:auto;line-height:normal;font-family:Menlo,'DejaVu Sans Mono',consolas,'Courier New',monospace\">Start:  7016   Data\n",
       "</pre>\n"
      ],
      "text/plain": [
       "Start:  7016   Data\n"
      ]
     },
     "metadata": {},
     "output_type": "display_data"
    },
    {
     "data": {
      "text/html": [
       "<pre style=\"white-space:pre;overflow-x:auto;line-height:normal;font-family:Menlo,'DejaVu Sans Mono',consolas,'Courier New',monospace\">Extra Ele Veto:  4785\n",
       "</pre>\n"
      ],
      "text/plain": [
       "Extra Ele Veto:  4785\n"
      ]
     },
     "metadata": {},
     "output_type": "display_data"
    },
    {
     "data": {
      "text/html": [
       "<pre style=\"white-space:pre;overflow-x:auto;line-height:normal;font-family:Menlo,'DejaVu Sans Mono',consolas,'Courier New',monospace\">Extra Mu Veto:  968\n",
       "</pre>\n"
      ],
      "text/plain": [
       "Extra Mu Veto:  968\n"
      ]
     },
     "metadata": {},
     "output_type": "display_data"
    },
    {
     "data": {
      "text/html": [
       "<pre style=\"white-space:pre;overflow-x:auto;line-height:normal;font-family:Menlo,'DejaVu Sans Mono',consolas,'Courier New',monospace\">BJet Veto:  174\n",
       "</pre>\n"
      ],
      "text/plain": [
       "BJet Veto:  174\n"
      ]
     },
     "metadata": {},
     "output_type": "display_data"
    },
    {
     "data": {
      "text/html": [
       "<pre style=\"white-space:pre;overflow-x:auto;line-height:normal;font-family:Menlo,'DejaVu Sans Mono',consolas,'Courier New',monospace\">Pairs:  695  Vector:  695\n",
       "</pre>\n"
      ],
      "text/plain": [
       "Pairs:  695  Vector:  695\n"
      ]
     },
     "metadata": {},
     "output_type": "display_data"
    },
    {
     "data": {
      "text/html": [
       "<pre style=\"white-space:pre;overflow-x:auto;line-height:normal;font-family:Menlo,'DejaVu Sans Mono',consolas,'Courier New',monospace\">[[False, True, True, True], [], ... True, True, False, False, False, False, False]]\n",
       "</pre>\n"
      ],
      "text/plain": [
       "[[False, True, True, True], [], ... True, True, False, False, False, False, False]]\n"
      ]
     },
     "metadata": {},
     "output_type": "display_data"
    },
    {
     "data": {
      "text/html": [
       "<pre style=\"white-space:pre;overflow-x:auto;line-height:normal;font-family:Menlo,'DejaVu Sans Mono',consolas,'Courier New',monospace\">Postcut: Pairs:  16  Vector:  16\n",
       "</pre>\n"
      ],
      "text/plain": [
       "Postcut: Pairs:  16  Vector:  16\n"
      ]
     },
     "metadata": {},
     "output_type": "display_data"
    },
    {
     "data": {
      "text/html": [
       "<pre style=\"white-space:pre;overflow-x:auto;line-height:normal;font-family:Menlo,'DejaVu Sans Mono',consolas,'Courier New',monospace\">[[], [], [], [], [], [], [], [], [], [], ... [], [], [], [], [], [True], [], [], []]\n",
       "</pre>\n"
      ],
      "text/plain": [
       "[[], [], [], [], [], [], [], [], [], [], ... [], [], [], [], [], [True], [], [], []]\n"
      ]
     },
     "metadata": {},
     "output_type": "display_data"
    },
    {
     "data": {
      "text/html": [
       "<pre style=\"white-space:pre;overflow-x:auto;line-height:normal;font-family:Menlo,'DejaVu Sans Mono',consolas,'Courier New',monospace\">[[], [], [], [], [], [], [], ... phi: -0.0213, mass: 0.106}}], [], [], []]\n",
       "</pre>\n"
      ],
      "text/plain": [
       "[[], [], [], [], [], [], [], ... phi: -0.0213, mass: 0.106}}], [], [], []]\n"
      ]
     },
     "metadata": {},
     "output_type": "display_data"
    },
    {
     "data": {
      "text/html": [
       "<pre style=\"white-space:pre;overflow-x:auto;line-height:normal;font-family:Menlo,'DejaVu Sans Mono',consolas,'Courier New',monospace\">Start:  7169   Data\n",
       "</pre>\n"
      ],
      "text/plain": [
       "Start:  7169   Data\n"
      ]
     },
     "metadata": {},
     "output_type": "display_data"
    },
    {
     "data": {
      "text/html": [
       "<pre style=\"white-space:pre;overflow-x:auto;line-height:normal;font-family:Menlo,'DejaVu Sans Mono',consolas,'Courier New',monospace\">Extra Ele Veto:  4850\n",
       "</pre>\n"
      ],
      "text/plain": [
       "Extra Ele Veto:  4850\n"
      ]
     },
     "metadata": {},
     "output_type": "display_data"
    },
    {
     "data": {
      "text/html": [
       "<pre style=\"white-space:pre;overflow-x:auto;line-height:normal;font-family:Menlo,'DejaVu Sans Mono',consolas,'Courier New',monospace\">Extra Mu Veto:  873\n",
       "</pre>\n"
      ],
      "text/plain": [
       "Extra Mu Veto:  873\n"
      ]
     },
     "metadata": {},
     "output_type": "display_data"
    },
    {
     "data": {
      "text/html": [
       "<pre style=\"white-space:pre;overflow-x:auto;line-height:normal;font-family:Menlo,'DejaVu Sans Mono',consolas,'Courier New',monospace\">BJet Veto:  220\n",
       "</pre>\n"
      ],
      "text/plain": [
       "BJet Veto:  220\n"
      ]
     },
     "metadata": {},
     "output_type": "display_data"
    },
    {
     "data": {
      "text/html": [
       "<pre style=\"white-space:pre;overflow-x:auto;line-height:normal;font-family:Menlo,'DejaVu Sans Mono',consolas,'Courier New',monospace\">Pairs:  844  Vector:  844\n",
       "</pre>\n"
      ],
      "text/plain": [
       "Pairs:  844  Vector:  844\n"
      ]
     },
     "metadata": {},
     "output_type": "display_data"
    },
    {
     "data": {
      "text/html": [
       "<pre style=\"white-space:pre;overflow-x:auto;line-height:normal;font-family:Menlo,'DejaVu Sans Mono',consolas,'Courier New',monospace\">[[True, True, True, True, False, False, False, ... [], [True, False, True, True]]\n",
       "</pre>\n"
      ],
      "text/plain": [
       "[[True, True, True, True, False, False, False, ... [], [True, False, True, True]]\n"
      ]
     },
     "metadata": {},
     "output_type": "display_data"
    },
    {
     "data": {
      "text/html": [
       "<pre style=\"white-space:pre;overflow-x:auto;line-height:normal;font-family:Menlo,'DejaVu Sans Mono',consolas,'Courier New',monospace\">0\n",
       "</pre>\n"
      ],
      "text/plain": [
       "0\n"
      ]
     },
     "metadata": {},
     "output_type": "display_data"
    },
    {
     "data": {
      "text/html": [
       "<pre style=\"white-space:pre;overflow-x:auto;line-height:normal;font-family:Menlo,'DejaVu Sans Mono',consolas,'Courier New',monospace\">Start:  7085   Data\n",
       "</pre>\n"
      ],
      "text/plain": [
       "Start:  7085   Data\n"
      ]
     },
     "metadata": {},
     "output_type": "display_data"
    },
    {
     "data": {
      "text/html": [
       "<pre style=\"white-space:pre;overflow-x:auto;line-height:normal;font-family:Menlo,'DejaVu Sans Mono',consolas,'Courier New',monospace\">Extra Ele Veto:  5058\n",
       "</pre>\n"
      ],
      "text/plain": [
       "Extra Ele Veto:  5058\n"
      ]
     },
     "metadata": {},
     "output_type": "display_data"
    },
    {
     "data": {
      "text/html": [
       "<pre style=\"white-space:pre;overflow-x:auto;line-height:normal;font-family:Menlo,'DejaVu Sans Mono',consolas,'Courier New',monospace\">Extra Mu Veto:  979\n",
       "</pre>\n"
      ],
      "text/plain": [
       "Extra Mu Veto:  979\n"
      ]
     },
     "metadata": {},
     "output_type": "display_data"
    },
    {
     "data": {
      "text/html": [
       "<pre style=\"white-space:pre;overflow-x:auto;line-height:normal;font-family:Menlo,'DejaVu Sans Mono',consolas,'Courier New',monospace\">BJet Veto:  190\n",
       "</pre>\n"
      ],
      "text/plain": [
       "BJet Veto:  190\n"
      ]
     },
     "metadata": {},
     "output_type": "display_data"
    },
    {
     "data": {
      "text/html": [
       "<pre style=\"white-space:pre;overflow-x:auto;line-height:normal;font-family:Menlo,'DejaVu Sans Mono',consolas,'Courier New',monospace\">Pairs:  748  Vector:  748\n",
       "</pre>\n"
      ],
      "text/plain": [
       "Pairs:  748  Vector:  748\n"
      ]
     },
     "metadata": {},
     "output_type": "display_data"
    },
    {
     "data": {
      "text/html": [
       "<pre style=\"white-space:pre;overflow-x:auto;line-height:normal;font-family:Menlo,'DejaVu Sans Mono',consolas,'Courier New',monospace\">[[], [], [True, True, False, False, ... True, True, True, True, True, True], []]\n",
       "</pre>\n"
      ],
      "text/plain": [
       "[[], [], [True, True, False, False, ... True, True, True, True, True, True], []]\n"
      ]
     },
     "metadata": {},
     "output_type": "display_data"
    },
    {
     "data": {
      "text/html": [
       "<pre style=\"white-space:pre;overflow-x:auto;line-height:normal;font-family:Menlo,'DejaVu Sans Mono',consolas,'Courier New',monospace\">0\n",
       "</pre>\n"
      ],
      "text/plain": [
       "0\n"
      ]
     },
     "metadata": {},
     "output_type": "display_data"
    },
    {
     "data": {
      "text/html": [
       "<pre style=\"white-space:pre;overflow-x:auto;line-height:normal;font-family:Menlo,'DejaVu Sans Mono',consolas,'Courier New',monospace\">Start:  7068   Data\n",
       "</pre>\n"
      ],
      "text/plain": [
       "Start:  7068   Data\n"
      ]
     },
     "metadata": {},
     "output_type": "display_data"
    },
    {
     "data": {
      "text/html": [
       "<pre style=\"white-space:pre;overflow-x:auto;line-height:normal;font-family:Menlo,'DejaVu Sans Mono',consolas,'Courier New',monospace\">Extra Ele Veto:  4880\n",
       "</pre>\n"
      ],
      "text/plain": [
       "Extra Ele Veto:  4880\n"
      ]
     },
     "metadata": {},
     "output_type": "display_data"
    },
    {
     "data": {
      "text/html": [
       "<pre style=\"white-space:pre;overflow-x:auto;line-height:normal;font-family:Menlo,'DejaVu Sans Mono',consolas,'Courier New',monospace\">Extra Mu Veto:  912\n",
       "</pre>\n"
      ],
      "text/plain": [
       "Extra Mu Veto:  912\n"
      ]
     },
     "metadata": {},
     "output_type": "display_data"
    },
    {
     "data": {
      "text/html": [
       "<pre style=\"white-space:pre;overflow-x:auto;line-height:normal;font-family:Menlo,'DejaVu Sans Mono',consolas,'Courier New',monospace\">BJet Veto:  224\n",
       "</pre>\n"
      ],
      "text/plain": [
       "BJet Veto:  224\n"
      ]
     },
     "metadata": {},
     "output_type": "display_data"
    },
    {
     "data": {
      "text/html": [
       "<pre style=\"white-space:pre;overflow-x:auto;line-height:normal;font-family:Menlo,'DejaVu Sans Mono',consolas,'Courier New',monospace\">Pairs:  826  Vector:  826\n",
       "</pre>\n"
      ],
      "text/plain": [
       "Pairs:  826  Vector:  826\n"
      ]
     },
     "metadata": {},
     "output_type": "display_data"
    },
    {
     "data": {
      "text/html": [
       "<pre style=\"white-space:pre;overflow-x:auto;line-height:normal;font-family:Menlo,'DejaVu Sans Mono',consolas,'Courier New',monospace\">[[True, True, False, False, True, True, False, ... [False, False, True, True, False]]\n",
       "</pre>\n"
      ],
      "text/plain": [
       "[[True, True, False, False, True, True, False, ... [False, False, True, True, False]]\n"
      ]
     },
     "metadata": {},
     "output_type": "display_data"
    },
    {
     "data": {
      "text/html": [
       "<pre style=\"white-space:pre;overflow-x:auto;line-height:normal;font-family:Menlo,'DejaVu Sans Mono',consolas,'Courier New',monospace\">Postcut: Pairs:  20  Vector:  20\n",
       "</pre>\n"
      ],
      "text/plain": [
       "Postcut: Pairs:  20  Vector:  20\n"
      ]
     },
     "metadata": {},
     "output_type": "display_data"
    },
    {
     "data": {
      "text/html": [
       "<pre style=\"white-space:pre;overflow-x:auto;line-height:normal;font-family:Menlo,'DejaVu Sans Mono',consolas,'Courier New',monospace\">[[], [], [], [], [], [], [], [], [], [], ... [], [], [], [], [], [], [], [], [], []]\n",
       "</pre>\n"
      ],
      "text/plain": [
       "[[], [], [], [], [], [], [], [], [], [], ... [], [], [], [], [], [], [], [], [], []]\n"
      ]
     },
     "metadata": {},
     "output_type": "display_data"
    },
    {
     "data": {
      "text/html": [
       "<pre style=\"white-space:pre;overflow-x:auto;line-height:normal;font-family:Menlo,'DejaVu Sans Mono',consolas,'Courier New',monospace\">[[], [], [], [], [], [], [], [], [], [], ... [], [], [], [], [], [], [], [], [], []]\n",
       "</pre>\n"
      ],
      "text/plain": [
       "[[], [], [], [], [], [], [], [], [], [], ... [], [], [], [], [], [], [], [], [], []]\n"
      ]
     },
     "metadata": {},
     "output_type": "display_data"
    },
    {
     "data": {
      "text/html": [
       "<pre style=\"white-space:pre;overflow-x:auto;line-height:normal;font-family:Menlo,'DejaVu Sans Mono',consolas,'Courier New',monospace\">Start:  7161   Data\n",
       "</pre>\n"
      ],
      "text/plain": [
       "Start:  7161   Data\n"
      ]
     },
     "metadata": {},
     "output_type": "display_data"
    },
    {
     "data": {
      "text/html": [
       "<pre style=\"white-space:pre;overflow-x:auto;line-height:normal;font-family:Menlo,'DejaVu Sans Mono',consolas,'Courier New',monospace\">Extra Ele Veto:  4976\n",
       "</pre>\n"
      ],
      "text/plain": [
       "Extra Ele Veto:  4976\n"
      ]
     },
     "metadata": {},
     "output_type": "display_data"
    },
    {
     "data": {
      "text/html": [
       "<pre style=\"white-space:pre;overflow-x:auto;line-height:normal;font-family:Menlo,'DejaVu Sans Mono',consolas,'Courier New',monospace\">Extra Mu Veto:  975\n",
       "</pre>\n"
      ],
      "text/plain": [
       "Extra Mu Veto:  975\n"
      ]
     },
     "metadata": {},
     "output_type": "display_data"
    },
    {
     "data": {
      "text/html": [
       "<pre style=\"white-space:pre;overflow-x:auto;line-height:normal;font-family:Menlo,'DejaVu Sans Mono',consolas,'Courier New',monospace\">BJet Veto:  199\n",
       "</pre>\n"
      ],
      "text/plain": [
       "BJet Veto:  199\n"
      ]
     },
     "metadata": {},
     "output_type": "display_data"
    },
    {
     "data": {
      "text/html": [
       "<pre style=\"white-space:pre;overflow-x:auto;line-height:normal;font-family:Menlo,'DejaVu Sans Mono',consolas,'Courier New',monospace\">Pairs:  769  Vector:  769\n",
       "</pre>\n"
      ],
      "text/plain": [
       "Pairs:  769  Vector:  769\n"
      ]
     },
     "metadata": {},
     "output_type": "display_data"
    },
    {
     "data": {
      "text/html": [
       "<pre style=\"white-space:pre;overflow-x:auto;line-height:normal;font-family:Menlo,'DejaVu Sans Mono',consolas,'Courier New',monospace\">[[False, True, True], [True, True], [True, ... True, True], [True, True, True], []]\n",
       "</pre>\n"
      ],
      "text/plain": [
       "[[False, True, True], [True, True], [True, ... True, True], [True, True, True], []]\n"
      ]
     },
     "metadata": {},
     "output_type": "display_data"
    },
    {
     "data": {
      "text/html": [
       "<pre style=\"white-space:pre;overflow-x:auto;line-height:normal;font-family:Menlo,'DejaVu Sans Mono',consolas,'Courier New',monospace\">0\n",
       "</pre>\n"
      ],
      "text/plain": [
       "0\n"
      ]
     },
     "metadata": {},
     "output_type": "display_data"
    },
    {
     "data": {
      "text/html": [
       "<pre style=\"white-space:pre;overflow-x:auto;line-height:normal;font-family:Menlo,'DejaVu Sans Mono',consolas,'Courier New',monospace\">Start:  1683   VV\n",
       "</pre>\n"
      ],
      "text/plain": [
       "Start:  1683   VV\n"
      ]
     },
     "metadata": {},
     "output_type": "display_data"
    },
    {
     "data": {
      "text/html": [
       "<pre style=\"white-space:pre;overflow-x:auto;line-height:normal;font-family:Menlo,'DejaVu Sans Mono',consolas,'Courier New',monospace\">Extra Ele Veto:  1602\n",
       "</pre>\n"
      ],
      "text/plain": [
       "Extra Ele Veto:  1602\n"
      ]
     },
     "metadata": {},
     "output_type": "display_data"
    },
    {
     "data": {
      "text/html": [
       "<pre style=\"white-space:pre;overflow-x:auto;line-height:normal;font-family:Menlo,'DejaVu Sans Mono',consolas,'Courier New',monospace\">Extra Mu Veto:  45\n",
       "</pre>\n"
      ],
      "text/plain": [
       "Extra Mu Veto:  45\n"
      ]
     },
     "metadata": {},
     "output_type": "display_data"
    },
    {
     "data": {
      "text/html": [
       "<pre style=\"white-space:pre;overflow-x:auto;line-height:normal;font-family:Menlo,'DejaVu Sans Mono',consolas,'Courier New',monospace\">BJet Veto:  19\n",
       "</pre>\n"
      ],
      "text/plain": [
       "BJet Veto:  19\n"
      ]
     },
     "metadata": {},
     "output_type": "display_data"
    },
    {
     "data": {
      "text/html": [
       "<pre style=\"white-space:pre;overflow-x:auto;line-height:normal;font-family:Menlo,'DejaVu Sans Mono',consolas,'Courier New',monospace\">Pairs:  34  Vector:  34\n",
       "</pre>\n"
      ],
      "text/plain": [
       "Pairs:  34  Vector:  34\n"
      ]
     },
     "metadata": {},
     "output_type": "display_data"
    },
    {
     "data": {
      "text/html": [
       "<pre style=\"white-space:pre;overflow-x:auto;line-height:normal;font-family:Menlo,'DejaVu Sans Mono',consolas,'Courier New',monospace\">[[True], [True, True, True, True, True, True, True, ... [True], [], [True, True], []]\n",
       "</pre>\n"
      ],
      "text/plain": [
       "[[True], [True, True, True, True, True, True, True, ... [True], [], [True, True], []]\n"
      ]
     },
     "metadata": {},
     "output_type": "display_data"
    },
    {
     "data": {
      "text/html": [
       "<pre style=\"white-space:pre;overflow-x:auto;line-height:normal;font-family:Menlo,'DejaVu Sans Mono',consolas,'Courier New',monospace\">0\n",
       "</pre>\n"
      ],
      "text/plain": [
       "0\n"
      ]
     },
     "metadata": {},
     "output_type": "display_data"
    },
    {
     "data": {
      "text/html": [
       "<pre style=\"white-space:pre;overflow-x:auto;line-height:normal;font-family:Menlo,'DejaVu Sans Mono',consolas,'Courier New',monospace\">Start:  1645   VV\n",
       "</pre>\n"
      ],
      "text/plain": [
       "Start:  1645   VV\n"
      ]
     },
     "metadata": {},
     "output_type": "display_data"
    },
    {
     "data": {
      "text/html": [
       "<pre style=\"white-space:pre;overflow-x:auto;line-height:normal;font-family:Menlo,'DejaVu Sans Mono',consolas,'Courier New',monospace\">Extra Ele Veto:  1560\n",
       "</pre>\n"
      ],
      "text/plain": [
       "Extra Ele Veto:  1560\n"
      ]
     },
     "metadata": {},
     "output_type": "display_data"
    },
    {
     "data": {
      "text/html": [
       "<pre style=\"white-space:pre;overflow-x:auto;line-height:normal;font-family:Menlo,'DejaVu Sans Mono',consolas,'Courier New',monospace\">Extra Mu Veto:  35\n",
       "</pre>\n"
      ],
      "text/plain": [
       "Extra Mu Veto:  35\n"
      ]
     },
     "metadata": {},
     "output_type": "display_data"
    },
    {
     "data": {
      "text/html": [
       "<pre style=\"white-space:pre;overflow-x:auto;line-height:normal;font-family:Menlo,'DejaVu Sans Mono',consolas,'Courier New',monospace\">BJet Veto:  8\n",
       "</pre>\n"
      ],
      "text/plain": [
       "BJet Veto:  8\n"
      ]
     },
     "metadata": {},
     "output_type": "display_data"
    },
    {
     "data": {
      "text/html": [
       "<pre style=\"white-space:pre;overflow-x:auto;line-height:normal;font-family:Menlo,'DejaVu Sans Mono',consolas,'Courier New',monospace\">Pairs:  12  Vector:  12\n",
       "</pre>\n"
      ],
      "text/plain": [
       "Pairs:  12  Vector:  12\n"
      ]
     },
     "metadata": {},
     "output_type": "display_data"
    },
    {
     "data": {
      "text/html": [
       "<pre style=\"white-space:pre;overflow-x:auto;line-height:normal;font-family:Menlo,'DejaVu Sans Mono',consolas,'Courier New',monospace\">[[], [False, True], [], [], [False], [False, ... [], [True, True], [], [True], []]\n",
       "</pre>\n"
      ],
      "text/plain": [
       "[[], [False, True], [], [], [False], [False, ... [], [True, True], [], [True], []]\n"
      ]
     },
     "metadata": {},
     "output_type": "display_data"
    },
    {
     "data": {
      "text/html": [
       "<pre style=\"white-space:pre;overflow-x:auto;line-height:normal;font-family:Menlo,'DejaVu Sans Mono',consolas,'Courier New',monospace\">0\n",
       "</pre>\n"
      ],
      "text/plain": [
       "0\n"
      ]
     },
     "metadata": {},
     "output_type": "display_data"
    },
    {
     "data": {
      "text/html": [
       "<pre style=\"white-space:pre;overflow-x:auto;line-height:normal;font-family:Menlo,'DejaVu Sans Mono',consolas,'Courier New',monospace\">Start:  1631   VV\n",
       "</pre>\n"
      ],
      "text/plain": [
       "Start:  1631   VV\n"
      ]
     },
     "metadata": {},
     "output_type": "display_data"
    },
    {
     "data": {
      "text/html": [
       "<pre style=\"white-space:pre;overflow-x:auto;line-height:normal;font-family:Menlo,'DejaVu Sans Mono',consolas,'Courier New',monospace\">Extra Ele Veto:  1547\n",
       "</pre>\n"
      ],
      "text/plain": [
       "Extra Ele Veto:  1547\n"
      ]
     },
     "metadata": {},
     "output_type": "display_data"
    },
    {
     "data": {
      "text/html": [
       "<pre style=\"white-space:pre;overflow-x:auto;line-height:normal;font-family:Menlo,'DejaVu Sans Mono',consolas,'Courier New',monospace\">Extra Mu Veto:  29\n",
       "</pre>\n"
      ],
      "text/plain": [
       "Extra Mu Veto:  29\n"
      ]
     },
     "metadata": {},
     "output_type": "display_data"
    },
    {
     "data": {
      "text/html": [
       "<pre style=\"white-space:pre;overflow-x:auto;line-height:normal;font-family:Menlo,'DejaVu Sans Mono',consolas,'Courier New',monospace\">BJet Veto:  4\n",
       "</pre>\n"
      ],
      "text/plain": [
       "BJet Veto:  4\n"
      ]
     },
     "metadata": {},
     "output_type": "display_data"
    },
    {
     "data": {
      "text/html": [
       "<pre style=\"white-space:pre;overflow-x:auto;line-height:normal;font-family:Menlo,'DejaVu Sans Mono',consolas,'Courier New',monospace\">Pairs:  7  Vector:  7\n",
       "</pre>\n"
      ],
      "text/plain": [
       "Pairs:  7  Vector:  7\n"
      ]
     },
     "metadata": {},
     "output_type": "display_data"
    },
    {
     "data": {
      "text/html": [
       "<pre style=\"white-space:pre;overflow-x:auto;line-height:normal;font-family:Menlo,'DejaVu Sans Mono',consolas,'Courier New',monospace\">[[True], [False], [], [False, True], [], [], [], [], [False, True, True], [], []]\n",
       "</pre>\n"
      ],
      "text/plain": [
       "[[True], [False], [], [False, True], [], [], [], [], [False, True, True], [], []]\n"
      ]
     },
     "metadata": {},
     "output_type": "display_data"
    },
    {
     "data": {
      "text/html": [
       "<pre style=\"white-space:pre;overflow-x:auto;line-height:normal;font-family:Menlo,'DejaVu Sans Mono',consolas,'Courier New',monospace\">0\n",
       "</pre>\n"
      ],
      "text/plain": [
       "0\n"
      ]
     },
     "metadata": {},
     "output_type": "display_data"
    },
    {
     "data": {
      "text/html": [
       "<pre style=\"white-space:pre;overflow-x:auto;line-height:normal;font-family:Menlo,'DejaVu Sans Mono',consolas,'Courier New',monospace\">Start:  1706   VV\n",
       "</pre>\n"
      ],
      "text/plain": [
       "Start:  1706   VV\n"
      ]
     },
     "metadata": {},
     "output_type": "display_data"
    },
    {
     "data": {
      "text/html": [
       "<pre style=\"white-space:pre;overflow-x:auto;line-height:normal;font-family:Menlo,'DejaVu Sans Mono',consolas,'Courier New',monospace\">Extra Ele Veto:  1603\n",
       "</pre>\n"
      ],
      "text/plain": [
       "Extra Ele Veto:  1603\n"
      ]
     },
     "metadata": {},
     "output_type": "display_data"
    },
    {
     "data": {
      "text/html": [
       "<pre style=\"white-space:pre;overflow-x:auto;line-height:normal;font-family:Menlo,'DejaVu Sans Mono',consolas,'Courier New',monospace\">Extra Mu Veto:  45\n",
       "</pre>\n"
      ],
      "text/plain": [
       "Extra Mu Veto:  45\n"
      ]
     },
     "metadata": {},
     "output_type": "display_data"
    },
    {
     "data": {
      "text/html": [
       "<pre style=\"white-space:pre;overflow-x:auto;line-height:normal;font-family:Menlo,'DejaVu Sans Mono',consolas,'Courier New',monospace\">BJet Veto:  15\n",
       "</pre>\n"
      ],
      "text/plain": [
       "BJet Veto:  15\n"
      ]
     },
     "metadata": {},
     "output_type": "display_data"
    },
    {
     "data": {
      "text/html": [
       "<pre style=\"white-space:pre;overflow-x:auto;line-height:normal;font-family:Menlo,'DejaVu Sans Mono',consolas,'Courier New',monospace\">Pairs:  33  Vector:  33\n",
       "</pre>\n"
      ],
      "text/plain": [
       "Pairs:  33  Vector:  33\n"
      ]
     },
     "metadata": {},
     "output_type": "display_data"
    },
    {
     "data": {
      "text/html": [
       "<pre style=\"white-space:pre;overflow-x:auto;line-height:normal;font-family:Menlo,'DejaVu Sans Mono',consolas,'Courier New',monospace\">[[True, True, False, True], [], [False, True, ... [], [False], [False, True, True]]\n",
       "</pre>\n"
      ],
      "text/plain": [
       "[[True, True, False, True], [], [False, True, ... [], [False], [False, True, True]]\n"
      ]
     },
     "metadata": {},
     "output_type": "display_data"
    },
    {
     "data": {
      "text/html": [
       "<pre style=\"white-space:pre;overflow-x:auto;line-height:normal;font-family:Menlo,'DejaVu Sans Mono',consolas,'Courier New',monospace\">Postcut: Pairs:  1  Vector:  1\n",
       "</pre>\n"
      ],
      "text/plain": [
       "Postcut: Pairs:  1  Vector:  1\n"
      ]
     },
     "metadata": {},
     "output_type": "display_data"
    },
    {
     "data": {
      "text/html": [
       "<pre style=\"white-space:pre;overflow-x:auto;line-height:normal;font-family:Menlo,'DejaVu Sans Mono',consolas,'Courier New',monospace\">[[], [], [], [], [], [], [], [], [], [], ... [], [], [], [], [], [], [], [], [True]]\n",
       "</pre>\n"
      ],
      "text/plain": [
       "[[], [], [], [], [], [], [], [], [], [], ... [], [], [], [], [], [], [], [], [True]]\n"
      ]
     },
     "metadata": {},
     "output_type": "display_data"
    },
    {
     "data": {
      "text/html": [
       "<pre style=\"white-space:pre;overflow-x:auto;line-height:normal;font-family:Menlo,'DejaVu Sans Mono',consolas,'Courier New',monospace\">[[], [], [], [], [], [], ... muon: {pt: 31.9, eta: -0.37, phi: 1.14, mass: 0.106}}]]\n",
       "</pre>\n"
      ],
      "text/plain": [
       "[[], [], [], [], [], [], ... muon: {pt: 31.9, eta: -0.37, phi: 1.14, mass: 0.106}}]]\n"
      ]
     },
     "metadata": {},
     "output_type": "display_data"
    },
    {
     "data": {
      "text/html": [
       "<pre style=\"white-space:pre;overflow-x:auto;line-height:normal;font-family:Menlo,'DejaVu Sans Mono',consolas,'Courier New',monospace\">Start:  1623   VV\n",
       "</pre>\n"
      ],
      "text/plain": [
       "Start:  1623   VV\n"
      ]
     },
     "metadata": {},
     "output_type": "display_data"
    },
    {
     "data": {
      "text/html": [
       "<pre style=\"white-space:pre;overflow-x:auto;line-height:normal;font-family:Menlo,'DejaVu Sans Mono',consolas,'Courier New',monospace\">Extra Ele Veto:  1534\n",
       "</pre>\n"
      ],
      "text/plain": [
       "Extra Ele Veto:  1534\n"
      ]
     },
     "metadata": {},
     "output_type": "display_data"
    },
    {
     "data": {
      "text/html": [
       "<pre style=\"white-space:pre;overflow-x:auto;line-height:normal;font-family:Menlo,'DejaVu Sans Mono',consolas,'Courier New',monospace\">Extra Mu Veto:  32\n",
       "</pre>\n"
      ],
      "text/plain": [
       "Extra Mu Veto:  32\n"
      ]
     },
     "metadata": {},
     "output_type": "display_data"
    },
    {
     "data": {
      "text/html": [
       "<pre style=\"white-space:pre;overflow-x:auto;line-height:normal;font-family:Menlo,'DejaVu Sans Mono',consolas,'Courier New',monospace\">BJet Veto:  7\n",
       "</pre>\n"
      ],
      "text/plain": [
       "BJet Veto:  7\n"
      ]
     },
     "metadata": {},
     "output_type": "display_data"
    },
    {
     "data": {
      "text/html": [
       "<pre style=\"white-space:pre;overflow-x:auto;line-height:normal;font-family:Menlo,'DejaVu Sans Mono',consolas,'Courier New',monospace\">Pairs:  9  Vector:  9\n",
       "</pre>\n"
      ],
      "text/plain": [
       "Pairs:  9  Vector:  9\n"
      ]
     },
     "metadata": {},
     "output_type": "display_data"
    },
    {
     "data": {
      "text/html": [
       "<pre style=\"white-space:pre;overflow-x:auto;line-height:normal;font-family:Menlo,'DejaVu Sans Mono',consolas,'Courier New',monospace\">[[], [True, True], [], [], [], [], ... [True, False], [], [True, False], [], []]\n",
       "</pre>\n"
      ],
      "text/plain": [
       "[[], [True, True], [], [], [], [], ... [True, False], [], [True, False], [], []]\n"
      ]
     },
     "metadata": {},
     "output_type": "display_data"
    },
    {
     "data": {
      "text/html": [
       "<pre style=\"white-space:pre;overflow-x:auto;line-height:normal;font-family:Menlo,'DejaVu Sans Mono',consolas,'Courier New',monospace\">0\n",
       "</pre>\n"
      ],
      "text/plain": [
       "0\n"
      ]
     },
     "metadata": {},
     "output_type": "display_data"
    },
    {
     "data": {
      "text/html": [
       "<pre style=\"white-space:pre;overflow-x:auto;line-height:normal;font-family:Menlo,'DejaVu Sans Mono',consolas,'Courier New',monospace\">Start:  1667   VV\n",
       "</pre>\n"
      ],
      "text/plain": [
       "Start:  1667   VV\n"
      ]
     },
     "metadata": {},
     "output_type": "display_data"
    },
    {
     "data": {
      "text/html": [
       "<pre style=\"white-space:pre;overflow-x:auto;line-height:normal;font-family:Menlo,'DejaVu Sans Mono',consolas,'Courier New',monospace\">Extra Ele Veto:  1568\n",
       "</pre>\n"
      ],
      "text/plain": [
       "Extra Ele Veto:  1568\n"
      ]
     },
     "metadata": {},
     "output_type": "display_data"
    },
    {
     "data": {
      "text/html": [
       "<pre style=\"white-space:pre;overflow-x:auto;line-height:normal;font-family:Menlo,'DejaVu Sans Mono',consolas,'Courier New',monospace\">Extra Mu Veto:  43\n",
       "</pre>\n"
      ],
      "text/plain": [
       "Extra Mu Veto:  43\n"
      ]
     },
     "metadata": {},
     "output_type": "display_data"
    },
    {
     "data": {
      "text/html": [
       "<pre style=\"white-space:pre;overflow-x:auto;line-height:normal;font-family:Menlo,'DejaVu Sans Mono',consolas,'Courier New',monospace\">BJet Veto:  14\n",
       "</pre>\n"
      ],
      "text/plain": [
       "BJet Veto:  14\n"
      ]
     },
     "metadata": {},
     "output_type": "display_data"
    },
    {
     "data": {
      "text/html": [
       "<pre style=\"white-space:pre;overflow-x:auto;line-height:normal;font-family:Menlo,'DejaVu Sans Mono',consolas,'Courier New',monospace\">Pairs:  16  Vector:  16\n",
       "</pre>\n"
      ],
      "text/plain": [
       "Pairs:  16  Vector:  16\n"
      ]
     },
     "metadata": {},
     "output_type": "display_data"
    },
    {
     "data": {
      "text/html": [
       "<pre style=\"white-space:pre;overflow-x:auto;line-height:normal;font-family:Menlo,'DejaVu Sans Mono',consolas,'Courier New',monospace\">[[], [], [False, True, True], [True], [], ... [], [True, False], [], [True], []]\n",
       "</pre>\n"
      ],
      "text/plain": [
       "[[], [], [False, True, True], [True], [], ... [], [True, False], [], [True], []]\n"
      ]
     },
     "metadata": {},
     "output_type": "display_data"
    },
    {
     "data": {
      "text/html": [
       "<pre style=\"white-space:pre;overflow-x:auto;line-height:normal;font-family:Menlo,'DejaVu Sans Mono',consolas,'Courier New',monospace\">0\n",
       "</pre>\n"
      ],
      "text/plain": [
       "0\n"
      ]
     },
     "metadata": {},
     "output_type": "display_data"
    },
    {
     "data": {
      "text/html": [
       "<pre style=\"white-space:pre;overflow-x:auto;line-height:normal;font-family:Menlo,'DejaVu Sans Mono',consolas,'Courier New',monospace\">Start:  1598   VV\n",
       "</pre>\n"
      ],
      "text/plain": [
       "Start:  1598   VV\n"
      ]
     },
     "metadata": {},
     "output_type": "display_data"
    },
    {
     "data": {
      "text/html": [
       "<pre style=\"white-space:pre;overflow-x:auto;line-height:normal;font-family:Menlo,'DejaVu Sans Mono',consolas,'Courier New',monospace\">Extra Ele Veto:  1525\n",
       "</pre>\n"
      ],
      "text/plain": [
       "Extra Ele Veto:  1525\n"
      ]
     },
     "metadata": {},
     "output_type": "display_data"
    },
    {
     "data": {
      "text/html": [
       "<pre style=\"white-space:pre;overflow-x:auto;line-height:normal;font-family:Menlo,'DejaVu Sans Mono',consolas,'Courier New',monospace\">Extra Mu Veto:  38\n",
       "</pre>\n"
      ],
      "text/plain": [
       "Extra Mu Veto:  38\n"
      ]
     },
     "metadata": {},
     "output_type": "display_data"
    },
    {
     "data": {
      "text/html": [
       "<pre style=\"white-space:pre;overflow-x:auto;line-height:normal;font-family:Menlo,'DejaVu Sans Mono',consolas,'Courier New',monospace\">BJet Veto:  16\n",
       "</pre>\n"
      ],
      "text/plain": [
       "BJet Veto:  16\n"
      ]
     },
     "metadata": {},
     "output_type": "display_data"
    },
    {
     "data": {
      "text/html": [
       "<pre style=\"white-space:pre;overflow-x:auto;line-height:normal;font-family:Menlo,'DejaVu Sans Mono',consolas,'Courier New',monospace\">Pairs:  31  Vector:  31\n",
       "</pre>\n"
      ],
      "text/plain": [
       "Pairs:  31  Vector:  31\n"
      ]
     },
     "metadata": {},
     "output_type": "display_data"
    },
    {
     "data": {
      "text/html": [
       "<pre style=\"white-space:pre;overflow-x:auto;line-height:normal;font-family:Menlo,'DejaVu Sans Mono',consolas,'Courier New',monospace\">[[], [], [True, False], [], [True, ... [False, True, True], [True, True], []]\n",
       "</pre>\n"
      ],
      "text/plain": [
       "[[], [], [True, False], [], [True, ... [False, True, True], [True, True], []]\n"
      ]
     },
     "metadata": {},
     "output_type": "display_data"
    },
    {
     "data": {
      "text/html": [
       "<pre style=\"white-space:pre;overflow-x:auto;line-height:normal;font-family:Menlo,'DejaVu Sans Mono',consolas,'Courier New',monospace\">0\n",
       "</pre>\n"
      ],
      "text/plain": [
       "0\n"
      ]
     },
     "metadata": {},
     "output_type": "display_data"
    },
    {
     "data": {
      "text/html": [
       "<pre style=\"white-space:pre;overflow-x:auto;line-height:normal;font-family:Menlo,'DejaVu Sans Mono',consolas,'Courier New',monospace\">Start:  1711   VV\n",
       "</pre>\n"
      ],
      "text/plain": [
       "Start:  1711   VV\n"
      ]
     },
     "metadata": {},
     "output_type": "display_data"
    },
    {
     "data": {
      "text/html": [
       "<pre style=\"white-space:pre;overflow-x:auto;line-height:normal;font-family:Menlo,'DejaVu Sans Mono',consolas,'Courier New',monospace\">Extra Ele Veto:  1620\n",
       "</pre>\n"
      ],
      "text/plain": [
       "Extra Ele Veto:  1620\n"
      ]
     },
     "metadata": {},
     "output_type": "display_data"
    },
    {
     "data": {
      "text/html": [
       "<pre style=\"white-space:pre;overflow-x:auto;line-height:normal;font-family:Menlo,'DejaVu Sans Mono',consolas,'Courier New',monospace\">Extra Mu Veto:  52\n",
       "</pre>\n"
      ],
      "text/plain": [
       "Extra Mu Veto:  52\n"
      ]
     },
     "metadata": {},
     "output_type": "display_data"
    },
    {
     "data": {
      "text/html": [
       "<pre style=\"white-space:pre;overflow-x:auto;line-height:normal;font-family:Menlo,'DejaVu Sans Mono',consolas,'Courier New',monospace\">BJet Veto:  22\n",
       "</pre>\n"
      ],
      "text/plain": [
       "BJet Veto:  22\n"
      ]
     },
     "metadata": {},
     "output_type": "display_data"
    },
    {
     "data": {
      "text/html": [
       "<pre style=\"white-space:pre;overflow-x:auto;line-height:normal;font-family:Menlo,'DejaVu Sans Mono',consolas,'Courier New',monospace\">Pairs:  51  Vector:  51\n",
       "</pre>\n"
      ],
      "text/plain": [
       "Pairs:  51  Vector:  51\n"
      ]
     },
     "metadata": {},
     "output_type": "display_data"
    },
    {
     "data": {
      "text/html": [
       "<pre style=\"white-space:pre;overflow-x:auto;line-height:normal;font-family:Menlo,'DejaVu Sans Mono',consolas,'Courier New',monospace\">[[False], [], [False], [], [], [True, ... True, True], [], [True], [], [True, True]]\n",
       "</pre>\n"
      ],
      "text/plain": [
       "[[False], [], [False], [], [], [True, ... True, True], [], [True], [], [True, True]]\n"
      ]
     },
     "metadata": {},
     "output_type": "display_data"
    },
    {
     "data": {
      "text/html": [
       "<pre style=\"white-space:pre;overflow-x:auto;line-height:normal;font-family:Menlo,'DejaVu Sans Mono',consolas,'Courier New',monospace\">Postcut: Pairs:  1  Vector:  1\n",
       "</pre>\n"
      ],
      "text/plain": [
       "Postcut: Pairs:  1  Vector:  1\n"
      ]
     },
     "metadata": {},
     "output_type": "display_data"
    },
    {
     "data": {
      "text/html": [
       "<pre style=\"white-space:pre;overflow-x:auto;line-height:normal;font-family:Menlo,'DejaVu Sans Mono',consolas,'Courier New',monospace\">[[], [], [], [], [], [], [], [], [], [], ... [], [], [], [], [], [], [], [], [], []]\n",
       "</pre>\n"
      ],
      "text/plain": [
       "[[], [], [], [], [], [], [], [], [], [], ... [], [], [], [], [], [], [], [], [], []]\n"
      ]
     },
     "metadata": {},
     "output_type": "display_data"
    },
    {
     "data": {
      "text/html": [
       "<pre style=\"white-space:pre;overflow-x:auto;line-height:normal;font-family:Menlo,'DejaVu Sans Mono',consolas,'Courier New',monospace\">[[], [], [], [], [], [], [], [], [], [], ... [], [], [], [], [], [], [], [], [], []]\n",
       "</pre>\n"
      ],
      "text/plain": [
       "[[], [], [], [], [], [], [], [], [], [], ... [], [], [], [], [], [], [], [], [], []]\n"
      ]
     },
     "metadata": {},
     "output_type": "display_data"
    },
    {
     "data": {
      "text/html": [
       "<pre style=\"white-space:pre;overflow-x:auto;line-height:normal;font-family:Menlo,'DejaVu Sans Mono',consolas,'Courier New',monospace\">Start:  1618   VV\n",
       "</pre>\n"
      ],
      "text/plain": [
       "Start:  1618   VV\n"
      ]
     },
     "metadata": {},
     "output_type": "display_data"
    },
    {
     "data": {
      "text/html": [
       "<pre style=\"white-space:pre;overflow-x:auto;line-height:normal;font-family:Menlo,'DejaVu Sans Mono',consolas,'Courier New',monospace\">Extra Ele Veto:  1538\n",
       "</pre>\n"
      ],
      "text/plain": [
       "Extra Ele Veto:  1538\n"
      ]
     },
     "metadata": {},
     "output_type": "display_data"
    },
    {
     "data": {
      "text/html": [
       "<pre style=\"white-space:pre;overflow-x:auto;line-height:normal;font-family:Menlo,'DejaVu Sans Mono',consolas,'Courier New',monospace\">Extra Mu Veto:  31\n",
       "</pre>\n"
      ],
      "text/plain": [
       "Extra Mu Veto:  31\n"
      ]
     },
     "metadata": {},
     "output_type": "display_data"
    },
    {
     "data": {
      "text/html": [
       "<pre style=\"white-space:pre;overflow-x:auto;line-height:normal;font-family:Menlo,'DejaVu Sans Mono',consolas,'Courier New',monospace\">BJet Veto:  13\n",
       "</pre>\n"
      ],
      "text/plain": [
       "BJet Veto:  13\n"
      ]
     },
     "metadata": {},
     "output_type": "display_data"
    },
    {
     "data": {
      "text/html": [
       "<pre style=\"white-space:pre;overflow-x:auto;line-height:normal;font-family:Menlo,'DejaVu Sans Mono',consolas,'Courier New',monospace\">Pairs:  23  Vector:  23\n",
       "</pre>\n"
      ],
      "text/plain": [
       "Pairs:  23  Vector:  23\n"
      ]
     },
     "metadata": {},
     "output_type": "display_data"
    },
    {
     "data": {
      "text/html": [
       "<pre style=\"white-space:pre;overflow-x:auto;line-height:normal;font-family:Menlo,'DejaVu Sans Mono',consolas,'Courier New',monospace\">[[True, True, True], [], [], [], [], [], [], ... [], [], [], [], [], [], [True], []]\n",
       "</pre>\n"
      ],
      "text/plain": [
       "[[True, True, True], [], [], [], [], [], [], ... [], [], [], [], [], [], [True], []]\n"
      ]
     },
     "metadata": {},
     "output_type": "display_data"
    },
    {
     "data": {
      "text/html": [
       "<pre style=\"white-space:pre;overflow-x:auto;line-height:normal;font-family:Menlo,'DejaVu Sans Mono',consolas,'Courier New',monospace\">0\n",
       "</pre>\n"
      ],
      "text/plain": [
       "0\n"
      ]
     },
     "metadata": {},
     "output_type": "display_data"
    },
    {
     "data": {
      "text/html": [
       "<pre style=\"white-space:pre;overflow-x:auto;line-height:normal;font-family:Menlo,'DejaVu Sans Mono',consolas,'Courier New',monospace\">Start:  1654   VV\n",
       "</pre>\n"
      ],
      "text/plain": [
       "Start:  1654   VV\n"
      ]
     },
     "metadata": {},
     "output_type": "display_data"
    },
    {
     "data": {
      "text/html": [
       "<pre style=\"white-space:pre;overflow-x:auto;line-height:normal;font-family:Menlo,'DejaVu Sans Mono',consolas,'Courier New',monospace\">Extra Ele Veto:  1577\n",
       "</pre>\n"
      ],
      "text/plain": [
       "Extra Ele Veto:  1577\n"
      ]
     },
     "metadata": {},
     "output_type": "display_data"
    },
    {
     "data": {
      "text/html": [
       "<pre style=\"white-space:pre;overflow-x:auto;line-height:normal;font-family:Menlo,'DejaVu Sans Mono',consolas,'Courier New',monospace\">Extra Mu Veto:  43\n",
       "</pre>\n"
      ],
      "text/plain": [
       "Extra Mu Veto:  43\n"
      ]
     },
     "metadata": {},
     "output_type": "display_data"
    },
    {
     "data": {
      "text/html": [
       "<pre style=\"white-space:pre;overflow-x:auto;line-height:normal;font-family:Menlo,'DejaVu Sans Mono',consolas,'Courier New',monospace\">BJet Veto:  15\n",
       "</pre>\n"
      ],
      "text/plain": [
       "BJet Veto:  15\n"
      ]
     },
     "metadata": {},
     "output_type": "display_data"
    },
    {
     "data": {
      "text/html": [
       "<pre style=\"white-space:pre;overflow-x:auto;line-height:normal;font-family:Menlo,'DejaVu Sans Mono',consolas,'Courier New',monospace\">Pairs:  36  Vector:  36\n",
       "</pre>\n"
      ],
      "text/plain": [
       "Pairs:  36  Vector:  36\n"
      ]
     },
     "metadata": {},
     "output_type": "display_data"
    },
    {
     "data": {
      "text/html": [
       "<pre style=\"white-space:pre;overflow-x:auto;line-height:normal;font-family:Menlo,'DejaVu Sans Mono',consolas,'Courier New',monospace\">[[False, True, True, True, True], [], [True, ... False, False, False], [], [], []]\n",
       "</pre>\n"
      ],
      "text/plain": [
       "[[False, True, True, True, True], [], [True, ... False, False, False], [], [], []]\n"
      ]
     },
     "metadata": {},
     "output_type": "display_data"
    },
    {
     "data": {
      "text/html": [
       "<pre style=\"white-space:pre;overflow-x:auto;line-height:normal;font-family:Menlo,'DejaVu Sans Mono',consolas,'Courier New',monospace\">Postcut: Pairs:  1  Vector:  1\n",
       "</pre>\n"
      ],
      "text/plain": [
       "Postcut: Pairs:  1  Vector:  1\n"
      ]
     },
     "metadata": {},
     "output_type": "display_data"
    },
    {
     "data": {
      "text/html": [
       "<pre style=\"white-space:pre;overflow-x:auto;line-height:normal;font-family:Menlo,'DejaVu Sans Mono',consolas,'Courier New',monospace\">[[], [], [], [], [], [], [], [], [], [], ... [], [], [], [], [], [], [], [], [], []]\n",
       "</pre>\n"
      ],
      "text/plain": [
       "[[], [], [], [], [], [], [], [], [], [], ... [], [], [], [], [], [], [], [], [], []]\n"
      ]
     },
     "metadata": {},
     "output_type": "display_data"
    },
    {
     "data": {
      "text/html": [
       "<pre style=\"white-space:pre;overflow-x:auto;line-height:normal;font-family:Menlo,'DejaVu Sans Mono',consolas,'Courier New',monospace\">[[], [], [], [], [], [], [], [], [], [], ... [], [], [], [], [], [], [], [], [], []]\n",
       "</pre>\n"
      ],
      "text/plain": [
       "[[], [], [], [], [], [], [], [], [], [], ... [], [], [], [], [], [], [], [], [], []]\n"
      ]
     },
     "metadata": {},
     "output_type": "display_data"
    },
    {
     "data": {
      "text/html": [
       "<pre style=\"white-space:pre;overflow-x:auto;line-height:normal;font-family:Menlo,'DejaVu Sans Mono',consolas,'Courier New',monospace\">Start:  1610   VV\n",
       "</pre>\n"
      ],
      "text/plain": [
       "Start:  1610   VV\n"
      ]
     },
     "metadata": {},
     "output_type": "display_data"
    },
    {
     "data": {
      "text/html": [
       "<pre style=\"white-space:pre;overflow-x:auto;line-height:normal;font-family:Menlo,'DejaVu Sans Mono',consolas,'Courier New',monospace\">Extra Ele Veto:  1524\n",
       "</pre>\n"
      ],
      "text/plain": [
       "Extra Ele Veto:  1524\n"
      ]
     },
     "metadata": {},
     "output_type": "display_data"
    },
    {
     "data": {
      "text/html": [
       "<pre style=\"white-space:pre;overflow-x:auto;line-height:normal;font-family:Menlo,'DejaVu Sans Mono',consolas,'Courier New',monospace\">Extra Mu Veto:  39\n",
       "</pre>\n"
      ],
      "text/plain": [
       "Extra Mu Veto:  39\n"
      ]
     },
     "metadata": {},
     "output_type": "display_data"
    },
    {
     "data": {
      "text/html": [
       "<pre style=\"white-space:pre;overflow-x:auto;line-height:normal;font-family:Menlo,'DejaVu Sans Mono',consolas,'Courier New',monospace\">BJet Veto:  16\n",
       "</pre>\n"
      ],
      "text/plain": [
       "BJet Veto:  16\n"
      ]
     },
     "metadata": {},
     "output_type": "display_data"
    },
    {
     "data": {
      "text/html": [
       "<pre style=\"white-space:pre;overflow-x:auto;line-height:normal;font-family:Menlo,'DejaVu Sans Mono',consolas,'Courier New',monospace\">Pairs:  23  Vector:  23\n",
       "</pre>\n"
      ],
      "text/plain": [
       "Pairs:  23  Vector:  23\n"
      ]
     },
     "metadata": {},
     "output_type": "display_data"
    },
    {
     "data": {
      "text/html": [
       "<pre style=\"white-space:pre;overflow-x:auto;line-height:normal;font-family:Menlo,'DejaVu Sans Mono',consolas,'Courier New',monospace\">[[False, True], [], [False, False], [], ... True], [True], [], [True, True, True]]\n",
       "</pre>\n"
      ],
      "text/plain": [
       "[[False, True], [], [False, False], [], ... True], [True], [], [True, True, True]]\n"
      ]
     },
     "metadata": {},
     "output_type": "display_data"
    },
    {
     "data": {
      "text/html": [
       "<pre style=\"white-space:pre;overflow-x:auto;line-height:normal;font-family:Menlo,'DejaVu Sans Mono',consolas,'Courier New',monospace\">0\n",
       "</pre>\n"
      ],
      "text/plain": [
       "0\n"
      ]
     },
     "metadata": {},
     "output_type": "display_data"
    },
    {
     "data": {
      "text/html": [
       "<pre style=\"white-space:pre;overflow-x:auto;line-height:normal;font-family:Menlo,'DejaVu Sans Mono',consolas,'Courier New',monospace\">Start:  1667   VV\n",
       "</pre>\n"
      ],
      "text/plain": [
       "Start:  1667   VV\n"
      ]
     },
     "metadata": {},
     "output_type": "display_data"
    },
    {
     "data": {
      "text/html": [
       "<pre style=\"white-space:pre;overflow-x:auto;line-height:normal;font-family:Menlo,'DejaVu Sans Mono',consolas,'Courier New',monospace\">Extra Ele Veto:  1558\n",
       "</pre>\n"
      ],
      "text/plain": [
       "Extra Ele Veto:  1558\n"
      ]
     },
     "metadata": {},
     "output_type": "display_data"
    },
    {
     "data": {
      "text/html": [
       "<pre style=\"white-space:pre;overflow-x:auto;line-height:normal;font-family:Menlo,'DejaVu Sans Mono',consolas,'Courier New',monospace\">Extra Mu Veto:  36\n",
       "</pre>\n"
      ],
      "text/plain": [
       "Extra Mu Veto:  36\n"
      ]
     },
     "metadata": {},
     "output_type": "display_data"
    },
    {
     "data": {
      "text/html": [
       "<pre style=\"white-space:pre;overflow-x:auto;line-height:normal;font-family:Menlo,'DejaVu Sans Mono',consolas,'Courier New',monospace\">BJet Veto:  12\n",
       "</pre>\n"
      ],
      "text/plain": [
       "BJet Veto:  12\n"
      ]
     },
     "metadata": {},
     "output_type": "display_data"
    },
    {
     "data": {
      "text/html": [
       "<pre style=\"white-space:pre;overflow-x:auto;line-height:normal;font-family:Menlo,'DejaVu Sans Mono',consolas,'Courier New',monospace\">Pairs:  20  Vector:  20\n",
       "</pre>\n"
      ],
      "text/plain": [
       "Pairs:  20  Vector:  20\n"
      ]
     },
     "metadata": {},
     "output_type": "display_data"
    },
    {
     "data": {
      "text/html": [
       "<pre style=\"white-space:pre;overflow-x:auto;line-height:normal;font-family:Menlo,'DejaVu Sans Mono',consolas,'Courier New',monospace\">[[True, True], [True], [True], [], [], ... True], [], [], [], [True], [True]]\n",
       "</pre>\n"
      ],
      "text/plain": [
       "[[True, True], [True], [True], [], [], ... True], [], [], [], [True], [True]]\n"
      ]
     },
     "metadata": {},
     "output_type": "display_data"
    },
    {
     "data": {
      "text/html": [
       "<pre style=\"white-space:pre;overflow-x:auto;line-height:normal;font-family:Menlo,'DejaVu Sans Mono',consolas,'Courier New',monospace\">0\n",
       "</pre>\n"
      ],
      "text/plain": [
       "0\n"
      ]
     },
     "metadata": {},
     "output_type": "display_data"
    },
    {
     "data": {
      "text/html": [
       "<pre style=\"white-space:pre;overflow-x:auto;line-height:normal;font-family:Menlo,'DejaVu Sans Mono',consolas,'Courier New',monospace\">Start:  1655   VV\n",
       "</pre>\n"
      ],
      "text/plain": [
       "Start:  1655   VV\n"
      ]
     },
     "metadata": {},
     "output_type": "display_data"
    },
    {
     "data": {
      "text/html": [
       "<pre style=\"white-space:pre;overflow-x:auto;line-height:normal;font-family:Menlo,'DejaVu Sans Mono',consolas,'Courier New',monospace\">Extra Ele Veto:  1568\n",
       "</pre>\n"
      ],
      "text/plain": [
       "Extra Ele Veto:  1568\n"
      ]
     },
     "metadata": {},
     "output_type": "display_data"
    },
    {
     "data": {
      "text/html": [
       "<pre style=\"white-space:pre;overflow-x:auto;line-height:normal;font-family:Menlo,'DejaVu Sans Mono',consolas,'Courier New',monospace\">Extra Mu Veto:  31\n",
       "</pre>\n"
      ],
      "text/plain": [
       "Extra Mu Veto:  31\n"
      ]
     },
     "metadata": {},
     "output_type": "display_data"
    },
    {
     "data": {
      "text/html": [
       "<pre style=\"white-space:pre;overflow-x:auto;line-height:normal;font-family:Menlo,'DejaVu Sans Mono',consolas,'Courier New',monospace\">BJet Veto:  9\n",
       "</pre>\n"
      ],
      "text/plain": [
       "BJet Veto:  9\n"
      ]
     },
     "metadata": {},
     "output_type": "display_data"
    },
    {
     "data": {
      "text/html": [
       "<pre style=\"white-space:pre;overflow-x:auto;line-height:normal;font-family:Menlo,'DejaVu Sans Mono',consolas,'Courier New',monospace\">Pairs:  20  Vector:  20\n",
       "</pre>\n"
      ],
      "text/plain": [
       "Pairs:  20  Vector:  20\n"
      ]
     },
     "metadata": {},
     "output_type": "display_data"
    },
    {
     "data": {
      "text/html": [
       "<pre style=\"white-space:pre;overflow-x:auto;line-height:normal;font-family:Menlo,'DejaVu Sans Mono',consolas,'Courier New',monospace\">[[], [], [True], [], [True, False], [], ... [True], [], [], [True, True], [], []]\n",
       "</pre>\n"
      ],
      "text/plain": [
       "[[], [], [True], [], [True, False], [], ... [True], [], [], [True, True], [], []]\n"
      ]
     },
     "metadata": {},
     "output_type": "display_data"
    },
    {
     "data": {
      "text/html": [
       "<pre style=\"white-space:pre;overflow-x:auto;line-height:normal;font-family:Menlo,'DejaVu Sans Mono',consolas,'Courier New',monospace\">0\n",
       "</pre>\n"
      ],
      "text/plain": [
       "0\n"
      ]
     },
     "metadata": {},
     "output_type": "display_data"
    },
    {
     "data": {
      "text/html": [
       "<pre style=\"white-space:pre;overflow-x:auto;line-height:normal;font-family:Menlo,'DejaVu Sans Mono',consolas,'Courier New',monospace\">Start:  1623   VV\n",
       "</pre>\n"
      ],
      "text/plain": [
       "Start:  1623   VV\n"
      ]
     },
     "metadata": {},
     "output_type": "display_data"
    },
    {
     "data": {
      "text/html": [
       "<pre style=\"white-space:pre;overflow-x:auto;line-height:normal;font-family:Menlo,'DejaVu Sans Mono',consolas,'Courier New',monospace\">Extra Ele Veto:  1538\n",
       "</pre>\n"
      ],
      "text/plain": [
       "Extra Ele Veto:  1538\n"
      ]
     },
     "metadata": {},
     "output_type": "display_data"
    },
    {
     "data": {
      "text/html": [
       "<pre style=\"white-space:pre;overflow-x:auto;line-height:normal;font-family:Menlo,'DejaVu Sans Mono',consolas,'Courier New',monospace\">Extra Mu Veto:  36\n",
       "</pre>\n"
      ],
      "text/plain": [
       "Extra Mu Veto:  36\n"
      ]
     },
     "metadata": {},
     "output_type": "display_data"
    },
    {
     "data": {
      "text/html": [
       "<pre style=\"white-space:pre;overflow-x:auto;line-height:normal;font-family:Menlo,'DejaVu Sans Mono',consolas,'Courier New',monospace\">BJet Veto:  9\n",
       "</pre>\n"
      ],
      "text/plain": [
       "BJet Veto:  9\n"
      ]
     },
     "metadata": {},
     "output_type": "display_data"
    },
    {
     "data": {
      "text/html": [
       "<pre style=\"white-space:pre;overflow-x:auto;line-height:normal;font-family:Menlo,'DejaVu Sans Mono',consolas,'Courier New',monospace\">Pairs:  12  Vector:  12\n",
       "</pre>\n"
      ],
      "text/plain": [
       "Pairs:  12  Vector:  12\n"
      ]
     },
     "metadata": {},
     "output_type": "display_data"
    },
    {
     "data": {
      "text/html": [
       "<pre style=\"white-space:pre;overflow-x:auto;line-height:normal;font-family:Menlo,'DejaVu Sans Mono',consolas,'Courier New',monospace\">[[True, True], [], [True, True], [], [], ... [False, False], [True], [], [], []]\n",
       "</pre>\n"
      ],
      "text/plain": [
       "[[True, True], [], [True, True], [], [], ... [False, False], [True], [], [], []]\n"
      ]
     },
     "metadata": {},
     "output_type": "display_data"
    },
    {
     "data": {
      "text/html": [
       "<pre style=\"white-space:pre;overflow-x:auto;line-height:normal;font-family:Menlo,'DejaVu Sans Mono',consolas,'Courier New',monospace\">0\n",
       "</pre>\n"
      ],
      "text/plain": [
       "0\n"
      ]
     },
     "metadata": {},
     "output_type": "display_data"
    },
    {
     "data": {
      "text/html": [
       "<pre style=\"white-space:pre;overflow-x:auto;line-height:normal;font-family:Menlo,'DejaVu Sans Mono',consolas,'Courier New',monospace\">Start:  1613   VV\n",
       "</pre>\n"
      ],
      "text/plain": [
       "Start:  1613   VV\n"
      ]
     },
     "metadata": {},
     "output_type": "display_data"
    },
    {
     "data": {
      "text/html": [
       "<pre style=\"white-space:pre;overflow-x:auto;line-height:normal;font-family:Menlo,'DejaVu Sans Mono',consolas,'Courier New',monospace\">Extra Ele Veto:  1517\n",
       "</pre>\n"
      ],
      "text/plain": [
       "Extra Ele Veto:  1517\n"
      ]
     },
     "metadata": {},
     "output_type": "display_data"
    },
    {
     "data": {
      "text/html": [
       "<pre style=\"white-space:pre;overflow-x:auto;line-height:normal;font-family:Menlo,'DejaVu Sans Mono',consolas,'Courier New',monospace\">Extra Mu Veto:  37\n",
       "</pre>\n"
      ],
      "text/plain": [
       "Extra Mu Veto:  37\n"
      ]
     },
     "metadata": {},
     "output_type": "display_data"
    },
    {
     "data": {
      "text/html": [
       "<pre style=\"white-space:pre;overflow-x:auto;line-height:normal;font-family:Menlo,'DejaVu Sans Mono',consolas,'Courier New',monospace\">BJet Veto:  13\n",
       "</pre>\n"
      ],
      "text/plain": [
       "BJet Veto:  13\n"
      ]
     },
     "metadata": {},
     "output_type": "display_data"
    },
    {
     "data": {
      "text/html": [
       "<pre style=\"white-space:pre;overflow-x:auto;line-height:normal;font-family:Menlo,'DejaVu Sans Mono',consolas,'Courier New',monospace\">Pairs:  31  Vector:  31\n",
       "</pre>\n"
      ],
      "text/plain": [
       "Pairs:  31  Vector:  31\n"
      ]
     },
     "metadata": {},
     "output_type": "display_data"
    },
    {
     "data": {
      "text/html": [
       "<pre style=\"white-space:pre;overflow-x:auto;line-height:normal;font-family:Menlo,'DejaVu Sans Mono',consolas,'Courier New',monospace\">[[], [], [], [], [False], ... True, True], [], [True, True, True, False, False]]\n",
       "</pre>\n"
      ],
      "text/plain": [
       "[[], [], [], [], [False], ... True, True], [], [True, True, True, False, False]]\n"
      ]
     },
     "metadata": {},
     "output_type": "display_data"
    },
    {
     "data": {
      "text/html": [
       "<pre style=\"white-space:pre;overflow-x:auto;line-height:normal;font-family:Menlo,'DejaVu Sans Mono',consolas,'Courier New',monospace\">0\n",
       "</pre>\n"
      ],
      "text/plain": [
       "0\n"
      ]
     },
     "metadata": {},
     "output_type": "display_data"
    },
    {
     "data": {
      "text/html": [
       "<pre style=\"white-space:pre;overflow-x:auto;line-height:normal;font-family:Menlo,'DejaVu Sans Mono',consolas,'Courier New',monospace\">Start:  1656   VV\n",
       "</pre>\n"
      ],
      "text/plain": [
       "Start:  1656   VV\n"
      ]
     },
     "metadata": {},
     "output_type": "display_data"
    },
    {
     "data": {
      "text/html": [
       "<pre style=\"white-space:pre;overflow-x:auto;line-height:normal;font-family:Menlo,'DejaVu Sans Mono',consolas,'Courier New',monospace\">Extra Ele Veto:  1568\n",
       "</pre>\n"
      ],
      "text/plain": [
       "Extra Ele Veto:  1568\n"
      ]
     },
     "metadata": {},
     "output_type": "display_data"
    },
    {
     "data": {
      "text/html": [
       "<pre style=\"white-space:pre;overflow-x:auto;line-height:normal;font-family:Menlo,'DejaVu Sans Mono',consolas,'Courier New',monospace\">Extra Mu Veto:  40\n",
       "</pre>\n"
      ],
      "text/plain": [
       "Extra Mu Veto:  40\n"
      ]
     },
     "metadata": {},
     "output_type": "display_data"
    },
    {
     "data": {
      "text/html": [
       "<pre style=\"white-space:pre;overflow-x:auto;line-height:normal;font-family:Menlo,'DejaVu Sans Mono',consolas,'Courier New',monospace\">BJet Veto:  11\n",
       "</pre>\n"
      ],
      "text/plain": [
       "BJet Veto:  11\n"
      ]
     },
     "metadata": {},
     "output_type": "display_data"
    },
    {
     "data": {
      "text/html": [
       "<pre style=\"white-space:pre;overflow-x:auto;line-height:normal;font-family:Menlo,'DejaVu Sans Mono',consolas,'Courier New',monospace\">Pairs:  16  Vector:  16\n",
       "</pre>\n"
      ],
      "text/plain": [
       "Pairs:  16  Vector:  16\n"
      ]
     },
     "metadata": {},
     "output_type": "display_data"
    },
    {
     "data": {
      "text/html": [
       "<pre style=\"white-space:pre;overflow-x:auto;line-height:normal;font-family:Menlo,'DejaVu Sans Mono',consolas,'Courier New',monospace\">[[True, True], [False, False], [], [True, False, ... False], [], [], [], [], []]\n",
       "</pre>\n"
      ],
      "text/plain": [
       "[[True, True], [False, False], [], [True, False, ... False], [], [], [], [], []]\n"
      ]
     },
     "metadata": {},
     "output_type": "display_data"
    },
    {
     "data": {
      "text/html": [
       "<pre style=\"white-space:pre;overflow-x:auto;line-height:normal;font-family:Menlo,'DejaVu Sans Mono',consolas,'Courier New',monospace\">0\n",
       "</pre>\n"
      ],
      "text/plain": [
       "0\n"
      ]
     },
     "metadata": {},
     "output_type": "display_data"
    },
    {
     "data": {
      "text/html": [
       "<pre style=\"white-space:pre;overflow-x:auto;line-height:normal;font-family:Menlo,'DejaVu Sans Mono',consolas,'Courier New',monospace\">Start:  1579   VV\n",
       "</pre>\n"
      ],
      "text/plain": [
       "Start:  1579   VV\n"
      ]
     },
     "metadata": {},
     "output_type": "display_data"
    },
    {
     "data": {
      "text/html": [
       "<pre style=\"white-space:pre;overflow-x:auto;line-height:normal;font-family:Menlo,'DejaVu Sans Mono',consolas,'Courier New',monospace\">Extra Ele Veto:  1489\n",
       "</pre>\n"
      ],
      "text/plain": [
       "Extra Ele Veto:  1489\n"
      ]
     },
     "metadata": {},
     "output_type": "display_data"
    },
    {
     "data": {
      "text/html": [
       "<pre style=\"white-space:pre;overflow-x:auto;line-height:normal;font-family:Menlo,'DejaVu Sans Mono',consolas,'Courier New',monospace\">Extra Mu Veto:  31\n",
       "</pre>\n"
      ],
      "text/plain": [
       "Extra Mu Veto:  31\n"
      ]
     },
     "metadata": {},
     "output_type": "display_data"
    },
    {
     "data": {
      "text/html": [
       "<pre style=\"white-space:pre;overflow-x:auto;line-height:normal;font-family:Menlo,'DejaVu Sans Mono',consolas,'Courier New',monospace\">BJet Veto:  16\n",
       "</pre>\n"
      ],
      "text/plain": [
       "BJet Veto:  16\n"
      ]
     },
     "metadata": {},
     "output_type": "display_data"
    },
    {
     "data": {
      "text/html": [
       "<pre style=\"white-space:pre;overflow-x:auto;line-height:normal;font-family:Menlo,'DejaVu Sans Mono',consolas,'Courier New',monospace\">Pairs:  24  Vector:  24\n",
       "</pre>\n"
      ],
      "text/plain": [
       "Pairs:  24  Vector:  24\n"
      ]
     },
     "metadata": {},
     "output_type": "display_data"
    },
    {
     "data": {
      "text/html": [
       "<pre style=\"white-space:pre;overflow-x:auto;line-height:normal;font-family:Menlo,'DejaVu Sans Mono',consolas,'Courier New',monospace\">[[True, True], [], [], [True, True], [], ... [], [True], [], [True, True, True], []]\n",
       "</pre>\n"
      ],
      "text/plain": [
       "[[True, True], [], [], [True, True], [], ... [], [True], [], [True, True, True], []]\n"
      ]
     },
     "metadata": {},
     "output_type": "display_data"
    },
    {
     "data": {
      "text/html": [
       "<pre style=\"white-space:pre;overflow-x:auto;line-height:normal;font-family:Menlo,'DejaVu Sans Mono',consolas,'Courier New',monospace\">0\n",
       "</pre>\n"
      ],
      "text/plain": [
       "0\n"
      ]
     },
     "metadata": {},
     "output_type": "display_data"
    },
    {
     "data": {
      "text/html": [
       "<pre style=\"white-space:pre;overflow-x:auto;line-height:normal;font-family:Menlo,'DejaVu Sans Mono',consolas,'Courier New',monospace\">Start:  1641   VV\n",
       "</pre>\n"
      ],
      "text/plain": [
       "Start:  1641   VV\n"
      ]
     },
     "metadata": {},
     "output_type": "display_data"
    },
    {
     "data": {
      "text/html": [
       "<pre style=\"white-space:pre;overflow-x:auto;line-height:normal;font-family:Menlo,'DejaVu Sans Mono',consolas,'Courier New',monospace\">Extra Ele Veto:  1556\n",
       "</pre>\n"
      ],
      "text/plain": [
       "Extra Ele Veto:  1556\n"
      ]
     },
     "metadata": {},
     "output_type": "display_data"
    },
    {
     "data": {
      "text/html": [
       "<pre style=\"white-space:pre;overflow-x:auto;line-height:normal;font-family:Menlo,'DejaVu Sans Mono',consolas,'Courier New',monospace\">Extra Mu Veto:  47\n",
       "</pre>\n"
      ],
      "text/plain": [
       "Extra Mu Veto:  47\n"
      ]
     },
     "metadata": {},
     "output_type": "display_data"
    },
    {
     "data": {
      "text/html": [
       "<pre style=\"white-space:pre;overflow-x:auto;line-height:normal;font-family:Menlo,'DejaVu Sans Mono',consolas,'Courier New',monospace\">BJet Veto:  29\n",
       "</pre>\n"
      ],
      "text/plain": [
       "BJet Veto:  29\n"
      ]
     },
     "metadata": {},
     "output_type": "display_data"
    },
    {
     "data": {
      "text/html": [
       "<pre style=\"white-space:pre;overflow-x:auto;line-height:normal;font-family:Menlo,'DejaVu Sans Mono',consolas,'Courier New',monospace\">Pairs:  58  Vector:  58\n",
       "</pre>\n"
      ],
      "text/plain": [
       "Pairs:  58  Vector:  58\n"
      ]
     },
     "metadata": {},
     "output_type": "display_data"
    },
    {
     "data": {
      "text/html": [
       "<pre style=\"white-space:pre;overflow-x:auto;line-height:normal;font-family:Menlo,'DejaVu Sans Mono',consolas,'Courier New',monospace\">[[False], [False, True], [False, False], ... [True, True], [True, True, False], []]\n",
       "</pre>\n"
      ],
      "text/plain": [
       "[[False], [False, True], [False, False], ... [True, True], [True, True, False], []]\n"
      ]
     },
     "metadata": {},
     "output_type": "display_data"
    },
    {
     "data": {
      "text/html": [
       "<pre style=\"white-space:pre;overflow-x:auto;line-height:normal;font-family:Menlo,'DejaVu Sans Mono',consolas,'Courier New',monospace\">0\n",
       "</pre>\n"
      ],
      "text/plain": [
       "0\n"
      ]
     },
     "metadata": {},
     "output_type": "display_data"
    },
    {
     "data": {
      "text/html": [
       "<pre style=\"white-space:pre;overflow-x:auto;line-height:normal;font-family:Menlo,'DejaVu Sans Mono',consolas,'Courier New',monospace\">Start:  1599   VV\n",
       "</pre>\n"
      ],
      "text/plain": [
       "Start:  1599   VV\n"
      ]
     },
     "metadata": {},
     "output_type": "display_data"
    },
    {
     "data": {
      "text/html": [
       "<pre style=\"white-space:pre;overflow-x:auto;line-height:normal;font-family:Menlo,'DejaVu Sans Mono',consolas,'Courier New',monospace\">Extra Ele Veto:  1498\n",
       "</pre>\n"
      ],
      "text/plain": [
       "Extra Ele Veto:  1498\n"
      ]
     },
     "metadata": {},
     "output_type": "display_data"
    },
    {
     "data": {
      "text/html": [
       "<pre style=\"white-space:pre;overflow-x:auto;line-height:normal;font-family:Menlo,'DejaVu Sans Mono',consolas,'Courier New',monospace\">Extra Mu Veto:  34\n",
       "</pre>\n"
      ],
      "text/plain": [
       "Extra Mu Veto:  34\n"
      ]
     },
     "metadata": {},
     "output_type": "display_data"
    },
    {
     "data": {
      "text/html": [
       "<pre style=\"white-space:pre;overflow-x:auto;line-height:normal;font-family:Menlo,'DejaVu Sans Mono',consolas,'Courier New',monospace\">BJet Veto:  10\n",
       "</pre>\n"
      ],
      "text/plain": [
       "BJet Veto:  10\n"
      ]
     },
     "metadata": {},
     "output_type": "display_data"
    },
    {
     "data": {
      "text/html": [
       "<pre style=\"white-space:pre;overflow-x:auto;line-height:normal;font-family:Menlo,'DejaVu Sans Mono',consolas,'Courier New',monospace\">Pairs:  22  Vector:  22\n",
       "</pre>\n"
      ],
      "text/plain": [
       "Pairs:  22  Vector:  22\n"
      ]
     },
     "metadata": {},
     "output_type": "display_data"
    },
    {
     "data": {
      "text/html": [
       "<pre style=\"white-space:pre;overflow-x:auto;line-height:normal;font-family:Menlo,'DejaVu Sans Mono',consolas,'Courier New',monospace\">[[], [True, True], [], [True, True], ... True, True, True, True], [], [], [], []]\n",
       "</pre>\n"
      ],
      "text/plain": [
       "[[], [True, True], [], [True, True], ... True, True, True, True], [], [], [], []]\n"
      ]
     },
     "metadata": {},
     "output_type": "display_data"
    },
    {
     "data": {
      "text/html": [
       "<pre style=\"white-space:pre;overflow-x:auto;line-height:normal;font-family:Menlo,'DejaVu Sans Mono',consolas,'Courier New',monospace\">0\n",
       "</pre>\n"
      ],
      "text/plain": [
       "0\n"
      ]
     },
     "metadata": {},
     "output_type": "display_data"
    },
    {
     "data": {
      "text/html": [
       "<pre style=\"white-space:pre;overflow-x:auto;line-height:normal;font-family:Menlo,'DejaVu Sans Mono',consolas,'Courier New',monospace\">Start:  1660   VV\n",
       "</pre>\n"
      ],
      "text/plain": [
       "Start:  1660   VV\n"
      ]
     },
     "metadata": {},
     "output_type": "display_data"
    },
    {
     "data": {
      "text/html": [
       "<pre style=\"white-space:pre;overflow-x:auto;line-height:normal;font-family:Menlo,'DejaVu Sans Mono',consolas,'Courier New',monospace\">Extra Ele Veto:  1545\n",
       "</pre>\n"
      ],
      "text/plain": [
       "Extra Ele Veto:  1545\n"
      ]
     },
     "metadata": {},
     "output_type": "display_data"
    },
    {
     "data": {
      "text/html": [
       "<pre style=\"white-space:pre;overflow-x:auto;line-height:normal;font-family:Menlo,'DejaVu Sans Mono',consolas,'Courier New',monospace\">Extra Mu Veto:  39\n",
       "</pre>\n"
      ],
      "text/plain": [
       "Extra Mu Veto:  39\n"
      ]
     },
     "metadata": {},
     "output_type": "display_data"
    },
    {
     "data": {
      "text/html": [
       "<pre style=\"white-space:pre;overflow-x:auto;line-height:normal;font-family:Menlo,'DejaVu Sans Mono',consolas,'Courier New',monospace\">BJet Veto:  15\n",
       "</pre>\n"
      ],
      "text/plain": [
       "BJet Veto:  15\n"
      ]
     },
     "metadata": {},
     "output_type": "display_data"
    },
    {
     "data": {
      "text/html": [
       "<pre style=\"white-space:pre;overflow-x:auto;line-height:normal;font-family:Menlo,'DejaVu Sans Mono',consolas,'Courier New',monospace\">Pairs:  31  Vector:  31\n",
       "</pre>\n"
      ],
      "text/plain": [
       "Pairs:  31  Vector:  31\n"
      ]
     },
     "metadata": {},
     "output_type": "display_data"
    },
    {
     "data": {
      "text/html": [
       "<pre style=\"white-space:pre;overflow-x:auto;line-height:normal;font-family:Menlo,'DejaVu Sans Mono',consolas,'Courier New',monospace\">[[], [], [True, True], [], [], [], ... True], [], [True, True], [False, False], []]\n",
       "</pre>\n"
      ],
      "text/plain": [
       "[[], [], [True, True], [], [], [], ... True], [], [True, True], [False, False], []]\n"
      ]
     },
     "metadata": {},
     "output_type": "display_data"
    },
    {
     "data": {
      "text/html": [
       "<pre style=\"white-space:pre;overflow-x:auto;line-height:normal;font-family:Menlo,'DejaVu Sans Mono',consolas,'Courier New',monospace\">0\n",
       "</pre>\n"
      ],
      "text/plain": [
       "0\n"
      ]
     },
     "metadata": {},
     "output_type": "display_data"
    },
    {
     "data": {
      "text/html": [
       "<pre style=\"white-space:pre;overflow-x:auto;line-height:normal;font-family:Menlo,'DejaVu Sans Mono',consolas,'Courier New',monospace\">Start:  1617   VV\n",
       "</pre>\n"
      ],
      "text/plain": [
       "Start:  1617   VV\n"
      ]
     },
     "metadata": {},
     "output_type": "display_data"
    },
    {
     "data": {
      "text/html": [
       "<pre style=\"white-space:pre;overflow-x:auto;line-height:normal;font-family:Menlo,'DejaVu Sans Mono',consolas,'Courier New',monospace\">Extra Ele Veto:  1518\n",
       "</pre>\n"
      ],
      "text/plain": [
       "Extra Ele Veto:  1518\n"
      ]
     },
     "metadata": {},
     "output_type": "display_data"
    },
    {
     "data": {
      "text/html": [
       "<pre style=\"white-space:pre;overflow-x:auto;line-height:normal;font-family:Menlo,'DejaVu Sans Mono',consolas,'Courier New',monospace\">Extra Mu Veto:  37\n",
       "</pre>\n"
      ],
      "text/plain": [
       "Extra Mu Veto:  37\n"
      ]
     },
     "metadata": {},
     "output_type": "display_data"
    },
    {
     "data": {
      "text/html": [
       "<pre style=\"white-space:pre;overflow-x:auto;line-height:normal;font-family:Menlo,'DejaVu Sans Mono',consolas,'Courier New',monospace\">BJet Veto:  13\n",
       "</pre>\n"
      ],
      "text/plain": [
       "BJet Veto:  13\n"
      ]
     },
     "metadata": {},
     "output_type": "display_data"
    },
    {
     "data": {
      "text/html": [
       "<pre style=\"white-space:pre;overflow-x:auto;line-height:normal;font-family:Menlo,'DejaVu Sans Mono',consolas,'Courier New',monospace\">Pairs:  19  Vector:  19\n",
       "</pre>\n"
      ],
      "text/plain": [
       "Pairs:  19  Vector:  19\n"
      ]
     },
     "metadata": {},
     "output_type": "display_data"
    },
    {
     "data": {
      "text/html": [
       "<pre style=\"white-space:pre;overflow-x:auto;line-height:normal;font-family:Menlo,'DejaVu Sans Mono',consolas,'Courier New',monospace\">[[], [True], [True, False], [], [], [], ... True], [], [], [], [], [False, False]]\n",
       "</pre>\n"
      ],
      "text/plain": [
       "[[], [True], [True, False], [], [], [], ... True], [], [], [], [], [False, False]]\n"
      ]
     },
     "metadata": {},
     "output_type": "display_data"
    },
    {
     "data": {
      "text/html": [
       "<pre style=\"white-space:pre;overflow-x:auto;line-height:normal;font-family:Menlo,'DejaVu Sans Mono',consolas,'Courier New',monospace\">0\n",
       "</pre>\n"
      ],
      "text/plain": [
       "0\n"
      ]
     },
     "metadata": {},
     "output_type": "display_data"
    },
    {
     "data": {
      "text/html": [
       "<pre style=\"white-space:pre;overflow-x:auto;line-height:normal;font-family:Menlo,'DejaVu Sans Mono',consolas,'Courier New',monospace\">Start:  1679   VV\n",
       "</pre>\n"
      ],
      "text/plain": [
       "Start:  1679   VV\n"
      ]
     },
     "metadata": {},
     "output_type": "display_data"
    },
    {
     "data": {
      "text/html": [
       "<pre style=\"white-space:pre;overflow-x:auto;line-height:normal;font-family:Menlo,'DejaVu Sans Mono',consolas,'Courier New',monospace\">Extra Ele Veto:  1568\n",
       "</pre>\n"
      ],
      "text/plain": [
       "Extra Ele Veto:  1568\n"
      ]
     },
     "metadata": {},
     "output_type": "display_data"
    },
    {
     "data": {
      "text/html": [
       "<pre style=\"white-space:pre;overflow-x:auto;line-height:normal;font-family:Menlo,'DejaVu Sans Mono',consolas,'Courier New',monospace\">Extra Mu Veto:  43\n",
       "</pre>\n"
      ],
      "text/plain": [
       "Extra Mu Veto:  43\n"
      ]
     },
     "metadata": {},
     "output_type": "display_data"
    },
    {
     "data": {
      "text/html": [
       "<pre style=\"white-space:pre;overflow-x:auto;line-height:normal;font-family:Menlo,'DejaVu Sans Mono',consolas,'Courier New',monospace\">BJet Veto:  12\n",
       "</pre>\n"
      ],
      "text/plain": [
       "BJet Veto:  12\n"
      ]
     },
     "metadata": {},
     "output_type": "display_data"
    },
    {
     "data": {
      "text/html": [
       "<pre style=\"white-space:pre;overflow-x:auto;line-height:normal;font-family:Menlo,'DejaVu Sans Mono',consolas,'Courier New',monospace\">Pairs:  26  Vector:  26\n",
       "</pre>\n"
      ],
      "text/plain": [
       "Pairs:  26  Vector:  26\n"
      ]
     },
     "metadata": {},
     "output_type": "display_data"
    },
    {
     "data": {
      "text/html": [
       "<pre style=\"white-space:pre;overflow-x:auto;line-height:normal;font-family:Menlo,'DejaVu Sans Mono',consolas,'Courier New',monospace\">[[], [True, False], [], [True, True], [], ... False], [], [], [], [], [True, True]]\n",
       "</pre>\n"
      ],
      "text/plain": [
       "[[], [True, False], [], [True, True], [], ... False], [], [], [], [], [True, True]]\n"
      ]
     },
     "metadata": {},
     "output_type": "display_data"
    },
    {
     "data": {
      "text/html": [
       "<pre style=\"white-space:pre;overflow-x:auto;line-height:normal;font-family:Menlo,'DejaVu Sans Mono',consolas,'Courier New',monospace\">0\n",
       "</pre>\n"
      ],
      "text/plain": [
       "0\n"
      ]
     },
     "metadata": {},
     "output_type": "display_data"
    },
    {
     "data": {
      "text/html": [
       "<pre style=\"white-space:pre;overflow-x:auto;line-height:normal;font-family:Menlo,'DejaVu Sans Mono',consolas,'Courier New',monospace\">Start:  1675   VV\n",
       "</pre>\n"
      ],
      "text/plain": [
       "Start:  1675   VV\n"
      ]
     },
     "metadata": {},
     "output_type": "display_data"
    },
    {
     "data": {
      "text/html": [
       "<pre style=\"white-space:pre;overflow-x:auto;line-height:normal;font-family:Menlo,'DejaVu Sans Mono',consolas,'Courier New',monospace\">Extra Ele Veto:  1574\n",
       "</pre>\n"
      ],
      "text/plain": [
       "Extra Ele Veto:  1574\n"
      ]
     },
     "metadata": {},
     "output_type": "display_data"
    },
    {
     "data": {
      "text/html": [
       "<pre style=\"white-space:pre;overflow-x:auto;line-height:normal;font-family:Menlo,'DejaVu Sans Mono',consolas,'Courier New',monospace\">Extra Mu Veto:  44\n",
       "</pre>\n"
      ],
      "text/plain": [
       "Extra Mu Veto:  44\n"
      ]
     },
     "metadata": {},
     "output_type": "display_data"
    },
    {
     "data": {
      "text/html": [
       "<pre style=\"white-space:pre;overflow-x:auto;line-height:normal;font-family:Menlo,'DejaVu Sans Mono',consolas,'Courier New',monospace\">BJet Veto:  13\n",
       "</pre>\n"
      ],
      "text/plain": [
       "BJet Veto:  13\n"
      ]
     },
     "metadata": {},
     "output_type": "display_data"
    },
    {
     "data": {
      "text/html": [
       "<pre style=\"white-space:pre;overflow-x:auto;line-height:normal;font-family:Menlo,'DejaVu Sans Mono',consolas,'Courier New',monospace\">Pairs:  20  Vector:  20\n",
       "</pre>\n"
      ],
      "text/plain": [
       "Pairs:  20  Vector:  20\n"
      ]
     },
     "metadata": {},
     "output_type": "display_data"
    },
    {
     "data": {
      "text/html": [
       "<pre style=\"white-space:pre;overflow-x:auto;line-height:normal;font-family:Menlo,'DejaVu Sans Mono',consolas,'Courier New',monospace\">[[], [], [True, True], [True], [False, False, ... True], [True], [], [], [], []]\n",
       "</pre>\n"
      ],
      "text/plain": [
       "[[], [], [True, True], [True], [False, False, ... True], [True], [], [], [], []]\n"
      ]
     },
     "metadata": {},
     "output_type": "display_data"
    },
    {
     "data": {
      "text/html": [
       "<pre style=\"white-space:pre;overflow-x:auto;line-height:normal;font-family:Menlo,'DejaVu Sans Mono',consolas,'Courier New',monospace\">0\n",
       "</pre>\n"
      ],
      "text/plain": [
       "0\n"
      ]
     },
     "metadata": {},
     "output_type": "display_data"
    },
    {
     "data": {
      "text/html": [
       "<pre style=\"white-space:pre;overflow-x:auto;line-height:normal;font-family:Menlo,'DejaVu Sans Mono',consolas,'Courier New',monospace\">Start:  1709   VV\n",
       "</pre>\n"
      ],
      "text/plain": [
       "Start:  1709   VV\n"
      ]
     },
     "metadata": {},
     "output_type": "display_data"
    },
    {
     "data": {
      "text/html": [
       "<pre style=\"white-space:pre;overflow-x:auto;line-height:normal;font-family:Menlo,'DejaVu Sans Mono',consolas,'Courier New',monospace\">Extra Ele Veto:  1614\n",
       "</pre>\n"
      ],
      "text/plain": [
       "Extra Ele Veto:  1614\n"
      ]
     },
     "metadata": {},
     "output_type": "display_data"
    },
    {
     "data": {
      "text/html": [
       "<pre style=\"white-space:pre;overflow-x:auto;line-height:normal;font-family:Menlo,'DejaVu Sans Mono',consolas,'Courier New',monospace\">Extra Mu Veto:  39\n",
       "</pre>\n"
      ],
      "text/plain": [
       "Extra Mu Veto:  39\n"
      ]
     },
     "metadata": {},
     "output_type": "display_data"
    },
    {
     "data": {
      "text/html": [
       "<pre style=\"white-space:pre;overflow-x:auto;line-height:normal;font-family:Menlo,'DejaVu Sans Mono',consolas,'Courier New',monospace\">BJet Veto:  9\n",
       "</pre>\n"
      ],
      "text/plain": [
       "BJet Veto:  9\n"
      ]
     },
     "metadata": {},
     "output_type": "display_data"
    },
    {
     "data": {
      "text/html": [
       "<pre style=\"white-space:pre;overflow-x:auto;line-height:normal;font-family:Menlo,'DejaVu Sans Mono',consolas,'Courier New',monospace\">Pairs:  11  Vector:  11\n",
       "</pre>\n"
      ],
      "text/plain": [
       "Pairs:  11  Vector:  11\n"
      ]
     },
     "metadata": {},
     "output_type": "display_data"
    },
    {
     "data": {
      "text/html": [
       "<pre style=\"white-space:pre;overflow-x:auto;line-height:normal;font-family:Menlo,'DejaVu Sans Mono',consolas,'Courier New',monospace\">[[True], [], [False], [], [], ... [False, False], [], [True, False, True], []]\n",
       "</pre>\n"
      ],
      "text/plain": [
       "[[True], [], [False], [], [], ... [False, False], [], [True, False, True], []]\n"
      ]
     },
     "metadata": {},
     "output_type": "display_data"
    },
    {
     "data": {
      "text/html": [
       "<pre style=\"white-space:pre;overflow-x:auto;line-height:normal;font-family:Menlo,'DejaVu Sans Mono',consolas,'Courier New',monospace\">0\n",
       "</pre>\n"
      ],
      "text/plain": [
       "0\n"
      ]
     },
     "metadata": {},
     "output_type": "display_data"
    },
    {
     "data": {
      "text/html": [
       "<pre style=\"white-space:pre;overflow-x:auto;line-height:normal;font-family:Menlo,'DejaVu Sans Mono',consolas,'Courier New',monospace\">Start:  1703   VV\n",
       "</pre>\n"
      ],
      "text/plain": [
       "Start:  1703   VV\n"
      ]
     },
     "metadata": {},
     "output_type": "display_data"
    },
    {
     "data": {
      "text/html": [
       "<pre style=\"white-space:pre;overflow-x:auto;line-height:normal;font-family:Menlo,'DejaVu Sans Mono',consolas,'Courier New',monospace\">Extra Ele Veto:  1603\n",
       "</pre>\n"
      ],
      "text/plain": [
       "Extra Ele Veto:  1603\n"
      ]
     },
     "metadata": {},
     "output_type": "display_data"
    },
    {
     "data": {
      "text/html": [
       "<pre style=\"white-space:pre;overflow-x:auto;line-height:normal;font-family:Menlo,'DejaVu Sans Mono',consolas,'Courier New',monospace\">Extra Mu Veto:  44\n",
       "</pre>\n"
      ],
      "text/plain": [
       "Extra Mu Veto:  44\n"
      ]
     },
     "metadata": {},
     "output_type": "display_data"
    },
    {
     "data": {
      "text/html": [
       "<pre style=\"white-space:pre;overflow-x:auto;line-height:normal;font-family:Menlo,'DejaVu Sans Mono',consolas,'Courier New',monospace\">BJet Veto:  20\n",
       "</pre>\n"
      ],
      "text/plain": [
       "BJet Veto:  20\n"
      ]
     },
     "metadata": {},
     "output_type": "display_data"
    },
    {
     "data": {
      "text/html": [
       "<pre style=\"white-space:pre;overflow-x:auto;line-height:normal;font-family:Menlo,'DejaVu Sans Mono',consolas,'Courier New',monospace\">Pairs:  44  Vector:  44\n",
       "</pre>\n"
      ],
      "text/plain": [
       "Pairs:  44  Vector:  44\n"
      ]
     },
     "metadata": {},
     "output_type": "display_data"
    },
    {
     "data": {
      "text/html": [
       "<pre style=\"white-space:pre;overflow-x:auto;line-height:normal;font-family:Menlo,'DejaVu Sans Mono',consolas,'Courier New',monospace\">[[False, True], [True], [], [], ... [True, False, False, True], [False, False]]\n",
       "</pre>\n"
      ],
      "text/plain": [
       "[[False, True], [True], [], [], ... [True, False, False, True], [False, False]]\n"
      ]
     },
     "metadata": {},
     "output_type": "display_data"
    },
    {
     "data": {
      "text/html": [
       "<pre style=\"white-space:pre;overflow-x:auto;line-height:normal;font-family:Menlo,'DejaVu Sans Mono',consolas,'Courier New',monospace\">0\n",
       "</pre>\n"
      ],
      "text/plain": [
       "0\n"
      ]
     },
     "metadata": {},
     "output_type": "display_data"
    },
    {
     "data": {
      "text/html": [
       "<pre style=\"white-space:pre;overflow-x:auto;line-height:normal;font-family:Menlo,'DejaVu Sans Mono',consolas,'Courier New',monospace\">Start:  1648   VV\n",
       "</pre>\n"
      ],
      "text/plain": [
       "Start:  1648   VV\n"
      ]
     },
     "metadata": {},
     "output_type": "display_data"
    },
    {
     "data": {
      "text/html": [
       "<pre style=\"white-space:pre;overflow-x:auto;line-height:normal;font-family:Menlo,'DejaVu Sans Mono',consolas,'Courier New',monospace\">Extra Ele Veto:  1562\n",
       "</pre>\n"
      ],
      "text/plain": [
       "Extra Ele Veto:  1562\n"
      ]
     },
     "metadata": {},
     "output_type": "display_data"
    },
    {
     "data": {
      "text/html": [
       "<pre style=\"white-space:pre;overflow-x:auto;line-height:normal;font-family:Menlo,'DejaVu Sans Mono',consolas,'Courier New',monospace\">Extra Mu Veto:  48\n",
       "</pre>\n"
      ],
      "text/plain": [
       "Extra Mu Veto:  48\n"
      ]
     },
     "metadata": {},
     "output_type": "display_data"
    },
    {
     "data": {
      "text/html": [
       "<pre style=\"white-space:pre;overflow-x:auto;line-height:normal;font-family:Menlo,'DejaVu Sans Mono',consolas,'Courier New',monospace\">BJet Veto:  20\n",
       "</pre>\n"
      ],
      "text/plain": [
       "BJet Veto:  20\n"
      ]
     },
     "metadata": {},
     "output_type": "display_data"
    },
    {
     "data": {
      "text/html": [
       "<pre style=\"white-space:pre;overflow-x:auto;line-height:normal;font-family:Menlo,'DejaVu Sans Mono',consolas,'Courier New',monospace\">Pairs:  49  Vector:  49\n",
       "</pre>\n"
      ],
      "text/plain": [
       "Pairs:  49  Vector:  49\n"
      ]
     },
     "metadata": {},
     "output_type": "display_data"
    },
    {
     "data": {
      "text/html": [
       "<pre style=\"white-space:pre;overflow-x:auto;line-height:normal;font-family:Menlo,'DejaVu Sans Mono',consolas,'Courier New',monospace\">[[], [True, True, False], [False, True, ... [True, True], [True, False, False]]\n",
       "</pre>\n"
      ],
      "text/plain": [
       "[[], [True, True, False], [False, True, ... [True, True], [True, False, False]]\n"
      ]
     },
     "metadata": {},
     "output_type": "display_data"
    },
    {
     "data": {
      "text/html": [
       "<pre style=\"white-space:pre;overflow-x:auto;line-height:normal;font-family:Menlo,'DejaVu Sans Mono',consolas,'Courier New',monospace\">0\n",
       "</pre>\n"
      ],
      "text/plain": [
       "0\n"
      ]
     },
     "metadata": {},
     "output_type": "display_data"
    },
    {
     "data": {
      "text/html": [
       "<pre style=\"white-space:pre;overflow-x:auto;line-height:normal;font-family:Menlo,'DejaVu Sans Mono',consolas,'Courier New',monospace\">Start:  1635   VV\n",
       "</pre>\n"
      ],
      "text/plain": [
       "Start:  1635   VV\n"
      ]
     },
     "metadata": {},
     "output_type": "display_data"
    },
    {
     "data": {
      "text/html": [
       "<pre style=\"white-space:pre;overflow-x:auto;line-height:normal;font-family:Menlo,'DejaVu Sans Mono',consolas,'Courier New',monospace\">Extra Ele Veto:  1555\n",
       "</pre>\n"
      ],
      "text/plain": [
       "Extra Ele Veto:  1555\n"
      ]
     },
     "metadata": {},
     "output_type": "display_data"
    },
    {
     "data": {
      "text/html": [
       "<pre style=\"white-space:pre;overflow-x:auto;line-height:normal;font-family:Menlo,'DejaVu Sans Mono',consolas,'Courier New',monospace\">Extra Mu Veto:  39\n",
       "</pre>\n"
      ],
      "text/plain": [
       "Extra Mu Veto:  39\n"
      ]
     },
     "metadata": {},
     "output_type": "display_data"
    },
    {
     "data": {
      "text/html": [
       "<pre style=\"white-space:pre;overflow-x:auto;line-height:normal;font-family:Menlo,'DejaVu Sans Mono',consolas,'Courier New',monospace\">BJet Veto:  13\n",
       "</pre>\n"
      ],
      "text/plain": [
       "BJet Veto:  13\n"
      ]
     },
     "metadata": {},
     "output_type": "display_data"
    },
    {
     "data": {
      "text/html": [
       "<pre style=\"white-space:pre;overflow-x:auto;line-height:normal;font-family:Menlo,'DejaVu Sans Mono',consolas,'Courier New',monospace\">Pairs:  25  Vector:  25\n",
       "</pre>\n"
      ],
      "text/plain": [
       "Pairs:  25  Vector:  25\n"
      ]
     },
     "metadata": {},
     "output_type": "display_data"
    },
    {
     "data": {
      "text/html": [
       "<pre style=\"white-space:pre;overflow-x:auto;line-height:normal;font-family:Menlo,'DejaVu Sans Mono',consolas,'Courier New',monospace\">[[False, False], [], [True, True], [], ... False, True], [], [], [True, True], []]\n",
       "</pre>\n"
      ],
      "text/plain": [
       "[[False, False], [], [True, True], [], ... False, True], [], [], [True, True], []]\n"
      ]
     },
     "metadata": {},
     "output_type": "display_data"
    },
    {
     "data": {
      "text/html": [
       "<pre style=\"white-space:pre;overflow-x:auto;line-height:normal;font-family:Menlo,'DejaVu Sans Mono',consolas,'Courier New',monospace\">0\n",
       "</pre>\n"
      ],
      "text/plain": [
       "0\n"
      ]
     },
     "metadata": {},
     "output_type": "display_data"
    },
    {
     "data": {
      "text/html": [
       "<pre style=\"white-space:pre;overflow-x:auto;line-height:normal;font-family:Menlo,'DejaVu Sans Mono',consolas,'Courier New',monospace\">Start:  1613   VV\n",
       "</pre>\n"
      ],
      "text/plain": [
       "Start:  1613   VV\n"
      ]
     },
     "metadata": {},
     "output_type": "display_data"
    },
    {
     "data": {
      "text/html": [
       "<pre style=\"white-space:pre;overflow-x:auto;line-height:normal;font-family:Menlo,'DejaVu Sans Mono',consolas,'Courier New',monospace\">Extra Ele Veto:  1537\n",
       "</pre>\n"
      ],
      "text/plain": [
       "Extra Ele Veto:  1537\n"
      ]
     },
     "metadata": {},
     "output_type": "display_data"
    },
    {
     "data": {
      "text/html": [
       "<pre style=\"white-space:pre;overflow-x:auto;line-height:normal;font-family:Menlo,'DejaVu Sans Mono',consolas,'Courier New',monospace\">Extra Mu Veto:  42\n",
       "</pre>\n"
      ],
      "text/plain": [
       "Extra Mu Veto:  42\n"
      ]
     },
     "metadata": {},
     "output_type": "display_data"
    },
    {
     "data": {
      "text/html": [
       "<pre style=\"white-space:pre;overflow-x:auto;line-height:normal;font-family:Menlo,'DejaVu Sans Mono',consolas,'Courier New',monospace\">BJet Veto:  12\n",
       "</pre>\n"
      ],
      "text/plain": [
       "BJet Veto:  12\n"
      ]
     },
     "metadata": {},
     "output_type": "display_data"
    },
    {
     "data": {
      "text/html": [
       "<pre style=\"white-space:pre;overflow-x:auto;line-height:normal;font-family:Menlo,'DejaVu Sans Mono',consolas,'Courier New',monospace\">Pairs:  21  Vector:  21\n",
       "</pre>\n"
      ],
      "text/plain": [
       "Pairs:  21  Vector:  21\n"
      ]
     },
     "metadata": {},
     "output_type": "display_data"
    },
    {
     "data": {
      "text/html": [
       "<pre style=\"white-space:pre;overflow-x:auto;line-height:normal;font-family:Menlo,'DejaVu Sans Mono',consolas,'Courier New',monospace\">[[], [], [], [], [True, True, False, False, ... True], [True], [], [False], [False]]\n",
       "</pre>\n"
      ],
      "text/plain": [
       "[[], [], [], [], [True, True, False, False, ... True], [True], [], [False], [False]]\n"
      ]
     },
     "metadata": {},
     "output_type": "display_data"
    },
    {
     "data": {
      "text/html": [
       "<pre style=\"white-space:pre;overflow-x:auto;line-height:normal;font-family:Menlo,'DejaVu Sans Mono',consolas,'Courier New',monospace\">0\n",
       "</pre>\n"
      ],
      "text/plain": [
       "0\n"
      ]
     },
     "metadata": {},
     "output_type": "display_data"
    },
    {
     "data": {
      "text/html": [
       "<pre style=\"white-space:pre;overflow-x:auto;line-height:normal;font-family:Menlo,'DejaVu Sans Mono',consolas,'Courier New',monospace\">Start:  1632   VV\n",
       "</pre>\n"
      ],
      "text/plain": [
       "Start:  1632   VV\n"
      ]
     },
     "metadata": {},
     "output_type": "display_data"
    },
    {
     "data": {
      "text/html": [
       "<pre style=\"white-space:pre;overflow-x:auto;line-height:normal;font-family:Menlo,'DejaVu Sans Mono',consolas,'Courier New',monospace\">Extra Ele Veto:  1544\n",
       "</pre>\n"
      ],
      "text/plain": [
       "Extra Ele Veto:  1544\n"
      ]
     },
     "metadata": {},
     "output_type": "display_data"
    },
    {
     "data": {
      "text/html": [
       "<pre style=\"white-space:pre;overflow-x:auto;line-height:normal;font-family:Menlo,'DejaVu Sans Mono',consolas,'Courier New',monospace\">Extra Mu Veto:  51\n",
       "</pre>\n"
      ],
      "text/plain": [
       "Extra Mu Veto:  51\n"
      ]
     },
     "metadata": {},
     "output_type": "display_data"
    },
    {
     "data": {
      "text/html": [
       "<pre style=\"white-space:pre;overflow-x:auto;line-height:normal;font-family:Menlo,'DejaVu Sans Mono',consolas,'Courier New',monospace\">BJet Veto:  18\n",
       "</pre>\n"
      ],
      "text/plain": [
       "BJet Veto:  18\n"
      ]
     },
     "metadata": {},
     "output_type": "display_data"
    },
    {
     "data": {
      "text/html": [
       "<pre style=\"white-space:pre;overflow-x:auto;line-height:normal;font-family:Menlo,'DejaVu Sans Mono',consolas,'Courier New',monospace\">Pairs:  22  Vector:  22\n",
       "</pre>\n"
      ],
      "text/plain": [
       "Pairs:  22  Vector:  22\n"
      ]
     },
     "metadata": {},
     "output_type": "display_data"
    },
    {
     "data": {
      "text/html": [
       "<pre style=\"white-space:pre;overflow-x:auto;line-height:normal;font-family:Menlo,'DejaVu Sans Mono',consolas,'Courier New',monospace\">[[], [], [True, True, True, True], [], ... True], [False, True, True], [], [], []]\n",
       "</pre>\n"
      ],
      "text/plain": [
       "[[], [], [True, True, True, True], [], ... True], [False, True, True], [], [], []]\n"
      ]
     },
     "metadata": {},
     "output_type": "display_data"
    },
    {
     "data": {
      "text/html": [
       "<pre style=\"white-space:pre;overflow-x:auto;line-height:normal;font-family:Menlo,'DejaVu Sans Mono',consolas,'Courier New',monospace\">0\n",
       "</pre>\n"
      ],
      "text/plain": [
       "0\n"
      ]
     },
     "metadata": {},
     "output_type": "display_data"
    },
    {
     "data": {
      "text/html": [
       "<pre style=\"white-space:pre;overflow-x:auto;line-height:normal;font-family:Menlo,'DejaVu Sans Mono',consolas,'Courier New',monospace\">Start:  1588   VV\n",
       "</pre>\n"
      ],
      "text/plain": [
       "Start:  1588   VV\n"
      ]
     },
     "metadata": {},
     "output_type": "display_data"
    },
    {
     "data": {
      "text/html": [
       "<pre style=\"white-space:pre;overflow-x:auto;line-height:normal;font-family:Menlo,'DejaVu Sans Mono',consolas,'Courier New',monospace\">Extra Ele Veto:  1501\n",
       "</pre>\n"
      ],
      "text/plain": [
       "Extra Ele Veto:  1501\n"
      ]
     },
     "metadata": {},
     "output_type": "display_data"
    },
    {
     "data": {
      "text/html": [
       "<pre style=\"white-space:pre;overflow-x:auto;line-height:normal;font-family:Menlo,'DejaVu Sans Mono',consolas,'Courier New',monospace\">Extra Mu Veto:  32\n",
       "</pre>\n"
      ],
      "text/plain": [
       "Extra Mu Veto:  32\n"
      ]
     },
     "metadata": {},
     "output_type": "display_data"
    },
    {
     "data": {
      "text/html": [
       "<pre style=\"white-space:pre;overflow-x:auto;line-height:normal;font-family:Menlo,'DejaVu Sans Mono',consolas,'Courier New',monospace\">BJet Veto:  13\n",
       "</pre>\n"
      ],
      "text/plain": [
       "BJet Veto:  13\n"
      ]
     },
     "metadata": {},
     "output_type": "display_data"
    },
    {
     "data": {
      "text/html": [
       "<pre style=\"white-space:pre;overflow-x:auto;line-height:normal;font-family:Menlo,'DejaVu Sans Mono',consolas,'Courier New',monospace\">Pairs:  24  Vector:  24\n",
       "</pre>\n"
      ],
      "text/plain": [
       "Pairs:  24  Vector:  24\n"
      ]
     },
     "metadata": {},
     "output_type": "display_data"
    },
    {
     "data": {
      "text/html": [
       "<pre style=\"white-space:pre;overflow-x:auto;line-height:normal;font-family:Menlo,'DejaVu Sans Mono',consolas,'Courier New',monospace\">[[True], [], [True], [], [], [], ... False], [True, False], [], [False, True, True]]\n",
       "</pre>\n"
      ],
      "text/plain": [
       "[[True], [], [True], [], [], [], ... False], [True, False], [], [False, True, True]]\n"
      ]
     },
     "metadata": {},
     "output_type": "display_data"
    },
    {
     "data": {
      "text/html": [
       "<pre style=\"white-space:pre;overflow-x:auto;line-height:normal;font-family:Menlo,'DejaVu Sans Mono',consolas,'Courier New',monospace\">0\n",
       "</pre>\n"
      ],
      "text/plain": [
       "0\n"
      ]
     },
     "metadata": {},
     "output_type": "display_data"
    },
    {
     "data": {
      "text/html": [
       "<pre style=\"white-space:pre;overflow-x:auto;line-height:normal;font-family:Menlo,'DejaVu Sans Mono',consolas,'Courier New',monospace\">Start:  1665   VV\n",
       "</pre>\n"
      ],
      "text/plain": [
       "Start:  1665   VV\n"
      ]
     },
     "metadata": {},
     "output_type": "display_data"
    },
    {
     "data": {
      "text/html": [
       "<pre style=\"white-space:pre;overflow-x:auto;line-height:normal;font-family:Menlo,'DejaVu Sans Mono',consolas,'Courier New',monospace\">Extra Ele Veto:  1587\n",
       "</pre>\n"
      ],
      "text/plain": [
       "Extra Ele Veto:  1587\n"
      ]
     },
     "metadata": {},
     "output_type": "display_data"
    },
    {
     "data": {
      "text/html": [
       "<pre style=\"white-space:pre;overflow-x:auto;line-height:normal;font-family:Menlo,'DejaVu Sans Mono',consolas,'Courier New',monospace\">Extra Mu Veto:  48\n",
       "</pre>\n"
      ],
      "text/plain": [
       "Extra Mu Veto:  48\n"
      ]
     },
     "metadata": {},
     "output_type": "display_data"
    },
    {
     "data": {
      "text/html": [
       "<pre style=\"white-space:pre;overflow-x:auto;line-height:normal;font-family:Menlo,'DejaVu Sans Mono',consolas,'Courier New',monospace\">BJet Veto:  18\n",
       "</pre>\n"
      ],
      "text/plain": [
       "BJet Veto:  18\n"
      ]
     },
     "metadata": {},
     "output_type": "display_data"
    },
    {
     "data": {
      "text/html": [
       "<pre style=\"white-space:pre;overflow-x:auto;line-height:normal;font-family:Menlo,'DejaVu Sans Mono',consolas,'Courier New',monospace\">Pairs:  41  Vector:  41\n",
       "</pre>\n"
      ],
      "text/plain": [
       "Pairs:  41  Vector:  41\n"
      ]
     },
     "metadata": {},
     "output_type": "display_data"
    },
    {
     "data": {
      "text/html": [
       "<pre style=\"white-space:pre;overflow-x:auto;line-height:normal;font-family:Menlo,'DejaVu Sans Mono',consolas,'Courier New',monospace\">[[], [], [], [True, False], [True], ... [False, False], [], [False, True, False]]\n",
       "</pre>\n"
      ],
      "text/plain": [
       "[[], [], [], [True, False], [True], ... [False, False], [], [False, True, False]]\n"
      ]
     },
     "metadata": {},
     "output_type": "display_data"
    },
    {
     "data": {
      "text/html": [
       "<pre style=\"white-space:pre;overflow-x:auto;line-height:normal;font-family:Menlo,'DejaVu Sans Mono',consolas,'Courier New',monospace\">0\n",
       "</pre>\n"
      ],
      "text/plain": [
       "0\n"
      ]
     },
     "metadata": {},
     "output_type": "display_data"
    },
    {
     "data": {
      "text/html": [
       "<pre style=\"white-space:pre;overflow-x:auto;line-height:normal;font-family:Menlo,'DejaVu Sans Mono',consolas,'Courier New',monospace\">Start:  1690   VV\n",
       "</pre>\n"
      ],
      "text/plain": [
       "Start:  1690   VV\n"
      ]
     },
     "metadata": {},
     "output_type": "display_data"
    },
    {
     "data": {
      "text/html": [
       "<pre style=\"white-space:pre;overflow-x:auto;line-height:normal;font-family:Menlo,'DejaVu Sans Mono',consolas,'Courier New',monospace\">Extra Ele Veto:  1593\n",
       "</pre>\n"
      ],
      "text/plain": [
       "Extra Ele Veto:  1593\n"
      ]
     },
     "metadata": {},
     "output_type": "display_data"
    },
    {
     "data": {
      "text/html": [
       "<pre style=\"white-space:pre;overflow-x:auto;line-height:normal;font-family:Menlo,'DejaVu Sans Mono',consolas,'Courier New',monospace\">Extra Mu Veto:  45\n",
       "</pre>\n"
      ],
      "text/plain": [
       "Extra Mu Veto:  45\n"
      ]
     },
     "metadata": {},
     "output_type": "display_data"
    },
    {
     "data": {
      "text/html": [
       "<pre style=\"white-space:pre;overflow-x:auto;line-height:normal;font-family:Menlo,'DejaVu Sans Mono',consolas,'Courier New',monospace\">BJet Veto:  15\n",
       "</pre>\n"
      ],
      "text/plain": [
       "BJet Veto:  15\n"
      ]
     },
     "metadata": {},
     "output_type": "display_data"
    },
    {
     "data": {
      "text/html": [
       "<pre style=\"white-space:pre;overflow-x:auto;line-height:normal;font-family:Menlo,'DejaVu Sans Mono',consolas,'Courier New',monospace\">Pairs:  35  Vector:  35\n",
       "</pre>\n"
      ],
      "text/plain": [
       "Pairs:  35  Vector:  35\n"
      ]
     },
     "metadata": {},
     "output_type": "display_data"
    },
    {
     "data": {
      "text/html": [
       "<pre style=\"white-space:pre;overflow-x:auto;line-height:normal;font-family:Menlo,'DejaVu Sans Mono',consolas,'Courier New',monospace\">[[False, True], [], [], [], [], ... False, False, False, False], [False], [True]]\n",
       "</pre>\n"
      ],
      "text/plain": [
       "[[False, True], [], [], [], [], ... False, False, False, False], [False], [True]]\n"
      ]
     },
     "metadata": {},
     "output_type": "display_data"
    },
    {
     "data": {
      "text/html": [
       "<pre style=\"white-space:pre;overflow-x:auto;line-height:normal;font-family:Menlo,'DejaVu Sans Mono',consolas,'Courier New',monospace\">0\n",
       "</pre>\n"
      ],
      "text/plain": [
       "0\n"
      ]
     },
     "metadata": {},
     "output_type": "display_data"
    },
    {
     "data": {
      "text/html": [
       "<pre style=\"white-space:pre;overflow-x:auto;line-height:normal;font-family:Menlo,'DejaVu Sans Mono',consolas,'Courier New',monospace\">Start:  1618   VV\n",
       "</pre>\n"
      ],
      "text/plain": [
       "Start:  1618   VV\n"
      ]
     },
     "metadata": {},
     "output_type": "display_data"
    },
    {
     "data": {
      "text/html": [
       "<pre style=\"white-space:pre;overflow-x:auto;line-height:normal;font-family:Menlo,'DejaVu Sans Mono',consolas,'Courier New',monospace\">Extra Ele Veto:  1543\n",
       "</pre>\n"
      ],
      "text/plain": [
       "Extra Ele Veto:  1543\n"
      ]
     },
     "metadata": {},
     "output_type": "display_data"
    },
    {
     "data": {
      "text/html": [
       "<pre style=\"white-space:pre;overflow-x:auto;line-height:normal;font-family:Menlo,'DejaVu Sans Mono',consolas,'Courier New',monospace\">Extra Mu Veto:  37\n",
       "</pre>\n"
      ],
      "text/plain": [
       "Extra Mu Veto:  37\n"
      ]
     },
     "metadata": {},
     "output_type": "display_data"
    },
    {
     "data": {
      "text/html": [
       "<pre style=\"white-space:pre;overflow-x:auto;line-height:normal;font-family:Menlo,'DejaVu Sans Mono',consolas,'Courier New',monospace\">BJet Veto:  12\n",
       "</pre>\n"
      ],
      "text/plain": [
       "BJet Veto:  12\n"
      ]
     },
     "metadata": {},
     "output_type": "display_data"
    },
    {
     "data": {
      "text/html": [
       "<pre style=\"white-space:pre;overflow-x:auto;line-height:normal;font-family:Menlo,'DejaVu Sans Mono',consolas,'Courier New',monospace\">Pairs:  27  Vector:  27\n",
       "</pre>\n"
      ],
      "text/plain": [
       "Pairs:  27  Vector:  27\n"
      ]
     },
     "metadata": {},
     "output_type": "display_data"
    },
    {
     "data": {
      "text/html": [
       "<pre style=\"white-space:pre;overflow-x:auto;line-height:normal;font-family:Menlo,'DejaVu Sans Mono',consolas,'Courier New',monospace\">[[], [], [], [True, False, True, True, ... True], [False, False, True, True], []]\n",
       "</pre>\n"
      ],
      "text/plain": [
       "[[], [], [], [True, False, True, True, ... True], [False, False, True, True], []]\n"
      ]
     },
     "metadata": {},
     "output_type": "display_data"
    },
    {
     "data": {
      "text/html": [
       "<pre style=\"white-space:pre;overflow-x:auto;line-height:normal;font-family:Menlo,'DejaVu Sans Mono',consolas,'Courier New',monospace\">0\n",
       "</pre>\n"
      ],
      "text/plain": [
       "0\n"
      ]
     },
     "metadata": {},
     "output_type": "display_data"
    },
    {
     "data": {
      "text/html": [
       "<pre style=\"white-space:pre;overflow-x:auto;line-height:normal;font-family:Menlo,'DejaVu Sans Mono',consolas,'Courier New',monospace\">Start:  1665   VV\n",
       "</pre>\n"
      ],
      "text/plain": [
       "Start:  1665   VV\n"
      ]
     },
     "metadata": {},
     "output_type": "display_data"
    },
    {
     "data": {
      "text/html": [
       "<pre style=\"white-space:pre;overflow-x:auto;line-height:normal;font-family:Menlo,'DejaVu Sans Mono',consolas,'Courier New',monospace\">Extra Ele Veto:  1568\n",
       "</pre>\n"
      ],
      "text/plain": [
       "Extra Ele Veto:  1568\n"
      ]
     },
     "metadata": {},
     "output_type": "display_data"
    },
    {
     "data": {
      "text/html": [
       "<pre style=\"white-space:pre;overflow-x:auto;line-height:normal;font-family:Menlo,'DejaVu Sans Mono',consolas,'Courier New',monospace\">Extra Mu Veto:  40\n",
       "</pre>\n"
      ],
      "text/plain": [
       "Extra Mu Veto:  40\n"
      ]
     },
     "metadata": {},
     "output_type": "display_data"
    },
    {
     "data": {
      "text/html": [
       "<pre style=\"white-space:pre;overflow-x:auto;line-height:normal;font-family:Menlo,'DejaVu Sans Mono',consolas,'Courier New',monospace\">BJet Veto:  15\n",
       "</pre>\n"
      ],
      "text/plain": [
       "BJet Veto:  15\n"
      ]
     },
     "metadata": {},
     "output_type": "display_data"
    },
    {
     "data": {
      "text/html": [
       "<pre style=\"white-space:pre;overflow-x:auto;line-height:normal;font-family:Menlo,'DejaVu Sans Mono',consolas,'Courier New',monospace\">Pairs:  26  Vector:  26\n",
       "</pre>\n"
      ],
      "text/plain": [
       "Pairs:  26  Vector:  26\n"
      ]
     },
     "metadata": {},
     "output_type": "display_data"
    },
    {
     "data": {
      "text/html": [
       "<pre style=\"white-space:pre;overflow-x:auto;line-height:normal;font-family:Menlo,'DejaVu Sans Mono',consolas,'Courier New',monospace\">[[True, True, True], [True, True, True, True, ... True, True], [True, True], []]\n",
       "</pre>\n"
      ],
      "text/plain": [
       "[[True, True, True], [True, True, True, True, ... True, True], [True, True], []]\n"
      ]
     },
     "metadata": {},
     "output_type": "display_data"
    },
    {
     "data": {
      "text/html": [
       "<pre style=\"white-space:pre;overflow-x:auto;line-height:normal;font-family:Menlo,'DejaVu Sans Mono',consolas,'Courier New',monospace\">Postcut: Pairs:  1  Vector:  1\n",
       "</pre>\n"
      ],
      "text/plain": [
       "Postcut: Pairs:  1  Vector:  1\n"
      ]
     },
     "metadata": {},
     "output_type": "display_data"
    },
    {
     "data": {
      "text/html": [
       "<pre style=\"white-space:pre;overflow-x:auto;line-height:normal;font-family:Menlo,'DejaVu Sans Mono',consolas,'Courier New',monospace\">[[], [], [], [], [], [], [], [], [], [], ... [], [], [], [], [], [], [], [], [], []]\n",
       "</pre>\n"
      ],
      "text/plain": [
       "[[], [], [], [], [], [], [], [], [], [], ... [], [], [], [], [], [], [], [], [], []]\n"
      ]
     },
     "metadata": {},
     "output_type": "display_data"
    },
    {
     "data": {
      "text/html": [
       "<pre style=\"white-space:pre;overflow-x:auto;line-height:normal;font-family:Menlo,'DejaVu Sans Mono',consolas,'Courier New',monospace\">[[], [], [], [], [], [], [], [], [], [], ... [], [], [], [], [], [], [], [], [], []]\n",
       "</pre>\n"
      ],
      "text/plain": [
       "[[], [], [], [], [], [], [], [], [], [], ... [], [], [], [], [], [], [], [], [], []]\n"
      ]
     },
     "metadata": {},
     "output_type": "display_data"
    },
    {
     "data": {
      "text/html": [
       "<pre style=\"white-space:pre;overflow-x:auto;line-height:normal;font-family:Menlo,'DejaVu Sans Mono',consolas,'Courier New',monospace\">Start:  1666   VV\n",
       "</pre>\n"
      ],
      "text/plain": [
       "Start:  1666   VV\n"
      ]
     },
     "metadata": {},
     "output_type": "display_data"
    },
    {
     "data": {
      "text/html": [
       "<pre style=\"white-space:pre;overflow-x:auto;line-height:normal;font-family:Menlo,'DejaVu Sans Mono',consolas,'Courier New',monospace\">Extra Ele Veto:  1554\n",
       "</pre>\n"
      ],
      "text/plain": [
       "Extra Ele Veto:  1554\n"
      ]
     },
     "metadata": {},
     "output_type": "display_data"
    },
    {
     "data": {
      "text/html": [
       "<pre style=\"white-space:pre;overflow-x:auto;line-height:normal;font-family:Menlo,'DejaVu Sans Mono',consolas,'Courier New',monospace\">Extra Mu Veto:  41\n",
       "</pre>\n"
      ],
      "text/plain": [
       "Extra Mu Veto:  41\n"
      ]
     },
     "metadata": {},
     "output_type": "display_data"
    },
    {
     "data": {
      "text/html": [
       "<pre style=\"white-space:pre;overflow-x:auto;line-height:normal;font-family:Menlo,'DejaVu Sans Mono',consolas,'Courier New',monospace\">BJet Veto:  13\n",
       "</pre>\n"
      ],
      "text/plain": [
       "BJet Veto:  13\n"
      ]
     },
     "metadata": {},
     "output_type": "display_data"
    },
    {
     "data": {
      "text/html": [
       "<pre style=\"white-space:pre;overflow-x:auto;line-height:normal;font-family:Menlo,'DejaVu Sans Mono',consolas,'Courier New',monospace\">Pairs:  19  Vector:  19\n",
       "</pre>\n"
      ],
      "text/plain": [
       "Pairs:  19  Vector:  19\n"
      ]
     },
     "metadata": {},
     "output_type": "display_data"
    },
    {
     "data": {
      "text/html": [
       "<pre style=\"white-space:pre;overflow-x:auto;line-height:normal;font-family:Menlo,'DejaVu Sans Mono',consolas,'Courier New',monospace\">[[True], [], [True], [True, True], [False, ... [], [True, False], [], [False], []]\n",
       "</pre>\n"
      ],
      "text/plain": [
       "[[True], [], [True], [True, True], [False, ... [], [True, False], [], [False], []]\n"
      ]
     },
     "metadata": {},
     "output_type": "display_data"
    },
    {
     "data": {
      "text/html": [
       "<pre style=\"white-space:pre;overflow-x:auto;line-height:normal;font-family:Menlo,'DejaVu Sans Mono',consolas,'Courier New',monospace\">0\n",
       "</pre>\n"
      ],
      "text/plain": [
       "0\n"
      ]
     },
     "metadata": {},
     "output_type": "display_data"
    },
    {
     "data": {
      "text/html": [
       "<pre style=\"white-space:pre;overflow-x:auto;line-height:normal;font-family:Menlo,'DejaVu Sans Mono',consolas,'Courier New',monospace\">Start:  1599   VV\n",
       "</pre>\n"
      ],
      "text/plain": [
       "Start:  1599   VV\n"
      ]
     },
     "metadata": {},
     "output_type": "display_data"
    },
    {
     "data": {
      "text/html": [
       "<pre style=\"white-space:pre;overflow-x:auto;line-height:normal;font-family:Menlo,'DejaVu Sans Mono',consolas,'Courier New',monospace\">Extra Ele Veto:  1516\n",
       "</pre>\n"
      ],
      "text/plain": [
       "Extra Ele Veto:  1516\n"
      ]
     },
     "metadata": {},
     "output_type": "display_data"
    },
    {
     "data": {
      "text/html": [
       "<pre style=\"white-space:pre;overflow-x:auto;line-height:normal;font-family:Menlo,'DejaVu Sans Mono',consolas,'Courier New',monospace\">Extra Mu Veto:  33\n",
       "</pre>\n"
      ],
      "text/plain": [
       "Extra Mu Veto:  33\n"
      ]
     },
     "metadata": {},
     "output_type": "display_data"
    },
    {
     "data": {
      "text/html": [
       "<pre style=\"white-space:pre;overflow-x:auto;line-height:normal;font-family:Menlo,'DejaVu Sans Mono',consolas,'Courier New',monospace\">BJet Veto:  11\n",
       "</pre>\n"
      ],
      "text/plain": [
       "BJet Veto:  11\n"
      ]
     },
     "metadata": {},
     "output_type": "display_data"
    },
    {
     "data": {
      "text/html": [
       "<pre style=\"white-space:pre;overflow-x:auto;line-height:normal;font-family:Menlo,'DejaVu Sans Mono',consolas,'Courier New',monospace\">Pairs:  20  Vector:  20\n",
       "</pre>\n"
      ],
      "text/plain": [
       "Pairs:  20  Vector:  20\n"
      ]
     },
     "metadata": {},
     "output_type": "display_data"
    },
    {
     "data": {
      "text/html": [
       "<pre style=\"white-space:pre;overflow-x:auto;line-height:normal;font-family:Menlo,'DejaVu Sans Mono',consolas,'Courier New',monospace\">[[], [True, True], [], [], [], [True, False], ... [], [], [], [], [], [True], []]\n",
       "</pre>\n"
      ],
      "text/plain": [
       "[[], [True, True], [], [], [], [True, False], ... [], [], [], [], [], [True], []]\n"
      ]
     },
     "metadata": {},
     "output_type": "display_data"
    },
    {
     "data": {
      "text/html": [
       "<pre style=\"white-space:pre;overflow-x:auto;line-height:normal;font-family:Menlo,'DejaVu Sans Mono',consolas,'Courier New',monospace\">0\n",
       "</pre>\n"
      ],
      "text/plain": [
       "0\n"
      ]
     },
     "metadata": {},
     "output_type": "display_data"
    },
    {
     "data": {
      "text/html": [
       "<pre style=\"white-space:pre;overflow-x:auto;line-height:normal;font-family:Menlo,'DejaVu Sans Mono',consolas,'Courier New',monospace\">Start:  1607   VV\n",
       "</pre>\n"
      ],
      "text/plain": [
       "Start:  1607   VV\n"
      ]
     },
     "metadata": {},
     "output_type": "display_data"
    },
    {
     "data": {
      "text/html": [
       "<pre style=\"white-space:pre;overflow-x:auto;line-height:normal;font-family:Menlo,'DejaVu Sans Mono',consolas,'Courier New',monospace\">Extra Ele Veto:  1520\n",
       "</pre>\n"
      ],
      "text/plain": [
       "Extra Ele Veto:  1520\n"
      ]
     },
     "metadata": {},
     "output_type": "display_data"
    },
    {
     "data": {
      "text/html": [
       "<pre style=\"white-space:pre;overflow-x:auto;line-height:normal;font-family:Menlo,'DejaVu Sans Mono',consolas,'Courier New',monospace\">Extra Mu Veto:  28\n",
       "</pre>\n"
      ],
      "text/plain": [
       "Extra Mu Veto:  28\n"
      ]
     },
     "metadata": {},
     "output_type": "display_data"
    },
    {
     "data": {
      "text/html": [
       "<pre style=\"white-space:pre;overflow-x:auto;line-height:normal;font-family:Menlo,'DejaVu Sans Mono',consolas,'Courier New',monospace\">BJet Veto:  12\n",
       "</pre>\n"
      ],
      "text/plain": [
       "BJet Veto:  12\n"
      ]
     },
     "metadata": {},
     "output_type": "display_data"
    },
    {
     "data": {
      "text/html": [
       "<pre style=\"white-space:pre;overflow-x:auto;line-height:normal;font-family:Menlo,'DejaVu Sans Mono',consolas,'Courier New',monospace\">Pairs:  21  Vector:  21\n",
       "</pre>\n"
      ],
      "text/plain": [
       "Pairs:  21  Vector:  21\n"
      ]
     },
     "metadata": {},
     "output_type": "display_data"
    },
    {
     "data": {
      "text/html": [
       "<pre style=\"white-space:pre;overflow-x:auto;line-height:normal;font-family:Menlo,'DejaVu Sans Mono',consolas,'Courier New',monospace\">[[True, True, False], [], [], [], [], ... [True, True], [True, True], [False, True]]\n",
       "</pre>\n"
      ],
      "text/plain": [
       "[[True, True, False], [], [], [], [], ... [True, True], [True, True], [False, True]]\n"
      ]
     },
     "metadata": {},
     "output_type": "display_data"
    },
    {
     "data": {
      "text/html": [
       "<pre style=\"white-space:pre;overflow-x:auto;line-height:normal;font-family:Menlo,'DejaVu Sans Mono',consolas,'Courier New',monospace\">0\n",
       "</pre>\n"
      ],
      "text/plain": [
       "0\n"
      ]
     },
     "metadata": {},
     "output_type": "display_data"
    },
    {
     "data": {
      "text/html": [
       "<pre style=\"white-space:pre;overflow-x:auto;line-height:normal;font-family:Menlo,'DejaVu Sans Mono',consolas,'Courier New',monospace\">Start:  1698   VV\n",
       "</pre>\n"
      ],
      "text/plain": [
       "Start:  1698   VV\n"
      ]
     },
     "metadata": {},
     "output_type": "display_data"
    },
    {
     "data": {
      "text/html": [
       "<pre style=\"white-space:pre;overflow-x:auto;line-height:normal;font-family:Menlo,'DejaVu Sans Mono',consolas,'Courier New',monospace\">Extra Ele Veto:  1597\n",
       "</pre>\n"
      ],
      "text/plain": [
       "Extra Ele Veto:  1597\n"
      ]
     },
     "metadata": {},
     "output_type": "display_data"
    },
    {
     "data": {
      "text/html": [
       "<pre style=\"white-space:pre;overflow-x:auto;line-height:normal;font-family:Menlo,'DejaVu Sans Mono',consolas,'Courier New',monospace\">Extra Mu Veto:  30\n",
       "</pre>\n"
      ],
      "text/plain": [
       "Extra Mu Veto:  30\n"
      ]
     },
     "metadata": {},
     "output_type": "display_data"
    },
    {
     "data": {
      "text/html": [
       "<pre style=\"white-space:pre;overflow-x:auto;line-height:normal;font-family:Menlo,'DejaVu Sans Mono',consolas,'Courier New',monospace\">BJet Veto:  10\n",
       "</pre>\n"
      ],
      "text/plain": [
       "BJet Veto:  10\n"
      ]
     },
     "metadata": {},
     "output_type": "display_data"
    },
    {
     "data": {
      "text/html": [
       "<pre style=\"white-space:pre;overflow-x:auto;line-height:normal;font-family:Menlo,'DejaVu Sans Mono',consolas,'Courier New',monospace\">Pairs:  13  Vector:  13\n",
       "</pre>\n"
      ],
      "text/plain": [
       "Pairs:  13  Vector:  13\n"
      ]
     },
     "metadata": {},
     "output_type": "display_data"
    },
    {
     "data": {
      "text/html": [
       "<pre style=\"white-space:pre;overflow-x:auto;line-height:normal;font-family:Menlo,'DejaVu Sans Mono',consolas,'Courier New',monospace\">[[], [True, False, False], [], [], [], [], ... False, False], [], [], [], [], [], []]\n",
       "</pre>\n"
      ],
      "text/plain": [
       "[[], [True, False, False], [], [], [], [], ... False, False], [], [], [], [], [], []]\n"
      ]
     },
     "metadata": {},
     "output_type": "display_data"
    },
    {
     "data": {
      "text/html": [
       "<pre style=\"white-space:pre;overflow-x:auto;line-height:normal;font-family:Menlo,'DejaVu Sans Mono',consolas,'Courier New',monospace\">0\n",
       "</pre>\n"
      ],
      "text/plain": [
       "0\n"
      ]
     },
     "metadata": {},
     "output_type": "display_data"
    },
    {
     "data": {
      "text/html": [
       "<pre style=\"white-space:pre;overflow-x:auto;line-height:normal;font-family:Menlo,'DejaVu Sans Mono',consolas,'Courier New',monospace\">Start:  1676   VV\n",
       "</pre>\n"
      ],
      "text/plain": [
       "Start:  1676   VV\n"
      ]
     },
     "metadata": {},
     "output_type": "display_data"
    },
    {
     "data": {
      "text/html": [
       "<pre style=\"white-space:pre;overflow-x:auto;line-height:normal;font-family:Menlo,'DejaVu Sans Mono',consolas,'Courier New',monospace\">Extra Ele Veto:  1574\n",
       "</pre>\n"
      ],
      "text/plain": [
       "Extra Ele Veto:  1574\n"
      ]
     },
     "metadata": {},
     "output_type": "display_data"
    },
    {
     "data": {
      "text/html": [
       "<pre style=\"white-space:pre;overflow-x:auto;line-height:normal;font-family:Menlo,'DejaVu Sans Mono',consolas,'Courier New',monospace\">Extra Mu Veto:  33\n",
       "</pre>\n"
      ],
      "text/plain": [
       "Extra Mu Veto:  33\n"
      ]
     },
     "metadata": {},
     "output_type": "display_data"
    },
    {
     "data": {
      "text/html": [
       "<pre style=\"white-space:pre;overflow-x:auto;line-height:normal;font-family:Menlo,'DejaVu Sans Mono',consolas,'Courier New',monospace\">BJet Veto:  15\n",
       "</pre>\n"
      ],
      "text/plain": [
       "BJet Veto:  15\n"
      ]
     },
     "metadata": {},
     "output_type": "display_data"
    },
    {
     "data": {
      "text/html": [
       "<pre style=\"white-space:pre;overflow-x:auto;line-height:normal;font-family:Menlo,'DejaVu Sans Mono',consolas,'Courier New',monospace\">Pairs:  33  Vector:  33\n",
       "</pre>\n"
      ],
      "text/plain": [
       "Pairs:  33  Vector:  33\n"
      ]
     },
     "metadata": {},
     "output_type": "display_data"
    },
    {
     "data": {
      "text/html": [
       "<pre style=\"white-space:pre;overflow-x:auto;line-height:normal;font-family:Menlo,'DejaVu Sans Mono',consolas,'Courier New',monospace\">[[False, False], [], [], [], [], [], ... [False, False], [], [True, False], [], []]\n",
       "</pre>\n"
      ],
      "text/plain": [
       "[[False, False], [], [], [], [], [], ... [False, False], [], [True, False], [], []]\n"
      ]
     },
     "metadata": {},
     "output_type": "display_data"
    },
    {
     "data": {
      "text/html": [
       "<pre style=\"white-space:pre;overflow-x:auto;line-height:normal;font-family:Menlo,'DejaVu Sans Mono',consolas,'Courier New',monospace\">0\n",
       "</pre>\n"
      ],
      "text/plain": [
       "0\n"
      ]
     },
     "metadata": {},
     "output_type": "display_data"
    },
    {
     "data": {
      "text/html": [
       "<pre style=\"white-space:pre;overflow-x:auto;line-height:normal;font-family:Menlo,'DejaVu Sans Mono',consolas,'Courier New',monospace\">Start:  1755   VV\n",
       "</pre>\n"
      ],
      "text/plain": [
       "Start:  1755   VV\n"
      ]
     },
     "metadata": {},
     "output_type": "display_data"
    },
    {
     "data": {
      "text/html": [
       "<pre style=\"white-space:pre;overflow-x:auto;line-height:normal;font-family:Menlo,'DejaVu Sans Mono',consolas,'Courier New',monospace\">Extra Ele Veto:  1640\n",
       "</pre>\n"
      ],
      "text/plain": [
       "Extra Ele Veto:  1640\n"
      ]
     },
     "metadata": {},
     "output_type": "display_data"
    },
    {
     "data": {
      "text/html": [
       "<pre style=\"white-space:pre;overflow-x:auto;line-height:normal;font-family:Menlo,'DejaVu Sans Mono',consolas,'Courier New',monospace\">Extra Mu Veto:  39\n",
       "</pre>\n"
      ],
      "text/plain": [
       "Extra Mu Veto:  39\n"
      ]
     },
     "metadata": {},
     "output_type": "display_data"
    },
    {
     "data": {
      "text/html": [
       "<pre style=\"white-space:pre;overflow-x:auto;line-height:normal;font-family:Menlo,'DejaVu Sans Mono',consolas,'Courier New',monospace\">BJet Veto:  11\n",
       "</pre>\n"
      ],
      "text/plain": [
       "BJet Veto:  11\n"
      ]
     },
     "metadata": {},
     "output_type": "display_data"
    },
    {
     "data": {
      "text/html": [
       "<pre style=\"white-space:pre;overflow-x:auto;line-height:normal;font-family:Menlo,'DejaVu Sans Mono',consolas,'Courier New',monospace\">Pairs:  18  Vector:  18\n",
       "</pre>\n"
      ],
      "text/plain": [
       "Pairs:  18  Vector:  18\n"
      ]
     },
     "metadata": {},
     "output_type": "display_data"
    },
    {
     "data": {
      "text/html": [
       "<pre style=\"white-space:pre;overflow-x:auto;line-height:normal;font-family:Menlo,'DejaVu Sans Mono',consolas,'Courier New',monospace\">[[True], [True], [], [False, True], [], [], ... False], [], [], [False], [], [], []]\n",
       "</pre>\n"
      ],
      "text/plain": [
       "[[True], [True], [], [False, True], [], [], ... False], [], [], [False], [], [], []]\n"
      ]
     },
     "metadata": {},
     "output_type": "display_data"
    },
    {
     "data": {
      "text/html": [
       "<pre style=\"white-space:pre;overflow-x:auto;line-height:normal;font-family:Menlo,'DejaVu Sans Mono',consolas,'Courier New',monospace\">0\n",
       "</pre>\n"
      ],
      "text/plain": [
       "0\n"
      ]
     },
     "metadata": {},
     "output_type": "display_data"
    },
    {
     "data": {
      "text/html": [
       "<pre style=\"white-space:pre;overflow-x:auto;line-height:normal;font-family:Menlo,'DejaVu Sans Mono',consolas,'Courier New',monospace\">Start:  1698   VV\n",
       "</pre>\n"
      ],
      "text/plain": [
       "Start:  1698   VV\n"
      ]
     },
     "metadata": {},
     "output_type": "display_data"
    },
    {
     "data": {
      "text/html": [
       "<pre style=\"white-space:pre;overflow-x:auto;line-height:normal;font-family:Menlo,'DejaVu Sans Mono',consolas,'Courier New',monospace\">Extra Ele Veto:  1601\n",
       "</pre>\n"
      ],
      "text/plain": [
       "Extra Ele Veto:  1601\n"
      ]
     },
     "metadata": {},
     "output_type": "display_data"
    },
    {
     "data": {
      "text/html": [
       "<pre style=\"white-space:pre;overflow-x:auto;line-height:normal;font-family:Menlo,'DejaVu Sans Mono',consolas,'Courier New',monospace\">Extra Mu Veto:  56\n",
       "</pre>\n"
      ],
      "text/plain": [
       "Extra Mu Veto:  56\n"
      ]
     },
     "metadata": {},
     "output_type": "display_data"
    },
    {
     "data": {
      "text/html": [
       "<pre style=\"white-space:pre;overflow-x:auto;line-height:normal;font-family:Menlo,'DejaVu Sans Mono',consolas,'Courier New',monospace\">BJet Veto:  19\n",
       "</pre>\n"
      ],
      "text/plain": [
       "BJet Veto:  19\n"
      ]
     },
     "metadata": {},
     "output_type": "display_data"
    },
    {
     "data": {
      "text/html": [
       "<pre style=\"white-space:pre;overflow-x:auto;line-height:normal;font-family:Menlo,'DejaVu Sans Mono',consolas,'Courier New',monospace\">Pairs:  32  Vector:  32\n",
       "</pre>\n"
      ],
      "text/plain": [
       "Pairs:  32  Vector:  32\n"
      ]
     },
     "metadata": {},
     "output_type": "display_data"
    },
    {
     "data": {
      "text/html": [
       "<pre style=\"white-space:pre;overflow-x:auto;line-height:normal;font-family:Menlo,'DejaVu Sans Mono',consolas,'Courier New',monospace\">[[], [], [False, True, False, True], ... True, True], [True], [False, False]]\n",
       "</pre>\n"
      ],
      "text/plain": [
       "[[], [], [False, True, False, True], ... True, True], [True], [False, False]]\n"
      ]
     },
     "metadata": {},
     "output_type": "display_data"
    },
    {
     "data": {
      "text/html": [
       "<pre style=\"white-space:pre;overflow-x:auto;line-height:normal;font-family:Menlo,'DejaVu Sans Mono',consolas,'Courier New',monospace\">0\n",
       "</pre>\n"
      ],
      "text/plain": [
       "0\n"
      ]
     },
     "metadata": {},
     "output_type": "display_data"
    },
    {
     "data": {
      "text/html": [
       "<pre style=\"white-space:pre;overflow-x:auto;line-height:normal;font-family:Menlo,'DejaVu Sans Mono',consolas,'Courier New',monospace\">Start:  1671   VV\n",
       "</pre>\n"
      ],
      "text/plain": [
       "Start:  1671   VV\n"
      ]
     },
     "metadata": {},
     "output_type": "display_data"
    },
    {
     "data": {
      "text/html": [
       "<pre style=\"white-space:pre;overflow-x:auto;line-height:normal;font-family:Menlo,'DejaVu Sans Mono',consolas,'Courier New',monospace\">Extra Ele Veto:  1559\n",
       "</pre>\n"
      ],
      "text/plain": [
       "Extra Ele Veto:  1559\n"
      ]
     },
     "metadata": {},
     "output_type": "display_data"
    },
    {
     "data": {
      "text/html": [
       "<pre style=\"white-space:pre;overflow-x:auto;line-height:normal;font-family:Menlo,'DejaVu Sans Mono',consolas,'Courier New',monospace\">Extra Mu Veto:  30\n",
       "</pre>\n"
      ],
      "text/plain": [
       "Extra Mu Veto:  30\n"
      ]
     },
     "metadata": {},
     "output_type": "display_data"
    },
    {
     "data": {
      "text/html": [
       "<pre style=\"white-space:pre;overflow-x:auto;line-height:normal;font-family:Menlo,'DejaVu Sans Mono',consolas,'Courier New',monospace\">BJet Veto:  10\n",
       "</pre>\n"
      ],
      "text/plain": [
       "BJet Veto:  10\n"
      ]
     },
     "metadata": {},
     "output_type": "display_data"
    },
    {
     "data": {
      "text/html": [
       "<pre style=\"white-space:pre;overflow-x:auto;line-height:normal;font-family:Menlo,'DejaVu Sans Mono',consolas,'Courier New',monospace\">Pairs:  19  Vector:  19\n",
       "</pre>\n"
      ],
      "text/plain": [
       "Pairs:  19  Vector:  19\n"
      ]
     },
     "metadata": {},
     "output_type": "display_data"
    },
    {
     "data": {
      "text/html": [
       "<pre style=\"white-space:pre;overflow-x:auto;line-height:normal;font-family:Menlo,'DejaVu Sans Mono',consolas,'Courier New',monospace\">[[], [], [True, True, True], [], [False], ... [True], [True], [True, True], [], []]\n",
       "</pre>\n"
      ],
      "text/plain": [
       "[[], [], [True, True, True], [], [False], ... [True], [True], [True, True], [], []]\n"
      ]
     },
     "metadata": {},
     "output_type": "display_data"
    },
    {
     "data": {
      "text/html": [
       "<pre style=\"white-space:pre;overflow-x:auto;line-height:normal;font-family:Menlo,'DejaVu Sans Mono',consolas,'Courier New',monospace\">0\n",
       "</pre>\n"
      ],
      "text/plain": [
       "0\n"
      ]
     },
     "metadata": {},
     "output_type": "display_data"
    },
    {
     "data": {
      "text/html": [
       "<pre style=\"white-space:pre;overflow-x:auto;line-height:normal;font-family:Menlo,'DejaVu Sans Mono',consolas,'Courier New',monospace\">Start:  1687   VV\n",
       "</pre>\n"
      ],
      "text/plain": [
       "Start:  1687   VV\n"
      ]
     },
     "metadata": {},
     "output_type": "display_data"
    },
    {
     "data": {
      "text/html": [
       "<pre style=\"white-space:pre;overflow-x:auto;line-height:normal;font-family:Menlo,'DejaVu Sans Mono',consolas,'Courier New',monospace\">Extra Ele Veto:  1577\n",
       "</pre>\n"
      ],
      "text/plain": [
       "Extra Ele Veto:  1577\n"
      ]
     },
     "metadata": {},
     "output_type": "display_data"
    },
    {
     "data": {
      "text/html": [
       "<pre style=\"white-space:pre;overflow-x:auto;line-height:normal;font-family:Menlo,'DejaVu Sans Mono',consolas,'Courier New',monospace\">Extra Mu Veto:  39\n",
       "</pre>\n"
      ],
      "text/plain": [
       "Extra Mu Veto:  39\n"
      ]
     },
     "metadata": {},
     "output_type": "display_data"
    },
    {
     "data": {
      "text/html": [
       "<pre style=\"white-space:pre;overflow-x:auto;line-height:normal;font-family:Menlo,'DejaVu Sans Mono',consolas,'Courier New',monospace\">BJet Veto:  12\n",
       "</pre>\n"
      ],
      "text/plain": [
       "BJet Veto:  12\n"
      ]
     },
     "metadata": {},
     "output_type": "display_data"
    },
    {
     "data": {
      "text/html": [
       "<pre style=\"white-space:pre;overflow-x:auto;line-height:normal;font-family:Menlo,'DejaVu Sans Mono',consolas,'Courier New',monospace\">Pairs:  17  Vector:  17\n",
       "</pre>\n"
      ],
      "text/plain": [
       "Pairs:  17  Vector:  17\n"
      ]
     },
     "metadata": {},
     "output_type": "display_data"
    },
    {
     "data": {
      "text/html": [
       "<pre style=\"white-space:pre;overflow-x:auto;line-height:normal;font-family:Menlo,'DejaVu Sans Mono',consolas,'Courier New',monospace\">[[], [], [], [], [], [], [True], ... [True], [], [False, True], [True, True], []]\n",
       "</pre>\n"
      ],
      "text/plain": [
       "[[], [], [], [], [], [], [True], ... [True], [], [False, True], [True, True], []]\n"
      ]
     },
     "metadata": {},
     "output_type": "display_data"
    },
    {
     "data": {
      "text/html": [
       "<pre style=\"white-space:pre;overflow-x:auto;line-height:normal;font-family:Menlo,'DejaVu Sans Mono',consolas,'Courier New',monospace\">0\n",
       "</pre>\n"
      ],
      "text/plain": [
       "0\n"
      ]
     },
     "metadata": {},
     "output_type": "display_data"
    },
    {
     "data": {
      "text/html": [
       "<pre style=\"white-space:pre;overflow-x:auto;line-height:normal;font-family:Menlo,'DejaVu Sans Mono',consolas,'Courier New',monospace\">Start:  1674   VV\n",
       "</pre>\n"
      ],
      "text/plain": [
       "Start:  1674   VV\n"
      ]
     },
     "metadata": {},
     "output_type": "display_data"
    },
    {
     "data": {
      "text/html": [
       "<pre style=\"white-space:pre;overflow-x:auto;line-height:normal;font-family:Menlo,'DejaVu Sans Mono',consolas,'Courier New',monospace\">Extra Ele Veto:  1571\n",
       "</pre>\n"
      ],
      "text/plain": [
       "Extra Ele Veto:  1571\n"
      ]
     },
     "metadata": {},
     "output_type": "display_data"
    },
    {
     "data": {
      "text/html": [
       "<pre style=\"white-space:pre;overflow-x:auto;line-height:normal;font-family:Menlo,'DejaVu Sans Mono',consolas,'Courier New',monospace\">Extra Mu Veto:  40\n",
       "</pre>\n"
      ],
      "text/plain": [
       "Extra Mu Veto:  40\n"
      ]
     },
     "metadata": {},
     "output_type": "display_data"
    },
    {
     "data": {
      "text/html": [
       "<pre style=\"white-space:pre;overflow-x:auto;line-height:normal;font-family:Menlo,'DejaVu Sans Mono',consolas,'Courier New',monospace\">BJet Veto:  18\n",
       "</pre>\n"
      ],
      "text/plain": [
       "BJet Veto:  18\n"
      ]
     },
     "metadata": {},
     "output_type": "display_data"
    },
    {
     "data": {
      "text/html": [
       "<pre style=\"white-space:pre;overflow-x:auto;line-height:normal;font-family:Menlo,'DejaVu Sans Mono',consolas,'Courier New',monospace\">Pairs:  27  Vector:  27\n",
       "</pre>\n"
      ],
      "text/plain": [
       "Pairs:  27  Vector:  27\n"
      ]
     },
     "metadata": {},
     "output_type": "display_data"
    },
    {
     "data": {
      "text/html": [
       "<pre style=\"white-space:pre;overflow-x:auto;line-height:normal;font-family:Menlo,'DejaVu Sans Mono',consolas,'Courier New',monospace\">[[], [True, False], [], [], [False], ... True], [], [], [False, False, True, True]]\n",
       "</pre>\n"
      ],
      "text/plain": [
       "[[], [True, False], [], [], [False], ... True], [], [], [False, False, True, True]]\n"
      ]
     },
     "metadata": {},
     "output_type": "display_data"
    },
    {
     "data": {
      "text/html": [
       "<pre style=\"white-space:pre;overflow-x:auto;line-height:normal;font-family:Menlo,'DejaVu Sans Mono',consolas,'Courier New',monospace\">0\n",
       "</pre>\n"
      ],
      "text/plain": [
       "0\n"
      ]
     },
     "metadata": {},
     "output_type": "display_data"
    },
    {
     "data": {
      "text/html": [
       "<pre style=\"white-space:pre;overflow-x:auto;line-height:normal;font-family:Menlo,'DejaVu Sans Mono',consolas,'Courier New',monospace\">Start:  1599   VV\n",
       "</pre>\n"
      ],
      "text/plain": [
       "Start:  1599   VV\n"
      ]
     },
     "metadata": {},
     "output_type": "display_data"
    },
    {
     "data": {
      "text/html": [
       "<pre style=\"white-space:pre;overflow-x:auto;line-height:normal;font-family:Menlo,'DejaVu Sans Mono',consolas,'Courier New',monospace\">Extra Ele Veto:  1517\n",
       "</pre>\n"
      ],
      "text/plain": [
       "Extra Ele Veto:  1517\n"
      ]
     },
     "metadata": {},
     "output_type": "display_data"
    },
    {
     "data": {
      "text/html": [
       "<pre style=\"white-space:pre;overflow-x:auto;line-height:normal;font-family:Menlo,'DejaVu Sans Mono',consolas,'Courier New',monospace\">Extra Mu Veto:  34\n",
       "</pre>\n"
      ],
      "text/plain": [
       "Extra Mu Veto:  34\n"
      ]
     },
     "metadata": {},
     "output_type": "display_data"
    },
    {
     "data": {
      "text/html": [
       "<pre style=\"white-space:pre;overflow-x:auto;line-height:normal;font-family:Menlo,'DejaVu Sans Mono',consolas,'Courier New',monospace\">BJet Veto:  15\n",
       "</pre>\n"
      ],
      "text/plain": [
       "BJet Veto:  15\n"
      ]
     },
     "metadata": {},
     "output_type": "display_data"
    },
    {
     "data": {
      "text/html": [
       "<pre style=\"white-space:pre;overflow-x:auto;line-height:normal;font-family:Menlo,'DejaVu Sans Mono',consolas,'Courier New',monospace\">Pairs:  26  Vector:  26\n",
       "</pre>\n"
      ],
      "text/plain": [
       "Pairs:  26  Vector:  26\n"
      ]
     },
     "metadata": {},
     "output_type": "display_data"
    },
    {
     "data": {
      "text/html": [
       "<pre style=\"white-space:pre;overflow-x:auto;line-height:normal;font-family:Menlo,'DejaVu Sans Mono',consolas,'Courier New',monospace\">[[True], [False, True, True, True], ... True, True], [False, False, True, True]]\n",
       "</pre>\n"
      ],
      "text/plain": [
       "[[True], [False, True, True, True], ... True, True], [False, False, True, True]]\n"
      ]
     },
     "metadata": {},
     "output_type": "display_data"
    },
    {
     "data": {
      "text/html": [
       "<pre style=\"white-space:pre;overflow-x:auto;line-height:normal;font-family:Menlo,'DejaVu Sans Mono',consolas,'Courier New',monospace\">0\n",
       "</pre>\n"
      ],
      "text/plain": [
       "0\n"
      ]
     },
     "metadata": {},
     "output_type": "display_data"
    },
    {
     "data": {
      "text/html": [
       "<pre style=\"white-space:pre;overflow-x:auto;line-height:normal;font-family:Menlo,'DejaVu Sans Mono',consolas,'Courier New',monospace\">Start:  1643   VV\n",
       "</pre>\n"
      ],
      "text/plain": [
       "Start:  1643   VV\n"
      ]
     },
     "metadata": {},
     "output_type": "display_data"
    },
    {
     "data": {
      "text/html": [
       "<pre style=\"white-space:pre;overflow-x:auto;line-height:normal;font-family:Menlo,'DejaVu Sans Mono',consolas,'Courier New',monospace\">Extra Ele Veto:  1557\n",
       "</pre>\n"
      ],
      "text/plain": [
       "Extra Ele Veto:  1557\n"
      ]
     },
     "metadata": {},
     "output_type": "display_data"
    },
    {
     "data": {
      "text/html": [
       "<pre style=\"white-space:pre;overflow-x:auto;line-height:normal;font-family:Menlo,'DejaVu Sans Mono',consolas,'Courier New',monospace\">Extra Mu Veto:  40\n",
       "</pre>\n"
      ],
      "text/plain": [
       "Extra Mu Veto:  40\n"
      ]
     },
     "metadata": {},
     "output_type": "display_data"
    },
    {
     "data": {
      "text/html": [
       "<pre style=\"white-space:pre;overflow-x:auto;line-height:normal;font-family:Menlo,'DejaVu Sans Mono',consolas,'Courier New',monospace\">BJet Veto:  12\n",
       "</pre>\n"
      ],
      "text/plain": [
       "BJet Veto:  12\n"
      ]
     },
     "metadata": {},
     "output_type": "display_data"
    },
    {
     "data": {
      "text/html": [
       "<pre style=\"white-space:pre;overflow-x:auto;line-height:normal;font-family:Menlo,'DejaVu Sans Mono',consolas,'Courier New',monospace\">Pairs:  24  Vector:  24\n",
       "</pre>\n"
      ],
      "text/plain": [
       "Pairs:  24  Vector:  24\n"
      ]
     },
     "metadata": {},
     "output_type": "display_data"
    },
    {
     "data": {
      "text/html": [
       "<pre style=\"white-space:pre;overflow-x:auto;line-height:normal;font-family:Menlo,'DejaVu Sans Mono',consolas,'Courier New',monospace\">[[], [], [False, False, False, False], [True, ... [False, True, False], [], [], []]\n",
       "</pre>\n"
      ],
      "text/plain": [
       "[[], [], [False, False, False, False], [True, ... [False, True, False], [], [], []]\n"
      ]
     },
     "metadata": {},
     "output_type": "display_data"
    },
    {
     "data": {
      "text/html": [
       "<pre style=\"white-space:pre;overflow-x:auto;line-height:normal;font-family:Menlo,'DejaVu Sans Mono',consolas,'Courier New',monospace\">0\n",
       "</pre>\n"
      ],
      "text/plain": [
       "0\n"
      ]
     },
     "metadata": {},
     "output_type": "display_data"
    },
    {
     "data": {
      "text/html": [
       "<pre style=\"white-space:pre;overflow-x:auto;line-height:normal;font-family:Menlo,'DejaVu Sans Mono',consolas,'Courier New',monospace\">Start:  1667   VV\n",
       "</pre>\n"
      ],
      "text/plain": [
       "Start:  1667   VV\n"
      ]
     },
     "metadata": {},
     "output_type": "display_data"
    },
    {
     "data": {
      "text/html": [
       "<pre style=\"white-space:pre;overflow-x:auto;line-height:normal;font-family:Menlo,'DejaVu Sans Mono',consolas,'Courier New',monospace\">Extra Ele Veto:  1579\n",
       "</pre>\n"
      ],
      "text/plain": [
       "Extra Ele Veto:  1579\n"
      ]
     },
     "metadata": {},
     "output_type": "display_data"
    },
    {
     "data": {
      "text/html": [
       "<pre style=\"white-space:pre;overflow-x:auto;line-height:normal;font-family:Menlo,'DejaVu Sans Mono',consolas,'Courier New',monospace\">Extra Mu Veto:  44\n",
       "</pre>\n"
      ],
      "text/plain": [
       "Extra Mu Veto:  44\n"
      ]
     },
     "metadata": {},
     "output_type": "display_data"
    },
    {
     "data": {
      "text/html": [
       "<pre style=\"white-space:pre;overflow-x:auto;line-height:normal;font-family:Menlo,'DejaVu Sans Mono',consolas,'Courier New',monospace\">BJet Veto:  21\n",
       "</pre>\n"
      ],
      "text/plain": [
       "BJet Veto:  21\n"
      ]
     },
     "metadata": {},
     "output_type": "display_data"
    },
    {
     "data": {
      "text/html": [
       "<pre style=\"white-space:pre;overflow-x:auto;line-height:normal;font-family:Menlo,'DejaVu Sans Mono',consolas,'Courier New',monospace\">Pairs:  46  Vector:  46\n",
       "</pre>\n"
      ],
      "text/plain": [
       "Pairs:  46  Vector:  46\n"
      ]
     },
     "metadata": {},
     "output_type": "display_data"
    },
    {
     "data": {
      "text/html": [
       "<pre style=\"white-space:pre;overflow-x:auto;line-height:normal;font-family:Menlo,'DejaVu Sans Mono',consolas,'Courier New',monospace\">[[], [], [True], [], [], [True, True, True, ... [True], [], [], [], [True, False]]\n",
       "</pre>\n"
      ],
      "text/plain": [
       "[[], [], [True], [], [], [True, True, True, ... [True], [], [], [], [True, False]]\n"
      ]
     },
     "metadata": {},
     "output_type": "display_data"
    },
    {
     "data": {
      "text/html": [
       "<pre style=\"white-space:pre;overflow-x:auto;line-height:normal;font-family:Menlo,'DejaVu Sans Mono',consolas,'Courier New',monospace\">0\n",
       "</pre>\n"
      ],
      "text/plain": [
       "0\n"
      ]
     },
     "metadata": {},
     "output_type": "display_data"
    },
    {
     "data": {
      "text/html": [
       "<pre style=\"white-space:pre;overflow-x:auto;line-height:normal;font-family:Menlo,'DejaVu Sans Mono',consolas,'Courier New',monospace\">Start:  1636   VV\n",
       "</pre>\n"
      ],
      "text/plain": [
       "Start:  1636   VV\n"
      ]
     },
     "metadata": {},
     "output_type": "display_data"
    },
    {
     "data": {
      "text/html": [
       "<pre style=\"white-space:pre;overflow-x:auto;line-height:normal;font-family:Menlo,'DejaVu Sans Mono',consolas,'Courier New',monospace\">Extra Ele Veto:  1542\n",
       "</pre>\n"
      ],
      "text/plain": [
       "Extra Ele Veto:  1542\n"
      ]
     },
     "metadata": {},
     "output_type": "display_data"
    },
    {
     "data": {
      "text/html": [
       "<pre style=\"white-space:pre;overflow-x:auto;line-height:normal;font-family:Menlo,'DejaVu Sans Mono',consolas,'Courier New',monospace\">Extra Mu Veto:  56\n",
       "</pre>\n"
      ],
      "text/plain": [
       "Extra Mu Veto:  56\n"
      ]
     },
     "metadata": {},
     "output_type": "display_data"
    },
    {
     "data": {
      "text/html": [
       "<pre style=\"white-space:pre;overflow-x:auto;line-height:normal;font-family:Menlo,'DejaVu Sans Mono',consolas,'Courier New',monospace\">BJet Veto:  21\n",
       "</pre>\n"
      ],
      "text/plain": [
       "BJet Veto:  21\n"
      ]
     },
     "metadata": {},
     "output_type": "display_data"
    },
    {
     "data": {
      "text/html": [
       "<pre style=\"white-space:pre;overflow-x:auto;line-height:normal;font-family:Menlo,'DejaVu Sans Mono',consolas,'Courier New',monospace\">Pairs:  47  Vector:  47\n",
       "</pre>\n"
      ],
      "text/plain": [
       "Pairs:  47  Vector:  47\n"
      ]
     },
     "metadata": {},
     "output_type": "display_data"
    },
    {
     "data": {
      "text/html": [
       "<pre style=\"white-space:pre;overflow-x:auto;line-height:normal;font-family:Menlo,'DejaVu Sans Mono',consolas,'Courier New',monospace\">[[], [], [], [], [False, False, False, ... True, True, True, True], [True, True], []]\n",
       "</pre>\n"
      ],
      "text/plain": [
       "[[], [], [], [], [False, False, False, ... True, True, True, True], [True, True], []]\n"
      ]
     },
     "metadata": {},
     "output_type": "display_data"
    },
    {
     "data": {
      "text/html": [
       "<pre style=\"white-space:pre;overflow-x:auto;line-height:normal;font-family:Menlo,'DejaVu Sans Mono',consolas,'Courier New',monospace\">0\n",
       "</pre>\n"
      ],
      "text/plain": [
       "0\n"
      ]
     },
     "metadata": {},
     "output_type": "display_data"
    },
    {
     "data": {
      "text/html": [
       "<pre style=\"white-space:pre;overflow-x:auto;line-height:normal;font-family:Menlo,'DejaVu Sans Mono',consolas,'Courier New',monospace\">Start:  964   VV\n",
       "</pre>\n"
      ],
      "text/plain": [
       "Start:  964   VV\n"
      ]
     },
     "metadata": {},
     "output_type": "display_data"
    },
    {
     "data": {
      "text/html": [
       "<pre style=\"white-space:pre;overflow-x:auto;line-height:normal;font-family:Menlo,'DejaVu Sans Mono',consolas,'Courier New',monospace\">Extra Ele Veto:  909\n",
       "</pre>\n"
      ],
      "text/plain": [
       "Extra Ele Veto:  909\n"
      ]
     },
     "metadata": {},
     "output_type": "display_data"
    },
    {
     "data": {
      "text/html": [
       "<pre style=\"white-space:pre;overflow-x:auto;line-height:normal;font-family:Menlo,'DejaVu Sans Mono',consolas,'Courier New',monospace\">Extra Mu Veto:  28\n",
       "</pre>\n"
      ],
      "text/plain": [
       "Extra Mu Veto:  28\n"
      ]
     },
     "metadata": {},
     "output_type": "display_data"
    },
    {
     "data": {
      "text/html": [
       "<pre style=\"white-space:pre;overflow-x:auto;line-height:normal;font-family:Menlo,'DejaVu Sans Mono',consolas,'Courier New',monospace\">BJet Veto:  13\n",
       "</pre>\n"
      ],
      "text/plain": [
       "BJet Veto:  13\n"
      ]
     },
     "metadata": {},
     "output_type": "display_data"
    },
    {
     "data": {
      "text/html": [
       "<pre style=\"white-space:pre;overflow-x:auto;line-height:normal;font-family:Menlo,'DejaVu Sans Mono',consolas,'Courier New',monospace\">Pairs:  23  Vector:  23\n",
       "</pre>\n"
      ],
      "text/plain": [
       "Pairs:  23  Vector:  23\n"
      ]
     },
     "metadata": {},
     "output_type": "display_data"
    },
    {
     "data": {
      "text/html": [
       "<pre style=\"white-space:pre;overflow-x:auto;line-height:normal;font-family:Menlo,'DejaVu Sans Mono',consolas,'Courier New',monospace\">[[], [], [], [], [True], [True, ... [False, False, False, False], [], [True], []]\n",
       "</pre>\n"
      ],
      "text/plain": [
       "[[], [], [], [], [True], [True, ... [False, False, False, False], [], [True], []]\n"
      ]
     },
     "metadata": {},
     "output_type": "display_data"
    },
    {
     "data": {
      "text/html": [
       "<pre style=\"white-space:pre;overflow-x:auto;line-height:normal;font-family:Menlo,'DejaVu Sans Mono',consolas,'Courier New',monospace\">0\n",
       "</pre>\n"
      ],
      "text/plain": [
       "0\n"
      ]
     },
     "metadata": {},
     "output_type": "display_data"
    },
    {
     "data": {
      "text/html": [
       "<pre style=\"white-space:pre;overflow-x:auto;line-height:normal;font-family:Menlo,'DejaVu Sans Mono',consolas,'Courier New',monospace\">Start:  2510   TT\n",
       "</pre>\n"
      ],
      "text/plain": [
       "Start:  2510   TT\n"
      ]
     },
     "metadata": {},
     "output_type": "display_data"
    },
    {
     "data": {
      "text/html": [
       "<pre style=\"white-space:pre;overflow-x:auto;line-height:normal;font-family:Menlo,'DejaVu Sans Mono',consolas,'Courier New',monospace\">Extra Ele Veto:  2120\n",
       "</pre>\n"
      ],
      "text/plain": [
       "Extra Ele Veto:  2120\n"
      ]
     },
     "metadata": {},
     "output_type": "display_data"
    },
    {
     "data": {
      "text/html": [
       "<pre style=\"white-space:pre;overflow-x:auto;line-height:normal;font-family:Menlo,'DejaVu Sans Mono',consolas,'Courier New',monospace\">Extra Mu Veto:  78\n",
       "</pre>\n"
      ],
      "text/plain": [
       "Extra Mu Veto:  78\n"
      ]
     },
     "metadata": {},
     "output_type": "display_data"
    },
    {
     "data": {
      "text/html": [
       "<pre style=\"white-space:pre;overflow-x:auto;line-height:normal;font-family:Menlo,'DejaVu Sans Mono',consolas,'Courier New',monospace\">BJet Veto:  11\n",
       "</pre>\n"
      ],
      "text/plain": [
       "BJet Veto:  11\n"
      ]
     },
     "metadata": {},
     "output_type": "display_data"
    },
    {
     "data": {
      "text/html": [
       "<pre style=\"white-space:pre;overflow-x:auto;line-height:normal;font-family:Menlo,'DejaVu Sans Mono',consolas,'Courier New',monospace\">Pairs:  21  Vector:  21\n",
       "</pre>\n"
      ],
      "text/plain": [
       "Pairs:  21  Vector:  21\n"
      ]
     },
     "metadata": {},
     "output_type": "display_data"
    },
    {
     "data": {
      "text/html": [
       "<pre style=\"white-space:pre;overflow-x:auto;line-height:normal;font-family:Menlo,'DejaVu Sans Mono',consolas,'Courier New',monospace\">[[False], [], [False, True], [], [], [], ... True, True], [], [], [], [True], []]\n",
       "</pre>\n"
      ],
      "text/plain": [
       "[[False], [], [False, True], [], [], [], ... True, True], [], [], [], [True], []]\n"
      ]
     },
     "metadata": {},
     "output_type": "display_data"
    },
    {
     "data": {
      "text/html": [
       "<pre style=\"white-space:pre;overflow-x:auto;line-height:normal;font-family:Menlo,'DejaVu Sans Mono',consolas,'Courier New',monospace\">0\n",
       "</pre>\n"
      ],
      "text/plain": [
       "0\n"
      ]
     },
     "metadata": {},
     "output_type": "display_data"
    },
    {
     "data": {
      "text/html": [
       "<pre style=\"white-space:pre;overflow-x:auto;line-height:normal;font-family:Menlo,'DejaVu Sans Mono',consolas,'Courier New',monospace\">Start:  2455   TT\n",
       "</pre>\n"
      ],
      "text/plain": [
       "Start:  2455   TT\n"
      ]
     },
     "metadata": {},
     "output_type": "display_data"
    },
    {
     "data": {
      "text/html": [
       "<pre style=\"white-space:pre;overflow-x:auto;line-height:normal;font-family:Menlo,'DejaVu Sans Mono',consolas,'Courier New',monospace\">Extra Ele Veto:  2139\n",
       "</pre>\n"
      ],
      "text/plain": [
       "Extra Ele Veto:  2139\n"
      ]
     },
     "metadata": {},
     "output_type": "display_data"
    },
    {
     "data": {
      "text/html": [
       "<pre style=\"white-space:pre;overflow-x:auto;line-height:normal;font-family:Menlo,'DejaVu Sans Mono',consolas,'Courier New',monospace\">Extra Mu Veto:  70\n",
       "</pre>\n"
      ],
      "text/plain": [
       "Extra Mu Veto:  70\n"
      ]
     },
     "metadata": {},
     "output_type": "display_data"
    },
    {
     "data": {
      "text/html": [
       "<pre style=\"white-space:pre;overflow-x:auto;line-height:normal;font-family:Menlo,'DejaVu Sans Mono',consolas,'Courier New',monospace\">BJet Veto:  18\n",
       "</pre>\n"
      ],
      "text/plain": [
       "BJet Veto:  18\n"
      ]
     },
     "metadata": {},
     "output_type": "display_data"
    },
    {
     "data": {
      "text/html": [
       "<pre style=\"white-space:pre;overflow-x:auto;line-height:normal;font-family:Menlo,'DejaVu Sans Mono',consolas,'Courier New',monospace\">Pairs:  36  Vector:  36\n",
       "</pre>\n"
      ],
      "text/plain": [
       "Pairs:  36  Vector:  36\n"
      ]
     },
     "metadata": {},
     "output_type": "display_data"
    },
    {
     "data": {
      "text/html": [
       "<pre style=\"white-space:pre;overflow-x:auto;line-height:normal;font-family:Menlo,'DejaVu Sans Mono',consolas,'Courier New',monospace\">[[True, True, True, True, False, False], [False], ... False, False], [], [], [], []]\n",
       "</pre>\n"
      ],
      "text/plain": [
       "[[True, True, True, True, False, False], [False], ... False, False], [], [], [], []]\n"
      ]
     },
     "metadata": {},
     "output_type": "display_data"
    },
    {
     "data": {
      "text/html": [
       "<pre style=\"white-space:pre;overflow-x:auto;line-height:normal;font-family:Menlo,'DejaVu Sans Mono',consolas,'Courier New',monospace\">0\n",
       "</pre>\n"
      ],
      "text/plain": [
       "0\n"
      ]
     },
     "metadata": {},
     "output_type": "display_data"
    },
    {
     "data": {
      "text/html": [
       "<pre style=\"white-space:pre;overflow-x:auto;line-height:normal;font-family:Menlo,'DejaVu Sans Mono',consolas,'Courier New',monospace\">Start:  2563   TT\n",
       "</pre>\n"
      ],
      "text/plain": [
       "Start:  2563   TT\n"
      ]
     },
     "metadata": {},
     "output_type": "display_data"
    },
    {
     "data": {
      "text/html": [
       "<pre style=\"white-space:pre;overflow-x:auto;line-height:normal;font-family:Menlo,'DejaVu Sans Mono',consolas,'Courier New',monospace\">Extra Ele Veto:  2144\n",
       "</pre>\n"
      ],
      "text/plain": [
       "Extra Ele Veto:  2144\n"
      ]
     },
     "metadata": {},
     "output_type": "display_data"
    },
    {
     "data": {
      "text/html": [
       "<pre style=\"white-space:pre;overflow-x:auto;line-height:normal;font-family:Menlo,'DejaVu Sans Mono',consolas,'Courier New',monospace\">Extra Mu Veto:  87\n",
       "</pre>\n"
      ],
      "text/plain": [
       "Extra Mu Veto:  87\n"
      ]
     },
     "metadata": {},
     "output_type": "display_data"
    },
    {
     "data": {
      "text/html": [
       "<pre style=\"white-space:pre;overflow-x:auto;line-height:normal;font-family:Menlo,'DejaVu Sans Mono',consolas,'Courier New',monospace\">BJet Veto:  9\n",
       "</pre>\n"
      ],
      "text/plain": [
       "BJet Veto:  9\n"
      ]
     },
     "metadata": {},
     "output_type": "display_data"
    },
    {
     "data": {
      "text/html": [
       "<pre style=\"white-space:pre;overflow-x:auto;line-height:normal;font-family:Menlo,'DejaVu Sans Mono',consolas,'Courier New',monospace\">Pairs:  15  Vector:  15\n",
       "</pre>\n"
      ],
      "text/plain": [
       "Pairs:  15  Vector:  15\n"
      ]
     },
     "metadata": {},
     "output_type": "display_data"
    },
    {
     "data": {
      "text/html": [
       "<pre style=\"white-space:pre;overflow-x:auto;line-height:normal;font-family:Menlo,'DejaVu Sans Mono',consolas,'Courier New',monospace\">[[True, True], [], [], [], [], [False, ... [True, False, False], [], [], [False], []]\n",
       "</pre>\n"
      ],
      "text/plain": [
       "[[True, True], [], [], [], [], [False, ... [True, False, False], [], [], [False], []]\n"
      ]
     },
     "metadata": {},
     "output_type": "display_data"
    },
    {
     "data": {
      "text/html": [
       "<pre style=\"white-space:pre;overflow-x:auto;line-height:normal;font-family:Menlo,'DejaVu Sans Mono',consolas,'Courier New',monospace\">0\n",
       "</pre>\n"
      ],
      "text/plain": [
       "0\n"
      ]
     },
     "metadata": {},
     "output_type": "display_data"
    },
    {
     "data": {
      "text/html": [
       "<pre style=\"white-space:pre;overflow-x:auto;line-height:normal;font-family:Menlo,'DejaVu Sans Mono',consolas,'Courier New',monospace\">Start:  2535   TT\n",
       "</pre>\n"
      ],
      "text/plain": [
       "Start:  2535   TT\n"
      ]
     },
     "metadata": {},
     "output_type": "display_data"
    },
    {
     "data": {
      "text/html": [
       "<pre style=\"white-space:pre;overflow-x:auto;line-height:normal;font-family:Menlo,'DejaVu Sans Mono',consolas,'Courier New',monospace\">Extra Ele Veto:  2179\n",
       "</pre>\n"
      ],
      "text/plain": [
       "Extra Ele Veto:  2179\n"
      ]
     },
     "metadata": {},
     "output_type": "display_data"
    },
    {
     "data": {
      "text/html": [
       "<pre style=\"white-space:pre;overflow-x:auto;line-height:normal;font-family:Menlo,'DejaVu Sans Mono',consolas,'Courier New',monospace\">Extra Mu Veto:  70\n",
       "</pre>\n"
      ],
      "text/plain": [
       "Extra Mu Veto:  70\n"
      ]
     },
     "metadata": {},
     "output_type": "display_data"
    },
    {
     "data": {
      "text/html": [
       "<pre style=\"white-space:pre;overflow-x:auto;line-height:normal;font-family:Menlo,'DejaVu Sans Mono',consolas,'Courier New',monospace\">BJet Veto:  11\n",
       "</pre>\n"
      ],
      "text/plain": [
       "BJet Veto:  11\n"
      ]
     },
     "metadata": {},
     "output_type": "display_data"
    },
    {
     "data": {
      "text/html": [
       "<pre style=\"white-space:pre;overflow-x:auto;line-height:normal;font-family:Menlo,'DejaVu Sans Mono',consolas,'Courier New',monospace\">Pairs:  24  Vector:  24\n",
       "</pre>\n"
      ],
      "text/plain": [
       "Pairs:  24  Vector:  24\n"
      ]
     },
     "metadata": {},
     "output_type": "display_data"
    },
    {
     "data": {
      "text/html": [
       "<pre style=\"white-space:pre;overflow-x:auto;line-height:normal;font-family:Menlo,'DejaVu Sans Mono',consolas,'Courier New',monospace\">[[True, True, False, True, True, True], [True, True, ... True], [True], [], [], []]\n",
       "</pre>\n"
      ],
      "text/plain": [
       "[[True, True, False, True, True, True], [True, True, ... True], [True], [], [], []]\n"
      ]
     },
     "metadata": {},
     "output_type": "display_data"
    },
    {
     "data": {
      "text/html": [
       "<pre style=\"white-space:pre;overflow-x:auto;line-height:normal;font-family:Menlo,'DejaVu Sans Mono',consolas,'Courier New',monospace\">Postcut: Pairs:  1  Vector:  1\n",
       "</pre>\n"
      ],
      "text/plain": [
       "Postcut: Pairs:  1  Vector:  1\n"
      ]
     },
     "metadata": {},
     "output_type": "display_data"
    },
    {
     "data": {
      "text/html": [
       "<pre style=\"white-space:pre;overflow-x:auto;line-height:normal;font-family:Menlo,'DejaVu Sans Mono',consolas,'Courier New',monospace\">[[], [], [], [], [], [], [], [], [], [], [], [], [], [], [], [], [], [], [], []]\n",
       "</pre>\n"
      ],
      "text/plain": [
       "[[], [], [], [], [], [], [], [], [], [], [], [], [], [], [], [], [], [], [], []]\n"
      ]
     },
     "metadata": {},
     "output_type": "display_data"
    },
    {
     "data": {
      "text/html": [
       "<pre style=\"white-space:pre;overflow-x:auto;line-height:normal;font-family:Menlo,'DejaVu Sans Mono',consolas,'Courier New',monospace\">[[], [], [], [], [], [], [], [], [], [], [], [], [], [], [], [], [], [], [], []]\n",
       "</pre>\n"
      ],
      "text/plain": [
       "[[], [], [], [], [], [], [], [], [], [], [], [], [], [], [], [], [], [], [], []]\n"
      ]
     },
     "metadata": {},
     "output_type": "display_data"
    },
    {
     "data": {
      "text/html": [
       "<pre style=\"white-space:pre;overflow-x:auto;line-height:normal;font-family:Menlo,'DejaVu Sans Mono',consolas,'Courier New',monospace\">Start:  2503   TT\n",
       "</pre>\n"
      ],
      "text/plain": [
       "Start:  2503   TT\n"
      ]
     },
     "metadata": {},
     "output_type": "display_data"
    },
    {
     "data": {
      "text/html": [
       "<pre style=\"white-space:pre;overflow-x:auto;line-height:normal;font-family:Menlo,'DejaVu Sans Mono',consolas,'Courier New',monospace\">Extra Ele Veto:  2148\n",
       "</pre>\n"
      ],
      "text/plain": [
       "Extra Ele Veto:  2148\n"
      ]
     },
     "metadata": {},
     "output_type": "display_data"
    },
    {
     "data": {
      "text/html": [
       "<pre style=\"white-space:pre;overflow-x:auto;line-height:normal;font-family:Menlo,'DejaVu Sans Mono',consolas,'Courier New',monospace\">Extra Mu Veto:  70\n",
       "</pre>\n"
      ],
      "text/plain": [
       "Extra Mu Veto:  70\n"
      ]
     },
     "metadata": {},
     "output_type": "display_data"
    },
    {
     "data": {
      "text/html": [
       "<pre style=\"white-space:pre;overflow-x:auto;line-height:normal;font-family:Menlo,'DejaVu Sans Mono',consolas,'Courier New',monospace\">BJet Veto:  10\n",
       "</pre>\n"
      ],
      "text/plain": [
       "BJet Veto:  10\n"
      ]
     },
     "metadata": {},
     "output_type": "display_data"
    },
    {
     "data": {
      "text/html": [
       "<pre style=\"white-space:pre;overflow-x:auto;line-height:normal;font-family:Menlo,'DejaVu Sans Mono',consolas,'Courier New',monospace\">Pairs:  22  Vector:  22\n",
       "</pre>\n"
      ],
      "text/plain": [
       "Pairs:  22  Vector:  22\n"
      ]
     },
     "metadata": {},
     "output_type": "display_data"
    },
    {
     "data": {
      "text/html": [
       "<pre style=\"white-space:pre;overflow-x:auto;line-height:normal;font-family:Menlo,'DejaVu Sans Mono',consolas,'Courier New',monospace\">[[], [], [], [True, True], [], ... [], [False, False, False, False, True, True]]\n",
       "</pre>\n"
      ],
      "text/plain": [
       "[[], [], [], [True, True], [], ... [], [False, False, False, False, True, True]]\n"
      ]
     },
     "metadata": {},
     "output_type": "display_data"
    },
    {
     "data": {
      "text/html": [
       "<pre style=\"white-space:pre;overflow-x:auto;line-height:normal;font-family:Menlo,'DejaVu Sans Mono',consolas,'Courier New',monospace\">0\n",
       "</pre>\n"
      ],
      "text/plain": [
       "0\n"
      ]
     },
     "metadata": {},
     "output_type": "display_data"
    },
    {
     "data": {
      "text/html": [
       "<pre style=\"white-space:pre;overflow-x:auto;line-height:normal;font-family:Menlo,'DejaVu Sans Mono',consolas,'Courier New',monospace\">Start:  2548   TT\n",
       "</pre>\n"
      ],
      "text/plain": [
       "Start:  2548   TT\n"
      ]
     },
     "metadata": {},
     "output_type": "display_data"
    },
    {
     "data": {
      "text/html": [
       "<pre style=\"white-space:pre;overflow-x:auto;line-height:normal;font-family:Menlo,'DejaVu Sans Mono',consolas,'Courier New',monospace\">Extra Ele Veto:  2178\n",
       "</pre>\n"
      ],
      "text/plain": [
       "Extra Ele Veto:  2178\n"
      ]
     },
     "metadata": {},
     "output_type": "display_data"
    },
    {
     "data": {
      "text/html": [
       "<pre style=\"white-space:pre;overflow-x:auto;line-height:normal;font-family:Menlo,'DejaVu Sans Mono',consolas,'Courier New',monospace\">Extra Mu Veto:  92\n",
       "</pre>\n"
      ],
      "text/plain": [
       "Extra Mu Veto:  92\n"
      ]
     },
     "metadata": {},
     "output_type": "display_data"
    },
    {
     "data": {
      "text/html": [
       "<pre style=\"white-space:pre;overflow-x:auto;line-height:normal;font-family:Menlo,'DejaVu Sans Mono',consolas,'Courier New',monospace\">BJet Veto:  22\n",
       "</pre>\n"
      ],
      "text/plain": [
       "BJet Veto:  22\n"
      ]
     },
     "metadata": {},
     "output_type": "display_data"
    },
    {
     "data": {
      "text/html": [
       "<pre style=\"white-space:pre;overflow-x:auto;line-height:normal;font-family:Menlo,'DejaVu Sans Mono',consolas,'Courier New',monospace\">Pairs:  63  Vector:  63\n",
       "</pre>\n"
      ],
      "text/plain": [
       "Pairs:  63  Vector:  63\n"
      ]
     },
     "metadata": {},
     "output_type": "display_data"
    },
    {
     "data": {
      "text/html": [
       "<pre style=\"white-space:pre;overflow-x:auto;line-height:normal;font-family:Menlo,'DejaVu Sans Mono',consolas,'Courier New',monospace\">[[False], [], [True], [], [], ... True, False, False, False], [], [True, True, True]]\n",
       "</pre>\n"
      ],
      "text/plain": [
       "[[False], [], [True], [], [], ... True, False, False, False], [], [True, True, True]]\n"
      ]
     },
     "metadata": {},
     "output_type": "display_data"
    },
    {
     "data": {
      "text/html": [
       "<pre style=\"white-space:pre;overflow-x:auto;line-height:normal;font-family:Menlo,'DejaVu Sans Mono',consolas,'Courier New',monospace\">0\n",
       "</pre>\n"
      ],
      "text/plain": [
       "0\n"
      ]
     },
     "metadata": {},
     "output_type": "display_data"
    },
    {
     "data": {
      "text/html": [
       "<pre style=\"white-space:pre;overflow-x:auto;line-height:normal;font-family:Menlo,'DejaVu Sans Mono',consolas,'Courier New',monospace\">Start:  2612   TT\n",
       "</pre>\n"
      ],
      "text/plain": [
       "Start:  2612   TT\n"
      ]
     },
     "metadata": {},
     "output_type": "display_data"
    },
    {
     "data": {
      "text/html": [
       "<pre style=\"white-space:pre;overflow-x:auto;line-height:normal;font-family:Menlo,'DejaVu Sans Mono',consolas,'Courier New',monospace\">Extra Ele Veto:  2202\n",
       "</pre>\n"
      ],
      "text/plain": [
       "Extra Ele Veto:  2202\n"
      ]
     },
     "metadata": {},
     "output_type": "display_data"
    },
    {
     "data": {
      "text/html": [
       "<pre style=\"white-space:pre;overflow-x:auto;line-height:normal;font-family:Menlo,'DejaVu Sans Mono',consolas,'Courier New',monospace\">Extra Mu Veto:  98\n",
       "</pre>\n"
      ],
      "text/plain": [
       "Extra Mu Veto:  98\n"
      ]
     },
     "metadata": {},
     "output_type": "display_data"
    },
    {
     "data": {
      "text/html": [
       "<pre style=\"white-space:pre;overflow-x:auto;line-height:normal;font-family:Menlo,'DejaVu Sans Mono',consolas,'Courier New',monospace\">BJet Veto:  15\n",
       "</pre>\n"
      ],
      "text/plain": [
       "BJet Veto:  15\n"
      ]
     },
     "metadata": {},
     "output_type": "display_data"
    },
    {
     "data": {
      "text/html": [
       "<pre style=\"white-space:pre;overflow-x:auto;line-height:normal;font-family:Menlo,'DejaVu Sans Mono',consolas,'Courier New',monospace\">Pairs:  41  Vector:  41\n",
       "</pre>\n"
      ],
      "text/plain": [
       "Pairs:  41  Vector:  41\n"
      ]
     },
     "metadata": {},
     "output_type": "display_data"
    },
    {
     "data": {
      "text/html": [
       "<pre style=\"white-space:pre;overflow-x:auto;line-height:normal;font-family:Menlo,'DejaVu Sans Mono',consolas,'Courier New',monospace\">[[False, False, True, False, False], [True, ... [True, True], [False, True, False]]\n",
       "</pre>\n"
      ],
      "text/plain": [
       "[[False, False, True, False, False], [True, ... [True, True], [False, True, False]]\n"
      ]
     },
     "metadata": {},
     "output_type": "display_data"
    },
    {
     "data": {
      "text/html": [
       "<pre style=\"white-space:pre;overflow-x:auto;line-height:normal;font-family:Menlo,'DejaVu Sans Mono',consolas,'Courier New',monospace\">0\n",
       "</pre>\n"
      ],
      "text/plain": [
       "0\n"
      ]
     },
     "metadata": {},
     "output_type": "display_data"
    },
    {
     "data": {
      "text/html": [
       "<pre style=\"white-space:pre;overflow-x:auto;line-height:normal;font-family:Menlo,'DejaVu Sans Mono',consolas,'Courier New',monospace\">Start:  2470   TT\n",
       "</pre>\n"
      ],
      "text/plain": [
       "Start:  2470   TT\n"
      ]
     },
     "metadata": {},
     "output_type": "display_data"
    },
    {
     "data": {
      "text/html": [
       "<pre style=\"white-space:pre;overflow-x:auto;line-height:normal;font-family:Menlo,'DejaVu Sans Mono',consolas,'Courier New',monospace\">Extra Ele Veto:  2102\n",
       "</pre>\n"
      ],
      "text/plain": [
       "Extra Ele Veto:  2102\n"
      ]
     },
     "metadata": {},
     "output_type": "display_data"
    },
    {
     "data": {
      "text/html": [
       "<pre style=\"white-space:pre;overflow-x:auto;line-height:normal;font-family:Menlo,'DejaVu Sans Mono',consolas,'Courier New',monospace\">Extra Mu Veto:  67\n",
       "</pre>\n"
      ],
      "text/plain": [
       "Extra Mu Veto:  67\n"
      ]
     },
     "metadata": {},
     "output_type": "display_data"
    },
    {
     "data": {
      "text/html": [
       "<pre style=\"white-space:pre;overflow-x:auto;line-height:normal;font-family:Menlo,'DejaVu Sans Mono',consolas,'Courier New',monospace\">BJet Veto:  14\n",
       "</pre>\n"
      ],
      "text/plain": [
       "BJet Veto:  14\n"
      ]
     },
     "metadata": {},
     "output_type": "display_data"
    },
    {
     "data": {
      "text/html": [
       "<pre style=\"white-space:pre;overflow-x:auto;line-height:normal;font-family:Menlo,'DejaVu Sans Mono',consolas,'Courier New',monospace\">Pairs:  25  Vector:  25\n",
       "</pre>\n"
      ],
      "text/plain": [
       "Pairs:  25  Vector:  25\n"
      ]
     },
     "metadata": {},
     "output_type": "display_data"
    },
    {
     "data": {
      "text/html": [
       "<pre style=\"white-space:pre;overflow-x:auto;line-height:normal;font-family:Menlo,'DejaVu Sans Mono',consolas,'Courier New',monospace\">[[], [], [True], [], [False, False], ... [True], [], [], [True, False, True], []]\n",
       "</pre>\n"
      ],
      "text/plain": [
       "[[], [], [True], [], [False, False], ... [True], [], [], [True, False, True], []]\n"
      ]
     },
     "metadata": {},
     "output_type": "display_data"
    },
    {
     "data": {
      "text/html": [
       "<pre style=\"white-space:pre;overflow-x:auto;line-height:normal;font-family:Menlo,'DejaVu Sans Mono',consolas,'Courier New',monospace\">0\n",
       "</pre>\n"
      ],
      "text/plain": [
       "0\n"
      ]
     },
     "metadata": {},
     "output_type": "display_data"
    },
    {
     "data": {
      "text/html": [
       "<pre style=\"white-space:pre;overflow-x:auto;line-height:normal;font-family:Menlo,'DejaVu Sans Mono',consolas,'Courier New',monospace\">Start:  2583   TT\n",
       "</pre>\n"
      ],
      "text/plain": [
       "Start:  2583   TT\n"
      ]
     },
     "metadata": {},
     "output_type": "display_data"
    },
    {
     "data": {
      "text/html": [
       "<pre style=\"white-space:pre;overflow-x:auto;line-height:normal;font-family:Menlo,'DejaVu Sans Mono',consolas,'Courier New',monospace\">Extra Ele Veto:  2189\n",
       "</pre>\n"
      ],
      "text/plain": [
       "Extra Ele Veto:  2189\n"
      ]
     },
     "metadata": {},
     "output_type": "display_data"
    },
    {
     "data": {
      "text/html": [
       "<pre style=\"white-space:pre;overflow-x:auto;line-height:normal;font-family:Menlo,'DejaVu Sans Mono',consolas,'Courier New',monospace\">Extra Mu Veto:  86\n",
       "</pre>\n"
      ],
      "text/plain": [
       "Extra Mu Veto:  86\n"
      ]
     },
     "metadata": {},
     "output_type": "display_data"
    },
    {
     "data": {
      "text/html": [
       "<pre style=\"white-space:pre;overflow-x:auto;line-height:normal;font-family:Menlo,'DejaVu Sans Mono',consolas,'Courier New',monospace\">BJet Veto:  14\n",
       "</pre>\n"
      ],
      "text/plain": [
       "BJet Veto:  14\n"
      ]
     },
     "metadata": {},
     "output_type": "display_data"
    },
    {
     "data": {
      "text/html": [
       "<pre style=\"white-space:pre;overflow-x:auto;line-height:normal;font-family:Menlo,'DejaVu Sans Mono',consolas,'Courier New',monospace\">Pairs:  25  Vector:  25\n",
       "</pre>\n"
      ],
      "text/plain": [
       "Pairs:  25  Vector:  25\n"
      ]
     },
     "metadata": {},
     "output_type": "display_data"
    },
    {
     "data": {
      "text/html": [
       "<pre style=\"white-space:pre;overflow-x:auto;line-height:normal;font-family:Menlo,'DejaVu Sans Mono',consolas,'Courier New',monospace\">[[], [False, True], [False, False, True, True, ... True], [], [], [True, False]]\n",
       "</pre>\n"
      ],
      "text/plain": [
       "[[], [False, True], [False, False, True, True, ... True], [], [], [True, False]]\n"
      ]
     },
     "metadata": {},
     "output_type": "display_data"
    },
    {
     "data": {
      "text/html": [
       "<pre style=\"white-space:pre;overflow-x:auto;line-height:normal;font-family:Menlo,'DejaVu Sans Mono',consolas,'Courier New',monospace\">0\n",
       "</pre>\n"
      ],
      "text/plain": [
       "0\n"
      ]
     },
     "metadata": {},
     "output_type": "display_data"
    },
    {
     "data": {
      "text/html": [
       "<pre style=\"white-space:pre;overflow-x:auto;line-height:normal;font-family:Menlo,'DejaVu Sans Mono',consolas,'Courier New',monospace\">Start:  2518   TT\n",
       "</pre>\n"
      ],
      "text/plain": [
       "Start:  2518   TT\n"
      ]
     },
     "metadata": {},
     "output_type": "display_data"
    },
    {
     "data": {
      "text/html": [
       "<pre style=\"white-space:pre;overflow-x:auto;line-height:normal;font-family:Menlo,'DejaVu Sans Mono',consolas,'Courier New',monospace\">Extra Ele Veto:  2174\n",
       "</pre>\n"
      ],
      "text/plain": [
       "Extra Ele Veto:  2174\n"
      ]
     },
     "metadata": {},
     "output_type": "display_data"
    },
    {
     "data": {
      "text/html": [
       "<pre style=\"white-space:pre;overflow-x:auto;line-height:normal;font-family:Menlo,'DejaVu Sans Mono',consolas,'Courier New',monospace\">Extra Mu Veto:  103\n",
       "</pre>\n"
      ],
      "text/plain": [
       "Extra Mu Veto:  103\n"
      ]
     },
     "metadata": {},
     "output_type": "display_data"
    },
    {
     "data": {
      "text/html": [
       "<pre style=\"white-space:pre;overflow-x:auto;line-height:normal;font-family:Menlo,'DejaVu Sans Mono',consolas,'Courier New',monospace\">BJet Veto:  18\n",
       "</pre>\n"
      ],
      "text/plain": [
       "BJet Veto:  18\n"
      ]
     },
     "metadata": {},
     "output_type": "display_data"
    },
    {
     "data": {
      "text/html": [
       "<pre style=\"white-space:pre;overflow-x:auto;line-height:normal;font-family:Menlo,'DejaVu Sans Mono',consolas,'Courier New',monospace\">Pairs:  28  Vector:  28\n",
       "</pre>\n"
      ],
      "text/plain": [
       "Pairs:  28  Vector:  28\n"
      ]
     },
     "metadata": {},
     "output_type": "display_data"
    },
    {
     "data": {
      "text/html": [
       "<pre style=\"white-space:pre;overflow-x:auto;line-height:normal;font-family:Menlo,'DejaVu Sans Mono',consolas,'Courier New',monospace\">[[False, True, True], [True], [], [], ... [], [True, False], [False, True, True]]\n",
       "</pre>\n"
      ],
      "text/plain": [
       "[[False, True, True], [True], [], [], ... [], [True, False], [False, True, True]]\n"
      ]
     },
     "metadata": {},
     "output_type": "display_data"
    },
    {
     "data": {
      "text/html": [
       "<pre style=\"white-space:pre;overflow-x:auto;line-height:normal;font-family:Menlo,'DejaVu Sans Mono',consolas,'Courier New',monospace\">Postcut: Pairs:  1  Vector:  1\n",
       "</pre>\n"
      ],
      "text/plain": [
       "Postcut: Pairs:  1  Vector:  1\n"
      ]
     },
     "metadata": {},
     "output_type": "display_data"
    },
    {
     "data": {
      "text/html": [
       "<pre style=\"white-space:pre;overflow-x:auto;line-height:normal;font-family:Menlo,'DejaVu Sans Mono',consolas,'Courier New',monospace\">[[], [], [], [], [], [], [], [], [], [], ... [], [], [], [], [], [], [], [], [], []]\n",
       "</pre>\n"
      ],
      "text/plain": [
       "[[], [], [], [], [], [], [], [], [], [], ... [], [], [], [], [], [], [], [], [], []]\n"
      ]
     },
     "metadata": {},
     "output_type": "display_data"
    },
    {
     "data": {
      "text/html": [
       "<pre style=\"white-space:pre;overflow-x:auto;line-height:normal;font-family:Menlo,'DejaVu Sans Mono',consolas,'Courier New',monospace\">[[], [], [], [], [], [], [], [], [], [], ... [], [], [], [], [], [], [], [], [], []]\n",
       "</pre>\n"
      ],
      "text/plain": [
       "[[], [], [], [], [], [], [], [], [], [], ... [], [], [], [], [], [], [], [], [], []]\n"
      ]
     },
     "metadata": {},
     "output_type": "display_data"
    },
    {
     "data": {
      "text/html": [
       "<pre style=\"white-space:pre;overflow-x:auto;line-height:normal;font-family:Menlo,'DejaVu Sans Mono',consolas,'Courier New',monospace\">Start:  2480   TT\n",
       "</pre>\n"
      ],
      "text/plain": [
       "Start:  2480   TT\n"
      ]
     },
     "metadata": {},
     "output_type": "display_data"
    },
    {
     "data": {
      "text/html": [
       "<pre style=\"white-space:pre;overflow-x:auto;line-height:normal;font-family:Menlo,'DejaVu Sans Mono',consolas,'Courier New',monospace\">Extra Ele Veto:  2127\n",
       "</pre>\n"
      ],
      "text/plain": [
       "Extra Ele Veto:  2127\n"
      ]
     },
     "metadata": {},
     "output_type": "display_data"
    },
    {
     "data": {
      "text/html": [
       "<pre style=\"white-space:pre;overflow-x:auto;line-height:normal;font-family:Menlo,'DejaVu Sans Mono',consolas,'Courier New',monospace\">Extra Mu Veto:  94\n",
       "</pre>\n"
      ],
      "text/plain": [
       "Extra Mu Veto:  94\n"
      ]
     },
     "metadata": {},
     "output_type": "display_data"
    },
    {
     "data": {
      "text/html": [
       "<pre style=\"white-space:pre;overflow-x:auto;line-height:normal;font-family:Menlo,'DejaVu Sans Mono',consolas,'Courier New',monospace\">BJet Veto:  19\n",
       "</pre>\n"
      ],
      "text/plain": [
       "BJet Veto:  19\n"
      ]
     },
     "metadata": {},
     "output_type": "display_data"
    },
    {
     "data": {
      "text/html": [
       "<pre style=\"white-space:pre;overflow-x:auto;line-height:normal;font-family:Menlo,'DejaVu Sans Mono',consolas,'Courier New',monospace\">Pairs:  40  Vector:  40\n",
       "</pre>\n"
      ],
      "text/plain": [
       "Pairs:  40  Vector:  40\n"
      ]
     },
     "metadata": {},
     "output_type": "display_data"
    },
    {
     "data": {
      "text/html": [
       "<pre style=\"white-space:pre;overflow-x:auto;line-height:normal;font-family:Menlo,'DejaVu Sans Mono',consolas,'Courier New',monospace\">[[], [True], [False, True], [], [], ... False, False], [True, False, False], [], []]\n",
       "</pre>\n"
      ],
      "text/plain": [
       "[[], [True], [False, True], [], [], ... False, False], [True, False, False], [], []]\n"
      ]
     },
     "metadata": {},
     "output_type": "display_data"
    },
    {
     "data": {
      "text/html": [
       "<pre style=\"white-space:pre;overflow-x:auto;line-height:normal;font-family:Menlo,'DejaVu Sans Mono',consolas,'Courier New',monospace\">0\n",
       "</pre>\n"
      ],
      "text/plain": [
       "0\n"
      ]
     },
     "metadata": {},
     "output_type": "display_data"
    },
    {
     "data": {
      "text/html": [
       "<pre style=\"white-space:pre;overflow-x:auto;line-height:normal;font-family:Menlo,'DejaVu Sans Mono',consolas,'Courier New',monospace\">Start:  2515   TT\n",
       "</pre>\n"
      ],
      "text/plain": [
       "Start:  2515   TT\n"
      ]
     },
     "metadata": {},
     "output_type": "display_data"
    },
    {
     "data": {
      "text/html": [
       "<pre style=\"white-space:pre;overflow-x:auto;line-height:normal;font-family:Menlo,'DejaVu Sans Mono',consolas,'Courier New',monospace\">Extra Ele Veto:  2138\n",
       "</pre>\n"
      ],
      "text/plain": [
       "Extra Ele Veto:  2138\n"
      ]
     },
     "metadata": {},
     "output_type": "display_data"
    },
    {
     "data": {
      "text/html": [
       "<pre style=\"white-space:pre;overflow-x:auto;line-height:normal;font-family:Menlo,'DejaVu Sans Mono',consolas,'Courier New',monospace\">Extra Mu Veto:  79\n",
       "</pre>\n"
      ],
      "text/plain": [
       "Extra Mu Veto:  79\n"
      ]
     },
     "metadata": {},
     "output_type": "display_data"
    },
    {
     "data": {
      "text/html": [
       "<pre style=\"white-space:pre;overflow-x:auto;line-height:normal;font-family:Menlo,'DejaVu Sans Mono',consolas,'Courier New',monospace\">BJet Veto:  21\n",
       "</pre>\n"
      ],
      "text/plain": [
       "BJet Veto:  21\n"
      ]
     },
     "metadata": {},
     "output_type": "display_data"
    },
    {
     "data": {
      "text/html": [
       "<pre style=\"white-space:pre;overflow-x:auto;line-height:normal;font-family:Menlo,'DejaVu Sans Mono',consolas,'Courier New',monospace\">Pairs:  40  Vector:  40\n",
       "</pre>\n"
      ],
      "text/plain": [
       "Pairs:  40  Vector:  40\n"
      ]
     },
     "metadata": {},
     "output_type": "display_data"
    },
    {
     "data": {
      "text/html": [
       "<pre style=\"white-space:pre;overflow-x:auto;line-height:normal;font-family:Menlo,'DejaVu Sans Mono',consolas,'Courier New',monospace\">[[False], [True], [], [True, True, True], ... False], [], [], [True, True], []]\n",
       "</pre>\n"
      ],
      "text/plain": [
       "[[False], [True], [], [True, True, True], ... False], [], [], [True, True], []]\n"
      ]
     },
     "metadata": {},
     "output_type": "display_data"
    },
    {
     "data": {
      "text/html": [
       "<pre style=\"white-space:pre;overflow-x:auto;line-height:normal;font-family:Menlo,'DejaVu Sans Mono',consolas,'Courier New',monospace\">0\n",
       "</pre>\n"
      ],
      "text/plain": [
       "0\n"
      ]
     },
     "metadata": {},
     "output_type": "display_data"
    },
    {
     "data": {
      "text/html": [
       "<pre style=\"white-space:pre;overflow-x:auto;line-height:normal;font-family:Menlo,'DejaVu Sans Mono',consolas,'Courier New',monospace\">Start:  2577   TT\n",
       "</pre>\n"
      ],
      "text/plain": [
       "Start:  2577   TT\n"
      ]
     },
     "metadata": {},
     "output_type": "display_data"
    },
    {
     "data": {
      "text/html": [
       "<pre style=\"white-space:pre;overflow-x:auto;line-height:normal;font-family:Menlo,'DejaVu Sans Mono',consolas,'Courier New',monospace\">Extra Ele Veto:  2187\n",
       "</pre>\n"
      ],
      "text/plain": [
       "Extra Ele Veto:  2187\n"
      ]
     },
     "metadata": {},
     "output_type": "display_data"
    },
    {
     "data": {
      "text/html": [
       "<pre style=\"white-space:pre;overflow-x:auto;line-height:normal;font-family:Menlo,'DejaVu Sans Mono',consolas,'Courier New',monospace\">Extra Mu Veto:  99\n",
       "</pre>\n"
      ],
      "text/plain": [
       "Extra Mu Veto:  99\n"
      ]
     },
     "metadata": {},
     "output_type": "display_data"
    },
    {
     "data": {
      "text/html": [
       "<pre style=\"white-space:pre;overflow-x:auto;line-height:normal;font-family:Menlo,'DejaVu Sans Mono',consolas,'Courier New',monospace\">BJet Veto:  19\n",
       "</pre>\n"
      ],
      "text/plain": [
       "BJet Veto:  19\n"
      ]
     },
     "metadata": {},
     "output_type": "display_data"
    },
    {
     "data": {
      "text/html": [
       "<pre style=\"white-space:pre;overflow-x:auto;line-height:normal;font-family:Menlo,'DejaVu Sans Mono',consolas,'Courier New',monospace\">Pairs:  44  Vector:  44\n",
       "</pre>\n"
      ],
      "text/plain": [
       "Pairs:  44  Vector:  44\n"
      ]
     },
     "metadata": {},
     "output_type": "display_data"
    },
    {
     "data": {
      "text/html": [
       "<pre style=\"white-space:pre;overflow-x:auto;line-height:normal;font-family:Menlo,'DejaVu Sans Mono',consolas,'Courier New',monospace\">[[], [True, True, True, True, True], [False], ... [], [False, True], [True], [True]]\n",
       "</pre>\n"
      ],
      "text/plain": [
       "[[], [True, True, True, True, True], [False], ... [], [False, True], [True], [True]]\n"
      ]
     },
     "metadata": {},
     "output_type": "display_data"
    },
    {
     "data": {
      "text/html": [
       "<pre style=\"white-space:pre;overflow-x:auto;line-height:normal;font-family:Menlo,'DejaVu Sans Mono',consolas,'Courier New',monospace\">0\n",
       "</pre>\n"
      ],
      "text/plain": [
       "0\n"
      ]
     },
     "metadata": {},
     "output_type": "display_data"
    },
    {
     "data": {
      "text/html": [
       "<pre style=\"white-space:pre;overflow-x:auto;line-height:normal;font-family:Menlo,'DejaVu Sans Mono',consolas,'Courier New',monospace\">Start:  2545   TT\n",
       "</pre>\n"
      ],
      "text/plain": [
       "Start:  2545   TT\n"
      ]
     },
     "metadata": {},
     "output_type": "display_data"
    },
    {
     "data": {
      "text/html": [
       "<pre style=\"white-space:pre;overflow-x:auto;line-height:normal;font-family:Menlo,'DejaVu Sans Mono',consolas,'Courier New',monospace\">Extra Ele Veto:  2172\n",
       "</pre>\n"
      ],
      "text/plain": [
       "Extra Ele Veto:  2172\n"
      ]
     },
     "metadata": {},
     "output_type": "display_data"
    },
    {
     "data": {
      "text/html": [
       "<pre style=\"white-space:pre;overflow-x:auto;line-height:normal;font-family:Menlo,'DejaVu Sans Mono',consolas,'Courier New',monospace\">Extra Mu Veto:  72\n",
       "</pre>\n"
      ],
      "text/plain": [
       "Extra Mu Veto:  72\n"
      ]
     },
     "metadata": {},
     "output_type": "display_data"
    },
    {
     "data": {
      "text/html": [
       "<pre style=\"white-space:pre;overflow-x:auto;line-height:normal;font-family:Menlo,'DejaVu Sans Mono',consolas,'Courier New',monospace\">BJet Veto:  13\n",
       "</pre>\n"
      ],
      "text/plain": [
       "BJet Veto:  13\n"
      ]
     },
     "metadata": {},
     "output_type": "display_data"
    },
    {
     "data": {
      "text/html": [
       "<pre style=\"white-space:pre;overflow-x:auto;line-height:normal;font-family:Menlo,'DejaVu Sans Mono',consolas,'Courier New',monospace\">Pairs:  22  Vector:  22\n",
       "</pre>\n"
      ],
      "text/plain": [
       "Pairs:  22  Vector:  22\n"
      ]
     },
     "metadata": {},
     "output_type": "display_data"
    },
    {
     "data": {
      "text/html": [
       "<pre style=\"white-space:pre;overflow-x:auto;line-height:normal;font-family:Menlo,'DejaVu Sans Mono',consolas,'Courier New',monospace\">[[False, False, True, True], [False, True], [False, ... [], [], [True, True], [], []]\n",
       "</pre>\n"
      ],
      "text/plain": [
       "[[False, False, True, True], [False, True], [False, ... [], [], [True, True], [], []]\n"
      ]
     },
     "metadata": {},
     "output_type": "display_data"
    },
    {
     "data": {
      "text/html": [
       "<pre style=\"white-space:pre;overflow-x:auto;line-height:normal;font-family:Menlo,'DejaVu Sans Mono',consolas,'Courier New',monospace\">0\n",
       "</pre>\n"
      ],
      "text/plain": [
       "0\n"
      ]
     },
     "metadata": {},
     "output_type": "display_data"
    },
    {
     "data": {
      "text/html": [
       "<pre style=\"white-space:pre;overflow-x:auto;line-height:normal;font-family:Menlo,'DejaVu Sans Mono',consolas,'Courier New',monospace\">Start:  2528   TT\n",
       "</pre>\n"
      ],
      "text/plain": [
       "Start:  2528   TT\n"
      ]
     },
     "metadata": {},
     "output_type": "display_data"
    },
    {
     "data": {
      "text/html": [
       "<pre style=\"white-space:pre;overflow-x:auto;line-height:normal;font-family:Menlo,'DejaVu Sans Mono',consolas,'Courier New',monospace\">Extra Ele Veto:  2167\n",
       "</pre>\n"
      ],
      "text/plain": [
       "Extra Ele Veto:  2167\n"
      ]
     },
     "metadata": {},
     "output_type": "display_data"
    },
    {
     "data": {
      "text/html": [
       "<pre style=\"white-space:pre;overflow-x:auto;line-height:normal;font-family:Menlo,'DejaVu Sans Mono',consolas,'Courier New',monospace\">Extra Mu Veto:  72\n",
       "</pre>\n"
      ],
      "text/plain": [
       "Extra Mu Veto:  72\n"
      ]
     },
     "metadata": {},
     "output_type": "display_data"
    },
    {
     "data": {
      "text/html": [
       "<pre style=\"white-space:pre;overflow-x:auto;line-height:normal;font-family:Menlo,'DejaVu Sans Mono',consolas,'Courier New',monospace\">BJet Veto:  19\n",
       "</pre>\n"
      ],
      "text/plain": [
       "BJet Veto:  19\n"
      ]
     },
     "metadata": {},
     "output_type": "display_data"
    },
    {
     "data": {
      "text/html": [
       "<pre style=\"white-space:pre;overflow-x:auto;line-height:normal;font-family:Menlo,'DejaVu Sans Mono',consolas,'Courier New',monospace\">Pairs:  41  Vector:  41\n",
       "</pre>\n"
      ],
      "text/plain": [
       "Pairs:  41  Vector:  41\n"
      ]
     },
     "metadata": {},
     "output_type": "display_data"
    },
    {
     "data": {
      "text/html": [
       "<pre style=\"white-space:pre;overflow-x:auto;line-height:normal;font-family:Menlo,'DejaVu Sans Mono',consolas,'Courier New',monospace\">[[], [False, False, True, True], [True], [True], ... [], [], [], [], [], [], []]\n",
       "</pre>\n"
      ],
      "text/plain": [
       "[[], [False, False, True, True], [True], [True], ... [], [], [], [], [], [], []]\n"
      ]
     },
     "metadata": {},
     "output_type": "display_data"
    },
    {
     "data": {
      "text/html": [
       "<pre style=\"white-space:pre;overflow-x:auto;line-height:normal;font-family:Menlo,'DejaVu Sans Mono',consolas,'Courier New',monospace\">0\n",
       "</pre>\n"
      ],
      "text/plain": [
       "0\n"
      ]
     },
     "metadata": {},
     "output_type": "display_data"
    },
    {
     "data": {
      "text/html": [
       "<pre style=\"white-space:pre;overflow-x:auto;line-height:normal;font-family:Menlo,'DejaVu Sans Mono',consolas,'Courier New',monospace\">Start:  2541   TT\n",
       "</pre>\n"
      ],
      "text/plain": [
       "Start:  2541   TT\n"
      ]
     },
     "metadata": {},
     "output_type": "display_data"
    },
    {
     "data": {
      "text/html": [
       "<pre style=\"white-space:pre;overflow-x:auto;line-height:normal;font-family:Menlo,'DejaVu Sans Mono',consolas,'Courier New',monospace\">Extra Ele Veto:  2161\n",
       "</pre>\n"
      ],
      "text/plain": [
       "Extra Ele Veto:  2161\n"
      ]
     },
     "metadata": {},
     "output_type": "display_data"
    },
    {
     "data": {
      "text/html": [
       "<pre style=\"white-space:pre;overflow-x:auto;line-height:normal;font-family:Menlo,'DejaVu Sans Mono',consolas,'Courier New',monospace\">Extra Mu Veto:  105\n",
       "</pre>\n"
      ],
      "text/plain": [
       "Extra Mu Veto:  105\n"
      ]
     },
     "metadata": {},
     "output_type": "display_data"
    },
    {
     "data": {
      "text/html": [
       "<pre style=\"white-space:pre;overflow-x:auto;line-height:normal;font-family:Menlo,'DejaVu Sans Mono',consolas,'Courier New',monospace\">BJet Veto:  22\n",
       "</pre>\n"
      ],
      "text/plain": [
       "BJet Veto:  22\n"
      ]
     },
     "metadata": {},
     "output_type": "display_data"
    },
    {
     "data": {
      "text/html": [
       "<pre style=\"white-space:pre;overflow-x:auto;line-height:normal;font-family:Menlo,'DejaVu Sans Mono',consolas,'Courier New',monospace\">Pairs:  43  Vector:  43\n",
       "</pre>\n"
      ],
      "text/plain": [
       "Pairs:  43  Vector:  43\n"
      ]
     },
     "metadata": {},
     "output_type": "display_data"
    },
    {
     "data": {
      "text/html": [
       "<pre style=\"white-space:pre;overflow-x:auto;line-height:normal;font-family:Menlo,'DejaVu Sans Mono',consolas,'Courier New',monospace\">[[], [False, True, True, False], [True], ... [], [False], [True, False, True]]\n",
       "</pre>\n"
      ],
      "text/plain": [
       "[[], [False, True, True, False], [True], ... [], [False], [True, False, True]]\n"
      ]
     },
     "metadata": {},
     "output_type": "display_data"
    },
    {
     "data": {
      "text/html": [
       "<pre style=\"white-space:pre;overflow-x:auto;line-height:normal;font-family:Menlo,'DejaVu Sans Mono',consolas,'Courier New',monospace\">0\n",
       "</pre>\n"
      ],
      "text/plain": [
       "0\n"
      ]
     },
     "metadata": {},
     "output_type": "display_data"
    },
    {
     "data": {
      "text/html": [
       "<pre style=\"white-space:pre;overflow-x:auto;line-height:normal;font-family:Menlo,'DejaVu Sans Mono',consolas,'Courier New',monospace\">Start:  2463   TT\n",
       "</pre>\n"
      ],
      "text/plain": [
       "Start:  2463   TT\n"
      ]
     },
     "metadata": {},
     "output_type": "display_data"
    },
    {
     "data": {
      "text/html": [
       "<pre style=\"white-space:pre;overflow-x:auto;line-height:normal;font-family:Menlo,'DejaVu Sans Mono',consolas,'Courier New',monospace\">Extra Ele Veto:  2075\n",
       "</pre>\n"
      ],
      "text/plain": [
       "Extra Ele Veto:  2075\n"
      ]
     },
     "metadata": {},
     "output_type": "display_data"
    },
    {
     "data": {
      "text/html": [
       "<pre style=\"white-space:pre;overflow-x:auto;line-height:normal;font-family:Menlo,'DejaVu Sans Mono',consolas,'Courier New',monospace\">Extra Mu Veto:  71\n",
       "</pre>\n"
      ],
      "text/plain": [
       "Extra Mu Veto:  71\n"
      ]
     },
     "metadata": {},
     "output_type": "display_data"
    },
    {
     "data": {
      "text/html": [
       "<pre style=\"white-space:pre;overflow-x:auto;line-height:normal;font-family:Menlo,'DejaVu Sans Mono',consolas,'Courier New',monospace\">BJet Veto:  14\n",
       "</pre>\n"
      ],
      "text/plain": [
       "BJet Veto:  14\n"
      ]
     },
     "metadata": {},
     "output_type": "display_data"
    },
    {
     "data": {
      "text/html": [
       "<pre style=\"white-space:pre;overflow-x:auto;line-height:normal;font-family:Menlo,'DejaVu Sans Mono',consolas,'Courier New',monospace\">Pairs:  33  Vector:  33\n",
       "</pre>\n"
      ],
      "text/plain": [
       "Pairs:  33  Vector:  33\n"
      ]
     },
     "metadata": {},
     "output_type": "display_data"
    },
    {
     "data": {
      "text/html": [
       "<pre style=\"white-space:pre;overflow-x:auto;line-height:normal;font-family:Menlo,'DejaVu Sans Mono',consolas,'Courier New',monospace\">[[False], [], [True], [], [], ... False, False], [True, True, True, True], [], []]\n",
       "</pre>\n"
      ],
      "text/plain": [
       "[[False], [], [True], [], [], ... False, False], [True, True, True, True], [], []]\n"
      ]
     },
     "metadata": {},
     "output_type": "display_data"
    },
    {
     "data": {
      "text/html": [
       "<pre style=\"white-space:pre;overflow-x:auto;line-height:normal;font-family:Menlo,'DejaVu Sans Mono',consolas,'Courier New',monospace\">0\n",
       "</pre>\n"
      ],
      "text/plain": [
       "0\n"
      ]
     },
     "metadata": {},
     "output_type": "display_data"
    },
    {
     "data": {
      "text/html": [
       "<pre style=\"white-space:pre;overflow-x:auto;line-height:normal;font-family:Menlo,'DejaVu Sans Mono',consolas,'Courier New',monospace\">Start:  2526   TT\n",
       "</pre>\n"
      ],
      "text/plain": [
       "Start:  2526   TT\n"
      ]
     },
     "metadata": {},
     "output_type": "display_data"
    },
    {
     "data": {
      "text/html": [
       "<pre style=\"white-space:pre;overflow-x:auto;line-height:normal;font-family:Menlo,'DejaVu Sans Mono',consolas,'Courier New',monospace\">Extra Ele Veto:  2165\n",
       "</pre>\n"
      ],
      "text/plain": [
       "Extra Ele Veto:  2165\n"
      ]
     },
     "metadata": {},
     "output_type": "display_data"
    },
    {
     "data": {
      "text/html": [
       "<pre style=\"white-space:pre;overflow-x:auto;line-height:normal;font-family:Menlo,'DejaVu Sans Mono',consolas,'Courier New',monospace\">Extra Mu Veto:  71\n",
       "</pre>\n"
      ],
      "text/plain": [
       "Extra Mu Veto:  71\n"
      ]
     },
     "metadata": {},
     "output_type": "display_data"
    },
    {
     "data": {
      "text/html": [
       "<pre style=\"white-space:pre;overflow-x:auto;line-height:normal;font-family:Menlo,'DejaVu Sans Mono',consolas,'Courier New',monospace\">BJet Veto:  13\n",
       "</pre>\n"
      ],
      "text/plain": [
       "BJet Veto:  13\n"
      ]
     },
     "metadata": {},
     "output_type": "display_data"
    },
    {
     "data": {
      "text/html": [
       "<pre style=\"white-space:pre;overflow-x:auto;line-height:normal;font-family:Menlo,'DejaVu Sans Mono',consolas,'Courier New',monospace\">Pairs:  37  Vector:  37\n",
       "</pre>\n"
      ],
      "text/plain": [
       "Pairs:  37  Vector:  37\n"
      ]
     },
     "metadata": {},
     "output_type": "display_data"
    },
    {
     "data": {
      "text/html": [
       "<pre style=\"white-space:pre;overflow-x:auto;line-height:normal;font-family:Menlo,'DejaVu Sans Mono',consolas,'Courier New',monospace\">[[], [], [True, True, False, False, True, ... [], [False, True, False, True, True]]\n",
       "</pre>\n"
      ],
      "text/plain": [
       "[[], [], [True, True, False, False, True, ... [], [False, True, False, True, True]]\n"
      ]
     },
     "metadata": {},
     "output_type": "display_data"
    },
    {
     "data": {
      "text/html": [
       "<pre style=\"white-space:pre;overflow-x:auto;line-height:normal;font-family:Menlo,'DejaVu Sans Mono',consolas,'Courier New',monospace\">0\n",
       "</pre>\n"
      ],
      "text/plain": [
       "0\n"
      ]
     },
     "metadata": {},
     "output_type": "display_data"
    },
    {
     "data": {
      "text/html": [
       "<pre style=\"white-space:pre;overflow-x:auto;line-height:normal;font-family:Menlo,'DejaVu Sans Mono',consolas,'Courier New',monospace\">Start:  2469   TT\n",
       "</pre>\n"
      ],
      "text/plain": [
       "Start:  2469   TT\n"
      ]
     },
     "metadata": {},
     "output_type": "display_data"
    },
    {
     "data": {
      "text/html": [
       "<pre style=\"white-space:pre;overflow-x:auto;line-height:normal;font-family:Menlo,'DejaVu Sans Mono',consolas,'Courier New',monospace\">Extra Ele Veto:  2107\n",
       "</pre>\n"
      ],
      "text/plain": [
       "Extra Ele Veto:  2107\n"
      ]
     },
     "metadata": {},
     "output_type": "display_data"
    },
    {
     "data": {
      "text/html": [
       "<pre style=\"white-space:pre;overflow-x:auto;line-height:normal;font-family:Menlo,'DejaVu Sans Mono',consolas,'Courier New',monospace\">Extra Mu Veto:  87\n",
       "</pre>\n"
      ],
      "text/plain": [
       "Extra Mu Veto:  87\n"
      ]
     },
     "metadata": {},
     "output_type": "display_data"
    },
    {
     "data": {
      "text/html": [
       "<pre style=\"white-space:pre;overflow-x:auto;line-height:normal;font-family:Menlo,'DejaVu Sans Mono',consolas,'Courier New',monospace\">BJet Veto:  21\n",
       "</pre>\n"
      ],
      "text/plain": [
       "BJet Veto:  21\n"
      ]
     },
     "metadata": {},
     "output_type": "display_data"
    },
    {
     "data": {
      "text/html": [
       "<pre style=\"white-space:pre;overflow-x:auto;line-height:normal;font-family:Menlo,'DejaVu Sans Mono',consolas,'Courier New',monospace\">Pairs:  34  Vector:  34\n",
       "</pre>\n"
      ],
      "text/plain": [
       "Pairs:  34  Vector:  34\n"
      ]
     },
     "metadata": {},
     "output_type": "display_data"
    },
    {
     "data": {
      "text/html": [
       "<pre style=\"white-space:pre;overflow-x:auto;line-height:normal;font-family:Menlo,'DejaVu Sans Mono',consolas,'Courier New',monospace\">[[True], [False], [False, False], [], ... False, False], [], [], [False, True, True]]\n",
       "</pre>\n"
      ],
      "text/plain": [
       "[[True], [False], [False, False], [], ... False, False], [], [], [False, True, True]]\n"
      ]
     },
     "metadata": {},
     "output_type": "display_data"
    },
    {
     "data": {
      "text/html": [
       "<pre style=\"white-space:pre;overflow-x:auto;line-height:normal;font-family:Menlo,'DejaVu Sans Mono',consolas,'Courier New',monospace\">0\n",
       "</pre>\n"
      ],
      "text/plain": [
       "0\n"
      ]
     },
     "metadata": {},
     "output_type": "display_data"
    },
    {
     "data": {
      "text/html": [
       "<pre style=\"white-space:pre;overflow-x:auto;line-height:normal;font-family:Menlo,'DejaVu Sans Mono',consolas,'Courier New',monospace\">Start:  2538   TT\n",
       "</pre>\n"
      ],
      "text/plain": [
       "Start:  2538   TT\n"
      ]
     },
     "metadata": {},
     "output_type": "display_data"
    },
    {
     "data": {
      "text/html": [
       "<pre style=\"white-space:pre;overflow-x:auto;line-height:normal;font-family:Menlo,'DejaVu Sans Mono',consolas,'Courier New',monospace\">Extra Ele Veto:  2169\n",
       "</pre>\n"
      ],
      "text/plain": [
       "Extra Ele Veto:  2169\n"
      ]
     },
     "metadata": {},
     "output_type": "display_data"
    },
    {
     "data": {
      "text/html": [
       "<pre style=\"white-space:pre;overflow-x:auto;line-height:normal;font-family:Menlo,'DejaVu Sans Mono',consolas,'Courier New',monospace\">Extra Mu Veto:  91\n",
       "</pre>\n"
      ],
      "text/plain": [
       "Extra Mu Veto:  91\n"
      ]
     },
     "metadata": {},
     "output_type": "display_data"
    },
    {
     "data": {
      "text/html": [
       "<pre style=\"white-space:pre;overflow-x:auto;line-height:normal;font-family:Menlo,'DejaVu Sans Mono',consolas,'Courier New',monospace\">BJet Veto:  23\n",
       "</pre>\n"
      ],
      "text/plain": [
       "BJet Veto:  23\n"
      ]
     },
     "metadata": {},
     "output_type": "display_data"
    },
    {
     "data": {
      "text/html": [
       "<pre style=\"white-space:pre;overflow-x:auto;line-height:normal;font-family:Menlo,'DejaVu Sans Mono',consolas,'Courier New',monospace\">Pairs:  36  Vector:  36\n",
       "</pre>\n"
      ],
      "text/plain": [
       "Pairs:  36  Vector:  36\n"
      ]
     },
     "metadata": {},
     "output_type": "display_data"
    },
    {
     "data": {
      "text/html": [
       "<pre style=\"white-space:pre;overflow-x:auto;line-height:normal;font-family:Menlo,'DejaVu Sans Mono',consolas,'Courier New',monospace\">[[], [], [True, True, True, True, True, True, ... [], [], [], [True, False, False]]\n",
       "</pre>\n"
      ],
      "text/plain": [
       "[[], [], [True, True, True, True, True, True, ... [], [], [], [True, False, False]]\n"
      ]
     },
     "metadata": {},
     "output_type": "display_data"
    },
    {
     "data": {
      "text/html": [
       "<pre style=\"white-space:pre;overflow-x:auto;line-height:normal;font-family:Menlo,'DejaVu Sans Mono',consolas,'Courier New',monospace\">0\n",
       "</pre>\n"
      ],
      "text/plain": [
       "0\n"
      ]
     },
     "metadata": {},
     "output_type": "display_data"
    },
    {
     "data": {
      "text/html": [
       "<pre style=\"white-space:pre;overflow-x:auto;line-height:normal;font-family:Menlo,'DejaVu Sans Mono',consolas,'Courier New',monospace\">Start:  2501   TT\n",
       "</pre>\n"
      ],
      "text/plain": [
       "Start:  2501   TT\n"
      ]
     },
     "metadata": {},
     "output_type": "display_data"
    },
    {
     "data": {
      "text/html": [
       "<pre style=\"white-space:pre;overflow-x:auto;line-height:normal;font-family:Menlo,'DejaVu Sans Mono',consolas,'Courier New',monospace\">Extra Ele Veto:  2180\n",
       "</pre>\n"
      ],
      "text/plain": [
       "Extra Ele Veto:  2180\n"
      ]
     },
     "metadata": {},
     "output_type": "display_data"
    },
    {
     "data": {
      "text/html": [
       "<pre style=\"white-space:pre;overflow-x:auto;line-height:normal;font-family:Menlo,'DejaVu Sans Mono',consolas,'Courier New',monospace\">Extra Mu Veto:  91\n",
       "</pre>\n"
      ],
      "text/plain": [
       "Extra Mu Veto:  91\n"
      ]
     },
     "metadata": {},
     "output_type": "display_data"
    },
    {
     "data": {
      "text/html": [
       "<pre style=\"white-space:pre;overflow-x:auto;line-height:normal;font-family:Menlo,'DejaVu Sans Mono',consolas,'Courier New',monospace\">BJet Veto:  21\n",
       "</pre>\n"
      ],
      "text/plain": [
       "BJet Veto:  21\n"
      ]
     },
     "metadata": {},
     "output_type": "display_data"
    },
    {
     "data": {
      "text/html": [
       "<pre style=\"white-space:pre;overflow-x:auto;line-height:normal;font-family:Menlo,'DejaVu Sans Mono',consolas,'Courier New',monospace\">Pairs:  44  Vector:  44\n",
       "</pre>\n"
      ],
      "text/plain": [
       "Pairs:  44  Vector:  44\n"
      ]
     },
     "metadata": {},
     "output_type": "display_data"
    },
    {
     "data": {
      "text/html": [
       "<pre style=\"white-space:pre;overflow-x:auto;line-height:normal;font-family:Menlo,'DejaVu Sans Mono',consolas,'Courier New',monospace\">[[], [], [], [], [False, False, False, ... [], [], [False, False, False, False]]\n",
       "</pre>\n"
      ],
      "text/plain": [
       "[[], [], [], [], [False, False, False, ... [], [], [False, False, False, False]]\n"
      ]
     },
     "metadata": {},
     "output_type": "display_data"
    },
    {
     "data": {
      "text/html": [
       "<pre style=\"white-space:pre;overflow-x:auto;line-height:normal;font-family:Menlo,'DejaVu Sans Mono',consolas,'Courier New',monospace\">0\n",
       "</pre>\n"
      ],
      "text/plain": [
       "0\n"
      ]
     },
     "metadata": {},
     "output_type": "display_data"
    },
    {
     "data": {
      "text/html": [
       "<pre style=\"white-space:pre;overflow-x:auto;line-height:normal;font-family:Menlo,'DejaVu Sans Mono',consolas,'Courier New',monospace\">Start:  2522   TT\n",
       "</pre>\n"
      ],
      "text/plain": [
       "Start:  2522   TT\n"
      ]
     },
     "metadata": {},
     "output_type": "display_data"
    },
    {
     "data": {
      "text/html": [
       "<pre style=\"white-space:pre;overflow-x:auto;line-height:normal;font-family:Menlo,'DejaVu Sans Mono',consolas,'Courier New',monospace\">Extra Ele Veto:  2148\n",
       "</pre>\n"
      ],
      "text/plain": [
       "Extra Ele Veto:  2148\n"
      ]
     },
     "metadata": {},
     "output_type": "display_data"
    },
    {
     "data": {
      "text/html": [
       "<pre style=\"white-space:pre;overflow-x:auto;line-height:normal;font-family:Menlo,'DejaVu Sans Mono',consolas,'Courier New',monospace\">Extra Mu Veto:  93\n",
       "</pre>\n"
      ],
      "text/plain": [
       "Extra Mu Veto:  93\n"
      ]
     },
     "metadata": {},
     "output_type": "display_data"
    },
    {
     "data": {
      "text/html": [
       "<pre style=\"white-space:pre;overflow-x:auto;line-height:normal;font-family:Menlo,'DejaVu Sans Mono',consolas,'Courier New',monospace\">BJet Veto:  19\n",
       "</pre>\n"
      ],
      "text/plain": [
       "BJet Veto:  19\n"
      ]
     },
     "metadata": {},
     "output_type": "display_data"
    },
    {
     "data": {
      "text/html": [
       "<pre style=\"white-space:pre;overflow-x:auto;line-height:normal;font-family:Menlo,'DejaVu Sans Mono',consolas,'Courier New',monospace\">Pairs:  33  Vector:  33\n",
       "</pre>\n"
      ],
      "text/plain": [
       "Pairs:  33  Vector:  33\n"
      ]
     },
     "metadata": {},
     "output_type": "display_data"
    },
    {
     "data": {
      "text/html": [
       "<pre style=\"white-space:pre;overflow-x:auto;line-height:normal;font-family:Menlo,'DejaVu Sans Mono',consolas,'Courier New',monospace\">[[True], [True, False], [], [], [True, ... [], [True, False], [True, True], []]\n",
       "</pre>\n"
      ],
      "text/plain": [
       "[[True], [True, False], [], [], [True, ... [], [True, False], [True, True], []]\n"
      ]
     },
     "metadata": {},
     "output_type": "display_data"
    },
    {
     "data": {
      "text/html": [
       "<pre style=\"white-space:pre;overflow-x:auto;line-height:normal;font-family:Menlo,'DejaVu Sans Mono',consolas,'Courier New',monospace\">0\n",
       "</pre>\n"
      ],
      "text/plain": [
       "0\n"
      ]
     },
     "metadata": {},
     "output_type": "display_data"
    },
    {
     "data": {
      "text/html": [
       "<pre style=\"white-space:pre;overflow-x:auto;line-height:normal;font-family:Menlo,'DejaVu Sans Mono',consolas,'Courier New',monospace\">Start:  2472   TT\n",
       "</pre>\n"
      ],
      "text/plain": [
       "Start:  2472   TT\n"
      ]
     },
     "metadata": {},
     "output_type": "display_data"
    },
    {
     "data": {
      "text/html": [
       "<pre style=\"white-space:pre;overflow-x:auto;line-height:normal;font-family:Menlo,'DejaVu Sans Mono',consolas,'Courier New',monospace\">Extra Ele Veto:  2156\n",
       "</pre>\n"
      ],
      "text/plain": [
       "Extra Ele Veto:  2156\n"
      ]
     },
     "metadata": {},
     "output_type": "display_data"
    },
    {
     "data": {
      "text/html": [
       "<pre style=\"white-space:pre;overflow-x:auto;line-height:normal;font-family:Menlo,'DejaVu Sans Mono',consolas,'Courier New',monospace\">Extra Mu Veto:  81\n",
       "</pre>\n"
      ],
      "text/plain": [
       "Extra Mu Veto:  81\n"
      ]
     },
     "metadata": {},
     "output_type": "display_data"
    },
    {
     "data": {
      "text/html": [
       "<pre style=\"white-space:pre;overflow-x:auto;line-height:normal;font-family:Menlo,'DejaVu Sans Mono',consolas,'Courier New',monospace\">BJet Veto:  12\n",
       "</pre>\n"
      ],
      "text/plain": [
       "BJet Veto:  12\n"
      ]
     },
     "metadata": {},
     "output_type": "display_data"
    },
    {
     "data": {
      "text/html": [
       "<pre style=\"white-space:pre;overflow-x:auto;line-height:normal;font-family:Menlo,'DejaVu Sans Mono',consolas,'Courier New',monospace\">Pairs:  19  Vector:  19\n",
       "</pre>\n"
      ],
      "text/plain": [
       "Pairs:  19  Vector:  19\n"
      ]
     },
     "metadata": {},
     "output_type": "display_data"
    },
    {
     "data": {
      "text/html": [
       "<pre style=\"white-space:pre;overflow-x:auto;line-height:normal;font-family:Menlo,'DejaVu Sans Mono',consolas,'Courier New',monospace\">[[], [False, True], [], [True, False, False], ... [True, True], [], [], [], []]\n",
       "</pre>\n"
      ],
      "text/plain": [
       "[[], [False, True], [], [True, False, False], ... [True, True], [], [], [], []]\n"
      ]
     },
     "metadata": {},
     "output_type": "display_data"
    },
    {
     "data": {
      "text/html": [
       "<pre style=\"white-space:pre;overflow-x:auto;line-height:normal;font-family:Menlo,'DejaVu Sans Mono',consolas,'Courier New',monospace\">0\n",
       "</pre>\n"
      ],
      "text/plain": [
       "0\n"
      ]
     },
     "metadata": {},
     "output_type": "display_data"
    },
    {
     "data": {
      "text/html": [
       "<pre style=\"white-space:pre;overflow-x:auto;line-height:normal;font-family:Menlo,'DejaVu Sans Mono',consolas,'Courier New',monospace\">Start:  2538   TT\n",
       "</pre>\n"
      ],
      "text/plain": [
       "Start:  2538   TT\n"
      ]
     },
     "metadata": {},
     "output_type": "display_data"
    },
    {
     "data": {
      "text/html": [
       "<pre style=\"white-space:pre;overflow-x:auto;line-height:normal;font-family:Menlo,'DejaVu Sans Mono',consolas,'Courier New',monospace\">Extra Ele Veto:  2224\n",
       "</pre>\n"
      ],
      "text/plain": [
       "Extra Ele Veto:  2224\n"
      ]
     },
     "metadata": {},
     "output_type": "display_data"
    },
    {
     "data": {
      "text/html": [
       "<pre style=\"white-space:pre;overflow-x:auto;line-height:normal;font-family:Menlo,'DejaVu Sans Mono',consolas,'Courier New',monospace\">Extra Mu Veto:  91\n",
       "</pre>\n"
      ],
      "text/plain": [
       "Extra Mu Veto:  91\n"
      ]
     },
     "metadata": {},
     "output_type": "display_data"
    },
    {
     "data": {
      "text/html": [
       "<pre style=\"white-space:pre;overflow-x:auto;line-height:normal;font-family:Menlo,'DejaVu Sans Mono',consolas,'Courier New',monospace\">BJet Veto:  13\n",
       "</pre>\n"
      ],
      "text/plain": [
       "BJet Veto:  13\n"
      ]
     },
     "metadata": {},
     "output_type": "display_data"
    },
    {
     "data": {
      "text/html": [
       "<pre style=\"white-space:pre;overflow-x:auto;line-height:normal;font-family:Menlo,'DejaVu Sans Mono',consolas,'Courier New',monospace\">Pairs:  22  Vector:  22\n",
       "</pre>\n"
      ],
      "text/plain": [
       "Pairs:  22  Vector:  22\n"
      ]
     },
     "metadata": {},
     "output_type": "display_data"
    },
    {
     "data": {
      "text/html": [
       "<pre style=\"white-space:pre;overflow-x:auto;line-height:normal;font-family:Menlo,'DejaVu Sans Mono',consolas,'Courier New',monospace\">[[], [False, True], [], [False, False, ... [True, False, True], [], [True, True]]\n",
       "</pre>\n"
      ],
      "text/plain": [
       "[[], [False, True], [], [False, False, ... [True, False, True], [], [True, True]]\n"
      ]
     },
     "metadata": {},
     "output_type": "display_data"
    },
    {
     "data": {
      "text/html": [
       "<pre style=\"white-space:pre;overflow-x:auto;line-height:normal;font-family:Menlo,'DejaVu Sans Mono',consolas,'Courier New',monospace\">0\n",
       "</pre>\n"
      ],
      "text/plain": [
       "0\n"
      ]
     },
     "metadata": {},
     "output_type": "display_data"
    },
    {
     "data": {
      "text/html": [
       "<pre style=\"white-space:pre;overflow-x:auto;line-height:normal;font-family:Menlo,'DejaVu Sans Mono',consolas,'Courier New',monospace\">Start:  2544   TT\n",
       "</pre>\n"
      ],
      "text/plain": [
       "Start:  2544   TT\n"
      ]
     },
     "metadata": {},
     "output_type": "display_data"
    },
    {
     "data": {
      "text/html": [
       "<pre style=\"white-space:pre;overflow-x:auto;line-height:normal;font-family:Menlo,'DejaVu Sans Mono',consolas,'Courier New',monospace\">Extra Ele Veto:  2170\n",
       "</pre>\n"
      ],
      "text/plain": [
       "Extra Ele Veto:  2170\n"
      ]
     },
     "metadata": {},
     "output_type": "display_data"
    },
    {
     "data": {
      "text/html": [
       "<pre style=\"white-space:pre;overflow-x:auto;line-height:normal;font-family:Menlo,'DejaVu Sans Mono',consolas,'Courier New',monospace\">Extra Mu Veto:  92\n",
       "</pre>\n"
      ],
      "text/plain": [
       "Extra Mu Veto:  92\n"
      ]
     },
     "metadata": {},
     "output_type": "display_data"
    },
    {
     "data": {
      "text/html": [
       "<pre style=\"white-space:pre;overflow-x:auto;line-height:normal;font-family:Menlo,'DejaVu Sans Mono',consolas,'Courier New',monospace\">BJet Veto:  27\n",
       "</pre>\n"
      ],
      "text/plain": [
       "BJet Veto:  27\n"
      ]
     },
     "metadata": {},
     "output_type": "display_data"
    },
    {
     "data": {
      "text/html": [
       "<pre style=\"white-space:pre;overflow-x:auto;line-height:normal;font-family:Menlo,'DejaVu Sans Mono',consolas,'Courier New',monospace\">Pairs:  40  Vector:  40\n",
       "</pre>\n"
      ],
      "text/plain": [
       "Pairs:  40  Vector:  40\n"
      ]
     },
     "metadata": {},
     "output_type": "display_data"
    },
    {
     "data": {
      "text/html": [
       "<pre style=\"white-space:pre;overflow-x:auto;line-height:normal;font-family:Menlo,'DejaVu Sans Mono',consolas,'Courier New',monospace\">[[True, True, True, True], [True, False, False], ... [False], [], [False, False]]\n",
       "</pre>\n"
      ],
      "text/plain": [
       "[[True, True, True, True], [True, False, False], ... [False], [], [False, False]]\n"
      ]
     },
     "metadata": {},
     "output_type": "display_data"
    },
    {
     "data": {
      "text/html": [
       "<pre style=\"white-space:pre;overflow-x:auto;line-height:normal;font-family:Menlo,'DejaVu Sans Mono',consolas,'Courier New',monospace\">0\n",
       "</pre>\n"
      ],
      "text/plain": [
       "0\n"
      ]
     },
     "metadata": {},
     "output_type": "display_data"
    },
    {
     "data": {
      "text/html": [
       "<pre style=\"white-space:pre;overflow-x:auto;line-height:normal;font-family:Menlo,'DejaVu Sans Mono',consolas,'Courier New',monospace\">Start:  2603   TT\n",
       "</pre>\n"
      ],
      "text/plain": [
       "Start:  2603   TT\n"
      ]
     },
     "metadata": {},
     "output_type": "display_data"
    },
    {
     "data": {
      "text/html": [
       "<pre style=\"white-space:pre;overflow-x:auto;line-height:normal;font-family:Menlo,'DejaVu Sans Mono',consolas,'Courier New',monospace\">Extra Ele Veto:  2204\n",
       "</pre>\n"
      ],
      "text/plain": [
       "Extra Ele Veto:  2204\n"
      ]
     },
     "metadata": {},
     "output_type": "display_data"
    },
    {
     "data": {
      "text/html": [
       "<pre style=\"white-space:pre;overflow-x:auto;line-height:normal;font-family:Menlo,'DejaVu Sans Mono',consolas,'Courier New',monospace\">Extra Mu Veto:  98\n",
       "</pre>\n"
      ],
      "text/plain": [
       "Extra Mu Veto:  98\n"
      ]
     },
     "metadata": {},
     "output_type": "display_data"
    },
    {
     "data": {
      "text/html": [
       "<pre style=\"white-space:pre;overflow-x:auto;line-height:normal;font-family:Menlo,'DejaVu Sans Mono',consolas,'Courier New',monospace\">BJet Veto:  24\n",
       "</pre>\n"
      ],
      "text/plain": [
       "BJet Veto:  24\n"
      ]
     },
     "metadata": {},
     "output_type": "display_data"
    },
    {
     "data": {
      "text/html": [
       "<pre style=\"white-space:pre;overflow-x:auto;line-height:normal;font-family:Menlo,'DejaVu Sans Mono',consolas,'Courier New',monospace\">Pairs:  49  Vector:  49\n",
       "</pre>\n"
      ],
      "text/plain": [
       "Pairs:  49  Vector:  49\n"
      ]
     },
     "metadata": {},
     "output_type": "display_data"
    },
    {
     "data": {
      "text/html": [
       "<pre style=\"white-space:pre;overflow-x:auto;line-height:normal;font-family:Menlo,'DejaVu Sans Mono',consolas,'Courier New',monospace\">[[], [False, True], [], [True], [], ... True], [], [False, False], [True], []]\n",
       "</pre>\n"
      ],
      "text/plain": [
       "[[], [False, True], [], [True], [], ... True], [], [False, False], [True], []]\n"
      ]
     },
     "metadata": {},
     "output_type": "display_data"
    },
    {
     "data": {
      "text/html": [
       "<pre style=\"white-space:pre;overflow-x:auto;line-height:normal;font-family:Menlo,'DejaVu Sans Mono',consolas,'Courier New',monospace\">0\n",
       "</pre>\n"
      ],
      "text/plain": [
       "0\n"
      ]
     },
     "metadata": {},
     "output_type": "display_data"
    },
    {
     "data": {
      "text/html": [
       "<pre style=\"white-space:pre;overflow-x:auto;line-height:normal;font-family:Menlo,'DejaVu Sans Mono',consolas,'Courier New',monospace\">Start:  2549   TT\n",
       "</pre>\n"
      ],
      "text/plain": [
       "Start:  2549   TT\n"
      ]
     },
     "metadata": {},
     "output_type": "display_data"
    },
    {
     "data": {
      "text/html": [
       "<pre style=\"white-space:pre;overflow-x:auto;line-height:normal;font-family:Menlo,'DejaVu Sans Mono',consolas,'Courier New',monospace\">Extra Ele Veto:  2147\n",
       "</pre>\n"
      ],
      "text/plain": [
       "Extra Ele Veto:  2147\n"
      ]
     },
     "metadata": {},
     "output_type": "display_data"
    },
    {
     "data": {
      "text/html": [
       "<pre style=\"white-space:pre;overflow-x:auto;line-height:normal;font-family:Menlo,'DejaVu Sans Mono',consolas,'Courier New',monospace\">Extra Mu Veto:  85\n",
       "</pre>\n"
      ],
      "text/plain": [
       "Extra Mu Veto:  85\n"
      ]
     },
     "metadata": {},
     "output_type": "display_data"
    },
    {
     "data": {
      "text/html": [
       "<pre style=\"white-space:pre;overflow-x:auto;line-height:normal;font-family:Menlo,'DejaVu Sans Mono',consolas,'Courier New',monospace\">BJet Veto:  15\n",
       "</pre>\n"
      ],
      "text/plain": [
       "BJet Veto:  15\n"
      ]
     },
     "metadata": {},
     "output_type": "display_data"
    },
    {
     "data": {
      "text/html": [
       "<pre style=\"white-space:pre;overflow-x:auto;line-height:normal;font-family:Menlo,'DejaVu Sans Mono',consolas,'Courier New',monospace\">Pairs:  33  Vector:  33\n",
       "</pre>\n"
      ],
      "text/plain": [
       "Pairs:  33  Vector:  33\n"
      ]
     },
     "metadata": {},
     "output_type": "display_data"
    },
    {
     "data": {
      "text/html": [
       "<pre style=\"white-space:pre;overflow-x:auto;line-height:normal;font-family:Menlo,'DejaVu Sans Mono',consolas,'Courier New',monospace\">[[], [], [], [True, True, True], ... [], [False, True], [True, True, True]]\n",
       "</pre>\n"
      ],
      "text/plain": [
       "[[], [], [], [True, True, True], ... [], [False, True], [True, True, True]]\n"
      ]
     },
     "metadata": {},
     "output_type": "display_data"
    },
    {
     "data": {
      "text/html": [
       "<pre style=\"white-space:pre;overflow-x:auto;line-height:normal;font-family:Menlo,'DejaVu Sans Mono',consolas,'Courier New',monospace\">0\n",
       "</pre>\n"
      ],
      "text/plain": [
       "0\n"
      ]
     },
     "metadata": {},
     "output_type": "display_data"
    },
    {
     "data": {
      "text/html": [
       "<pre style=\"white-space:pre;overflow-x:auto;line-height:normal;font-family:Menlo,'DejaVu Sans Mono',consolas,'Courier New',monospace\">Start:  2510   TT\n",
       "</pre>\n"
      ],
      "text/plain": [
       "Start:  2510   TT\n"
      ]
     },
     "metadata": {},
     "output_type": "display_data"
    },
    {
     "data": {
      "text/html": [
       "<pre style=\"white-space:pre;overflow-x:auto;line-height:normal;font-family:Menlo,'DejaVu Sans Mono',consolas,'Courier New',monospace\">Extra Ele Veto:  2137\n",
       "</pre>\n"
      ],
      "text/plain": [
       "Extra Ele Veto:  2137\n"
      ]
     },
     "metadata": {},
     "output_type": "display_data"
    },
    {
     "data": {
      "text/html": [
       "<pre style=\"white-space:pre;overflow-x:auto;line-height:normal;font-family:Menlo,'DejaVu Sans Mono',consolas,'Courier New',monospace\">Extra Mu Veto:  81\n",
       "</pre>\n"
      ],
      "text/plain": [
       "Extra Mu Veto:  81\n"
      ]
     },
     "metadata": {},
     "output_type": "display_data"
    },
    {
     "data": {
      "text/html": [
       "<pre style=\"white-space:pre;overflow-x:auto;line-height:normal;font-family:Menlo,'DejaVu Sans Mono',consolas,'Courier New',monospace\">BJet Veto:  19\n",
       "</pre>\n"
      ],
      "text/plain": [
       "BJet Veto:  19\n"
      ]
     },
     "metadata": {},
     "output_type": "display_data"
    },
    {
     "data": {
      "text/html": [
       "<pre style=\"white-space:pre;overflow-x:auto;line-height:normal;font-family:Menlo,'DejaVu Sans Mono',consolas,'Courier New',monospace\">Pairs:  36  Vector:  36\n",
       "</pre>\n"
      ],
      "text/plain": [
       "Pairs:  36  Vector:  36\n"
      ]
     },
     "metadata": {},
     "output_type": "display_data"
    },
    {
     "data": {
      "text/html": [
       "<pre style=\"white-space:pre;overflow-x:auto;line-height:normal;font-family:Menlo,'DejaVu Sans Mono',consolas,'Courier New',monospace\">[[True, True, False], [], [], [False], ... True, True, False], [], [True, True], []]\n",
       "</pre>\n"
      ],
      "text/plain": [
       "[[True, True, False], [], [], [False], ... True, True, False], [], [True, True], []]\n"
      ]
     },
     "metadata": {},
     "output_type": "display_data"
    },
    {
     "data": {
      "text/html": [
       "<pre style=\"white-space:pre;overflow-x:auto;line-height:normal;font-family:Menlo,'DejaVu Sans Mono',consolas,'Courier New',monospace\">0\n",
       "</pre>\n"
      ],
      "text/plain": [
       "0\n"
      ]
     },
     "metadata": {},
     "output_type": "display_data"
    },
    {
     "data": {
      "text/html": [
       "<pre style=\"white-space:pre;overflow-x:auto;line-height:normal;font-family:Menlo,'DejaVu Sans Mono',consolas,'Courier New',monospace\">Start:  2531   TT\n",
       "</pre>\n"
      ],
      "text/plain": [
       "Start:  2531   TT\n"
      ]
     },
     "metadata": {},
     "output_type": "display_data"
    },
    {
     "data": {
      "text/html": [
       "<pre style=\"white-space:pre;overflow-x:auto;line-height:normal;font-family:Menlo,'DejaVu Sans Mono',consolas,'Courier New',monospace\">Extra Ele Veto:  2181\n",
       "</pre>\n"
      ],
      "text/plain": [
       "Extra Ele Veto:  2181\n"
      ]
     },
     "metadata": {},
     "output_type": "display_data"
    },
    {
     "data": {
      "text/html": [
       "<pre style=\"white-space:pre;overflow-x:auto;line-height:normal;font-family:Menlo,'DejaVu Sans Mono',consolas,'Courier New',monospace\">Extra Mu Veto:  78\n",
       "</pre>\n"
      ],
      "text/plain": [
       "Extra Mu Veto:  78\n"
      ]
     },
     "metadata": {},
     "output_type": "display_data"
    },
    {
     "data": {
      "text/html": [
       "<pre style=\"white-space:pre;overflow-x:auto;line-height:normal;font-family:Menlo,'DejaVu Sans Mono',consolas,'Courier New',monospace\">BJet Veto:  19\n",
       "</pre>\n"
      ],
      "text/plain": [
       "BJet Veto:  19\n"
      ]
     },
     "metadata": {},
     "output_type": "display_data"
    },
    {
     "data": {
      "text/html": [
       "<pre style=\"white-space:pre;overflow-x:auto;line-height:normal;font-family:Menlo,'DejaVu Sans Mono',consolas,'Courier New',monospace\">Pairs:  30  Vector:  30\n",
       "</pre>\n"
      ],
      "text/plain": [
       "Pairs:  30  Vector:  30\n"
      ]
     },
     "metadata": {},
     "output_type": "display_data"
    },
    {
     "data": {
      "text/html": [
       "<pre style=\"white-space:pre;overflow-x:auto;line-height:normal;font-family:Menlo,'DejaVu Sans Mono',consolas,'Courier New',monospace\">[[], [True, True], [False, True], [], ... [False, True], [True, True], [True]]\n",
       "</pre>\n"
      ],
      "text/plain": [
       "[[], [True, True], [False, True], [], ... [False, True], [True, True], [True]]\n"
      ]
     },
     "metadata": {},
     "output_type": "display_data"
    },
    {
     "data": {
      "text/html": [
       "<pre style=\"white-space:pre;overflow-x:auto;line-height:normal;font-family:Menlo,'DejaVu Sans Mono',consolas,'Courier New',monospace\">0\n",
       "</pre>\n"
      ],
      "text/plain": [
       "0\n"
      ]
     },
     "metadata": {},
     "output_type": "display_data"
    },
    {
     "data": {
      "text/html": [
       "<pre style=\"white-space:pre;overflow-x:auto;line-height:normal;font-family:Menlo,'DejaVu Sans Mono',consolas,'Courier New',monospace\">Start:  2537   TT\n",
       "</pre>\n"
      ],
      "text/plain": [
       "Start:  2537   TT\n"
      ]
     },
     "metadata": {},
     "output_type": "display_data"
    },
    {
     "data": {
      "text/html": [
       "<pre style=\"white-space:pre;overflow-x:auto;line-height:normal;font-family:Menlo,'DejaVu Sans Mono',consolas,'Courier New',monospace\">Extra Ele Veto:  2173\n",
       "</pre>\n"
      ],
      "text/plain": [
       "Extra Ele Veto:  2173\n"
      ]
     },
     "metadata": {},
     "output_type": "display_data"
    },
    {
     "data": {
      "text/html": [
       "<pre style=\"white-space:pre;overflow-x:auto;line-height:normal;font-family:Menlo,'DejaVu Sans Mono',consolas,'Courier New',monospace\">Extra Mu Veto:  77\n",
       "</pre>\n"
      ],
      "text/plain": [
       "Extra Mu Veto:  77\n"
      ]
     },
     "metadata": {},
     "output_type": "display_data"
    },
    {
     "data": {
      "text/html": [
       "<pre style=\"white-space:pre;overflow-x:auto;line-height:normal;font-family:Menlo,'DejaVu Sans Mono',consolas,'Courier New',monospace\">BJet Veto:  9\n",
       "</pre>\n"
      ],
      "text/plain": [
       "BJet Veto:  9\n"
      ]
     },
     "metadata": {},
     "output_type": "display_data"
    },
    {
     "data": {
      "text/html": [
       "<pre style=\"white-space:pre;overflow-x:auto;line-height:normal;font-family:Menlo,'DejaVu Sans Mono',consolas,'Courier New',monospace\">Pairs:  18  Vector:  18\n",
       "</pre>\n"
      ],
      "text/plain": [
       "Pairs:  18  Vector:  18\n"
      ]
     },
     "metadata": {},
     "output_type": "display_data"
    },
    {
     "data": {
      "text/html": [
       "<pre style=\"white-space:pre;overflow-x:auto;line-height:normal;font-family:Menlo,'DejaVu Sans Mono',consolas,'Courier New',monospace\">[[], [True, True], [], [True, True, ... False], [], [False, True, False, True]]\n",
       "</pre>\n"
      ],
      "text/plain": [
       "[[], [True, True], [], [True, True, ... False], [], [False, True, False, True]]\n"
      ]
     },
     "metadata": {},
     "output_type": "display_data"
    },
    {
     "data": {
      "text/html": [
       "<pre style=\"white-space:pre;overflow-x:auto;line-height:normal;font-family:Menlo,'DejaVu Sans Mono',consolas,'Courier New',monospace\">0\n",
       "</pre>\n"
      ],
      "text/plain": [
       "0\n"
      ]
     },
     "metadata": {},
     "output_type": "display_data"
    },
    {
     "data": {
      "text/html": [
       "<pre style=\"white-space:pre;overflow-x:auto;line-height:normal;font-family:Menlo,'DejaVu Sans Mono',consolas,'Courier New',monospace\">Start:  2463   TT\n",
       "</pre>\n"
      ],
      "text/plain": [
       "Start:  2463   TT\n"
      ]
     },
     "metadata": {},
     "output_type": "display_data"
    },
    {
     "data": {
      "text/html": [
       "<pre style=\"white-space:pre;overflow-x:auto;line-height:normal;font-family:Menlo,'DejaVu Sans Mono',consolas,'Courier New',monospace\">Extra Ele Veto:  2114\n",
       "</pre>\n"
      ],
      "text/plain": [
       "Extra Ele Veto:  2114\n"
      ]
     },
     "metadata": {},
     "output_type": "display_data"
    },
    {
     "data": {
      "text/html": [
       "<pre style=\"white-space:pre;overflow-x:auto;line-height:normal;font-family:Menlo,'DejaVu Sans Mono',consolas,'Courier New',monospace\">Extra Mu Veto:  100\n",
       "</pre>\n"
      ],
      "text/plain": [
       "Extra Mu Veto:  100\n"
      ]
     },
     "metadata": {},
     "output_type": "display_data"
    },
    {
     "data": {
      "text/html": [
       "<pre style=\"white-space:pre;overflow-x:auto;line-height:normal;font-family:Menlo,'DejaVu Sans Mono',consolas,'Courier New',monospace\">BJet Veto:  23\n",
       "</pre>\n"
      ],
      "text/plain": [
       "BJet Veto:  23\n"
      ]
     },
     "metadata": {},
     "output_type": "display_data"
    },
    {
     "data": {
      "text/html": [
       "<pre style=\"white-space:pre;overflow-x:auto;line-height:normal;font-family:Menlo,'DejaVu Sans Mono',consolas,'Courier New',monospace\">Pairs:  56  Vector:  56\n",
       "</pre>\n"
      ],
      "text/plain": [
       "Pairs:  56  Vector:  56\n"
      ]
     },
     "metadata": {},
     "output_type": "display_data"
    },
    {
     "data": {
      "text/html": [
       "<pre style=\"white-space:pre;overflow-x:auto;line-height:normal;font-family:Menlo,'DejaVu Sans Mono',consolas,'Courier New',monospace\">[[True], [], [], [True, False], [True, ... True], [], [True, False, True, True], []]\n",
       "</pre>\n"
      ],
      "text/plain": [
       "[[True], [], [], [True, False], [True, ... True], [], [True, False, True, True], []]\n"
      ]
     },
     "metadata": {},
     "output_type": "display_data"
    },
    {
     "data": {
      "text/html": [
       "<pre style=\"white-space:pre;overflow-x:auto;line-height:normal;font-family:Menlo,'DejaVu Sans Mono',consolas,'Courier New',monospace\">0\n",
       "</pre>\n"
      ],
      "text/plain": [
       "0\n"
      ]
     },
     "metadata": {},
     "output_type": "display_data"
    },
    {
     "data": {
      "text/html": [
       "<pre style=\"white-space:pre;overflow-x:auto;line-height:normal;font-family:Menlo,'DejaVu Sans Mono',consolas,'Courier New',monospace\">Start:  2562   TT\n",
       "</pre>\n"
      ],
      "text/plain": [
       "Start:  2562   TT\n"
      ]
     },
     "metadata": {},
     "output_type": "display_data"
    },
    {
     "data": {
      "text/html": [
       "<pre style=\"white-space:pre;overflow-x:auto;line-height:normal;font-family:Menlo,'DejaVu Sans Mono',consolas,'Courier New',monospace\">Extra Ele Veto:  2208\n",
       "</pre>\n"
      ],
      "text/plain": [
       "Extra Ele Veto:  2208\n"
      ]
     },
     "metadata": {},
     "output_type": "display_data"
    },
    {
     "data": {
      "text/html": [
       "<pre style=\"white-space:pre;overflow-x:auto;line-height:normal;font-family:Menlo,'DejaVu Sans Mono',consolas,'Courier New',monospace\">Extra Mu Veto:  99\n",
       "</pre>\n"
      ],
      "text/plain": [
       "Extra Mu Veto:  99\n"
      ]
     },
     "metadata": {},
     "output_type": "display_data"
    },
    {
     "data": {
      "text/html": [
       "<pre style=\"white-space:pre;overflow-x:auto;line-height:normal;font-family:Menlo,'DejaVu Sans Mono',consolas,'Courier New',monospace\">BJet Veto:  19\n",
       "</pre>\n"
      ],
      "text/plain": [
       "BJet Veto:  19\n"
      ]
     },
     "metadata": {},
     "output_type": "display_data"
    },
    {
     "data": {
      "text/html": [
       "<pre style=\"white-space:pre;overflow-x:auto;line-height:normal;font-family:Menlo,'DejaVu Sans Mono',consolas,'Courier New',monospace\">Pairs:  41  Vector:  41\n",
       "</pre>\n"
      ],
      "text/plain": [
       "Pairs:  41  Vector:  41\n"
      ]
     },
     "metadata": {},
     "output_type": "display_data"
    },
    {
     "data": {
      "text/html": [
       "<pre style=\"white-space:pre;overflow-x:auto;line-height:normal;font-family:Menlo,'DejaVu Sans Mono',consolas,'Courier New',monospace\">[[True, False, False], [True, True, True, True, ... [True, False], [], [False]]\n",
       "</pre>\n"
      ],
      "text/plain": [
       "[[True, False, False], [True, True, True, True, ... [True, False], [], [False]]\n"
      ]
     },
     "metadata": {},
     "output_type": "display_data"
    },
    {
     "data": {
      "text/html": [
       "<pre style=\"white-space:pre;overflow-x:auto;line-height:normal;font-family:Menlo,'DejaVu Sans Mono',consolas,'Courier New',monospace\">0\n",
       "</pre>\n"
      ],
      "text/plain": [
       "0\n"
      ]
     },
     "metadata": {},
     "output_type": "display_data"
    },
    {
     "data": {
      "text/html": [
       "<pre style=\"white-space:pre;overflow-x:auto;line-height:normal;font-family:Menlo,'DejaVu Sans Mono',consolas,'Courier New',monospace\">Start:  2460   TT\n",
       "</pre>\n"
      ],
      "text/plain": [
       "Start:  2460   TT\n"
      ]
     },
     "metadata": {},
     "output_type": "display_data"
    },
    {
     "data": {
      "text/html": [
       "<pre style=\"white-space:pre;overflow-x:auto;line-height:normal;font-family:Menlo,'DejaVu Sans Mono',consolas,'Courier New',monospace\">Extra Ele Veto:  2112\n",
       "</pre>\n"
      ],
      "text/plain": [
       "Extra Ele Veto:  2112\n"
      ]
     },
     "metadata": {},
     "output_type": "display_data"
    },
    {
     "data": {
      "text/html": [
       "<pre style=\"white-space:pre;overflow-x:auto;line-height:normal;font-family:Menlo,'DejaVu Sans Mono',consolas,'Courier New',monospace\">Extra Mu Veto:  83\n",
       "</pre>\n"
      ],
      "text/plain": [
       "Extra Mu Veto:  83\n"
      ]
     },
     "metadata": {},
     "output_type": "display_data"
    },
    {
     "data": {
      "text/html": [
       "<pre style=\"white-space:pre;overflow-x:auto;line-height:normal;font-family:Menlo,'DejaVu Sans Mono',consolas,'Courier New',monospace\">BJet Veto:  23\n",
       "</pre>\n"
      ],
      "text/plain": [
       "BJet Veto:  23\n"
      ]
     },
     "metadata": {},
     "output_type": "display_data"
    },
    {
     "data": {
      "text/html": [
       "<pre style=\"white-space:pre;overflow-x:auto;line-height:normal;font-family:Menlo,'DejaVu Sans Mono',consolas,'Courier New',monospace\">Pairs:  41  Vector:  41\n",
       "</pre>\n"
      ],
      "text/plain": [
       "Pairs:  41  Vector:  41\n"
      ]
     },
     "metadata": {},
     "output_type": "display_data"
    },
    {
     "data": {
      "text/html": [
       "<pre style=\"white-space:pre;overflow-x:auto;line-height:normal;font-family:Menlo,'DejaVu Sans Mono',consolas,'Courier New',monospace\">[[True], [False, True], [], [], [True, True, ... False, True], [], [], [], [], []]\n",
       "</pre>\n"
      ],
      "text/plain": [
       "[[True], [False, True], [], [], [True, True, ... False, True], [], [], [], [], []]\n"
      ]
     },
     "metadata": {},
     "output_type": "display_data"
    },
    {
     "data": {
      "text/html": [
       "<pre style=\"white-space:pre;overflow-x:auto;line-height:normal;font-family:Menlo,'DejaVu Sans Mono',consolas,'Courier New',monospace\">Postcut: Pairs:  2  Vector:  2\n",
       "</pre>\n"
      ],
      "text/plain": [
       "Postcut: Pairs:  2  Vector:  2\n"
      ]
     },
     "metadata": {},
     "output_type": "display_data"
    },
    {
     "data": {
      "text/html": [
       "<pre style=\"white-space:pre;overflow-x:auto;line-height:normal;font-family:Menlo,'DejaVu Sans Mono',consolas,'Courier New',monospace\">[[], [], [], [], [], [], [], [], [], [], ... [], [], [], [], [], [], [], [], [], []]\n",
       "</pre>\n"
      ],
      "text/plain": [
       "[[], [], [], [], [], [], [], [], [], [], ... [], [], [], [], [], [], [], [], [], []]\n"
      ]
     },
     "metadata": {},
     "output_type": "display_data"
    },
    {
     "data": {
      "text/html": [
       "<pre style=\"white-space:pre;overflow-x:auto;line-height:normal;font-family:Menlo,'DejaVu Sans Mono',consolas,'Courier New',monospace\">[[], [], [], [], [], [], [], [], [], [], ... [], [], [], [], [], [], [], [], [], []]\n",
       "</pre>\n"
      ],
      "text/plain": [
       "[[], [], [], [], [], [], [], [], [], [], ... [], [], [], [], [], [], [], [], [], []]\n"
      ]
     },
     "metadata": {},
     "output_type": "display_data"
    },
    {
     "data": {
      "text/html": [
       "<pre style=\"white-space:pre;overflow-x:auto;line-height:normal;font-family:Menlo,'DejaVu Sans Mono',consolas,'Courier New',monospace\">Start:  2564   TT\n",
       "</pre>\n"
      ],
      "text/plain": [
       "Start:  2564   TT\n"
      ]
     },
     "metadata": {},
     "output_type": "display_data"
    },
    {
     "data": {
      "text/html": [
       "<pre style=\"white-space:pre;overflow-x:auto;line-height:normal;font-family:Menlo,'DejaVu Sans Mono',consolas,'Courier New',monospace\">Extra Ele Veto:  2170\n",
       "</pre>\n"
      ],
      "text/plain": [
       "Extra Ele Veto:  2170\n"
      ]
     },
     "metadata": {},
     "output_type": "display_data"
    },
    {
     "data": {
      "text/html": [
       "<pre style=\"white-space:pre;overflow-x:auto;line-height:normal;font-family:Menlo,'DejaVu Sans Mono',consolas,'Courier New',monospace\">Extra Mu Veto:  91\n",
       "</pre>\n"
      ],
      "text/plain": [
       "Extra Mu Veto:  91\n"
      ]
     },
     "metadata": {},
     "output_type": "display_data"
    },
    {
     "data": {
      "text/html": [
       "<pre style=\"white-space:pre;overflow-x:auto;line-height:normal;font-family:Menlo,'DejaVu Sans Mono',consolas,'Courier New',monospace\">BJet Veto:  16\n",
       "</pre>\n"
      ],
      "text/plain": [
       "BJet Veto:  16\n"
      ]
     },
     "metadata": {},
     "output_type": "display_data"
    },
    {
     "data": {
      "text/html": [
       "<pre style=\"white-space:pre;overflow-x:auto;line-height:normal;font-family:Menlo,'DejaVu Sans Mono',consolas,'Courier New',monospace\">Pairs:  27  Vector:  27\n",
       "</pre>\n"
      ],
      "text/plain": [
       "Pairs:  27  Vector:  27\n"
      ]
     },
     "metadata": {},
     "output_type": "display_data"
    },
    {
     "data": {
      "text/html": [
       "<pre style=\"white-space:pre;overflow-x:auto;line-height:normal;font-family:Menlo,'DejaVu Sans Mono',consolas,'Courier New',monospace\">[[], [], [], [], [], [False, ... [True, True, True, False, False, False], [], []]\n",
       "</pre>\n"
      ],
      "text/plain": [
       "[[], [], [], [], [], [False, ... [True, True, True, False, False, False], [], []]\n"
      ]
     },
     "metadata": {},
     "output_type": "display_data"
    },
    {
     "data": {
      "text/html": [
       "<pre style=\"white-space:pre;overflow-x:auto;line-height:normal;font-family:Menlo,'DejaVu Sans Mono',consolas,'Courier New',monospace\">0\n",
       "</pre>\n"
      ],
      "text/plain": [
       "0\n"
      ]
     },
     "metadata": {},
     "output_type": "display_data"
    },
    {
     "data": {
      "text/html": [
       "<pre style=\"white-space:pre;overflow-x:auto;line-height:normal;font-family:Menlo,'DejaVu Sans Mono',consolas,'Courier New',monospace\">Start:  2471   TT\n",
       "</pre>\n"
      ],
      "text/plain": [
       "Start:  2471   TT\n"
      ]
     },
     "metadata": {},
     "output_type": "display_data"
    },
    {
     "data": {
      "text/html": [
       "<pre style=\"white-space:pre;overflow-x:auto;line-height:normal;font-family:Menlo,'DejaVu Sans Mono',consolas,'Courier New',monospace\">Extra Ele Veto:  2078\n",
       "</pre>\n"
      ],
      "text/plain": [
       "Extra Ele Veto:  2078\n"
      ]
     },
     "metadata": {},
     "output_type": "display_data"
    },
    {
     "data": {
      "text/html": [
       "<pre style=\"white-space:pre;overflow-x:auto;line-height:normal;font-family:Menlo,'DejaVu Sans Mono',consolas,'Courier New',monospace\">Extra Mu Veto:  106\n",
       "</pre>\n"
      ],
      "text/plain": [
       "Extra Mu Veto:  106\n"
      ]
     },
     "metadata": {},
     "output_type": "display_data"
    },
    {
     "data": {
      "text/html": [
       "<pre style=\"white-space:pre;overflow-x:auto;line-height:normal;font-family:Menlo,'DejaVu Sans Mono',consolas,'Courier New',monospace\">BJet Veto:  21\n",
       "</pre>\n"
      ],
      "text/plain": [
       "BJet Veto:  21\n"
      ]
     },
     "metadata": {},
     "output_type": "display_data"
    },
    {
     "data": {
      "text/html": [
       "<pre style=\"white-space:pre;overflow-x:auto;line-height:normal;font-family:Menlo,'DejaVu Sans Mono',consolas,'Courier New',monospace\">Pairs:  46  Vector:  46\n",
       "</pre>\n"
      ],
      "text/plain": [
       "Pairs:  46  Vector:  46\n"
      ]
     },
     "metadata": {},
     "output_type": "display_data"
    },
    {
     "data": {
      "text/html": [
       "<pre style=\"white-space:pre;overflow-x:auto;line-height:normal;font-family:Menlo,'DejaVu Sans Mono',consolas,'Courier New',monospace\">[[], [], [False, False], [True, True, True, ... False, False], [], [True], [True]]\n",
       "</pre>\n"
      ],
      "text/plain": [
       "[[], [], [False, False], [True, True, True, ... False, False], [], [True], [True]]\n"
      ]
     },
     "metadata": {},
     "output_type": "display_data"
    },
    {
     "data": {
      "text/html": [
       "<pre style=\"white-space:pre;overflow-x:auto;line-height:normal;font-family:Menlo,'DejaVu Sans Mono',consolas,'Courier New',monospace\">0\n",
       "</pre>\n"
      ],
      "text/plain": [
       "0\n"
      ]
     },
     "metadata": {},
     "output_type": "display_data"
    },
    {
     "data": {
      "text/html": [
       "<pre style=\"white-space:pre;overflow-x:auto;line-height:normal;font-family:Menlo,'DejaVu Sans Mono',consolas,'Courier New',monospace\">Start:  2394   TT\n",
       "</pre>\n"
      ],
      "text/plain": [
       "Start:  2394   TT\n"
      ]
     },
     "metadata": {},
     "output_type": "display_data"
    },
    {
     "data": {
      "text/html": [
       "<pre style=\"white-space:pre;overflow-x:auto;line-height:normal;font-family:Menlo,'DejaVu Sans Mono',consolas,'Courier New',monospace\">Extra Ele Veto:  2017\n",
       "</pre>\n"
      ],
      "text/plain": [
       "Extra Ele Veto:  2017\n"
      ]
     },
     "metadata": {},
     "output_type": "display_data"
    },
    {
     "data": {
      "text/html": [
       "<pre style=\"white-space:pre;overflow-x:auto;line-height:normal;font-family:Menlo,'DejaVu Sans Mono',consolas,'Courier New',monospace\">Extra Mu Veto:  71\n",
       "</pre>\n"
      ],
      "text/plain": [
       "Extra Mu Veto:  71\n"
      ]
     },
     "metadata": {},
     "output_type": "display_data"
    },
    {
     "data": {
      "text/html": [
       "<pre style=\"white-space:pre;overflow-x:auto;line-height:normal;font-family:Menlo,'DejaVu Sans Mono',consolas,'Courier New',monospace\">BJet Veto:  13\n",
       "</pre>\n"
      ],
      "text/plain": [
       "BJet Veto:  13\n"
      ]
     },
     "metadata": {},
     "output_type": "display_data"
    },
    {
     "data": {
      "text/html": [
       "<pre style=\"white-space:pre;overflow-x:auto;line-height:normal;font-family:Menlo,'DejaVu Sans Mono',consolas,'Courier New',monospace\">Pairs:  20  Vector:  20\n",
       "</pre>\n"
      ],
      "text/plain": [
       "Pairs:  20  Vector:  20\n"
      ]
     },
     "metadata": {},
     "output_type": "display_data"
    },
    {
     "data": {
      "text/html": [
       "<pre style=\"white-space:pre;overflow-x:auto;line-height:normal;font-family:Menlo,'DejaVu Sans Mono',consolas,'Courier New',monospace\">[[False], [], [True, True], [], [], [], [], ... [], [False], [], [], [], [], [True]]\n",
       "</pre>\n"
      ],
      "text/plain": [
       "[[False], [], [True, True], [], [], [], [], ... [], [False], [], [], [], [], [True]]\n"
      ]
     },
     "metadata": {},
     "output_type": "display_data"
    },
    {
     "data": {
      "text/html": [
       "<pre style=\"white-space:pre;overflow-x:auto;line-height:normal;font-family:Menlo,'DejaVu Sans Mono',consolas,'Courier New',monospace\">0\n",
       "</pre>\n"
      ],
      "text/plain": [
       "0\n"
      ]
     },
     "metadata": {},
     "output_type": "display_data"
    },
    {
     "data": {
      "text/html": [
       "<pre style=\"white-space:pre;overflow-x:auto;line-height:normal;font-family:Menlo,'DejaVu Sans Mono',consolas,'Courier New',monospace\">Start:  2502   TT\n",
       "</pre>\n"
      ],
      "text/plain": [
       "Start:  2502   TT\n"
      ]
     },
     "metadata": {},
     "output_type": "display_data"
    },
    {
     "data": {
      "text/html": [
       "<pre style=\"white-space:pre;overflow-x:auto;line-height:normal;font-family:Menlo,'DejaVu Sans Mono',consolas,'Courier New',monospace\">Extra Ele Veto:  2142\n",
       "</pre>\n"
      ],
      "text/plain": [
       "Extra Ele Veto:  2142\n"
      ]
     },
     "metadata": {},
     "output_type": "display_data"
    },
    {
     "data": {
      "text/html": [
       "<pre style=\"white-space:pre;overflow-x:auto;line-height:normal;font-family:Menlo,'DejaVu Sans Mono',consolas,'Courier New',monospace\">Extra Mu Veto:  82\n",
       "</pre>\n"
      ],
      "text/plain": [
       "Extra Mu Veto:  82\n"
      ]
     },
     "metadata": {},
     "output_type": "display_data"
    },
    {
     "data": {
      "text/html": [
       "<pre style=\"white-space:pre;overflow-x:auto;line-height:normal;font-family:Menlo,'DejaVu Sans Mono',consolas,'Courier New',monospace\">BJet Veto:  15\n",
       "</pre>\n"
      ],
      "text/plain": [
       "BJet Veto:  15\n"
      ]
     },
     "metadata": {},
     "output_type": "display_data"
    },
    {
     "data": {
      "text/html": [
       "<pre style=\"white-space:pre;overflow-x:auto;line-height:normal;font-family:Menlo,'DejaVu Sans Mono',consolas,'Courier New',monospace\">Pairs:  39  Vector:  39\n",
       "</pre>\n"
      ],
      "text/plain": [
       "Pairs:  39  Vector:  39\n"
      ]
     },
     "metadata": {},
     "output_type": "display_data"
    },
    {
     "data": {
      "text/html": [
       "<pre style=\"white-space:pre;overflow-x:auto;line-height:normal;font-family:Menlo,'DejaVu Sans Mono',consolas,'Courier New',monospace\">[[], [], [True], [], [True, True], ... True, True], [True, False], [], [], []]\n",
       "</pre>\n"
      ],
      "text/plain": [
       "[[], [], [True], [], [True, True], ... True, True], [True, False], [], [], []]\n"
      ]
     },
     "metadata": {},
     "output_type": "display_data"
    },
    {
     "data": {
      "text/html": [
       "<pre style=\"white-space:pre;overflow-x:auto;line-height:normal;font-family:Menlo,'DejaVu Sans Mono',consolas,'Courier New',monospace\">0\n",
       "</pre>\n"
      ],
      "text/plain": [
       "0\n"
      ]
     },
     "metadata": {},
     "output_type": "display_data"
    },
    {
     "data": {
      "text/html": [
       "<pre style=\"white-space:pre;overflow-x:auto;line-height:normal;font-family:Menlo,'DejaVu Sans Mono',consolas,'Courier New',monospace\">Start:  2570   TT\n",
       "</pre>\n"
      ],
      "text/plain": [
       "Start:  2570   TT\n"
      ]
     },
     "metadata": {},
     "output_type": "display_data"
    },
    {
     "data": {
      "text/html": [
       "<pre style=\"white-space:pre;overflow-x:auto;line-height:normal;font-family:Menlo,'DejaVu Sans Mono',consolas,'Courier New',monospace\">Extra Ele Veto:  2207\n",
       "</pre>\n"
      ],
      "text/plain": [
       "Extra Ele Veto:  2207\n"
      ]
     },
     "metadata": {},
     "output_type": "display_data"
    },
    {
     "data": {
      "text/html": [
       "<pre style=\"white-space:pre;overflow-x:auto;line-height:normal;font-family:Menlo,'DejaVu Sans Mono',consolas,'Courier New',monospace\">Extra Mu Veto:  78\n",
       "</pre>\n"
      ],
      "text/plain": [
       "Extra Mu Veto:  78\n"
      ]
     },
     "metadata": {},
     "output_type": "display_data"
    },
    {
     "data": {
      "text/html": [
       "<pre style=\"white-space:pre;overflow-x:auto;line-height:normal;font-family:Menlo,'DejaVu Sans Mono',consolas,'Courier New',monospace\">BJet Veto:  17\n",
       "</pre>\n"
      ],
      "text/plain": [
       "BJet Veto:  17\n"
      ]
     },
     "metadata": {},
     "output_type": "display_data"
    },
    {
     "data": {
      "text/html": [
       "<pre style=\"white-space:pre;overflow-x:auto;line-height:normal;font-family:Menlo,'DejaVu Sans Mono',consolas,'Courier New',monospace\">Pairs:  33  Vector:  33\n",
       "</pre>\n"
      ],
      "text/plain": [
       "Pairs:  33  Vector:  33\n"
      ]
     },
     "metadata": {},
     "output_type": "display_data"
    },
    {
     "data": {
      "text/html": [
       "<pre style=\"white-space:pre;overflow-x:auto;line-height:normal;font-family:Menlo,'DejaVu Sans Mono',consolas,'Courier New',monospace\">[[], [], [False], [True, False, ... False, True, True, True], [True, False, True]]\n",
       "</pre>\n"
      ],
      "text/plain": [
       "[[], [], [False], [True, False, ... False, True, True, True], [True, False, True]]\n"
      ]
     },
     "metadata": {},
     "output_type": "display_data"
    },
    {
     "data": {
      "text/html": [
       "<pre style=\"white-space:pre;overflow-x:auto;line-height:normal;font-family:Menlo,'DejaVu Sans Mono',consolas,'Courier New',monospace\">0\n",
       "</pre>\n"
      ],
      "text/plain": [
       "0\n"
      ]
     },
     "metadata": {},
     "output_type": "display_data"
    },
    {
     "data": {
      "text/html": [
       "<pre style=\"white-space:pre;overflow-x:auto;line-height:normal;font-family:Menlo,'DejaVu Sans Mono',consolas,'Courier New',monospace\">Start:  2606   TT\n",
       "</pre>\n"
      ],
      "text/plain": [
       "Start:  2606   TT\n"
      ]
     },
     "metadata": {},
     "output_type": "display_data"
    },
    {
     "data": {
      "text/html": [
       "<pre style=\"white-space:pre;overflow-x:auto;line-height:normal;font-family:Menlo,'DejaVu Sans Mono',consolas,'Courier New',monospace\">Extra Ele Veto:  2242\n",
       "</pre>\n"
      ],
      "text/plain": [
       "Extra Ele Veto:  2242\n"
      ]
     },
     "metadata": {},
     "output_type": "display_data"
    },
    {
     "data": {
      "text/html": [
       "<pre style=\"white-space:pre;overflow-x:auto;line-height:normal;font-family:Menlo,'DejaVu Sans Mono',consolas,'Courier New',monospace\">Extra Mu Veto:  82\n",
       "</pre>\n"
      ],
      "text/plain": [
       "Extra Mu Veto:  82\n"
      ]
     },
     "metadata": {},
     "output_type": "display_data"
    },
    {
     "data": {
      "text/html": [
       "<pre style=\"white-space:pre;overflow-x:auto;line-height:normal;font-family:Menlo,'DejaVu Sans Mono',consolas,'Courier New',monospace\">BJet Veto:  26\n",
       "</pre>\n"
      ],
      "text/plain": [
       "BJet Veto:  26\n"
      ]
     },
     "metadata": {},
     "output_type": "display_data"
    },
    {
     "data": {
      "text/html": [
       "<pre style=\"white-space:pre;overflow-x:auto;line-height:normal;font-family:Menlo,'DejaVu Sans Mono',consolas,'Courier New',monospace\">Pairs:  45  Vector:  45\n",
       "</pre>\n"
      ],
      "text/plain": [
       "Pairs:  45  Vector:  45\n"
      ]
     },
     "metadata": {},
     "output_type": "display_data"
    },
    {
     "data": {
      "text/html": [
       "<pre style=\"white-space:pre;overflow-x:auto;line-height:normal;font-family:Menlo,'DejaVu Sans Mono',consolas,'Courier New',monospace\">[[], [], [], [False, True], [], [], ... True, True], [], [False, True, True], [], []]\n",
       "</pre>\n"
      ],
      "text/plain": [
       "[[], [], [], [False, True], [], [], ... True, True], [], [False, True, True], [], []]\n"
      ]
     },
     "metadata": {},
     "output_type": "display_data"
    },
    {
     "data": {
      "text/html": [
       "<pre style=\"white-space:pre;overflow-x:auto;line-height:normal;font-family:Menlo,'DejaVu Sans Mono',consolas,'Courier New',monospace\">0\n",
       "</pre>\n"
      ],
      "text/plain": [
       "0\n"
      ]
     },
     "metadata": {},
     "output_type": "display_data"
    },
    {
     "data": {
      "text/html": [
       "<pre style=\"white-space:pre;overflow-x:auto;line-height:normal;font-family:Menlo,'DejaVu Sans Mono',consolas,'Courier New',monospace\">Start:  2603   TT\n",
       "</pre>\n"
      ],
      "text/plain": [
       "Start:  2603   TT\n"
      ]
     },
     "metadata": {},
     "output_type": "display_data"
    },
    {
     "data": {
      "text/html": [
       "<pre style=\"white-space:pre;overflow-x:auto;line-height:normal;font-family:Menlo,'DejaVu Sans Mono',consolas,'Courier New',monospace\">Extra Ele Veto:  2238\n",
       "</pre>\n"
      ],
      "text/plain": [
       "Extra Ele Veto:  2238\n"
      ]
     },
     "metadata": {},
     "output_type": "display_data"
    },
    {
     "data": {
      "text/html": [
       "<pre style=\"white-space:pre;overflow-x:auto;line-height:normal;font-family:Menlo,'DejaVu Sans Mono',consolas,'Courier New',monospace\">Extra Mu Veto:  99\n",
       "</pre>\n"
      ],
      "text/plain": [
       "Extra Mu Veto:  99\n"
      ]
     },
     "metadata": {},
     "output_type": "display_data"
    },
    {
     "data": {
      "text/html": [
       "<pre style=\"white-space:pre;overflow-x:auto;line-height:normal;font-family:Menlo,'DejaVu Sans Mono',consolas,'Courier New',monospace\">BJet Veto:  23\n",
       "</pre>\n"
      ],
      "text/plain": [
       "BJet Veto:  23\n"
      ]
     },
     "metadata": {},
     "output_type": "display_data"
    },
    {
     "data": {
      "text/html": [
       "<pre style=\"white-space:pre;overflow-x:auto;line-height:normal;font-family:Menlo,'DejaVu Sans Mono',consolas,'Courier New',monospace\">Pairs:  53  Vector:  53\n",
       "</pre>\n"
      ],
      "text/plain": [
       "Pairs:  53  Vector:  53\n"
      ]
     },
     "metadata": {},
     "output_type": "display_data"
    },
    {
     "data": {
      "text/html": [
       "<pre style=\"white-space:pre;overflow-x:auto;line-height:normal;font-family:Menlo,'DejaVu Sans Mono',consolas,'Courier New',monospace\">[[], [True, False, False], [], [], ... [False, True], [], [True, True, True]]\n",
       "</pre>\n"
      ],
      "text/plain": [
       "[[], [True, False, False], [], [], ... [False, True], [], [True, True, True]]\n"
      ]
     },
     "metadata": {},
     "output_type": "display_data"
    },
    {
     "data": {
      "text/html": [
       "<pre style=\"white-space:pre;overflow-x:auto;line-height:normal;font-family:Menlo,'DejaVu Sans Mono',consolas,'Courier New',monospace\">0\n",
       "</pre>\n"
      ],
      "text/plain": [
       "0\n"
      ]
     },
     "metadata": {},
     "output_type": "display_data"
    },
    {
     "data": {
      "text/html": [
       "<pre style=\"white-space:pre;overflow-x:auto;line-height:normal;font-family:Menlo,'DejaVu Sans Mono',consolas,'Courier New',monospace\">Start:  2523   TT\n",
       "</pre>\n"
      ],
      "text/plain": [
       "Start:  2523   TT\n"
      ]
     },
     "metadata": {},
     "output_type": "display_data"
    },
    {
     "data": {
      "text/html": [
       "<pre style=\"white-space:pre;overflow-x:auto;line-height:normal;font-family:Menlo,'DejaVu Sans Mono',consolas,'Courier New',monospace\">Extra Ele Veto:  2162\n",
       "</pre>\n"
      ],
      "text/plain": [
       "Extra Ele Veto:  2162\n"
      ]
     },
     "metadata": {},
     "output_type": "display_data"
    },
    {
     "data": {
      "text/html": [
       "<pre style=\"white-space:pre;overflow-x:auto;line-height:normal;font-family:Menlo,'DejaVu Sans Mono',consolas,'Courier New',monospace\">Extra Mu Veto:  101\n",
       "</pre>\n"
      ],
      "text/plain": [
       "Extra Mu Veto:  101\n"
      ]
     },
     "metadata": {},
     "output_type": "display_data"
    },
    {
     "data": {
      "text/html": [
       "<pre style=\"white-space:pre;overflow-x:auto;line-height:normal;font-family:Menlo,'DejaVu Sans Mono',consolas,'Courier New',monospace\">BJet Veto:  20\n",
       "</pre>\n"
      ],
      "text/plain": [
       "BJet Veto:  20\n"
      ]
     },
     "metadata": {},
     "output_type": "display_data"
    },
    {
     "data": {
      "text/html": [
       "<pre style=\"white-space:pre;overflow-x:auto;line-height:normal;font-family:Menlo,'DejaVu Sans Mono',consolas,'Courier New',monospace\">Pairs:  39  Vector:  39\n",
       "</pre>\n"
      ],
      "text/plain": [
       "Pairs:  39  Vector:  39\n"
      ]
     },
     "metadata": {},
     "output_type": "display_data"
    },
    {
     "data": {
      "text/html": [
       "<pre style=\"white-space:pre;overflow-x:auto;line-height:normal;font-family:Menlo,'DejaVu Sans Mono',consolas,'Courier New',monospace\">[[True, True, False], [True, True, False, True, ... [], [], [True, True, True, True]]\n",
       "</pre>\n"
      ],
      "text/plain": [
       "[[True, True, False], [True, True, False, True, ... [], [], [True, True, True, True]]\n"
      ]
     },
     "metadata": {},
     "output_type": "display_data"
    },
    {
     "data": {
      "text/html": [
       "<pre style=\"white-space:pre;overflow-x:auto;line-height:normal;font-family:Menlo,'DejaVu Sans Mono',consolas,'Courier New',monospace\">0\n",
       "</pre>\n"
      ],
      "text/plain": [
       "0\n"
      ]
     },
     "metadata": {},
     "output_type": "display_data"
    },
    {
     "data": {
      "text/html": [
       "<pre style=\"white-space:pre;overflow-x:auto;line-height:normal;font-family:Menlo,'DejaVu Sans Mono',consolas,'Courier New',monospace\">Start:  2511   TT\n",
       "</pre>\n"
      ],
      "text/plain": [
       "Start:  2511   TT\n"
      ]
     },
     "metadata": {},
     "output_type": "display_data"
    },
    {
     "data": {
      "text/html": [
       "<pre style=\"white-space:pre;overflow-x:auto;line-height:normal;font-family:Menlo,'DejaVu Sans Mono',consolas,'Courier New',monospace\">Extra Ele Veto:  2171\n",
       "</pre>\n"
      ],
      "text/plain": [
       "Extra Ele Veto:  2171\n"
      ]
     },
     "metadata": {},
     "output_type": "display_data"
    },
    {
     "data": {
      "text/html": [
       "<pre style=\"white-space:pre;overflow-x:auto;line-height:normal;font-family:Menlo,'DejaVu Sans Mono',consolas,'Courier New',monospace\">Extra Mu Veto:  91\n",
       "</pre>\n"
      ],
      "text/plain": [
       "Extra Mu Veto:  91\n"
      ]
     },
     "metadata": {},
     "output_type": "display_data"
    },
    {
     "data": {
      "text/html": [
       "<pre style=\"white-space:pre;overflow-x:auto;line-height:normal;font-family:Menlo,'DejaVu Sans Mono',consolas,'Courier New',monospace\">BJet Veto:  19\n",
       "</pre>\n"
      ],
      "text/plain": [
       "BJet Veto:  19\n"
      ]
     },
     "metadata": {},
     "output_type": "display_data"
    },
    {
     "data": {
      "text/html": [
       "<pre style=\"white-space:pre;overflow-x:auto;line-height:normal;font-family:Menlo,'DejaVu Sans Mono',consolas,'Courier New',monospace\">Pairs:  35  Vector:  35\n",
       "</pre>\n"
      ],
      "text/plain": [
       "Pairs:  35  Vector:  35\n"
      ]
     },
     "metadata": {},
     "output_type": "display_data"
    },
    {
     "data": {
      "text/html": [
       "<pre style=\"white-space:pre;overflow-x:auto;line-height:normal;font-family:Menlo,'DejaVu Sans Mono',consolas,'Courier New',monospace\">[[], [True, True], [], [False], ... True], [True, True, True], [True, False]]\n",
       "</pre>\n"
      ],
      "text/plain": [
       "[[], [True, True], [], [False], ... True], [True, True, True], [True, False]]\n"
      ]
     },
     "metadata": {},
     "output_type": "display_data"
    },
    {
     "data": {
      "text/html": [
       "<pre style=\"white-space:pre;overflow-x:auto;line-height:normal;font-family:Menlo,'DejaVu Sans Mono',consolas,'Courier New',monospace\">0\n",
       "</pre>\n"
      ],
      "text/plain": [
       "0\n"
      ]
     },
     "metadata": {},
     "output_type": "display_data"
    },
    {
     "data": {
      "text/html": [
       "<pre style=\"white-space:pre;overflow-x:auto;line-height:normal;font-family:Menlo,'DejaVu Sans Mono',consolas,'Courier New',monospace\">Start:  2603   TT\n",
       "</pre>\n"
      ],
      "text/plain": [
       "Start:  2603   TT\n"
      ]
     },
     "metadata": {},
     "output_type": "display_data"
    },
    {
     "data": {
      "text/html": [
       "<pre style=\"white-space:pre;overflow-x:auto;line-height:normal;font-family:Menlo,'DejaVu Sans Mono',consolas,'Courier New',monospace\">Extra Ele Veto:  2247\n",
       "</pre>\n"
      ],
      "text/plain": [
       "Extra Ele Veto:  2247\n"
      ]
     },
     "metadata": {},
     "output_type": "display_data"
    },
    {
     "data": {
      "text/html": [
       "<pre style=\"white-space:pre;overflow-x:auto;line-height:normal;font-family:Menlo,'DejaVu Sans Mono',consolas,'Courier New',monospace\">Extra Mu Veto:  83\n",
       "</pre>\n"
      ],
      "text/plain": [
       "Extra Mu Veto:  83\n"
      ]
     },
     "metadata": {},
     "output_type": "display_data"
    },
    {
     "data": {
      "text/html": [
       "<pre style=\"white-space:pre;overflow-x:auto;line-height:normal;font-family:Menlo,'DejaVu Sans Mono',consolas,'Courier New',monospace\">BJet Veto:  12\n",
       "</pre>\n"
      ],
      "text/plain": [
       "BJet Veto:  12\n"
      ]
     },
     "metadata": {},
     "output_type": "display_data"
    },
    {
     "data": {
      "text/html": [
       "<pre style=\"white-space:pre;overflow-x:auto;line-height:normal;font-family:Menlo,'DejaVu Sans Mono',consolas,'Courier New',monospace\">Pairs:  27  Vector:  27\n",
       "</pre>\n"
      ],
      "text/plain": [
       "Pairs:  27  Vector:  27\n"
      ]
     },
     "metadata": {},
     "output_type": "display_data"
    },
    {
     "data": {
      "text/html": [
       "<pre style=\"white-space:pre;overflow-x:auto;line-height:normal;font-family:Menlo,'DejaVu Sans Mono',consolas,'Courier New',monospace\">[[], [], [], [], [True], [], [], ... False], [], [True], [], [True, True], []]\n",
       "</pre>\n"
      ],
      "text/plain": [
       "[[], [], [], [], [True], [], [], ... False], [], [True], [], [True, True], []]\n"
      ]
     },
     "metadata": {},
     "output_type": "display_data"
    },
    {
     "data": {
      "text/html": [
       "<pre style=\"white-space:pre;overflow-x:auto;line-height:normal;font-family:Menlo,'DejaVu Sans Mono',consolas,'Courier New',monospace\">0\n",
       "</pre>\n"
      ],
      "text/plain": [
       "0\n"
      ]
     },
     "metadata": {},
     "output_type": "display_data"
    },
    {
     "data": {
      "text/html": [
       "<pre style=\"white-space:pre;overflow-x:auto;line-height:normal;font-family:Menlo,'DejaVu Sans Mono',consolas,'Courier New',monospace\">Start:  2659   TT\n",
       "</pre>\n"
      ],
      "text/plain": [
       "Start:  2659   TT\n"
      ]
     },
     "metadata": {},
     "output_type": "display_data"
    },
    {
     "data": {
      "text/html": [
       "<pre style=\"white-space:pre;overflow-x:auto;line-height:normal;font-family:Menlo,'DejaVu Sans Mono',consolas,'Courier New',monospace\">Extra Ele Veto:  2289\n",
       "</pre>\n"
      ],
      "text/plain": [
       "Extra Ele Veto:  2289\n"
      ]
     },
     "metadata": {},
     "output_type": "display_data"
    },
    {
     "data": {
      "text/html": [
       "<pre style=\"white-space:pre;overflow-x:auto;line-height:normal;font-family:Menlo,'DejaVu Sans Mono',consolas,'Courier New',monospace\">Extra Mu Veto:  99\n",
       "</pre>\n"
      ],
      "text/plain": [
       "Extra Mu Veto:  99\n"
      ]
     },
     "metadata": {},
     "output_type": "display_data"
    },
    {
     "data": {
      "text/html": [
       "<pre style=\"white-space:pre;overflow-x:auto;line-height:normal;font-family:Menlo,'DejaVu Sans Mono',consolas,'Courier New',monospace\">BJet Veto:  17\n",
       "</pre>\n"
      ],
      "text/plain": [
       "BJet Veto:  17\n"
      ]
     },
     "metadata": {},
     "output_type": "display_data"
    },
    {
     "data": {
      "text/html": [
       "<pre style=\"white-space:pre;overflow-x:auto;line-height:normal;font-family:Menlo,'DejaVu Sans Mono',consolas,'Courier New',monospace\">Pairs:  28  Vector:  28\n",
       "</pre>\n"
      ],
      "text/plain": [
       "Pairs:  28  Vector:  28\n"
      ]
     },
     "metadata": {},
     "output_type": "display_data"
    },
    {
     "data": {
      "text/html": [
       "<pre style=\"white-space:pre;overflow-x:auto;line-height:normal;font-family:Menlo,'DejaVu Sans Mono',consolas,'Courier New',monospace\">[[], [], [], [], [False], [False, True, ... [], [], [], [True, True, False], []]\n",
       "</pre>\n"
      ],
      "text/plain": [
       "[[], [], [], [], [False], [False, True, ... [], [], [], [True, True, False], []]\n"
      ]
     },
     "metadata": {},
     "output_type": "display_data"
    },
    {
     "data": {
      "text/html": [
       "<pre style=\"white-space:pre;overflow-x:auto;line-height:normal;font-family:Menlo,'DejaVu Sans Mono',consolas,'Courier New',monospace\">0\n",
       "</pre>\n"
      ],
      "text/plain": [
       "0\n"
      ]
     },
     "metadata": {},
     "output_type": "display_data"
    },
    {
     "data": {
      "text/html": [
       "<pre style=\"white-space:pre;overflow-x:auto;line-height:normal;font-family:Menlo,'DejaVu Sans Mono',consolas,'Courier New',monospace\">Start:  2553   TT\n",
       "</pre>\n"
      ],
      "text/plain": [
       "Start:  2553   TT\n"
      ]
     },
     "metadata": {},
     "output_type": "display_data"
    },
    {
     "data": {
      "text/html": [
       "<pre style=\"white-space:pre;overflow-x:auto;line-height:normal;font-family:Menlo,'DejaVu Sans Mono',consolas,'Courier New',monospace\">Extra Ele Veto:  2216\n",
       "</pre>\n"
      ],
      "text/plain": [
       "Extra Ele Veto:  2216\n"
      ]
     },
     "metadata": {},
     "output_type": "display_data"
    },
    {
     "data": {
      "text/html": [
       "<pre style=\"white-space:pre;overflow-x:auto;line-height:normal;font-family:Menlo,'DejaVu Sans Mono',consolas,'Courier New',monospace\">Extra Mu Veto:  87\n",
       "</pre>\n"
      ],
      "text/plain": [
       "Extra Mu Veto:  87\n"
      ]
     },
     "metadata": {},
     "output_type": "display_data"
    },
    {
     "data": {
      "text/html": [
       "<pre style=\"white-space:pre;overflow-x:auto;line-height:normal;font-family:Menlo,'DejaVu Sans Mono',consolas,'Courier New',monospace\">BJet Veto:  18\n",
       "</pre>\n"
      ],
      "text/plain": [
       "BJet Veto:  18\n"
      ]
     },
     "metadata": {},
     "output_type": "display_data"
    },
    {
     "data": {
      "text/html": [
       "<pre style=\"white-space:pre;overflow-x:auto;line-height:normal;font-family:Menlo,'DejaVu Sans Mono',consolas,'Courier New',monospace\">Pairs:  39  Vector:  39\n",
       "</pre>\n"
      ],
      "text/plain": [
       "Pairs:  39  Vector:  39\n"
      ]
     },
     "metadata": {},
     "output_type": "display_data"
    },
    {
     "data": {
      "text/html": [
       "<pre style=\"white-space:pre;overflow-x:auto;line-height:normal;font-family:Menlo,'DejaVu Sans Mono',consolas,'Courier New',monospace\">[[False, False, True, True, True, True], [False, False], ... [], [], [], [False], []]\n",
       "</pre>\n"
      ],
      "text/plain": [
       "[[False, False, True, True, True, True], [False, False], ... [], [], [], [False], []]\n"
      ]
     },
     "metadata": {},
     "output_type": "display_data"
    },
    {
     "data": {
      "text/html": [
       "<pre style=\"white-space:pre;overflow-x:auto;line-height:normal;font-family:Menlo,'DejaVu Sans Mono',consolas,'Courier New',monospace\">0\n",
       "</pre>\n"
      ],
      "text/plain": [
       "0\n"
      ]
     },
     "metadata": {},
     "output_type": "display_data"
    },
    {
     "data": {
      "text/html": [
       "<pre style=\"white-space:pre;overflow-x:auto;line-height:normal;font-family:Menlo,'DejaVu Sans Mono',consolas,'Courier New',monospace\">Start:  2531   TT\n",
       "</pre>\n"
      ],
      "text/plain": [
       "Start:  2531   TT\n"
      ]
     },
     "metadata": {},
     "output_type": "display_data"
    },
    {
     "data": {
      "text/html": [
       "<pre style=\"white-space:pre;overflow-x:auto;line-height:normal;font-family:Menlo,'DejaVu Sans Mono',consolas,'Courier New',monospace\">Extra Ele Veto:  2169\n",
       "</pre>\n"
      ],
      "text/plain": [
       "Extra Ele Veto:  2169\n"
      ]
     },
     "metadata": {},
     "output_type": "display_data"
    },
    {
     "data": {
      "text/html": [
       "<pre style=\"white-space:pre;overflow-x:auto;line-height:normal;font-family:Menlo,'DejaVu Sans Mono',consolas,'Courier New',monospace\">Extra Mu Veto:  78\n",
       "</pre>\n"
      ],
      "text/plain": [
       "Extra Mu Veto:  78\n"
      ]
     },
     "metadata": {},
     "output_type": "display_data"
    },
    {
     "data": {
      "text/html": [
       "<pre style=\"white-space:pre;overflow-x:auto;line-height:normal;font-family:Menlo,'DejaVu Sans Mono',consolas,'Courier New',monospace\">BJet Veto:  12\n",
       "</pre>\n"
      ],
      "text/plain": [
       "BJet Veto:  12\n"
      ]
     },
     "metadata": {},
     "output_type": "display_data"
    },
    {
     "data": {
      "text/html": [
       "<pre style=\"white-space:pre;overflow-x:auto;line-height:normal;font-family:Menlo,'DejaVu Sans Mono',consolas,'Courier New',monospace\">Pairs:  18  Vector:  18\n",
       "</pre>\n"
      ],
      "text/plain": [
       "Pairs:  18  Vector:  18\n"
      ]
     },
     "metadata": {},
     "output_type": "display_data"
    },
    {
     "data": {
      "text/html": [
       "<pre style=\"white-space:pre;overflow-x:auto;line-height:normal;font-family:Menlo,'DejaVu Sans Mono',consolas,'Courier New',monospace\">[[False, False, False, False, True, True, True, True], ... True], [False], [], []]\n",
       "</pre>\n"
      ],
      "text/plain": [
       "[[False, False, False, False, True, True, True, True], ... True], [False], [], []]\n"
      ]
     },
     "metadata": {},
     "output_type": "display_data"
    },
    {
     "data": {
      "text/html": [
       "<pre style=\"white-space:pre;overflow-x:auto;line-height:normal;font-family:Menlo,'DejaVu Sans Mono',consolas,'Courier New',monospace\">0\n",
       "</pre>\n"
      ],
      "text/plain": [
       "0\n"
      ]
     },
     "metadata": {},
     "output_type": "display_data"
    },
    {
     "data": {
      "text/html": [
       "<pre style=\"white-space:pre;overflow-x:auto;line-height:normal;font-family:Menlo,'DejaVu Sans Mono',consolas,'Courier New',monospace\">Start:  2580   TT\n",
       "</pre>\n"
      ],
      "text/plain": [
       "Start:  2580   TT\n"
      ]
     },
     "metadata": {},
     "output_type": "display_data"
    },
    {
     "data": {
      "text/html": [
       "<pre style=\"white-space:pre;overflow-x:auto;line-height:normal;font-family:Menlo,'DejaVu Sans Mono',consolas,'Courier New',monospace\">Extra Ele Veto:  2209\n",
       "</pre>\n"
      ],
      "text/plain": [
       "Extra Ele Veto:  2209\n"
      ]
     },
     "metadata": {},
     "output_type": "display_data"
    },
    {
     "data": {
      "text/html": [
       "<pre style=\"white-space:pre;overflow-x:auto;line-height:normal;font-family:Menlo,'DejaVu Sans Mono',consolas,'Courier New',monospace\">Extra Mu Veto:  72\n",
       "</pre>\n"
      ],
      "text/plain": [
       "Extra Mu Veto:  72\n"
      ]
     },
     "metadata": {},
     "output_type": "display_data"
    },
    {
     "data": {
      "text/html": [
       "<pre style=\"white-space:pre;overflow-x:auto;line-height:normal;font-family:Menlo,'DejaVu Sans Mono',consolas,'Courier New',monospace\">BJet Veto:  11\n",
       "</pre>\n"
      ],
      "text/plain": [
       "BJet Veto:  11\n"
      ]
     },
     "metadata": {},
     "output_type": "display_data"
    },
    {
     "data": {
      "text/html": [
       "<pre style=\"white-space:pre;overflow-x:auto;line-height:normal;font-family:Menlo,'DejaVu Sans Mono',consolas,'Courier New',monospace\">Pairs:  24  Vector:  24\n",
       "</pre>\n"
      ],
      "text/plain": [
       "Pairs:  24  Vector:  24\n"
      ]
     },
     "metadata": {},
     "output_type": "display_data"
    },
    {
     "data": {
      "text/html": [
       "<pre style=\"white-space:pre;overflow-x:auto;line-height:normal;font-family:Menlo,'DejaVu Sans Mono',consolas,'Courier New',monospace\">[[True, True, True, True], [False, False, ... [], [False, False, True, True]]\n",
       "</pre>\n"
      ],
      "text/plain": [
       "[[True, True, True, True], [False, False, ... [], [False, False, True, True]]\n"
      ]
     },
     "metadata": {},
     "output_type": "display_data"
    },
    {
     "data": {
      "text/html": [
       "<pre style=\"white-space:pre;overflow-x:auto;line-height:normal;font-family:Menlo,'DejaVu Sans Mono',consolas,'Courier New',monospace\">0\n",
       "</pre>\n"
      ],
      "text/plain": [
       "0\n"
      ]
     },
     "metadata": {},
     "output_type": "display_data"
    },
    {
     "data": {
      "text/html": [
       "<pre style=\"white-space:pre;overflow-x:auto;line-height:normal;font-family:Menlo,'DejaVu Sans Mono',consolas,'Courier New',monospace\">Start:  2545   TT\n",
       "</pre>\n"
      ],
      "text/plain": [
       "Start:  2545   TT\n"
      ]
     },
     "metadata": {},
     "output_type": "display_data"
    },
    {
     "data": {
      "text/html": [
       "<pre style=\"white-space:pre;overflow-x:auto;line-height:normal;font-family:Menlo,'DejaVu Sans Mono',consolas,'Courier New',monospace\">Extra Ele Veto:  2163\n",
       "</pre>\n"
      ],
      "text/plain": [
       "Extra Ele Veto:  2163\n"
      ]
     },
     "metadata": {},
     "output_type": "display_data"
    },
    {
     "data": {
      "text/html": [
       "<pre style=\"white-space:pre;overflow-x:auto;line-height:normal;font-family:Menlo,'DejaVu Sans Mono',consolas,'Courier New',monospace\">Extra Mu Veto:  100\n",
       "</pre>\n"
      ],
      "text/plain": [
       "Extra Mu Veto:  100\n"
      ]
     },
     "metadata": {},
     "output_type": "display_data"
    },
    {
     "data": {
      "text/html": [
       "<pre style=\"white-space:pre;overflow-x:auto;line-height:normal;font-family:Menlo,'DejaVu Sans Mono',consolas,'Courier New',monospace\">BJet Veto:  13\n",
       "</pre>\n"
      ],
      "text/plain": [
       "BJet Veto:  13\n"
      ]
     },
     "metadata": {},
     "output_type": "display_data"
    },
    {
     "data": {
      "text/html": [
       "<pre style=\"white-space:pre;overflow-x:auto;line-height:normal;font-family:Menlo,'DejaVu Sans Mono',consolas,'Courier New',monospace\">Pairs:  33  Vector:  33\n",
       "</pre>\n"
      ],
      "text/plain": [
       "Pairs:  33  Vector:  33\n"
      ]
     },
     "metadata": {},
     "output_type": "display_data"
    },
    {
     "data": {
      "text/html": [
       "<pre style=\"white-space:pre;overflow-x:auto;line-height:normal;font-family:Menlo,'DejaVu Sans Mono',consolas,'Courier New',monospace\">[[], [False, False, False], [True, True, ... [False, True], [False, True, False]]\n",
       "</pre>\n"
      ],
      "text/plain": [
       "[[], [False, False, False], [True, True, ... [False, True], [False, True, False]]\n"
      ]
     },
     "metadata": {},
     "output_type": "display_data"
    },
    {
     "data": {
      "text/html": [
       "<pre style=\"white-space:pre;overflow-x:auto;line-height:normal;font-family:Menlo,'DejaVu Sans Mono',consolas,'Courier New',monospace\">0\n",
       "</pre>\n"
      ],
      "text/plain": [
       "0\n"
      ]
     },
     "metadata": {},
     "output_type": "display_data"
    },
    {
     "data": {
      "text/html": [
       "<pre style=\"white-space:pre;overflow-x:auto;line-height:normal;font-family:Menlo,'DejaVu Sans Mono',consolas,'Courier New',monospace\">Start:  2575   TT\n",
       "</pre>\n"
      ],
      "text/plain": [
       "Start:  2575   TT\n"
      ]
     },
     "metadata": {},
     "output_type": "display_data"
    },
    {
     "data": {
      "text/html": [
       "<pre style=\"white-space:pre;overflow-x:auto;line-height:normal;font-family:Menlo,'DejaVu Sans Mono',consolas,'Courier New',monospace\">Extra Ele Veto:  2154\n",
       "</pre>\n"
      ],
      "text/plain": [
       "Extra Ele Veto:  2154\n"
      ]
     },
     "metadata": {},
     "output_type": "display_data"
    },
    {
     "data": {
      "text/html": [
       "<pre style=\"white-space:pre;overflow-x:auto;line-height:normal;font-family:Menlo,'DejaVu Sans Mono',consolas,'Courier New',monospace\">Extra Mu Veto:  72\n",
       "</pre>\n"
      ],
      "text/plain": [
       "Extra Mu Veto:  72\n"
      ]
     },
     "metadata": {},
     "output_type": "display_data"
    },
    {
     "data": {
      "text/html": [
       "<pre style=\"white-space:pre;overflow-x:auto;line-height:normal;font-family:Menlo,'DejaVu Sans Mono',consolas,'Courier New',monospace\">BJet Veto:  7\n",
       "</pre>\n"
      ],
      "text/plain": [
       "BJet Veto:  7\n"
      ]
     },
     "metadata": {},
     "output_type": "display_data"
    },
    {
     "data": {
      "text/html": [
       "<pre style=\"white-space:pre;overflow-x:auto;line-height:normal;font-family:Menlo,'DejaVu Sans Mono',consolas,'Courier New',monospace\">Pairs:  18  Vector:  18\n",
       "</pre>\n"
      ],
      "text/plain": [
       "Pairs:  18  Vector:  18\n"
      ]
     },
     "metadata": {},
     "output_type": "display_data"
    },
    {
     "data": {
      "text/html": [
       "<pre style=\"white-space:pre;overflow-x:auto;line-height:normal;font-family:Menlo,'DejaVu Sans Mono',consolas,'Courier New',monospace\">[[], [], [], [True, True], [], [False, True, ... True, True], [], [], [True], [], []]\n",
       "</pre>\n"
      ],
      "text/plain": [
       "[[], [], [], [True, True], [], [False, True, ... True, True], [], [], [True], [], []]\n"
      ]
     },
     "metadata": {},
     "output_type": "display_data"
    },
    {
     "data": {
      "text/html": [
       "<pre style=\"white-space:pre;overflow-x:auto;line-height:normal;font-family:Menlo,'DejaVu Sans Mono',consolas,'Courier New',monospace\">0\n",
       "</pre>\n"
      ],
      "text/plain": [
       "0\n"
      ]
     },
     "metadata": {},
     "output_type": "display_data"
    },
    {
     "data": {
      "text/html": [
       "<pre style=\"white-space:pre;overflow-x:auto;line-height:normal;font-family:Menlo,'DejaVu Sans Mono',consolas,'Courier New',monospace\">Start:  2519   TT\n",
       "</pre>\n"
      ],
      "text/plain": [
       "Start:  2519   TT\n"
      ]
     },
     "metadata": {},
     "output_type": "display_data"
    },
    {
     "data": {
      "text/html": [
       "<pre style=\"white-space:pre;overflow-x:auto;line-height:normal;font-family:Menlo,'DejaVu Sans Mono',consolas,'Courier New',monospace\">Extra Ele Veto:  2161\n",
       "</pre>\n"
      ],
      "text/plain": [
       "Extra Ele Veto:  2161\n"
      ]
     },
     "metadata": {},
     "output_type": "display_data"
    },
    {
     "data": {
      "text/html": [
       "<pre style=\"white-space:pre;overflow-x:auto;line-height:normal;font-family:Menlo,'DejaVu Sans Mono',consolas,'Courier New',monospace\">Extra Mu Veto:  70\n",
       "</pre>\n"
      ],
      "text/plain": [
       "Extra Mu Veto:  70\n"
      ]
     },
     "metadata": {},
     "output_type": "display_data"
    },
    {
     "data": {
      "text/html": [
       "<pre style=\"white-space:pre;overflow-x:auto;line-height:normal;font-family:Menlo,'DejaVu Sans Mono',consolas,'Courier New',monospace\">BJet Veto:  13\n",
       "</pre>\n"
      ],
      "text/plain": [
       "BJet Veto:  13\n"
      ]
     },
     "metadata": {},
     "output_type": "display_data"
    },
    {
     "data": {
      "text/html": [
       "<pre style=\"white-space:pre;overflow-x:auto;line-height:normal;font-family:Menlo,'DejaVu Sans Mono',consolas,'Courier New',monospace\">Pairs:  37  Vector:  37\n",
       "</pre>\n"
      ],
      "text/plain": [
       "Pairs:  37  Vector:  37\n"
      ]
     },
     "metadata": {},
     "output_type": "display_data"
    },
    {
     "data": {
      "text/html": [
       "<pre style=\"white-space:pre;overflow-x:auto;line-height:normal;font-family:Menlo,'DejaVu Sans Mono',consolas,'Courier New',monospace\">[[False, False, True], [False, True, True], [], ... [], [True], [], [False, False]]\n",
       "</pre>\n"
      ],
      "text/plain": [
       "[[False, False, True], [False, True, True], [], ... [], [True], [], [False, False]]\n"
      ]
     },
     "metadata": {},
     "output_type": "display_data"
    },
    {
     "data": {
      "text/html": [
       "<pre style=\"white-space:pre;overflow-x:auto;line-height:normal;font-family:Menlo,'DejaVu Sans Mono',consolas,'Courier New',monospace\">0\n",
       "</pre>\n"
      ],
      "text/plain": [
       "0\n"
      ]
     },
     "metadata": {},
     "output_type": "display_data"
    },
    {
     "data": {
      "text/html": [
       "<pre style=\"white-space:pre;overflow-x:auto;line-height:normal;font-family:Menlo,'DejaVu Sans Mono',consolas,'Courier New',monospace\">Start:  2548   TT\n",
       "</pre>\n"
      ],
      "text/plain": [
       "Start:  2548   TT\n"
      ]
     },
     "metadata": {},
     "output_type": "display_data"
    },
    {
     "data": {
      "text/html": [
       "<pre style=\"white-space:pre;overflow-x:auto;line-height:normal;font-family:Menlo,'DejaVu Sans Mono',consolas,'Courier New',monospace\">Extra Ele Veto:  2169\n",
       "</pre>\n"
      ],
      "text/plain": [
       "Extra Ele Veto:  2169\n"
      ]
     },
     "metadata": {},
     "output_type": "display_data"
    },
    {
     "data": {
      "text/html": [
       "<pre style=\"white-space:pre;overflow-x:auto;line-height:normal;font-family:Menlo,'DejaVu Sans Mono',consolas,'Courier New',monospace\">Extra Mu Veto:  87\n",
       "</pre>\n"
      ],
      "text/plain": [
       "Extra Mu Veto:  87\n"
      ]
     },
     "metadata": {},
     "output_type": "display_data"
    },
    {
     "data": {
      "text/html": [
       "<pre style=\"white-space:pre;overflow-x:auto;line-height:normal;font-family:Menlo,'DejaVu Sans Mono',consolas,'Courier New',monospace\">BJet Veto:  20\n",
       "</pre>\n"
      ],
      "text/plain": [
       "BJet Veto:  20\n"
      ]
     },
     "metadata": {},
     "output_type": "display_data"
    },
    {
     "data": {
      "text/html": [
       "<pre style=\"white-space:pre;overflow-x:auto;line-height:normal;font-family:Menlo,'DejaVu Sans Mono',consolas,'Courier New',monospace\">Pairs:  22  Vector:  22\n",
       "</pre>\n"
      ],
      "text/plain": [
       "Pairs:  22  Vector:  22\n"
      ]
     },
     "metadata": {},
     "output_type": "display_data"
    },
    {
     "data": {
      "text/html": [
       "<pre style=\"white-space:pre;overflow-x:auto;line-height:normal;font-family:Menlo,'DejaVu Sans Mono',consolas,'Courier New',monospace\">[[], [True], [True], [], ... False, True, True, True, False, False, False], []]\n",
       "</pre>\n"
      ],
      "text/plain": [
       "[[], [True], [True], [], ... False, True, True, True, False, False, False], []]\n"
      ]
     },
     "metadata": {},
     "output_type": "display_data"
    },
    {
     "data": {
      "text/html": [
       "<pre style=\"white-space:pre;overflow-x:auto;line-height:normal;font-family:Menlo,'DejaVu Sans Mono',consolas,'Courier New',monospace\">0\n",
       "</pre>\n"
      ],
      "text/plain": [
       "0\n"
      ]
     },
     "metadata": {},
     "output_type": "display_data"
    },
    {
     "data": {
      "text/html": [
       "<pre style=\"white-space:pre;overflow-x:auto;line-height:normal;font-family:Menlo,'DejaVu Sans Mono',consolas,'Courier New',monospace\">Start:  2494   TT\n",
       "</pre>\n"
      ],
      "text/plain": [
       "Start:  2494   TT\n"
      ]
     },
     "metadata": {},
     "output_type": "display_data"
    },
    {
     "data": {
      "text/html": [
       "<pre style=\"white-space:pre;overflow-x:auto;line-height:normal;font-family:Menlo,'DejaVu Sans Mono',consolas,'Courier New',monospace\">Extra Ele Veto:  2150\n",
       "</pre>\n"
      ],
      "text/plain": [
       "Extra Ele Veto:  2150\n"
      ]
     },
     "metadata": {},
     "output_type": "display_data"
    },
    {
     "data": {
      "text/html": [
       "<pre style=\"white-space:pre;overflow-x:auto;line-height:normal;font-family:Menlo,'DejaVu Sans Mono',consolas,'Courier New',monospace\">Extra Mu Veto:  106\n",
       "</pre>\n"
      ],
      "text/plain": [
       "Extra Mu Veto:  106\n"
      ]
     },
     "metadata": {},
     "output_type": "display_data"
    },
    {
     "data": {
      "text/html": [
       "<pre style=\"white-space:pre;overflow-x:auto;line-height:normal;font-family:Menlo,'DejaVu Sans Mono',consolas,'Courier New',monospace\">BJet Veto:  13\n",
       "</pre>\n"
      ],
      "text/plain": [
       "BJet Veto:  13\n"
      ]
     },
     "metadata": {},
     "output_type": "display_data"
    },
    {
     "data": {
      "text/html": [
       "<pre style=\"white-space:pre;overflow-x:auto;line-height:normal;font-family:Menlo,'DejaVu Sans Mono',consolas,'Courier New',monospace\">Pairs:  30  Vector:  30\n",
       "</pre>\n"
      ],
      "text/plain": [
       "Pairs:  30  Vector:  30\n"
      ]
     },
     "metadata": {},
     "output_type": "display_data"
    },
    {
     "data": {
      "text/html": [
       "<pre style=\"white-space:pre;overflow-x:auto;line-height:normal;font-family:Menlo,'DejaVu Sans Mono',consolas,'Courier New',monospace\">[[], [], [False, True], [False, True, ... True, True, True, True], [True, False], []]\n",
       "</pre>\n"
      ],
      "text/plain": [
       "[[], [], [False, True], [False, True, ... True, True, True, True], [True, False], []]\n"
      ]
     },
     "metadata": {},
     "output_type": "display_data"
    },
    {
     "data": {
      "text/html": [
       "<pre style=\"white-space:pre;overflow-x:auto;line-height:normal;font-family:Menlo,'DejaVu Sans Mono',consolas,'Courier New',monospace\">0\n",
       "</pre>\n"
      ],
      "text/plain": [
       "0\n"
      ]
     },
     "metadata": {},
     "output_type": "display_data"
    },
    {
     "data": {
      "text/html": [
       "<pre style=\"white-space:pre;overflow-x:auto;line-height:normal;font-family:Menlo,'DejaVu Sans Mono',consolas,'Courier New',monospace\">Start:  2534   TT\n",
       "</pre>\n"
      ],
      "text/plain": [
       "Start:  2534   TT\n"
      ]
     },
     "metadata": {},
     "output_type": "display_data"
    },
    {
     "data": {
      "text/html": [
       "<pre style=\"white-space:pre;overflow-x:auto;line-height:normal;font-family:Menlo,'DejaVu Sans Mono',consolas,'Courier New',monospace\">Extra Ele Veto:  2186\n",
       "</pre>\n"
      ],
      "text/plain": [
       "Extra Ele Veto:  2186\n"
      ]
     },
     "metadata": {},
     "output_type": "display_data"
    },
    {
     "data": {
      "text/html": [
       "<pre style=\"white-space:pre;overflow-x:auto;line-height:normal;font-family:Menlo,'DejaVu Sans Mono',consolas,'Courier New',monospace\">Extra Mu Veto:  72\n",
       "</pre>\n"
      ],
      "text/plain": [
       "Extra Mu Veto:  72\n"
      ]
     },
     "metadata": {},
     "output_type": "display_data"
    },
    {
     "data": {
      "text/html": [
       "<pre style=\"white-space:pre;overflow-x:auto;line-height:normal;font-family:Menlo,'DejaVu Sans Mono',consolas,'Courier New',monospace\">BJet Veto:  15\n",
       "</pre>\n"
      ],
      "text/plain": [
       "BJet Veto:  15\n"
      ]
     },
     "metadata": {},
     "output_type": "display_data"
    },
    {
     "data": {
      "text/html": [
       "<pre style=\"white-space:pre;overflow-x:auto;line-height:normal;font-family:Menlo,'DejaVu Sans Mono',consolas,'Courier New',monospace\">Pairs:  32  Vector:  32\n",
       "</pre>\n"
      ],
      "text/plain": [
       "Pairs:  32  Vector:  32\n"
      ]
     },
     "metadata": {},
     "output_type": "display_data"
    },
    {
     "data": {
      "text/html": [
       "<pre style=\"white-space:pre;overflow-x:auto;line-height:normal;font-family:Menlo,'DejaVu Sans Mono',consolas,'Courier New',monospace\">[[], [True], [], [False], [False, ... [], [], [True, True, False, True, False, True]]\n",
       "</pre>\n"
      ],
      "text/plain": [
       "[[], [True], [], [False], [False, ... [], [], [True, True, False, True, False, True]]\n"
      ]
     },
     "metadata": {},
     "output_type": "display_data"
    },
    {
     "data": {
      "text/html": [
       "<pre style=\"white-space:pre;overflow-x:auto;line-height:normal;font-family:Menlo,'DejaVu Sans Mono',consolas,'Courier New',monospace\">0\n",
       "</pre>\n"
      ],
      "text/plain": [
       "0\n"
      ]
     },
     "metadata": {},
     "output_type": "display_data"
    },
    {
     "data": {
      "text/html": [
       "<pre style=\"white-space:pre;overflow-x:auto;line-height:normal;font-family:Menlo,'DejaVu Sans Mono',consolas,'Courier New',monospace\">Start:  2470   TT\n",
       "</pre>\n"
      ],
      "text/plain": [
       "Start:  2470   TT\n"
      ]
     },
     "metadata": {},
     "output_type": "display_data"
    },
    {
     "data": {
      "text/html": [
       "<pre style=\"white-space:pre;overflow-x:auto;line-height:normal;font-family:Menlo,'DejaVu Sans Mono',consolas,'Courier New',monospace\">Extra Ele Veto:  2122\n",
       "</pre>\n"
      ],
      "text/plain": [
       "Extra Ele Veto:  2122\n"
      ]
     },
     "metadata": {},
     "output_type": "display_data"
    },
    {
     "data": {
      "text/html": [
       "<pre style=\"white-space:pre;overflow-x:auto;line-height:normal;font-family:Menlo,'DejaVu Sans Mono',consolas,'Courier New',monospace\">Extra Mu Veto:  87\n",
       "</pre>\n"
      ],
      "text/plain": [
       "Extra Mu Veto:  87\n"
      ]
     },
     "metadata": {},
     "output_type": "display_data"
    },
    {
     "data": {
      "text/html": [
       "<pre style=\"white-space:pre;overflow-x:auto;line-height:normal;font-family:Menlo,'DejaVu Sans Mono',consolas,'Courier New',monospace\">BJet Veto:  15\n",
       "</pre>\n"
      ],
      "text/plain": [
       "BJet Veto:  15\n"
      ]
     },
     "metadata": {},
     "output_type": "display_data"
    },
    {
     "data": {
      "text/html": [
       "<pre style=\"white-space:pre;overflow-x:auto;line-height:normal;font-family:Menlo,'DejaVu Sans Mono',consolas,'Courier New',monospace\">Pairs:  32  Vector:  32\n",
       "</pre>\n"
      ],
      "text/plain": [
       "Pairs:  32  Vector:  32\n"
      ]
     },
     "metadata": {},
     "output_type": "display_data"
    },
    {
     "data": {
      "text/html": [
       "<pre style=\"white-space:pre;overflow-x:auto;line-height:normal;font-family:Menlo,'DejaVu Sans Mono',consolas,'Courier New',monospace\">[[True, False, True], [], [], [True, ... False], [False], [False, False, True, True]]\n",
       "</pre>\n"
      ],
      "text/plain": [
       "[[True, False, True], [], [], [True, ... False], [False], [False, False, True, True]]\n"
      ]
     },
     "metadata": {},
     "output_type": "display_data"
    },
    {
     "data": {
      "text/html": [
       "<pre style=\"white-space:pre;overflow-x:auto;line-height:normal;font-family:Menlo,'DejaVu Sans Mono',consolas,'Courier New',monospace\">0\n",
       "</pre>\n"
      ],
      "text/plain": [
       "0\n"
      ]
     },
     "metadata": {},
     "output_type": "display_data"
    },
    {
     "data": {
      "text/html": [
       "<pre style=\"white-space:pre;overflow-x:auto;line-height:normal;font-family:Menlo,'DejaVu Sans Mono',consolas,'Courier New',monospace\">Start:  2556   TT\n",
       "</pre>\n"
      ],
      "text/plain": [
       "Start:  2556   TT\n"
      ]
     },
     "metadata": {},
     "output_type": "display_data"
    },
    {
     "data": {
      "text/html": [
       "<pre style=\"white-space:pre;overflow-x:auto;line-height:normal;font-family:Menlo,'DejaVu Sans Mono',consolas,'Courier New',monospace\">Extra Ele Veto:  2198\n",
       "</pre>\n"
      ],
      "text/plain": [
       "Extra Ele Veto:  2198\n"
      ]
     },
     "metadata": {},
     "output_type": "display_data"
    },
    {
     "data": {
      "text/html": [
       "<pre style=\"white-space:pre;overflow-x:auto;line-height:normal;font-family:Menlo,'DejaVu Sans Mono',consolas,'Courier New',monospace\">Extra Mu Veto:  107\n",
       "</pre>\n"
      ],
      "text/plain": [
       "Extra Mu Veto:  107\n"
      ]
     },
     "metadata": {},
     "output_type": "display_data"
    },
    {
     "data": {
      "text/html": [
       "<pre style=\"white-space:pre;overflow-x:auto;line-height:normal;font-family:Menlo,'DejaVu Sans Mono',consolas,'Courier New',monospace\">BJet Veto:  25\n",
       "</pre>\n"
      ],
      "text/plain": [
       "BJet Veto:  25\n"
      ]
     },
     "metadata": {},
     "output_type": "display_data"
    },
    {
     "data": {
      "text/html": [
       "<pre style=\"white-space:pre;overflow-x:auto;line-height:normal;font-family:Menlo,'DejaVu Sans Mono',consolas,'Courier New',monospace\">Pairs:  53  Vector:  53\n",
       "</pre>\n"
      ],
      "text/plain": [
       "Pairs:  53  Vector:  53\n"
      ]
     },
     "metadata": {},
     "output_type": "display_data"
    },
    {
     "data": {
      "text/html": [
       "<pre style=\"white-space:pre;overflow-x:auto;line-height:normal;font-family:Menlo,'DejaVu Sans Mono',consolas,'Courier New',monospace\">[[], [True], [], [True, True, False, ... [False, True, False, False, True], []]\n",
       "</pre>\n"
      ],
      "text/plain": [
       "[[], [True], [], [True, True, False, ... [False, True, False, False, True], []]\n"
      ]
     },
     "metadata": {},
     "output_type": "display_data"
    },
    {
     "data": {
      "text/html": [
       "<pre style=\"white-space:pre;overflow-x:auto;line-height:normal;font-family:Menlo,'DejaVu Sans Mono',consolas,'Courier New',monospace\">0\n",
       "</pre>\n"
      ],
      "text/plain": [
       "0\n"
      ]
     },
     "metadata": {},
     "output_type": "display_data"
    },
    {
     "data": {
      "text/html": [
       "<pre style=\"white-space:pre;overflow-x:auto;line-height:normal;font-family:Menlo,'DejaVu Sans Mono',consolas,'Courier New',monospace\">Start:  2545   TT\n",
       "</pre>\n"
      ],
      "text/plain": [
       "Start:  2545   TT\n"
      ]
     },
     "metadata": {},
     "output_type": "display_data"
    },
    {
     "data": {
      "text/html": [
       "<pre style=\"white-space:pre;overflow-x:auto;line-height:normal;font-family:Menlo,'DejaVu Sans Mono',consolas,'Courier New',monospace\">Extra Ele Veto:  2177\n",
       "</pre>\n"
      ],
      "text/plain": [
       "Extra Ele Veto:  2177\n"
      ]
     },
     "metadata": {},
     "output_type": "display_data"
    },
    {
     "data": {
      "text/html": [
       "<pre style=\"white-space:pre;overflow-x:auto;line-height:normal;font-family:Menlo,'DejaVu Sans Mono',consolas,'Courier New',monospace\">Extra Mu Veto:  102\n",
       "</pre>\n"
      ],
      "text/plain": [
       "Extra Mu Veto:  102\n"
      ]
     },
     "metadata": {},
     "output_type": "display_data"
    },
    {
     "data": {
      "text/html": [
       "<pre style=\"white-space:pre;overflow-x:auto;line-height:normal;font-family:Menlo,'DejaVu Sans Mono',consolas,'Courier New',monospace\">BJet Veto:  20\n",
       "</pre>\n"
      ],
      "text/plain": [
       "BJet Veto:  20\n"
      ]
     },
     "metadata": {},
     "output_type": "display_data"
    },
    {
     "data": {
      "text/html": [
       "<pre style=\"white-space:pre;overflow-x:auto;line-height:normal;font-family:Menlo,'DejaVu Sans Mono',consolas,'Courier New',monospace\">Pairs:  45  Vector:  45\n",
       "</pre>\n"
      ],
      "text/plain": [
       "Pairs:  45  Vector:  45\n"
      ]
     },
     "metadata": {},
     "output_type": "display_data"
    },
    {
     "data": {
      "text/html": [
       "<pre style=\"white-space:pre;overflow-x:auto;line-height:normal;font-family:Menlo,'DejaVu Sans Mono',consolas,'Courier New',monospace\">[[], [], [True, False, True], [True, True, ... [True, True], [True, False], [], []]\n",
       "</pre>\n"
      ],
      "text/plain": [
       "[[], [], [True, False, True], [True, True, ... [True, True], [True, False], [], []]\n"
      ]
     },
     "metadata": {},
     "output_type": "display_data"
    },
    {
     "data": {
      "text/html": [
       "<pre style=\"white-space:pre;overflow-x:auto;line-height:normal;font-family:Menlo,'DejaVu Sans Mono',consolas,'Courier New',monospace\">0\n",
       "</pre>\n"
      ],
      "text/plain": [
       "0\n"
      ]
     },
     "metadata": {},
     "output_type": "display_data"
    },
    {
     "data": {
      "text/html": [
       "<pre style=\"white-space:pre;overflow-x:auto;line-height:normal;font-family:Menlo,'DejaVu Sans Mono',consolas,'Courier New',monospace\">Start:  2570   TT\n",
       "</pre>\n"
      ],
      "text/plain": [
       "Start:  2570   TT\n"
      ]
     },
     "metadata": {},
     "output_type": "display_data"
    },
    {
     "data": {
      "text/html": [
       "<pre style=\"white-space:pre;overflow-x:auto;line-height:normal;font-family:Menlo,'DejaVu Sans Mono',consolas,'Courier New',monospace\">Extra Ele Veto:  2212\n",
       "</pre>\n"
      ],
      "text/plain": [
       "Extra Ele Veto:  2212\n"
      ]
     },
     "metadata": {},
     "output_type": "display_data"
    },
    {
     "data": {
      "text/html": [
       "<pre style=\"white-space:pre;overflow-x:auto;line-height:normal;font-family:Menlo,'DejaVu Sans Mono',consolas,'Courier New',monospace\">Extra Mu Veto:  100\n",
       "</pre>\n"
      ],
      "text/plain": [
       "Extra Mu Veto:  100\n"
      ]
     },
     "metadata": {},
     "output_type": "display_data"
    },
    {
     "data": {
      "text/html": [
       "<pre style=\"white-space:pre;overflow-x:auto;line-height:normal;font-family:Menlo,'DejaVu Sans Mono',consolas,'Courier New',monospace\">BJet Veto:  16\n",
       "</pre>\n"
      ],
      "text/plain": [
       "BJet Veto:  16\n"
      ]
     },
     "metadata": {},
     "output_type": "display_data"
    },
    {
     "data": {
      "text/html": [
       "<pre style=\"white-space:pre;overflow-x:auto;line-height:normal;font-family:Menlo,'DejaVu Sans Mono',consolas,'Courier New',monospace\">Pairs:  33  Vector:  33\n",
       "</pre>\n"
      ],
      "text/plain": [
       "Pairs:  33  Vector:  33\n"
      ]
     },
     "metadata": {},
     "output_type": "display_data"
    },
    {
     "data": {
      "text/html": [
       "<pre style=\"white-space:pre;overflow-x:auto;line-height:normal;font-family:Menlo,'DejaVu Sans Mono',consolas,'Courier New',monospace\">[[], [True, True, False, False, False, False, False, ... [], [], [True, True], []]\n",
       "</pre>\n"
      ],
      "text/plain": [
       "[[], [True, True, False, False, False, False, False, ... [], [], [True, True], []]\n"
      ]
     },
     "metadata": {},
     "output_type": "display_data"
    },
    {
     "data": {
      "text/html": [
       "<pre style=\"white-space:pre;overflow-x:auto;line-height:normal;font-family:Menlo,'DejaVu Sans Mono',consolas,'Courier New',monospace\">0\n",
       "</pre>\n"
      ],
      "text/plain": [
       "0\n"
      ]
     },
     "metadata": {},
     "output_type": "display_data"
    },
    {
     "data": {
      "text/html": [
       "<pre style=\"white-space:pre;overflow-x:auto;line-height:normal;font-family:Menlo,'DejaVu Sans Mono',consolas,'Courier New',monospace\">Start:  2476   TT\n",
       "</pre>\n"
      ],
      "text/plain": [
       "Start:  2476   TT\n"
      ]
     },
     "metadata": {},
     "output_type": "display_data"
    },
    {
     "data": {
      "text/html": [
       "<pre style=\"white-space:pre;overflow-x:auto;line-height:normal;font-family:Menlo,'DejaVu Sans Mono',consolas,'Courier New',monospace\">Extra Ele Veto:  2109\n",
       "</pre>\n"
      ],
      "text/plain": [
       "Extra Ele Veto:  2109\n"
      ]
     },
     "metadata": {},
     "output_type": "display_data"
    },
    {
     "data": {
      "text/html": [
       "<pre style=\"white-space:pre;overflow-x:auto;line-height:normal;font-family:Menlo,'DejaVu Sans Mono',consolas,'Courier New',monospace\">Extra Mu Veto:  89\n",
       "</pre>\n"
      ],
      "text/plain": [
       "Extra Mu Veto:  89\n"
      ]
     },
     "metadata": {},
     "output_type": "display_data"
    },
    {
     "data": {
      "text/html": [
       "<pre style=\"white-space:pre;overflow-x:auto;line-height:normal;font-family:Menlo,'DejaVu Sans Mono',consolas,'Courier New',monospace\">BJet Veto:  8\n",
       "</pre>\n"
      ],
      "text/plain": [
       "BJet Veto:  8\n"
      ]
     },
     "metadata": {},
     "output_type": "display_data"
    },
    {
     "data": {
      "text/html": [
       "<pre style=\"white-space:pre;overflow-x:auto;line-height:normal;font-family:Menlo,'DejaVu Sans Mono',consolas,'Courier New',monospace\">Pairs:  8  Vector:  8\n",
       "</pre>\n"
      ],
      "text/plain": [
       "Pairs:  8  Vector:  8\n"
      ]
     },
     "metadata": {},
     "output_type": "display_data"
    },
    {
     "data": {
      "text/html": [
       "<pre style=\"white-space:pre;overflow-x:auto;line-height:normal;font-family:Menlo,'DejaVu Sans Mono',consolas,'Courier New',monospace\">[[], [], [], [True, False], [], [False], [], ... [], [], [], [False], [], [True], []]\n",
       "</pre>\n"
      ],
      "text/plain": [
       "[[], [], [], [True, False], [], [False], [], ... [], [], [], [False], [], [True], []]\n"
      ]
     },
     "metadata": {},
     "output_type": "display_data"
    },
    {
     "data": {
      "text/html": [
       "<pre style=\"white-space:pre;overflow-x:auto;line-height:normal;font-family:Menlo,'DejaVu Sans Mono',consolas,'Courier New',monospace\">0\n",
       "</pre>\n"
      ],
      "text/plain": [
       "0\n"
      ]
     },
     "metadata": {},
     "output_type": "display_data"
    },
    {
     "data": {
      "text/html": [
       "<pre style=\"white-space:pre;overflow-x:auto;line-height:normal;font-family:Menlo,'DejaVu Sans Mono',consolas,'Courier New',monospace\">Start:  2558   TT\n",
       "</pre>\n"
      ],
      "text/plain": [
       "Start:  2558   TT\n"
      ]
     },
     "metadata": {},
     "output_type": "display_data"
    },
    {
     "data": {
      "text/html": [
       "<pre style=\"white-space:pre;overflow-x:auto;line-height:normal;font-family:Menlo,'DejaVu Sans Mono',consolas,'Courier New',monospace\">Extra Ele Veto:  2164\n",
       "</pre>\n"
      ],
      "text/plain": [
       "Extra Ele Veto:  2164\n"
      ]
     },
     "metadata": {},
     "output_type": "display_data"
    },
    {
     "data": {
      "text/html": [
       "<pre style=\"white-space:pre;overflow-x:auto;line-height:normal;font-family:Menlo,'DejaVu Sans Mono',consolas,'Courier New',monospace\">Extra Mu Veto:  85\n",
       "</pre>\n"
      ],
      "text/plain": [
       "Extra Mu Veto:  85\n"
      ]
     },
     "metadata": {},
     "output_type": "display_data"
    },
    {
     "data": {
      "text/html": [
       "<pre style=\"white-space:pre;overflow-x:auto;line-height:normal;font-family:Menlo,'DejaVu Sans Mono',consolas,'Courier New',monospace\">BJet Veto:  16\n",
       "</pre>\n"
      ],
      "text/plain": [
       "BJet Veto:  16\n"
      ]
     },
     "metadata": {},
     "output_type": "display_data"
    },
    {
     "data": {
      "text/html": [
       "<pre style=\"white-space:pre;overflow-x:auto;line-height:normal;font-family:Menlo,'DejaVu Sans Mono',consolas,'Courier New',monospace\">Pairs:  29  Vector:  29\n",
       "</pre>\n"
      ],
      "text/plain": [
       "Pairs:  29  Vector:  29\n"
      ]
     },
     "metadata": {},
     "output_type": "display_data"
    },
    {
     "data": {
      "text/html": [
       "<pre style=\"white-space:pre;overflow-x:auto;line-height:normal;font-family:Menlo,'DejaVu Sans Mono',consolas,'Courier New',monospace\">[[], [], [True, True], [True], [True, ... False, True, True], [], [True], [], []]\n",
       "</pre>\n"
      ],
      "text/plain": [
       "[[], [], [True, True], [True], [True, ... False, True, True], [], [True], [], []]\n"
      ]
     },
     "metadata": {},
     "output_type": "display_data"
    },
    {
     "data": {
      "text/html": [
       "<pre style=\"white-space:pre;overflow-x:auto;line-height:normal;font-family:Menlo,'DejaVu Sans Mono',consolas,'Courier New',monospace\">0\n",
       "</pre>\n"
      ],
      "text/plain": [
       "0\n"
      ]
     },
     "metadata": {},
     "output_type": "display_data"
    },
    {
     "data": {
      "text/html": [
       "<pre style=\"white-space:pre;overflow-x:auto;line-height:normal;font-family:Menlo,'DejaVu Sans Mono',consolas,'Courier New',monospace\">Start:  2609   TT\n",
       "</pre>\n"
      ],
      "text/plain": [
       "Start:  2609   TT\n"
      ]
     },
     "metadata": {},
     "output_type": "display_data"
    },
    {
     "data": {
      "text/html": [
       "<pre style=\"white-space:pre;overflow-x:auto;line-height:normal;font-family:Menlo,'DejaVu Sans Mono',consolas,'Courier New',monospace\">Extra Ele Veto:  2216\n",
       "</pre>\n"
      ],
      "text/plain": [
       "Extra Ele Veto:  2216\n"
      ]
     },
     "metadata": {},
     "output_type": "display_data"
    },
    {
     "data": {
      "text/html": [
       "<pre style=\"white-space:pre;overflow-x:auto;line-height:normal;font-family:Menlo,'DejaVu Sans Mono',consolas,'Courier New',monospace\">Extra Mu Veto:  89\n",
       "</pre>\n"
      ],
      "text/plain": [
       "Extra Mu Veto:  89\n"
      ]
     },
     "metadata": {},
     "output_type": "display_data"
    },
    {
     "data": {
      "text/html": [
       "<pre style=\"white-space:pre;overflow-x:auto;line-height:normal;font-family:Menlo,'DejaVu Sans Mono',consolas,'Courier New',monospace\">BJet Veto:  21\n",
       "</pre>\n"
      ],
      "text/plain": [
       "BJet Veto:  21\n"
      ]
     },
     "metadata": {},
     "output_type": "display_data"
    },
    {
     "data": {
      "text/html": [
       "<pre style=\"white-space:pre;overflow-x:auto;line-height:normal;font-family:Menlo,'DejaVu Sans Mono',consolas,'Courier New',monospace\">Pairs:  24  Vector:  24\n",
       "</pre>\n"
      ],
      "text/plain": [
       "Pairs:  24  Vector:  24\n"
      ]
     },
     "metadata": {},
     "output_type": "display_data"
    },
    {
     "data": {
      "text/html": [
       "<pre style=\"white-space:pre;overflow-x:auto;line-height:normal;font-family:Menlo,'DejaVu Sans Mono',consolas,'Courier New',monospace\">[[], [], [], [True, True, True], [], ... [], [True, True], [], [False, True, False]]\n",
       "</pre>\n"
      ],
      "text/plain": [
       "[[], [], [], [True, True, True], [], ... [], [True, True], [], [False, True, False]]\n"
      ]
     },
     "metadata": {},
     "output_type": "display_data"
    },
    {
     "data": {
      "text/html": [
       "<pre style=\"white-space:pre;overflow-x:auto;line-height:normal;font-family:Menlo,'DejaVu Sans Mono',consolas,'Courier New',monospace\">0\n",
       "</pre>\n"
      ],
      "text/plain": [
       "0\n"
      ]
     },
     "metadata": {},
     "output_type": "display_data"
    },
    {
     "data": {
      "text/html": [
       "<pre style=\"white-space:pre;overflow-x:auto;line-height:normal;font-family:Menlo,'DejaVu Sans Mono',consolas,'Courier New',monospace\">Start:  2598   TT\n",
       "</pre>\n"
      ],
      "text/plain": [
       "Start:  2598   TT\n"
      ]
     },
     "metadata": {},
     "output_type": "display_data"
    },
    {
     "data": {
      "text/html": [
       "<pre style=\"white-space:pre;overflow-x:auto;line-height:normal;font-family:Menlo,'DejaVu Sans Mono',consolas,'Courier New',monospace\">Extra Ele Veto:  2232\n",
       "</pre>\n"
      ],
      "text/plain": [
       "Extra Ele Veto:  2232\n"
      ]
     },
     "metadata": {},
     "output_type": "display_data"
    },
    {
     "data": {
      "text/html": [
       "<pre style=\"white-space:pre;overflow-x:auto;line-height:normal;font-family:Menlo,'DejaVu Sans Mono',consolas,'Courier New',monospace\">Extra Mu Veto:  86\n",
       "</pre>\n"
      ],
      "text/plain": [
       "Extra Mu Veto:  86\n"
      ]
     },
     "metadata": {},
     "output_type": "display_data"
    },
    {
     "data": {
      "text/html": [
       "<pre style=\"white-space:pre;overflow-x:auto;line-height:normal;font-family:Menlo,'DejaVu Sans Mono',consolas,'Courier New',monospace\">BJet Veto:  16\n",
       "</pre>\n"
      ],
      "text/plain": [
       "BJet Veto:  16\n"
      ]
     },
     "metadata": {},
     "output_type": "display_data"
    },
    {
     "data": {
      "text/html": [
       "<pre style=\"white-space:pre;overflow-x:auto;line-height:normal;font-family:Menlo,'DejaVu Sans Mono',consolas,'Courier New',monospace\">Pairs:  23  Vector:  23\n",
       "</pre>\n"
      ],
      "text/plain": [
       "Pairs:  23  Vector:  23\n"
      ]
     },
     "metadata": {},
     "output_type": "display_data"
    },
    {
     "data": {
      "text/html": [
       "<pre style=\"white-space:pre;overflow-x:auto;line-height:normal;font-family:Menlo,'DejaVu Sans Mono',consolas,'Courier New',monospace\">[[True, True], [True, False], [True, True], ... [], [], [], [True, False, True]]\n",
       "</pre>\n"
      ],
      "text/plain": [
       "[[True, True], [True, False], [True, True], ... [], [], [], [True, False, True]]\n"
      ]
     },
     "metadata": {},
     "output_type": "display_data"
    },
    {
     "data": {
      "text/html": [
       "<pre style=\"white-space:pre;overflow-x:auto;line-height:normal;font-family:Menlo,'DejaVu Sans Mono',consolas,'Courier New',monospace\">Postcut: Pairs:  1  Vector:  1\n",
       "</pre>\n"
      ],
      "text/plain": [
       "Postcut: Pairs:  1  Vector:  1\n"
      ]
     },
     "metadata": {},
     "output_type": "display_data"
    },
    {
     "data": {
      "text/html": [
       "<pre style=\"white-space:pre;overflow-x:auto;line-height:normal;font-family:Menlo,'DejaVu Sans Mono',consolas,'Courier New',monospace\">[[], [], [], [], [], [], [], [], [], [], ... [], [], [False], [], [], [], [], [], []]\n",
       "</pre>\n"
      ],
      "text/plain": [
       "[[], [], [], [], [], [], [], [], [], [], ... [], [], [False], [], [], [], [], [], []]\n"
      ]
     },
     "metadata": {},
     "output_type": "display_data"
    },
    {
     "data": {
      "text/html": [
       "<pre style=\"white-space:pre;overflow-x:auto;line-height:normal;font-family:Menlo,'DejaVu Sans Mono',consolas,'Courier New',monospace\">[[], [], [], [], [], [], [], [], [], ... mass: 0.106}}], [], [], [], [], [], []]\n",
       "</pre>\n"
      ],
      "text/plain": [
       "[[], [], [], [], [], [], [], [], [], ... mass: 0.106}}], [], [], [], [], [], []]\n"
      ]
     },
     "metadata": {},
     "output_type": "display_data"
    },
    {
     "data": {
      "text/html": [
       "<pre style=\"white-space:pre;overflow-x:auto;line-height:normal;font-family:Menlo,'DejaVu Sans Mono',consolas,'Courier New',monospace\">Start:  2491   TT\n",
       "</pre>\n"
      ],
      "text/plain": [
       "Start:  2491   TT\n"
      ]
     },
     "metadata": {},
     "output_type": "display_data"
    },
    {
     "data": {
      "text/html": [
       "<pre style=\"white-space:pre;overflow-x:auto;line-height:normal;font-family:Menlo,'DejaVu Sans Mono',consolas,'Courier New',monospace\">Extra Ele Veto:  2150\n",
       "</pre>\n"
      ],
      "text/plain": [
       "Extra Ele Veto:  2150\n"
      ]
     },
     "metadata": {},
     "output_type": "display_data"
    },
    {
     "data": {
      "text/html": [
       "<pre style=\"white-space:pre;overflow-x:auto;line-height:normal;font-family:Menlo,'DejaVu Sans Mono',consolas,'Courier New',monospace\">Extra Mu Veto:  80\n",
       "</pre>\n"
      ],
      "text/plain": [
       "Extra Mu Veto:  80\n"
      ]
     },
     "metadata": {},
     "output_type": "display_data"
    },
    {
     "data": {
      "text/html": [
       "<pre style=\"white-space:pre;overflow-x:auto;line-height:normal;font-family:Menlo,'DejaVu Sans Mono',consolas,'Courier New',monospace\">BJet Veto:  16\n",
       "</pre>\n"
      ],
      "text/plain": [
       "BJet Veto:  16\n"
      ]
     },
     "metadata": {},
     "output_type": "display_data"
    },
    {
     "data": {
      "text/html": [
       "<pre style=\"white-space:pre;overflow-x:auto;line-height:normal;font-family:Menlo,'DejaVu Sans Mono',consolas,'Courier New',monospace\">Pairs:  38  Vector:  38\n",
       "</pre>\n"
      ],
      "text/plain": [
       "Pairs:  38  Vector:  38\n"
      ]
     },
     "metadata": {},
     "output_type": "display_data"
    },
    {
     "data": {
      "text/html": [
       "<pre style=\"white-space:pre;overflow-x:auto;line-height:normal;font-family:Menlo,'DejaVu Sans Mono',consolas,'Courier New',monospace\">[[], [], [], [], [], [], ... False, False, False], [True, True, False, False], []]\n",
       "</pre>\n"
      ],
      "text/plain": [
       "[[], [], [], [], [], [], ... False, False, False], [True, True, False, False], []]\n"
      ]
     },
     "metadata": {},
     "output_type": "display_data"
    },
    {
     "data": {
      "text/html": [
       "<pre style=\"white-space:pre;overflow-x:auto;line-height:normal;font-family:Menlo,'DejaVu Sans Mono',consolas,'Courier New',monospace\">0\n",
       "</pre>\n"
      ],
      "text/plain": [
       "0\n"
      ]
     },
     "metadata": {},
     "output_type": "display_data"
    },
    {
     "data": {
      "text/html": [
       "<pre style=\"white-space:pre;overflow-x:auto;line-height:normal;font-family:Menlo,'DejaVu Sans Mono',consolas,'Courier New',monospace\">Start:  2502   TT\n",
       "</pre>\n"
      ],
      "text/plain": [
       "Start:  2502   TT\n"
      ]
     },
     "metadata": {},
     "output_type": "display_data"
    },
    {
     "data": {
      "text/html": [
       "<pre style=\"white-space:pre;overflow-x:auto;line-height:normal;font-family:Menlo,'DejaVu Sans Mono',consolas,'Courier New',monospace\">Extra Ele Veto:  2112\n",
       "</pre>\n"
      ],
      "text/plain": [
       "Extra Ele Veto:  2112\n"
      ]
     },
     "metadata": {},
     "output_type": "display_data"
    },
    {
     "data": {
      "text/html": [
       "<pre style=\"white-space:pre;overflow-x:auto;line-height:normal;font-family:Menlo,'DejaVu Sans Mono',consolas,'Courier New',monospace\">Extra Mu Veto:  83\n",
       "</pre>\n"
      ],
      "text/plain": [
       "Extra Mu Veto:  83\n"
      ]
     },
     "metadata": {},
     "output_type": "display_data"
    },
    {
     "data": {
      "text/html": [
       "<pre style=\"white-space:pre;overflow-x:auto;line-height:normal;font-family:Menlo,'DejaVu Sans Mono',consolas,'Courier New',monospace\">BJet Veto:  13\n",
       "</pre>\n"
      ],
      "text/plain": [
       "BJet Veto:  13\n"
      ]
     },
     "metadata": {},
     "output_type": "display_data"
    },
    {
     "data": {
      "text/html": [
       "<pre style=\"white-space:pre;overflow-x:auto;line-height:normal;font-family:Menlo,'DejaVu Sans Mono',consolas,'Courier New',monospace\">Pairs:  17  Vector:  17\n",
       "</pre>\n"
      ],
      "text/plain": [
       "Pairs:  17  Vector:  17\n"
      ]
     },
     "metadata": {},
     "output_type": "display_data"
    },
    {
     "data": {
      "text/html": [
       "<pre style=\"white-space:pre;overflow-x:auto;line-height:normal;font-family:Menlo,'DejaVu Sans Mono',consolas,'Courier New',monospace\">[[False, True], [True], [], [], [], [], ... [], [], [True], [], [], [], [True]]\n",
       "</pre>\n"
      ],
      "text/plain": [
       "[[False, True], [True], [], [], [], [], ... [], [], [True], [], [], [], [True]]\n"
      ]
     },
     "metadata": {},
     "output_type": "display_data"
    },
    {
     "data": {
      "text/html": [
       "<pre style=\"white-space:pre;overflow-x:auto;line-height:normal;font-family:Menlo,'DejaVu Sans Mono',consolas,'Courier New',monospace\">0\n",
       "</pre>\n"
      ],
      "text/plain": [
       "0\n"
      ]
     },
     "metadata": {},
     "output_type": "display_data"
    },
    {
     "data": {
      "text/html": [
       "<pre style=\"white-space:pre;overflow-x:auto;line-height:normal;font-family:Menlo,'DejaVu Sans Mono',consolas,'Courier New',monospace\">Start:  2562   TT\n",
       "</pre>\n"
      ],
      "text/plain": [
       "Start:  2562   TT\n"
      ]
     },
     "metadata": {},
     "output_type": "display_data"
    },
    {
     "data": {
      "text/html": [
       "<pre style=\"white-space:pre;overflow-x:auto;line-height:normal;font-family:Menlo,'DejaVu Sans Mono',consolas,'Courier New',monospace\">Extra Ele Veto:  2200\n",
       "</pre>\n"
      ],
      "text/plain": [
       "Extra Ele Veto:  2200\n"
      ]
     },
     "metadata": {},
     "output_type": "display_data"
    },
    {
     "data": {
      "text/html": [
       "<pre style=\"white-space:pre;overflow-x:auto;line-height:normal;font-family:Menlo,'DejaVu Sans Mono',consolas,'Courier New',monospace\">Extra Mu Veto:  87\n",
       "</pre>\n"
      ],
      "text/plain": [
       "Extra Mu Veto:  87\n"
      ]
     },
     "metadata": {},
     "output_type": "display_data"
    },
    {
     "data": {
      "text/html": [
       "<pre style=\"white-space:pre;overflow-x:auto;line-height:normal;font-family:Menlo,'DejaVu Sans Mono',consolas,'Courier New',monospace\">BJet Veto:  12\n",
       "</pre>\n"
      ],
      "text/plain": [
       "BJet Veto:  12\n"
      ]
     },
     "metadata": {},
     "output_type": "display_data"
    },
    {
     "data": {
      "text/html": [
       "<pre style=\"white-space:pre;overflow-x:auto;line-height:normal;font-family:Menlo,'DejaVu Sans Mono',consolas,'Courier New',monospace\">Pairs:  26  Vector:  26\n",
       "</pre>\n"
      ],
      "text/plain": [
       "Pairs:  26  Vector:  26\n"
      ]
     },
     "metadata": {},
     "output_type": "display_data"
    },
    {
     "data": {
      "text/html": [
       "<pre style=\"white-space:pre;overflow-x:auto;line-height:normal;font-family:Menlo,'DejaVu Sans Mono',consolas,'Courier New',monospace\">[[False, True], [], [True, True], [True, True, ... False], [], [True, False], [], []]\n",
       "</pre>\n"
      ],
      "text/plain": [
       "[[False, True], [], [True, True], [True, True, ... False], [], [True, False], [], []]\n"
      ]
     },
     "metadata": {},
     "output_type": "display_data"
    },
    {
     "data": {
      "text/html": [
       "<pre style=\"white-space:pre;overflow-x:auto;line-height:normal;font-family:Menlo,'DejaVu Sans Mono',consolas,'Courier New',monospace\">0\n",
       "</pre>\n"
      ],
      "text/plain": [
       "0\n"
      ]
     },
     "metadata": {},
     "output_type": "display_data"
    },
    {
     "data": {
      "text/html": [
       "<pre style=\"white-space:pre;overflow-x:auto;line-height:normal;font-family:Menlo,'DejaVu Sans Mono',consolas,'Courier New',monospace\">Start:  2583   TT\n",
       "</pre>\n"
      ],
      "text/plain": [
       "Start:  2583   TT\n"
      ]
     },
     "metadata": {},
     "output_type": "display_data"
    },
    {
     "data": {
      "text/html": [
       "<pre style=\"white-space:pre;overflow-x:auto;line-height:normal;font-family:Menlo,'DejaVu Sans Mono',consolas,'Courier New',monospace\">Extra Ele Veto:  2209\n",
       "</pre>\n"
      ],
      "text/plain": [
       "Extra Ele Veto:  2209\n"
      ]
     },
     "metadata": {},
     "output_type": "display_data"
    },
    {
     "data": {
      "text/html": [
       "<pre style=\"white-space:pre;overflow-x:auto;line-height:normal;font-family:Menlo,'DejaVu Sans Mono',consolas,'Courier New',monospace\">Extra Mu Veto:  81\n",
       "</pre>\n"
      ],
      "text/plain": [
       "Extra Mu Veto:  81\n"
      ]
     },
     "metadata": {},
     "output_type": "display_data"
    },
    {
     "data": {
      "text/html": [
       "<pre style=\"white-space:pre;overflow-x:auto;line-height:normal;font-family:Menlo,'DejaVu Sans Mono',consolas,'Courier New',monospace\">BJet Veto:  26\n",
       "</pre>\n"
      ],
      "text/plain": [
       "BJet Veto:  26\n"
      ]
     },
     "metadata": {},
     "output_type": "display_data"
    },
    {
     "data": {
      "text/html": [
       "<pre style=\"white-space:pre;overflow-x:auto;line-height:normal;font-family:Menlo,'DejaVu Sans Mono',consolas,'Courier New',monospace\">Pairs:  39  Vector:  39\n",
       "</pre>\n"
      ],
      "text/plain": [
       "Pairs:  39  Vector:  39\n"
      ]
     },
     "metadata": {},
     "output_type": "display_data"
    },
    {
     "data": {
      "text/html": [
       "<pre style=\"white-space:pre;overflow-x:auto;line-height:normal;font-family:Menlo,'DejaVu Sans Mono',consolas,'Courier New',monospace\">[[True, True], [True], [], [True], ... [False, True, False], [True, True, False], []]\n",
       "</pre>\n"
      ],
      "text/plain": [
       "[[True, True], [True], [], [True], ... [False, True, False], [True, True, False], []]\n"
      ]
     },
     "metadata": {},
     "output_type": "display_data"
    },
    {
     "data": {
      "text/html": [
       "<pre style=\"white-space:pre;overflow-x:auto;line-height:normal;font-family:Menlo,'DejaVu Sans Mono',consolas,'Courier New',monospace\">0\n",
       "</pre>\n"
      ],
      "text/plain": [
       "0\n"
      ]
     },
     "metadata": {},
     "output_type": "display_data"
    },
    {
     "data": {
      "text/html": [
       "<pre style=\"white-space:pre;overflow-x:auto;line-height:normal;font-family:Menlo,'DejaVu Sans Mono',consolas,'Courier New',monospace\">Start:  2444   TT\n",
       "</pre>\n"
      ],
      "text/plain": [
       "Start:  2444   TT\n"
      ]
     },
     "metadata": {},
     "output_type": "display_data"
    },
    {
     "data": {
      "text/html": [
       "<pre style=\"white-space:pre;overflow-x:auto;line-height:normal;font-family:Menlo,'DejaVu Sans Mono',consolas,'Courier New',monospace\">Extra Ele Veto:  2102\n",
       "</pre>\n"
      ],
      "text/plain": [
       "Extra Ele Veto:  2102\n"
      ]
     },
     "metadata": {},
     "output_type": "display_data"
    },
    {
     "data": {
      "text/html": [
       "<pre style=\"white-space:pre;overflow-x:auto;line-height:normal;font-family:Menlo,'DejaVu Sans Mono',consolas,'Courier New',monospace\">Extra Mu Veto:  60\n",
       "</pre>\n"
      ],
      "text/plain": [
       "Extra Mu Veto:  60\n"
      ]
     },
     "metadata": {},
     "output_type": "display_data"
    },
    {
     "data": {
      "text/html": [
       "<pre style=\"white-space:pre;overflow-x:auto;line-height:normal;font-family:Menlo,'DejaVu Sans Mono',consolas,'Courier New',monospace\">BJet Veto:  8\n",
       "</pre>\n"
      ],
      "text/plain": [
       "BJet Veto:  8\n"
      ]
     },
     "metadata": {},
     "output_type": "display_data"
    },
    {
     "data": {
      "text/html": [
       "<pre style=\"white-space:pre;overflow-x:auto;line-height:normal;font-family:Menlo,'DejaVu Sans Mono',consolas,'Courier New',monospace\">Pairs:  14  Vector:  14\n",
       "</pre>\n"
      ],
      "text/plain": [
       "Pairs:  14  Vector:  14\n"
      ]
     },
     "metadata": {},
     "output_type": "display_data"
    },
    {
     "data": {
      "text/html": [
       "<pre style=\"white-space:pre;overflow-x:auto;line-height:normal;font-family:Menlo,'DejaVu Sans Mono',consolas,'Courier New',monospace\">[[], [], [True, True, True], [], [], ... False], [], [], [], [], [True, True]]\n",
       "</pre>\n"
      ],
      "text/plain": [
       "[[], [], [True, True, True], [], [], ... False], [], [], [], [], [True, True]]\n"
      ]
     },
     "metadata": {},
     "output_type": "display_data"
    },
    {
     "data": {
      "text/html": [
       "<pre style=\"white-space:pre;overflow-x:auto;line-height:normal;font-family:Menlo,'DejaVu Sans Mono',consolas,'Courier New',monospace\">0\n",
       "</pre>\n"
      ],
      "text/plain": [
       "0\n"
      ]
     },
     "metadata": {},
     "output_type": "display_data"
    },
    {
     "data": {
      "text/html": [
       "<pre style=\"white-space:pre;overflow-x:auto;line-height:normal;font-family:Menlo,'DejaVu Sans Mono',consolas,'Courier New',monospace\">Start:  2490   TT\n",
       "</pre>\n"
      ],
      "text/plain": [
       "Start:  2490   TT\n"
      ]
     },
     "metadata": {},
     "output_type": "display_data"
    },
    {
     "data": {
      "text/html": [
       "<pre style=\"white-space:pre;overflow-x:auto;line-height:normal;font-family:Menlo,'DejaVu Sans Mono',consolas,'Courier New',monospace\">Extra Ele Veto:  2174\n",
       "</pre>\n"
      ],
      "text/plain": [
       "Extra Ele Veto:  2174\n"
      ]
     },
     "metadata": {},
     "output_type": "display_data"
    },
    {
     "data": {
      "text/html": [
       "<pre style=\"white-space:pre;overflow-x:auto;line-height:normal;font-family:Menlo,'DejaVu Sans Mono',consolas,'Courier New',monospace\">Extra Mu Veto:  98\n",
       "</pre>\n"
      ],
      "text/plain": [
       "Extra Mu Veto:  98\n"
      ]
     },
     "metadata": {},
     "output_type": "display_data"
    },
    {
     "data": {
      "text/html": [
       "<pre style=\"white-space:pre;overflow-x:auto;line-height:normal;font-family:Menlo,'DejaVu Sans Mono',consolas,'Courier New',monospace\">BJet Veto:  17\n",
       "</pre>\n"
      ],
      "text/plain": [
       "BJet Veto:  17\n"
      ]
     },
     "metadata": {},
     "output_type": "display_data"
    },
    {
     "data": {
      "text/html": [
       "<pre style=\"white-space:pre;overflow-x:auto;line-height:normal;font-family:Menlo,'DejaVu Sans Mono',consolas,'Courier New',monospace\">Pairs:  38  Vector:  38\n",
       "</pre>\n"
      ],
      "text/plain": [
       "Pairs:  38  Vector:  38\n"
      ]
     },
     "metadata": {},
     "output_type": "display_data"
    },
    {
     "data": {
      "text/html": [
       "<pre style=\"white-space:pre;overflow-x:auto;line-height:normal;font-family:Menlo,'DejaVu Sans Mono',consolas,'Courier New',monospace\">[[True, False, True, False], [False, False, False, ... True], [], [False, True], []]\n",
       "</pre>\n"
      ],
      "text/plain": [
       "[[True, False, True, False], [False, False, False, ... True], [], [False, True], []]\n"
      ]
     },
     "metadata": {},
     "output_type": "display_data"
    },
    {
     "data": {
      "text/html": [
       "<pre style=\"white-space:pre;overflow-x:auto;line-height:normal;font-family:Menlo,'DejaVu Sans Mono',consolas,'Courier New',monospace\">0\n",
       "</pre>\n"
      ],
      "text/plain": [
       "0\n"
      ]
     },
     "metadata": {},
     "output_type": "display_data"
    },
    {
     "data": {
      "text/html": [
       "<pre style=\"white-space:pre;overflow-x:auto;line-height:normal;font-family:Menlo,'DejaVu Sans Mono',consolas,'Courier New',monospace\">Start:  2523   TT\n",
       "</pre>\n"
      ],
      "text/plain": [
       "Start:  2523   TT\n"
      ]
     },
     "metadata": {},
     "output_type": "display_data"
    },
    {
     "data": {
      "text/html": [
       "<pre style=\"white-space:pre;overflow-x:auto;line-height:normal;font-family:Menlo,'DejaVu Sans Mono',consolas,'Courier New',monospace\">Extra Ele Veto:  2134\n",
       "</pre>\n"
      ],
      "text/plain": [
       "Extra Ele Veto:  2134\n"
      ]
     },
     "metadata": {},
     "output_type": "display_data"
    },
    {
     "data": {
      "text/html": [
       "<pre style=\"white-space:pre;overflow-x:auto;line-height:normal;font-family:Menlo,'DejaVu Sans Mono',consolas,'Courier New',monospace\">Extra Mu Veto:  73\n",
       "</pre>\n"
      ],
      "text/plain": [
       "Extra Mu Veto:  73\n"
      ]
     },
     "metadata": {},
     "output_type": "display_data"
    },
    {
     "data": {
      "text/html": [
       "<pre style=\"white-space:pre;overflow-x:auto;line-height:normal;font-family:Menlo,'DejaVu Sans Mono',consolas,'Courier New',monospace\">BJet Veto:  18\n",
       "</pre>\n"
      ],
      "text/plain": [
       "BJet Veto:  18\n"
      ]
     },
     "metadata": {},
     "output_type": "display_data"
    },
    {
     "data": {
      "text/html": [
       "<pre style=\"white-space:pre;overflow-x:auto;line-height:normal;font-family:Menlo,'DejaVu Sans Mono',consolas,'Courier New',monospace\">Pairs:  43  Vector:  43\n",
       "</pre>\n"
      ],
      "text/plain": [
       "Pairs:  43  Vector:  43\n"
      ]
     },
     "metadata": {},
     "output_type": "display_data"
    },
    {
     "data": {
      "text/html": [
       "<pre style=\"white-space:pre;overflow-x:auto;line-height:normal;font-family:Menlo,'DejaVu Sans Mono',consolas,'Courier New',monospace\">[[True, True, False], [True, True, True, ... True, True], [True, True, False, False]]\n",
       "</pre>\n"
      ],
      "text/plain": [
       "[[True, True, False], [True, True, True, ... True, True], [True, True, False, False]]\n"
      ]
     },
     "metadata": {},
     "output_type": "display_data"
    },
    {
     "data": {
      "text/html": [
       "<pre style=\"white-space:pre;overflow-x:auto;line-height:normal;font-family:Menlo,'DejaVu Sans Mono',consolas,'Courier New',monospace\">Postcut: Pairs:  1  Vector:  1\n",
       "</pre>\n"
      ],
      "text/plain": [
       "Postcut: Pairs:  1  Vector:  1\n"
      ]
     },
     "metadata": {},
     "output_type": "display_data"
    },
    {
     "data": {
      "text/html": [
       "<pre style=\"white-space:pre;overflow-x:auto;line-height:normal;font-family:Menlo,'DejaVu Sans Mono',consolas,'Courier New',monospace\">[[], [], [], [], [], [], [], [], [], [], ... [], [], [], [], [], [], [], [], [], []]\n",
       "</pre>\n"
      ],
      "text/plain": [
       "[[], [], [], [], [], [], [], [], [], [], ... [], [], [], [], [], [], [], [], [], []]\n"
      ]
     },
     "metadata": {},
     "output_type": "display_data"
    },
    {
     "data": {
      "text/html": [
       "<pre style=\"white-space:pre;overflow-x:auto;line-height:normal;font-family:Menlo,'DejaVu Sans Mono',consolas,'Courier New',monospace\">[[], [], [], [], [], [], [], [], [], [], ... [], [], [], [], [], [], [], [], [], []]\n",
       "</pre>\n"
      ],
      "text/plain": [
       "[[], [], [], [], [], [], [], [], [], [], ... [], [], [], [], [], [], [], [], [], []]\n"
      ]
     },
     "metadata": {},
     "output_type": "display_data"
    },
    {
     "data": {
      "text/html": [
       "<pre style=\"white-space:pre;overflow-x:auto;line-height:normal;font-family:Menlo,'DejaVu Sans Mono',consolas,'Courier New',monospace\">Start:  2518   TT\n",
       "</pre>\n"
      ],
      "text/plain": [
       "Start:  2518   TT\n"
      ]
     },
     "metadata": {},
     "output_type": "display_data"
    },
    {
     "data": {
      "text/html": [
       "<pre style=\"white-space:pre;overflow-x:auto;line-height:normal;font-family:Menlo,'DejaVu Sans Mono',consolas,'Courier New',monospace\">Extra Ele Veto:  2131\n",
       "</pre>\n"
      ],
      "text/plain": [
       "Extra Ele Veto:  2131\n"
      ]
     },
     "metadata": {},
     "output_type": "display_data"
    },
    {
     "data": {
      "text/html": [
       "<pre style=\"white-space:pre;overflow-x:auto;line-height:normal;font-family:Menlo,'DejaVu Sans Mono',consolas,'Courier New',monospace\">Extra Mu Veto:  73\n",
       "</pre>\n"
      ],
      "text/plain": [
       "Extra Mu Veto:  73\n"
      ]
     },
     "metadata": {},
     "output_type": "display_data"
    },
    {
     "data": {
      "text/html": [
       "<pre style=\"white-space:pre;overflow-x:auto;line-height:normal;font-family:Menlo,'DejaVu Sans Mono',consolas,'Courier New',monospace\">BJet Veto:  15\n",
       "</pre>\n"
      ],
      "text/plain": [
       "BJet Veto:  15\n"
      ]
     },
     "metadata": {},
     "output_type": "display_data"
    },
    {
     "data": {
      "text/html": [
       "<pre style=\"white-space:pre;overflow-x:auto;line-height:normal;font-family:Menlo,'DejaVu Sans Mono',consolas,'Courier New',monospace\">Pairs:  28  Vector:  28\n",
       "</pre>\n"
      ],
      "text/plain": [
       "Pairs:  28  Vector:  28\n"
      ]
     },
     "metadata": {},
     "output_type": "display_data"
    },
    {
     "data": {
      "text/html": [
       "<pre style=\"white-space:pre;overflow-x:auto;line-height:normal;font-family:Menlo,'DejaVu Sans Mono',consolas,'Courier New',monospace\">[[], [True, True, True, True, True, True, True, True, ... True], [], [], [], [True]]\n",
       "</pre>\n"
      ],
      "text/plain": [
       "[[], [True, True, True, True, True, True, True, True, ... True], [], [], [], [True]]\n"
      ]
     },
     "metadata": {},
     "output_type": "display_data"
    },
    {
     "data": {
      "text/html": [
       "<pre style=\"white-space:pre;overflow-x:auto;line-height:normal;font-family:Menlo,'DejaVu Sans Mono',consolas,'Courier New',monospace\">0\n",
       "</pre>\n"
      ],
      "text/plain": [
       "0\n"
      ]
     },
     "metadata": {},
     "output_type": "display_data"
    },
    {
     "data": {
      "text/html": [
       "<pre style=\"white-space:pre;overflow-x:auto;line-height:normal;font-family:Menlo,'DejaVu Sans Mono',consolas,'Courier New',monospace\">Start:  2578   TT\n",
       "</pre>\n"
      ],
      "text/plain": [
       "Start:  2578   TT\n"
      ]
     },
     "metadata": {},
     "output_type": "display_data"
    },
    {
     "data": {
      "text/html": [
       "<pre style=\"white-space:pre;overflow-x:auto;line-height:normal;font-family:Menlo,'DejaVu Sans Mono',consolas,'Courier New',monospace\">Extra Ele Veto:  2196\n",
       "</pre>\n"
      ],
      "text/plain": [
       "Extra Ele Veto:  2196\n"
      ]
     },
     "metadata": {},
     "output_type": "display_data"
    },
    {
     "data": {
      "text/html": [
       "<pre style=\"white-space:pre;overflow-x:auto;line-height:normal;font-family:Menlo,'DejaVu Sans Mono',consolas,'Courier New',monospace\">Extra Mu Veto:  83\n",
       "</pre>\n"
      ],
      "text/plain": [
       "Extra Mu Veto:  83\n"
      ]
     },
     "metadata": {},
     "output_type": "display_data"
    },
    {
     "data": {
      "text/html": [
       "<pre style=\"white-space:pre;overflow-x:auto;line-height:normal;font-family:Menlo,'DejaVu Sans Mono',consolas,'Courier New',monospace\">BJet Veto:  20\n",
       "</pre>\n"
      ],
      "text/plain": [
       "BJet Veto:  20\n"
      ]
     },
     "metadata": {},
     "output_type": "display_data"
    },
    {
     "data": {
      "text/html": [
       "<pre style=\"white-space:pre;overflow-x:auto;line-height:normal;font-family:Menlo,'DejaVu Sans Mono',consolas,'Courier New',monospace\">Pairs:  38  Vector:  38\n",
       "</pre>\n"
      ],
      "text/plain": [
       "Pairs:  38  Vector:  38\n"
      ]
     },
     "metadata": {},
     "output_type": "display_data"
    },
    {
     "data": {
      "text/html": [
       "<pre style=\"white-space:pre;overflow-x:auto;line-height:normal;font-family:Menlo,'DejaVu Sans Mono',consolas,'Courier New',monospace\">[[False, False, False, False], [], [False, ... False], [True, False, True], []]\n",
       "</pre>\n"
      ],
      "text/plain": [
       "[[False, False, False, False], [], [False, ... False], [True, False, True], []]\n"
      ]
     },
     "metadata": {},
     "output_type": "display_data"
    },
    {
     "data": {
      "text/html": [
       "<pre style=\"white-space:pre;overflow-x:auto;line-height:normal;font-family:Menlo,'DejaVu Sans Mono',consolas,'Courier New',monospace\">0\n",
       "</pre>\n"
      ],
      "text/plain": [
       "0\n"
      ]
     },
     "metadata": {},
     "output_type": "display_data"
    },
    {
     "data": {
      "text/html": [
       "<pre style=\"white-space:pre;overflow-x:auto;line-height:normal;font-family:Menlo,'DejaVu Sans Mono',consolas,'Courier New',monospace\">Start:  2515   TT\n",
       "</pre>\n"
      ],
      "text/plain": [
       "Start:  2515   TT\n"
      ]
     },
     "metadata": {},
     "output_type": "display_data"
    },
    {
     "data": {
      "text/html": [
       "<pre style=\"white-space:pre;overflow-x:auto;line-height:normal;font-family:Menlo,'DejaVu Sans Mono',consolas,'Courier New',monospace\">Extra Ele Veto:  2124\n",
       "</pre>\n"
      ],
      "text/plain": [
       "Extra Ele Veto:  2124\n"
      ]
     },
     "metadata": {},
     "output_type": "display_data"
    },
    {
     "data": {
      "text/html": [
       "<pre style=\"white-space:pre;overflow-x:auto;line-height:normal;font-family:Menlo,'DejaVu Sans Mono',consolas,'Courier New',monospace\">Extra Mu Veto:  69\n",
       "</pre>\n"
      ],
      "text/plain": [
       "Extra Mu Veto:  69\n"
      ]
     },
     "metadata": {},
     "output_type": "display_data"
    },
    {
     "data": {
      "text/html": [
       "<pre style=\"white-space:pre;overflow-x:auto;line-height:normal;font-family:Menlo,'DejaVu Sans Mono',consolas,'Courier New',monospace\">BJet Veto:  8\n",
       "</pre>\n"
      ],
      "text/plain": [
       "BJet Veto:  8\n"
      ]
     },
     "metadata": {},
     "output_type": "display_data"
    },
    {
     "data": {
      "text/html": [
       "<pre style=\"white-space:pre;overflow-x:auto;line-height:normal;font-family:Menlo,'DejaVu Sans Mono',consolas,'Courier New',monospace\">Pairs:  12  Vector:  12\n",
       "</pre>\n"
      ],
      "text/plain": [
       "Pairs:  12  Vector:  12\n"
      ]
     },
     "metadata": {},
     "output_type": "display_data"
    },
    {
     "data": {
      "text/html": [
       "<pre style=\"white-space:pre;overflow-x:auto;line-height:normal;font-family:Menlo,'DejaVu Sans Mono',consolas,'Courier New',monospace\">[[False, True], [], [], [False], [], [True, ... [], [True], [], [True], [], []]\n",
       "</pre>\n"
      ],
      "text/plain": [
       "[[False, True], [], [], [False], [], [True, ... [], [True], [], [True], [], []]\n"
      ]
     },
     "metadata": {},
     "output_type": "display_data"
    },
    {
     "data": {
      "text/html": [
       "<pre style=\"white-space:pre;overflow-x:auto;line-height:normal;font-family:Menlo,'DejaVu Sans Mono',consolas,'Courier New',monospace\">0\n",
       "</pre>\n"
      ],
      "text/plain": [
       "0\n"
      ]
     },
     "metadata": {},
     "output_type": "display_data"
    },
    {
     "data": {
      "text/html": [
       "<pre style=\"white-space:pre;overflow-x:auto;line-height:normal;font-family:Menlo,'DejaVu Sans Mono',consolas,'Courier New',monospace\">Start:  2432   TT\n",
       "</pre>\n"
      ],
      "text/plain": [
       "Start:  2432   TT\n"
      ]
     },
     "metadata": {},
     "output_type": "display_data"
    },
    {
     "data": {
      "text/html": [
       "<pre style=\"white-space:pre;overflow-x:auto;line-height:normal;font-family:Menlo,'DejaVu Sans Mono',consolas,'Courier New',monospace\">Extra Ele Veto:  2075\n",
       "</pre>\n"
      ],
      "text/plain": [
       "Extra Ele Veto:  2075\n"
      ]
     },
     "metadata": {},
     "output_type": "display_data"
    },
    {
     "data": {
      "text/html": [
       "<pre style=\"white-space:pre;overflow-x:auto;line-height:normal;font-family:Menlo,'DejaVu Sans Mono',consolas,'Courier New',monospace\">Extra Mu Veto:  83\n",
       "</pre>\n"
      ],
      "text/plain": [
       "Extra Mu Veto:  83\n"
      ]
     },
     "metadata": {},
     "output_type": "display_data"
    },
    {
     "data": {
      "text/html": [
       "<pre style=\"white-space:pre;overflow-x:auto;line-height:normal;font-family:Menlo,'DejaVu Sans Mono',consolas,'Courier New',monospace\">BJet Veto:  14\n",
       "</pre>\n"
      ],
      "text/plain": [
       "BJet Veto:  14\n"
      ]
     },
     "metadata": {},
     "output_type": "display_data"
    },
    {
     "data": {
      "text/html": [
       "<pre style=\"white-space:pre;overflow-x:auto;line-height:normal;font-family:Menlo,'DejaVu Sans Mono',consolas,'Courier New',monospace\">Pairs:  18  Vector:  18\n",
       "</pre>\n"
      ],
      "text/plain": [
       "Pairs:  18  Vector:  18\n"
      ]
     },
     "metadata": {},
     "output_type": "display_data"
    },
    {
     "data": {
      "text/html": [
       "<pre style=\"white-space:pre;overflow-x:auto;line-height:normal;font-family:Menlo,'DejaVu Sans Mono',consolas,'Courier New',monospace\">[[False], [True, True], [True], [], [], [True, ... [], [], [], [], [], [False], []]\n",
       "</pre>\n"
      ],
      "text/plain": [
       "[[False], [True, True], [True], [], [], [True, ... [], [], [], [], [], [False], []]\n"
      ]
     },
     "metadata": {},
     "output_type": "display_data"
    },
    {
     "data": {
      "text/html": [
       "<pre style=\"white-space:pre;overflow-x:auto;line-height:normal;font-family:Menlo,'DejaVu Sans Mono',consolas,'Courier New',monospace\">0\n",
       "</pre>\n"
      ],
      "text/plain": [
       "0\n"
      ]
     },
     "metadata": {},
     "output_type": "display_data"
    },
    {
     "data": {
      "text/html": [
       "<pre style=\"white-space:pre;overflow-x:auto;line-height:normal;font-family:Menlo,'DejaVu Sans Mono',consolas,'Courier New',monospace\">Start:  2493   TT\n",
       "</pre>\n"
      ],
      "text/plain": [
       "Start:  2493   TT\n"
      ]
     },
     "metadata": {},
     "output_type": "display_data"
    },
    {
     "data": {
      "text/html": [
       "<pre style=\"white-space:pre;overflow-x:auto;line-height:normal;font-family:Menlo,'DejaVu Sans Mono',consolas,'Courier New',monospace\">Extra Ele Veto:  2126\n",
       "</pre>\n"
      ],
      "text/plain": [
       "Extra Ele Veto:  2126\n"
      ]
     },
     "metadata": {},
     "output_type": "display_data"
    },
    {
     "data": {
      "text/html": [
       "<pre style=\"white-space:pre;overflow-x:auto;line-height:normal;font-family:Menlo,'DejaVu Sans Mono',consolas,'Courier New',monospace\">Extra Mu Veto:  96\n",
       "</pre>\n"
      ],
      "text/plain": [
       "Extra Mu Veto:  96\n"
      ]
     },
     "metadata": {},
     "output_type": "display_data"
    },
    {
     "data": {
      "text/html": [
       "<pre style=\"white-space:pre;overflow-x:auto;line-height:normal;font-family:Menlo,'DejaVu Sans Mono',consolas,'Courier New',monospace\">BJet Veto:  17\n",
       "</pre>\n"
      ],
      "text/plain": [
       "BJet Veto:  17\n"
      ]
     },
     "metadata": {},
     "output_type": "display_data"
    },
    {
     "data": {
      "text/html": [
       "<pre style=\"white-space:pre;overflow-x:auto;line-height:normal;font-family:Menlo,'DejaVu Sans Mono',consolas,'Courier New',monospace\">Pairs:  40  Vector:  40\n",
       "</pre>\n"
      ],
      "text/plain": [
       "Pairs:  40  Vector:  40\n"
      ]
     },
     "metadata": {},
     "output_type": "display_data"
    },
    {
     "data": {
      "text/html": [
       "<pre style=\"white-space:pre;overflow-x:auto;line-height:normal;font-family:Menlo,'DejaVu Sans Mono',consolas,'Courier New',monospace\">[[True, True, True], [False], [True], ... True, True], [True, True], [], []]\n",
       "</pre>\n"
      ],
      "text/plain": [
       "[[True, True, True], [False], [True], ... True, True], [True, True], [], []]\n"
      ]
     },
     "metadata": {},
     "output_type": "display_data"
    },
    {
     "data": {
      "text/html": [
       "<pre style=\"white-space:pre;overflow-x:auto;line-height:normal;font-family:Menlo,'DejaVu Sans Mono',consolas,'Courier New',monospace\">0\n",
       "</pre>\n"
      ],
      "text/plain": [
       "0\n"
      ]
     },
     "metadata": {},
     "output_type": "display_data"
    },
    {
     "data": {
      "text/html": [
       "<pre style=\"white-space:pre;overflow-x:auto;line-height:normal;font-family:Menlo,'DejaVu Sans Mono',consolas,'Courier New',monospace\">Start:  2431   TT\n",
       "</pre>\n"
      ],
      "text/plain": [
       "Start:  2431   TT\n"
      ]
     },
     "metadata": {},
     "output_type": "display_data"
    },
    {
     "data": {
      "text/html": [
       "<pre style=\"white-space:pre;overflow-x:auto;line-height:normal;font-family:Menlo,'DejaVu Sans Mono',consolas,'Courier New',monospace\">Extra Ele Veto:  2088\n",
       "</pre>\n"
      ],
      "text/plain": [
       "Extra Ele Veto:  2088\n"
      ]
     },
     "metadata": {},
     "output_type": "display_data"
    },
    {
     "data": {
      "text/html": [
       "<pre style=\"white-space:pre;overflow-x:auto;line-height:normal;font-family:Menlo,'DejaVu Sans Mono',consolas,'Courier New',monospace\">Extra Mu Veto:  60\n",
       "</pre>\n"
      ],
      "text/plain": [
       "Extra Mu Veto:  60\n"
      ]
     },
     "metadata": {},
     "output_type": "display_data"
    },
    {
     "data": {
      "text/html": [
       "<pre style=\"white-space:pre;overflow-x:auto;line-height:normal;font-family:Menlo,'DejaVu Sans Mono',consolas,'Courier New',monospace\">BJet Veto:  19\n",
       "</pre>\n"
      ],
      "text/plain": [
       "BJet Veto:  19\n"
      ]
     },
     "metadata": {},
     "output_type": "display_data"
    },
    {
     "data": {
      "text/html": [
       "<pre style=\"white-space:pre;overflow-x:auto;line-height:normal;font-family:Menlo,'DejaVu Sans Mono',consolas,'Courier New',monospace\">Pairs:  32  Vector:  32\n",
       "</pre>\n"
      ],
      "text/plain": [
       "Pairs:  32  Vector:  32\n"
      ]
     },
     "metadata": {},
     "output_type": "display_data"
    },
    {
     "data": {
      "text/html": [
       "<pre style=\"white-space:pre;overflow-x:auto;line-height:normal;font-family:Menlo,'DejaVu Sans Mono',consolas,'Courier New',monospace\">[[True, False, True], [], [], [], [True, ... False], [True], [], [True, True, False]]\n",
       "</pre>\n"
      ],
      "text/plain": [
       "[[True, False, True], [], [], [], [True, ... False], [True], [], [True, True, False]]\n"
      ]
     },
     "metadata": {},
     "output_type": "display_data"
    },
    {
     "data": {
      "text/html": [
       "<pre style=\"white-space:pre;overflow-x:auto;line-height:normal;font-family:Menlo,'DejaVu Sans Mono',consolas,'Courier New',monospace\">0\n",
       "</pre>\n"
      ],
      "text/plain": [
       "0\n"
      ]
     },
     "metadata": {},
     "output_type": "display_data"
    },
    {
     "data": {
      "text/html": [
       "<pre style=\"white-space:pre;overflow-x:auto;line-height:normal;font-family:Menlo,'DejaVu Sans Mono',consolas,'Courier New',monospace\">Start:  2538   TT\n",
       "</pre>\n"
      ],
      "text/plain": [
       "Start:  2538   TT\n"
      ]
     },
     "metadata": {},
     "output_type": "display_data"
    },
    {
     "data": {
      "text/html": [
       "<pre style=\"white-space:pre;overflow-x:auto;line-height:normal;font-family:Menlo,'DejaVu Sans Mono',consolas,'Courier New',monospace\">Extra Ele Veto:  2180\n",
       "</pre>\n"
      ],
      "text/plain": [
       "Extra Ele Veto:  2180\n"
      ]
     },
     "metadata": {},
     "output_type": "display_data"
    },
    {
     "data": {
      "text/html": [
       "<pre style=\"white-space:pre;overflow-x:auto;line-height:normal;font-family:Menlo,'DejaVu Sans Mono',consolas,'Courier New',monospace\">Extra Mu Veto:  76\n",
       "</pre>\n"
      ],
      "text/plain": [
       "Extra Mu Veto:  76\n"
      ]
     },
     "metadata": {},
     "output_type": "display_data"
    },
    {
     "data": {
      "text/html": [
       "<pre style=\"white-space:pre;overflow-x:auto;line-height:normal;font-family:Menlo,'DejaVu Sans Mono',consolas,'Courier New',monospace\">BJet Veto:  22\n",
       "</pre>\n"
      ],
      "text/plain": [
       "BJet Veto:  22\n"
      ]
     },
     "metadata": {},
     "output_type": "display_data"
    },
    {
     "data": {
      "text/html": [
       "<pre style=\"white-space:pre;overflow-x:auto;line-height:normal;font-family:Menlo,'DejaVu Sans Mono',consolas,'Courier New',monospace\">Pairs:  41  Vector:  41\n",
       "</pre>\n"
      ],
      "text/plain": [
       "Pairs:  41  Vector:  41\n"
      ]
     },
     "metadata": {},
     "output_type": "display_data"
    },
    {
     "data": {
      "text/html": [
       "<pre style=\"white-space:pre;overflow-x:auto;line-height:normal;font-family:Menlo,'DejaVu Sans Mono',consolas,'Courier New',monospace\">[[False, False, True, True, True, True], [True], ... False], [False, True], [], []]\n",
       "</pre>\n"
      ],
      "text/plain": [
       "[[False, False, True, True, True, True], [True], ... False], [False, True], [], []]\n"
      ]
     },
     "metadata": {},
     "output_type": "display_data"
    },
    {
     "data": {
      "text/html": [
       "<pre style=\"white-space:pre;overflow-x:auto;line-height:normal;font-family:Menlo,'DejaVu Sans Mono',consolas,'Courier New',monospace\">0\n",
       "</pre>\n"
      ],
      "text/plain": [
       "0\n"
      ]
     },
     "metadata": {},
     "output_type": "display_data"
    },
    {
     "data": {
      "text/html": [
       "<pre style=\"white-space:pre;overflow-x:auto;line-height:normal;font-family:Menlo,'DejaVu Sans Mono',consolas,'Courier New',monospace\">Start:  1666   WJets\n",
       "</pre>\n"
      ],
      "text/plain": [
       "Start:  1666   WJets\n"
      ]
     },
     "metadata": {},
     "output_type": "display_data"
    },
    {
     "data": {
      "text/html": [
       "<pre style=\"white-space:pre;overflow-x:auto;line-height:normal;font-family:Menlo,'DejaVu Sans Mono',consolas,'Courier New',monospace\">Extra Ele Veto:  1543\n",
       "</pre>\n"
      ],
      "text/plain": [
       "Extra Ele Veto:  1543\n"
      ]
     },
     "metadata": {},
     "output_type": "display_data"
    },
    {
     "data": {
      "text/html": [
       "<pre style=\"white-space:pre;overflow-x:auto;line-height:normal;font-family:Menlo,'DejaVu Sans Mono',consolas,'Courier New',monospace\">Extra Mu Veto:  48\n",
       "</pre>\n"
      ],
      "text/plain": [
       "Extra Mu Veto:  48\n"
      ]
     },
     "metadata": {},
     "output_type": "display_data"
    },
    {
     "data": {
      "text/html": [
       "<pre style=\"white-space:pre;overflow-x:auto;line-height:normal;font-family:Menlo,'DejaVu Sans Mono',consolas,'Courier New',monospace\">BJet Veto:  36\n",
       "</pre>\n"
      ],
      "text/plain": [
       "BJet Veto:  36\n"
      ]
     },
     "metadata": {},
     "output_type": "display_data"
    },
    {
     "data": {
      "text/html": [
       "<pre style=\"white-space:pre;overflow-x:auto;line-height:normal;font-family:Menlo,'DejaVu Sans Mono',consolas,'Courier New',monospace\">Pairs:  61  Vector:  61\n",
       "</pre>\n"
      ],
      "text/plain": [
       "Pairs:  61  Vector:  61\n"
      ]
     },
     "metadata": {},
     "output_type": "display_data"
    },
    {
     "data": {
      "text/html": [
       "<pre style=\"white-space:pre;overflow-x:auto;line-height:normal;font-family:Menlo,'DejaVu Sans Mono',consolas,'Courier New',monospace\">[[], [], [True, False], [False], [False, ... False], [], [True], [True, True, True]]\n",
       "</pre>\n"
      ],
      "text/plain": [
       "[[], [], [True, False], [False], [False, ... False], [], [True], [True, True, True]]\n"
      ]
     },
     "metadata": {},
     "output_type": "display_data"
    },
    {
     "data": {
      "text/html": [
       "<pre style=\"white-space:pre;overflow-x:auto;line-height:normal;font-family:Menlo,'DejaVu Sans Mono',consolas,'Courier New',monospace\">0\n",
       "</pre>\n"
      ],
      "text/plain": [
       "0\n"
      ]
     },
     "metadata": {},
     "output_type": "display_data"
    },
    {
     "data": {
      "text/html": [
       "<pre style=\"white-space:pre;overflow-x:auto;line-height:normal;font-family:Menlo,'DejaVu Sans Mono',consolas,'Courier New',monospace\">Start:  1773   WJets\n",
       "</pre>\n"
      ],
      "text/plain": [
       "Start:  1773   WJets\n"
      ]
     },
     "metadata": {},
     "output_type": "display_data"
    },
    {
     "data": {
      "text/html": [
       "<pre style=\"white-space:pre;overflow-x:auto;line-height:normal;font-family:Menlo,'DejaVu Sans Mono',consolas,'Courier New',monospace\">Extra Ele Veto:  1653\n",
       "</pre>\n"
      ],
      "text/plain": [
       "Extra Ele Veto:  1653\n"
      ]
     },
     "metadata": {},
     "output_type": "display_data"
    },
    {
     "data": {
      "text/html": [
       "<pre style=\"white-space:pre;overflow-x:auto;line-height:normal;font-family:Menlo,'DejaVu Sans Mono',consolas,'Courier New',monospace\">Extra Mu Veto:  64\n",
       "</pre>\n"
      ],
      "text/plain": [
       "Extra Mu Veto:  64\n"
      ]
     },
     "metadata": {},
     "output_type": "display_data"
    },
    {
     "data": {
      "text/html": [
       "<pre style=\"white-space:pre;overflow-x:auto;line-height:normal;font-family:Menlo,'DejaVu Sans Mono',consolas,'Courier New',monospace\">BJet Veto:  57\n",
       "</pre>\n"
      ],
      "text/plain": [
       "BJet Veto:  57\n"
      ]
     },
     "metadata": {},
     "output_type": "display_data"
    },
    {
     "data": {
      "text/html": [
       "<pre style=\"white-space:pre;overflow-x:auto;line-height:normal;font-family:Menlo,'DejaVu Sans Mono',consolas,'Courier New',monospace\">Pairs:  114  Vector:  114\n",
       "</pre>\n"
      ],
      "text/plain": [
       "Pairs:  114  Vector:  114\n"
      ]
     },
     "metadata": {},
     "output_type": "display_data"
    },
    {
     "data": {
      "text/html": [
       "<pre style=\"white-space:pre;overflow-x:auto;line-height:normal;font-family:Menlo,'DejaVu Sans Mono',consolas,'Courier New',monospace\">[[True], [False, False], [True, True, True], ... [], [], [], [False, True], []]\n",
       "</pre>\n"
      ],
      "text/plain": [
       "[[True], [False, False], [True, True, True], ... [], [], [], [False, True], []]\n"
      ]
     },
     "metadata": {},
     "output_type": "display_data"
    },
    {
     "data": {
      "text/html": [
       "<pre style=\"white-space:pre;overflow-x:auto;line-height:normal;font-family:Menlo,'DejaVu Sans Mono',consolas,'Courier New',monospace\">0\n",
       "</pre>\n"
      ],
      "text/plain": [
       "0\n"
      ]
     },
     "metadata": {},
     "output_type": "display_data"
    },
    {
     "data": {
      "text/html": [
       "<pre style=\"white-space:pre;overflow-x:auto;line-height:normal;font-family:Menlo,'DejaVu Sans Mono',consolas,'Courier New',monospace\">Start:  1668   WJets\n",
       "</pre>\n"
      ],
      "text/plain": [
       "Start:  1668   WJets\n"
      ]
     },
     "metadata": {},
     "output_type": "display_data"
    },
    {
     "data": {
      "text/html": [
       "<pre style=\"white-space:pre;overflow-x:auto;line-height:normal;font-family:Menlo,'DejaVu Sans Mono',consolas,'Courier New',monospace\">Extra Ele Veto:  1531\n",
       "</pre>\n"
      ],
      "text/plain": [
       "Extra Ele Veto:  1531\n"
      ]
     },
     "metadata": {},
     "output_type": "display_data"
    },
    {
     "data": {
      "text/html": [
       "<pre style=\"white-space:pre;overflow-x:auto;line-height:normal;font-family:Menlo,'DejaVu Sans Mono',consolas,'Courier New',monospace\">Extra Mu Veto:  39\n",
       "</pre>\n"
      ],
      "text/plain": [
       "Extra Mu Veto:  39\n"
      ]
     },
     "metadata": {},
     "output_type": "display_data"
    },
    {
     "data": {
      "text/html": [
       "<pre style=\"white-space:pre;overflow-x:auto;line-height:normal;font-family:Menlo,'DejaVu Sans Mono',consolas,'Courier New',monospace\">BJet Veto:  34\n",
       "</pre>\n"
      ],
      "text/plain": [
       "BJet Veto:  34\n"
      ]
     },
     "metadata": {},
     "output_type": "display_data"
    },
    {
     "data": {
      "text/html": [
       "<pre style=\"white-space:pre;overflow-x:auto;line-height:normal;font-family:Menlo,'DejaVu Sans Mono',consolas,'Courier New',monospace\">Pairs:  67  Vector:  67\n",
       "</pre>\n"
      ],
      "text/plain": [
       "Pairs:  67  Vector:  67\n"
      ]
     },
     "metadata": {},
     "output_type": "display_data"
    },
    {
     "data": {
      "text/html": [
       "<pre style=\"white-space:pre;overflow-x:auto;line-height:normal;font-family:Menlo,'DejaVu Sans Mono',consolas,'Courier New',monospace\">[[], [True, False], [True, True], [True], ... True], [True], [], [True, True], []]\n",
       "</pre>\n"
      ],
      "text/plain": [
       "[[], [True, False], [True, True], [True], ... True], [True], [], [True, True], []]\n"
      ]
     },
     "metadata": {},
     "output_type": "display_data"
    },
    {
     "data": {
      "text/html": [
       "<pre style=\"white-space:pre;overflow-x:auto;line-height:normal;font-family:Menlo,'DejaVu Sans Mono',consolas,'Courier New',monospace\">0\n",
       "</pre>\n"
      ],
      "text/plain": [
       "0\n"
      ]
     },
     "metadata": {},
     "output_type": "display_data"
    },
    {
     "data": {
      "text/html": [
       "<pre style=\"white-space:pre;overflow-x:auto;line-height:normal;font-family:Menlo,'DejaVu Sans Mono',consolas,'Courier New',monospace\">Start:  1689   WJets\n",
       "</pre>\n"
      ],
      "text/plain": [
       "Start:  1689   WJets\n"
      ]
     },
     "metadata": {},
     "output_type": "display_data"
    },
    {
     "data": {
      "text/html": [
       "<pre style=\"white-space:pre;overflow-x:auto;line-height:normal;font-family:Menlo,'DejaVu Sans Mono',consolas,'Courier New',monospace\">Extra Ele Veto:  1570\n",
       "</pre>\n"
      ],
      "text/plain": [
       "Extra Ele Veto:  1570\n"
      ]
     },
     "metadata": {},
     "output_type": "display_data"
    },
    {
     "data": {
      "text/html": [
       "<pre style=\"white-space:pre;overflow-x:auto;line-height:normal;font-family:Menlo,'DejaVu Sans Mono',consolas,'Courier New',monospace\">Extra Mu Veto:  46\n",
       "</pre>\n"
      ],
      "text/plain": [
       "Extra Mu Veto:  46\n"
      ]
     },
     "metadata": {},
     "output_type": "display_data"
    },
    {
     "data": {
      "text/html": [
       "<pre style=\"white-space:pre;overflow-x:auto;line-height:normal;font-family:Menlo,'DejaVu Sans Mono',consolas,'Courier New',monospace\">BJet Veto:  33\n",
       "</pre>\n"
      ],
      "text/plain": [
       "BJet Veto:  33\n"
      ]
     },
     "metadata": {},
     "output_type": "display_data"
    },
    {
     "data": {
      "text/html": [
       "<pre style=\"white-space:pre;overflow-x:auto;line-height:normal;font-family:Menlo,'DejaVu Sans Mono',consolas,'Courier New',monospace\">Pairs:  69  Vector:  69\n",
       "</pre>\n"
      ],
      "text/plain": [
       "Pairs:  69  Vector:  69\n"
      ]
     },
     "metadata": {},
     "output_type": "display_data"
    },
    {
     "data": {
      "text/html": [
       "<pre style=\"white-space:pre;overflow-x:auto;line-height:normal;font-family:Menlo,'DejaVu Sans Mono',consolas,'Courier New',monospace\">[[], [], [], [], [], [True, True], ... True], [True, True], [True, False], [], []]\n",
       "</pre>\n"
      ],
      "text/plain": [
       "[[], [], [], [], [], [True, True], ... True], [True, True], [True, False], [], []]\n"
      ]
     },
     "metadata": {},
     "output_type": "display_data"
    },
    {
     "data": {
      "text/html": [
       "<pre style=\"white-space:pre;overflow-x:auto;line-height:normal;font-family:Menlo,'DejaVu Sans Mono',consolas,'Courier New',monospace\">0\n",
       "</pre>\n"
      ],
      "text/plain": [
       "0\n"
      ]
     },
     "metadata": {},
     "output_type": "display_data"
    },
    {
     "data": {
      "text/html": [
       "<pre style=\"white-space:pre;overflow-x:auto;line-height:normal;font-family:Menlo,'DejaVu Sans Mono',consolas,'Courier New',monospace\">Start:  1676   WJets\n",
       "</pre>\n"
      ],
      "text/plain": [
       "Start:  1676   WJets\n"
      ]
     },
     "metadata": {},
     "output_type": "display_data"
    },
    {
     "data": {
      "text/html": [
       "<pre style=\"white-space:pre;overflow-x:auto;line-height:normal;font-family:Menlo,'DejaVu Sans Mono',consolas,'Courier New',monospace\">Extra Ele Veto:  1551\n",
       "</pre>\n"
      ],
      "text/plain": [
       "Extra Ele Veto:  1551\n"
      ]
     },
     "metadata": {},
     "output_type": "display_data"
    },
    {
     "data": {
      "text/html": [
       "<pre style=\"white-space:pre;overflow-x:auto;line-height:normal;font-family:Menlo,'DejaVu Sans Mono',consolas,'Courier New',monospace\">Extra Mu Veto:  49\n",
       "</pre>\n"
      ],
      "text/plain": [
       "Extra Mu Veto:  49\n"
      ]
     },
     "metadata": {},
     "output_type": "display_data"
    },
    {
     "data": {
      "text/html": [
       "<pre style=\"white-space:pre;overflow-x:auto;line-height:normal;font-family:Menlo,'DejaVu Sans Mono',consolas,'Courier New',monospace\">BJet Veto:  42\n",
       "</pre>\n"
      ],
      "text/plain": [
       "BJet Veto:  42\n"
      ]
     },
     "metadata": {},
     "output_type": "display_data"
    },
    {
     "data": {
      "text/html": [
       "<pre style=\"white-space:pre;overflow-x:auto;line-height:normal;font-family:Menlo,'DejaVu Sans Mono',consolas,'Courier New',monospace\">Pairs:  74  Vector:  74\n",
       "</pre>\n"
      ],
      "text/plain": [
       "Pairs:  74  Vector:  74\n"
      ]
     },
     "metadata": {},
     "output_type": "display_data"
    },
    {
     "data": {
      "text/html": [
       "<pre style=\"white-space:pre;overflow-x:auto;line-height:normal;font-family:Menlo,'DejaVu Sans Mono',consolas,'Courier New',monospace\">[[True, True, False, True], [], [], [True, False, ... False], [], [], [], [], []]\n",
       "</pre>\n"
      ],
      "text/plain": [
       "[[True, True, False, True], [], [], [True, False, ... False], [], [], [], [], []]\n"
      ]
     },
     "metadata": {},
     "output_type": "display_data"
    },
    {
     "data": {
      "text/html": [
       "<pre style=\"white-space:pre;overflow-x:auto;line-height:normal;font-family:Menlo,'DejaVu Sans Mono',consolas,'Courier New',monospace\">0\n",
       "</pre>\n"
      ],
      "text/plain": [
       "0\n"
      ]
     },
     "metadata": {},
     "output_type": "display_data"
    },
    {
     "data": {
      "text/html": [
       "<pre style=\"white-space:pre;overflow-x:auto;line-height:normal;font-family:Menlo,'DejaVu Sans Mono',consolas,'Courier New',monospace\">Start:  1686   WJets\n",
       "</pre>\n"
      ],
      "text/plain": [
       "Start:  1686   WJets\n"
      ]
     },
     "metadata": {},
     "output_type": "display_data"
    },
    {
     "data": {
      "text/html": [
       "<pre style=\"white-space:pre;overflow-x:auto;line-height:normal;font-family:Menlo,'DejaVu Sans Mono',consolas,'Courier New',monospace\">Extra Ele Veto:  1592\n",
       "</pre>\n"
      ],
      "text/plain": [
       "Extra Ele Veto:  1592\n"
      ]
     },
     "metadata": {},
     "output_type": "display_data"
    },
    {
     "data": {
      "text/html": [
       "<pre style=\"white-space:pre;overflow-x:auto;line-height:normal;font-family:Menlo,'DejaVu Sans Mono',consolas,'Courier New',monospace\">Extra Mu Veto:  53\n",
       "</pre>\n"
      ],
      "text/plain": [
       "Extra Mu Veto:  53\n"
      ]
     },
     "metadata": {},
     "output_type": "display_data"
    },
    {
     "data": {
      "text/html": [
       "<pre style=\"white-space:pre;overflow-x:auto;line-height:normal;font-family:Menlo,'DejaVu Sans Mono',consolas,'Courier New',monospace\">BJet Veto:  45\n",
       "</pre>\n"
      ],
      "text/plain": [
       "BJet Veto:  45\n"
      ]
     },
     "metadata": {},
     "output_type": "display_data"
    },
    {
     "data": {
      "text/html": [
       "<pre style=\"white-space:pre;overflow-x:auto;line-height:normal;font-family:Menlo,'DejaVu Sans Mono',consolas,'Courier New',monospace\">Pairs:  83  Vector:  83\n",
       "</pre>\n"
      ],
      "text/plain": [
       "Pairs:  83  Vector:  83\n"
      ]
     },
     "metadata": {},
     "output_type": "display_data"
    },
    {
     "data": {
      "text/html": [
       "<pre style=\"white-space:pre;overflow-x:auto;line-height:normal;font-family:Menlo,'DejaVu Sans Mono',consolas,'Courier New',monospace\">[[], [], [], [], [], [], [True], ... [True, True, True, True], [], [], [False]]\n",
       "</pre>\n"
      ],
      "text/plain": [
       "[[], [], [], [], [], [], [True], ... [True, True, True, True], [], [], [False]]\n"
      ]
     },
     "metadata": {},
     "output_type": "display_data"
    },
    {
     "data": {
      "text/html": [
       "<pre style=\"white-space:pre;overflow-x:auto;line-height:normal;font-family:Menlo,'DejaVu Sans Mono',consolas,'Courier New',monospace\">0\n",
       "</pre>\n"
      ],
      "text/plain": [
       "0\n"
      ]
     },
     "metadata": {},
     "output_type": "display_data"
    },
    {
     "data": {
      "text/html": [
       "<pre style=\"white-space:pre;overflow-x:auto;line-height:normal;font-family:Menlo,'DejaVu Sans Mono',consolas,'Courier New',monospace\">Start:  1684   WJets\n",
       "</pre>\n"
      ],
      "text/plain": [
       "Start:  1684   WJets\n"
      ]
     },
     "metadata": {},
     "output_type": "display_data"
    },
    {
     "data": {
      "text/html": [
       "<pre style=\"white-space:pre;overflow-x:auto;line-height:normal;font-family:Menlo,'DejaVu Sans Mono',consolas,'Courier New',monospace\">Extra Ele Veto:  1558\n",
       "</pre>\n"
      ],
      "text/plain": [
       "Extra Ele Veto:  1558\n"
      ]
     },
     "metadata": {},
     "output_type": "display_data"
    },
    {
     "data": {
      "text/html": [
       "<pre style=\"white-space:pre;overflow-x:auto;line-height:normal;font-family:Menlo,'DejaVu Sans Mono',consolas,'Courier New',monospace\">Extra Mu Veto:  49\n",
       "</pre>\n"
      ],
      "text/plain": [
       "Extra Mu Veto:  49\n"
      ]
     },
     "metadata": {},
     "output_type": "display_data"
    },
    {
     "data": {
      "text/html": [
       "<pre style=\"white-space:pre;overflow-x:auto;line-height:normal;font-family:Menlo,'DejaVu Sans Mono',consolas,'Courier New',monospace\">BJet Veto:  41\n",
       "</pre>\n"
      ],
      "text/plain": [
       "BJet Veto:  41\n"
      ]
     },
     "metadata": {},
     "output_type": "display_data"
    },
    {
     "data": {
      "text/html": [
       "<pre style=\"white-space:pre;overflow-x:auto;line-height:normal;font-family:Menlo,'DejaVu Sans Mono',consolas,'Courier New',monospace\">Pairs:  70  Vector:  70\n",
       "</pre>\n"
      ],
      "text/plain": [
       "Pairs:  70  Vector:  70\n"
      ]
     },
     "metadata": {},
     "output_type": "display_data"
    },
    {
     "data": {
      "text/html": [
       "<pre style=\"white-space:pre;overflow-x:auto;line-height:normal;font-family:Menlo,'DejaVu Sans Mono',consolas,'Courier New',monospace\">[[], [], [], [False, True], [False, False, False, ... [], [], [True], [False], []]\n",
       "</pre>\n"
      ],
      "text/plain": [
       "[[], [], [], [False, True], [False, False, False, ... [], [], [True], [False], []]\n"
      ]
     },
     "metadata": {},
     "output_type": "display_data"
    },
    {
     "data": {
      "text/html": [
       "<pre style=\"white-space:pre;overflow-x:auto;line-height:normal;font-family:Menlo,'DejaVu Sans Mono',consolas,'Courier New',monospace\">0\n",
       "</pre>\n"
      ],
      "text/plain": [
       "0\n"
      ]
     },
     "metadata": {},
     "output_type": "display_data"
    },
    {
     "data": {
      "text/html": [
       "<pre style=\"white-space:pre;overflow-x:auto;line-height:normal;font-family:Menlo,'DejaVu Sans Mono',consolas,'Courier New',monospace\">Start:  1662   WJets\n",
       "</pre>\n"
      ],
      "text/plain": [
       "Start:  1662   WJets\n"
      ]
     },
     "metadata": {},
     "output_type": "display_data"
    },
    {
     "data": {
      "text/html": [
       "<pre style=\"white-space:pre;overflow-x:auto;line-height:normal;font-family:Menlo,'DejaVu Sans Mono',consolas,'Courier New',monospace\">Extra Ele Veto:  1570\n",
       "</pre>\n"
      ],
      "text/plain": [
       "Extra Ele Veto:  1570\n"
      ]
     },
     "metadata": {},
     "output_type": "display_data"
    },
    {
     "data": {
      "text/html": [
       "<pre style=\"white-space:pre;overflow-x:auto;line-height:normal;font-family:Menlo,'DejaVu Sans Mono',consolas,'Courier New',monospace\">Extra Mu Veto:  45\n",
       "</pre>\n"
      ],
      "text/plain": [
       "Extra Mu Veto:  45\n"
      ]
     },
     "metadata": {},
     "output_type": "display_data"
    },
    {
     "data": {
      "text/html": [
       "<pre style=\"white-space:pre;overflow-x:auto;line-height:normal;font-family:Menlo,'DejaVu Sans Mono',consolas,'Courier New',monospace\">BJet Veto:  36\n",
       "</pre>\n"
      ],
      "text/plain": [
       "BJet Veto:  36\n"
      ]
     },
     "metadata": {},
     "output_type": "display_data"
    },
    {
     "data": {
      "text/html": [
       "<pre style=\"white-space:pre;overflow-x:auto;line-height:normal;font-family:Menlo,'DejaVu Sans Mono',consolas,'Courier New',monospace\">Pairs:  61  Vector:  61\n",
       "</pre>\n"
      ],
      "text/plain": [
       "Pairs:  61  Vector:  61\n"
      ]
     },
     "metadata": {},
     "output_type": "display_data"
    },
    {
     "data": {
      "text/html": [
       "<pre style=\"white-space:pre;overflow-x:auto;line-height:normal;font-family:Menlo,'DejaVu Sans Mono',consolas,'Courier New',monospace\">[[], [True], [], [False], [], [True, True], ... [], [], [True], [True, True], [], []]\n",
       "</pre>\n"
      ],
      "text/plain": [
       "[[], [True], [], [False], [], [True, True], ... [], [], [True], [True, True], [], []]\n"
      ]
     },
     "metadata": {},
     "output_type": "display_data"
    },
    {
     "data": {
      "text/html": [
       "<pre style=\"white-space:pre;overflow-x:auto;line-height:normal;font-family:Menlo,'DejaVu Sans Mono',consolas,'Courier New',monospace\">0\n",
       "</pre>\n"
      ],
      "text/plain": [
       "0\n"
      ]
     },
     "metadata": {},
     "output_type": "display_data"
    },
    {
     "data": {
      "text/html": [
       "<pre style=\"white-space:pre;overflow-x:auto;line-height:normal;font-family:Menlo,'DejaVu Sans Mono',consolas,'Courier New',monospace\">Start:  1697   WJets\n",
       "</pre>\n"
      ],
      "text/plain": [
       "Start:  1697   WJets\n"
      ]
     },
     "metadata": {},
     "output_type": "display_data"
    },
    {
     "data": {
      "text/html": [
       "<pre style=\"white-space:pre;overflow-x:auto;line-height:normal;font-family:Menlo,'DejaVu Sans Mono',consolas,'Courier New',monospace\">Extra Ele Veto:  1571\n",
       "</pre>\n"
      ],
      "text/plain": [
       "Extra Ele Veto:  1571\n"
      ]
     },
     "metadata": {},
     "output_type": "display_data"
    },
    {
     "data": {
      "text/html": [
       "<pre style=\"white-space:pre;overflow-x:auto;line-height:normal;font-family:Menlo,'DejaVu Sans Mono',consolas,'Courier New',monospace\">Extra Mu Veto:  55\n",
       "</pre>\n"
      ],
      "text/plain": [
       "Extra Mu Veto:  55\n"
      ]
     },
     "metadata": {},
     "output_type": "display_data"
    },
    {
     "data": {
      "text/html": [
       "<pre style=\"white-space:pre;overflow-x:auto;line-height:normal;font-family:Menlo,'DejaVu Sans Mono',consolas,'Courier New',monospace\">BJet Veto:  52\n",
       "</pre>\n"
      ],
      "text/plain": [
       "BJet Veto:  52\n"
      ]
     },
     "metadata": {},
     "output_type": "display_data"
    },
    {
     "data": {
      "text/html": [
       "<pre style=\"white-space:pre;overflow-x:auto;line-height:normal;font-family:Menlo,'DejaVu Sans Mono',consolas,'Courier New',monospace\">Pairs:  87  Vector:  87\n",
       "</pre>\n"
      ],
      "text/plain": [
       "Pairs:  87  Vector:  87\n"
      ]
     },
     "metadata": {},
     "output_type": "display_data"
    },
    {
     "data": {
      "text/html": [
       "<pre style=\"white-space:pre;overflow-x:auto;line-height:normal;font-family:Menlo,'DejaVu Sans Mono',consolas,'Courier New',monospace\">[[], [False], [False, True], [], [False, False, ... [], [], [], [True, True], []]\n",
       "</pre>\n"
      ],
      "text/plain": [
       "[[], [False], [False, True], [], [False, False, ... [], [], [], [True, True], []]\n"
      ]
     },
     "metadata": {},
     "output_type": "display_data"
    },
    {
     "data": {
      "text/html": [
       "<pre style=\"white-space:pre;overflow-x:auto;line-height:normal;font-family:Menlo,'DejaVu Sans Mono',consolas,'Courier New',monospace\">0\n",
       "</pre>\n"
      ],
      "text/plain": [
       "0\n"
      ]
     },
     "metadata": {},
     "output_type": "display_data"
    },
    {
     "data": {
      "text/html": [
       "<pre style=\"white-space:pre;overflow-x:auto;line-height:normal;font-family:Menlo,'DejaVu Sans Mono',consolas,'Courier New',monospace\">Start:  1715   WJets\n",
       "</pre>\n"
      ],
      "text/plain": [
       "Start:  1715   WJets\n"
      ]
     },
     "metadata": {},
     "output_type": "display_data"
    },
    {
     "data": {
      "text/html": [
       "<pre style=\"white-space:pre;overflow-x:auto;line-height:normal;font-family:Menlo,'DejaVu Sans Mono',consolas,'Courier New',monospace\">Extra Ele Veto:  1591\n",
       "</pre>\n"
      ],
      "text/plain": [
       "Extra Ele Veto:  1591\n"
      ]
     },
     "metadata": {},
     "output_type": "display_data"
    },
    {
     "data": {
      "text/html": [
       "<pre style=\"white-space:pre;overflow-x:auto;line-height:normal;font-family:Menlo,'DejaVu Sans Mono',consolas,'Courier New',monospace\">Extra Mu Veto:  67\n",
       "</pre>\n"
      ],
      "text/plain": [
       "Extra Mu Veto:  67\n"
      ]
     },
     "metadata": {},
     "output_type": "display_data"
    },
    {
     "data": {
      "text/html": [
       "<pre style=\"white-space:pre;overflow-x:auto;line-height:normal;font-family:Menlo,'DejaVu Sans Mono',consolas,'Courier New',monospace\">BJet Veto:  57\n",
       "</pre>\n"
      ],
      "text/plain": [
       "BJet Veto:  57\n"
      ]
     },
     "metadata": {},
     "output_type": "display_data"
    },
    {
     "data": {
      "text/html": [
       "<pre style=\"white-space:pre;overflow-x:auto;line-height:normal;font-family:Menlo,'DejaVu Sans Mono',consolas,'Courier New',monospace\">Pairs:  88  Vector:  88\n",
       "</pre>\n"
      ],
      "text/plain": [
       "Pairs:  88  Vector:  88\n"
      ]
     },
     "metadata": {},
     "output_type": "display_data"
    },
    {
     "data": {
      "text/html": [
       "<pre style=\"white-space:pre;overflow-x:auto;line-height:normal;font-family:Menlo,'DejaVu Sans Mono',consolas,'Courier New',monospace\">[[], [], [], [], [True, True], ... False], [], [True, True, False, False], []]\n",
       "</pre>\n"
      ],
      "text/plain": [
       "[[], [], [], [], [True, True], ... False], [], [True, True, False, False], []]\n"
      ]
     },
     "metadata": {},
     "output_type": "display_data"
    },
    {
     "data": {
      "text/html": [
       "<pre style=\"white-space:pre;overflow-x:auto;line-height:normal;font-family:Menlo,'DejaVu Sans Mono',consolas,'Courier New',monospace\">0\n",
       "</pre>\n"
      ],
      "text/plain": [
       "0\n"
      ]
     },
     "metadata": {},
     "output_type": "display_data"
    },
    {
     "data": {
      "text/html": [
       "<pre style=\"white-space:pre;overflow-x:auto;line-height:normal;font-family:Menlo,'DejaVu Sans Mono',consolas,'Courier New',monospace\">Start:  1629   WJets\n",
       "</pre>\n"
      ],
      "text/plain": [
       "Start:  1629   WJets\n"
      ]
     },
     "metadata": {},
     "output_type": "display_data"
    },
    {
     "data": {
      "text/html": [
       "<pre style=\"white-space:pre;overflow-x:auto;line-height:normal;font-family:Menlo,'DejaVu Sans Mono',consolas,'Courier New',monospace\">Extra Ele Veto:  1530\n",
       "</pre>\n"
      ],
      "text/plain": [
       "Extra Ele Veto:  1530\n"
      ]
     },
     "metadata": {},
     "output_type": "display_data"
    },
    {
     "data": {
      "text/html": [
       "<pre style=\"white-space:pre;overflow-x:auto;line-height:normal;font-family:Menlo,'DejaVu Sans Mono',consolas,'Courier New',monospace\">Extra Mu Veto:  36\n",
       "</pre>\n"
      ],
      "text/plain": [
       "Extra Mu Veto:  36\n"
      ]
     },
     "metadata": {},
     "output_type": "display_data"
    },
    {
     "data": {
      "text/html": [
       "<pre style=\"white-space:pre;overflow-x:auto;line-height:normal;font-family:Menlo,'DejaVu Sans Mono',consolas,'Courier New',monospace\">BJet Veto:  30\n",
       "</pre>\n"
      ],
      "text/plain": [
       "BJet Veto:  30\n"
      ]
     },
     "metadata": {},
     "output_type": "display_data"
    },
    {
     "data": {
      "text/html": [
       "<pre style=\"white-space:pre;overflow-x:auto;line-height:normal;font-family:Menlo,'DejaVu Sans Mono',consolas,'Courier New',monospace\">Pairs:  66  Vector:  66\n",
       "</pre>\n"
      ],
      "text/plain": [
       "Pairs:  66  Vector:  66\n"
      ]
     },
     "metadata": {},
     "output_type": "display_data"
    },
    {
     "data": {
      "text/html": [
       "<pre style=\"white-space:pre;overflow-x:auto;line-height:normal;font-family:Menlo,'DejaVu Sans Mono',consolas,'Courier New',monospace\">[[], [], [], [True], [], [], [True, ... True], [True, False, False], [], [True], []]\n",
       "</pre>\n"
      ],
      "text/plain": [
       "[[], [], [], [True], [], [], [True, ... True], [True, False, False], [], [True], []]\n"
      ]
     },
     "metadata": {},
     "output_type": "display_data"
    },
    {
     "data": {
      "text/html": [
       "<pre style=\"white-space:pre;overflow-x:auto;line-height:normal;font-family:Menlo,'DejaVu Sans Mono',consolas,'Courier New',monospace\">0\n",
       "</pre>\n"
      ],
      "text/plain": [
       "0\n"
      ]
     },
     "metadata": {},
     "output_type": "display_data"
    },
    {
     "data": {
      "text/html": [
       "<pre style=\"white-space:pre;overflow-x:auto;line-height:normal;font-family:Menlo,'DejaVu Sans Mono',consolas,'Courier New',monospace\">Start:  1627   WJets\n",
       "</pre>\n"
      ],
      "text/plain": [
       "Start:  1627   WJets\n"
      ]
     },
     "metadata": {},
     "output_type": "display_data"
    },
    {
     "data": {
      "text/html": [
       "<pre style=\"white-space:pre;overflow-x:auto;line-height:normal;font-family:Menlo,'DejaVu Sans Mono',consolas,'Courier New',monospace\">Extra Ele Veto:  1547\n",
       "</pre>\n"
      ],
      "text/plain": [
       "Extra Ele Veto:  1547\n"
      ]
     },
     "metadata": {},
     "output_type": "display_data"
    },
    {
     "data": {
      "text/html": [
       "<pre style=\"white-space:pre;overflow-x:auto;line-height:normal;font-family:Menlo,'DejaVu Sans Mono',consolas,'Courier New',monospace\">Extra Mu Veto:  52\n",
       "</pre>\n"
      ],
      "text/plain": [
       "Extra Mu Veto:  52\n"
      ]
     },
     "metadata": {},
     "output_type": "display_data"
    },
    {
     "data": {
      "text/html": [
       "<pre style=\"white-space:pre;overflow-x:auto;line-height:normal;font-family:Menlo,'DejaVu Sans Mono',consolas,'Courier New',monospace\">BJet Veto:  45\n",
       "</pre>\n"
      ],
      "text/plain": [
       "BJet Veto:  45\n"
      ]
     },
     "metadata": {},
     "output_type": "display_data"
    },
    {
     "data": {
      "text/html": [
       "<pre style=\"white-space:pre;overflow-x:auto;line-height:normal;font-family:Menlo,'DejaVu Sans Mono',consolas,'Courier New',monospace\">Pairs:  90  Vector:  90\n",
       "</pre>\n"
      ],
      "text/plain": [
       "Pairs:  90  Vector:  90\n"
      ]
     },
     "metadata": {},
     "output_type": "display_data"
    },
    {
     "data": {
      "text/html": [
       "<pre style=\"white-space:pre;overflow-x:auto;line-height:normal;font-family:Menlo,'DejaVu Sans Mono',consolas,'Courier New',monospace\">[[True, True, True, True], [True, False, True], ... [], [True, True], [True, False]]\n",
       "</pre>\n"
      ],
      "text/plain": [
       "[[True, True, True, True], [True, False, True], ... [], [True, True], [True, False]]\n"
      ]
     },
     "metadata": {},
     "output_type": "display_data"
    },
    {
     "data": {
      "text/html": [
       "<pre style=\"white-space:pre;overflow-x:auto;line-height:normal;font-family:Menlo,'DejaVu Sans Mono',consolas,'Courier New',monospace\">0\n",
       "</pre>\n"
      ],
      "text/plain": [
       "0\n"
      ]
     },
     "metadata": {},
     "output_type": "display_data"
    },
    {
     "data": {
      "text/html": [
       "<pre style=\"white-space:pre;overflow-x:auto;line-height:normal;font-family:Menlo,'DejaVu Sans Mono',consolas,'Courier New',monospace\">Start:  1609   WJets\n",
       "</pre>\n"
      ],
      "text/plain": [
       "Start:  1609   WJets\n"
      ]
     },
     "metadata": {},
     "output_type": "display_data"
    },
    {
     "data": {
      "text/html": [
       "<pre style=\"white-space:pre;overflow-x:auto;line-height:normal;font-family:Menlo,'DejaVu Sans Mono',consolas,'Courier New',monospace\">Extra Ele Veto:  1512\n",
       "</pre>\n"
      ],
      "text/plain": [
       "Extra Ele Veto:  1512\n"
      ]
     },
     "metadata": {},
     "output_type": "display_data"
    },
    {
     "data": {
      "text/html": [
       "<pre style=\"white-space:pre;overflow-x:auto;line-height:normal;font-family:Menlo,'DejaVu Sans Mono',consolas,'Courier New',monospace\">Extra Mu Veto:  49\n",
       "</pre>\n"
      ],
      "text/plain": [
       "Extra Mu Veto:  49\n"
      ]
     },
     "metadata": {},
     "output_type": "display_data"
    },
    {
     "data": {
      "text/html": [
       "<pre style=\"white-space:pre;overflow-x:auto;line-height:normal;font-family:Menlo,'DejaVu Sans Mono',consolas,'Courier New',monospace\">BJet Veto:  42\n",
       "</pre>\n"
      ],
      "text/plain": [
       "BJet Veto:  42\n"
      ]
     },
     "metadata": {},
     "output_type": "display_data"
    },
    {
     "data": {
      "text/html": [
       "<pre style=\"white-space:pre;overflow-x:auto;line-height:normal;font-family:Menlo,'DejaVu Sans Mono',consolas,'Courier New',monospace\">Pairs:  59  Vector:  59\n",
       "</pre>\n"
      ],
      "text/plain": [
       "Pairs:  59  Vector:  59\n"
      ]
     },
     "metadata": {},
     "output_type": "display_data"
    },
    {
     "data": {
      "text/html": [
       "<pre style=\"white-space:pre;overflow-x:auto;line-height:normal;font-family:Menlo,'DejaVu Sans Mono',consolas,'Courier New',monospace\">[[], [], [True, True, True, True, False, False, ... [False, False], [], [False]]\n",
       "</pre>\n"
      ],
      "text/plain": [
       "[[], [], [True, True, True, True, False, False, ... [False, False], [], [False]]\n"
      ]
     },
     "metadata": {},
     "output_type": "display_data"
    },
    {
     "data": {
      "text/html": [
       "<pre style=\"white-space:pre;overflow-x:auto;line-height:normal;font-family:Menlo,'DejaVu Sans Mono',consolas,'Courier New',monospace\">0\n",
       "</pre>\n"
      ],
      "text/plain": [
       "0\n"
      ]
     },
     "metadata": {},
     "output_type": "display_data"
    },
    {
     "data": {
      "text/html": [
       "<pre style=\"white-space:pre;overflow-x:auto;line-height:normal;font-family:Menlo,'DejaVu Sans Mono',consolas,'Courier New',monospace\">Start:  1654   WJets\n",
       "</pre>\n"
      ],
      "text/plain": [
       "Start:  1654   WJets\n"
      ]
     },
     "metadata": {},
     "output_type": "display_data"
    },
    {
     "data": {
      "text/html": [
       "<pre style=\"white-space:pre;overflow-x:auto;line-height:normal;font-family:Menlo,'DejaVu Sans Mono',consolas,'Courier New',monospace\">Extra Ele Veto:  1555\n",
       "</pre>\n"
      ],
      "text/plain": [
       "Extra Ele Veto:  1555\n"
      ]
     },
     "metadata": {},
     "output_type": "display_data"
    },
    {
     "data": {
      "text/html": [
       "<pre style=\"white-space:pre;overflow-x:auto;line-height:normal;font-family:Menlo,'DejaVu Sans Mono',consolas,'Courier New',monospace\">Extra Mu Veto:  35\n",
       "</pre>\n"
      ],
      "text/plain": [
       "Extra Mu Veto:  35\n"
      ]
     },
     "metadata": {},
     "output_type": "display_data"
    },
    {
     "data": {
      "text/html": [
       "<pre style=\"white-space:pre;overflow-x:auto;line-height:normal;font-family:Menlo,'DejaVu Sans Mono',consolas,'Courier New',monospace\">BJet Veto:  31\n",
       "</pre>\n"
      ],
      "text/plain": [
       "BJet Veto:  31\n"
      ]
     },
     "metadata": {},
     "output_type": "display_data"
    },
    {
     "data": {
      "text/html": [
       "<pre style=\"white-space:pre;overflow-x:auto;line-height:normal;font-family:Menlo,'DejaVu Sans Mono',consolas,'Courier New',monospace\">Pairs:  61  Vector:  61\n",
       "</pre>\n"
      ],
      "text/plain": [
       "Pairs:  61  Vector:  61\n"
      ]
     },
     "metadata": {},
     "output_type": "display_data"
    },
    {
     "data": {
      "text/html": [
       "<pre style=\"white-space:pre;overflow-x:auto;line-height:normal;font-family:Menlo,'DejaVu Sans Mono',consolas,'Courier New',monospace\">[[True], [], [], [False, False], [True, ... [], [True], [], [True, True, False]]\n",
       "</pre>\n"
      ],
      "text/plain": [
       "[[True], [], [], [False, False], [True, ... [], [True], [], [True, True, False]]\n"
      ]
     },
     "metadata": {},
     "output_type": "display_data"
    },
    {
     "data": {
      "text/html": [
       "<pre style=\"white-space:pre;overflow-x:auto;line-height:normal;font-family:Menlo,'DejaVu Sans Mono',consolas,'Courier New',monospace\">0\n",
       "</pre>\n"
      ],
      "text/plain": [
       "0\n"
      ]
     },
     "metadata": {},
     "output_type": "display_data"
    },
    {
     "data": {
      "text/html": [
       "<pre style=\"white-space:pre;overflow-x:auto;line-height:normal;font-family:Menlo,'DejaVu Sans Mono',consolas,'Courier New',monospace\">Start:  1665   WJets\n",
       "</pre>\n"
      ],
      "text/plain": [
       "Start:  1665   WJets\n"
      ]
     },
     "metadata": {},
     "output_type": "display_data"
    },
    {
     "data": {
      "text/html": [
       "<pre style=\"white-space:pre;overflow-x:auto;line-height:normal;font-family:Menlo,'DejaVu Sans Mono',consolas,'Courier New',monospace\">Extra Ele Veto:  1549\n",
       "</pre>\n"
      ],
      "text/plain": [
       "Extra Ele Veto:  1549\n"
      ]
     },
     "metadata": {},
     "output_type": "display_data"
    },
    {
     "data": {
      "text/html": [
       "<pre style=\"white-space:pre;overflow-x:auto;line-height:normal;font-family:Menlo,'DejaVu Sans Mono',consolas,'Courier New',monospace\">Extra Mu Veto:  48\n",
       "</pre>\n"
      ],
      "text/plain": [
       "Extra Mu Veto:  48\n"
      ]
     },
     "metadata": {},
     "output_type": "display_data"
    },
    {
     "data": {
      "text/html": [
       "<pre style=\"white-space:pre;overflow-x:auto;line-height:normal;font-family:Menlo,'DejaVu Sans Mono',consolas,'Courier New',monospace\">BJet Veto:  40\n",
       "</pre>\n"
      ],
      "text/plain": [
       "BJet Veto:  40\n"
      ]
     },
     "metadata": {},
     "output_type": "display_data"
    },
    {
     "data": {
      "text/html": [
       "<pre style=\"white-space:pre;overflow-x:auto;line-height:normal;font-family:Menlo,'DejaVu Sans Mono',consolas,'Courier New',monospace\">Pairs:  69  Vector:  69\n",
       "</pre>\n"
      ],
      "text/plain": [
       "Pairs:  69  Vector:  69\n"
      ]
     },
     "metadata": {},
     "output_type": "display_data"
    },
    {
     "data": {
      "text/html": [
       "<pre style=\"white-space:pre;overflow-x:auto;line-height:normal;font-family:Menlo,'DejaVu Sans Mono',consolas,'Courier New',monospace\">[[True, True], [False, True, True], [], [], [], ... [], [True], [], [True], [], []]\n",
       "</pre>\n"
      ],
      "text/plain": [
       "[[True, True], [False, True, True], [], [], [], ... [], [True], [], [True], [], []]\n"
      ]
     },
     "metadata": {},
     "output_type": "display_data"
    },
    {
     "data": {
      "text/html": [
       "<pre style=\"white-space:pre;overflow-x:auto;line-height:normal;font-family:Menlo,'DejaVu Sans Mono',consolas,'Courier New',monospace\">0\n",
       "</pre>\n"
      ],
      "text/plain": [
       "0\n"
      ]
     },
     "metadata": {},
     "output_type": "display_data"
    },
    {
     "data": {
      "text/html": [
       "<pre style=\"white-space:pre;overflow-x:auto;line-height:normal;font-family:Menlo,'DejaVu Sans Mono',consolas,'Courier New',monospace\">Start:  1675   WJets\n",
       "</pre>\n"
      ],
      "text/plain": [
       "Start:  1675   WJets\n"
      ]
     },
     "metadata": {},
     "output_type": "display_data"
    },
    {
     "data": {
      "text/html": [
       "<pre style=\"white-space:pre;overflow-x:auto;line-height:normal;font-family:Menlo,'DejaVu Sans Mono',consolas,'Courier New',monospace\">Extra Ele Veto:  1575\n",
       "</pre>\n"
      ],
      "text/plain": [
       "Extra Ele Veto:  1575\n"
      ]
     },
     "metadata": {},
     "output_type": "display_data"
    },
    {
     "data": {
      "text/html": [
       "<pre style=\"white-space:pre;overflow-x:auto;line-height:normal;font-family:Menlo,'DejaVu Sans Mono',consolas,'Courier New',monospace\">Extra Mu Veto:  43\n",
       "</pre>\n"
      ],
      "text/plain": [
       "Extra Mu Veto:  43\n"
      ]
     },
     "metadata": {},
     "output_type": "display_data"
    },
    {
     "data": {
      "text/html": [
       "<pre style=\"white-space:pre;overflow-x:auto;line-height:normal;font-family:Menlo,'DejaVu Sans Mono',consolas,'Courier New',monospace\">BJet Veto:  34\n",
       "</pre>\n"
      ],
      "text/plain": [
       "BJet Veto:  34\n"
      ]
     },
     "metadata": {},
     "output_type": "display_data"
    },
    {
     "data": {
      "text/html": [
       "<pre style=\"white-space:pre;overflow-x:auto;line-height:normal;font-family:Menlo,'DejaVu Sans Mono',consolas,'Courier New',monospace\">Pairs:  61  Vector:  61\n",
       "</pre>\n"
      ],
      "text/plain": [
       "Pairs:  61  Vector:  61\n"
      ]
     },
     "metadata": {},
     "output_type": "display_data"
    },
    {
     "data": {
      "text/html": [
       "<pre style=\"white-space:pre;overflow-x:auto;line-height:normal;font-family:Menlo,'DejaVu Sans Mono',consolas,'Courier New',monospace\">[[], [False, True], [], [], [], [False, False, ... [], [], [], [], [], [], []]\n",
       "</pre>\n"
      ],
      "text/plain": [
       "[[], [False, True], [], [], [], [False, False, ... [], [], [], [], [], [], []]\n"
      ]
     },
     "metadata": {},
     "output_type": "display_data"
    },
    {
     "data": {
      "text/html": [
       "<pre style=\"white-space:pre;overflow-x:auto;line-height:normal;font-family:Menlo,'DejaVu Sans Mono',consolas,'Courier New',monospace\">0\n",
       "</pre>\n"
      ],
      "text/plain": [
       "0\n"
      ]
     },
     "metadata": {},
     "output_type": "display_data"
    },
    {
     "data": {
      "text/html": [
       "<pre style=\"white-space:pre;overflow-x:auto;line-height:normal;font-family:Menlo,'DejaVu Sans Mono',consolas,'Courier New',monospace\">Start:  1712   WJets\n",
       "</pre>\n"
      ],
      "text/plain": [
       "Start:  1712   WJets\n"
      ]
     },
     "metadata": {},
     "output_type": "display_data"
    },
    {
     "data": {
      "text/html": [
       "<pre style=\"white-space:pre;overflow-x:auto;line-height:normal;font-family:Menlo,'DejaVu Sans Mono',consolas,'Courier New',monospace\">Extra Ele Veto:  1615\n",
       "</pre>\n"
      ],
      "text/plain": [
       "Extra Ele Veto:  1615\n"
      ]
     },
     "metadata": {},
     "output_type": "display_data"
    },
    {
     "data": {
      "text/html": [
       "<pre style=\"white-space:pre;overflow-x:auto;line-height:normal;font-family:Menlo,'DejaVu Sans Mono',consolas,'Courier New',monospace\">Extra Mu Veto:  57\n",
       "</pre>\n"
      ],
      "text/plain": [
       "Extra Mu Veto:  57\n"
      ]
     },
     "metadata": {},
     "output_type": "display_data"
    },
    {
     "data": {
      "text/html": [
       "<pre style=\"white-space:pre;overflow-x:auto;line-height:normal;font-family:Menlo,'DejaVu Sans Mono',consolas,'Courier New',monospace\">BJet Veto:  47\n",
       "</pre>\n"
      ],
      "text/plain": [
       "BJet Veto:  47\n"
      ]
     },
     "metadata": {},
     "output_type": "display_data"
    },
    {
     "data": {
      "text/html": [
       "<pre style=\"white-space:pre;overflow-x:auto;line-height:normal;font-family:Menlo,'DejaVu Sans Mono',consolas,'Courier New',monospace\">Pairs:  86  Vector:  86\n",
       "</pre>\n"
      ],
      "text/plain": [
       "Pairs:  86  Vector:  86\n"
      ]
     },
     "metadata": {},
     "output_type": "display_data"
    },
    {
     "data": {
      "text/html": [
       "<pre style=\"white-space:pre;overflow-x:auto;line-height:normal;font-family:Menlo,'DejaVu Sans Mono',consolas,'Courier New',monospace\">[[], [], [True, True], [], [], [], [], ... [], [False, False], [], [False], [], []]\n",
       "</pre>\n"
      ],
      "text/plain": [
       "[[], [], [True, True], [], [], [], [], ... [], [False, False], [], [False], [], []]\n"
      ]
     },
     "metadata": {},
     "output_type": "display_data"
    },
    {
     "data": {
      "text/html": [
       "<pre style=\"white-space:pre;overflow-x:auto;line-height:normal;font-family:Menlo,'DejaVu Sans Mono',consolas,'Courier New',monospace\">0\n",
       "</pre>\n"
      ],
      "text/plain": [
       "0\n"
      ]
     },
     "metadata": {},
     "output_type": "display_data"
    },
    {
     "data": {
      "text/html": [
       "<pre style=\"white-space:pre;overflow-x:auto;line-height:normal;font-family:Menlo,'DejaVu Sans Mono',consolas,'Courier New',monospace\">Start:  1697   WJets\n",
       "</pre>\n"
      ],
      "text/plain": [
       "Start:  1697   WJets\n"
      ]
     },
     "metadata": {},
     "output_type": "display_data"
    },
    {
     "data": {
      "text/html": [
       "<pre style=\"white-space:pre;overflow-x:auto;line-height:normal;font-family:Menlo,'DejaVu Sans Mono',consolas,'Courier New',monospace\">Extra Ele Veto:  1587\n",
       "</pre>\n"
      ],
      "text/plain": [
       "Extra Ele Veto:  1587\n"
      ]
     },
     "metadata": {},
     "output_type": "display_data"
    },
    {
     "data": {
      "text/html": [
       "<pre style=\"white-space:pre;overflow-x:auto;line-height:normal;font-family:Menlo,'DejaVu Sans Mono',consolas,'Courier New',monospace\">Extra Mu Veto:  50\n",
       "</pre>\n"
      ],
      "text/plain": [
       "Extra Mu Veto:  50\n"
      ]
     },
     "metadata": {},
     "output_type": "display_data"
    },
    {
     "data": {
      "text/html": [
       "<pre style=\"white-space:pre;overflow-x:auto;line-height:normal;font-family:Menlo,'DejaVu Sans Mono',consolas,'Courier New',monospace\">BJet Veto:  42\n",
       "</pre>\n"
      ],
      "text/plain": [
       "BJet Veto:  42\n"
      ]
     },
     "metadata": {},
     "output_type": "display_data"
    },
    {
     "data": {
      "text/html": [
       "<pre style=\"white-space:pre;overflow-x:auto;line-height:normal;font-family:Menlo,'DejaVu Sans Mono',consolas,'Courier New',monospace\">Pairs:  75  Vector:  75\n",
       "</pre>\n"
      ],
      "text/plain": [
       "Pairs:  75  Vector:  75\n"
      ]
     },
     "metadata": {},
     "output_type": "display_data"
    },
    {
     "data": {
      "text/html": [
       "<pre style=\"white-space:pre;overflow-x:auto;line-height:normal;font-family:Menlo,'DejaVu Sans Mono',consolas,'Courier New',monospace\">[[True], [], [], [True, True, False, False], ... [True, False, True], [], [], [], []]\n",
       "</pre>\n"
      ],
      "text/plain": [
       "[[True], [], [], [True, True, False, False], ... [True, False, True], [], [], [], []]\n"
      ]
     },
     "metadata": {},
     "output_type": "display_data"
    },
    {
     "data": {
      "text/html": [
       "<pre style=\"white-space:pre;overflow-x:auto;line-height:normal;font-family:Menlo,'DejaVu Sans Mono',consolas,'Courier New',monospace\">Postcut: Pairs:  1  Vector:  1\n",
       "</pre>\n"
      ],
      "text/plain": [
       "Postcut: Pairs:  1  Vector:  1\n"
      ]
     },
     "metadata": {},
     "output_type": "display_data"
    },
    {
     "data": {
      "text/html": [
       "<pre style=\"white-space:pre;overflow-x:auto;line-height:normal;font-family:Menlo,'DejaVu Sans Mono',consolas,'Courier New',monospace\">[[], [], [], [], [], [], [], [], [], [], ... [], [], [], [], [], [], [], [], [], []]\n",
       "</pre>\n"
      ],
      "text/plain": [
       "[[], [], [], [], [], [], [], [], [], [], ... [], [], [], [], [], [], [], [], [], []]\n"
      ]
     },
     "metadata": {},
     "output_type": "display_data"
    },
    {
     "data": {
      "text/html": [
       "<pre style=\"white-space:pre;overflow-x:auto;line-height:normal;font-family:Menlo,'DejaVu Sans Mono',consolas,'Courier New',monospace\">[[], [], [], [], [], [], [], [], [], [], ... [], [], [], [], [], [], [], [], [], []]\n",
       "</pre>\n"
      ],
      "text/plain": [
       "[[], [], [], [], [], [], [], [], [], [], ... [], [], [], [], [], [], [], [], [], []]\n"
      ]
     },
     "metadata": {},
     "output_type": "display_data"
    },
    {
     "data": {
      "text/html": [
       "<pre style=\"white-space:pre;overflow-x:auto;line-height:normal;font-family:Menlo,'DejaVu Sans Mono',consolas,'Courier New',monospace\">Start:  1590   WJets\n",
       "</pre>\n"
      ],
      "text/plain": [
       "Start:  1590   WJets\n"
      ]
     },
     "metadata": {},
     "output_type": "display_data"
    },
    {
     "data": {
      "text/html": [
       "<pre style=\"white-space:pre;overflow-x:auto;line-height:normal;font-family:Menlo,'DejaVu Sans Mono',consolas,'Courier New',monospace\">Extra Ele Veto:  1481\n",
       "</pre>\n"
      ],
      "text/plain": [
       "Extra Ele Veto:  1481\n"
      ]
     },
     "metadata": {},
     "output_type": "display_data"
    },
    {
     "data": {
      "text/html": [
       "<pre style=\"white-space:pre;overflow-x:auto;line-height:normal;font-family:Menlo,'DejaVu Sans Mono',consolas,'Courier New',monospace\">Extra Mu Veto:  29\n",
       "</pre>\n"
      ],
      "text/plain": [
       "Extra Mu Veto:  29\n"
      ]
     },
     "metadata": {},
     "output_type": "display_data"
    },
    {
     "data": {
      "text/html": [
       "<pre style=\"white-space:pre;overflow-x:auto;line-height:normal;font-family:Menlo,'DejaVu Sans Mono',consolas,'Courier New',monospace\">BJet Veto:  25\n",
       "</pre>\n"
      ],
      "text/plain": [
       "BJet Veto:  25\n"
      ]
     },
     "metadata": {},
     "output_type": "display_data"
    },
    {
     "data": {
      "text/html": [
       "<pre style=\"white-space:pre;overflow-x:auto;line-height:normal;font-family:Menlo,'DejaVu Sans Mono',consolas,'Courier New',monospace\">Pairs:  46  Vector:  46\n",
       "</pre>\n"
      ],
      "text/plain": [
       "Pairs:  46  Vector:  46\n"
      ]
     },
     "metadata": {},
     "output_type": "display_data"
    },
    {
     "data": {
      "text/html": [
       "<pre style=\"white-space:pre;overflow-x:auto;line-height:normal;font-family:Menlo,'DejaVu Sans Mono',consolas,'Courier New',monospace\">[[True, True, True], [True, True], [False], ... [], [False, False], [], [], []]\n",
       "</pre>\n"
      ],
      "text/plain": [
       "[[True, True, True], [True, True], [False], ... [], [False, False], [], [], []]\n"
      ]
     },
     "metadata": {},
     "output_type": "display_data"
    },
    {
     "data": {
      "text/html": [
       "<pre style=\"white-space:pre;overflow-x:auto;line-height:normal;font-family:Menlo,'DejaVu Sans Mono',consolas,'Courier New',monospace\">0\n",
       "</pre>\n"
      ],
      "text/plain": [
       "0\n"
      ]
     },
     "metadata": {},
     "output_type": "display_data"
    },
    {
     "data": {
      "text/html": [
       "<pre style=\"white-space:pre;overflow-x:auto;line-height:normal;font-family:Menlo,'DejaVu Sans Mono',consolas,'Courier New',monospace\">Start:  1646   WJets\n",
       "</pre>\n"
      ],
      "text/plain": [
       "Start:  1646   WJets\n"
      ]
     },
     "metadata": {},
     "output_type": "display_data"
    },
    {
     "data": {
      "text/html": [
       "<pre style=\"white-space:pre;overflow-x:auto;line-height:normal;font-family:Menlo,'DejaVu Sans Mono',consolas,'Courier New',monospace\">Extra Ele Veto:  1527\n",
       "</pre>\n"
      ],
      "text/plain": [
       "Extra Ele Veto:  1527\n"
      ]
     },
     "metadata": {},
     "output_type": "display_data"
    },
    {
     "data": {
      "text/html": [
       "<pre style=\"white-space:pre;overflow-x:auto;line-height:normal;font-family:Menlo,'DejaVu Sans Mono',consolas,'Courier New',monospace\">Extra Mu Veto:  59\n",
       "</pre>\n"
      ],
      "text/plain": [
       "Extra Mu Veto:  59\n"
      ]
     },
     "metadata": {},
     "output_type": "display_data"
    },
    {
     "data": {
      "text/html": [
       "<pre style=\"white-space:pre;overflow-x:auto;line-height:normal;font-family:Menlo,'DejaVu Sans Mono',consolas,'Courier New',monospace\">BJet Veto:  50\n",
       "</pre>\n"
      ],
      "text/plain": [
       "BJet Veto:  50\n"
      ]
     },
     "metadata": {},
     "output_type": "display_data"
    },
    {
     "data": {
      "text/html": [
       "<pre style=\"white-space:pre;overflow-x:auto;line-height:normal;font-family:Menlo,'DejaVu Sans Mono',consolas,'Courier New',monospace\">Pairs:  87  Vector:  87\n",
       "</pre>\n"
      ],
      "text/plain": [
       "Pairs:  87  Vector:  87\n"
      ]
     },
     "metadata": {},
     "output_type": "display_data"
    },
    {
     "data": {
      "text/html": [
       "<pre style=\"white-space:pre;overflow-x:auto;line-height:normal;font-family:Menlo,'DejaVu Sans Mono',consolas,'Courier New',monospace\">[[], [True, True], [False, True], [True, ... [], [False, False, True, True], []]\n",
       "</pre>\n"
      ],
      "text/plain": [
       "[[], [True, True], [False, True], [True, ... [], [False, False, True, True], []]\n"
      ]
     },
     "metadata": {},
     "output_type": "display_data"
    },
    {
     "data": {
      "text/html": [
       "<pre style=\"white-space:pre;overflow-x:auto;line-height:normal;font-family:Menlo,'DejaVu Sans Mono',consolas,'Courier New',monospace\">0\n",
       "</pre>\n"
      ],
      "text/plain": [
       "0\n"
      ]
     },
     "metadata": {},
     "output_type": "display_data"
    },
    {
     "data": {
      "text/html": [
       "<pre style=\"white-space:pre;overflow-x:auto;line-height:normal;font-family:Menlo,'DejaVu Sans Mono',consolas,'Courier New',monospace\">Start:  1792   WJets\n",
       "</pre>\n"
      ],
      "text/plain": [
       "Start:  1792   WJets\n"
      ]
     },
     "metadata": {},
     "output_type": "display_data"
    },
    {
     "data": {
      "text/html": [
       "<pre style=\"white-space:pre;overflow-x:auto;line-height:normal;font-family:Menlo,'DejaVu Sans Mono',consolas,'Courier New',monospace\">Extra Ele Veto:  1676\n",
       "</pre>\n"
      ],
      "text/plain": [
       "Extra Ele Veto:  1676\n"
      ]
     },
     "metadata": {},
     "output_type": "display_data"
    },
    {
     "data": {
      "text/html": [
       "<pre style=\"white-space:pre;overflow-x:auto;line-height:normal;font-family:Menlo,'DejaVu Sans Mono',consolas,'Courier New',monospace\">Extra Mu Veto:  44\n",
       "</pre>\n"
      ],
      "text/plain": [
       "Extra Mu Veto:  44\n"
      ]
     },
     "metadata": {},
     "output_type": "display_data"
    },
    {
     "data": {
      "text/html": [
       "<pre style=\"white-space:pre;overflow-x:auto;line-height:normal;font-family:Menlo,'DejaVu Sans Mono',consolas,'Courier New',monospace\">BJet Veto:  36\n",
       "</pre>\n"
      ],
      "text/plain": [
       "BJet Veto:  36\n"
      ]
     },
     "metadata": {},
     "output_type": "display_data"
    },
    {
     "data": {
      "text/html": [
       "<pre style=\"white-space:pre;overflow-x:auto;line-height:normal;font-family:Menlo,'DejaVu Sans Mono',consolas,'Courier New',monospace\">Pairs:  54  Vector:  54\n",
       "</pre>\n"
      ],
      "text/plain": [
       "Pairs:  54  Vector:  54\n"
      ]
     },
     "metadata": {},
     "output_type": "display_data"
    },
    {
     "data": {
      "text/html": [
       "<pre style=\"white-space:pre;overflow-x:auto;line-height:normal;font-family:Menlo,'DejaVu Sans Mono',consolas,'Courier New',monospace\">[[False], [], [], [], [], [False], [True, ... [], [], [], [False], [True], [], []]\n",
       "</pre>\n"
      ],
      "text/plain": [
       "[[False], [], [], [], [], [False], [True, ... [], [], [], [False], [True], [], []]\n"
      ]
     },
     "metadata": {},
     "output_type": "display_data"
    },
    {
     "data": {
      "text/html": [
       "<pre style=\"white-space:pre;overflow-x:auto;line-height:normal;font-family:Menlo,'DejaVu Sans Mono',consolas,'Courier New',monospace\">0\n",
       "</pre>\n"
      ],
      "text/plain": [
       "0\n"
      ]
     },
     "metadata": {},
     "output_type": "display_data"
    },
    {
     "data": {
      "text/html": [
       "<pre style=\"white-space:pre;overflow-x:auto;line-height:normal;font-family:Menlo,'DejaVu Sans Mono',consolas,'Courier New',monospace\">Start:  1872   WJets\n",
       "</pre>\n"
      ],
      "text/plain": [
       "Start:  1872   WJets\n"
      ]
     },
     "metadata": {},
     "output_type": "display_data"
    },
    {
     "data": {
      "text/html": [
       "<pre style=\"white-space:pre;overflow-x:auto;line-height:normal;font-family:Menlo,'DejaVu Sans Mono',consolas,'Courier New',monospace\">Extra Ele Veto:  1751\n",
       "</pre>\n"
      ],
      "text/plain": [
       "Extra Ele Veto:  1751\n"
      ]
     },
     "metadata": {},
     "output_type": "display_data"
    },
    {
     "data": {
      "text/html": [
       "<pre style=\"white-space:pre;overflow-x:auto;line-height:normal;font-family:Menlo,'DejaVu Sans Mono',consolas,'Courier New',monospace\">Extra Mu Veto:  52\n",
       "</pre>\n"
      ],
      "text/plain": [
       "Extra Mu Veto:  52\n"
      ]
     },
     "metadata": {},
     "output_type": "display_data"
    },
    {
     "data": {
      "text/html": [
       "<pre style=\"white-space:pre;overflow-x:auto;line-height:normal;font-family:Menlo,'DejaVu Sans Mono',consolas,'Courier New',monospace\">BJet Veto:  40\n",
       "</pre>\n"
      ],
      "text/plain": [
       "BJet Veto:  40\n"
      ]
     },
     "metadata": {},
     "output_type": "display_data"
    },
    {
     "data": {
      "text/html": [
       "<pre style=\"white-space:pre;overflow-x:auto;line-height:normal;font-family:Menlo,'DejaVu Sans Mono',consolas,'Courier New',monospace\">Pairs:  69  Vector:  69\n",
       "</pre>\n"
      ],
      "text/plain": [
       "Pairs:  69  Vector:  69\n"
      ]
     },
     "metadata": {},
     "output_type": "display_data"
    },
    {
     "data": {
      "text/html": [
       "<pre style=\"white-space:pre;overflow-x:auto;line-height:normal;font-family:Menlo,'DejaVu Sans Mono',consolas,'Courier New',monospace\">[[False, False], [], [], [], [False, ... [True, True], [True], [False, True, True]]\n",
       "</pre>\n"
      ],
      "text/plain": [
       "[[False, False], [], [], [], [False, ... [True, True], [True], [False, True, True]]\n"
      ]
     },
     "metadata": {},
     "output_type": "display_data"
    },
    {
     "data": {
      "text/html": [
       "<pre style=\"white-space:pre;overflow-x:auto;line-height:normal;font-family:Menlo,'DejaVu Sans Mono',consolas,'Courier New',monospace\">0\n",
       "</pre>\n"
      ],
      "text/plain": [
       "0\n"
      ]
     },
     "metadata": {},
     "output_type": "display_data"
    },
    {
     "data": {
      "text/html": [
       "<pre style=\"white-space:pre;overflow-x:auto;line-height:normal;font-family:Menlo,'DejaVu Sans Mono',consolas,'Courier New',monospace\">Start:  1826   WJets\n",
       "</pre>\n"
      ],
      "text/plain": [
       "Start:  1826   WJets\n"
      ]
     },
     "metadata": {},
     "output_type": "display_data"
    },
    {
     "data": {
      "text/html": [
       "<pre style=\"white-space:pre;overflow-x:auto;line-height:normal;font-family:Menlo,'DejaVu Sans Mono',consolas,'Courier New',monospace\">Extra Ele Veto:  1699\n",
       "</pre>\n"
      ],
      "text/plain": [
       "Extra Ele Veto:  1699\n"
      ]
     },
     "metadata": {},
     "output_type": "display_data"
    },
    {
     "data": {
      "text/html": [
       "<pre style=\"white-space:pre;overflow-x:auto;line-height:normal;font-family:Menlo,'DejaVu Sans Mono',consolas,'Courier New',monospace\">Extra Mu Veto:  38\n",
       "</pre>\n"
      ],
      "text/plain": [
       "Extra Mu Veto:  38\n"
      ]
     },
     "metadata": {},
     "output_type": "display_data"
    },
    {
     "data": {
      "text/html": [
       "<pre style=\"white-space:pre;overflow-x:auto;line-height:normal;font-family:Menlo,'DejaVu Sans Mono',consolas,'Courier New',monospace\">BJet Veto:  32\n",
       "</pre>\n"
      ],
      "text/plain": [
       "BJet Veto:  32\n"
      ]
     },
     "metadata": {},
     "output_type": "display_data"
    },
    {
     "data": {
      "text/html": [
       "<pre style=\"white-space:pre;overflow-x:auto;line-height:normal;font-family:Menlo,'DejaVu Sans Mono',consolas,'Courier New',monospace\">Pairs:  54  Vector:  54\n",
       "</pre>\n"
      ],
      "text/plain": [
       "Pairs:  54  Vector:  54\n"
      ]
     },
     "metadata": {},
     "output_type": "display_data"
    },
    {
     "data": {
      "text/html": [
       "<pre style=\"white-space:pre;overflow-x:auto;line-height:normal;font-family:Menlo,'DejaVu Sans Mono',consolas,'Courier New',monospace\">[[True, True], [], [False], [], [], [], ... [], [], [], [], [], [True], []]\n",
       "</pre>\n"
      ],
      "text/plain": [
       "[[True, True], [], [False], [], [], [], ... [], [], [], [], [], [True], []]\n"
      ]
     },
     "metadata": {},
     "output_type": "display_data"
    },
    {
     "data": {
      "text/html": [
       "<pre style=\"white-space:pre;overflow-x:auto;line-height:normal;font-family:Menlo,'DejaVu Sans Mono',consolas,'Courier New',monospace\">0\n",
       "</pre>\n"
      ],
      "text/plain": [
       "0\n"
      ]
     },
     "metadata": {},
     "output_type": "display_data"
    },
    {
     "data": {
      "text/html": [
       "<pre style=\"white-space:pre;overflow-x:auto;line-height:normal;font-family:Menlo,'DejaVu Sans Mono',consolas,'Courier New',monospace\">Start:  1831   WJets\n",
       "</pre>\n"
      ],
      "text/plain": [
       "Start:  1831   WJets\n"
      ]
     },
     "metadata": {},
     "output_type": "display_data"
    },
    {
     "data": {
      "text/html": [
       "<pre style=\"white-space:pre;overflow-x:auto;line-height:normal;font-family:Menlo,'DejaVu Sans Mono',consolas,'Courier New',monospace\">Extra Ele Veto:  1698\n",
       "</pre>\n"
      ],
      "text/plain": [
       "Extra Ele Veto:  1698\n"
      ]
     },
     "metadata": {},
     "output_type": "display_data"
    },
    {
     "data": {
      "text/html": [
       "<pre style=\"white-space:pre;overflow-x:auto;line-height:normal;font-family:Menlo,'DejaVu Sans Mono',consolas,'Courier New',monospace\">Extra Mu Veto:  52\n",
       "</pre>\n"
      ],
      "text/plain": [
       "Extra Mu Veto:  52\n"
      ]
     },
     "metadata": {},
     "output_type": "display_data"
    },
    {
     "data": {
      "text/html": [
       "<pre style=\"white-space:pre;overflow-x:auto;line-height:normal;font-family:Menlo,'DejaVu Sans Mono',consolas,'Courier New',monospace\">BJet Veto:  42\n",
       "</pre>\n"
      ],
      "text/plain": [
       "BJet Veto:  42\n"
      ]
     },
     "metadata": {},
     "output_type": "display_data"
    },
    {
     "data": {
      "text/html": [
       "<pre style=\"white-space:pre;overflow-x:auto;line-height:normal;font-family:Menlo,'DejaVu Sans Mono',consolas,'Courier New',monospace\">Pairs:  65  Vector:  65\n",
       "</pre>\n"
      ],
      "text/plain": [
       "Pairs:  65  Vector:  65\n"
      ]
     },
     "metadata": {},
     "output_type": "display_data"
    },
    {
     "data": {
      "text/html": [
       "<pre style=\"white-space:pre;overflow-x:auto;line-height:normal;font-family:Menlo,'DejaVu Sans Mono',consolas,'Courier New',monospace\">[[], [], [False, True, True], [False], ... [True, True, True, True], [True, True]]\n",
       "</pre>\n"
      ],
      "text/plain": [
       "[[], [], [False, True, True], [False], ... [True, True, True, True], [True, True]]\n"
      ]
     },
     "metadata": {},
     "output_type": "display_data"
    },
    {
     "data": {
      "text/html": [
       "<pre style=\"white-space:pre;overflow-x:auto;line-height:normal;font-family:Menlo,'DejaVu Sans Mono',consolas,'Courier New',monospace\">0\n",
       "</pre>\n"
      ],
      "text/plain": [
       "0\n"
      ]
     },
     "metadata": {},
     "output_type": "display_data"
    },
    {
     "data": {
      "text/html": [
       "<pre style=\"white-space:pre;overflow-x:auto;line-height:normal;font-family:Menlo,'DejaVu Sans Mono',consolas,'Courier New',monospace\">Start:  1815   WJets\n",
       "</pre>\n"
      ],
      "text/plain": [
       "Start:  1815   WJets\n"
      ]
     },
     "metadata": {},
     "output_type": "display_data"
    },
    {
     "data": {
      "text/html": [
       "<pre style=\"white-space:pre;overflow-x:auto;line-height:normal;font-family:Menlo,'DejaVu Sans Mono',consolas,'Courier New',monospace\">Extra Ele Veto:  1696\n",
       "</pre>\n"
      ],
      "text/plain": [
       "Extra Ele Veto:  1696\n"
      ]
     },
     "metadata": {},
     "output_type": "display_data"
    },
    {
     "data": {
      "text/html": [
       "<pre style=\"white-space:pre;overflow-x:auto;line-height:normal;font-family:Menlo,'DejaVu Sans Mono',consolas,'Courier New',monospace\">Extra Mu Veto:  63\n",
       "</pre>\n"
      ],
      "text/plain": [
       "Extra Mu Veto:  63\n"
      ]
     },
     "metadata": {},
     "output_type": "display_data"
    },
    {
     "data": {
      "text/html": [
       "<pre style=\"white-space:pre;overflow-x:auto;line-height:normal;font-family:Menlo,'DejaVu Sans Mono',consolas,'Courier New',monospace\">BJet Veto:  46\n",
       "</pre>\n"
      ],
      "text/plain": [
       "BJet Veto:  46\n"
      ]
     },
     "metadata": {},
     "output_type": "display_data"
    },
    {
     "data": {
      "text/html": [
       "<pre style=\"white-space:pre;overflow-x:auto;line-height:normal;font-family:Menlo,'DejaVu Sans Mono',consolas,'Courier New',monospace\">Pairs:  92  Vector:  92\n",
       "</pre>\n"
      ],
      "text/plain": [
       "Pairs:  92  Vector:  92\n"
      ]
     },
     "metadata": {},
     "output_type": "display_data"
    },
    {
     "data": {
      "text/html": [
       "<pre style=\"white-space:pre;overflow-x:auto;line-height:normal;font-family:Menlo,'DejaVu Sans Mono',consolas,'Courier New',monospace\">[[True, True, True], [True], [True, True, False, ... [], [], [], [True, True, True]]\n",
       "</pre>\n"
      ],
      "text/plain": [
       "[[True, True, True], [True], [True, True, False, ... [], [], [], [True, True, True]]\n"
      ]
     },
     "metadata": {},
     "output_type": "display_data"
    },
    {
     "data": {
      "text/html": [
       "<pre style=\"white-space:pre;overflow-x:auto;line-height:normal;font-family:Menlo,'DejaVu Sans Mono',consolas,'Courier New',monospace\">Postcut: Pairs:  1  Vector:  1\n",
       "</pre>\n"
      ],
      "text/plain": [
       "Postcut: Pairs:  1  Vector:  1\n"
      ]
     },
     "metadata": {},
     "output_type": "display_data"
    },
    {
     "data": {
      "text/html": [
       "<pre style=\"white-space:pre;overflow-x:auto;line-height:normal;font-family:Menlo,'DejaVu Sans Mono',consolas,'Courier New',monospace\">[[], [], [], [], [True], [], [], [], [], ... [], [], [], [], [], [], [], [], []]\n",
       "</pre>\n"
      ],
      "text/plain": [
       "[[], [], [], [], [True], [], [], [], [], ... [], [], [], [], [], [], [], [], []]\n"
      ]
     },
     "metadata": {},
     "output_type": "display_data"
    },
    {
     "data": {
      "text/html": [
       "<pre style=\"white-space:pre;overflow-x:auto;line-height:normal;font-family:Menlo,'DejaVu Sans Mono',consolas,'Courier New',monospace\">[[], [], [], [], [{tau: {pt: 80.6, eta: 1.48, ... [], [], [], [], [], []]\n",
       "</pre>\n"
      ],
      "text/plain": [
       "[[], [], [], [], [{tau: {pt: 80.6, eta: 1.48, ... [], [], [], [], [], []]\n"
      ]
     },
     "metadata": {},
     "output_type": "display_data"
    },
    {
     "data": {
      "text/html": [
       "<pre style=\"white-space:pre;overflow-x:auto;line-height:normal;font-family:Menlo,'DejaVu Sans Mono',consolas,'Courier New',monospace\">Start:  1843   WJets\n",
       "</pre>\n"
      ],
      "text/plain": [
       "Start:  1843   WJets\n"
      ]
     },
     "metadata": {},
     "output_type": "display_data"
    },
    {
     "data": {
      "text/html": [
       "<pre style=\"white-space:pre;overflow-x:auto;line-height:normal;font-family:Menlo,'DejaVu Sans Mono',consolas,'Courier New',monospace\">Extra Ele Veto:  1707\n",
       "</pre>\n"
      ],
      "text/plain": [
       "Extra Ele Veto:  1707\n"
      ]
     },
     "metadata": {},
     "output_type": "display_data"
    },
    {
     "data": {
      "text/html": [
       "<pre style=\"white-space:pre;overflow-x:auto;line-height:normal;font-family:Menlo,'DejaVu Sans Mono',consolas,'Courier New',monospace\">Extra Mu Veto:  48\n",
       "</pre>\n"
      ],
      "text/plain": [
       "Extra Mu Veto:  48\n"
      ]
     },
     "metadata": {},
     "output_type": "display_data"
    },
    {
     "data": {
      "text/html": [
       "<pre style=\"white-space:pre;overflow-x:auto;line-height:normal;font-family:Menlo,'DejaVu Sans Mono',consolas,'Courier New',monospace\">BJet Veto:  43\n",
       "</pre>\n"
      ],
      "text/plain": [
       "BJet Veto:  43\n"
      ]
     },
     "metadata": {},
     "output_type": "display_data"
    },
    {
     "data": {
      "text/html": [
       "<pre style=\"white-space:pre;overflow-x:auto;line-height:normal;font-family:Menlo,'DejaVu Sans Mono',consolas,'Courier New',monospace\">Pairs:  69  Vector:  69\n",
       "</pre>\n"
      ],
      "text/plain": [
       "Pairs:  69  Vector:  69\n"
      ]
     },
     "metadata": {},
     "output_type": "display_data"
    },
    {
     "data": {
      "text/html": [
       "<pre style=\"white-space:pre;overflow-x:auto;line-height:normal;font-family:Menlo,'DejaVu Sans Mono',consolas,'Courier New',monospace\">[[], [], [], [True, True], [True, ... [True, False, False], [], [True, True]]\n",
       "</pre>\n"
      ],
      "text/plain": [
       "[[], [], [], [True, True], [True, ... [True, False, False], [], [True, True]]\n"
      ]
     },
     "metadata": {},
     "output_type": "display_data"
    },
    {
     "data": {
      "text/html": [
       "<pre style=\"white-space:pre;overflow-x:auto;line-height:normal;font-family:Menlo,'DejaVu Sans Mono',consolas,'Courier New',monospace\">Postcut: Pairs:  1  Vector:  1\n",
       "</pre>\n"
      ],
      "text/plain": [
       "Postcut: Pairs:  1  Vector:  1\n"
      ]
     },
     "metadata": {},
     "output_type": "display_data"
    },
    {
     "data": {
      "text/html": [
       "<pre style=\"white-space:pre;overflow-x:auto;line-height:normal;font-family:Menlo,'DejaVu Sans Mono',consolas,'Courier New',monospace\">[[], [], [], [], [], [], [], [], [], [], ... [], [], [], [], [], [], [], [], [], []]\n",
       "</pre>\n"
      ],
      "text/plain": [
       "[[], [], [], [], [], [], [], [], [], [], ... [], [], [], [], [], [], [], [], [], []]\n"
      ]
     },
     "metadata": {},
     "output_type": "display_data"
    },
    {
     "data": {
      "text/html": [
       "<pre style=\"white-space:pre;overflow-x:auto;line-height:normal;font-family:Menlo,'DejaVu Sans Mono',consolas,'Courier New',monospace\">[[], [], [], [], [], [], [], [], [], [], ... [], [], [], [], [], [], [], [], [], []]\n",
       "</pre>\n"
      ],
      "text/plain": [
       "[[], [], [], [], [], [], [], [], [], [], ... [], [], [], [], [], [], [], [], [], []]\n"
      ]
     },
     "metadata": {},
     "output_type": "display_data"
    },
    {
     "data": {
      "text/html": [
       "<pre style=\"white-space:pre;overflow-x:auto;line-height:normal;font-family:Menlo,'DejaVu Sans Mono',consolas,'Courier New',monospace\">Start:  1803   WJets\n",
       "</pre>\n"
      ],
      "text/plain": [
       "Start:  1803   WJets\n"
      ]
     },
     "metadata": {},
     "output_type": "display_data"
    },
    {
     "data": {
      "text/html": [
       "<pre style=\"white-space:pre;overflow-x:auto;line-height:normal;font-family:Menlo,'DejaVu Sans Mono',consolas,'Courier New',monospace\">Extra Ele Veto:  1686\n",
       "</pre>\n"
      ],
      "text/plain": [
       "Extra Ele Veto:  1686\n"
      ]
     },
     "metadata": {},
     "output_type": "display_data"
    },
    {
     "data": {
      "text/html": [
       "<pre style=\"white-space:pre;overflow-x:auto;line-height:normal;font-family:Menlo,'DejaVu Sans Mono',consolas,'Courier New',monospace\">Extra Mu Veto:  49\n",
       "</pre>\n"
      ],
      "text/plain": [
       "Extra Mu Veto:  49\n"
      ]
     },
     "metadata": {},
     "output_type": "display_data"
    },
    {
     "data": {
      "text/html": [
       "<pre style=\"white-space:pre;overflow-x:auto;line-height:normal;font-family:Menlo,'DejaVu Sans Mono',consolas,'Courier New',monospace\">BJet Veto:  36\n",
       "</pre>\n"
      ],
      "text/plain": [
       "BJet Veto:  36\n"
      ]
     },
     "metadata": {},
     "output_type": "display_data"
    },
    {
     "data": {
      "text/html": [
       "<pre style=\"white-space:pre;overflow-x:auto;line-height:normal;font-family:Menlo,'DejaVu Sans Mono',consolas,'Courier New',monospace\">Pairs:  62  Vector:  62\n",
       "</pre>\n"
      ],
      "text/plain": [
       "Pairs:  62  Vector:  62\n"
      ]
     },
     "metadata": {},
     "output_type": "display_data"
    },
    {
     "data": {
      "text/html": [
       "<pre style=\"white-space:pre;overflow-x:auto;line-height:normal;font-family:Menlo,'DejaVu Sans Mono',consolas,'Courier New',monospace\">[[True, False], [], [True, True, False], ... False, True], [], [], [True, True]]\n",
       "</pre>\n"
      ],
      "text/plain": [
       "[[True, False], [], [True, True, False], ... False, True], [], [], [True, True]]\n"
      ]
     },
     "metadata": {},
     "output_type": "display_data"
    },
    {
     "data": {
      "text/html": [
       "<pre style=\"white-space:pre;overflow-x:auto;line-height:normal;font-family:Menlo,'DejaVu Sans Mono',consolas,'Courier New',monospace\">0\n",
       "</pre>\n"
      ],
      "text/plain": [
       "0\n"
      ]
     },
     "metadata": {},
     "output_type": "display_data"
    },
    {
     "data": {
      "text/html": [
       "<pre style=\"white-space:pre;overflow-x:auto;line-height:normal;font-family:Menlo,'DejaVu Sans Mono',consolas,'Courier New',monospace\">Start:  1801   WJets\n",
       "</pre>\n"
      ],
      "text/plain": [
       "Start:  1801   WJets\n"
      ]
     },
     "metadata": {},
     "output_type": "display_data"
    },
    {
     "data": {
      "text/html": [
       "<pre style=\"white-space:pre;overflow-x:auto;line-height:normal;font-family:Menlo,'DejaVu Sans Mono',consolas,'Courier New',monospace\">Extra Ele Veto:  1678\n",
       "</pre>\n"
      ],
      "text/plain": [
       "Extra Ele Veto:  1678\n"
      ]
     },
     "metadata": {},
     "output_type": "display_data"
    },
    {
     "data": {
      "text/html": [
       "<pre style=\"white-space:pre;overflow-x:auto;line-height:normal;font-family:Menlo,'DejaVu Sans Mono',consolas,'Courier New',monospace\">Extra Mu Veto:  47\n",
       "</pre>\n"
      ],
      "text/plain": [
       "Extra Mu Veto:  47\n"
      ]
     },
     "metadata": {},
     "output_type": "display_data"
    },
    {
     "data": {
      "text/html": [
       "<pre style=\"white-space:pre;overflow-x:auto;line-height:normal;font-family:Menlo,'DejaVu Sans Mono',consolas,'Courier New',monospace\">BJet Veto:  40\n",
       "</pre>\n"
      ],
      "text/plain": [
       "BJet Veto:  40\n"
      ]
     },
     "metadata": {},
     "output_type": "display_data"
    },
    {
     "data": {
      "text/html": [
       "<pre style=\"white-space:pre;overflow-x:auto;line-height:normal;font-family:Menlo,'DejaVu Sans Mono',consolas,'Courier New',monospace\">Pairs:  71  Vector:  71\n",
       "</pre>\n"
      ],
      "text/plain": [
       "Pairs:  71  Vector:  71\n"
      ]
     },
     "metadata": {},
     "output_type": "display_data"
    },
    {
     "data": {
      "text/html": [
       "<pre style=\"white-space:pre;overflow-x:auto;line-height:normal;font-family:Menlo,'DejaVu Sans Mono',consolas,'Courier New',monospace\">[[True], [], [True, True], [True], [], ... [], [], [False], [True], [True]]\n",
       "</pre>\n"
      ],
      "text/plain": [
       "[[True], [], [True, True], [True], [], ... [], [], [False], [True], [True]]\n"
      ]
     },
     "metadata": {},
     "output_type": "display_data"
    },
    {
     "data": {
      "text/html": [
       "<pre style=\"white-space:pre;overflow-x:auto;line-height:normal;font-family:Menlo,'DejaVu Sans Mono',consolas,'Courier New',monospace\">0\n",
       "</pre>\n"
      ],
      "text/plain": [
       "0\n"
      ]
     },
     "metadata": {},
     "output_type": "display_data"
    },
    {
     "data": {
      "text/html": [
       "<pre style=\"white-space:pre;overflow-x:auto;line-height:normal;font-family:Menlo,'DejaVu Sans Mono',consolas,'Courier New',monospace\">Start:  1847   WJets\n",
       "</pre>\n"
      ],
      "text/plain": [
       "Start:  1847   WJets\n"
      ]
     },
     "metadata": {},
     "output_type": "display_data"
    },
    {
     "data": {
      "text/html": [
       "<pre style=\"white-space:pre;overflow-x:auto;line-height:normal;font-family:Menlo,'DejaVu Sans Mono',consolas,'Courier New',monospace\">Extra Ele Veto:  1707\n",
       "</pre>\n"
      ],
      "text/plain": [
       "Extra Ele Veto:  1707\n"
      ]
     },
     "metadata": {},
     "output_type": "display_data"
    },
    {
     "data": {
      "text/html": [
       "<pre style=\"white-space:pre;overflow-x:auto;line-height:normal;font-family:Menlo,'DejaVu Sans Mono',consolas,'Courier New',monospace\">Extra Mu Veto:  39\n",
       "</pre>\n"
      ],
      "text/plain": [
       "Extra Mu Veto:  39\n"
      ]
     },
     "metadata": {},
     "output_type": "display_data"
    },
    {
     "data": {
      "text/html": [
       "<pre style=\"white-space:pre;overflow-x:auto;line-height:normal;font-family:Menlo,'DejaVu Sans Mono',consolas,'Courier New',monospace\">BJet Veto:  31\n",
       "</pre>\n"
      ],
      "text/plain": [
       "BJet Veto:  31\n"
      ]
     },
     "metadata": {},
     "output_type": "display_data"
    },
    {
     "data": {
      "text/html": [
       "<pre style=\"white-space:pre;overflow-x:auto;line-height:normal;font-family:Menlo,'DejaVu Sans Mono',consolas,'Courier New',monospace\">Pairs:  57  Vector:  57\n",
       "</pre>\n"
      ],
      "text/plain": [
       "Pairs:  57  Vector:  57\n"
      ]
     },
     "metadata": {},
     "output_type": "display_data"
    },
    {
     "data": {
      "text/html": [
       "<pre style=\"white-space:pre;overflow-x:auto;line-height:normal;font-family:Menlo,'DejaVu Sans Mono',consolas,'Courier New',monospace\">[[], [], [], [], [], [], [], [True, ... [], [True, True], [False], [], [], [True]]\n",
       "</pre>\n"
      ],
      "text/plain": [
       "[[], [], [], [], [], [], [], [True, ... [], [True, True], [False], [], [], [True]]\n"
      ]
     },
     "metadata": {},
     "output_type": "display_data"
    },
    {
     "data": {
      "text/html": [
       "<pre style=\"white-space:pre;overflow-x:auto;line-height:normal;font-family:Menlo,'DejaVu Sans Mono',consolas,'Courier New',monospace\">0\n",
       "</pre>\n"
      ],
      "text/plain": [
       "0\n"
      ]
     },
     "metadata": {},
     "output_type": "display_data"
    },
    {
     "data": {
      "text/html": [
       "<pre style=\"white-space:pre;overflow-x:auto;line-height:normal;font-family:Menlo,'DejaVu Sans Mono',consolas,'Courier New',monospace\">Start:  1663   WJets\n",
       "</pre>\n"
      ],
      "text/plain": [
       "Start:  1663   WJets\n"
      ]
     },
     "metadata": {},
     "output_type": "display_data"
    },
    {
     "data": {
      "text/html": [
       "<pre style=\"white-space:pre;overflow-x:auto;line-height:normal;font-family:Menlo,'DejaVu Sans Mono',consolas,'Courier New',monospace\">Extra Ele Veto:  1558\n",
       "</pre>\n"
      ],
      "text/plain": [
       "Extra Ele Veto:  1558\n"
      ]
     },
     "metadata": {},
     "output_type": "display_data"
    },
    {
     "data": {
      "text/html": [
       "<pre style=\"white-space:pre;overflow-x:auto;line-height:normal;font-family:Menlo,'DejaVu Sans Mono',consolas,'Courier New',monospace\">Extra Mu Veto:  47\n",
       "</pre>\n"
      ],
      "text/plain": [
       "Extra Mu Veto:  47\n"
      ]
     },
     "metadata": {},
     "output_type": "display_data"
    },
    {
     "data": {
      "text/html": [
       "<pre style=\"white-space:pre;overflow-x:auto;line-height:normal;font-family:Menlo,'DejaVu Sans Mono',consolas,'Courier New',monospace\">BJet Veto:  39\n",
       "</pre>\n"
      ],
      "text/plain": [
       "BJet Veto:  39\n"
      ]
     },
     "metadata": {},
     "output_type": "display_data"
    },
    {
     "data": {
      "text/html": [
       "<pre style=\"white-space:pre;overflow-x:auto;line-height:normal;font-family:Menlo,'DejaVu Sans Mono',consolas,'Courier New',monospace\">Pairs:  70  Vector:  70\n",
       "</pre>\n"
      ],
      "text/plain": [
       "Pairs:  70  Vector:  70\n"
      ]
     },
     "metadata": {},
     "output_type": "display_data"
    },
    {
     "data": {
      "text/html": [
       "<pre style=\"white-space:pre;overflow-x:auto;line-height:normal;font-family:Menlo,'DejaVu Sans Mono',consolas,'Courier New',monospace\">[[], [], [], [], [True, False], [True, ... [False, False], [], [], [], [False]]\n",
       "</pre>\n"
      ],
      "text/plain": [
       "[[], [], [], [], [True, False], [True, ... [False, False], [], [], [], [False]]\n"
      ]
     },
     "metadata": {},
     "output_type": "display_data"
    },
    {
     "data": {
      "text/html": [
       "<pre style=\"white-space:pre;overflow-x:auto;line-height:normal;font-family:Menlo,'DejaVu Sans Mono',consolas,'Courier New',monospace\">0\n",
       "</pre>\n"
      ],
      "text/plain": [
       "0\n"
      ]
     },
     "metadata": {},
     "output_type": "display_data"
    },
    {
     "data": {
      "text/html": [
       "<pre style=\"white-space:pre;overflow-x:auto;line-height:normal;font-family:Menlo,'DejaVu Sans Mono',consolas,'Courier New',monospace\">Start:  1780   WJets\n",
       "</pre>\n"
      ],
      "text/plain": [
       "Start:  1780   WJets\n"
      ]
     },
     "metadata": {},
     "output_type": "display_data"
    },
    {
     "data": {
      "text/html": [
       "<pre style=\"white-space:pre;overflow-x:auto;line-height:normal;font-family:Menlo,'DejaVu Sans Mono',consolas,'Courier New',monospace\">Extra Ele Veto:  1650\n",
       "</pre>\n"
      ],
      "text/plain": [
       "Extra Ele Veto:  1650\n"
      ]
     },
     "metadata": {},
     "output_type": "display_data"
    },
    {
     "data": {
      "text/html": [
       "<pre style=\"white-space:pre;overflow-x:auto;line-height:normal;font-family:Menlo,'DejaVu Sans Mono',consolas,'Courier New',monospace\">Extra Mu Veto:  46\n",
       "</pre>\n"
      ],
      "text/plain": [
       "Extra Mu Veto:  46\n"
      ]
     },
     "metadata": {},
     "output_type": "display_data"
    },
    {
     "data": {
      "text/html": [
       "<pre style=\"white-space:pre;overflow-x:auto;line-height:normal;font-family:Menlo,'DejaVu Sans Mono',consolas,'Courier New',monospace\">BJet Veto:  39\n",
       "</pre>\n"
      ],
      "text/plain": [
       "BJet Veto:  39\n"
      ]
     },
     "metadata": {},
     "output_type": "display_data"
    },
    {
     "data": {
      "text/html": [
       "<pre style=\"white-space:pre;overflow-x:auto;line-height:normal;font-family:Menlo,'DejaVu Sans Mono',consolas,'Courier New',monospace\">Pairs:  55  Vector:  55\n",
       "</pre>\n"
      ],
      "text/plain": [
       "Pairs:  55  Vector:  55\n"
      ]
     },
     "metadata": {},
     "output_type": "display_data"
    },
    {
     "data": {
      "text/html": [
       "<pre style=\"white-space:pre;overflow-x:auto;line-height:normal;font-family:Menlo,'DejaVu Sans Mono',consolas,'Courier New',monospace\">[[], [], [True, True, True], [False, False], [], ... [], [], [], [], [], [True]]\n",
       "</pre>\n"
      ],
      "text/plain": [
       "[[], [], [True, True, True], [False, False], [], ... [], [], [], [], [], [True]]\n"
      ]
     },
     "metadata": {},
     "output_type": "display_data"
    },
    {
     "data": {
      "text/html": [
       "<pre style=\"white-space:pre;overflow-x:auto;line-height:normal;font-family:Menlo,'DejaVu Sans Mono',consolas,'Courier New',monospace\">0\n",
       "</pre>\n"
      ],
      "text/plain": [
       "0\n"
      ]
     },
     "metadata": {},
     "output_type": "display_data"
    },
    {
     "data": {
      "text/html": [
       "<pre style=\"white-space:pre;overflow-x:auto;line-height:normal;font-family:Menlo,'DejaVu Sans Mono',consolas,'Courier New',monospace\">Start:  1735   WJets\n",
       "</pre>\n"
      ],
      "text/plain": [
       "Start:  1735   WJets\n"
      ]
     },
     "metadata": {},
     "output_type": "display_data"
    },
    {
     "data": {
      "text/html": [
       "<pre style=\"white-space:pre;overflow-x:auto;line-height:normal;font-family:Menlo,'DejaVu Sans Mono',consolas,'Courier New',monospace\">Extra Ele Veto:  1625\n",
       "</pre>\n"
      ],
      "text/plain": [
       "Extra Ele Veto:  1625\n"
      ]
     },
     "metadata": {},
     "output_type": "display_data"
    },
    {
     "data": {
      "text/html": [
       "<pre style=\"white-space:pre;overflow-x:auto;line-height:normal;font-family:Menlo,'DejaVu Sans Mono',consolas,'Courier New',monospace\">Extra Mu Veto:  45\n",
       "</pre>\n"
      ],
      "text/plain": [
       "Extra Mu Veto:  45\n"
      ]
     },
     "metadata": {},
     "output_type": "display_data"
    },
    {
     "data": {
      "text/html": [
       "<pre style=\"white-space:pre;overflow-x:auto;line-height:normal;font-family:Menlo,'DejaVu Sans Mono',consolas,'Courier New',monospace\">BJet Veto:  40\n",
       "</pre>\n"
      ],
      "text/plain": [
       "BJet Veto:  40\n"
      ]
     },
     "metadata": {},
     "output_type": "display_data"
    },
    {
     "data": {
      "text/html": [
       "<pre style=\"white-space:pre;overflow-x:auto;line-height:normal;font-family:Menlo,'DejaVu Sans Mono',consolas,'Courier New',monospace\">Pairs:  72  Vector:  72\n",
       "</pre>\n"
      ],
      "text/plain": [
       "Pairs:  72  Vector:  72\n"
      ]
     },
     "metadata": {},
     "output_type": "display_data"
    },
    {
     "data": {
      "text/html": [
       "<pre style=\"white-space:pre;overflow-x:auto;line-height:normal;font-family:Menlo,'DejaVu Sans Mono',consolas,'Courier New',monospace\">[[], [], [True], [], [False], [], [], [], ... [True], [True], [], [], [], [], [], []]\n",
       "</pre>\n"
      ],
      "text/plain": [
       "[[], [], [True], [], [False], [], [], [], ... [True], [True], [], [], [], [], [], []]\n"
      ]
     },
     "metadata": {},
     "output_type": "display_data"
    },
    {
     "data": {
      "text/html": [
       "<pre style=\"white-space:pre;overflow-x:auto;line-height:normal;font-family:Menlo,'DejaVu Sans Mono',consolas,'Courier New',monospace\">0\n",
       "</pre>\n"
      ],
      "text/plain": [
       "0\n"
      ]
     },
     "metadata": {},
     "output_type": "display_data"
    },
    {
     "data": {
      "text/html": [
       "<pre style=\"white-space:pre;overflow-x:auto;line-height:normal;font-family:Menlo,'DejaVu Sans Mono',consolas,'Courier New',monospace\">Start:  1770   WJets\n",
       "</pre>\n"
      ],
      "text/plain": [
       "Start:  1770   WJets\n"
      ]
     },
     "metadata": {},
     "output_type": "display_data"
    },
    {
     "data": {
      "text/html": [
       "<pre style=\"white-space:pre;overflow-x:auto;line-height:normal;font-family:Menlo,'DejaVu Sans Mono',consolas,'Courier New',monospace\">Extra Ele Veto:  1644\n",
       "</pre>\n"
      ],
      "text/plain": [
       "Extra Ele Veto:  1644\n"
      ]
     },
     "metadata": {},
     "output_type": "display_data"
    },
    {
     "data": {
      "text/html": [
       "<pre style=\"white-space:pre;overflow-x:auto;line-height:normal;font-family:Menlo,'DejaVu Sans Mono',consolas,'Courier New',monospace\">Extra Mu Veto:  56\n",
       "</pre>\n"
      ],
      "text/plain": [
       "Extra Mu Veto:  56\n"
      ]
     },
     "metadata": {},
     "output_type": "display_data"
    },
    {
     "data": {
      "text/html": [
       "<pre style=\"white-space:pre;overflow-x:auto;line-height:normal;font-family:Menlo,'DejaVu Sans Mono',consolas,'Courier New',monospace\">BJet Veto:  46\n",
       "</pre>\n"
      ],
      "text/plain": [
       "BJet Veto:  46\n"
      ]
     },
     "metadata": {},
     "output_type": "display_data"
    },
    {
     "data": {
      "text/html": [
       "<pre style=\"white-space:pre;overflow-x:auto;line-height:normal;font-family:Menlo,'DejaVu Sans Mono',consolas,'Courier New',monospace\">Pairs:  88  Vector:  88\n",
       "</pre>\n"
      ],
      "text/plain": [
       "Pairs:  88  Vector:  88\n"
      ]
     },
     "metadata": {},
     "output_type": "display_data"
    },
    {
     "data": {
      "text/html": [
       "<pre style=\"white-space:pre;overflow-x:auto;line-height:normal;font-family:Menlo,'DejaVu Sans Mono',consolas,'Courier New',monospace\">[[False, True], [], [], [], [False, ... [True, False], [True], [False, False, False]]\n",
       "</pre>\n"
      ],
      "text/plain": [
       "[[False, True], [], [], [], [False, ... [True, False], [True], [False, False, False]]\n"
      ]
     },
     "metadata": {},
     "output_type": "display_data"
    },
    {
     "data": {
      "text/html": [
       "<pre style=\"white-space:pre;overflow-x:auto;line-height:normal;font-family:Menlo,'DejaVu Sans Mono',consolas,'Courier New',monospace\">0\n",
       "</pre>\n"
      ],
      "text/plain": [
       "0\n"
      ]
     },
     "metadata": {},
     "output_type": "display_data"
    },
    {
     "data": {
      "text/html": [
       "<pre style=\"white-space:pre;overflow-x:auto;line-height:normal;font-family:Menlo,'DejaVu Sans Mono',consolas,'Courier New',monospace\">Start:  1794   WJets\n",
       "</pre>\n"
      ],
      "text/plain": [
       "Start:  1794   WJets\n"
      ]
     },
     "metadata": {},
     "output_type": "display_data"
    },
    {
     "data": {
      "text/html": [
       "<pre style=\"white-space:pre;overflow-x:auto;line-height:normal;font-family:Menlo,'DejaVu Sans Mono',consolas,'Courier New',monospace\">Extra Ele Veto:  1685\n",
       "</pre>\n"
      ],
      "text/plain": [
       "Extra Ele Veto:  1685\n"
      ]
     },
     "metadata": {},
     "output_type": "display_data"
    },
    {
     "data": {
      "text/html": [
       "<pre style=\"white-space:pre;overflow-x:auto;line-height:normal;font-family:Menlo,'DejaVu Sans Mono',consolas,'Courier New',monospace\">Extra Mu Veto:  56\n",
       "</pre>\n"
      ],
      "text/plain": [
       "Extra Mu Veto:  56\n"
      ]
     },
     "metadata": {},
     "output_type": "display_data"
    },
    {
     "data": {
      "text/html": [
       "<pre style=\"white-space:pre;overflow-x:auto;line-height:normal;font-family:Menlo,'DejaVu Sans Mono',consolas,'Courier New',monospace\">BJet Veto:  45\n",
       "</pre>\n"
      ],
      "text/plain": [
       "BJet Veto:  45\n"
      ]
     },
     "metadata": {},
     "output_type": "display_data"
    },
    {
     "data": {
      "text/html": [
       "<pre style=\"white-space:pre;overflow-x:auto;line-height:normal;font-family:Menlo,'DejaVu Sans Mono',consolas,'Courier New',monospace\">Pairs:  75  Vector:  75\n",
       "</pre>\n"
      ],
      "text/plain": [
       "Pairs:  75  Vector:  75\n"
      ]
     },
     "metadata": {},
     "output_type": "display_data"
    },
    {
     "data": {
      "text/html": [
       "<pre style=\"white-space:pre;overflow-x:auto;line-height:normal;font-family:Menlo,'DejaVu Sans Mono',consolas,'Courier New',monospace\">[[True], [], [], [], [False], [False, ... [True, False], [], [], [True], []]\n",
       "</pre>\n"
      ],
      "text/plain": [
       "[[True], [], [], [], [False], [False, ... [True, False], [], [], [True], []]\n"
      ]
     },
     "metadata": {},
     "output_type": "display_data"
    },
    {
     "data": {
      "text/html": [
       "<pre style=\"white-space:pre;overflow-x:auto;line-height:normal;font-family:Menlo,'DejaVu Sans Mono',consolas,'Courier New',monospace\">0\n",
       "</pre>\n"
      ],
      "text/plain": [
       "0\n"
      ]
     },
     "metadata": {},
     "output_type": "display_data"
    },
    {
     "data": {
      "text/html": [
       "<pre style=\"white-space:pre;overflow-x:auto;line-height:normal;font-family:Menlo,'DejaVu Sans Mono',consolas,'Courier New',monospace\">Start:  3314   DYJets\n",
       "</pre>\n"
      ],
      "text/plain": [
       "Start:  3314   DYJets\n"
      ]
     },
     "metadata": {},
     "output_type": "display_data"
    },
    {
     "data": {
      "text/html": [
       "<pre style=\"white-space:pre;overflow-x:auto;line-height:normal;font-family:Menlo,'DejaVu Sans Mono',consolas,'Courier New',monospace\">Extra Ele Veto:  3097\n",
       "</pre>\n"
      ],
      "text/plain": [
       "Extra Ele Veto:  3097\n"
      ]
     },
     "metadata": {},
     "output_type": "display_data"
    },
    {
     "data": {
      "text/html": [
       "<pre style=\"white-space:pre;overflow-x:auto;line-height:normal;font-family:Menlo,'DejaVu Sans Mono',consolas,'Courier New',monospace\">Extra Mu Veto:  964\n",
       "</pre>\n"
      ],
      "text/plain": [
       "Extra Mu Veto:  964\n"
      ]
     },
     "metadata": {},
     "output_type": "display_data"
    },
    {
     "data": {
      "text/html": [
       "<pre style=\"white-space:pre;overflow-x:auto;line-height:normal;font-family:Menlo,'DejaVu Sans Mono',consolas,'Courier New',monospace\">BJet Veto:  846\n",
       "</pre>\n"
      ],
      "text/plain": [
       "BJet Veto:  846\n"
      ]
     },
     "metadata": {},
     "output_type": "display_data"
    },
    {
     "data": {
      "text/html": [
       "<pre style=\"white-space:pre;overflow-x:auto;line-height:normal;font-family:Menlo,'DejaVu Sans Mono',consolas,'Courier New',monospace\">Pairs:  1780  Vector:  1780\n",
       "</pre>\n"
      ],
      "text/plain": [
       "Pairs:  1780  Vector:  1780\n"
      ]
     },
     "metadata": {},
     "output_type": "display_data"
    },
    {
     "data": {
      "text/html": [
       "<pre style=\"white-space:pre;overflow-x:auto;line-height:normal;font-family:Menlo,'DejaVu Sans Mono',consolas,'Courier New',monospace\">[[], [False, True], [True], [True, ... True, False], [True, True, True, True], []]\n",
       "</pre>\n"
      ],
      "text/plain": [
       "[[], [False, True], [True], [True, ... True, False], [True, True, True, True], []]\n"
      ]
     },
     "metadata": {},
     "output_type": "display_data"
    },
    {
     "data": {
      "text/html": [
       "<pre style=\"white-space:pre;overflow-x:auto;line-height:normal;font-family:Menlo,'DejaVu Sans Mono',consolas,'Courier New',monospace\">0\n",
       "</pre>\n"
      ],
      "text/plain": [
       "0\n"
      ]
     },
     "metadata": {},
     "output_type": "display_data"
    },
    {
     "data": {
      "text/html": [
       "<pre style=\"white-space:pre;overflow-x:auto;line-height:normal;font-family:Menlo,'DejaVu Sans Mono',consolas,'Courier New',monospace\">Start:  3234   DYJets\n",
       "</pre>\n"
      ],
      "text/plain": [
       "Start:  3234   DYJets\n"
      ]
     },
     "metadata": {},
     "output_type": "display_data"
    },
    {
     "data": {
      "text/html": [
       "<pre style=\"white-space:pre;overflow-x:auto;line-height:normal;font-family:Menlo,'DejaVu Sans Mono',consolas,'Courier New',monospace\">Extra Ele Veto:  3012\n",
       "</pre>\n"
      ],
      "text/plain": [
       "Extra Ele Veto:  3012\n"
      ]
     },
     "metadata": {},
     "output_type": "display_data"
    },
    {
     "data": {
      "text/html": [
       "<pre style=\"white-space:pre;overflow-x:auto;line-height:normal;font-family:Menlo,'DejaVu Sans Mono',consolas,'Courier New',monospace\">Extra Mu Veto:  841\n",
       "</pre>\n"
      ],
      "text/plain": [
       "Extra Mu Veto:  841\n"
      ]
     },
     "metadata": {},
     "output_type": "display_data"
    },
    {
     "data": {
      "text/html": [
       "<pre style=\"white-space:pre;overflow-x:auto;line-height:normal;font-family:Menlo,'DejaVu Sans Mono',consolas,'Courier New',monospace\">BJet Veto:  756\n",
       "</pre>\n"
      ],
      "text/plain": [
       "BJet Veto:  756\n"
      ]
     },
     "metadata": {},
     "output_type": "display_data"
    },
    {
     "data": {
      "text/html": [
       "<pre style=\"white-space:pre;overflow-x:auto;line-height:normal;font-family:Menlo,'DejaVu Sans Mono',consolas,'Courier New',monospace\">Pairs:  1640  Vector:  1640\n",
       "</pre>\n"
      ],
      "text/plain": [
       "Pairs:  1640  Vector:  1640\n"
      ]
     },
     "metadata": {},
     "output_type": "display_data"
    },
    {
     "data": {
      "text/html": [
       "<pre style=\"white-space:pre;overflow-x:auto;line-height:normal;font-family:Menlo,'DejaVu Sans Mono',consolas,'Courier New',monospace\">[[False, False, False, False, True, True], [], ... True, True], [False, False], []]\n",
       "</pre>\n"
      ],
      "text/plain": [
       "[[False, False, False, False, True, True], [], ... True, True], [False, False], []]\n"
      ]
     },
     "metadata": {},
     "output_type": "display_data"
    },
    {
     "data": {
      "text/html": [
       "<pre style=\"white-space:pre;overflow-x:auto;line-height:normal;font-family:Menlo,'DejaVu Sans Mono',consolas,'Courier New',monospace\">Postcut: Pairs:  9  Vector:  9\n",
       "</pre>\n"
      ],
      "text/plain": [
       "Postcut: Pairs:  9  Vector:  9\n"
      ]
     },
     "metadata": {},
     "output_type": "display_data"
    },
    {
     "data": {
      "text/html": [
       "<pre style=\"white-space:pre;overflow-x:auto;line-height:normal;font-family:Menlo,'DejaVu Sans Mono',consolas,'Courier New',monospace\">[[], [], [], [], [], [], [], [], [], [], ... [], [], [], [], [], [], [], [], [], []]\n",
       "</pre>\n"
      ],
      "text/plain": [
       "[[], [], [], [], [], [], [], [], [], [], ... [], [], [], [], [], [], [], [], [], []]\n"
      ]
     },
     "metadata": {},
     "output_type": "display_data"
    },
    {
     "data": {
      "text/html": [
       "<pre style=\"white-space:pre;overflow-x:auto;line-height:normal;font-family:Menlo,'DejaVu Sans Mono',consolas,'Courier New',monospace\">[[], [], [], [], [], [], [], [], [], [], ... [], [], [], [], [], [], [], [], [], []]\n",
       "</pre>\n"
      ],
      "text/plain": [
       "[[], [], [], [], [], [], [], [], [], [], ... [], [], [], [], [], [], [], [], [], []]\n"
      ]
     },
     "metadata": {},
     "output_type": "display_data"
    },
    {
     "data": {
      "text/html": [
       "<pre style=\"white-space:pre;overflow-x:auto;line-height:normal;font-family:Menlo,'DejaVu Sans Mono',consolas,'Courier New',monospace\">Start:  3410   DYJets\n",
       "</pre>\n"
      ],
      "text/plain": [
       "Start:  3410   DYJets\n"
      ]
     },
     "metadata": {},
     "output_type": "display_data"
    },
    {
     "data": {
      "text/html": [
       "<pre style=\"white-space:pre;overflow-x:auto;line-height:normal;font-family:Menlo,'DejaVu Sans Mono',consolas,'Courier New',monospace\">Extra Ele Veto:  3214\n",
       "</pre>\n"
      ],
      "text/plain": [
       "Extra Ele Veto:  3214\n"
      ]
     },
     "metadata": {},
     "output_type": "display_data"
    },
    {
     "data": {
      "text/html": [
       "<pre style=\"white-space:pre;overflow-x:auto;line-height:normal;font-family:Menlo,'DejaVu Sans Mono',consolas,'Courier New',monospace\">Extra Mu Veto:  931\n",
       "</pre>\n"
      ],
      "text/plain": [
       "Extra Mu Veto:  931\n"
      ]
     },
     "metadata": {},
     "output_type": "display_data"
    },
    {
     "data": {
      "text/html": [
       "<pre style=\"white-space:pre;overflow-x:auto;line-height:normal;font-family:Menlo,'DejaVu Sans Mono',consolas,'Courier New',monospace\">BJet Veto:  816\n",
       "</pre>\n"
      ],
      "text/plain": [
       "BJet Veto:  816\n"
      ]
     },
     "metadata": {},
     "output_type": "display_data"
    },
    {
     "data": {
      "text/html": [
       "<pre style=\"white-space:pre;overflow-x:auto;line-height:normal;font-family:Menlo,'DejaVu Sans Mono',consolas,'Courier New',monospace\">Pairs:  1680  Vector:  1680\n",
       "</pre>\n"
      ],
      "text/plain": [
       "Pairs:  1680  Vector:  1680\n"
      ]
     },
     "metadata": {},
     "output_type": "display_data"
    },
    {
     "data": {
      "text/html": [
       "<pre style=\"white-space:pre;overflow-x:auto;line-height:normal;font-family:Menlo,'DejaVu Sans Mono',consolas,'Courier New',monospace\">[[True, True], [], [], [True, ... True, True, True, False, False, True, True], []]\n",
       "</pre>\n"
      ],
      "text/plain": [
       "[[True, True], [], [], [True, ... True, True, True, False, False, True, True], []]\n"
      ]
     },
     "metadata": {},
     "output_type": "display_data"
    },
    {
     "data": {
      "text/html": [
       "<pre style=\"white-space:pre;overflow-x:auto;line-height:normal;font-family:Menlo,'DejaVu Sans Mono',consolas,'Courier New',monospace\">0\n",
       "</pre>\n"
      ],
      "text/plain": [
       "0\n"
      ]
     },
     "metadata": {},
     "output_type": "display_data"
    },
    {
     "data": {
      "text/html": [
       "<pre style=\"white-space:pre;overflow-x:auto;line-height:normal;font-family:Menlo,'DejaVu Sans Mono',consolas,'Courier New',monospace\">Start:  3260   DYJets\n",
       "</pre>\n"
      ],
      "text/plain": [
       "Start:  3260   DYJets\n"
      ]
     },
     "metadata": {},
     "output_type": "display_data"
    },
    {
     "data": {
      "text/html": [
       "<pre style=\"white-space:pre;overflow-x:auto;line-height:normal;font-family:Menlo,'DejaVu Sans Mono',consolas,'Courier New',monospace\">Extra Ele Veto:  3059\n",
       "</pre>\n"
      ],
      "text/plain": [
       "Extra Ele Veto:  3059\n"
      ]
     },
     "metadata": {},
     "output_type": "display_data"
    },
    {
     "data": {
      "text/html": [
       "<pre style=\"white-space:pre;overflow-x:auto;line-height:normal;font-family:Menlo,'DejaVu Sans Mono',consolas,'Courier New',monospace\">Extra Mu Veto:  828\n",
       "</pre>\n"
      ],
      "text/plain": [
       "Extra Mu Veto:  828\n"
      ]
     },
     "metadata": {},
     "output_type": "display_data"
    },
    {
     "data": {
      "text/html": [
       "<pre style=\"white-space:pre;overflow-x:auto;line-height:normal;font-family:Menlo,'DejaVu Sans Mono',consolas,'Courier New',monospace\">BJet Veto:  743\n",
       "</pre>\n"
      ],
      "text/plain": [
       "BJet Veto:  743\n"
      ]
     },
     "metadata": {},
     "output_type": "display_data"
    },
    {
     "data": {
      "text/html": [
       "<pre style=\"white-space:pre;overflow-x:auto;line-height:normal;font-family:Menlo,'DejaVu Sans Mono',consolas,'Courier New',monospace\">Pairs:  1572  Vector:  1572\n",
       "</pre>\n"
      ],
      "text/plain": [
       "Pairs:  1572  Vector:  1572\n"
      ]
     },
     "metadata": {},
     "output_type": "display_data"
    },
    {
     "data": {
      "text/html": [
       "<pre style=\"white-space:pre;overflow-x:auto;line-height:normal;font-family:Menlo,'DejaVu Sans Mono',consolas,'Courier New',monospace\">[[], [], [True, True, True, False], ... True, True], [True, True, True, True], []]\n",
       "</pre>\n"
      ],
      "text/plain": [
       "[[], [], [True, True, True, False], ... True, True], [True, True, True, True], []]\n"
      ]
     },
     "metadata": {},
     "output_type": "display_data"
    },
    {
     "data": {
      "text/html": [
       "<pre style=\"white-space:pre;overflow-x:auto;line-height:normal;font-family:Menlo,'DejaVu Sans Mono',consolas,'Courier New',monospace\">0\n",
       "</pre>\n"
      ],
      "text/plain": [
       "0\n"
      ]
     },
     "metadata": {},
     "output_type": "display_data"
    },
    {
     "data": {
      "text/html": [
       "<pre style=\"white-space:pre;overflow-x:auto;line-height:normal;font-family:Menlo,'DejaVu Sans Mono',consolas,'Courier New',monospace\">Start:  3372   DYJets\n",
       "</pre>\n"
      ],
      "text/plain": [
       "Start:  3372   DYJets\n"
      ]
     },
     "metadata": {},
     "output_type": "display_data"
    },
    {
     "data": {
      "text/html": [
       "<pre style=\"white-space:pre;overflow-x:auto;line-height:normal;font-family:Menlo,'DejaVu Sans Mono',consolas,'Courier New',monospace\">Extra Ele Veto:  3157\n",
       "</pre>\n"
      ],
      "text/plain": [
       "Extra Ele Veto:  3157\n"
      ]
     },
     "metadata": {},
     "output_type": "display_data"
    },
    {
     "data": {
      "text/html": [
       "<pre style=\"white-space:pre;overflow-x:auto;line-height:normal;font-family:Menlo,'DejaVu Sans Mono',consolas,'Courier New',monospace\">Extra Mu Veto:  967\n",
       "</pre>\n"
      ],
      "text/plain": [
       "Extra Mu Veto:  967\n"
      ]
     },
     "metadata": {},
     "output_type": "display_data"
    },
    {
     "data": {
      "text/html": [
       "<pre style=\"white-space:pre;overflow-x:auto;line-height:normal;font-family:Menlo,'DejaVu Sans Mono',consolas,'Courier New',monospace\">BJet Veto:  869\n",
       "</pre>\n"
      ],
      "text/plain": [
       "BJet Veto:  869\n"
      ]
     },
     "metadata": {},
     "output_type": "display_data"
    },
    {
     "data": {
      "text/html": [
       "<pre style=\"white-space:pre;overflow-x:auto;line-height:normal;font-family:Menlo,'DejaVu Sans Mono',consolas,'Courier New',monospace\">Pairs:  1790  Vector:  1790\n",
       "</pre>\n"
      ],
      "text/plain": [
       "Pairs:  1790  Vector:  1790\n"
      ]
     },
     "metadata": {},
     "output_type": "display_data"
    },
    {
     "data": {
      "text/html": [
       "<pre style=\"white-space:pre;overflow-x:auto;line-height:normal;font-family:Menlo,'DejaVu Sans Mono',consolas,'Courier New',monospace\">[[True, True, True, True, True, True], [False, ... [], [False, False, True, True]]\n",
       "</pre>\n"
      ],
      "text/plain": [
       "[[True, True, True, True, True, True], [False, ... [], [False, False, True, True]]\n"
      ]
     },
     "metadata": {},
     "output_type": "display_data"
    },
    {
     "data": {
      "text/html": [
       "<pre style=\"white-space:pre;overflow-x:auto;line-height:normal;font-family:Menlo,'DejaVu Sans Mono',consolas,'Courier New',monospace\">Postcut: Pairs:  7  Vector:  7\n",
       "</pre>\n"
      ],
      "text/plain": [
       "Postcut: Pairs:  7  Vector:  7\n"
      ]
     },
     "metadata": {},
     "output_type": "display_data"
    },
    {
     "data": {
      "text/html": [
       "<pre style=\"white-space:pre;overflow-x:auto;line-height:normal;font-family:Menlo,'DejaVu Sans Mono',consolas,'Courier New',monospace\">[[], [], [], [], [], [], [], [], [], [], ... [], [], [], [], [], [], [], [], [], []]\n",
       "</pre>\n"
      ],
      "text/plain": [
       "[[], [], [], [], [], [], [], [], [], [], ... [], [], [], [], [], [], [], [], [], []]\n"
      ]
     },
     "metadata": {},
     "output_type": "display_data"
    },
    {
     "data": {
      "text/html": [
       "<pre style=\"white-space:pre;overflow-x:auto;line-height:normal;font-family:Menlo,'DejaVu Sans Mono',consolas,'Courier New',monospace\">[[], [], [], [], [], [], [], [], [], [], ... [], [], [], [], [], [], [], [], [], []]\n",
       "</pre>\n"
      ],
      "text/plain": [
       "[[], [], [], [], [], [], [], [], [], [], ... [], [], [], [], [], [], [], [], [], []]\n"
      ]
     },
     "metadata": {},
     "output_type": "display_data"
    },
    {
     "data": {
      "text/html": [
       "<pre style=\"white-space:pre;overflow-x:auto;line-height:normal;font-family:Menlo,'DejaVu Sans Mono',consolas,'Courier New',monospace\">Start:  3291   DYJets\n",
       "</pre>\n"
      ],
      "text/plain": [
       "Start:  3291   DYJets\n"
      ]
     },
     "metadata": {},
     "output_type": "display_data"
    },
    {
     "data": {
      "text/html": [
       "<pre style=\"white-space:pre;overflow-x:auto;line-height:normal;font-family:Menlo,'DejaVu Sans Mono',consolas,'Courier New',monospace\">Extra Ele Veto:  3103\n",
       "</pre>\n"
      ],
      "text/plain": [
       "Extra Ele Veto:  3103\n"
      ]
     },
     "metadata": {},
     "output_type": "display_data"
    },
    {
     "data": {
      "text/html": [
       "<pre style=\"white-space:pre;overflow-x:auto;line-height:normal;font-family:Menlo,'DejaVu Sans Mono',consolas,'Courier New',monospace\">Extra Mu Veto:  860\n",
       "</pre>\n"
      ],
      "text/plain": [
       "Extra Mu Veto:  860\n"
      ]
     },
     "metadata": {},
     "output_type": "display_data"
    },
    {
     "data": {
      "text/html": [
       "<pre style=\"white-space:pre;overflow-x:auto;line-height:normal;font-family:Menlo,'DejaVu Sans Mono',consolas,'Courier New',monospace\">BJet Veto:  761\n",
       "</pre>\n"
      ],
      "text/plain": [
       "BJet Veto:  761\n"
      ]
     },
     "metadata": {},
     "output_type": "display_data"
    },
    {
     "data": {
      "text/html": [
       "<pre style=\"white-space:pre;overflow-x:auto;line-height:normal;font-family:Menlo,'DejaVu Sans Mono',consolas,'Courier New',monospace\">Pairs:  1591  Vector:  1591\n",
       "</pre>\n"
      ],
      "text/plain": [
       "Pairs:  1591  Vector:  1591\n"
      ]
     },
     "metadata": {},
     "output_type": "display_data"
    },
    {
     "data": {
      "text/html": [
       "<pre style=\"white-space:pre;overflow-x:auto;line-height:normal;font-family:Menlo,'DejaVu Sans Mono',consolas,'Courier New',monospace\">[[], [True, True, True, True, True, True, True, ... [True], [False, False], []]\n",
       "</pre>\n"
      ],
      "text/plain": [
       "[[], [True, True, True, True, True, True, True, ... [True], [False, False], []]\n"
      ]
     },
     "metadata": {},
     "output_type": "display_data"
    },
    {
     "data": {
      "text/html": [
       "<pre style=\"white-space:pre;overflow-x:auto;line-height:normal;font-family:Menlo,'DejaVu Sans Mono',consolas,'Courier New',monospace\">0\n",
       "</pre>\n"
      ],
      "text/plain": [
       "0\n"
      ]
     },
     "metadata": {},
     "output_type": "display_data"
    },
    {
     "data": {
      "text/html": [
       "<pre style=\"white-space:pre;overflow-x:auto;line-height:normal;font-family:Menlo,'DejaVu Sans Mono',consolas,'Courier New',monospace\">Start:  3325   DYJets\n",
       "</pre>\n"
      ],
      "text/plain": [
       "Start:  3325   DYJets\n"
      ]
     },
     "metadata": {},
     "output_type": "display_data"
    },
    {
     "data": {
      "text/html": [
       "<pre style=\"white-space:pre;overflow-x:auto;line-height:normal;font-family:Menlo,'DejaVu Sans Mono',consolas,'Courier New',monospace\">Extra Ele Veto:  3133\n",
       "</pre>\n"
      ],
      "text/plain": [
       "Extra Ele Veto:  3133\n"
      ]
     },
     "metadata": {},
     "output_type": "display_data"
    },
    {
     "data": {
      "text/html": [
       "<pre style=\"white-space:pre;overflow-x:auto;line-height:normal;font-family:Menlo,'DejaVu Sans Mono',consolas,'Courier New',monospace\">Extra Mu Veto:  895\n",
       "</pre>\n"
      ],
      "text/plain": [
       "Extra Mu Veto:  895\n"
      ]
     },
     "metadata": {},
     "output_type": "display_data"
    },
    {
     "data": {
      "text/html": [
       "<pre style=\"white-space:pre;overflow-x:auto;line-height:normal;font-family:Menlo,'DejaVu Sans Mono',consolas,'Courier New',monospace\">BJet Veto:  770\n",
       "</pre>\n"
      ],
      "text/plain": [
       "BJet Veto:  770\n"
      ]
     },
     "metadata": {},
     "output_type": "display_data"
    },
    {
     "data": {
      "text/html": [
       "<pre style=\"white-space:pre;overflow-x:auto;line-height:normal;font-family:Menlo,'DejaVu Sans Mono',consolas,'Courier New',monospace\">Pairs:  1620  Vector:  1620\n",
       "</pre>\n"
      ],
      "text/plain": [
       "Pairs:  1620  Vector:  1620\n"
      ]
     },
     "metadata": {},
     "output_type": "display_data"
    },
    {
     "data": {
      "text/html": [
       "<pre style=\"white-space:pre;overflow-x:auto;line-height:normal;font-family:Menlo,'DejaVu Sans Mono',consolas,'Courier New',monospace\">[[True, True, True, True, False, False], [True, ... True, True, True, True], [], []]\n",
       "</pre>\n"
      ],
      "text/plain": [
       "[[True, True, True, True, False, False], [True, ... True, True, True, True], [], []]\n"
      ]
     },
     "metadata": {},
     "output_type": "display_data"
    },
    {
     "data": {
      "text/html": [
       "<pre style=\"white-space:pre;overflow-x:auto;line-height:normal;font-family:Menlo,'DejaVu Sans Mono',consolas,'Courier New',monospace\">Postcut: Pairs:  11  Vector:  11\n",
       "</pre>\n"
      ],
      "text/plain": [
       "Postcut: Pairs:  11  Vector:  11\n"
      ]
     },
     "metadata": {},
     "output_type": "display_data"
    },
    {
     "data": {
      "text/html": [
       "<pre style=\"white-space:pre;overflow-x:auto;line-height:normal;font-family:Menlo,'DejaVu Sans Mono',consolas,'Courier New',monospace\">[[], [], [], [], [], [], [], [], [], [], ... [], [], [], [], [], [], [], [], [], []]\n",
       "</pre>\n"
      ],
      "text/plain": [
       "[[], [], [], [], [], [], [], [], [], [], ... [], [], [], [], [], [], [], [], [], []]\n"
      ]
     },
     "metadata": {},
     "output_type": "display_data"
    },
    {
     "data": {
      "text/html": [
       "<pre style=\"white-space:pre;overflow-x:auto;line-height:normal;font-family:Menlo,'DejaVu Sans Mono',consolas,'Courier New',monospace\">[[], [], [], [], [], [], [], [], [], [], ... [], [], [], [], [], [], [], [], [], []]\n",
       "</pre>\n"
      ],
      "text/plain": [
       "[[], [], [], [], [], [], [], [], [], [], ... [], [], [], [], [], [], [], [], [], []]\n"
      ]
     },
     "metadata": {},
     "output_type": "display_data"
    },
    {
     "data": {
      "text/html": [
       "<pre style=\"white-space:pre;overflow-x:auto;line-height:normal;font-family:Menlo,'DejaVu Sans Mono',consolas,'Courier New',monospace\">Start:  3217   DYJets\n",
       "</pre>\n"
      ],
      "text/plain": [
       "Start:  3217   DYJets\n"
      ]
     },
     "metadata": {},
     "output_type": "display_data"
    },
    {
     "data": {
      "text/html": [
       "<pre style=\"white-space:pre;overflow-x:auto;line-height:normal;font-family:Menlo,'DejaVu Sans Mono',consolas,'Courier New',monospace\">Extra Ele Veto:  3027\n",
       "</pre>\n"
      ],
      "text/plain": [
       "Extra Ele Veto:  3027\n"
      ]
     },
     "metadata": {},
     "output_type": "display_data"
    },
    {
     "data": {
      "text/html": [
       "<pre style=\"white-space:pre;overflow-x:auto;line-height:normal;font-family:Menlo,'DejaVu Sans Mono',consolas,'Courier New',monospace\">Extra Mu Veto:  808\n",
       "</pre>\n"
      ],
      "text/plain": [
       "Extra Mu Veto:  808\n"
      ]
     },
     "metadata": {},
     "output_type": "display_data"
    },
    {
     "data": {
      "text/html": [
       "<pre style=\"white-space:pre;overflow-x:auto;line-height:normal;font-family:Menlo,'DejaVu Sans Mono',consolas,'Courier New',monospace\">BJet Veto:  720\n",
       "</pre>\n"
      ],
      "text/plain": [
       "BJet Veto:  720\n"
      ]
     },
     "metadata": {},
     "output_type": "display_data"
    },
    {
     "data": {
      "text/html": [
       "<pre style=\"white-space:pre;overflow-x:auto;line-height:normal;font-family:Menlo,'DejaVu Sans Mono',consolas,'Courier New',monospace\">Pairs:  1553  Vector:  1553\n",
       "</pre>\n"
      ],
      "text/plain": [
       "Pairs:  1553  Vector:  1553\n"
      ]
     },
     "metadata": {},
     "output_type": "display_data"
    },
    {
     "data": {
      "text/html": [
       "<pre style=\"white-space:pre;overflow-x:auto;line-height:normal;font-family:Menlo,'DejaVu Sans Mono',consolas,'Courier New',monospace\">[[], [False, False], [True, True, False, False, ... [], [True, True], [False, True]]\n",
       "</pre>\n"
      ],
      "text/plain": [
       "[[], [False, False], [True, True, False, False, ... [], [True, True], [False, True]]\n"
      ]
     },
     "metadata": {},
     "output_type": "display_data"
    },
    {
     "data": {
      "text/html": [
       "<pre style=\"white-space:pre;overflow-x:auto;line-height:normal;font-family:Menlo,'DejaVu Sans Mono',consolas,'Courier New',monospace\">0\n",
       "</pre>\n"
      ],
      "text/plain": [
       "0\n"
      ]
     },
     "metadata": {},
     "output_type": "display_data"
    },
    {
     "data": {
      "text/html": [
       "<pre style=\"white-space:pre;overflow-x:auto;line-height:normal;font-family:Menlo,'DejaVu Sans Mono',consolas,'Courier New',monospace\">Start:  3201   DYJets\n",
       "</pre>\n"
      ],
      "text/plain": [
       "Start:  3201   DYJets\n"
      ]
     },
     "metadata": {},
     "output_type": "display_data"
    },
    {
     "data": {
      "text/html": [
       "<pre style=\"white-space:pre;overflow-x:auto;line-height:normal;font-family:Menlo,'DejaVu Sans Mono',consolas,'Courier New',monospace\">Extra Ele Veto:  2984\n",
       "</pre>\n"
      ],
      "text/plain": [
       "Extra Ele Veto:  2984\n"
      ]
     },
     "metadata": {},
     "output_type": "display_data"
    },
    {
     "data": {
      "text/html": [
       "<pre style=\"white-space:pre;overflow-x:auto;line-height:normal;font-family:Menlo,'DejaVu Sans Mono',consolas,'Courier New',monospace\">Extra Mu Veto:  857\n",
       "</pre>\n"
      ],
      "text/plain": [
       "Extra Mu Veto:  857\n"
      ]
     },
     "metadata": {},
     "output_type": "display_data"
    },
    {
     "data": {
      "text/html": [
       "<pre style=\"white-space:pre;overflow-x:auto;line-height:normal;font-family:Menlo,'DejaVu Sans Mono',consolas,'Courier New',monospace\">BJet Veto:  768\n",
       "</pre>\n"
      ],
      "text/plain": [
       "BJet Veto:  768\n"
      ]
     },
     "metadata": {},
     "output_type": "display_data"
    },
    {
     "data": {
      "text/html": [
       "<pre style=\"white-space:pre;overflow-x:auto;line-height:normal;font-family:Menlo,'DejaVu Sans Mono',consolas,'Courier New',monospace\">Pairs:  1607  Vector:  1607\n",
       "</pre>\n"
      ],
      "text/plain": [
       "Pairs:  1607  Vector:  1607\n"
      ]
     },
     "metadata": {},
     "output_type": "display_data"
    },
    {
     "data": {
      "text/html": [
       "<pre style=\"white-space:pre;overflow-x:auto;line-height:normal;font-family:Menlo,'DejaVu Sans Mono',consolas,'Courier New',monospace\">[[], [], [True, True, False, False, True, True, ... [], [], [True, True, True, True]]\n",
       "</pre>\n"
      ],
      "text/plain": [
       "[[], [], [True, True, False, False, True, True, ... [], [], [True, True, True, True]]\n"
      ]
     },
     "metadata": {},
     "output_type": "display_data"
    },
    {
     "data": {
      "text/html": [
       "<pre style=\"white-space:pre;overflow-x:auto;line-height:normal;font-family:Menlo,'DejaVu Sans Mono',consolas,'Courier New',monospace\">0\n",
       "</pre>\n"
      ],
      "text/plain": [
       "0\n"
      ]
     },
     "metadata": {},
     "output_type": "display_data"
    },
    {
     "data": {
      "text/html": [
       "<pre style=\"white-space:pre;overflow-x:auto;line-height:normal;font-family:Menlo,'DejaVu Sans Mono',consolas,'Courier New',monospace\">Start:  3147   DYJets\n",
       "</pre>\n"
      ],
      "text/plain": [
       "Start:  3147   DYJets\n"
      ]
     },
     "metadata": {},
     "output_type": "display_data"
    },
    {
     "data": {
      "text/html": [
       "<pre style=\"white-space:pre;overflow-x:auto;line-height:normal;font-family:Menlo,'DejaVu Sans Mono',consolas,'Courier New',monospace\">Extra Ele Veto:  2955\n",
       "</pre>\n"
      ],
      "text/plain": [
       "Extra Ele Veto:  2955\n"
      ]
     },
     "metadata": {},
     "output_type": "display_data"
    },
    {
     "data": {
      "text/html": [
       "<pre style=\"white-space:pre;overflow-x:auto;line-height:normal;font-family:Menlo,'DejaVu Sans Mono',consolas,'Courier New',monospace\">Extra Mu Veto:  862\n",
       "</pre>\n"
      ],
      "text/plain": [
       "Extra Mu Veto:  862\n"
      ]
     },
     "metadata": {},
     "output_type": "display_data"
    },
    {
     "data": {
      "text/html": [
       "<pre style=\"white-space:pre;overflow-x:auto;line-height:normal;font-family:Menlo,'DejaVu Sans Mono',consolas,'Courier New',monospace\">BJet Veto:  745\n",
       "</pre>\n"
      ],
      "text/plain": [
       "BJet Veto:  745\n"
      ]
     },
     "metadata": {},
     "output_type": "display_data"
    },
    {
     "data": {
      "text/html": [
       "<pre style=\"white-space:pre;overflow-x:auto;line-height:normal;font-family:Menlo,'DejaVu Sans Mono',consolas,'Courier New',monospace\">Pairs:  1586  Vector:  1586\n",
       "</pre>\n"
      ],
      "text/plain": [
       "Pairs:  1586  Vector:  1586\n"
      ]
     },
     "metadata": {},
     "output_type": "display_data"
    },
    {
     "data": {
      "text/html": [
       "<pre style=\"white-space:pre;overflow-x:auto;line-height:normal;font-family:Menlo,'DejaVu Sans Mono',consolas,'Courier New',monospace\">[[], [False, False, True, True, True, True, ... True, False, False, True, True], []]\n",
       "</pre>\n"
      ],
      "text/plain": [
       "[[], [False, False, True, True, True, True, ... True, False, False, True, True], []]\n"
      ]
     },
     "metadata": {},
     "output_type": "display_data"
    },
    {
     "data": {
      "text/html": [
       "<pre style=\"white-space:pre;overflow-x:auto;line-height:normal;font-family:Menlo,'DejaVu Sans Mono',consolas,'Courier New',monospace\">0\n",
       "</pre>\n"
      ],
      "text/plain": [
       "0\n"
      ]
     },
     "metadata": {},
     "output_type": "display_data"
    },
    {
     "data": {
      "text/html": [
       "<pre style=\"white-space:pre;overflow-x:auto;line-height:normal;font-family:Menlo,'DejaVu Sans Mono',consolas,'Courier New',monospace\">Start:  3209   DYJets\n",
       "</pre>\n"
      ],
      "text/plain": [
       "Start:  3209   DYJets\n"
      ]
     },
     "metadata": {},
     "output_type": "display_data"
    },
    {
     "data": {
      "text/html": [
       "<pre style=\"white-space:pre;overflow-x:auto;line-height:normal;font-family:Menlo,'DejaVu Sans Mono',consolas,'Courier New',monospace\">Extra Ele Veto:  2991\n",
       "</pre>\n"
      ],
      "text/plain": [
       "Extra Ele Veto:  2991\n"
      ]
     },
     "metadata": {},
     "output_type": "display_data"
    },
    {
     "data": {
      "text/html": [
       "<pre style=\"white-space:pre;overflow-x:auto;line-height:normal;font-family:Menlo,'DejaVu Sans Mono',consolas,'Courier New',monospace\">Extra Mu Veto:  842\n",
       "</pre>\n"
      ],
      "text/plain": [
       "Extra Mu Veto:  842\n"
      ]
     },
     "metadata": {},
     "output_type": "display_data"
    },
    {
     "data": {
      "text/html": [
       "<pre style=\"white-space:pre;overflow-x:auto;line-height:normal;font-family:Menlo,'DejaVu Sans Mono',consolas,'Courier New',monospace\">BJet Veto:  755\n",
       "</pre>\n"
      ],
      "text/plain": [
       "BJet Veto:  755\n"
      ]
     },
     "metadata": {},
     "output_type": "display_data"
    },
    {
     "data": {
      "text/html": [
       "<pre style=\"white-space:pre;overflow-x:auto;line-height:normal;font-family:Menlo,'DejaVu Sans Mono',consolas,'Courier New',monospace\">Pairs:  1652  Vector:  1652\n",
       "</pre>\n"
      ],
      "text/plain": [
       "Pairs:  1652  Vector:  1652\n"
      ]
     },
     "metadata": {},
     "output_type": "display_data"
    },
    {
     "data": {
      "text/html": [
       "<pre style=\"white-space:pre;overflow-x:auto;line-height:normal;font-family:Menlo,'DejaVu Sans Mono',consolas,'Courier New',monospace\">[[], [], [], [], [True, True], [], ... True], [True, True], [], [False, False], []]\n",
       "</pre>\n"
      ],
      "text/plain": [
       "[[], [], [], [], [True, True], [], ... True], [True, True], [], [False, False], []]\n"
      ]
     },
     "metadata": {},
     "output_type": "display_data"
    },
    {
     "data": {
      "text/html": [
       "<pre style=\"white-space:pre;overflow-x:auto;line-height:normal;font-family:Menlo,'DejaVu Sans Mono',consolas,'Courier New',monospace\">0\n",
       "</pre>\n"
      ],
      "text/plain": [
       "0\n"
      ]
     },
     "metadata": {},
     "output_type": "display_data"
    },
    {
     "data": {
      "text/html": [
       "<pre style=\"white-space:pre;overflow-x:auto;line-height:normal;font-family:Menlo,'DejaVu Sans Mono',consolas,'Courier New',monospace\">Start:  3308   DYJets\n",
       "</pre>\n"
      ],
      "text/plain": [
       "Start:  3308   DYJets\n"
      ]
     },
     "metadata": {},
     "output_type": "display_data"
    },
    {
     "data": {
      "text/html": [
       "<pre style=\"white-space:pre;overflow-x:auto;line-height:normal;font-family:Menlo,'DejaVu Sans Mono',consolas,'Courier New',monospace\">Extra Ele Veto:  3090\n",
       "</pre>\n"
      ],
      "text/plain": [
       "Extra Ele Veto:  3090\n"
      ]
     },
     "metadata": {},
     "output_type": "display_data"
    },
    {
     "data": {
      "text/html": [
       "<pre style=\"white-space:pre;overflow-x:auto;line-height:normal;font-family:Menlo,'DejaVu Sans Mono',consolas,'Courier New',monospace\">Extra Mu Veto:  882\n",
       "</pre>\n"
      ],
      "text/plain": [
       "Extra Mu Veto:  882\n"
      ]
     },
     "metadata": {},
     "output_type": "display_data"
    },
    {
     "data": {
      "text/html": [
       "<pre style=\"white-space:pre;overflow-x:auto;line-height:normal;font-family:Menlo,'DejaVu Sans Mono',consolas,'Courier New',monospace\">BJet Veto:  783\n",
       "</pre>\n"
      ],
      "text/plain": [
       "BJet Veto:  783\n"
      ]
     },
     "metadata": {},
     "output_type": "display_data"
    },
    {
     "data": {
      "text/html": [
       "<pre style=\"white-space:pre;overflow-x:auto;line-height:normal;font-family:Menlo,'DejaVu Sans Mono',consolas,'Courier New',monospace\">Pairs:  1609  Vector:  1609\n",
       "</pre>\n"
      ],
      "text/plain": [
       "Pairs:  1609  Vector:  1609\n"
      ]
     },
     "metadata": {},
     "output_type": "display_data"
    },
    {
     "data": {
      "text/html": [
       "<pre style=\"white-space:pre;overflow-x:auto;line-height:normal;font-family:Menlo,'DejaVu Sans Mono',consolas,'Courier New',monospace\">[[True, True], [True, True, True], [True, ... False, True], [], [True, True, False]]\n",
       "</pre>\n"
      ],
      "text/plain": [
       "[[True, True], [True, True, True], [True, ... False, True], [], [True, True, False]]\n"
      ]
     },
     "metadata": {},
     "output_type": "display_data"
    },
    {
     "data": {
      "text/html": [
       "<pre style=\"white-space:pre;overflow-x:auto;line-height:normal;font-family:Menlo,'DejaVu Sans Mono',consolas,'Courier New',monospace\">Postcut: Pairs:  13  Vector:  13\n",
       "</pre>\n"
      ],
      "text/plain": [
       "Postcut: Pairs:  13  Vector:  13\n"
      ]
     },
     "metadata": {},
     "output_type": "display_data"
    },
    {
     "data": {
      "text/html": [
       "<pre style=\"white-space:pre;overflow-x:auto;line-height:normal;font-family:Menlo,'DejaVu Sans Mono',consolas,'Courier New',monospace\">[[], [], [], [], [], [], [], [], [], [], ... [], [], [], [], [], [], [], [], [], []]\n",
       "</pre>\n"
      ],
      "text/plain": [
       "[[], [], [], [], [], [], [], [], [], [], ... [], [], [], [], [], [], [], [], [], []]\n"
      ]
     },
     "metadata": {},
     "output_type": "display_data"
    },
    {
     "data": {
      "text/html": [
       "<pre style=\"white-space:pre;overflow-x:auto;line-height:normal;font-family:Menlo,'DejaVu Sans Mono',consolas,'Courier New',monospace\">[[], [], [], [], [], [], [], [], [], [], ... [], [], [], [], [], [], [], [], [], []]\n",
       "</pre>\n"
      ],
      "text/plain": [
       "[[], [], [], [], [], [], [], [], [], [], ... [], [], [], [], [], [], [], [], [], []]\n"
      ]
     },
     "metadata": {},
     "output_type": "display_data"
    },
    {
     "data": {
      "text/html": [
       "<pre style=\"white-space:pre;overflow-x:auto;line-height:normal;font-family:Menlo,'DejaVu Sans Mono',consolas,'Courier New',monospace\">Start:  3264   DYJets\n",
       "</pre>\n"
      ],
      "text/plain": [
       "Start:  3264   DYJets\n"
      ]
     },
     "metadata": {},
     "output_type": "display_data"
    },
    {
     "data": {
      "text/html": [
       "<pre style=\"white-space:pre;overflow-x:auto;line-height:normal;font-family:Menlo,'DejaVu Sans Mono',consolas,'Courier New',monospace\">Extra Ele Veto:  3043\n",
       "</pre>\n"
      ],
      "text/plain": [
       "Extra Ele Veto:  3043\n"
      ]
     },
     "metadata": {},
     "output_type": "display_data"
    },
    {
     "data": {
      "text/html": [
       "<pre style=\"white-space:pre;overflow-x:auto;line-height:normal;font-family:Menlo,'DejaVu Sans Mono',consolas,'Courier New',monospace\">Extra Mu Veto:  939\n",
       "</pre>\n"
      ],
      "text/plain": [
       "Extra Mu Veto:  939\n"
      ]
     },
     "metadata": {},
     "output_type": "display_data"
    },
    {
     "data": {
      "text/html": [
       "<pre style=\"white-space:pre;overflow-x:auto;line-height:normal;font-family:Menlo,'DejaVu Sans Mono',consolas,'Courier New',monospace\">BJet Veto:  817\n",
       "</pre>\n"
      ],
      "text/plain": [
       "BJet Veto:  817\n"
      ]
     },
     "metadata": {},
     "output_type": "display_data"
    },
    {
     "data": {
      "text/html": [
       "<pre style=\"white-space:pre;overflow-x:auto;line-height:normal;font-family:Menlo,'DejaVu Sans Mono',consolas,'Courier New',monospace\">Pairs:  1648  Vector:  1648\n",
       "</pre>\n"
      ],
      "text/plain": [
       "Pairs:  1648  Vector:  1648\n"
      ]
     },
     "metadata": {},
     "output_type": "display_data"
    },
    {
     "data": {
      "text/html": [
       "<pre style=\"white-space:pre;overflow-x:auto;line-height:normal;font-family:Menlo,'DejaVu Sans Mono',consolas,'Courier New',monospace\">[[], [], [], [True, True, True, True, ... [], [True, True, True, True, True, True]]\n",
       "</pre>\n"
      ],
      "text/plain": [
       "[[], [], [], [True, True, True, True, ... [], [True, True, True, True, True, True]]\n"
      ]
     },
     "metadata": {},
     "output_type": "display_data"
    },
    {
     "data": {
      "text/html": [
       "<pre style=\"white-space:pre;overflow-x:auto;line-height:normal;font-family:Menlo,'DejaVu Sans Mono',consolas,'Courier New',monospace\">0\n",
       "</pre>\n"
      ],
      "text/plain": [
       "0\n"
      ]
     },
     "metadata": {},
     "output_type": "display_data"
    },
    {
     "data": {
      "text/html": [
       "<pre style=\"white-space:pre;overflow-x:auto;line-height:normal;font-family:Menlo,'DejaVu Sans Mono',consolas,'Courier New',monospace\">Start:  3284   DYJets\n",
       "</pre>\n"
      ],
      "text/plain": [
       "Start:  3284   DYJets\n"
      ]
     },
     "metadata": {},
     "output_type": "display_data"
    },
    {
     "data": {
      "text/html": [
       "<pre style=\"white-space:pre;overflow-x:auto;line-height:normal;font-family:Menlo,'DejaVu Sans Mono',consolas,'Courier New',monospace\">Extra Ele Veto:  3073\n",
       "</pre>\n"
      ],
      "text/plain": [
       "Extra Ele Veto:  3073\n"
      ]
     },
     "metadata": {},
     "output_type": "display_data"
    },
    {
     "data": {
      "text/html": [
       "<pre style=\"white-space:pre;overflow-x:auto;line-height:normal;font-family:Menlo,'DejaVu Sans Mono',consolas,'Courier New',monospace\">Extra Mu Veto:  909\n",
       "</pre>\n"
      ],
      "text/plain": [
       "Extra Mu Veto:  909\n"
      ]
     },
     "metadata": {},
     "output_type": "display_data"
    },
    {
     "data": {
      "text/html": [
       "<pre style=\"white-space:pre;overflow-x:auto;line-height:normal;font-family:Menlo,'DejaVu Sans Mono',consolas,'Courier New',monospace\">BJet Veto:  803\n",
       "</pre>\n"
      ],
      "text/plain": [
       "BJet Veto:  803\n"
      ]
     },
     "metadata": {},
     "output_type": "display_data"
    },
    {
     "data": {
      "text/html": [
       "<pre style=\"white-space:pre;overflow-x:auto;line-height:normal;font-family:Menlo,'DejaVu Sans Mono',consolas,'Courier New',monospace\">Pairs:  1799  Vector:  1799\n",
       "</pre>\n"
      ],
      "text/plain": [
       "Pairs:  1799  Vector:  1799\n"
      ]
     },
     "metadata": {},
     "output_type": "display_data"
    },
    {
     "data": {
      "text/html": [
       "<pre style=\"white-space:pre;overflow-x:auto;line-height:normal;font-family:Menlo,'DejaVu Sans Mono',consolas,'Courier New',monospace\">[[], [], [False, False, False, True, True, True, ... [], [], [True, True], []]\n",
       "</pre>\n"
      ],
      "text/plain": [
       "[[], [], [False, False, False, True, True, True, ... [], [], [True, True], []]\n"
      ]
     },
     "metadata": {},
     "output_type": "display_data"
    },
    {
     "data": {
      "text/html": [
       "<pre style=\"white-space:pre;overflow-x:auto;line-height:normal;font-family:Menlo,'DejaVu Sans Mono',consolas,'Courier New',monospace\">0\n",
       "</pre>\n"
      ],
      "text/plain": [
       "0\n"
      ]
     },
     "metadata": {},
     "output_type": "display_data"
    },
    {
     "data": {
      "text/html": [
       "<pre style=\"white-space:pre;overflow-x:auto;line-height:normal;font-family:Menlo,'DejaVu Sans Mono',consolas,'Courier New',monospace\">Start:  3243   DYJets\n",
       "</pre>\n"
      ],
      "text/plain": [
       "Start:  3243   DYJets\n"
      ]
     },
     "metadata": {},
     "output_type": "display_data"
    },
    {
     "data": {
      "text/html": [
       "<pre style=\"white-space:pre;overflow-x:auto;line-height:normal;font-family:Menlo,'DejaVu Sans Mono',consolas,'Courier New',monospace\">Extra Ele Veto:  3050\n",
       "</pre>\n"
      ],
      "text/plain": [
       "Extra Ele Veto:  3050\n"
      ]
     },
     "metadata": {},
     "output_type": "display_data"
    },
    {
     "data": {
      "text/html": [
       "<pre style=\"white-space:pre;overflow-x:auto;line-height:normal;font-family:Menlo,'DejaVu Sans Mono',consolas,'Courier New',monospace\">Extra Mu Veto:  910\n",
       "</pre>\n"
      ],
      "text/plain": [
       "Extra Mu Veto:  910\n"
      ]
     },
     "metadata": {},
     "output_type": "display_data"
    },
    {
     "data": {
      "text/html": [
       "<pre style=\"white-space:pre;overflow-x:auto;line-height:normal;font-family:Menlo,'DejaVu Sans Mono',consolas,'Courier New',monospace\">BJet Veto:  823\n",
       "</pre>\n"
      ],
      "text/plain": [
       "BJet Veto:  823\n"
      ]
     },
     "metadata": {},
     "output_type": "display_data"
    },
    {
     "data": {
      "text/html": [
       "<pre style=\"white-space:pre;overflow-x:auto;line-height:normal;font-family:Menlo,'DejaVu Sans Mono',consolas,'Courier New',monospace\">Pairs:  1728  Vector:  1728\n",
       "</pre>\n"
      ],
      "text/plain": [
       "Pairs:  1728  Vector:  1728\n"
      ]
     },
     "metadata": {},
     "output_type": "display_data"
    },
    {
     "data": {
      "text/html": [
       "<pre style=\"white-space:pre;overflow-x:auto;line-height:normal;font-family:Menlo,'DejaVu Sans Mono',consolas,'Courier New',monospace\">[[True, True, True, True, True, True, True, ... True, True, True], [True, True]]\n",
       "</pre>\n"
      ],
      "text/plain": [
       "[[True, True, True, True, True, True, True, ... True, True, True], [True, True]]\n"
      ]
     },
     "metadata": {},
     "output_type": "display_data"
    },
    {
     "data": {
      "text/html": [
       "<pre style=\"white-space:pre;overflow-x:auto;line-height:normal;font-family:Menlo,'DejaVu Sans Mono',consolas,'Courier New',monospace\">Postcut: Pairs:  10  Vector:  10\n",
       "</pre>\n"
      ],
      "text/plain": [
       "Postcut: Pairs:  10  Vector:  10\n"
      ]
     },
     "metadata": {},
     "output_type": "display_data"
    },
    {
     "data": {
      "text/html": [
       "<pre style=\"white-space:pre;overflow-x:auto;line-height:normal;font-family:Menlo,'DejaVu Sans Mono',consolas,'Courier New',monospace\">[[], [], [], [], [], [], [], [], [], [], ... [], [], [], [], [], [], [], [], [], []]\n",
       "</pre>\n"
      ],
      "text/plain": [
       "[[], [], [], [], [], [], [], [], [], [], ... [], [], [], [], [], [], [], [], [], []]\n"
      ]
     },
     "metadata": {},
     "output_type": "display_data"
    },
    {
     "data": {
      "text/html": [
       "<pre style=\"white-space:pre;overflow-x:auto;line-height:normal;font-family:Menlo,'DejaVu Sans Mono',consolas,'Courier New',monospace\">[[], [], [], [], [], [], [], [], [], [], ... [], [], [], [], [], [], [], [], [], []]\n",
       "</pre>\n"
      ],
      "text/plain": [
       "[[], [], [], [], [], [], [], [], [], [], ... [], [], [], [], [], [], [], [], [], []]\n"
      ]
     },
     "metadata": {},
     "output_type": "display_data"
    },
    {
     "data": {
      "text/html": [
       "<pre style=\"white-space:pre;overflow-x:auto;line-height:normal;font-family:Menlo,'DejaVu Sans Mono',consolas,'Courier New',monospace\">Start:  3131   DYJets\n",
       "</pre>\n"
      ],
      "text/plain": [
       "Start:  3131   DYJets\n"
      ]
     },
     "metadata": {},
     "output_type": "display_data"
    },
    {
     "data": {
      "text/html": [
       "<pre style=\"white-space:pre;overflow-x:auto;line-height:normal;font-family:Menlo,'DejaVu Sans Mono',consolas,'Courier New',monospace\">Extra Ele Veto:  2946\n",
       "</pre>\n"
      ],
      "text/plain": [
       "Extra Ele Veto:  2946\n"
      ]
     },
     "metadata": {},
     "output_type": "display_data"
    },
    {
     "data": {
      "text/html": [
       "<pre style=\"white-space:pre;overflow-x:auto;line-height:normal;font-family:Menlo,'DejaVu Sans Mono',consolas,'Courier New',monospace\">Extra Mu Veto:  958\n",
       "</pre>\n"
      ],
      "text/plain": [
       "Extra Mu Veto:  958\n"
      ]
     },
     "metadata": {},
     "output_type": "display_data"
    },
    {
     "data": {
      "text/html": [
       "<pre style=\"white-space:pre;overflow-x:auto;line-height:normal;font-family:Menlo,'DejaVu Sans Mono',consolas,'Courier New',monospace\">BJet Veto:  858\n",
       "</pre>\n"
      ],
      "text/plain": [
       "BJet Veto:  858\n"
      ]
     },
     "metadata": {},
     "output_type": "display_data"
    },
    {
     "data": {
      "text/html": [
       "<pre style=\"white-space:pre;overflow-x:auto;line-height:normal;font-family:Menlo,'DejaVu Sans Mono',consolas,'Courier New',monospace\">Pairs:  1777  Vector:  1777\n",
       "</pre>\n"
      ],
      "text/plain": [
       "Pairs:  1777  Vector:  1777\n"
      ]
     },
     "metadata": {},
     "output_type": "display_data"
    },
    {
     "data": {
      "text/html": [
       "<pre style=\"white-space:pre;overflow-x:auto;line-height:normal;font-family:Menlo,'DejaVu Sans Mono',consolas,'Courier New',monospace\">[[], [], [], [False, False, True, ... True, True, True, False, False], [True, True]]\n",
       "</pre>\n"
      ],
      "text/plain": [
       "[[], [], [], [False, False, True, ... True, True, True, False, False], [True, True]]\n"
      ]
     },
     "metadata": {},
     "output_type": "display_data"
    },
    {
     "data": {
      "text/html": [
       "<pre style=\"white-space:pre;overflow-x:auto;line-height:normal;font-family:Menlo,'DejaVu Sans Mono',consolas,'Courier New',monospace\">0\n",
       "</pre>\n"
      ],
      "text/plain": [
       "0\n"
      ]
     },
     "metadata": {},
     "output_type": "display_data"
    },
    {
     "data": {
      "text/html": [
       "<pre style=\"white-space:pre;overflow-x:auto;line-height:normal;font-family:Menlo,'DejaVu Sans Mono',consolas,'Courier New',monospace\">Start:  3055   DYJets\n",
       "</pre>\n"
      ],
      "text/plain": [
       "Start:  3055   DYJets\n"
      ]
     },
     "metadata": {},
     "output_type": "display_data"
    },
    {
     "data": {
      "text/html": [
       "<pre style=\"white-space:pre;overflow-x:auto;line-height:normal;font-family:Menlo,'DejaVu Sans Mono',consolas,'Courier New',monospace\">Extra Ele Veto:  2865\n",
       "</pre>\n"
      ],
      "text/plain": [
       "Extra Ele Veto:  2865\n"
      ]
     },
     "metadata": {},
     "output_type": "display_data"
    },
    {
     "data": {
      "text/html": [
       "<pre style=\"white-space:pre;overflow-x:auto;line-height:normal;font-family:Menlo,'DejaVu Sans Mono',consolas,'Courier New',monospace\">Extra Mu Veto:  820\n",
       "</pre>\n"
      ],
      "text/plain": [
       "Extra Mu Veto:  820\n"
      ]
     },
     "metadata": {},
     "output_type": "display_data"
    },
    {
     "data": {
      "text/html": [
       "<pre style=\"white-space:pre;overflow-x:auto;line-height:normal;font-family:Menlo,'DejaVu Sans Mono',consolas,'Courier New',monospace\">BJet Veto:  696\n",
       "</pre>\n"
      ],
      "text/plain": [
       "BJet Veto:  696\n"
      ]
     },
     "metadata": {},
     "output_type": "display_data"
    },
    {
     "data": {
      "text/html": [
       "<pre style=\"white-space:pre;overflow-x:auto;line-height:normal;font-family:Menlo,'DejaVu Sans Mono',consolas,'Courier New',monospace\">Pairs:  1425  Vector:  1425\n",
       "</pre>\n"
      ],
      "text/plain": [
       "Pairs:  1425  Vector:  1425\n"
      ]
     },
     "metadata": {},
     "output_type": "display_data"
    },
    {
     "data": {
      "text/html": [
       "<pre style=\"white-space:pre;overflow-x:auto;line-height:normal;font-family:Menlo,'DejaVu Sans Mono',consolas,'Courier New',monospace\">[[], [], [True, False], [], ... True, True], [True, True, True, True, True, True]]\n",
       "</pre>\n"
      ],
      "text/plain": [
       "[[], [], [True, False], [], ... True, True], [True, True, True, True, True, True]]\n"
      ]
     },
     "metadata": {},
     "output_type": "display_data"
    },
    {
     "data": {
      "text/html": [
       "<pre style=\"white-space:pre;overflow-x:auto;line-height:normal;font-family:Menlo,'DejaVu Sans Mono',consolas,'Courier New',monospace\">0\n",
       "</pre>\n"
      ],
      "text/plain": [
       "0\n"
      ]
     },
     "metadata": {},
     "output_type": "display_data"
    },
    {
     "data": {
      "text/html": [
       "<pre style=\"white-space:pre;overflow-x:auto;line-height:normal;font-family:Menlo,'DejaVu Sans Mono',consolas,'Courier New',monospace\">Start:  3184   DYJets\n",
       "</pre>\n"
      ],
      "text/plain": [
       "Start:  3184   DYJets\n"
      ]
     },
     "metadata": {},
     "output_type": "display_data"
    },
    {
     "data": {
      "text/html": [
       "<pre style=\"white-space:pre;overflow-x:auto;line-height:normal;font-family:Menlo,'DejaVu Sans Mono',consolas,'Courier New',monospace\">Extra Ele Veto:  2961\n",
       "</pre>\n"
      ],
      "text/plain": [
       "Extra Ele Veto:  2961\n"
      ]
     },
     "metadata": {},
     "output_type": "display_data"
    },
    {
     "data": {
      "text/html": [
       "<pre style=\"white-space:pre;overflow-x:auto;line-height:normal;font-family:Menlo,'DejaVu Sans Mono',consolas,'Courier New',monospace\">Extra Mu Veto:  861\n",
       "</pre>\n"
      ],
      "text/plain": [
       "Extra Mu Veto:  861\n"
      ]
     },
     "metadata": {},
     "output_type": "display_data"
    },
    {
     "data": {
      "text/html": [
       "<pre style=\"white-space:pre;overflow-x:auto;line-height:normal;font-family:Menlo,'DejaVu Sans Mono',consolas,'Courier New',monospace\">BJet Veto:  747\n",
       "</pre>\n"
      ],
      "text/plain": [
       "BJet Veto:  747\n"
      ]
     },
     "metadata": {},
     "output_type": "display_data"
    },
    {
     "data": {
      "text/html": [
       "<pre style=\"white-space:pre;overflow-x:auto;line-height:normal;font-family:Menlo,'DejaVu Sans Mono',consolas,'Courier New',monospace\">Pairs:  1610  Vector:  1610\n",
       "</pre>\n"
      ],
      "text/plain": [
       "Pairs:  1610  Vector:  1610\n"
      ]
     },
     "metadata": {},
     "output_type": "display_data"
    },
    {
     "data": {
      "text/html": [
       "<pre style=\"white-space:pre;overflow-x:auto;line-height:normal;font-family:Menlo,'DejaVu Sans Mono',consolas,'Courier New',monospace\">[[], [False, False, False, False], [True, True, True, ... [False], [], [], [True]]\n",
       "</pre>\n"
      ],
      "text/plain": [
       "[[], [False, False, False, False], [True, True, True, ... [False], [], [], [True]]\n"
      ]
     },
     "metadata": {},
     "output_type": "display_data"
    },
    {
     "data": {
      "text/html": [
       "<pre style=\"white-space:pre;overflow-x:auto;line-height:normal;font-family:Menlo,'DejaVu Sans Mono',consolas,'Courier New',monospace\">0\n",
       "</pre>\n"
      ],
      "text/plain": [
       "0\n"
      ]
     },
     "metadata": {},
     "output_type": "display_data"
    },
    {
     "data": {
      "text/html": [
       "<pre style=\"white-space:pre;overflow-x:auto;line-height:normal;font-family:Menlo,'DejaVu Sans Mono',consolas,'Courier New',monospace\">Start:  3107   DYJets\n",
       "</pre>\n"
      ],
      "text/plain": [
       "Start:  3107   DYJets\n"
      ]
     },
     "metadata": {},
     "output_type": "display_data"
    },
    {
     "data": {
      "text/html": [
       "<pre style=\"white-space:pre;overflow-x:auto;line-height:normal;font-family:Menlo,'DejaVu Sans Mono',consolas,'Courier New',monospace\">Extra Ele Veto:  2893\n",
       "</pre>\n"
      ],
      "text/plain": [
       "Extra Ele Veto:  2893\n"
      ]
     },
     "metadata": {},
     "output_type": "display_data"
    },
    {
     "data": {
      "text/html": [
       "<pre style=\"white-space:pre;overflow-x:auto;line-height:normal;font-family:Menlo,'DejaVu Sans Mono',consolas,'Courier New',monospace\">Extra Mu Veto:  834\n",
       "</pre>\n"
      ],
      "text/plain": [
       "Extra Mu Veto:  834\n"
      ]
     },
     "metadata": {},
     "output_type": "display_data"
    },
    {
     "data": {
      "text/html": [
       "<pre style=\"white-space:pre;overflow-x:auto;line-height:normal;font-family:Menlo,'DejaVu Sans Mono',consolas,'Courier New',monospace\">BJet Veto:  743\n",
       "</pre>\n"
      ],
      "text/plain": [
       "BJet Veto:  743\n"
      ]
     },
     "metadata": {},
     "output_type": "display_data"
    },
    {
     "data": {
      "text/html": [
       "<pre style=\"white-space:pre;overflow-x:auto;line-height:normal;font-family:Menlo,'DejaVu Sans Mono',consolas,'Courier New',monospace\">Pairs:  1586  Vector:  1586\n",
       "</pre>\n"
      ],
      "text/plain": [
       "Pairs:  1586  Vector:  1586\n"
      ]
     },
     "metadata": {},
     "output_type": "display_data"
    },
    {
     "data": {
      "text/html": [
       "<pre style=\"white-space:pre;overflow-x:auto;line-height:normal;font-family:Menlo,'DejaVu Sans Mono',consolas,'Courier New',monospace\">[[], [False, False], [], [], [], [], ... False, False], [], [True, True], [], []]\n",
       "</pre>\n"
      ],
      "text/plain": [
       "[[], [False, False], [], [], [], [], ... False, False], [], [True, True], [], []]\n"
      ]
     },
     "metadata": {},
     "output_type": "display_data"
    },
    {
     "data": {
      "text/html": [
       "<pre style=\"white-space:pre;overflow-x:auto;line-height:normal;font-family:Menlo,'DejaVu Sans Mono',consolas,'Courier New',monospace\">0\n",
       "</pre>\n"
      ],
      "text/plain": [
       "0\n"
      ]
     },
     "metadata": {},
     "output_type": "display_data"
    },
    {
     "data": {
      "text/html": [
       "<pre style=\"white-space:pre;overflow-x:auto;line-height:normal;font-family:Menlo,'DejaVu Sans Mono',consolas,'Courier New',monospace\">Start:  3101   DYJets\n",
       "</pre>\n"
      ],
      "text/plain": [
       "Start:  3101   DYJets\n"
      ]
     },
     "metadata": {},
     "output_type": "display_data"
    },
    {
     "data": {
      "text/html": [
       "<pre style=\"white-space:pre;overflow-x:auto;line-height:normal;font-family:Menlo,'DejaVu Sans Mono',consolas,'Courier New',monospace\">Extra Ele Veto:  2917\n",
       "</pre>\n"
      ],
      "text/plain": [
       "Extra Ele Veto:  2917\n"
      ]
     },
     "metadata": {},
     "output_type": "display_data"
    },
    {
     "data": {
      "text/html": [
       "<pre style=\"white-space:pre;overflow-x:auto;line-height:normal;font-family:Menlo,'DejaVu Sans Mono',consolas,'Courier New',monospace\">Extra Mu Veto:  883\n",
       "</pre>\n"
      ],
      "text/plain": [
       "Extra Mu Veto:  883\n"
      ]
     },
     "metadata": {},
     "output_type": "display_data"
    },
    {
     "data": {
      "text/html": [
       "<pre style=\"white-space:pre;overflow-x:auto;line-height:normal;font-family:Menlo,'DejaVu Sans Mono',consolas,'Courier New',monospace\">BJet Veto:  765\n",
       "</pre>\n"
      ],
      "text/plain": [
       "BJet Veto:  765\n"
      ]
     },
     "metadata": {},
     "output_type": "display_data"
    },
    {
     "data": {
      "text/html": [
       "<pre style=\"white-space:pre;overflow-x:auto;line-height:normal;font-family:Menlo,'DejaVu Sans Mono',consolas,'Courier New',monospace\">Pairs:  1626  Vector:  1626\n",
       "</pre>\n"
      ],
      "text/plain": [
       "Pairs:  1626  Vector:  1626\n"
      ]
     },
     "metadata": {},
     "output_type": "display_data"
    },
    {
     "data": {
      "text/html": [
       "<pre style=\"white-space:pre;overflow-x:auto;line-height:normal;font-family:Menlo,'DejaVu Sans Mono',consolas,'Courier New',monospace\">[[], [], [True, False], [], [], ... [], [True, True, True, True, False, False], []]\n",
       "</pre>\n"
      ],
      "text/plain": [
       "[[], [], [True, False], [], [], ... [], [True, True, True, True, False, False], []]\n"
      ]
     },
     "metadata": {},
     "output_type": "display_data"
    },
    {
     "data": {
      "text/html": [
       "<pre style=\"white-space:pre;overflow-x:auto;line-height:normal;font-family:Menlo,'DejaVu Sans Mono',consolas,'Courier New',monospace\">0\n",
       "</pre>\n"
      ],
      "text/plain": [
       "0\n"
      ]
     },
     "metadata": {},
     "output_type": "display_data"
    },
    {
     "data": {
      "text/html": [
       "<pre style=\"white-space:pre;overflow-x:auto;line-height:normal;font-family:Menlo,'DejaVu Sans Mono',consolas,'Courier New',monospace\">Start:  3083   DYJets\n",
       "</pre>\n"
      ],
      "text/plain": [
       "Start:  3083   DYJets\n"
      ]
     },
     "metadata": {},
     "output_type": "display_data"
    },
    {
     "data": {
      "text/html": [
       "<pre style=\"white-space:pre;overflow-x:auto;line-height:normal;font-family:Menlo,'DejaVu Sans Mono',consolas,'Courier New',monospace\">Extra Ele Veto:  2920\n",
       "</pre>\n"
      ],
      "text/plain": [
       "Extra Ele Veto:  2920\n"
      ]
     },
     "metadata": {},
     "output_type": "display_data"
    },
    {
     "data": {
      "text/html": [
       "<pre style=\"white-space:pre;overflow-x:auto;line-height:normal;font-family:Menlo,'DejaVu Sans Mono',consolas,'Courier New',monospace\">Extra Mu Veto:  822\n",
       "</pre>\n"
      ],
      "text/plain": [
       "Extra Mu Veto:  822\n"
      ]
     },
     "metadata": {},
     "output_type": "display_data"
    },
    {
     "data": {
      "text/html": [
       "<pre style=\"white-space:pre;overflow-x:auto;line-height:normal;font-family:Menlo,'DejaVu Sans Mono',consolas,'Courier New',monospace\">BJet Veto:  714\n",
       "</pre>\n"
      ],
      "text/plain": [
       "BJet Veto:  714\n"
      ]
     },
     "metadata": {},
     "output_type": "display_data"
    },
    {
     "data": {
      "text/html": [
       "<pre style=\"white-space:pre;overflow-x:auto;line-height:normal;font-family:Menlo,'DejaVu Sans Mono',consolas,'Courier New',monospace\">Pairs:  1548  Vector:  1548\n",
       "</pre>\n"
      ],
      "text/plain": [
       "Pairs:  1548  Vector:  1548\n"
      ]
     },
     "metadata": {},
     "output_type": "display_data"
    },
    {
     "data": {
      "text/html": [
       "<pre style=\"white-space:pre;overflow-x:auto;line-height:normal;font-family:Menlo,'DejaVu Sans Mono',consolas,'Courier New',monospace\">[[], [], [], [True], [], ... True, True, True, True, True], [], [False, False]]\n",
       "</pre>\n"
      ],
      "text/plain": [
       "[[], [], [], [True], [], ... True, True, True, True, True], [], [False, False]]\n"
      ]
     },
     "metadata": {},
     "output_type": "display_data"
    },
    {
     "data": {
      "text/html": [
       "<pre style=\"white-space:pre;overflow-x:auto;line-height:normal;font-family:Menlo,'DejaVu Sans Mono',consolas,'Courier New',monospace\">0\n",
       "</pre>\n"
      ],
      "text/plain": [
       "0\n"
      ]
     },
     "metadata": {},
     "output_type": "display_data"
    },
    {
     "data": {
      "text/html": [
       "<pre style=\"white-space:pre;overflow-x:auto;line-height:normal;font-family:Menlo,'DejaVu Sans Mono',consolas,'Courier New',monospace\">Start:  3036   DYJets\n",
       "</pre>\n"
      ],
      "text/plain": [
       "Start:  3036   DYJets\n"
      ]
     },
     "metadata": {},
     "output_type": "display_data"
    },
    {
     "data": {
      "text/html": [
       "<pre style=\"white-space:pre;overflow-x:auto;line-height:normal;font-family:Menlo,'DejaVu Sans Mono',consolas,'Courier New',monospace\">Extra Ele Veto:  2838\n",
       "</pre>\n"
      ],
      "text/plain": [
       "Extra Ele Veto:  2838\n"
      ]
     },
     "metadata": {},
     "output_type": "display_data"
    },
    {
     "data": {
      "text/html": [
       "<pre style=\"white-space:pre;overflow-x:auto;line-height:normal;font-family:Menlo,'DejaVu Sans Mono',consolas,'Courier New',monospace\">Extra Mu Veto:  851\n",
       "</pre>\n"
      ],
      "text/plain": [
       "Extra Mu Veto:  851\n"
      ]
     },
     "metadata": {},
     "output_type": "display_data"
    },
    {
     "data": {
      "text/html": [
       "<pre style=\"white-space:pre;overflow-x:auto;line-height:normal;font-family:Menlo,'DejaVu Sans Mono',consolas,'Courier New',monospace\">BJet Veto:  755\n",
       "</pre>\n"
      ],
      "text/plain": [
       "BJet Veto:  755\n"
      ]
     },
     "metadata": {},
     "output_type": "display_data"
    },
    {
     "data": {
      "text/html": [
       "<pre style=\"white-space:pre;overflow-x:auto;line-height:normal;font-family:Menlo,'DejaVu Sans Mono',consolas,'Courier New',monospace\">Pairs:  1581  Vector:  1581\n",
       "</pre>\n"
      ],
      "text/plain": [
       "Pairs:  1581  Vector:  1581\n"
      ]
     },
     "metadata": {},
     "output_type": "display_data"
    },
    {
     "data": {
      "text/html": [
       "<pre style=\"white-space:pre;overflow-x:auto;line-height:normal;font-family:Menlo,'DejaVu Sans Mono',consolas,'Courier New',monospace\">[[True, True, False, False], [], [True, True, ... [], [], [], [False, False]]\n",
       "</pre>\n"
      ],
      "text/plain": [
       "[[True, True, False, False], [], [True, True, ... [], [], [], [False, False]]\n"
      ]
     },
     "metadata": {},
     "output_type": "display_data"
    },
    {
     "data": {
      "text/html": [
       "<pre style=\"white-space:pre;overflow-x:auto;line-height:normal;font-family:Menlo,'DejaVu Sans Mono',consolas,'Courier New',monospace\">Postcut: Pairs:  5  Vector:  5\n",
       "</pre>\n"
      ],
      "text/plain": [
       "Postcut: Pairs:  5  Vector:  5\n"
      ]
     },
     "metadata": {},
     "output_type": "display_data"
    },
    {
     "data": {
      "text/html": [
       "<pre style=\"white-space:pre;overflow-x:auto;line-height:normal;font-family:Menlo,'DejaVu Sans Mono',consolas,'Courier New',monospace\">[[], [], [], [], [], [], [], [], [], [], ... [], [], [], [], [], [], [], [], [], []]\n",
       "</pre>\n"
      ],
      "text/plain": [
       "[[], [], [], [], [], [], [], [], [], [], ... [], [], [], [], [], [], [], [], [], []]\n"
      ]
     },
     "metadata": {},
     "output_type": "display_data"
    },
    {
     "data": {
      "text/html": [
       "<pre style=\"white-space:pre;overflow-x:auto;line-height:normal;font-family:Menlo,'DejaVu Sans Mono',consolas,'Courier New',monospace\">[[], [], [], [], [], [], [], [], [], [], ... [], [], [], [], [], [], [], [], [], []]\n",
       "</pre>\n"
      ],
      "text/plain": [
       "[[], [], [], [], [], [], [], [], [], [], ... [], [], [], [], [], [], [], [], [], []]\n"
      ]
     },
     "metadata": {},
     "output_type": "display_data"
    },
    {
     "data": {
      "text/html": [
       "<pre style=\"white-space:pre;overflow-x:auto;line-height:normal;font-family:Menlo,'DejaVu Sans Mono',consolas,'Courier New',monospace\">Start:  3103   DYJets\n",
       "</pre>\n"
      ],
      "text/plain": [
       "Start:  3103   DYJets\n"
      ]
     },
     "metadata": {},
     "output_type": "display_data"
    },
    {
     "data": {
      "text/html": [
       "<pre style=\"white-space:pre;overflow-x:auto;line-height:normal;font-family:Menlo,'DejaVu Sans Mono',consolas,'Courier New',monospace\">Extra Ele Veto:  2901\n",
       "</pre>\n"
      ],
      "text/plain": [
       "Extra Ele Veto:  2901\n"
      ]
     },
     "metadata": {},
     "output_type": "display_data"
    },
    {
     "data": {
      "text/html": [
       "<pre style=\"white-space:pre;overflow-x:auto;line-height:normal;font-family:Menlo,'DejaVu Sans Mono',consolas,'Courier New',monospace\">Extra Mu Veto:  906\n",
       "</pre>\n"
      ],
      "text/plain": [
       "Extra Mu Veto:  906\n"
      ]
     },
     "metadata": {},
     "output_type": "display_data"
    },
    {
     "data": {
      "text/html": [
       "<pre style=\"white-space:pre;overflow-x:auto;line-height:normal;font-family:Menlo,'DejaVu Sans Mono',consolas,'Courier New',monospace\">BJet Veto:  812\n",
       "</pre>\n"
      ],
      "text/plain": [
       "BJet Veto:  812\n"
      ]
     },
     "metadata": {},
     "output_type": "display_data"
    },
    {
     "data": {
      "text/html": [
       "<pre style=\"white-space:pre;overflow-x:auto;line-height:normal;font-family:Menlo,'DejaVu Sans Mono',consolas,'Courier New',monospace\">Pairs:  1716  Vector:  1716\n",
       "</pre>\n"
      ],
      "text/plain": [
       "Pairs:  1716  Vector:  1716\n"
      ]
     },
     "metadata": {},
     "output_type": "display_data"
    },
    {
     "data": {
      "text/html": [
       "<pre style=\"white-space:pre;overflow-x:auto;line-height:normal;font-family:Menlo,'DejaVu Sans Mono',consolas,'Courier New',monospace\">[[], [], [True, True], [True, True, ... True], [False], [True, True, False, False]]\n",
       "</pre>\n"
      ],
      "text/plain": [
       "[[], [], [True, True], [True, True, ... True], [False], [True, True, False, False]]\n"
      ]
     },
     "metadata": {},
     "output_type": "display_data"
    },
    {
     "data": {
      "text/html": [
       "<pre style=\"white-space:pre;overflow-x:auto;line-height:normal;font-family:Menlo,'DejaVu Sans Mono',consolas,'Courier New',monospace\">0\n",
       "</pre>\n"
      ],
      "text/plain": [
       "0\n"
      ]
     },
     "metadata": {},
     "output_type": "display_data"
    },
    {
     "data": {
      "text/html": [
       "<pre style=\"white-space:pre;overflow-x:auto;line-height:normal;font-family:Menlo,'DejaVu Sans Mono',consolas,'Courier New',monospace\">Start:  3070   DYJets\n",
       "</pre>\n"
      ],
      "text/plain": [
       "Start:  3070   DYJets\n"
      ]
     },
     "metadata": {},
     "output_type": "display_data"
    },
    {
     "data": {
      "text/html": [
       "<pre style=\"white-space:pre;overflow-x:auto;line-height:normal;font-family:Menlo,'DejaVu Sans Mono',consolas,'Courier New',monospace\">Extra Ele Veto:  2856\n",
       "</pre>\n"
      ],
      "text/plain": [
       "Extra Ele Veto:  2856\n"
      ]
     },
     "metadata": {},
     "output_type": "display_data"
    },
    {
     "data": {
      "text/html": [
       "<pre style=\"white-space:pre;overflow-x:auto;line-height:normal;font-family:Menlo,'DejaVu Sans Mono',consolas,'Courier New',monospace\">Extra Mu Veto:  812\n",
       "</pre>\n"
      ],
      "text/plain": [
       "Extra Mu Veto:  812\n"
      ]
     },
     "metadata": {},
     "output_type": "display_data"
    },
    {
     "data": {
      "text/html": [
       "<pre style=\"white-space:pre;overflow-x:auto;line-height:normal;font-family:Menlo,'DejaVu Sans Mono',consolas,'Courier New',monospace\">BJet Veto:  731\n",
       "</pre>\n"
      ],
      "text/plain": [
       "BJet Veto:  731\n"
      ]
     },
     "metadata": {},
     "output_type": "display_data"
    },
    {
     "data": {
      "text/html": [
       "<pre style=\"white-space:pre;overflow-x:auto;line-height:normal;font-family:Menlo,'DejaVu Sans Mono',consolas,'Courier New',monospace\">Pairs:  1498  Vector:  1498\n",
       "</pre>\n"
      ],
      "text/plain": [
       "Pairs:  1498  Vector:  1498\n"
      ]
     },
     "metadata": {},
     "output_type": "display_data"
    },
    {
     "data": {
      "text/html": [
       "<pre style=\"white-space:pre;overflow-x:auto;line-height:normal;font-family:Menlo,'DejaVu Sans Mono',consolas,'Courier New',monospace\">[[], [], [], [True, True, True, True, True, ... True, True], [False, False], [], []]\n",
       "</pre>\n"
      ],
      "text/plain": [
       "[[], [], [], [True, True, True, True, True, ... True, True], [False, False], [], []]\n"
      ]
     },
     "metadata": {},
     "output_type": "display_data"
    },
    {
     "data": {
      "text/html": [
       "<pre style=\"white-space:pre;overflow-x:auto;line-height:normal;font-family:Menlo,'DejaVu Sans Mono',consolas,'Courier New',monospace\">0\n",
       "</pre>\n"
      ],
      "text/plain": [
       "0\n"
      ]
     },
     "metadata": {},
     "output_type": "display_data"
    },
    {
     "data": {
      "text/html": [
       "<pre style=\"white-space:pre;overflow-x:auto;line-height:normal;font-family:Menlo,'DejaVu Sans Mono',consolas,'Courier New',monospace\">Start:  3214   DYJets\n",
       "</pre>\n"
      ],
      "text/plain": [
       "Start:  3214   DYJets\n"
      ]
     },
     "metadata": {},
     "output_type": "display_data"
    },
    {
     "data": {
      "text/html": [
       "<pre style=\"white-space:pre;overflow-x:auto;line-height:normal;font-family:Menlo,'DejaVu Sans Mono',consolas,'Courier New',monospace\">Extra Ele Veto:  3015\n",
       "</pre>\n"
      ],
      "text/plain": [
       "Extra Ele Veto:  3015\n"
      ]
     },
     "metadata": {},
     "output_type": "display_data"
    },
    {
     "data": {
      "text/html": [
       "<pre style=\"white-space:pre;overflow-x:auto;line-height:normal;font-family:Menlo,'DejaVu Sans Mono',consolas,'Courier New',monospace\">Extra Mu Veto:  837\n",
       "</pre>\n"
      ],
      "text/plain": [
       "Extra Mu Veto:  837\n"
      ]
     },
     "metadata": {},
     "output_type": "display_data"
    },
    {
     "data": {
      "text/html": [
       "<pre style=\"white-space:pre;overflow-x:auto;line-height:normal;font-family:Menlo,'DejaVu Sans Mono',consolas,'Courier New',monospace\">BJet Veto:  748\n",
       "</pre>\n"
      ],
      "text/plain": [
       "BJet Veto:  748\n"
      ]
     },
     "metadata": {},
     "output_type": "display_data"
    },
    {
     "data": {
      "text/html": [
       "<pre style=\"white-space:pre;overflow-x:auto;line-height:normal;font-family:Menlo,'DejaVu Sans Mono',consolas,'Courier New',monospace\">Pairs:  1591  Vector:  1591\n",
       "</pre>\n"
      ],
      "text/plain": [
       "Pairs:  1591  Vector:  1591\n"
      ]
     },
     "metadata": {},
     "output_type": "display_data"
    },
    {
     "data": {
      "text/html": [
       "<pre style=\"white-space:pre;overflow-x:auto;line-height:normal;font-family:Menlo,'DejaVu Sans Mono',consolas,'Courier New',monospace\">[[], [False, False, True, True, False, False], ... [], [], [True, False, False]]\n",
       "</pre>\n"
      ],
      "text/plain": [
       "[[], [False, False, True, True, False, False], ... [], [], [True, False, False]]\n"
      ]
     },
     "metadata": {},
     "output_type": "display_data"
    },
    {
     "data": {
      "text/html": [
       "<pre style=\"white-space:pre;overflow-x:auto;line-height:normal;font-family:Menlo,'DejaVu Sans Mono',consolas,'Courier New',monospace\">0\n",
       "</pre>\n"
      ],
      "text/plain": [
       "0\n"
      ]
     },
     "metadata": {},
     "output_type": "display_data"
    },
    {
     "data": {
      "text/html": [
       "<pre style=\"white-space:pre;overflow-x:auto;line-height:normal;font-family:Menlo,'DejaVu Sans Mono',consolas,'Courier New',monospace\">Start:  4755   DYJets\n",
       "</pre>\n"
      ],
      "text/plain": [
       "Start:  4755   DYJets\n"
      ]
     },
     "metadata": {},
     "output_type": "display_data"
    },
    {
     "data": {
      "text/html": [
       "<pre style=\"white-space:pre;overflow-x:auto;line-height:normal;font-family:Menlo,'DejaVu Sans Mono',consolas,'Courier New',monospace\">Extra Ele Veto:  4468\n",
       "</pre>\n"
      ],
      "text/plain": [
       "Extra Ele Veto:  4468\n"
      ]
     },
     "metadata": {},
     "output_type": "display_data"
    },
    {
     "data": {
      "text/html": [
       "<pre style=\"white-space:pre;overflow-x:auto;line-height:normal;font-family:Menlo,'DejaVu Sans Mono',consolas,'Courier New',monospace\">Extra Mu Veto:  1263\n",
       "</pre>\n"
      ],
      "text/plain": [
       "Extra Mu Veto:  1263\n"
      ]
     },
     "metadata": {},
     "output_type": "display_data"
    },
    {
     "data": {
      "text/html": [
       "<pre style=\"white-space:pre;overflow-x:auto;line-height:normal;font-family:Menlo,'DejaVu Sans Mono',consolas,'Courier New',monospace\">BJet Veto:  1116\n",
       "</pre>\n"
      ],
      "text/plain": [
       "BJet Veto:  1116\n"
      ]
     },
     "metadata": {},
     "output_type": "display_data"
    },
    {
     "data": {
      "text/html": [
       "<pre style=\"white-space:pre;overflow-x:auto;line-height:normal;font-family:Menlo,'DejaVu Sans Mono',consolas,'Courier New',monospace\">Pairs:  2311  Vector:  2311\n",
       "</pre>\n"
      ],
      "text/plain": [
       "Pairs:  2311  Vector:  2311\n"
      ]
     },
     "metadata": {},
     "output_type": "display_data"
    },
    {
     "data": {
      "text/html": [
       "<pre style=\"white-space:pre;overflow-x:auto;line-height:normal;font-family:Menlo,'DejaVu Sans Mono',consolas,'Courier New',monospace\">[[True, True], [False, False, True, True], [], ... [], [], [], [], [True, True]]\n",
       "</pre>\n"
      ],
      "text/plain": [
       "[[True, True], [False, False, True, True], [], ... [], [], [], [], [True, True]]\n"
      ]
     },
     "metadata": {},
     "output_type": "display_data"
    },
    {
     "data": {
      "text/html": [
       "<pre style=\"white-space:pre;overflow-x:auto;line-height:normal;font-family:Menlo,'DejaVu Sans Mono',consolas,'Courier New',monospace\">Postcut: Pairs:  10  Vector:  10\n",
       "</pre>\n"
      ],
      "text/plain": [
       "Postcut: Pairs:  10  Vector:  10\n"
      ]
     },
     "metadata": {},
     "output_type": "display_data"
    },
    {
     "data": {
      "text/html": [
       "<pre style=\"white-space:pre;overflow-x:auto;line-height:normal;font-family:Menlo,'DejaVu Sans Mono',consolas,'Courier New',monospace\">[[], [], [], [], [], [], [], [], [], [], ... [], [], [], [], [], [], [], [], [], []]\n",
       "</pre>\n"
      ],
      "text/plain": [
       "[[], [], [], [], [], [], [], [], [], [], ... [], [], [], [], [], [], [], [], [], []]\n"
      ]
     },
     "metadata": {},
     "output_type": "display_data"
    },
    {
     "data": {
      "text/html": [
       "<pre style=\"white-space:pre;overflow-x:auto;line-height:normal;font-family:Menlo,'DejaVu Sans Mono',consolas,'Courier New',monospace\">[[], [], [], [], [], [], [], [], [], [], ... [], [], [], [], [], [], [], [], [], []]\n",
       "</pre>\n"
      ],
      "text/plain": [
       "[[], [], [], [], [], [], [], [], [], [], ... [], [], [], [], [], [], [], [], [], []]\n"
      ]
     },
     "metadata": {},
     "output_type": "display_data"
    },
    {
     "data": {
      "text/html": [
       "<pre style=\"white-space:pre;overflow-x:auto;line-height:normal;font-family:Menlo,'DejaVu Sans Mono',consolas,'Courier New',monospace\"></pre>\n"
      ],
      "text/plain": []
     },
     "metadata": {},
     "output_type": "display_data"
    },
    {
     "data": {
      "text/html": [
       "<pre style=\"white-space:pre;overflow-x:auto;line-height:normal;font-family:Menlo,'DejaVu Sans Mono',consolas,'Courier New',monospace\">\n",
       "</pre>\n"
      ],
      "text/plain": [
       "\n"
      ]
     },
     "metadata": {},
     "output_type": "display_data"
    }
   ],
   "source": [
    "print(\"Calling runner\")\n",
    "mt_results_local = runner(\n",
    "    mt_fileset,\n",
    "    treename=\"Events\",\n",
    "    processor_instance=MyProcessor(),\n",
    ")"
   ]
  },
  {
   "cell_type": "code",
   "execution_count": 25,
   "id": "719584d2-f5fc-46ed-a0e9-36d41af16627",
   "metadata": {},
   "outputs": [
    {
     "name": "stdout",
     "output_type": "stream",
     "text": [
      "Dataset: Data\n",
      "Event count: 100000\n",
      "Dataset: VV\n",
      "Event count: 242720\n",
      "Dataset: TT\n",
      "Event count: 380000\n",
      "Dataset: WJets\n",
      "Event count: 167920\n",
      "Dataset: DYJets\n",
      "Event count: 131375\n",
      "dict_items([('Data', {'mass': Hist(Regular(30, 0, 150, underflow=False, overflow=False, name='mass', label='Data'), storage=Double()) # Sum: 102.0, 'mass_w': Hist(Regular(30, 0, 150, underflow=False, overflow=False, name='mass', label='Data'), storage=Double()), 'ss_mass': Hist(Regular(30, 0, 150, underflow=False, overflow=False, name='mass', label='Data'), storage=Double()) # Sum: 2.0, 'ss_mass_w': Hist(Regular(30, 0, 150, underflow=False, overflow=False, name='mass', label='Data'), storage=Double()), 'EventCount': value_accumulator(int, 100000)}), ('VV', {'mass': Hist(Regular(30, 0, 150, underflow=False, overflow=False, name='mass', label='VV'), storage=Double()), 'mass_w': Hist(Regular(30, 0, 150, underflow=False, overflow=False, name='mass', label='VV'), storage=Double()), 'ss_mass': Hist(Regular(30, 0, 150, underflow=False, overflow=False, name='mass', label='VV'), storage=Double()), 'ss_mass_w': Hist(Regular(30, 0, 150, underflow=False, overflow=False, name='mass', label='VV'), storage=Double()), 'EventCount': value_accumulator(int, 242720)}), ('TT', {'mass': Hist(Regular(30, 0, 150, underflow=False, overflow=False, name='mass', label='TT'), storage=Double()), 'mass_w': Hist(Regular(30, 0, 150, underflow=False, overflow=False, name='mass', label='TT'), storage=Double()), 'ss_mass': Hist(Regular(30, 0, 150, underflow=False, overflow=False, name='mass', label='TT'), storage=Double()), 'ss_mass_w': Hist(Regular(30, 0, 150, underflow=False, overflow=False, name='mass', label='TT'), storage=Double()), 'EventCount': value_accumulator(int, 380000)}), ('WJets', {'mass': Hist(Regular(30, 0, 150, underflow=False, overflow=False, name='mass', label='WJets'), storage=Double()), 'mass_w': Hist(Regular(30, 0, 150, underflow=False, overflow=False, name='mass', label='WJets'), storage=Double()), 'ss_mass': Hist(Regular(30, 0, 150, underflow=False, overflow=False, name='mass', label='WJets'), storage=Double()), 'ss_mass_w': Hist(Regular(30, 0, 150, underflow=False, overflow=False, name='mass', label='WJets'), storage=Double()), 'EventCount': value_accumulator(int, 167920)}), ('DYJets', {'mass': Hist(Regular(30, 0, 150, underflow=False, overflow=False, name='mass', label='DYJets'), storage=Double()) # Sum: 804.7156167581102, 'mass_w': Hist(Regular(30, 0, 150, underflow=False, overflow=False, name='mass', label='DYJets'), storage=Double()), 'ss_mass': Hist(Regular(30, 0, 150, underflow=False, overflow=False, name='mass', label='DYJets'), storage=Double()), 'ss_mass_w': Hist(Regular(30, 0, 150, underflow=False, overflow=False, name='mass', label='DYJets'), storage=Double()), 'EventCount': value_accumulator(int, 131375)})])\n"
     ]
    }
   ],
   "source": [
    "for dset,results in mt_results_local.items():\n",
    "    print(f\"Dataset: {dset}\")\n",
    "    print(f\"Event count: {results['EventCount'].value}\")\n",
    "\n",
    "print(mt_results_local.items())\n"
   ]
  },
  {
   "cell_type": "code",
   "execution_count": 28,
   "id": "37e8b6f8-ab99-4374-aa6e-ae1bbb566089",
   "metadata": {},
   "outputs": [
    {
     "data": {
      "image/png": "[encoded data removed]",
      "text/plain": [
       "<Figure size 640x480 with 1 Axes>"
      ]
     },
     "metadata": {},
     "output_type": "display_data"
    }
   ],
   "source": [
    "mt_results_local[\"Data\"][\"mass\"].plot()\n",
    "mt_results_local[\"DYJets\"][\"mass\"].plot()\n",
    "#mt_results_local[\"WJets\"][\"mass\"].plot()\n",
    "#mt_results_local[\"TT\"][\"mass\"].plot()\n",
    "#mt_results_local[\"VV\"][\"mass\"].plot()\n",
    "\n",
    "Data_h, Data_bins = mt_results_local[\"Data\"][\"mass\"].to_numpy()"
   ]
  },
  {
   "cell_type": "code",
   "execution_count": 42,
   "id": "4d3e8246-450f-415b-aa7e-52436a6da5e0",
   "metadata": {},
   "outputs": [],
   "source": [
    "d = {}\n",
    "bins = np.linspace(0,150,30)\n",
    "\n",
    "QCDScaleFactor = 1.6996559936491136\n",
    "\n",
    "d[\"Data_h\"], d[\"Data_bins\"] = mt_results_local[\"Data\"][\"mass\"].to_numpy()\n",
    "d[\"Data_SS_h\"], d[\"Data_SS_bins\"] = mt_results_local[\"Data\"][\"ss_mass\"].to_numpy()\n",
    "labels1 = [\"DYJets\", \"WJets\", \"TT\", \"VV\"]\n",
    "for i in labels1:\n",
    "    d[i + \"_h\"], d[i + \"_bins\"] =  mt_results_local[i][\"mass\"].to_numpy()\n",
    "    d[i + \"_SS_h\"], d[i + \"_SS_bins\"] =  mt_results_local[i][\"ss_mass\"].to_numpy()\n",
    "\n",
    "d[\"QCD_h\"] = np.subtract(np.subtract(np.subtract(d[\"Data_SS_h\"], d[\"DYJets_SS_h\"], dtype=object, out=None), d[\"WJets_SS_h\"], dtype=object, out=None), d[\"TT_SS_h\"], dtype=object, out=None)\n",
    "for i in range(d[\"QCD_h\"].size):\n",
    "    if d[\"QCD_h\"][i] < 0.0:\n",
    "        d[\"QCD_h\"][i] = 0.0\n",
    "    d[\"QCD_w\"] = np.full(shape=d[\"QCD_h\"].shape, fill_value=QCDScaleFactor, dtype=np.double)\n",
    "    d[\"QCD_hist\"] = (d[\"QCD_h\"], d[\"Data_SS_bins\"])\n"
   ]
  },
  {
   "cell_type": "code",
   "execution_count": 43,
   "id": "20eb60c2-3930-4e25-a3f8-6f29b8e4cff7",
   "metadata": {},
   "outputs": [],
   "source": [
    "outFile = uproot.recreate(\"boostedHTT_mt_2018_local.input.root\")\n",
    "outFile[\"DYJets_met_1_13_TeV/data_obs\"] = mt_results_local[\"Data\"][\"mass\"].to_numpy()\n",
    "outFile[\"DYJets_met_1_13TeV/QCD\"] = d[\"QCD_hist\"]\n",
    "outFile[\"DYJets_met_1_13TeV/WJets\"] = mt_results_local[\"WJets\"][\"mass\"].to_numpy()\n",
    "outFile[\"DYJets_met_1_13TeV/DYJets125\"] = mt_results_local[\"DYJets\"][\"mass\"].to_numpy()\n",
    "outFile[\"DYJets_met_1_13TeV/TT\"] = mt_results_local[\"TT\"][\"mass\"].to_numpy()\n",
    "outFile[\"DYJets_met_1_13TeV/VV\"] = mt_results_local[\"VV\"][\"mass\"].to_numpy()\n"
   ]
  },
  {
   "cell_type": "code",
   "execution_count": 33,
   "id": "23a61205-5d58-4080-b0ad-cf255508fab4",
   "metadata": {},
   "outputs": [],
   "source": [
    "os.environ[\"CONDOR_CONFIG\"] = \"/etc/condor/condor_config\"\n",
    "\n",
    "try:\n",
    "    _x509_localpath = (\n",
    "        [\n",
    "            line\n",
    "            for line in os.popen(\"voms-proxy-info\").read().split(\"\\n\")\n",
    "            if line.startswith(\"path\")\n",
    "        ][0]\n",
    "        .split(\":\")[-1]\n",
    "        .strip()\n",
    "    )\n",
    "except Exception as err:\n",
    "    raise RuntimeError(\n",
    "        \"x509 proxy could not be parsed, try creating it with 'voms-proxy-init'\"\n",
    "    ) from err\n",
    "_x509_path = f'/scratch/{os.environ[\"USER\"]}/{_x509_localpath.split(\"/\")[-1]}'\n",
    "os.system(f\"cp {_x509_localpath} {_x509_path}\")\n",
    "_x509_path = os.path.basename(_x509_localpath)"
   ]
  },
  {
   "cell_type": "code",
   "execution_count": 16,
   "id": "cb2a482c-81c9-45d4-b288-71c1166d2a3d",
   "metadata": {},
   "outputs": [
    {
     "name": "stdout",
     "output_type": "stream",
     "text": [
      "Transferring contents of /afs/hep.wisc.edu/user/emettner/rootProjects/Radion-DiHiggs-4Tau/NanoRun to workers\n",
      "Condor logs, output files, error files in /scratch/emettner\n",
      "Executor created\n"
     ]
    },
    {
     "data": {
      "text/html": [
       "<div>\n",
       "    <div style=\"width: 24px; height: 24px; background-color: #e1e1e1; border: 3px solid #9D9D9D; border-radius: 5px; position: absolute;\"> </div>\n",
       "    <div style=\"margin-left: 48px;\">\n",
       "        <h3 style=\"margin-bottom: 0px;\">Client</h3>\n",
       "        <p style=\"color: #9D9D9D; margin-bottom: 0px;\">Client-1d62af69-1980-11ef-8036-3cecefda85c8</p>\n",
       "        <table style=\"width: 100%; text-align: left;\">\n",
       "\n",
       "        <tr>\n",
       "        \n",
       "            <td style=\"text-align: left;\"><strong>Connection method:</strong> Cluster object</td>\n",
       "            <td style=\"text-align: left;\"><strong>Cluster type:</strong> dask_jobqueue.HTCondorCluster</td>\n",
       "        \n",
       "        </tr>\n",
       "\n",
       "        \n",
       "            <tr>\n",
       "                <td style=\"text-align: left;\">\n",
       "                    <strong>Dashboard: </strong> <a href=\"proxy/8787/status\" target=\"_blank\">proxy/8787/status</a>\n",
       "                </td>\n",
       "                <td style=\"text-align: left;\"></td>\n",
       "            </tr>\n",
       "        \n",
       "\n",
       "        </table>\n",
       "\n",
       "        \n",
       "            <button style=\"margin-bottom: 12px;\" data-commandlinker-command=\"dask:populate-and-launch-layout\" data-commandlinker-args='{\"url\": \"proxy/8787/status\" }'>\n",
       "                Launch dashboard in JupyterLab\n",
       "            </button>\n",
       "        \n",
       "\n",
       "        \n",
       "            <details>\n",
       "            <summary style=\"margin-bottom: 20px;\"><h3 style=\"display: inline;\">Cluster Info</h3></summary>\n",
       "            <div class=\"jp-RenderedHTMLCommon jp-RenderedHTML jp-mod-trusted jp-OutputArea-output\">\n",
       "    <div style=\"width: 24px; height: 24px; background-color: #e1e1e1; border: 3px solid #9D9D9D; border-radius: 5px; position: absolute;\">\n",
       "    </div>\n",
       "    <div style=\"margin-left: 48px;\">\n",
       "        <h3 style=\"margin-bottom: 0px; margin-top: 0px;\">HTCondorCluster</h3>\n",
       "        <p style=\"color: #9D9D9D; margin-bottom: 0px;\">6c1bb0eb</p>\n",
       "        <table style=\"width: 100%; text-align: left;\">\n",
       "            <tr>\n",
       "                <td style=\"text-align: left;\">\n",
       "                    <strong>Dashboard:</strong> <a href=\"proxy/8787/status\" target=\"_blank\">proxy/8787/status</a>\n",
       "                </td>\n",
       "                <td style=\"text-align: left;\">\n",
       "                    <strong>Workers:</strong> 0\n",
       "                </td>\n",
       "            </tr>\n",
       "            <tr>\n",
       "                <td style=\"text-align: left;\">\n",
       "                    <strong>Total threads:</strong> 0\n",
       "                </td>\n",
       "                <td style=\"text-align: left;\">\n",
       "                    <strong>Total memory:</strong> 0 B\n",
       "                </td>\n",
       "            </tr>\n",
       "            \n",
       "        </table>\n",
       "\n",
       "        <details>\n",
       "            <summary style=\"margin-bottom: 20px;\">\n",
       "                <h3 style=\"display: inline;\">Scheduler Info</h3>\n",
       "            </summary>\n",
       "\n",
       "            <div style=\"\">\n",
       "    <div>\n",
       "        <div style=\"width: 24px; height: 24px; background-color: #FFF7E5; border: 3px solid #FF6132; border-radius: 5px; position: absolute;\"> </div>\n",
       "        <div style=\"margin-left: 48px;\">\n",
       "            <h3 style=\"margin-bottom: 0px;\">Scheduler</h3>\n",
       "            <p style=\"color: #9D9D9D; margin-bottom: 0px;\">Scheduler-b8dbad58-517f-4239-89fa-2e0edb426fe4</p>\n",
       "            <table style=\"width: 100%; text-align: left;\">\n",
       "                <tr>\n",
       "                    <td style=\"text-align: left;\">\n",
       "                        <strong>Comm:</strong> tcp://144.92.181.248:18677\n",
       "                    </td>\n",
       "                    <td style=\"text-align: left;\">\n",
       "                        <strong>Workers:</strong> 0\n",
       "                    </td>\n",
       "                </tr>\n",
       "                <tr>\n",
       "                    <td style=\"text-align: left;\">\n",
       "                        <strong>Dashboard:</strong> <a href=\"proxy/8787/status\" target=\"_blank\">proxy/8787/status</a>\n",
       "                    </td>\n",
       "                    <td style=\"text-align: left;\">\n",
       "                        <strong>Total threads:</strong> 0\n",
       "                    </td>\n",
       "                </tr>\n",
       "                <tr>\n",
       "                    <td style=\"text-align: left;\">\n",
       "                        <strong>Started:</strong> Just now\n",
       "                    </td>\n",
       "                    <td style=\"text-align: left;\">\n",
       "                        <strong>Total memory:</strong> 0 B\n",
       "                    </td>\n",
       "                </tr>\n",
       "            </table>\n",
       "        </div>\n",
       "    </div>\n",
       "\n",
       "    <details style=\"margin-left: 48px;\">\n",
       "        <summary style=\"margin-bottom: 20px;\">\n",
       "            <h3 style=\"display: inline;\">Workers</h3>\n",
       "        </summary>\n",
       "\n",
       "        \n",
       "\n",
       "    </details>\n",
       "</div>\n",
       "\n",
       "        </details>\n",
       "    </div>\n",
       "</div>\n",
       "            </details>\n",
       "        \n",
       "\n",
       "    </div>\n",
       "</div>"
      ],
      "text/plain": [
       "<Client: 'tcp://144.92.181.248:18677' processes=0 threads=0, memory=0 B>"
      ]
     },
     "execution_count": 16,
     "metadata": {},
     "output_type": "execute_result"
    }
   ],
   "source": [
    "PWD = os.getcwd()\n",
    "print(f'Transferring contents of {PWD} to workers')\n",
    "INITIAL_DIR = f'/scratch/{os.environ[\"USER\"]}'\n",
    "cluster = HTCondorCluster(\n",
    "    cores=1,\n",
    "    memory=\"4 GB\",\n",
    "    disk=\"2 GB\",\n",
    "    death_timeout = '60',\n",
    "    job_extra_directives={\n",
    "        \"+JobFlavour\": '\"tomorrow\"',\n",
    "        \"log\": \"dask_job_output.$(PROCESS).$(CLUSTER).log\",\n",
    "        \"output\": \"dask_job_output.$(PROCESS).$(CLUSTER).out\",\n",
    "        \"error\": \"dask_job_output.$(PROCESS).$(CLUSTER).err\",\n",
    "        \"should_transfer_files\": \"yes\",\n",
    "        \"when_to_transfer_output\": \"ON_EXIT_OR_EVICT\",\n",
    "        \"+SingularityImage\": '\"/cvmfs/unpacked.cern.ch/registry.hub.docker.com/coffeateam/coffea-dask:0.7.22-py3.10-g7cbcc\"',\n",
    "        \"Requirements\": \"HasSingularityJobStart\",\n",
    "        \"InitialDir\": INITIAL_DIR,\n",
    "        \"transfer_input_files\": f'{_x509_path}'\n",
    "    },\n",
    "    job_script_prologue=[\n",
    "        \"export XRD_RUNFORKHANDLER=1\",\n",
    "        f\"export X509_USER_PROXY={_x509_path}\",\n",
    "    ]\n",
    ")\n",
    "print('Condor logs, output files, error files in {}'.format(INITIAL_DIR))\n",
    "cluster.adapt(minimum=1, maximum=MAX_WORKERS)\n",
    "client = Client(cluster)\n",
    "dask_executor = processor.DaskExecutor(client=client, status=True)\n",
    "print(\"Executor created\")\n",
    "\n",
    "client"
   ]
  },
  {
   "cell_type": "code",
   "execution_count": 17,
   "id": "22aa22fe-382f-4ca9-8e4b-fb66b1c7a22e",
   "metadata": {},
   "outputs": [
    {
     "name": "stdout",
     "output_type": "stream",
     "text": [
      "Creating runner\n",
      "Using chunksize: 5000 and maxchunks None\n"
     ]
    }
   ],
   "source": [
    "print(\"Creating runner\")\n",
    "print(\"Using chunksize: {} and maxchunks {}\".format(CHUNKSIZE,MAX_CHUNKS))\n",
    "runner = processor.Runner(\n",
    "    executor=dask_executor,\n",
    "    schema=NanoAODSchema,\n",
    "    chunksize=CHUNKSIZE,\n",
    "    maxchunks=MAX_CHUNKS,\n",
    "    skipbadfiles=True,\n",
    "    xrootdtimeout=300,\n",
    ")"
   ]
  },
  {
   "cell_type": "code",
   "execution_count": 18,
   "id": "df46c027-5c59-4ac6-ac2c-dfa31bc3304f",
   "metadata": {},
   "outputs": [
    {
     "name": "stdout",
     "output_type": "stream",
     "text": [
      "Calling runner\n",
      "[                                        ] | 0% Completed |  1min 50.2s\u001b[2K\r"
     ]
    },
    {
     "ename": "OSError",
     "evalue": "XRootD error: [FATAL] TLS error\nin file root://cmsxrootd.hep.wisc.edu//hdfs/store/user/gparida/HHbbtt/Full_Production_CMSSW_13_0_13_Nov24_23/2018/MC/WJetsToLNu_HT-200To400_TuneCP5_13TeV-madgraphMLM-pythia8/WJetsToLNu_HT-200To400_TuneCP5_13TeV-madgraphMLM-pythia8/231225_151948/0000/NANO_NANO_2.root",
     "output_type": "error",
     "traceback": [
      "\u001b[0;31m---------------------------------------------------------------------------\u001b[0m",
      "\u001b[0;31mOSError\u001b[0m                                   Traceback (most recent call last)",
      "Cell \u001b[0;32mIn[18], line 2\u001b[0m\n\u001b[1;32m      1\u001b[0m \u001b[38;5;28mprint\u001b[39m(\u001b[38;5;124m\"\u001b[39m\u001b[38;5;124mCalling runner\u001b[39m\u001b[38;5;124m\"\u001b[39m)\n\u001b[0;32m----> 2\u001b[0m mt_results_dask \u001b[38;5;241m=\u001b[39m \u001b[43mrunner\u001b[49m\u001b[43m(\u001b[49m\n\u001b[1;32m      3\u001b[0m \u001b[43m    \u001b[49m\u001b[43mmt_fileset\u001b[49m\u001b[43m,\u001b[49m\n\u001b[1;32m      4\u001b[0m \u001b[43m    \u001b[49m\u001b[43mtreename\u001b[49m\u001b[38;5;241;43m=\u001b[39;49m\u001b[38;5;124;43m\"\u001b[39;49m\u001b[38;5;124;43mEvents\u001b[39;49m\u001b[38;5;124;43m\"\u001b[39;49m\u001b[43m,\u001b[49m\n\u001b[1;32m      5\u001b[0m \u001b[43m    \u001b[49m\u001b[43mprocessor_instance\u001b[49m\u001b[38;5;241;43m=\u001b[39;49m\u001b[43mMyProcessor\u001b[49m\u001b[43m(\u001b[49m\u001b[43m)\u001b[49m\u001b[43m,\u001b[49m\n\u001b[1;32m      6\u001b[0m \u001b[43m)\u001b[49m\n",
      "File \u001b[0;32m/opt/conda/lib/python3.10/site-packages/coffea/processor/executor.py:1700\u001b[0m, in \u001b[0;36mRunner.__call__\u001b[0;34m(self, fileset, treename, processor_instance)\u001b[0m\n\u001b[1;32m   1679\u001b[0m \u001b[38;5;28;01mdef\u001b[39;00m \u001b[38;5;21m__call__\u001b[39m(\n\u001b[1;32m   1680\u001b[0m     \u001b[38;5;28mself\u001b[39m,\n\u001b[1;32m   1681\u001b[0m     fileset: Dict,\n\u001b[1;32m   1682\u001b[0m     treename: \u001b[38;5;28mstr\u001b[39m,\n\u001b[1;32m   1683\u001b[0m     processor_instance: ProcessorABC,\n\u001b[1;32m   1684\u001b[0m ) \u001b[38;5;241m-\u001b[39m\u001b[38;5;241m>\u001b[39m Accumulatable:\n\u001b[1;32m   1685\u001b[0m \u001b[38;5;250m    \u001b[39m\u001b[38;5;124;03m\"\"\"Run the processor_instance on a given fileset\u001b[39;00m\n\u001b[1;32m   1686\u001b[0m \n\u001b[1;32m   1687\u001b[0m \u001b[38;5;124;03m    Parameters\u001b[39;00m\n\u001b[0;32m   (...)\u001b[0m\n\u001b[1;32m   1697\u001b[0m \u001b[38;5;124;03m            An instance of a class deriving from ProcessorABC\u001b[39;00m\n\u001b[1;32m   1698\u001b[0m \u001b[38;5;124;03m    \"\"\"\u001b[39;00m\n\u001b[0;32m-> 1700\u001b[0m     wrapped_out \u001b[38;5;241m=\u001b[39m \u001b[38;5;28;43mself\u001b[39;49m\u001b[38;5;241;43m.\u001b[39;49m\u001b[43mrun\u001b[49m\u001b[43m(\u001b[49m\u001b[43mfileset\u001b[49m\u001b[43m,\u001b[49m\u001b[43m \u001b[49m\u001b[43mprocessor_instance\u001b[49m\u001b[43m,\u001b[49m\u001b[43m \u001b[49m\u001b[43mtreename\u001b[49m\u001b[43m)\u001b[49m\n\u001b[1;32m   1701\u001b[0m     \u001b[38;5;28;01mif\u001b[39;00m \u001b[38;5;28mself\u001b[39m\u001b[38;5;241m.\u001b[39muse_dataframes:\n\u001b[1;32m   1702\u001b[0m         \u001b[38;5;28;01mreturn\u001b[39;00m wrapped_out  \u001b[38;5;66;03m# not wrapped anymore\u001b[39;00m\n",
      "File \u001b[0;32m/opt/conda/lib/python3.10/site-packages/coffea/processor/executor.py:1782\u001b[0m, in \u001b[0;36mRunner.run\u001b[0;34m(self, fileset, processor_instance, treename)\u001b[0m\n\u001b[1;32m   1780\u001b[0m     chunks \u001b[38;5;241m=\u001b[39m fileset\n\u001b[1;32m   1781\u001b[0m \u001b[38;5;28;01melse\u001b[39;00m:\n\u001b[0;32m-> 1782\u001b[0m     chunks \u001b[38;5;241m=\u001b[39m \u001b[38;5;28;43mself\u001b[39;49m\u001b[38;5;241;43m.\u001b[39;49m\u001b[43mpreprocess\u001b[49m\u001b[43m(\u001b[49m\u001b[43mfileset\u001b[49m\u001b[43m,\u001b[49m\u001b[43m \u001b[49m\u001b[43mtreename\u001b[49m\u001b[43m)\u001b[49m\n\u001b[1;32m   1784\u001b[0m \u001b[38;5;28;01mif\u001b[39;00m \u001b[38;5;28mself\u001b[39m\u001b[38;5;241m.\u001b[39mprocessor_compression \u001b[38;5;129;01mis\u001b[39;00m \u001b[38;5;28;01mNone\u001b[39;00m:\n\u001b[1;32m   1785\u001b[0m     pi_to_send \u001b[38;5;241m=\u001b[39m processor_instance\n",
      "File \u001b[0;32m/opt/conda/lib/python3.10/site-packages/coffea/processor/executor.py:1734\u001b[0m, in \u001b[0;36mRunner.preprocess\u001b[0;34m(self, fileset, treename)\u001b[0m\n\u001b[1;32m   1731\u001b[0m \u001b[38;5;28;01mfor\u001b[39;00m filemeta \u001b[38;5;129;01min\u001b[39;00m fileset:\n\u001b[1;32m   1732\u001b[0m     filemeta\u001b[38;5;241m.\u001b[39mmaybe_populate(\u001b[38;5;28mself\u001b[39m\u001b[38;5;241m.\u001b[39mmetadata_cache)\n\u001b[0;32m-> 1734\u001b[0m \u001b[38;5;28;43mself\u001b[39;49m\u001b[38;5;241;43m.\u001b[39;49m\u001b[43m_preprocess_fileset\u001b[49m\u001b[43m(\u001b[49m\u001b[43mfileset\u001b[49m\u001b[43m)\u001b[49m\n\u001b[1;32m   1735\u001b[0m fileset \u001b[38;5;241m=\u001b[39m \u001b[38;5;28mself\u001b[39m\u001b[38;5;241m.\u001b[39m_filter_badfiles(fileset)\n\u001b[1;32m   1737\u001b[0m \u001b[38;5;66;03m# reverse fileset list to match the order of files as presented in version\u001b[39;00m\n\u001b[1;32m   1738\u001b[0m \u001b[38;5;66;03m# v0.7.4. This fixes tests using maxchunks.\u001b[39;00m\n",
      "File \u001b[0;32m/opt/conda/lib/python3.10/site-packages/coffea/processor/executor.py:1461\u001b[0m, in \u001b[0;36mRunner._preprocess_fileset\u001b[0;34m(self, fileset)\u001b[0m\n\u001b[1;32m   1454\u001b[0m pre_executor \u001b[38;5;241m=\u001b[39m \u001b[38;5;28mself\u001b[39m\u001b[38;5;241m.\u001b[39mpre_executor\u001b[38;5;241m.\u001b[39mcopy(\u001b[38;5;241m*\u001b[39m\u001b[38;5;241m*\u001b[39mpre_arg_override)\n\u001b[1;32m   1455\u001b[0m closure \u001b[38;5;241m=\u001b[39m partial(\n\u001b[1;32m   1456\u001b[0m     \u001b[38;5;28mself\u001b[39m\u001b[38;5;241m.\u001b[39mautomatic_retries,\n\u001b[1;32m   1457\u001b[0m     \u001b[38;5;28mself\u001b[39m\u001b[38;5;241m.\u001b[39mretries,\n\u001b[1;32m   1458\u001b[0m     \u001b[38;5;28mself\u001b[39m\u001b[38;5;241m.\u001b[39mskipbadfiles,\n\u001b[1;32m   1459\u001b[0m     partial(\u001b[38;5;28mself\u001b[39m\u001b[38;5;241m.\u001b[39mmetadata_fetcher, \u001b[38;5;28mself\u001b[39m\u001b[38;5;241m.\u001b[39mxrootdtimeout, \u001b[38;5;28mself\u001b[39m\u001b[38;5;241m.\u001b[39malign_clusters),\n\u001b[1;32m   1460\u001b[0m )\n\u001b[0;32m-> 1461\u001b[0m out, _ \u001b[38;5;241m=\u001b[39m \u001b[43mpre_executor\u001b[49m\u001b[43m(\u001b[49m\u001b[43mto_get\u001b[49m\u001b[43m,\u001b[49m\u001b[43m \u001b[49m\u001b[43mclosure\u001b[49m\u001b[43m,\u001b[49m\u001b[43m \u001b[49m\u001b[43mout\u001b[49m\u001b[43m)\u001b[49m\n\u001b[1;32m   1462\u001b[0m \u001b[38;5;28;01mwhile\u001b[39;00m out:\n\u001b[1;32m   1463\u001b[0m     item \u001b[38;5;241m=\u001b[39m out\u001b[38;5;241m.\u001b[39mpop()\n",
      "File \u001b[0;32m/opt/conda/lib/python3.10/site-packages/coffea/processor/executor.py:972\u001b[0m, in \u001b[0;36mDaskExecutor.__call__\u001b[0;34m(self, items, function, accumulator)\u001b[0m\n\u001b[1;32m    967\u001b[0m         \u001b[38;5;66;03m# FIXME: fancy widget doesn't appear, have to live with boring pbar\u001b[39;00m\n\u001b[1;32m    968\u001b[0m         progress(work, multi\u001b[38;5;241m=\u001b[39m\u001b[38;5;28;01mTrue\u001b[39;00m, notebook\u001b[38;5;241m=\u001b[39m\u001b[38;5;28;01mFalse\u001b[39;00m)\n\u001b[1;32m    969\u001b[0m     \u001b[38;5;28;01mreturn\u001b[39;00m (\n\u001b[1;32m    970\u001b[0m         accumulate(\n\u001b[1;32m    971\u001b[0m             [\n\u001b[0;32m--> 972\u001b[0m                 \u001b[43mwork\u001b[49m\u001b[38;5;241;43m.\u001b[39;49m\u001b[43mresult\u001b[49m\u001b[43m(\u001b[49m\u001b[43m)\u001b[49m\n\u001b[1;32m    973\u001b[0m                 \u001b[38;5;28;01mif\u001b[39;00m \u001b[38;5;28mself\u001b[39m\u001b[38;5;241m.\u001b[39mcompression \u001b[38;5;129;01mis\u001b[39;00m \u001b[38;5;28;01mNone\u001b[39;00m\n\u001b[1;32m    974\u001b[0m                 \u001b[38;5;28;01melse\u001b[39;00m _decompress(work\u001b[38;5;241m.\u001b[39mresult())\n\u001b[1;32m    975\u001b[0m             ],\n\u001b[1;32m    976\u001b[0m             accumulator,\n\u001b[1;32m    977\u001b[0m         ),\n\u001b[1;32m    978\u001b[0m         \u001b[38;5;241m0\u001b[39m,\n\u001b[1;32m    979\u001b[0m     )\n\u001b[1;32m    980\u001b[0m \u001b[38;5;28;01mexcept\u001b[39;00m KilledWorker \u001b[38;5;28;01mas\u001b[39;00m ex:\n\u001b[1;32m    981\u001b[0m     baditem \u001b[38;5;241m=\u001b[39m key_to_item[ex\u001b[38;5;241m.\u001b[39mtask]\n",
      "File \u001b[0;32m/opt/conda/lib/python3.10/site-packages/distributed/client.py:287\u001b[0m, in \u001b[0;36mFuture.result\u001b[0;34m(self, timeout)\u001b[0m\n\u001b[1;32m    285\u001b[0m \u001b[38;5;28;01mif\u001b[39;00m \u001b[38;5;28mself\u001b[39m\u001b[38;5;241m.\u001b[39mstatus \u001b[38;5;241m==\u001b[39m \u001b[38;5;124m\"\u001b[39m\u001b[38;5;124merror\u001b[39m\u001b[38;5;124m\"\u001b[39m:\n\u001b[1;32m    286\u001b[0m     typ, exc, tb \u001b[38;5;241m=\u001b[39m result\n\u001b[0;32m--> 287\u001b[0m     \u001b[38;5;28;01mraise\u001b[39;00m exc\u001b[38;5;241m.\u001b[39mwith_traceback(tb)\n\u001b[1;32m    288\u001b[0m \u001b[38;5;28;01melif\u001b[39;00m \u001b[38;5;28mself\u001b[39m\u001b[38;5;241m.\u001b[39mstatus \u001b[38;5;241m==\u001b[39m \u001b[38;5;124m\"\u001b[39m\u001b[38;5;124mcancelled\u001b[39m\u001b[38;5;124m\"\u001b[39m:\n\u001b[1;32m    289\u001b[0m     \u001b[38;5;28;01mraise\u001b[39;00m result\n",
      "File \u001b[0;32m/opt/conda/lib/python3.10/site-packages/coffea/processor/executor.py:1367\u001b[0m, in \u001b[0;36mautomatic_retries\u001b[0;34m()\u001b[0m\n\u001b[1;32m   1361\u001b[0m         \u001b[38;5;28;01mbreak\u001b[39;00m\n\u001b[1;32m   1362\u001b[0m     \u001b[38;5;28;01mif\u001b[39;00m (\n\u001b[1;32m   1363\u001b[0m         \u001b[38;5;129;01mnot\u001b[39;00m skipbadfiles\n\u001b[1;32m   1364\u001b[0m         \u001b[38;5;129;01mor\u001b[39;00m \u001b[38;5;28many\u001b[39m(\u001b[38;5;124m\"\u001b[39m\u001b[38;5;124mAuth failed\u001b[39m\u001b[38;5;124m\"\u001b[39m \u001b[38;5;129;01min\u001b[39;00m \u001b[38;5;28mstr\u001b[39m(c) \u001b[38;5;28;01mfor\u001b[39;00m c \u001b[38;5;129;01min\u001b[39;00m chain)\n\u001b[1;32m   1365\u001b[0m         \u001b[38;5;129;01mor\u001b[39;00m retries \u001b[38;5;241m==\u001b[39m retry_count\n\u001b[1;32m   1366\u001b[0m     ):\n\u001b[0;32m-> 1367\u001b[0m         \u001b[38;5;28;01mraise\u001b[39;00m e\n\u001b[1;32m   1368\u001b[0m     warnings\u001b[38;5;241m.\u001b[39mwarn(\u001b[38;5;124m\"\u001b[39m\u001b[38;5;124mAttempt \u001b[39m\u001b[38;5;132;01m%d\u001b[39;00m\u001b[38;5;124m of \u001b[39m\u001b[38;5;132;01m%d\u001b[39;00m\u001b[38;5;124m.\u001b[39m\u001b[38;5;124m\"\u001b[39m \u001b[38;5;241m%\u001b[39m (retry_count \u001b[38;5;241m+\u001b[39m \u001b[38;5;241m1\u001b[39m, retries \u001b[38;5;241m+\u001b[39m \u001b[38;5;241m1\u001b[39m))\n\u001b[1;32m   1369\u001b[0m retry_count \u001b[38;5;241m+\u001b[39m\u001b[38;5;241m=\u001b[39m \u001b[38;5;241m1\u001b[39m\n",
      "File \u001b[0;32m/opt/conda/lib/python3.10/site-packages/coffea/processor/executor.py:1336\u001b[0m, in \u001b[0;36mautomatic_retries\u001b[0;34m()\u001b[0m\n\u001b[1;32m   1334\u001b[0m \u001b[38;5;28;01mwhile\u001b[39;00m retry_count \u001b[38;5;241m<\u001b[39m\u001b[38;5;241m=\u001b[39m retries:\n\u001b[1;32m   1335\u001b[0m     \u001b[38;5;28;01mtry\u001b[39;00m:\n\u001b[0;32m-> 1336\u001b[0m         \u001b[38;5;28;01mreturn\u001b[39;00m func(\u001b[38;5;241m*\u001b[39margs, \u001b[38;5;241m*\u001b[39m\u001b[38;5;241m*\u001b[39mkwargs)\n\u001b[1;32m   1337\u001b[0m     \u001b[38;5;66;03m# catch xrootd errors and optionally skip\u001b[39;00m\n\u001b[1;32m   1338\u001b[0m     \u001b[38;5;66;03m# or retry to read the file\u001b[39;00m\n\u001b[1;32m   1339\u001b[0m     \u001b[38;5;28;01mexcept\u001b[39;00m \u001b[38;5;167;01mException\u001b[39;00m \u001b[38;5;28;01mas\u001b[39;00m e:\n",
      "File \u001b[0;32m/opt/conda/lib/python3.10/site-packages/coffea/processor/executor.py:1417\u001b[0m, in \u001b[0;36mmetadata_fetcher\u001b[0;34m()\u001b[0m\n\u001b[1;32m   1413\u001b[0m \u001b[38;5;129m@staticmethod\u001b[39m\n\u001b[1;32m   1414\u001b[0m \u001b[38;5;28;01mdef\u001b[39;00m \u001b[38;5;21mmetadata_fetcher\u001b[39m(\n\u001b[1;32m   1415\u001b[0m     xrootdtimeout: \u001b[38;5;28mint\u001b[39m, align_clusters: \u001b[38;5;28mbool\u001b[39m, item: FileMeta\n\u001b[1;32m   1416\u001b[0m ) \u001b[38;5;241m-\u001b[39m\u001b[38;5;241m>\u001b[39m Accumulatable:\n\u001b[0;32m-> 1417\u001b[0m     \u001b[38;5;28;01mwith\u001b[39;00m uproot\u001b[38;5;241m.\u001b[39mopen({item\u001b[38;5;241m.\u001b[39mfilename: \u001b[38;5;28;01mNone\u001b[39;00m}, timeout\u001b[38;5;241m=\u001b[39mxrootdtimeout) \u001b[38;5;28;01mas\u001b[39;00m file:\n\u001b[1;32m   1418\u001b[0m         \u001b[38;5;28;01mtry\u001b[39;00m:\n\u001b[1;32m   1419\u001b[0m             tree \u001b[38;5;241m=\u001b[39m file[item\u001b[38;5;241m.\u001b[39mtreename]\n",
      "File \u001b[0;32m/opt/conda/lib/python3.10/site-packages/uproot/reading.py:141\u001b[0m, in \u001b[0;36mopen\u001b[0;34m()\u001b[0m\n\u001b[1;32m    132\u001b[0m \u001b[38;5;28;01mif\u001b[39;00m \u001b[38;5;129;01mnot\u001b[39;00m uproot\u001b[38;5;241m.\u001b[39m_util\u001b[38;5;241m.\u001b[39misstr(file_path) \u001b[38;5;129;01mand\u001b[39;00m \u001b[38;5;129;01mnot\u001b[39;00m (\n\u001b[1;32m    133\u001b[0m     \u001b[38;5;28mhasattr\u001b[39m(file_path, \u001b[38;5;124m\"\u001b[39m\u001b[38;5;124mread\u001b[39m\u001b[38;5;124m\"\u001b[39m) \u001b[38;5;129;01mand\u001b[39;00m \u001b[38;5;28mhasattr\u001b[39m(file_path, \u001b[38;5;124m\"\u001b[39m\u001b[38;5;124mseek\u001b[39m\u001b[38;5;124m\"\u001b[39m)\n\u001b[1;32m    134\u001b[0m ):\n\u001b[1;32m    135\u001b[0m     \u001b[38;5;28;01mraise\u001b[39;00m \u001b[38;5;167;01mValueError\u001b[39;00m(\n\u001b[1;32m    136\u001b[0m         \u001b[38;5;124m\"\u001b[39m\u001b[38;5;124m'\u001b[39m\u001b[38;5;124mpath\u001b[39m\u001b[38;5;124m'\u001b[39m\u001b[38;5;124m must be a string, pathlib.Path, an object with \u001b[39m\u001b[38;5;124m'\u001b[39m\u001b[38;5;124mread\u001b[39m\u001b[38;5;124m'\u001b[39m\u001b[38;5;124m and \u001b[39m\u001b[38;5;124m\"\u001b[39m\n\u001b[1;32m    137\u001b[0m         \u001b[38;5;124m\"\u001b[39m\u001b[38;5;124m'\u001b[39m\u001b[38;5;124mseek\u001b[39m\u001b[38;5;124m'\u001b[39m\u001b[38;5;124m methods, or a length-1 dict of \u001b[39m\u001b[38;5;124m{{\u001b[39m\u001b[38;5;124mfile_path: object_path}}, \u001b[39m\u001b[38;5;124m\"\u001b[39m\n\u001b[1;32m    138\u001b[0m         \u001b[38;5;124m\"\u001b[39m\u001b[38;5;124mnot \u001b[39m\u001b[38;5;132;01m{0}\u001b[39;00m\u001b[38;5;124m\"\u001b[39m\u001b[38;5;241m.\u001b[39mformat(\u001b[38;5;28mrepr\u001b[39m(path))\n\u001b[1;32m    139\u001b[0m     )\n\u001b[0;32m--> 141\u001b[0m file \u001b[38;5;241m=\u001b[39m ReadOnlyFile(\n\u001b[1;32m    142\u001b[0m     file_path,\n\u001b[1;32m    143\u001b[0m     object_cache\u001b[38;5;241m=\u001b[39mobject_cache,\n\u001b[1;32m    144\u001b[0m     array_cache\u001b[38;5;241m=\u001b[39marray_cache,\n\u001b[1;32m    145\u001b[0m     custom_classes\u001b[38;5;241m=\u001b[39mcustom_classes,\n\u001b[1;32m    146\u001b[0m     decompression_executor\u001b[38;5;241m=\u001b[39mdecompression_executor,\n\u001b[1;32m    147\u001b[0m     interpretation_executor\u001b[38;5;241m=\u001b[39minterpretation_executor,\n\u001b[1;32m    148\u001b[0m     \u001b[38;5;241m*\u001b[39m\u001b[38;5;241m*\u001b[39moptions,  \u001b[38;5;66;03m# NOTE: a comma after **options breaks Python 2\u001b[39;00m\n\u001b[1;32m    149\u001b[0m )\n\u001b[1;32m    151\u001b[0m \u001b[38;5;28;01mif\u001b[39;00m object_path \u001b[38;5;129;01mis\u001b[39;00m \u001b[38;5;28;01mNone\u001b[39;00m:\n\u001b[1;32m    152\u001b[0m     \u001b[38;5;28;01mreturn\u001b[39;00m file\u001b[38;5;241m.\u001b[39mroot_directory\n",
      "File \u001b[0;32m/opt/conda/lib/python3.10/site-packages/uproot/reading.py:580\u001b[0m, in \u001b[0;36m__init__\u001b[0;34m()\u001b[0m\n\u001b[1;32m    575\u001b[0m \u001b[38;5;28mself\u001b[39m\u001b[38;5;241m.\u001b[39mhook_before_create_source()\n\u001b[1;32m    577\u001b[0m Source, file_path \u001b[38;5;241m=\u001b[39m uproot\u001b[38;5;241m.\u001b[39m_util\u001b[38;5;241m.\u001b[39mfile_path_to_source_class(\n\u001b[1;32m    578\u001b[0m     file_path, \u001b[38;5;28mself\u001b[39m\u001b[38;5;241m.\u001b[39m_options\n\u001b[1;32m    579\u001b[0m )\n\u001b[0;32m--> 580\u001b[0m \u001b[38;5;28mself\u001b[39m\u001b[38;5;241m.\u001b[39m_source \u001b[38;5;241m=\u001b[39m Source(\n\u001b[1;32m    581\u001b[0m     file_path, \u001b[38;5;241m*\u001b[39m\u001b[38;5;241m*\u001b[39m\u001b[38;5;28mself\u001b[39m\u001b[38;5;241m.\u001b[39m_options  \u001b[38;5;66;03m# NOTE: a comma after **options breaks Python 2\u001b[39;00m\n\u001b[1;32m    582\u001b[0m )\n\u001b[1;32m    584\u001b[0m \u001b[38;5;28mself\u001b[39m\u001b[38;5;241m.\u001b[39mhook_before_get_chunks()\n\u001b[1;32m    586\u001b[0m \u001b[38;5;28;01mif\u001b[39;00m \u001b[38;5;28mself\u001b[39m\u001b[38;5;241m.\u001b[39m_options[\u001b[38;5;124m\"\u001b[39m\u001b[38;5;124mbegin_chunk_size\u001b[39m\u001b[38;5;124m\"\u001b[39m] \u001b[38;5;241m<\u001b[39m _file_header_fields_big\u001b[38;5;241m.\u001b[39msize:\n",
      "File \u001b[0;32m/opt/conda/lib/python3.10/site-packages/uproot/source/xrootd.py:272\u001b[0m, in \u001b[0;36m__init__\u001b[0;34m()\u001b[0m\n\u001b[1;32m    270\u001b[0m \u001b[38;5;28mself\u001b[39m\u001b[38;5;241m.\u001b[39m_file_path \u001b[38;5;241m=\u001b[39m file_path\n\u001b[1;32m    271\u001b[0m \u001b[38;5;28mself\u001b[39m\u001b[38;5;241m.\u001b[39m_num_bytes \u001b[38;5;241m=\u001b[39m \u001b[38;5;28;01mNone\u001b[39;00m\n\u001b[0;32m--> 272\u001b[0m \u001b[38;5;28mself\u001b[39m\u001b[38;5;241m.\u001b[39m_open()\n",
      "File \u001b[0;32m/opt/conda/lib/python3.10/site-packages/uproot/source/xrootd.py:275\u001b[0m, in \u001b[0;36m_open\u001b[0;34m()\u001b[0m\n\u001b[1;32m    274\u001b[0m \u001b[38;5;28;01mdef\u001b[39;00m \u001b[38;5;21m_open\u001b[39m(\u001b[38;5;28mself\u001b[39m):\n\u001b[0;32m--> 275\u001b[0m     \u001b[38;5;28mself\u001b[39m\u001b[38;5;241m.\u001b[39m_resource \u001b[38;5;241m=\u001b[39m XRootDResource(\u001b[38;5;28mself\u001b[39m\u001b[38;5;241m.\u001b[39m_file_path, \u001b[38;5;28mself\u001b[39m\u001b[38;5;241m.\u001b[39m_timeout)\n\u001b[1;32m    277\u001b[0m     \u001b[38;5;66;03m# this ThreadPool does not need a resource, it's only used to submit\u001b[39;00m\n\u001b[1;32m    278\u001b[0m     \u001b[38;5;66;03m# futures that wait for chunks that have been split to merge them.\u001b[39;00m\n\u001b[1;32m    279\u001b[0m     \u001b[38;5;28mself\u001b[39m\u001b[38;5;241m.\u001b[39m_executor \u001b[38;5;241m=\u001b[39m uproot\u001b[38;5;241m.\u001b[39msource\u001b[38;5;241m.\u001b[39mfutures\u001b[38;5;241m.\u001b[39mResourceThreadPoolExecutor(\n\u001b[1;32m    280\u001b[0m         [\u001b[38;5;28;01mNone\u001b[39;00m \u001b[38;5;28;01mfor\u001b[39;00m i \u001b[38;5;129;01min\u001b[39;00m \u001b[38;5;28mrange\u001b[39m(\u001b[38;5;28mself\u001b[39m\u001b[38;5;241m.\u001b[39m_num_workers)]\n\u001b[1;32m    281\u001b[0m     )\n",
      "File \u001b[0;32m/opt/conda/lib/python3.10/site-packages/uproot/source/xrootd.py:83\u001b[0m, in \u001b[0;36m__init__\u001b[0;34m()\u001b[0m\n\u001b[1;32m     81\u001b[0m \u001b[38;5;28mself\u001b[39m\u001b[38;5;241m.\u001b[39m_file_path \u001b[38;5;241m=\u001b[39m file_path\n\u001b[1;32m     82\u001b[0m \u001b[38;5;28mself\u001b[39m\u001b[38;5;241m.\u001b[39m_timeout \u001b[38;5;241m=\u001b[39m timeout\n\u001b[0;32m---> 83\u001b[0m \u001b[38;5;28mself\u001b[39m\u001b[38;5;241m.\u001b[39m_open()\n",
      "File \u001b[0;32m/opt/conda/lib/python3.10/site-packages/uproot/source/xrootd.py:92\u001b[0m, in \u001b[0;36m_open\u001b[0;34m()\u001b[0m\n\u001b[1;32m     90\u001b[0m status, dummy \u001b[38;5;241m=\u001b[39m \u001b[38;5;28mself\u001b[39m\u001b[38;5;241m.\u001b[39m_file\u001b[38;5;241m.\u001b[39mopen(\u001b[38;5;28mself\u001b[39m\u001b[38;5;241m.\u001b[39m_file_path, timeout\u001b[38;5;241m=\u001b[39m\u001b[38;5;28mself\u001b[39m\u001b[38;5;241m.\u001b[39m_xrd_timeout())\n\u001b[1;32m     91\u001b[0m \u001b[38;5;28;01mif\u001b[39;00m status\u001b[38;5;241m.\u001b[39merror:\n\u001b[0;32m---> 92\u001b[0m     \u001b[38;5;28mself\u001b[39m\u001b[38;5;241m.\u001b[39m_xrd_error(status)\n",
      "File \u001b[0;32m/opt/conda/lib/python3.10/site-packages/uproot/source/xrootd.py:118\u001b[0m, in \u001b[0;36m_xrd_error\u001b[0;34m()\u001b[0m\n\u001b[1;32m    115\u001b[0m             \u001b[38;5;28;01mraise\u001b[39;00m uproot\u001b[38;5;241m.\u001b[39m_util\u001b[38;5;241m.\u001b[39m_file_not_found(\u001b[38;5;28mself\u001b[39m\u001b[38;5;241m.\u001b[39m_file_path, status\u001b[38;5;241m.\u001b[39mmessage)\n\u001b[1;32m    117\u001b[0m         \u001b[38;5;28;01melse\u001b[39;00m:\n\u001b[0;32m--> 118\u001b[0m             \u001b[38;5;28;01mraise\u001b[39;00m \u001b[38;5;167;01mOSError\u001b[39;00m(\n\u001b[1;32m    119\u001b[0m \u001b[38;5;250m                \u001b[39m\u001b[38;5;124;03m\"\"\"XRootD error: {}\u001b[39;00m\n\u001b[1;32m    120\u001b[0m \u001b[38;5;124;03min file {}\"\"\"\u001b[39;00m\u001b[38;5;241m.\u001b[39mformat(\n\u001b[1;32m    121\u001b[0m                     status\u001b[38;5;241m.\u001b[39mmessage, \u001b[38;5;28mself\u001b[39m\u001b[38;5;241m.\u001b[39m_file_path\n\u001b[1;32m    122\u001b[0m                 )\n\u001b[1;32m    123\u001b[0m             )\n",
      "\u001b[0;31mOSError\u001b[0m: XRootD error: [FATAL] TLS error\nin file root://cmsxrootd.hep.wisc.edu//hdfs/store/user/gparida/HHbbtt/Full_Production_CMSSW_13_0_13_Nov24_23/2018/MC/WJetsToLNu_HT-200To400_TuneCP5_13TeV-madgraphMLM-pythia8/WJetsToLNu_HT-200To400_TuneCP5_13TeV-madgraphMLM-pythia8/231225_151948/0000/NANO_NANO_2.root"
     ]
    }
   ],
   "source": [
    "print(\"Calling runner\")\n",
    "mt_results_dask = runner(\n",
    "    mt_fileset,\n",
    "    treename=\"Events\",\n",
    "    processor_instance=MyProcessor(),\n",
    ")"
   ]
  },
  {
   "cell_type": "code",
   "execution_count": 19,
   "id": "38a2d4fd",
   "metadata": {},
   "outputs": [
    {
     "ename": "NameError",
     "evalue": "name 'mt_results_dask' is not defined",
     "output_type": "error",
     "traceback": [
      "\u001b[0;31m---------------------------------------------------------------------------\u001b[0m",
      "\u001b[0;31mNameError\u001b[0m                                 Traceback (most recent call last)",
      "Cell \u001b[0;32mIn[19], line 1\u001b[0m\n\u001b[0;32m----> 1\u001b[0m \u001b[38;5;28;01mfor\u001b[39;00m dset,results, \u001b[38;5;129;01min\u001b[39;00m \u001b[43mmt_results_dask\u001b[49m\u001b[38;5;241m.\u001b[39mitems():\n\u001b[1;32m      2\u001b[0m     \u001b[38;5;28mprint\u001b[39m(\u001b[38;5;124mf\u001b[39m\u001b[38;5;124m\"\u001b[39m\u001b[38;5;124mDataset: \u001b[39m\u001b[38;5;132;01m{\u001b[39;00mdset\u001b[38;5;132;01m}\u001b[39;00m\u001b[38;5;124m\"\u001b[39m)\n\u001b[1;32m      3\u001b[0m     \u001b[38;5;28mprint\u001b[39m(\u001b[38;5;124mf\u001b[39m\u001b[38;5;124m\"\u001b[39m\u001b[38;5;124mEvent count: \u001b[39m\u001b[38;5;132;01m{\u001b[39;00mresults[\u001b[38;5;124m'\u001b[39m\u001b[38;5;124mEventCount\u001b[39m\u001b[38;5;124m'\u001b[39m]\u001b[38;5;241m.\u001b[39mvalue\u001b[38;5;132;01m}\u001b[39;00m\u001b[38;5;124m\"\u001b[39m)\n",
      "\u001b[0;31mNameError\u001b[0m: name 'mt_results_dask' is not defined"
     ]
    }
   ],
   "source": [
    "for dset,results, in mt_results_dask.items():\n",
    "    print(f\"Dataset: {dset}\")\n",
    "    print(f\"Event count: {results['EventCount'].value}\")"
   ]
  },
  {
   "cell_type": "code",
   "execution_count": null,
   "id": "26c097e7-d75f-4444-866b-6a06e1429b7c",
   "metadata": {},
   "outputs": [],
   "source": []
  },
  {
   "cell_type": "code",
   "execution_count": null,
   "id": "006c2f26",
   "metadata": {},
   "outputs": [],
   "source": [
    "outFile = uproot.recreate(\"boostedHTT_mt_2018.input.root\")\n",
    "\n",
    "\n"
   ]
  }
 ],
 "metadata": {
  "kernelspec": {
   "display_name": "Python 3 (ipykernel)",
   "language": "python",
   "name": "python3"
  },
  "language_info": {
   "codemirror_mode": {
    "name": "ipython",
    "version": 3
   },
   "file_extension": ".py",
   "mimetype": "text/x-python",
   "name": "python",
   "nbconvert_exporter": "python",
   "pygments_lexer": "ipython3",
   "version": "3.10.8"
  }
 },
 "nbformat": 4,
 "nbformat_minor": 5
}
